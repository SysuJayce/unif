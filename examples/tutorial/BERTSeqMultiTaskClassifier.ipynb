{
 "cells": [
  {
   "cell_type": "code",
   "execution_count": 1,
   "id": "traditional-girlfriend",
   "metadata": {},
   "outputs": [
    {
     "name": "stdout",
     "output_type": "stream",
     "text": [
      "v2.3.2\n"
     ]
    }
   ],
   "source": [
    "import uf\n",
    "\n",
    "print(uf.__version__)"
   ]
  },
  {
   "cell_type": "code",
   "execution_count": 2,
   "id": "affected-titanium",
   "metadata": {},
   "outputs": [
    {
     "name": "stdout",
     "output_type": "stream",
     "text": [
      "uf.BERTSeqMultiTaskClassifier(config_file=\"../../demo/bert_config.json\", vocab_file=\"../../demo/vocab.txt\", max_seq_length=128, seq_cls_label_size=None, cls_label_size=None, init_checkpoint=None, output_dir=None, gpu_ids=None, do_lower_case=True, truncate_method=\"LIFO\")\n"
     ]
    }
   ],
   "source": [
    "model = uf.BERTSeqMultiTaskClassifier('../../demo/bert_config.json', '../../demo/vocab.txt')\n",
    "print(model)"
   ]
  },
  {
   "cell_type": "code",
   "execution_count": 3,
   "id": "joint-scroll",
   "metadata": {},
   "outputs": [],
   "source": [
    "X_tokenized = [['天', '亮', '以', '前', '说', '再', '见'], ['笑', '着', '泪', '流', '满', '面']]\n",
    "y = [{\"seq_cls\": [0, 0, 0, 0, 0, 1, 1], \"cls\": 0}, {\"seq_cls\": [0, 0, 1, 1, 0, 0], \"cls\": 1}]"
   ]
  },
  {
   "cell_type": "markdown",
   "id": "requested-insert",
   "metadata": {},
   "source": [
    "# 训练"
   ]
  },
  {
   "cell_type": "code",
   "execution_count": 4,
   "id": "usual-disposition",
   "metadata": {},
   "outputs": [
    {
     "name": "stdout",
     "output_type": "stream",
     "text": [
      "WARNING:tensorflow:From /Users/geyingli/Library/Python/3.8/lib/python/site-packages/tensorflow/python/util/dispatch.py:1096: calling dropout (from tensorflow.python.ops.nn_ops) with keep_prob is deprecated and will be removed in a future version.\n",
      "Instructions for updating:\n",
      "Please use `rate` instead of `keep_prob`. Rate should be set to `rate = 1 - keep_prob`.\n"
     ]
    },
    {
     "name": "stderr",
     "output_type": "stream",
     "text": [
      "/Users/geyingli/Library/Python/3.8/lib/python/site-packages/uf-2.3.2-py3.8.egg/uf/modeling/bert.py:282: UserWarning: `tf.layers.dense` is deprecated and will be removed in a future version. Please use `tf.keras.layers.Dense` instead.\n",
      "  query_layer = tf.layers.dense(\n",
      "/Users/geyingli/Library/Python/3.8/lib/python/site-packages/keras/legacy_tf_layers/core.py:255: UserWarning: `layer.apply` is deprecated and will be removed in a future version. Please use `layer.__call__` method instead.\n",
      "  return layer.apply(inputs)\n",
      "/Users/geyingli/Library/Python/3.8/lib/python/site-packages/uf-2.3.2-py3.8.egg/uf/modeling/bert.py:291: UserWarning: `tf.layers.dense` is deprecated and will be removed in a future version. Please use `tf.keras.layers.Dense` instead.\n",
      "  key_layer = tf.layers.dense(\n",
      "/Users/geyingli/Library/Python/3.8/lib/python/site-packages/uf-2.3.2-py3.8.egg/uf/modeling/bert.py:300: UserWarning: `tf.layers.dense` is deprecated and will be removed in a future version. Please use `tf.keras.layers.Dense` instead.\n",
      "  value_layer = tf.layers.dense(\n",
      "/Users/geyingli/Library/Python/3.8/lib/python/site-packages/uf-2.3.2-py3.8.egg/uf/modeling/bert.py:430: UserWarning: `tf.layers.dense` is deprecated and will be removed in a future version. Please use `tf.keras.layers.Dense` instead.\n",
      "  attention_output = tf.layers.dense(\n",
      "/Users/geyingli/Library/Python/3.8/lib/python/site-packages/uf-2.3.2-py3.8.egg/uf/modeling/bert.py:445: UserWarning: `tf.layers.dense` is deprecated and will be removed in a future version. Please use `tf.keras.layers.Dense` instead.\n",
      "  intermediate_output = tf.layers.dense(\n",
      "/Users/geyingli/Library/Python/3.8/lib/python/site-packages/uf-2.3.2-py3.8.egg/uf/modeling/bert.py:455: UserWarning: `tf.layers.dense` is deprecated and will be removed in a future version. Please use `tf.keras.layers.Dense` instead.\n",
      "  layer_output = tf.layers.dense(\n",
      "/Users/geyingli/Library/Python/3.8/lib/python/site-packages/uf-2.3.2-py3.8.egg/uf/modeling/bert.py:107: UserWarning: `tf.layers.dense` is deprecated and will be removed in a future version. Please use `tf.keras.layers.Dense` instead.\n",
      "  self.pooled_output = tf.layers.dense(\n"
     ]
    },
    {
     "name": "stdout",
     "output_type": "stream",
     "text": [
      "INFO:tensorflow:Build graph with 305,630,988 parameters (among which 102,270,724 are trainable)\n",
      "INFO:tensorflow:Running local_init_op\n",
      "INFO:tensorflow:Done running local_init_op\n",
      "INFO:tensorflow:Running training on 2 samples (step 0 -> 20)\n",
      "INFO:tensorflow:step 1, seq_cls_accuracy 0.4615, cls_accuracy 0.5000, seq_cls_loss 0.804006, cls_loss 0.676339, 0.03 steps/sec, 0.07 examples/sec\n",
      "INFO:tensorflow:step 2, seq_cls_accuracy 0.4615, cls_accuracy 0.0000, seq_cls_loss 0.774480, cls_loss 0.766084, 0.19 steps/sec, 0.38 examples/sec\n",
      "INFO:tensorflow:step 3, seq_cls_accuracy 0.6923, cls_accuracy 0.5000, seq_cls_loss 0.818785, cls_loss 0.495228, 0.30 steps/sec, 0.59 examples/sec\n",
      "INFO:tensorflow:step 4, seq_cls_accuracy 0.6923, cls_accuracy 1.0000, seq_cls_loss 0.821057, cls_loss 0.043814, 0.28 steps/sec, 0.57 examples/sec\n",
      "INFO:tensorflow:step 5, seq_cls_accuracy 1.0000, cls_accuracy 1.0000, seq_cls_loss 0.218023, cls_loss 0.011533, 0.28 steps/sec, 0.56 examples/sec\n",
      "INFO:tensorflow:step 6, seq_cls_accuracy 0.7692, cls_accuracy 1.0000, seq_cls_loss 0.361336, cls_loss 0.002258, 0.32 steps/sec, 0.64 examples/sec\n",
      "INFO:tensorflow:step 7, seq_cls_accuracy 1.0000, cls_accuracy 1.0000, seq_cls_loss 0.104736, cls_loss 0.001097, 0.28 steps/sec, 0.56 examples/sec\n",
      "INFO:tensorflow:step 8, seq_cls_accuracy 1.0000, cls_accuracy 1.0000, seq_cls_loss 0.049168, cls_loss 0.000523, 0.31 steps/sec, 0.63 examples/sec\n",
      "INFO:tensorflow:step 9, seq_cls_accuracy 1.0000, cls_accuracy 1.0000, seq_cls_loss 0.016759, cls_loss 0.000626, 0.33 steps/sec, 0.66 examples/sec\n",
      "INFO:tensorflow:step 10, seq_cls_accuracy 1.0000, cls_accuracy 1.0000, seq_cls_loss 0.005257, cls_loss 0.000172, 0.34 steps/sec, 0.67 examples/sec\n",
      "INFO:tensorflow:step 11, seq_cls_accuracy 1.0000, cls_accuracy 1.0000, seq_cls_loss 0.001197, cls_loss 0.000113, 0.34 steps/sec, 0.67 examples/sec\n",
      "INFO:tensorflow:step 12, seq_cls_accuracy 1.0000, cls_accuracy 1.0000, seq_cls_loss 0.001323, cls_loss 0.000193, 0.34 steps/sec, 0.67 examples/sec\n",
      "INFO:tensorflow:step 13, seq_cls_accuracy 1.0000, cls_accuracy 1.0000, seq_cls_loss 0.000770, cls_loss 0.000078, 0.33 steps/sec, 0.66 examples/sec\n",
      "INFO:tensorflow:step 14, seq_cls_accuracy 1.0000, cls_accuracy 1.0000, seq_cls_loss 0.000994, cls_loss 0.000087, 0.31 steps/sec, 0.62 examples/sec\n",
      "INFO:tensorflow:step 15, seq_cls_accuracy 1.0000, cls_accuracy 1.0000, seq_cls_loss 0.000914, cls_loss 0.000082, 0.32 steps/sec, 0.64 examples/sec\n",
      "INFO:tensorflow:step 16, seq_cls_accuracy 1.0000, cls_accuracy 1.0000, seq_cls_loss 0.000677, cls_loss 0.000055, 0.30 steps/sec, 0.60 examples/sec\n",
      "INFO:tensorflow:step 17, seq_cls_accuracy 1.0000, cls_accuracy 1.0000, seq_cls_loss 0.000311, cls_loss 0.000050, 0.32 steps/sec, 0.63 examples/sec\n",
      "INFO:tensorflow:step 18, seq_cls_accuracy 1.0000, cls_accuracy 1.0000, seq_cls_loss 0.000443, cls_loss 0.000049, 0.24 steps/sec, 0.48 examples/sec\n",
      "INFO:tensorflow:step 19, seq_cls_accuracy 1.0000, cls_accuracy 1.0000, seq_cls_loss 0.000287, cls_loss 0.000109, 0.26 steps/sec, 0.53 examples/sec\n",
      "INFO:tensorflow:step 20, seq_cls_accuracy 1.0000, cls_accuracy 1.0000, seq_cls_loss 0.000246, cls_loss 0.000109, 0.34 steps/sec, 0.67 examples/sec\n"
     ]
    }
   ],
   "source": [
    "model.fit(X_tokenized=X_tokenized, y=y, total_steps=20)"
   ]
  },
  {
   "cell_type": "markdown",
   "id": "prescription-longitude",
   "metadata": {},
   "source": [
    "# 推理"
   ]
  },
  {
   "cell_type": "code",
   "execution_count": 5,
   "id": "widespread-default",
   "metadata": {},
   "outputs": [
    {
     "name": "stdout",
     "output_type": "stream",
     "text": [
      "INFO:tensorflow:Time usage 0m-5.54s, 0.18 steps/sec, 0.36 examples/sec\n"
     ]
    },
    {
     "data": {
      "text/plain": [
       "{'seq_cls_preds': [[0, 0, 0, 0, 0, 1, 1], [0, 0, 1, 1, 0, 0]],\n",
       " 'seq_cls_probs': array([[[9.99210596e-01, 7.89346057e-04],\n",
       "         [9.99973416e-01, 2.65684157e-05],\n",
       "         [9.99837279e-01, 1.62643162e-04],\n",
       "         [9.99873996e-01, 1.25956809e-04],\n",
       "         [9.99980927e-01, 1.90509072e-05],\n",
       "         [3.70756425e-06, 9.99996305e-01],\n",
       "         [4.56654561e-06, 9.99995470e-01],\n",
       "         [1.10539503e-03, 9.98894632e-01],\n",
       "         [3.12565384e-03, 9.96874332e-01],\n",
       "         [2.52080597e-02, 9.74791944e-01],\n",
       "         [2.17138836e-03, 9.97828543e-01],\n",
       "         [6.42390456e-03, 9.93576109e-01],\n",
       "         [1.06598638e-01, 8.93401325e-01],\n",
       "         [5.21837082e-03, 9.94781673e-01],\n",
       "         [2.17719432e-02, 9.78228092e-01],\n",
       "         [1.48522379e-02, 9.85147774e-01],\n",
       "         [4.99368943e-02, 9.50063109e-01],\n",
       "         [4.02601389e-03, 9.95974004e-01],\n",
       "         [6.77807629e-03, 9.93221879e-01],\n",
       "         [2.28792219e-03, 9.97712135e-01],\n",
       "         [1.05401203e-01, 8.94598782e-01],\n",
       "         [3.16010183e-03, 9.96839881e-01],\n",
       "         [1.58713199e-02, 9.84128714e-01],\n",
       "         [3.39570688e-03, 9.96604323e-01],\n",
       "         [1.12000749e-01, 8.87999237e-01],\n",
       "         [2.23562121e-03, 9.97764349e-01],\n",
       "         [3.96256009e-03, 9.96037364e-01],\n",
       "         [2.04415638e-02, 9.79558408e-01],\n",
       "         [4.39652093e-02, 9.56034839e-01],\n",
       "         [1.05226291e-02, 9.89477336e-01],\n",
       "         [2.83454265e-03, 9.97165501e-01],\n",
       "         [1.28876381e-02, 9.87112343e-01],\n",
       "         [3.69160727e-04, 9.99630809e-01],\n",
       "         [3.52243453e-01, 6.47756577e-01],\n",
       "         [1.17706473e-03, 9.98822868e-01],\n",
       "         [1.40627602e-03, 9.98593748e-01],\n",
       "         [1.13724377e-02, 9.88627613e-01],\n",
       "         [2.95855124e-02, 9.70414460e-01],\n",
       "         [5.24309389e-02, 9.47569072e-01],\n",
       "         [2.25240663e-01, 7.74759352e-01],\n",
       "         [8.07042494e-02, 9.19295788e-01],\n",
       "         [3.46879940e-03, 9.96531188e-01],\n",
       "         [2.51033187e-01, 7.48966813e-01],\n",
       "         [1.70581378e-02, 9.82941926e-01],\n",
       "         [3.94620933e-03, 9.96053815e-01],\n",
       "         [3.37969488e-03, 9.96620297e-01],\n",
       "         [9.14917910e-04, 9.99085069e-01],\n",
       "         [9.19899531e-03, 9.90801036e-01],\n",
       "         [2.80316267e-03, 9.97196794e-01],\n",
       "         [1.62213463e-02, 9.83778656e-01],\n",
       "         [5.98220155e-03, 9.94017839e-01],\n",
       "         [9.84389056e-03, 9.90156054e-01],\n",
       "         [1.09779928e-02, 9.89022017e-01],\n",
       "         [1.99352071e-01, 8.00647974e-01],\n",
       "         [5.26492624e-03, 9.94735122e-01],\n",
       "         [1.93490721e-02, 9.80650961e-01],\n",
       "         [1.41748507e-02, 9.85825121e-01],\n",
       "         [1.80279110e-02, 9.81972158e-01],\n",
       "         [4.91996016e-03, 9.95079994e-01],\n",
       "         [2.77620759e-02, 9.72237945e-01],\n",
       "         [1.43368486e-02, 9.85663116e-01],\n",
       "         [7.96875823e-03, 9.92031217e-01],\n",
       "         [1.07345963e-02, 9.89265442e-01],\n",
       "         [5.03463149e-02, 9.49653685e-01],\n",
       "         [6.86835963e-03, 9.93131697e-01],\n",
       "         [2.02501435e-02, 9.79749799e-01],\n",
       "         [1.37956832e-02, 9.86204386e-01],\n",
       "         [1.02961017e-02, 9.89703953e-01],\n",
       "         [8.88687279e-03, 9.91113126e-01],\n",
       "         [9.27528460e-03, 9.90724742e-01],\n",
       "         [1.77719668e-02, 9.82228100e-01],\n",
       "         [6.84925681e-03, 9.93150711e-01],\n",
       "         [1.27781704e-02, 9.87221897e-01],\n",
       "         [5.80330640e-02, 9.41966891e-01],\n",
       "         [4.49797548e-02, 9.55020308e-01],\n",
       "         [1.62999686e-02, 9.83699977e-01],\n",
       "         [1.30319363e-02, 9.86968100e-01],\n",
       "         [1.04460372e-02, 9.89553928e-01],\n",
       "         [2.03489643e-02, 9.79651034e-01],\n",
       "         [2.40368340e-02, 9.75963116e-01],\n",
       "         [6.27036300e-03, 9.93729591e-01],\n",
       "         [6.29400536e-02, 9.37059999e-01],\n",
       "         [6.58157542e-02, 9.34184194e-01],\n",
       "         [7.89745245e-03, 9.92102563e-01],\n",
       "         [5.42630069e-03, 9.94573772e-01],\n",
       "         [8.50955211e-03, 9.91490424e-01],\n",
       "         [8.46417155e-03, 9.91535783e-01],\n",
       "         [2.86388509e-02, 9.71361160e-01],\n",
       "         [5.97600592e-03, 9.94023979e-01],\n",
       "         [1.87235586e-02, 9.81276393e-01],\n",
       "         [8.32052007e-02, 9.16794777e-01],\n",
       "         [8.28136355e-02, 9.17186320e-01],\n",
       "         [1.78367384e-02, 9.82163250e-01],\n",
       "         [2.44629895e-03, 9.97553766e-01],\n",
       "         [2.34827003e-03, 9.97651756e-01],\n",
       "         [8.36680923e-03, 9.91633177e-01],\n",
       "         [5.56372777e-02, 9.44362760e-01],\n",
       "         [1.74864463e-03, 9.98251379e-01],\n",
       "         [9.44558252e-03, 9.90554392e-01],\n",
       "         [3.30222435e-02, 9.66977715e-01],\n",
       "         [1.02057019e-02, 9.89794314e-01],\n",
       "         [1.55845480e-02, 9.84415472e-01],\n",
       "         [1.98614486e-02, 9.80138540e-01],\n",
       "         [1.23588985e-03, 9.98764157e-01],\n",
       "         [2.22097849e-03, 9.97779071e-01],\n",
       "         [2.26191983e-01, 7.73808002e-01],\n",
       "         [1.44583208e-03, 9.98554170e-01],\n",
       "         [5.84255531e-03, 9.94157434e-01],\n",
       "         [2.34548077e-02, 9.76545155e-01],\n",
       "         [2.95860739e-03, 9.97041404e-01],\n",
       "         [3.43769696e-03, 9.96562302e-01],\n",
       "         [3.79992835e-03, 9.96200025e-01],\n",
       "         [8.43837261e-02, 9.15616274e-01],\n",
       "         [2.19197175e-03, 9.97808039e-01],\n",
       "         [2.99861818e-03, 9.97001350e-01],\n",
       "         [7.99707696e-03, 9.92002964e-01],\n",
       "         [5.21482993e-03, 9.94785249e-01],\n",
       "         [1.37662434e-03, 9.98623371e-01],\n",
       "         [1.26572903e-02, 9.87342715e-01],\n",
       "         [2.35461700e-03, 9.97645319e-01],\n",
       "         [4.95881774e-02, 9.50411797e-01],\n",
       "         [2.89822998e-03, 9.97101724e-01],\n",
       "         [1.25144073e-03, 9.98748541e-01],\n",
       "         [9.04982351e-03, 9.90950167e-01],\n",
       "         [1.21204741e-03, 9.98787940e-01],\n",
       "         [5.01589291e-03, 9.94984150e-01],\n",
       "         [1.17404759e-03, 9.98825967e-01],\n",
       "         [1.63219739e-02, 9.83678102e-01]],\n",
       " \n",
       "        [[9.99758422e-01, 2.41527363e-04],\n",
       "         [9.99966145e-01, 3.39027429e-05],\n",
       "         [3.31656020e-06, 9.99996662e-01],\n",
       "         [3.62211767e-06, 9.99996424e-01],\n",
       "         [9.99982953e-01, 1.70741459e-05],\n",
       "         [9.99814332e-01, 1.85739540e-04],\n",
       "         [8.93270771e-06, 9.99991059e-01],\n",
       "         [4.12990572e-04, 9.99586999e-01],\n",
       "         [1.27355708e-03, 9.98726428e-01],\n",
       "         [8.29041470e-03, 9.91709650e-01],\n",
       "         [7.94727821e-04, 9.99205291e-01],\n",
       "         [2.75196857e-03, 9.97247994e-01],\n",
       "         [3.69462632e-02, 9.63053703e-01],\n",
       "         [1.65862637e-03, 9.98341322e-01],\n",
       "         [5.76113956e-03, 9.94238853e-01],\n",
       "         [4.06475225e-03, 9.95935202e-01],\n",
       "         [2.10554581e-02, 9.78944540e-01],\n",
       "         [1.55039004e-03, 9.98449564e-01],\n",
       "         [1.72651082e-03, 9.98273492e-01],\n",
       "         [1.41742022e-03, 9.98582602e-01],\n",
       "         [3.36714461e-02, 9.66328502e-01],\n",
       "         [1.42311770e-03, 9.98576880e-01],\n",
       "         [5.57348086e-03, 9.94426489e-01],\n",
       "         [1.25796290e-03, 9.98742044e-01],\n",
       "         [3.35008614e-02, 9.66499090e-01],\n",
       "         [7.88051868e-04, 9.99211907e-01],\n",
       "         [1.94925570e-03, 9.98050809e-01],\n",
       "         [9.07211192e-03, 9.90927875e-01],\n",
       "         [1.55022144e-02, 9.84497726e-01],\n",
       "         [3.20614013e-03, 9.96793807e-01],\n",
       "         [1.48187147e-03, 9.98518169e-01],\n",
       "         [7.19229039e-03, 9.92807746e-01],\n",
       "         [1.60636613e-04, 9.99839306e-01],\n",
       "         [2.11293414e-01, 7.88706541e-01],\n",
       "         [7.13952235e-04, 9.99286115e-01],\n",
       "         [6.39765232e-04, 9.99360263e-01],\n",
       "         [5.56932762e-03, 9.94430602e-01],\n",
       "         [9.99517180e-03, 9.90004838e-01],\n",
       "         [2.61533223e-02, 9.73846674e-01],\n",
       "         [7.38478303e-02, 9.26152229e-01],\n",
       "         [3.13325636e-02, 9.68667448e-01],\n",
       "         [1.44681975e-03, 9.98553216e-01],\n",
       "         [1.52146146e-01, 8.47853839e-01],\n",
       "         [7.99782854e-03, 9.92002130e-01],\n",
       "         [1.88739051e-03, 9.98112559e-01],\n",
       "         [1.94989936e-03, 9.98050094e-01],\n",
       "         [3.83435050e-04, 9.99616504e-01],\n",
       "         [4.03818488e-03, 9.95961845e-01],\n",
       "         [1.23853493e-03, 9.98761535e-01],\n",
       "         [5.26092714e-03, 9.94739115e-01],\n",
       "         [3.60041112e-03, 9.96399522e-01],\n",
       "         [3.41692497e-03, 9.96583045e-01],\n",
       "         [5.37346024e-03, 9.94626582e-01],\n",
       "         [7.88320974e-02, 9.21167910e-01],\n",
       "         [1.72022381e-03, 9.98279810e-01],\n",
       "         [6.02587219e-03, 9.93974149e-01],\n",
       "         [6.12894492e-03, 9.93871093e-01],\n",
       "         [6.98264921e-03, 9.93017316e-01],\n",
       "         [1.86594541e-03, 9.98134077e-01],\n",
       "         [9.80631635e-03, 9.90193665e-01],\n",
       "         [4.06479649e-03, 9.95935202e-01],\n",
       "         [3.53930541e-03, 9.96460736e-01],\n",
       "         [6.56188605e-03, 9.93438065e-01],\n",
       "         [1.84401572e-02, 9.81559873e-01],\n",
       "         [2.82464828e-03, 9.97175336e-01],\n",
       "         [1.02089634e-02, 9.89791095e-01],\n",
       "         [6.13901718e-03, 9.93860960e-01],\n",
       "         [3.45115620e-03, 9.96548831e-01],\n",
       "         [3.16891354e-03, 9.96831119e-01],\n",
       "         [3.08241416e-03, 9.96917605e-01],\n",
       "         [9.85507108e-03, 9.90144968e-01],\n",
       "         [2.81756441e-03, 9.97182488e-01],\n",
       "         [3.52504943e-03, 9.96474922e-01],\n",
       "         [1.79987941e-02, 9.82001245e-01],\n",
       "         [1.36635685e-02, 9.86336470e-01],\n",
       "         [5.41479886e-03, 9.94585216e-01],\n",
       "         [4.73280810e-03, 9.95267272e-01],\n",
       "         [4.46931366e-03, 9.95530665e-01],\n",
       "         [8.73634499e-03, 9.91263628e-01],\n",
       "         [8.78419355e-03, 9.91215825e-01],\n",
       "         [1.64514955e-03, 9.98354852e-01],\n",
       "         [2.23264787e-02, 9.77673531e-01],\n",
       "         [2.63776314e-02, 9.73622382e-01],\n",
       "         [3.45406542e-03, 9.96545970e-01],\n",
       "         [2.01653480e-03, 9.97983456e-01],\n",
       "         [2.75227218e-03, 9.97247756e-01],\n",
       "         [2.63091060e-03, 9.97369051e-01],\n",
       "         [1.09109944e-02, 9.89088953e-01],\n",
       "         [2.81089894e-03, 9.97189105e-01],\n",
       "         [5.59395831e-03, 9.94406104e-01],\n",
       "         [4.05793153e-02, 9.59420621e-01],\n",
       "         [4.85032983e-02, 9.51496720e-01],\n",
       "         [1.11728562e-02, 9.88827109e-01],\n",
       "         [1.43301161e-03, 9.98567045e-01],\n",
       "         [6.23811851e-04, 9.99376237e-01],\n",
       "         [1.74168823e-03, 9.98258293e-01],\n",
       "         [1.62021499e-02, 9.83797848e-01],\n",
       "         [6.91481167e-04, 9.99308467e-01],\n",
       "         [2.78281397e-03, 9.97217178e-01],\n",
       "         [1.83059629e-02, 9.81694043e-01],\n",
       "         [3.43999476e-03, 9.96560037e-01],\n",
       "         [5.31703467e-03, 9.94682968e-01],\n",
       "         [9.33332928e-03, 9.90666687e-01],\n",
       "         [4.18362353e-04, 9.99581635e-01],\n",
       "         [5.76386985e-04, 9.99423623e-01],\n",
       "         [1.12073325e-01, 8.87926638e-01],\n",
       "         [6.80868689e-04, 9.99319196e-01],\n",
       "         [1.59190199e-03, 9.98408139e-01],\n",
       "         [8.79047252e-03, 9.91209507e-01],\n",
       "         [9.97561379e-04, 9.99002397e-01],\n",
       "         [1.18211494e-03, 9.98817861e-01],\n",
       "         [1.19511888e-03, 9.98804927e-01],\n",
       "         [2.99962163e-02, 9.70003784e-01],\n",
       "         [7.03051221e-04, 9.99296904e-01],\n",
       "         [1.16912043e-03, 9.98830855e-01],\n",
       "         [2.87322607e-03, 9.97126758e-01],\n",
       "         [1.50929356e-03, 9.98490691e-01],\n",
       "         [5.42493362e-04, 9.99457538e-01],\n",
       "         [4.55498276e-03, 9.95445013e-01],\n",
       "         [1.00970466e-03, 9.98990238e-01],\n",
       "         [1.70044359e-02, 9.82995570e-01],\n",
       "         [1.01423403e-03, 9.98985708e-01],\n",
       "         [4.80624469e-04, 9.99519348e-01],\n",
       "         [3.56229558e-03, 9.96437669e-01],\n",
       "         [3.92069109e-04, 9.99607980e-01],\n",
       "         [1.71738875e-03, 9.98282671e-01],\n",
       "         [3.91685055e-04, 9.99608338e-01],\n",
       "         [4.55887383e-03, 9.95441079e-01]]], dtype=float32),\n",
       " 'cls_preds': [0, 1],\n",
       " 'cls_probs': array([[9.999721e-01, 2.788876e-05],\n",
       "        [3.664363e-05, 9.999634e-01]], dtype=float32)}"
      ]
     },
     "execution_count": 5,
     "metadata": {},
     "output_type": "execute_result"
    }
   ],
   "source": [
    "model.predict(X_tokenized=X_tokenized)"
   ]
  },
  {
   "cell_type": "markdown",
   "id": "institutional-zealand",
   "metadata": {},
   "source": [
    "# 评分"
   ]
  },
  {
   "cell_type": "code",
   "execution_count": 6,
   "id": "arbitrary-pakistan",
   "metadata": {},
   "outputs": [
    {
     "name": "stdout",
     "output_type": "stream",
     "text": [
      "INFO:tensorflow:Time usage 0m-2.69s, 0.37 steps/sec, 0.74 examples/sec\n"
     ]
    },
    {
     "data": {
      "text/plain": [
       "{'seq_cls_accuracy': 1.0,\n",
       " 'cls_accuracy': 1.0,\n",
       " 'seq_cls_loss': 0.0001213046,\n",
       " 'cls_loss': 3.224558e-05}"
      ]
     },
     "execution_count": 6,
     "metadata": {},
     "output_type": "execute_result"
    }
   ],
   "source": [
    "model.score(X_tokenized=X_tokenized, y=y)"
   ]
  }
 ],
 "metadata": {
  "kernelspec": {
   "display_name": "Python 3",
   "language": "python",
   "name": "python3"
  },
  "language_info": {
   "codemirror_mode": {
    "name": "ipython",
    "version": 3
   },
   "file_extension": ".py",
   "mimetype": "text/x-python",
   "name": "python",
   "nbconvert_exporter": "python",
   "pygments_lexer": "ipython3",
   "version": "3.8.2"
  }
 },
 "nbformat": 4,
 "nbformat_minor": 5
}
