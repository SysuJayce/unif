{
 "cells": [
  {
   "cell_type": "markdown",
   "id": "seasonal-separate",
   "metadata": {},
   "source": [
    "# BERTSeqMultiTaskClassifier\n",
    "\n",
    "可用的中文预训练参数：[`bert-base`](https://storage.googleapis.com/bert_models/2018_11_03/chinese_L-12_H-768_A-12.zip),[`roberta-wwm-ext-base`](https://drive.google.com/uc?export=download&id=1jMAKIJmPn7kADgD3yQZhpsqM-IRM1qZt),[`roberta-wwm-ext-large`](https://drive.google.com/uc?export=download&id=1dtad0FFzG11CBsawu8hvwwzU2R0FDI94),[`macbert-base`](https://drive.google.com/uc?export=download&id=1aV69OhYzIwj_hn-kO1RiBa-m8QAusQ5b),[`macbert-large`](https://drive.google.com/uc?export=download&id=1lWYxnk1EqTA2Q20_IShxBrCPc5VSDCkT)"
   ]
  },
  {
   "cell_type": "code",
   "execution_count": 1,
   "id": "traditional-girlfriend",
   "metadata": {},
   "outputs": [
    {
     "name": "stdout",
     "output_type": "stream",
     "text": [
      "v2.4.5\n"
     ]
    }
   ],
   "source": [
    "import uf\n",
    "\n",
    "print(uf.__version__)"
   ]
  },
  {
   "cell_type": "code",
   "execution_count": 2,
   "id": "affected-titanium",
   "metadata": {},
   "outputs": [
    {
     "name": "stdout",
     "output_type": "stream",
     "text": [
      "uf.BERTSeqMultiTaskClassifier(\n",
      "    config_file=\"../../demo/bert_config.json\",\n",
      "    vocab_file=\"../../demo/vocab.txt\",\n",
      "    max_seq_length=128,\n",
      "    seq_cls_label_size=None,\n",
      "    cls_label_size=None,\n",
      "    init_checkpoint=None,\n",
      "    output_dir=None,\n",
      "    gpu_ids=None,\n",
      "    do_lower_case=True,\n",
      "    truncate_method=\"LIFO\",\n",
      ")\n"
     ]
    }
   ],
   "source": [
    "model = uf.BERTSeqMultiTaskClassifier('../../demo/bert_config.json', '../../demo/vocab.txt')\n",
    "print(model)"
   ]
  },
  {
   "cell_type": "code",
   "execution_count": 3,
   "id": "joint-scroll",
   "metadata": {},
   "outputs": [],
   "source": [
    "X_tokenized = [['天', '亮', '以', '前', '说', '再', '见'], ['笑', '着', '泪', '流', '满', '面']]\n",
    "y = [{\"seq_cls\": [0, 0, 0, 0, 0, 1, 1], \"cls\": 0}, {\"seq_cls\": [0, 0, 1, 1, 0, 0], \"cls\": 1}]"
   ]
  },
  {
   "cell_type": "markdown",
   "id": "requested-insert",
   "metadata": {},
   "source": [
    "# 训练"
   ]
  },
  {
   "cell_type": "code",
   "execution_count": 4,
   "id": "usual-disposition",
   "metadata": {},
   "outputs": [
    {
     "name": "stdout",
     "output_type": "stream",
     "text": [
      "WARNING:tensorflow:From /Users/geyingli/Library/Python/3.8/lib/python/site-packages/tensorflow/python/util/dispatch.py:1096: calling dropout (from tensorflow.python.ops.nn_ops) with keep_prob is deprecated and will be removed in a future version.\n",
      "Instructions for updating:\n",
      "Please use `rate` instead of `keep_prob`. Rate should be set to `rate = 1 - keep_prob`.\n"
     ]
    },
    {
     "name": "stderr",
     "output_type": "stream",
     "text": [
      "/Users/geyingli/Library/Python/3.8/lib/python/site-packages/uf-2.4.5-py3.8.egg/uf/model/bert.py:272: UserWarning: `tf.layers.dense` is deprecated and will be removed in a future version. Please use `tf.keras.layers.Dense` instead.\n",
      "  query_layer = tf.layers.dense(\n",
      "/Users/geyingli/Library/Python/3.8/lib/python/site-packages/keras/legacy_tf_layers/core.py:255: UserWarning: `layer.apply` is deprecated and will be removed in a future version. Please use `layer.__call__` method instead.\n",
      "  return layer.apply(inputs)\n",
      "/Users/geyingli/Library/Python/3.8/lib/python/site-packages/uf-2.4.5-py3.8.egg/uf/model/bert.py:282: UserWarning: `tf.layers.dense` is deprecated and will be removed in a future version. Please use `tf.keras.layers.Dense` instead.\n",
      "  key_layer = tf.layers.dense(\n",
      "/Users/geyingli/Library/Python/3.8/lib/python/site-packages/uf-2.4.5-py3.8.egg/uf/model/bert.py:292: UserWarning: `tf.layers.dense` is deprecated and will be removed in a future version. Please use `tf.keras.layers.Dense` instead.\n",
      "  value_layer = tf.layers.dense(\n",
      "/Users/geyingli/Library/Python/3.8/lib/python/site-packages/uf-2.4.5-py3.8.egg/uf/model/bert.py:416: UserWarning: `tf.layers.dense` is deprecated and will be removed in a future version. Please use `tf.keras.layers.Dense` instead.\n",
      "  attention_output = tf.layers.dense(\n",
      "/Users/geyingli/Library/Python/3.8/lib/python/site-packages/uf-2.4.5-py3.8.egg/uf/model/bert.py:428: UserWarning: `tf.layers.dense` is deprecated and will be removed in a future version. Please use `tf.keras.layers.Dense` instead.\n",
      "  intermediate_output = tf.layers.dense(\n",
      "/Users/geyingli/Library/Python/3.8/lib/python/site-packages/uf-2.4.5-py3.8.egg/uf/model/bert.py:438: UserWarning: `tf.layers.dense` is deprecated and will be removed in a future version. Please use `tf.keras.layers.Dense` instead.\n",
      "  layer_output = tf.layers.dense(\n",
      "/Users/geyingli/Library/Python/3.8/lib/python/site-packages/uf-2.4.5-py3.8.egg/uf/model/bert.py:107: UserWarning: `tf.layers.dense` is deprecated and will be removed in a future version. Please use `tf.keras.layers.Dense` instead.\n",
      "  self.pooled_output = tf.layers.dense(\n"
     ]
    },
    {
     "name": "stdout",
     "output_type": "stream",
     "text": [
      "INFO:tensorflow:Build graph with 305,630,988 parameters (among which 102,270,724 are trainable)\n",
      "INFO:tensorflow:Running local_init_op\n",
      "INFO:tensorflow:Done running local_init_op\n",
      "INFO:tensorflow:Running training on 2 samples (step 0 -> 20)\n",
      "INFO:tensorflow:step 1, seq_cls_accuracy 0.5385, cls_accuracy 0.5000, seq_cls_loss 0.760243, cls_loss 1.085675, 0.06 steps/sec, 0.13 examples/sec\n",
      "INFO:tensorflow:step 2, seq_cls_accuracy 0.4615, cls_accuracy 0.5000, seq_cls_loss 0.745159, cls_loss 0.721175, 0.20 steps/sec, 0.39 examples/sec\n",
      "INFO:tensorflow:step 3, seq_cls_accuracy 0.6923, cls_accuracy 1.0000, seq_cls_loss 0.715601, cls_loss 0.384339, 0.18 steps/sec, 0.37 examples/sec\n",
      "INFO:tensorflow:step 4, seq_cls_accuracy 0.6923, cls_accuracy 1.0000, seq_cls_loss 0.563094, cls_loss 0.161237, 0.25 steps/sec, 0.49 examples/sec\n",
      "INFO:tensorflow:step 5, seq_cls_accuracy 0.9231, cls_accuracy 1.0000, seq_cls_loss 0.272040, cls_loss 0.008986, 0.18 steps/sec, 0.35 examples/sec\n",
      "INFO:tensorflow:step 6, seq_cls_accuracy 0.9231, cls_accuracy 1.0000, seq_cls_loss 0.275101, cls_loss 0.003013, 0.30 steps/sec, 0.60 examples/sec\n",
      "INFO:tensorflow:step 7, seq_cls_accuracy 1.0000, cls_accuracy 1.0000, seq_cls_loss 0.091657, cls_loss 0.006084, 0.27 steps/sec, 0.55 examples/sec\n",
      "INFO:tensorflow:step 8, seq_cls_accuracy 1.0000, cls_accuracy 1.0000, seq_cls_loss 0.074227, cls_loss 0.005923, 0.25 steps/sec, 0.51 examples/sec\n",
      "INFO:tensorflow:step 9, seq_cls_accuracy 1.0000, cls_accuracy 1.0000, seq_cls_loss 0.029622, cls_loss 0.003743, 0.17 steps/sec, 0.34 examples/sec\n",
      "INFO:tensorflow:step 10, seq_cls_accuracy 1.0000, cls_accuracy 1.0000, seq_cls_loss 0.006852, cls_loss 0.000536, 0.13 steps/sec, 0.27 examples/sec\n",
      "INFO:tensorflow:step 11, seq_cls_accuracy 1.0000, cls_accuracy 1.0000, seq_cls_loss 0.003613, cls_loss 0.000226, 0.09 steps/sec, 0.18 examples/sec\n",
      "INFO:tensorflow:step 12, seq_cls_accuracy 1.0000, cls_accuracy 1.0000, seq_cls_loss 0.002704, cls_loss 0.000045, 0.07 steps/sec, 0.14 examples/sec\n",
      "INFO:tensorflow:step 13, seq_cls_accuracy 1.0000, cls_accuracy 1.0000, seq_cls_loss 0.003036, cls_loss 0.000028, 0.07 steps/sec, 0.14 examples/sec\n",
      "INFO:tensorflow:step 14, seq_cls_accuracy 1.0000, cls_accuracy 1.0000, seq_cls_loss 0.001188, cls_loss 0.000052, 0.08 steps/sec, 0.16 examples/sec\n",
      "INFO:tensorflow:step 15, seq_cls_accuracy 1.0000, cls_accuracy 1.0000, seq_cls_loss 0.001182, cls_loss 0.000034, 0.10 steps/sec, 0.20 examples/sec\n",
      "INFO:tensorflow:step 16, seq_cls_accuracy 1.0000, cls_accuracy 1.0000, seq_cls_loss 0.000943, cls_loss 0.000025, 0.14 steps/sec, 0.27 examples/sec\n",
      "INFO:tensorflow:step 17, seq_cls_accuracy 1.0000, cls_accuracy 1.0000, seq_cls_loss 0.000677, cls_loss 0.000032, 0.13 steps/sec, 0.25 examples/sec\n",
      "INFO:tensorflow:step 18, seq_cls_accuracy 1.0000, cls_accuracy 1.0000, seq_cls_loss 0.000430, cls_loss 0.000040, 0.28 steps/sec, 0.56 examples/sec\n",
      "INFO:tensorflow:step 19, seq_cls_accuracy 1.0000, cls_accuracy 1.0000, seq_cls_loss 0.000369, cls_loss 0.000026, 0.21 steps/sec, 0.41 examples/sec\n",
      "INFO:tensorflow:step 20, seq_cls_accuracy 1.0000, cls_accuracy 1.0000, seq_cls_loss 0.000279, cls_loss 0.000024, 0.39 steps/sec, 0.78 examples/sec\n"
     ]
    }
   ],
   "source": [
    "model.fit(X_tokenized=X_tokenized, y=y, total_steps=20)"
   ]
  },
  {
   "cell_type": "markdown",
   "id": "prescription-longitude",
   "metadata": {},
   "source": [
    "# 推理"
   ]
  },
  {
   "cell_type": "code",
   "execution_count": 5,
   "id": "widespread-default",
   "metadata": {},
   "outputs": [
    {
     "name": "stdout",
     "output_type": "stream",
     "text": [
      "INFO:tensorflow:Time usage 0m-4.70s, 0.21 steps/sec, 0.43 examples/sec\n"
     ]
    },
    {
     "data": {
      "text/plain": [
       "{'seq_cls_preds': [[0, 0, 0, 0, 0, 1, 1], [0, 0, 1, 1, 0, 0]],\n",
       " 'seq_cls_probs': array([[[9.99700189e-01, 2.99809239e-04],\n",
       "         [9.99947786e-01, 5.21772308e-05],\n",
       "         [9.99868155e-01, 1.31773180e-04],\n",
       "         [9.99916911e-01, 8.31309080e-05],\n",
       "         [9.99950767e-01, 4.92519030e-05],\n",
       "         [1.26047107e-05, 9.99987364e-01],\n",
       "         [1.20553414e-05, 9.99987960e-01],\n",
       "         [8.85534286e-01, 1.14465684e-01],\n",
       "         [9.29280043e-01, 7.07199723e-02],\n",
       "         [7.33227432e-01, 2.66772598e-01],\n",
       "         [5.87564945e-01, 4.12435025e-01],\n",
       "         [8.31783235e-01, 1.68216750e-01],\n",
       "         [7.43943155e-01, 2.56056845e-01],\n",
       "         [9.91771519e-01, 8.22842028e-03],\n",
       "         [7.72198737e-01, 2.27801234e-01],\n",
       "         [5.45556486e-01, 4.54443514e-01],\n",
       "         [8.92864645e-01, 1.07135348e-01],\n",
       "         [6.60548091e-01, 3.39451879e-01],\n",
       "         [6.70218110e-01, 3.29781920e-01],\n",
       "         [8.59607339e-01, 1.40392706e-01],\n",
       "         [8.66677880e-01, 1.33322164e-01],\n",
       "         [9.51090515e-01, 4.89095040e-02],\n",
       "         [8.74276042e-01, 1.25723958e-01],\n",
       "         [8.90826821e-01, 1.09173186e-01],\n",
       "         [3.57987493e-01, 6.42012537e-01],\n",
       "         [9.55434918e-01, 4.45650592e-02],\n",
       "         [9.92480397e-01, 7.51963630e-03],\n",
       "         [9.18047369e-01, 8.19526091e-02],\n",
       "         [6.57132328e-01, 3.42867732e-01],\n",
       "         [3.95114213e-01, 6.04885757e-01],\n",
       "         [6.07224286e-01, 3.92775744e-01],\n",
       "         [9.49141264e-01, 5.08588180e-02],\n",
       "         [8.00970495e-01, 1.99029550e-01],\n",
       "         [5.35328031e-01, 4.64672029e-01],\n",
       "         [9.54058468e-01, 4.59415391e-02],\n",
       "         [9.72160399e-01, 2.78395638e-02],\n",
       "         [9.79423642e-01, 2.05763672e-02],\n",
       "         [9.23213005e-01, 7.67869726e-02],\n",
       "         [9.14900362e-01, 8.50996599e-02],\n",
       "         [6.58583641e-01, 3.41416359e-01],\n",
       "         [4.13363069e-01, 5.86636961e-01],\n",
       "         [9.15386856e-01, 8.46130922e-02],\n",
       "         [7.63849676e-01, 2.36150280e-01],\n",
       "         [8.73667657e-01, 1.26332328e-01],\n",
       "         [9.76430833e-01, 2.35691853e-02],\n",
       "         [9.44658995e-01, 5.53410053e-02],\n",
       "         [7.87613034e-01, 2.12386951e-01],\n",
       "         [9.24195886e-01, 7.58041814e-02],\n",
       "         [9.02284145e-01, 9.77158174e-02],\n",
       "         [9.00156677e-01, 9.98432934e-02],\n",
       "         [5.58202922e-01, 4.41797048e-01],\n",
       "         [9.57592070e-01, 4.24079448e-02],\n",
       "         [1.89342961e-01, 8.10657084e-01],\n",
       "         [5.27510643e-01, 4.72489327e-01],\n",
       "         [5.19056797e-01, 4.80943233e-01],\n",
       "         [6.53398395e-01, 3.46601635e-01],\n",
       "         [7.56114364e-01, 2.43885607e-01],\n",
       "         [9.20668364e-01, 7.93316811e-02],\n",
       "         [7.58460224e-01, 2.41539791e-01],\n",
       "         [9.66911852e-01, 3.30882072e-02],\n",
       "         [4.42579120e-01, 5.57420909e-01],\n",
       "         [3.04531395e-01, 6.95468605e-01],\n",
       "         [8.96656215e-01, 1.03343762e-01],\n",
       "         [8.26265037e-01, 1.73734933e-01],\n",
       "         [8.03168178e-01, 1.96831867e-01],\n",
       "         [1.37707084e-01, 8.62292945e-01],\n",
       "         [7.50934124e-01, 2.49065831e-01],\n",
       "         [9.85508621e-01, 1.44913848e-02],\n",
       "         [6.46291792e-01, 3.53708178e-01],\n",
       "         [6.87866330e-01, 3.12133759e-01],\n",
       "         [7.84281313e-01, 2.15718687e-01],\n",
       "         [7.56253421e-01, 2.43746534e-01],\n",
       "         [8.12108934e-01, 1.87891081e-01],\n",
       "         [5.98735332e-01, 4.01264608e-01],\n",
       "         [9.69118476e-01, 3.08815781e-02],\n",
       "         [6.70969069e-01, 3.29030991e-01],\n",
       "         [9.47019935e-01, 5.29800765e-02],\n",
       "         [9.52020943e-01, 4.79790531e-02],\n",
       "         [6.37985468e-01, 3.62014532e-01],\n",
       "         [4.19594049e-01, 5.80405951e-01],\n",
       "         [9.60840225e-01, 3.91597152e-02],\n",
       "         [9.73358274e-01, 2.66416781e-02],\n",
       "         [9.21798527e-01, 7.82015100e-02],\n",
       "         [7.83583283e-01, 2.16416717e-01],\n",
       "         [7.90161788e-01, 2.09838197e-01],\n",
       "         [4.95338947e-01, 5.04661024e-01],\n",
       "         [7.11735904e-01, 2.88264126e-01],\n",
       "         [8.19843411e-01, 1.80156603e-01],\n",
       "         [2.42356271e-01, 7.57643759e-01],\n",
       "         [4.20892864e-01, 5.79107165e-01],\n",
       "         [6.65965736e-01, 3.34034234e-01],\n",
       "         [8.24710488e-01, 1.75289467e-01],\n",
       "         [9.42899585e-01, 5.71004264e-02],\n",
       "         [9.88253474e-01, 1.17464932e-02],\n",
       "         [5.51210105e-01, 4.48789895e-01],\n",
       "         [9.83523786e-01, 1.64762493e-02],\n",
       "         [6.62545204e-01, 3.37454766e-01],\n",
       "         [9.19529855e-01, 8.04701224e-02],\n",
       "         [2.98592210e-01, 7.01407790e-01],\n",
       "         [8.57832372e-01, 1.42167613e-01],\n",
       "         [9.72667217e-01, 2.73327176e-02],\n",
       "         [5.11280298e-01, 4.88719612e-01],\n",
       "         [8.32856655e-01, 1.67143375e-01],\n",
       "         [7.84452677e-01, 2.15547368e-01],\n",
       "         [8.15720677e-01, 1.84279308e-01],\n",
       "         [8.42025220e-01, 1.57974824e-01],\n",
       "         [7.34009743e-01, 2.65990287e-01],\n",
       "         [7.12693512e-01, 2.87306428e-01],\n",
       "         [9.50407565e-01, 4.95923944e-02],\n",
       "         [8.84410322e-01, 1.15589708e-01],\n",
       "         [9.63164806e-01, 3.68351638e-02],\n",
       "         [9.07438636e-01, 9.25613791e-02],\n",
       "         [7.99133539e-01, 2.00866446e-01],\n",
       "         [9.69287634e-01, 3.07123903e-02],\n",
       "         [9.95101810e-01, 4.89817234e-03],\n",
       "         [8.09358716e-01, 1.90641269e-01],\n",
       "         [5.55383265e-01, 4.44616735e-01],\n",
       "         [9.59429860e-01, 4.05701473e-02],\n",
       "         [8.01186323e-01, 1.98813692e-01],\n",
       "         [9.84345496e-01, 1.56545658e-02],\n",
       "         [9.47264612e-01, 5.27354218e-02],\n",
       "         [9.66441393e-01, 3.35585736e-02],\n",
       "         [9.27449048e-01, 7.25509450e-02],\n",
       "         [8.86074662e-01, 1.13925368e-01],\n",
       "         [6.93048060e-01, 3.06951940e-01],\n",
       "         [5.08611321e-01, 4.91388649e-01],\n",
       "         [7.18173504e-01, 2.81826466e-01],\n",
       "         [8.95553946e-01, 1.04446076e-01]],\n",
       " \n",
       "        [[9.99259770e-01, 7.40206859e-04],\n",
       "         [9.99914885e-01, 8.51058576e-05],\n",
       "         [1.50538917e-05, 9.99984980e-01],\n",
       "         [3.86630636e-05, 9.99961376e-01],\n",
       "         [9.99948621e-01, 5.13991617e-05],\n",
       "         [9.99906659e-01, 9.33333649e-05],\n",
       "         [9.12867254e-04, 9.99087095e-01],\n",
       "         [5.57919800e-01, 4.42080140e-01],\n",
       "         [7.06633925e-01, 2.93366075e-01],\n",
       "         [3.54120851e-01, 6.45879149e-01],\n",
       "         [2.22869858e-01, 7.77130187e-01],\n",
       "         [4.25065190e-01, 5.74934900e-01],\n",
       "         [3.73686701e-01, 6.26313329e-01],\n",
       "         [9.62995410e-01, 3.70045416e-02],\n",
       "         [4.19003576e-01, 5.80996394e-01],\n",
       "         [2.31501669e-01, 7.68498302e-01],\n",
       "         [7.06999838e-01, 2.93000132e-01],\n",
       "         [3.63941818e-01, 6.36058211e-01],\n",
       "         [3.07874262e-01, 6.92125738e-01],\n",
       "         [6.02718890e-01, 3.97281051e-01],\n",
       "         [5.30534148e-01, 4.69465822e-01],\n",
       "         [8.03618371e-01, 1.96381629e-01],\n",
       "         [5.65723240e-01, 4.34276670e-01],\n",
       "         [5.90387344e-01, 4.09612626e-01],\n",
       "         [1.01868875e-01, 8.98131073e-01],\n",
       "         [7.92532444e-01, 2.07467586e-01],\n",
       "         [9.46804464e-01, 5.31955697e-02],\n",
       "         [6.70816898e-01, 3.29183131e-01],\n",
       "         [2.47337386e-01, 7.52662659e-01],\n",
       "         [1.46028027e-01, 8.53972018e-01],\n",
       "         [2.34890878e-01, 7.65109122e-01],\n",
       "         [7.90807605e-01, 2.09192365e-01],\n",
       "         [4.68450040e-01, 5.31549990e-01],\n",
       "         [2.37099767e-01, 7.62900293e-01],\n",
       "         [7.49726772e-01, 2.50273257e-01],\n",
       "         [8.80713344e-01, 1.19286627e-01],\n",
       "         [8.89753938e-01, 1.10246062e-01],\n",
       "         [6.40299499e-01, 3.59700501e-01],\n",
       "         [6.55159950e-01, 3.44840020e-01],\n",
       "         [3.10325742e-01, 6.89674318e-01],\n",
       "         [1.48460105e-01, 8.51539910e-01],\n",
       "         [7.15515852e-01, 2.84484148e-01],\n",
       "         [4.55197781e-01, 5.44802248e-01],\n",
       "         [5.46733618e-01, 4.53266412e-01],\n",
       "         [8.92883360e-01, 1.07116677e-01],\n",
       "         [7.19514012e-01, 2.80486047e-01],\n",
       "         [4.05270159e-01, 5.94729900e-01],\n",
       "         [7.56405532e-01, 2.43594408e-01],\n",
       "         [7.03468919e-01, 2.96531051e-01],\n",
       "         [6.58955753e-01, 3.41044277e-01],\n",
       "         [2.26484373e-01, 7.73515582e-01],\n",
       "         [8.04435313e-01, 1.95564717e-01],\n",
       "         [7.01389685e-02, 9.29861009e-01],\n",
       "         [2.15429172e-01, 7.84570873e-01],\n",
       "         [2.10675672e-01, 7.89324403e-01],\n",
       "         [2.94357985e-01, 7.05641925e-01],\n",
       "         [4.16329831e-01, 5.83670139e-01],\n",
       "         [6.91088855e-01, 3.08911085e-01],\n",
       "         [3.95085722e-01, 6.04914308e-01],\n",
       "         [7.82632649e-01, 2.17367366e-01],\n",
       "         [1.76380411e-01, 8.23619664e-01],\n",
       "         [1.10673174e-01, 8.89326811e-01],\n",
       "         [6.28492892e-01, 3.71507108e-01],\n",
       "         [4.73486364e-01, 5.26513577e-01],\n",
       "         [4.87501889e-01, 5.12498200e-01],\n",
       "         [3.34460139e-02, 9.66553986e-01],\n",
       "         [3.59506279e-01, 6.40493751e-01],\n",
       "         [9.28772092e-01, 7.12278932e-02],\n",
       "         [2.35624224e-01, 7.64375746e-01],\n",
       "         [3.30025524e-01, 6.69974446e-01],\n",
       "         [4.35145080e-01, 5.64854980e-01],\n",
       "         [4.24716741e-01, 5.75283289e-01],\n",
       "         [4.05794352e-01, 5.94205678e-01],\n",
       "         [1.83471382e-01, 8.16528678e-01],\n",
       "         [8.28565300e-01, 1.71434745e-01],\n",
       "         [3.19175839e-01, 6.80824220e-01],\n",
       "         [7.45257914e-01, 2.54742146e-01],\n",
       "         [7.40094960e-01, 2.59904981e-01],\n",
       "         [2.98089355e-01, 7.01910615e-01],\n",
       "         [1.36277720e-01, 8.63722265e-01],\n",
       "         [8.20342302e-01, 1.79657668e-01],\n",
       "         [8.92606139e-01, 1.07393861e-01],\n",
       "         [6.61514342e-01, 3.38485599e-01],\n",
       "         [5.10879397e-01, 4.89120573e-01],\n",
       "         [3.98938090e-01, 6.01061881e-01],\n",
       "         [1.55935183e-01, 8.44064772e-01],\n",
       "         [3.60973597e-01, 6.39026403e-01],\n",
       "         [4.23968762e-01, 5.76031208e-01],\n",
       "         [9.11450535e-02, 9.08854902e-01],\n",
       "         [1.36451602e-01, 8.63548338e-01],\n",
       "         [3.03369194e-01, 6.96630776e-01],\n",
       "         [4.82880890e-01, 5.17119110e-01],\n",
       "         [7.32942581e-01, 2.67057419e-01],\n",
       "         [9.43675101e-01, 5.63249663e-02],\n",
       "         [1.82913646e-01, 8.17086339e-01],\n",
       "         [9.09802437e-01, 9.01975706e-02],\n",
       "         [2.34801844e-01, 7.65198171e-01],\n",
       "         [7.13743806e-01, 2.86256194e-01],\n",
       "         [8.33775625e-02, 9.16622460e-01],\n",
       "         [5.40758848e-01, 4.59241182e-01],\n",
       "         [8.59063387e-01, 1.40936628e-01],\n",
       "         [2.23011568e-01, 7.76988447e-01],\n",
       "         [5.77928960e-01, 4.22070950e-01],\n",
       "         [4.45116639e-01, 5.54883301e-01],\n",
       "         [4.88618076e-01, 5.11381865e-01],\n",
       "         [5.80719650e-01, 4.19280350e-01],\n",
       "         [3.82598490e-01, 6.17401540e-01],\n",
       "         [3.25351745e-01, 6.74648285e-01],\n",
       "         [7.84451544e-01, 2.15548471e-01],\n",
       "         [6.24877334e-01, 3.75122637e-01],\n",
       "         [8.15983772e-01, 1.84016228e-01],\n",
       "         [6.28001511e-01, 3.71998519e-01],\n",
       "         [4.58432466e-01, 5.41567624e-01],\n",
       "         [8.43184114e-01, 1.56815857e-01],\n",
       "         [9.77908552e-01, 2.20914297e-02],\n",
       "         [5.01547933e-01, 4.98452008e-01],\n",
       "         [1.87941417e-01, 8.12058568e-01],\n",
       "         [7.84752727e-01, 2.15247273e-01],\n",
       "         [3.95791084e-01, 6.04208887e-01],\n",
       "         [9.34386075e-01, 6.56139776e-02],\n",
       "         [7.59235919e-01, 2.40764081e-01],\n",
       "         [8.38282049e-01, 1.61717981e-01],\n",
       "         [7.65322685e-01, 2.34677315e-01],\n",
       "         [6.17348850e-01, 3.82651091e-01],\n",
       "         [3.87388617e-01, 6.12611413e-01],\n",
       "         [2.62686640e-01, 7.37313271e-01],\n",
       "         [3.26678663e-01, 6.73321307e-01],\n",
       "         [5.86131930e-01, 4.13868040e-01]]], dtype=float32),\n",
       " 'cls_preds': [0, 1],\n",
       " 'cls_probs': array([[9.9998379e-01, 1.6215283e-05],\n",
       "        [1.7299444e-05, 9.9998271e-01]], dtype=float32)}"
      ]
     },
     "execution_count": 5,
     "metadata": {},
     "output_type": "execute_result"
    }
   ],
   "source": [
    "model.predict(X_tokenized=X_tokenized)"
   ]
  },
  {
   "cell_type": "markdown",
   "id": "institutional-zealand",
   "metadata": {},
   "source": [
    "# 评分"
   ]
  },
  {
   "cell_type": "code",
   "execution_count": 6,
   "id": "arbitrary-pakistan",
   "metadata": {},
   "outputs": [
    {
     "name": "stdout",
     "output_type": "stream",
     "text": [
      "INFO:tensorflow:Time usage 0m-2.32s, 0.43 steps/sec, 0.86 examples/sec\n"
     ]
    },
    {
     "data": {
      "text/plain": [
       "{'seq_cls_accuracy': 1.0,\n",
       " 'cls_accuracy': 1.0,\n",
       " 'seq_cls_loss': 0.00013111078,\n",
       " 'cls_loss': 1.6748765e-05}"
      ]
     },
     "execution_count": 6,
     "metadata": {},
     "output_type": "execute_result"
    }
   ],
   "source": [
    "model.score(X_tokenized=X_tokenized, y=y)"
   ]
  }
 ],
 "metadata": {
  "kernelspec": {
   "display_name": "Python 3",
   "language": "python",
   "name": "python3"
  },
  "language_info": {
   "codemirror_mode": {
    "name": "ipython",
    "version": 3
   },
   "file_extension": ".py",
   "mimetype": "text/x-python",
   "name": "python",
   "nbconvert_exporter": "python",
   "pygments_lexer": "ipython3",
   "version": "3.8.2"
  }
 },
 "nbformat": 4,
 "nbformat_minor": 5
}
