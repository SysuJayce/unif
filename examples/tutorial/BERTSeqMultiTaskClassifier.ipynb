{
 "cells": [
  {
   "cell_type": "code",
   "execution_count": 1,
   "id": "traditional-girlfriend",
   "metadata": {},
   "outputs": [
    {
     "name": "stdout",
     "output_type": "stream",
     "text": [
      "v2.3.1\n"
     ]
    }
   ],
   "source": [
    "import uf\n",
    "\n",
    "print(uf.__version__)"
   ]
  },
  {
   "cell_type": "code",
   "execution_count": 2,
   "id": "affected-titanium",
   "metadata": {},
   "outputs": [
    {
     "name": "stdout",
     "output_type": "stream",
     "text": [
      "uf.BERTSeqMultiTaskClassifier(config_file=\"../../demo/bert_config.json\", vocab_file=\"../../demo/vocab.txt\", max_seq_length=128, seq_cls_label_size=None, cls_label_size=None, init_checkpoint=None, output_dir=None, gpu_ids=None, do_lower_case=True, truncate_method=\"LIFO\")\n"
     ]
    }
   ],
   "source": [
    "model = uf.BERTSeqMultiTaskClassifier('../../demo/bert_config.json', '../../demo/vocab.txt')\n",
    "print(model)"
   ]
  },
  {
   "cell_type": "code",
   "execution_count": 3,
   "id": "joint-scroll",
   "metadata": {},
   "outputs": [],
   "source": [
    "X_tokenized = [['天', '亮', '以', '前', '说', '再', '见'], ['笑', '着', '泪', '流', '满', '面']]\n",
    "y = [{\"seq_cls\": [0, 0, 0, 0, 0, 1, 1], \"cls\": 0}, {\"seq_cls\": [0, 0, 1, 1, 0, 0], \"cls\": 1}]"
   ]
  },
  {
   "cell_type": "markdown",
   "id": "requested-insert",
   "metadata": {},
   "source": [
    "# 训练"
   ]
  },
  {
   "cell_type": "code",
   "execution_count": 4,
   "id": "usual-disposition",
   "metadata": {},
   "outputs": [
    {
     "name": "stdout",
     "output_type": "stream",
     "text": [
      "WARNING:tensorflow:From /Users/geyingli/Library/Python/3.8/lib/python/site-packages/tensorflow/python/util/dispatch.py:1096: calling dropout (from tensorflow.python.ops.nn_ops) with keep_prob is deprecated and will be removed in a future version.\n",
      "Instructions for updating:\n",
      "Please use `rate` instead of `keep_prob`. Rate should be set to `rate = 1 - keep_prob`.\n"
     ]
    },
    {
     "name": "stderr",
     "output_type": "stream",
     "text": [
      "/Users/geyingli/Library/Python/3.8/lib/python/site-packages/uf-2.3.1-py3.8.egg/uf/modeling/bert.py:282: UserWarning: `tf.layers.dense` is deprecated and will be removed in a future version. Please use `tf.keras.layers.Dense` instead.\n",
      "  query_layer = tf.layers.dense(\n",
      "/Users/geyingli/Library/Python/3.8/lib/python/site-packages/keras/legacy_tf_layers/core.py:255: UserWarning: `layer.apply` is deprecated and will be removed in a future version. Please use `layer.__call__` method instead.\n",
      "  return layer.apply(inputs)\n",
      "/Users/geyingli/Library/Python/3.8/lib/python/site-packages/uf-2.3.1-py3.8.egg/uf/modeling/bert.py:291: UserWarning: `tf.layers.dense` is deprecated and will be removed in a future version. Please use `tf.keras.layers.Dense` instead.\n",
      "  key_layer = tf.layers.dense(\n",
      "/Users/geyingli/Library/Python/3.8/lib/python/site-packages/uf-2.3.1-py3.8.egg/uf/modeling/bert.py:300: UserWarning: `tf.layers.dense` is deprecated and will be removed in a future version. Please use `tf.keras.layers.Dense` instead.\n",
      "  value_layer = tf.layers.dense(\n",
      "/Users/geyingli/Library/Python/3.8/lib/python/site-packages/uf-2.3.1-py3.8.egg/uf/modeling/bert.py:430: UserWarning: `tf.layers.dense` is deprecated and will be removed in a future version. Please use `tf.keras.layers.Dense` instead.\n",
      "  attention_output = tf.layers.dense(\n",
      "/Users/geyingli/Library/Python/3.8/lib/python/site-packages/uf-2.3.1-py3.8.egg/uf/modeling/bert.py:445: UserWarning: `tf.layers.dense` is deprecated and will be removed in a future version. Please use `tf.keras.layers.Dense` instead.\n",
      "  intermediate_output = tf.layers.dense(\n",
      "/Users/geyingli/Library/Python/3.8/lib/python/site-packages/uf-2.3.1-py3.8.egg/uf/modeling/bert.py:455: UserWarning: `tf.layers.dense` is deprecated and will be removed in a future version. Please use `tf.keras.layers.Dense` instead.\n",
      "  layer_output = tf.layers.dense(\n",
      "/Users/geyingli/Library/Python/3.8/lib/python/site-packages/uf-2.3.1-py3.8.egg/uf/modeling/bert.py:107: UserWarning: `tf.layers.dense` is deprecated and will be removed in a future version. Please use `tf.keras.layers.Dense` instead.\n",
      "  self.pooled_output = tf.layers.dense(\n"
     ]
    },
    {
     "name": "stdout",
     "output_type": "stream",
     "text": [
      "INFO:tensorflow:Build graph with 305,630,988 parameters (among which 102,270,724 are trainable)\n",
      "INFO:tensorflow:Running local_init_op\n",
      "INFO:tensorflow:Done running local_init_op\n",
      "INFO:tensorflow:Running training on 2 samples (step 0 -> 20)\n",
      "INFO:tensorflow:step 1, seq_cls_accuracy 0.2308, cls_accuracy 0.5000, seq_cls_loss 0.758023, cls_loss 0.916031, 0.13 steps/sec, 0.25 examples/sec\n",
      "INFO:tensorflow:step 2, seq_cls_accuracy 0.3846, cls_accuracy 0.0000, seq_cls_loss 0.767023, cls_loss 1.141217, 0.39 steps/sec, 0.78 examples/sec\n",
      "INFO:tensorflow:step 3, seq_cls_accuracy 0.6923, cls_accuracy 1.0000, seq_cls_loss 0.611560, cls_loss 0.444571, 0.53 steps/sec, 1.06 examples/sec\n",
      "INFO:tensorflow:step 4, seq_cls_accuracy 0.6923, cls_accuracy 1.0000, seq_cls_loss 0.627856, cls_loss 0.043653, 0.55 steps/sec, 1.10 examples/sec\n",
      "INFO:tensorflow:step 5, seq_cls_accuracy 0.9231, cls_accuracy 1.0000, seq_cls_loss 0.248025, cls_loss 0.012085, 0.54 steps/sec, 1.08 examples/sec\n",
      "INFO:tensorflow:step 6, seq_cls_accuracy 1.0000, cls_accuracy 1.0000, seq_cls_loss 0.147958, cls_loss 0.003045, 0.56 steps/sec, 1.12 examples/sec\n",
      "INFO:tensorflow:step 7, seq_cls_accuracy 1.0000, cls_accuracy 1.0000, seq_cls_loss 0.084777, cls_loss 0.001927, 0.56 steps/sec, 1.12 examples/sec\n",
      "INFO:tensorflow:step 8, seq_cls_accuracy 1.0000, cls_accuracy 1.0000, seq_cls_loss 0.018333, cls_loss 0.000688, 0.53 steps/sec, 1.05 examples/sec\n",
      "INFO:tensorflow:step 9, seq_cls_accuracy 1.0000, cls_accuracy 1.0000, seq_cls_loss 0.005871, cls_loss 0.000358, 0.55 steps/sec, 1.09 examples/sec\n",
      "INFO:tensorflow:step 10, seq_cls_accuracy 1.0000, cls_accuracy 1.0000, seq_cls_loss 0.002489, cls_loss 0.000195, 0.55 steps/sec, 1.09 examples/sec\n",
      "INFO:tensorflow:step 11, seq_cls_accuracy 1.0000, cls_accuracy 1.0000, seq_cls_loss 0.001025, cls_loss 0.000207, 0.56 steps/sec, 1.11 examples/sec\n",
      "INFO:tensorflow:step 12, seq_cls_accuracy 1.0000, cls_accuracy 1.0000, seq_cls_loss 0.000627, cls_loss 0.000189, 0.54 steps/sec, 1.09 examples/sec\n",
      "INFO:tensorflow:step 13, seq_cls_accuracy 1.0000, cls_accuracy 1.0000, seq_cls_loss 0.000297, cls_loss 0.000170, 0.55 steps/sec, 1.10 examples/sec\n",
      "INFO:tensorflow:step 14, seq_cls_accuracy 1.0000, cls_accuracy 1.0000, seq_cls_loss 0.000190, cls_loss 0.000170, 0.51 steps/sec, 1.02 examples/sec\n",
      "INFO:tensorflow:step 15, seq_cls_accuracy 1.0000, cls_accuracy 1.0000, seq_cls_loss 0.000092, cls_loss 0.000252, 0.53 steps/sec, 1.05 examples/sec\n",
      "INFO:tensorflow:step 16, seq_cls_accuracy 1.0000, cls_accuracy 1.0000, seq_cls_loss 0.000093, cls_loss 0.000291, 0.55 steps/sec, 1.10 examples/sec\n",
      "INFO:tensorflow:step 17, seq_cls_accuracy 1.0000, cls_accuracy 1.0000, seq_cls_loss 0.000074, cls_loss 0.000259, 0.55 steps/sec, 1.10 examples/sec\n",
      "INFO:tensorflow:step 18, seq_cls_accuracy 1.0000, cls_accuracy 1.0000, seq_cls_loss 0.000050, cls_loss 0.000179, 0.54 steps/sec, 1.08 examples/sec\n",
      "INFO:tensorflow:step 19, seq_cls_accuracy 1.0000, cls_accuracy 1.0000, seq_cls_loss 0.000059, cls_loss 0.000165, 0.53 steps/sec, 1.06 examples/sec\n",
      "INFO:tensorflow:step 20, seq_cls_accuracy 1.0000, cls_accuracy 1.0000, seq_cls_loss 0.000060, cls_loss 0.000178, 0.51 steps/sec, 1.02 examples/sec\n"
     ]
    }
   ],
   "source": [
    "model.fit(X_tokenized=X_tokenized, y=y, total_steps=20)"
   ]
  },
  {
   "cell_type": "markdown",
   "id": "prescription-longitude",
   "metadata": {},
   "source": [
    "# 推理"
   ]
  },
  {
   "cell_type": "code",
   "execution_count": 5,
   "id": "widespread-default",
   "metadata": {},
   "outputs": [
    {
     "name": "stdout",
     "output_type": "stream",
     "text": [
      "INFO:tensorflow:Time usage 0m-1.15s, 0.87 steps/sec, 1.74 examples/sec\n"
     ]
    },
    {
     "data": {
      "text/plain": [
       "{'seq_cls_preds': [[0, 0, 0, 0, 0, 1, 1], [0, 0, 1, 1, 0, 0]],\n",
       " 'seq_cls_probs': array([[[9.99942541e-01, 5.75065351e-05],\n",
       "         [9.99986529e-01, 1.34396605e-05],\n",
       "         [9.99969721e-01, 3.02624994e-05],\n",
       "         [9.99981761e-01, 1.82436634e-05],\n",
       "         [9.99983311e-01, 1.66405935e-05],\n",
       "         [7.11498660e-06, 9.99992847e-01],\n",
       "         [1.02503473e-05, 9.99989748e-01],\n",
       "         [9.92480397e-01, 7.51958974e-03],\n",
       "         [9.87740576e-01, 1.22594042e-02],\n",
       "         [9.94630456e-01, 5.36957011e-03],\n",
       "         [9.99500394e-01, 4.99550020e-04],\n",
       "         [9.97835934e-01, 2.16409238e-03],\n",
       "         [9.95728195e-01, 4.27182531e-03],\n",
       "         [9.97097373e-01, 2.90266238e-03],\n",
       "         [9.97645795e-01, 2.35418463e-03],\n",
       "         [9.95898664e-01, 4.10131179e-03],\n",
       "         [9.95809555e-01, 4.19042166e-03],\n",
       "         [9.97062981e-01, 2.93696462e-03],\n",
       "         [9.63787973e-01, 3.62120531e-02],\n",
       "         [9.92747128e-01, 7.25288317e-03],\n",
       "         [9.97019053e-01, 2.98100617e-03],\n",
       "         [9.94696736e-01, 5.30324271e-03],\n",
       "         [9.96765971e-01, 3.23397340e-03],\n",
       "         [9.88192737e-01, 1.18072378e-02],\n",
       "         [9.96528089e-01, 3.47186974e-03],\n",
       "         [9.96362507e-01, 3.63747962e-03],\n",
       "         [9.78013635e-01, 2.19863523e-02],\n",
       "         [9.98872936e-01, 1.12708809e-03],\n",
       "         [9.95956242e-01, 4.04375046e-03],\n",
       "         [9.79593635e-01, 2.04064008e-02],\n",
       "         [9.96886671e-01, 3.11330473e-03],\n",
       "         [9.98185694e-01, 1.81426865e-03],\n",
       "         [9.98116374e-01, 1.88362331e-03],\n",
       "         [9.71420586e-01, 2.85794381e-02],\n",
       "         [9.86950219e-01, 1.30497823e-02],\n",
       "         [9.91401970e-01, 8.59804451e-03],\n",
       "         [9.15864408e-01, 8.41356218e-02],\n",
       "         [9.64613378e-01, 3.53865661e-02],\n",
       "         [9.96478140e-01, 3.52188712e-03],\n",
       "         [9.98631299e-01, 1.36863696e-03],\n",
       "         [9.77786005e-01, 2.22140532e-02],\n",
       "         [9.81804252e-01, 1.81957129e-02],\n",
       "         [9.94428873e-01, 5.57118515e-03],\n",
       "         [9.28869486e-01, 7.11305141e-02],\n",
       "         [9.98235464e-01, 1.76447548e-03],\n",
       "         [9.97708559e-01, 2.29141652e-03],\n",
       "         [9.99368250e-01, 6.31752948e-04],\n",
       "         [9.76167083e-01, 2.38329545e-02],\n",
       "         [9.99179184e-01, 8.20840476e-04],\n",
       "         [9.85346198e-01, 1.46538196e-02],\n",
       "         [9.95133460e-01, 4.86648874e-03],\n",
       "         [9.89472568e-01, 1.05274366e-02],\n",
       "         [9.85189974e-01, 1.48100238e-02],\n",
       "         [9.88394737e-01, 1.16052134e-02],\n",
       "         [9.96076405e-01, 3.92353348e-03],\n",
       "         [9.98429954e-01, 1.57000194e-03],\n",
       "         [9.78092670e-01, 2.19073165e-02],\n",
       "         [9.96999383e-01, 3.00069479e-03],\n",
       "         [9.98983204e-01, 1.01680774e-03],\n",
       "         [9.97304678e-01, 2.69533414e-03],\n",
       "         [9.91603553e-01, 8.39649327e-03],\n",
       "         [9.98738945e-01, 1.26105384e-03],\n",
       "         [9.81154025e-01, 1.88459903e-02],\n",
       "         [9.99207199e-01, 7.92793697e-04],\n",
       "         [9.96783495e-01, 3.21655185e-03],\n",
       "         [9.92305815e-01, 7.69413961e-03],\n",
       "         [9.88435745e-01, 1.15643078e-02],\n",
       "         [9.96767282e-01, 3.23277665e-03],\n",
       "         [9.85387623e-01, 1.46124093e-02],\n",
       "         [9.95953083e-01, 4.04688390e-03],\n",
       "         [9.98184860e-01, 1.81517052e-03],\n",
       "         [9.96529758e-01, 3.47031467e-03],\n",
       "         [9.91768003e-01, 8.23203288e-03],\n",
       "         [9.97484565e-01, 2.51544919e-03],\n",
       "         [9.92975354e-01, 7.02470262e-03],\n",
       "         [9.97853458e-01, 2.14648223e-03],\n",
       "         [9.55840886e-01, 4.41591218e-02],\n",
       "         [9.96729374e-01, 3.27060791e-03],\n",
       "         [9.94266689e-01, 5.73338009e-03],\n",
       "         [9.93372679e-01, 6.62733009e-03],\n",
       "         [9.98696983e-01, 1.30300794e-03],\n",
       "         [9.99402642e-01, 5.97316248e-04],\n",
       "         [9.96065676e-01, 3.93436663e-03],\n",
       "         [9.92977679e-01, 7.02231424e-03],\n",
       "         [9.99222636e-01, 7.77376059e-04],\n",
       "         [9.47011173e-01, 5.29887825e-02],\n",
       "         [9.97199774e-01, 2.80022924e-03],\n",
       "         [9.12372172e-01, 8.76278505e-02],\n",
       "         [9.92670298e-01, 7.32967257e-03],\n",
       "         [9.99693871e-01, 3.06098576e-04],\n",
       "         [9.89128768e-01, 1.08712269e-02],\n",
       "         [9.91448045e-01, 8.55203811e-03],\n",
       "         [9.82832968e-01, 1.71671007e-02],\n",
       "         [9.85663533e-01, 1.43364985e-02],\n",
       "         [9.76127684e-01, 2.38722898e-02],\n",
       "         [9.87974286e-01, 1.20256804e-02],\n",
       "         [9.88119304e-01, 1.18806977e-02],\n",
       "         [9.97507393e-01, 2.49266392e-03],\n",
       "         [9.96837378e-01, 3.16262501e-03],\n",
       "         [9.94447708e-01, 5.55228628e-03],\n",
       "         [9.90809560e-01, 9.19046346e-03],\n",
       "         [9.97772157e-01, 2.22780555e-03],\n",
       "         [9.95503843e-01, 4.49621957e-03],\n",
       "         [9.98882592e-01, 1.11742062e-03],\n",
       "         [9.99232173e-01, 7.67856371e-04],\n",
       "         [9.71315861e-01, 2.86841039e-02],\n",
       "         [9.98242736e-01, 1.75730081e-03],\n",
       "         [9.92325544e-01, 7.67452782e-03],\n",
       "         [9.99676943e-01, 3.23065469e-04],\n",
       "         [9.98095930e-01, 1.90410740e-03],\n",
       "         [9.96183097e-01, 3.81684280e-03],\n",
       "         [9.37983334e-01, 6.20166622e-02],\n",
       "         [9.94671404e-01, 5.32864826e-03],\n",
       "         [9.99008894e-01, 9.91034554e-04],\n",
       "         [9.83489156e-01, 1.65107753e-02],\n",
       "         [9.64670718e-01, 3.53292711e-02],\n",
       "         [9.94169593e-01, 5.83038665e-03],\n",
       "         [9.98314619e-01, 1.68540713e-03],\n",
       "         [9.98848557e-01, 1.15146104e-03],\n",
       "         [9.97713089e-01, 2.28691427e-03],\n",
       "         [9.96397674e-01, 3.60235875e-03],\n",
       "         [9.96819973e-01, 3.17995972e-03],\n",
       "         [9.81365919e-01, 1.86340306e-02],\n",
       "         [9.99213219e-01, 7.86759774e-04],\n",
       "         [9.76151288e-01, 2.38486547e-02],\n",
       "         [9.95951295e-01, 4.04872326e-03],\n",
       "         [9.98622894e-01, 1.37707405e-03],\n",
       "         [9.99463856e-01, 5.36177773e-04]],\n",
       " \n",
       "        [[9.99953032e-01, 4.69314800e-05],\n",
       "         [9.99982953e-01, 1.69974792e-05],\n",
       "         [1.09900375e-05, 9.99989033e-01],\n",
       "         [1.69336181e-05, 9.99983072e-01],\n",
       "         [9.99990463e-01, 9.54932511e-06],\n",
       "         [9.99964833e-01, 3.51615672e-05],\n",
       "         [4.73422493e-04, 9.99526620e-01],\n",
       "         [9.84333694e-01, 1.56662501e-02],\n",
       "         [9.77576673e-01, 2.24232972e-02],\n",
       "         [9.91678238e-01, 8.32173787e-03],\n",
       "         [9.99180257e-01, 8.19745008e-04],\n",
       "         [9.96138513e-01, 3.86149972e-03],\n",
       "         [9.93526697e-01, 6.47331122e-03],\n",
       "         [9.96711731e-01, 3.28827347e-03],\n",
       "         [9.95185435e-01, 4.81458707e-03],\n",
       "         [9.92672741e-01, 7.32717803e-03],\n",
       "         [9.90829825e-01, 9.17017739e-03],\n",
       "         [9.94590402e-01, 5.40964724e-03],\n",
       "         [9.25473630e-01, 7.45263547e-02],\n",
       "         [9.81652439e-01, 1.83475967e-02],\n",
       "         [9.94874060e-01, 5.12592681e-03],\n",
       "         [9.90134776e-01, 9.86517221e-03],\n",
       "         [9.94760096e-01, 5.23984758e-03],\n",
       "         [9.76073503e-01, 2.39265189e-02],\n",
       "         [9.92869914e-01, 7.13008223e-03],\n",
       "         [9.96199548e-01, 3.80043918e-03],\n",
       "         [9.64966595e-01, 3.50334235e-02],\n",
       "         [9.98489618e-01, 1.51040929e-03],\n",
       "         [9.93489146e-01, 6.51083933e-03],\n",
       "         [9.67427433e-01, 3.25724967e-02],\n",
       "         [9.95756328e-01, 4.24361555e-03],\n",
       "         [9.96812403e-01, 3.18761752e-03],\n",
       "         [9.97219920e-01, 2.78004701e-03],\n",
       "         [9.33986485e-01, 6.60134777e-02],\n",
       "         [9.74314451e-01, 2.56855469e-02],\n",
       "         [9.85247612e-01, 1.47523461e-02],\n",
       "         [8.33096206e-01, 1.66903839e-01],\n",
       "         [9.18120921e-01, 8.18790942e-02],\n",
       "         [9.94492888e-01, 5.50714275e-03],\n",
       "         [9.97889340e-01, 2.11067381e-03],\n",
       "         [9.50344503e-01, 4.96555790e-02],\n",
       "         [9.61499810e-01, 3.85001376e-02],\n",
       "         [9.92440581e-01, 7.55941262e-03],\n",
       "         [8.51337492e-01, 1.48662552e-01],\n",
       "         [9.96785522e-01, 3.21448082e-03],\n",
       "         [9.96264279e-01, 3.73574160e-03],\n",
       "         [9.99112189e-01, 8.87815957e-04],\n",
       "         [9.40707326e-01, 5.92926331e-02],\n",
       "         [9.98766303e-01, 1.23375515e-03],\n",
       "         [9.79549229e-01, 2.04507895e-02],\n",
       "         [9.90600586e-01, 9.39940754e-03],\n",
       "         [9.80499685e-01, 1.95002779e-02],\n",
       "         [9.63971674e-01, 3.60282548e-02],\n",
       "         [9.74721253e-01, 2.52787694e-02],\n",
       "         [9.94839489e-01, 5.16049936e-03],\n",
       "         [9.96260822e-01, 3.73914675e-03],\n",
       "         [9.64984357e-01, 3.50156724e-02],\n",
       "         [9.94253218e-01, 5.74678788e-03],\n",
       "         [9.98580098e-01, 1.41989521e-03],\n",
       "         [9.95612264e-01, 4.38766181e-03],\n",
       "         [9.78884220e-01, 2.11157277e-02],\n",
       "         [9.98325050e-01, 1.67498772e-03],\n",
       "         [9.63196814e-01, 3.68031822e-02],\n",
       "         [9.99088883e-01, 9.11074632e-04],\n",
       "         [9.94843602e-01, 5.15636383e-03],\n",
       "         [9.85978425e-01, 1.40215252e-02],\n",
       "         [9.66739357e-01, 3.32606845e-02],\n",
       "         [9.94903088e-01, 5.09684999e-03],\n",
       "         [9.65939283e-01, 3.40607464e-02],\n",
       "         [9.93458569e-01, 6.54149335e-03],\n",
       "         [9.97132182e-01, 2.86781159e-03],\n",
       "         [9.89473641e-01, 1.05263386e-02],\n",
       "         [9.83245730e-01, 1.67542920e-02],\n",
       "         [9.96558011e-01, 3.44192237e-03],\n",
       "         [9.88119185e-01, 1.18808942e-02],\n",
       "         [9.97109830e-01, 2.89019127e-03],\n",
       "         [9.21189666e-01, 7.88104162e-02],\n",
       "         [9.92831469e-01, 7.16852210e-03],\n",
       "         [9.90382254e-01, 9.61772352e-03],\n",
       "         [9.86996174e-01, 1.30038578e-02],\n",
       "         [9.97318208e-01, 2.68175825e-03],\n",
       "         [9.99184787e-01, 8.15181527e-04],\n",
       "         [9.94524002e-01, 5.47604868e-03],\n",
       "         [9.87505198e-01, 1.24947522e-02],\n",
       "         [9.99086618e-01, 9.13418888e-04],\n",
       "         [9.08768833e-01, 9.12311673e-02],\n",
       "         [9.94491816e-01, 5.50819514e-03],\n",
       "         [8.23533952e-01, 1.76466063e-01],\n",
       "         [9.85961318e-01, 1.40387230e-02],\n",
       "         [9.99479234e-01, 5.20795176e-04],\n",
       "         [9.80655789e-01, 1.93441901e-02],\n",
       "         [9.83668625e-01, 1.63313150e-02],\n",
       "         [9.75813150e-01, 2.41868831e-02],\n",
       "         [9.76824939e-01, 2.31750552e-02],\n",
       "         [9.48166788e-01, 5.18332459e-02],\n",
       "         [9.76519346e-01, 2.34806128e-02],\n",
       "         [9.79443014e-01, 2.05569528e-02],\n",
       "         [9.95906949e-01, 4.09298623e-03],\n",
       "         [9.95528042e-01, 4.47197910e-03],\n",
       "         [9.90745306e-01, 9.25469119e-03],\n",
       "         [9.80483830e-01, 1.95162073e-02],\n",
       "         [9.96498346e-01, 3.50158266e-03],\n",
       "         [9.92981434e-01, 7.01856520e-03],\n",
       "         [9.97704804e-01, 2.29520653e-03],\n",
       "         [9.98607576e-01, 1.39246031e-03],\n",
       "         [9.65582609e-01, 3.44174355e-02],\n",
       "         [9.96637464e-01, 3.36246146e-03],\n",
       "         [9.84573305e-01, 1.54267391e-02],\n",
       "         [9.99646902e-01, 3.53115291e-04],\n",
       "         [9.97864306e-01, 2.13576294e-03],\n",
       "         [9.95423019e-01, 4.57702903e-03],\n",
       "         [8.21541607e-01, 1.78458393e-01],\n",
       "         [9.87405002e-01, 1.25949550e-02],\n",
       "         [9.97918904e-01, 2.08110036e-03],\n",
       "         [9.73265648e-01, 2.67343074e-02],\n",
       "         [9.27570164e-01, 7.24298358e-02],\n",
       "         [9.90947306e-01, 9.05263238e-03],\n",
       "         [9.97336805e-01, 2.66318768e-03],\n",
       "         [9.98270750e-01, 1.72918709e-03],\n",
       "         [9.96252477e-01, 3.74758337e-03],\n",
       "         [9.95391488e-01, 4.60848026e-03],\n",
       "         [9.95509863e-01, 4.49014083e-03],\n",
       "         [9.70259309e-01, 2.97407005e-02],\n",
       "         [9.98769224e-01, 1.23074860e-03],\n",
       "         [9.52690244e-01, 4.73098159e-02],\n",
       "         [9.91989076e-01, 8.01090989e-03],\n",
       "         [9.97956514e-01, 2.04346282e-03],\n",
       "         [9.99419212e-01, 5.80784923e-04]]], dtype=float32),\n",
       " 'cls_preds': [0, 1],\n",
       " 'cls_probs': array([[9.9989402e-01, 1.0599549e-04],\n",
       "        [1.3724939e-04, 9.9986279e-01]], dtype=float32)}"
      ]
     },
     "execution_count": 5,
     "metadata": {},
     "output_type": "execute_result"
    }
   ],
   "source": [
    "model.predict(X_tokenized=X_tokenized)"
   ]
  },
  {
   "cell_type": "markdown",
   "id": "institutional-zealand",
   "metadata": {},
   "source": [
    "# 评分"
   ]
  },
  {
   "cell_type": "code",
   "execution_count": 6,
   "id": "arbitrary-pakistan",
   "metadata": {},
   "outputs": [
    {
     "name": "stdout",
     "output_type": "stream",
     "text": [
      "INFO:tensorflow:Time usage 0m-0.79s, 1.27 steps/sec, 2.54 examples/sec\n"
     ]
    },
    {
     "data": {
      "text/plain": [
       "{'seq_cls_accuracy': 1.0,\n",
       " 'cls_accuracy': 1.0,\n",
       " 'seq_cls_loss': 2.2351382e-05,\n",
       " 'cls_loss': 0.00012158596}"
      ]
     },
     "execution_count": 6,
     "metadata": {},
     "output_type": "execute_result"
    }
   ],
   "source": [
    "model.score(X_tokenized=X_tokenized, y=y)"
   ]
  }
 ],
 "metadata": {
  "kernelspec": {
   "display_name": "Python 3",
   "language": "python",
   "name": "python3"
  },
  "language_info": {
   "codemirror_mode": {
    "name": "ipython",
    "version": 3
   },
   "file_extension": ".py",
   "mimetype": "text/x-python",
   "name": "python",
   "nbconvert_exporter": "python",
   "pygments_lexer": "ipython3",
   "version": "3.8.2"
  }
 },
 "nbformat": 4,
 "nbformat_minor": 5
}
