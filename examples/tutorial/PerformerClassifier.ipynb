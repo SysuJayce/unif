{
 "cells": [
  {
   "cell_type": "markdown",
   "id": "bigger-internet",
   "metadata": {},
   "source": [
    "# PerformerClassifier\n",
    "\n",
    "可用的中文预训练参数：暂无"
   ]
  },
  {
   "cell_type": "code",
   "execution_count": 9,
   "id": "impossible-professor",
   "metadata": {},
   "outputs": [
    {
     "name": "stdout",
     "output_type": "stream",
     "text": [
      "v2.5.10\n"
     ]
    }
   ],
   "source": [
    "import uf\n",
    "\n",
    "print(uf.__version__)"
   ]
  },
  {
   "cell_type": "code",
   "execution_count": 10,
   "id": "minimal-cambodia",
   "metadata": {},
   "outputs": [
    {
     "name": "stdout",
     "output_type": "stream",
     "text": [
      "uf.PerformerClassifier(\n",
      "    config_file=\"../../ref/bert_config.json\",\n",
      "    vocab_file=\"../../ref/vocab.txt\",\n",
      "    max_seq_length=128,\n",
      "    label_size=None,\n",
      "    init_checkpoint=None,\n",
      "    output_dir=None,\n",
      "    gpu_ids=None,\n",
      "    kernel_transformation=\"relu\",\n",
      "    nb_random_features=1,\n",
      "    drop_pooler=False,\n",
      "    do_lower_case=True,\n",
      "    truncate_method=\"LIFO\",\n",
      ")\n"
     ]
    }
   ],
   "source": [
    "model = uf.PerformerClassifier(\"../../ref/bert_config.json\", \"../../ref/vocab.txt\")\n",
    "print(model)"
   ]
  },
  {
   "cell_type": "code",
   "execution_count": 11,
   "id": "forty-marathon",
   "metadata": {},
   "outputs": [],
   "source": [
    "X = [\"天亮以前说再见\", \"笑着泪流满面\", \"去迎接应该你的\", \"更好的明天\"]\n",
    "y = [1, 0, 2, 0]"
   ]
  },
  {
   "cell_type": "markdown",
   "id": "looking-attempt",
   "metadata": {},
   "source": [
    "# 训练"
   ]
  },
  {
   "cell_type": "code",
   "execution_count": 12,
   "id": "sharing-macintosh",
   "metadata": {},
   "outputs": [
    {
     "name": "stdout",
     "output_type": "stream",
     "text": [
      "INFO:tensorflow:Build graph with 327,960,585 parameters (among which 109,320,195 are trainable)\n",
      "INFO:tensorflow:Running local_init_op\n",
      "INFO:tensorflow:Done running local_init_op\n",
      "INFO:tensorflow:Running training on 4 samples (step 0 -> 40)\n",
      "INFO:tensorflow:step 1, accuracy 0.5000, loss 1.041210, 0.14 steps/sec, 0.55 examples/sec\n",
      "INFO:tensorflow:step 2, accuracy 0.2500, loss 1.123456, 0.28 steps/sec, 1.13 examples/sec\n",
      "INFO:tensorflow:step 3, accuracy 0.5000, loss 1.063959, 0.35 steps/sec, 1.40 examples/sec\n",
      "INFO:tensorflow:step 4, accuracy 0.5000, loss 0.980946, 0.38 steps/sec, 1.53 examples/sec\n",
      "INFO:tensorflow:step 5, accuracy 0.5000, loss 0.971303, 0.40 steps/sec, 1.61 examples/sec\n",
      "INFO:tensorflow:step 6, accuracy 0.5000, loss 0.994411, 0.41 steps/sec, 1.64 examples/sec\n",
      "INFO:tensorflow:step 7, accuracy 0.5000, loss 1.000979, 0.39 steps/sec, 1.56 examples/sec\n",
      "INFO:tensorflow:step 8, accuracy 0.5000, loss 0.927678, 0.39 steps/sec, 1.57 examples/sec\n",
      "INFO:tensorflow:step 9, accuracy 0.5000, loss 0.925193, 0.41 steps/sec, 1.64 examples/sec\n",
      "INFO:tensorflow:step 10, accuracy 0.7500, loss 0.770190, 0.42 steps/sec, 1.68 examples/sec\n",
      "INFO:tensorflow:step 11, accuracy 0.7500, loss 0.902493, 0.42 steps/sec, 1.67 examples/sec\n",
      "INFO:tensorflow:step 12, accuracy 1.0000, loss 0.881930, 0.42 steps/sec, 1.67 examples/sec\n",
      "INFO:tensorflow:step 13, accuracy 0.7500, loss 0.802869, 0.42 steps/sec, 1.69 examples/sec\n",
      "INFO:tensorflow:step 14, accuracy 0.7500, loss 0.860140, 0.42 steps/sec, 1.68 examples/sec\n",
      "INFO:tensorflow:step 15, accuracy 0.7500, loss 0.716259, 0.42 steps/sec, 1.67 examples/sec\n",
      "INFO:tensorflow:step 16, accuracy 0.5000, loss 0.809919, 0.42 steps/sec, 1.68 examples/sec\n",
      "INFO:tensorflow:step 17, accuracy 0.5000, loss 0.778941, 0.42 steps/sec, 1.67 examples/sec\n",
      "INFO:tensorflow:step 18, accuracy 0.5000, loss 0.725452, 0.41 steps/sec, 1.65 examples/sec\n",
      "INFO:tensorflow:step 19, accuracy 1.0000, loss 0.664190, 0.42 steps/sec, 1.68 examples/sec\n",
      "INFO:tensorflow:step 20, accuracy 1.0000, loss 0.635177, 0.42 steps/sec, 1.68 examples/sec\n",
      "INFO:tensorflow:step 21, accuracy 1.0000, loss 0.684929, 0.42 steps/sec, 1.67 examples/sec\n",
      "INFO:tensorflow:step 22, accuracy 0.7500, loss 0.717408, 0.42 steps/sec, 1.68 examples/sec\n",
      "INFO:tensorflow:step 23, accuracy 1.0000, loss 0.512627, 0.42 steps/sec, 1.69 examples/sec\n",
      "INFO:tensorflow:step 24, accuracy 1.0000, loss 0.456597, 0.42 steps/sec, 1.67 examples/sec\n",
      "INFO:tensorflow:step 25, accuracy 1.0000, loss 0.423939, 0.42 steps/sec, 1.68 examples/sec\n",
      "INFO:tensorflow:step 26, accuracy 1.0000, loss 0.460172, 0.42 steps/sec, 1.67 examples/sec\n",
      "INFO:tensorflow:step 27, accuracy 0.5000, loss 0.625121, 0.42 steps/sec, 1.67 examples/sec\n",
      "INFO:tensorflow:step 28, accuracy 0.5000, loss 0.533870, 0.42 steps/sec, 1.66 examples/sec\n",
      "INFO:tensorflow:step 29, accuracy 0.7500, loss 0.472731, 0.43 steps/sec, 1.71 examples/sec\n",
      "INFO:tensorflow:step 30, accuracy 1.0000, loss 0.418595, 0.42 steps/sec, 1.66 examples/sec\n",
      "INFO:tensorflow:step 31, accuracy 1.0000, loss 0.290450, 0.42 steps/sec, 1.69 examples/sec\n",
      "INFO:tensorflow:step 32, accuracy 1.0000, loss 0.492175, 0.42 steps/sec, 1.68 examples/sec\n",
      "INFO:tensorflow:step 33, accuracy 1.0000, loss 0.175013, 0.42 steps/sec, 1.69 examples/sec\n",
      "INFO:tensorflow:step 34, accuracy 1.0000, loss 0.283142, 0.42 steps/sec, 1.68 examples/sec\n",
      "INFO:tensorflow:step 35, accuracy 1.0000, loss 0.276666, 0.42 steps/sec, 1.70 examples/sec\n",
      "INFO:tensorflow:step 36, accuracy 1.0000, loss 0.339726, 0.42 steps/sec, 1.68 examples/sec\n",
      "INFO:tensorflow:step 37, accuracy 1.0000, loss 0.257890, 0.42 steps/sec, 1.68 examples/sec\n",
      "INFO:tensorflow:step 38, accuracy 1.0000, loss 0.271654, 0.43 steps/sec, 1.71 examples/sec\n",
      "INFO:tensorflow:step 39, accuracy 1.0000, loss 0.288660, 0.42 steps/sec, 1.68 examples/sec\n",
      "INFO:tensorflow:step 40, accuracy 1.0000, loss 0.257828, 0.42 steps/sec, 1.69 examples/sec\n"
     ]
    }
   ],
   "source": [
    "model.fit(X, y, total_steps=40)"
   ]
  },
  {
   "cell_type": "markdown",
   "id": "studied-mechanism",
   "metadata": {},
   "source": [
    "# 推理"
   ]
  },
  {
   "cell_type": "code",
   "execution_count": 13,
   "id": "funky-diversity",
   "metadata": {},
   "outputs": [
    {
     "name": "stdout",
     "output_type": "stream",
     "text": [
      "INFO:tensorflow:Running inference on 4 samples\n",
      "INFO:tensorflow:process 100.0%, 2.79 examples/sec\n"
     ]
    },
    {
     "data": {
      "text/plain": [
       "{'preds': [1, 0, 2, 0],\n",
       " 'probs': array([[0.07743192, 0.86699855, 0.05556955],\n",
       "        [0.8844118 , 0.06669773, 0.04889051],\n",
       "        [0.03766621, 0.0356979 , 0.9266359 ],\n",
       "        [0.7134322 , 0.11512939, 0.17143838]], dtype=float32)}"
      ]
     },
     "execution_count": 13,
     "metadata": {},
     "output_type": "execute_result"
    }
   ],
   "source": [
    "model.predict(X)"
   ]
  },
  {
   "cell_type": "markdown",
   "id": "every-professor",
   "metadata": {},
   "source": [
    "# 评分"
   ]
  },
  {
   "cell_type": "code",
   "execution_count": 14,
   "id": "great-alpha",
   "metadata": {},
   "outputs": [
    {
     "name": "stdout",
     "output_type": "stream",
     "text": [
      "INFO:tensorflow:Running scoring on 4 samples\n",
      "INFO:tensorflow:process 100.0%, 3.65 examples/sec\n"
     ]
    },
    {
     "data": {
      "text/plain": [
       "{'accuracy': 1.0, 'loss': 0.18161894}"
      ]
     },
     "execution_count": 14,
     "metadata": {},
     "output_type": "execute_result"
    }
   ],
   "source": [
    "model.score(X, y)"
   ]
  }
 ],
 "metadata": {
  "kernelspec": {
   "display_name": "Python 3.9.13 64-bit",
   "language": "python",
   "name": "python3"
  },
  "language_info": {
   "codemirror_mode": {
    "name": "ipython",
    "version": 3
   },
   "file_extension": ".py",
   "mimetype": "text/x-python",
   "name": "python",
   "nbconvert_exporter": "python",
   "pygments_lexer": "ipython3",
   "version": "3.8.2"
  },
  "vscode": {
   "interpreter": {
    "hash": "265fd6f62f200408acbbeae0248f34bed9f93569a643842b7a25d2cd76cae5e5"
   }
  }
 },
 "nbformat": 4,
 "nbformat_minor": 5
}
