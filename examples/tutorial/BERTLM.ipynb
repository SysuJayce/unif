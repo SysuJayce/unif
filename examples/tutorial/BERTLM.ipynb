{
 "cells": [
  {
   "cell_type": "code",
   "execution_count": 1,
   "id": "rotary-academy",
   "metadata": {},
   "outputs": [
    {
     "name": "stdout",
     "output_type": "stream",
     "text": [
      "beta v2.8.0\n"
     ]
    }
   ],
   "source": [
    "import uf\n",
    "\n",
    "print(uf.__version__)"
   ]
  },
  {
   "cell_type": "code",
   "execution_count": 2,
   "id": "velvet-symbol",
   "metadata": {},
   "outputs": [
    {
     "name": "stdout",
     "output_type": "stream",
     "text": [
      "uf.BERTLM(config_file='../demo/bert_config.json', vocab_file='../demo/vocab.txt', max_seq_length=128, init_checkpoint=None, output_dir=None, gpu_ids=None, drop_pooler=False, do_sample_next_sentence=True, max_predictions_per_seq=20, masked_lm_prob=0.15, short_seq_prob=0.1, do_whole_word_mask=False, do_lower_case=True, truncate_method='LIFO')\n"
     ]
    }
   ],
   "source": [
    "model = uf.BERTLM('../../demo/bert_config.json', '../../demo/vocab.txt')\n",
    "print(model)"
   ]
  },
  {
   "cell_type": "code",
   "execution_count": 3,
   "id": "drawn-breathing",
   "metadata": {},
   "outputs": [],
   "source": [
    "X = [['天亮以前说再见，', '笑着泪流满面，', '去迎接应该你的，', '更好的明天。'],    # 每一条样本是一个doc，doc内可以由多个句子组成\n",
    "     '他想知道那是谁, 为何总沉默寡言, 人群中也算抢眼, 抢眼的孤独难免']    # doc也可以是一个完整的文段"
   ]
  },
  {
   "cell_type": "markdown",
   "id": "vanilla-fault",
   "metadata": {},
   "source": [
    "# 训练"
   ]
  },
  {
   "cell_type": "code",
   "execution_count": 4,
   "id": "excellent-religion",
   "metadata": {},
   "outputs": [
    {
     "name": "stdout",
     "output_type": "stream",
     "text": [
      "WARNING:tensorflow:From /Users/geyingli/Library/Python/3.8/lib/python/site-packages/tensorflow/python/util/dispatch.py:201: calling dropout (from tensorflow.python.ops.nn_ops) with keep_prob is deprecated and will be removed in a future version.\n",
      "Instructions for updating:\n",
      "Please use `rate` instead of `keep_prob`. Rate should be set to `rate = 1 - keep_prob`.\n"
     ]
    },
    {
     "name": "stderr",
     "output_type": "stream",
     "text": [
      "/Users/geyingli/Library/Python/3.8/lib/python/site-packages/tensorflow/python/keras/legacy_tf_layers/core.py:171: UserWarning: `tf.layers.dense` is deprecated and will be removed in a future version. Please use `tf.keras.layers.Dense` instead.\n",
      "  warnings.warn('`tf.layers.dense` is deprecated and '\n",
      "/Users/geyingli/Library/Python/3.8/lib/python/site-packages/tensorflow/python/keras/engine/base_layer_v1.py:1719: UserWarning: `layer.apply` is deprecated and will be removed in a future version. Please use `layer.__call__` method instead.\n",
      "  warnings.warn('`layer.apply` is deprecated and '\n"
     ]
    },
    {
     "name": "stdout",
     "output_type": "stream",
     "text": [
      "INFO:tensorflow:Build graph with 308,647,326 parameters (among which 102,882,442 are trainable)\n",
      "INFO:tensorflow:Running local_init_op\n",
      "INFO:tensorflow:Done running local_init_op\n",
      "INFO:tensorflow:Running training on 2 samples (step 0 -> 20)\n",
      "INFO:tensorflow:step 1, MLM accuracy 0.0000, NSP accuracy 0.0000, MLM loss 2.973885, NSP loss 0.823522, 0.15 steps/sec, 0.30 examples/sec\n",
      "INFO:tensorflow:step 2, MLM accuracy 0.4167, NSP accuracy 0.5000, MLM loss 2.559721, NSP loss 0.678631, 0.46 steps/sec, 0.93 examples/sec\n",
      "INFO:tensorflow:step 3, MLM accuracy 0.6667, NSP accuracy 1.0000, MLM loss 2.102174, NSP loss 0.584459, 0.56 steps/sec, 1.13 examples/sec\n",
      "INFO:tensorflow:step 4, MLM accuracy 0.8333, NSP accuracy 0.5000, MLM loss 1.804200, NSP loss 0.630725, 0.56 steps/sec, 1.12 examples/sec\n",
      "INFO:tensorflow:step 5, MLM accuracy 1.0000, NSP accuracy 1.0000, MLM loss 1.580568, NSP loss 0.531474, 0.54 steps/sec, 1.09 examples/sec\n",
      "INFO:tensorflow:step 6, MLM accuracy 1.0000, NSP accuracy 1.0000, MLM loss 1.360246, NSP loss 0.430593, 0.52 steps/sec, 1.05 examples/sec\n",
      "INFO:tensorflow:step 7, MLM accuracy 1.0000, NSP accuracy 1.0000, MLM loss 1.194667, NSP loss 0.417370, 0.57 steps/sec, 1.13 examples/sec\n",
      "INFO:tensorflow:step 8, MLM accuracy 1.0000, NSP accuracy 1.0000, MLM loss 1.072758, NSP loss 0.287706, 0.56 steps/sec, 1.13 examples/sec\n",
      "INFO:tensorflow:step 9, MLM accuracy 1.0000, NSP accuracy 1.0000, MLM loss 0.946881, NSP loss 0.247211, 0.55 steps/sec, 1.10 examples/sec\n",
      "INFO:tensorflow:step 10, MLM accuracy 1.0000, NSP accuracy 1.0000, MLM loss 0.776515, NSP loss 0.204084, 0.50 steps/sec, 1.01 examples/sec\n",
      "INFO:tensorflow:step 11, MLM accuracy 1.0000, NSP accuracy 1.0000, MLM loss 0.708408, NSP loss 0.124144, 0.54 steps/sec, 1.08 examples/sec\n",
      "INFO:tensorflow:step 12, MLM accuracy 1.0000, NSP accuracy 1.0000, MLM loss 0.635683, NSP loss 0.116074, 0.53 steps/sec, 1.07 examples/sec\n",
      "INFO:tensorflow:step 13, MLM accuracy 1.0000, NSP accuracy 1.0000, MLM loss 0.573057, NSP loss 0.060441, 0.56 steps/sec, 1.12 examples/sec\n",
      "INFO:tensorflow:step 14, MLM accuracy 1.0000, NSP accuracy 1.0000, MLM loss 0.508750, NSP loss 0.061563, 0.56 steps/sec, 1.11 examples/sec\n",
      "INFO:tensorflow:step 15, MLM accuracy 1.0000, NSP accuracy 1.0000, MLM loss 0.479996, NSP loss 0.044880, 0.57 steps/sec, 1.13 examples/sec\n",
      "INFO:tensorflow:step 16, MLM accuracy 1.0000, NSP accuracy 1.0000, MLM loss 0.430831, NSP loss 0.050881, 0.57 steps/sec, 1.13 examples/sec\n",
      "INFO:tensorflow:step 17, MLM accuracy 1.0000, NSP accuracy 1.0000, MLM loss 0.398553, NSP loss 0.037632, 0.57 steps/sec, 1.14 examples/sec\n",
      "INFO:tensorflow:step 18, MLM accuracy 1.0000, NSP accuracy 1.0000, MLM loss 0.378625, NSP loss 0.041030, 0.55 steps/sec, 1.10 examples/sec\n",
      "INFO:tensorflow:step 19, MLM accuracy 1.0000, NSP accuracy 1.0000, MLM loss 0.347210, NSP loss 0.044134, 0.57 steps/sec, 1.13 examples/sec\n",
      "INFO:tensorflow:step 20, MLM accuracy 1.0000, NSP accuracy 1.0000, MLM loss 0.343026, NSP loss 0.038742, 0.55 steps/sec, 1.09 examples/sec\n"
     ]
    }
   ],
   "source": [
    "model.fit(X, total_steps=20)"
   ]
  },
  {
   "cell_type": "markdown",
   "id": "fallen-hundred",
   "metadata": {},
   "source": [
    "# 推理"
   ]
  },
  {
   "cell_type": "code",
   "execution_count": 5,
   "id": "opposite-pantyhose",
   "metadata": {},
   "outputs": [
    {
     "name": "stdout",
     "output_type": "stream",
     "text": [
      "INFO:tensorflow:Time usage 0m-0.96s, 1.05 steps/sec, 1.05 examples/sec\n"
     ]
    },
    {
     "data": {
      "text/plain": [
       "{'mlm_preds': [['眼']],\n",
       " 'nsp_preds': [1],\n",
       " 'nsp_probs': array([[0.00799048, 0.9920095 ]], dtype=float32)}"
      ]
     },
     "execution_count": 5,
     "metadata": {},
     "output_type": "execute_result"
    }
   ],
   "source": [
    "X_tokenized = [['天', '亮', '以', '[MASK]', '说', '再', '见']]    # 可以手动赋予Mask\n",
    "model.predict(X_tokenized=X_tokenized)"
   ]
  }
 ],
 "metadata": {
  "kernelspec": {
   "display_name": "Python 3",
   "language": "python",
   "name": "python3"
  },
  "language_info": {
   "codemirror_mode": {
    "name": "ipython",
    "version": 3
   },
   "file_extension": ".py",
   "mimetype": "text/x-python",
   "name": "python",
   "nbconvert_exporter": "python",
   "pygments_lexer": "ipython3",
   "version": "3.8.2"
  }
 },
 "nbformat": 4,
 "nbformat_minor": 5
}
