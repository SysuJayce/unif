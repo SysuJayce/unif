{
 "cells": [
  {
   "cell_type": "code",
   "execution_count": 1,
   "id": "rotary-academy",
   "metadata": {},
   "outputs": [
    {
     "name": "stdout",
     "output_type": "stream",
     "text": [
      "v2.3.2\n"
     ]
    }
   ],
   "source": [
    "import uf\n",
    "\n",
    "print(uf.__version__)"
   ]
  },
  {
   "cell_type": "code",
   "execution_count": 2,
   "id": "velvet-symbol",
   "metadata": {},
   "outputs": [
    {
     "name": "stdout",
     "output_type": "stream",
     "text": [
      "uf.BERTLM(config_file=\"../../demo/bert_config.json\", vocab_file=\"../../demo/vocab.txt\", max_seq_length=128, init_checkpoint=None, output_dir=None, gpu_ids=None, drop_pooler=False, do_sample_next_sentence=True, max_predictions_per_seq=20, masked_lm_prob=0.15, short_seq_prob=0.1, do_whole_word_mask=False, do_lower_case=True, truncate_method=\"LIFO\")\n"
     ]
    }
   ],
   "source": [
    "model = uf.BERTLM('../../demo/bert_config.json', '../../demo/vocab.txt')\n",
    "print(model)"
   ]
  },
  {
   "cell_type": "code",
   "execution_count": 3,
   "id": "drawn-breathing",
   "metadata": {},
   "outputs": [],
   "source": [
    "X = [['天亮以前说再见，', '笑着泪流满面，', '去迎接应该你的，', '更好的明天。'],    # 每一条样本是一个doc，doc内可以由多个句子组成\n",
    "     '他想知道那是谁, 为何总沉默寡言, 人群中也算抢眼, 抢眼的孤独难免']    # doc也可以是一个完整的文段"
   ]
  },
  {
   "cell_type": "markdown",
   "id": "vanilla-fault",
   "metadata": {},
   "source": [
    "# 训练"
   ]
  },
  {
   "cell_type": "code",
   "execution_count": 4,
   "id": "excellent-religion",
   "metadata": {},
   "outputs": [
    {
     "name": "stdout",
     "output_type": "stream",
     "text": [
      "WARNING:tensorflow:From /Users/geyingli/Library/Python/3.8/lib/python/site-packages/tensorflow/python/util/dispatch.py:1096: calling dropout (from tensorflow.python.ops.nn_ops) with keep_prob is deprecated and will be removed in a future version.\n",
      "Instructions for updating:\n",
      "Please use `rate` instead of `keep_prob`. Rate should be set to `rate = 1 - keep_prob`.\n"
     ]
    },
    {
     "name": "stderr",
     "output_type": "stream",
     "text": [
      "/Users/geyingli/Library/Python/3.8/lib/python/site-packages/uf-2.3.2-py3.8.egg/uf/modeling/bert.py:282: UserWarning: `tf.layers.dense` is deprecated and will be removed in a future version. Please use `tf.keras.layers.Dense` instead.\n",
      "  query_layer = tf.layers.dense(\n",
      "/Users/geyingli/Library/Python/3.8/lib/python/site-packages/keras/legacy_tf_layers/core.py:255: UserWarning: `layer.apply` is deprecated and will be removed in a future version. Please use `layer.__call__` method instead.\n",
      "  return layer.apply(inputs)\n",
      "/Users/geyingli/Library/Python/3.8/lib/python/site-packages/uf-2.3.2-py3.8.egg/uf/modeling/bert.py:291: UserWarning: `tf.layers.dense` is deprecated and will be removed in a future version. Please use `tf.keras.layers.Dense` instead.\n",
      "  key_layer = tf.layers.dense(\n",
      "/Users/geyingli/Library/Python/3.8/lib/python/site-packages/uf-2.3.2-py3.8.egg/uf/modeling/bert.py:300: UserWarning: `tf.layers.dense` is deprecated and will be removed in a future version. Please use `tf.keras.layers.Dense` instead.\n",
      "  value_layer = tf.layers.dense(\n",
      "/Users/geyingli/Library/Python/3.8/lib/python/site-packages/uf-2.3.2-py3.8.egg/uf/modeling/bert.py:430: UserWarning: `tf.layers.dense` is deprecated and will be removed in a future version. Please use `tf.keras.layers.Dense` instead.\n",
      "  attention_output = tf.layers.dense(\n",
      "/Users/geyingli/Library/Python/3.8/lib/python/site-packages/uf-2.3.2-py3.8.egg/uf/modeling/bert.py:445: UserWarning: `tf.layers.dense` is deprecated and will be removed in a future version. Please use `tf.keras.layers.Dense` instead.\n",
      "  intermediate_output = tf.layers.dense(\n",
      "/Users/geyingli/Library/Python/3.8/lib/python/site-packages/uf-2.3.2-py3.8.egg/uf/modeling/bert.py:455: UserWarning: `tf.layers.dense` is deprecated and will be removed in a future version. Please use `tf.keras.layers.Dense` instead.\n",
      "  layer_output = tf.layers.dense(\n",
      "/Users/geyingli/Library/Python/3.8/lib/python/site-packages/uf-2.3.2-py3.8.egg/uf/modeling/bert.py:107: UserWarning: `tf.layers.dense` is deprecated and will be removed in a future version. Please use `tf.keras.layers.Dense` instead.\n",
      "  self.pooled_output = tf.layers.dense(\n",
      "/Users/geyingli/Library/Python/3.8/lib/python/site-packages/uf-2.3.2-py3.8.egg/uf/modeling/bert.py:522: UserWarning: `tf.layers.dense` is deprecated and will be removed in a future version. Please use `tf.keras.layers.Dense` instead.\n",
      "  input_tensor = tf.layers.dense(\n"
     ]
    },
    {
     "name": "stdout",
     "output_type": "stream",
     "text": [
      "INFO:tensorflow:Build graph with 308,647,326 parameters (among which 102,882,442 are trainable)\n",
      "INFO:tensorflow:Running local_init_op\n",
      "INFO:tensorflow:Done running local_init_op\n",
      "INFO:tensorflow:Running training on 3 samples (step 0 -> 20)\n",
      "INFO:tensorflow:step 1, MLM accuracy 0.0000, NSP accuracy 0.3333, MLM loss 2.661186, NSP loss 0.778593, 0.02 steps/sec, 0.06 examples/sec\n",
      "INFO:tensorflow:step 2, MLM accuracy 0.2500, NSP accuracy 0.6667, MLM loss 2.279084, NSP loss 0.664306, 0.10 steps/sec, 0.30 examples/sec\n",
      "INFO:tensorflow:step 3, MLM accuracy 0.3750, NSP accuracy 0.6667, MLM loss 1.949496, NSP loss 0.621290, 0.09 steps/sec, 0.27 examples/sec\n",
      "INFO:tensorflow:step 4, MLM accuracy 0.3750, NSP accuracy 0.6667, MLM loss 1.709777, NSP loss 0.581355, 0.24 steps/sec, 0.72 examples/sec\n",
      "INFO:tensorflow:step 5, MLM accuracy 0.3750, NSP accuracy 0.6667, MLM loss 1.519466, NSP loss 0.585386, 0.25 steps/sec, 0.76 examples/sec\n",
      "INFO:tensorflow:step 6, MLM accuracy 0.7500, NSP accuracy 1.0000, MLM loss 1.312396, NSP loss 0.512679, 0.28 steps/sec, 0.83 examples/sec\n",
      "INFO:tensorflow:step 7, MLM accuracy 0.9375, NSP accuracy 0.6667, MLM loss 1.161749, NSP loss 0.463351, 0.26 steps/sec, 0.77 examples/sec\n",
      "INFO:tensorflow:step 8, MLM accuracy 0.9375, NSP accuracy 0.6667, MLM loss 1.034276, NSP loss 0.433039, 0.22 steps/sec, 0.67 examples/sec\n",
      "INFO:tensorflow:step 9, MLM accuracy 1.0000, NSP accuracy 1.0000, MLM loss 0.922384, NSP loss 0.322487, 0.23 steps/sec, 0.70 examples/sec\n",
      "INFO:tensorflow:step 10, MLM accuracy 1.0000, NSP accuracy 1.0000, MLM loss 0.813567, NSP loss 0.347051, 0.25 steps/sec, 0.76 examples/sec\n",
      "INFO:tensorflow:step 11, MLM accuracy 1.0000, NSP accuracy 1.0000, MLM loss 0.735430, NSP loss 0.257477, 0.28 steps/sec, 0.84 examples/sec\n",
      "INFO:tensorflow:step 12, MLM accuracy 1.0000, NSP accuracy 1.0000, MLM loss 0.660877, NSP loss 0.193539, 0.28 steps/sec, 0.85 examples/sec\n",
      "INFO:tensorflow:step 13, MLM accuracy 1.0000, NSP accuracy 1.0000, MLM loss 0.607911, NSP loss 0.151737, 0.26 steps/sec, 0.79 examples/sec\n",
      "INFO:tensorflow:step 14, MLM accuracy 1.0000, NSP accuracy 1.0000, MLM loss 0.564338, NSP loss 0.122386, 0.26 steps/sec, 0.77 examples/sec\n",
      "INFO:tensorflow:step 15, MLM accuracy 1.0000, NSP accuracy 1.0000, MLM loss 0.510843, NSP loss 0.072554, 0.24 steps/sec, 0.73 examples/sec\n",
      "INFO:tensorflow:step 16, MLM accuracy 1.0000, NSP accuracy 1.0000, MLM loss 0.478226, NSP loss 0.077115, 0.23 steps/sec, 0.70 examples/sec\n",
      "INFO:tensorflow:step 17, MLM accuracy 1.0000, NSP accuracy 1.0000, MLM loss 0.444327, NSP loss 0.060241, 0.18 steps/sec, 0.53 examples/sec\n",
      "INFO:tensorflow:step 18, MLM accuracy 1.0000, NSP accuracy 1.0000, MLM loss 0.431049, NSP loss 0.058147, 0.26 steps/sec, 0.78 examples/sec\n",
      "INFO:tensorflow:step 19, MLM accuracy 1.0000, NSP accuracy 1.0000, MLM loss 0.408533, NSP loss 0.048546, 0.36 steps/sec, 1.07 examples/sec\n",
      "INFO:tensorflow:step 20, MLM accuracy 1.0000, NSP accuracy 1.0000, MLM loss 0.402907, NSP loss 0.056875, 0.46 steps/sec, 1.38 examples/sec\n"
     ]
    }
   ],
   "source": [
    "model.fit(X, total_steps=20)"
   ]
  },
  {
   "cell_type": "markdown",
   "id": "fallen-hundred",
   "metadata": {},
   "source": [
    "# 推理"
   ]
  },
  {
   "cell_type": "code",
   "execution_count": 5,
   "id": "opposite-pantyhose",
   "metadata": {},
   "outputs": [
    {
     "name": "stdout",
     "output_type": "stream",
     "text": [
      "INFO:tensorflow:Time usage 0m-1.79s, 0.56 steps/sec, 0.56 examples/sec\n"
     ]
    },
    {
     "data": {
      "text/plain": [
       "{'mlm_preds': [[',']],\n",
       " 'nsp_preds': [1],\n",
       " 'nsp_probs': array([[0.2838114, 0.7161886]], dtype=float32)}"
      ]
     },
     "execution_count": 5,
     "metadata": {},
     "output_type": "execute_result"
    }
   ],
   "source": [
    "X_tokenized = [['天', '亮', '以', '[MASK]', '说', '再', '见']]    # 可以手动赋予Mask\n",
    "model.predict(X_tokenized=X_tokenized)"
   ]
  }
 ],
 "metadata": {
  "kernelspec": {
   "display_name": "Python 3",
   "language": "python",
   "name": "python3"
  },
  "language_info": {
   "codemirror_mode": {
    "name": "ipython",
    "version": 3
   },
   "file_extension": ".py",
   "mimetype": "text/x-python",
   "name": "python",
   "nbconvert_exporter": "python",
   "pygments_lexer": "ipython3",
   "version": "3.8.2"
  }
 },
 "nbformat": 4,
 "nbformat_minor": 5
}
