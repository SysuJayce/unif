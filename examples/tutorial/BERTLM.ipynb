{
 "cells": [
  {
   "cell_type": "markdown",
   "id": "urban-divorce",
   "metadata": {},
   "source": [
    "# BERTLM\n",
    "\n",
    "可用的中文预训练参数：[`bert-base`](https://storage.googleapis.com/bert_models/2018_11_03/chinese_L-12_H-768_A-12.zip),[`roberta-wwm-ext-base`](https://drive.google.com/uc?export=download&id=1jMAKIJmPn7kADgD3yQZhpsqM-IRM1qZt),[`roberta-wwm-ext-large`](https://drive.google.com/uc?export=download&id=1dtad0FFzG11CBsawu8hvwwzU2R0FDI94),[`macbert-base`](https://drive.google.com/uc?export=download&id=1aV69OhYzIwj_hn-kO1RiBa-m8QAusQ5b),[`macbert-large`](https://drive.google.com/uc?export=download&id=1lWYxnk1EqTA2Q20_IShxBrCPc5VSDCkT)"
   ]
  },
  {
   "cell_type": "code",
   "execution_count": 1,
   "id": "rotary-academy",
   "metadata": {},
   "outputs": [
    {
     "name": "stdout",
     "output_type": "stream",
     "text": [
      "v2.4.5\n"
     ]
    }
   ],
   "source": [
    "import uf\n",
    "\n",
    "print(uf.__version__)"
   ]
  },
  {
   "cell_type": "code",
   "execution_count": 2,
   "id": "velvet-symbol",
   "metadata": {},
   "outputs": [
    {
     "name": "stdout",
     "output_type": "stream",
     "text": [
      "uf.BERTLM(\n",
      "    config_file=\"../../demo/bert_config.json\",\n",
      "    vocab_file=\"../../demo/vocab.txt\",\n",
      "    max_seq_length=128,\n",
      "    init_checkpoint=None,\n",
      "    output_dir=None,\n",
      "    gpu_ids=None,\n",
      "    drop_pooler=False,\n",
      "    do_sample_next_sentence=True,\n",
      "    max_predictions_per_seq=20,\n",
      "    masked_lm_prob=0.15,\n",
      "    short_seq_prob=0.1,\n",
      "    do_whole_word_mask=False,\n",
      "    do_lower_case=True,\n",
      "    truncate_method=\"LIFO\",\n",
      ")\n"
     ]
    }
   ],
   "source": [
    "model = uf.BERTLM('../../demo/bert_config.json', '../../demo/vocab.txt')\n",
    "print(model)"
   ]
  },
  {
   "cell_type": "code",
   "execution_count": 3,
   "id": "drawn-breathing",
   "metadata": {},
   "outputs": [],
   "source": [
    "X = [['天亮以前说再见，', '笑着泪流满面，', '去迎接应该你的，', '更好的明天。'],    # 每一条样本是一个doc，doc内可以由多个句子组成\n",
    "     '他想知道那是谁, 为何总沉默寡言, 人群中也算抢眼, 抢眼的孤独难免']    # doc也可以是一个完整的文段"
   ]
  },
  {
   "cell_type": "markdown",
   "id": "vanilla-fault",
   "metadata": {},
   "source": [
    "# 训练"
   ]
  },
  {
   "cell_type": "code",
   "execution_count": 4,
   "id": "excellent-religion",
   "metadata": {},
   "outputs": [
    {
     "name": "stdout",
     "output_type": "stream",
     "text": [
      "WARNING:tensorflow:From /Users/geyingli/Library/Python/3.8/lib/python/site-packages/tensorflow/python/util/dispatch.py:1096: calling dropout (from tensorflow.python.ops.nn_ops) with keep_prob is deprecated and will be removed in a future version.\n",
      "Instructions for updating:\n",
      "Please use `rate` instead of `keep_prob`. Rate should be set to `rate = 1 - keep_prob`.\n"
     ]
    },
    {
     "name": "stderr",
     "output_type": "stream",
     "text": [
      "/Users/geyingli/Library/Python/3.8/lib/python/site-packages/uf-2.4.5-py3.8.egg/uf/model/bert.py:272: UserWarning: `tf.layers.dense` is deprecated and will be removed in a future version. Please use `tf.keras.layers.Dense` instead.\n",
      "  query_layer = tf.layers.dense(\n",
      "/Users/geyingli/Library/Python/3.8/lib/python/site-packages/keras/legacy_tf_layers/core.py:255: UserWarning: `layer.apply` is deprecated and will be removed in a future version. Please use `layer.__call__` method instead.\n",
      "  return layer.apply(inputs)\n",
      "/Users/geyingli/Library/Python/3.8/lib/python/site-packages/uf-2.4.5-py3.8.egg/uf/model/bert.py:282: UserWarning: `tf.layers.dense` is deprecated and will be removed in a future version. Please use `tf.keras.layers.Dense` instead.\n",
      "  key_layer = tf.layers.dense(\n",
      "/Users/geyingli/Library/Python/3.8/lib/python/site-packages/uf-2.4.5-py3.8.egg/uf/model/bert.py:292: UserWarning: `tf.layers.dense` is deprecated and will be removed in a future version. Please use `tf.keras.layers.Dense` instead.\n",
      "  value_layer = tf.layers.dense(\n",
      "/Users/geyingli/Library/Python/3.8/lib/python/site-packages/uf-2.4.5-py3.8.egg/uf/model/bert.py:416: UserWarning: `tf.layers.dense` is deprecated and will be removed in a future version. Please use `tf.keras.layers.Dense` instead.\n",
      "  attention_output = tf.layers.dense(\n",
      "/Users/geyingli/Library/Python/3.8/lib/python/site-packages/uf-2.4.5-py3.8.egg/uf/model/bert.py:428: UserWarning: `tf.layers.dense` is deprecated and will be removed in a future version. Please use `tf.keras.layers.Dense` instead.\n",
      "  intermediate_output = tf.layers.dense(\n",
      "/Users/geyingli/Library/Python/3.8/lib/python/site-packages/uf-2.4.5-py3.8.egg/uf/model/bert.py:438: UserWarning: `tf.layers.dense` is deprecated and will be removed in a future version. Please use `tf.keras.layers.Dense` instead.\n",
      "  layer_output = tf.layers.dense(\n",
      "/Users/geyingli/Library/Python/3.8/lib/python/site-packages/uf-2.4.5-py3.8.egg/uf/model/bert.py:107: UserWarning: `tf.layers.dense` is deprecated and will be removed in a future version. Please use `tf.keras.layers.Dense` instead.\n",
      "  self.pooled_output = tf.layers.dense(\n",
      "/Users/geyingli/Library/Python/3.8/lib/python/site-packages/uf-2.4.5-py3.8.egg/uf/model/bert.py:500: UserWarning: `tf.layers.dense` is deprecated and will be removed in a future version. Please use `tf.keras.layers.Dense` instead.\n",
      "  input_tensor = tf.layers.dense(\n"
     ]
    },
    {
     "name": "stdout",
     "output_type": "stream",
     "text": [
      "INFO:tensorflow:Build graph with 308,647,326 parameters (among which 102,882,442 are trainable)\n",
      "INFO:tensorflow:Running local_init_op\n",
      "INFO:tensorflow:Done running local_init_op\n",
      "INFO:tensorflow:Running training on 2 samples (step 0 -> 20)\n",
      "INFO:tensorflow:step 1, MLM accuracy 0.0000, NSP accuracy 0.5000, MLM loss 2.695972, NSP loss 0.637346, 0.02 steps/sec, 0.04 examples/sec\n",
      "INFO:tensorflow:step 2, MLM accuracy 0.4545, NSP accuracy 1.0000, MLM loss 2.228151, NSP loss 0.584106, 0.13 steps/sec, 0.26 examples/sec\n",
      "INFO:tensorflow:step 3, MLM accuracy 0.9091, NSP accuracy 1.0000, MLM loss 1.904153, NSP loss 0.421255, 0.14 steps/sec, 0.28 examples/sec\n",
      "INFO:tensorflow:step 4, MLM accuracy 1.0000, NSP accuracy 1.0000, MLM loss 1.593701, NSP loss 0.305493, 0.25 steps/sec, 0.50 examples/sec\n",
      "INFO:tensorflow:step 5, MLM accuracy 1.0000, NSP accuracy 1.0000, MLM loss 1.360485, NSP loss 0.164061, 0.14 steps/sec, 0.29 examples/sec\n",
      "INFO:tensorflow:step 6, MLM accuracy 1.0000, NSP accuracy 1.0000, MLM loss 1.186190, NSP loss 0.097959, 0.14 steps/sec, 0.28 examples/sec\n",
      "INFO:tensorflow:step 7, MLM accuracy 1.0000, NSP accuracy 1.0000, MLM loss 1.026163, NSP loss 0.052978, 0.25 steps/sec, 0.49 examples/sec\n",
      "INFO:tensorflow:step 8, MLM accuracy 1.0000, NSP accuracy 1.0000, MLM loss 0.882618, NSP loss 0.043836, 0.13 steps/sec, 0.26 examples/sec\n",
      "INFO:tensorflow:step 9, MLM accuracy 1.0000, NSP accuracy 1.0000, MLM loss 0.780697, NSP loss 0.035309, 0.09 steps/sec, 0.19 examples/sec\n",
      "INFO:tensorflow:step 10, MLM accuracy 1.0000, NSP accuracy 1.0000, MLM loss 0.660927, NSP loss 0.035716, 0.07 steps/sec, 0.15 examples/sec\n",
      "INFO:tensorflow:step 11, MLM accuracy 1.0000, NSP accuracy 1.0000, MLM loss 0.581594, NSP loss 0.035341, 0.07 steps/sec, 0.14 examples/sec\n",
      "INFO:tensorflow:step 12, MLM accuracy 1.0000, NSP accuracy 1.0000, MLM loss 0.524264, NSP loss 0.028665, 0.08 steps/sec, 0.16 examples/sec\n",
      "INFO:tensorflow:step 13, MLM accuracy 1.0000, NSP accuracy 1.0000, MLM loss 0.459857, NSP loss 0.023570, 0.09 steps/sec, 0.19 examples/sec\n",
      "INFO:tensorflow:step 14, MLM accuracy 1.0000, NSP accuracy 1.0000, MLM loss 0.426259, NSP loss 0.020471, 0.11 steps/sec, 0.23 examples/sec\n",
      "INFO:tensorflow:step 15, MLM accuracy 1.0000, NSP accuracy 1.0000, MLM loss 0.380163, NSP loss 0.019750, 0.22 steps/sec, 0.43 examples/sec\n",
      "INFO:tensorflow:step 16, MLM accuracy 1.0000, NSP accuracy 1.0000, MLM loss 0.349257, NSP loss 0.018592, 0.20 steps/sec, 0.41 examples/sec\n",
      "INFO:tensorflow:step 17, MLM accuracy 1.0000, NSP accuracy 1.0000, MLM loss 0.321550, NSP loss 0.014975, 0.34 steps/sec, 0.69 examples/sec\n",
      "INFO:tensorflow:step 18, MLM accuracy 1.0000, NSP accuracy 1.0000, MLM loss 0.310374, NSP loss 0.015002, 0.15 steps/sec, 0.30 examples/sec\n",
      "INFO:tensorflow:step 19, MLM accuracy 1.0000, NSP accuracy 1.0000, MLM loss 0.294894, NSP loss 0.015736, 0.16 steps/sec, 0.32 examples/sec\n",
      "INFO:tensorflow:step 20, MLM accuracy 1.0000, NSP accuracy 1.0000, MLM loss 0.291397, NSP loss 0.011819, 0.18 steps/sec, 0.37 examples/sec\n"
     ]
    }
   ],
   "source": [
    "model.fit(X, total_steps=20)"
   ]
  },
  {
   "cell_type": "markdown",
   "id": "fallen-hundred",
   "metadata": {},
   "source": [
    "# 推理"
   ]
  },
  {
   "cell_type": "code",
   "execution_count": 5,
   "id": "opposite-pantyhose",
   "metadata": {},
   "outputs": [
    {
     "name": "stdout",
     "output_type": "stream",
     "text": [
      "INFO:tensorflow:Time usage 0m-5.52s, 0.18 steps/sec, 0.18 examples/sec\n"
     ]
    },
    {
     "data": {
      "text/plain": [
       "{'mlm_preds': [['免']],\n",
       " 'nsp_preds': [1],\n",
       " 'nsp_probs': array([[0.00459869, 0.99540126]], dtype=float32)}"
      ]
     },
     "execution_count": 5,
     "metadata": {},
     "output_type": "execute_result"
    }
   ],
   "source": [
    "X_tokenized = [['天', '亮', '以', '[MASK]', '说', '再', '见']]    # 可以手动赋予Mask\n",
    "model.predict(X_tokenized=X_tokenized)"
   ]
  }
 ],
 "metadata": {
  "kernelspec": {
   "display_name": "Python 3",
   "language": "python",
   "name": "python3"
  },
  "language_info": {
   "codemirror_mode": {
    "name": "ipython",
    "version": 3
   },
   "file_extension": ".py",
   "mimetype": "text/x-python",
   "name": "python",
   "nbconvert_exporter": "python",
   "pygments_lexer": "ipython3",
   "version": "3.8.2"
  }
 },
 "nbformat": 4,
 "nbformat_minor": 5
}
