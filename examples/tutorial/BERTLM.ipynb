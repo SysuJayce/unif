{
 "cells": [
  {
   "cell_type": "markdown",
   "id": "urban-divorce",
   "metadata": {},
   "source": [
    "# BERTLM\n",
    "\n",
    "可用的中文预训练参数：[`bert-base`](https://storage.googleapis.com/bert_models/2018_11_03/chinese_L-12_H-768_A-12.zip),[`roberta-wwm-ext-base`](https://drive.google.com/uc?export=download&id=1jMAKIJmPn7kADgD3yQZhpsqM-IRM1qZt),[`roberta-wwm-ext-large`](https://drive.google.com/uc?export=download&id=1dtad0FFzG11CBsawu8hvwwzU2R0FDI94),[`macbert-base`](https://drive.google.com/uc?export=download&id=1aV69OhYzIwj_hn-kO1RiBa-m8QAusQ5b),[`macbert-large`](https://drive.google.com/uc?export=download&id=1lWYxnk1EqTA2Q20_IShxBrCPc5VSDCkT)"
   ]
  },
  {
   "cell_type": "code",
   "execution_count": 1,
   "id": "rotary-academy",
   "metadata": {},
   "outputs": [
    {
     "name": "stdout",
     "output_type": "stream",
     "text": [
      "v2.5.13\n"
     ]
    }
   ],
   "source": [
    "import uf\n",
    "\n",
    "print(uf.__version__)"
   ]
  },
  {
   "cell_type": "code",
   "execution_count": 2,
   "id": "velvet-symbol",
   "metadata": {},
   "outputs": [
    {
     "name": "stdout",
     "output_type": "stream",
     "text": [
      "uf.BERTLM(\n",
      "    config_file=\"../../ref/bert_config.json\",\n",
      "    vocab_file=\"../../ref/vocab.txt\",\n",
      "    max_seq_length=128,\n",
      "    init_checkpoint=None,\n",
      "    output_dir=None,\n",
      "    gpu_ids=None,\n",
      "    drop_pooler=False,\n",
      "    do_sample_next_sentence=True,\n",
      "    max_predictions_per_seq=20,\n",
      "    masked_lm_prob=0.15,\n",
      "    short_seq_prob=0.1,\n",
      "    do_whole_word_mask=False,\n",
      "    do_lower_case=True,\n",
      "    truncate_method=\"LIFO\",\n",
      ")\n"
     ]
    }
   ],
   "source": [
    "model = uf.BERTLM(\"../../ref/bert_config.json\", \"../../ref/vocab.txt\")\n",
    "print(model)"
   ]
  },
  {
   "cell_type": "code",
   "execution_count": 3,
   "id": "drawn-breathing",
   "metadata": {},
   "outputs": [],
   "source": [
    "X = [[\"天亮以前说再见，\", \"笑着泪流满面，\", \"去迎接应该你的，\", \"更好的明天。\"],    # 每一条样本是一个doc，doc内可以由多个句子组成\n",
    "     \"他想知道那是谁, 为何总沉默寡言, 人群中也算抢眼, 抢眼的孤独难免\",              # 也可以是一个完整的文段\n",
    "]"
   ]
  },
  {
   "cell_type": "markdown",
   "id": "vanilla-fault",
   "metadata": {},
   "source": [
    "# 训练"
   ]
  },
  {
   "cell_type": "code",
   "execution_count": 4,
   "id": "excellent-religion",
   "metadata": {},
   "outputs": [
    {
     "name": "stderr",
     "output_type": "stream",
     "text": [
      "c:\\Users\\Luv_d\\AppData\\Local\\Programs\\Python\\Python39\\lib\\site-packages\\uf-2.5.13-py3.9.egg\\uf\\apps\\bert\\bert.py:235: UserWarning: `tf.layers.dense` is deprecated and will be removed in a future version. Please use `tf.keras.layers.Dense` instead.\n",
      "  query_layer = tf.layers.dense(\n",
      "c:\\Users\\Luv_d\\AppData\\Local\\Programs\\Python\\Python39\\lib\\site-packages\\uf-2.5.13-py3.9.egg\\uf\\apps\\bert\\bert.py:245: UserWarning: `tf.layers.dense` is deprecated and will be removed in a future version. Please use `tf.keras.layers.Dense` instead.\n",
      "  key_layer = tf.layers.dense(\n",
      "c:\\Users\\Luv_d\\AppData\\Local\\Programs\\Python\\Python39\\lib\\site-packages\\uf-2.5.13-py3.9.egg\\uf\\apps\\bert\\bert.py:255: UserWarning: `tf.layers.dense` is deprecated and will be removed in a future version. Please use `tf.keras.layers.Dense` instead.\n",
      "  value_layer = tf.layers.dense(\n",
      "c:\\Users\\Luv_d\\AppData\\Local\\Programs\\Python\\Python39\\lib\\site-packages\\uf-2.5.13-py3.9.egg\\uf\\apps\\bert\\bert.py:379: UserWarning: `tf.layers.dense` is deprecated and will be removed in a future version. Please use `tf.keras.layers.Dense` instead.\n",
      "  attention_output = tf.layers.dense(\n",
      "c:\\Users\\Luv_d\\AppData\\Local\\Programs\\Python\\Python39\\lib\\site-packages\\uf-2.5.13-py3.9.egg\\uf\\apps\\bert\\bert.py:391: UserWarning: `tf.layers.dense` is deprecated and will be removed in a future version. Please use `tf.keras.layers.Dense` instead.\n",
      "  intermediate_output = tf.layers.dense(\n",
      "c:\\Users\\Luv_d\\AppData\\Local\\Programs\\Python\\Python39\\lib\\site-packages\\uf-2.5.13-py3.9.egg\\uf\\apps\\bert\\bert.py:401: UserWarning: `tf.layers.dense` is deprecated and will be removed in a future version. Please use `tf.keras.layers.Dense` instead.\n",
      "  layer_output = tf.layers.dense(\n",
      "c:\\Users\\Luv_d\\AppData\\Local\\Programs\\Python\\Python39\\lib\\site-packages\\uf-2.5.13-py3.9.egg\\uf\\apps\\bert\\bert.py:102: UserWarning: `tf.layers.dense` is deprecated and will be removed in a future version. Please use `tf.keras.layers.Dense` instead.\n",
      "  self.pooled_output = tf.layers.dense(\n",
      "c:\\Users\\Luv_d\\AppData\\Local\\Programs\\Python\\Python39\\lib\\site-packages\\uf-2.5.13-py3.9.egg\\uf\\apps\\bert\\bert.py:464: UserWarning: `tf.layers.dense` is deprecated and will be removed in a future version. Please use `tf.keras.layers.Dense` instead.\n",
      "  input_tensor = tf.layers.dense(\n"
     ]
    },
    {
     "name": "stdout",
     "output_type": "stream",
     "text": [
      "INFO:tensorflow:Build graph with 308,647,326 parameters (among which 102,882,442 are trainable)\n",
      "INFO:tensorflow:Running local_init_op\n",
      "INFO:tensorflow:Done running local_init_op\n",
      "INFO:tensorflow:Running training on 3 samples (step 0 -> 20)\n",
      "INFO:tensorflow:step 1, MLM accuracy 0.0000, NSP accuracy 0.3333, MLM loss 3.619982, NSP loss 0.722698, 0.16 steps/sec, 0.47 examples/sec\n",
      "INFO:tensorflow:step 2, MLM accuracy 0.0455, NSP accuracy 1.0000, MLM loss 3.256047, NSP loss 0.092626, 0.55 steps/sec, 1.66 examples/sec\n",
      "INFO:tensorflow:step 3, MLM accuracy 0.2727, NSP accuracy 1.0000, MLM loss 2.892344, NSP loss 0.022397, 0.62 steps/sec, 1.86 examples/sec\n",
      "INFO:tensorflow:step 4, MLM accuracy 0.4091, NSP accuracy 1.0000, MLM loss 2.625655, NSP loss 0.015457, 0.66 steps/sec, 1.98 examples/sec\n",
      "INFO:tensorflow:step 5, MLM accuracy 0.4545, NSP accuracy 1.0000, MLM loss 2.419984, NSP loss 0.011462, 0.70 steps/sec, 2.10 examples/sec\n",
      "INFO:tensorflow:step 6, MLM accuracy 0.5455, NSP accuracy 1.0000, MLM loss 2.228981, NSP loss 0.008754, 0.63 steps/sec, 1.90 examples/sec\n",
      "INFO:tensorflow:step 7, MLM accuracy 0.6364, NSP accuracy 1.0000, MLM loss 2.055257, NSP loss 0.006660, 0.62 steps/sec, 1.87 examples/sec\n",
      "INFO:tensorflow:step 8, MLM accuracy 0.7727, NSP accuracy 1.0000, MLM loss 1.874429, NSP loss 0.005470, 0.68 steps/sec, 2.05 examples/sec\n",
      "INFO:tensorflow:step 9, MLM accuracy 0.8636, NSP accuracy 1.0000, MLM loss 1.701641, NSP loss 0.004236, 0.69 steps/sec, 2.08 examples/sec\n",
      "INFO:tensorflow:step 10, MLM accuracy 0.9091, NSP accuracy 1.0000, MLM loss 1.530582, NSP loss 0.003672, 0.66 steps/sec, 1.98 examples/sec\n",
      "INFO:tensorflow:step 11, MLM accuracy 0.9091, NSP accuracy 1.0000, MLM loss 1.397054, NSP loss 0.003066, 0.73 steps/sec, 2.19 examples/sec\n",
      "INFO:tensorflow:step 12, MLM accuracy 0.9545, NSP accuracy 1.0000, MLM loss 1.280782, NSP loss 0.002761, 0.60 steps/sec, 1.79 examples/sec\n",
      "INFO:tensorflow:step 13, MLM accuracy 0.9545, NSP accuracy 1.0000, MLM loss 1.161194, NSP loss 0.002408, 0.67 steps/sec, 2.02 examples/sec\n",
      "INFO:tensorflow:step 14, MLM accuracy 0.9545, NSP accuracy 1.0000, MLM loss 1.103187, NSP loss 0.002214, 0.60 steps/sec, 1.81 examples/sec\n",
      "INFO:tensorflow:step 15, MLM accuracy 0.9545, NSP accuracy 1.0000, MLM loss 1.033288, NSP loss 0.002246, 0.68 steps/sec, 2.04 examples/sec\n",
      "INFO:tensorflow:step 16, MLM accuracy 0.9545, NSP accuracy 1.0000, MLM loss 0.987553, NSP loss 0.002099, 0.74 steps/sec, 2.22 examples/sec\n",
      "INFO:tensorflow:step 17, MLM accuracy 0.9545, NSP accuracy 1.0000, MLM loss 0.950358, NSP loss 0.001897, 0.75 steps/sec, 2.26 examples/sec\n",
      "INFO:tensorflow:step 18, MLM accuracy 0.9545, NSP accuracy 1.0000, MLM loss 0.905349, NSP loss 0.001950, 0.73 steps/sec, 2.18 examples/sec\n",
      "INFO:tensorflow:step 19, MLM accuracy 0.9545, NSP accuracy 1.0000, MLM loss 0.872937, NSP loss 0.001884, 0.75 steps/sec, 2.24 examples/sec\n",
      "INFO:tensorflow:step 20, MLM accuracy 0.9545, NSP accuracy 1.0000, MLM loss 0.867572, NSP loss 0.001873, 0.71 steps/sec, 2.14 examples/sec\n"
     ]
    }
   ],
   "source": [
    "model.fit(X, total_steps=20)"
   ]
  },
  {
   "cell_type": "markdown",
   "id": "fallen-hundred",
   "metadata": {},
   "source": [
    "# 推理"
   ]
  },
  {
   "cell_type": "code",
   "execution_count": 5,
   "id": "opposite-pantyhose",
   "metadata": {},
   "outputs": [
    {
     "name": "stdout",
     "output_type": "stream",
     "text": [
      "INFO:tensorflow:Running inference on 1 samples\n",
      "INFO:tensorflow:process 100.0%, 1.45 examples/sec\n"
     ]
    },
    {
     "data": {
      "text/plain": [
       "{'mlm_preds': [['道']],\n",
       " 'mlm_probs': [[0.009453348815441132]],\n",
       " 'nsp_preds': [1],\n",
       " 'nsp_probs': array([[0.00264916, 0.9973508 ]], dtype=float32)}"
      ]
     },
     "execution_count": 5,
     "metadata": {},
     "output_type": "execute_result"
    }
   ],
   "source": [
    "X_tokenized = [[\"天\", \"亮\", \"以\", \"[MASK]\", \"说\", \"再\", \"见\"]]    # 可以手动赋予Mask预测 (与训练阶段采样不同，因此此case预测错误正常)\n",
    "model.predict(X_tokenized=X_tokenized)"
   ]
  }
 ],
 "metadata": {
  "kernelspec": {
   "display_name": "Python 3.9.13 64-bit",
   "language": "python",
   "name": "python3"
  },
  "language_info": {
   "codemirror_mode": {
    "name": "ipython",
    "version": 3
   },
   "file_extension": ".py",
   "mimetype": "text/x-python",
   "name": "python",
   "nbconvert_exporter": "python",
   "pygments_lexer": "ipython3",
   "version": "3.9.13"
  },
  "vscode": {
   "interpreter": {
    "hash": "265fd6f62f200408acbbeae0248f34bed9f93569a643842b7a25d2cd76cae5e5"
   }
  }
 },
 "nbformat": 4,
 "nbformat_minor": 5
}
