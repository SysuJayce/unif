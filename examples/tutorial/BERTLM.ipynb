{
 "cells": [
  {
   "cell_type": "markdown",
   "id": "urban-divorce",
   "metadata": {},
   "source": [
    "# BERTLM\n",
    "\n",
    "可用的中文预训练参数：[`bert-base`](https://storage.googleapis.com/bert_models/2018_11_03/chinese_L-12_H-768_A-12.zip),[`roberta-wwm-ext-base`](https://drive.google.com/uc?export=download&id=1jMAKIJmPn7kADgD3yQZhpsqM-IRM1qZt),[`roberta-wwm-ext-large`](https://drive.google.com/uc?export=download&id=1dtad0FFzG11CBsawu8hvwwzU2R0FDI94),[`macbert-base`](https://drive.google.com/uc?export=download&id=1aV69OhYzIwj_hn-kO1RiBa-m8QAusQ5b),[`macbert-large`](https://drive.google.com/uc?export=download&id=1lWYxnk1EqTA2Q20_IShxBrCPc5VSDCkT)"
   ]
  },
  {
   "cell_type": "code",
   "execution_count": 1,
   "id": "rotary-academy",
   "metadata": {},
   "outputs": [
    {
     "name": "stdout",
     "output_type": "stream",
     "text": [
      "v2.5.0\n"
     ]
    }
   ],
   "source": [
    "import uf\n",
    "\n",
    "print(uf.__version__)"
   ]
  },
  {
   "cell_type": "code",
   "execution_count": 2,
   "id": "velvet-symbol",
   "metadata": {},
   "outputs": [
    {
     "name": "stdout",
     "output_type": "stream",
     "text": [
      "uf.BERTLM(\n",
      "    config_file=\"../../ref/bert_config.json\",\n",
      "    vocab_file=\"../../ref/vocab.txt\",\n",
      "    max_seq_length=128,\n",
      "    init_checkpoint=None,\n",
      "    output_dir=None,\n",
      "    gpu_ids=None,\n",
      "    drop_pooler=False,\n",
      "    do_sample_next_sentence=True,\n",
      "    max_predictions_per_seq=20,\n",
      "    masked_lm_prob=0.15,\n",
      "    short_seq_prob=0.1,\n",
      "    do_whole_word_mask=False,\n",
      "    do_lower_case=True,\n",
      "    truncate_method=\"LIFO\",\n",
      ")\n"
     ]
    }
   ],
   "source": [
    "model = uf.BERTLM(\"../../ref/bert_config.json\", \"../../ref/vocab.txt\")\n",
    "print(model)"
   ]
  },
  {
   "cell_type": "code",
   "execution_count": 3,
   "id": "drawn-breathing",
   "metadata": {},
   "outputs": [],
   "source": [
    "X = [[\"天亮以前说再见，\", \"笑着泪流满面，\", \"去迎接应该你的，\", \"更好的明天。\"],    # 每一条样本是一个doc，doc内可以由多个句子组成\n",
    "     \"他想知道那是谁, 为何总沉默寡言, 人群中也算抢眼, 抢眼的孤独难免\",              # 也可以是一个完整的文段\n",
    "]"
   ]
  },
  {
   "cell_type": "markdown",
   "id": "vanilla-fault",
   "metadata": {},
   "source": [
    "# 训练"
   ]
  },
  {
   "cell_type": "code",
   "execution_count": 4,
   "id": "excellent-religion",
   "metadata": {},
   "outputs": [
    {
     "name": "stdout",
     "output_type": "stream",
     "text": [
      "WARNING:tensorflow:From c:\\Users\\Luv_d\\AppData\\Local\\Programs\\Python\\Python39\\lib\\site-packages\\tensorflow\\python\\util\\dispatch.py:1176: calling dropout (from tensorflow.python.ops.nn_ops) with keep_prob is deprecated and will be removed in a future version.\n",
      "Instructions for updating:\n",
      "Please use `rate` instead of `keep_prob`. Rate should be set to `rate = 1 - keep_prob`.\n"
     ]
    },
    {
     "name": "stderr",
     "output_type": "stream",
     "text": [
      "c:\\Users\\Luv_d\\AppData\\Local\\Programs\\Python\\Python39\\lib\\site-packages\\uf-2.5.0-py3.9.egg\\uf\\apps\\bert\\bert.py:272: UserWarning: `tf.layers.dense` is deprecated and will be removed in a future version. Please use `tf.keras.layers.Dense` instead.\n",
      "  query_layer = tf.layers.dense(\n",
      "c:\\Users\\Luv_d\\AppData\\Local\\Programs\\Python\\Python39\\lib\\site-packages\\uf-2.5.0-py3.9.egg\\uf\\apps\\bert\\bert.py:282: UserWarning: `tf.layers.dense` is deprecated and will be removed in a future version. Please use `tf.keras.layers.Dense` instead.\n",
      "  key_layer = tf.layers.dense(\n",
      "c:\\Users\\Luv_d\\AppData\\Local\\Programs\\Python\\Python39\\lib\\site-packages\\uf-2.5.0-py3.9.egg\\uf\\apps\\bert\\bert.py:292: UserWarning: `tf.layers.dense` is deprecated and will be removed in a future version. Please use `tf.keras.layers.Dense` instead.\n",
      "  value_layer = tf.layers.dense(\n",
      "c:\\Users\\Luv_d\\AppData\\Local\\Programs\\Python\\Python39\\lib\\site-packages\\uf-2.5.0-py3.9.egg\\uf\\apps\\bert\\bert.py:416: UserWarning: `tf.layers.dense` is deprecated and will be removed in a future version. Please use `tf.keras.layers.Dense` instead.\n",
      "  attention_output = tf.layers.dense(\n",
      "c:\\Users\\Luv_d\\AppData\\Local\\Programs\\Python\\Python39\\lib\\site-packages\\uf-2.5.0-py3.9.egg\\uf\\apps\\bert\\bert.py:428: UserWarning: `tf.layers.dense` is deprecated and will be removed in a future version. Please use `tf.keras.layers.Dense` instead.\n",
      "  intermediate_output = tf.layers.dense(\n",
      "c:\\Users\\Luv_d\\AppData\\Local\\Programs\\Python\\Python39\\lib\\site-packages\\uf-2.5.0-py3.9.egg\\uf\\apps\\bert\\bert.py:438: UserWarning: `tf.layers.dense` is deprecated and will be removed in a future version. Please use `tf.keras.layers.Dense` instead.\n",
      "  layer_output = tf.layers.dense(\n",
      "c:\\Users\\Luv_d\\AppData\\Local\\Programs\\Python\\Python39\\lib\\site-packages\\uf-2.5.0-py3.9.egg\\uf\\apps\\bert\\bert.py:107: UserWarning: `tf.layers.dense` is deprecated and will be removed in a future version. Please use `tf.keras.layers.Dense` instead.\n",
      "  self.pooled_output = tf.layers.dense(\n",
      "c:\\Users\\Luv_d\\AppData\\Local\\Programs\\Python\\Python39\\lib\\site-packages\\uf-2.5.0-py3.9.egg\\uf\\apps\\bert\\bert.py:500: UserWarning: `tf.layers.dense` is deprecated and will be removed in a future version. Please use `tf.keras.layers.Dense` instead.\n",
      "  input_tensor = tf.layers.dense(\n"
     ]
    },
    {
     "name": "stdout",
     "output_type": "stream",
     "text": [
      "INFO:tensorflow:Build graph with 308,647,326 parameters (among which 102,882,442 are trainable)\n",
      "INFO:tensorflow:Running local_init_op\n",
      "INFO:tensorflow:Done running local_init_op\n",
      "INFO:tensorflow:Running training on 2 samples (step 0 -> 20)\n",
      "INFO:tensorflow:step 1, MLM accuracy 0.0000, NSP accuracy 0.5000, MLM loss 3.562449, NSP loss 0.770908, 0.15 steps/sec, 0.30 examples/sec\n",
      "INFO:tensorflow:step 2, MLM accuracy 0.1429, NSP accuracy 1.0000, MLM loss 3.042686, NSP loss 0.644059, 0.65 steps/sec, 1.31 examples/sec\n",
      "INFO:tensorflow:step 3, MLM accuracy 0.7857, NSP accuracy 0.5000, MLM loss 2.620599, NSP loss 0.685869, 0.71 steps/sec, 1.42 examples/sec\n",
      "INFO:tensorflow:step 4, MLM accuracy 1.0000, NSP accuracy 1.0000, MLM loss 2.294350, NSP loss 0.578562, 0.74 steps/sec, 1.49 examples/sec\n",
      "INFO:tensorflow:step 5, MLM accuracy 1.0000, NSP accuracy 1.0000, MLM loss 2.066410, NSP loss 0.487028, 0.72 steps/sec, 1.43 examples/sec\n",
      "INFO:tensorflow:step 6, MLM accuracy 1.0000, NSP accuracy 1.0000, MLM loss 1.799175, NSP loss 0.503203, 0.76 steps/sec, 1.52 examples/sec\n",
      "INFO:tensorflow:step 7, MLM accuracy 1.0000, NSP accuracy 1.0000, MLM loss 1.624212, NSP loss 0.362301, 0.70 steps/sec, 1.40 examples/sec\n",
      "INFO:tensorflow:step 8, MLM accuracy 1.0000, NSP accuracy 1.0000, MLM loss 1.430277, NSP loss 0.319832, 0.79 steps/sec, 1.58 examples/sec\n",
      "INFO:tensorflow:step 9, MLM accuracy 1.0000, NSP accuracy 1.0000, MLM loss 1.307556, NSP loss 0.241721, 0.83 steps/sec, 1.66 examples/sec\n",
      "INFO:tensorflow:step 10, MLM accuracy 1.0000, NSP accuracy 1.0000, MLM loss 1.152788, NSP loss 0.178107, 0.84 steps/sec, 1.67 examples/sec\n",
      "INFO:tensorflow:step 11, MLM accuracy 1.0000, NSP accuracy 1.0000, MLM loss 1.047831, NSP loss 0.114959, 0.53 steps/sec, 1.06 examples/sec\n",
      "INFO:tensorflow:step 12, MLM accuracy 1.0000, NSP accuracy 1.0000, MLM loss 0.947626, NSP loss 0.082713, 0.37 steps/sec, 0.75 examples/sec\n",
      "INFO:tensorflow:step 13, MLM accuracy 1.0000, NSP accuracy 1.0000, MLM loss 0.853049, NSP loss 0.066635, 0.39 steps/sec, 0.79 examples/sec\n",
      "INFO:tensorflow:step 14, MLM accuracy 1.0000, NSP accuracy 1.0000, MLM loss 0.769535, NSP loss 0.071819, 0.42 steps/sec, 0.84 examples/sec\n",
      "INFO:tensorflow:step 15, MLM accuracy 1.0000, NSP accuracy 1.0000, MLM loss 0.717624, NSP loss 0.052414, 0.39 steps/sec, 0.77 examples/sec\n",
      "INFO:tensorflow:step 16, MLM accuracy 1.0000, NSP accuracy 1.0000, MLM loss 0.655711, NSP loss 0.052778, 0.40 steps/sec, 0.80 examples/sec\n",
      "INFO:tensorflow:step 17, MLM accuracy 1.0000, NSP accuracy 1.0000, MLM loss 0.624774, NSP loss 0.040158, 0.44 steps/sec, 0.89 examples/sec\n",
      "INFO:tensorflow:step 18, MLM accuracy 1.0000, NSP accuracy 1.0000, MLM loss 0.584827, NSP loss 0.049874, 0.47 steps/sec, 0.93 examples/sec\n",
      "INFO:tensorflow:step 19, MLM accuracy 1.0000, NSP accuracy 1.0000, MLM loss 0.569152, NSP loss 0.039640, 0.40 steps/sec, 0.79 examples/sec\n",
      "INFO:tensorflow:step 20, MLM accuracy 1.0000, NSP accuracy 1.0000, MLM loss 0.554343, NSP loss 0.044542, 0.48 steps/sec, 0.96 examples/sec\n"
     ]
    }
   ],
   "source": [
    "model.fit(X, total_steps=20)"
   ]
  },
  {
   "cell_type": "markdown",
   "id": "fallen-hundred",
   "metadata": {},
   "source": [
    "# 推理"
   ]
  },
  {
   "cell_type": "code",
   "execution_count": 5,
   "id": "opposite-pantyhose",
   "metadata": {},
   "outputs": [
    {
     "name": "stdout",
     "output_type": "stream",
     "text": [
      "INFO:tensorflow:Running inference on 1 samples\n",
      "INFO:tensorflow:process 100.0%, 0.42 examples/sec\n"
     ]
    },
    {
     "data": {
      "text/plain": [
       "{'mlm_preds': [['默']],\n",
       " 'nsp_preds': [1],\n",
       " 'nsp_probs': array([[0.00462854, 0.9953714 ]], dtype=float32)}"
      ]
     },
     "execution_count": 5,
     "metadata": {},
     "output_type": "execute_result"
    }
   ],
   "source": [
    "X_tokenized = [[\"天\", \"亮\", \"以\", \"[MASK]\", \"说\", \"再\", \"见\"]]    # 可以手动赋予Mask预测 (与训练阶段采样不同，因此此case预测错误正常)\n",
    "model.predict(X_tokenized=X_tokenized)"
   ]
  }
 ],
 "metadata": {
  "kernelspec": {
   "display_name": "Python 3.9.13 64-bit",
   "language": "python",
   "name": "python3"
  },
  "language_info": {
   "codemirror_mode": {
    "name": "ipython",
    "version": 3
   },
   "file_extension": ".py",
   "mimetype": "text/x-python",
   "name": "python",
   "nbconvert_exporter": "python",
   "pygments_lexer": "ipython3",
   "version": "3.9.13"
  },
  "vscode": {
   "interpreter": {
    "hash": "265fd6f62f200408acbbeae0248f34bed9f93569a643842b7a25d2cd76cae5e5"
   }
  }
 },
 "nbformat": 4,
 "nbformat_minor": 5
}
