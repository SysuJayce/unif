{
 "cells": [
  {
   "attachments": {},
   "cell_type": "markdown",
   "id": "bigger-internet",
   "metadata": {},
   "source": [
    "# MotianClassifier\n",
    "\n",
    "可用的中文预训练参数：暂无"
   ]
  },
  {
   "cell_type": "code",
   "execution_count": 1,
   "id": "impossible-professor",
   "metadata": {},
   "outputs": [
    {
     "name": "stdout",
     "output_type": "stream",
     "text": [
      "v2.5.19\n"
     ]
    }
   ],
   "source": [
    "import uf\n",
    "\n",
    "print(uf.__version__)"
   ]
  },
  {
   "cell_type": "code",
   "execution_count": 2,
   "id": "minimal-cambodia",
   "metadata": {},
   "outputs": [
    {
     "name": "stdout",
     "output_type": "stream",
     "text": [
      "uf.MotianClassifier(\n",
      "    config_file=\"../../ref/bert_config.json\",\n",
      "    vocab_file=\"../../ref/vocab.txt\",\n",
      "    max_seq_length=128,\n",
      "    label_size=None,\n",
      "    init_checkpoint=None,\n",
      "    output_dir=None,\n",
      "    gpu_ids=None,\n",
      "    do_lower_case=True,\n",
      "    truncate_method=\"LIFO\",\n",
      ")\n"
     ]
    }
   ],
   "source": [
    "model = uf.MotianClassifier(\"../../ref/bert_config.json\", \"../../ref/vocab.txt\")\n",
    "print(model)"
   ]
  },
  {
   "cell_type": "code",
   "execution_count": 3,
   "id": "forty-marathon",
   "metadata": {},
   "outputs": [],
   "source": [
    "X = [\"天亮以前说再见\", \"笑着泪流满面\", \"去迎接应该你的\", \"更好的明天\"]\n",
    "y = [1, 0, 2, 0]"
   ]
  },
  {
   "cell_type": "markdown",
   "id": "looking-attempt",
   "metadata": {},
   "source": [
    "# 训练"
   ]
  },
  {
   "cell_type": "code",
   "execution_count": 4,
   "id": "sharing-macintosh",
   "metadata": {},
   "outputs": [
    {
     "name": "stdout",
     "output_type": "stream",
     "text": [
      "WARNING:tensorflow:From c:\\Users\\Luv_d\\AppData\\Local\\Programs\\Python\\Python39\\lib\\site-packages\\tensorflow\\python\\util\\dispatch.py:1176: calling dropout (from tensorflow.python.ops.nn_ops) with keep_prob is deprecated and will be removed in a future version.\n",
      "Instructions for updating:\n",
      "Please use `rate` instead of `keep_prob`. Rate should be set to `rate = 1 - keep_prob`.\n"
     ]
    },
    {
     "name": "stderr",
     "output_type": "stream",
     "text": [
      "C:\\Users\\Luv_d\\AppData\\Roaming\\Python\\Python39\\site-packages\\uf-2.5.19-py3.9.egg\\uf\\apps\\motian\\motian.py:593: UserWarning: `tf.layers.dense` is deprecated and will be removed in a future version. Please use `tf.keras.layers.Dense` instead.\n",
      "  query_layer = tf.layers.dense(\n",
      "C:\\Users\\Luv_d\\AppData\\Roaming\\Python\\Python39\\site-packages\\uf-2.5.19-py3.9.egg\\uf\\apps\\motian\\motian.py:601: UserWarning: `tf.layers.dense` is deprecated and will be removed in a future version. Please use `tf.keras.layers.Dense` instead.\n",
      "  key_layer = tf.layers.dense(\n",
      "C:\\Users\\Luv_d\\AppData\\Roaming\\Python\\Python39\\site-packages\\uf-2.5.19-py3.9.egg\\uf\\apps\\motian\\motian.py:609: UserWarning: `tf.layers.dense` is deprecated and will be removed in a future version. Please use `tf.keras.layers.Dense` instead.\n",
      "  value_layer = tf.layers.dense(\n",
      "C:\\Users\\Luv_d\\AppData\\Roaming\\Python\\Python39\\site-packages\\uf-2.5.19-py3.9.egg\\uf\\apps\\motian\\motian.py:873: UserWarning: `tf.layers.dense` is deprecated and will be removed in a future version. Please use `tf.keras.layers.Dense` instead.\n",
      "  attention_output = tf.layers.dense(\n",
      "C:\\Users\\Luv_d\\AppData\\Roaming\\Python\\Python39\\site-packages\\uf-2.5.19-py3.9.egg\\uf\\apps\\motian\\motian.py:883: UserWarning: `tf.layers.dense` is deprecated and will be removed in a future version. Please use `tf.keras.layers.Dense` instead.\n",
      "  intermediate_output = tf.layers.dense(\n",
      "C:\\Users\\Luv_d\\AppData\\Roaming\\Python\\Python39\\site-packages\\uf-2.5.19-py3.9.egg\\uf\\apps\\motian\\motian.py:891: UserWarning: `tf.layers.dense` is deprecated and will be removed in a future version. Please use `tf.keras.layers.Dense` instead.\n",
      "  layer_output = tf.layers.dense(\n",
      "C:\\Users\\Luv_d\\AppData\\Roaming\\Python\\Python39\\site-packages\\uf-2.5.19-py3.9.egg\\uf\\apps\\motian\\motian.py:143: UserWarning: `tf.layers.dense` is deprecated and will be removed in a future version. Please use `tf.keras.layers.Dense` instead.\n",
      "  self.pooled_output = tf.layers.dense(\n"
     ]
    },
    {
     "name": "stdout",
     "output_type": "stream",
     "text": [
      "INFO:tensorflow:Build graph with 307,404,297 parameters (among which 102,468,099 are trainable)\n",
      "INFO:tensorflow:Running local_init_op\n",
      "INFO:tensorflow:Done running local_init_op\n",
      "INFO:tensorflow:Running training on 4 samples (step 0 -> 20)\n",
      "INFO:tensorflow:step 1, accuracy 0.2500, loss 1.127831, 0.17 steps/sec, 0.68 examples/sec\n",
      "INFO:tensorflow:step 2, accuracy 0.2500, loss 1.192838, 0.50 steps/sec, 1.99 examples/sec\n",
      "INFO:tensorflow:step 3, accuracy 0.5000, loss 0.921771, 0.50 steps/sec, 2.00 examples/sec\n",
      "INFO:tensorflow:step 4, accuracy 0.5000, loss 0.865168, 0.43 steps/sec, 1.73 examples/sec\n",
      "INFO:tensorflow:step 5, accuracy 1.0000, loss 0.604291, 0.48 steps/sec, 1.94 examples/sec\n",
      "INFO:tensorflow:step 6, accuracy 0.7500, loss 0.615956, 0.49 steps/sec, 1.98 examples/sec\n",
      "INFO:tensorflow:step 7, accuracy 1.0000, loss 0.259358, 0.49 steps/sec, 1.97 examples/sec\n",
      "INFO:tensorflow:step 8, accuracy 1.0000, loss 0.173251, 0.50 steps/sec, 1.99 examples/sec\n",
      "INFO:tensorflow:step 9, accuracy 1.0000, loss 0.080806, 0.44 steps/sec, 1.78 examples/sec\n",
      "INFO:tensorflow:step 10, accuracy 1.0000, loss 0.033503, 0.49 steps/sec, 1.98 examples/sec\n",
      "INFO:tensorflow:step 11, accuracy 1.0000, loss 0.058618, 0.46 steps/sec, 1.84 examples/sec\n",
      "INFO:tensorflow:step 12, accuracy 1.0000, loss 0.022823, 0.49 steps/sec, 1.97 examples/sec\n",
      "INFO:tensorflow:step 13, accuracy 1.0000, loss 0.019407, 0.46 steps/sec, 1.84 examples/sec\n",
      "INFO:tensorflow:step 14, accuracy 1.0000, loss 0.011598, 0.49 steps/sec, 1.96 examples/sec\n",
      "INFO:tensorflow:step 15, accuracy 1.0000, loss 0.009061, 0.46 steps/sec, 1.82 examples/sec\n",
      "INFO:tensorflow:step 16, accuracy 1.0000, loss 0.009516, 0.49 steps/sec, 1.97 examples/sec\n",
      "INFO:tensorflow:step 17, accuracy 1.0000, loss 0.008016, 0.45 steps/sec, 1.79 examples/sec\n",
      "INFO:tensorflow:step 18, accuracy 1.0000, loss 0.008027, 0.45 steps/sec, 1.78 examples/sec\n",
      "INFO:tensorflow:step 19, accuracy 1.0000, loss 0.007913, 0.51 steps/sec, 2.03 examples/sec\n",
      "INFO:tensorflow:step 20, accuracy 1.0000, loss 0.009284, 0.50 steps/sec, 2.00 examples/sec\n"
     ]
    }
   ],
   "source": [
    "model.fit(X, y, total_steps=20)"
   ]
  },
  {
   "cell_type": "markdown",
   "id": "studied-mechanism",
   "metadata": {},
   "source": [
    "# 推理"
   ]
  },
  {
   "cell_type": "code",
   "execution_count": 5,
   "id": "funky-diversity",
   "metadata": {},
   "outputs": [
    {
     "name": "stdout",
     "output_type": "stream",
     "text": [
      "INFO:tensorflow:Running inference on 4 samples\n",
      "INFO:tensorflow:process 100.0%, 3.20 examples/sec\n"
     ]
    },
    {
     "data": {
      "text/plain": [
       "{'preds': [1, 0, 2, 0],\n",
       " 'probs': array([[0.00380202, 0.99439067, 0.00180722],\n",
       "        [0.9939097 , 0.00211908, 0.00397125],\n",
       "        [0.00498496, 0.00174094, 0.9932741 ],\n",
       "        [0.9936055 , 0.00197219, 0.00442233]], dtype=float32)}"
      ]
     },
     "execution_count": 5,
     "metadata": {},
     "output_type": "execute_result"
    }
   ],
   "source": [
    "model.predict(X)"
   ]
  },
  {
   "cell_type": "markdown",
   "id": "every-professor",
   "metadata": {},
   "source": [
    "# 评分"
   ]
  },
  {
   "cell_type": "code",
   "execution_count": 6,
   "id": "great-alpha",
   "metadata": {},
   "outputs": [
    {
     "name": "stdout",
     "output_type": "stream",
     "text": [
      "INFO:tensorflow:Running scoring on 4 samples\n",
      "INFO:tensorflow:process 100.0%, 4.32 examples/sec\n"
     ]
    },
    {
     "data": {
      "text/plain": [
       "{'accuracy': 1.0, 'loss': 0.006224416}"
      ]
     },
     "execution_count": 6,
     "metadata": {},
     "output_type": "execute_result"
    }
   ],
   "source": [
    "model.score(X, y)"
   ]
  }
 ],
 "metadata": {
  "kernelspec": {
   "display_name": "Python 3.9.13 64-bit",
   "language": "python",
   "name": "python3"
  },
  "language_info": {
   "codemirror_mode": {
    "name": "ipython",
    "version": 3
   },
   "file_extension": ".py",
   "mimetype": "text/x-python",
   "name": "python",
   "nbconvert_exporter": "python",
   "pygments_lexer": "ipython3",
   "version": "3.9.13"
  },
  "vscode": {
   "interpreter": {
    "hash": "265fd6f62f200408acbbeae0248f34bed9f93569a643842b7a25d2cd76cae5e5"
   }
  }
 },
 "nbformat": 4,
 "nbformat_minor": 5
}
