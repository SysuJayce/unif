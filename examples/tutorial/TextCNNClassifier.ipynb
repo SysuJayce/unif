{
 "cells": [
  {
   "cell_type": "markdown",
   "id": "invalid-animation",
   "metadata": {},
   "source": [
    "# TextCNNClassifier\n",
    "\n",
    "可用的中文预训练参数：暂无"
   ]
  },
  {
   "cell_type": "code",
   "execution_count": 1,
   "id": "impossible-professor",
   "metadata": {},
   "outputs": [
    {
     "name": "stdout",
     "output_type": "stream",
     "text": [
      "v2.4.5\n"
     ]
    }
   ],
   "source": [
    "import uf\n",
    "\n",
    "print(uf.__version__)"
   ]
  },
  {
   "cell_type": "code",
   "execution_count": 2,
   "id": "minimal-cambodia",
   "metadata": {},
   "outputs": [
    {
     "name": "stdout",
     "output_type": "stream",
     "text": [
      "uf.TextCNNClassifier(\n",
      "    vocab_file=\"../../demo/vocab.txt\",\n",
      "    max_seq_length=128,\n",
      "    label_size=None,\n",
      "    init_checkpoint=None,\n",
      "    output_dir=None,\n",
      "    gpu_ids=None,\n",
      "    filter_sizes=\"2,4,6\",\n",
      "    num_channels=6,\n",
      "    hidden_size=256,\n",
      "    do_lower_case=True,\n",
      "    truncate_method=\"LIFO\",\n",
      ")\n"
     ]
    }
   ],
   "source": [
    "model = uf.TextCNNClassifier('../../demo/vocab.txt')\n",
    "print(model)"
   ]
  },
  {
   "cell_type": "code",
   "execution_count": 3,
   "id": "forty-marathon",
   "metadata": {},
   "outputs": [],
   "source": [
    "X = ['天亮以前说再见', '笑着泪流满面', '去迎接应该你的', '更好的明天']\n",
    "y = [1, 0, 2, 0]"
   ]
  },
  {
   "cell_type": "markdown",
   "id": "looking-attempt",
   "metadata": {},
   "source": [
    "# 训练"
   ]
  },
  {
   "cell_type": "code",
   "execution_count": 4,
   "id": "sharing-macintosh",
   "metadata": {},
   "outputs": [
    {
     "name": "stdout",
     "output_type": "stream",
     "text": [
      "WARNING:tensorflow:From /Users/geyingli/Library/Python/3.8/lib/python/site-packages/tensorflow/python/util/dispatch.py:1096: calling dropout (from tensorflow.python.ops.nn_ops) with keep_prob is deprecated and will be removed in a future version.\n",
      "Instructions for updating:\n",
      "Please use `rate` instead of `keep_prob`. Rate should be set to `rate = 1 - keep_prob`.\n",
      "INFO:tensorflow:Build graph with 16,281,825 parameters (among which 5,427,275 are trainable)\n",
      "INFO:tensorflow:Running local_init_op\n",
      "INFO:tensorflow:Done running local_init_op\n",
      "INFO:tensorflow:Running training on 4 samples (step 0 -> 10)\n",
      "INFO:tensorflow:step 1, accuracy 0.7500, loss 1.073336, 1.37 steps/sec, 5.49 examples/sec\n",
      "INFO:tensorflow:step 3, accuracy 0.5000, loss 0.892157, 11.30 steps/sec, 45.20 examples/sec\n",
      "INFO:tensorflow:step 5, accuracy 0.7500, loss 0.454826, 10.96 steps/sec, 43.82 examples/sec\n",
      "INFO:tensorflow:step 7, accuracy 1.0000, loss 0.283791, 11.52 steps/sec, 46.07 examples/sec\n",
      "INFO:tensorflow:step 8, accuracy 1.0000, loss 0.193942, 9.71 steps/sec, 38.85 examples/sec\n",
      "INFO:tensorflow:step 10, accuracy 1.0000, loss 0.134456, 11.18 steps/sec, 44.71 examples/sec\n"
     ]
    }
   ],
   "source": [
    "model.fit(X, y, total_steps=10, learning_rate=0.01)"
   ]
  },
  {
   "cell_type": "markdown",
   "id": "studied-mechanism",
   "metadata": {},
   "source": [
    "# 推理"
   ]
  },
  {
   "cell_type": "code",
   "execution_count": 5,
   "id": "funky-diversity",
   "metadata": {},
   "outputs": [
    {
     "name": "stdout",
     "output_type": "stream",
     "text": [
      "INFO:tensorflow:Time usage 0m-0.08s, 12.61 steps/sec, 50.43 examples/sec\n"
     ]
    },
    {
     "data": {
      "text/plain": [
       "{'preds': [1, 0, 2, 0],\n",
       " 'probs': array([[7.9207812e-03, 9.8441190e-01, 7.6673930e-03],\n",
       "        [9.9967802e-01, 2.2552595e-04, 9.6495765e-05],\n",
       "        [2.2405307e-01, 8.1847720e-02, 6.9409919e-01],\n",
       "        [9.9376619e-01, 3.3373518e-03, 2.8965510e-03]], dtype=float32)}"
      ]
     },
     "execution_count": 5,
     "metadata": {},
     "output_type": "execute_result"
    }
   ],
   "source": [
    "model.predict(X)"
   ]
  },
  {
   "cell_type": "markdown",
   "id": "every-professor",
   "metadata": {},
   "source": [
    "# 评分"
   ]
  },
  {
   "cell_type": "code",
   "execution_count": 6,
   "id": "great-alpha",
   "metadata": {},
   "outputs": [
    {
     "name": "stdout",
     "output_type": "stream",
     "text": [
      "INFO:tensorflow:Time usage 0m-0.05s, 18.33 steps/sec, 73.33 examples/sec\n"
     ]
    },
    {
     "data": {
      "text/plain": [
       "{'accuracy': 1.0, 'loss': 0.25842708}"
      ]
     },
     "execution_count": 6,
     "metadata": {},
     "output_type": "execute_result"
    }
   ],
   "source": [
    "model.score(X, y)"
   ]
  }
 ],
 "metadata": {
  "kernelspec": {
   "display_name": "Python 3",
   "language": "python",
   "name": "python3"
  },
  "language_info": {
   "codemirror_mode": {
    "name": "ipython",
    "version": 3
   },
   "file_extension": ".py",
   "mimetype": "text/x-python",
   "name": "python",
   "nbconvert_exporter": "python",
   "pygments_lexer": "ipython3",
   "version": "3.8.2"
  }
 },
 "nbformat": 4,
 "nbformat_minor": 5
}
