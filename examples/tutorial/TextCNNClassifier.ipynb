{
 "cells": [
  {
   "cell_type": "code",
   "execution_count": 1,
   "id": "impossible-professor",
   "metadata": {},
   "outputs": [
    {
     "name": "stdout",
     "output_type": "stream",
     "text": [
      "beta v2.8.0\n"
     ]
    }
   ],
   "source": [
    "import uf\n",
    "\n",
    "print(uf.__version__)"
   ]
  },
  {
   "cell_type": "code",
   "execution_count": 2,
   "id": "minimal-cambodia",
   "metadata": {},
   "outputs": [
    {
     "name": "stdout",
     "output_type": "stream",
     "text": [
      "uf.TextCNNClassifier(vocab_file='../demo/vocab.txt', max_seq_length=128, label_size=None, init_checkpoint=None, output_dir=None, gpu_ids=None, filter_sizes='2,4,6', num_channels=6, hidden_size=256, do_lower_case=True, truncate_method='LIFO')\n"
     ]
    }
   ],
   "source": [
    "model = uf.TextCNNClassifier('../demo/vocab.txt')\n",
    "print(model)"
   ]
  },
  {
   "cell_type": "code",
   "execution_count": 3,
   "id": "forty-marathon",
   "metadata": {},
   "outputs": [],
   "source": [
    "X = ['天亮以前说再见', '笑着泪流满面', '去迎接应该你的', '更好的明天']\n",
    "y = [1, 0, 2, 0]"
   ]
  },
  {
   "cell_type": "markdown",
   "id": "looking-attempt",
   "metadata": {},
   "source": [
    "# 训练"
   ]
  },
  {
   "cell_type": "code",
   "execution_count": 4,
   "id": "sharing-macintosh",
   "metadata": {},
   "outputs": [
    {
     "name": "stdout",
     "output_type": "stream",
     "text": [
      "WARNING:tensorflow:From /Users/geyingli/Library/Python/3.8/lib/python/site-packages/tensorflow/python/util/dispatch.py:201: calling dropout (from tensorflow.python.ops.nn_ops) with keep_prob is deprecated and will be removed in a future version.\n",
      "Instructions for updating:\n",
      "Please use `rate` instead of `keep_prob`. Rate should be set to `rate = 1 - keep_prob`.\n",
      "INFO:tensorflow:Build graph with 16,281,825 parameters (among which 5,427,275 are trainable)\n",
      "INFO:tensorflow:Running local_init_op\n",
      "INFO:tensorflow:Done running local_init_op\n",
      "INFO:tensorflow:Running training on 4 samples (step 0 -> 10)\n",
      "INFO:tensorflow:step 1, accuracy 0.5000, loss 1.084393, 4.47 steps/sec, 17.87 examples/sec\n",
      "INFO:tensorflow:step 3, accuracy 0.5000, loss 0.897317, 11.93 steps/sec, 47.72 examples/sec\n",
      "INFO:tensorflow:step 5, accuracy 0.5000, loss 0.669792, 11.93 steps/sec, 47.70 examples/sec\n",
      "INFO:tensorflow:step 7, accuracy 0.7500, loss 0.324350, 11.97 steps/sec, 47.88 examples/sec\n",
      "INFO:tensorflow:step 9, accuracy 1.0000, loss 0.343525, 12.02 steps/sec, 48.08 examples/sec\n",
      "INFO:tensorflow:step 10, accuracy 1.0000, loss 0.155822, 11.96 steps/sec, 47.82 examples/sec\n"
     ]
    }
   ],
   "source": [
    "model.fit(X, y, total_steps=10, learning_rate=0.01)"
   ]
  },
  {
   "cell_type": "markdown",
   "id": "studied-mechanism",
   "metadata": {},
   "source": [
    "# 推理"
   ]
  },
  {
   "cell_type": "code",
   "execution_count": 5,
   "id": "funky-diversity",
   "metadata": {},
   "outputs": [
    {
     "name": "stdout",
     "output_type": "stream",
     "text": [
      "INFO:tensorflow:Time usage 0m-0.04s, 25.10 steps/sec, 100.38 examples/sec\n"
     ]
    },
    {
     "data": {
      "text/plain": [
       "{'preds': [1, 0, 2, 0],\n",
       " 'probs': array([[1.2185791e-01, 8.4163868e-01, 3.6503375e-02],\n",
       "        [9.9805176e-01, 3.3775115e-04, 1.6104605e-03],\n",
       "        [3.2468748e-01, 4.7025546e-02, 6.2828702e-01],\n",
       "        [9.8699993e-01, 1.6574021e-03, 1.1342729e-02]], dtype=float32)}"
      ]
     },
     "execution_count": 5,
     "metadata": {},
     "output_type": "execute_result"
    }
   ],
   "source": [
    "model.predict(X)"
   ]
  },
  {
   "cell_type": "markdown",
   "id": "every-professor",
   "metadata": {},
   "source": [
    "# 评分"
   ]
  },
  {
   "cell_type": "code",
   "execution_count": 6,
   "id": "great-alpha",
   "metadata": {},
   "outputs": [
    {
     "name": "stdout",
     "output_type": "stream",
     "text": [
      "INFO:tensorflow:Time usage 0m-0.03s, 36.63 steps/sec, 146.52 examples/sec\n"
     ]
    },
    {
     "data": {
      "text/plain": [
       "{'accuracy': 1.0, 'loss': 0.19801222}"
      ]
     },
     "execution_count": 6,
     "metadata": {},
     "output_type": "execute_result"
    }
   ],
   "source": [
    "model.score(X, y)"
   ]
  }
 ],
 "metadata": {
  "kernelspec": {
   "display_name": "Python 3",
   "language": "python",
   "name": "python3"
  },
  "language_info": {
   "codemirror_mode": {
    "name": "ipython",
    "version": 3
   },
   "file_extension": ".py",
   "mimetype": "text/x-python",
   "name": "python",
   "nbconvert_exporter": "python",
   "pygments_lexer": "ipython3",
   "version": "3.8.2"
  }
 },
 "nbformat": 4,
 "nbformat_minor": 5
}
