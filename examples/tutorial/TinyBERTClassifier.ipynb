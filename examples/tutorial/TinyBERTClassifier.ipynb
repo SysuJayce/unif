{
 "cells": [
  {
   "cell_type": "markdown",
   "id": "insured-provincial",
   "metadata": {},
   "source": [
    "# TinyBERTClassifier\n",
    "\n",
    "Teacher模型：`BERTClassifier`"
   ]
  },
  {
   "cell_type": "code",
   "execution_count": 1,
   "id": "rotary-academy",
   "metadata": {},
   "outputs": [
    {
     "name": "stdout",
     "output_type": "stream",
     "text": [
      "v2.5.0\n"
     ]
    }
   ],
   "source": [
    "import uf\n",
    "\n",
    "print(uf.__version__)"
   ]
  },
  {
   "cell_type": "markdown",
   "id": "32d8fca6",
   "metadata": {},
   "source": [
    "# Teacher训练"
   ]
  },
  {
   "cell_type": "code",
   "execution_count": 2,
   "id": "4df33f03",
   "metadata": {},
   "outputs": [
    {
     "name": "stdout",
     "output_type": "stream",
     "text": [
      "INFO:tensorflow:Output directory: .teacher\n",
      "uf.BERTClassifier(\n",
      "    config_file=\"../../ref/bert_config.json\",\n",
      "    vocab_file=\"../../ref/vocab.txt\",\n",
      "    max_seq_length=128,\n",
      "    label_size=None,\n",
      "    init_checkpoint=None,\n",
      "    output_dir=\".teacher\",\n",
      "    gpu_ids=None,\n",
      "    drop_pooler=False,\n",
      "    do_lower_case=True,\n",
      "    truncate_method=\"LIFO\",\n",
      ")\n"
     ]
    }
   ],
   "source": [
    "model = uf.BERTClassifier(\"../../ref/bert_config.json\", \"../../ref/vocab.txt\", output_dir=\".teacher\")\n",
    "print(model)"
   ]
  },
  {
   "cell_type": "code",
   "execution_count": 3,
   "id": "21e6d4ae",
   "metadata": {},
   "outputs": [],
   "source": [
    "X = [\"天亮以前说再见\", \"笑着泪流满面\", \"去迎接应该你的\", \"更好的明天\"]\n",
    "y = [1, 0, 1, 0]"
   ]
  },
  {
   "cell_type": "code",
   "execution_count": 4,
   "id": "5d975818",
   "metadata": {},
   "outputs": [
    {
     "name": "stdout",
     "output_type": "stream",
     "text": [
      "WARNING:tensorflow:From c:\\Users\\Luv_d\\AppData\\Local\\Programs\\Python\\Python39\\lib\\site-packages\\tensorflow\\python\\util\\dispatch.py:1176: calling dropout (from tensorflow.python.ops.nn_ops) with keep_prob is deprecated and will be removed in a future version.\n",
      "Instructions for updating:\n",
      "Please use `rate` instead of `keep_prob`. Rate should be set to `rate = 1 - keep_prob`.\n"
     ]
    },
    {
     "name": "stderr",
     "output_type": "stream",
     "text": [
      "c:\\Users\\Luv_d\\AppData\\Local\\Programs\\Python\\Python39\\lib\\site-packages\\uf-2.5.0-py3.9.egg\\uf\\apps\\bert\\bert.py:272: UserWarning: `tf.layers.dense` is deprecated and will be removed in a future version. Please use `tf.keras.layers.Dense` instead.\n",
      "  query_layer = tf.layers.dense(\n",
      "c:\\Users\\Luv_d\\AppData\\Local\\Programs\\Python\\Python39\\lib\\site-packages\\uf-2.5.0-py3.9.egg\\uf\\apps\\bert\\bert.py:282: UserWarning: `tf.layers.dense` is deprecated and will be removed in a future version. Please use `tf.keras.layers.Dense` instead.\n",
      "  key_layer = tf.layers.dense(\n",
      "c:\\Users\\Luv_d\\AppData\\Local\\Programs\\Python\\Python39\\lib\\site-packages\\uf-2.5.0-py3.9.egg\\uf\\apps\\bert\\bert.py:292: UserWarning: `tf.layers.dense` is deprecated and will be removed in a future version. Please use `tf.keras.layers.Dense` instead.\n",
      "  value_layer = tf.layers.dense(\n",
      "c:\\Users\\Luv_d\\AppData\\Local\\Programs\\Python\\Python39\\lib\\site-packages\\uf-2.5.0-py3.9.egg\\uf\\apps\\bert\\bert.py:416: UserWarning: `tf.layers.dense` is deprecated and will be removed in a future version. Please use `tf.keras.layers.Dense` instead.\n",
      "  attention_output = tf.layers.dense(\n",
      "c:\\Users\\Luv_d\\AppData\\Local\\Programs\\Python\\Python39\\lib\\site-packages\\uf-2.5.0-py3.9.egg\\uf\\apps\\bert\\bert.py:428: UserWarning: `tf.layers.dense` is deprecated and will be removed in a future version. Please use `tf.keras.layers.Dense` instead.\n",
      "  intermediate_output = tf.layers.dense(\n",
      "c:\\Users\\Luv_d\\AppData\\Local\\Programs\\Python\\Python39\\lib\\site-packages\\uf-2.5.0-py3.9.egg\\uf\\apps\\bert\\bert.py:438: UserWarning: `tf.layers.dense` is deprecated and will be removed in a future version. Please use `tf.keras.layers.Dense` instead.\n",
      "  layer_output = tf.layers.dense(\n",
      "c:\\Users\\Luv_d\\AppData\\Local\\Programs\\Python\\Python39\\lib\\site-packages\\uf-2.5.0-py3.9.egg\\uf\\apps\\bert\\bert.py:107: UserWarning: `tf.layers.dense` is deprecated and will be removed in a future version. Please use `tf.keras.layers.Dense` instead.\n",
      "  self.pooled_output = tf.layers.dense(\n"
     ]
    },
    {
     "name": "stdout",
     "output_type": "stream",
     "text": [
      "INFO:tensorflow:Build graph with 306,807,558 parameters (among which 102,269,186 are trainable)\n",
      "INFO:tensorflow:Running local_init_op\n",
      "INFO:tensorflow:Done running local_init_op\n",
      "INFO:tensorflow:Running training on 4 samples (step 0 -> 20)\n",
      "INFO:tensorflow:step 1, accuracy 0.5000, loss 0.748049, 0.21 steps/sec, 0.83 examples/sec\n",
      "INFO:tensorflow:step 2, accuracy 0.5000, loss 0.720033, 0.66 steps/sec, 2.64 examples/sec\n",
      "INFO:tensorflow:step 3, accuracy 0.5000, loss 0.721814, 0.65 steps/sec, 2.59 examples/sec\n",
      "INFO:tensorflow:step 4, accuracy 0.7500, loss 0.570998, 0.66 steps/sec, 2.64 examples/sec\n",
      "INFO:tensorflow:step 5, accuracy 0.5000, loss 0.574667, 0.66 steps/sec, 2.62 examples/sec\n",
      "INFO:tensorflow:step 6, accuracy 1.0000, loss 0.486588, 0.65 steps/sec, 2.58 examples/sec\n",
      "INFO:tensorflow:step 7, accuracy 1.0000, loss 0.453519, 0.65 steps/sec, 2.60 examples/sec\n",
      "INFO:tensorflow:step 8, accuracy 1.0000, loss 0.290409, 0.66 steps/sec, 2.64 examples/sec\n",
      "INFO:tensorflow:step 9, accuracy 1.0000, loss 0.251243, 0.65 steps/sec, 2.62 examples/sec\n",
      "INFO:tensorflow:step 10, accuracy 1.0000, loss 0.227183, 0.66 steps/sec, 2.62 examples/sec\n",
      "INFO:tensorflow:step 11, accuracy 1.0000, loss 0.055432, 0.65 steps/sec, 2.59 examples/sec\n",
      "INFO:tensorflow:step 12, accuracy 1.0000, loss 0.039009, 0.65 steps/sec, 2.61 examples/sec\n",
      "INFO:tensorflow:step 13, accuracy 1.0000, loss 0.018838, 0.65 steps/sec, 2.61 examples/sec\n",
      "INFO:tensorflow:step 14, accuracy 1.0000, loss 0.009467, 0.65 steps/sec, 2.60 examples/sec\n",
      "INFO:tensorflow:step 15, accuracy 1.0000, loss 0.005296, 0.65 steps/sec, 2.61 examples/sec\n",
      "INFO:tensorflow:step 16, accuracy 1.0000, loss 0.004786, 0.65 steps/sec, 2.60 examples/sec\n",
      "INFO:tensorflow:step 17, accuracy 1.0000, loss 0.004304, 0.63 steps/sec, 2.52 examples/sec\n",
      "INFO:tensorflow:step 18, accuracy 1.0000, loss 0.003145, 0.64 steps/sec, 2.54 examples/sec\n",
      "INFO:tensorflow:step 19, accuracy 1.0000, loss 0.002694, 0.63 steps/sec, 2.54 examples/sec\n",
      "INFO:tensorflow:step 20, accuracy 1.0000, loss 0.003049, 0.65 steps/sec, 2.62 examples/sec\n"
     ]
    }
   ],
   "source": [
    "model.fit(X, y, total_steps=20)"
   ]
  },
  {
   "cell_type": "code",
   "execution_count": 5,
   "id": "798416db",
   "metadata": {},
   "outputs": [
    {
     "name": "stdout",
     "output_type": "stream",
     "text": [
      "INFO:tensorflow:Saving checkpoint for 20 into .teacher/model.ckpt\n"
     ]
    }
   ],
   "source": [
    "model.save()"
   ]
  },
  {
   "cell_type": "markdown",
   "id": "00dc29b5",
   "metadata": {},
   "source": [
    "# Student训练"
   ]
  },
  {
   "cell_type": "code",
   "execution_count": 6,
   "id": "velvet-symbol",
   "metadata": {},
   "outputs": [
    {
     "name": "stdout",
     "output_type": "stream",
     "text": [
      "uf.TinyBERTClassifier(\n",
      "    config_file=\"../../ref/bert_config.json\",\n",
      "    vocab_file=\"../../ref/vocab.txt\",\n",
      "    max_seq_length=128,\n",
      "    label_size=2,\n",
      "    init_checkpoint=\".teacher\",\n",
      "    output_dir=None,\n",
      "    gpu_ids=None,\n",
      "    drop_pooler=False,\n",
      "    hidden_size=384,\n",
      "    num_hidden_layers=4,\n",
      "    do_lower_case=True,\n",
      "    truncate_method=\"LIFO\",\n",
      ")\n"
     ]
    }
   ],
   "source": [
    "model = uf.TinyBERTClassifier(\"../../ref/bert_config.json\", \"../../ref/vocab.txt\", init_checkpoint=\".teacher\", label_size=2)    # 配置文件依然使用teacher模型的\n",
    "print(model)"
   ]
  },
  {
   "cell_type": "code",
   "execution_count": 7,
   "id": "excellent-religion",
   "metadata": {},
   "outputs": [
    {
     "name": "stderr",
     "output_type": "stream",
     "text": [
      "c:\\Users\\Luv_d\\AppData\\Local\\Programs\\Python\\Python39\\lib\\site-packages\\uf-2.5.0-py3.9.egg\\uf\\apps\\tinybert\\tinybert.py:109: UserWarning: `tf.layers.dense` is deprecated and will be removed in a future version. Please use `tf.keras.layers.Dense` instead.\n",
      "  linear_trans = tf.layers.dense(\n",
      "c:\\Users\\Luv_d\\AppData\\Local\\Programs\\Python\\Python39\\lib\\site-packages\\uf-2.5.0-py3.9.egg\\uf\\apps\\tinybert\\tinybert.py:166: UserWarning: `tf.layers.dense` is deprecated and will be removed in a future version. Please use `tf.keras.layers.Dense` instead.\n",
      "  tf.layers.dense(\n"
     ]
    },
    {
     "name": "stdout",
     "output_type": "stream",
     "text": [
      "INFO:tensorflow:Build graph with 153,377,672 parameters (among which 17,036,162 are trainable)\n",
      "INFO:tensorflow:Running local_init_op\n",
      "INFO:tensorflow:Done running local_init_op\n",
      "INFO:tensorflow:84 local variables failed to match up with the checkpoint file. Check more details through `.uninited_vars`.\n",
      "INFO:tensorflow:Restoring parameters from .teacher\\model.ckpt-20\n",
      "INFO:tensorflow:Running training on 4 samples (step 0 -> 20)\n",
      "INFO:tensorflow:step 1, distill loss 6.588628, 0.36 steps/sec, 1.44 examples/sec\n",
      "INFO:tensorflow:step 2, distill loss 6.576386, 1.63 steps/sec, 6.51 examples/sec\n",
      "INFO:tensorflow:step 3, distill loss 6.049425, 1.71 steps/sec, 6.83 examples/sec\n",
      "INFO:tensorflow:step 4, distill loss 5.345314, 1.62 steps/sec, 6.47 examples/sec\n",
      "INFO:tensorflow:step 5, distill loss 4.786674, 1.65 steps/sec, 6.60 examples/sec\n",
      "INFO:tensorflow:step 6, distill loss 4.333105, 1.66 steps/sec, 6.63 examples/sec\n",
      "INFO:tensorflow:step 7, distill loss 4.009779, 1.61 steps/sec, 6.44 examples/sec\n",
      "INFO:tensorflow:step 8, distill loss 3.696960, 1.69 steps/sec, 6.74 examples/sec\n",
      "INFO:tensorflow:step 9, distill loss 3.411175, 1.70 steps/sec, 6.80 examples/sec\n",
      "INFO:tensorflow:step 10, distill loss 3.073023, 1.66 steps/sec, 6.65 examples/sec\n",
      "INFO:tensorflow:step 11, distill loss 2.775112, 1.68 steps/sec, 6.71 examples/sec\n",
      "INFO:tensorflow:step 12, distill loss 2.560929, 1.65 steps/sec, 6.60 examples/sec\n",
      "INFO:tensorflow:step 13, distill loss 2.408587, 1.60 steps/sec, 6.41 examples/sec\n",
      "INFO:tensorflow:step 14, distill loss 2.284081, 1.61 steps/sec, 6.43 examples/sec\n",
      "INFO:tensorflow:step 15, distill loss 2.163348, 1.66 steps/sec, 6.65 examples/sec\n",
      "INFO:tensorflow:step 16, distill loss 2.066120, 1.72 steps/sec, 6.88 examples/sec\n",
      "INFO:tensorflow:step 17, distill loss 1.988301, 1.67 steps/sec, 6.69 examples/sec\n",
      "INFO:tensorflow:step 18, distill loss 1.930013, 1.65 steps/sec, 6.58 examples/sec\n",
      "INFO:tensorflow:step 19, distill loss 1.888176, 1.63 steps/sec, 6.52 examples/sec\n",
      "INFO:tensorflow:step 20, distill loss 1.860044, 1.62 steps/sec, 6.48 examples/sec\n"
     ]
    }
   ],
   "source": [
    "model.fit(X, total_steps=20, learning_rate=5e-4)        # student模型较小，可以适当提高学习率"
   ]
  },
  {
   "cell_type": "markdown",
   "id": "fallen-hundred",
   "metadata": {},
   "source": [
    "# 推理"
   ]
  },
  {
   "cell_type": "code",
   "execution_count": 8,
   "id": "opposite-pantyhose",
   "metadata": {},
   "outputs": [
    {
     "name": "stdout",
     "output_type": "stream",
     "text": [
      "INFO:tensorflow:Running inference on 4 samples\n",
      "INFO:tensorflow:process 100.0%, 11.53 examples/sec\n"
     ]
    },
    {
     "data": {
      "text/plain": [
       "{'preds': [1, 0, 1, 0],\n",
       " 'probs': array([[0.00203755, 0.9979625 ],\n",
       "        [0.99793005, 0.00207   ],\n",
       "        [0.00204197, 0.99795806],\n",
       "        [0.9979373 , 0.00206269]], dtype=float32)}"
      ]
     },
     "execution_count": 8,
     "metadata": {},
     "output_type": "execute_result"
    }
   ],
   "source": [
    "model.predict(X)"
   ]
  },
  {
   "cell_type": "markdown",
   "id": "fundamental-poverty",
   "metadata": {},
   "source": [
    "# 评分"
   ]
  },
  {
   "cell_type": "code",
   "execution_count": 9,
   "id": "accessory-lesbian",
   "metadata": {},
   "outputs": [
    {
     "name": "stdout",
     "output_type": "stream",
     "text": [
      "INFO:tensorflow:Running scoring on 4 samples\n",
      "INFO:tensorflow:process 100.0%, 19.35 examples/sec\n"
     ]
    },
    {
     "data": {
      "text/plain": [
       "{'accuracy': 1.0, 'loss': 0.0020551407}"
      ]
     },
     "execution_count": 9,
     "metadata": {},
     "output_type": "execute_result"
    }
   ],
   "source": [
    "model.score(X, y)"
   ]
  },
  {
   "cell_type": "markdown",
   "id": "built-specialist",
   "metadata": {},
   "source": [
    "# 导出为BERT\n",
    "从计算图中剔除teacher模型，仅保留student模型，减小体量，而后可使用 `BERTClassifier` 从该地址读取模型。除此之外，还可以使用 `FastBERTClassifier` 进行二次蒸馏"
   ]
  },
  {
   "cell_type": "code",
   "execution_count": 10,
   "id": "color-moscow",
   "metadata": {},
   "outputs": [
    {
     "name": "stdout",
     "output_type": "stream",
     "text": [
      "INFO:tensorflow:Saving checkpoint into .student/bert_model.ckpt\n"
     ]
    }
   ],
   "source": [
    "model.to_bert(\".student\")"
   ]
  },
  {
   "cell_type": "code",
   "execution_count": 11,
   "id": "7ecb8458",
   "metadata": {},
   "outputs": [
    {
     "name": "stdout",
     "output_type": "stream",
     "text": [
      "uf.FastBERTClassifier(\n",
      "    config_file=\".student/bert_config.json\",\n",
      "    vocab_file=\"../../ref/vocab.txt\",\n",
      "    max_seq_length=128,\n",
      "    label_size=2,\n",
      "    init_checkpoint=\".student\",\n",
      "    output_dir=None,\n",
      "    gpu_ids=None,\n",
      "    drop_pooler=False,\n",
      "    cls_model=\"self-attention\",\n",
      "    do_lower_case=True,\n",
      "    truncate_method=\"LIFO\",\n",
      ")\n"
     ]
    }
   ],
   "source": [
    "model = uf.FastBERTClassifier(\".student/bert_config.json\", \"../../ref/vocab.txt\", init_checkpoint=\".student\", label_size=2)\n",
    "print(model)"
   ]
  },
  {
   "cell_type": "code",
   "execution_count": 12,
   "id": "3c667974",
   "metadata": {},
   "outputs": [
    {
     "name": "stderr",
     "output_type": "stream",
     "text": [
      "c:\\Users\\Luv_d\\AppData\\Local\\Programs\\Python\\Python39\\lib\\site-packages\\uf-2.5.0-py3.9.egg\\uf\\apps\\fastbert\\fastbert.py:486: UserWarning: `tf.layers.dense` is deprecated and will be removed in a future version. Please use `tf.keras.layers.Dense` instead.\n",
      "  cls_output = tf.layers.dense(\n",
      "c:\\Users\\Luv_d\\AppData\\Local\\Programs\\Python\\Python39\\lib\\site-packages\\uf-2.5.0-py3.9.egg\\uf\\apps\\fastbert\\fastbert.py:327: UserWarning: `tf.layers.dense` is deprecated and will be removed in a future version. Please use `tf.keras.layers.Dense` instead.\n",
      "  attention_output = tf.layers.dense(\n",
      "c:\\Users\\Luv_d\\AppData\\Local\\Programs\\Python\\Python39\\lib\\site-packages\\uf-2.5.0-py3.9.egg\\uf\\apps\\fastbert\\fastbert.py:341: UserWarning: `tf.layers.dense` is deprecated and will be removed in a future version. Please use `tf.keras.layers.Dense` instead.\n",
      "  intermediate_output = tf.layers.dense(\n",
      "c:\\Users\\Luv_d\\AppData\\Local\\Programs\\Python\\Python39\\lib\\site-packages\\uf-2.5.0-py3.9.egg\\uf\\apps\\fastbert\\fastbert.py:351: UserWarning: `tf.layers.dense` is deprecated and will be removed in a future version. Please use `tf.keras.layers.Dense` instead.\n",
      "  layer_output = tf.layers.dense(\n",
      "c:\\Users\\Luv_d\\AppData\\Local\\Programs\\Python\\Python39\\lib\\site-packages\\uf-2.5.0-py3.9.egg\\uf\\apps\\fastbert\\fastbert.py:118: UserWarning: `tf.layers.dense` is deprecated and will be removed in a future version. Please use `tf.keras.layers.Dense` instead.\n",
      "  self.pooled_output = tf.layers.dense(\n"
     ]
    },
    {
     "name": "stdout",
     "output_type": "stream",
     "text": [
      "INFO:tensorflow:Build graph with 17,338,010 parameters (among which 593,416 are trainable)\n",
      "INFO:tensorflow:Running local_init_op\n",
      "INFO:tensorflow:Done running local_init_op\n",
      "INFO:tensorflow:41 local variables failed to match up with the checkpoint file. Check more details through `.uninited_vars`.\n",
      "INFO:tensorflow:Restoring parameters from .student\\bert_model.ckpt\n",
      "INFO:tensorflow:Running training on 4 samples (step 0 -> 20)\n",
      "INFO:tensorflow:step 1, distill loss 9.252338, 1.31 steps/sec, 5.26 examples/sec\n",
      "INFO:tensorflow:step 3, distill loss 6.996469, 14.50 steps/sec, 58.02 examples/sec\n",
      "INFO:tensorflow:step 5, distill loss 2.166885, 14.53 steps/sec, 58.14 examples/sec\n",
      "INFO:tensorflow:step 7, distill loss 0.723497, 14.62 steps/sec, 58.48 examples/sec\n",
      "INFO:tensorflow:step 9, distill loss 0.385244, 14.07 steps/sec, 56.28 examples/sec\n",
      "INFO:tensorflow:step 11, distill loss 0.265505, 14.32 steps/sec, 57.27 examples/sec\n",
      "INFO:tensorflow:step 13, distill loss 0.197320, 14.37 steps/sec, 57.47 examples/sec\n",
      "INFO:tensorflow:step 15, distill loss 0.155300, 14.16 steps/sec, 56.63 examples/sec\n",
      "INFO:tensorflow:step 17, distill loss 0.129484, 14.22 steps/sec, 56.88 examples/sec\n",
      "INFO:tensorflow:step 19, distill loss 0.114939, 14.41 steps/sec, 57.64 examples/sec\n",
      "INFO:tensorflow:step 20, distill loss 0.111016, 14.44 steps/sec, 57.78 examples/sec\n"
     ]
    }
   ],
   "source": [
    "model.fit(X, total_steps=20, learning_rate=5e-4)        # student模型较小，可以适当提高学习率"
   ]
  },
  {
   "cell_type": "code",
   "execution_count": 13,
   "id": "c24d6c95",
   "metadata": {},
   "outputs": [
    {
     "name": "stdout",
     "output_type": "stream",
     "text": [
      "INFO:tensorflow:Running scoring on 4 samples\n",
      "INFO:tensorflow:process 100.0%, 11.79 examples/sec\n"
     ]
    },
    {
     "data": {
      "text/plain": [
       "{'accuracy': 1.0, 'loss': 0.00205513281721656}"
      ]
     },
     "execution_count": 13,
     "metadata": {},
     "output_type": "execute_result"
    }
   ],
   "source": [
    "model.score(X, y)"
   ]
  }
 ],
 "metadata": {
  "kernelspec": {
   "display_name": "Python 3.9.13 64-bit",
   "language": "python",
   "name": "python3"
  },
  "language_info": {
   "codemirror_mode": {
    "name": "ipython",
    "version": 3
   },
   "file_extension": ".py",
   "mimetype": "text/x-python",
   "name": "python",
   "nbconvert_exporter": "python",
   "pygments_lexer": "ipython3",
   "version": "3.9.13"
  },
  "vscode": {
   "interpreter": {
    "hash": "265fd6f62f200408acbbeae0248f34bed9f93569a643842b7a25d2cd76cae5e5"
   }
  }
 },
 "nbformat": 4,
 "nbformat_minor": 5
}
