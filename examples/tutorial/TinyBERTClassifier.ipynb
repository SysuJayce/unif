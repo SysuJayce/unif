{
 "cells": [
  {
   "cell_type": "code",
   "execution_count": 1,
   "id": "rotary-academy",
   "metadata": {},
   "outputs": [
    {
     "name": "stdout",
     "output_type": "stream",
     "text": [
      "v2.3.2\n"
     ]
    }
   ],
   "source": [
    "import uf\n",
    "\n",
    "print(uf.__version__)"
   ]
  },
  {
   "cell_type": "code",
   "execution_count": 2,
   "id": "velvet-symbol",
   "metadata": {},
   "outputs": [
    {
     "name": "stdout",
     "output_type": "stream",
     "text": [
      "uf.TinyBERTClassifier(config_file=\"../../demo/bert_config.json\", vocab_file=\"../../demo/vocab.txt\", max_seq_length=128, label_size=2, init_checkpoint=None, output_dir=None, gpu_ids=None, drop_pooler=False, hidden_size=384, num_hidden_layers=4, do_lower_case=True, truncate_method=\"LIFO\")\n"
     ]
    }
   ],
   "source": [
    "model = uf.TinyBERTClassifier('../../demo/bert_config.json', '../../demo/vocab.txt', label_size=2)    # 配置文件依然使用teacher模型的\n",
    "print(model)"
   ]
  },
  {
   "cell_type": "code",
   "execution_count": 3,
   "id": "drawn-breathing",
   "metadata": {},
   "outputs": [],
   "source": [
    "X = ['天亮以前说再见', '笑着泪流满面', '去迎接应该你的', '更好的明天']\n",
    "y = [1, 0, 1, 0]"
   ]
  },
  {
   "cell_type": "markdown",
   "id": "vanilla-fault",
   "metadata": {},
   "source": [
    "# 训练"
   ]
  },
  {
   "cell_type": "code",
   "execution_count": 4,
   "id": "excellent-religion",
   "metadata": {},
   "outputs": [
    {
     "name": "stdout",
     "output_type": "stream",
     "text": [
      "WARNING:tensorflow:From /Users/geyingli/Library/Python/3.8/lib/python/site-packages/tensorflow/python/util/dispatch.py:1096: calling dropout (from tensorflow.python.ops.nn_ops) with keep_prob is deprecated and will be removed in a future version.\n",
      "Instructions for updating:\n",
      "Please use `rate` instead of `keep_prob`. Rate should be set to `rate = 1 - keep_prob`.\n"
     ]
    },
    {
     "name": "stderr",
     "output_type": "stream",
     "text": [
      "/Users/geyingli/Library/Python/3.8/lib/python/site-packages/uf-2.3.2-py3.8.egg/uf/modeling/bert.py:282: UserWarning: `tf.layers.dense` is deprecated and will be removed in a future version. Please use `tf.keras.layers.Dense` instead.\n",
      "  query_layer = tf.layers.dense(\n",
      "/Users/geyingli/Library/Python/3.8/lib/python/site-packages/keras/legacy_tf_layers/core.py:255: UserWarning: `layer.apply` is deprecated and will be removed in a future version. Please use `layer.__call__` method instead.\n",
      "  return layer.apply(inputs)\n",
      "/Users/geyingli/Library/Python/3.8/lib/python/site-packages/uf-2.3.2-py3.8.egg/uf/modeling/bert.py:291: UserWarning: `tf.layers.dense` is deprecated and will be removed in a future version. Please use `tf.keras.layers.Dense` instead.\n",
      "  key_layer = tf.layers.dense(\n",
      "/Users/geyingli/Library/Python/3.8/lib/python/site-packages/uf-2.3.2-py3.8.egg/uf/modeling/bert.py:300: UserWarning: `tf.layers.dense` is deprecated and will be removed in a future version. Please use `tf.keras.layers.Dense` instead.\n",
      "  value_layer = tf.layers.dense(\n",
      "/Users/geyingli/Library/Python/3.8/lib/python/site-packages/uf-2.3.2-py3.8.egg/uf/modeling/bert.py:430: UserWarning: `tf.layers.dense` is deprecated and will be removed in a future version. Please use `tf.keras.layers.Dense` instead.\n",
      "  attention_output = tf.layers.dense(\n",
      "/Users/geyingli/Library/Python/3.8/lib/python/site-packages/uf-2.3.2-py3.8.egg/uf/modeling/bert.py:445: UserWarning: `tf.layers.dense` is deprecated and will be removed in a future version. Please use `tf.keras.layers.Dense` instead.\n",
      "  intermediate_output = tf.layers.dense(\n",
      "/Users/geyingli/Library/Python/3.8/lib/python/site-packages/uf-2.3.2-py3.8.egg/uf/modeling/bert.py:455: UserWarning: `tf.layers.dense` is deprecated and will be removed in a future version. Please use `tf.keras.layers.Dense` instead.\n",
      "  layer_output = tf.layers.dense(\n",
      "/Users/geyingli/Library/Python/3.8/lib/python/site-packages/uf-2.3.2-py3.8.egg/uf/modeling/bert.py:107: UserWarning: `tf.layers.dense` is deprecated and will be removed in a future version. Please use `tf.keras.layers.Dense` instead.\n",
      "  self.pooled_output = tf.layers.dense(\n",
      "/Users/geyingli/Library/Python/3.8/lib/python/site-packages/uf-2.3.2-py3.8.egg/uf/modeling/tiny_bert.py:109: UserWarning: `tf.layers.dense` is deprecated and will be removed in a future version. Please use `tf.keras.layers.Dense` instead.\n",
      "  linear_trans = tf.layers.dense(\n",
      "/Users/geyingli/Library/Python/3.8/lib/python/site-packages/uf-2.3.2-py3.8.egg/uf/modeling/tiny_bert.py:166: UserWarning: `tf.layers.dense` is deprecated and will be removed in a future version. Please use `tf.keras.layers.Dense` instead.\n",
      "  tf.layers.dense(\n"
     ]
    },
    {
     "name": "stdout",
     "output_type": "stream",
     "text": [
      "INFO:tensorflow:Build graph with 153,377,672 parameters (among which 17,036,162 are trainable)\n",
      "INFO:tensorflow:Running local_init_op\n",
      "INFO:tensorflow:Done running local_init_op\n",
      "INFO:tensorflow:Running training on 4 samples (step 0 -> 10)\n",
      "INFO:tensorflow:step 1, distill loss 6.589128, 0.04 steps/sec, 0.16 examples/sec\n",
      "INFO:tensorflow:step 2, distill loss 6.589476, 0.44 steps/sec, 1.77 examples/sec\n",
      "INFO:tensorflow:step 3, distill loss 6.447316, 0.45 steps/sec, 1.82 examples/sec\n",
      "INFO:tensorflow:step 4, distill loss 6.314990, 0.42 steps/sec, 1.67 examples/sec\n",
      "INFO:tensorflow:step 5, distill loss 6.193776, 0.43 steps/sec, 1.71 examples/sec\n",
      "INFO:tensorflow:step 6, distill loss 6.087427, 0.52 steps/sec, 2.10 examples/sec\n",
      "INFO:tensorflow:step 7, distill loss 5.995782, 0.38 steps/sec, 1.50 examples/sec\n",
      "INFO:tensorflow:step 8, distill loss 5.921658, 0.51 steps/sec, 2.05 examples/sec\n",
      "INFO:tensorflow:step 9, distill loss 5.866187, 0.43 steps/sec, 1.73 examples/sec\n",
      "INFO:tensorflow:step 10, distill loss 5.830761, 0.41 steps/sec, 1.63 examples/sec\n"
     ]
    }
   ],
   "source": [
    "model.fit(X, total_steps=10)"
   ]
  },
  {
   "cell_type": "markdown",
   "id": "fallen-hundred",
   "metadata": {},
   "source": [
    "# 推理"
   ]
  },
  {
   "cell_type": "code",
   "execution_count": 5,
   "id": "opposite-pantyhose",
   "metadata": {},
   "outputs": [
    {
     "name": "stdout",
     "output_type": "stream",
     "text": [
      "INFO:tensorflow:Time usage 0m-4.33s, 0.23 steps/sec, 0.92 examples/sec\n"
     ]
    },
    {
     "data": {
      "text/plain": [
       "{'preds': [1, 1, 1, 1],\n",
       " 'probs': array([[0.48039412, 0.5196059 ],\n",
       "        [0.47798148, 0.52201855],\n",
       "        [0.4780872 , 0.52191275],\n",
       "        [0.47834036, 0.5216597 ]], dtype=float32)}"
      ]
     },
     "execution_count": 5,
     "metadata": {},
     "output_type": "execute_result"
    }
   ],
   "source": [
    "model.predict(X)"
   ]
  },
  {
   "cell_type": "markdown",
   "id": "fundamental-poverty",
   "metadata": {},
   "source": [
    "# 评分"
   ]
  },
  {
   "cell_type": "code",
   "execution_count": 6,
   "id": "accessory-lesbian",
   "metadata": {},
   "outputs": [
    {
     "name": "stdout",
     "output_type": "stream",
     "text": [
      "INFO:tensorflow:Time usage 0m-2.14s, 0.47 steps/sec, 1.87 examples/sec\n"
     ]
    },
    {
     "data": {
      "text/plain": [
       "{'accuracy': 0.5, 'loss': 0.6951389}"
      ]
     },
     "execution_count": 6,
     "metadata": {},
     "output_type": "execute_result"
    }
   ],
   "source": [
    "model.score(X, y)    # 这里teacher模型是随机初始化的，因此student模型的推理结果也是随机的"
   ]
  },
  {
   "cell_type": "markdown",
   "id": "built-specialist",
   "metadata": {},
   "source": [
    "# 导出为BERT\n",
    "从计算图中剔除teacher模型，仅保留student模型。并且，如此后，还可以再通过FastBERT进行二次蒸馏"
   ]
  },
  {
   "cell_type": "code",
   "execution_count": 7,
   "id": "color-moscow",
   "metadata": {},
   "outputs": [
    {
     "name": "stdout",
     "output_type": "stream",
     "text": [
      "INFO:tensorflow:Saving checkpoint into tmp/bert_model.ckpt\n"
     ]
    }
   ],
   "source": [
    "model.to_bert('tmp')"
   ]
  }
 ],
 "metadata": {
  "kernelspec": {
   "display_name": "Python 3",
   "language": "python",
   "name": "python3"
  },
  "language_info": {
   "codemirror_mode": {
    "name": "ipython",
    "version": 3
   },
   "file_extension": ".py",
   "mimetype": "text/x-python",
   "name": "python",
   "nbconvert_exporter": "python",
   "pygments_lexer": "ipython3",
   "version": "3.8.2"
  }
 },
 "nbformat": 4,
 "nbformat_minor": 5
}
