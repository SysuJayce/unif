{
 "cells": [
  {
   "cell_type": "markdown",
   "id": "cooked-finger",
   "metadata": {},
   "source": [
    "# ELECTRAClassifier\n",
    "\n",
    "可用的中文预训练参数：[`electra-small`](https://drive.google.com/file/d/1uab-9T1kR9HgD2NB0Kz1JB_TdSKgJIds/view?usp=drive_open),[`electra-small-ex`](https://drive.google.com/file/d/1LluPORc7xtFmCTFR4IF17q77ip82i7__/view),[`electra-base`](https://drive.google.com/file/d/1FMwrs2weFST-iAuZH3umMa6YZVeIP8wD/view),[`electra-large`](https://drive.google.com/file/d/1ny0NMLkEWG6rseDLiF_NujdHxDcIN51m/view)"
   ]
  },
  {
   "cell_type": "code",
   "execution_count": 1,
   "id": "international-highlight",
   "metadata": {},
   "outputs": [
    {
     "name": "stdout",
     "output_type": "stream",
     "text": [
      "v2.4.5\n"
     ]
    }
   ],
   "source": [
    "import uf\n",
    "\n",
    "print(uf.__version__)"
   ]
  },
  {
   "cell_type": "code",
   "execution_count": 2,
   "id": "behavioral-commander",
   "metadata": {},
   "outputs": [
    {
     "name": "stdout",
     "output_type": "stream",
     "text": [
      "uf.ELECTRAClassifier(\n",
      "    config_file=\"../../demo/bert_config.json\",\n",
      "    vocab_file=\"../../demo/vocab.txt\",\n",
      "    max_seq_length=128,\n",
      "    label_size=None,\n",
      "    init_checkpoint=None,\n",
      "    output_dir=None,\n",
      "    gpu_ids=None,\n",
      "    do_lower_case=True,\n",
      "    truncate_method=\"LIFO\",\n",
      ")\n"
     ]
    }
   ],
   "source": [
    "model = uf.ELECTRAClassifier('../../demo/bert_config.json', '../../demo/vocab.txt')\n",
    "print(model)"
   ]
  },
  {
   "cell_type": "code",
   "execution_count": 3,
   "id": "affiliated-medication",
   "metadata": {},
   "outputs": [],
   "source": [
    "X = ['天亮以前说再见', '笑着泪流满面', '去迎接应该你的', '更好的明天']\n",
    "y = [1, 0, 2, 0]"
   ]
  },
  {
   "cell_type": "markdown",
   "id": "interracial-charleston",
   "metadata": {},
   "source": [
    "# 训练"
   ]
  },
  {
   "cell_type": "code",
   "execution_count": 4,
   "id": "stainless-bouquet",
   "metadata": {},
   "outputs": [
    {
     "name": "stdout",
     "output_type": "stream",
     "text": [
      "WARNING:tensorflow:From /Users/geyingli/Library/Python/3.8/lib/python/site-packages/tensorflow/python/util/dispatch.py:1096: calling dropout (from tensorflow.python.ops.nn_ops) with keep_prob is deprecated and will be removed in a future version.\n",
      "Instructions for updating:\n",
      "Please use `rate` instead of `keep_prob`. Rate should be set to `rate = 1 - keep_prob`.\n"
     ]
    },
    {
     "name": "stderr",
     "output_type": "stream",
     "text": [
      "/Users/geyingli/Library/Python/3.8/lib/python/site-packages/uf-2.4.5-py3.8.egg/uf/model/bert.py:272: UserWarning: `tf.layers.dense` is deprecated and will be removed in a future version. Please use `tf.keras.layers.Dense` instead.\n",
      "  query_layer = tf.layers.dense(\n",
      "/Users/geyingli/Library/Python/3.8/lib/python/site-packages/keras/legacy_tf_layers/core.py:255: UserWarning: `layer.apply` is deprecated and will be removed in a future version. Please use `layer.__call__` method instead.\n",
      "  return layer.apply(inputs)\n",
      "/Users/geyingli/Library/Python/3.8/lib/python/site-packages/uf-2.4.5-py3.8.egg/uf/model/bert.py:282: UserWarning: `tf.layers.dense` is deprecated and will be removed in a future version. Please use `tf.keras.layers.Dense` instead.\n",
      "  key_layer = tf.layers.dense(\n",
      "/Users/geyingli/Library/Python/3.8/lib/python/site-packages/uf-2.4.5-py3.8.egg/uf/model/bert.py:292: UserWarning: `tf.layers.dense` is deprecated and will be removed in a future version. Please use `tf.keras.layers.Dense` instead.\n",
      "  value_layer = tf.layers.dense(\n",
      "/Users/geyingli/Library/Python/3.8/lib/python/site-packages/uf-2.4.5-py3.8.egg/uf/model/bert.py:416: UserWarning: `tf.layers.dense` is deprecated and will be removed in a future version. Please use `tf.keras.layers.Dense` instead.\n",
      "  attention_output = tf.layers.dense(\n",
      "/Users/geyingli/Library/Python/3.8/lib/python/site-packages/uf-2.4.5-py3.8.egg/uf/model/bert.py:428: UserWarning: `tf.layers.dense` is deprecated and will be removed in a future version. Please use `tf.keras.layers.Dense` instead.\n",
      "  intermediate_output = tf.layers.dense(\n",
      "/Users/geyingli/Library/Python/3.8/lib/python/site-packages/uf-2.4.5-py3.8.egg/uf/model/bert.py:438: UserWarning: `tf.layers.dense` is deprecated and will be removed in a future version. Please use `tf.keras.layers.Dense` instead.\n",
      "  layer_output = tf.layers.dense(\n"
     ]
    },
    {
     "name": "stdout",
     "output_type": "stream",
     "text": [
      "INFO:tensorflow:Build graph with 305,038,089 parameters (among which 101,679,363 are trainable)\n",
      "INFO:tensorflow:Running local_init_op\n",
      "INFO:tensorflow:Done running local_init_op\n",
      "INFO:tensorflow:Running training on 4 samples (step 0 -> 10)\n",
      "INFO:tensorflow:step 1, accuracy 0.2500, loss 1.155219, 0.10 steps/sec, 0.40 examples/sec\n",
      "INFO:tensorflow:step 2, accuracy 0.2500, loss 1.087421, 0.28 steps/sec, 1.13 examples/sec\n",
      "INFO:tensorflow:step 3, accuracy 0.5000, loss 1.979313, 0.38 steps/sec, 1.53 examples/sec\n",
      "INFO:tensorflow:step 4, accuracy 0.5000, loss 1.814242, 0.40 steps/sec, 1.58 examples/sec\n",
      "INFO:tensorflow:step 5, accuracy 0.5000, loss 1.592884, 0.19 steps/sec, 0.78 examples/sec\n",
      "INFO:tensorflow:step 6, accuracy 0.5000, loss 1.006582, 0.23 steps/sec, 0.92 examples/sec\n",
      "INFO:tensorflow:step 7, accuracy 1.0000, loss 0.554285, 0.14 steps/sec, 0.55 examples/sec\n",
      "INFO:tensorflow:step 8, accuracy 0.7500, loss 0.526650, 0.19 steps/sec, 0.75 examples/sec\n",
      "INFO:tensorflow:step 9, accuracy 0.7500, loss 0.532163, 0.15 steps/sec, 0.59 examples/sec\n",
      "INFO:tensorflow:step 10, accuracy 1.0000, loss 0.417040, 0.18 steps/sec, 0.73 examples/sec\n"
     ]
    }
   ],
   "source": [
    "model.fit(X, y, total_steps=10)"
   ]
  },
  {
   "cell_type": "markdown",
   "id": "primary-enlargement",
   "metadata": {},
   "source": [
    "# 推理"
   ]
  },
  {
   "cell_type": "code",
   "execution_count": 5,
   "id": "joined-virgin",
   "metadata": {},
   "outputs": [
    {
     "name": "stdout",
     "output_type": "stream",
     "text": [
      "INFO:tensorflow:Time usage 0m-4.07s, 0.25 steps/sec, 0.98 examples/sec\n"
     ]
    },
    {
     "data": {
      "text/plain": [
       "{'preds': [1, 0, 2, 0],\n",
       " 'probs': array([[0.21635182, 0.7029631 , 0.08068506],\n",
       "        [0.73444206, 0.19303738, 0.0725205 ],\n",
       "        [0.20346752, 0.19581057, 0.60072196],\n",
       "        [0.73089355, 0.20454645, 0.06455996]], dtype=float32)}"
      ]
     },
     "execution_count": 5,
     "metadata": {},
     "output_type": "execute_result"
    }
   ],
   "source": [
    "model.predict(X)"
   ]
  },
  {
   "cell_type": "markdown",
   "id": "cellular-valuable",
   "metadata": {},
   "source": [
    "# 评分"
   ]
  },
  {
   "cell_type": "code",
   "execution_count": 6,
   "id": "static-vocabulary",
   "metadata": {},
   "outputs": [
    {
     "name": "stdout",
     "output_type": "stream",
     "text": [
      "INFO:tensorflow:Time usage 0m-2.34s, 0.43 steps/sec, 1.71 examples/sec\n"
     ]
    },
    {
     "data": {
      "text/plain": [
       "{'accuracy': 1.0, 'loss': 0.3710514}"
      ]
     },
     "execution_count": 6,
     "metadata": {},
     "output_type": "execute_result"
    }
   ],
   "source": [
    "model.score(X, y)"
   ]
  }
 ],
 "metadata": {
  "kernelspec": {
   "display_name": "Python 3",
   "language": "python",
   "name": "python3"
  },
  "language_info": {
   "codemirror_mode": {
    "name": "ipython",
    "version": 3
   },
   "file_extension": ".py",
   "mimetype": "text/x-python",
   "name": "python",
   "nbconvert_exporter": "python",
   "pygments_lexer": "ipython3",
   "version": "3.8.2"
  }
 },
 "nbformat": 4,
 "nbformat_minor": 5
}
