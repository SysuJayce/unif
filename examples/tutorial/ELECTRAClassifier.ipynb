{
 "cells": [
  {
   "cell_type": "markdown",
   "id": "cooked-finger",
   "metadata": {},
   "source": [
    "# ELECTRAClassifier\n",
    "\n",
    "可用的中文预训练参数：[`electra-small`](https://drive.google.com/file/d/1uab-9T1kR9HgD2NB0Kz1JB_TdSKgJIds/view?usp=drive_open),[`electra-small-ex`](https://drive.google.com/file/d/1LluPORc7xtFmCTFR4IF17q77ip82i7__/view),[`electra-base`](https://drive.google.com/file/d/1FMwrs2weFST-iAuZH3umMa6YZVeIP8wD/view),[`electra-large`](https://drive.google.com/file/d/1ny0NMLkEWG6rseDLiF_NujdHxDcIN51m/view)"
   ]
  },
  {
   "cell_type": "code",
   "execution_count": 1,
   "id": "international-highlight",
   "metadata": {},
   "outputs": [
    {
     "name": "stdout",
     "output_type": "stream",
     "text": [
      "v2.5.2\n"
     ]
    }
   ],
   "source": [
    "import uf\n",
    "\n",
    "print(uf.__version__)"
   ]
  },
  {
   "cell_type": "code",
   "execution_count": 2,
   "id": "behavioral-commander",
   "metadata": {},
   "outputs": [
    {
     "name": "stdout",
     "output_type": "stream",
     "text": [
      "uf.ELECTRAClassifier(\n",
      "    config_file=\"../../ref/bert_config.json\",\n",
      "    vocab_file=\"../../ref/vocab.txt\",\n",
      "    max_seq_length=128,\n",
      "    label_size=None,\n",
      "    init_checkpoint=None,\n",
      "    output_dir=None,\n",
      "    gpu_ids=None,\n",
      "    do_lower_case=True,\n",
      "    truncate_method=\"LIFO\",\n",
      ")\n"
     ]
    }
   ],
   "source": [
    "model = uf.ELECTRAClassifier(\"../../ref/bert_config.json\", \"../../ref/vocab.txt\")\n",
    "print(model)"
   ]
  },
  {
   "cell_type": "code",
   "execution_count": 3,
   "id": "affiliated-medication",
   "metadata": {},
   "outputs": [],
   "source": [
    "X = [\"天亮以前说再见\", \"笑着泪流满面\", \"去迎接应该你的\", \"更好的明天\"]\n",
    "y = [1, 0, 2, 0]"
   ]
  },
  {
   "cell_type": "markdown",
   "id": "interracial-charleston",
   "metadata": {},
   "source": [
    "# 训练"
   ]
  },
  {
   "cell_type": "code",
   "execution_count": 4,
   "id": "stainless-bouquet",
   "metadata": {},
   "outputs": [
    {
     "name": "stderr",
     "output_type": "stream",
     "text": [
      "/Users/geyingli/Library/Python/3.8/lib/python/site-packages/uf-2.5.2-py3.8.egg/uf/apps/bert/bert.py:274: UserWarning: `tf.layers.dense` is deprecated and will be removed in a future version. Please use `tf.keras.layers.Dense` instead.\n",
      "  query_layer = tf.layers.dense(\n",
      "/Users/geyingli/Library/Python/3.8/lib/python/site-packages/uf-2.5.2-py3.8.egg/uf/apps/bert/bert.py:284: UserWarning: `tf.layers.dense` is deprecated and will be removed in a future version. Please use `tf.keras.layers.Dense` instead.\n",
      "  key_layer = tf.layers.dense(\n",
      "/Users/geyingli/Library/Python/3.8/lib/python/site-packages/uf-2.5.2-py3.8.egg/uf/apps/bert/bert.py:294: UserWarning: `tf.layers.dense` is deprecated and will be removed in a future version. Please use `tf.keras.layers.Dense` instead.\n",
      "  value_layer = tf.layers.dense(\n",
      "/Users/geyingli/Library/Python/3.8/lib/python/site-packages/uf-2.5.2-py3.8.egg/uf/apps/bert/bert.py:418: UserWarning: `tf.layers.dense` is deprecated and will be removed in a future version. Please use `tf.keras.layers.Dense` instead.\n",
      "  attention_output = tf.layers.dense(\n",
      "/Users/geyingli/Library/Python/3.8/lib/python/site-packages/uf-2.5.2-py3.8.egg/uf/apps/bert/bert.py:430: UserWarning: `tf.layers.dense` is deprecated and will be removed in a future version. Please use `tf.keras.layers.Dense` instead.\n",
      "  intermediate_output = tf.layers.dense(\n",
      "/Users/geyingli/Library/Python/3.8/lib/python/site-packages/uf-2.5.2-py3.8.egg/uf/apps/bert/bert.py:440: UserWarning: `tf.layers.dense` is deprecated and will be removed in a future version. Please use `tf.keras.layers.Dense` instead.\n",
      "  layer_output = tf.layers.dense(\n"
     ]
    },
    {
     "name": "stdout",
     "output_type": "stream",
     "text": [
      "INFO:tensorflow:Build graph with 305,038,089 parameters (among which 101,679,363 are trainable)\n",
      "INFO:tensorflow:Running local_init_op\n",
      "INFO:tensorflow:Done running local_init_op\n",
      "INFO:tensorflow:Running training on 4 samples (step 0 -> 20)\n",
      "INFO:tensorflow:step 1, accuracy 0.2500, loss 1.438628, 0.04 steps/sec, 0.17 examples/sec\n",
      "INFO:tensorflow:step 2, accuracy 0.2500, loss 1.716359, 0.24 steps/sec, 0.97 examples/sec\n",
      "INFO:tensorflow:step 3, accuracy 0.5000, loss 1.384165, 0.21 steps/sec, 0.85 examples/sec\n",
      "INFO:tensorflow:step 4, accuracy 0.5000, loss 1.615586, 0.24 steps/sec, 0.97 examples/sec\n",
      "INFO:tensorflow:step 5, accuracy 0.2500, loss 1.807082, 0.24 steps/sec, 0.94 examples/sec\n",
      "INFO:tensorflow:step 6, accuracy 0.5000, loss 1.149037, 0.24 steps/sec, 0.97 examples/sec\n",
      "INFO:tensorflow:step 7, accuracy 0.5000, loss 0.902660, 0.25 steps/sec, 0.99 examples/sec\n",
      "INFO:tensorflow:step 8, accuracy 0.5000, loss 0.805166, 0.22 steps/sec, 0.90 examples/sec\n",
      "INFO:tensorflow:step 9, accuracy 0.2500, loss 0.991808, 0.21 steps/sec, 0.82 examples/sec\n",
      "INFO:tensorflow:step 10, accuracy 0.7500, loss 0.650281, 0.19 steps/sec, 0.77 examples/sec\n",
      "INFO:tensorflow:step 11, accuracy 1.0000, loss 0.446339, 0.23 steps/sec, 0.92 examples/sec\n",
      "INFO:tensorflow:step 12, accuracy 0.7500, loss 0.487413, 0.25 steps/sec, 0.99 examples/sec\n",
      "INFO:tensorflow:step 13, accuracy 1.0000, loss 0.336700, 0.38 steps/sec, 1.51 examples/sec\n",
      "INFO:tensorflow:step 14, accuracy 1.0000, loss 0.255759, 0.38 steps/sec, 1.52 examples/sec\n",
      "INFO:tensorflow:step 15, accuracy 1.0000, loss 0.145013, 0.37 steps/sec, 1.49 examples/sec\n",
      "INFO:tensorflow:step 16, accuracy 1.0000, loss 0.103681, 0.36 steps/sec, 1.46 examples/sec\n",
      "INFO:tensorflow:step 17, accuracy 1.0000, loss 0.092566, 0.41 steps/sec, 1.62 examples/sec\n",
      "INFO:tensorflow:step 18, accuracy 1.0000, loss 0.054165, 0.35 steps/sec, 1.39 examples/sec\n",
      "INFO:tensorflow:step 19, accuracy 1.0000, loss 0.033555, 0.35 steps/sec, 1.39 examples/sec\n",
      "INFO:tensorflow:step 20, accuracy 1.0000, loss 0.028309, 0.42 steps/sec, 1.67 examples/sec\n"
     ]
    }
   ],
   "source": [
    "model.fit(X, y, total_steps=20)"
   ]
  },
  {
   "cell_type": "markdown",
   "id": "primary-enlargement",
   "metadata": {},
   "source": [
    "# 推理"
   ]
  },
  {
   "cell_type": "code",
   "execution_count": 5,
   "id": "joined-virgin",
   "metadata": {},
   "outputs": [
    {
     "name": "stdout",
     "output_type": "stream",
     "text": [
      "INFO:tensorflow:Running inference on 4 samples\n",
      "INFO:tensorflow:process 100.0%, 2.54 examples/sec\n"
     ]
    },
    {
     "data": {
      "text/plain": [
       "{'preds': [1, 0, 2, 0],\n",
       " 'probs': array([[1.9228196e-03, 9.8583800e-01, 1.2239186e-02],\n",
       "        [9.9048620e-01, 7.5450545e-04, 8.7592760e-03],\n",
       "        [1.3904681e-02, 8.9171678e-03, 9.7717810e-01],\n",
       "        [9.8637497e-01, 7.2721322e-04, 1.2897733e-02]], dtype=float32)}"
      ]
     },
     "execution_count": 5,
     "metadata": {},
     "output_type": "execute_result"
    }
   ],
   "source": [
    "model.predict(X)"
   ]
  },
  {
   "cell_type": "markdown",
   "id": "cellular-valuable",
   "metadata": {},
   "source": [
    "# 评分"
   ]
  },
  {
   "cell_type": "code",
   "execution_count": 6,
   "id": "static-vocabulary",
   "metadata": {},
   "outputs": [
    {
     "name": "stdout",
     "output_type": "stream",
     "text": [
      "INFO:tensorflow:Running scoring on 4 samples\n",
      "INFO:tensorflow:process 100.0%, 3.25 examples/sec\n"
     ]
    },
    {
     "data": {
      "text/plain": [
       "{'accuracy': 1.0, 'loss': 0.015156904}"
      ]
     },
     "execution_count": 6,
     "metadata": {},
     "output_type": "execute_result"
    }
   ],
   "source": [
    "model.score(X, y)"
   ]
  }
 ],
 "metadata": {
  "kernelspec": {
   "display_name": "Python 3.9.13 64-bit",
   "language": "python",
   "name": "python3"
  },
  "language_info": {
   "codemirror_mode": {
    "name": "ipython",
    "version": 3
   },
   "file_extension": ".py",
   "mimetype": "text/x-python",
   "name": "python",
   "nbconvert_exporter": "python",
   "pygments_lexer": "ipython3",
   "version": "3.8.2"
  },
  "vscode": {
   "interpreter": {
    "hash": "265fd6f62f200408acbbeae0248f34bed9f93569a643842b7a25d2cd76cae5e5"
   }
  }
 },
 "nbformat": 4,
 "nbformat_minor": 5
}
