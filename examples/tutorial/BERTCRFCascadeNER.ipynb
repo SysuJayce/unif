{
 "cells": [
  {
   "cell_type": "markdown",
   "id": "informal-legislature",
   "metadata": {},
   "source": [
    "# BERTCRFCascadeNER\n",
    "\n",
    "可用的中文预训练参数：[`bert-base`](https://storage.googleapis.com/bert_models/2018_11_03/chinese_L-12_H-768_A-12.zip),[`roberta-wwm-ext-base`](https://drive.google.com/uc?export=download&id=1jMAKIJmPn7kADgD3yQZhpsqM-IRM1qZt),[`roberta-wwm-ext-large`](https://drive.google.com/uc?export=download&id=1dtad0FFzG11CBsawu8hvwwzU2R0FDI94),[`macbert-base`](https://drive.google.com/uc?export=download&id=1aV69OhYzIwj_hn-kO1RiBa-m8QAusQ5b),[`macbert-large`](https://drive.google.com/uc?export=download&id=1lWYxnk1EqTA2Q20_IShxBrCPc5VSDCkT)"
   ]
  },
  {
   "cell_type": "code",
   "execution_count": 1,
   "id": "rotary-academy",
   "metadata": {},
   "outputs": [
    {
     "name": "stdout",
     "output_type": "stream",
     "text": [
      "v2.5.2\n"
     ]
    }
   ],
   "source": [
    "import uf\n",
    "\n",
    "print(uf.__version__)"
   ]
  },
  {
   "cell_type": "code",
   "execution_count": 2,
   "id": "velvet-symbol",
   "metadata": {},
   "outputs": [
    {
     "name": "stdout",
     "output_type": "stream",
     "text": [
      "uf.BERTCRFCascadeNER(\n",
      "    config_file=\"../../ref/bert_config.json\",\n",
      "    vocab_file=\"../../ref/vocab.txt\",\n",
      "    max_seq_length=128,\n",
      "    init_checkpoint=None,\n",
      "    output_dir=None,\n",
      "    gpu_ids=None,\n",
      "    do_lower_case=True,\n",
      "    entity_types=None,\n",
      "    truncate_method=\"LIFO\",\n",
      ")\n"
     ]
    }
   ],
   "source": [
    "model = uf.BERTCRFCascadeNER(\"../../ref/bert_config.json\", \"../../ref/vocab.txt\")\n",
    "print(model)"
   ]
  },
  {
   "cell_type": "code",
   "execution_count": 3,
   "id": "drawn-breathing",
   "metadata": {},
   "outputs": [],
   "source": [
    "X = [\"天亮以前说再见\", \"笑着泪流满面\", \"去迎接应该你的\", \"更好的明天\"]\n",
    "y = [{\"nn\": [\"天亮\"]}, {}, {\"v\": [\"迎接\"]}, {\"adj\": [\"更好\"], \"n\": [\"明天\"]}]"
   ]
  },
  {
   "cell_type": "markdown",
   "id": "vanilla-fault",
   "metadata": {},
   "source": [
    "# 训练"
   ]
  },
  {
   "cell_type": "code",
   "execution_count": 4,
   "id": "excellent-religion",
   "metadata": {},
   "outputs": [
    {
     "name": "stdout",
     "output_type": "stream",
     "text": [
      "WARNING:tensorflow:From /Users/geyingli/Library/Python/3.8/lib/python/site-packages/tensorflow/python/util/dispatch.py:1096: calling dropout (from tensorflow.python.ops.nn_ops) with keep_prob is deprecated and will be removed in a future version.\n",
      "Instructions for updating:\n",
      "Please use `rate` instead of `keep_prob`. Rate should be set to `rate = 1 - keep_prob`.\n"
     ]
    },
    {
     "name": "stderr",
     "output_type": "stream",
     "text": [
      "/Users/geyingli/Library/Python/3.8/lib/python/site-packages/uf-2.5.2-py3.8.egg/uf/apps/bert/bert.py:272: UserWarning: `tf.layers.dense` is deprecated and will be removed in a future version. Please use `tf.keras.layers.Dense` instead.\n",
      "  query_layer = tf.layers.dense(\n",
      "/Users/geyingli/Library/Python/3.8/lib/python/site-packages/keras/legacy_tf_layers/core.py:255: UserWarning: `layer.apply` is deprecated and will be removed in a future version. Please use `layer.__call__` method instead.\n",
      "  return layer.apply(inputs)\n",
      "/Users/geyingli/Library/Python/3.8/lib/python/site-packages/uf-2.5.2-py3.8.egg/uf/apps/bert/bert.py:282: UserWarning: `tf.layers.dense` is deprecated and will be removed in a future version. Please use `tf.keras.layers.Dense` instead.\n",
      "  key_layer = tf.layers.dense(\n",
      "/Users/geyingli/Library/Python/3.8/lib/python/site-packages/uf-2.5.2-py3.8.egg/uf/apps/bert/bert.py:292: UserWarning: `tf.layers.dense` is deprecated and will be removed in a future version. Please use `tf.keras.layers.Dense` instead.\n",
      "  value_layer = tf.layers.dense(\n",
      "/Users/geyingli/Library/Python/3.8/lib/python/site-packages/uf-2.5.2-py3.8.egg/uf/apps/bert/bert.py:416: UserWarning: `tf.layers.dense` is deprecated and will be removed in a future version. Please use `tf.keras.layers.Dense` instead.\n",
      "  attention_output = tf.layers.dense(\n",
      "/Users/geyingli/Library/Python/3.8/lib/python/site-packages/uf-2.5.2-py3.8.egg/uf/apps/bert/bert.py:428: UserWarning: `tf.layers.dense` is deprecated and will be removed in a future version. Please use `tf.keras.layers.Dense` instead.\n",
      "  intermediate_output = tf.layers.dense(\n",
      "/Users/geyingli/Library/Python/3.8/lib/python/site-packages/uf-2.5.2-py3.8.egg/uf/apps/bert/bert.py:438: UserWarning: `tf.layers.dense` is deprecated and will be removed in a future version. Please use `tf.keras.layers.Dense` instead.\n",
      "  layer_output = tf.layers.dense(\n",
      "/Users/geyingli/Library/Python/3.8/lib/python/site-packages/uf-2.5.2-py3.8.egg/uf/apps/bert/bert.py:107: UserWarning: `tf.layers.dense` is deprecated and will be removed in a future version. Please use `tf.keras.layers.Dense` instead.\n",
      "  self.pooled_output = tf.layers.dense(\n"
     ]
    },
    {
     "name": "stdout",
     "output_type": "stream",
     "text": [
      "WARNING:tensorflow:From /Users/geyingli/Library/Python/3.8/lib/python/site-packages/uf-2.5.2-py3.8.egg/uf/apps/crf/crf.py:262: dynamic_rnn (from tensorflow.python.ops.rnn) is deprecated and will be removed in a future version.\n",
      "Instructions for updating:\n",
      "Please use `keras.layers.RNN(cell)`, which is equivalent to this API\n",
      "INFO:tensorflow:Build graph with 305,661,846 parameters (among which 102,281,010 are trainable)\n",
      "INFO:tensorflow:Running local_init_op\n",
      "INFO:tensorflow:Done running local_init_op\n",
      "INFO:tensorflow:Running training on 4 samples (step 0 -> 20)\n",
      "INFO:tensorflow:step 1, f1/nn-token 0.0000, f1/nn-entity 0.0000, f1/v-token 0.0000, f1/v-entity 0.0000, f1/adj-token 0.0000, f1/adj-entity 0.0000, f1/n-token 0.0000, f1/n-entity 0.0000, macro f1/token 0.0000, macro f1/entity 0.0000, micro f1/token 0.1111, micro f1/entity 0.0000, loss 25.157654, 0.10 steps/sec, 0.39 examples/sec\n",
      "INFO:tensorflow:step 2, f1/nn-token 0.0000, f1/nn-entity 0.0000, f1/v-token 0.3333, f1/v-entity 0.0000, f1/adj-token 0.0000, f1/adj-entity 0.0000, f1/n-token 0.0000, f1/n-entity 0.0000, macro f1/token 0.0833, macro f1/entity 0.0000, micro f1/token 0.0208, micro f1/entity 0.0000, loss 24.875532, 0.28 steps/sec, 1.11 examples/sec\n",
      "INFO:tensorflow:step 3, f1/nn-token 0.0000, f1/nn-entity 0.0000, f1/v-token 0.0000, f1/v-entity 0.0000, f1/adj-token 0.0000, f1/adj-entity 0.0000, f1/n-token 0.0000, f1/n-entity 0.0000, macro f1/token 0.0000, macro f1/entity 0.0000, micro f1/token 0.0000, micro f1/entity 0.0000, loss 10.338902, 0.36 steps/sec, 1.44 examples/sec\n",
      "INFO:tensorflow:step 4, f1/nn-token 0.0000, f1/nn-entity 0.0000, f1/v-token 0.0000, f1/v-entity 0.0000, f1/adj-token 0.0000, f1/adj-entity 0.0000, f1/n-token 0.0000, f1/n-entity 0.0000, macro f1/token 0.0000, macro f1/entity 0.0000, micro f1/token 0.0000, micro f1/entity 0.0000, loss 12.361458, 0.37 steps/sec, 1.48 examples/sec\n",
      "INFO:tensorflow:step 5, f1/nn-token 0.0000, f1/nn-entity 0.0000, f1/v-token 0.0000, f1/v-entity 0.0000, f1/adj-token 0.0000, f1/adj-entity 0.0000, f1/n-token 0.0000, f1/n-entity 0.0000, macro f1/token 0.0000, macro f1/entity 0.0000, micro f1/token 0.0000, micro f1/entity 0.0000, loss 10.966962, 0.38 steps/sec, 1.52 examples/sec\n",
      "INFO:tensorflow:step 6, f1/nn-token 0.0000, f1/nn-entity 0.0000, f1/v-token 0.0000, f1/v-entity 0.0000, f1/adj-token 0.0000, f1/adj-entity 0.0000, f1/n-token 0.0000, f1/n-entity 0.0000, macro f1/token 0.0000, macro f1/entity 0.0000, micro f1/token 0.0000, micro f1/entity 0.0000, loss 6.160603, 0.34 steps/sec, 1.38 examples/sec\n",
      "INFO:tensorflow:step 7, f1/nn-token 0.0000, f1/nn-entity 0.0000, f1/v-token 1.0000, f1/v-entity 1.0000, f1/adj-token 1.0000, f1/adj-entity 1.0000, f1/n-token 0.0000, f1/n-entity 0.0000, macro f1/token 0.5000, macro f1/entity 0.5000, micro f1/token 0.6667, micro f1/entity 0.6667, loss 6.535709, 0.37 steps/sec, 1.47 examples/sec\n",
      "INFO:tensorflow:step 8, f1/nn-token 0.0000, f1/nn-entity 0.0000, f1/v-token 1.0000, f1/v-entity 1.0000, f1/adj-token 1.0000, f1/adj-entity 1.0000, f1/n-token 1.0000, f1/n-entity 1.0000, macro f1/token 0.7500, macro f1/entity 0.7500, micro f1/token 0.8571, micro f1/entity 0.8571, loss 7.814543, 0.38 steps/sec, 1.51 examples/sec\n",
      "INFO:tensorflow:step 9, f1/nn-token 1.0000, f1/nn-entity 1.0000, f1/v-token 1.0000, f1/v-entity 1.0000, f1/adj-token 1.0000, f1/adj-entity 1.0000, f1/n-token 1.0000, f1/n-entity 1.0000, macro f1/token 1.0000, macro f1/entity 1.0000, micro f1/token 1.0000, micro f1/entity 1.0000, loss 4.906234, 0.35 steps/sec, 1.38 examples/sec\n",
      "INFO:tensorflow:step 10, f1/nn-token 1.0000, f1/nn-entity 1.0000, f1/v-token 1.0000, f1/v-entity 1.0000, f1/adj-token 1.0000, f1/adj-entity 1.0000, f1/n-token 1.0000, f1/n-entity 1.0000, macro f1/token 1.0000, macro f1/entity 1.0000, micro f1/token 1.0000, micro f1/entity 1.0000, loss 2.267869, 0.36 steps/sec, 1.43 examples/sec\n",
      "INFO:tensorflow:step 11, f1/nn-token 1.0000, f1/nn-entity 1.0000, f1/v-token 0.0000, f1/v-entity 0.0000, f1/adj-token 1.0000, f1/adj-entity 1.0000, f1/n-token 1.0000, f1/n-entity 1.0000, macro f1/token 0.7500, macro f1/entity 0.7500, micro f1/token 0.8571, micro f1/entity 0.8571, loss 1.551854, 0.37 steps/sec, 1.46 examples/sec\n",
      "INFO:tensorflow:step 12, f1/nn-token 1.0000, f1/nn-entity 1.0000, f1/v-token 1.0000, f1/v-entity 1.0000, f1/adj-token 1.0000, f1/adj-entity 1.0000, f1/n-token 1.0000, f1/n-entity 1.0000, macro f1/token 1.0000, macro f1/entity 1.0000, micro f1/token 1.0000, micro f1/entity 1.0000, loss 0.851136, 0.31 steps/sec, 1.25 examples/sec\n",
      "INFO:tensorflow:step 13, f1/nn-token 1.0000, f1/nn-entity 1.0000, f1/v-token 1.0000, f1/v-entity 1.0000, f1/adj-token 1.0000, f1/adj-entity 1.0000, f1/n-token 1.0000, f1/n-entity 1.0000, macro f1/token 1.0000, macro f1/entity 1.0000, micro f1/token 1.0000, micro f1/entity 1.0000, loss 0.416224, 0.33 steps/sec, 1.33 examples/sec\n",
      "INFO:tensorflow:step 14, f1/nn-token 1.0000, f1/nn-entity 1.0000, f1/v-token 1.0000, f1/v-entity 1.0000, f1/adj-token 1.0000, f1/adj-entity 1.0000, f1/n-token 1.0000, f1/n-entity 1.0000, macro f1/token 1.0000, macro f1/entity 1.0000, micro f1/token 1.0000, micro f1/entity 1.0000, loss 0.262762, 0.35 steps/sec, 1.42 examples/sec\n",
      "INFO:tensorflow:step 15, f1/nn-token 1.0000, f1/nn-entity 1.0000, f1/v-token 1.0000, f1/v-entity 1.0000, f1/adj-token 1.0000, f1/adj-entity 1.0000, f1/n-token 1.0000, f1/n-entity 1.0000, macro f1/token 1.0000, macro f1/entity 1.0000, micro f1/token 1.0000, micro f1/entity 1.0000, loss 0.196050, 0.30 steps/sec, 1.19 examples/sec\n",
      "INFO:tensorflow:step 16, f1/nn-token 1.0000, f1/nn-entity 1.0000, f1/v-token 1.0000, f1/v-entity 1.0000, f1/adj-token 1.0000, f1/adj-entity 1.0000, f1/n-token 1.0000, f1/n-entity 1.0000, macro f1/token 1.0000, macro f1/entity 1.0000, micro f1/token 1.0000, micro f1/entity 1.0000, loss 0.120070, 0.28 steps/sec, 1.14 examples/sec\n",
      "INFO:tensorflow:step 17, f1/nn-token 1.0000, f1/nn-entity 1.0000, f1/v-token 1.0000, f1/v-entity 1.0000, f1/adj-token 1.0000, f1/adj-entity 1.0000, f1/n-token 1.0000, f1/n-entity 1.0000, macro f1/token 1.0000, macro f1/entity 1.0000, micro f1/token 1.0000, micro f1/entity 1.0000, loss 0.092283, 0.31 steps/sec, 1.23 examples/sec\n",
      "INFO:tensorflow:step 18, f1/nn-token 1.0000, f1/nn-entity 1.0000, f1/v-token 1.0000, f1/v-entity 1.0000, f1/adj-token 1.0000, f1/adj-entity 1.0000, f1/n-token 1.0000, f1/n-entity 1.0000, macro f1/token 1.0000, macro f1/entity 1.0000, micro f1/token 1.0000, micro f1/entity 1.0000, loss 0.073325, 0.32 steps/sec, 1.29 examples/sec\n",
      "INFO:tensorflow:step 19, f1/nn-token 1.0000, f1/nn-entity 1.0000, f1/v-token 1.0000, f1/v-entity 1.0000, f1/adj-token 1.0000, f1/adj-entity 1.0000, f1/n-token 1.0000, f1/n-entity 1.0000, macro f1/token 1.0000, macro f1/entity 1.0000, micro f1/token 1.0000, micro f1/entity 1.0000, loss 0.051044, 0.34 steps/sec, 1.38 examples/sec\n",
      "INFO:tensorflow:step 20, f1/nn-token 1.0000, f1/nn-entity 1.0000, f1/v-token 1.0000, f1/v-entity 1.0000, f1/adj-token 1.0000, f1/adj-entity 1.0000, f1/n-token 1.0000, f1/n-entity 1.0000, macro f1/token 1.0000, macro f1/entity 1.0000, micro f1/token 1.0000, micro f1/entity 1.0000, loss 0.045602, 0.35 steps/sec, 1.40 examples/sec\n"
     ]
    }
   ],
   "source": [
    "model.fit(X, y, total_steps=20)"
   ]
  },
  {
   "cell_type": "markdown",
   "id": "fallen-hundred",
   "metadata": {},
   "source": [
    "# 推理"
   ]
  },
  {
   "cell_type": "code",
   "execution_count": 5,
   "id": "opposite-pantyhose",
   "metadata": {},
   "outputs": [
    {
     "name": "stdout",
     "output_type": "stream",
     "text": [
      "INFO:tensorflow:Running inference on 4 samples\n",
      "INFO:tensorflow:process 100.0%, 2.09 examples/sec\n"
     ]
    },
    {
     "data": {
      "text/plain": [
       "{'preds': [{'nn': ['天亮']}, {}, {'v': ['迎接']}, {'adj': ['更好'], 'n': ['明天']}],\n",
       " 'logits': array([[[ 9.4326096e+00,  2.8677368e-01, -1.4150966e+00, ...,\n",
       "          -9.5108849e-01, -9.3935454e-01, -1.1775640e+00],\n",
       "         [ 9.1657841e-01,  8.3727570e+00, -5.9891629e-01, ...,\n",
       "          -3.1247884e-01,  2.0064030e+00, -2.5800830e-01],\n",
       "         [ 8.9053726e-01, -9.5767331e-01, -6.9853926e-01, ...,\n",
       "          -1.6346041e+00, -2.4202790e+00, -1.0512772e+00],\n",
       "         ...,\n",
       "         [ 8.4086180e+00, -2.0678535e-01, -1.4165392e+00, ...,\n",
       "          -1.3811046e+00, -1.0116613e+00, -1.4016700e+00],\n",
       "         [ 8.4327803e+00, -4.8608098e-02, -1.3766289e+00, ...,\n",
       "          -1.4886831e+00, -1.1610615e+00, -1.4767731e+00],\n",
       "         [ 8.1813517e+00, -1.3587174e-01, -1.3526697e+00, ...,\n",
       "          -1.5559847e+00, -9.6338207e-01, -1.2510487e+00]],\n",
       " \n",
       "        [[ 9.6308956e+00, -2.2707161e-01, -1.5022658e+00, ...,\n",
       "          -1.0752418e+00, -7.6350570e-01, -1.1689978e+00],\n",
       "         [ 8.6166649e+00,  1.7893753e+00, -1.1158301e+00, ...,\n",
       "          -1.3964369e+00, -1.2581344e+00, -1.1530850e+00],\n",
       "         [ 8.4257202e+00, -1.3581946e+00, -1.6489732e+00, ...,\n",
       "          -1.5131432e+00, -1.3236729e+00, -1.5442374e+00],\n",
       "         ...,\n",
       "         [ 8.7559147e+00, -7.6534867e-01, -1.5064976e+00, ...,\n",
       "          -1.4125956e+00, -7.8107977e-01, -1.3548193e+00],\n",
       "         [ 8.8186655e+00, -6.1787140e-01, -1.4787850e+00, ...,\n",
       "          -1.5092551e+00, -9.0828621e-01, -1.4134502e+00],\n",
       "         [ 8.5627851e+00, -7.0498443e-01, -1.4673903e+00, ...,\n",
       "          -1.5698823e+00, -7.2097003e-01, -1.2078633e+00]],\n",
       " \n",
       "        [[ 9.4598007e+00, -4.3966982e-01, -1.4548299e+00, ...,\n",
       "          -9.2312950e-01, -8.8354892e-01, -1.0745075e+00],\n",
       "         [ 8.0403862e+00,  1.2017907e+00, -1.5453975e+00, ...,\n",
       "          -1.1383642e+00, -2.1102877e+00, -1.4224508e+00],\n",
       "         [ 8.8175291e-01, -1.3033247e+00, -1.0598844e+00, ...,\n",
       "          -9.4447958e-01, -2.2169673e+00, -3.4853211e-01],\n",
       "         ...,\n",
       "         [ 8.1053429e+00, -1.0608218e+00, -1.4666760e+00, ...,\n",
       "          -1.3023828e+00, -8.9982605e-01, -1.2870508e+00],\n",
       "         [ 8.2506495e+00, -9.2106712e-01, -1.4537094e+00, ...,\n",
       "          -1.4178189e+00, -1.0159283e+00, -1.3434469e+00],\n",
       "         [ 7.9027367e+00, -1.0028251e+00, -1.4116018e+00, ...,\n",
       "          -1.4965411e+00, -8.4154582e-01, -1.1087790e+00]],\n",
       " \n",
       "        [[ 9.1577950e+00, -9.4433731e-01, -1.3970249e+00, ...,\n",
       "          -7.1578830e-01,  8.3851553e-03, -1.0643518e+00],\n",
       "         [ 5.4779595e-01,  1.0693945e+00, -9.6711837e-02, ...,\n",
       "          -1.5497069e-01, -6.4572442e-01, -8.4731936e-01],\n",
       "         [-2.1368332e+00, -1.8105744e+00, -1.1340220e+00, ...,\n",
       "          -4.6821970e-01, -3.1740716e-01, -8.1012964e-01],\n",
       "         ...,\n",
       "         [ 7.4472022e+00, -1.6608553e+00, -1.3999200e+00, ...,\n",
       "          -1.1671227e+00,  2.4205035e-01, -1.3134161e+00],\n",
       "         [ 7.4622288e+00, -1.4882514e+00, -1.2882776e+00, ...,\n",
       "          -1.2756897e+00,  1.4010649e-02, -1.4310292e+00],\n",
       "         [ 7.0720687e+00, -1.6421995e+00, -1.3528986e+00, ...,\n",
       "          -1.4214694e+00,  2.3154603e-01, -1.1300036e+00]]], dtype=float32)}"
      ]
     },
     "execution_count": 5,
     "metadata": {},
     "output_type": "execute_result"
    }
   ],
   "source": [
    "model.predict(X)"
   ]
  },
  {
   "cell_type": "markdown",
   "id": "fundamental-poverty",
   "metadata": {},
   "source": [
    "# 评分"
   ]
  },
  {
   "cell_type": "code",
   "execution_count": 6,
   "id": "accessory-lesbian",
   "metadata": {},
   "outputs": [
    {
     "name": "stdout",
     "output_type": "stream",
     "text": [
      "INFO:tensorflow:Running scoring on 4 samples\n",
      "INFO:tensorflow:process 100.0%, 2.94 examples/sec\n"
     ]
    },
    {
     "data": {
      "text/plain": [
       "{'f1/nn-token': 1.0,\n",
       " 'f1/nn-entity': 1.0,\n",
       " 'f1/v-token': 1.0,\n",
       " 'f1/v-entity': 1.0,\n",
       " 'f1/adj-token': 1.0,\n",
       " 'f1/adj-entity': 1.0,\n",
       " 'f1/n-token': 1.0,\n",
       " 'f1/n-entity': 1.0,\n",
       " 'macro f1/token': 1.0,\n",
       " 'macro f1/entity': 1.0,\n",
       " 'micro f1/token': 1.0,\n",
       " 'micro f1/entity': 1.0,\n",
       " 'loss': 0.020977974}"
      ]
     },
     "execution_count": 6,
     "metadata": {},
     "output_type": "execute_result"
    }
   ],
   "source": [
    "model.score(X, y)"
   ]
  }
 ],
 "metadata": {
  "kernelspec": {
   "display_name": "Python 3.9.13 64-bit",
   "language": "python",
   "name": "python3"
  },
  "language_info": {
   "codemirror_mode": {
    "name": "ipython",
    "version": 3
   },
   "file_extension": ".py",
   "mimetype": "text/x-python",
   "name": "python",
   "nbconvert_exporter": "python",
   "pygments_lexer": "ipython3",
   "version": "3.8.2"
  },
  "vscode": {
   "interpreter": {
    "hash": "265fd6f62f200408acbbeae0248f34bed9f93569a643842b7a25d2cd76cae5e5"
   }
  }
 },
 "nbformat": 4,
 "nbformat_minor": 5
}
