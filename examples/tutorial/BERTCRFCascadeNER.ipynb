{
 "cells": [
  {
   "cell_type": "code",
   "execution_count": 1,
   "id": "rotary-academy",
   "metadata": {},
   "outputs": [
    {
     "name": "stdout",
     "output_type": "stream",
     "text": [
      "beta v2.8.0\n"
     ]
    }
   ],
   "source": [
    "import uf\n",
    "\n",
    "print(uf.__version__)"
   ]
  },
  {
   "cell_type": "code",
   "execution_count": 2,
   "id": "velvet-symbol",
   "metadata": {},
   "outputs": [
    {
     "name": "stdout",
     "output_type": "stream",
     "text": [
      "uf.BERTCRFCascadeNER(config_file='../demo/bert_config.json', vocab_file='../demo/vocab.txt', max_seq_length=128, init_checkpoint=None, output_dir=None, gpu_ids=None, do_lower_case=True, entity_types=None, truncate_method='LIFO')\n"
     ]
    }
   ],
   "source": [
    "model = uf.BERTCRFCascadeNER('../../demo/bert_config.json', '../../demo/vocab.txt')\n",
    "print(model)"
   ]
  },
  {
   "cell_type": "code",
   "execution_count": 3,
   "id": "drawn-breathing",
   "metadata": {},
   "outputs": [],
   "source": [
    "X = ['天亮以前说再见', '笑着泪流满面', '去迎接应该你的', '更好的明天']\n",
    "y = [{'nn': ['天亮']}, {}, {'v': ['迎接']}, {'adj': ['更好'], 'n': ['明天']}]"
   ]
  },
  {
   "cell_type": "markdown",
   "id": "vanilla-fault",
   "metadata": {},
   "source": [
    "# 训练"
   ]
  },
  {
   "cell_type": "code",
   "execution_count": 4,
   "id": "excellent-religion",
   "metadata": {},
   "outputs": [
    {
     "name": "stdout",
     "output_type": "stream",
     "text": [
      "WARNING:tensorflow:From /Users/geyingli/Library/Python/3.8/lib/python/site-packages/tensorflow/python/util/dispatch.py:201: calling dropout (from tensorflow.python.ops.nn_ops) with keep_prob is deprecated and will be removed in a future version.\n",
      "Instructions for updating:\n",
      "Please use `rate` instead of `keep_prob`. Rate should be set to `rate = 1 - keep_prob`.\n"
     ]
    },
    {
     "name": "stderr",
     "output_type": "stream",
     "text": [
      "/Users/geyingli/Library/Python/3.8/lib/python/site-packages/tensorflow/python/keras/legacy_tf_layers/core.py:171: UserWarning: `tf.layers.dense` is deprecated and will be removed in a future version. Please use `tf.keras.layers.Dense` instead.\n",
      "  warnings.warn('`tf.layers.dense` is deprecated and '\n",
      "/Users/geyingli/Library/Python/3.8/lib/python/site-packages/tensorflow/python/keras/engine/base_layer_v1.py:1719: UserWarning: `layer.apply` is deprecated and will be removed in a future version. Please use `layer.__call__` method instead.\n",
      "  warnings.warn('`layer.apply` is deprecated and '\n"
     ]
    },
    {
     "name": "stdout",
     "output_type": "stream",
     "text": [
      "WARNING:tensorflow:From /Users/geyingli/Library/Python/3.8/lib/python/site-packages/uf-beta.v2.8.0-py3.8.egg/uf/modeling/crf.py:276: dynamic_rnn (from tensorflow.python.ops.rnn) is deprecated and will be removed in a future version.\n",
      "Instructions for updating:\n",
      "Please use `keras.layers.RNN(cell)`, which is equivalent to this API\n",
      "INFO:tensorflow:Build graph with 305,661,846 parameters (among which 102,281,010 are trainable)\n",
      "INFO:tensorflow:Running local_init_op\n",
      "INFO:tensorflow:Done running local_init_op\n",
      "INFO:tensorflow:Running training on 4 samples (step 0 -> 20)\n",
      "INFO:tensorflow:step 1, f1/nn-token 0.0000, f1/nn-entity 0.0000, f1/v-token 0.0000, f1/v-entity 0.0000, f1/adj-token 0.0000, f1/adj-entity 0.0000, f1/n-token 0.0000, f1/n-entity 0.0000, macro f1/token 0.0000, macro f1/entity 0.0000, micro f1/token 0.3810, micro f1/entity 0.1250, loss 24.473631, 0.03 steps/sec, 0.10 examples/sec\n",
      "INFO:tensorflow:step 2, f1/nn-token 0.0000, f1/nn-entity 0.0000, f1/v-token 0.0000, f1/v-entity 0.0000, f1/adj-token 0.0000, f1/adj-entity 0.0000, f1/n-token 0.0000, f1/n-entity 0.0000, macro f1/token 0.0000, macro f1/entity 0.0000, micro f1/token 0.1250, micro f1/entity 0.0000, loss 24.533543, 0.16 steps/sec, 0.65 examples/sec\n",
      "INFO:tensorflow:step 3, f1/nn-token 0.0000, f1/nn-entity 0.0000, f1/v-token 0.0000, f1/v-entity 0.0000, f1/adj-token 0.0000, f1/adj-entity 0.0000, f1/n-token 0.0000, f1/n-entity 0.0000, macro f1/token 0.0000, macro f1/entity 0.0000, micro f1/token 0.0000, micro f1/entity 0.0000, loss 10.886515, 0.15 steps/sec, 0.61 examples/sec\n",
      "INFO:tensorflow:step 4, f1/nn-token 0.0000, f1/nn-entity 0.0000, f1/v-token 0.0000, f1/v-entity 0.0000, f1/adj-token 0.0000, f1/adj-entity 0.0000, f1/n-token 0.0000, f1/n-entity 0.0000, macro f1/token 0.0000, macro f1/entity 0.0000, micro f1/token 0.0000, micro f1/entity 0.0000, loss 12.536799, 0.18 steps/sec, 0.73 examples/sec\n",
      "INFO:tensorflow:step 5, f1/nn-token 0.0000, f1/nn-entity 0.0000, f1/v-token 0.0000, f1/v-entity 0.0000, f1/adj-token 0.0000, f1/adj-entity 0.0000, f1/n-token 0.0000, f1/n-entity 0.0000, macro f1/token 0.0000, macro f1/entity 0.0000, micro f1/token 0.0000, micro f1/entity 0.0000, loss 10.435758, 0.19 steps/sec, 0.78 examples/sec\n",
      "INFO:tensorflow:step 6, f1/nn-token 0.0000, f1/nn-entity 0.0000, f1/v-token 0.0000, f1/v-entity 0.0000, f1/adj-token 0.0000, f1/adj-entity 0.0000, f1/n-token 0.0000, f1/n-entity 0.0000, macro f1/token 0.0000, macro f1/entity 0.0000, micro f1/token 0.0000, micro f1/entity 0.0000, loss 6.435435, 0.21 steps/sec, 0.82 examples/sec\n",
      "INFO:tensorflow:step 7, f1/nn-token 1.0000, f1/nn-entity 1.0000, f1/v-token 0.0000, f1/v-entity 0.0000, f1/adj-token 1.0000, f1/adj-entity 1.0000, f1/n-token 0.0000, f1/n-entity 0.0000, macro f1/token 0.5000, macro f1/entity 0.5000, micro f1/token 0.6667, micro f1/entity 0.6667, loss 6.953330, 0.28 steps/sec, 1.13 examples/sec\n",
      "INFO:tensorflow:step 8, f1/nn-token 1.0000, f1/nn-entity 1.0000, f1/v-token 0.0000, f1/v-entity 0.0000, f1/adj-token 0.6667, f1/adj-entity 0.6667, f1/n-token 1.0000, f1/n-entity 1.0000, macro f1/token 0.6667, macro f1/entity 0.6667, micro f1/token 0.7500, micro f1/entity 0.7500, loss 7.531495, 0.29 steps/sec, 1.15 examples/sec\n",
      "INFO:tensorflow:step 9, f1/nn-token 1.0000, f1/nn-entity 1.0000, f1/v-token 1.0000, f1/v-entity 1.0000, f1/adj-token 1.0000, f1/adj-entity 1.0000, f1/n-token 1.0000, f1/n-entity 1.0000, macro f1/token 1.0000, macro f1/entity 1.0000, micro f1/token 1.0000, micro f1/entity 1.0000, loss 5.233657, 0.28 steps/sec, 1.13 examples/sec\n",
      "INFO:tensorflow:step 10, f1/nn-token 1.0000, f1/nn-entity 1.0000, f1/v-token 0.0000, f1/v-entity 0.0000, f1/adj-token 0.0000, f1/adj-entity 0.0000, f1/n-token 1.0000, f1/n-entity 1.0000, macro f1/token 0.5000, macro f1/entity 0.5000, micro f1/token 0.6667, micro f1/entity 0.6667, loss 2.880207, 0.29 steps/sec, 1.15 examples/sec\n",
      "INFO:tensorflow:step 11, f1/nn-token 1.0000, f1/nn-entity 1.0000, f1/v-token 0.0000, f1/v-entity 0.0000, f1/adj-token 0.0000, f1/adj-entity 0.0000, f1/n-token 0.0000, f1/n-entity 0.0000, macro f1/token 0.2500, macro f1/entity 0.2500, micro f1/token 0.4000, micro f1/entity 0.4000, loss 2.168166, 0.29 steps/sec, 1.16 examples/sec\n",
      "INFO:tensorflow:step 12, f1/nn-token 1.0000, f1/nn-entity 1.0000, f1/v-token 0.0000, f1/v-entity 0.0000, f1/adj-token 1.0000, f1/adj-entity 1.0000, f1/n-token 1.0000, f1/n-entity 1.0000, macro f1/token 0.7500, macro f1/entity 0.7500, micro f1/token 0.8571, micro f1/entity 0.8571, loss 1.169214, 0.28 steps/sec, 1.13 examples/sec\n",
      "INFO:tensorflow:step 13, f1/nn-token 1.0000, f1/nn-entity 1.0000, f1/v-token 1.0000, f1/v-entity 1.0000, f1/adj-token 1.0000, f1/adj-entity 1.0000, f1/n-token 1.0000, f1/n-entity 1.0000, macro f1/token 1.0000, macro f1/entity 1.0000, micro f1/token 1.0000, micro f1/entity 1.0000, loss 0.666880, 0.33 steps/sec, 1.30 examples/sec\n",
      "INFO:tensorflow:step 14, f1/nn-token 1.0000, f1/nn-entity 1.0000, f1/v-token 1.0000, f1/v-entity 1.0000, f1/adj-token 1.0000, f1/adj-entity 1.0000, f1/n-token 1.0000, f1/n-entity 1.0000, macro f1/token 1.0000, macro f1/entity 1.0000, micro f1/token 1.0000, micro f1/entity 1.0000, loss 0.478004, 0.41 steps/sec, 1.66 examples/sec\n",
      "INFO:tensorflow:step 15, f1/nn-token 1.0000, f1/nn-entity 1.0000, f1/v-token 1.0000, f1/v-entity 1.0000, f1/adj-token 1.0000, f1/adj-entity 1.0000, f1/n-token 1.0000, f1/n-entity 1.0000, macro f1/token 1.0000, macro f1/entity 1.0000, micro f1/token 1.0000, micro f1/entity 1.0000, loss 0.299625, 0.47 steps/sec, 1.88 examples/sec\n",
      "INFO:tensorflow:step 16, f1/nn-token 1.0000, f1/nn-entity 1.0000, f1/v-token 1.0000, f1/v-entity 1.0000, f1/adj-token 1.0000, f1/adj-entity 1.0000, f1/n-token 1.0000, f1/n-entity 1.0000, macro f1/token 1.0000, macro f1/entity 1.0000, micro f1/token 1.0000, micro f1/entity 1.0000, loss 0.207202, 0.46 steps/sec, 1.86 examples/sec\n",
      "INFO:tensorflow:step 17, f1/nn-token 1.0000, f1/nn-entity 1.0000, f1/v-token 1.0000, f1/v-entity 1.0000, f1/adj-token 1.0000, f1/adj-entity 1.0000, f1/n-token 1.0000, f1/n-entity 1.0000, macro f1/token 1.0000, macro f1/entity 1.0000, micro f1/token 1.0000, micro f1/entity 1.0000, loss 0.117557, 0.46 steps/sec, 1.85 examples/sec\n",
      "INFO:tensorflow:step 18, f1/nn-token 1.0000, f1/nn-entity 1.0000, f1/v-token 1.0000, f1/v-entity 1.0000, f1/adj-token 1.0000, f1/adj-entity 1.0000, f1/n-token 1.0000, f1/n-entity 1.0000, macro f1/token 1.0000, macro f1/entity 1.0000, micro f1/token 1.0000, micro f1/entity 1.0000, loss 0.087296, 0.42 steps/sec, 1.67 examples/sec\n",
      "INFO:tensorflow:step 19, f1/nn-token 1.0000, f1/nn-entity 1.0000, f1/v-token 1.0000, f1/v-entity 1.0000, f1/adj-token 1.0000, f1/adj-entity 1.0000, f1/n-token 1.0000, f1/n-entity 1.0000, macro f1/token 1.0000, macro f1/entity 1.0000, micro f1/token 1.0000, micro f1/entity 1.0000, loss 0.078930, 0.42 steps/sec, 1.67 examples/sec\n",
      "INFO:tensorflow:step 20, f1/nn-token 1.0000, f1/nn-entity 1.0000, f1/v-token 1.0000, f1/v-entity 1.0000, f1/adj-token 1.0000, f1/adj-entity 1.0000, f1/n-token 1.0000, f1/n-entity 1.0000, macro f1/token 1.0000, macro f1/entity 1.0000, micro f1/token 1.0000, micro f1/entity 1.0000, loss 0.061950, 0.47 steps/sec, 1.87 examples/sec\n"
     ]
    }
   ],
   "source": [
    "model.fit(X, y, total_steps=20)"
   ]
  },
  {
   "cell_type": "markdown",
   "id": "fallen-hundred",
   "metadata": {},
   "source": [
    "# 推理"
   ]
  },
  {
   "cell_type": "code",
   "execution_count": 5,
   "id": "opposite-pantyhose",
   "metadata": {},
   "outputs": [
    {
     "name": "stdout",
     "output_type": "stream",
     "text": [
      "INFO:tensorflow:Time usage 0m-1.27s, 0.78 steps/sec, 3.14 examples/sec\n"
     ]
    },
    {
     "data": {
      "text/plain": [
       "{'preds': [{'nn': ['天亮']}, {}, {'v': ['迎接']}, {'adj': ['更好'], 'n': ['明天']}],\n",
       " 'logits': array([[[ 9.935529  ,  0.4929256 , -0.76074547, ..., -0.2704585 ,\n",
       "          -0.66973484, -0.41963622],\n",
       "         [ 0.7246664 ,  7.7948427 , -0.5418258 , ..., -1.1464493 ,\n",
       "           1.3062254 , -0.42332762],\n",
       "         [ 1.3930932 ,  0.20384176, -0.75736636, ..., -0.69760084,\n",
       "          -1.464892  , -0.39888588],\n",
       "         ...,\n",
       "         [ 8.210606  ,  0.87293637, -0.45192307, ..., -0.57918364,\n",
       "          -0.24105223, -0.6882182 ],\n",
       "         [ 8.155235  ,  0.4705295 , -0.6203322 , ..., -0.36241484,\n",
       "          -0.87105167, -0.40080664],\n",
       "         [ 7.884633  ,  1.5035677 , -1.2138199 , ..., -0.36795002,\n",
       "          -0.5656729 , -0.33838522]],\n",
       " \n",
       "        [[10.132825  ,  0.08828237, -0.6777577 , ..., -0.05329904,\n",
       "          -0.5199346 , -0.5516998 ],\n",
       "         [ 8.729524  ,  2.146946  , -0.46525475, ..., -0.6698172 ,\n",
       "          -1.4829341 , -0.769124  ],\n",
       "         [ 9.036055  , -0.17512475, -1.1025393 , ..., -0.3143292 ,\n",
       "          -0.9605323 , -0.8656826 ],\n",
       "         ...,\n",
       "         [ 8.796944  ,  0.26476666, -0.39707634, ..., -0.3188287 ,\n",
       "          -0.12815858, -0.76532155],\n",
       "         [ 8.785165  , -0.07263467, -0.58985966, ..., -0.08727649,\n",
       "          -0.67655206, -0.5136214 ],\n",
       "         [ 8.621991  ,  0.77864045, -1.0655352 , ..., -0.07648051,\n",
       "          -0.37137413, -0.47539616]],\n",
       " \n",
       "        [[ 9.981838  , -0.38393173, -0.6354868 , ...,  0.05223035,\n",
       "          -0.7462353 , -0.46630725],\n",
       "         [ 8.587231  ,  1.8682793 , -0.6874905 , ..., -0.69324946,\n",
       "          -1.6641704 , -0.6209184 ],\n",
       "         [ 2.361987  , -0.49363592, -0.1765182 , ..., -0.20269115,\n",
       "          -1.6625545 , -0.7290845 ],\n",
       "         ...,\n",
       "         [ 8.356304  , -0.30901155, -0.31380615, ..., -0.22104448,\n",
       "          -0.29796982, -0.69298816],\n",
       "         [ 8.333486  , -0.6827507 , -0.47814298, ...,  0.04610736,\n",
       "          -0.93619704, -0.37303618],\n",
       "         [ 8.1783285 ,  0.27108935, -1.0630794 , ...,  0.04415428,\n",
       "          -0.6357902 , -0.3569584 ]],\n",
       " \n",
       "        [[ 9.682807  , -0.6695919 , -0.6215581 , ..., -0.31092083,\n",
       "           0.19540189, -0.56617874],\n",
       "         [ 2.395033  ,  1.9872173 , -0.3538273 , ..., -1.6430428 ,\n",
       "          -0.7251852 , -0.37615645],\n",
       "         [ 0.5642318 , -1.0628597 , -0.70988005, ..., -0.4762045 ,\n",
       "          -0.46956715, -0.75795245],\n",
       "         ...,\n",
       "         [ 7.0307765 , -0.5540979 , -0.21731256, ..., -0.7092246 ,\n",
       "           1.0018061 , -0.89806944],\n",
       "         [ 7.010512  , -1.0297754 , -0.43424082, ..., -0.48795646,\n",
       "           0.27996042, -0.5676161 ],\n",
       "         [ 6.6788225 ,  0.10790045, -1.0605367 , ..., -0.42547345,\n",
       "           0.6717844 , -0.5246673 ]]], dtype=float32)}"
      ]
     },
     "execution_count": 5,
     "metadata": {},
     "output_type": "execute_result"
    }
   ],
   "source": [
    "model.predict(X)"
   ]
  },
  {
   "cell_type": "markdown",
   "id": "fundamental-poverty",
   "metadata": {},
   "source": [
    "# 评分"
   ]
  },
  {
   "cell_type": "code",
   "execution_count": 6,
   "id": "accessory-lesbian",
   "metadata": {},
   "outputs": [
    {
     "name": "stdout",
     "output_type": "stream",
     "text": [
      "INFO:tensorflow:Time usage 0m-0.90s, 1.11 steps/sec, 4.46 examples/sec\n"
     ]
    },
    {
     "data": {
      "text/plain": [
       "{'f1/nn-token': 0.9999990000004999,\n",
       " 'f1/nn-entity': 0.9999985000012501,\n",
       " 'f1/v-token': 0.9999990000004999,\n",
       " 'f1/v-entity': 0.9999985000012501,\n",
       " 'f1/adj-token': 0.9999990000004999,\n",
       " 'f1/adj-entity': 0.9999985000012501,\n",
       " 'f1/n-token': 0.9999990000004999,\n",
       " 'f1/n-entity': 0.9999985000012501,\n",
       " 'macro f1/token': 0.9999990000004999,\n",
       " 'macro f1/entity': 0.9999985000012501,\n",
       " 'micro f1/token': 0.9999993750002658,\n",
       " 'micro f1/entity': 0.9999992500003125,\n",
       " 'loss': 0.032183647}"
      ]
     },
     "execution_count": 6,
     "metadata": {},
     "output_type": "execute_result"
    }
   ],
   "source": [
    "model.score(X, y)"
   ]
  }
 ],
 "metadata": {
  "kernelspec": {
   "display_name": "Python 3",
   "language": "python",
   "name": "python3"
  },
  "language_info": {
   "codemirror_mode": {
    "name": "ipython",
    "version": 3
   },
   "file_extension": ".py",
   "mimetype": "text/x-python",
   "name": "python",
   "nbconvert_exporter": "python",
   "pygments_lexer": "ipython3",
   "version": "3.8.2"
  }
 },
 "nbformat": 4,
 "nbformat_minor": 5
}
