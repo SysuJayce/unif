{
 "cells": [
  {
   "cell_type": "code",
   "execution_count": 1,
   "id": "rotary-academy",
   "metadata": {},
   "outputs": [
    {
     "name": "stdout",
     "output_type": "stream",
     "text": [
      "v2.3.2\n"
     ]
    }
   ],
   "source": [
    "import uf\n",
    "\n",
    "print(uf.__version__)"
   ]
  },
  {
   "cell_type": "code",
   "execution_count": 2,
   "id": "velvet-symbol",
   "metadata": {},
   "outputs": [
    {
     "name": "stdout",
     "output_type": "stream",
     "text": [
      "uf.BERTCRFCascadeNER(config_file=\"../../demo/bert_config.json\", vocab_file=\"../../demo/vocab.txt\", max_seq_length=128, init_checkpoint=None, output_dir=None, gpu_ids=None, do_lower_case=True, entity_types=None, truncate_method=\"LIFO\")\n"
     ]
    }
   ],
   "source": [
    "model = uf.BERTCRFCascadeNER('../../demo/bert_config.json', '../../demo/vocab.txt')\n",
    "print(model)"
   ]
  },
  {
   "cell_type": "code",
   "execution_count": 3,
   "id": "drawn-breathing",
   "metadata": {},
   "outputs": [],
   "source": [
    "X = ['天亮以前说再见', '笑着泪流满面', '去迎接应该你的', '更好的明天']\n",
    "y = [{'nn': ['天亮']}, {}, {'v': ['迎接']}, {'adj': ['更好'], 'n': ['明天']}]"
   ]
  },
  {
   "cell_type": "markdown",
   "id": "vanilla-fault",
   "metadata": {},
   "source": [
    "# 训练"
   ]
  },
  {
   "cell_type": "code",
   "execution_count": 4,
   "id": "excellent-religion",
   "metadata": {},
   "outputs": [
    {
     "name": "stdout",
     "output_type": "stream",
     "text": [
      "WARNING:tensorflow:From /Users/geyingli/Library/Python/3.8/lib/python/site-packages/tensorflow/python/util/dispatch.py:1096: calling dropout (from tensorflow.python.ops.nn_ops) with keep_prob is deprecated and will be removed in a future version.\n",
      "Instructions for updating:\n",
      "Please use `rate` instead of `keep_prob`. Rate should be set to `rate = 1 - keep_prob`.\n"
     ]
    },
    {
     "name": "stderr",
     "output_type": "stream",
     "text": [
      "/Users/geyingli/Library/Python/3.8/lib/python/site-packages/uf-2.3.2-py3.8.egg/uf/modeling/bert.py:282: UserWarning: `tf.layers.dense` is deprecated and will be removed in a future version. Please use `tf.keras.layers.Dense` instead.\n",
      "  query_layer = tf.layers.dense(\n",
      "/Users/geyingli/Library/Python/3.8/lib/python/site-packages/keras/legacy_tf_layers/core.py:255: UserWarning: `layer.apply` is deprecated and will be removed in a future version. Please use `layer.__call__` method instead.\n",
      "  return layer.apply(inputs)\n",
      "/Users/geyingli/Library/Python/3.8/lib/python/site-packages/uf-2.3.2-py3.8.egg/uf/modeling/bert.py:291: UserWarning: `tf.layers.dense` is deprecated and will be removed in a future version. Please use `tf.keras.layers.Dense` instead.\n",
      "  key_layer = tf.layers.dense(\n",
      "/Users/geyingli/Library/Python/3.8/lib/python/site-packages/uf-2.3.2-py3.8.egg/uf/modeling/bert.py:300: UserWarning: `tf.layers.dense` is deprecated and will be removed in a future version. Please use `tf.keras.layers.Dense` instead.\n",
      "  value_layer = tf.layers.dense(\n",
      "/Users/geyingli/Library/Python/3.8/lib/python/site-packages/uf-2.3.2-py3.8.egg/uf/modeling/bert.py:430: UserWarning: `tf.layers.dense` is deprecated and will be removed in a future version. Please use `tf.keras.layers.Dense` instead.\n",
      "  attention_output = tf.layers.dense(\n",
      "/Users/geyingli/Library/Python/3.8/lib/python/site-packages/uf-2.3.2-py3.8.egg/uf/modeling/bert.py:445: UserWarning: `tf.layers.dense` is deprecated and will be removed in a future version. Please use `tf.keras.layers.Dense` instead.\n",
      "  intermediate_output = tf.layers.dense(\n",
      "/Users/geyingli/Library/Python/3.8/lib/python/site-packages/uf-2.3.2-py3.8.egg/uf/modeling/bert.py:455: UserWarning: `tf.layers.dense` is deprecated and will be removed in a future version. Please use `tf.keras.layers.Dense` instead.\n",
      "  layer_output = tf.layers.dense(\n"
     ]
    },
    {
     "name": "stdout",
     "output_type": "stream",
     "text": [
      "WARNING:tensorflow:From /Users/geyingli/Library/Python/3.8/lib/python/site-packages/uf-2.3.2-py3.8.egg/uf/modeling/crf.py:262: dynamic_rnn (from tensorflow.python.ops.rnn) is deprecated and will be removed in a future version.\n",
      "Instructions for updating:\n",
      "Please use `keras.layers.RNN(cell)`, which is equivalent to this API\n"
     ]
    },
    {
     "name": "stderr",
     "output_type": "stream",
     "text": [
      "/Users/geyingli/Library/Python/3.8/lib/python/site-packages/uf-2.3.2-py3.8.egg/uf/modeling/bert.py:107: UserWarning: `tf.layers.dense` is deprecated and will be removed in a future version. Please use `tf.keras.layers.Dense` instead.\n",
      "  self.pooled_output = tf.layers.dense(\n"
     ]
    },
    {
     "name": "stdout",
     "output_type": "stream",
     "text": [
      "INFO:tensorflow:Build graph with 305,661,846 parameters (among which 102,281,010 are trainable)\n",
      "INFO:tensorflow:Running local_init_op\n",
      "INFO:tensorflow:Done running local_init_op\n",
      "INFO:tensorflow:Running training on 4 samples (step 0 -> 20)\n",
      "INFO:tensorflow:step 1, f1/nn-token 0.1333, f1/nn-entity 0.0000, f1/v-token 0.0000, f1/v-entity 0.0000, f1/adj-token 0.0000, f1/adj-entity 0.0000, f1/n-token 0.0000, f1/n-entity 0.0000, macro f1/token 0.0333, macro f1/entity 0.0000, micro f1/token 0.3529, micro f1/entity 0.0000, loss 26.439495, 0.02 steps/sec, 0.07 examples/sec\n",
      "INFO:tensorflow:step 2, f1/nn-token 0.0000, f1/nn-entity 0.0000, f1/v-token 0.0000, f1/v-entity 0.0000, f1/adj-token 0.0000, f1/adj-entity 0.0000, f1/n-token 0.0000, f1/n-entity 0.0000, macro f1/token 0.0000, macro f1/entity 0.0000, micro f1/token 0.3529, micro f1/entity 0.0000, loss 25.554798, 0.09 steps/sec, 0.34 examples/sec\n",
      "INFO:tensorflow:step 3, f1/nn-token 0.0000, f1/nn-entity 0.0000, f1/v-token 0.0000, f1/v-entity 0.0000, f1/adj-token 0.0000, f1/adj-entity 0.0000, f1/n-token 0.0000, f1/n-entity 0.0000, macro f1/token 0.0000, macro f1/entity 0.0000, micro f1/token 0.0000, micro f1/entity 0.0000, loss 9.864437, 0.20 steps/sec, 0.82 examples/sec\n",
      "INFO:tensorflow:step 4, f1/nn-token 0.0000, f1/nn-entity 0.0000, f1/v-token 0.0000, f1/v-entity 0.0000, f1/adj-token 0.0000, f1/adj-entity 0.0000, f1/n-token 0.0000, f1/n-entity 0.0000, macro f1/token 0.0000, macro f1/entity 0.0000, micro f1/token 0.0000, micro f1/entity 0.0000, loss 11.590662, 0.17 steps/sec, 0.70 examples/sec\n",
      "INFO:tensorflow:step 5, f1/nn-token 0.0000, f1/nn-entity 0.0000, f1/v-token 0.0000, f1/v-entity 0.0000, f1/adj-token 0.0000, f1/adj-entity 0.0000, f1/n-token 0.0000, f1/n-entity 0.0000, macro f1/token 0.0000, macro f1/entity 0.0000, micro f1/token 0.0000, micro f1/entity 0.0000, loss 10.030455, 0.17 steps/sec, 0.67 examples/sec\n",
      "INFO:tensorflow:step 6, f1/nn-token 0.0000, f1/nn-entity 0.0000, f1/v-token 0.0000, f1/v-entity 0.0000, f1/adj-token 0.0000, f1/adj-entity 0.0000, f1/n-token 0.0000, f1/n-entity 0.0000, macro f1/token 0.0000, macro f1/entity 0.0000, micro f1/token 0.0000, micro f1/entity 0.0000, loss 5.993011, 0.15 steps/sec, 0.59 examples/sec\n",
      "INFO:tensorflow:step 7, f1/nn-token 0.0000, f1/nn-entity 0.0000, f1/v-token 1.0000, f1/v-entity 1.0000, f1/adj-token 1.0000, f1/adj-entity 1.0000, f1/n-token 1.0000, f1/n-entity 1.0000, macro f1/token 0.7500, macro f1/entity 0.7500, micro f1/token 0.8571, micro f1/entity 0.8571, loss 5.339026, 0.12 steps/sec, 0.48 examples/sec\n",
      "INFO:tensorflow:step 8, f1/nn-token 1.0000, f1/nn-entity 1.0000, f1/v-token 1.0000, f1/v-entity 1.0000, f1/adj-token 1.0000, f1/adj-entity 1.0000, f1/n-token 1.0000, f1/n-entity 1.0000, macro f1/token 1.0000, macro f1/entity 1.0000, micro f1/token 1.0000, micro f1/entity 1.0000, loss 5.972254, 0.19 steps/sec, 0.77 examples/sec\n",
      "INFO:tensorflow:step 9, f1/nn-token 1.0000, f1/nn-entity 1.0000, f1/v-token 1.0000, f1/v-entity 1.0000, f1/adj-token 1.0000, f1/adj-entity 1.0000, f1/n-token 1.0000, f1/n-entity 1.0000, macro f1/token 1.0000, macro f1/entity 1.0000, micro f1/token 1.0000, micro f1/entity 1.0000, loss 3.629684, 0.31 steps/sec, 1.22 examples/sec\n",
      "INFO:tensorflow:step 10, f1/nn-token 1.0000, f1/nn-entity 1.0000, f1/v-token 1.0000, f1/v-entity 1.0000, f1/adj-token 1.0000, f1/adj-entity 1.0000, f1/n-token 1.0000, f1/n-entity 1.0000, macro f1/token 1.0000, macro f1/entity 1.0000, micro f1/token 1.0000, micro f1/entity 1.0000, loss 1.777565, 0.31 steps/sec, 1.23 examples/sec\n",
      "INFO:tensorflow:step 11, f1/nn-token 1.0000, f1/nn-entity 1.0000, f1/v-token 1.0000, f1/v-entity 1.0000, f1/adj-token 1.0000, f1/adj-entity 1.0000, f1/n-token 1.0000, f1/n-entity 1.0000, macro f1/token 1.0000, macro f1/entity 1.0000, micro f1/token 1.0000, micro f1/entity 1.0000, loss 0.953326, 0.31 steps/sec, 1.24 examples/sec\n",
      "INFO:tensorflow:step 12, f1/nn-token 1.0000, f1/nn-entity 1.0000, f1/v-token 1.0000, f1/v-entity 1.0000, f1/adj-token 1.0000, f1/adj-entity 1.0000, f1/n-token 1.0000, f1/n-entity 1.0000, macro f1/token 1.0000, macro f1/entity 1.0000, micro f1/token 1.0000, micro f1/entity 1.0000, loss 0.518340, 0.36 steps/sec, 1.44 examples/sec\n",
      "INFO:tensorflow:step 13, f1/nn-token 1.0000, f1/nn-entity 1.0000, f1/v-token 1.0000, f1/v-entity 1.0000, f1/adj-token 1.0000, f1/adj-entity 1.0000, f1/n-token 1.0000, f1/n-entity 1.0000, macro f1/token 1.0000, macro f1/entity 1.0000, micro f1/token 1.0000, micro f1/entity 1.0000, loss 0.248176, 0.21 steps/sec, 0.84 examples/sec\n",
      "INFO:tensorflow:step 14, f1/nn-token 1.0000, f1/nn-entity 1.0000, f1/v-token 1.0000, f1/v-entity 1.0000, f1/adj-token 1.0000, f1/adj-entity 1.0000, f1/n-token 1.0000, f1/n-entity 1.0000, macro f1/token 1.0000, macro f1/entity 1.0000, micro f1/token 1.0000, micro f1/entity 1.0000, loss 0.147295, 0.20 steps/sec, 0.80 examples/sec\n",
      "INFO:tensorflow:step 15, f1/nn-token 1.0000, f1/nn-entity 1.0000, f1/v-token 1.0000, f1/v-entity 1.0000, f1/adj-token 1.0000, f1/adj-entity 1.0000, f1/n-token 1.0000, f1/n-entity 1.0000, macro f1/token 1.0000, macro f1/entity 1.0000, micro f1/token 1.0000, micro f1/entity 1.0000, loss 0.107134, 0.14 steps/sec, 0.57 examples/sec\n",
      "INFO:tensorflow:step 16, f1/nn-token 1.0000, f1/nn-entity 1.0000, f1/v-token 1.0000, f1/v-entity 1.0000, f1/adj-token 1.0000, f1/adj-entity 1.0000, f1/n-token 1.0000, f1/n-entity 1.0000, macro f1/token 1.0000, macro f1/entity 1.0000, micro f1/token 1.0000, micro f1/entity 1.0000, loss 0.074621, 0.17 steps/sec, 0.67 examples/sec\n",
      "INFO:tensorflow:step 17, f1/nn-token 1.0000, f1/nn-entity 1.0000, f1/v-token 1.0000, f1/v-entity 1.0000, f1/adj-token 1.0000, f1/adj-entity 1.0000, f1/n-token 1.0000, f1/n-entity 1.0000, macro f1/token 1.0000, macro f1/entity 1.0000, micro f1/token 1.0000, micro f1/entity 1.0000, loss 0.055215, 0.16 steps/sec, 0.65 examples/sec\n",
      "INFO:tensorflow:step 18, f1/nn-token 1.0000, f1/nn-entity 1.0000, f1/v-token 1.0000, f1/v-entity 1.0000, f1/adj-token 1.0000, f1/adj-entity 1.0000, f1/n-token 1.0000, f1/n-entity 1.0000, macro f1/token 1.0000, macro f1/entity 1.0000, micro f1/token 1.0000, micro f1/entity 1.0000, loss 0.038978, 0.09 steps/sec, 0.35 examples/sec\n",
      "INFO:tensorflow:step 19, f1/nn-token 1.0000, f1/nn-entity 1.0000, f1/v-token 1.0000, f1/v-entity 1.0000, f1/adj-token 1.0000, f1/adj-entity 1.0000, f1/n-token 1.0000, f1/n-entity 1.0000, macro f1/token 1.0000, macro f1/entity 1.0000, micro f1/token 1.0000, micro f1/entity 1.0000, loss 0.031765, 0.09 steps/sec, 0.35 examples/sec\n",
      "INFO:tensorflow:step 20, f1/nn-token 1.0000, f1/nn-entity 1.0000, f1/v-token 1.0000, f1/v-entity 1.0000, f1/adj-token 1.0000, f1/adj-entity 1.0000, f1/n-token 1.0000, f1/n-entity 1.0000, macro f1/token 1.0000, macro f1/entity 1.0000, micro f1/token 1.0000, micro f1/entity 1.0000, loss 0.030731, 0.09 steps/sec, 0.35 examples/sec\n"
     ]
    }
   ],
   "source": [
    "model.fit(X, y, total_steps=20)"
   ]
  },
  {
   "cell_type": "markdown",
   "id": "fallen-hundred",
   "metadata": {},
   "source": [
    "# 推理"
   ]
  },
  {
   "cell_type": "code",
   "execution_count": 5,
   "id": "opposite-pantyhose",
   "metadata": {},
   "outputs": [
    {
     "name": "stdout",
     "output_type": "stream",
     "text": [
      "INFO:tensorflow:Time usage 0m-9.71s, 0.10 steps/sec, 0.41 examples/sec\n"
     ]
    },
    {
     "data": {
      "text/plain": [
       "{'preds': [{'nn': ['天亮']}, {}, {'v': ['迎接']}, {'adj': ['更好'], 'n': ['明天']}],\n",
       " 'logits': array([[[ 9.8846865e+00, -2.3034017e-01, -1.4028952e+00, ...,\n",
       "          -1.0535768e+00, -1.1074665e+00, -8.8625187e-01],\n",
       "         [ 3.5804600e-01,  8.2738810e+00, -8.0879593e-01, ...,\n",
       "          -3.5575974e-01,  1.4706993e+00, -7.8702968e-01],\n",
       "         [ 7.9829353e-01, -8.1181908e-01, -2.9117867e-01, ...,\n",
       "          -5.6746727e-01, -8.3823413e-01, -4.1935119e-01],\n",
       "         ...,\n",
       "         [ 8.9228306e+00,  5.3454679e-01, -1.1577462e+00, ...,\n",
       "          -1.3013343e+00, -1.5495819e+00, -7.3086405e-01],\n",
       "         [ 8.8268967e+00,  5.8992249e-01, -1.4191607e+00, ...,\n",
       "          -6.5680122e-01, -1.1875898e+00, -8.0008879e-03],\n",
       "         [ 8.9353333e+00,  2.0834763e-01, -1.5963143e+00, ...,\n",
       "          -1.2000099e+00, -1.2959943e+00, -1.1761046e-01]],\n",
       " \n",
       "        [[ 9.9167995e+00, -5.0777459e-01, -1.4930363e+00, ...,\n",
       "          -1.1703762e+00, -7.2342217e-01, -8.9796853e-01],\n",
       "         [ 9.0444078e+00,  1.3862419e+00, -1.4406688e+00, ...,\n",
       "          -1.4606513e+00, -1.7102140e+00, -1.0121474e+00],\n",
       "         [ 8.8587456e+00, -8.2915705e-01, -1.3902172e+00, ...,\n",
       "          -1.4825836e+00, -1.1293190e+00, -8.0061769e-01],\n",
       "         ...,\n",
       "         [ 9.3991470e+00,  6.6813760e-02, -1.3705207e+00, ...,\n",
       "          -1.3782252e+00, -1.0996534e+00, -7.7294153e-01],\n",
       "         [ 9.2471600e+00,  5.4112934e-02, -1.5497149e+00, ...,\n",
       "          -8.2051277e-01, -8.2897294e-01, -1.4654014e-01],\n",
       "         [ 9.3208103e+00, -2.2542496e-01, -1.6997212e+00, ...,\n",
       "          -1.2692088e+00, -9.2201740e-01, -2.3350741e-01]],\n",
       " \n",
       "        [[ 9.8349304e+00, -8.5947889e-01, -1.3657125e+00, ...,\n",
       "          -1.2134308e+00, -1.0564020e+00, -8.4971249e-01],\n",
       "         [ 8.7747526e+00,  1.6011926e+00, -1.2453957e+00, ...,\n",
       "          -9.9713731e-01, -1.7999010e+00, -7.2314477e-01],\n",
       "         [ 8.3090097e-01, -1.3107876e+00, -9.4687772e-01, ...,\n",
       "          -1.4976431e+00, -1.5283974e+00, -3.9612034e-01],\n",
       "         ...,\n",
       "         [ 8.9111938e+00, -2.6551330e-01, -1.1714884e+00, ...,\n",
       "          -1.4467291e+00, -1.4251083e+00, -7.1151119e-01],\n",
       "         [ 8.7522039e+00, -2.2284557e-01, -1.4124585e+00, ...,\n",
       "          -8.3001649e-01, -1.1340539e+00,  4.2310812e-02],\n",
       "         [ 8.7891188e+00, -5.6534445e-01, -1.5258771e+00, ...,\n",
       "          -1.3568788e+00, -1.2442285e+00, -9.0654261e-02]],\n",
       " \n",
       "        [[ 9.5544338e+00, -1.5332990e+00, -1.3301474e+00, ...,\n",
       "          -1.0647365e+00, -2.6227838e-01, -7.5434303e-01],\n",
       "         [ 1.9144402e+00,  1.8098100e-01, -1.0496161e+00, ...,\n",
       "          -5.1113445e-01, -7.1796554e-01, -5.7255936e-01],\n",
       "         [-4.3042085e-01, -1.4479085e+00, -1.7217390e-01, ...,\n",
       "          -2.1503350e-01, -3.3126209e-02, -7.6837766e-01],\n",
       "         ...,\n",
       "         [ 7.8748727e+00, -8.2570809e-01, -1.0899334e+00, ...,\n",
       "          -1.3238363e+00, -4.4605538e-01, -5.8120847e-01],\n",
       "         [ 7.7497597e+00, -8.6389840e-01, -1.4187762e+00, ...,\n",
       "          -5.2962238e-01, -9.7508647e-02,  1.9998063e-01],\n",
       "         [ 7.8072343e+00, -1.1972984e+00, -1.5893165e+00, ...,\n",
       "          -1.0871831e+00, -1.0335175e-01,  1.0141272e-01]]], dtype=float32)}"
      ]
     },
     "execution_count": 5,
     "metadata": {},
     "output_type": "execute_result"
    }
   ],
   "source": [
    "model.predict(X)"
   ]
  },
  {
   "cell_type": "markdown",
   "id": "fundamental-poverty",
   "metadata": {},
   "source": [
    "# 评分"
   ]
  },
  {
   "cell_type": "code",
   "execution_count": 6,
   "id": "accessory-lesbian",
   "metadata": {},
   "outputs": [
    {
     "name": "stdout",
     "output_type": "stream",
     "text": [
      "INFO:tensorflow:Time usage 0m-6.06s, 0.17 steps/sec, 0.66 examples/sec\n"
     ]
    },
    {
     "data": {
      "text/plain": [
       "{'f1/nn-token': 0.9999990000004999,\n",
       " 'f1/nn-entity': 0.9999985000012501,\n",
       " 'f1/v-token': 0.9999990000004999,\n",
       " 'f1/v-entity': 0.9999985000012501,\n",
       " 'f1/adj-token': 0.9999990000004999,\n",
       " 'f1/adj-entity': 0.9999985000012501,\n",
       " 'f1/n-token': 0.9999990000004999,\n",
       " 'f1/n-entity': 0.9999985000012501,\n",
       " 'macro f1/token': 0.9999990000004999,\n",
       " 'macro f1/entity': 0.9999985000012501,\n",
       " 'micro f1/token': 0.9999993750002658,\n",
       " 'micro f1/entity': 0.9999992500003125,\n",
       " 'loss': 0.01330471}"
      ]
     },
     "execution_count": 6,
     "metadata": {},
     "output_type": "execute_result"
    }
   ],
   "source": [
    "model.score(X, y)"
   ]
  }
 ],
 "metadata": {
  "kernelspec": {
   "display_name": "Python 3",
   "language": "python",
   "name": "python3"
  },
  "language_info": {
   "codemirror_mode": {
    "name": "ipython",
    "version": 3
   },
   "file_extension": ".py",
   "mimetype": "text/x-python",
   "name": "python",
   "nbconvert_exporter": "python",
   "pygments_lexer": "ipython3",
   "version": "3.8.2"
  }
 },
 "nbformat": 4,
 "nbformat_minor": 5
}
