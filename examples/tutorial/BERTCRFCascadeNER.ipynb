{
 "cells": [
  {
   "cell_type": "markdown",
   "id": "informal-legislature",
   "metadata": {},
   "source": [
    "# BERTCRFCascadeNER\n",
    "\n",
    "可用的中文预训练参数：[`bert-base`](https://storage.googleapis.com/bert_models/2018_11_03/chinese_L-12_H-768_A-12.zip),[`roberta-wwm-ext-base`](https://drive.google.com/uc?export=download&id=1jMAKIJmPn7kADgD3yQZhpsqM-IRM1qZt),[`roberta-wwm-ext-large`](https://drive.google.com/uc?export=download&id=1dtad0FFzG11CBsawu8hvwwzU2R0FDI94),[`macbert-base`](https://drive.google.com/uc?export=download&id=1aV69OhYzIwj_hn-kO1RiBa-m8QAusQ5b),[`macbert-large`](https://drive.google.com/uc?export=download&id=1lWYxnk1EqTA2Q20_IShxBrCPc5VSDCkT)"
   ]
  },
  {
   "cell_type": "code",
   "execution_count": 1,
   "id": "rotary-academy",
   "metadata": {},
   "outputs": [
    {
     "name": "stdout",
     "output_type": "stream",
     "text": [
      "v2.4.5\n"
     ]
    }
   ],
   "source": [
    "import uf\n",
    "\n",
    "print(uf.__version__)"
   ]
  },
  {
   "cell_type": "code",
   "execution_count": 2,
   "id": "velvet-symbol",
   "metadata": {},
   "outputs": [
    {
     "name": "stdout",
     "output_type": "stream",
     "text": [
      "uf.BERTCRFCascadeNER(\n",
      "    config_file=\"../../demo/bert_config.json\",\n",
      "    vocab_file=\"../../demo/vocab.txt\",\n",
      "    max_seq_length=128,\n",
      "    init_checkpoint=None,\n",
      "    output_dir=None,\n",
      "    gpu_ids=None,\n",
      "    do_lower_case=True,\n",
      "    entity_types=None,\n",
      "    truncate_method=\"LIFO\",\n",
      ")\n"
     ]
    }
   ],
   "source": [
    "model = uf.BERTCRFCascadeNER('../../demo/bert_config.json', '../../demo/vocab.txt')\n",
    "print(model)"
   ]
  },
  {
   "cell_type": "code",
   "execution_count": 3,
   "id": "drawn-breathing",
   "metadata": {},
   "outputs": [],
   "source": [
    "X = ['天亮以前说再见', '笑着泪流满面', '去迎接应该你的', '更好的明天']\n",
    "y = [{'nn': ['天亮']}, {}, {'v': ['迎接']}, {'adj': ['更好'], 'n': ['明天']}]"
   ]
  },
  {
   "cell_type": "markdown",
   "id": "vanilla-fault",
   "metadata": {},
   "source": [
    "# 训练"
   ]
  },
  {
   "cell_type": "code",
   "execution_count": 4,
   "id": "excellent-religion",
   "metadata": {},
   "outputs": [
    {
     "name": "stdout",
     "output_type": "stream",
     "text": [
      "WARNING:tensorflow:From /Users/geyingli/Library/Python/3.8/lib/python/site-packages/tensorflow/python/util/dispatch.py:1096: calling dropout (from tensorflow.python.ops.nn_ops) with keep_prob is deprecated and will be removed in a future version.\n",
      "Instructions for updating:\n",
      "Please use `rate` instead of `keep_prob`. Rate should be set to `rate = 1 - keep_prob`.\n"
     ]
    },
    {
     "name": "stderr",
     "output_type": "stream",
     "text": [
      "/Users/geyingli/Library/Python/3.8/lib/python/site-packages/uf-2.4.5-py3.8.egg/uf/model/bert.py:272: UserWarning: `tf.layers.dense` is deprecated and will be removed in a future version. Please use `tf.keras.layers.Dense` instead.\n",
      "  query_layer = tf.layers.dense(\n",
      "/Users/geyingli/Library/Python/3.8/lib/python/site-packages/keras/legacy_tf_layers/core.py:255: UserWarning: `layer.apply` is deprecated and will be removed in a future version. Please use `layer.__call__` method instead.\n",
      "  return layer.apply(inputs)\n",
      "/Users/geyingli/Library/Python/3.8/lib/python/site-packages/uf-2.4.5-py3.8.egg/uf/model/bert.py:282: UserWarning: `tf.layers.dense` is deprecated and will be removed in a future version. Please use `tf.keras.layers.Dense` instead.\n",
      "  key_layer = tf.layers.dense(\n",
      "/Users/geyingli/Library/Python/3.8/lib/python/site-packages/uf-2.4.5-py3.8.egg/uf/model/bert.py:292: UserWarning: `tf.layers.dense` is deprecated and will be removed in a future version. Please use `tf.keras.layers.Dense` instead.\n",
      "  value_layer = tf.layers.dense(\n",
      "/Users/geyingli/Library/Python/3.8/lib/python/site-packages/uf-2.4.5-py3.8.egg/uf/model/bert.py:416: UserWarning: `tf.layers.dense` is deprecated and will be removed in a future version. Please use `tf.keras.layers.Dense` instead.\n",
      "  attention_output = tf.layers.dense(\n",
      "/Users/geyingli/Library/Python/3.8/lib/python/site-packages/uf-2.4.5-py3.8.egg/uf/model/bert.py:428: UserWarning: `tf.layers.dense` is deprecated and will be removed in a future version. Please use `tf.keras.layers.Dense` instead.\n",
      "  intermediate_output = tf.layers.dense(\n",
      "/Users/geyingli/Library/Python/3.8/lib/python/site-packages/uf-2.4.5-py3.8.egg/uf/model/bert.py:438: UserWarning: `tf.layers.dense` is deprecated and will be removed in a future version. Please use `tf.keras.layers.Dense` instead.\n",
      "  layer_output = tf.layers.dense(\n"
     ]
    },
    {
     "name": "stdout",
     "output_type": "stream",
     "text": [
      "WARNING:tensorflow:From /Users/geyingli/Library/Python/3.8/lib/python/site-packages/uf-2.4.5-py3.8.egg/uf/model/crf.py:262: dynamic_rnn (from tensorflow.python.ops.rnn) is deprecated and will be removed in a future version.\n",
      "Instructions for updating:\n",
      "Please use `keras.layers.RNN(cell)`, which is equivalent to this API\n"
     ]
    },
    {
     "name": "stderr",
     "output_type": "stream",
     "text": [
      "/Users/geyingli/Library/Python/3.8/lib/python/site-packages/uf-2.4.5-py3.8.egg/uf/model/bert.py:107: UserWarning: `tf.layers.dense` is deprecated and will be removed in a future version. Please use `tf.keras.layers.Dense` instead.\n",
      "  self.pooled_output = tf.layers.dense(\n"
     ]
    },
    {
     "name": "stdout",
     "output_type": "stream",
     "text": [
      "INFO:tensorflow:Build graph with 305,661,846 parameters (among which 102,281,010 are trainable)\n",
      "INFO:tensorflow:Running local_init_op\n",
      "INFO:tensorflow:Done running local_init_op\n",
      "INFO:tensorflow:Running training on 4 samples (step 0 -> 20)\n",
      "INFO:tensorflow:step 1, f1/nn-token 0.0000, f1/nn-entity 0.0000, f1/v-token 0.0000, f1/v-entity 0.0000, f1/adj-token 0.0000, f1/adj-entity 0.0000, f1/n-token 0.0000, f1/n-entity 0.0000, macro f1/token 0.0000, macro f1/entity 0.0000, micro f1/token 0.2667, micro f1/entity 0.0000, loss 24.847942, 0.09 steps/sec, 0.38 examples/sec\n",
      "INFO:tensorflow:step 2, f1/nn-token 0.0000, f1/nn-entity 0.0000, f1/v-token 0.0000, f1/v-entity 0.0000, f1/adj-token 0.0000, f1/adj-entity 0.0000, f1/n-token 0.0000, f1/n-entity 0.0000, macro f1/token 0.0000, macro f1/entity 0.0000, micro f1/token 0.4706, micro f1/entity 0.0000, loss 24.085007, 0.15 steps/sec, 0.62 examples/sec\n",
      "INFO:tensorflow:step 3, f1/nn-token 0.0000, f1/nn-entity 0.0000, f1/v-token 0.0000, f1/v-entity 0.0000, f1/adj-token 0.0000, f1/adj-entity 0.0000, f1/n-token 0.0000, f1/n-entity 0.0000, macro f1/token 0.0000, macro f1/entity 0.0000, micro f1/token 0.0000, micro f1/entity 0.0000, loss 10.422128, 0.15 steps/sec, 0.60 examples/sec\n",
      "INFO:tensorflow:step 4, f1/nn-token 0.0000, f1/nn-entity 0.0000, f1/v-token 0.0000, f1/v-entity 0.0000, f1/adj-token 0.0000, f1/adj-entity 0.0000, f1/n-token 0.0000, f1/n-entity 0.0000, macro f1/token 0.0000, macro f1/entity 0.0000, micro f1/token 0.0000, micro f1/entity 0.0000, loss 12.636968, 0.24 steps/sec, 0.96 examples/sec\n",
      "INFO:tensorflow:step 5, f1/nn-token 0.0000, f1/nn-entity 0.0000, f1/v-token 0.0000, f1/v-entity 0.0000, f1/adj-token 0.0000, f1/adj-entity 0.0000, f1/n-token 0.0000, f1/n-entity 0.0000, macro f1/token 0.0000, macro f1/entity 0.0000, micro f1/token 0.0000, micro f1/entity 0.0000, loss 11.077662, 0.25 steps/sec, 1.02 examples/sec\n",
      "INFO:tensorflow:step 6, f1/nn-token 0.0000, f1/nn-entity 0.0000, f1/v-token 0.0000, f1/v-entity 0.0000, f1/adj-token 0.0000, f1/adj-entity 0.0000, f1/n-token 0.0000, f1/n-entity 0.0000, macro f1/token 0.0000, macro f1/entity 0.0000, micro f1/token 0.0000, micro f1/entity 0.0000, loss 7.079529, 0.24 steps/sec, 0.97 examples/sec\n",
      "INFO:tensorflow:step 7, f1/nn-token 0.0000, f1/nn-entity 0.0000, f1/v-token 0.0000, f1/v-entity 0.0000, f1/adj-token 0.0000, f1/adj-entity 0.0000, f1/n-token 0.0000, f1/n-entity 0.0000, macro f1/token 0.0000, macro f1/entity 0.0000, micro f1/token 0.0000, micro f1/entity 0.0000, loss 5.907458, 0.23 steps/sec, 0.90 examples/sec\n",
      "INFO:tensorflow:step 8, f1/nn-token 1.0000, f1/nn-entity 1.0000, f1/v-token 0.0000, f1/v-entity 0.0000, f1/adj-token 1.0000, f1/adj-entity 1.0000, f1/n-token 1.0000, f1/n-entity 1.0000, macro f1/token 0.7500, macro f1/entity 0.7500, micro f1/token 0.8571, micro f1/entity 0.8571, loss 6.474445, 0.18 steps/sec, 0.74 examples/sec\n",
      "INFO:tensorflow:step 9, f1/nn-token 1.0000, f1/nn-entity 1.0000, f1/v-token 0.0000, f1/v-entity 0.0000, f1/adj-token 1.0000, f1/adj-entity 1.0000, f1/n-token 1.0000, f1/n-entity 1.0000, macro f1/token 0.7500, macro f1/entity 0.7500, micro f1/token 0.8571, micro f1/entity 0.8571, loss 4.324165, 0.27 steps/sec, 1.07 examples/sec\n",
      "INFO:tensorflow:step 10, f1/nn-token 1.0000, f1/nn-entity 1.0000, f1/v-token 0.0000, f1/v-entity 0.0000, f1/adj-token 1.0000, f1/adj-entity 1.0000, f1/n-token 0.0000, f1/n-entity 0.0000, macro f1/token 0.5000, macro f1/entity 0.5000, micro f1/token 0.6667, micro f1/entity 0.6667, loss 2.372239, 0.15 steps/sec, 0.60 examples/sec\n",
      "INFO:tensorflow:step 11, f1/nn-token 1.0000, f1/nn-entity 1.0000, f1/v-token 0.0000, f1/v-entity 0.0000, f1/adj-token 1.0000, f1/adj-entity 1.0000, f1/n-token 0.0000, f1/n-entity 0.0000, macro f1/token 0.5000, macro f1/entity 0.5000, micro f1/token 0.6667, micro f1/entity 0.6667, loss 1.543355, 0.10 steps/sec, 0.41 examples/sec\n",
      "INFO:tensorflow:step 12, f1/nn-token 1.0000, f1/nn-entity 1.0000, f1/v-token 1.0000, f1/v-entity 1.0000, f1/adj-token 1.0000, f1/adj-entity 1.0000, f1/n-token 1.0000, f1/n-entity 1.0000, macro f1/token 1.0000, macro f1/entity 1.0000, micro f1/token 1.0000, micro f1/entity 1.0000, loss 0.831473, 0.12 steps/sec, 0.47 examples/sec\n",
      "INFO:tensorflow:step 13, f1/nn-token 1.0000, f1/nn-entity 1.0000, f1/v-token 1.0000, f1/v-entity 1.0000, f1/adj-token 1.0000, f1/adj-entity 1.0000, f1/n-token 1.0000, f1/n-entity 1.0000, macro f1/token 1.0000, macro f1/entity 1.0000, micro f1/token 1.0000, micro f1/entity 1.0000, loss 0.563381, 0.10 steps/sec, 0.41 examples/sec\n",
      "INFO:tensorflow:step 14, f1/nn-token 1.0000, f1/nn-entity 1.0000, f1/v-token 1.0000, f1/v-entity 1.0000, f1/adj-token 1.0000, f1/adj-entity 1.0000, f1/n-token 1.0000, f1/n-entity 1.0000, macro f1/token 1.0000, macro f1/entity 1.0000, micro f1/token 1.0000, micro f1/entity 1.0000, loss 0.333632, 0.12 steps/sec, 0.47 examples/sec\n",
      "INFO:tensorflow:step 15, f1/nn-token 1.0000, f1/nn-entity 1.0000, f1/v-token 1.0000, f1/v-entity 1.0000, f1/adj-token 1.0000, f1/adj-entity 1.0000, f1/n-token 1.0000, f1/n-entity 1.0000, macro f1/token 1.0000, macro f1/entity 1.0000, micro f1/token 1.0000, micro f1/entity 1.0000, loss 0.244327, 0.10 steps/sec, 0.41 examples/sec\n",
      "INFO:tensorflow:step 16, f1/nn-token 1.0000, f1/nn-entity 1.0000, f1/v-token 1.0000, f1/v-entity 1.0000, f1/adj-token 1.0000, f1/adj-entity 1.0000, f1/n-token 1.0000, f1/n-entity 1.0000, macro f1/token 1.0000, macro f1/entity 1.0000, micro f1/token 1.0000, micro f1/entity 1.0000, loss 0.132002, 0.08 steps/sec, 0.32 examples/sec\n",
      "INFO:tensorflow:step 17, f1/nn-token 1.0000, f1/nn-entity 1.0000, f1/v-token 1.0000, f1/v-entity 1.0000, f1/adj-token 1.0000, f1/adj-entity 1.0000, f1/n-token 1.0000, f1/n-entity 1.0000, macro f1/token 1.0000, macro f1/entity 1.0000, micro f1/token 1.0000, micro f1/entity 1.0000, loss 0.095244, 0.04 steps/sec, 0.18 examples/sec\n",
      "INFO:tensorflow:step 18, f1/nn-token 1.0000, f1/nn-entity 1.0000, f1/v-token 1.0000, f1/v-entity 1.0000, f1/adj-token 1.0000, f1/adj-entity 1.0000, f1/n-token 1.0000, f1/n-entity 1.0000, macro f1/token 1.0000, macro f1/entity 1.0000, micro f1/token 1.0000, micro f1/entity 1.0000, loss 0.085116, 0.06 steps/sec, 0.25 examples/sec\n",
      "INFO:tensorflow:step 19, f1/nn-token 1.0000, f1/nn-entity 1.0000, f1/v-token 1.0000, f1/v-entity 1.0000, f1/adj-token 1.0000, f1/adj-entity 1.0000, f1/n-token 1.0000, f1/n-entity 1.0000, macro f1/token 1.0000, macro f1/entity 1.0000, micro f1/token 1.0000, micro f1/entity 1.0000, loss 0.063038, 0.08 steps/sec, 0.32 examples/sec\n",
      "INFO:tensorflow:step 20, f1/nn-token 1.0000, f1/nn-entity 1.0000, f1/v-token 1.0000, f1/v-entity 1.0000, f1/adj-token 1.0000, f1/adj-entity 1.0000, f1/n-token 1.0000, f1/n-entity 1.0000, macro f1/token 1.0000, macro f1/entity 1.0000, micro f1/token 1.0000, micro f1/entity 1.0000, loss 0.056796, 0.10 steps/sec, 0.41 examples/sec\n"
     ]
    }
   ],
   "source": [
    "model.fit(X, y, total_steps=20)"
   ]
  },
  {
   "cell_type": "markdown",
   "id": "fallen-hundred",
   "metadata": {},
   "source": [
    "# 推理"
   ]
  },
  {
   "cell_type": "code",
   "execution_count": 5,
   "id": "opposite-pantyhose",
   "metadata": {},
   "outputs": [
    {
     "name": "stdout",
     "output_type": "stream",
     "text": [
      "INFO:tensorflow:Time usage 0m-7.83s, 0.13 steps/sec, 0.51 examples/sec\n"
     ]
    },
    {
     "data": {
      "text/plain": [
       "{'preds': [{'nn': ['天亮']}, {}, {'v': ['迎接']}, {'adj': ['更好'], 'n': ['明天']}],\n",
       " 'logits': array([[[ 1.01029654e+01, -7.77104571e-02, -8.77784193e-01, ...,\n",
       "          -1.30718708e+00, -1.55992121e-01, -1.24047935e+00],\n",
       "         [ 1.74302006e+00,  8.14812851e+00, -1.53489780e+00, ...,\n",
       "          -2.57397801e-01,  9.20588195e-01, -1.18103218e+00],\n",
       "         [ 2.23869801e+00, -5.02207041e-01, -7.57541835e-01, ...,\n",
       "          -6.61905885e-01, -2.58347225e+00, -7.72328317e-01],\n",
       "         ...,\n",
       "         [ 8.86122417e+00,  3.57793331e-01, -1.29177248e+00, ...,\n",
       "          -8.52595031e-01, -3.08931530e-01, -1.69349110e+00],\n",
       "         [ 8.37507915e+00,  9.76868987e-01, -1.37979019e+00, ...,\n",
       "          -1.10517585e+00, -2.76259094e-01, -2.15815067e+00],\n",
       "         [ 8.56755733e+00,  7.32831776e-01, -1.52081490e+00, ...,\n",
       "          -7.96380758e-01, -4.05261308e-01, -1.66386640e+00]],\n",
       " \n",
       "        [[ 1.02532043e+01, -5.34010410e-01, -9.48648989e-01, ...,\n",
       "          -1.22512209e+00,  4.16310392e-02, -1.34791720e+00],\n",
       "         [ 8.70270824e+00,  1.98290658e+00, -1.08185494e+00, ...,\n",
       "          -1.29095268e+00, -9.89539981e-01, -1.42147791e+00],\n",
       "         [ 8.89434528e+00, -5.83266139e-01, -8.92147243e-01, ...,\n",
       "          -1.37035489e+00, -5.23199081e-01, -1.45516968e+00],\n",
       "         ...,\n",
       "         [ 9.34656429e+00, -1.82977587e-01, -1.30142140e+00, ...,\n",
       "          -8.66015673e-01, -3.94647680e-02, -1.72475874e+00],\n",
       "         [ 8.96300602e+00,  2.97811627e-01, -1.37997544e+00, ...,\n",
       "          -1.13674355e+00, -5.57655422e-03, -2.15283728e+00],\n",
       "         [ 9.12194729e+00,  1.16802655e-01, -1.50525939e+00, ...,\n",
       "          -8.35455358e-01, -1.01203673e-01, -1.73151577e+00]],\n",
       " \n",
       "        [[ 1.00927296e+01, -9.09347892e-01, -8.83671820e-01, ...,\n",
       "          -1.27850127e+00, -2.01266468e-01, -1.12259507e+00],\n",
       "         [ 8.56076145e+00,  2.55377197e+00, -1.27475321e+00, ...,\n",
       "          -6.83354735e-01, -1.43654263e+00, -1.43226564e+00],\n",
       "         [ 1.61059189e+00, -1.32301235e+00, -7.75152266e-01, ...,\n",
       "          -4.43267554e-01, -1.54730499e+00, -6.48133337e-01],\n",
       "         ...,\n",
       "         [ 8.73820210e+00, -5.76241970e-01, -1.27297390e+00, ...,\n",
       "          -8.34813893e-01, -3.72470707e-01, -1.54115975e+00],\n",
       "         [ 8.30536175e+00,  4.09152061e-02, -1.32868791e+00, ...,\n",
       "          -1.12110674e+00, -2.55492300e-01, -2.04472685e+00],\n",
       "         [ 8.48805714e+00, -1.84453771e-01, -1.49688542e+00, ...,\n",
       "          -8.24402153e-01, -4.10739601e-01, -1.56112146e+00]],\n",
       " \n",
       "        [[ 9.38321686e+00, -1.36779475e+00, -5.90370238e-01, ...,\n",
       "          -1.39609087e+00,  1.02640140e+00, -1.16971719e+00],\n",
       "         [ 3.22327882e-01,  1.67022884e+00, -3.90012771e-01, ...,\n",
       "          -3.96671772e-01, -5.76253474e-01, -7.78059423e-01],\n",
       "         [-1.32461715e+00, -1.82583642e+00, -6.72520101e-01, ...,\n",
       "          -7.95349896e-01,  3.38579953e-01, -6.15501225e-01],\n",
       "         ...,\n",
       "         [ 7.54249859e+00, -1.11125386e+00, -1.03622484e+00, ...,\n",
       "          -8.70508432e-01,  1.04239404e+00, -1.64160311e+00],\n",
       "         [ 6.86380720e+00, -4.43472803e-01, -1.14472258e+00, ...,\n",
       "          -1.21228743e+00,  1.16690385e+00, -2.21872520e+00],\n",
       "         [ 7.09882450e+00, -7.15830266e-01, -1.29435754e+00, ...,\n",
       "          -8.34390044e-01,  9.77279782e-01, -1.67294359e+00]]],\n",
       "       dtype=float32)}"
      ]
     },
     "execution_count": 5,
     "metadata": {},
     "output_type": "execute_result"
    }
   ],
   "source": [
    "model.predict(X)"
   ]
  },
  {
   "cell_type": "markdown",
   "id": "fundamental-poverty",
   "metadata": {},
   "source": [
    "# 评分"
   ]
  },
  {
   "cell_type": "code",
   "execution_count": 6,
   "id": "accessory-lesbian",
   "metadata": {},
   "outputs": [
    {
     "name": "stdout",
     "output_type": "stream",
     "text": [
      "INFO:tensorflow:Time usage 0m-4.72s, 0.21 steps/sec, 0.85 examples/sec\n"
     ]
    },
    {
     "data": {
      "text/plain": [
       "{'f1/nn-token': 0.9999990000004999,\n",
       " 'f1/nn-entity': 0.9999985000012501,\n",
       " 'f1/v-token': 0.9999990000004999,\n",
       " 'f1/v-entity': 0.9999985000012501,\n",
       " 'f1/adj-token': 0.9999990000004999,\n",
       " 'f1/adj-entity': 0.9999985000012501,\n",
       " 'f1/n-token': 0.9999990000004999,\n",
       " 'f1/n-entity': 0.9999985000012501,\n",
       " 'macro f1/token': 0.9999990000004999,\n",
       " 'macro f1/entity': 0.9999985000012501,\n",
       " 'micro f1/token': 0.9999993750002658,\n",
       " 'micro f1/entity': 0.9999992500003125,\n",
       " 'loss': 0.025204659}"
      ]
     },
     "execution_count": 6,
     "metadata": {},
     "output_type": "execute_result"
    }
   ],
   "source": [
    "model.score(X, y)"
   ]
  }
 ],
 "metadata": {
  "kernelspec": {
   "display_name": "Python 3",
   "language": "python",
   "name": "python3"
  },
  "language_info": {
   "codemirror_mode": {
    "name": "ipython",
    "version": 3
   },
   "file_extension": ".py",
   "mimetype": "text/x-python",
   "name": "python",
   "nbconvert_exporter": "python",
   "pygments_lexer": "ipython3",
   "version": "3.8.2"
  }
 },
 "nbformat": 4,
 "nbformat_minor": 5
}
