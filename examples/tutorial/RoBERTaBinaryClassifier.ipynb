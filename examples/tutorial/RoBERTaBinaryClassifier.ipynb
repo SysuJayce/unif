{
 "cells": [
  {
   "cell_type": "code",
   "execution_count": 1,
   "id": "rotary-academy",
   "metadata": {},
   "outputs": [
    {
     "name": "stdout",
     "output_type": "stream",
     "text": [
      "beta v2.8.0\n"
     ]
    }
   ],
   "source": [
    "import uf\n",
    "\n",
    "print(uf.__version__)"
   ]
  },
  {
   "cell_type": "code",
   "execution_count": 2,
   "id": "velvet-symbol",
   "metadata": {},
   "outputs": [
    {
     "name": "stdout",
     "output_type": "stream",
     "text": [
      "uf.RoBERTaBinaryClassifier(config_file='../demo/bert_config.json', vocab_file='../demo/vocab.txt', max_seq_length=128, label_size=None, label_weight=None, init_checkpoint=None, output_dir=None, gpu_ids=None, drop_pooler=False, do_lower_case=True, truncate_method='LIFO')\n"
     ]
    }
   ],
   "source": [
    "model = uf.RoBERTaBinaryClassifier('../../demo/bert_config.json', '../../demo/vocab.txt')\n",
    "print(model)"
   ]
  },
  {
   "cell_type": "code",
   "execution_count": 3,
   "id": "drawn-breathing",
   "metadata": {},
   "outputs": [],
   "source": [
    "X = ['天亮以前说再见', '笑着泪流满面', '去迎接应该你的', '更好的明天']\n",
    "y = [[0, 2], [1], [1], []]"
   ]
  },
  {
   "cell_type": "markdown",
   "id": "vanilla-fault",
   "metadata": {},
   "source": [
    "# 训练"
   ]
  },
  {
   "cell_type": "code",
   "execution_count": 4,
   "id": "excellent-religion",
   "metadata": {},
   "outputs": [
    {
     "name": "stdout",
     "output_type": "stream",
     "text": [
      "WARNING:tensorflow:From /Users/geyingli/Library/Python/3.8/lib/python/site-packages/tensorflow/python/util/dispatch.py:201: calling dropout (from tensorflow.python.ops.nn_ops) with keep_prob is deprecated and will be removed in a future version.\n",
      "Instructions for updating:\n",
      "Please use `rate` instead of `keep_prob`. Rate should be set to `rate = 1 - keep_prob`.\n"
     ]
    },
    {
     "name": "stderr",
     "output_type": "stream",
     "text": [
      "/Users/geyingli/Library/Python/3.8/lib/python/site-packages/tensorflow/python/keras/legacy_tf_layers/core.py:171: UserWarning: `tf.layers.dense` is deprecated and will be removed in a future version. Please use `tf.keras.layers.Dense` instead.\n",
      "  warnings.warn('`tf.layers.dense` is deprecated and '\n",
      "/Users/geyingli/Library/Python/3.8/lib/python/site-packages/tensorflow/python/keras/engine/base_layer_v1.py:1719: UserWarning: `layer.apply` is deprecated and will be removed in a future version. Please use `layer.__call__` method instead.\n",
      "  warnings.warn('`layer.apply` is deprecated and '\n"
     ]
    },
    {
     "name": "stdout",
     "output_type": "stream",
     "text": [
      "INFO:tensorflow:Build graph with 306,809,865 parameters (among which 102,269,955 are trainable)\n",
      "INFO:tensorflow:Running local_init_op\n",
      "INFO:tensorflow:Done running local_init_op\n",
      "INFO:tensorflow:Running training on 4 samples (step 0 -> 20)\n",
      "INFO:tensorflow:step 1, accuracy 0.5833, loss 2.095153, 0.10 steps/sec, 0.41 examples/sec\n",
      "INFO:tensorflow:step 2, accuracy 0.5000, loss 2.079144, 0.40 steps/sec, 1.61 examples/sec\n",
      "INFO:tensorflow:step 3, accuracy 0.7500, loss 1.714316, 0.29 steps/sec, 1.17 examples/sec\n",
      "INFO:tensorflow:step 4, accuracy 0.6667, loss 1.809905, 0.29 steps/sec, 1.17 examples/sec\n",
      "INFO:tensorflow:step 5, accuracy 0.8333, loss 1.740278, 0.27 steps/sec, 1.08 examples/sec\n",
      "INFO:tensorflow:step 6, accuracy 0.8333, loss 1.609545, 0.28 steps/sec, 1.14 examples/sec\n",
      "INFO:tensorflow:step 7, accuracy 0.8333, loss 1.554221, 0.42 steps/sec, 1.68 examples/sec\n",
      "INFO:tensorflow:step 8, accuracy 0.8333, loss 1.428899, 0.40 steps/sec, 1.59 examples/sec\n",
      "INFO:tensorflow:step 9, accuracy 0.8333, loss 1.354940, 0.42 steps/sec, 1.70 examples/sec\n",
      "INFO:tensorflow:step 10, accuracy 1.0000, loss 1.154974, 0.42 steps/sec, 1.66 examples/sec\n",
      "INFO:tensorflow:step 11, accuracy 0.9167, loss 0.991762, 0.42 steps/sec, 1.69 examples/sec\n",
      "INFO:tensorflow:step 12, accuracy 1.0000, loss 0.715061, 0.46 steps/sec, 1.82 examples/sec\n",
      "INFO:tensorflow:step 13, accuracy 1.0000, loss 0.592381, 0.44 steps/sec, 1.78 examples/sec\n",
      "INFO:tensorflow:step 14, accuracy 1.0000, loss 0.496884, 0.45 steps/sec, 1.80 examples/sec\n",
      "INFO:tensorflow:step 15, accuracy 1.0000, loss 0.392640, 0.46 steps/sec, 1.83 examples/sec\n",
      "INFO:tensorflow:step 16, accuracy 1.0000, loss 0.320182, 0.45 steps/sec, 1.82 examples/sec\n",
      "INFO:tensorflow:step 17, accuracy 1.0000, loss 0.294061, 0.46 steps/sec, 1.85 examples/sec\n",
      "INFO:tensorflow:step 18, accuracy 1.0000, loss 0.279830, 0.45 steps/sec, 1.82 examples/sec\n",
      "INFO:tensorflow:step 19, accuracy 1.0000, loss 0.264274, 0.44 steps/sec, 1.76 examples/sec\n",
      "INFO:tensorflow:step 20, accuracy 1.0000, loss 0.283145, 0.44 steps/sec, 1.77 examples/sec\n"
     ]
    }
   ],
   "source": [
    "model.fit(X, y, total_steps=20)"
   ]
  },
  {
   "cell_type": "markdown",
   "id": "fallen-hundred",
   "metadata": {},
   "source": [
    "# 推理"
   ]
  },
  {
   "cell_type": "code",
   "execution_count": 5,
   "id": "opposite-pantyhose",
   "metadata": {},
   "outputs": [
    {
     "name": "stdout",
     "output_type": "stream",
     "text": [
      "INFO:tensorflow:Time usage 0m-1.16s, 0.86 steps/sec, 3.46 examples/sec\n"
     ]
    },
    {
     "data": {
      "text/plain": [
       "{'preds': [[0, 2], [1], [1], []],\n",
       " 'probs': array([[0.86541235, 0.02546602, 0.90090656],\n",
       "        [0.0568634 , 0.9526184 , 0.04741564],\n",
       "        [0.05389974, 0.9471029 , 0.04566875],\n",
       "        [0.09529215, 0.10649946, 0.0886431 ]], dtype=float32)}"
      ]
     },
     "execution_count": 5,
     "metadata": {},
     "output_type": "execute_result"
    }
   ],
   "source": [
    "model.predict(X)"
   ]
  },
  {
   "cell_type": "markdown",
   "id": "fundamental-poverty",
   "metadata": {},
   "source": [
    "# 评分"
   ]
  },
  {
   "cell_type": "code",
   "execution_count": 6,
   "id": "accessory-lesbian",
   "metadata": {},
   "outputs": [
    {
     "name": "stdout",
     "output_type": "stream",
     "text": [
      "INFO:tensorflow:Time usage 0m-0.79s, 1.26 steps/sec, 5.04 examples/sec\n"
     ]
    },
    {
     "data": {
      "text/plain": [
       "{'accuracy': 1.0, 'loss': 0.2231079}"
      ]
     },
     "execution_count": 6,
     "metadata": {},
     "output_type": "execute_result"
    }
   ],
   "source": [
    "model.score(X, y)"
   ]
  }
 ],
 "metadata": {
  "kernelspec": {
   "display_name": "Python 3",
   "language": "python",
   "name": "python3"
  },
  "language_info": {
   "codemirror_mode": {
    "name": "ipython",
    "version": 3
   },
   "file_extension": ".py",
   "mimetype": "text/x-python",
   "name": "python",
   "nbconvert_exporter": "python",
   "pygments_lexer": "ipython3",
   "version": "3.8.2"
  }
 },
 "nbformat": 4,
 "nbformat_minor": 5
}
