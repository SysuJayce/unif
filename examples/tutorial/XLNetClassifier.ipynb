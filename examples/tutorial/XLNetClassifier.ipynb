{
 "cells": [
  {
   "cell_type": "markdown",
   "id": "patent-occasion",
   "metadata": {},
   "source": [
    "# XLNetClassifier\n",
    "\n",
    "可用的中文预训练参数：[`xlnet-base`](https://drive.google.com/uc?export=download&id=1m9t-a4gKimbkP5rqGXXsEAEPhJSZ8tvx),[`xlnet-mid`](https://drive.google.com/uc?export=download&id=1342uBc7ZmQwV6Hm6eUIN_OnBSz1LcvfA)"
   ]
  },
  {
   "cell_type": "code",
   "execution_count": 1,
   "id": "international-highlight",
   "metadata": {},
   "outputs": [
    {
     "name": "stdout",
     "output_type": "stream",
     "text": [
      "v2.5.0\n"
     ]
    }
   ],
   "source": [
    "import uf\n",
    "\n",
    "print(uf.__version__)"
   ]
  },
  {
   "cell_type": "code",
   "execution_count": 2,
   "id": "behavioral-commander",
   "metadata": {},
   "outputs": [
    {
     "name": "stdout",
     "output_type": "stream",
     "text": [
      "uf.XLNetClassifier(\n",
      "    config_file=\"../../ref/xlnet_config.json\",\n",
      "    spm_file=\"../../ref/spiece.model\",\n",
      "    max_seq_length=128,\n",
      "    label_size=None,\n",
      "    init_checkpoint=None,\n",
      "    output_dir=None,\n",
      "    gpu_ids=None,\n",
      "    do_lower_case=True,\n",
      "    truncate_method=\"LIFO\",\n",
      ")\n"
     ]
    }
   ],
   "source": [
    "model = uf.XLNetClassifier(\"../../ref/xlnet_config.json\", \"../../ref/spiece.model\")\n",
    "print(model)"
   ]
  },
  {
   "cell_type": "code",
   "execution_count": 3,
   "id": "affiliated-medication",
   "metadata": {},
   "outputs": [],
   "source": [
    "X = [\"天亮以前说再见\", \"笑着泪流满面\", \"去迎接应该你的\", \"更好的明天\"]\n",
    "y = [1, 0, 2, 0]"
   ]
  },
  {
   "cell_type": "markdown",
   "id": "interracial-charleston",
   "metadata": {},
   "source": [
    "# 训练"
   ]
  },
  {
   "cell_type": "code",
   "execution_count": 4,
   "id": "stainless-bouquet",
   "metadata": {},
   "outputs": [
    {
     "name": "stderr",
     "output_type": "stream",
     "text": [
      "c:\\Users\\Luv_d\\AppData\\Local\\Programs\\Python\\Python39\\lib\\site-packages\\uf-2.5.0-py3.9.egg\\uf\\apps\\xlnet\\xlnet.py:857: UserWarning: `tf.layers.dropout` is deprecated and will be removed in a future version. Please use `tf.keras.layers.Dropout` instead.\n",
      "  output_h = tf.layers.dropout(\n",
      "c:\\Users\\Luv_d\\AppData\\Local\\Programs\\Python\\Python39\\lib\\site-packages\\uf-2.5.0-py3.9.egg\\uf\\apps\\xlnet\\xlnet.py:895: UserWarning: `tf.layers.dropout` is deprecated and will be removed in a future version. Please use `tf.keras.layers.Dropout` instead.\n",
      "  pos_emb = tf.layers.dropout(pos_emb, dropout, training=is_training)\n",
      "c:\\Users\\Luv_d\\AppData\\Local\\Programs\\Python\\Python39\\lib\\site-packages\\uf-2.5.0-py3.9.egg\\uf\\apps\\xlnet\\xlnet.py:463: UserWarning: `tf.layers.dropout` is deprecated and will be removed in a future version. Please use `tf.keras.layers.Dropout` instead.\n",
      "  attn_prob = tf.layers.dropout(attn_prob, dropatt, training=is_training)\n",
      "c:\\Users\\Luv_d\\AppData\\Local\\Programs\\Python\\Python39\\lib\\site-packages\\uf-2.5.0-py3.9.egg\\uf\\apps\\xlnet\\xlnet.py:408: UserWarning: `tf.layers.dropout` is deprecated and will be removed in a future version. Please use `tf.keras.layers.Dropout` instead.\n",
      "  attn_out = tf.layers.dropout(attn_out, dropout, training=is_training)\n",
      "c:\\Users\\Luv_d\\AppData\\Local\\Programs\\Python\\Python39\\lib\\site-packages\\uf-2.5.0-py3.9.egg\\uf\\apps\\xlnet\\xlnet.py:368: UserWarning: `tf.layers.dense` is deprecated and will be removed in a future version. Please use `tf.keras.layers.Dense` instead.\n",
      "  output = tf.layers.dense(\n",
      "c:\\Users\\Luv_d\\AppData\\Local\\Programs\\Python\\Python39\\lib\\site-packages\\uf-2.5.0-py3.9.egg\\uf\\apps\\xlnet\\xlnet.py:372: UserWarning: `tf.layers.dropout` is deprecated and will be removed in a future version. Please use `tf.keras.layers.Dropout` instead.\n",
      "  output = tf.layers.dropout(\n",
      "c:\\Users\\Luv_d\\AppData\\Local\\Programs\\Python\\Python39\\lib\\site-packages\\uf-2.5.0-py3.9.egg\\uf\\apps\\xlnet\\xlnet.py:375: UserWarning: `tf.layers.dense` is deprecated and will be removed in a future version. Please use `tf.keras.layers.Dense` instead.\n",
      "  output = tf.layers.dense(\n",
      "c:\\Users\\Luv_d\\AppData\\Local\\Programs\\Python\\Python39\\lib\\site-packages\\uf-2.5.0-py3.9.egg\\uf\\apps\\xlnet\\xlnet.py:379: UserWarning: `tf.layers.dropout` is deprecated and will be removed in a future version. Please use `tf.keras.layers.Dropout` instead.\n",
      "  output = tf.layers.dropout(\n"
     ]
    },
    {
     "name": "stdout",
     "output_type": "stream",
     "text": [
      "WARNING:tensorflow:From c:\\Users\\Luv_d\\AppData\\Local\\Programs\\Python\\Python39\\lib\\site-packages\\tensorflow\\python\\util\\dispatch.py:1176: calling dropout (from tensorflow.python.ops.nn_ops) with keep_prob is deprecated and will be removed in a future version.\n",
      "Instructions for updating:\n",
      "Please use `rate` instead of `keep_prob`. Rate should be set to `rate = 1 - keep_prob`.\n"
     ]
    },
    {
     "name": "stderr",
     "output_type": "stream",
     "text": [
      "c:\\Users\\Luv_d\\AppData\\Local\\Programs\\Python\\Python39\\lib\\site-packages\\uf-2.5.0-py3.9.egg\\uf\\apps\\xlnet\\xlnet.py:981: UserWarning: `tf.layers.dropout` is deprecated and will be removed in a future version. Please use `tf.keras.layers.Dropout` instead.\n",
      "  output = tf.layers.dropout(output_h, dropout, training=is_training)\n"
     ]
    },
    {
     "name": "stdout",
     "output_type": "stream",
     "text": [
      "INFO:tensorflow:Build graph with 350,159,625 parameters (among which 116,719,875 are trainable)\n",
      "INFO:tensorflow:Running local_init_op\n",
      "INFO:tensorflow:Done running local_init_op\n",
      "INFO:tensorflow:Running training on 4 samples (step 0 -> 20)\n",
      "INFO:tensorflow:step 1, accuracy 0.5000, loss 1.107626, 0.19 steps/sec, 0.78 examples/sec\n",
      "INFO:tensorflow:step 2, accuracy 0.5000, loss 1.236900, 0.51 steps/sec, 2.02 examples/sec\n",
      "INFO:tensorflow:step 3, accuracy 0.5000, loss 1.094452, 0.50 steps/sec, 2.02 examples/sec\n",
      "INFO:tensorflow:step 4, accuracy 0.5000, loss 0.922651, 0.50 steps/sec, 2.00 examples/sec\n",
      "INFO:tensorflow:step 5, accuracy 0.7500, loss 0.532979, 0.51 steps/sec, 2.06 examples/sec\n",
      "INFO:tensorflow:step 6, accuracy 1.0000, loss 0.355606, 0.52 steps/sec, 2.07 examples/sec\n",
      "INFO:tensorflow:step 7, accuracy 1.0000, loss 0.242133, 0.51 steps/sec, 2.03 examples/sec\n",
      "INFO:tensorflow:step 8, accuracy 1.0000, loss 0.179139, 0.50 steps/sec, 2.00 examples/sec\n",
      "INFO:tensorflow:step 9, accuracy 1.0000, loss 0.063802, 0.51 steps/sec, 2.04 examples/sec\n",
      "INFO:tensorflow:step 10, accuracy 1.0000, loss 0.033092, 0.51 steps/sec, 2.03 examples/sec\n",
      "INFO:tensorflow:step 11, accuracy 1.0000, loss 0.024455, 0.51 steps/sec, 2.06 examples/sec\n",
      "INFO:tensorflow:step 12, accuracy 1.0000, loss 0.006951, 0.52 steps/sec, 2.07 examples/sec\n",
      "INFO:tensorflow:step 13, accuracy 1.0000, loss 0.002180, 0.52 steps/sec, 2.08 examples/sec\n",
      "INFO:tensorflow:step 14, accuracy 1.0000, loss 0.001199, 0.51 steps/sec, 2.05 examples/sec\n",
      "INFO:tensorflow:step 15, accuracy 1.0000, loss 0.001283, 0.52 steps/sec, 2.07 examples/sec\n",
      "INFO:tensorflow:step 16, accuracy 1.0000, loss 0.000809, 0.51 steps/sec, 2.02 examples/sec\n",
      "INFO:tensorflow:step 17, accuracy 1.0000, loss 0.000562, 0.52 steps/sec, 2.07 examples/sec\n",
      "INFO:tensorflow:step 18, accuracy 1.0000, loss 0.001148, 0.52 steps/sec, 2.06 examples/sec\n",
      "INFO:tensorflow:step 19, accuracy 1.0000, loss 0.000508, 0.52 steps/sec, 2.07 examples/sec\n",
      "INFO:tensorflow:step 20, accuracy 1.0000, loss 0.000400, 0.52 steps/sec, 2.07 examples/sec\n"
     ]
    }
   ],
   "source": [
    "model.fit(X, y, total_steps=20)"
   ]
  },
  {
   "cell_type": "markdown",
   "id": "primary-enlargement",
   "metadata": {},
   "source": [
    "# 推理"
   ]
  },
  {
   "cell_type": "code",
   "execution_count": 5,
   "id": "joined-virgin",
   "metadata": {},
   "outputs": [
    {
     "name": "stdout",
     "output_type": "stream",
     "text": [
      "INFO:tensorflow:Running inference on 4 samples\n",
      "INFO:tensorflow:process 100.0%, 3.44 examples/sec\n"
     ]
    },
    {
     "data": {
      "text/plain": [
       "{'preds': [1, 0, 2, 0],\n",
       " 'probs': array([[2.2758422e-05, 9.9982965e-01, 1.4754303e-04],\n",
       "        [9.9989533e-01, 5.1002968e-05, 5.3626296e-05],\n",
       "        [1.1769917e-05, 1.4030041e-04, 9.9984789e-01],\n",
       "        [9.9984932e-01, 2.7481095e-05, 1.2318169e-04]], dtype=float32)}"
      ]
     },
     "execution_count": 5,
     "metadata": {},
     "output_type": "execute_result"
    }
   ],
   "source": [
    "model.predict(X)"
   ]
  },
  {
   "cell_type": "markdown",
   "id": "cellular-valuable",
   "metadata": {},
   "source": [
    "# 评分"
   ]
  },
  {
   "cell_type": "code",
   "execution_count": 6,
   "id": "static-vocabulary",
   "metadata": {},
   "outputs": [
    {
     "name": "stdout",
     "output_type": "stream",
     "text": [
      "INFO:tensorflow:Running scoring on 4 samples\n",
      "INFO:tensorflow:process 100.0%, 4.45 examples/sec\n"
     ]
    },
    {
     "data": {
      "text/plain": [
       "{'accuracy': 1.0, 'loss': 0.00014444113}"
      ]
     },
     "execution_count": 6,
     "metadata": {},
     "output_type": "execute_result"
    }
   ],
   "source": [
    "model.score(X, y)"
   ]
  }
 ],
 "metadata": {
  "kernelspec": {
   "display_name": "Python 3.9.13 64-bit",
   "language": "python",
   "name": "python3"
  },
  "language_info": {
   "codemirror_mode": {
    "name": "ipython",
    "version": 3
   },
   "file_extension": ".py",
   "mimetype": "text/x-python",
   "name": "python",
   "nbconvert_exporter": "python",
   "pygments_lexer": "ipython3",
   "version": "3.9.13"
  },
  "vscode": {
   "interpreter": {
    "hash": "265fd6f62f200408acbbeae0248f34bed9f93569a643842b7a25d2cd76cae5e5"
   }
  }
 },
 "nbformat": 4,
 "nbformat_minor": 5
}
