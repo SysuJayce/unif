{
 "cells": [
  {
   "cell_type": "code",
   "execution_count": 1,
   "id": "international-highlight",
   "metadata": {},
   "outputs": [
    {
     "name": "stdout",
     "output_type": "stream",
     "text": [
      "beta v2.8.0\n"
     ]
    }
   ],
   "source": [
    "import uf\n",
    "\n",
    "print(uf.__version__)"
   ]
  },
  {
   "cell_type": "code",
   "execution_count": 2,
   "id": "behavioral-commander",
   "metadata": {},
   "outputs": [
    {
     "name": "stdout",
     "output_type": "stream",
     "text": [
      "uf.XLNetClassifier(config_file='../demo/xlnet_config.json', spm_file='../demo/spiece.model', max_seq_length=128, label_size=None, init_checkpoint=None, output_dir=None, gpu_ids=None, do_lower_case=True, truncate_method='LIFO')\n"
     ]
    }
   ],
   "source": [
    "model = uf.XLNetClassifier('../../demo/xlnet_config.json', '../../demo/spiece.model')\n",
    "print(model)"
   ]
  },
  {
   "cell_type": "code",
   "execution_count": 3,
   "id": "affiliated-medication",
   "metadata": {},
   "outputs": [],
   "source": [
    "X = ['天亮以前说再见', '笑着泪流满面', '去迎接应该你的', '更好的明天']\n",
    "y = [1, 0, 2, 0]"
   ]
  },
  {
   "cell_type": "markdown",
   "id": "interracial-charleston",
   "metadata": {},
   "source": [
    "# 训练"
   ]
  },
  {
   "cell_type": "code",
   "execution_count": 4,
   "id": "stainless-bouquet",
   "metadata": {},
   "outputs": [
    {
     "name": "stderr",
     "output_type": "stream",
     "text": [
      "/Users/geyingli/Library/Python/3.8/lib/python/site-packages/tensorflow/python/keras/legacy_tf_layers/core.py:268: UserWarning: `tf.layers.dropout` is deprecated and will be removed in a future version. Please use `tf.keras.layers.Dropout` instead.\n",
      "  warnings.warn('`tf.layers.dropout` is deprecated and '\n",
      "/Users/geyingli/Library/Python/3.8/lib/python/site-packages/tensorflow/python/keras/engine/base_layer_v1.py:1719: UserWarning: `layer.apply` is deprecated and will be removed in a future version. Please use `layer.__call__` method instead.\n",
      "  warnings.warn('`layer.apply` is deprecated and '\n",
      "/Users/geyingli/Library/Python/3.8/lib/python/site-packages/tensorflow/python/keras/legacy_tf_layers/core.py:171: UserWarning: `tf.layers.dense` is deprecated and will be removed in a future version. Please use `tf.keras.layers.Dense` instead.\n",
      "  warnings.warn('`tf.layers.dense` is deprecated and '\n"
     ]
    },
    {
     "name": "stdout",
     "output_type": "stream",
     "text": [
      "WARNING:tensorflow:From /Users/geyingli/Library/Python/3.8/lib/python/site-packages/tensorflow/python/util/dispatch.py:201: calling dropout (from tensorflow.python.ops.nn_ops) with keep_prob is deprecated and will be removed in a future version.\n",
      "Instructions for updating:\n",
      "Please use `rate` instead of `keep_prob`. Rate should be set to `rate = 1 - keep_prob`.\n",
      "INFO:tensorflow:Build graph with 350,159,625 parameters (among which 116,719,875 are trainable)\n",
      "INFO:tensorflow:Running local_init_op\n",
      "INFO:tensorflow:Done running local_init_op\n",
      "INFO:tensorflow:Running training on 4 samples (step 0 -> 20)\n",
      "INFO:tensorflow:step 1, accuracy 0.5000, loss 1.062656, 0.14 steps/sec, 0.55 examples/sec\n",
      "INFO:tensorflow:step 2, accuracy 0.5000, loss 1.013067, 0.25 steps/sec, 1.01 examples/sec\n",
      "INFO:tensorflow:step 3, accuracy 0.2500, loss 1.138237, 0.35 steps/sec, 1.38 examples/sec\n",
      "INFO:tensorflow:step 4, accuracy 0.7500, loss 0.757390, 0.35 steps/sec, 1.41 examples/sec\n",
      "INFO:tensorflow:step 5, accuracy 0.5000, loss 1.020645, 0.36 steps/sec, 1.42 examples/sec\n",
      "INFO:tensorflow:step 6, accuracy 0.5000, loss 0.806068, 0.37 steps/sec, 1.46 examples/sec\n",
      "INFO:tensorflow:step 7, accuracy 0.5000, loss 0.969677, 0.35 steps/sec, 1.41 examples/sec\n",
      "INFO:tensorflow:step 8, accuracy 0.5000, loss 0.929658, 0.29 steps/sec, 1.18 examples/sec\n",
      "INFO:tensorflow:step 9, accuracy 0.5000, loss 0.759707, 0.35 steps/sec, 1.40 examples/sec\n",
      "INFO:tensorflow:step 10, accuracy 0.7500, loss 0.602851, 0.37 steps/sec, 1.47 examples/sec\n",
      "INFO:tensorflow:step 11, accuracy 0.7500, loss 0.550535, 0.35 steps/sec, 1.40 examples/sec\n",
      "INFO:tensorflow:step 12, accuracy 1.0000, loss 0.436970, 0.35 steps/sec, 1.38 examples/sec\n",
      "INFO:tensorflow:step 13, accuracy 1.0000, loss 0.423895, 0.35 steps/sec, 1.38 examples/sec\n",
      "INFO:tensorflow:step 14, accuracy 1.0000, loss 0.352791, 0.35 steps/sec, 1.39 examples/sec\n",
      "INFO:tensorflow:step 15, accuracy 1.0000, loss 0.278924, 0.35 steps/sec, 1.41 examples/sec\n",
      "INFO:tensorflow:step 16, accuracy 1.0000, loss 0.245241, 0.35 steps/sec, 1.39 examples/sec\n",
      "INFO:tensorflow:step 17, accuracy 1.0000, loss 0.146154, 0.34 steps/sec, 1.34 examples/sec\n",
      "INFO:tensorflow:step 18, accuracy 1.0000, loss 0.137053, 0.36 steps/sec, 1.45 examples/sec\n",
      "INFO:tensorflow:step 19, accuracy 1.0000, loss 0.127883, 0.35 steps/sec, 1.40 examples/sec\n",
      "INFO:tensorflow:step 20, accuracy 1.0000, loss 0.103375, 0.36 steps/sec, 1.44 examples/sec\n"
     ]
    }
   ],
   "source": [
    "model.fit(X, y, total_steps=20)"
   ]
  },
  {
   "cell_type": "markdown",
   "id": "primary-enlargement",
   "metadata": {},
   "source": [
    "# 推理"
   ]
  },
  {
   "cell_type": "code",
   "execution_count": 5,
   "id": "joined-virgin",
   "metadata": {},
   "outputs": [
    {
     "name": "stdout",
     "output_type": "stream",
     "text": [
      "INFO:tensorflow:Time usage 0m-1.85s, 0.54 steps/sec, 2.16 examples/sec\n"
     ]
    },
    {
     "data": {
      "text/plain": [
       "{'preds': [1, 0, 2, 0],\n",
       " 'probs': array([[0.02010315, 0.97156537, 0.00833147],\n",
       "        [0.9607289 , 0.00860542, 0.03066577],\n",
       "        [0.04969328, 0.00595391, 0.94435287],\n",
       "        [0.95847297, 0.00751878, 0.03400819]], dtype=float32)}"
      ]
     },
     "execution_count": 5,
     "metadata": {},
     "output_type": "execute_result"
    }
   ],
   "source": [
    "model.predict(X)"
   ]
  },
  {
   "cell_type": "markdown",
   "id": "cellular-valuable",
   "metadata": {},
   "source": [
    "# 评分"
   ]
  },
  {
   "cell_type": "code",
   "execution_count": 6,
   "id": "static-vocabulary",
   "metadata": {},
   "outputs": [
    {
     "name": "stdout",
     "output_type": "stream",
     "text": [
      "INFO:tensorflow:Time usage 0m-1.48s, 0.67 steps/sec, 2.69 examples/sec\n"
     ]
    },
    {
     "data": {
      "text/plain": [
       "{'accuracy': 1.0, 'loss': 0.04214478}"
      ]
     },
     "execution_count": 6,
     "metadata": {},
     "output_type": "execute_result"
    }
   ],
   "source": [
    "model.score(X, y)"
   ]
  }
 ],
 "metadata": {
  "kernelspec": {
   "display_name": "Python 3",
   "language": "python",
   "name": "python3"
  },
  "language_info": {
   "codemirror_mode": {
    "name": "ipython",
    "version": 3
   },
   "file_extension": ".py",
   "mimetype": "text/x-python",
   "name": "python",
   "nbconvert_exporter": "python",
   "pygments_lexer": "ipython3",
   "version": "3.8.2"
  }
 },
 "nbformat": 4,
 "nbformat_minor": 5
}
