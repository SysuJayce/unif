{
 "cells": [
  {
   "cell_type": "code",
   "execution_count": 1,
   "id": "international-highlight",
   "metadata": {},
   "outputs": [
    {
     "name": "stdout",
     "output_type": "stream",
     "text": [
      "v2.3.2\n"
     ]
    }
   ],
   "source": [
    "import uf\n",
    "\n",
    "print(uf.__version__)"
   ]
  },
  {
   "cell_type": "code",
   "execution_count": 2,
   "id": "behavioral-commander",
   "metadata": {},
   "outputs": [
    {
     "name": "stdout",
     "output_type": "stream",
     "text": [
      "uf.XLNetClassifier(config_file=\"../../demo/xlnet_config.json\", spm_file=\"../../demo/spiece.model\", max_seq_length=128, label_size=None, init_checkpoint=None, output_dir=None, gpu_ids=None, do_lower_case=True, truncate_method=\"LIFO\")\n"
     ]
    }
   ],
   "source": [
    "model = uf.XLNetClassifier('../../demo/xlnet_config.json', '../../demo/spiece.model')\n",
    "print(model)"
   ]
  },
  {
   "cell_type": "code",
   "execution_count": 3,
   "id": "affiliated-medication",
   "metadata": {},
   "outputs": [],
   "source": [
    "X = ['天亮以前说再见', '笑着泪流满面', '去迎接应该你的', '更好的明天']\n",
    "y = [1, 0, 2, 0]"
   ]
  },
  {
   "cell_type": "markdown",
   "id": "interracial-charleston",
   "metadata": {},
   "source": [
    "# 训练"
   ]
  },
  {
   "cell_type": "code",
   "execution_count": 4,
   "id": "stainless-bouquet",
   "metadata": {},
   "outputs": [
    {
     "name": "stderr",
     "output_type": "stream",
     "text": [
      "/Users/geyingli/Library/Python/3.8/lib/python/site-packages/uf-2.3.2-py3.8.egg/uf/modeling/xlnet.py:833: UserWarning: `tf.layers.dropout` is deprecated and will be removed in a future version. Please use `tf.keras.layers.Dropout` instead.\n",
      "  output_h = tf.layers.dropout(\n",
      "/Users/geyingli/Library/Python/3.8/lib/python/site-packages/keras/legacy_tf_layers/core.py:401: UserWarning: `layer.apply` is deprecated and will be removed in a future version. Please use `layer.__call__` method instead.\n",
      "  return layer.apply(inputs, training=training)\n",
      "/Users/geyingli/Library/Python/3.8/lib/python/site-packages/uf-2.3.2-py3.8.egg/uf/modeling/xlnet.py:871: UserWarning: `tf.layers.dropout` is deprecated and will be removed in a future version. Please use `tf.keras.layers.Dropout` instead.\n",
      "  pos_emb = tf.layers.dropout(pos_emb, dropout, training=is_training)\n",
      "/Users/geyingli/Library/Python/3.8/lib/python/site-packages/uf-2.3.2-py3.8.egg/uf/modeling/xlnet.py:439: UserWarning: `tf.layers.dropout` is deprecated and will be removed in a future version. Please use `tf.keras.layers.Dropout` instead.\n",
      "  attn_prob = tf.layers.dropout(attn_prob, dropatt, training=is_training)\n",
      "/Users/geyingli/Library/Python/3.8/lib/python/site-packages/uf-2.3.2-py3.8.egg/uf/modeling/xlnet.py:384: UserWarning: `tf.layers.dropout` is deprecated and will be removed in a future version. Please use `tf.keras.layers.Dropout` instead.\n",
      "  attn_out = tf.layers.dropout(attn_out, dropout, training=is_training)\n",
      "/Users/geyingli/Library/Python/3.8/lib/python/site-packages/uf-2.3.2-py3.8.egg/uf/modeling/xlnet.py:344: UserWarning: `tf.layers.dense` is deprecated and will be removed in a future version. Please use `tf.keras.layers.Dense` instead.\n",
      "  output = tf.layers.dense(\n",
      "/Users/geyingli/Library/Python/3.8/lib/python/site-packages/keras/legacy_tf_layers/core.py:255: UserWarning: `layer.apply` is deprecated and will be removed in a future version. Please use `layer.__call__` method instead.\n",
      "  return layer.apply(inputs)\n",
      "/Users/geyingli/Library/Python/3.8/lib/python/site-packages/uf-2.3.2-py3.8.egg/uf/modeling/xlnet.py:348: UserWarning: `tf.layers.dropout` is deprecated and will be removed in a future version. Please use `tf.keras.layers.Dropout` instead.\n",
      "  output = tf.layers.dropout(\n",
      "/Users/geyingli/Library/Python/3.8/lib/python/site-packages/uf-2.3.2-py3.8.egg/uf/modeling/xlnet.py:351: UserWarning: `tf.layers.dense` is deprecated and will be removed in a future version. Please use `tf.keras.layers.Dense` instead.\n",
      "  output = tf.layers.dense(\n",
      "/Users/geyingli/Library/Python/3.8/lib/python/site-packages/uf-2.3.2-py3.8.egg/uf/modeling/xlnet.py:355: UserWarning: `tf.layers.dropout` is deprecated and will be removed in a future version. Please use `tf.keras.layers.Dropout` instead.\n",
      "  output = tf.layers.dropout(\n"
     ]
    },
    {
     "name": "stdout",
     "output_type": "stream",
     "text": [
      "WARNING:tensorflow:From /Users/geyingli/Library/Python/3.8/lib/python/site-packages/tensorflow/python/util/dispatch.py:1096: calling dropout (from tensorflow.python.ops.nn_ops) with keep_prob is deprecated and will be removed in a future version.\n",
      "Instructions for updating:\n",
      "Please use `rate` instead of `keep_prob`. Rate should be set to `rate = 1 - keep_prob`.\n"
     ]
    },
    {
     "name": "stderr",
     "output_type": "stream",
     "text": [
      "/Users/geyingli/Library/Python/3.8/lib/python/site-packages/uf-2.3.2-py3.8.egg/uf/modeling/xlnet.py:957: UserWarning: `tf.layers.dropout` is deprecated and will be removed in a future version. Please use `tf.keras.layers.Dropout` instead.\n",
      "  output = tf.layers.dropout(output_h, dropout, training=is_training)\n"
     ]
    },
    {
     "name": "stdout",
     "output_type": "stream",
     "text": [
      "INFO:tensorflow:Build graph with 350,159,625 parameters (among which 116,719,875 are trainable)\n",
      "INFO:tensorflow:Running local_init_op\n",
      "INFO:tensorflow:Done running local_init_op\n",
      "INFO:tensorflow:Running training on 4 samples (step 0 -> 20)\n",
      "INFO:tensorflow:step 1, accuracy 0.2500, loss 1.561550, 0.11 steps/sec, 0.42 examples/sec\n",
      "INFO:tensorflow:step 2, accuracy 0.2500, loss 1.606607, 0.14 steps/sec, 0.58 examples/sec\n",
      "INFO:tensorflow:step 3, accuracy 0.5000, loss 0.987420, 0.30 steps/sec, 1.20 examples/sec\n",
      "INFO:tensorflow:step 4, accuracy 0.5000, loss 0.992167, 0.22 steps/sec, 0.89 examples/sec\n",
      "INFO:tensorflow:step 5, accuracy 0.7500, loss 0.710128, 0.20 steps/sec, 0.80 examples/sec\n",
      "INFO:tensorflow:step 6, accuracy 1.0000, loss 0.480275, 0.16 steps/sec, 0.62 examples/sec\n",
      "INFO:tensorflow:step 7, accuracy 1.0000, loss 0.365609, 0.18 steps/sec, 0.70 examples/sec\n",
      "INFO:tensorflow:step 8, accuracy 1.0000, loss 0.358026, 0.14 steps/sec, 0.55 examples/sec\n",
      "INFO:tensorflow:step 9, accuracy 1.0000, loss 0.274326, 0.21 steps/sec, 0.83 examples/sec\n",
      "INFO:tensorflow:step 10, accuracy 1.0000, loss 0.096755, 0.16 steps/sec, 0.66 examples/sec\n",
      "INFO:tensorflow:step 11, accuracy 1.0000, loss 0.039090, 0.16 steps/sec, 0.65 examples/sec\n",
      "INFO:tensorflow:step 12, accuracy 1.0000, loss 0.028260, 0.19 steps/sec, 0.76 examples/sec\n",
      "INFO:tensorflow:step 13, accuracy 1.0000, loss 0.009866, 0.20 steps/sec, 0.79 examples/sec\n",
      "INFO:tensorflow:step 14, accuracy 1.0000, loss 0.004139, 0.21 steps/sec, 0.82 examples/sec\n",
      "INFO:tensorflow:step 15, accuracy 1.0000, loss 0.002742, 0.21 steps/sec, 0.83 examples/sec\n",
      "INFO:tensorflow:step 16, accuracy 1.0000, loss 0.003483, 0.20 steps/sec, 0.81 examples/sec\n",
      "INFO:tensorflow:step 17, accuracy 1.0000, loss 0.001930, 0.22 steps/sec, 0.87 examples/sec\n",
      "INFO:tensorflow:step 18, accuracy 1.0000, loss 0.001293, 0.17 steps/sec, 0.67 examples/sec\n",
      "INFO:tensorflow:step 19, accuracy 1.0000, loss 0.000685, 0.20 steps/sec, 0.81 examples/sec\n",
      "INFO:tensorflow:step 20, accuracy 1.0000, loss 0.000566, 0.21 steps/sec, 0.85 examples/sec\n"
     ]
    }
   ],
   "source": [
    "model.fit(X, y, total_steps=20)"
   ]
  },
  {
   "cell_type": "markdown",
   "id": "primary-enlargement",
   "metadata": {},
   "source": [
    "# 推理"
   ]
  },
  {
   "cell_type": "code",
   "execution_count": 5,
   "id": "joined-virgin",
   "metadata": {},
   "outputs": [
    {
     "name": "stdout",
     "output_type": "stream",
     "text": [
      "INFO:tensorflow:Time usage 0m-3.29s, 0.30 steps/sec, 1.22 examples/sec\n"
     ]
    },
    {
     "data": {
      "text/plain": [
       "{'preds': [1, 0, 2, 0],\n",
       " 'probs': array([[1.5630979e-04, 9.9980468e-01, 3.9142269e-05],\n",
       "        [9.9982774e-01, 1.6188134e-04, 1.0385201e-05],\n",
       "        [7.8992234e-05, 2.4411482e-04, 9.9967694e-01],\n",
       "        [9.9990726e-01, 8.1384729e-05, 1.1328190e-05]], dtype=float32)}"
      ]
     },
     "execution_count": 5,
     "metadata": {},
     "output_type": "execute_result"
    }
   ],
   "source": [
    "model.predict(X)"
   ]
  },
  {
   "cell_type": "markdown",
   "id": "cellular-valuable",
   "metadata": {},
   "source": [
    "# 评分"
   ]
  },
  {
   "cell_type": "code",
   "execution_count": 6,
   "id": "static-vocabulary",
   "metadata": {},
   "outputs": [
    {
     "name": "stdout",
     "output_type": "stream",
     "text": [
      "INFO:tensorflow:Time usage 0m-1.55s, 0.65 steps/sec, 2.59 examples/sec\n"
     ]
    },
    {
     "data": {
      "text/plain": [
       "{'accuracy': 1.0, 'loss': 0.00019586805}"
      ]
     },
     "execution_count": 6,
     "metadata": {},
     "output_type": "execute_result"
    }
   ],
   "source": [
    "model.score(X, y)"
   ]
  }
 ],
 "metadata": {
  "kernelspec": {
   "display_name": "Python 3",
   "language": "python",
   "name": "python3"
  },
  "language_info": {
   "codemirror_mode": {
    "name": "ipython",
    "version": 3
   },
   "file_extension": ".py",
   "mimetype": "text/x-python",
   "name": "python",
   "nbconvert_exporter": "python",
   "pygments_lexer": "ipython3",
   "version": "3.8.2"
  }
 },
 "nbformat": 4,
 "nbformat_minor": 5
}
