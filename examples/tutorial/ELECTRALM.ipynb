{
 "cells": [
  {
   "cell_type": "markdown",
   "id": "familiar-party",
   "metadata": {},
   "source": [
    "# ELECTRALM\n",
    "\n",
    "可用的中文预训练参数：[`electra-small`](https://drive.google.com/file/d/1uab-9T1kR9HgD2NB0Kz1JB_TdSKgJIds/view?usp=drive_open),[`electra-small-ex`](https://drive.google.com/file/d/1LluPORc7xtFmCTFR4IF17q77ip82i7__/view),[`electra-base`](https://drive.google.com/file/d/1FMwrs2weFST-iAuZH3umMa6YZVeIP8wD/view),[`electra-large`](https://drive.google.com/file/d/1ny0NMLkEWG6rseDLiF_NujdHxDcIN51m/view)"
   ]
  },
  {
   "cell_type": "code",
   "execution_count": 1,
   "id": "rotary-academy",
   "metadata": {},
   "outputs": [
    {
     "name": "stdout",
     "output_type": "stream",
     "text": [
      "v2.5.0\n"
     ]
    }
   ],
   "source": [
    "import uf\n",
    "\n",
    "print(uf.__version__)"
   ]
  },
  {
   "cell_type": "code",
   "execution_count": 2,
   "id": "velvet-symbol",
   "metadata": {},
   "outputs": [
    {
     "name": "stdout",
     "output_type": "stream",
     "text": [
      "uf.ELECTRALM(\n",
      "    vocab_file=\"../../ref/vocab.txt\",\n",
      "    model_size=\"base\",\n",
      "    max_seq_length=128,\n",
      "    init_checkpoint=None,\n",
      "    output_dir=None,\n",
      "    gpu_ids=None,\n",
      "    generator_weight=1.0,\n",
      "    discriminator_weight=50.0,\n",
      "    max_predictions_per_seq=20,\n",
      "    masked_lm_prob=0.15,\n",
      "    do_whole_word_mask=False,\n",
      "    do_lower_case=True,\n",
      "    truncate_method=\"LIFO\",\n",
      ")\n"
     ]
    }
   ],
   "source": [
    "model = uf.ELECTRALM(\"../../ref/vocab.txt\")\n",
    "print(model)"
   ]
  },
  {
   "cell_type": "code",
   "execution_count": 3,
   "id": "drawn-breathing",
   "metadata": {},
   "outputs": [],
   "source": [
    "X = [[\"天亮以前说再见，\", \"笑着泪流满面，\", \"去迎接应该你的，\", \"更好的明天。\"],    # 每一条样本是一个doc，doc内可以由多个句子组成\n",
    "     \"他想知道那是谁, 为何总沉默寡言, 人群中也算抢眼, 抢眼的孤独难免\"]    # doc也可以是一个完整的文段"
   ]
  },
  {
   "cell_type": "markdown",
   "id": "vanilla-fault",
   "metadata": {},
   "source": [
    "# 训练"
   ]
  },
  {
   "cell_type": "code",
   "execution_count": 4,
   "id": "excellent-religion",
   "metadata": {},
   "outputs": [
    {
     "name": "stdout",
     "output_type": "stream",
     "text": [
      "INFO:tensorflow:Training on Generator and Discriminator. (Pass `electra_objective=False` to exclude Discriminator)\n",
      "WARNING:tensorflow:From c:\\Users\\Luv_d\\AppData\\Local\\Programs\\Python\\Python39\\lib\\site-packages\\tensorflow\\python\\util\\dispatch.py:1176: calling dropout (from tensorflow.python.ops.nn_ops) with keep_prob is deprecated and will be removed in a future version.\n",
      "Instructions for updating:\n",
      "Please use `rate` instead of `keep_prob`. Rate should be set to `rate = 1 - keep_prob`.\n"
     ]
    },
    {
     "name": "stderr",
     "output_type": "stream",
     "text": [
      "c:\\Users\\Luv_d\\AppData\\Local\\Programs\\Python\\Python39\\lib\\site-packages\\uf-2.5.0-py3.9.egg\\uf\\apps\\electra\\electra.py:339: UserWarning: `tf.layers.dense` is deprecated and will be removed in a future version. Please use `tf.keras.layers.Dense` instead.\n",
      "  self.embedding_output = tf.layers.dense(\n",
      "c:\\Users\\Luv_d\\AppData\\Local\\Programs\\Python\\Python39\\lib\\site-packages\\uf-2.5.0-py3.9.egg\\uf\\apps\\electra\\electra.py:698: UserWarning: `tf.layers.dense` is deprecated and will be removed in a future version. Please use `tf.keras.layers.Dense` instead.\n",
      "  query_layer = tf.layers.dense(\n",
      "c:\\Users\\Luv_d\\AppData\\Local\\Programs\\Python\\Python39\\lib\\site-packages\\uf-2.5.0-py3.9.egg\\uf\\apps\\electra\\electra.py:706: UserWarning: `tf.layers.dense` is deprecated and will be removed in a future version. Please use `tf.keras.layers.Dense` instead.\n",
      "  key_layer = tf.layers.dense(\n",
      "c:\\Users\\Luv_d\\AppData\\Local\\Programs\\Python\\Python39\\lib\\site-packages\\uf-2.5.0-py3.9.egg\\uf\\apps\\electra\\electra.py:714: UserWarning: `tf.layers.dense` is deprecated and will be removed in a future version. Please use `tf.keras.layers.Dense` instead.\n",
      "  value_layer = tf.layers.dense(\n",
      "c:\\Users\\Luv_d\\AppData\\Local\\Programs\\Python\\Python39\\lib\\site-packages\\uf-2.5.0-py3.9.egg\\uf\\apps\\electra\\electra.py:891: UserWarning: `tf.layers.dense` is deprecated and will be removed in a future version. Please use `tf.keras.layers.Dense` instead.\n",
      "  attention_output = tf.layers.dense(\n",
      "c:\\Users\\Luv_d\\AppData\\Local\\Programs\\Python\\Python39\\lib\\site-packages\\uf-2.5.0-py3.9.egg\\uf\\apps\\electra\\electra.py:901: UserWarning: `tf.layers.dense` is deprecated and will be removed in a future version. Please use `tf.keras.layers.Dense` instead.\n",
      "  intermediate_output = tf.layers.dense(\n",
      "c:\\Users\\Luv_d\\AppData\\Local\\Programs\\Python\\Python39\\lib\\site-packages\\uf-2.5.0-py3.9.egg\\uf\\apps\\electra\\electra.py:909: UserWarning: `tf.layers.dense` is deprecated and will be removed in a future version. Please use `tf.keras.layers.Dense` instead.\n",
      "  prev_output = tf.layers.dense(\n",
      "c:\\Users\\Luv_d\\AppData\\Local\\Programs\\Python\\Python39\\lib\\site-packages\\uf-2.5.0-py3.9.egg\\uf\\apps\\electra\\electra.py:111: UserWarning: `tf.layers.dense` is deprecated and will be removed in a future version. Please use `tf.keras.layers.Dense` instead.\n",
      "  input_tensor = tf.layers.dense(\n",
      "c:\\Users\\Luv_d\\AppData\\Local\\Programs\\Python\\Python39\\lib\\site-packages\\uf-2.5.0-py3.9.egg\\uf\\apps\\electra\\electra.py:163: UserWarning: `tf.layers.dense` is deprecated and will be removed in a future version. Please use `tf.keras.layers.Dense` instead.\n",
      "  hidden = tf.layers.dense(\n",
      "c:\\Users\\Luv_d\\AppData\\Local\\Programs\\Python\\Python39\\lib\\site-packages\\uf-2.5.0-py3.9.egg\\uf\\apps\\electra\\electra.py:169: UserWarning: `tf.layers.dense` is deprecated and will be removed in a future version. Please use `tf.keras.layers.Dense` instead.\n",
      "  logits = tf.squeeze(tf.layers.dense(hidden, units=1), -1)\n"
     ]
    },
    {
     "name": "stdout",
     "output_type": "stream",
     "text": [
      "INFO:tensorflow:Build graph with 323,775,963 parameters (among which 107,925,321 are trainable)\n",
      "INFO:tensorflow:Running local_init_op\n",
      "INFO:tensorflow:Done running local_init_op\n",
      "INFO:tensorflow:Running training on 2 samples (step 0 -> 20)\n",
      "INFO:tensorflow:step 1, MLM accuracy 0.0000, RTD accuracy 0.6269, MLM loss 2.478514, RTD loss 0.655022, 0.10 steps/sec, 0.21 examples/sec\n",
      "INFO:tensorflow:step 2, MLM accuracy 0.0000, RTD accuracy 0.8507, MLM loss 2.441377, RTD loss 0.480362, 0.80 steps/sec, 1.60 examples/sec\n",
      "INFO:tensorflow:step 3, MLM accuracy 0.0000, RTD accuracy 0.8507, MLM loss 2.339763, RTD loss 0.408036, 0.80 steps/sec, 1.60 examples/sec\n",
      "INFO:tensorflow:step 4, MLM accuracy 0.0000, RTD accuracy 0.8507, MLM loss 2.285862, RTD loss 0.349033, 0.77 steps/sec, 1.54 examples/sec\n",
      "INFO:tensorflow:step 5, MLM accuracy 0.2000, RTD accuracy 0.8955, MLM loss 2.166254, RTD loss 0.294737, 0.71 steps/sec, 1.42 examples/sec\n",
      "INFO:tensorflow:step 6, MLM accuracy 0.4000, RTD accuracy 0.8955, MLM loss 2.089659, RTD loss 0.231556, 0.79 steps/sec, 1.57 examples/sec\n",
      "INFO:tensorflow:step 7, MLM accuracy 0.6000, RTD accuracy 0.8657, MLM loss 1.986820, RTD loss 0.195067, 0.80 steps/sec, 1.60 examples/sec\n",
      "INFO:tensorflow:step 8, MLM accuracy 0.6000, RTD accuracy 0.9701, MLM loss 1.910512, RTD loss 0.132091, 0.81 steps/sec, 1.62 examples/sec\n",
      "INFO:tensorflow:step 9, MLM accuracy 0.7000, RTD accuracy 1.0000, MLM loss 1.846259, RTD loss 0.084981, 0.80 steps/sec, 1.60 examples/sec\n",
      "INFO:tensorflow:step 10, MLM accuracy 0.9000, RTD accuracy 1.0000, MLM loss 1.763621, RTD loss 0.069850, 0.81 steps/sec, 1.62 examples/sec\n",
      "INFO:tensorflow:step 11, MLM accuracy 0.9000, RTD accuracy 1.0000, MLM loss 1.722325, RTD loss 0.033208, 0.81 steps/sec, 1.62 examples/sec\n",
      "INFO:tensorflow:step 12, MLM accuracy 0.9000, RTD accuracy 1.0000, MLM loss 1.665295, RTD loss 0.021541, 0.80 steps/sec, 1.60 examples/sec\n",
      "INFO:tensorflow:step 13, MLM accuracy 1.0000, RTD accuracy 1.0000, MLM loss 1.632882, RTD loss 0.011716, 0.81 steps/sec, 1.61 examples/sec\n",
      "INFO:tensorflow:step 14, MLM accuracy 1.0000, RTD accuracy 1.0000, MLM loss 1.589056, RTD loss 0.013605, 0.81 steps/sec, 1.63 examples/sec\n",
      "INFO:tensorflow:step 15, MLM accuracy 0.9000, RTD accuracy 1.0000, MLM loss 1.548399, RTD loss 0.006757, 0.81 steps/sec, 1.61 examples/sec\n",
      "INFO:tensorflow:step 16, MLM accuracy 1.0000, RTD accuracy 1.0000, MLM loss 1.504333, RTD loss 0.004892, 0.81 steps/sec, 1.61 examples/sec\n",
      "INFO:tensorflow:step 17, MLM accuracy 1.0000, RTD accuracy 1.0000, MLM loss 1.492754, RTD loss 0.003904, 0.81 steps/sec, 1.62 examples/sec\n",
      "INFO:tensorflow:step 18, MLM accuracy 1.0000, RTD accuracy 1.0000, MLM loss 1.456267, RTD loss 0.003501, 0.80 steps/sec, 1.61 examples/sec\n",
      "INFO:tensorflow:step 19, MLM accuracy 1.0000, RTD accuracy 1.0000, MLM loss 1.466706, RTD loss 0.002937, 0.83 steps/sec, 1.66 examples/sec\n",
      "INFO:tensorflow:step 20, MLM accuracy 1.0000, RTD accuracy 0.9851, MLM loss 1.440140, RTD loss 0.078602, 0.80 steps/sec, 1.60 examples/sec\n"
     ]
    }
   ],
   "source": [
    "model.fit(X, total_steps=20)"
   ]
  },
  {
   "cell_type": "markdown",
   "id": "expanded-bahrain",
   "metadata": {},
   "source": [
    "如果希望如同论文所述，仅训练Generator，传递一个参数即可"
   ]
  },
  {
   "cell_type": "code",
   "execution_count": 5,
   "id": "uniform-oliver",
   "metadata": {},
   "outputs": [
    {
     "name": "stdout",
     "output_type": "stream",
     "text": [
      "INFO:tensorflow:Training on Generator, with Discriminator frozen. (Pass `electra_objective=True` to include Discriminator)\n",
      "INFO:tensorflow:Build graph with 152,484,313 parameters (among which 107,925,321 are trainable)\n",
      "INFO:tensorflow:Running local_init_op\n",
      "INFO:tensorflow:Done running local_init_op\n",
      "INFO:tensorflow:Running training on 2 samples (step 0 -> 20)\n",
      "INFO:tensorflow:step 1, MLM accuracy 0.0000, RTD accuracy 0.5821, MLM loss 2.560220, RTD loss 0.680167, 0.22 steps/sec, 0.45 examples/sec\n",
      "INFO:tensorflow:step 2, MLM accuracy 0.0000, RTD accuracy 0.6567, MLM loss 2.454612, RTD loss 0.630975, 1.81 steps/sec, 3.63 examples/sec\n",
      "INFO:tensorflow:step 3, MLM accuracy 0.0000, RTD accuracy 0.6269, MLM loss 2.375252, RTD loss 0.658356, 1.83 steps/sec, 3.66 examples/sec\n",
      "INFO:tensorflow:step 4, MLM accuracy 0.0000, RTD accuracy 0.6418, MLM loss 2.260816, RTD loss 0.655216, 1.88 steps/sec, 3.75 examples/sec\n",
      "INFO:tensorflow:step 5, MLM accuracy 0.1000, RTD accuracy 0.6866, MLM loss 2.173428, RTD loss 0.661944, 1.82 steps/sec, 3.65 examples/sec\n",
      "INFO:tensorflow:step 6, MLM accuracy 0.3000, RTD accuracy 0.6418, MLM loss 2.067484, RTD loss 0.653005, 1.87 steps/sec, 3.74 examples/sec\n",
      "INFO:tensorflow:step 7, MLM accuracy 0.8000, RTD accuracy 0.6567, MLM loss 1.985376, RTD loss 0.656944, 1.83 steps/sec, 3.67 examples/sec\n",
      "INFO:tensorflow:step 8, MLM accuracy 0.8000, RTD accuracy 0.7015, MLM loss 1.880161, RTD loss 0.650295, 1.87 steps/sec, 3.74 examples/sec\n",
      "INFO:tensorflow:step 9, MLM accuracy 0.8000, RTD accuracy 0.6119, MLM loss 1.827657, RTD loss 0.650050, 1.89 steps/sec, 3.78 examples/sec\n",
      "INFO:tensorflow:step 10, MLM accuracy 0.8000, RTD accuracy 0.6716, MLM loss 1.757736, RTD loss 0.641707, 1.83 steps/sec, 3.66 examples/sec\n",
      "INFO:tensorflow:step 11, MLM accuracy 0.9000, RTD accuracy 0.6716, MLM loss 1.674510, RTD loss 0.632162, 1.83 steps/sec, 3.66 examples/sec\n",
      "INFO:tensorflow:step 12, MLM accuracy 0.9000, RTD accuracy 0.5970, MLM loss 1.616316, RTD loss 0.669848, 1.81 steps/sec, 3.62 examples/sec\n",
      "INFO:tensorflow:step 13, MLM accuracy 0.9000, RTD accuracy 0.6716, MLM loss 1.616100, RTD loss 0.660837, 1.80 steps/sec, 3.61 examples/sec\n",
      "INFO:tensorflow:step 14, MLM accuracy 1.0000, RTD accuracy 0.6418, MLM loss 1.548216, RTD loss 0.657491, 1.85 steps/sec, 3.70 examples/sec\n",
      "INFO:tensorflow:step 15, MLM accuracy 1.0000, RTD accuracy 0.6418, MLM loss 1.520606, RTD loss 0.653484, 1.83 steps/sec, 3.67 examples/sec\n",
      "INFO:tensorflow:step 16, MLM accuracy 1.0000, RTD accuracy 0.6866, MLM loss 1.499709, RTD loss 0.638533, 1.82 steps/sec, 3.64 examples/sec\n",
      "INFO:tensorflow:step 17, MLM accuracy 1.0000, RTD accuracy 0.6716, MLM loss 1.460506, RTD loss 0.655331, 1.82 steps/sec, 3.64 examples/sec\n",
      "INFO:tensorflow:step 18, MLM accuracy 1.0000, RTD accuracy 0.7164, MLM loss 1.435948, RTD loss 0.641153, 1.79 steps/sec, 3.58 examples/sec\n",
      "INFO:tensorflow:step 19, MLM accuracy 1.0000, RTD accuracy 0.6119, MLM loss 1.431746, RTD loss 0.655632, 1.83 steps/sec, 3.66 examples/sec\n",
      "INFO:tensorflow:step 20, MLM accuracy 1.0000, RTD accuracy 0.6418, MLM loss 1.432148, RTD loss 0.654889, 1.82 steps/sec, 3.64 examples/sec\n"
     ]
    }
   ],
   "source": [
    "model.reset()        # 重置模型，方便对比\n",
    "model.fit(X, total_steps=20, electra_objective=False)"
   ]
  },
  {
   "cell_type": "markdown",
   "id": "fallen-hundred",
   "metadata": {},
   "source": [
    "# 推理"
   ]
  },
  {
   "cell_type": "code",
   "execution_count": 6,
   "id": "opposite-pantyhose",
   "metadata": {},
   "outputs": [
    {
     "name": "stdout",
     "output_type": "stream",
     "text": [
      "INFO:tensorflow:Running inference on 1 samples\n",
      "INFO:tensorflow:process 100.0%, 0.87 examples/sec\n"
     ]
    },
    {
     "data": {
      "text/plain": [
       "{'mlm_preds': [['道']],\n",
       " 'rtd_preds': [['[REPLACED]',\n",
       "   '天',\n",
       "   '亮',\n",
       "   '以',\n",
       "   '[MASK]',\n",
       "   '说',\n",
       "   '再',\n",
       "   '见',\n",
       "   '[REPLACED]']],\n",
       " 'rtd_probs': array([[0.54038614, 0.4551239 , 0.495264  , 0.37477225, 0.49033347,\n",
       "         0.3712116 , 0.49604303, 0.37725484, 0.5828343 , 0.467933  ,\n",
       "         0.4368018 , 0.47631815, 0.42055398, 0.41364998, 0.40876544,\n",
       "         0.48567837, 0.41667655, 0.43733037, 0.4943487 , 0.46596116,\n",
       "         0.3930355 , 0.36697364, 0.41990662, 0.44677734, 0.3744401 ,\n",
       "         0.35702673, 0.45810574, 0.40913978, 0.50950414, 0.36338887,\n",
       "         0.40631017, 0.44789714, 0.4299168 , 0.4281187 , 0.35920605,\n",
       "         0.3923277 , 0.40801305, 0.402318  , 0.3643254 , 0.46400976,\n",
       "         0.4145771 , 0.5277804 , 0.4125628 , 0.447009  , 0.37634116,\n",
       "         0.41527572, 0.47017047, 0.42363355, 0.39741865, 0.3607532 ,\n",
       "         0.45791882, 0.4772711 , 0.5635663 , 0.45278752, 0.32019842,\n",
       "         0.46502873, 0.43817267, 0.37432918, 0.40793762, 0.38958865,\n",
       "         0.41251922, 0.43498397, 0.42368865, 0.49207643, 0.4025766 ,\n",
       "         0.29678392, 0.45065066, 0.42483795, 0.4486277 , 0.45778045,\n",
       "         0.379516  , 0.43621   , 0.3795635 , 0.36060986, 0.3978307 ,\n",
       "         0.5453237 , 0.4287095 , 0.34898657, 0.3860742 , 0.47655365,\n",
       "         0.43912312, 0.47064304, 0.41320133, 0.51979905, 0.48059735,\n",
       "         0.3797567 , 0.42941493, 0.4420175 , 0.35633656, 0.3835847 ,\n",
       "         0.4636258 , 0.39265588, 0.47038752, 0.4774122 , 0.39349547,\n",
       "         0.42911255, 0.39468223, 0.46513942, 0.41799513, 0.40683538,\n",
       "         0.42938587, 0.44719788, 0.4150574 , 0.42675835, 0.49128476,\n",
       "         0.41207743, 0.48686603, 0.42829895, 0.39805695, 0.4250241 ,\n",
       "         0.37138242, 0.48996347, 0.48301694, 0.39808324, 0.48410308,\n",
       "         0.49371356, 0.4503355 , 0.43351665, 0.44549623, 0.41177124,\n",
       "         0.44848156, 0.46415925, 0.50164235, 0.4151169 , 0.41037223,\n",
       "         0.40008777, 0.44846258, 0.41346633]], dtype=float32)}"
      ]
     },
     "execution_count": 6,
     "metadata": {},
     "output_type": "execute_result"
    }
   ],
   "source": [
    "X_tokenized = [[\"天\", \"亮\", \"以\", \"[MASK]\", \"说\", \"再\", \"见\"]]    # 可以手动赋予Mask预测 (与训练阶段采样不同，因此此case预测错误正常)\n",
    "model.predict(X_tokenized=X_tokenized)"
   ]
  }
 ],
 "metadata": {
  "kernelspec": {
   "display_name": "Python 3.9.13 64-bit",
   "language": "python",
   "name": "python3"
  },
  "language_info": {
   "codemirror_mode": {
    "name": "ipython",
    "version": 3
   },
   "file_extension": ".py",
   "mimetype": "text/x-python",
   "name": "python",
   "nbconvert_exporter": "python",
   "pygments_lexer": "ipython3",
   "version": "3.9.13"
  },
  "vscode": {
   "interpreter": {
    "hash": "265fd6f62f200408acbbeae0248f34bed9f93569a643842b7a25d2cd76cae5e5"
   }
  }
 },
 "nbformat": 4,
 "nbformat_minor": 5
}
