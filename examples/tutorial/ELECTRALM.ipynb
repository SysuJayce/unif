{
 "cells": [
  {
   "cell_type": "code",
   "execution_count": 1,
   "id": "rotary-academy",
   "metadata": {},
   "outputs": [
    {
     "name": "stdout",
     "output_type": "stream",
     "text": [
      "v2.3.2\n"
     ]
    }
   ],
   "source": [
    "import uf\n",
    "\n",
    "print(uf.__version__)"
   ]
  },
  {
   "cell_type": "code",
   "execution_count": 2,
   "id": "velvet-symbol",
   "metadata": {},
   "outputs": [
    {
     "name": "stdout",
     "output_type": "stream",
     "text": [
      "uf.ELECTRALM(vocab_file=\"../../demo/vocab.txt\", model_size=\"base\", max_seq_length=128, init_checkpoint=None, output_dir=None, gpu_ids=None, generator_weight=1.0, discriminator_weight=50.0, max_predictions_per_seq=20, masked_lm_prob=0.15, do_whole_word_mask=False, do_lower_case=True, truncate_method=\"LIFO\")\n"
     ]
    }
   ],
   "source": [
    "model = uf.ELECTRALM('../../demo/vocab.txt')\n",
    "print(model)"
   ]
  },
  {
   "cell_type": "code",
   "execution_count": 3,
   "id": "drawn-breathing",
   "metadata": {},
   "outputs": [],
   "source": [
    "X = [['天亮以前说再见，', '笑着泪流满面，', '去迎接应该你的，', '更好的明天。'],    # 每一条样本是一个doc，doc内可以由多个句子组成\n",
    "     '他想知道那是谁, 为何总沉默寡言, 人群中也算抢眼, 抢眼的孤独难免']    # doc也可以是一个完整的文段"
   ]
  },
  {
   "cell_type": "markdown",
   "id": "vanilla-fault",
   "metadata": {},
   "source": [
    "# 训练"
   ]
  },
  {
   "cell_type": "code",
   "execution_count": 4,
   "id": "excellent-religion",
   "metadata": {},
   "outputs": [
    {
     "name": "stdout",
     "output_type": "stream",
     "text": [
      "INFO:tensorflow:Training on Generator and Discriminator. (Pass `electra_objective=False` to exclude Discriminator)\n",
      "WARNING:tensorflow:From /Users/geyingli/Library/Python/3.8/lib/python/site-packages/tensorflow/python/util/dispatch.py:1096: calling dropout (from tensorflow.python.ops.nn_ops) with keep_prob is deprecated and will be removed in a future version.\n",
      "Instructions for updating:\n",
      "Please use `rate` instead of `keep_prob`. Rate should be set to `rate = 1 - keep_prob`.\n"
     ]
    },
    {
     "name": "stderr",
     "output_type": "stream",
     "text": [
      "/Users/geyingli/Library/Python/3.8/lib/python/site-packages/uf-2.3.2-py3.8.egg/uf/modeling/electra.py:339: UserWarning: `tf.layers.dense` is deprecated and will be removed in a future version. Please use `tf.keras.layers.Dense` instead.\n",
      "  self.embedding_output = tf.layers.dense(\n",
      "/Users/geyingli/Library/Python/3.8/lib/python/site-packages/keras/legacy_tf_layers/core.py:255: UserWarning: `layer.apply` is deprecated and will be removed in a future version. Please use `layer.__call__` method instead.\n",
      "  return layer.apply(inputs)\n",
      "/Users/geyingli/Library/Python/3.8/lib/python/site-packages/uf-2.3.2-py3.8.egg/uf/modeling/electra.py:698: UserWarning: `tf.layers.dense` is deprecated and will be removed in a future version. Please use `tf.keras.layers.Dense` instead.\n",
      "  query_layer = tf.layers.dense(\n",
      "/Users/geyingli/Library/Python/3.8/lib/python/site-packages/uf-2.3.2-py3.8.egg/uf/modeling/electra.py:706: UserWarning: `tf.layers.dense` is deprecated and will be removed in a future version. Please use `tf.keras.layers.Dense` instead.\n",
      "  key_layer = tf.layers.dense(\n",
      "/Users/geyingli/Library/Python/3.8/lib/python/site-packages/uf-2.3.2-py3.8.egg/uf/modeling/electra.py:714: UserWarning: `tf.layers.dense` is deprecated and will be removed in a future version. Please use `tf.keras.layers.Dense` instead.\n",
      "  value_layer = tf.layers.dense(\n",
      "/Users/geyingli/Library/Python/3.8/lib/python/site-packages/uf-2.3.2-py3.8.egg/uf/modeling/electra.py:891: UserWarning: `tf.layers.dense` is deprecated and will be removed in a future version. Please use `tf.keras.layers.Dense` instead.\n",
      "  attention_output = tf.layers.dense(\n",
      "/Users/geyingli/Library/Python/3.8/lib/python/site-packages/uf-2.3.2-py3.8.egg/uf/modeling/electra.py:901: UserWarning: `tf.layers.dense` is deprecated and will be removed in a future version. Please use `tf.keras.layers.Dense` instead.\n",
      "  intermediate_output = tf.layers.dense(\n",
      "/Users/geyingli/Library/Python/3.8/lib/python/site-packages/uf-2.3.2-py3.8.egg/uf/modeling/electra.py:909: UserWarning: `tf.layers.dense` is deprecated and will be removed in a future version. Please use `tf.keras.layers.Dense` instead.\n",
      "  prev_output = tf.layers.dense(\n",
      "/Users/geyingli/Library/Python/3.8/lib/python/site-packages/uf-2.3.2-py3.8.egg/uf/modeling/electra.py:111: UserWarning: `tf.layers.dense` is deprecated and will be removed in a future version. Please use `tf.keras.layers.Dense` instead.\n",
      "  input_tensor = tf.layers.dense(\n",
      "/Users/geyingli/Library/Python/3.8/lib/python/site-packages/uf-2.3.2-py3.8.egg/uf/modeling/electra.py:163: UserWarning: `tf.layers.dense` is deprecated and will be removed in a future version. Please use `tf.keras.layers.Dense` instead.\n",
      "  hidden = tf.layers.dense(\n",
      "/Users/geyingli/Library/Python/3.8/lib/python/site-packages/uf-2.3.2-py3.8.egg/uf/modeling/electra.py:169: UserWarning: `tf.layers.dense` is deprecated and will be removed in a future version. Please use `tf.keras.layers.Dense` instead.\n",
      "  logits = tf.squeeze(tf.layers.dense(hidden, units=1), -1)\n"
     ]
    },
    {
     "name": "stdout",
     "output_type": "stream",
     "text": [
      "INFO:tensorflow:Build graph with 323,775,963 parameters (among which 107,925,321 are trainable)\n",
      "INFO:tensorflow:Running local_init_op\n",
      "INFO:tensorflow:Done running local_init_op\n",
      "INFO:tensorflow:Running training on 2 samples (step 0 -> 20)\n",
      "INFO:tensorflow:step 1, MLM accuracy 0.0000, RTD accuracy 0.6418, MLM loss 2.474870, RTD loss 0.650629, 0.05 steps/sec, 0.10 examples/sec\n",
      "INFO:tensorflow:step 2, MLM accuracy 0.0000, RTD accuracy 0.8507, MLM loss 2.432980, RTD loss 0.465163, 0.23 steps/sec, 0.46 examples/sec\n",
      "INFO:tensorflow:step 3, MLM accuracy 0.0000, RTD accuracy 0.8507, MLM loss 2.362567, RTD loss 0.380298, 0.36 steps/sec, 0.73 examples/sec\n",
      "INFO:tensorflow:step 4, MLM accuracy 0.1000, RTD accuracy 0.8955, MLM loss 2.286828, RTD loss 0.300628, 0.41 steps/sec, 0.83 examples/sec\n",
      "INFO:tensorflow:step 5, MLM accuracy 0.3000, RTD accuracy 0.9552, MLM loss 2.182760, RTD loss 0.250929, 0.40 steps/sec, 0.81 examples/sec\n",
      "INFO:tensorflow:step 6, MLM accuracy 0.4000, RTD accuracy 0.8806, MLM loss 2.125573, RTD loss 0.189324, 0.41 steps/sec, 0.82 examples/sec\n",
      "INFO:tensorflow:step 7, MLM accuracy 0.5000, RTD accuracy 0.9403, MLM loss 2.038922, RTD loss 0.143259, 0.42 steps/sec, 0.83 examples/sec\n",
      "INFO:tensorflow:step 8, MLM accuracy 0.6000, RTD accuracy 1.0000, MLM loss 1.961579, RTD loss 0.099501, 0.43 steps/sec, 0.87 examples/sec\n",
      "INFO:tensorflow:step 9, MLM accuracy 0.6000, RTD accuracy 1.0000, MLM loss 1.902375, RTD loss 0.064916, 0.42 steps/sec, 0.85 examples/sec\n",
      "INFO:tensorflow:step 10, MLM accuracy 0.8000, RTD accuracy 1.0000, MLM loss 1.818066, RTD loss 0.040262, 0.40 steps/sec, 0.80 examples/sec\n",
      "INFO:tensorflow:step 11, MLM accuracy 0.7000, RTD accuracy 1.0000, MLM loss 1.781883, RTD loss 0.020792, 0.39 steps/sec, 0.79 examples/sec\n",
      "INFO:tensorflow:step 12, MLM accuracy 0.8000, RTD accuracy 1.0000, MLM loss 1.727484, RTD loss 0.018606, 0.39 steps/sec, 0.79 examples/sec\n",
      "INFO:tensorflow:step 13, MLM accuracy 0.8000, RTD accuracy 1.0000, MLM loss 1.680740, RTD loss 0.009856, 0.19 steps/sec, 0.37 examples/sec\n",
      "INFO:tensorflow:step 14, MLM accuracy 1.0000, RTD accuracy 1.0000, MLM loss 1.623661, RTD loss 0.006818, 0.12 steps/sec, 0.24 examples/sec\n",
      "INFO:tensorflow:step 15, MLM accuracy 1.0000, RTD accuracy 1.0000, MLM loss 1.608682, RTD loss 0.003108, 0.11 steps/sec, 0.21 examples/sec\n",
      "INFO:tensorflow:step 16, MLM accuracy 1.0000, RTD accuracy 1.0000, MLM loss 1.562252, RTD loss 0.004228, 0.07 steps/sec, 0.14 examples/sec\n",
      "INFO:tensorflow:step 17, MLM accuracy 0.9000, RTD accuracy 1.0000, MLM loss 1.570774, RTD loss 0.003603, 0.07 steps/sec, 0.14 examples/sec\n",
      "INFO:tensorflow:step 18, MLM accuracy 0.9000, RTD accuracy 1.0000, MLM loss 1.526614, RTD loss 0.001526, 0.05 steps/sec, 0.10 examples/sec\n",
      "INFO:tensorflow:step 19, MLM accuracy 1.0000, RTD accuracy 0.9851, MLM loss 1.514589, RTD loss 0.077864, 0.05 steps/sec, 0.11 examples/sec\n",
      "INFO:tensorflow:step 20, MLM accuracy 1.0000, RTD accuracy 1.0000, MLM loss 1.497812, RTD loss 0.000899, 0.05 steps/sec, 0.09 examples/sec\n"
     ]
    }
   ],
   "source": [
    "model.fit(X, total_steps=20)"
   ]
  },
  {
   "cell_type": "markdown",
   "id": "expanded-bahrain",
   "metadata": {},
   "source": [
    "如果希望如同论文所述，仅训练Generator，传递一个参数即可"
   ]
  },
  {
   "cell_type": "code",
   "execution_count": 5,
   "id": "uniform-oliver",
   "metadata": {},
   "outputs": [
    {
     "name": "stdout",
     "output_type": "stream",
     "text": [
      "INFO:tensorflow:Training on Generator, with Discriminator frozen. (Pass `electra_objective=True` to include Discriminator)\n",
      "INFO:tensorflow:Running training on 2 samples (step 20 -> 40)\n",
      "INFO:tensorflow:step 21, MLM accuracy 0.2000, RTD accuracy 0.7761, MLM loss 2.433718, RTD loss 1.299890, 0.09 steps/sec, 0.19 examples/sec\n",
      "INFO:tensorflow:step 22, MLM accuracy 0.2000, RTD accuracy 0.7761, MLM loss 2.415411, RTD loss 1.449083, 1.10 steps/sec, 2.20 examples/sec\n",
      "INFO:tensorflow:step 23, MLM accuracy 0.2000, RTD accuracy 0.7612, MLM loss 2.353549, RTD loss 1.356717, 1.25 steps/sec, 2.51 examples/sec\n",
      "INFO:tensorflow:step 24, MLM accuracy 0.2000, RTD accuracy 0.7761, MLM loss 2.321411, RTD loss 1.394025, 1.24 steps/sec, 2.48 examples/sec\n",
      "INFO:tensorflow:step 25, MLM accuracy 0.2000, RTD accuracy 0.7612, MLM loss 2.285972, RTD loss 1.385824, 1.23 steps/sec, 2.46 examples/sec\n",
      "INFO:tensorflow:step 26, MLM accuracy 0.2000, RTD accuracy 0.7612, MLM loss 2.233026, RTD loss 1.354170, 1.29 steps/sec, 2.58 examples/sec\n",
      "INFO:tensorflow:step 27, MLM accuracy 0.2000, RTD accuracy 0.7612, MLM loss 2.174290, RTD loss 1.338351, 1.24 steps/sec, 2.49 examples/sec\n",
      "INFO:tensorflow:step 28, MLM accuracy 0.2000, RTD accuracy 0.7612, MLM loss 2.143478, RTD loss 1.379211, 1.26 steps/sec, 2.52 examples/sec\n",
      "INFO:tensorflow:step 29, MLM accuracy 0.2000, RTD accuracy 0.7612, MLM loss 2.090963, RTD loss 1.357055, 1.21 steps/sec, 2.41 examples/sec\n",
      "INFO:tensorflow:step 30, MLM accuracy 0.2000, RTD accuracy 0.7612, MLM loss 2.050343, RTD loss 1.375397, 1.21 steps/sec, 2.42 examples/sec\n",
      "INFO:tensorflow:step 31, MLM accuracy 0.2000, RTD accuracy 0.7761, MLM loss 2.017730, RTD loss 1.433198, 1.22 steps/sec, 2.44 examples/sec\n",
      "INFO:tensorflow:step 32, MLM accuracy 0.2000, RTD accuracy 0.7761, MLM loss 1.988081, RTD loss 1.405082, 1.22 steps/sec, 2.45 examples/sec\n",
      "INFO:tensorflow:step 33, MLM accuracy 0.3000, RTD accuracy 0.7612, MLM loss 1.972655, RTD loss 1.499185, 1.21 steps/sec, 2.42 examples/sec\n",
      "INFO:tensorflow:step 34, MLM accuracy 0.4000, RTD accuracy 0.7761, MLM loss 1.908186, RTD loss 1.394902, 1.23 steps/sec, 2.46 examples/sec\n",
      "INFO:tensorflow:step 35, MLM accuracy 0.4000, RTD accuracy 0.7612, MLM loss 1.899454, RTD loss 1.391021, 1.18 steps/sec, 2.37 examples/sec\n",
      "INFO:tensorflow:step 36, MLM accuracy 0.4000, RTD accuracy 0.7761, MLM loss 1.882795, RTD loss 1.437173, 1.26 steps/sec, 2.52 examples/sec\n",
      "INFO:tensorflow:step 37, MLM accuracy 0.4000, RTD accuracy 0.7761, MLM loss 1.862123, RTD loss 1.349727, 1.24 steps/sec, 2.47 examples/sec\n",
      "INFO:tensorflow:step 38, MLM accuracy 0.4000, RTD accuracy 0.7612, MLM loss 1.837117, RTD loss 1.472174, 1.22 steps/sec, 2.43 examples/sec\n",
      "INFO:tensorflow:step 39, MLM accuracy 0.4000, RTD accuracy 0.7761, MLM loss 1.835937, RTD loss 1.375375, 1.25 steps/sec, 2.51 examples/sec\n",
      "INFO:tensorflow:step 40, MLM accuracy 0.4000, RTD accuracy 0.7761, MLM loss 1.856743, RTD loss 1.390087, 1.16 steps/sec, 2.33 examples/sec\n"
     ]
    }
   ],
   "source": [
    "model.fit(X, total_steps=40, electra_objective=False)"
   ]
  },
  {
   "cell_type": "markdown",
   "id": "fallen-hundred",
   "metadata": {},
   "source": [
    "# 推理"
   ]
  },
  {
   "cell_type": "code",
   "execution_count": 6,
   "id": "opposite-pantyhose",
   "metadata": {},
   "outputs": [
    {
     "name": "stdout",
     "output_type": "stream",
     "text": [
      "INFO:tensorflow:Time usage 0m-2.66s, 0.38 steps/sec, 0.38 examples/sec\n"
     ]
    },
    {
     "data": {
      "text/plain": [
       "{'mlm_preds': [['何']],\n",
       " 'rtd_preds': [['[CLS]',\n",
       "   '天',\n",
       "   '亮',\n",
       "   '[REPLACED]',\n",
       "   '[MASK]',\n",
       "   '说',\n",
       "   '再',\n",
       "   '见',\n",
       "   '[SEP]']],\n",
       " 'rtd_probs': array([[3.8608909e-04, 3.0329823e-04, 6.3529611e-04, 9.8366785e-01,\n",
       "         1.8363297e-03, 1.2535155e-03, 8.1208348e-04, 4.1502714e-04,\n",
       "         3.4305453e-04, 9.9871826e-01, 9.9748778e-01, 2.0451352e-01,\n",
       "         3.8959235e-02, 3.1501055e-04, 3.9398670e-04, 3.3166409e-03,\n",
       "         1.2201369e-03, 6.5487623e-04, 1.2730882e-01, 9.9792999e-01,\n",
       "         3.0114084e-02, 3.2991171e-04, 1.2587905e-03, 5.5739284e-04,\n",
       "         8.7466836e-04, 7.0137036e-01, 2.1087229e-03, 3.1909347e-04,\n",
       "         1.2956858e-03, 9.9693853e-01, 2.6428699e-04, 4.4971704e-04,\n",
       "         4.4792891e-04, 3.2682419e-03, 2.9393733e-03, 4.1972399e-03,\n",
       "         5.4830611e-03, 1.7961025e-02, 5.8707446e-02, 2.4976015e-02,\n",
       "         2.6032627e-03, 1.4854670e-03, 1.8839240e-03, 2.1867454e-02,\n",
       "         7.2218180e-03, 4.8708230e-02, 2.6048034e-02, 3.2953471e-02,\n",
       "         1.8725842e-02, 4.8481584e-02, 5.0853848e-02, 2.7078986e-03,\n",
       "         1.5772581e-03, 1.2356937e-02, 1.1555254e-03, 4.7275931e-02,\n",
       "         1.3420373e-02, 3.9218545e-02, 3.5458207e-03, 7.4853867e-02,\n",
       "         6.4302981e-03, 1.0121775e-01, 3.9806366e-03, 1.7104447e-03,\n",
       "         2.3019314e-03, 1.1383235e-02, 3.8447678e-03, 1.0087401e-02,\n",
       "         2.9835910e-02, 1.4389998e-01, 2.6922226e-03, 1.4170319e-02,\n",
       "         2.2344291e-03, 8.4085375e-02, 2.7661026e-03, 1.7306209e-02,\n",
       "         3.2730699e-03, 9.3753338e-03, 4.4001639e-03, 9.8606646e-02,\n",
       "         2.1874487e-02, 6.8681896e-02, 9.8174512e-03, 7.4828923e-02,\n",
       "         1.2103558e-02, 5.7744694e-01, 1.4027286e-01, 9.4690681e-02,\n",
       "         2.8095633e-02, 1.0812283e-02, 7.7567190e-02, 1.4962614e-02,\n",
       "         1.3128725e-01, 3.7589669e-03, 2.8743744e-03, 9.9331737e-03,\n",
       "         1.3008603e-01, 1.0800123e-02, 2.0626038e-02, 6.8492234e-02,\n",
       "         1.4363915e-02, 1.8157682e-01, 7.2720528e-02, 8.9989603e-03,\n",
       "         9.1741681e-03, 7.9935491e-03, 1.2299627e-02, 8.6887479e-03,\n",
       "         5.1867664e-03, 2.0419359e-02, 1.6735852e-02, 6.7155957e-03,\n",
       "         1.1518806e-02, 9.0535879e-03, 1.6995817e-02, 7.2934777e-02,\n",
       "         4.5462549e-03, 4.9361289e-03, 6.9601238e-03, 5.5191606e-02,\n",
       "         9.5888674e-03, 2.2508138e-01, 3.7042499e-03, 8.9354515e-03,\n",
       "         5.7404041e-03, 7.6925159e-03, 5.8094829e-02, 7.4977577e-03]],\n",
       "       dtype=float32)}"
      ]
     },
     "execution_count": 6,
     "metadata": {},
     "output_type": "execute_result"
    }
   ],
   "source": [
    "X_tokenized = [['天', '亮', '以', '[MASK]', '说', '再', '见']]    # 可以手动赋予Mask\n",
    "model.predict(X_tokenized=X_tokenized)"
   ]
  }
 ],
 "metadata": {
  "kernelspec": {
   "display_name": "Python 3",
   "language": "python",
   "name": "python3"
  },
  "language_info": {
   "codemirror_mode": {
    "name": "ipython",
    "version": 3
   },
   "file_extension": ".py",
   "mimetype": "text/x-python",
   "name": "python",
   "nbconvert_exporter": "python",
   "pygments_lexer": "ipython3",
   "version": "3.8.2"
  }
 },
 "nbformat": 4,
 "nbformat_minor": 5
}
