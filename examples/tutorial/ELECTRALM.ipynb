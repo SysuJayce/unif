{
 "cells": [
  {
   "cell_type": "code",
   "execution_count": 1,
   "id": "rotary-academy",
   "metadata": {},
   "outputs": [
    {
     "name": "stdout",
     "output_type": "stream",
     "text": [
      "beta v2.8.0\n"
     ]
    }
   ],
   "source": [
    "import uf\n",
    "\n",
    "print(uf.__version__)"
   ]
  },
  {
   "cell_type": "code",
   "execution_count": 2,
   "id": "velvet-symbol",
   "metadata": {},
   "outputs": [
    {
     "name": "stdout",
     "output_type": "stream",
     "text": [
      "uf.ELECTRALM(vocab_file='../demo/vocab.txt', model_size='base', max_seq_length=128, init_checkpoint=None, output_dir=None, gpu_ids=None, generator_weight=1.0, discriminator_weight=50.0, max_predictions_per_seq=20, masked_lm_prob=0.15, do_whole_word_mask=False, do_lower_case=True, truncate_method='LIFO')\n"
     ]
    }
   ],
   "source": [
    "model = uf.ELECTRALM('../../demo/vocab.txt')\n",
    "print(model)"
   ]
  },
  {
   "cell_type": "code",
   "execution_count": 3,
   "id": "drawn-breathing",
   "metadata": {},
   "outputs": [],
   "source": [
    "X = [['天亮以前说再见，', '笑着泪流满面，', '去迎接应该你的，', '更好的明天。'],    # 每一条样本是一个doc，doc内可以由多个句子组成\n",
    "     '他想知道那是谁, 为何总沉默寡言, 人群中也算抢眼, 抢眼的孤独难免']    # doc也可以是一个完整的文段"
   ]
  },
  {
   "cell_type": "markdown",
   "id": "vanilla-fault",
   "metadata": {},
   "source": [
    "# 训练"
   ]
  },
  {
   "cell_type": "code",
   "execution_count": 4,
   "id": "excellent-religion",
   "metadata": {},
   "outputs": [
    {
     "name": "stdout",
     "output_type": "stream",
     "text": [
      "INFO:tensorflow:Training on Generator and Discriminator. (Pass `electra_objective=False` to exclude Discriminator)\n",
      "WARNING:tensorflow:From /Users/geyingli/Library/Python/3.8/lib/python/site-packages/tensorflow/python/util/dispatch.py:201: calling dropout (from tensorflow.python.ops.nn_ops) with keep_prob is deprecated and will be removed in a future version.\n",
      "Instructions for updating:\n",
      "Please use `rate` instead of `keep_prob`. Rate should be set to `rate = 1 - keep_prob`.\n"
     ]
    },
    {
     "name": "stderr",
     "output_type": "stream",
     "text": [
      "/Users/geyingli/Library/Python/3.8/lib/python/site-packages/tensorflow/python/keras/legacy_tf_layers/core.py:171: UserWarning: `tf.layers.dense` is deprecated and will be removed in a future version. Please use `tf.keras.layers.Dense` instead.\n",
      "  warnings.warn('`tf.layers.dense` is deprecated and '\n",
      "/Users/geyingli/Library/Python/3.8/lib/python/site-packages/tensorflow/python/keras/engine/base_layer_v1.py:1719: UserWarning: `layer.apply` is deprecated and will be removed in a future version. Please use `layer.__call__` method instead.\n",
      "  warnings.warn('`layer.apply` is deprecated and '\n"
     ]
    },
    {
     "name": "stdout",
     "output_type": "stream",
     "text": [
      "INFO:tensorflow:Build graph with 323,775,963 parameters (among which 107,925,321 are trainable)\n",
      "INFO:tensorflow:Running local_init_op\n",
      "INFO:tensorflow:Done running local_init_op\n",
      "INFO:tensorflow:Running training on 2 samples (step 0 -> 20)\n",
      "INFO:tensorflow:step 1, MLM accuracy 0.0000, RTD accuracy 0.2857, MLM loss 2.285403, RTD loss 0.785795, 0.03 steps/sec, 0.07 examples/sec\n",
      "INFO:tensorflow:step 2, MLM accuracy 0.0000, RTD accuracy 0.8571, MLM loss 2.243290, RTD loss 0.514188, 0.38 steps/sec, 0.77 examples/sec\n",
      "INFO:tensorflow:step 3, MLM accuracy 0.0000, RTD accuracy 0.8571, MLM loss 2.176945, RTD loss 0.392491, 0.41 steps/sec, 0.82 examples/sec\n",
      "INFO:tensorflow:step 4, MLM accuracy 0.0000, RTD accuracy 0.8571, MLM loss 2.122980, RTD loss 0.425032, 0.41 steps/sec, 0.81 examples/sec\n",
      "INFO:tensorflow:step 5, MLM accuracy 0.0000, RTD accuracy 0.8571, MLM loss 2.060645, RTD loss 0.351127, 0.42 steps/sec, 0.83 examples/sec\n",
      "INFO:tensorflow:step 6, MLM accuracy 0.2222, RTD accuracy 0.8571, MLM loss 1.962185, RTD loss 0.292868, 0.41 steps/sec, 0.82 examples/sec\n",
      "INFO:tensorflow:step 7, MLM accuracy 0.2222, RTD accuracy 0.8571, MLM loss 1.913472, RTD loss 0.263654, 0.53 steps/sec, 1.06 examples/sec\n",
      "INFO:tensorflow:step 8, MLM accuracy 0.4444, RTD accuracy 0.9048, MLM loss 1.845196, RTD loss 0.215489, 0.53 steps/sec, 1.06 examples/sec\n",
      "INFO:tensorflow:step 9, MLM accuracy 0.6667, RTD accuracy 0.9683, MLM loss 1.781540, RTD loss 0.178543, 0.53 steps/sec, 1.07 examples/sec\n",
      "INFO:tensorflow:step 10, MLM accuracy 0.7778, RTD accuracy 0.9841, MLM loss 1.734528, RTD loss 0.143998, 0.50 steps/sec, 1.01 examples/sec\n",
      "INFO:tensorflow:step 11, MLM accuracy 0.7778, RTD accuracy 0.9683, MLM loss 1.696144, RTD loss 0.112772, 0.48 steps/sec, 0.96 examples/sec\n",
      "INFO:tensorflow:step 12, MLM accuracy 0.7778, RTD accuracy 0.9841, MLM loss 1.645016, RTD loss 0.079950, 0.47 steps/sec, 0.94 examples/sec\n",
      "INFO:tensorflow:step 13, MLM accuracy 0.8889, RTD accuracy 1.0000, MLM loss 1.626863, RTD loss 0.071039, 0.51 steps/sec, 1.02 examples/sec\n",
      "INFO:tensorflow:step 14, MLM accuracy 0.8889, RTD accuracy 1.0000, MLM loss 1.581321, RTD loss 0.039021, 0.52 steps/sec, 1.04 examples/sec\n",
      "INFO:tensorflow:step 15, MLM accuracy 0.8889, RTD accuracy 1.0000, MLM loss 1.558537, RTD loss 0.038612, 0.53 steps/sec, 1.06 examples/sec\n",
      "INFO:tensorflow:step 16, MLM accuracy 0.8889, RTD accuracy 1.0000, MLM loss 1.520680, RTD loss 0.027050, 0.51 steps/sec, 1.03 examples/sec\n",
      "INFO:tensorflow:step 17, MLM accuracy 0.8889, RTD accuracy 1.0000, MLM loss 1.518008, RTD loss 0.028287, 0.45 steps/sec, 0.89 examples/sec\n",
      "INFO:tensorflow:step 18, MLM accuracy 0.8889, RTD accuracy 1.0000, MLM loss 1.496300, RTD loss 0.019557, 0.49 steps/sec, 0.99 examples/sec\n",
      "INFO:tensorflow:step 19, MLM accuracy 0.8889, RTD accuracy 1.0000, MLM loss 1.498570, RTD loss 0.020101, 0.45 steps/sec, 0.89 examples/sec\n",
      "INFO:tensorflow:step 20, MLM accuracy 0.8889, RTD accuracy 1.0000, MLM loss 1.464031, RTD loss 0.013508, 0.50 steps/sec, 1.00 examples/sec\n"
     ]
    }
   ],
   "source": [
    "model.fit(X, total_steps=20)"
   ]
  },
  {
   "cell_type": "markdown",
   "id": "expanded-bahrain",
   "metadata": {},
   "source": [
    "如果希望如同论文所述，仅训练Generator，传递一个参数即可"
   ]
  },
  {
   "cell_type": "code",
   "execution_count": 5,
   "id": "uniform-oliver",
   "metadata": {},
   "outputs": [
    {
     "name": "stdout",
     "output_type": "stream",
     "text": [
      "INFO:tensorflow:Training on Generator, with Discriminator frozen. (Pass `electra_objective=True` to include Discriminator)\n",
      "INFO:tensorflow:Running training on 2 samples (step 20 -> 40)\n",
      "INFO:tensorflow:step 21, MLM accuracy 0.2222, RTD accuracy 0.8413, MLM loss 1.980440, RTD loss 0.665512, 0.14 steps/sec, 0.28 examples/sec\n",
      "INFO:tensorflow:step 22, MLM accuracy 0.3333, RTD accuracy 0.8254, MLM loss 1.969638, RTD loss 0.690507, 1.39 steps/sec, 2.77 examples/sec\n",
      "INFO:tensorflow:step 23, MLM accuracy 0.3333, RTD accuracy 0.8254, MLM loss 1.922528, RTD loss 0.668932, 1.37 steps/sec, 2.75 examples/sec\n",
      "INFO:tensorflow:step 24, MLM accuracy 0.3333, RTD accuracy 0.8413, MLM loss 1.882750, RTD loss 0.710729, 1.42 steps/sec, 2.83 examples/sec\n",
      "INFO:tensorflow:step 25, MLM accuracy 0.3333, RTD accuracy 0.8254, MLM loss 1.811280, RTD loss 0.638609, 1.34 steps/sec, 2.69 examples/sec\n",
      "INFO:tensorflow:step 26, MLM accuracy 0.3333, RTD accuracy 0.8413, MLM loss 1.777283, RTD loss 0.605996, 1.34 steps/sec, 2.68 examples/sec\n",
      "INFO:tensorflow:step 27, MLM accuracy 0.4444, RTD accuracy 0.8254, MLM loss 1.760131, RTD loss 0.613755, 1.35 steps/sec, 2.69 examples/sec\n",
      "INFO:tensorflow:step 28, MLM accuracy 0.3333, RTD accuracy 0.8413, MLM loss 1.715802, RTD loss 0.692219, 1.32 steps/sec, 2.63 examples/sec\n",
      "INFO:tensorflow:step 29, MLM accuracy 0.4444, RTD accuracy 0.8413, MLM loss 1.666692, RTD loss 0.654857, 1.32 steps/sec, 2.64 examples/sec\n",
      "INFO:tensorflow:step 30, MLM accuracy 0.3333, RTD accuracy 0.8254, MLM loss 1.653674, RTD loss 0.622988, 1.26 steps/sec, 2.53 examples/sec\n",
      "INFO:tensorflow:step 31, MLM accuracy 0.4444, RTD accuracy 0.8254, MLM loss 1.609103, RTD loss 0.694426, 1.26 steps/sec, 2.52 examples/sec\n",
      "INFO:tensorflow:step 32, MLM accuracy 0.4444, RTD accuracy 0.8413, MLM loss 1.586254, RTD loss 0.662755, 1.23 steps/sec, 2.47 examples/sec\n",
      "INFO:tensorflow:step 33, MLM accuracy 0.4444, RTD accuracy 0.8413, MLM loss 1.562591, RTD loss 0.716372, 1.29 steps/sec, 2.58 examples/sec\n",
      "INFO:tensorflow:step 34, MLM accuracy 0.4444, RTD accuracy 0.8254, MLM loss 1.529757, RTD loss 0.657192, 1.38 steps/sec, 2.76 examples/sec\n",
      "INFO:tensorflow:step 35, MLM accuracy 0.4444, RTD accuracy 0.8413, MLM loss 1.546732, RTD loss 0.676485, 1.34 steps/sec, 2.67 examples/sec\n",
      "INFO:tensorflow:step 36, MLM accuracy 0.4444, RTD accuracy 0.8254, MLM loss 1.511963, RTD loss 0.660147, 1.30 steps/sec, 2.61 examples/sec\n",
      "INFO:tensorflow:step 37, MLM accuracy 0.4444, RTD accuracy 0.8413, MLM loss 1.504717, RTD loss 0.618668, 1.30 steps/sec, 2.60 examples/sec\n",
      "INFO:tensorflow:step 38, MLM accuracy 0.5556, RTD accuracy 0.8254, MLM loss 1.490438, RTD loss 0.638201, 1.36 steps/sec, 2.71 examples/sec\n",
      "INFO:tensorflow:step 39, MLM accuracy 0.6667, RTD accuracy 0.8254, MLM loss 1.468187, RTD loss 0.730249, 1.32 steps/sec, 2.64 examples/sec\n",
      "INFO:tensorflow:step 40, MLM accuracy 0.4444, RTD accuracy 0.8413, MLM loss 1.462358, RTD loss 0.612078, 1.31 steps/sec, 2.62 examples/sec\n"
     ]
    }
   ],
   "source": [
    "model.fit(X, total_steps=40, electra_objective=False)"
   ]
  },
  {
   "cell_type": "markdown",
   "id": "fallen-hundred",
   "metadata": {},
   "source": [
    "# 推理"
   ]
  },
  {
   "cell_type": "code",
   "execution_count": 6,
   "id": "opposite-pantyhose",
   "metadata": {},
   "outputs": [
    {
     "name": "stdout",
     "output_type": "stream",
     "text": [
      "INFO:tensorflow:Time usage 0m-2.29s, 0.44 steps/sec, 0.44 examples/sec\n",
      "INFO:tensorflow:(array([[2682, 2682, 2682, 2682, 2682, 2682, 2682, 2682, 2682, 2682, 2682,\n",
      "        2682, 2682, 2682, 2682, 2682, 2682, 2682, 2682, 2682]]),)\n",
      "INFO:tensorflow:[[2682 2682 2682 2682 2682 2682 2682 2682 2682 2682 2682 2682 2682 2682\n",
      "  2682 2682 2682 2682 2682 2682]]\n"
     ]
    },
    {
     "data": {
      "text/plain": [
       "{'mlm_preds': [['想']],\n",
       " 'rtd_preds': [['[CLS]',\n",
       "   '天',\n",
       "   '亮',\n",
       "   '以',\n",
       "   '[MASK]',\n",
       "   '说',\n",
       "   '[REPLACED]',\n",
       "   '见',\n",
       "   '[SEP]']],\n",
       " 'rtd_probs': array([[1.35791302e-03, 2.51799822e-04, 1.80823803e-02, 1.05258822e-03,\n",
       "         1.31240487e-02, 8.75264406e-04, 9.55213547e-01, 1.57794654e-02,\n",
       "         1.25142932e-03, 9.75814998e-01, 2.90569663e-03, 1.83540583e-03,\n",
       "         3.22100520e-03, 9.88421798e-01, 3.01364064e-03, 3.96633148e-03,\n",
       "         6.66972995e-03, 9.79335070e-01, 3.52492929e-03, 2.25126743e-03,\n",
       "         2.32276320e-03, 2.38627195e-03, 4.18680906e-03, 4.50322032e-03,\n",
       "         9.83385444e-01, 1.74886882e-02, 9.76361632e-01, 3.83466482e-03,\n",
       "         9.70129728e-01, 2.24617124e-03, 3.39940190e-03, 3.87036800e-03,\n",
       "         3.05615366e-02, 1.60804391e-02, 1.01533830e-02, 1.51746869e-02,\n",
       "         3.47011387e-02, 5.06572425e-02, 1.05636537e-01, 8.03393126e-03,\n",
       "         7.11926818e-03, 1.12415552e-01, 2.06829607e-01, 1.17990404e-01,\n",
       "         5.64241111e-02, 4.39496338e-02, 9.42690969e-02, 1.35019720e-02,\n",
       "         2.46206224e-01, 7.49480426e-02, 3.59392166e-03, 1.02483422e-01,\n",
       "         2.04330981e-02, 6.34777546e-02, 1.54254138e-02, 1.42430216e-01,\n",
       "         1.80685043e-01, 3.72555554e-02, 2.11735159e-01, 4.39252257e-02,\n",
       "         2.59672403e-02, 2.09775239e-01, 1.56252384e-02, 5.61974347e-02,\n",
       "         8.63939524e-03, 1.95130140e-01, 2.66551673e-02, 8.24848115e-02,\n",
       "         2.69723833e-02, 4.03922796e-02, 7.06885457e-02, 7.75886476e-02,\n",
       "         2.19648153e-01, 7.80999660e-02, 1.16043985e-02, 1.32062316e-01,\n",
       "         9.69114602e-02, 8.70853066e-02, 4.60582674e-02, 2.92957127e-02,\n",
       "         1.31018460e-02, 1.08817190e-01, 2.74951756e-02, 2.63204455e-01,\n",
       "         3.43731344e-02, 5.05467296e-01, 3.74716520e-03, 2.84466356e-01,\n",
       "         5.38721085e-02, 1.88148320e-02, 2.29777992e-02, 5.63012660e-02,\n",
       "         3.45878303e-02, 4.85658944e-02, 2.45468616e-02, 3.24732065e-01,\n",
       "         1.64302647e-01, 8.34232569e-03, 5.32373786e-02, 7.25826025e-02,\n",
       "         4.80353236e-02, 2.86336541e-02, 6.12835288e-02, 3.77657413e-02,\n",
       "         2.02861726e-02, 5.28602600e-02, 6.66658878e-02, 5.23521602e-02,\n",
       "         6.45055175e-02, 1.78000987e-01, 2.53479540e-01, 1.35085285e-02,\n",
       "         6.50230944e-01, 9.73709524e-02, 2.61443496e-01, 1.10583603e-02,\n",
       "         1.76650584e-01, 4.73908782e-02, 2.02654898e-02, 2.24389762e-01,\n",
       "         2.40572095e-02, 2.73697644e-01, 1.93015337e-02, 3.96092832e-02,\n",
       "         5.31399250e-02, 2.75780678e-01, 2.46958584e-01, 8.32146406e-03]],\n",
       "       dtype=float32)}"
      ]
     },
     "execution_count": 6,
     "metadata": {},
     "output_type": "execute_result"
    }
   ],
   "source": [
    "X_tokenized = [['天', '亮', '以', '[MASK]', '说', '再', '见']]    # 可以手动赋予Mask\n",
    "model.predict(X_tokenized=X_tokenized)"
   ]
  }
 ],
 "metadata": {
  "kernelspec": {
   "display_name": "Python 3",
   "language": "python",
   "name": "python3"
  },
  "language_info": {
   "codemirror_mode": {
    "name": "ipython",
    "version": 3
   },
   "file_extension": ".py",
   "mimetype": "text/x-python",
   "name": "python",
   "nbconvert_exporter": "python",
   "pygments_lexer": "ipython3",
   "version": "3.8.2"
  }
 },
 "nbformat": 4,
 "nbformat_minor": 5
}
