{
 "cells": [
  {
   "cell_type": "markdown",
   "id": "familiar-party",
   "metadata": {},
   "source": [
    "# ELECTRALM\n",
    "\n",
    "可用的中文预训练参数：[`electra-small`](https://drive.google.com/file/d/1uab-9T1kR9HgD2NB0Kz1JB_TdSKgJIds/view?usp=drive_open),[`electra-small-ex`](https://drive.google.com/file/d/1LluPORc7xtFmCTFR4IF17q77ip82i7__/view),[`electra-base`](https://drive.google.com/file/d/1FMwrs2weFST-iAuZH3umMa6YZVeIP8wD/view),[`electra-large`](https://drive.google.com/file/d/1ny0NMLkEWG6rseDLiF_NujdHxDcIN51m/view)"
   ]
  },
  {
   "cell_type": "code",
   "execution_count": 1,
   "id": "rotary-academy",
   "metadata": {},
   "outputs": [
    {
     "name": "stdout",
     "output_type": "stream",
     "text": [
      "v2.4.5\n"
     ]
    }
   ],
   "source": [
    "import uf\n",
    "\n",
    "print(uf.__version__)"
   ]
  },
  {
   "cell_type": "code",
   "execution_count": 2,
   "id": "velvet-symbol",
   "metadata": {},
   "outputs": [
    {
     "name": "stdout",
     "output_type": "stream",
     "text": [
      "uf.ELECTRALM(\n",
      "    vocab_file=\"../../demo/vocab.txt\",\n",
      "    model_size=\"base\",\n",
      "    max_seq_length=128,\n",
      "    init_checkpoint=None,\n",
      "    output_dir=None,\n",
      "    gpu_ids=None,\n",
      "    generator_weight=1.0,\n",
      "    discriminator_weight=50.0,\n",
      "    max_predictions_per_seq=20,\n",
      "    masked_lm_prob=0.15,\n",
      "    do_whole_word_mask=False,\n",
      "    do_lower_case=True,\n",
      "    truncate_method=\"LIFO\",\n",
      ")\n"
     ]
    }
   ],
   "source": [
    "model = uf.ELECTRALM('../../demo/vocab.txt')\n",
    "print(model)"
   ]
  },
  {
   "cell_type": "code",
   "execution_count": 3,
   "id": "drawn-breathing",
   "metadata": {},
   "outputs": [],
   "source": [
    "X = [['天亮以前说再见，', '笑着泪流满面，', '去迎接应该你的，', '更好的明天。'],    # 每一条样本是一个doc，doc内可以由多个句子组成\n",
    "     '他想知道那是谁, 为何总沉默寡言, 人群中也算抢眼, 抢眼的孤独难免']    # doc也可以是一个完整的文段"
   ]
  },
  {
   "cell_type": "markdown",
   "id": "vanilla-fault",
   "metadata": {},
   "source": [
    "# 训练"
   ]
  },
  {
   "cell_type": "code",
   "execution_count": 4,
   "id": "excellent-religion",
   "metadata": {},
   "outputs": [
    {
     "name": "stdout",
     "output_type": "stream",
     "text": [
      "INFO:tensorflow:Training on Generator and Discriminator. (Pass `electra_objective=False` to exclude Discriminator)\n",
      "WARNING:tensorflow:From /Users/geyingli/Library/Python/3.8/lib/python/site-packages/tensorflow/python/util/dispatch.py:1096: calling dropout (from tensorflow.python.ops.nn_ops) with keep_prob is deprecated and will be removed in a future version.\n",
      "Instructions for updating:\n",
      "Please use `rate` instead of `keep_prob`. Rate should be set to `rate = 1 - keep_prob`.\n"
     ]
    },
    {
     "name": "stderr",
     "output_type": "stream",
     "text": [
      "/Users/geyingli/Library/Python/3.8/lib/python/site-packages/uf-2.4.5-py3.8.egg/uf/model/electra.py:339: UserWarning: `tf.layers.dense` is deprecated and will be removed in a future version. Please use `tf.keras.layers.Dense` instead.\n",
      "  self.embedding_output = tf.layers.dense(\n",
      "/Users/geyingli/Library/Python/3.8/lib/python/site-packages/keras/legacy_tf_layers/core.py:255: UserWarning: `layer.apply` is deprecated and will be removed in a future version. Please use `layer.__call__` method instead.\n",
      "  return layer.apply(inputs)\n",
      "/Users/geyingli/Library/Python/3.8/lib/python/site-packages/uf-2.4.5-py3.8.egg/uf/model/electra.py:698: UserWarning: `tf.layers.dense` is deprecated and will be removed in a future version. Please use `tf.keras.layers.Dense` instead.\n",
      "  query_layer = tf.layers.dense(\n",
      "/Users/geyingli/Library/Python/3.8/lib/python/site-packages/uf-2.4.5-py3.8.egg/uf/model/electra.py:706: UserWarning: `tf.layers.dense` is deprecated and will be removed in a future version. Please use `tf.keras.layers.Dense` instead.\n",
      "  key_layer = tf.layers.dense(\n",
      "/Users/geyingli/Library/Python/3.8/lib/python/site-packages/uf-2.4.5-py3.8.egg/uf/model/electra.py:714: UserWarning: `tf.layers.dense` is deprecated and will be removed in a future version. Please use `tf.keras.layers.Dense` instead.\n",
      "  value_layer = tf.layers.dense(\n",
      "/Users/geyingli/Library/Python/3.8/lib/python/site-packages/uf-2.4.5-py3.8.egg/uf/model/electra.py:891: UserWarning: `tf.layers.dense` is deprecated and will be removed in a future version. Please use `tf.keras.layers.Dense` instead.\n",
      "  attention_output = tf.layers.dense(\n",
      "/Users/geyingli/Library/Python/3.8/lib/python/site-packages/uf-2.4.5-py3.8.egg/uf/model/electra.py:901: UserWarning: `tf.layers.dense` is deprecated and will be removed in a future version. Please use `tf.keras.layers.Dense` instead.\n",
      "  intermediate_output = tf.layers.dense(\n",
      "/Users/geyingli/Library/Python/3.8/lib/python/site-packages/uf-2.4.5-py3.8.egg/uf/model/electra.py:909: UserWarning: `tf.layers.dense` is deprecated and will be removed in a future version. Please use `tf.keras.layers.Dense` instead.\n",
      "  prev_output = tf.layers.dense(\n",
      "/Users/geyingli/Library/Python/3.8/lib/python/site-packages/uf-2.4.5-py3.8.egg/uf/model/electra.py:111: UserWarning: `tf.layers.dense` is deprecated and will be removed in a future version. Please use `tf.keras.layers.Dense` instead.\n",
      "  input_tensor = tf.layers.dense(\n",
      "/Users/geyingli/Library/Python/3.8/lib/python/site-packages/uf-2.4.5-py3.8.egg/uf/model/electra.py:163: UserWarning: `tf.layers.dense` is deprecated and will be removed in a future version. Please use `tf.keras.layers.Dense` instead.\n",
      "  hidden = tf.layers.dense(\n",
      "/Users/geyingli/Library/Python/3.8/lib/python/site-packages/uf-2.4.5-py3.8.egg/uf/model/electra.py:169: UserWarning: `tf.layers.dense` is deprecated and will be removed in a future version. Please use `tf.keras.layers.Dense` instead.\n",
      "  logits = tf.squeeze(tf.layers.dense(hidden, units=1), -1)\n"
     ]
    },
    {
     "name": "stdout",
     "output_type": "stream",
     "text": [
      "INFO:tensorflow:Build graph with 323,775,963 parameters (among which 107,925,321 are trainable)\n",
      "INFO:tensorflow:Running local_init_op\n",
      "INFO:tensorflow:Done running local_init_op\n",
      "INFO:tensorflow:Running training on 2 samples (step 0 -> 20)\n",
      "INFO:tensorflow:step 1, MLM accuracy 0.0000, RTD accuracy 0.2090, MLM loss 2.574197, RTD loss 0.808400, 0.03 steps/sec, 0.05 examples/sec\n",
      "INFO:tensorflow:step 2, MLM accuracy 0.0000, RTD accuracy 0.8507, MLM loss 2.510620, RTD loss 0.433174, 0.48 steps/sec, 0.96 examples/sec\n",
      "INFO:tensorflow:step 3, MLM accuracy 0.0000, RTD accuracy 0.8507, MLM loss 2.464233, RTD loss 0.353840, 0.50 steps/sec, 1.00 examples/sec\n",
      "INFO:tensorflow:step 4, MLM accuracy 0.0000, RTD accuracy 0.9104, MLM loss 2.370874, RTD loss 0.311705, 0.52 steps/sec, 1.05 examples/sec\n",
      "INFO:tensorflow:step 5, MLM accuracy 0.0000, RTD accuracy 0.9552, MLM loss 2.303801, RTD loss 0.236193, 0.52 steps/sec, 1.04 examples/sec\n",
      "INFO:tensorflow:step 6, MLM accuracy 0.1000, RTD accuracy 0.8955, MLM loss 2.201014, RTD loss 0.183957, 0.52 steps/sec, 1.04 examples/sec\n",
      "INFO:tensorflow:step 7, MLM accuracy 0.2000, RTD accuracy 0.9403, MLM loss 2.121945, RTD loss 0.122027, 0.52 steps/sec, 1.04 examples/sec\n",
      "INFO:tensorflow:step 8, MLM accuracy 0.6000, RTD accuracy 0.9851, MLM loss 2.047476, RTD loss 0.072386, 0.52 steps/sec, 1.03 examples/sec\n",
      "INFO:tensorflow:step 9, MLM accuracy 0.7000, RTD accuracy 1.0000, MLM loss 1.970329, RTD loss 0.042882, 0.52 steps/sec, 1.04 examples/sec\n",
      "INFO:tensorflow:step 10, MLM accuracy 0.8000, RTD accuracy 1.0000, MLM loss 1.912063, RTD loss 0.020935, 0.53 steps/sec, 1.06 examples/sec\n",
      "INFO:tensorflow:step 11, MLM accuracy 1.0000, RTD accuracy 0.9851, MLM loss 1.842289, RTD loss 0.048737, 0.55 steps/sec, 1.09 examples/sec\n",
      "INFO:tensorflow:step 12, MLM accuracy 1.0000, RTD accuracy 1.0000, MLM loss 1.799842, RTD loss 0.005405, 0.51 steps/sec, 1.03 examples/sec\n",
      "INFO:tensorflow:step 13, MLM accuracy 1.0000, RTD accuracy 1.0000, MLM loss 1.745499, RTD loss 0.002940, 0.49 steps/sec, 0.97 examples/sec\n",
      "INFO:tensorflow:step 14, MLM accuracy 1.0000, RTD accuracy 1.0000, MLM loss 1.698415, RTD loss 0.002549, 0.51 steps/sec, 1.02 examples/sec\n",
      "INFO:tensorflow:step 15, MLM accuracy 1.0000, RTD accuracy 1.0000, MLM loss 1.656103, RTD loss 0.001452, 0.48 steps/sec, 0.97 examples/sec\n",
      "INFO:tensorflow:step 16, MLM accuracy 1.0000, RTD accuracy 1.0000, MLM loss 1.639265, RTD loss 0.000743, 0.51 steps/sec, 1.02 examples/sec\n",
      "INFO:tensorflow:step 17, MLM accuracy 1.0000, RTD accuracy 1.0000, MLM loss 1.602191, RTD loss 0.000546, 0.50 steps/sec, 0.99 examples/sec\n",
      "INFO:tensorflow:step 18, MLM accuracy 1.0000, RTD accuracy 1.0000, MLM loss 1.597756, RTD loss 0.000637, 0.50 steps/sec, 1.00 examples/sec\n",
      "INFO:tensorflow:step 19, MLM accuracy 1.0000, RTD accuracy 1.0000, MLM loss 1.573683, RTD loss 0.000519, 0.48 steps/sec, 0.97 examples/sec\n",
      "INFO:tensorflow:step 20, MLM accuracy 1.0000, RTD accuracy 1.0000, MLM loss 1.567706, RTD loss 0.000699, 0.49 steps/sec, 0.99 examples/sec\n"
     ]
    }
   ],
   "source": [
    "model.fit(X, total_steps=20)"
   ]
  },
  {
   "cell_type": "markdown",
   "id": "expanded-bahrain",
   "metadata": {},
   "source": [
    "如果希望如同论文所述，仅训练Generator，传递一个参数即可"
   ]
  },
  {
   "cell_type": "code",
   "execution_count": 5,
   "id": "uniform-oliver",
   "metadata": {},
   "outputs": [
    {
     "name": "stdout",
     "output_type": "stream",
     "text": [
      "INFO:tensorflow:Training on Generator, with Discriminator frozen. (Pass `electra_objective=True` to include Discriminator)\n",
      "INFO:tensorflow:Running training on 2 samples (step 20 -> 40)\n",
      "INFO:tensorflow:step 21, MLM accuracy 0.3000, RTD accuracy 0.7910, MLM loss 2.196173, RTD loss 1.447132, 0.13 steps/sec, 0.25 examples/sec\n",
      "INFO:tensorflow:step 22, MLM accuracy 0.3000, RTD accuracy 0.7910, MLM loss 2.158587, RTD loss 1.507510, 1.41 steps/sec, 2.83 examples/sec\n",
      "INFO:tensorflow:step 23, MLM accuracy 0.3000, RTD accuracy 0.7910, MLM loss 2.112243, RTD loss 1.525882, 1.42 steps/sec, 2.83 examples/sec\n",
      "INFO:tensorflow:step 24, MLM accuracy 0.3000, RTD accuracy 0.7910, MLM loss 2.100240, RTD loss 1.495942, 1.35 steps/sec, 2.69 examples/sec\n",
      "INFO:tensorflow:step 25, MLM accuracy 0.3000, RTD accuracy 0.7910, MLM loss 2.057068, RTD loss 1.530674, 1.28 steps/sec, 2.55 examples/sec\n",
      "INFO:tensorflow:step 26, MLM accuracy 0.3000, RTD accuracy 0.7910, MLM loss 2.014315, RTD loss 1.551594, 1.19 steps/sec, 2.37 examples/sec\n",
      "INFO:tensorflow:step 27, MLM accuracy 0.3000, RTD accuracy 0.7910, MLM loss 1.966178, RTD loss 1.484175, 1.14 steps/sec, 2.28 examples/sec\n",
      "INFO:tensorflow:step 28, MLM accuracy 0.3000, RTD accuracy 0.7910, MLM loss 1.927272, RTD loss 1.555525, 1.29 steps/sec, 2.57 examples/sec\n",
      "INFO:tensorflow:step 29, MLM accuracy 0.3000, RTD accuracy 0.7910, MLM loss 1.896196, RTD loss 1.536809, 1.19 steps/sec, 2.38 examples/sec\n",
      "INFO:tensorflow:step 30, MLM accuracy 0.3000, RTD accuracy 0.7910, MLM loss 1.869769, RTD loss 1.633295, 1.26 steps/sec, 2.52 examples/sec\n",
      "INFO:tensorflow:step 31, MLM accuracy 0.4000, RTD accuracy 0.7910, MLM loss 1.835120, RTD loss 1.524937, 1.43 steps/sec, 2.86 examples/sec\n",
      "INFO:tensorflow:step 32, MLM accuracy 0.4000, RTD accuracy 0.7910, MLM loss 1.815820, RTD loss 1.557310, 1.43 steps/sec, 2.87 examples/sec\n",
      "INFO:tensorflow:step 33, MLM accuracy 0.4000, RTD accuracy 0.7910, MLM loss 1.778958, RTD loss 1.621788, 1.42 steps/sec, 2.84 examples/sec\n",
      "INFO:tensorflow:step 34, MLM accuracy 0.5000, RTD accuracy 0.7910, MLM loss 1.751439, RTD loss 1.540148, 1.45 steps/sec, 2.89 examples/sec\n",
      "INFO:tensorflow:step 35, MLM accuracy 0.4000, RTD accuracy 0.7910, MLM loss 1.738783, RTD loss 1.458467, 1.37 steps/sec, 2.75 examples/sec\n",
      "INFO:tensorflow:step 36, MLM accuracy 0.5000, RTD accuracy 0.7910, MLM loss 1.723432, RTD loss 1.523079, 1.40 steps/sec, 2.81 examples/sec\n",
      "INFO:tensorflow:step 37, MLM accuracy 0.4000, RTD accuracy 0.7910, MLM loss 1.712600, RTD loss 1.589104, 1.39 steps/sec, 2.79 examples/sec\n",
      "INFO:tensorflow:step 38, MLM accuracy 0.5000, RTD accuracy 0.7910, MLM loss 1.704074, RTD loss 1.456376, 1.43 steps/sec, 2.86 examples/sec\n",
      "INFO:tensorflow:step 39, MLM accuracy 0.5000, RTD accuracy 0.7910, MLM loss 1.690054, RTD loss 1.609504, 1.42 steps/sec, 2.85 examples/sec\n",
      "INFO:tensorflow:step 40, MLM accuracy 0.5000, RTD accuracy 0.7910, MLM loss 1.706617, RTD loss 1.583151, 1.40 steps/sec, 2.81 examples/sec\n"
     ]
    }
   ],
   "source": [
    "model.fit(X, total_steps=40, electra_objective=False)"
   ]
  },
  {
   "cell_type": "markdown",
   "id": "fallen-hundred",
   "metadata": {},
   "source": [
    "# 推理"
   ]
  },
  {
   "cell_type": "code",
   "execution_count": 6,
   "id": "opposite-pantyhose",
   "metadata": {},
   "outputs": [
    {
     "name": "stdout",
     "output_type": "stream",
     "text": [
      "INFO:tensorflow:Time usage 0m-2.59s, 0.39 steps/sec, 0.39 examples/sec\n"
     ]
    },
    {
     "data": {
      "text/plain": [
       "{'mlm_preds': [['道']],\n",
       " 'rtd_preds': [['[CLS]',\n",
       "   '天',\n",
       "   '亮',\n",
       "   '以',\n",
       "   '[REPLACED]',\n",
       "   '[REPLACED]',\n",
       "   '再',\n",
       "   '见',\n",
       "   '[SEP]']],\n",
       " 'rtd_probs': array([[7.5307289e-05, 1.4653802e-04, 3.8269162e-04, 6.1287284e-03,\n",
       "         9.9861068e-01, 9.8790830e-01, 2.3731589e-04, 2.9918551e-04,\n",
       "         8.1103419e-05, 2.8276443e-04, 1.5392900e-04, 2.2035837e-04,\n",
       "         1.6775727e-04, 6.4703822e-04, 1.1316613e-04, 3.2323599e-04,\n",
       "         3.7041306e-04, 2.6038289e-04, 9.9969149e-01, 2.2378564e-04,\n",
       "         9.9974263e-01, 1.2686655e-01, 1.8033385e-04, 7.7669764e-01,\n",
       "         9.9980438e-01, 1.6126037e-04, 6.6313148e-04, 2.9307604e-04,\n",
       "         2.2146106e-04, 1.6206503e-04, 3.3932924e-04, 1.5941262e-04,\n",
       "         2.2992492e-04, 3.3622980e-04, 1.0165721e-02, 2.8481185e-03,\n",
       "         7.0969760e-03, 2.2359976e-01, 1.2453794e-03, 1.0934174e-03,\n",
       "         7.3365688e-02, 4.6593189e-02, 4.1029453e-03, 2.5052726e-03,\n",
       "         1.6795218e-02, 2.4551153e-03, 1.3574719e-02, 1.2131035e-03,\n",
       "         2.3468137e-03, 1.6151816e-02, 1.0573566e-03, 1.7567873e-03,\n",
       "         4.4300258e-03, 4.1372180e-03, 2.2098184e-02, 1.4741242e-02,\n",
       "         7.8726709e-03, 1.9631982e-03, 1.4209747e-03, 4.2780936e-03,\n",
       "         5.3605437e-04, 2.7867258e-03, 2.6340783e-03, 1.0150164e-02,\n",
       "         2.5815964e-03, 4.2132437e-03, 2.6636273e-02, 1.7606616e-03,\n",
       "         8.0019236e-04, 1.2349278e-02, 4.4838190e-03, 6.2501431e-04,\n",
       "         3.6239624e-04, 3.3780634e-03, 4.9363375e-03, 3.8465858e-04,\n",
       "         6.7908406e-02, 1.6051382e-01, 1.4909804e-03, 6.1059833e-02,\n",
       "         1.3815135e-02, 3.5786629e-03, 2.3030588e-01, 7.4649215e-02,\n",
       "         5.0988793e-04, 2.2260278e-02, 6.4766109e-03, 6.1392784e-04,\n",
       "         5.8557093e-03, 4.2623281e-03, 1.7348230e-03, 6.8755448e-03,\n",
       "         8.6569786e-04, 3.8716197e-04, 1.2900233e-03, 3.4875274e-03,\n",
       "         1.0407865e-03, 4.1282177e-04, 1.5027377e-01, 8.3744526e-04,\n",
       "         1.5345812e-03, 8.4087253e-04, 3.6719441e-04, 6.4164102e-03,\n",
       "         2.7879477e-03, 1.7013222e-02, 5.4927766e-03, 1.0772347e-03,\n",
       "         3.4499168e-04, 5.1027536e-04, 1.4659762e-04, 6.7230165e-03,\n",
       "         8.9928597e-02, 1.4209151e-03, 3.3467519e-01, 1.2249649e-03,\n",
       "         1.9761026e-03, 8.7127090e-04, 2.4260461e-02, 5.9731007e-02,\n",
       "         1.5245706e-02, 1.6443431e-03, 2.5911331e-03, 3.4688711e-03,\n",
       "         1.1223555e-03, 4.2946041e-03, 3.3361316e-03, 3.6510825e-03]],\n",
       "       dtype=float32)}"
      ]
     },
     "execution_count": 6,
     "metadata": {},
     "output_type": "execute_result"
    }
   ],
   "source": [
    "X_tokenized = [['天', '亮', '以', '[MASK]', '说', '再', '见']]    # 可以手动赋予Mask\n",
    "model.predict(X_tokenized=X_tokenized)"
   ]
  }
 ],
 "metadata": {
  "kernelspec": {
   "display_name": "Python 3",
   "language": "python",
   "name": "python3"
  },
  "language_info": {
   "codemirror_mode": {
    "name": "ipython",
    "version": 3
   },
   "file_extension": ".py",
   "mimetype": "text/x-python",
   "name": "python",
   "nbconvert_exporter": "python",
   "pygments_lexer": "ipython3",
   "version": "3.8.2"
  }
 },
 "nbformat": 4,
 "nbformat_minor": 5
}
