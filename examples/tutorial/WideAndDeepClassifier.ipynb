{
 "cells": [
  {
   "cell_type": "code",
   "execution_count": 1,
   "id": "international-highlight",
   "metadata": {},
   "outputs": [
    {
     "name": "stdout",
     "output_type": "stream",
     "text": [
      "v2.3.2\n"
     ]
    }
   ],
   "source": [
    "import uf\n",
    "\n",
    "print(uf.__version__)"
   ]
  },
  {
   "cell_type": "code",
   "execution_count": 2,
   "id": "behavioral-commander",
   "metadata": {},
   "outputs": [
    {
     "name": "stdout",
     "output_type": "stream",
     "text": [
      "uf.WideAndDeepClassifier(config_file=\"../../demo/bert_config.json\", vocab_file=\"../../demo/vocab.txt\", max_seq_length=128, label_size=None, init_checkpoint=None, output_dir=None, gpu_ids=None, wide_features=None, deep_module=\"bert\", do_lower_case=True, truncate_method=\"LIFO\")\n"
     ]
    }
   ],
   "source": [
    "model = uf.WideAndDeepClassifier('../../demo/bert_config.json', '../../demo/vocab.txt')\n",
    "print(model)"
   ]
  },
  {
   "cell_type": "code",
   "execution_count": 3,
   "id": "affiliated-medication",
   "metadata": {},
   "outputs": [],
   "source": [
    "X = [{'Wide': ['首句'], 'Deep': '天亮以前说再见'}, {'Wide': [], 'Deep': '笑着泪流满面'}]\n",
    "y = [0, 1]"
   ]
  },
  {
   "cell_type": "markdown",
   "id": "interracial-charleston",
   "metadata": {},
   "source": [
    "# 训练"
   ]
  },
  {
   "cell_type": "code",
   "execution_count": 4,
   "id": "stainless-bouquet",
   "metadata": {},
   "outputs": [
    {
     "name": "stdout",
     "output_type": "stream",
     "text": [
      "WARNING:tensorflow:From /Users/geyingli/Library/Python/3.8/lib/python/site-packages/tensorflow/python/util/dispatch.py:1096: calling dropout (from tensorflow.python.ops.nn_ops) with keep_prob is deprecated and will be removed in a future version.\n",
      "Instructions for updating:\n",
      "Please use `rate` instead of `keep_prob`. Rate should be set to `rate = 1 - keep_prob`.\n"
     ]
    },
    {
     "name": "stderr",
     "output_type": "stream",
     "text": [
      "/Users/geyingli/Library/Python/3.8/lib/python/site-packages/uf-2.3.2-py3.8.egg/uf/modeling/bert.py:282: UserWarning: `tf.layers.dense` is deprecated and will be removed in a future version. Please use `tf.keras.layers.Dense` instead.\n",
      "  query_layer = tf.layers.dense(\n",
      "/Users/geyingli/Library/Python/3.8/lib/python/site-packages/keras/legacy_tf_layers/core.py:255: UserWarning: `layer.apply` is deprecated and will be removed in a future version. Please use `layer.__call__` method instead.\n",
      "  return layer.apply(inputs)\n",
      "/Users/geyingli/Library/Python/3.8/lib/python/site-packages/uf-2.3.2-py3.8.egg/uf/modeling/bert.py:291: UserWarning: `tf.layers.dense` is deprecated and will be removed in a future version. Please use `tf.keras.layers.Dense` instead.\n",
      "  key_layer = tf.layers.dense(\n",
      "/Users/geyingli/Library/Python/3.8/lib/python/site-packages/uf-2.3.2-py3.8.egg/uf/modeling/bert.py:300: UserWarning: `tf.layers.dense` is deprecated and will be removed in a future version. Please use `tf.keras.layers.Dense` instead.\n",
      "  value_layer = tf.layers.dense(\n",
      "/Users/geyingli/Library/Python/3.8/lib/python/site-packages/uf-2.3.2-py3.8.egg/uf/modeling/bert.py:430: UserWarning: `tf.layers.dense` is deprecated and will be removed in a future version. Please use `tf.keras.layers.Dense` instead.\n",
      "  attention_output = tf.layers.dense(\n",
      "/Users/geyingli/Library/Python/3.8/lib/python/site-packages/uf-2.3.2-py3.8.egg/uf/modeling/bert.py:445: UserWarning: `tf.layers.dense` is deprecated and will be removed in a future version. Please use `tf.keras.layers.Dense` instead.\n",
      "  intermediate_output = tf.layers.dense(\n",
      "/Users/geyingli/Library/Python/3.8/lib/python/site-packages/uf-2.3.2-py3.8.egg/uf/modeling/bert.py:455: UserWarning: `tf.layers.dense` is deprecated and will be removed in a future version. Please use `tf.keras.layers.Dense` instead.\n",
      "  layer_output = tf.layers.dense(\n",
      "/Users/geyingli/Library/Python/3.8/lib/python/site-packages/uf-2.3.2-py3.8.egg/uf/modeling/bert.py:107: UserWarning: `tf.layers.dense` is deprecated and will be removed in a future version. Please use `tf.keras.layers.Dense` instead.\n",
      "  self.pooled_output = tf.layers.dense(\n"
     ]
    },
    {
     "name": "stdout",
     "output_type": "stream",
     "text": [
      "INFO:tensorflow:Build graph with 306,816,774 parameters (among which 102,272,258 are trainable)\n",
      "INFO:tensorflow:Running local_init_op\n",
      "INFO:tensorflow:Done running local_init_op\n",
      "INFO:tensorflow:Running training on 2 samples (step 0 -> 10)\n",
      "INFO:tensorflow:step 1, accuracy 1.0000, loss 0.487673, 0.05 steps/sec, 0.11 examples/sec\n",
      "INFO:tensorflow:step 2, accuracy 0.5000, loss 0.894945, 0.32 steps/sec, 0.64 examples/sec\n",
      "INFO:tensorflow:step 3, accuracy 0.5000, loss 1.088751, 0.26 steps/sec, 0.52 examples/sec\n",
      "INFO:tensorflow:step 4, accuracy 1.0000, loss 0.397846, 0.42 steps/sec, 0.85 examples/sec\n",
      "INFO:tensorflow:step 5, accuracy 0.5000, loss 0.642394, 0.40 steps/sec, 0.80 examples/sec\n",
      "INFO:tensorflow:step 6, accuracy 0.5000, loss 0.797398, 0.50 steps/sec, 1.01 examples/sec\n",
      "INFO:tensorflow:step 7, accuracy 1.0000, loss 0.195813, 0.47 steps/sec, 0.94 examples/sec\n",
      "INFO:tensorflow:step 8, accuracy 1.0000, loss 0.212921, 0.42 steps/sec, 0.85 examples/sec\n",
      "INFO:tensorflow:step 9, accuracy 1.0000, loss 0.256433, 0.32 steps/sec, 0.63 examples/sec\n",
      "INFO:tensorflow:step 10, accuracy 1.0000, loss 0.147922, 0.32 steps/sec, 0.64 examples/sec\n"
     ]
    }
   ],
   "source": [
    "model.fit(X, y, total_steps=10)"
   ]
  },
  {
   "cell_type": "markdown",
   "id": "primary-enlargement",
   "metadata": {},
   "source": [
    "# 推理"
   ]
  },
  {
   "cell_type": "code",
   "execution_count": 5,
   "id": "joined-virgin",
   "metadata": {},
   "outputs": [
    {
     "name": "stdout",
     "output_type": "stream",
     "text": [
      "INFO:tensorflow:Time usage 0m-3.45s, 0.29 steps/sec, 0.58 examples/sec\n"
     ]
    },
    {
     "data": {
      "text/plain": [
       "{'preds': [0, 1],\n",
       " 'probs': array([[0.93752056, 0.06247946],\n",
       "        [0.11900406, 0.8809959 ]], dtype=float32)}"
      ]
     },
     "execution_count": 5,
     "metadata": {},
     "output_type": "execute_result"
    }
   ],
   "source": [
    "model.predict(X)"
   ]
  },
  {
   "cell_type": "markdown",
   "id": "cellular-valuable",
   "metadata": {},
   "source": [
    "# 评分"
   ]
  },
  {
   "cell_type": "code",
   "execution_count": 6,
   "id": "static-vocabulary",
   "metadata": {},
   "outputs": [
    {
     "name": "stdout",
     "output_type": "stream",
     "text": [
      "INFO:tensorflow:Time usage 0m-0.83s, 1.20 steps/sec, 2.40 examples/sec\n"
     ]
    },
    {
     "data": {
      "text/plain": [
       "{'accuracy': 1.0, 'loss': 0.09560942}"
      ]
     },
     "execution_count": 6,
     "metadata": {},
     "output_type": "execute_result"
    }
   ],
   "source": [
    "model.score(X, y)"
   ]
  }
 ],
 "metadata": {
  "kernelspec": {
   "display_name": "Python 3",
   "language": "python",
   "name": "python3"
  },
  "language_info": {
   "codemirror_mode": {
    "name": "ipython",
    "version": 3
   },
   "file_extension": ".py",
   "mimetype": "text/x-python",
   "name": "python",
   "nbconvert_exporter": "python",
   "pygments_lexer": "ipython3",
   "version": "3.8.2"
  }
 },
 "nbformat": 4,
 "nbformat_minor": 5
}
