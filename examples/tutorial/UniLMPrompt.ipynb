{
 "cells": [
  {
   "cell_type": "markdown",
   "id": "local-battle",
   "metadata": {},
   "source": [
    "# UniLMPrompt\n",
    "\n",
    "可用的中文预训练参数：[`bert-base`](https://storage.googleapis.com/bert_models/2018_11_03/chinese_L-12_H-768_A-12.zip),[`roberta-wwm-ext-base`](https://drive.google.com/uc?export=download&id=1jMAKIJmPn7kADgD3yQZhpsqM-IRM1qZt),[`roberta-wwm-ext-large`](https://drive.google.com/uc?export=download&id=1dtad0FFzG11CBsawu8hvwwzU2R0FDI94),[`macbert-base`](https://drive.google.com/uc?export=download&id=1aV69OhYzIwj_hn-kO1RiBa-m8QAusQ5b),[`macbert-large`](https://drive.google.com/uc?export=download&id=1lWYxnk1EqTA2Q20_IShxBrCPc5VSDCkT)"
   ]
  },
  {
   "cell_type": "code",
   "execution_count": 1,
   "id": "rotary-academy",
   "metadata": {},
   "outputs": [
    {
     "name": "stdout",
     "output_type": "stream",
     "text": [
      "v2.5.13\n"
     ]
    }
   ],
   "source": [
    "import uf\n",
    "\n",
    "print(uf.__version__)"
   ]
  },
  {
   "cell_type": "code",
   "execution_count": 2,
   "id": "velvet-symbol",
   "metadata": {},
   "outputs": [
    {
     "name": "stdout",
     "output_type": "stream",
     "text": [
      "INFO:tensorflow:LM Mode: `bi`. Use method `.to_mode()` to convert it into `bi`, `l2r`, `r2l` or `s2s`.\n",
      "uf.UniLMPrompt(\n",
      "    config_file=\"../../ref/bert_config.json\",\n",
      "    vocab_file=\"../../ref/vocab.txt\",\n",
      "    max_seq_length=128,\n",
      "    init_checkpoint=None,\n",
      "    output_dir=None,\n",
      "    gpu_ids=None,\n",
      "    drop_pooler=False,\n",
      "    max_predictions_per_seq=20,\n",
      "    masked_lm_prob=0.15,\n",
      "    short_seq_prob=0.1,\n",
      "    do_whole_word_mask=False,\n",
      "    mode=\"bi\",\n",
      "    do_lower_case=True,\n",
      "    truncate_method=\"LIFO\",\n",
      ")\n"
     ]
    }
   ],
   "source": [
    "model = uf.UniLMPrompt(\"../../ref/bert_config.json\", \"../../ref/vocab.txt\")\n",
    "print(model)"
   ]
  },
  {
   "cell_type": "code",
   "execution_count": 4,
   "id": "drawn-breathing",
   "metadata": {},
   "outputs": [],
   "source": [
    "# 语言模型：bi/l2r/r2l模式下\n",
    "model.to_mode(\"bi\")\n",
    "X_tokenized = [\n",
    "     [\n",
    "          [\"[Soft Prompt]\"],                                            # soft prompt\n",
    "          model.tokenizer.tokenize(\"被掩码的文字是？\"),                    # task description\n",
    "          model.tokenizer.tokenize(\"天亮以前说再见, 笑着泪流满面\"),         # 文本\n",
    "     ],\n",
    "     [\n",
    "          [\"[Soft Prompt]\"],                        \n",
    "          model.tokenizer.tokenize(\"被掩码的文字是？\"),                    \n",
    "          model.tokenizer.tokenize(\"他想知道那是谁, 为何总沉默寡言\"),\n",
    "     ],\n",
    "]\n",
    "y = None\n",
    "\n",
    "# 语言模型：s2s模式下\n",
    "# model.to_mode(\"s2s\")\n",
    "# X = [[\"天亮以前说再见\", \"笑着泪流满面\"], [\"他想知道那是谁\", \"为何总沉默寡言\"]]     # doc必须为两个句子\n",
    "\n",
    "# 下游任务\n",
    "X_tokenized = [\n",
    "     [\n",
    "          [\"[Soft Prompt]\"],                                                 # soft prompt\n",
    "          [\"情\", \"民\"],                                                       # verbolizer prompt\n",
    "          model.tokenizer.tokenize(\"下面这句歌词来自于\") + [\"[MASK]\", \"歌\"],    # task description\n",
    "          model.tokenizer.tokenize(\"天亮以前说再见, 笑着泪流满面\"),              # 文本\n",
    "     ],\n",
    "     [\n",
    "          [\"[Soft Prompt]\"],                        \n",
    "          model.tokenizer.tokenize(\"被掩码的文字是？\"),                    \n",
    "          model.tokenizer.tokenize(\"他想知道那是谁, 为何总沉默寡言\"),\n",
    "     ],\n",
    "]\n",
    "y = None\n"
   ]
  },
  {
   "cell_type": "markdown",
   "id": "vanilla-fault",
   "metadata": {},
   "source": [
    "# 训练"
   ]
  },
  {
   "cell_type": "code",
   "execution_count": 5,
   "id": "excellent-religion",
   "metadata": {},
   "outputs": [
    {
     "name": "stderr",
     "output_type": "stream",
     "text": [
      "/Users/geyingli/Library/Python/3.8/lib/python/site-packages/uf-2.5.13-py3.8.egg/uf/apps/bert/bert.py:235: UserWarning: `tf.layers.dense` is deprecated and will be removed in a future version. Please use `tf.keras.layers.Dense` instead.\n",
      "  query_layer = tf.layers.dense(\n",
      "/Users/geyingli/Library/Python/3.8/lib/python/site-packages/uf-2.5.13-py3.8.egg/uf/apps/bert/bert.py:245: UserWarning: `tf.layers.dense` is deprecated and will be removed in a future version. Please use `tf.keras.layers.Dense` instead.\n",
      "  key_layer = tf.layers.dense(\n",
      "/Users/geyingli/Library/Python/3.8/lib/python/site-packages/uf-2.5.13-py3.8.egg/uf/apps/bert/bert.py:255: UserWarning: `tf.layers.dense` is deprecated and will be removed in a future version. Please use `tf.keras.layers.Dense` instead.\n",
      "  value_layer = tf.layers.dense(\n",
      "/Users/geyingli/Library/Python/3.8/lib/python/site-packages/uf-2.5.13-py3.8.egg/uf/apps/bert/bert.py:379: UserWarning: `tf.layers.dense` is deprecated and will be removed in a future version. Please use `tf.keras.layers.Dense` instead.\n",
      "  attention_output = tf.layers.dense(\n",
      "/Users/geyingli/Library/Python/3.8/lib/python/site-packages/uf-2.5.13-py3.8.egg/uf/apps/bert/bert.py:391: UserWarning: `tf.layers.dense` is deprecated and will be removed in a future version. Please use `tf.keras.layers.Dense` instead.\n",
      "  intermediate_output = tf.layers.dense(\n",
      "/Users/geyingli/Library/Python/3.8/lib/python/site-packages/uf-2.5.13-py3.8.egg/uf/apps/bert/bert.py:401: UserWarning: `tf.layers.dense` is deprecated and will be removed in a future version. Please use `tf.keras.layers.Dense` instead.\n",
      "  layer_output = tf.layers.dense(\n",
      "/Users/geyingli/Library/Python/3.8/lib/python/site-packages/uf-2.5.13-py3.8.egg/uf/apps/bert/bert.py:102: UserWarning: `tf.layers.dense` is deprecated and will be removed in a future version. Please use `tf.keras.layers.Dense` instead.\n",
      "  self.pooled_output = tf.layers.dense(\n",
      "/Users/geyingli/Library/Python/3.8/lib/python/site-packages/uf-2.5.13-py3.8.egg/uf/apps/bert/bert.py:464: UserWarning: `tf.layers.dense` is deprecated and will be removed in a future version. Please use `tf.keras.layers.Dense` instead.\n",
      "  input_tensor = tf.layers.dense(\n"
     ]
    },
    {
     "name": "stdout",
     "output_type": "stream",
     "text": [
      "INFO:tensorflow:Build graph with 307,461,528 parameters (among which 102,880,904 are trainable)\n",
      "INFO:tensorflow:Running local_init_op\n",
      "INFO:tensorflow:Done running local_init_op\n",
      "INFO:tensorflow:Running training on 2 samples (step 0 -> 20)\n",
      "INFO:tensorflow:step 1, MLM accuracy 0.0000, MLM loss 1.019995, 0.13 steps/sec, 0.25 examples/sec\n",
      "INFO:tensorflow:step 2, MLM accuracy 0.7500, MLM loss 0.752626, 0.50 steps/sec, 1.01 examples/sec\n",
      "INFO:tensorflow:step 3, MLM accuracy 1.0000, MLM loss 0.601650, 0.54 steps/sec, 1.07 examples/sec\n",
      "INFO:tensorflow:step 4, MLM accuracy 1.0000, MLM loss 0.502519, 0.46 steps/sec, 0.93 examples/sec\n",
      "INFO:tensorflow:step 5, MLM accuracy 1.0000, MLM loss 0.424412, 0.43 steps/sec, 0.86 examples/sec\n",
      "INFO:tensorflow:step 6, MLM accuracy 1.0000, MLM loss 0.354928, 0.43 steps/sec, 0.86 examples/sec\n",
      "INFO:tensorflow:step 7, MLM accuracy 1.0000, MLM loss 0.288862, 0.49 steps/sec, 0.99 examples/sec\n",
      "INFO:tensorflow:step 8, MLM accuracy 1.0000, MLM loss 0.229064, 0.51 steps/sec, 1.02 examples/sec\n",
      "INFO:tensorflow:step 9, MLM accuracy 1.0000, MLM loss 0.190192, 0.49 steps/sec, 0.98 examples/sec\n",
      "INFO:tensorflow:step 10, MLM accuracy 1.0000, MLM loss 0.158545, 0.48 steps/sec, 0.95 examples/sec\n",
      "INFO:tensorflow:step 11, MLM accuracy 1.0000, MLM loss 0.129046, 0.46 steps/sec, 0.91 examples/sec\n",
      "INFO:tensorflow:step 12, MLM accuracy 1.0000, MLM loss 0.108203, 0.50 steps/sec, 0.99 examples/sec\n",
      "INFO:tensorflow:step 13, MLM accuracy 1.0000, MLM loss 0.088025, 0.48 steps/sec, 0.95 examples/sec\n",
      "INFO:tensorflow:step 14, MLM accuracy 1.0000, MLM loss 0.075177, 0.49 steps/sec, 0.98 examples/sec\n",
      "INFO:tensorflow:step 15, MLM accuracy 1.0000, MLM loss 0.067271, 0.50 steps/sec, 1.00 examples/sec\n",
      "INFO:tensorflow:step 16, MLM accuracy 1.0000, MLM loss 0.060102, 0.53 steps/sec, 1.06 examples/sec\n",
      "INFO:tensorflow:step 17, MLM accuracy 1.0000, MLM loss 0.052390, 0.53 steps/sec, 1.07 examples/sec\n",
      "INFO:tensorflow:step 18, MLM accuracy 1.0000, MLM loss 0.048440, 0.53 steps/sec, 1.06 examples/sec\n",
      "INFO:tensorflow:step 19, MLM accuracy 1.0000, MLM loss 0.046599, 0.52 steps/sec, 1.04 examples/sec\n",
      "INFO:tensorflow:step 20, MLM accuracy 1.0000, MLM loss 0.043949, 0.53 steps/sec, 1.06 examples/sec\n"
     ]
    }
   ],
   "source": [
    "model.fit(X_tokenized=X_tokenized, total_steps=20)"
   ]
  },
  {
   "cell_type": "markdown",
   "id": "fallen-hundred",
   "metadata": {},
   "source": [
    "# 推理"
   ]
  },
  {
   "cell_type": "code",
   "execution_count": 6,
   "id": "opposite-pantyhose",
   "metadata": {},
   "outputs": [
    {
     "name": "stdout",
     "output_type": "stream",
     "text": [
      "INFO:tensorflow:Running inference on 1 samples\n",
      "INFO:tensorflow:process 100.0%, 0.89 examples/sec\n"
     ]
    },
    {
     "data": {
      "text/plain": [
       "{'mlm_preds': [['何']]}"
      ]
     },
     "execution_count": 6,
     "metadata": {},
     "output_type": "execute_result"
    }
   ],
   "source": [
    "X_tokenized = [\n",
    "     [\n",
    "          [\"[Soft Prompt]\"],                                   # soft prompt\n",
    "          model.tokenizer.tokenize(\"被掩码的文字是？\"),           # hard prompt\n",
    "          [\"他\", \"想\", \"[MASK]\", \"道\", \"那\", \"是\", \"谁\"],        # 手动赋予Mask (与训练阶段采样不同，因此此case预测错误正常)\n",
    "     ],\n",
    "]\n",
    "model.predict(X_tokenized=X_tokenized)"
   ]
  }
 ],
 "metadata": {
  "kernelspec": {
   "display_name": "Python 3.8.2 64-bit",
   "language": "python",
   "name": "python3"
  },
  "language_info": {
   "codemirror_mode": {
    "name": "ipython",
    "version": 3
   },
   "file_extension": ".py",
   "mimetype": "text/x-python",
   "name": "python",
   "nbconvert_exporter": "python",
   "pygments_lexer": "ipython3",
   "version": "3.8.2"
  },
  "vscode": {
   "interpreter": {
    "hash": "31f2aee4e71d21fbe5cf8b01ff0e069b9275f58929596ceb00d14d90e3e16cd6"
   }
  }
 },
 "nbformat": 4,
 "nbformat_minor": 5
}
