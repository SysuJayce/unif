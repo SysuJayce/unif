{
 "cells": [
  {
   "cell_type": "code",
   "execution_count": 1,
   "id": "rotary-academy",
   "metadata": {},
   "outputs": [
    {
     "name": "stdout",
     "output_type": "stream",
     "text": [
      "v2.3.2\n"
     ]
    }
   ],
   "source": [
    "import uf\n",
    "\n",
    "print(uf.__version__)"
   ]
  },
  {
   "cell_type": "code",
   "execution_count": 2,
   "id": "velvet-symbol",
   "metadata": {},
   "outputs": [
    {
     "name": "stdout",
     "output_type": "stream",
     "text": [
      "uf.RoBERTaSeqClassifier(config_file=\"../../demo/bert_config.json\", vocab_file=\"../../demo/vocab.txt\", max_seq_length=128, label_size=None, init_checkpoint=None, output_dir=None, gpu_ids=None, do_lower_case=True, truncate_method=\"LIFO\")\n"
     ]
    }
   ],
   "source": [
    "model = uf.RoBERTaSeqClassifier('../../demo/bert_config.json', '../../demo/vocab.txt')\n",
    "print(model)"
   ]
  },
  {
   "cell_type": "code",
   "execution_count": 3,
   "id": "drawn-breathing",
   "metadata": {},
   "outputs": [],
   "source": [
    "X_tokenized = [['天', '亮', '以', '前', '说', '再', '见'], ['笑', '着', '泪', '流', '满', '面']]\n",
    "y = [[0, 0, 0, 0, 0, 1, 1], [0, 0, 1, 1, 0, 0]]"
   ]
  },
  {
   "cell_type": "markdown",
   "id": "vanilla-fault",
   "metadata": {},
   "source": [
    "# 训练"
   ]
  },
  {
   "cell_type": "code",
   "execution_count": 4,
   "id": "excellent-religion",
   "metadata": {},
   "outputs": [
    {
     "name": "stdout",
     "output_type": "stream",
     "text": [
      "WARNING:tensorflow:From /Users/geyingli/Library/Python/3.8/lib/python/site-packages/tensorflow/python/util/dispatch.py:1096: calling dropout (from tensorflow.python.ops.nn_ops) with keep_prob is deprecated and will be removed in a future version.\n",
      "Instructions for updating:\n",
      "Please use `rate` instead of `keep_prob`. Rate should be set to `rate = 1 - keep_prob`.\n"
     ]
    },
    {
     "name": "stderr",
     "output_type": "stream",
     "text": [
      "/Users/geyingli/Library/Python/3.8/lib/python/site-packages/uf-2.3.2-py3.8.egg/uf/modeling/bert.py:282: UserWarning: `tf.layers.dense` is deprecated and will be removed in a future version. Please use `tf.keras.layers.Dense` instead.\n",
      "  query_layer = tf.layers.dense(\n",
      "/Users/geyingli/Library/Python/3.8/lib/python/site-packages/keras/legacy_tf_layers/core.py:255: UserWarning: `layer.apply` is deprecated and will be removed in a future version. Please use `layer.__call__` method instead.\n",
      "  return layer.apply(inputs)\n",
      "/Users/geyingli/Library/Python/3.8/lib/python/site-packages/uf-2.3.2-py3.8.egg/uf/modeling/bert.py:291: UserWarning: `tf.layers.dense` is deprecated and will be removed in a future version. Please use `tf.keras.layers.Dense` instead.\n",
      "  key_layer = tf.layers.dense(\n",
      "/Users/geyingli/Library/Python/3.8/lib/python/site-packages/uf-2.3.2-py3.8.egg/uf/modeling/bert.py:300: UserWarning: `tf.layers.dense` is deprecated and will be removed in a future version. Please use `tf.keras.layers.Dense` instead.\n",
      "  value_layer = tf.layers.dense(\n",
      "/Users/geyingli/Library/Python/3.8/lib/python/site-packages/uf-2.3.2-py3.8.egg/uf/modeling/bert.py:430: UserWarning: `tf.layers.dense` is deprecated and will be removed in a future version. Please use `tf.keras.layers.Dense` instead.\n",
      "  attention_output = tf.layers.dense(\n",
      "/Users/geyingli/Library/Python/3.8/lib/python/site-packages/uf-2.3.2-py3.8.egg/uf/modeling/bert.py:445: UserWarning: `tf.layers.dense` is deprecated and will be removed in a future version. Please use `tf.keras.layers.Dense` instead.\n",
      "  intermediate_output = tf.layers.dense(\n",
      "/Users/geyingli/Library/Python/3.8/lib/python/site-packages/uf-2.3.2-py3.8.egg/uf/modeling/bert.py:455: UserWarning: `tf.layers.dense` is deprecated and will be removed in a future version. Please use `tf.keras.layers.Dense` instead.\n",
      "  layer_output = tf.layers.dense(\n",
      "/Users/geyingli/Library/Python/3.8/lib/python/site-packages/uf-2.3.2-py3.8.egg/uf/modeling/bert.py:107: UserWarning: `tf.layers.dense` is deprecated and will be removed in a future version. Please use `tf.keras.layers.Dense` instead.\n",
      "  self.pooled_output = tf.layers.dense(\n"
     ]
    },
    {
     "name": "stdout",
     "output_type": "stream",
     "text": [
      "INFO:tensorflow:Build graph with 305,626,374 parameters (among which 102,269,186 are trainable)\n",
      "INFO:tensorflow:Running local_init_op\n",
      "INFO:tensorflow:Done running local_init_op\n",
      "INFO:tensorflow:Running training on 2 samples (step 0 -> 20)\n",
      "INFO:tensorflow:step 1, accuracy 0.4615, loss 0.764960, 0.12 steps/sec, 0.23 examples/sec\n",
      "INFO:tensorflow:step 2, accuracy 0.6923, loss 0.638531, 0.49 steps/sec, 0.99 examples/sec\n",
      "INFO:tensorflow:step 3, accuracy 0.6923, loss 0.850426, 0.56 steps/sec, 1.12 examples/sec\n",
      "INFO:tensorflow:step 4, accuracy 0.6923, loss 0.473651, 0.18 steps/sec, 0.37 examples/sec\n",
      "INFO:tensorflow:step 5, accuracy 1.0000, loss 0.139408, 0.33 steps/sec, 0.66 examples/sec\n",
      "INFO:tensorflow:step 6, accuracy 1.0000, loss 0.092410, 0.33 steps/sec, 0.66 examples/sec\n",
      "INFO:tensorflow:step 7, accuracy 1.0000, loss 0.035657, 0.34 steps/sec, 0.69 examples/sec\n",
      "INFO:tensorflow:step 8, accuracy 1.0000, loss 0.006916, 0.28 steps/sec, 0.55 examples/sec\n",
      "INFO:tensorflow:step 9, accuracy 1.0000, loss 0.002008, 0.16 steps/sec, 0.33 examples/sec\n",
      "INFO:tensorflow:step 10, accuracy 1.0000, loss 0.000852, 0.16 steps/sec, 0.33 examples/sec\n",
      "INFO:tensorflow:step 11, accuracy 1.0000, loss 0.000406, 0.19 steps/sec, 0.38 examples/sec\n",
      "INFO:tensorflow:step 12, accuracy 1.0000, loss 0.000292, 0.26 steps/sec, 0.52 examples/sec\n",
      "INFO:tensorflow:step 13, accuracy 1.0000, loss 0.000176, 0.23 steps/sec, 0.46 examples/sec\n",
      "INFO:tensorflow:step 14, accuracy 1.0000, loss 0.000115, 0.11 steps/sec, 0.21 examples/sec\n",
      "INFO:tensorflow:step 15, accuracy 1.0000, loss 0.000157, 0.07 steps/sec, 0.13 examples/sec\n",
      "INFO:tensorflow:step 16, accuracy 1.0000, loss 0.000081, 0.08 steps/sec, 0.17 examples/sec\n",
      "INFO:tensorflow:step 17, accuracy 1.0000, loss 0.000100, 0.06 steps/sec, 0.12 examples/sec\n",
      "INFO:tensorflow:step 18, accuracy 1.0000, loss 0.000063, 0.08 steps/sec, 0.15 examples/sec\n",
      "INFO:tensorflow:step 19, accuracy 1.0000, loss 0.000058, 0.11 steps/sec, 0.21 examples/sec\n",
      "INFO:tensorflow:step 20, accuracy 1.0000, loss 0.000066, 0.13 steps/sec, 0.26 examples/sec\n"
     ]
    }
   ],
   "source": [
    "model.fit(X_tokenized=X_tokenized, y=y, total_steps=20)"
   ]
  },
  {
   "cell_type": "markdown",
   "id": "fallen-hundred",
   "metadata": {},
   "source": [
    "# 推理"
   ]
  },
  {
   "cell_type": "code",
   "execution_count": 5,
   "id": "opposite-pantyhose",
   "metadata": {},
   "outputs": [
    {
     "name": "stdout",
     "output_type": "stream",
     "text": [
      "INFO:tensorflow:Time usage 0m-2.39s, 0.42 steps/sec, 0.84 examples/sec\n"
     ]
    },
    {
     "data": {
      "text/plain": [
       "{'preds': [[0, 0, 0, 0, 0, 1, 1], [0, 0, 1, 1, 0, 0]],\n",
       " 'probs': array([[[9.99991298e-01, 8.65138372e-06],\n",
       "         [9.99985695e-01, 1.43410734e-05],\n",
       "         [9.99989152e-01, 1.08391741e-05],\n",
       "         [9.99948502e-01, 5.15393403e-05],\n",
       "         [9.99988079e-01, 1.19018569e-05],\n",
       "         [7.69303460e-06, 9.99992251e-01],\n",
       "         [1.12434691e-05, 9.99988794e-01],\n",
       "         [9.97468233e-01, 2.53181113e-03],\n",
       "         [9.97920096e-01, 2.07993016e-03],\n",
       "         [8.53934884e-01, 1.46065146e-01],\n",
       "         [9.97616291e-01, 2.38379161e-03],\n",
       "         [9.31086719e-01, 6.89133108e-02],\n",
       "         [9.95589018e-01, 4.41097189e-03],\n",
       "         [9.79783237e-01, 2.02168152e-02],\n",
       "         [9.94415283e-01, 5.58472984e-03],\n",
       "         [9.94939685e-01, 5.06032258e-03],\n",
       "         [9.96703923e-01, 3.29603255e-03],\n",
       "         [9.96010780e-01, 3.98922479e-03],\n",
       "         [9.98120964e-01, 1.87904609e-03],\n",
       "         [9.98205781e-01, 1.79424288e-03],\n",
       "         [9.98194158e-01, 1.80585135e-03],\n",
       "         [9.82472181e-01, 1.75277591e-02],\n",
       "         [9.39825058e-01, 6.01748750e-02],\n",
       "         [9.95338559e-01, 4.66147531e-03],\n",
       "         [9.96600688e-01, 3.39934486e-03],\n",
       "         [9.52200353e-01, 4.77996171e-02],\n",
       "         [9.79731739e-01, 2.02682652e-02],\n",
       "         [9.98154819e-01, 1.84520974e-03],\n",
       "         [9.88308787e-01, 1.16911577e-02],\n",
       "         [9.84995663e-01, 1.50043573e-02],\n",
       "         [9.87834096e-01, 1.21659525e-02],\n",
       "         [9.93654966e-01, 6.34509744e-03],\n",
       "         [9.96119261e-01, 3.88073665e-03],\n",
       "         [9.90709901e-01, 9.29006655e-03],\n",
       "         [9.63227630e-01, 3.67723778e-02],\n",
       "         [9.97514606e-01, 2.48540519e-03],\n",
       "         [9.91786301e-01, 8.21372867e-03],\n",
       "         [9.87786710e-01, 1.22132860e-02],\n",
       "         [9.95825410e-01, 4.17459710e-03],\n",
       "         [9.26513612e-01, 7.34864250e-02],\n",
       "         [8.60843480e-01, 1.39156491e-01],\n",
       "         [9.59207475e-01, 4.07925472e-02],\n",
       "         [9.72792208e-01, 2.72077750e-02],\n",
       "         [9.97895598e-01, 2.10431567e-03],\n",
       "         [9.96811926e-01, 3.18812812e-03],\n",
       "         [9.36091900e-01, 6.39081001e-02],\n",
       "         [9.49227393e-01, 5.07726632e-02],\n",
       "         [9.83461022e-01, 1.65389385e-02],\n",
       "         [9.84341919e-01, 1.56581067e-02],\n",
       "         [9.65129137e-01, 3.48708704e-02],\n",
       "         [9.85159576e-01, 1.48404166e-02],\n",
       "         [9.84509170e-01, 1.54907918e-02],\n",
       "         [8.88221562e-01, 1.11778431e-01],\n",
       "         [9.96020019e-01, 3.97994835e-03],\n",
       "         [9.97484088e-01, 2.51586083e-03],\n",
       "         [9.89843607e-01, 1.01564089e-02],\n",
       "         [9.81715202e-01, 1.82848442e-02],\n",
       "         [9.95606005e-01, 4.39395662e-03],\n",
       "         [9.93965924e-01, 6.03405433e-03],\n",
       "         [9.96512711e-01, 3.48733296e-03],\n",
       "         [9.92374837e-01, 7.62514584e-03],\n",
       "         [9.75906372e-01, 2.40937006e-02],\n",
       "         [9.51771319e-01, 4.82286513e-02],\n",
       "         [9.89280283e-01, 1.07197594e-02],\n",
       "         [9.96361077e-01, 3.63895763e-03],\n",
       "         [9.00716424e-01, 9.92835909e-02],\n",
       "         [9.93364334e-01, 6.63569523e-03],\n",
       "         [9.61802304e-01, 3.81976627e-02],\n",
       "         [9.93366897e-01, 6.63310243e-03],\n",
       "         [9.86203313e-01, 1.37967011e-02],\n",
       "         [8.34695578e-01, 1.65304407e-01],\n",
       "         [9.39476073e-01, 6.05239533e-02],\n",
       "         [9.96148705e-01, 3.85133713e-03],\n",
       "         [9.97824550e-01, 2.17549829e-03],\n",
       "         [9.90965009e-01, 9.03497078e-03],\n",
       "         [9.91086662e-01, 8.91330466e-03],\n",
       "         [9.53321993e-01, 4.66780439e-02],\n",
       "         [9.96608019e-01, 3.39201675e-03],\n",
       "         [9.67032313e-01, 3.29677016e-02],\n",
       "         [6.58912838e-01, 3.41087192e-01],\n",
       "         [9.62991774e-01, 3.70081738e-02],\n",
       "         [9.87449527e-01, 1.25504034e-02],\n",
       "         [9.95603204e-01, 4.39684512e-03],\n",
       "         [9.97063220e-01, 2.93672993e-03],\n",
       "         [8.85077417e-01, 1.14922605e-01],\n",
       "         [9.86634791e-01, 1.33652305e-02],\n",
       "         [9.86110210e-01, 1.38898147e-02],\n",
       "         [9.84712124e-01, 1.52879022e-02],\n",
       "         [9.88064945e-01, 1.19350692e-02],\n",
       "         [9.98511255e-01, 1.48871623e-03],\n",
       "         [9.95941281e-01, 4.05875361e-03],\n",
       "         [7.79016674e-01, 2.20983341e-01],\n",
       "         [8.47209871e-01, 1.52790159e-01],\n",
       "         [9.82097805e-01, 1.79021545e-02],\n",
       "         [9.84813273e-01, 1.51867168e-02],\n",
       "         [9.92449284e-01, 7.55074248e-03],\n",
       "         [9.89813745e-01, 1.01862401e-02],\n",
       "         [9.60931897e-01, 3.90680395e-02],\n",
       "         [9.97828066e-01, 2.17188755e-03],\n",
       "         [9.82271671e-01, 1.77283008e-02],\n",
       "         [9.90373731e-01, 9.62631311e-03],\n",
       "         [9.95212078e-01, 4.78790654e-03],\n",
       "         [9.93954122e-01, 6.04587141e-03],\n",
       "         [8.08916748e-01, 1.91083312e-01],\n",
       "         [8.85012150e-01, 1.14987843e-01],\n",
       "         [9.84807611e-01, 1.51923578e-02],\n",
       "         [8.97105277e-01, 1.02894701e-01],\n",
       "         [9.95913327e-01, 4.08664672e-03],\n",
       "         [7.75024772e-01, 2.24975199e-01],\n",
       "         [9.36985373e-01, 6.30146712e-02],\n",
       "         [9.96709824e-01, 3.29013681e-03],\n",
       "         [9.82456088e-01, 1.75438784e-02],\n",
       "         [9.83664036e-01, 1.63359903e-02],\n",
       "         [9.56224144e-01, 4.37758639e-02],\n",
       "         [9.85207438e-01, 1.47925215e-02],\n",
       "         [9.92874742e-01, 7.12521235e-03],\n",
       "         [9.82471168e-01, 1.75287854e-02],\n",
       "         [9.92701650e-01, 7.29837921e-03],\n",
       "         [9.86323118e-01, 1.36769097e-02],\n",
       "         [9.86803114e-01, 1.31968390e-02],\n",
       "         [9.89054680e-01, 1.09453471e-02],\n",
       "         [9.47847724e-01, 5.21522984e-02],\n",
       "         [9.63848412e-01, 3.61515358e-02],\n",
       "         [9.98120129e-01, 1.87982770e-03],\n",
       "         [9.85334992e-01, 1.46649983e-02],\n",
       "         [9.94350672e-01, 5.64932870e-03],\n",
       "         [9.66314852e-01, 3.36851962e-02],\n",
       "         [9.78787482e-01, 2.12125462e-02]],\n",
       " \n",
       "        [[9.99954700e-01, 4.53136163e-05],\n",
       "         [9.99964476e-01, 3.55070842e-05],\n",
       "         [5.88570992e-06, 9.99994159e-01],\n",
       "         [5.79798234e-06, 9.99994159e-01],\n",
       "         [9.99981880e-01, 1.81316173e-05],\n",
       "         [9.99963164e-01, 3.68113615e-05],\n",
       "         [9.28125519e-05, 9.99907136e-01],\n",
       "         [9.41326976e-01, 5.86730801e-02],\n",
       "         [9.47878599e-01, 5.21213897e-02],\n",
       "         [1.23970419e-01, 8.76029611e-01],\n",
       "         [9.26834881e-01, 7.31651112e-02],\n",
       "         [2.37396240e-01, 7.62603760e-01],\n",
       "         [9.02606964e-01, 9.73929912e-02],\n",
       "         [5.41559577e-01, 4.58440423e-01],\n",
       "         [7.99968719e-01, 2.00031325e-01],\n",
       "         [8.21916819e-01, 1.78083137e-01],\n",
       "         [9.08569515e-01, 9.14305225e-02],\n",
       "         [8.97650540e-01, 1.02349475e-01],\n",
       "         [9.43932176e-01, 5.60678057e-02],\n",
       "         [9.64143336e-01, 3.58567275e-02],\n",
       "         [9.49132025e-01, 5.08680493e-02],\n",
       "         [6.35090470e-01, 3.64909470e-01],\n",
       "         [2.95250535e-01, 7.04749525e-01],\n",
       "         [8.47493470e-01, 1.52506560e-01],\n",
       "         [8.99024725e-01, 1.00975290e-01],\n",
       "         [2.59619415e-01, 7.40380585e-01],\n",
       "         [5.76742947e-01, 4.23257053e-01],\n",
       "         [9.61074471e-01, 3.89255285e-02],\n",
       "         [6.60737157e-01, 3.39262843e-01],\n",
       "         [6.10638261e-01, 3.89361739e-01],\n",
       "         [6.00984275e-01, 3.99015754e-01],\n",
       "         [8.55935872e-01, 1.44064158e-01],\n",
       "         [8.59685481e-01, 1.40314534e-01],\n",
       "         [7.63055921e-01, 2.36944124e-01],\n",
       "         [3.46039921e-01, 6.53959990e-01],\n",
       "         [9.25496757e-01, 7.45033249e-02],\n",
       "         [7.59669363e-01, 2.40330622e-01],\n",
       "         [6.79239273e-01, 3.20760727e-01],\n",
       "         [8.87958527e-01, 1.12041451e-01],\n",
       "         [1.94099516e-01, 8.05900455e-01],\n",
       "         [1.33294061e-01, 8.66705954e-01],\n",
       "         [3.69244874e-01, 6.30755126e-01],\n",
       "         [5.19568801e-01, 4.80431169e-01],\n",
       "         [9.53918457e-01, 4.60816212e-02],\n",
       "         [8.98922801e-01, 1.01077184e-01],\n",
       "         [2.56965041e-01, 7.43034899e-01],\n",
       "         [3.08832407e-01, 6.91167533e-01],\n",
       "         [5.95628977e-01, 4.04371023e-01],\n",
       "         [6.05646968e-01, 3.94353032e-01],\n",
       "         [3.91456783e-01, 6.08543217e-01],\n",
       "         [5.12557328e-01, 4.87442613e-01],\n",
       "         [6.29630625e-01, 3.70369345e-01],\n",
       "         [9.57380012e-02, 9.04262006e-01],\n",
       "         [8.56465876e-01, 1.43534124e-01],\n",
       "         [9.17439580e-01, 8.25604498e-02],\n",
       "         [7.42024481e-01, 2.57975519e-01],\n",
       "         [6.30186677e-01, 3.69813293e-01],\n",
       "         [8.64725769e-01, 1.35274231e-01],\n",
       "         [8.27091455e-01, 1.72908589e-01],\n",
       "         [9.01170433e-01, 9.88296121e-02],\n",
       "         [8.15518200e-01, 1.84481815e-01],\n",
       "         [4.59925085e-01, 5.40074885e-01],\n",
       "         [3.31037313e-01, 6.68962598e-01],\n",
       "         [7.13163316e-01, 2.86836624e-01],\n",
       "         [9.10170674e-01, 8.98293331e-02],\n",
       "         [1.32521898e-01, 8.67478132e-01],\n",
       "         [7.61390388e-01, 2.38609657e-01],\n",
       "         [3.49730194e-01, 6.50269806e-01],\n",
       "         [8.07820797e-01, 1.92179218e-01],\n",
       "         [6.67563975e-01, 3.32436085e-01],\n",
       "         [1.50505364e-01, 8.49494576e-01],\n",
       "         [2.72311419e-01, 7.27688551e-01],\n",
       "         [9.25385535e-01, 7.46144950e-02],\n",
       "         [9.50098336e-01, 4.99017052e-02],\n",
       "         [7.26274848e-01, 2.73725182e-01],\n",
       "         [7.21430659e-01, 2.78569371e-01],\n",
       "         [2.87706643e-01, 7.12293386e-01],\n",
       "         [8.84765744e-01, 1.15234256e-01],\n",
       "         [4.19814110e-01, 5.80185950e-01],\n",
       "         [3.52887549e-02, 9.64711249e-01],\n",
       "         [4.49562609e-01, 5.50437391e-01],\n",
       "         [5.98472834e-01, 4.01527107e-01],\n",
       "         [8.61790657e-01, 1.38209343e-01],\n",
       "         [8.90968204e-01, 1.09031826e-01],\n",
       "         [1.41047150e-01, 8.58952820e-01],\n",
       "         [6.87511206e-01, 3.12488824e-01],\n",
       "         [6.32500887e-01, 3.67499143e-01],\n",
       "         [5.49554765e-01, 4.50445265e-01],\n",
       "         [6.25635684e-01, 3.74364287e-01],\n",
       "         [9.41680312e-01, 5.83196320e-02],\n",
       "         [8.73014092e-01, 1.26985952e-01],\n",
       "         [6.91188723e-02, 9.30881083e-01],\n",
       "         [7.81613365e-02, 9.21838641e-01],\n",
       "         [5.05460560e-01, 4.94539469e-01],\n",
       "         [6.14467561e-01, 3.85532469e-01],\n",
       "         [8.41670990e-01, 1.58329025e-01],\n",
       "         [7.09774792e-01, 2.90225208e-01],\n",
       "         [3.47908229e-01, 6.52091801e-01],\n",
       "         [9.20406818e-01, 7.95932114e-02],\n",
       "         [6.29299879e-01, 3.70700151e-01],\n",
       "         [7.73761332e-01, 2.26238683e-01],\n",
       "         [8.31911981e-01, 1.68087974e-01],\n",
       "         [8.23373497e-01, 1.76626533e-01],\n",
       "         [7.70423263e-02, 9.22957659e-01],\n",
       "         [1.16762005e-01, 8.83238018e-01],\n",
       "         [6.14816368e-01, 3.85183632e-01],\n",
       "         [1.33776784e-01, 8.66223216e-01],\n",
       "         [9.29434955e-01, 7.05649853e-02],\n",
       "         [6.17586672e-02, 9.38241422e-01],\n",
       "         [2.71637708e-01, 7.28362262e-01],\n",
       "         [9.20702100e-01, 7.92978704e-02],\n",
       "         [5.17815530e-01, 4.82184470e-01],\n",
       "         [5.33657491e-01, 4.66342539e-01],\n",
       "         [3.11530471e-01, 6.88469529e-01],\n",
       "         [6.40902162e-01, 3.59097898e-01],\n",
       "         [8.32360744e-01, 1.67639256e-01],\n",
       "         [4.60780680e-01, 5.39219379e-01],\n",
       "         [8.09524357e-01, 1.90475643e-01],\n",
       "         [6.62207186e-01, 3.37792844e-01],\n",
       "         [6.42150342e-01, 3.57849628e-01],\n",
       "         [6.89304471e-01, 3.10695529e-01],\n",
       "         [2.31858552e-01, 7.68141389e-01],\n",
       "         [2.65499860e-01, 7.34500110e-01],\n",
       "         [9.44007874e-01, 5.59920967e-02],\n",
       "         [6.51378214e-01, 3.48621815e-01],\n",
       "         [8.23440373e-01, 1.76559642e-01],\n",
       "         [3.39426368e-01, 6.60573602e-01],\n",
       "         [5.99965155e-01, 4.00034934e-01]]], dtype=float32)}"
      ]
     },
     "execution_count": 5,
     "metadata": {},
     "output_type": "execute_result"
    }
   ],
   "source": [
    "model.predict(X_tokenized=X_tokenized)"
   ]
  },
  {
   "cell_type": "markdown",
   "id": "fundamental-poverty",
   "metadata": {},
   "source": [
    "# 评分"
   ]
  },
  {
   "cell_type": "code",
   "execution_count": 6,
   "id": "accessory-lesbian",
   "metadata": {},
   "outputs": [
    {
     "name": "stdout",
     "output_type": "stream",
     "text": [
      "INFO:tensorflow:Time usage 0m-1.46s, 0.68 steps/sec, 1.37 examples/sec\n"
     ]
    },
    {
     "data": {
      "text/plain": [
       "{'accuracy': 1.0, 'loss': 2.0590236e-05}"
      ]
     },
     "execution_count": 6,
     "metadata": {},
     "output_type": "execute_result"
    }
   ],
   "source": [
    "model.score(X_tokenized=X_tokenized, y=y)"
   ]
  }
 ],
 "metadata": {
  "kernelspec": {
   "display_name": "Python 3",
   "language": "python",
   "name": "python3"
  },
  "language_info": {
   "codemirror_mode": {
    "name": "ipython",
    "version": 3
   },
   "file_extension": ".py",
   "mimetype": "text/x-python",
   "name": "python",
   "nbconvert_exporter": "python",
   "pygments_lexer": "ipython3",
   "version": "3.8.2"
  }
 },
 "nbformat": 4,
 "nbformat_minor": 5
}
