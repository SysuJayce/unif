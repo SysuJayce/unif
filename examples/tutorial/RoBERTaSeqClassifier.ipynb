{
 "cells": [
  {
   "cell_type": "markdown",
   "id": "bored-chapel",
   "metadata": {},
   "source": [
    "# RoBERTaSeqClassifier\n",
    "\n",
    "可用的中文预训练参数：[`bert-base`](https://storage.googleapis.com/bert_models/2018_11_03/chinese_L-12_H-768_A-12.zip),[`roberta-wwm-ext-base`](https://drive.google.com/uc?export=download&id=1jMAKIJmPn7kADgD3yQZhpsqM-IRM1qZt),[`roberta-wwm-ext-large`](https://drive.google.com/uc?export=download&id=1dtad0FFzG11CBsawu8hvwwzU2R0FDI94),[`macbert-base`](https://drive.google.com/uc?export=download&id=1aV69OhYzIwj_hn-kO1RiBa-m8QAusQ5b),[`macbert-large`](https://drive.google.com/uc?export=download&id=1lWYxnk1EqTA2Q20_IShxBrCPc5VSDCkT)"
   ]
  },
  {
   "cell_type": "code",
   "execution_count": 1,
   "id": "rotary-academy",
   "metadata": {},
   "outputs": [
    {
     "name": "stdout",
     "output_type": "stream",
     "text": [
      "v2.4.5\n"
     ]
    }
   ],
   "source": [
    "import uf\n",
    "\n",
    "print(uf.__version__)"
   ]
  },
  {
   "cell_type": "code",
   "execution_count": 2,
   "id": "velvet-symbol",
   "metadata": {},
   "outputs": [
    {
     "name": "stdout",
     "output_type": "stream",
     "text": [
      "uf.RoBERTaSeqClassifier(\n",
      "    config_file=\"../../demo/bert_config.json\",\n",
      "    vocab_file=\"../../demo/vocab.txt\",\n",
      "    max_seq_length=128,\n",
      "    label_size=None,\n",
      "    init_checkpoint=None,\n",
      "    output_dir=None,\n",
      "    gpu_ids=None,\n",
      "    do_lower_case=True,\n",
      "    truncate_method=\"LIFO\",\n",
      ")\n"
     ]
    }
   ],
   "source": [
    "model = uf.RoBERTaSeqClassifier('../../demo/bert_config.json', '../../demo/vocab.txt')\n",
    "print(model)"
   ]
  },
  {
   "cell_type": "code",
   "execution_count": 3,
   "id": "drawn-breathing",
   "metadata": {},
   "outputs": [],
   "source": [
    "X_tokenized = [['天', '亮', '以', '前', '说', '再', '见'], ['笑', '着', '泪', '流', '满', '面']]\n",
    "y = [[0, 0, 0, 0, 0, 1, 1], [0, 0, 1, 1, 0, 0]]"
   ]
  },
  {
   "cell_type": "markdown",
   "id": "vanilla-fault",
   "metadata": {},
   "source": [
    "# 训练"
   ]
  },
  {
   "cell_type": "code",
   "execution_count": 4,
   "id": "excellent-religion",
   "metadata": {},
   "outputs": [
    {
     "name": "stdout",
     "output_type": "stream",
     "text": [
      "WARNING:tensorflow:From /Users/geyingli/Library/Python/3.8/lib/python/site-packages/tensorflow/python/util/dispatch.py:1096: calling dropout (from tensorflow.python.ops.nn_ops) with keep_prob is deprecated and will be removed in a future version.\n",
      "Instructions for updating:\n",
      "Please use `rate` instead of `keep_prob`. Rate should be set to `rate = 1 - keep_prob`.\n"
     ]
    },
    {
     "name": "stderr",
     "output_type": "stream",
     "text": [
      "/Users/geyingli/Library/Python/3.8/lib/python/site-packages/uf-2.4.5-py3.8.egg/uf/model/bert.py:272: UserWarning: `tf.layers.dense` is deprecated and will be removed in a future version. Please use `tf.keras.layers.Dense` instead.\n",
      "  query_layer = tf.layers.dense(\n",
      "/Users/geyingli/Library/Python/3.8/lib/python/site-packages/keras/legacy_tf_layers/core.py:255: UserWarning: `layer.apply` is deprecated and will be removed in a future version. Please use `layer.__call__` method instead.\n",
      "  return layer.apply(inputs)\n",
      "/Users/geyingli/Library/Python/3.8/lib/python/site-packages/uf-2.4.5-py3.8.egg/uf/model/bert.py:282: UserWarning: `tf.layers.dense` is deprecated and will be removed in a future version. Please use `tf.keras.layers.Dense` instead.\n",
      "  key_layer = tf.layers.dense(\n",
      "/Users/geyingli/Library/Python/3.8/lib/python/site-packages/uf-2.4.5-py3.8.egg/uf/model/bert.py:292: UserWarning: `tf.layers.dense` is deprecated and will be removed in a future version. Please use `tf.keras.layers.Dense` instead.\n",
      "  value_layer = tf.layers.dense(\n",
      "/Users/geyingli/Library/Python/3.8/lib/python/site-packages/uf-2.4.5-py3.8.egg/uf/model/bert.py:416: UserWarning: `tf.layers.dense` is deprecated and will be removed in a future version. Please use `tf.keras.layers.Dense` instead.\n",
      "  attention_output = tf.layers.dense(\n",
      "/Users/geyingli/Library/Python/3.8/lib/python/site-packages/uf-2.4.5-py3.8.egg/uf/model/bert.py:428: UserWarning: `tf.layers.dense` is deprecated and will be removed in a future version. Please use `tf.keras.layers.Dense` instead.\n",
      "  intermediate_output = tf.layers.dense(\n",
      "/Users/geyingli/Library/Python/3.8/lib/python/site-packages/uf-2.4.5-py3.8.egg/uf/model/bert.py:438: UserWarning: `tf.layers.dense` is deprecated and will be removed in a future version. Please use `tf.keras.layers.Dense` instead.\n",
      "  layer_output = tf.layers.dense(\n",
      "/Users/geyingli/Library/Python/3.8/lib/python/site-packages/uf-2.4.5-py3.8.egg/uf/model/bert.py:107: UserWarning: `tf.layers.dense` is deprecated and will be removed in a future version. Please use `tf.keras.layers.Dense` instead.\n",
      "  self.pooled_output = tf.layers.dense(\n"
     ]
    },
    {
     "name": "stdout",
     "output_type": "stream",
     "text": [
      "INFO:tensorflow:Build graph with 305,626,374 parameters (among which 102,269,186 are trainable)\n",
      "INFO:tensorflow:Running local_init_op\n",
      "INFO:tensorflow:Done running local_init_op\n",
      "INFO:tensorflow:Running training on 2 samples (step 0 -> 20)\n",
      "INFO:tensorflow:step 1, accuracy 0.1538, loss 1.065840, 0.04 steps/sec, 0.07 examples/sec\n",
      "INFO:tensorflow:step 2, accuracy 0.0769, loss 0.973427, 0.27 steps/sec, 0.54 examples/sec\n",
      "INFO:tensorflow:step 3, accuracy 0.6923, loss 0.938833, 0.28 steps/sec, 0.57 examples/sec\n",
      "INFO:tensorflow:step 4, accuracy 0.6923, loss 1.071407, 0.27 steps/sec, 0.53 examples/sec\n",
      "INFO:tensorflow:step 5, accuracy 0.6923, loss 0.331950, 0.26 steps/sec, 0.51 examples/sec\n",
      "INFO:tensorflow:step 6, accuracy 0.7692, loss 0.324759, 0.28 steps/sec, 0.57 examples/sec\n",
      "INFO:tensorflow:step 7, accuracy 0.7692, loss 0.304586, 0.25 steps/sec, 0.50 examples/sec\n",
      "INFO:tensorflow:step 8, accuracy 1.0000, loss 0.113894, 0.28 steps/sec, 0.56 examples/sec\n",
      "INFO:tensorflow:step 9, accuracy 1.0000, loss 0.023858, 0.28 steps/sec, 0.56 examples/sec\n",
      "INFO:tensorflow:step 10, accuracy 1.0000, loss 0.020990, 0.31 steps/sec, 0.62 examples/sec\n",
      "INFO:tensorflow:step 11, accuracy 1.0000, loss 0.007413, 0.33 steps/sec, 0.65 examples/sec\n",
      "INFO:tensorflow:step 12, accuracy 1.0000, loss 0.001830, 0.38 steps/sec, 0.76 examples/sec\n",
      "INFO:tensorflow:step 13, accuracy 1.0000, loss 0.000579, 0.40 steps/sec, 0.79 examples/sec\n",
      "INFO:tensorflow:step 14, accuracy 1.0000, loss 0.000284, 0.39 steps/sec, 0.78 examples/sec\n",
      "INFO:tensorflow:step 15, accuracy 1.0000, loss 0.000191, 0.44 steps/sec, 0.87 examples/sec\n",
      "INFO:tensorflow:step 16, accuracy 1.0000, loss 0.000162, 0.61 steps/sec, 1.21 examples/sec\n",
      "INFO:tensorflow:step 17, accuracy 1.0000, loss 0.000110, 0.60 steps/sec, 1.20 examples/sec\n",
      "INFO:tensorflow:step 18, accuracy 1.0000, loss 0.000098, 0.59 steps/sec, 1.17 examples/sec\n",
      "INFO:tensorflow:step 19, accuracy 1.0000, loss 0.000108, 0.53 steps/sec, 1.05 examples/sec\n",
      "INFO:tensorflow:step 20, accuracy 1.0000, loss 0.000093, 0.54 steps/sec, 1.08 examples/sec\n"
     ]
    }
   ],
   "source": [
    "model.fit(X_tokenized=X_tokenized, y=y, total_steps=20)"
   ]
  },
  {
   "cell_type": "markdown",
   "id": "fallen-hundred",
   "metadata": {},
   "source": [
    "# 推理"
   ]
  },
  {
   "cell_type": "code",
   "execution_count": 5,
   "id": "opposite-pantyhose",
   "metadata": {},
   "outputs": [
    {
     "name": "stdout",
     "output_type": "stream",
     "text": [
      "INFO:tensorflow:Time usage 0m-1.12s, 0.89 steps/sec, 1.78 examples/sec\n"
     ]
    },
    {
     "data": {
      "text/plain": [
       "{'preds': [[0, 0, 0, 0, 0, 1, 1], [0, 0, 1, 1, 0, 0]],\n",
       " 'probs': array([[[9.99960065e-01, 3.99841920e-05],\n",
       "         [9.99967694e-01, 3.23429667e-05],\n",
       "         [9.99903440e-01, 9.64998544e-05],\n",
       "         [9.99918222e-01, 8.17623804e-05],\n",
       "         [9.99962568e-01, 3.74351694e-05],\n",
       "         [1.13492806e-05, 9.99988675e-01],\n",
       "         [1.60727668e-05, 9.99983907e-01],\n",
       "         [9.94834900e-01, 5.16511872e-03],\n",
       "         [9.95651305e-01, 4.34877397e-03],\n",
       "         [9.94150043e-01, 5.84995467e-03],\n",
       "         [9.99100089e-01, 8.99882347e-04],\n",
       "         [8.45931590e-01, 1.54068366e-01],\n",
       "         [9.94931757e-01, 5.06820763e-03],\n",
       "         [9.91279781e-01, 8.72024242e-03],\n",
       "         [9.98971462e-01, 1.02856557e-03],\n",
       "         [9.95920300e-01, 4.07973258e-03],\n",
       "         [9.76144969e-01, 2.38550641e-02],\n",
       "         [9.99176204e-01, 8.23718437e-04],\n",
       "         [9.82998550e-01, 1.70014817e-02],\n",
       "         [9.97984290e-01, 2.01570569e-03],\n",
       "         [9.94002759e-01, 5.99724241e-03],\n",
       "         [9.97693598e-01, 2.30638008e-03],\n",
       "         [9.97756660e-01, 2.24331627e-03],\n",
       "         [9.88224030e-01, 1.17759556e-02],\n",
       "         [9.97212350e-01, 2.78766383e-03],\n",
       "         [9.97341692e-01, 2.65828823e-03],\n",
       "         [9.88205552e-01, 1.17944945e-02],\n",
       "         [9.97090578e-01, 2.90936744e-03],\n",
       "         [9.37968314e-01, 6.20317273e-02],\n",
       "         [9.90236938e-01, 9.76311415e-03],\n",
       "         [9.94616687e-01, 5.38328290e-03],\n",
       "         [9.62007701e-01, 3.79923210e-02],\n",
       "         [9.93834019e-01, 6.16598176e-03],\n",
       "         [9.98680890e-01, 1.31907989e-03],\n",
       "         [9.90544558e-01, 9.45547502e-03],\n",
       "         [9.38310027e-01, 6.16899803e-02],\n",
       "         [9.99033689e-01, 9.66342224e-04],\n",
       "         [9.96250212e-01, 3.74979107e-03],\n",
       "         [9.98264372e-01, 1.73563103e-03],\n",
       "         [9.28500772e-01, 7.14992732e-02],\n",
       "         [9.91502643e-01, 8.49733874e-03],\n",
       "         [9.90954101e-01, 9.04582907e-03],\n",
       "         [9.87128139e-01, 1.28718400e-02],\n",
       "         [9.73786533e-01, 2.62135398e-02],\n",
       "         [9.90992069e-01, 9.00799967e-03],\n",
       "         [9.94155884e-01, 5.84408175e-03],\n",
       "         [9.98949468e-01, 1.05050986e-03],\n",
       "         [9.95933354e-01, 4.06667730e-03],\n",
       "         [9.98508036e-01, 1.49198680e-03],\n",
       "         [9.89985585e-01, 1.00144409e-02],\n",
       "         [9.80184376e-01, 1.98156592e-02],\n",
       "         [9.97932076e-01, 2.06797011e-03],\n",
       "         [9.88600075e-01, 1.13999406e-02],\n",
       "         [9.80788767e-01, 1.92112122e-02],\n",
       "         [9.93599296e-01, 6.40069693e-03],\n",
       "         [9.96124327e-01, 3.87568935e-03],\n",
       "         [9.12826180e-01, 8.71738046e-02],\n",
       "         [9.79594529e-01, 2.04054695e-02],\n",
       "         [9.92199481e-01, 7.80054368e-03],\n",
       "         [9.83516037e-01, 1.64838973e-02],\n",
       "         [9.97941911e-01, 2.05804431e-03],\n",
       "         [9.98938143e-01, 1.06184394e-03],\n",
       "         [9.63952005e-01, 3.60480212e-02],\n",
       "         [9.80401218e-01, 1.95988286e-02],\n",
       "         [9.97897744e-01, 2.10227841e-03],\n",
       "         [9.96678472e-01, 3.32156592e-03],\n",
       "         [9.93469834e-01, 6.53012330e-03],\n",
       "         [9.88756955e-01, 1.12430984e-02],\n",
       "         [9.98001993e-01, 1.99805503e-03],\n",
       "         [9.94864881e-01, 5.13511710e-03],\n",
       "         [9.97806370e-01, 2.19366094e-03],\n",
       "         [9.94515717e-01, 5.48421359e-03],\n",
       "         [9.93391395e-01, 6.60862122e-03],\n",
       "         [9.86512959e-01, 1.34870419e-02],\n",
       "         [9.83725607e-01, 1.62744392e-02],\n",
       "         [9.96870577e-01, 3.12942988e-03],\n",
       "         [9.87287283e-01, 1.27126612e-02],\n",
       "         [9.97287273e-01, 2.71270890e-03],\n",
       "         [9.86448824e-01, 1.35511812e-02],\n",
       "         [9.99216914e-01, 7.83031981e-04],\n",
       "         [9.64144409e-01, 3.58556174e-02],\n",
       "         [9.91790533e-01, 8.20944458e-03],\n",
       "         [9.94500995e-01, 5.49895596e-03],\n",
       "         [9.89569247e-01, 1.04307644e-02],\n",
       "         [8.85449886e-01, 1.14550076e-01],\n",
       "         [9.96345699e-01, 3.65435635e-03],\n",
       "         [9.81114686e-01, 1.88853648e-02],\n",
       "         [9.89879727e-01, 1.01203136e-02],\n",
       "         [9.88440752e-01, 1.15592936e-02],\n",
       "         [9.99020815e-01, 9.79131437e-04],\n",
       "         [9.90844905e-01, 9.15511698e-03],\n",
       "         [9.53652859e-01, 4.63471822e-02],\n",
       "         [9.94237185e-01, 5.76274004e-03],\n",
       "         [9.84293640e-01, 1.57063622e-02],\n",
       "         [9.57262039e-01, 4.27379496e-02],\n",
       "         [9.97607470e-01, 2.39245803e-03],\n",
       "         [9.94604886e-01, 5.39510464e-03],\n",
       "         [9.96710896e-01, 3.28913331e-03],\n",
       "         [9.95814621e-01, 4.18534316e-03],\n",
       "         [9.95070934e-01, 4.92907129e-03],\n",
       "         [9.84365106e-01, 1.56348851e-02],\n",
       "         [9.87560689e-01, 1.24392873e-02],\n",
       "         [9.98860598e-01, 1.13940216e-03],\n",
       "         [9.95823860e-01, 4.17617150e-03],\n",
       "         [9.93317842e-01, 6.68218313e-03],\n",
       "         [9.97934341e-01, 2.06568930e-03],\n",
       "         [9.97539639e-01, 2.46040756e-03],\n",
       "         [9.85887468e-01, 1.41125051e-02],\n",
       "         [9.97795105e-01, 2.20487802e-03],\n",
       "         [9.97438908e-01, 2.56107049e-03],\n",
       "         [9.85813439e-01, 1.41865164e-02],\n",
       "         [9.52781439e-01, 4.72184978e-02],\n",
       "         [9.77042556e-01, 2.29574125e-02],\n",
       "         [9.80812311e-01, 1.91876646e-02],\n",
       "         [9.98670697e-01, 1.32927438e-03],\n",
       "         [9.40955698e-01, 5.90443276e-02],\n",
       "         [9.98350143e-01, 1.64991978e-03],\n",
       "         [9.96029258e-01, 3.97080835e-03],\n",
       "         [9.76641953e-01, 2.33581141e-02],\n",
       "         [9.81874108e-01, 1.81259140e-02],\n",
       "         [9.96686518e-01, 3.31345689e-03],\n",
       "         [9.94972706e-01, 5.02728811e-03],\n",
       "         [9.85281169e-01, 1.47188054e-02],\n",
       "         [9.99126494e-01, 8.73533776e-04],\n",
       "         [9.98338223e-01, 1.66173396e-03],\n",
       "         [9.98180151e-01, 1.81981048e-03],\n",
       "         [9.58466411e-01, 4.15336266e-02],\n",
       "         [9.91759837e-01, 8.24018940e-03]],\n",
       " \n",
       "        [[9.99978423e-01, 2.15857453e-05],\n",
       "         [9.99979138e-01, 2.08155980e-05],\n",
       "         [6.48767718e-06, 9.99993563e-01],\n",
       "         [1.18417393e-05, 9.99988198e-01],\n",
       "         [9.99969125e-01, 3.09051247e-05],\n",
       "         [9.99926090e-01, 7.38811068e-05],\n",
       "         [1.95220404e-03, 9.98047829e-01],\n",
       "         [9.82319772e-01, 1.76802874e-02],\n",
       "         [9.85006630e-01, 1.49933388e-02],\n",
       "         [9.77627516e-01, 2.23725364e-02],\n",
       "         [9.97790813e-01, 2.20915372e-03],\n",
       "         [4.66140866e-01, 5.33859134e-01],\n",
       "         [9.86215591e-01, 1.37843462e-02],\n",
       "         [9.74059165e-01, 2.59409212e-02],\n",
       "         [9.97340739e-01, 2.65931501e-03],\n",
       "         [9.90598977e-01, 9.40107275e-03],\n",
       "         [8.97146642e-01, 1.02853365e-01],\n",
       "         [9.98005688e-01, 1.99432531e-03],\n",
       "         [9.59392130e-01, 4.06079404e-02],\n",
       "         [9.95116830e-01, 4.88320878e-03],\n",
       "         [9.77731049e-01, 2.22689658e-02],\n",
       "         [9.92387891e-01, 7.61217484e-03],\n",
       "         [9.94167447e-01, 5.83259296e-03],\n",
       "         [9.61901009e-01, 3.80989797e-02],\n",
       "         [9.93879914e-01, 6.12005405e-03],\n",
       "         [9.91967857e-01, 8.03212728e-03],\n",
       "         [9.61265266e-01, 3.87347788e-02],\n",
       "         [9.90414083e-01, 9.58599150e-03],\n",
       "         [7.60963023e-01, 2.39037007e-01],\n",
       "         [9.73886430e-01, 2.61135418e-02],\n",
       "         [9.82825816e-01, 1.71741489e-02],\n",
       "         [8.56866717e-01, 1.43133253e-01],\n",
       "         [9.85028267e-01, 1.49717489e-02],\n",
       "         [9.95751262e-01, 4.24877089e-03],\n",
       "         [9.59208131e-01, 4.07918617e-02],\n",
       "         [7.91671157e-01, 2.08328813e-01],\n",
       "         [9.97515917e-01, 2.48406711e-03],\n",
       "         [9.92296278e-01, 7.70368380e-03],\n",
       "         [9.96232808e-01, 3.76719749e-03],\n",
       "         [7.79079676e-01, 2.20920324e-01],\n",
       "         [9.65520680e-01, 3.44792530e-02],\n",
       "         [9.72449481e-01, 2.75504999e-02],\n",
       "         [9.48802829e-01, 5.11971079e-02],\n",
       "         [9.22205806e-01, 7.77942315e-02],\n",
       "         [9.71970975e-01, 2.80290116e-02],\n",
       "         [9.82915401e-01, 1.70846302e-02],\n",
       "         [9.97567415e-01, 2.43265973e-03],\n",
       "         [9.86865938e-01, 1.31340530e-02],\n",
       "         [9.95827615e-01, 4.17237543e-03],\n",
       "         [9.66670036e-01, 3.33299227e-02],\n",
       "         [9.64277327e-01, 3.57226990e-02],\n",
       "         [9.93608594e-01, 6.39140932e-03],\n",
       "         [9.61827457e-01, 3.81725244e-02],\n",
       "         [9.44888949e-01, 5.51109947e-02],\n",
       "         [9.82417405e-01, 1.75826158e-02],\n",
       "         [9.87290561e-01, 1.27094546e-02],\n",
       "         [7.51316190e-01, 2.48683870e-01],\n",
       "         [9.24807489e-01, 7.51924440e-02],\n",
       "         [9.72009599e-01, 2.79903784e-02],\n",
       "         [9.32574689e-01, 6.74253404e-02],\n",
       "         [9.93529499e-01, 6.47053961e-03],\n",
       "         [9.97188747e-01, 2.81120883e-03],\n",
       "         [8.73611689e-01, 1.26388356e-01],\n",
       "         [9.28927779e-01, 7.10721835e-02],\n",
       "         [9.93573606e-01, 6.42639445e-03],\n",
       "         [9.89228964e-01, 1.07710967e-02],\n",
       "         [9.80464458e-01, 1.95355024e-02],\n",
       "         [9.50862169e-01, 4.91378419e-02],\n",
       "         [9.93865073e-01, 6.13487838e-03],\n",
       "         [9.89124894e-01, 1.08751133e-02],\n",
       "         [9.93054807e-01, 6.94523891e-03],\n",
       "         [9.85266685e-01, 1.47332503e-02],\n",
       "         [9.74848688e-01, 2.51513422e-02],\n",
       "         [9.61494863e-01, 3.85050960e-02],\n",
       "         [9.36958790e-01, 6.30411804e-02],\n",
       "         [9.89893258e-01, 1.01066884e-02],\n",
       "         [9.44593608e-01, 5.54064065e-02],\n",
       "         [9.94419515e-01, 5.58044389e-03],\n",
       "         [9.60279167e-01, 3.97208780e-02],\n",
       "         [9.97479022e-01, 2.52095051e-03],\n",
       "         [8.58502567e-01, 1.41497403e-01],\n",
       "         [9.76013541e-01, 2.39864774e-02],\n",
       "         [9.84416664e-01, 1.55833922e-02],\n",
       "         [9.61518109e-01, 3.84819470e-02],\n",
       "         [5.54929912e-01, 4.45070118e-01],\n",
       "         [9.89469647e-01, 1.05303479e-02],\n",
       "         [9.16255116e-01, 8.37448314e-02],\n",
       "         [9.67900097e-01, 3.20999064e-02],\n",
       "         [9.68687594e-01, 3.13124321e-02],\n",
       "         [9.96832907e-01, 3.16715334e-03],\n",
       "         [9.61090982e-01, 3.89089771e-02],\n",
       "         [8.28504086e-01, 1.71495885e-01],\n",
       "         [9.82150435e-01, 1.78495906e-02],\n",
       "         [9.42950964e-01, 5.70490249e-02],\n",
       "         [8.27019274e-01, 1.72980711e-01],\n",
       "         [9.94545937e-01, 5.45404712e-03],\n",
       "         [9.80264425e-01, 1.97355691e-02],\n",
       "         [9.89793420e-01, 1.02066174e-02],\n",
       "         [9.86677647e-01, 1.33223264e-02],\n",
       "         [9.85465229e-01, 1.45348497e-02],\n",
       "         [9.56839383e-01, 4.31606621e-02],\n",
       "         [9.71815586e-01, 2.81844884e-02],\n",
       "         [9.96684849e-01, 3.31511721e-03],\n",
       "         [9.85128462e-01, 1.48715405e-02],\n",
       "         [9.73886430e-01, 2.61135418e-02],\n",
       "         [9.92461026e-01, 7.53901340e-03],\n",
       "         [9.94630456e-01, 5.36954682e-03],\n",
       "         [9.41423833e-01, 5.85761964e-02],\n",
       "         [9.92208064e-01, 7.79197505e-03],\n",
       "         [9.92408752e-01, 7.59125268e-03],\n",
       "         [9.45163131e-01, 5.48368879e-02],\n",
       "         [8.79239142e-01, 1.20760821e-01],\n",
       "         [9.02084947e-01, 9.79150683e-02],\n",
       "         [9.20755148e-01, 7.92448670e-02],\n",
       "         [9.97192800e-01, 2.80721788e-03],\n",
       "         [7.60095656e-01, 2.39904359e-01],\n",
       "         [9.95723724e-01, 4.27626073e-03],\n",
       "         [9.88050938e-01, 1.19490558e-02],\n",
       "         [9.30125952e-01, 6.98740482e-02],\n",
       "         [9.29480612e-01, 7.05194473e-02],\n",
       "         [9.90945339e-01, 9.05463099e-03],\n",
       "         [9.88299012e-01, 1.17010251e-02],\n",
       "         [9.54704583e-01, 4.52954918e-02],\n",
       "         [9.97883499e-01, 2.11646059e-03],\n",
       "         [9.95512187e-01, 4.48775385e-03],\n",
       "         [9.95776772e-01, 4.22322517e-03],\n",
       "         [8.19479704e-01, 1.80520326e-01],\n",
       "         [9.73840415e-01, 2.61596031e-02]]], dtype=float32)}"
      ]
     },
     "execution_count": 5,
     "metadata": {},
     "output_type": "execute_result"
    }
   ],
   "source": [
    "model.predict(X_tokenized=X_tokenized)"
   ]
  },
  {
   "cell_type": "markdown",
   "id": "fundamental-poverty",
   "metadata": {},
   "source": [
    "# 评分"
   ]
  },
  {
   "cell_type": "code",
   "execution_count": 6,
   "id": "accessory-lesbian",
   "metadata": {},
   "outputs": [
    {
     "name": "stdout",
     "output_type": "stream",
     "text": [
      "INFO:tensorflow:Time usage 0m-0.72s, 1.38 steps/sec, 2.77 examples/sec\n"
     ]
    },
    {
     "data": {
      "text/plain": [
       "{'accuracy': 1.0, 'loss': 3.6318055e-05}"
      ]
     },
     "execution_count": 6,
     "metadata": {},
     "output_type": "execute_result"
    }
   ],
   "source": [
    "model.score(X_tokenized=X_tokenized, y=y)"
   ]
  }
 ],
 "metadata": {
  "kernelspec": {
   "display_name": "Python 3",
   "language": "python",
   "name": "python3"
  },
  "language_info": {
   "codemirror_mode": {
    "name": "ipython",
    "version": 3
   },
   "file_extension": ".py",
   "mimetype": "text/x-python",
   "name": "python",
   "nbconvert_exporter": "python",
   "pygments_lexer": "ipython3",
   "version": "3.8.2"
  }
 },
 "nbformat": 4,
 "nbformat_minor": 5
}
