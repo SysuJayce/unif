{
 "cells": [
  {
   "cell_type": "markdown",
   "id": "bored-chapel",
   "metadata": {},
   "source": [
    "# RoBERTaSeqClassifier\n",
    "\n",
    "可用的中文预训练参数：[`bert-base`](https://storage.googleapis.com/bert_models/2018_11_03/chinese_L-12_H-768_A-12.zip),[`roberta-wwm-ext-base`](https://drive.google.com/uc?export=download&id=1jMAKIJmPn7kADgD3yQZhpsqM-IRM1qZt),[`roberta-wwm-ext-large`](https://drive.google.com/uc?export=download&id=1dtad0FFzG11CBsawu8hvwwzU2R0FDI94),[`macbert-base`](https://drive.google.com/uc?export=download&id=1aV69OhYzIwj_hn-kO1RiBa-m8QAusQ5b),[`macbert-large`](https://drive.google.com/uc?export=download&id=1lWYxnk1EqTA2Q20_IShxBrCPc5VSDCkT)"
   ]
  },
  {
   "cell_type": "code",
   "execution_count": 1,
   "id": "rotary-academy",
   "metadata": {},
   "outputs": [
    {
     "name": "stdout",
     "output_type": "stream",
     "text": [
      "v2.5.0\n"
     ]
    }
   ],
   "source": [
    "import uf\n",
    "\n",
    "print(uf.__version__)"
   ]
  },
  {
   "cell_type": "code",
   "execution_count": 2,
   "id": "velvet-symbol",
   "metadata": {},
   "outputs": [
    {
     "name": "stdout",
     "output_type": "stream",
     "text": [
      "uf.RoBERTaSeqClassifier(\n",
      "    config_file=\"../../ref/bert_config.json\",\n",
      "    vocab_file=\"../../ref/vocab.txt\",\n",
      "    max_seq_length=128,\n",
      "    label_size=None,\n",
      "    init_checkpoint=None,\n",
      "    output_dir=None,\n",
      "    gpu_ids=None,\n",
      "    do_lower_case=True,\n",
      "    truncate_method=\"LIFO\",\n",
      ")\n"
     ]
    }
   ],
   "source": [
    "model = uf.RoBERTaSeqClassifier(\"../../ref/bert_config.json\", \"../../ref/vocab.txt\")\n",
    "print(model)"
   ]
  },
  {
   "cell_type": "code",
   "execution_count": 3,
   "id": "drawn-breathing",
   "metadata": {},
   "outputs": [],
   "source": [
    "X_tokenized = [[\"天\", \"亮\", \"以\", \"前\", \"说\", \"再\", \"见\"], [\"笑\", \"着\", \"泪\", \"流\", \"满\", \"面\"]]\n",
    "y = [[0, 0, 0, 0, 0, 1, 1], [0, 0, 1, 1, 0, 0]]"
   ]
  },
  {
   "cell_type": "markdown",
   "id": "vanilla-fault",
   "metadata": {},
   "source": [
    "# 训练"
   ]
  },
  {
   "cell_type": "code",
   "execution_count": 4,
   "id": "excellent-religion",
   "metadata": {},
   "outputs": [
    {
     "name": "stdout",
     "output_type": "stream",
     "text": [
      "WARNING:tensorflow:From c:\\Users\\Luv_d\\AppData\\Local\\Programs\\Python\\Python39\\lib\\site-packages\\tensorflow\\python\\util\\dispatch.py:1176: calling dropout (from tensorflow.python.ops.nn_ops) with keep_prob is deprecated and will be removed in a future version.\n",
      "Instructions for updating:\n",
      "Please use `rate` instead of `keep_prob`. Rate should be set to `rate = 1 - keep_prob`.\n"
     ]
    },
    {
     "name": "stderr",
     "output_type": "stream",
     "text": [
      "c:\\Users\\Luv_d\\AppData\\Local\\Programs\\Python\\Python39\\lib\\site-packages\\uf-2.5.0-py3.9.egg\\uf\\apps\\bert\\bert.py:272: UserWarning: `tf.layers.dense` is deprecated and will be removed in a future version. Please use `tf.keras.layers.Dense` instead.\n",
      "  query_layer = tf.layers.dense(\n",
      "c:\\Users\\Luv_d\\AppData\\Local\\Programs\\Python\\Python39\\lib\\site-packages\\uf-2.5.0-py3.9.egg\\uf\\apps\\bert\\bert.py:282: UserWarning: `tf.layers.dense` is deprecated and will be removed in a future version. Please use `tf.keras.layers.Dense` instead.\n",
      "  key_layer = tf.layers.dense(\n",
      "c:\\Users\\Luv_d\\AppData\\Local\\Programs\\Python\\Python39\\lib\\site-packages\\uf-2.5.0-py3.9.egg\\uf\\apps\\bert\\bert.py:292: UserWarning: `tf.layers.dense` is deprecated and will be removed in a future version. Please use `tf.keras.layers.Dense` instead.\n",
      "  value_layer = tf.layers.dense(\n",
      "c:\\Users\\Luv_d\\AppData\\Local\\Programs\\Python\\Python39\\lib\\site-packages\\uf-2.5.0-py3.9.egg\\uf\\apps\\bert\\bert.py:416: UserWarning: `tf.layers.dense` is deprecated and will be removed in a future version. Please use `tf.keras.layers.Dense` instead.\n",
      "  attention_output = tf.layers.dense(\n",
      "c:\\Users\\Luv_d\\AppData\\Local\\Programs\\Python\\Python39\\lib\\site-packages\\uf-2.5.0-py3.9.egg\\uf\\apps\\bert\\bert.py:428: UserWarning: `tf.layers.dense` is deprecated and will be removed in a future version. Please use `tf.keras.layers.Dense` instead.\n",
      "  intermediate_output = tf.layers.dense(\n",
      "c:\\Users\\Luv_d\\AppData\\Local\\Programs\\Python\\Python39\\lib\\site-packages\\uf-2.5.0-py3.9.egg\\uf\\apps\\bert\\bert.py:438: UserWarning: `tf.layers.dense` is deprecated and will be removed in a future version. Please use `tf.keras.layers.Dense` instead.\n",
      "  layer_output = tf.layers.dense(\n",
      "c:\\Users\\Luv_d\\AppData\\Local\\Programs\\Python\\Python39\\lib\\site-packages\\uf-2.5.0-py3.9.egg\\uf\\apps\\bert\\bert.py:107: UserWarning: `tf.layers.dense` is deprecated and will be removed in a future version. Please use `tf.keras.layers.Dense` instead.\n",
      "  self.pooled_output = tf.layers.dense(\n"
     ]
    },
    {
     "name": "stdout",
     "output_type": "stream",
     "text": [
      "INFO:tensorflow:Build graph with 305,626,374 parameters (among which 102,269,186 are trainable)\n",
      "INFO:tensorflow:Running local_init_op\n",
      "INFO:tensorflow:Done running local_init_op\n",
      "INFO:tensorflow:Running training on 2 samples (step 0 -> 20)\n",
      "INFO:tensorflow:step 1, accuracy 0.6154, loss 0.789031, 0.24 steps/sec, 0.48 examples/sec\n",
      "INFO:tensorflow:step 2, accuracy 0.4615, loss 0.874818, 0.77 steps/sec, 1.54 examples/sec\n",
      "INFO:tensorflow:step 3, accuracy 0.6923, loss 1.107245, 0.88 steps/sec, 1.77 examples/sec\n",
      "INFO:tensorflow:step 4, accuracy 0.6923, loss 1.279851, 0.95 steps/sec, 1.89 examples/sec\n",
      "INFO:tensorflow:step 5, accuracy 0.6923, loss 0.459306, 0.92 steps/sec, 1.85 examples/sec\n",
      "INFO:tensorflow:step 6, accuracy 1.0000, loss 0.159633, 0.93 steps/sec, 1.87 examples/sec\n",
      "INFO:tensorflow:step 7, accuracy 0.8462, loss 0.190869, 0.94 steps/sec, 1.87 examples/sec\n",
      "INFO:tensorflow:step 8, accuracy 1.0000, loss 0.047819, 0.91 steps/sec, 1.82 examples/sec\n",
      "INFO:tensorflow:step 9, accuracy 1.0000, loss 0.017996, 0.93 steps/sec, 1.86 examples/sec\n",
      "INFO:tensorflow:step 10, accuracy 1.0000, loss 0.013612, 0.96 steps/sec, 1.93 examples/sec\n",
      "INFO:tensorflow:step 11, accuracy 1.0000, loss 0.002291, 0.95 steps/sec, 1.89 examples/sec\n",
      "INFO:tensorflow:step 12, accuracy 1.0000, loss 0.001033, 0.96 steps/sec, 1.92 examples/sec\n",
      "INFO:tensorflow:step 13, accuracy 1.0000, loss 0.000272, 0.96 steps/sec, 1.93 examples/sec\n",
      "INFO:tensorflow:step 14, accuracy 1.0000, loss 0.000180, 0.91 steps/sec, 1.82 examples/sec\n",
      "INFO:tensorflow:step 15, accuracy 1.0000, loss 0.000119, 0.88 steps/sec, 1.76 examples/sec\n",
      "INFO:tensorflow:step 16, accuracy 1.0000, loss 0.000102, 0.97 steps/sec, 1.93 examples/sec\n",
      "INFO:tensorflow:step 17, accuracy 1.0000, loss 0.000093, 0.95 steps/sec, 1.90 examples/sec\n",
      "INFO:tensorflow:step 18, accuracy 1.0000, loss 0.000062, 0.97 steps/sec, 1.94 examples/sec\n",
      "INFO:tensorflow:step 19, accuracy 1.0000, loss 0.000054, 0.87 steps/sec, 1.75 examples/sec\n",
      "INFO:tensorflow:step 20, accuracy 1.0000, loss 0.000079, 0.85 steps/sec, 1.70 examples/sec\n"
     ]
    }
   ],
   "source": [
    "model.fit(X_tokenized=X_tokenized, y=y, total_steps=20)"
   ]
  },
  {
   "cell_type": "markdown",
   "id": "fallen-hundred",
   "metadata": {},
   "source": [
    "# 推理"
   ]
  },
  {
   "cell_type": "code",
   "execution_count": 5,
   "id": "opposite-pantyhose",
   "metadata": {},
   "outputs": [
    {
     "name": "stdout",
     "output_type": "stream",
     "text": [
      "INFO:tensorflow:Running inference on 2 samples\n",
      "INFO:tensorflow:process 100.0%, 2.81 examples/sec\n"
     ]
    },
    {
     "data": {
      "text/plain": [
       "{'preds': [[0, 0, 0, 0, 0, 1, 1], [0, 0, 1, 1, 0, 0]],\n",
       " 'probs': array([[[9.99981403e-01, 1.85947192e-05],\n",
       "         [9.99989867e-01, 1.00947627e-05],\n",
       "         [9.99968290e-01, 3.17018093e-05],\n",
       "         [9.99983549e-01, 1.64179892e-05],\n",
       "         [9.99976039e-01, 2.39453311e-05],\n",
       "         [4.93240577e-06, 9.99995112e-01],\n",
       "         [6.70874397e-06, 9.99993324e-01],\n",
       "         [8.72676194e-01, 1.27323791e-01],\n",
       "         [9.95407641e-01, 4.59229806e-03],\n",
       "         [9.96441185e-01, 3.55880382e-03],\n",
       "         [9.94875371e-01, 5.12461131e-03],\n",
       "         [9.96494591e-01, 3.50539829e-03],\n",
       "         [9.96495545e-01, 3.50447604e-03],\n",
       "         [9.93709803e-01, 6.29025418e-03],\n",
       "         [9.82360482e-01, 1.76395718e-02],\n",
       "         [9.88449812e-01, 1.15501489e-02],\n",
       "         [9.86298501e-01, 1.37015302e-02],\n",
       "         [9.90657330e-01, 9.34271235e-03],\n",
       "         [8.40356648e-01, 1.59643412e-01],\n",
       "         [9.94139791e-01, 5.86026674e-03],\n",
       "         [9.96055961e-01, 3.94403376e-03],\n",
       "         [9.88908827e-01, 1.10912295e-02],\n",
       "         [9.92170632e-01, 7.82942772e-03],\n",
       "         [9.54522073e-01, 4.54779789e-02],\n",
       "         [9.89875078e-01, 1.01249823e-02],\n",
       "         [9.50152576e-01, 4.98474985e-02],\n",
       "         [9.82840300e-01, 1.71597153e-02],\n",
       "         [9.98865128e-01, 1.13489153e-03],\n",
       "         [9.98645484e-01, 1.35452871e-03],\n",
       "         [9.93160248e-01, 6.83969166e-03],\n",
       "         [9.56880450e-01, 4.31195758e-02],\n",
       "         [9.90066528e-01, 9.93351080e-03],\n",
       "         [9.77852345e-01, 2.21477002e-02],\n",
       "         [9.83920813e-01, 1.60791464e-02],\n",
       "         [9.23793018e-01, 7.62069151e-02],\n",
       "         [9.94345069e-01, 5.65498928e-03],\n",
       "         [9.65608954e-01, 3.43910418e-02],\n",
       "         [9.02507246e-01, 9.74927172e-02],\n",
       "         [9.55543995e-01, 4.44560498e-02],\n",
       "         [9.58172560e-01, 4.18274738e-02],\n",
       "         [9.86108482e-01, 1.38915060e-02],\n",
       "         [9.84084308e-01, 1.59156863e-02],\n",
       "         [9.62867856e-01, 3.71321030e-02],\n",
       "         [9.96673584e-01, 3.32645536e-03],\n",
       "         [9.97367084e-01, 2.63293576e-03],\n",
       "         [9.69654799e-01, 3.03452071e-02],\n",
       "         [9.90952015e-01, 9.04797949e-03],\n",
       "         [9.30842280e-01, 6.91577792e-02],\n",
       "         [9.89837885e-01, 1.01621151e-02],\n",
       "         [9.22648668e-01, 7.73513243e-02],\n",
       "         [9.87750709e-01, 1.22493394e-02],\n",
       "         [9.92497623e-01, 7.50239613e-03],\n",
       "         [9.94660437e-01, 5.33958012e-03],\n",
       "         [9.95422781e-01, 4.57725674e-03],\n",
       "         [9.81285214e-01, 1.87147204e-02],\n",
       "         [9.84277010e-01, 1.57229882e-02],\n",
       "         [9.54374254e-01, 4.56257053e-02],\n",
       "         [9.80770648e-01, 1.92293189e-02],\n",
       "         [9.87392247e-01, 1.26077645e-02],\n",
       "         [9.94111359e-01, 5.88863110e-03],\n",
       "         [9.78339672e-01, 2.16602925e-02],\n",
       "         [9.72141147e-01, 2.78588925e-02],\n",
       "         [9.67028975e-01, 3.29709984e-02],\n",
       "         [9.89946783e-01, 1.00532183e-02],\n",
       "         [9.95889485e-01, 4.11052490e-03],\n",
       "         [9.18911695e-01, 8.10882598e-02],\n",
       "         [8.33933771e-01, 1.66066214e-01],\n",
       "         [9.71995413e-01, 2.80045606e-02],\n",
       "         [9.94065166e-01, 5.93480095e-03],\n",
       "         [9.65270698e-01, 3.47292423e-02],\n",
       "         [9.98275399e-01, 1.72455504e-03],\n",
       "         [9.55398083e-01, 4.46019247e-02],\n",
       "         [9.80009377e-01, 1.99905485e-02],\n",
       "         [9.58321869e-01, 4.16781716e-02],\n",
       "         [9.84184027e-01, 1.58159193e-02],\n",
       "         [9.93144393e-01, 6.85560470e-03],\n",
       "         [9.14806664e-01, 8.51932913e-02],\n",
       "         [9.91922796e-01, 8.07722472e-03],\n",
       "         [9.56741691e-01, 4.32583429e-02],\n",
       "         [9.72985387e-01, 2.70146020e-02],\n",
       "         [9.38105285e-01, 6.18946999e-02],\n",
       "         [9.60654497e-01, 3.93455327e-02],\n",
       "         [9.82878327e-01, 1.71216223e-02],\n",
       "         [9.18979943e-01, 8.10200647e-02],\n",
       "         [9.80393648e-01, 1.96062867e-02],\n",
       "         [8.32560301e-01, 1.67439669e-01],\n",
       "         [9.86340642e-01, 1.36594055e-02],\n",
       "         [9.85965908e-01, 1.40340971e-02],\n",
       "         [9.95364428e-01, 4.63559385e-03],\n",
       "         [9.89378631e-01, 1.06214238e-02],\n",
       "         [9.50218618e-01, 4.97814119e-02],\n",
       "         [9.85434532e-01, 1.45654995e-02],\n",
       "         [9.72710073e-01, 2.72898767e-02],\n",
       "         [9.92277145e-01, 7.72278570e-03],\n",
       "         [9.92405474e-01, 7.59451138e-03],\n",
       "         [9.92314517e-01, 7.68553140e-03],\n",
       "         [9.98490334e-01, 1.50963059e-03],\n",
       "         [9.29156601e-01, 7.08433464e-02],\n",
       "         [9.94959712e-01, 5.04022976e-03],\n",
       "         [9.26706851e-01, 7.32931644e-02],\n",
       "         [5.41581094e-01, 4.58418936e-01],\n",
       "         [9.95530307e-01, 4.46976349e-03],\n",
       "         [9.89096701e-01, 1.09033771e-02],\n",
       "         [9.74224627e-01, 2.57753171e-02],\n",
       "         [9.87738907e-01, 1.22610610e-02],\n",
       "         [9.96160626e-01, 3.83939478e-03],\n",
       "         [9.98177171e-01, 1.82288652e-03],\n",
       "         [9.70316231e-01, 2.96838172e-02],\n",
       "         [9.97631550e-01, 2.36848905e-03],\n",
       "         [9.72633302e-01, 2.73667276e-02],\n",
       "         [9.84452486e-01, 1.55475158e-02],\n",
       "         [9.70816076e-01, 2.91839261e-02],\n",
       "         [9.72275674e-01, 2.77242716e-02],\n",
       "         [9.97295320e-01, 2.70472141e-03],\n",
       "         [9.70812261e-01, 2.91877706e-02],\n",
       "         [9.79002595e-01, 2.09974162e-02],\n",
       "         [9.92666900e-01, 7.33309099e-03],\n",
       "         [9.63145375e-01, 3.68546732e-02],\n",
       "         [9.97504890e-01, 2.49509187e-03],\n",
       "         [9.66038764e-01, 3.39612179e-02],\n",
       "         [9.99635696e-01, 3.64276872e-04],\n",
       "         [9.86429691e-01, 1.35702463e-02],\n",
       "         [9.96046722e-01, 3.95331159e-03],\n",
       "         [9.92527843e-01, 7.47221336e-03],\n",
       "         [9.98827159e-01, 1.17283815e-03],\n",
       "         [9.89423811e-01, 1.05762063e-02],\n",
       "         [9.94640589e-01, 5.35943918e-03],\n",
       "         [9.96206999e-01, 3.79297254e-03]],\n",
       " \n",
       "        [[9.99979138e-01, 2.08879228e-05],\n",
       "         [9.99978065e-01, 2.18931509e-05],\n",
       "         [1.18413782e-05, 9.99988198e-01],\n",
       "         [1.13269307e-05, 9.99988675e-01],\n",
       "         [9.99964952e-01, 3.50276969e-05],\n",
       "         [9.99936223e-01, 6.37355915e-05],\n",
       "         [2.68950965e-03, 9.97310519e-01],\n",
       "         [7.13987112e-01, 2.86012918e-01],\n",
       "         [9.91418719e-01, 8.58133100e-03],\n",
       "         [9.92011130e-01, 7.98885245e-03],\n",
       "         [9.84474301e-01, 1.55256800e-02],\n",
       "         [9.94303584e-01, 5.69647411e-03],\n",
       "         [9.91674364e-01, 8.32561497e-03],\n",
       "         [9.83861506e-01, 1.61384661e-02],\n",
       "         [9.64184403e-01, 3.58155966e-02],\n",
       "         [9.75981951e-01, 2.40180716e-02],\n",
       "         [9.73504126e-01, 2.64958423e-02],\n",
       "         [9.82213914e-01, 1.77860782e-02],\n",
       "         [7.61900425e-01, 2.38099605e-01],\n",
       "         [9.82358873e-01, 1.76411588e-02],\n",
       "         [9.90681648e-01, 9.31831542e-03],\n",
       "         [9.74708796e-01, 2.52912100e-02],\n",
       "         [9.84267294e-01, 1.57327298e-02],\n",
       "         [9.19825971e-01, 8.01739991e-02],\n",
       "         [9.79059458e-01, 2.09405702e-02],\n",
       "         [8.96205187e-01, 1.03794746e-01],\n",
       "         [9.58132029e-01, 4.18679491e-02],\n",
       "         [9.98291910e-01, 1.70811301e-03],\n",
       "         [9.96822834e-01, 3.17720440e-03],\n",
       "         [9.84992027e-01, 1.50079150e-02],\n",
       "         [8.83505762e-01, 1.16494231e-01],\n",
       "         [9.76053953e-01, 2.39460021e-02],\n",
       "         [9.42967653e-01, 5.70324101e-02],\n",
       "         [9.57985878e-01, 4.20141406e-02],\n",
       "         [8.80862176e-01, 1.19137861e-01],\n",
       "         [9.88342106e-01, 1.16579048e-02],\n",
       "         [9.41479027e-01, 5.85209876e-02],\n",
       "         [8.15587580e-01, 1.84412360e-01],\n",
       "         [8.97521734e-01, 1.02478281e-01],\n",
       "         [8.92147541e-01, 1.07852511e-01],\n",
       "         [9.74905550e-01, 2.50945017e-02],\n",
       "         [9.70786273e-01, 2.92136800e-02],\n",
       "         [9.29032087e-01, 7.09679350e-02],\n",
       "         [9.93830919e-01, 6.16903836e-03],\n",
       "         [9.95469809e-01, 4.53014951e-03],\n",
       "         [9.34275329e-01, 6.57246038e-02],\n",
       "         [9.75933969e-01, 2.40661129e-02],\n",
       "         [8.48010004e-01, 1.51990056e-01],\n",
       "         [9.84639406e-01, 1.53605957e-02],\n",
       "         [8.05100620e-01, 1.94899440e-01],\n",
       "         [9.75674212e-01, 2.43257172e-02],\n",
       "         [9.82698917e-01, 1.73010509e-02],\n",
       "         [9.88729000e-01, 1.12710577e-02],\n",
       "         [9.90311503e-01, 9.68845747e-03],\n",
       "         [9.59285676e-01, 4.07143682e-02],\n",
       "         [9.62110400e-01, 3.78896110e-02],\n",
       "         [8.92851174e-01, 1.07148834e-01],\n",
       "         [9.62619364e-01, 3.73806246e-02],\n",
       "         [9.76578951e-01, 2.34211124e-02],\n",
       "         [9.87858057e-01, 1.21419989e-02],\n",
       "         [9.70683396e-01, 2.93165725e-02],\n",
       "         [9.36714828e-01, 6.32851943e-02],\n",
       "         [9.58008528e-01, 4.19914722e-02],\n",
       "         [9.81442511e-01, 1.85574573e-02],\n",
       "         [9.94678259e-01, 5.32180350e-03],\n",
       "         [8.23551297e-01, 1.76448643e-01],\n",
       "         [6.57436788e-01, 3.42563212e-01],\n",
       "         [9.39438045e-01, 6.05619103e-02],\n",
       "         [9.90107536e-01, 9.89242923e-03],\n",
       "         [9.39423263e-01, 6.05767965e-02],\n",
       "         [9.97128308e-01, 2.87169917e-03],\n",
       "         [8.54313076e-01, 1.45686910e-01],\n",
       "         [9.67489064e-01, 3.25109884e-02],\n",
       "         [9.14662063e-01, 8.53379369e-02],\n",
       "         [9.71571207e-01, 2.84287483e-02],\n",
       "         [9.88681316e-01, 1.13186827e-02],\n",
       "         [8.43874454e-01, 1.56125531e-01],\n",
       "         [9.85044777e-01, 1.49552040e-02],\n",
       "         [9.03763711e-01, 9.62362736e-02],\n",
       "         [9.49026525e-01, 5.09734266e-02],\n",
       "         [8.31424057e-01, 1.68575928e-01],\n",
       "         [8.94508719e-01, 1.05491251e-01],\n",
       "         [9.72851574e-01, 2.71484181e-02],\n",
       "         [8.28120172e-01, 1.71879798e-01],\n",
       "         [9.67648625e-01, 3.23513746e-02],\n",
       "         [6.25995040e-01, 3.74004900e-01],\n",
       "         [9.72685933e-01, 2.73141041e-02],\n",
       "         [9.70614314e-01, 2.93856803e-02],\n",
       "         [9.88514960e-01, 1.14851138e-02],\n",
       "         [9.77961659e-01, 2.20383890e-02],\n",
       "         [8.71910453e-01, 1.28089562e-01],\n",
       "         [9.63371098e-01, 3.66288647e-02],\n",
       "         [9.40416038e-01, 5.95839173e-02],\n",
       "         [9.83427942e-01, 1.65720191e-02],\n",
       "         [9.82518017e-01, 1.74819585e-02],\n",
       "         [9.84796762e-01, 1.52032133e-02],\n",
       "         [9.96657252e-01, 3.34274792e-03],\n",
       "         [8.97880435e-01, 1.02119550e-01],\n",
       "         [9.91987228e-01, 8.01278278e-03],\n",
       "         [8.61738503e-01, 1.38261482e-01],\n",
       "         [3.47530901e-01, 6.52469099e-01],\n",
       "         [9.92320597e-01, 7.67941307e-03],\n",
       "         [9.83806133e-01, 1.61938909e-02],\n",
       "         [9.47581887e-01, 5.24181500e-02],\n",
       "         [9.62923348e-01, 3.70766222e-02],\n",
       "         [9.90815282e-01, 9.18468554e-03],\n",
       "         [9.97793913e-01, 2.20614788e-03],\n",
       "         [9.42831755e-01, 5.71682937e-02],\n",
       "         [9.97433007e-01, 2.56699510e-03],\n",
       "         [9.57077920e-01, 4.29221131e-02],\n",
       "         [9.74017978e-01, 2.59820558e-02],\n",
       "         [9.17207241e-01, 8.27927440e-02],\n",
       "         [9.53140676e-01, 4.68593985e-02],\n",
       "         [9.94116902e-01, 5.88306459e-03],\n",
       "         [9.40084696e-01, 5.99153116e-02],\n",
       "         [9.60778296e-01, 3.92216928e-02],\n",
       "         [9.87009108e-01, 1.29908584e-02],\n",
       "         [9.29597735e-01, 7.04022869e-02],\n",
       "         [9.94955838e-01, 5.04420837e-03],\n",
       "         [8.97526085e-01, 1.02473892e-01],\n",
       "         [9.99562442e-01, 4.37501410e-04],\n",
       "         [9.69368994e-01, 3.06309871e-02],\n",
       "         [9.92817640e-01, 7.18231965e-03],\n",
       "         [9.89923894e-01, 1.00761708e-02],\n",
       "         [9.98235464e-01, 1.76451087e-03],\n",
       "         [9.76085424e-01, 2.39145402e-02],\n",
       "         [9.89035547e-01, 1.09644784e-02],\n",
       "         [9.94693696e-01, 5.30629000e-03]]], dtype=float32)}"
      ]
     },
     "execution_count": 5,
     "metadata": {},
     "output_type": "execute_result"
    }
   ],
   "source": [
    "model.predict(X_tokenized=X_tokenized)"
   ]
  },
  {
   "cell_type": "markdown",
   "id": "fundamental-poverty",
   "metadata": {},
   "source": [
    "# 评分"
   ]
  },
  {
   "cell_type": "code",
   "execution_count": 6,
   "id": "accessory-lesbian",
   "metadata": {},
   "outputs": [
    {
     "name": "stdout",
     "output_type": "stream",
     "text": [
      "INFO:tensorflow:Running scoring on 2 samples\n",
      "INFO:tensorflow:process 100.0%, 4.18 examples/sec\n"
     ]
    },
    {
     "data": {
      "text/plain": [
       "{'accuracy': 1.0, 'loss': 2.175818e-05}"
      ]
     },
     "execution_count": 6,
     "metadata": {},
     "output_type": "execute_result"
    }
   ],
   "source": [
    "model.score(X_tokenized=X_tokenized, y=y)"
   ]
  }
 ],
 "metadata": {
  "kernelspec": {
   "display_name": "Python 3.9.13 64-bit",
   "language": "python",
   "name": "python3"
  },
  "language_info": {
   "codemirror_mode": {
    "name": "ipython",
    "version": 3
   },
   "file_extension": ".py",
   "mimetype": "text/x-python",
   "name": "python",
   "nbconvert_exporter": "python",
   "pygments_lexer": "ipython3",
   "version": "3.9.13"
  },
  "vscode": {
   "interpreter": {
    "hash": "265fd6f62f200408acbbeae0248f34bed9f93569a643842b7a25d2cd76cae5e5"
   }
  }
 },
 "nbformat": 4,
 "nbformat_minor": 5
}
