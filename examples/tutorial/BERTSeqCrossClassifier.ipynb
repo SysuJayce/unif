{
 "cells": [
  {
   "cell_type": "markdown",
   "id": "seasonal-separate",
   "metadata": {},
   "source": [
    "# BERTSeqCrossClassifier\n",
    "\n",
    "可用的中文预训练参数：[`bert-base`](https://storage.googleapis.com/bert_models/2018_11_03/chinese_L-12_H-768_A-12.zip),[`roberta-wwm-ext-base`](https://drive.google.com/uc?export=download&id=1jMAKIJmPn7kADgD3yQZhpsqM-IRM1qZt),[`roberta-wwm-ext-large`](https://drive.google.com/uc?export=download&id=1dtad0FFzG11CBsawu8hvwwzU2R0FDI94),[`macbert-base`](https://drive.google.com/uc?export=download&id=1aV69OhYzIwj_hn-kO1RiBa-m8QAusQ5b),[`macbert-large`](https://drive.google.com/uc?export=download&id=1lWYxnk1EqTA2Q20_IShxBrCPc5VSDCkT)"
   ]
  },
  {
   "cell_type": "code",
   "execution_count": 1,
   "id": "traditional-girlfriend",
   "metadata": {},
   "outputs": [
    {
     "name": "stdout",
     "output_type": "stream",
     "text": [
      "v2.5.0\n"
     ]
    }
   ],
   "source": [
    "import uf\n",
    "\n",
    "print(uf.__version__)"
   ]
  },
  {
   "cell_type": "code",
   "execution_count": 2,
   "id": "affected-titanium",
   "metadata": {},
   "outputs": [
    {
     "name": "stdout",
     "output_type": "stream",
     "text": [
      "uf.BERTSeqCrossClassifier(\n",
      "    config_file=\"../../ref/bert_config.json\",\n",
      "    vocab_file=\"../../ref/vocab.txt\",\n",
      "    max_seq_length=128,\n",
      "    seq_cls_label_size=None,\n",
      "    cls_label_size=None,\n",
      "    init_checkpoint=None,\n",
      "    output_dir=None,\n",
      "    gpu_ids=None,\n",
      "    do_lower_case=True,\n",
      "    truncate_method=\"LIFO\",\n",
      ")\n"
     ]
    }
   ],
   "source": [
    "model = uf.BERTSeqCrossClassifier(\"../../ref/bert_config.json\", \"../../ref/vocab.txt\")\n",
    "print(model)"
   ]
  },
  {
   "cell_type": "code",
   "execution_count": 3,
   "id": "joint-scroll",
   "metadata": {},
   "outputs": [],
   "source": [
    "X_tokenized = [[\"天\", \"亮\", \"以\", \"前\", \"说\", \"再\", \"见\"], [\"笑\", \"着\", \"泪\", \"流\", \"满\", \"面\"]]\n",
    "y = [{\"seq_cls\": [0, 0, 0, 0, 0, 1, 1], \"cls\": 0}, {\"seq_cls\": [0, 0, 1, 1, 0, 0], \"cls\": 1}]"
   ]
  },
  {
   "cell_type": "markdown",
   "id": "requested-insert",
   "metadata": {},
   "source": [
    "# 训练"
   ]
  },
  {
   "cell_type": "code",
   "execution_count": 4,
   "id": "usual-disposition",
   "metadata": {},
   "outputs": [
    {
     "name": "stdout",
     "output_type": "stream",
     "text": [
      "WARNING:tensorflow:From c:\\Users\\Luv_d\\AppData\\Local\\Programs\\Python\\Python39\\lib\\site-packages\\tensorflow\\python\\util\\dispatch.py:1176: calling dropout (from tensorflow.python.ops.nn_ops) with keep_prob is deprecated and will be removed in a future version.\n",
      "Instructions for updating:\n",
      "Please use `rate` instead of `keep_prob`. Rate should be set to `rate = 1 - keep_prob`.\n"
     ]
    },
    {
     "name": "stderr",
     "output_type": "stream",
     "text": [
      "c:\\Users\\Luv_d\\AppData\\Local\\Programs\\Python\\Python39\\lib\\site-packages\\uf-2.5.0-py3.9.egg\\uf\\apps\\bert\\bert.py:272: UserWarning: `tf.layers.dense` is deprecated and will be removed in a future version. Please use `tf.keras.layers.Dense` instead.\n",
      "  query_layer = tf.layers.dense(\n",
      "c:\\Users\\Luv_d\\AppData\\Local\\Programs\\Python\\Python39\\lib\\site-packages\\uf-2.5.0-py3.9.egg\\uf\\apps\\bert\\bert.py:282: UserWarning: `tf.layers.dense` is deprecated and will be removed in a future version. Please use `tf.keras.layers.Dense` instead.\n",
      "  key_layer = tf.layers.dense(\n",
      "c:\\Users\\Luv_d\\AppData\\Local\\Programs\\Python\\Python39\\lib\\site-packages\\uf-2.5.0-py3.9.egg\\uf\\apps\\bert\\bert.py:292: UserWarning: `tf.layers.dense` is deprecated and will be removed in a future version. Please use `tf.keras.layers.Dense` instead.\n",
      "  value_layer = tf.layers.dense(\n",
      "c:\\Users\\Luv_d\\AppData\\Local\\Programs\\Python\\Python39\\lib\\site-packages\\uf-2.5.0-py3.9.egg\\uf\\apps\\bert\\bert.py:416: UserWarning: `tf.layers.dense` is deprecated and will be removed in a future version. Please use `tf.keras.layers.Dense` instead.\n",
      "  attention_output = tf.layers.dense(\n",
      "c:\\Users\\Luv_d\\AppData\\Local\\Programs\\Python\\Python39\\lib\\site-packages\\uf-2.5.0-py3.9.egg\\uf\\apps\\bert\\bert.py:428: UserWarning: `tf.layers.dense` is deprecated and will be removed in a future version. Please use `tf.keras.layers.Dense` instead.\n",
      "  intermediate_output = tf.layers.dense(\n",
      "c:\\Users\\Luv_d\\AppData\\Local\\Programs\\Python\\Python39\\lib\\site-packages\\uf-2.5.0-py3.9.egg\\uf\\apps\\bert\\bert.py:438: UserWarning: `tf.layers.dense` is deprecated and will be removed in a future version. Please use `tf.keras.layers.Dense` instead.\n",
      "  layer_output = tf.layers.dense(\n",
      "c:\\Users\\Luv_d\\AppData\\Local\\Programs\\Python\\Python39\\lib\\site-packages\\uf-2.5.0-py3.9.egg\\uf\\apps\\bert\\bert.py:107: UserWarning: `tf.layers.dense` is deprecated and will be removed in a future version. Please use `tf.keras.layers.Dense` instead.\n",
      "  self.pooled_output = tf.layers.dense(\n"
     ]
    },
    {
     "name": "stdout",
     "output_type": "stream",
     "text": [
      "INFO:tensorflow:Build graph with 305,630,988 parameters (among which 102,270,724 are trainable)\n",
      "INFO:tensorflow:Running local_init_op\n",
      "INFO:tensorflow:Done running local_init_op\n",
      "INFO:tensorflow:Running training on 2 samples (step 0 -> 20)\n",
      "INFO:tensorflow:step 1, seq_cls_accuracy 0.5385, cls_accuracy 0.5000, seq_cls_loss 0.745165, cls_loss 0.664640, 0.19 steps/sec, 0.37 examples/sec\n",
      "INFO:tensorflow:step 2, seq_cls_accuracy 0.4615, cls_accuracy 0.5000, seq_cls_loss 0.719070, cls_loss 0.564944, 0.86 steps/sec, 1.72 examples/sec\n",
      "INFO:tensorflow:step 3, seq_cls_accuracy 0.6923, cls_accuracy 0.5000, seq_cls_loss 0.694215, cls_loss 1.117953, 0.89 steps/sec, 1.77 examples/sec\n",
      "INFO:tensorflow:step 4, seq_cls_accuracy 0.6923, cls_accuracy 1.0000, seq_cls_loss 0.639042, cls_loss 0.330452, 0.92 steps/sec, 1.84 examples/sec\n",
      "INFO:tensorflow:step 5, seq_cls_accuracy 0.9231, cls_accuracy 1.0000, seq_cls_loss 0.189928, cls_loss 0.214166, 0.90 steps/sec, 1.79 examples/sec\n",
      "INFO:tensorflow:step 6, seq_cls_accuracy 0.7692, cls_accuracy 1.0000, seq_cls_loss 0.409773, cls_loss 0.129196, 0.91 steps/sec, 1.82 examples/sec\n",
      "INFO:tensorflow:step 7, seq_cls_accuracy 0.8462, cls_accuracy 1.0000, seq_cls_loss 0.249177, cls_loss 0.025282, 0.93 steps/sec, 1.87 examples/sec\n",
      "INFO:tensorflow:step 8, seq_cls_accuracy 1.0000, cls_accuracy 1.0000, seq_cls_loss 0.045387, cls_loss 0.010385, 0.93 steps/sec, 1.85 examples/sec\n",
      "INFO:tensorflow:step 9, seq_cls_accuracy 1.0000, cls_accuracy 1.0000, seq_cls_loss 0.063216, cls_loss 0.008630, 0.93 steps/sec, 1.87 examples/sec\n",
      "INFO:tensorflow:step 10, seq_cls_accuracy 1.0000, cls_accuracy 1.0000, seq_cls_loss 0.022884, cls_loss 0.002341, 0.96 steps/sec, 1.92 examples/sec\n",
      "INFO:tensorflow:step 11, seq_cls_accuracy 1.0000, cls_accuracy 1.0000, seq_cls_loss 0.008018, cls_loss 0.000984, 0.98 steps/sec, 1.97 examples/sec\n",
      "INFO:tensorflow:step 12, seq_cls_accuracy 1.0000, cls_accuracy 1.0000, seq_cls_loss 0.001813, cls_loss 0.000297, 0.91 steps/sec, 1.81 examples/sec\n",
      "INFO:tensorflow:step 13, seq_cls_accuracy 1.0000, cls_accuracy 1.0000, seq_cls_loss 0.001695, cls_loss 0.000185, 0.84 steps/sec, 1.68 examples/sec\n",
      "INFO:tensorflow:step 14, seq_cls_accuracy 1.0000, cls_accuracy 1.0000, seq_cls_loss 0.001914, cls_loss 0.000128, 0.80 steps/sec, 1.60 examples/sec\n",
      "INFO:tensorflow:step 15, seq_cls_accuracy 1.0000, cls_accuracy 1.0000, seq_cls_loss 0.002077, cls_loss 0.000076, 0.78 steps/sec, 1.55 examples/sec\n",
      "INFO:tensorflow:step 16, seq_cls_accuracy 1.0000, cls_accuracy 1.0000, seq_cls_loss 0.001418, cls_loss 0.000085, 0.82 steps/sec, 1.63 examples/sec\n",
      "INFO:tensorflow:step 17, seq_cls_accuracy 1.0000, cls_accuracy 1.0000, seq_cls_loss 0.001869, cls_loss 0.000077, 0.82 steps/sec, 1.64 examples/sec\n",
      "INFO:tensorflow:step 18, seq_cls_accuracy 1.0000, cls_accuracy 1.0000, seq_cls_loss 0.001055, cls_loss 0.000089, 0.84 steps/sec, 1.68 examples/sec\n",
      "INFO:tensorflow:step 19, seq_cls_accuracy 1.0000, cls_accuracy 1.0000, seq_cls_loss 0.001610, cls_loss 0.000070, 0.85 steps/sec, 1.69 examples/sec\n",
      "INFO:tensorflow:step 20, seq_cls_accuracy 1.0000, cls_accuracy 1.0000, seq_cls_loss 0.000799, cls_loss 0.000099, 0.83 steps/sec, 1.66 examples/sec\n"
     ]
    }
   ],
   "source": [
    "model.fit(X_tokenized=X_tokenized, y=y, total_steps=20)"
   ]
  },
  {
   "cell_type": "markdown",
   "id": "prescription-longitude",
   "metadata": {},
   "source": [
    "# 推理"
   ]
  },
  {
   "cell_type": "code",
   "execution_count": 5,
   "id": "widespread-default",
   "metadata": {},
   "outputs": [
    {
     "name": "stdout",
     "output_type": "stream",
     "text": [
      "INFO:tensorflow:Running inference on 2 samples\n",
      "INFO:tensorflow:process 100.0%, 2.70 examples/sec\n"
     ]
    },
    {
     "data": {
      "text/plain": [
       "{'seq_cls_preds': [[0, 0, 0, 0, 0, 1, 1], [0, 0, 1, 1, 0, 0]],\n",
       " 'seq_cls_probs': array([[[2.30952024e-01, 7.69048035e-01],\n",
       "         [9.99580562e-01, 4.19440737e-04],\n",
       "         [9.99800742e-01, 1.99235743e-04],\n",
       "         [9.98527527e-01, 1.47250365e-03],\n",
       "         [9.99541640e-01, 4.58429160e-04],\n",
       "         [9.99447167e-01, 5.52823476e-04],\n",
       "         [8.72245710e-06, 9.99991298e-01],\n",
       "         [1.00246243e-05, 9.99989986e-01],\n",
       "         [8.46428871e-01, 1.53571114e-01],\n",
       "         [9.65056598e-01, 3.49433646e-02],\n",
       "         [9.62389588e-01, 3.76104824e-02],\n",
       "         [8.91843140e-01, 1.08156867e-01],\n",
       "         [9.81059611e-01, 1.89403929e-02],\n",
       "         [9.23758984e-01, 7.62409940e-02],\n",
       "         [7.44577825e-01, 2.55422175e-01],\n",
       "         [6.25546157e-01, 3.74453783e-01],\n",
       "         [5.15537381e-01, 4.84462559e-01],\n",
       "         [9.53281999e-01, 4.67180163e-02],\n",
       "         [8.00683320e-01, 1.99316621e-01],\n",
       "         [8.97485614e-01, 1.02514379e-01],\n",
       "         [7.38515317e-01, 2.61484683e-01],\n",
       "         [6.51315928e-01, 3.48684013e-01],\n",
       "         [9.15489495e-01, 8.45105574e-02],\n",
       "         [8.78759086e-01, 1.21240869e-01],\n",
       "         [6.28705084e-01, 3.71294975e-01],\n",
       "         [8.03141356e-01, 1.96858719e-01],\n",
       "         [7.73951113e-01, 2.26048872e-01],\n",
       "         [6.31874979e-01, 3.68125051e-01],\n",
       "         [3.24976712e-01, 6.75023258e-01],\n",
       "         [6.56072140e-01, 3.43927801e-01],\n",
       "         [9.63920295e-01, 3.60797420e-02],\n",
       "         [6.27593935e-01, 3.72406095e-01],\n",
       "         [6.00128829e-01, 3.99871141e-01],\n",
       "         [8.04679632e-01, 1.95320427e-01],\n",
       "         [7.05410957e-01, 2.94589072e-01],\n",
       "         [8.16288292e-01, 1.83711648e-01],\n",
       "         [3.07602137e-01, 6.92397892e-01],\n",
       "         [3.72044176e-01, 6.27955794e-01],\n",
       "         [4.17824507e-01, 5.82175434e-01],\n",
       "         [5.56351781e-01, 4.43648219e-01],\n",
       "         [7.49347448e-01, 2.50652581e-01],\n",
       "         [9.73943114e-01, 2.60568727e-02],\n",
       "         [8.27594817e-01, 1.72405124e-01],\n",
       "         [9.51565981e-01, 4.84340601e-02],\n",
       "         [7.89226234e-01, 2.10773781e-01],\n",
       "         [7.00419664e-01, 2.99580336e-01],\n",
       "         [5.10822356e-01, 4.89177704e-01],\n",
       "         [1.35176405e-01, 8.64823580e-01],\n",
       "         [7.50434935e-01, 2.49565020e-01],\n",
       "         [9.09231901e-01, 9.07680690e-02],\n",
       "         [8.92044127e-01, 1.07955873e-01],\n",
       "         [8.92700553e-01, 1.07299462e-01],\n",
       "         [4.24425960e-01, 5.75574040e-01],\n",
       "         [9.16019917e-01, 8.39800388e-02],\n",
       "         [7.45572269e-01, 2.54427731e-01],\n",
       "         [9.74672198e-01, 2.53277924e-02],\n",
       "         [3.69880378e-01, 6.30119681e-01],\n",
       "         [9.69895422e-01, 3.01046278e-02],\n",
       "         [8.51822972e-01, 1.48177013e-01],\n",
       "         [8.96300793e-01, 1.03699178e-01],\n",
       "         [5.31615913e-01, 4.68384057e-01],\n",
       "         [7.66259730e-01, 2.33740255e-01],\n",
       "         [3.78114581e-01, 6.21885419e-01],\n",
       "         [9.76861179e-01, 2.31388528e-02],\n",
       "         [5.11878490e-01, 4.88121599e-01],\n",
       "         [1.68901429e-01, 8.31098616e-01],\n",
       "         [7.72503674e-01, 2.27496311e-01],\n",
       "         [5.03558695e-01, 4.96441334e-01],\n",
       "         [9.67644513e-01, 3.23555358e-02],\n",
       "         [8.88306916e-01, 1.11693099e-01],\n",
       "         [6.16531372e-01, 3.83468598e-01],\n",
       "         [5.65030158e-01, 4.34969872e-01],\n",
       "         [9.11341310e-01, 8.86586234e-02],\n",
       "         [7.06820250e-01, 2.93179721e-01],\n",
       "         [9.33673382e-01, 6.63266256e-02],\n",
       "         [8.31919670e-01, 1.68080360e-01],\n",
       "         [7.12434351e-01, 2.87565649e-01],\n",
       "         [8.24286997e-01, 1.75712988e-01],\n",
       "         [7.01602161e-01, 2.98397869e-01],\n",
       "         [1.65389165e-01, 8.34610820e-01],\n",
       "         [3.75694543e-01, 6.24305427e-01],\n",
       "         [4.15957063e-01, 5.84042966e-01],\n",
       "         [5.02839923e-01, 4.97160137e-01],\n",
       "         [6.44856989e-01, 3.55143011e-01],\n",
       "         [8.48022223e-01, 1.51977748e-01],\n",
       "         [8.50193441e-01, 1.49806559e-01],\n",
       "         [9.17543769e-01, 8.24562535e-02],\n",
       "         [6.03613794e-01, 3.96386206e-01],\n",
       "         [7.00352728e-01, 2.99647212e-01],\n",
       "         [9.28127050e-01, 7.18729794e-02],\n",
       "         [8.69407356e-01, 1.30592644e-01],\n",
       "         [8.88238609e-01, 1.11761354e-01],\n",
       "         [4.44096208e-01, 5.55903792e-01],\n",
       "         [8.28953803e-01, 1.71046138e-01],\n",
       "         [1.65825039e-01, 8.34174991e-01],\n",
       "         [8.78761947e-01, 1.21238060e-01],\n",
       "         [4.79287386e-01, 5.20712674e-01],\n",
       "         [7.44461834e-01, 2.55538136e-01],\n",
       "         [4.30295587e-01, 5.69704413e-01],\n",
       "         [6.96781993e-01, 3.03217977e-01],\n",
       "         [7.23328590e-01, 2.76671380e-01],\n",
       "         [8.93541217e-01, 1.06458791e-01],\n",
       "         [2.82922447e-01, 7.17077553e-01],\n",
       "         [7.60488987e-01, 2.39510983e-01],\n",
       "         [8.80122364e-01, 1.19877674e-01],\n",
       "         [5.74475050e-01, 4.25524861e-01],\n",
       "         [9.82368171e-01, 1.76318474e-02],\n",
       "         [7.77246356e-01, 2.22753629e-01],\n",
       "         [9.91768837e-01, 8.23121238e-03],\n",
       "         [7.91747689e-01, 2.08252355e-01],\n",
       "         [8.46964836e-01, 1.53035223e-01],\n",
       "         [6.72866404e-01, 3.27133626e-01],\n",
       "         [8.04577589e-01, 1.95422366e-01],\n",
       "         [7.78414369e-01, 2.21585646e-01],\n",
       "         [7.80342937e-01, 2.19657034e-01],\n",
       "         [5.83460212e-01, 4.16539848e-01],\n",
       "         [6.30061448e-01, 3.69938493e-01],\n",
       "         [6.71770811e-01, 3.28229249e-01],\n",
       "         [8.60357761e-01, 1.39642254e-01],\n",
       "         [9.65288043e-01, 3.47119197e-02],\n",
       "         [7.27410316e-01, 2.72589624e-01],\n",
       "         [8.30731332e-01, 1.69268623e-01],\n",
       "         [5.63728511e-01, 4.36271459e-01],\n",
       "         [8.91424537e-01, 1.08575463e-01],\n",
       "         [9.51939046e-01, 4.80609573e-02],\n",
       "         [8.04954827e-01, 1.95045218e-01],\n",
       "         [9.26318526e-01, 7.36814365e-02],\n",
       "         [8.22290599e-01, 1.77709460e-01]],\n",
       " \n",
       "        [[1.07538633e-01, 8.92461300e-01],\n",
       "         [9.99298930e-01, 7.01057434e-04],\n",
       "         [9.99787867e-01, 2.12132785e-04],\n",
       "         [3.27085982e-05, 9.99967337e-01],\n",
       "         [2.65448107e-05, 9.99973416e-01],\n",
       "         [9.99816835e-01, 1.83182579e-04],\n",
       "         [9.98558104e-01, 1.44187827e-03],\n",
       "         [2.66466930e-04, 9.99733508e-01],\n",
       "         [7.71468103e-01, 2.28531852e-01],\n",
       "         [8.82165790e-01, 1.17834240e-01],\n",
       "         [8.73269081e-01, 1.26730889e-01],\n",
       "         [7.70989597e-01, 2.29010403e-01],\n",
       "         [9.48548079e-01, 5.14519177e-02],\n",
       "         [8.36538911e-01, 1.63461089e-01],\n",
       "         [5.24369597e-01, 4.75630343e-01],\n",
       "         [3.59352797e-01, 6.40647233e-01],\n",
       "         [3.01944852e-01, 6.98055148e-01],\n",
       "         [8.66551340e-01, 1.33448631e-01],\n",
       "         [6.06021523e-01, 3.93978536e-01],\n",
       "         [6.87566996e-01, 3.12433034e-01],\n",
       "         [4.61882859e-01, 5.38117111e-01],\n",
       "         [4.50619042e-01, 5.49380958e-01],\n",
       "         [7.16683030e-01, 2.83316940e-01],\n",
       "         [6.30612195e-01, 3.69387835e-01],\n",
       "         [4.38716263e-01, 5.61283767e-01],\n",
       "         [6.40250027e-01, 3.59749943e-01],\n",
       "         [6.04169667e-01, 3.95830333e-01],\n",
       "         [3.99376750e-01, 6.00623250e-01],\n",
       "         [1.39190912e-01, 8.60809088e-01],\n",
       "         [3.81547838e-01, 6.18452132e-01],\n",
       "         [9.42065895e-01, 5.79340495e-02],\n",
       "         [3.88682395e-01, 6.11317635e-01],\n",
       "         [3.94420743e-01, 6.05579257e-01],\n",
       "         [7.12412298e-01, 2.87587732e-01],\n",
       "         [4.98523891e-01, 5.01476109e-01],\n",
       "         [6.42913580e-01, 3.57086390e-01],\n",
       "         [1.73750728e-01, 8.26249242e-01],\n",
       "         [2.09761396e-01, 7.90238619e-01],\n",
       "         [2.28729337e-01, 7.71270633e-01],\n",
       "         [2.75478065e-01, 7.24521935e-01],\n",
       "         [4.63620991e-01, 5.36379039e-01],\n",
       "         [9.36464965e-01, 6.35349602e-02],\n",
       "         [6.74651325e-01, 3.25348645e-01],\n",
       "         [8.58379483e-01, 1.41620502e-01],\n",
       "         [5.60313344e-01, 4.39686686e-01],\n",
       "         [3.93589497e-01, 6.06410503e-01],\n",
       "         [3.16401213e-01, 6.83598816e-01],\n",
       "         [7.57607222e-02, 9.24239278e-01],\n",
       "         [5.35739005e-01, 4.64260966e-01],\n",
       "         [8.10566366e-01, 1.89433664e-01],\n",
       "         [7.59670615e-01, 2.40329415e-01],\n",
       "         [7.39046693e-01, 2.60953277e-01],\n",
       "         [1.93405405e-01, 8.06594610e-01],\n",
       "         [7.95833349e-01, 2.04166666e-01],\n",
       "         [3.90080899e-01, 6.09919131e-01],\n",
       "         [9.31580126e-01, 6.84198886e-02],\n",
       "         [2.29725704e-01, 7.70274341e-01],\n",
       "         [8.89788270e-01, 1.10211708e-01],\n",
       "         [6.45753741e-01, 3.54246229e-01],\n",
       "         [7.73334324e-01, 2.26665646e-01],\n",
       "         [3.92060667e-01, 6.07939422e-01],\n",
       "         [6.18535280e-01, 3.81464750e-01],\n",
       "         [1.52982056e-01, 8.47017944e-01],\n",
       "         [9.19106543e-01, 8.08934271e-02],\n",
       "         [3.07802141e-01, 6.92197859e-01],\n",
       "         [1.03045978e-01, 8.96954000e-01],\n",
       "         [5.39545476e-01, 4.60454464e-01],\n",
       "         [3.38279784e-01, 6.61720276e-01],\n",
       "         [9.22646821e-01, 7.73531944e-02],\n",
       "         [8.01454604e-01, 1.98545381e-01],\n",
       "         [3.55191439e-01, 6.44808590e-01],\n",
       "         [3.09412479e-01, 6.90587521e-01],\n",
       "         [7.76189327e-01, 2.23810688e-01],\n",
       "         [4.58212972e-01, 5.41787028e-01],\n",
       "         [8.59083176e-01, 1.40916839e-01],\n",
       "         [6.91820443e-01, 3.08179498e-01],\n",
       "         [5.54497838e-01, 4.45502162e-01],\n",
       "         [6.47478640e-01, 3.52521360e-01],\n",
       "         [4.87692982e-01, 5.12307048e-01],\n",
       "         [8.58294144e-02, 9.14170563e-01],\n",
       "         [2.14324772e-01, 7.85675228e-01],\n",
       "         [2.75198966e-01, 7.24801064e-01],\n",
       "         [2.62895614e-01, 7.37104416e-01],\n",
       "         [4.15657341e-01, 5.84342659e-01],\n",
       "         [6.45745039e-01, 3.54254961e-01],\n",
       "         [6.82091355e-01, 3.17908645e-01],\n",
       "         [7.86013782e-01, 2.13986248e-01],\n",
       "         [2.97063649e-01, 7.02936411e-01],\n",
       "         [4.94862765e-01, 5.05137265e-01],\n",
       "         [8.35873663e-01, 1.64126351e-01],\n",
       "         [7.22566724e-01, 2.77433336e-01],\n",
       "         [8.09071720e-01, 1.90928251e-01],\n",
       "         [1.62082747e-01, 8.37917209e-01],\n",
       "         [7.10615993e-01, 2.89384007e-01],\n",
       "         [9.60371867e-02, 9.03962851e-01],\n",
       "         [6.99329376e-01, 3.00670713e-01],\n",
       "         [2.21568570e-01, 7.78431475e-01],\n",
       "         [4.66691226e-01, 5.33308804e-01],\n",
       "         [2.20031112e-01, 7.79968917e-01],\n",
       "         [4.63624597e-01, 5.36375403e-01],\n",
       "         [5.20501554e-01, 4.79498446e-01],\n",
       "         [7.23367035e-01, 2.76632994e-01],\n",
       "         [1.71743408e-01, 8.28256547e-01],\n",
       "         [5.66223979e-01, 4.33776051e-01],\n",
       "         [7.60956228e-01, 2.39043772e-01],\n",
       "         [2.93999135e-01, 7.06000865e-01],\n",
       "         [9.36816394e-01, 6.31836504e-02],\n",
       "         [6.97805405e-01, 3.02194566e-01],\n",
       "         [9.68606412e-01, 3.13935392e-02],\n",
       "         [6.55518234e-01, 3.44481736e-01],\n",
       "         [6.49406374e-01, 3.50593597e-01],\n",
       "         [4.03068721e-01, 5.96931279e-01],\n",
       "         [5.91750145e-01, 4.08249855e-01],\n",
       "         [6.90329194e-01, 3.09670776e-01],\n",
       "         [6.18924975e-01, 3.81075114e-01],\n",
       "         [4.33445096e-01, 5.66554904e-01],\n",
       "         [4.58628029e-01, 5.41371942e-01],\n",
       "         [4.69502211e-01, 5.30497730e-01],\n",
       "         [6.34997606e-01, 3.65002394e-01],\n",
       "         [9.20066893e-01, 7.99330622e-02],\n",
       "         [5.21131873e-01, 4.78868067e-01],\n",
       "         [6.92949653e-01, 3.07050377e-01],\n",
       "         [3.24678391e-01, 6.75321639e-01],\n",
       "         [7.50493586e-01, 2.49506444e-01],\n",
       "         [8.93830121e-01, 1.06169932e-01],\n",
       "         [6.78678095e-01, 3.21321934e-01],\n",
       "         [8.05341363e-01, 1.94658592e-01],\n",
       "         [6.11286700e-01, 3.88713300e-01]]], dtype=float32),\n",
       " 'cls_preds': [0, 1],\n",
       " 'cls_probs': array([[9.9994838e-01, 5.1620798e-05],\n",
       "        [1.2697634e-05, 9.9998724e-01]], dtype=float32)}"
      ]
     },
     "execution_count": 5,
     "metadata": {},
     "output_type": "execute_result"
    }
   ],
   "source": [
    "model.predict(X_tokenized=X_tokenized)"
   ]
  },
  {
   "cell_type": "markdown",
   "id": "institutional-zealand",
   "metadata": {},
   "source": [
    "# 评分"
   ]
  },
  {
   "cell_type": "code",
   "execution_count": 6,
   "id": "arbitrary-pakistan",
   "metadata": {},
   "outputs": [
    {
     "name": "stdout",
     "output_type": "stream",
     "text": [
      "INFO:tensorflow:Running scoring on 2 samples\n",
      "INFO:tensorflow:process 100.0%, 2.21 examples/sec\n"
     ]
    },
    {
     "data": {
      "text/plain": [
       "{'seq_cls_accuracy': 1.0,\n",
       " 'cls_accuracy': 1.0,\n",
       " 'seq_cls_loss': 0.00043961115,\n",
       " 'cls_loss': 3.2185802e-05}"
      ]
     },
     "execution_count": 6,
     "metadata": {},
     "output_type": "execute_result"
    }
   ],
   "source": [
    "model.score(X_tokenized=X_tokenized, y=y)"
   ]
  }
 ],
 "metadata": {
  "kernelspec": {
   "display_name": "Python 3.9.13 64-bit",
   "language": "python",
   "name": "python3"
  },
  "language_info": {
   "codemirror_mode": {
    "name": "ipython",
    "version": 3
   },
   "file_extension": ".py",
   "mimetype": "text/x-python",
   "name": "python",
   "nbconvert_exporter": "python",
   "pygments_lexer": "ipython3",
   "version": "3.9.13"
  },
  "vscode": {
   "interpreter": {
    "hash": "265fd6f62f200408acbbeae0248f34bed9f93569a643842b7a25d2cd76cae5e5"
   }
  }
 },
 "nbformat": 4,
 "nbformat_minor": 5
}
