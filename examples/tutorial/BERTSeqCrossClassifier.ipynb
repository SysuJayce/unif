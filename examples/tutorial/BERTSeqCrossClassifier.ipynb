{
 "cells": [
  {
   "cell_type": "markdown",
   "id": "seasonal-separate",
   "metadata": {},
   "source": [
    "# BERTSeqCrossClassifier\n",
    "\n",
    "可用的中文预训练参数：[`bert-base`](https://storage.googleapis.com/bert_models/2018_11_03/chinese_L-12_H-768_A-12.zip),[`roberta-wwm-ext-base`](https://drive.google.com/uc?export=download&id=1jMAKIJmPn7kADgD3yQZhpsqM-IRM1qZt),[`roberta-wwm-ext-large`](https://drive.google.com/uc?export=download&id=1dtad0FFzG11CBsawu8hvwwzU2R0FDI94),[`macbert-base`](https://drive.google.com/uc?export=download&id=1aV69OhYzIwj_hn-kO1RiBa-m8QAusQ5b),[`macbert-large`](https://drive.google.com/uc?export=download&id=1lWYxnk1EqTA2Q20_IShxBrCPc5VSDCkT)"
   ]
  },
  {
   "cell_type": "code",
   "execution_count": 1,
   "id": "traditional-girlfriend",
   "metadata": {},
   "outputs": [
    {
     "name": "stdout",
     "output_type": "stream",
     "text": [
      "v2.4.7\n"
     ]
    }
   ],
   "source": [
    "import uf\n",
    "\n",
    "print(uf.__version__)"
   ]
  },
  {
   "cell_type": "code",
   "execution_count": 2,
   "id": "affected-titanium",
   "metadata": {},
   "outputs": [
    {
     "name": "stdout",
     "output_type": "stream",
     "text": [
      "uf.BERTSeqCrossClassifier(\n",
      "    config_file=\"../../demo/bert_config.json\",\n",
      "    vocab_file=\"../../demo/vocab.txt\",\n",
      "    max_seq_length=128,\n",
      "    seq_cls_label_size=None,\n",
      "    cls_label_size=None,\n",
      "    init_checkpoint=None,\n",
      "    output_dir=None,\n",
      "    gpu_ids=None,\n",
      "    do_lower_case=True,\n",
      "    truncate_method=\"LIFO\",\n",
      ")\n"
     ]
    }
   ],
   "source": [
    "model = uf.BERTSeqCrossClassifier('../../demo/bert_config.json', '../../demo/vocab.txt')\n",
    "print(model)"
   ]
  },
  {
   "cell_type": "code",
   "execution_count": 3,
   "id": "joint-scroll",
   "metadata": {},
   "outputs": [],
   "source": [
    "X_tokenized = [['天', '亮', '以', '前', '说', '再', '见'], ['笑', '着', '泪', '流', '满', '面']]\n",
    "y = [{\"seq_cls\": [0, 0, 0, 0, 0, 1, 1], \"cls\": 0}, {\"seq_cls\": [0, 0, 1, 1, 0, 0], \"cls\": 1}]"
   ]
  },
  {
   "cell_type": "markdown",
   "id": "requested-insert",
   "metadata": {},
   "source": [
    "# 训练"
   ]
  },
  {
   "cell_type": "code",
   "execution_count": 4,
   "id": "usual-disposition",
   "metadata": {},
   "outputs": [
    {
     "name": "stdout",
     "output_type": "stream",
     "text": [
      "WARNING:tensorflow:From /Users/geyingli/Library/Python/3.8/lib/python/site-packages/tensorflow/python/util/dispatch.py:1096: calling dropout (from tensorflow.python.ops.nn_ops) with keep_prob is deprecated and will be removed in a future version.\n",
      "Instructions for updating:\n",
      "Please use `rate` instead of `keep_prob`. Rate should be set to `rate = 1 - keep_prob`.\n"
     ]
    },
    {
     "name": "stderr",
     "output_type": "stream",
     "text": [
      "/Users/geyingli/Library/Python/3.8/lib/python/site-packages/uf-2.4.7-py3.8.egg/uf/model/bert.py:272: UserWarning: `tf.layers.dense` is deprecated and will be removed in a future version. Please use `tf.keras.layers.Dense` instead.\n",
      "  query_layer = tf.layers.dense(\n",
      "/Users/geyingli/Library/Python/3.8/lib/python/site-packages/keras/legacy_tf_layers/core.py:255: UserWarning: `layer.apply` is deprecated and will be removed in a future version. Please use `layer.__call__` method instead.\n",
      "  return layer.apply(inputs)\n",
      "/Users/geyingli/Library/Python/3.8/lib/python/site-packages/uf-2.4.7-py3.8.egg/uf/model/bert.py:282: UserWarning: `tf.layers.dense` is deprecated and will be removed in a future version. Please use `tf.keras.layers.Dense` instead.\n",
      "  key_layer = tf.layers.dense(\n",
      "/Users/geyingli/Library/Python/3.8/lib/python/site-packages/uf-2.4.7-py3.8.egg/uf/model/bert.py:292: UserWarning: `tf.layers.dense` is deprecated and will be removed in a future version. Please use `tf.keras.layers.Dense` instead.\n",
      "  value_layer = tf.layers.dense(\n",
      "/Users/geyingli/Library/Python/3.8/lib/python/site-packages/uf-2.4.7-py3.8.egg/uf/model/bert.py:416: UserWarning: `tf.layers.dense` is deprecated and will be removed in a future version. Please use `tf.keras.layers.Dense` instead.\n",
      "  attention_output = tf.layers.dense(\n",
      "/Users/geyingli/Library/Python/3.8/lib/python/site-packages/uf-2.4.7-py3.8.egg/uf/model/bert.py:428: UserWarning: `tf.layers.dense` is deprecated and will be removed in a future version. Please use `tf.keras.layers.Dense` instead.\n",
      "  intermediate_output = tf.layers.dense(\n",
      "/Users/geyingli/Library/Python/3.8/lib/python/site-packages/uf-2.4.7-py3.8.egg/uf/model/bert.py:438: UserWarning: `tf.layers.dense` is deprecated and will be removed in a future version. Please use `tf.keras.layers.Dense` instead.\n",
      "  layer_output = tf.layers.dense(\n",
      "/Users/geyingli/Library/Python/3.8/lib/python/site-packages/uf-2.4.7-py3.8.egg/uf/model/bert.py:107: UserWarning: `tf.layers.dense` is deprecated and will be removed in a future version. Please use `tf.keras.layers.Dense` instead.\n",
      "  self.pooled_output = tf.layers.dense(\n"
     ]
    },
    {
     "name": "stdout",
     "output_type": "stream",
     "text": [
      "INFO:tensorflow:Build graph with 305,630,988 parameters (among which 102,270,724 are trainable)\n",
      "INFO:tensorflow:Running local_init_op\n",
      "INFO:tensorflow:Done running local_init_op\n",
      "INFO:tensorflow:Running training on 2 samples (step 0 -> 20)\n",
      "INFO:tensorflow:step 1, seq_cls_accuracy 0.4615, cls_accuracy 1.0000, seq_cls_loss 0.791533, cls_loss 0.554707, 0.14 steps/sec, 0.29 examples/sec\n",
      "INFO:tensorflow:step 2, seq_cls_accuracy 0.5385, cls_accuracy 1.0000, seq_cls_loss 0.772068, cls_loss 0.533284, 0.50 steps/sec, 1.00 examples/sec\n",
      "INFO:tensorflow:step 3, seq_cls_accuracy 0.6923, cls_accuracy 1.0000, seq_cls_loss 0.784963, cls_loss 0.622905, 0.58 steps/sec, 1.16 examples/sec\n",
      "INFO:tensorflow:step 4, seq_cls_accuracy 0.6923, cls_accuracy 1.0000, seq_cls_loss 0.870598, cls_loss 0.221046, 0.59 steps/sec, 1.18 examples/sec\n",
      "INFO:tensorflow:step 5, seq_cls_accuracy 0.9231, cls_accuracy 1.0000, seq_cls_loss 0.247917, cls_loss 0.201133, 0.59 steps/sec, 1.19 examples/sec\n",
      "INFO:tensorflow:step 6, seq_cls_accuracy 0.8462, cls_accuracy 1.0000, seq_cls_loss 0.312679, cls_loss 0.102732, 0.60 steps/sec, 1.21 examples/sec\n",
      "INFO:tensorflow:step 7, seq_cls_accuracy 0.8462, cls_accuracy 1.0000, seq_cls_loss 0.261851, cls_loss 0.064030, 0.58 steps/sec, 1.17 examples/sec\n",
      "INFO:tensorflow:step 8, seq_cls_accuracy 1.0000, cls_accuracy 1.0000, seq_cls_loss 0.082911, cls_loss 0.013511, 0.59 steps/sec, 1.18 examples/sec\n",
      "INFO:tensorflow:step 9, seq_cls_accuracy 0.9231, cls_accuracy 1.0000, seq_cls_loss 0.096538, cls_loss 0.002106, 0.59 steps/sec, 1.19 examples/sec\n",
      "INFO:tensorflow:step 10, seq_cls_accuracy 1.0000, cls_accuracy 1.0000, seq_cls_loss 0.050370, cls_loss 0.000794, 0.59 steps/sec, 1.19 examples/sec\n",
      "INFO:tensorflow:step 11, seq_cls_accuracy 1.0000, cls_accuracy 1.0000, seq_cls_loss 0.013193, cls_loss 0.000549, 0.56 steps/sec, 1.12 examples/sec\n",
      "INFO:tensorflow:step 12, seq_cls_accuracy 1.0000, cls_accuracy 1.0000, seq_cls_loss 0.005145, cls_loss 0.000275, 0.57 steps/sec, 1.15 examples/sec\n",
      "INFO:tensorflow:step 13, seq_cls_accuracy 1.0000, cls_accuracy 1.0000, seq_cls_loss 0.004425, cls_loss 0.000224, 0.60 steps/sec, 1.20 examples/sec\n",
      "INFO:tensorflow:step 14, seq_cls_accuracy 1.0000, cls_accuracy 1.0000, seq_cls_loss 0.002796, cls_loss 0.000058, 0.58 steps/sec, 1.17 examples/sec\n",
      "INFO:tensorflow:step 15, seq_cls_accuracy 1.0000, cls_accuracy 1.0000, seq_cls_loss 0.003592, cls_loss 0.000055, 0.57 steps/sec, 1.15 examples/sec\n",
      "INFO:tensorflow:step 16, seq_cls_accuracy 1.0000, cls_accuracy 1.0000, seq_cls_loss 0.002167, cls_loss 0.000120, 0.59 steps/sec, 1.19 examples/sec\n",
      "INFO:tensorflow:step 17, seq_cls_accuracy 1.0000, cls_accuracy 1.0000, seq_cls_loss 0.001436, cls_loss 0.000219, 0.58 steps/sec, 1.17 examples/sec\n",
      "INFO:tensorflow:step 18, seq_cls_accuracy 1.0000, cls_accuracy 1.0000, seq_cls_loss 0.001147, cls_loss 0.000116, 0.59 steps/sec, 1.19 examples/sec\n",
      "INFO:tensorflow:step 19, seq_cls_accuracy 1.0000, cls_accuracy 1.0000, seq_cls_loss 0.001348, cls_loss 0.000085, 0.59 steps/sec, 1.18 examples/sec\n",
      "INFO:tensorflow:step 20, seq_cls_accuracy 1.0000, cls_accuracy 1.0000, seq_cls_loss 0.001280, cls_loss 0.000168, 0.57 steps/sec, 1.14 examples/sec\n"
     ]
    }
   ],
   "source": [
    "model.fit(X_tokenized=X_tokenized, y=y, total_steps=20)"
   ]
  },
  {
   "cell_type": "markdown",
   "id": "prescription-longitude",
   "metadata": {},
   "source": [
    "# 推理"
   ]
  },
  {
   "cell_type": "code",
   "execution_count": 5,
   "id": "widespread-default",
   "metadata": {},
   "outputs": [
    {
     "name": "stdout",
     "output_type": "stream",
     "text": [
      "INFO:tensorflow:Time usage 0m-1.08s, 0.92 steps/sec, 1.85 examples/sec\n"
     ]
    },
    {
     "data": {
      "text/plain": [
       "{'seq_cls_preds': [[0, 0, 0, 0, 0, 1, 1], [0, 0, 1, 1, 0, 0]],\n",
       " 'seq_cls_probs': array([[[6.01735055e-01, 3.98264974e-01],\n",
       "         [9.99721229e-01, 2.78761931e-04],\n",
       "         [9.99364913e-01, 6.35047501e-04],\n",
       "         [9.99069870e-01, 9.30200971e-04],\n",
       "         [9.98422027e-01, 1.57804042e-03],\n",
       "         [9.99653816e-01, 3.46151617e-04],\n",
       "         [1.20387176e-05, 9.99987960e-01],\n",
       "         [2.97989645e-05, 9.99970198e-01],\n",
       "         [8.59719753e-01, 1.40280232e-01],\n",
       "         [9.93559062e-01, 6.44096732e-03],\n",
       "         [9.80438948e-01, 1.95610281e-02],\n",
       "         [9.72395480e-01, 2.76044998e-02],\n",
       "         [9.41517591e-01, 5.84823936e-02],\n",
       "         [9.65583146e-01, 3.44168432e-02],\n",
       "         [9.70635295e-01, 2.93647218e-02],\n",
       "         [9.56182361e-01, 4.38176580e-02],\n",
       "         [9.84237254e-01, 1.57627147e-02],\n",
       "         [8.80368888e-01, 1.19631141e-01],\n",
       "         [9.81121540e-01, 1.88783966e-02],\n",
       "         [9.84886229e-01, 1.51137263e-02],\n",
       "         [8.76949549e-01, 1.23050496e-01],\n",
       "         [9.12342429e-01, 8.76575485e-02],\n",
       "         [8.74883354e-01, 1.25116676e-01],\n",
       "         [9.88376021e-01, 1.16240447e-02],\n",
       "         [9.36227024e-01, 6.37730137e-02],\n",
       "         [9.69503224e-01, 3.04968245e-02],\n",
       "         [9.14899349e-01, 8.51006061e-02],\n",
       "         [9.51877713e-01, 4.81223017e-02],\n",
       "         [9.92892265e-01, 7.10770255e-03],\n",
       "         [9.61246192e-01, 3.87537777e-02],\n",
       "         [8.17183673e-01, 1.82816327e-01],\n",
       "         [9.59055126e-01, 4.09448408e-02],\n",
       "         [9.63089108e-01, 3.69109511e-02],\n",
       "         [9.80190337e-01, 1.98096614e-02],\n",
       "         [8.34021568e-01, 1.65978447e-01],\n",
       "         [9.80530143e-01, 1.94698796e-02],\n",
       "         [9.76102352e-01, 2.38976385e-02],\n",
       "         [9.45560038e-01, 5.44399396e-02],\n",
       "         [8.47684920e-01, 1.52315021e-01],\n",
       "         [9.28764045e-01, 7.12359920e-02],\n",
       "         [9.81056511e-01, 1.89434625e-02],\n",
       "         [9.74257112e-01, 2.57429145e-02],\n",
       "         [9.28452969e-01, 7.15470687e-02],\n",
       "         [8.19434285e-01, 1.80565640e-01],\n",
       "         [9.66869473e-01, 3.31304893e-02],\n",
       "         [9.71277714e-01, 2.87223198e-02],\n",
       "         [9.49474812e-01, 5.05252443e-02],\n",
       "         [9.21266496e-01, 7.87334666e-02],\n",
       "         [8.56587350e-01, 1.43412679e-01],\n",
       "         [9.78217781e-01, 2.17822175e-02],\n",
       "         [8.47970128e-01, 1.52029902e-01],\n",
       "         [9.85755503e-01, 1.42445043e-02],\n",
       "         [8.69875491e-01, 1.30124435e-01],\n",
       "         [9.66918945e-01, 3.30809876e-02],\n",
       "         [9.36946630e-01, 6.30533248e-02],\n",
       "         [8.99275184e-01, 1.00724801e-01],\n",
       "         [9.12428737e-01, 8.75712708e-02],\n",
       "         [9.14958417e-01, 8.50415528e-02],\n",
       "         [9.87780333e-01, 1.22196730e-02],\n",
       "         [9.95000541e-01, 4.99948766e-03],\n",
       "         [9.84196186e-01, 1.58038624e-02],\n",
       "         [9.62193608e-01, 3.78063992e-02],\n",
       "         [9.10430491e-01, 8.95695835e-02],\n",
       "         [6.10499024e-01, 3.89501005e-01],\n",
       "         [9.87015247e-01, 1.29847704e-02],\n",
       "         [9.82244790e-01, 1.77552067e-02],\n",
       "         [8.57527792e-01, 1.42472178e-01],\n",
       "         [9.49884892e-01, 5.01151569e-02],\n",
       "         [7.79930651e-01, 2.20069408e-01],\n",
       "         [9.19787347e-01, 8.02126527e-02],\n",
       "         [9.65405822e-01, 3.45941596e-02],\n",
       "         [9.07279491e-01, 9.27205533e-02],\n",
       "         [9.34151530e-01, 6.58484548e-02],\n",
       "         [8.95215213e-01, 1.04784802e-01],\n",
       "         [9.48153198e-01, 5.18468022e-02],\n",
       "         [9.82172549e-01, 1.78274941e-02],\n",
       "         [9.71779227e-01, 2.82208044e-02],\n",
       "         [9.10141945e-01, 8.98580253e-02],\n",
       "         [9.54061866e-01, 4.59381789e-02],\n",
       "         [9.16881979e-01, 8.31180587e-02],\n",
       "         [9.84069288e-01, 1.59307513e-02],\n",
       "         [9.32564318e-01, 6.74356893e-02],\n",
       "         [9.93258953e-01, 6.74110372e-03],\n",
       "         [9.64489043e-01, 3.55109684e-02],\n",
       "         [9.71579671e-01, 2.84203216e-02],\n",
       "         [8.53613198e-01, 1.46386757e-01],\n",
       "         [9.22762930e-01, 7.72370547e-02],\n",
       "         [8.26799452e-01, 1.73200563e-01],\n",
       "         [9.75949407e-01, 2.40506567e-02],\n",
       "         [8.81126404e-01, 1.18873589e-01],\n",
       "         [5.25426269e-01, 4.74573761e-01],\n",
       "         [9.13967133e-01, 8.60328451e-02],\n",
       "         [8.98818433e-01, 1.01181515e-01],\n",
       "         [9.68650043e-01, 3.13499570e-02],\n",
       "         [8.31377387e-01, 1.68622538e-01],\n",
       "         [9.31418896e-01, 6.85810968e-02],\n",
       "         [8.80575240e-01, 1.19424820e-01],\n",
       "         [9.49340820e-01, 5.06592318e-02],\n",
       "         [9.57608461e-01, 4.23915423e-02],\n",
       "         [9.92687106e-01, 7.31289620e-03],\n",
       "         [9.46855545e-01, 5.31444475e-02],\n",
       "         [7.91151285e-01, 2.08848700e-01],\n",
       "         [9.72287893e-01, 2.77121179e-02],\n",
       "         [9.36164439e-01, 6.38356134e-02],\n",
       "         [9.68483627e-01, 3.15164365e-02],\n",
       "         [9.39715505e-01, 6.02844842e-02],\n",
       "         [8.99843276e-01, 1.00156769e-01],\n",
       "         [9.62608874e-01, 3.73910740e-02],\n",
       "         [9.14505422e-01, 8.54946375e-02],\n",
       "         [9.79556203e-01, 2.04437394e-02],\n",
       "         [9.75601733e-01, 2.43983008e-02],\n",
       "         [9.53575671e-01, 4.64243181e-02],\n",
       "         [9.58917558e-01, 4.10824083e-02],\n",
       "         [8.05125535e-01, 1.94874436e-01],\n",
       "         [7.59520113e-01, 2.40479931e-01],\n",
       "         [9.26905334e-01, 7.30946958e-02],\n",
       "         [9.80900705e-01, 1.90992933e-02],\n",
       "         [9.11054015e-01, 8.89460295e-02],\n",
       "         [9.40211773e-01, 5.97882047e-02],\n",
       "         [9.77800131e-01, 2.21999157e-02],\n",
       "         [9.80816185e-01, 1.91838164e-02],\n",
       "         [9.52154517e-01, 4.78455201e-02],\n",
       "         [8.91460836e-01, 1.08539179e-01],\n",
       "         [9.65587080e-01, 3.44129167e-02],\n",
       "         [9.78663325e-01, 2.13366412e-02],\n",
       "         [8.71584058e-01, 1.28415942e-01],\n",
       "         [9.53217745e-01, 4.67822179e-02],\n",
       "         [9.33341980e-01, 6.66580349e-02]],\n",
       " \n",
       "        [[6.08222604e-01, 3.91777396e-01],\n",
       "         [9.99567926e-01, 4.32016182e-04],\n",
       "         [9.99689937e-01, 3.10079107e-04],\n",
       "         [1.28003681e-04, 9.99871969e-01],\n",
       "         [6.28863781e-05, 9.99937057e-01],\n",
       "         [9.99606073e-01, 3.93989874e-04],\n",
       "         [9.98616338e-01, 1.38364907e-03],\n",
       "         [2.80073974e-02, 9.71992612e-01],\n",
       "         [8.18122864e-01, 1.81877151e-01],\n",
       "         [9.84958291e-01, 1.50417686e-02],\n",
       "         [9.66463327e-01, 3.35366204e-02],\n",
       "         [9.71141338e-01, 2.88586300e-02],\n",
       "         [9.24758375e-01, 7.52416700e-02],\n",
       "         [9.45755363e-01, 5.42446151e-02],\n",
       "         [9.67022657e-01, 3.29773240e-02],\n",
       "         [9.20852363e-01, 7.91475624e-02],\n",
       "         [9.69690681e-01, 3.03092934e-02],\n",
       "         [8.84153485e-01, 1.15846500e-01],\n",
       "         [9.59442556e-01, 4.05573770e-02],\n",
       "         [9.72766459e-01, 2.72334944e-02],\n",
       "         [8.40175509e-01, 1.59824550e-01],\n",
       "         [8.73160303e-01, 1.26839727e-01],\n",
       "         [8.56101751e-01, 1.43898293e-01],\n",
       "         [9.80603278e-01, 1.93967149e-02],\n",
       "         [8.78720820e-01, 1.21279225e-01],\n",
       "         [9.49854434e-01, 5.01456149e-02],\n",
       "         [8.78820896e-01, 1.21179119e-01],\n",
       "         [9.41874981e-01, 5.81250191e-02],\n",
       "         [9.83940482e-01, 1.60595160e-02],\n",
       "         [9.53505874e-01, 4.64941487e-02],\n",
       "         [7.87158489e-01, 2.12841496e-01],\n",
       "         [9.51291025e-01, 4.87089530e-02],\n",
       "         [9.48169887e-01, 5.18300422e-02],\n",
       "         [9.76947665e-01, 2.30523255e-02],\n",
       "         [8.44080925e-01, 1.55919045e-01],\n",
       "         [9.69333708e-01, 3.06662880e-02],\n",
       "         [9.36499298e-01, 6.35007620e-02],\n",
       "         [9.14107502e-01, 8.58925581e-02],\n",
       "         [7.44521976e-01, 2.55477995e-01],\n",
       "         [9.18417633e-01, 8.15824047e-02],\n",
       "         [9.70381141e-01, 2.96189021e-02],\n",
       "         [9.40829158e-01, 5.91708012e-02],\n",
       "         [8.80692184e-01, 1.19307861e-01],\n",
       "         [7.93196976e-01, 2.06802994e-01],\n",
       "         [9.44676876e-01, 5.53231239e-02],\n",
       "         [9.63891625e-01, 3.61084007e-02],\n",
       "         [9.28402305e-01, 7.15976283e-02],\n",
       "         [9.27396953e-01, 7.26030692e-02],\n",
       "         [8.40759754e-01, 1.59240231e-01],\n",
       "         [9.75704551e-01, 2.42954809e-02],\n",
       "         [8.12705398e-01, 1.87294558e-01],\n",
       "         [9.71175849e-01, 2.88241915e-02],\n",
       "         [8.32055926e-01, 1.67944118e-01],\n",
       "         [9.32835579e-01, 6.71644136e-02],\n",
       "         [9.29231226e-01, 7.07687736e-02],\n",
       "         [8.70915473e-01, 1.29084542e-01],\n",
       "         [8.88850272e-01, 1.11149766e-01],\n",
       "         [8.90278578e-01, 1.09721474e-01],\n",
       "         [9.82351720e-01, 1.76482648e-02],\n",
       "         [9.91476119e-01, 8.52387957e-03],\n",
       "         [9.62685347e-01, 3.73146534e-02],\n",
       "         [9.53424811e-01, 4.65751961e-02],\n",
       "         [9.00127530e-01, 9.98724848e-02],\n",
       "         [6.09364390e-01, 3.90635610e-01],\n",
       "         [9.78713810e-01, 2.12861598e-02],\n",
       "         [9.80876863e-01, 1.91231873e-02],\n",
       "         [7.45496213e-01, 2.54503846e-01],\n",
       "         [8.64808321e-01, 1.35191619e-01],\n",
       "         [7.58173823e-01, 2.41826162e-01],\n",
       "         [8.92328978e-01, 1.07671037e-01],\n",
       "         [9.40758049e-01, 5.92419505e-02],\n",
       "         [8.66122007e-01, 1.33877993e-01],\n",
       "         [8.97749662e-01, 1.02250338e-01],\n",
       "         [8.21423233e-01, 1.78576827e-01],\n",
       "         [9.32152092e-01, 6.78479820e-02],\n",
       "         [9.77468491e-01, 2.25315597e-02],\n",
       "         [9.61931705e-01, 3.80682722e-02],\n",
       "         [8.76959622e-01, 1.23040393e-01],\n",
       "         [9.20763671e-01, 7.92363808e-02],\n",
       "         [8.55903089e-01, 1.44096851e-01],\n",
       "         [9.69623089e-01, 3.03768720e-02],\n",
       "         [9.18997288e-01, 8.10027122e-02],\n",
       "         [9.88372386e-01, 1.16276611e-02],\n",
       "         [9.56641793e-01, 4.33582366e-02],\n",
       "         [9.45325136e-01, 5.46749458e-02],\n",
       "         [8.69740486e-01, 1.30259484e-01],\n",
       "         [8.71893167e-01, 1.28106862e-01],\n",
       "         [6.90588653e-01, 3.09411347e-01],\n",
       "         [9.67676103e-01, 3.23239006e-02],\n",
       "         [8.69150996e-01, 1.30849063e-01],\n",
       "         [4.91365790e-01, 5.08634210e-01],\n",
       "         [8.94288838e-01, 1.05711170e-01],\n",
       "         [8.70166540e-01, 1.29833445e-01],\n",
       "         [9.52745855e-01, 4.72541228e-02],\n",
       "         [8.11684966e-01, 1.88315079e-01],\n",
       "         [9.05285597e-01, 9.47144553e-02],\n",
       "         [8.44531417e-01, 1.55468628e-01],\n",
       "         [9.46966052e-01, 5.30339815e-02],\n",
       "         [9.42711174e-01, 5.72888665e-02],\n",
       "         [9.87475336e-01, 1.25246523e-02],\n",
       "         [8.84724200e-01, 1.15275830e-01],\n",
       "         [7.55886674e-01, 2.44113386e-01],\n",
       "         [9.59927320e-01, 4.00726460e-02],\n",
       "         [9.02460039e-01, 9.75399986e-02],\n",
       "         [9.50675309e-01, 4.93246429e-02],\n",
       "         [9.34851229e-01, 6.51487932e-02],\n",
       "         [8.73179376e-01, 1.26820683e-01],\n",
       "         [9.58210409e-01, 4.17896323e-02],\n",
       "         [8.63376617e-01, 1.36623383e-01],\n",
       "         [9.80395019e-01, 1.96049456e-02],\n",
       "         [9.71985042e-01, 2.80149747e-02],\n",
       "         [9.48360622e-01, 5.16394302e-02],\n",
       "         [9.22816217e-01, 7.71838203e-02],\n",
       "         [7.25711346e-01, 2.74288595e-01],\n",
       "         [7.78074205e-01, 2.21925795e-01],\n",
       "         [9.06240284e-01, 9.37597305e-02],\n",
       "         [9.64274645e-01, 3.57253030e-02],\n",
       "         [9.26594138e-01, 7.34058544e-02],\n",
       "         [8.97878230e-01, 1.02121755e-01],\n",
       "         [9.67854083e-01, 3.21459398e-02],\n",
       "         [9.83688951e-01, 1.63111296e-02],\n",
       "         [9.43165660e-01, 5.68343364e-02],\n",
       "         [9.06773508e-01, 9.32265297e-02],\n",
       "         [9.61644113e-01, 3.83559428e-02],\n",
       "         [9.55454648e-01, 4.45453823e-02],\n",
       "         [8.17327142e-01, 1.82672858e-01],\n",
       "         [9.53463495e-01, 4.65365164e-02],\n",
       "         [9.31454778e-01, 6.85452595e-02]]], dtype=float32),\n",
       " 'cls_preds': [0, 1],\n",
       " 'cls_probs': array([[9.9991453e-01, 8.5422216e-05],\n",
       "        [6.2360941e-06, 9.9999380e-01]], dtype=float32)}"
      ]
     },
     "execution_count": 5,
     "metadata": {},
     "output_type": "execute_result"
    }
   ],
   "source": [
    "model.predict(X_tokenized=X_tokenized)"
   ]
  },
  {
   "cell_type": "markdown",
   "id": "institutional-zealand",
   "metadata": {},
   "source": [
    "# 评分"
   ]
  },
  {
   "cell_type": "code",
   "execution_count": 6,
   "id": "arbitrary-pakistan",
   "metadata": {},
   "outputs": [
    {
     "name": "stdout",
     "output_type": "stream",
     "text": [
      "INFO:tensorflow:Time usage 0m-0.71s, 1.42 steps/sec, 2.83 examples/sec\n"
     ]
    },
    {
     "data": {
      "text/plain": [
       "{'seq_cls_accuracy': 1.0,\n",
       " 'cls_accuracy': 1.0,\n",
       " 'seq_cls_loss': 0.000498277,\n",
       " 'cls_loss': 4.5834135e-05}"
      ]
     },
     "execution_count": 6,
     "metadata": {},
     "output_type": "execute_result"
    }
   ],
   "source": [
    "model.score(X_tokenized=X_tokenized, y=y)"
   ]
  }
 ],
 "metadata": {
  "kernelspec": {
   "display_name": "Python 3",
   "language": "python",
   "name": "python3"
  },
  "language_info": {
   "codemirror_mode": {
    "name": "ipython",
    "version": 3
   },
   "file_extension": ".py",
   "mimetype": "text/x-python",
   "name": "python",
   "nbconvert_exporter": "python",
   "pygments_lexer": "ipython3",
   "version": "3.8.2"
  }
 },
 "nbformat": 4,
 "nbformat_minor": 5
}
