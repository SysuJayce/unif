{
 "cells": [
  {
   "cell_type": "markdown",
   "id": "seasonal-separate",
   "metadata": {},
   "source": [
    "# BERTSeqCrossClassifier\n",
    "\n",
    "可用的中文预训练参数：[`bert-base`](https://storage.googleapis.com/bert_models/2018_11_03/chinese_L-12_H-768_A-12.zip),[`roberta-wwm-ext-base`](https://drive.google.com/uc?export=download&id=1jMAKIJmPn7kADgD3yQZhpsqM-IRM1qZt),[`roberta-wwm-ext-large`](https://drive.google.com/uc?export=download&id=1dtad0FFzG11CBsawu8hvwwzU2R0FDI94),[`macbert-base`](https://drive.google.com/uc?export=download&id=1aV69OhYzIwj_hn-kO1RiBa-m8QAusQ5b),[`macbert-large`](https://drive.google.com/uc?export=download&id=1lWYxnk1EqTA2Q20_IShxBrCPc5VSDCkT)"
   ]
  },
  {
   "cell_type": "code",
   "execution_count": 1,
   "id": "traditional-girlfriend",
   "metadata": {},
   "outputs": [
    {
     "name": "stdout",
     "output_type": "stream",
     "text": [
      "v2.4.5\n"
     ]
    }
   ],
   "source": [
    "import uf\n",
    "\n",
    "print(uf.__version__)"
   ]
  },
  {
   "cell_type": "code",
   "execution_count": 2,
   "id": "affected-titanium",
   "metadata": {},
   "outputs": [
    {
     "name": "stdout",
     "output_type": "stream",
     "text": [
      "uf.BERTSeqCrossClassifier(\n",
      "    config_file=\"../../demo/bert_config.json\",\n",
      "    vocab_file=\"../../demo/vocab.txt\",\n",
      "    max_seq_length=128,\n",
      "    seq_cls_label_size=None,\n",
      "    cls_label_size=None,\n",
      "    init_checkpoint=None,\n",
      "    output_dir=None,\n",
      "    gpu_ids=None,\n",
      "    do_lower_case=True,\n",
      "    truncate_method=\"LIFO\",\n",
      ")\n"
     ]
    }
   ],
   "source": [
    "model = uf.BERTSeqCrossClassifier('../../demo/bert_config.json', '../../demo/vocab.txt')\n",
    "print(model)"
   ]
  },
  {
   "cell_type": "code",
   "execution_count": 3,
   "id": "joint-scroll",
   "metadata": {},
   "outputs": [],
   "source": [
    "X_tokenized = [['天', '亮', '以', '前', '说', '再', '见'], ['笑', '着', '泪', '流', '满', '面']]\n",
    "y = [{\"seq_cls\": [0, 0, 0, 0, 0, 1, 1], \"cls\": 0}, {\"seq_cls\": [0, 0, 1, 1, 0, 0], \"cls\": 1}]"
   ]
  },
  {
   "cell_type": "markdown",
   "id": "requested-insert",
   "metadata": {},
   "source": [
    "# 训练"
   ]
  },
  {
   "cell_type": "code",
   "execution_count": 4,
   "id": "usual-disposition",
   "metadata": {},
   "outputs": [
    {
     "name": "stdout",
     "output_type": "stream",
     "text": [
      "WARNING:tensorflow:From /Users/geyingli/Library/Python/3.8/lib/python/site-packages/tensorflow/python/util/dispatch.py:1096: calling dropout (from tensorflow.python.ops.nn_ops) with keep_prob is deprecated and will be removed in a future version.\n",
      "Instructions for updating:\n",
      "Please use `rate` instead of `keep_prob`. Rate should be set to `rate = 1 - keep_prob`.\n"
     ]
    },
    {
     "name": "stderr",
     "output_type": "stream",
     "text": [
      "/Users/geyingli/Library/Python/3.8/lib/python/site-packages/uf-2.4.5-py3.8.egg/uf/model/bert.py:272: UserWarning: `tf.layers.dense` is deprecated and will be removed in a future version. Please use `tf.keras.layers.Dense` instead.\n",
      "  query_layer = tf.layers.dense(\n",
      "/Users/geyingli/Library/Python/3.8/lib/python/site-packages/keras/legacy_tf_layers/core.py:255: UserWarning: `layer.apply` is deprecated and will be removed in a future version. Please use `layer.__call__` method instead.\n",
      "  return layer.apply(inputs)\n",
      "/Users/geyingli/Library/Python/3.8/lib/python/site-packages/uf-2.4.5-py3.8.egg/uf/model/bert.py:282: UserWarning: `tf.layers.dense` is deprecated and will be removed in a future version. Please use `tf.keras.layers.Dense` instead.\n",
      "  key_layer = tf.layers.dense(\n",
      "/Users/geyingli/Library/Python/3.8/lib/python/site-packages/uf-2.4.5-py3.8.egg/uf/model/bert.py:292: UserWarning: `tf.layers.dense` is deprecated and will be removed in a future version. Please use `tf.keras.layers.Dense` instead.\n",
      "  value_layer = tf.layers.dense(\n",
      "/Users/geyingli/Library/Python/3.8/lib/python/site-packages/uf-2.4.5-py3.8.egg/uf/model/bert.py:416: UserWarning: `tf.layers.dense` is deprecated and will be removed in a future version. Please use `tf.keras.layers.Dense` instead.\n",
      "  attention_output = tf.layers.dense(\n",
      "/Users/geyingli/Library/Python/3.8/lib/python/site-packages/uf-2.4.5-py3.8.egg/uf/model/bert.py:428: UserWarning: `tf.layers.dense` is deprecated and will be removed in a future version. Please use `tf.keras.layers.Dense` instead.\n",
      "  intermediate_output = tf.layers.dense(\n",
      "/Users/geyingli/Library/Python/3.8/lib/python/site-packages/uf-2.4.5-py3.8.egg/uf/model/bert.py:438: UserWarning: `tf.layers.dense` is deprecated and will be removed in a future version. Please use `tf.keras.layers.Dense` instead.\n",
      "  layer_output = tf.layers.dense(\n",
      "/Users/geyingli/Library/Python/3.8/lib/python/site-packages/uf-2.4.5-py3.8.egg/uf/model/bert.py:107: UserWarning: `tf.layers.dense` is deprecated and will be removed in a future version. Please use `tf.keras.layers.Dense` instead.\n",
      "  self.pooled_output = tf.layers.dense(\n"
     ]
    },
    {
     "name": "stdout",
     "output_type": "stream",
     "text": [
      "INFO:tensorflow:Build graph with 305,630,988 parameters (among which 102,270,724 are trainable)\n",
      "INFO:tensorflow:Running local_init_op\n",
      "INFO:tensorflow:Done running local_init_op\n",
      "INFO:tensorflow:Running training on 2 samples (step 0 -> 20)\n",
      "INFO:tensorflow:step 1, seq_cls_accuracy 0.6923, cls_accuracy 0.5000, seq_cls_loss 0.656965, cls_loss 0.734068, 0.12 steps/sec, 0.25 examples/sec\n",
      "INFO:tensorflow:step 2, seq_cls_accuracy 0.6923, cls_accuracy 0.5000, seq_cls_loss 0.602208, cls_loss 0.698831, 0.41 steps/sec, 0.82 examples/sec\n",
      "INFO:tensorflow:step 3, seq_cls_accuracy 0.7692, cls_accuracy 1.0000, seq_cls_loss 0.621517, cls_loss 0.308939, 0.56 steps/sec, 1.11 examples/sec\n",
      "INFO:tensorflow:step 4, seq_cls_accuracy 0.6923, cls_accuracy 1.0000, seq_cls_loss 0.435137, cls_loss 0.016187, 0.51 steps/sec, 1.02 examples/sec\n",
      "INFO:tensorflow:step 5, seq_cls_accuracy 1.0000, cls_accuracy 1.0000, seq_cls_loss 0.209720, cls_loss 0.003292, 0.51 steps/sec, 1.02 examples/sec\n",
      "INFO:tensorflow:step 6, seq_cls_accuracy 1.0000, cls_accuracy 1.0000, seq_cls_loss 0.096118, cls_loss 0.001906, 0.52 steps/sec, 1.05 examples/sec\n",
      "INFO:tensorflow:step 7, seq_cls_accuracy 1.0000, cls_accuracy 1.0000, seq_cls_loss 0.037838, cls_loss 0.000698, 0.52 steps/sec, 1.03 examples/sec\n",
      "INFO:tensorflow:step 8, seq_cls_accuracy 1.0000, cls_accuracy 1.0000, seq_cls_loss 0.015993, cls_loss 0.000250, 0.54 steps/sec, 1.08 examples/sec\n",
      "INFO:tensorflow:step 9, seq_cls_accuracy 1.0000, cls_accuracy 1.0000, seq_cls_loss 0.003752, cls_loss 0.000117, 0.53 steps/sec, 1.06 examples/sec\n",
      "INFO:tensorflow:step 10, seq_cls_accuracy 1.0000, cls_accuracy 1.0000, seq_cls_loss 0.001250, cls_loss 0.000200, 0.51 steps/sec, 1.02 examples/sec\n",
      "INFO:tensorflow:step 11, seq_cls_accuracy 1.0000, cls_accuracy 1.0000, seq_cls_loss 0.000543, cls_loss 0.000112, 0.54 steps/sec, 1.07 examples/sec\n",
      "INFO:tensorflow:step 12, seq_cls_accuracy 1.0000, cls_accuracy 1.0000, seq_cls_loss 0.000272, cls_loss 0.000128, 0.59 steps/sec, 1.17 examples/sec\n",
      "INFO:tensorflow:step 13, seq_cls_accuracy 1.0000, cls_accuracy 1.0000, seq_cls_loss 0.000134, cls_loss 0.000106, 0.59 steps/sec, 1.18 examples/sec\n",
      "INFO:tensorflow:step 14, seq_cls_accuracy 1.0000, cls_accuracy 1.0000, seq_cls_loss 0.000130, cls_loss 0.000141, 0.59 steps/sec, 1.17 examples/sec\n",
      "INFO:tensorflow:step 15, seq_cls_accuracy 1.0000, cls_accuracy 1.0000, seq_cls_loss 0.000078, cls_loss 0.000133, 0.59 steps/sec, 1.18 examples/sec\n",
      "INFO:tensorflow:step 16, seq_cls_accuracy 1.0000, cls_accuracy 1.0000, seq_cls_loss 0.000163, cls_loss 0.000137, 0.58 steps/sec, 1.17 examples/sec\n",
      "INFO:tensorflow:step 17, seq_cls_accuracy 1.0000, cls_accuracy 1.0000, seq_cls_loss 0.000054, cls_loss 0.000261, 0.55 steps/sec, 1.11 examples/sec\n",
      "INFO:tensorflow:step 18, seq_cls_accuracy 1.0000, cls_accuracy 1.0000, seq_cls_loss 0.000056, cls_loss 0.000129, 0.54 steps/sec, 1.08 examples/sec\n",
      "INFO:tensorflow:step 19, seq_cls_accuracy 1.0000, cls_accuracy 1.0000, seq_cls_loss 0.000064, cls_loss 0.000137, 0.52 steps/sec, 1.04 examples/sec\n",
      "INFO:tensorflow:step 20, seq_cls_accuracy 1.0000, cls_accuracy 1.0000, seq_cls_loss 0.000104, cls_loss 0.000122, 0.49 steps/sec, 0.98 examples/sec\n"
     ]
    }
   ],
   "source": [
    "model.fit(X_tokenized=X_tokenized, y=y, total_steps=20)"
   ]
  },
  {
   "cell_type": "markdown",
   "id": "prescription-longitude",
   "metadata": {},
   "source": [
    "# 推理"
   ]
  },
  {
   "cell_type": "code",
   "execution_count": 5,
   "id": "widespread-default",
   "metadata": {},
   "outputs": [
    {
     "name": "stdout",
     "output_type": "stream",
     "text": [
      "INFO:tensorflow:Time usage 0m-1.39s, 0.72 steps/sec, 1.44 examples/sec\n"
     ]
    },
    {
     "data": {
      "text/plain": [
       "{'seq_cls_preds': [[0, 0, 0, 0, 0, 1, 1], [0, 0, 1, 1, 0, 0]],\n",
       " 'seq_cls_probs': array([[[9.99959230e-01, 4.07501102e-05],\n",
       "         [9.99989271e-01, 1.07112401e-05],\n",
       "         [9.99992132e-01, 7.84608164e-06],\n",
       "         [9.99990225e-01, 9.80993264e-06],\n",
       "         [9.99989033e-01, 1.09970515e-05],\n",
       "         [4.64103277e-06, 9.99995351e-01],\n",
       "         [6.34473872e-06, 9.99993682e-01],\n",
       "         [9.96857285e-01, 3.14269424e-03],\n",
       "         [9.71275210e-01, 2.87247449e-02],\n",
       "         [9.96932030e-01, 3.06793163e-03],\n",
       "         [9.91993904e-01, 8.00607260e-03],\n",
       "         [9.96926486e-01, 3.07355192e-03],\n",
       "         [9.88459408e-01, 1.15406057e-02],\n",
       "         [9.60956335e-01, 3.90436873e-02],\n",
       "         [9.98720706e-01, 1.27921905e-03],\n",
       "         [8.08018982e-01, 1.91981018e-01],\n",
       "         [9.94777560e-01, 5.22247888e-03],\n",
       "         [9.97928500e-01, 2.07148516e-03],\n",
       "         [9.99464691e-01, 5.35317522e-04],\n",
       "         [9.91884589e-01, 8.11539125e-03],\n",
       "         [9.91144240e-01, 8.85574706e-03],\n",
       "         [9.25331652e-01, 7.46683031e-02],\n",
       "         [9.97782648e-01, 2.21739500e-03],\n",
       "         [9.93813157e-01, 6.18684804e-03],\n",
       "         [9.71405625e-01, 2.85943616e-02],\n",
       "         [9.90299702e-01, 9.70025454e-03],\n",
       "         [9.90608931e-01, 9.39109549e-03],\n",
       "         [9.93905842e-01, 6.09420845e-03],\n",
       "         [9.64962900e-01, 3.50370444e-02],\n",
       "         [9.97649968e-01, 2.34999880e-03],\n",
       "         [9.91273224e-01, 8.72673187e-03],\n",
       "         [9.88265157e-01, 1.17348190e-02],\n",
       "         [9.98186290e-01, 1.81371439e-03],\n",
       "         [9.99116957e-01, 8.83015513e-04],\n",
       "         [9.82559979e-01, 1.74399912e-02],\n",
       "         [9.95547891e-01, 4.45214845e-03],\n",
       "         [9.96898651e-01, 3.10129905e-03],\n",
       "         [9.86262321e-01, 1.37376031e-02],\n",
       "         [9.90444958e-01, 9.55503434e-03],\n",
       "         [9.88789558e-01, 1.12104006e-02],\n",
       "         [9.98693883e-01, 1.30617828e-03],\n",
       "         [9.74198282e-01, 2.58016791e-02],\n",
       "         [9.96930063e-01, 3.06995097e-03],\n",
       "         [9.97953296e-01, 2.04666844e-03],\n",
       "         [9.90526319e-01, 9.47369542e-03],\n",
       "         [9.91893291e-01, 8.10676441e-03],\n",
       "         [9.99535561e-01, 4.64491925e-04],\n",
       "         [9.84049201e-01, 1.59508437e-02],\n",
       "         [9.96143937e-01, 3.85598605e-03],\n",
       "         [9.52859342e-01, 4.71406132e-02],\n",
       "         [8.98398399e-01, 1.01601593e-01],\n",
       "         [9.96945441e-01, 3.05452314e-03],\n",
       "         [9.96233642e-01, 3.76634416e-03],\n",
       "         [9.75256443e-01, 2.47435775e-02],\n",
       "         [9.95792747e-01, 4.20723297e-03],\n",
       "         [9.85357881e-01, 1.46421194e-02],\n",
       "         [9.97387588e-01, 2.61244760e-03],\n",
       "         [9.96803641e-01, 3.19631095e-03],\n",
       "         [9.75755394e-01, 2.42446121e-02],\n",
       "         [9.90703344e-01, 9.29671805e-03],\n",
       "         [9.99352276e-01, 6.47736480e-04],\n",
       "         [9.93198216e-01, 6.80178264e-03],\n",
       "         [9.98260200e-01, 1.73975504e-03],\n",
       "         [9.82431352e-01, 1.75686181e-02],\n",
       "         [9.97677267e-01, 2.32270500e-03],\n",
       "         [9.71459508e-01, 2.85405442e-02],\n",
       "         [9.90886807e-01, 9.11315903e-03],\n",
       "         [9.98280525e-01, 1.71955163e-03],\n",
       "         [9.69533801e-01, 3.04662585e-02],\n",
       "         [9.90307093e-01, 9.69292969e-03],\n",
       "         [9.44129944e-01, 5.58700562e-02],\n",
       "         [9.98466790e-01, 1.53318199e-03],\n",
       "         [9.95927632e-01, 4.07228759e-03],\n",
       "         [9.97494221e-01, 2.50577205e-03],\n",
       "         [9.74437058e-01, 2.55629700e-02],\n",
       "         [9.97911870e-01, 2.08814908e-03],\n",
       "         [9.83380675e-01, 1.66192800e-02],\n",
       "         [9.90624726e-01, 9.37530771e-03],\n",
       "         [9.96462405e-01, 3.53756500e-03],\n",
       "         [9.64540303e-01, 3.54596488e-02],\n",
       "         [9.94003117e-01, 5.99691272e-03],\n",
       "         [9.92141724e-01, 7.85821211e-03],\n",
       "         [9.47641850e-01, 5.23581766e-02],\n",
       "         [9.94370997e-01, 5.62900491e-03],\n",
       "         [9.29183364e-01, 7.08166212e-02],\n",
       "         [9.95995522e-01, 4.00451571e-03],\n",
       "         [9.33612585e-01, 6.63874671e-02],\n",
       "         [9.93950725e-01, 6.04926795e-03],\n",
       "         [9.97636199e-01, 2.36375001e-03],\n",
       "         [9.54036057e-01, 4.59639616e-02],\n",
       "         [9.98705268e-01, 1.29474106e-03],\n",
       "         [9.95031118e-01, 4.96882293e-03],\n",
       "         [9.85274196e-01, 1.47257624e-02],\n",
       "         [9.99091625e-01, 9.08373739e-04],\n",
       "         [8.87499511e-01, 1.12500511e-01],\n",
       "         [9.92399871e-01, 7.60010211e-03],\n",
       "         [9.96228814e-01, 3.77127132e-03],\n",
       "         [9.80724335e-01, 1.92757081e-02],\n",
       "         [9.94649708e-01, 5.35024982e-03],\n",
       "         [9.93236005e-01, 6.76398538e-03],\n",
       "         [9.81585920e-01, 1.84140224e-02],\n",
       "         [9.99044597e-01, 9.55423806e-04],\n",
       "         [9.95038807e-01, 4.96124988e-03],\n",
       "         [9.97882545e-01, 2.11742939e-03],\n",
       "         [9.78565753e-01, 2.14342047e-02],\n",
       "         [9.62982178e-01, 3.70178632e-02],\n",
       "         [9.98299897e-01, 1.70012831e-03],\n",
       "         [9.97600377e-01, 2.39966740e-03],\n",
       "         [8.91961396e-01, 1.08038552e-01],\n",
       "         [9.71683860e-01, 2.83161066e-02],\n",
       "         [9.95501935e-01, 4.49806405e-03],\n",
       "         [9.97293293e-01, 2.70666019e-03],\n",
       "         [9.96947825e-01, 3.05220950e-03],\n",
       "         [9.57025826e-01, 4.29741889e-02],\n",
       "         [9.99397397e-01, 6.02572341e-04],\n",
       "         [9.73448277e-01, 2.65516564e-02],\n",
       "         [9.97707844e-01, 2.29208684e-03],\n",
       "         [9.93461013e-01, 6.53900532e-03],\n",
       "         [9.54345047e-01, 4.56549749e-02],\n",
       "         [9.49044943e-01, 5.09550683e-02],\n",
       "         [9.97379661e-01, 2.62039667e-03],\n",
       "         [9.99707997e-01, 2.92028068e-04],\n",
       "         [9.74719644e-01, 2.52803620e-02],\n",
       "         [9.98325050e-01, 1.67491578e-03],\n",
       "         [9.95600939e-01, 4.39899927e-03],\n",
       "         [9.87152755e-01, 1.28472466e-02],\n",
       "         [9.92886364e-01, 7.11364113e-03],\n",
       "         [9.96973872e-01, 3.02616600e-03]],\n",
       " \n",
       "        [[9.99937296e-01, 6.26757610e-05],\n",
       "         [9.99992132e-01, 7.90734157e-06],\n",
       "         [1.91202744e-05, 9.99980927e-01],\n",
       "         [4.08770757e-05, 9.99959111e-01],\n",
       "         [9.99990821e-01, 9.20349885e-06],\n",
       "         [9.99995708e-01, 4.30699993e-06],\n",
       "         [1.24949694e-03, 9.98750448e-01],\n",
       "         [9.98417139e-01, 1.58289366e-03],\n",
       "         [9.76604521e-01, 2.33954843e-02],\n",
       "         [9.98542070e-01, 1.45794591e-03],\n",
       "         [9.93884146e-01, 6.11577742e-03],\n",
       "         [9.97727811e-01, 2.27222918e-03],\n",
       "         [9.90644097e-01, 9.35586356e-03],\n",
       "         [9.77218509e-01, 2.27814373e-02],\n",
       "         [9.99048293e-01, 9.51659749e-04],\n",
       "         [8.40557992e-01, 1.59442008e-01],\n",
       "         [9.97387946e-01, 2.61202757e-03],\n",
       "         [9.98894632e-01, 1.10539934e-03],\n",
       "         [9.99517798e-01, 4.82180272e-04],\n",
       "         [9.93473232e-01, 6.52677752e-03],\n",
       "         [9.94428873e-01, 5.57112135e-03],\n",
       "         [9.48234975e-01, 5.17649949e-02],\n",
       "         [9.98370111e-01, 1.62994897e-03],\n",
       "         [9.95579183e-01, 4.42076754e-03],\n",
       "         [9.84719276e-01, 1.52806677e-02],\n",
       "         [9.89591539e-01, 1.04084266e-02],\n",
       "         [9.94435668e-01, 5.56430966e-03],\n",
       "         [9.96111095e-01, 3.88887408e-03],\n",
       "         [9.69381511e-01, 3.06184217e-02],\n",
       "         [9.98060644e-01, 1.93931221e-03],\n",
       "         [9.94466841e-01, 5.53316763e-03],\n",
       "         [9.92856026e-01, 7.14393891e-03],\n",
       "         [9.98551428e-01, 1.44853047e-03],\n",
       "         [9.99510527e-01, 4.89528058e-04],\n",
       "         [9.90021169e-01, 9.97882057e-03],\n",
       "         [9.97663975e-01, 2.33606040e-03],\n",
       "         [9.97573793e-01, 2.42619379e-03],\n",
       "         [9.91958499e-01, 8.04147497e-03],\n",
       "         [9.93627310e-01, 6.37276471e-03],\n",
       "         [9.88714159e-01, 1.12858657e-02],\n",
       "         [9.99209404e-01, 7.90618302e-04],\n",
       "         [9.74267423e-01, 2.57325955e-02],\n",
       "         [9.97755706e-01, 2.24426202e-03],\n",
       "         [9.98103023e-01, 1.89693272e-03],\n",
       "         [9.94001567e-01, 5.99839026e-03],\n",
       "         [9.93490577e-01, 6.50944561e-03],\n",
       "         [9.99717891e-01, 2.82127148e-04],\n",
       "         [9.90030050e-01, 9.96988267e-03],\n",
       "         [9.97156739e-01, 2.84328032e-03],\n",
       "         [9.61950898e-01, 3.80490869e-02],\n",
       "         [9.25630629e-01, 7.43693635e-02],\n",
       "         [9.97512341e-01, 2.48766644e-03],\n",
       "         [9.98065174e-01, 1.93488924e-03],\n",
       "         [9.81046319e-01, 1.89537629e-02],\n",
       "         [9.96834338e-01, 3.16570094e-03],\n",
       "         [9.82459068e-01, 1.75409205e-02],\n",
       "         [9.98340726e-01, 1.65928598e-03],\n",
       "         [9.96953607e-01, 3.04641388e-03],\n",
       "         [9.85605061e-01, 1.43949613e-02],\n",
       "         [9.93679523e-01, 6.32040482e-03],\n",
       "         [9.99616385e-01, 3.83634499e-04],\n",
       "         [9.95349109e-01, 4.65096720e-03],\n",
       "         [9.98991430e-01, 1.00857986e-03],\n",
       "         [9.87660229e-01, 1.23397438e-02],\n",
       "         [9.98334467e-01, 1.66550279e-03],\n",
       "         [9.80668187e-01, 1.93318650e-02],\n",
       "         [9.93512571e-01, 6.48748316e-03],\n",
       "         [9.98384476e-01, 1.61558064e-03],\n",
       "         [9.83683944e-01, 1.63160656e-02],\n",
       "         [9.93024230e-01, 6.97574904e-03],\n",
       "         [9.62911069e-01, 3.70889157e-02],\n",
       "         [9.99212265e-01, 7.87744822e-04],\n",
       "         [9.96619701e-01, 3.38022923e-03],\n",
       "         [9.98430431e-01, 1.56953337e-03],\n",
       "         [9.76594031e-01, 2.34059785e-02],\n",
       "         [9.98225868e-01, 1.77415728e-03],\n",
       "         [9.90223229e-01, 9.77669936e-03],\n",
       "         [9.94220972e-01, 5.77900792e-03],\n",
       "         [9.95869815e-01, 4.13014600e-03],\n",
       "         [9.72394586e-01, 2.76053771e-02],\n",
       "         [9.94961381e-01, 5.03860600e-03],\n",
       "         [9.94189024e-01, 5.81096625e-03],\n",
       "         [9.68299747e-01, 3.17002498e-02],\n",
       "         [9.96299446e-01, 3.70052038e-03],\n",
       "         [9.35632825e-01, 6.43671602e-02],\n",
       "         [9.96520758e-01, 3.47928889e-03],\n",
       "         [9.51882124e-01, 4.81178313e-02],\n",
       "         [9.95717227e-01, 4.28278744e-03],\n",
       "         [9.98212934e-01, 1.78707740e-03],\n",
       "         [9.49343801e-01, 5.06561995e-02],\n",
       "         [9.99368846e-01, 6.31168892e-04],\n",
       "         [9.95025814e-01, 4.97414218e-03],\n",
       "         [9.89612758e-01, 1.03871860e-02],\n",
       "         [9.99594033e-01, 4.05933504e-04],\n",
       "         [9.29239690e-01, 7.07603320e-02],\n",
       "         [9.94095206e-01, 5.90475928e-03],\n",
       "         [9.96216595e-01, 3.78342811e-03],\n",
       "         [9.87146020e-01, 1.28539791e-02],\n",
       "         [9.94862497e-01, 5.13743842e-03],\n",
       "         [9.93767500e-01, 6.23252895e-03],\n",
       "         [9.86148119e-01, 1.38518540e-02],\n",
       "         [9.99446809e-01, 5.53161779e-04],\n",
       "         [9.96590853e-01, 3.40913655e-03],\n",
       "         [9.97852564e-01, 2.14749598e-03],\n",
       "         [9.85750556e-01, 1.42494468e-02],\n",
       "         [9.76029694e-01, 2.39703283e-02],\n",
       "         [9.99021292e-01, 9.78737022e-04],\n",
       "         [9.98534322e-01, 1.46562990e-03],\n",
       "         [9.33299601e-01, 6.67003915e-02],\n",
       "         [9.78004336e-01, 2.19956543e-02],\n",
       "         [9.97607231e-01, 2.39271857e-03],\n",
       "         [9.97071385e-01, 2.92856200e-03],\n",
       "         [9.98202205e-01, 1.79776736e-03],\n",
       "         [9.66312170e-01, 3.36877964e-02],\n",
       "         [9.99623775e-01, 3.76254815e-04],\n",
       "         [9.75288868e-01, 2.47110780e-02],\n",
       "         [9.98303890e-01, 1.69613911e-03],\n",
       "         [9.94420469e-01, 5.57956565e-03],\n",
       "         [9.75397646e-01, 2.46023871e-02],\n",
       "         [9.67009604e-01, 3.29904221e-02],\n",
       "         [9.96981442e-01, 3.01851332e-03],\n",
       "         [9.99738634e-01, 2.61396373e-04],\n",
       "         [9.83096957e-01, 1.69030391e-02],\n",
       "         [9.98884976e-01, 1.11501641e-03],\n",
       "         [9.92932439e-01, 7.06754532e-03],\n",
       "         [9.90825117e-01, 9.17489268e-03],\n",
       "         [9.95810270e-01, 4.18978138e-03],\n",
       "         [9.98527408e-01, 1.47255533e-03]]], dtype=float32),\n",
       " 'cls_preds': [0, 1],\n",
       " 'cls_probs': array([[9.9986374e-01, 1.3627055e-04],\n",
       "        [5.2967582e-05, 9.9994707e-01]], dtype=float32)}"
      ]
     },
     "execution_count": 5,
     "metadata": {},
     "output_type": "execute_result"
    }
   ],
   "source": [
    "model.predict(X_tokenized=X_tokenized)"
   ]
  },
  {
   "cell_type": "markdown",
   "id": "institutional-zealand",
   "metadata": {},
   "source": [
    "# 评分"
   ]
  },
  {
   "cell_type": "code",
   "execution_count": 6,
   "id": "arbitrary-pakistan",
   "metadata": {},
   "outputs": [
    {
     "name": "stdout",
     "output_type": "stream",
     "text": [
      "INFO:tensorflow:Time usage 0m-1.00s, 1.00 steps/sec, 2.00 examples/sec\n"
     ]
    },
    {
     "data": {
      "text/plain": [
       "{'seq_cls_accuracy': 1.0,\n",
       " 'cls_accuracy': 1.0,\n",
       " 'seq_cls_loss': 1.8505492e-05,\n",
       " 'cls_loss': 9.458723e-05}"
      ]
     },
     "execution_count": 6,
     "metadata": {},
     "output_type": "execute_result"
    }
   ],
   "source": [
    "model.score(X_tokenized=X_tokenized, y=y)"
   ]
  }
 ],
 "metadata": {
  "kernelspec": {
   "display_name": "Python 3",
   "language": "python",
   "name": "python3"
  },
  "language_info": {
   "codemirror_mode": {
    "name": "ipython",
    "version": 3
   },
   "file_extension": ".py",
   "mimetype": "text/x-python",
   "name": "python",
   "nbconvert_exporter": "python",
   "pygments_lexer": "ipython3",
   "version": "3.8.2"
  }
 },
 "nbformat": 4,
 "nbformat_minor": 5
}
