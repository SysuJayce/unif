{
 "cells": [
  {
   "cell_type": "markdown",
   "id": "urban-divorce",
   "metadata": {},
   "source": [
    "# RecBERTLM\n",
    "\n",
    "可用的中文预训练参数：[`bert-base`](https://storage.googleapis.com/bert_models/2018_11_03/chinese_L-12_H-768_A-12.zip),[`roberta-wwm-ext-base`](https://drive.google.com/uc?export=download&id=1jMAKIJmPn7kADgD3yQZhpsqM-IRM1qZt),[`roberta-wwm-ext-large`](https://drive.google.com/uc?export=download&id=1dtad0FFzG11CBsawu8hvwwzU2R0FDI94),[`macbert-base`](https://drive.google.com/uc?export=download&id=1aV69OhYzIwj_hn-kO1RiBa-m8QAusQ5b),[`macbert-large`](https://drive.google.com/uc?export=download&id=1lWYxnk1EqTA2Q20_IShxBrCPc5VSDCkT)"
   ]
  },
  {
   "cell_type": "code",
   "execution_count": 1,
   "id": "rotary-academy",
   "metadata": {},
   "outputs": [
    {
     "name": "stdout",
     "output_type": "stream",
     "text": [
      "v2.5.18\n"
     ]
    }
   ],
   "source": [
    "import uf\n",
    "\n",
    "print(uf.__version__)"
   ]
  },
  {
   "cell_type": "code",
   "execution_count": 2,
   "id": "velvet-symbol",
   "metadata": {},
   "outputs": [
    {
     "name": "stdout",
     "output_type": "stream",
     "text": [
      "uf.RecBERTLM(\n",
      "    config_file=\"../../ref/bert_config.json\",\n",
      "    vocab_file=\"../../ref/vocab.txt\",\n",
      "    max_seq_length=128,\n",
      "    init_checkpoint=None,\n",
      "    output_dir=None,\n",
      "    gpu_ids=None,\n",
      "    add_prob=0.1,\n",
      "    del_prob=0.1,\n",
      "    do_lower_case=True,\n",
      "    truncate_method=\"LIFO\",\n",
      ")\n"
     ]
    }
   ],
   "source": [
    "model = uf.RecBERTLM(\"../../ref/bert_config.json\", \"../../ref/vocab.txt\")\n",
    "print(model)"
   ]
  },
  {
   "cell_type": "code",
   "execution_count": 3,
   "id": "drawn-breathing",
   "metadata": {},
   "outputs": [],
   "source": [
    "X = [\"天亮以前说再见\", \"笑着泪流满面\", \"去迎接应该你的\", \"更好的明天\", \n",
    "     \"他想知道那是谁\", \"为何总沉默寡言\", \"人群中也算抢眼\", \"抢眼的孤独难免\"]"
   ]
  },
  {
   "cell_type": "markdown",
   "id": "vanilla-fault",
   "metadata": {},
   "source": [
    "# 训练"
   ]
  },
  {
   "cell_type": "code",
   "execution_count": 4,
   "id": "excellent-religion",
   "metadata": {},
   "outputs": [
    {
     "name": "stderr",
     "output_type": "stream",
     "text": [
      "/Users/geyingli/Library/Python/3.8/lib/python/site-packages/uf-2.5.18-py3.8.egg/uf/apps/bert/bert.py:235: UserWarning: `tf.layers.dense` is deprecated and will be removed in a future version. Please use `tf.keras.layers.Dense` instead.\n",
      "  query_layer = tf.layers.dense(\n",
      "/Users/geyingli/Library/Python/3.8/lib/python/site-packages/uf-2.5.18-py3.8.egg/uf/apps/bert/bert.py:245: UserWarning: `tf.layers.dense` is deprecated and will be removed in a future version. Please use `tf.keras.layers.Dense` instead.\n",
      "  key_layer = tf.layers.dense(\n",
      "/Users/geyingli/Library/Python/3.8/lib/python/site-packages/uf-2.5.18-py3.8.egg/uf/apps/bert/bert.py:255: UserWarning: `tf.layers.dense` is deprecated and will be removed in a future version. Please use `tf.keras.layers.Dense` instead.\n",
      "  value_layer = tf.layers.dense(\n",
      "/Users/geyingli/Library/Python/3.8/lib/python/site-packages/uf-2.5.18-py3.8.egg/uf/apps/bert/bert.py:379: UserWarning: `tf.layers.dense` is deprecated and will be removed in a future version. Please use `tf.keras.layers.Dense` instead.\n",
      "  attention_output = tf.layers.dense(\n",
      "/Users/geyingli/Library/Python/3.8/lib/python/site-packages/uf-2.5.18-py3.8.egg/uf/apps/bert/bert.py:391: UserWarning: `tf.layers.dense` is deprecated and will be removed in a future version. Please use `tf.keras.layers.Dense` instead.\n",
      "  intermediate_output = tf.layers.dense(\n",
      "/Users/geyingli/Library/Python/3.8/lib/python/site-packages/uf-2.5.18-py3.8.egg/uf/apps/bert/bert.py:401: UserWarning: `tf.layers.dense` is deprecated and will be removed in a future version. Please use `tf.keras.layers.Dense` instead.\n",
      "  layer_output = tf.layers.dense(\n",
      "/Users/geyingli/Library/Python/3.8/lib/python/site-packages/uf-2.5.18-py3.8.egg/uf/apps/recbert/recbert.py:173: UserWarning: `tf.layers.dense` is deprecated and will be removed in a future version. Please use `tf.keras.layers.Dense` instead.\n",
      "  logits = tf.layers.dense(\n",
      "/Users/geyingli/Library/Python/3.8/lib/python/site-packages/uf-2.5.18-py3.8.egg/uf/apps/recbert/recbert.py:199: UserWarning: `tf.layers.dense` is deprecated and will be removed in a future version. Please use `tf.keras.layers.Dense` instead.\n",
      "  logits = tf.layers.dense(\n",
      "/Users/geyingli/Library/Python/3.8/lib/python/site-packages/uf-2.5.18-py3.8.egg/uf/apps/recbert/recbert.py:206: UserWarning: `tf.layers.dense` is deprecated and will be removed in a future version. Please use `tf.keras.layers.Dense` instead.\n",
      "  logits = tf.layers.dense(\n",
      "/Users/geyingli/Library/Python/3.8/lib/python/site-packages/uf-2.5.18-py3.8.egg/uf/apps/recbert/recbert.py:244: UserWarning: `tf.layers.dense` is deprecated and will be removed in a future version. Please use `tf.keras.layers.Dense` instead.\n",
      "  logits = tf.layers.dense(\n"
     ]
    },
    {
     "name": "stdout",
     "output_type": "stream",
     "text": [
      "INFO:tensorflow:Build graph with 319,207,698 parameters (among which 106,402,566 are trainable)\n",
      "INFO:tensorflow:Running local_init_op\n",
      "INFO:tensorflow:Done running local_init_op\n",
      "INFO:tensorflow:Running training on 8 samples (step 0 -> 20)\n",
      "INFO:tensorflow:step 1, add_accuracy 0.3594, add_loss 0.862699, del_accuracy 0.4375, del_loss 0.880938, cls_accuracy 0.8750, cls_loss 0.582283, 0.09 steps/sec, 0.73 examples/sec\n",
      "INFO:tensorflow:step 2, add_accuracy 0.9062, add_loss 0.315382, del_accuracy 0.9844, del_loss 0.108931, cls_accuracy 0.8750, cls_loss 0.621235, 0.12 steps/sec, 0.97 examples/sec\n",
      "INFO:tensorflow:step 3, add_accuracy 0.9062, add_loss 0.329706, del_accuracy 0.9844, del_loss 0.059032, cls_accuracy 0.8750, cls_loss 0.366354, 0.18 steps/sec, 1.41 examples/sec\n",
      "INFO:tensorflow:step 4, add_accuracy 0.9062, add_loss 0.247544, del_accuracy 0.9844, del_loss 0.064696, cls_accuracy 0.6250, cls_loss 0.623495, 0.19 steps/sec, 1.48 examples/sec\n",
      "INFO:tensorflow:step 5, add_accuracy 0.9062, add_loss 0.185174, del_accuracy 0.9844, del_loss 0.053837, cls_accuracy 1.0000, cls_loss 0.319202, 0.18 steps/sec, 1.42 examples/sec\n",
      "INFO:tensorflow:step 6, add_accuracy 0.8750, add_loss 0.162318, del_accuracy 0.9844, del_loss 0.049162, cls_accuracy 0.8750, cls_loss 0.214398, 0.19 steps/sec, 1.51 examples/sec\n",
      "INFO:tensorflow:step 7, add_accuracy 0.9219, add_loss 0.144148, del_accuracy 0.9844, del_loss 0.032132, cls_accuracy 0.8750, cls_loss 0.213270, 0.17 steps/sec, 1.39 examples/sec\n",
      "INFO:tensorflow:step 8, add_accuracy 0.9219, add_loss 0.117814, del_accuracy 1.0000, del_loss 0.009997, cls_accuracy 1.0000, cls_loss 0.102044, 0.18 steps/sec, 1.42 examples/sec\n",
      "INFO:tensorflow:step 9, add_accuracy 0.9219, add_loss 0.089922, del_accuracy 1.0000, del_loss 0.004624, cls_accuracy 1.0000, cls_loss 0.047877, 0.18 steps/sec, 1.41 examples/sec\n",
      "INFO:tensorflow:step 10, add_accuracy 0.9219, add_loss 0.084756, del_accuracy 1.0000, del_loss 0.006700, cls_accuracy 1.0000, cls_loss 0.063734, 0.16 steps/sec, 1.29 examples/sec\n",
      "INFO:tensorflow:step 11, add_accuracy 0.9531, add_loss 0.072508, del_accuracy 1.0000, del_loss 0.010382, cls_accuracy 1.0000, cls_loss 0.049693, 0.16 steps/sec, 1.28 examples/sec\n",
      "INFO:tensorflow:step 12, add_accuracy 0.9687, add_loss 0.069988, del_accuracy 1.0000, del_loss 0.016431, cls_accuracy 1.0000, cls_loss 0.016774, 0.17 steps/sec, 1.36 examples/sec\n",
      "INFO:tensorflow:step 13, add_accuracy 0.9687, add_loss 0.060926, del_accuracy 1.0000, del_loss 0.019979, cls_accuracy 1.0000, cls_loss 0.008174, 0.16 steps/sec, 1.27 examples/sec\n",
      "INFO:tensorflow:step 14, add_accuracy 0.9687, add_loss 0.060912, del_accuracy 1.0000, del_loss 0.020814, cls_accuracy 1.0000, cls_loss 0.004417, 0.16 steps/sec, 1.30 examples/sec\n",
      "INFO:tensorflow:step 15, add_accuracy 0.9687, add_loss 0.056853, del_accuracy 1.0000, del_loss 0.017456, cls_accuracy 1.0000, cls_loss 0.006097, 0.17 steps/sec, 1.36 examples/sec\n",
      "INFO:tensorflow:step 16, add_accuracy 0.9687, add_loss 0.052722, del_accuracy 1.0000, del_loss 0.014758, cls_accuracy 1.0000, cls_loss 0.003961, 0.16 steps/sec, 1.25 examples/sec\n",
      "INFO:tensorflow:step 17, add_accuracy 0.9687, add_loss 0.060700, del_accuracy 1.0000, del_loss 0.013970, cls_accuracy 1.0000, cls_loss 0.003783, 0.16 steps/sec, 1.31 examples/sec\n",
      "INFO:tensorflow:step 18, add_accuracy 0.9687, add_loss 0.063851, del_accuracy 1.0000, del_loss 0.010721, cls_accuracy 1.0000, cls_loss 0.003443, 0.19 steps/sec, 1.49 examples/sec\n",
      "INFO:tensorflow:step 19, add_accuracy 0.9687, add_loss 0.055557, del_accuracy 1.0000, del_loss 0.008692, cls_accuracy 1.0000, cls_loss 0.003470, 0.17 steps/sec, 1.34 examples/sec\n",
      "INFO:tensorflow:step 20, add_accuracy 0.9844, add_loss 0.049967, del_accuracy 1.0000, del_loss 0.009286, cls_accuracy 1.0000, cls_loss 0.005354, 0.16 steps/sec, 1.29 examples/sec\n"
     ]
    }
   ],
   "source": [
    "model.fit(X, total_steps=20)"
   ]
  },
  {
   "cell_type": "markdown",
   "id": "fallen-hundred",
   "metadata": {},
   "source": [
    "# 推理"
   ]
  },
  {
   "cell_type": "code",
   "execution_count": 5,
   "id": "opposite-pantyhose",
   "metadata": {},
   "outputs": [
    {
     "name": "stdout",
     "output_type": "stream",
     "text": [
      "INFO:tensorflow:Running inference on 4 samples\n",
      "INFO:tensorflow:process 100.0%, 2.18 examples/sec\n"
     ]
    },
    {
     "data": {
      "text/plain": [
       "{'lm_preds': ['他想知道那是谁道', '为何总沉默寡', '群人面群中也抢面', '抢孤为独{add:难}道难免'],\n",
       " 'cls_probs': array([[0.00150818, 0.99849176],\n",
       "        [0.00562685, 0.9943731 ],\n",
       "        [0.9377649 , 0.06223511],\n",
       "        [0.02070913, 0.9792909 ]], dtype=float32),\n",
       " 'cls_preds': [1, 1, 0, 1]}"
      ]
     },
     "execution_count": 5,
     "metadata": {},
     "output_type": "execute_result"
    }
   ],
   "source": [
    "X = [\n",
    "    \"他想知道那是谁道\", \"为何总沉默寡\", \n",
    "    \"群人面群中也抢面\", \"抢孤为独道难免\",\n",
    "]           # 人为增加一些错误，看模型是否能识别并纠正 (与训练阶段采样不同，因此此case预测错误正常)\n",
    "model.predict(X)"
   ]
  }
 ],
 "metadata": {
  "kernelspec": {
   "display_name": "Python 3.8.2 64-bit",
   "language": "python",
   "name": "python3"
  },
  "language_info": {
   "codemirror_mode": {
    "name": "ipython",
    "version": 3
   },
   "file_extension": ".py",
   "mimetype": "text/x-python",
   "name": "python",
   "nbconvert_exporter": "python",
   "pygments_lexer": "ipython3",
   "version": "3.8.2"
  },
  "vscode": {
   "interpreter": {
    "hash": "31f2aee4e71d21fbe5cf8b01ff0e069b9275f58929596ceb00d14d90e3e16cd6"
   }
  }
 },
 "nbformat": 4,
 "nbformat_minor": 5
}
