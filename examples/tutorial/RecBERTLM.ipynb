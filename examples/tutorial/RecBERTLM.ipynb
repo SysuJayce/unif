{
 "cells": [
  {
   "cell_type": "markdown",
   "id": "urban-divorce",
   "metadata": {},
   "source": [
    "# RecBERTLM\n",
    "\n",
    "可用的中文预训练参数：[`bert-base`](https://storage.googleapis.com/bert_models/2018_11_03/chinese_L-12_H-768_A-12.zip),[`roberta-wwm-ext-base`](https://drive.google.com/uc?export=download&id=1jMAKIJmPn7kADgD3yQZhpsqM-IRM1qZt),[`roberta-wwm-ext-large`](https://drive.google.com/uc?export=download&id=1dtad0FFzG11CBsawu8hvwwzU2R0FDI94),[`macbert-base`](https://drive.google.com/uc?export=download&id=1aV69OhYzIwj_hn-kO1RiBa-m8QAusQ5b),[`macbert-large`](https://drive.google.com/uc?export=download&id=1lWYxnk1EqTA2Q20_IShxBrCPc5VSDCkT)"
   ]
  },
  {
   "cell_type": "code",
   "execution_count": 1,
   "id": "rotary-academy",
   "metadata": {},
   "outputs": [
    {
     "name": "stdout",
     "output_type": "stream",
     "text": [
      "v2.4.7\n"
     ]
    }
   ],
   "source": [
    "import uf\n",
    "\n",
    "print(uf.__version__)"
   ]
  },
  {
   "cell_type": "code",
   "execution_count": 2,
   "id": "velvet-symbol",
   "metadata": {},
   "outputs": [
    {
     "name": "stdout",
     "output_type": "stream",
     "text": [
      "uf.RecBERTLM(\n",
      "    config_file=\"../../demo/bert_config.json\",\n",
      "    vocab_file=\"../../demo/vocab.txt\",\n",
      "    max_seq_length=128,\n",
      "    init_checkpoint=None,\n",
      "    output_dir=None,\n",
      "    gpu_ids=None,\n",
      "    add_prob=0.1,\n",
      "    del_prob=0.1,\n",
      "    do_lower_case=True,\n",
      "    truncate_method=\"LIFO\",\n",
      ")\n"
     ]
    }
   ],
   "source": [
    "model = uf.RecBERTLM('../../demo/bert_config.json', '../../demo/vocab.txt')\n",
    "print(model)"
   ]
  },
  {
   "cell_type": "code",
   "execution_count": 3,
   "id": "drawn-breathing",
   "metadata": {},
   "outputs": [],
   "source": [
    "X = ['天亮以前说再见', '笑着泪流满面', '去迎接应该你的', '更好的明天', \n",
    "     '他想知道那是谁', '为何总沉默寡言', '人群中也算抢眼', '抢眼的孤独难免']"
   ]
  },
  {
   "cell_type": "markdown",
   "id": "vanilla-fault",
   "metadata": {},
   "source": [
    "# 训练"
   ]
  },
  {
   "cell_type": "code",
   "execution_count": 4,
   "id": "excellent-religion",
   "metadata": {},
   "outputs": [
    {
     "name": "stdout",
     "output_type": "stream",
     "text": [
      "WARNING:tensorflow:From /Users/geyingli/Library/Python/3.8/lib/python/site-packages/tensorflow/python/util/dispatch.py:1096: calling dropout (from tensorflow.python.ops.nn_ops) with keep_prob is deprecated and will be removed in a future version.\n",
      "Instructions for updating:\n",
      "Please use `rate` instead of `keep_prob`. Rate should be set to `rate = 1 - keep_prob`.\n"
     ]
    },
    {
     "name": "stderr",
     "output_type": "stream",
     "text": [
      "/Users/geyingli/Library/Python/3.8/lib/python/site-packages/uf-2.4.7-py3.8.egg/uf/model/bert.py:272: UserWarning: `tf.layers.dense` is deprecated and will be removed in a future version. Please use `tf.keras.layers.Dense` instead.\n",
      "  query_layer = tf.layers.dense(\n",
      "/Users/geyingli/Library/Python/3.8/lib/python/site-packages/keras/legacy_tf_layers/core.py:255: UserWarning: `layer.apply` is deprecated and will be removed in a future version. Please use `layer.__call__` method instead.\n",
      "  return layer.apply(inputs)\n",
      "/Users/geyingli/Library/Python/3.8/lib/python/site-packages/uf-2.4.7-py3.8.egg/uf/model/bert.py:282: UserWarning: `tf.layers.dense` is deprecated and will be removed in a future version. Please use `tf.keras.layers.Dense` instead.\n",
      "  key_layer = tf.layers.dense(\n",
      "/Users/geyingli/Library/Python/3.8/lib/python/site-packages/uf-2.4.7-py3.8.egg/uf/model/bert.py:292: UserWarning: `tf.layers.dense` is deprecated and will be removed in a future version. Please use `tf.keras.layers.Dense` instead.\n",
      "  value_layer = tf.layers.dense(\n",
      "/Users/geyingli/Library/Python/3.8/lib/python/site-packages/uf-2.4.7-py3.8.egg/uf/model/bert.py:416: UserWarning: `tf.layers.dense` is deprecated and will be removed in a future version. Please use `tf.keras.layers.Dense` instead.\n",
      "  attention_output = tf.layers.dense(\n",
      "/Users/geyingli/Library/Python/3.8/lib/python/site-packages/uf-2.4.7-py3.8.egg/uf/model/bert.py:428: UserWarning: `tf.layers.dense` is deprecated and will be removed in a future version. Please use `tf.keras.layers.Dense` instead.\n",
      "  intermediate_output = tf.layers.dense(\n",
      "/Users/geyingli/Library/Python/3.8/lib/python/site-packages/uf-2.4.7-py3.8.egg/uf/model/bert.py:438: UserWarning: `tf.layers.dense` is deprecated and will be removed in a future version. Please use `tf.keras.layers.Dense` instead.\n",
      "  layer_output = tf.layers.dense(\n",
      "/Users/geyingli/Library/Python/3.8/lib/python/site-packages/uf-2.4.7-py3.8.egg/uf/model/recbert.py:177: UserWarning: `tf.layers.dense` is deprecated and will be removed in a future version. Please use `tf.keras.layers.Dense` instead.\n",
      "  logits = tf.layers.dense(\n",
      "/Users/geyingli/Library/Python/3.8/lib/python/site-packages/uf-2.4.7-py3.8.egg/uf/model/recbert.py:203: UserWarning: `tf.layers.dense` is deprecated and will be removed in a future version. Please use `tf.keras.layers.Dense` instead.\n",
      "  logits = tf.layers.dense(\n",
      "/Users/geyingli/Library/Python/3.8/lib/python/site-packages/uf-2.4.7-py3.8.egg/uf/model/recbert.py:210: UserWarning: `tf.layers.dense` is deprecated and will be removed in a future version. Please use `tf.keras.layers.Dense` instead.\n",
      "  logits = tf.layers.dense(\n",
      "/Users/geyingli/Library/Python/3.8/lib/python/site-packages/uf-2.4.7-py3.8.egg/uf/model/recbert.py:252: UserWarning: `tf.layers.dense` is deprecated and will be removed in a future version. Please use `tf.keras.layers.Dense` instead.\n",
      "  logits = tf.layers.dense(\n"
     ]
    },
    {
     "name": "stdout",
     "output_type": "stream",
     "text": [
      "INFO:tensorflow:Build graph with 319,203,084 parameters (among which 106,401,028 are trainable)\n",
      "INFO:tensorflow:Running local_init_op\n",
      "INFO:tensorflow:Done running local_init_op\n",
      "INFO:tensorflow:Running training on 8 samples (step 0 -> 20)\n",
      "INFO:tensorflow:step 1, add_accuracy 0.2540, add_loss 0.919650, del_accuracy 0.6190, del_loss 0.643431, 0.10 steps/sec, 0.84 examples/sec\n",
      "INFO:tensorflow:step 2, add_accuracy 0.9365, add_loss 0.251923, del_accuracy 0.9048, del_loss 0.254771, 0.18 steps/sec, 1.45 examples/sec\n",
      "INFO:tensorflow:step 3, add_accuracy 0.9365, add_loss 0.219021, del_accuracy 0.9048, del_loss 0.189978, 0.22 steps/sec, 1.73 examples/sec\n",
      "INFO:tensorflow:step 4, add_accuracy 0.9365, add_loss 0.096196, del_accuracy 0.9365, del_loss 0.096993, 0.22 steps/sec, 1.80 examples/sec\n",
      "INFO:tensorflow:step 5, add_accuracy 0.9365, add_loss 0.088414, del_accuracy 0.9683, del_loss 0.071258, 0.23 steps/sec, 1.83 examples/sec\n",
      "INFO:tensorflow:step 6, add_accuracy 0.9683, add_loss 0.055802, del_accuracy 0.9683, del_loss 0.083628, 0.23 steps/sec, 1.81 examples/sec\n",
      "INFO:tensorflow:step 7, add_accuracy 0.9683, add_loss 0.044914, del_accuracy 0.9683, del_loss 0.060850, 0.23 steps/sec, 1.83 examples/sec\n",
      "INFO:tensorflow:step 8, add_accuracy 0.9841, add_loss 0.041397, del_accuracy 1.0000, del_loss 0.026843, 0.23 steps/sec, 1.81 examples/sec\n",
      "INFO:tensorflow:step 9, add_accuracy 0.9841, add_loss 0.037806, del_accuracy 1.0000, del_loss 0.025663, 0.22 steps/sec, 1.78 examples/sec\n",
      "INFO:tensorflow:step 10, add_accuracy 0.9841, add_loss 0.035691, del_accuracy 1.0000, del_loss 0.027025, 0.18 steps/sec, 1.43 examples/sec\n",
      "INFO:tensorflow:step 11, add_accuracy 0.9841, add_loss 0.030142, del_accuracy 1.0000, del_loss 0.025366, 0.20 steps/sec, 1.63 examples/sec\n",
      "INFO:tensorflow:step 12, add_accuracy 0.9841, add_loss 0.024283, del_accuracy 1.0000, del_loss 0.018981, 0.19 steps/sec, 1.52 examples/sec\n",
      "INFO:tensorflow:step 13, add_accuracy 0.9841, add_loss 0.021197, del_accuracy 1.0000, del_loss 0.019889, 0.22 steps/sec, 1.80 examples/sec\n",
      "INFO:tensorflow:step 14, add_accuracy 0.9841, add_loss 0.019510, del_accuracy 1.0000, del_loss 0.021145, 0.22 steps/sec, 1.76 examples/sec\n",
      "INFO:tensorflow:step 15, add_accuracy 0.9841, add_loss 0.023532, del_accuracy 1.0000, del_loss 0.022012, 0.22 steps/sec, 1.72 examples/sec\n",
      "INFO:tensorflow:step 16, add_accuracy 1.0000, add_loss 0.024919, del_accuracy 1.0000, del_loss 0.020441, 0.21 steps/sec, 1.70 examples/sec\n",
      "INFO:tensorflow:step 17, add_accuracy 1.0000, add_loss 0.028328, del_accuracy 1.0000, del_loss 0.016355, 0.22 steps/sec, 1.75 examples/sec\n",
      "INFO:tensorflow:step 18, add_accuracy 1.0000, add_loss 0.021836, del_accuracy 1.0000, del_loss 0.014057, 0.22 steps/sec, 1.80 examples/sec\n",
      "INFO:tensorflow:step 19, add_accuracy 1.0000, add_loss 0.023934, del_accuracy 1.0000, del_loss 0.012706, 0.22 steps/sec, 1.78 examples/sec\n",
      "INFO:tensorflow:step 20, add_accuracy 1.0000, add_loss 0.023779, del_accuracy 1.0000, del_loss 0.014192, 0.17 steps/sec, 1.34 examples/sec\n"
     ]
    }
   ],
   "source": [
    "model.fit(X, total_steps=20)"
   ]
  },
  {
   "cell_type": "markdown",
   "id": "fallen-hundred",
   "metadata": {},
   "source": [
    "# 推理"
   ]
  },
  {
   "cell_type": "code",
   "execution_count": 5,
   "id": "opposite-pantyhose",
   "metadata": {},
   "outputs": [
    {
     "name": "stdout",
     "output_type": "stream",
     "text": [
      "INFO:tensorflow:Time usage 0m-1.52s, 0.66 steps/sec, 2.63 examples/sec\n"
     ]
    },
    {
     "data": {
      "text/plain": [
       "{'preds': [['他', '想', '知', '道', '那', '是', '谁', '道'],\n",
       "  ['为', '何', '总', '沉', '{add:默}', '默', '寡'],\n",
       "  ['群', '人', '面', '群', '中', '也', '抢', '面'],\n",
       "  ['抢', '眼', '的', '孤', '{del:为}', '独', '道', '难', '免']]}"
      ]
     },
     "execution_count": 5,
     "metadata": {},
     "output_type": "execute_result"
    }
   ],
   "source": [
    "X_tokenized = [\n",
    "    ['他', '想', '知', '道', '那', '是', '谁', '道'],\n",
    "    ['为', '何', '总', '沉', '默', '寡'], \n",
    "    ['群', '人', '面', '群', '中', '也', '抢', '面'],\n",
    "    ['抢', '眼', '的', '孤', '为', '独', '道', '难', '免'],\n",
    "]    # 人为增加一些错误，看模型是否能识别并纠正\n",
    "model.predict(X_tokenized=X_tokenized)"
   ]
  }
 ],
 "metadata": {
  "kernelspec": {
   "display_name": "Python 3",
   "language": "python",
   "name": "python3"
  },
  "language_info": {
   "codemirror_mode": {
    "name": "ipython",
    "version": 3
   },
   "file_extension": ".py",
   "mimetype": "text/x-python",
   "name": "python",
   "nbconvert_exporter": "python",
   "pygments_lexer": "ipython3",
   "version": "3.8.2"
  }
 },
 "nbformat": 4,
 "nbformat_minor": 5
}
