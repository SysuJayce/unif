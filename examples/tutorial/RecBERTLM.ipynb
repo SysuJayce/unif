{
 "cells": [
  {
   "cell_type": "markdown",
   "id": "urban-divorce",
   "metadata": {},
   "source": [
    "# RecBERTLM\n",
    "\n",
    "可用的中文预训练参数：[`bert-base`](https://storage.googleapis.com/bert_models/2018_11_03/chinese_L-12_H-768_A-12.zip),[`roberta-wwm-ext-base`](https://drive.google.com/uc?export=download&id=1jMAKIJmPn7kADgD3yQZhpsqM-IRM1qZt),[`roberta-wwm-ext-large`](https://drive.google.com/uc?export=download&id=1dtad0FFzG11CBsawu8hvwwzU2R0FDI94),[`macbert-base`](https://drive.google.com/uc?export=download&id=1aV69OhYzIwj_hn-kO1RiBa-m8QAusQ5b),[`macbert-large`](https://drive.google.com/uc?export=download&id=1lWYxnk1EqTA2Q20_IShxBrCPc5VSDCkT)"
   ]
  },
  {
   "cell_type": "code",
   "execution_count": 1,
   "id": "rotary-academy",
   "metadata": {},
   "outputs": [
    {
     "name": "stdout",
     "output_type": "stream",
     "text": [
      "v2.5.0\n"
     ]
    }
   ],
   "source": [
    "import uf\n",
    "\n",
    "print(uf.__version__)"
   ]
  },
  {
   "cell_type": "code",
   "execution_count": 2,
   "id": "velvet-symbol",
   "metadata": {},
   "outputs": [
    {
     "name": "stdout",
     "output_type": "stream",
     "text": [
      "uf.RecBERTLM(\n",
      "    config_file=\"../../ref/bert_config.json\",\n",
      "    vocab_file=\"../../ref/vocab.txt\",\n",
      "    max_seq_length=128,\n",
      "    init_checkpoint=None,\n",
      "    output_dir=None,\n",
      "    gpu_ids=None,\n",
      "    add_prob=0.1,\n",
      "    del_prob=0.1,\n",
      "    do_lower_case=True,\n",
      "    truncate_method=\"LIFO\",\n",
      ")\n"
     ]
    }
   ],
   "source": [
    "model = uf.RecBERTLM(\"../../ref/bert_config.json\", \"../../ref/vocab.txt\")\n",
    "print(model)"
   ]
  },
  {
   "cell_type": "code",
   "execution_count": 3,
   "id": "drawn-breathing",
   "metadata": {},
   "outputs": [],
   "source": [
    "X = [\"天亮以前说再见\", \"笑着泪流满面\", \"去迎接应该你的\", \"更好的明天\", \n",
    "     \"他想知道那是谁\", \"为何总沉默寡言\", \"人群中也算抢眼\", \"抢眼的孤独难免\"]"
   ]
  },
  {
   "cell_type": "markdown",
   "id": "vanilla-fault",
   "metadata": {},
   "source": [
    "# 训练"
   ]
  },
  {
   "cell_type": "code",
   "execution_count": 4,
   "id": "excellent-religion",
   "metadata": {},
   "outputs": [
    {
     "name": "stdout",
     "output_type": "stream",
     "text": [
      "WARNING:tensorflow:From c:\\Users\\Luv_d\\AppData\\Local\\Programs\\Python\\Python39\\lib\\site-packages\\tensorflow\\python\\util\\dispatch.py:1176: calling dropout (from tensorflow.python.ops.nn_ops) with keep_prob is deprecated and will be removed in a future version.\n",
      "Instructions for updating:\n",
      "Please use `rate` instead of `keep_prob`. Rate should be set to `rate = 1 - keep_prob`.\n"
     ]
    },
    {
     "name": "stderr",
     "output_type": "stream",
     "text": [
      "c:\\Users\\Luv_d\\AppData\\Local\\Programs\\Python\\Python39\\lib\\site-packages\\uf-2.5.0-py3.9.egg\\uf\\apps\\bert\\bert.py:272: UserWarning: `tf.layers.dense` is deprecated and will be removed in a future version. Please use `tf.keras.layers.Dense` instead.\n",
      "  query_layer = tf.layers.dense(\n",
      "c:\\Users\\Luv_d\\AppData\\Local\\Programs\\Python\\Python39\\lib\\site-packages\\uf-2.5.0-py3.9.egg\\uf\\apps\\bert\\bert.py:282: UserWarning: `tf.layers.dense` is deprecated and will be removed in a future version. Please use `tf.keras.layers.Dense` instead.\n",
      "  key_layer = tf.layers.dense(\n",
      "c:\\Users\\Luv_d\\AppData\\Local\\Programs\\Python\\Python39\\lib\\site-packages\\uf-2.5.0-py3.9.egg\\uf\\apps\\bert\\bert.py:292: UserWarning: `tf.layers.dense` is deprecated and will be removed in a future version. Please use `tf.keras.layers.Dense` instead.\n",
      "  value_layer = tf.layers.dense(\n",
      "c:\\Users\\Luv_d\\AppData\\Local\\Programs\\Python\\Python39\\lib\\site-packages\\uf-2.5.0-py3.9.egg\\uf\\apps\\bert\\bert.py:416: UserWarning: `tf.layers.dense` is deprecated and will be removed in a future version. Please use `tf.keras.layers.Dense` instead.\n",
      "  attention_output = tf.layers.dense(\n",
      "c:\\Users\\Luv_d\\AppData\\Local\\Programs\\Python\\Python39\\lib\\site-packages\\uf-2.5.0-py3.9.egg\\uf\\apps\\bert\\bert.py:428: UserWarning: `tf.layers.dense` is deprecated and will be removed in a future version. Please use `tf.keras.layers.Dense` instead.\n",
      "  intermediate_output = tf.layers.dense(\n",
      "c:\\Users\\Luv_d\\AppData\\Local\\Programs\\Python\\Python39\\lib\\site-packages\\uf-2.5.0-py3.9.egg\\uf\\apps\\bert\\bert.py:438: UserWarning: `tf.layers.dense` is deprecated and will be removed in a future version. Please use `tf.keras.layers.Dense` instead.\n",
      "  layer_output = tf.layers.dense(\n",
      "c:\\Users\\Luv_d\\AppData\\Local\\Programs\\Python\\Python39\\lib\\site-packages\\uf-2.5.0-py3.9.egg\\uf\\apps\\recbert\\recbert.py:177: UserWarning: `tf.layers.dense` is deprecated and will be removed in a future version. Please use `tf.keras.layers.Dense` instead.\n",
      "  logits = tf.layers.dense(\n",
      "c:\\Users\\Luv_d\\AppData\\Local\\Programs\\Python\\Python39\\lib\\site-packages\\uf-2.5.0-py3.9.egg\\uf\\apps\\recbert\\recbert.py:203: UserWarning: `tf.layers.dense` is deprecated and will be removed in a future version. Please use `tf.keras.layers.Dense` instead.\n",
      "  logits = tf.layers.dense(\n",
      "c:\\Users\\Luv_d\\AppData\\Local\\Programs\\Python\\Python39\\lib\\site-packages\\uf-2.5.0-py3.9.egg\\uf\\apps\\recbert\\recbert.py:210: UserWarning: `tf.layers.dense` is deprecated and will be removed in a future version. Please use `tf.keras.layers.Dense` instead.\n",
      "  logits = tf.layers.dense(\n",
      "c:\\Users\\Luv_d\\AppData\\Local\\Programs\\Python\\Python39\\lib\\site-packages\\uf-2.5.0-py3.9.egg\\uf\\apps\\recbert\\recbert.py:252: UserWarning: `tf.layers.dense` is deprecated and will be removed in a future version. Please use `tf.keras.layers.Dense` instead.\n",
      "  logits = tf.layers.dense(\n"
     ]
    },
    {
     "name": "stdout",
     "output_type": "stream",
     "text": [
      "INFO:tensorflow:Build graph with 319,203,084 parameters (among which 106,401,028 are trainable)\n",
      "INFO:tensorflow:Running local_init_op\n",
      "INFO:tensorflow:Done running local_init_op\n",
      "INFO:tensorflow:Running training on 8 samples (step 0 -> 20)\n",
      "INFO:tensorflow:step 1, add_accuracy 0.4833, add_loss 0.715882, del_accuracy 0.5167, del_loss 0.779348, 0.11 steps/sec, 0.88 examples/sec\n",
      "INFO:tensorflow:step 2, add_accuracy 0.9167, add_loss 0.268194, del_accuracy 0.9333, del_loss 0.224789, 0.16 steps/sec, 1.29 examples/sec\n",
      "INFO:tensorflow:step 3, add_accuracy 0.9167, add_loss 0.186957, del_accuracy 0.9333, del_loss 0.184804, 0.35 steps/sec, 2.82 examples/sec\n",
      "INFO:tensorflow:step 4, add_accuracy 0.9167, add_loss 0.079993, del_accuracy 0.9667, del_loss 0.067966, 0.35 steps/sec, 2.84 examples/sec\n",
      "INFO:tensorflow:step 5, add_accuracy 0.9167, add_loss 0.101038, del_accuracy 0.9667, del_loss 0.078211, 0.37 steps/sec, 2.93 examples/sec\n",
      "INFO:tensorflow:step 6, add_accuracy 0.9833, add_loss 0.045948, del_accuracy 1.0000, del_loss 0.061535, 0.38 steps/sec, 3.01 examples/sec\n",
      "INFO:tensorflow:step 7, add_accuracy 0.9833, add_loss 0.044050, del_accuracy 1.0000, del_loss 0.017698, 0.36 steps/sec, 2.90 examples/sec\n",
      "INFO:tensorflow:step 8, add_accuracy 0.9833, add_loss 0.047983, del_accuracy 1.0000, del_loss 0.010458, 0.37 steps/sec, 2.92 examples/sec\n",
      "INFO:tensorflow:step 9, add_accuracy 0.9833, add_loss 0.037248, del_accuracy 1.0000, del_loss 0.007765, 0.38 steps/sec, 3.05 examples/sec\n",
      "INFO:tensorflow:step 10, add_accuracy 1.0000, add_loss 0.028930, del_accuracy 1.0000, del_loss 0.012234, 0.36 steps/sec, 2.91 examples/sec\n",
      "INFO:tensorflow:step 11, add_accuracy 1.0000, add_loss 0.032044, del_accuracy 1.0000, del_loss 0.008153, 0.36 steps/sec, 2.87 examples/sec\n",
      "INFO:tensorflow:step 12, add_accuracy 1.0000, add_loss 0.028884, del_accuracy 1.0000, del_loss 0.008308, 0.34 steps/sec, 2.69 examples/sec\n",
      "INFO:tensorflow:step 13, add_accuracy 1.0000, add_loss 0.027855, del_accuracy 1.0000, del_loss 0.008724, 0.33 steps/sec, 2.66 examples/sec\n",
      "INFO:tensorflow:step 14, add_accuracy 1.0000, add_loss 0.025765, del_accuracy 1.0000, del_loss 0.011048, 0.33 steps/sec, 2.64 examples/sec\n",
      "INFO:tensorflow:step 15, add_accuracy 1.0000, add_loss 0.021520, del_accuracy 1.0000, del_loss 0.009595, 0.33 steps/sec, 2.67 examples/sec\n",
      "INFO:tensorflow:step 16, add_accuracy 1.0000, add_loss 0.025250, del_accuracy 1.0000, del_loss 0.009891, 0.34 steps/sec, 2.68 examples/sec\n",
      "INFO:tensorflow:step 17, add_accuracy 1.0000, add_loss 0.027057, del_accuracy 1.0000, del_loss 0.009282, 0.34 steps/sec, 2.74 examples/sec\n",
      "INFO:tensorflow:step 18, add_accuracy 1.0000, add_loss 0.021860, del_accuracy 1.0000, del_loss 0.009591, 0.34 steps/sec, 2.76 examples/sec\n",
      "INFO:tensorflow:step 19, add_accuracy 1.0000, add_loss 0.018332, del_accuracy 1.0000, del_loss 0.008653, 0.33 steps/sec, 2.61 examples/sec\n",
      "INFO:tensorflow:step 20, add_accuracy 1.0000, add_loss 0.020707, del_accuracy 1.0000, del_loss 0.009416, 0.33 steps/sec, 2.67 examples/sec\n"
     ]
    }
   ],
   "source": [
    "model.fit(X, total_steps=20)"
   ]
  },
  {
   "cell_type": "markdown",
   "id": "fallen-hundred",
   "metadata": {},
   "source": [
    "# 推理"
   ]
  },
  {
   "cell_type": "code",
   "execution_count": 5,
   "id": "opposite-pantyhose",
   "metadata": {},
   "outputs": [
    {
     "name": "stdout",
     "output_type": "stream",
     "text": [
      "INFO:tensorflow:Running inference on 4 samples\n",
      "INFO:tensorflow:process 100.0%, 3.50 examples/sec\n"
     ]
    },
    {
     "data": {
      "text/plain": [
       "{'preds': [['他', '想', '知', '道', '那', '是', '谁', '道'],\n",
       "  ['为', '何', '总', '沉', '默', '{add:寡}', '寡'],\n",
       "  ['群', '人', '面', '群', '中', '也', '抢', '面'],\n",
       "  ['抢', '眼', '的', '孤', '为', '独', '{add:寡}', '道', '{del:难}', '免']]}"
      ]
     },
     "execution_count": 5,
     "metadata": {},
     "output_type": "execute_result"
    }
   ],
   "source": [
    "X_tokenized = [\n",
    "    [\"他\", \"想\", \"知\", \"道\", \"那\", \"是\", \"谁\", \"道\"],\n",
    "    [\"为\", \"何\", \"总\", \"沉\", \"默\", \"寡\"], \n",
    "    [\"群\", \"人\", \"面\", \"群\", \"中\", \"也\", \"抢\", \"面\"],\n",
    "    [\"抢\", \"眼\", \"的\", \"孤\", \"为\", \"独\", \"道\", \"难\", \"免\"],\n",
    "]           # 人为增加一些错误，看模型是否能识别并纠正 (与训练阶段采样不同，因此此case预测错误正常)\n",
    "model.predict(X_tokenized=X_tokenized)"
   ]
  }
 ],
 "metadata": {
  "kernelspec": {
   "display_name": "Python 3.9.13 64-bit",
   "language": "python",
   "name": "python3"
  },
  "language_info": {
   "codemirror_mode": {
    "name": "ipython",
    "version": 3
   },
   "file_extension": ".py",
   "mimetype": "text/x-python",
   "name": "python",
   "nbconvert_exporter": "python",
   "pygments_lexer": "ipython3",
   "version": "3.9.13"
  },
  "vscode": {
   "interpreter": {
    "hash": "265fd6f62f200408acbbeae0248f34bed9f93569a643842b7a25d2cd76cae5e5"
   }
  }
 },
 "nbformat": 4,
 "nbformat_minor": 5
}
