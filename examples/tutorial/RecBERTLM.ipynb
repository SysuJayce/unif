{
 "cells": [
  {
   "cell_type": "markdown",
   "id": "urban-divorce",
   "metadata": {},
   "source": [
    "# RecBERTLM\n",
    "\n",
    "可用的中文预训练参数：[`bert-base`](https://storage.googleapis.com/bert_models/2018_11_03/chinese_L-12_H-768_A-12.zip),[`roberta-wwm-ext-base`](https://drive.google.com/uc?export=download&id=1jMAKIJmPn7kADgD3yQZhpsqM-IRM1qZt),[`roberta-wwm-ext-large`](https://drive.google.com/uc?export=download&id=1dtad0FFzG11CBsawu8hvwwzU2R0FDI94),[`macbert-base`](https://drive.google.com/uc?export=download&id=1aV69OhYzIwj_hn-kO1RiBa-m8QAusQ5b),[`macbert-large`](https://drive.google.com/uc?export=download&id=1lWYxnk1EqTA2Q20_IShxBrCPc5VSDCkT)"
   ]
  },
  {
   "cell_type": "code",
   "execution_count": 1,
   "id": "rotary-academy",
   "metadata": {},
   "outputs": [
    {
     "name": "stdout",
     "output_type": "stream",
     "text": [
      "v2.5.18\n"
     ]
    }
   ],
   "source": [
    "import uf\n",
    "\n",
    "print(uf.__version__)"
   ]
  },
  {
   "cell_type": "code",
   "execution_count": 2,
   "id": "velvet-symbol",
   "metadata": {},
   "outputs": [
    {
     "name": "stdout",
     "output_type": "stream",
     "text": [
      "uf.RecBERTLM(\n",
      "    config_file=\"../../ref/bert_config.json\",\n",
      "    vocab_file=\"../../ref/vocab.txt\",\n",
      "    max_seq_length=10,\n",
      "    init_checkpoint=None,\n",
      "    output_dir=None,\n",
      "    gpu_ids=None,\n",
      "    add_prob=0.1,\n",
      "    del_prob=0.1,\n",
      "    do_lower_case=True,\n",
      "    truncate_method=\"LIFO\",\n",
      ")\n"
     ]
    }
   ],
   "source": [
    "model = uf.RecBERTLM(\"../../ref/bert_config.json\", \"../../ref/vocab.txt\", max_seq_length=10)\n",
    "print(model)"
   ]
  },
  {
   "cell_type": "code",
   "execution_count": 3,
   "id": "drawn-breathing",
   "metadata": {},
   "outputs": [],
   "source": [
    "X = [\"天亮以前说再见\", \"笑着泪流满面\", \"去迎接应该你的\", \"更好的明天\", \"他想知道那是谁\", \"为何总沉默寡言\", \"人群中也算抢眼\", \"抢眼的孤独难免\"]"
   ]
  },
  {
   "cell_type": "markdown",
   "id": "vanilla-fault",
   "metadata": {},
   "source": [
    "# 训练"
   ]
  },
  {
   "cell_type": "code",
   "execution_count": 4,
   "id": "excellent-religion",
   "metadata": {},
   "outputs": [
    {
     "name": "stderr",
     "output_type": "stream",
     "text": [
      "/Users/geyingli/Library/Python/3.8/lib/python/site-packages/uf-2.5.18-py3.8.egg/uf/apps/bert/bert.py:235: UserWarning: `tf.layers.dense` is deprecated and will be removed in a future version. Please use `tf.keras.layers.Dense` instead.\n",
      "  query_layer = tf.layers.dense(\n",
      "/Users/geyingli/Library/Python/3.8/lib/python/site-packages/uf-2.5.18-py3.8.egg/uf/apps/bert/bert.py:245: UserWarning: `tf.layers.dense` is deprecated and will be removed in a future version. Please use `tf.keras.layers.Dense` instead.\n",
      "  key_layer = tf.layers.dense(\n",
      "/Users/geyingli/Library/Python/3.8/lib/python/site-packages/uf-2.5.18-py3.8.egg/uf/apps/bert/bert.py:255: UserWarning: `tf.layers.dense` is deprecated and will be removed in a future version. Please use `tf.keras.layers.Dense` instead.\n",
      "  value_layer = tf.layers.dense(\n",
      "/Users/geyingli/Library/Python/3.8/lib/python/site-packages/uf-2.5.18-py3.8.egg/uf/apps/bert/bert.py:379: UserWarning: `tf.layers.dense` is deprecated and will be removed in a future version. Please use `tf.keras.layers.Dense` instead.\n",
      "  attention_output = tf.layers.dense(\n",
      "/Users/geyingli/Library/Python/3.8/lib/python/site-packages/uf-2.5.18-py3.8.egg/uf/apps/bert/bert.py:391: UserWarning: `tf.layers.dense` is deprecated and will be removed in a future version. Please use `tf.keras.layers.Dense` instead.\n",
      "  intermediate_output = tf.layers.dense(\n",
      "/Users/geyingli/Library/Python/3.8/lib/python/site-packages/uf-2.5.18-py3.8.egg/uf/apps/bert/bert.py:401: UserWarning: `tf.layers.dense` is deprecated and will be removed in a future version. Please use `tf.keras.layers.Dense` instead.\n",
      "  layer_output = tf.layers.dense(\n",
      "/Users/geyingli/Library/Python/3.8/lib/python/site-packages/uf-2.5.18-py3.8.egg/uf/apps/recbert/recbert.py:173: UserWarning: `tf.layers.dense` is deprecated and will be removed in a future version. Please use `tf.keras.layers.Dense` instead.\n",
      "  logits = tf.layers.dense(\n",
      "/Users/geyingli/Library/Python/3.8/lib/python/site-packages/uf-2.5.18-py3.8.egg/uf/apps/recbert/recbert.py:199: UserWarning: `tf.layers.dense` is deprecated and will be removed in a future version. Please use `tf.keras.layers.Dense` instead.\n",
      "  logits = tf.layers.dense(\n",
      "/Users/geyingli/Library/Python/3.8/lib/python/site-packages/uf-2.5.18-py3.8.egg/uf/apps/recbert/recbert.py:206: UserWarning: `tf.layers.dense` is deprecated and will be removed in a future version. Please use `tf.keras.layers.Dense` instead.\n",
      "  logits = tf.layers.dense(\n",
      "/Users/geyingli/Library/Python/3.8/lib/python/site-packages/uf-2.5.18-py3.8.egg/uf/apps/recbert/recbert.py:244: UserWarning: `tf.layers.dense` is deprecated and will be removed in a future version. Please use `tf.keras.layers.Dense` instead.\n",
      "  logits = tf.layers.dense(\n"
     ]
    },
    {
     "name": "stdout",
     "output_type": "stream",
     "text": [
      "INFO:tensorflow:Build graph with 319,207,698 parameters (among which 106,402,566 are trainable)\n",
      "INFO:tensorflow:Running local_init_op\n",
      "INFO:tensorflow:Done running local_init_op\n",
      "INFO:tensorflow:Running training on 8 samples (step 0 -> 20)\n",
      "INFO:tensorflow:step 1, add_accuracy 0.4328, add_loss 0.704431, del_accuracy 0.4776, del_loss 0.729544, cls_accuracy 0.5000, cls_loss 0.821979, 0.12 steps/sec, 0.94 examples/sec\n",
      "INFO:tensorflow:step 2, add_accuracy 0.9104, add_loss 0.263589, del_accuracy 0.9403, del_loss 0.244472, cls_accuracy 0.5000, cls_loss 1.412484, 0.39 steps/sec, 3.15 examples/sec\n",
      "INFO:tensorflow:step 3, add_accuracy 0.9104, add_loss 0.291092, del_accuracy 0.9403, del_loss 0.235544, cls_accuracy 0.6250, cls_loss 0.579299, 0.71 steps/sec, 5.66 examples/sec\n",
      "INFO:tensorflow:step 4, add_accuracy 0.9104, add_loss 0.261839, del_accuracy 0.9403, del_loss 0.219531, cls_accuracy 0.5000, cls_loss 1.079832, 0.71 steps/sec, 5.67 examples/sec\n",
      "INFO:tensorflow:step 5, add_accuracy 0.9104, add_loss 0.150820, del_accuracy 0.9403, del_loss 0.185929, cls_accuracy 0.5000, cls_loss 0.860383, 0.71 steps/sec, 5.67 examples/sec\n",
      "INFO:tensorflow:step 6, add_accuracy 0.9104, add_loss 0.092928, del_accuracy 0.9403, del_loss 0.136033, cls_accuracy 1.0000, cls_loss 0.251598, 0.69 steps/sec, 5.55 examples/sec\n",
      "INFO:tensorflow:step 7, add_accuracy 0.9254, add_loss 0.094610, del_accuracy 0.9552, del_loss 0.086772, cls_accuracy 0.5000, cls_loss 0.580219, 0.71 steps/sec, 5.65 examples/sec\n",
      "INFO:tensorflow:step 8, add_accuracy 0.9552, add_loss 0.084252, del_accuracy 0.9701, del_loss 0.115185, cls_accuracy 0.5000, cls_loss 0.490734, 0.72 steps/sec, 5.73 examples/sec\n",
      "INFO:tensorflow:step 9, add_accuracy 0.9552, add_loss 0.060165, del_accuracy 0.9403, del_loss 0.151031, cls_accuracy 1.0000, cls_loss 0.179646, 0.71 steps/sec, 5.71 examples/sec\n",
      "INFO:tensorflow:step 10, add_accuracy 0.9851, add_loss 0.039578, del_accuracy 0.9552, del_loss 0.135624, cls_accuracy 1.0000, cls_loss 0.037831, 0.71 steps/sec, 5.71 examples/sec\n",
      "INFO:tensorflow:step 11, add_accuracy 1.0000, add_loss 0.027750, del_accuracy 0.9701, del_loss 0.095593, cls_accuracy 0.8750, cls_loss 0.186062, 0.72 steps/sec, 5.77 examples/sec\n",
      "INFO:tensorflow:step 12, add_accuracy 1.0000, add_loss 0.023365, del_accuracy 0.9851, del_loss 0.055927, cls_accuracy 0.8750, cls_loss 0.247581, 0.66 steps/sec, 5.26 examples/sec\n",
      "INFO:tensorflow:step 13, add_accuracy 1.0000, add_loss 0.027422, del_accuracy 0.9851, del_loss 0.047259, cls_accuracy 1.0000, cls_loss 0.048061, 0.64 steps/sec, 5.12 examples/sec\n",
      "INFO:tensorflow:step 14, add_accuracy 1.0000, add_loss 0.032092, del_accuracy 1.0000, del_loss 0.048131, cls_accuracy 1.0000, cls_loss 0.019546, 0.71 steps/sec, 5.72 examples/sec\n",
      "INFO:tensorflow:step 15, add_accuracy 1.0000, add_loss 0.028884, del_accuracy 0.9851, del_loss 0.049318, cls_accuracy 1.0000, cls_loss 0.005556, 0.72 steps/sec, 5.79 examples/sec\n",
      "INFO:tensorflow:step 16, add_accuracy 1.0000, add_loss 0.026649, del_accuracy 1.0000, del_loss 0.044401, cls_accuracy 1.0000, cls_loss 0.005590, 0.71 steps/sec, 5.67 examples/sec\n",
      "INFO:tensorflow:step 17, add_accuracy 1.0000, add_loss 0.024205, del_accuracy 1.0000, del_loss 0.042759, cls_accuracy 1.0000, cls_loss 0.003917, 0.66 steps/sec, 5.31 examples/sec\n",
      "INFO:tensorflow:step 18, add_accuracy 1.0000, add_loss 0.025020, del_accuracy 1.0000, del_loss 0.040743, cls_accuracy 1.0000, cls_loss 0.004189, 0.65 steps/sec, 5.20 examples/sec\n",
      "INFO:tensorflow:step 19, add_accuracy 1.0000, add_loss 0.023340, del_accuracy 0.9851, del_loss 0.038665, cls_accuracy 1.0000, cls_loss 0.003808, 0.71 steps/sec, 5.65 examples/sec\n",
      "INFO:tensorflow:step 20, add_accuracy 1.0000, add_loss 0.023766, del_accuracy 1.0000, del_loss 0.040037, cls_accuracy 1.0000, cls_loss 0.005613, 0.70 steps/sec, 5.60 examples/sec\n"
     ]
    }
   ],
   "source": [
    "model.fit(X, total_steps=20)"
   ]
  },
  {
   "cell_type": "markdown",
   "id": "fallen-hundred",
   "metadata": {},
   "source": [
    "# 推理"
   ]
  },
  {
   "cell_type": "code",
   "execution_count": 5,
   "id": "opposite-pantyhose",
   "metadata": {},
   "outputs": [
    {
     "name": "stdout",
     "output_type": "stream",
     "text": [
      "INFO:tensorflow:Running inference on 4 samples\n",
      "INFO:tensorflow:process 100.0%, 3.47 examples/sec\n"
     ]
    },
    {
     "data": {
      "text/plain": [
       "{'lm_preds': ['他{add:何}想知{add:道}道那是谁道',\n",
       "  '为{add:何}何总沉默寡',\n",
       "  '群人{add:群}面群中也抢面',\n",
       "  '抢孤为{add:何}独道难免'],\n",
       " 'cls_probs': array([[0.17365798, 0.82634205],\n",
       "        [0.00536439, 0.99463564],\n",
       "        [0.12680592, 0.8731941 ],\n",
       "        [0.00874667, 0.9912533 ]], dtype=float32),\n",
       " 'cls_preds': [1, 1, 1, 1]}"
      ]
     },
     "execution_count": 5,
     "metadata": {},
     "output_type": "execute_result"
    }
   ],
   "source": [
    "X = [\n",
    "    \"他想知道那是谁道\", \"为何总沉默寡\", \n",
    "    \"群人面群中也抢面\", \"抢孤为独道难免\",\n",
    "]           # 人为增加一些错误，看模型是否能识别并纠正 (与训练阶段采样不同，因此此case预测错误正常)\n",
    "model.predict(X)"
   ]
  }
 ],
 "metadata": {
  "kernelspec": {
   "display_name": "Python 3.8.2 64-bit",
   "language": "python",
   "name": "python3"
  },
  "language_info": {
   "codemirror_mode": {
    "name": "ipython",
    "version": 3
   },
   "file_extension": ".py",
   "mimetype": "text/x-python",
   "name": "python",
   "nbconvert_exporter": "python",
   "pygments_lexer": "ipython3",
   "version": "3.8.2"
  },
  "vscode": {
   "interpreter": {
    "hash": "31f2aee4e71d21fbe5cf8b01ff0e069b9275f58929596ceb00d14d90e3e16cd6"
   }
  }
 },
 "nbformat": 4,
 "nbformat_minor": 5
}
