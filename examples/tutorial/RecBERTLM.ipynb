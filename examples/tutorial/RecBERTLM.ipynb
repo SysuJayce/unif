{
 "cells": [
  {
   "cell_type": "markdown",
   "id": "urban-divorce",
   "metadata": {},
   "source": [
    "# RecBERTLM\n",
    "\n",
    "可用的中文预训练参数：[`bert-base`](https://storage.googleapis.com/bert_models/2018_11_03/chinese_L-12_H-768_A-12.zip),[`roberta-wwm-ext-base`](https://drive.google.com/uc?export=download&id=1jMAKIJmPn7kADgD3yQZhpsqM-IRM1qZt),[`roberta-wwm-ext-large`](https://drive.google.com/uc?export=download&id=1dtad0FFzG11CBsawu8hvwwzU2R0FDI94),[`macbert-base`](https://drive.google.com/uc?export=download&id=1aV69OhYzIwj_hn-kO1RiBa-m8QAusQ5b),[`macbert-large`](https://drive.google.com/uc?export=download&id=1lWYxnk1EqTA2Q20_IShxBrCPc5VSDCkT)"
   ]
  },
  {
   "cell_type": "code",
   "execution_count": 1,
   "id": "rotary-academy",
   "metadata": {},
   "outputs": [
    {
     "name": "stdout",
     "output_type": "stream",
     "text": [
      "v2.4.7\n"
     ]
    }
   ],
   "source": [
    "import uf\n",
    "\n",
    "print(uf.__version__)"
   ]
  },
  {
   "cell_type": "code",
   "execution_count": 2,
   "id": "velvet-symbol",
   "metadata": {},
   "outputs": [
    {
     "name": "stdout",
     "output_type": "stream",
     "text": [
      "uf.RecBERTLM(\n",
      "    config_file=\"../../demo/bert_config.json\",\n",
      "    vocab_file=\"../../demo/vocab.txt\",\n",
      "    max_seq_length=20,\n",
      "    init_checkpoint=None,\n",
      "    output_dir=None,\n",
      "    gpu_ids=None,\n",
      "    add_prob=0.2,\n",
      "    del_prob=0,\n",
      "    do_lower_case=True,\n",
      "    truncate_method=\"LIFO\",\n",
      ")\n"
     ]
    }
   ],
   "source": [
    "model = uf.RecBERTLM('../../demo/bert_config.json', '../../demo/vocab.txt')\n",
    "print(model)"
   ]
  },
  {
   "cell_type": "code",
   "execution_count": 3,
   "id": "drawn-breathing",
   "metadata": {},
   "outputs": [],
   "source": [
    "X = ['天亮以前说再见', '笑着泪流满面', '去迎接应该你的', '更好的明天', \n",
    "     '他想知道那是谁', '为何总沉默寡言', '人群中也算抢眼', '抢眼的孤独难免']"
   ]
  },
  {
   "cell_type": "markdown",
   "id": "vanilla-fault",
   "metadata": {},
   "source": [
    "# 训练"
   ]
  },
  {
   "cell_type": "code",
   "execution_count": 4,
   "id": "excellent-religion",
   "metadata": {},
   "outputs": [
    {
     "name": "stdout",
     "output_type": "stream",
     "text": [
      "WARNING:tensorflow:From /Users/geyingli/Library/Python/3.8/lib/python/site-packages/tensorflow/python/util/dispatch.py:1096: calling dropout (from tensorflow.python.ops.nn_ops) with keep_prob is deprecated and will be removed in a future version.\n",
      "Instructions for updating:\n",
      "Please use `rate` instead of `keep_prob`. Rate should be set to `rate = 1 - keep_prob`.\n"
     ]
    },
    {
     "name": "stderr",
     "output_type": "stream",
     "text": [
      "/Users/geyingli/Library/Python/3.8/lib/python/site-packages/uf-2.4.7-py3.8.egg/uf/model/bert.py:272: UserWarning: `tf.layers.dense` is deprecated and will be removed in a future version. Please use `tf.keras.layers.Dense` instead.\n",
      "  query_layer = tf.layers.dense(\n",
      "/Users/geyingli/Library/Python/3.8/lib/python/site-packages/keras/legacy_tf_layers/core.py:255: UserWarning: `layer.apply` is deprecated and will be removed in a future version. Please use `layer.__call__` method instead.\n",
      "  return layer.apply(inputs)\n",
      "/Users/geyingli/Library/Python/3.8/lib/python/site-packages/uf-2.4.7-py3.8.egg/uf/model/bert.py:282: UserWarning: `tf.layers.dense` is deprecated and will be removed in a future version. Please use `tf.keras.layers.Dense` instead.\n",
      "  key_layer = tf.layers.dense(\n",
      "/Users/geyingli/Library/Python/3.8/lib/python/site-packages/uf-2.4.7-py3.8.egg/uf/model/bert.py:292: UserWarning: `tf.layers.dense` is deprecated and will be removed in a future version. Please use `tf.keras.layers.Dense` instead.\n",
      "  value_layer = tf.layers.dense(\n",
      "/Users/geyingli/Library/Python/3.8/lib/python/site-packages/uf-2.4.7-py3.8.egg/uf/model/bert.py:416: UserWarning: `tf.layers.dense` is deprecated and will be removed in a future version. Please use `tf.keras.layers.Dense` instead.\n",
      "  attention_output = tf.layers.dense(\n",
      "/Users/geyingli/Library/Python/3.8/lib/python/site-packages/uf-2.4.7-py3.8.egg/uf/model/bert.py:428: UserWarning: `tf.layers.dense` is deprecated and will be removed in a future version. Please use `tf.keras.layers.Dense` instead.\n",
      "  intermediate_output = tf.layers.dense(\n",
      "/Users/geyingli/Library/Python/3.8/lib/python/site-packages/uf-2.4.7-py3.8.egg/uf/model/bert.py:438: UserWarning: `tf.layers.dense` is deprecated and will be removed in a future version. Please use `tf.keras.layers.Dense` instead.\n",
      "  layer_output = tf.layers.dense(\n",
      "/Users/geyingli/Library/Python/3.8/lib/python/site-packages/uf-2.4.7-py3.8.egg/uf/model/recbert.py:177: UserWarning: `tf.layers.dense` is deprecated and will be removed in a future version. Please use `tf.keras.layers.Dense` instead.\n",
      "  logits = tf.layers.dense(\n",
      "/Users/geyingli/Library/Python/3.8/lib/python/site-packages/uf-2.4.7-py3.8.egg/uf/model/recbert.py:207: UserWarning: `tf.layers.dense` is deprecated and will be removed in a future version. Please use `tf.keras.layers.Dense` instead.\n",
      "  logits = tf.layers.dense(\n",
      "/Users/geyingli/Library/Python/3.8/lib/python/site-packages/uf-2.4.7-py3.8.egg/uf/model/recbert.py:214: UserWarning: `tf.layers.dense` is deprecated and will be removed in a future version. Please use `tf.keras.layers.Dense` instead.\n",
      "  logits = tf.layers.dense(\n",
      "/Users/geyingli/Library/Python/3.8/lib/python/site-packages/uf-2.4.7-py3.8.egg/uf/model/recbert.py:264: UserWarning: `tf.layers.dense` is deprecated and will be removed in a future version. Please use `tf.keras.layers.Dense` instead.\n",
      "  logits = tf.layers.dense(\n"
     ]
    },
    {
     "name": "stdout",
     "output_type": "stream",
     "text": [
      "INFO:tensorflow:Build graph with 319,200,008 parameters (among which 106,401,028 are trainable)\n",
      "INFO:tensorflow:Running local_init_op\n",
      "INFO:tensorflow:Done running local_init_op\n",
      "INFO:tensorflow:Running training on 8 samples (step 0 -> 20)\n",
      "INFO:tensorflow:step 1, add_accuracy 0.5962, add_loss 0.618726, 0.15 steps/sec, 1.19 examples/sec\n",
      "INFO:tensorflow:step 2, add_accuracy 0.8269, add_loss 0.542479, 0.64 steps/sec, 5.08 examples/sec\n",
      "INFO:tensorflow:step 3, add_accuracy 0.8269, add_loss 0.243737, 0.59 steps/sec, 4.71 examples/sec\n",
      "INFO:tensorflow:step 4, add_accuracy 0.8269, add_loss 0.270755, 0.63 steps/sec, 5.03 examples/sec\n",
      "INFO:tensorflow:step 5, add_accuracy 0.8462, add_loss 0.209115, 0.60 steps/sec, 4.82 examples/sec\n",
      "INFO:tensorflow:step 6, add_accuracy 0.8462, add_loss 0.126949, 0.64 steps/sec, 5.11 examples/sec\n",
      "INFO:tensorflow:step 7, add_accuracy 0.8654, add_loss 0.111155, 0.63 steps/sec, 5.07 examples/sec\n",
      "INFO:tensorflow:step 8, add_accuracy 0.8846, add_loss 0.110815, 0.63 steps/sec, 5.05 examples/sec\n",
      "INFO:tensorflow:step 9, add_accuracy 0.9423, add_loss 0.059695, 0.62 steps/sec, 4.97 examples/sec\n",
      "INFO:tensorflow:step 10, add_accuracy 0.9615, add_loss 0.067266, 0.62 steps/sec, 4.97 examples/sec\n",
      "INFO:tensorflow:step 11, add_accuracy 0.9615, add_loss 0.065612, 0.62 steps/sec, 4.94 examples/sec\n",
      "INFO:tensorflow:step 12, add_accuracy 0.9615, add_loss 0.049269, 0.60 steps/sec, 4.82 examples/sec\n",
      "INFO:tensorflow:step 13, add_accuracy 0.9615, add_loss 0.043961, 0.61 steps/sec, 4.86 examples/sec\n",
      "INFO:tensorflow:step 14, add_accuracy 0.9615, add_loss 0.049654, 0.60 steps/sec, 4.77 examples/sec\n",
      "INFO:tensorflow:step 15, add_accuracy 0.9615, add_loss 0.062357, 0.61 steps/sec, 4.87 examples/sec\n",
      "INFO:tensorflow:step 16, add_accuracy 0.9615, add_loss 0.051925, 0.62 steps/sec, 4.92 examples/sec\n",
      "INFO:tensorflow:step 17, add_accuracy 0.9615, add_loss 0.045052, 0.63 steps/sec, 5.02 examples/sec\n",
      "INFO:tensorflow:step 18, add_accuracy 0.9808, add_loss 0.038575, 0.60 steps/sec, 4.79 examples/sec\n",
      "INFO:tensorflow:step 19, add_accuracy 1.0000, add_loss 0.033095, 0.62 steps/sec, 4.92 examples/sec\n",
      "INFO:tensorflow:step 20, add_accuracy 0.9808, add_loss 0.035609, 0.61 steps/sec, 4.89 examples/sec\n"
     ]
    }
   ],
   "source": [
    "model.fit(X, total_steps=20)"
   ]
  },
  {
   "cell_type": "markdown",
   "id": "fallen-hundred",
   "metadata": {},
   "source": [
    "# 推理"
   ]
  },
  {
   "cell_type": "code",
   "execution_count": 9,
   "id": "opposite-pantyhose",
   "metadata": {},
   "outputs": [
    {
     "name": "stdout",
     "output_type": "stream",
     "text": [
      "INFO:tensorflow:Time usage 0m-0.10s, 10.08 steps/sec, 40.33 examples/sec\n",
      "[   0    0    0    0    0    0    0    0    0    0    0    0    0 1086\n",
      "    0    0    0    0    0    0]\n",
      "[   0    0 2600    0    0    0    0    0    0    0    0    0    0    0\n",
      "    0    0    0    0    0    0]\n",
      "[0 0 0 0 0 0 0 0 0 0 0 0 0 0 0 0 0 0 0 0]\n",
      "[   0    0    0    0    0    0    0    0 6816    0    0    0    0 1086\n",
      "    0    0    0    0    0    0]\n"
     ]
    },
    {
     "data": {
      "text/plain": [
       "{'preds': [['他', '想', '知', '道', '那', '是', '谁', '道'],\n",
       "  ['为', '何', '{add:总}', '总', '沉', '默', '寡'],\n",
       "  ['群', '人', '面', '群', '中', '也', '抢', '面'],\n",
       "  ['抢', '眼', '的', '孤', '为', '独', '道', '难', '{add:迎}', '免']]}"
      ]
     },
     "execution_count": 9,
     "metadata": {},
     "output_type": "execute_result"
    }
   ],
   "source": [
    "X_tokenized = [\n",
    "    ['他', '想', '知', '道', '那', '是', '谁', '道'],\n",
    "    ['为', '何', '总', '沉', '默', '寡'], \n",
    "    ['群', '人', '面', '群', '中', '也', '抢', '面'],\n",
    "    ['抢', '眼', '的', '孤', '为', '独', '道', '难', '免'],\n",
    "]    # 人为增加一些错误，看模型是否能识别并纠正\n",
    "model.predict(X_tokenized=X_tokenized)"
   ]
  }
 ],
 "metadata": {
  "kernelspec": {
   "display_name": "Python 3",
   "language": "python",
   "name": "python3"
  },
  "language_info": {
   "codemirror_mode": {
    "name": "ipython",
    "version": 3
   },
   "file_extension": ".py",
   "mimetype": "text/x-python",
   "name": "python",
   "nbconvert_exporter": "python",
   "pygments_lexer": "ipython3",
   "version": "3.8.2"
  }
 },
 "nbformat": 4,
 "nbformat_minor": 5
}
