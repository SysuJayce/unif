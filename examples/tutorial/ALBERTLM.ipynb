{
 "cells": [
  {
   "cell_type": "code",
   "execution_count": 1,
   "id": "rotary-academy",
   "metadata": {},
   "outputs": [
    {
     "name": "stdout",
     "output_type": "stream",
     "text": [
      "v2.3.2\n"
     ]
    }
   ],
   "source": [
    "import uf\n",
    "\n",
    "print(uf.__version__)"
   ]
  },
  {
   "cell_type": "code",
   "execution_count": 2,
   "id": "velvet-symbol",
   "metadata": {},
   "outputs": [
    {
     "name": "stdout",
     "output_type": "stream",
     "text": [
      "uf.ALBERTLM(config_file=\"../../demo/albert_config.json\", vocab_file=\"../../demo/vocab.txt\", max_seq_length=128, init_checkpoint=None, output_dir=None, gpu_ids=None, drop_pooler=False, do_sample_sentence=True, max_predictions_per_seq=20, masked_lm_prob=0.15, short_seq_prob=0.1, n_gram=3, favor_shorterngram=True, do_permutation=False, do_whole_word_mask=True, do_lower_case=True, truncate_method=\"LIFO\")\n"
     ]
    }
   ],
   "source": [
    "model = uf.ALBERTLM('../../demo/albert_config.json', '../../demo/vocab.txt')\n",
    "print(model)"
   ]
  },
  {
   "cell_type": "code",
   "execution_count": 3,
   "id": "drawn-breathing",
   "metadata": {},
   "outputs": [],
   "source": [
    "X = [['天亮以前说再见，', '笑着泪流满面，', '去迎接应该你的，', '更好的明天。'],    # 每一条样本是一个doc，doc内可以由多个句子组成\n",
    "     '他想知道那是谁, 为何总沉默寡言, 人群中也算抢眼, 抢眼的孤独难免']    # doc也可以是一个完整的文段"
   ]
  },
  {
   "cell_type": "markdown",
   "id": "vanilla-fault",
   "metadata": {},
   "source": [
    "# 训练"
   ]
  },
  {
   "cell_type": "code",
   "execution_count": 4,
   "id": "excellent-religion",
   "metadata": {},
   "outputs": [
    {
     "name": "stderr",
     "output_type": "stream",
     "text": [
      "/Users/geyingli/Library/Python/3.8/lib/python/site-packages/uf-2.3.2-py3.8.egg/uf/modeling/albert.py:129: UserWarning: `tf.layers.dense` is deprecated and will be removed in a future version. Please use `tf.keras.layers.Dense` instead.\n",
      "  self.pooled_output = tf.layers.dense(\n",
      "/Users/geyingli/Library/Python/3.8/lib/python/site-packages/keras/legacy_tf_layers/core.py:255: UserWarning: `layer.apply` is deprecated and will be removed in a future version. Please use `layer.__call__` method instead.\n",
      "  return layer.apply(inputs)\n",
      "/Users/geyingli/Library/Python/3.8/lib/python/site-packages/uf-2.3.2-py3.8.egg/uf/modeling/albert.py:217: UserWarning: `tf.layers.dense` is deprecated and will be removed in a future version. Please use `tf.keras.layers.Dense` instead.\n",
      "  input_tensor = tf.layers.dense(\n"
     ]
    },
    {
     "name": "stdout",
     "output_type": "stream",
     "text": [
      "INFO:tensorflow:Build graph with 32,003,358 parameters (among which 10,667,786 are trainable)\n",
      "INFO:tensorflow:Running local_init_op\n",
      "INFO:tensorflow:Done running local_init_op\n",
      "INFO:tensorflow:Running training on 3 samples (step 0 -> 20)\n",
      "INFO:tensorflow:step 1, MLM accuracy 0.0000, SOP accuracy 0.3333, MLM loss 2.311987, SOP loss 0.716559, 0.07 steps/sec, 0.20 examples/sec\n",
      "INFO:tensorflow:step 2, MLM accuracy 0.0000, SOP accuracy 0.6667, MLM loss 2.250077, SOP loss 0.615967, 0.32 steps/sec, 0.96 examples/sec\n",
      "INFO:tensorflow:step 3, MLM accuracy 0.2857, SOP accuracy 0.6667, MLM loss 2.209109, SOP loss 0.587647, 0.34 steps/sec, 1.01 examples/sec\n",
      "INFO:tensorflow:step 4, MLM accuracy 0.2857, SOP accuracy 0.6667, MLM loss 2.180853, SOP loss 0.560792, 0.33 steps/sec, 0.98 examples/sec\n",
      "INFO:tensorflow:step 5, MLM accuracy 0.2857, SOP accuracy 0.6667, MLM loss 2.161282, SOP loss 0.513809, 0.42 steps/sec, 1.25 examples/sec\n",
      "INFO:tensorflow:step 6, MLM accuracy 0.2857, SOP accuracy 0.6667, MLM loss 2.144364, SOP loss 0.429130, 0.39 steps/sec, 1.18 examples/sec\n",
      "INFO:tensorflow:step 7, MLM accuracy 0.2857, SOP accuracy 1.0000, MLM loss 2.124765, SOP loss 0.312756, 0.34 steps/sec, 1.02 examples/sec\n",
      "INFO:tensorflow:step 8, MLM accuracy 0.2857, SOP accuracy 1.0000, MLM loss 2.105973, SOP loss 0.192811, 0.28 steps/sec, 0.83 examples/sec\n",
      "INFO:tensorflow:step 9, MLM accuracy 0.4286, SOP accuracy 1.0000, MLM loss 2.086223, SOP loss 0.101830, 0.27 steps/sec, 0.82 examples/sec\n",
      "INFO:tensorflow:step 10, MLM accuracy 0.5000, SOP accuracy 1.0000, MLM loss 2.068321, SOP loss 0.055406, 0.37 steps/sec, 1.12 examples/sec\n",
      "INFO:tensorflow:step 11, MLM accuracy 0.5714, SOP accuracy 1.0000, MLM loss 2.052573, SOP loss 0.031886, 0.36 steps/sec, 1.09 examples/sec\n",
      "INFO:tensorflow:step 12, MLM accuracy 0.7857, SOP accuracy 1.0000, MLM loss 2.036312, SOP loss 0.023250, 0.37 steps/sec, 1.12 examples/sec\n",
      "INFO:tensorflow:step 13, MLM accuracy 0.7857, SOP accuracy 1.0000, MLM loss 2.019577, SOP loss 0.018698, 0.29 steps/sec, 0.88 examples/sec\n",
      "INFO:tensorflow:step 14, MLM accuracy 0.8571, SOP accuracy 1.0000, MLM loss 2.004395, SOP loss 0.015193, 0.29 steps/sec, 0.88 examples/sec\n",
      "INFO:tensorflow:step 15, MLM accuracy 0.9286, SOP accuracy 1.0000, MLM loss 1.990927, SOP loss 0.013164, 0.21 steps/sec, 0.64 examples/sec\n",
      "INFO:tensorflow:step 16, MLM accuracy 0.9286, SOP accuracy 1.0000, MLM loss 1.978413, SOP loss 0.012021, 0.25 steps/sec, 0.75 examples/sec\n",
      "INFO:tensorflow:step 17, MLM accuracy 1.0000, SOP accuracy 1.0000, MLM loss 1.968267, SOP loss 0.011011, 0.25 steps/sec, 0.74 examples/sec\n",
      "INFO:tensorflow:step 18, MLM accuracy 1.0000, SOP accuracy 1.0000, MLM loss 1.960534, SOP loss 0.010227, 0.28 steps/sec, 0.85 examples/sec\n",
      "INFO:tensorflow:step 19, MLM accuracy 1.0000, SOP accuracy 1.0000, MLM loss 1.954906, SOP loss 0.009807, 0.28 steps/sec, 0.83 examples/sec\n",
      "INFO:tensorflow:step 20, MLM accuracy 1.0000, SOP accuracy 1.0000, MLM loss 1.951022, SOP loss 0.009609, 0.34 steps/sec, 1.03 examples/sec\n"
     ]
    }
   ],
   "source": [
    "model.fit(X, total_steps=20)"
   ]
  },
  {
   "cell_type": "markdown",
   "id": "fallen-hundred",
   "metadata": {},
   "source": [
    "# 推理"
   ]
  },
  {
   "cell_type": "code",
   "execution_count": 5,
   "id": "opposite-pantyhose",
   "metadata": {},
   "outputs": [
    {
     "name": "stdout",
     "output_type": "stream",
     "text": [
      "INFO:tensorflow:Time usage 0m-3.58s, 0.28 steps/sec, 0.28 examples/sec\n"
     ]
    },
    {
     "data": {
      "text/plain": [
       "{'mlm_preds': [['，']],\n",
       " 'sop_preds': [0],\n",
       " 'sop_probs': array([[0.9775654 , 0.02243462]], dtype=float32)}"
      ]
     },
     "execution_count": 5,
     "metadata": {},
     "output_type": "execute_result"
    }
   ],
   "source": [
    "X_tokenized = [['天', '亮', '以', '[MASK]', '说', '再', '见']]    # 可以手动赋予Mask\n",
    "model.predict(X_tokenized=X_tokenized)"
   ]
  }
 ],
 "metadata": {
  "kernelspec": {
   "display_name": "Python 3",
   "language": "python",
   "name": "python3"
  },
  "language_info": {
   "codemirror_mode": {
    "name": "ipython",
    "version": 3
   },
   "file_extension": ".py",
   "mimetype": "text/x-python",
   "name": "python",
   "nbconvert_exporter": "python",
   "pygments_lexer": "ipython3",
   "version": "3.8.2"
  }
 },
 "nbformat": 4,
 "nbformat_minor": 5
}
