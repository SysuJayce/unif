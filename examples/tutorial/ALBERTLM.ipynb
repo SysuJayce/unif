{
 "cells": [
  {
   "cell_type": "markdown",
   "id": "capable-feeling",
   "metadata": {},
   "source": [
    "# ALBERTLM\n",
    "\n",
    "可用的中文预训练参数：[`albert-tiny`](https://storage.googleapis.com/albert_zh/albert_tiny_zh_google.zip),[`albert-small`](https://storage.googleapis.com/albert_zh/albert_small_zh_google.zip),[`albert-base`](https://storage.googleapis.com/albert_zh/albert_base_zh_additional_36k_steps.zip),[`albert-large`](https://storage.googleapis.com/albert_zh/albert_large_zh.zip),[`albert-xlarge`](https://storage.googleapis.com/albert_zh/albert_xlarge_zh_183k.zip)"
   ]
  },
  {
   "cell_type": "code",
   "execution_count": 1,
   "id": "rotary-academy",
   "metadata": {},
   "outputs": [
    {
     "name": "stdout",
     "output_type": "stream",
     "text": [
      "v2.4.5\n"
     ]
    }
   ],
   "source": [
    "import uf\n",
    "\n",
    "print(uf.__version__)"
   ]
  },
  {
   "cell_type": "code",
   "execution_count": 2,
   "id": "velvet-symbol",
   "metadata": {},
   "outputs": [
    {
     "name": "stdout",
     "output_type": "stream",
     "text": [
      "uf.ALBERTLM(\n",
      "    config_file=\"../../demo/albert_config.json\",\n",
      "    vocab_file=\"../../demo/vocab.txt\",\n",
      "    max_seq_length=128,\n",
      "    init_checkpoint=None,\n",
      "    output_dir=None,\n",
      "    gpu_ids=None,\n",
      "    drop_pooler=False,\n",
      "    do_sample_sentence=True,\n",
      "    max_predictions_per_seq=20,\n",
      "    masked_lm_prob=0.15,\n",
      "    short_seq_prob=0.1,\n",
      "    n_gram=3,\n",
      "    favor_shorterngram=True,\n",
      "    do_permutation=False,\n",
      "    do_whole_word_mask=True,\n",
      "    do_lower_case=True,\n",
      "    truncate_method=\"LIFO\",\n",
      ")\n"
     ]
    }
   ],
   "source": [
    "model = uf.ALBERTLM('../../demo/albert_config.json', '../../demo/vocab.txt')\n",
    "print(model)"
   ]
  },
  {
   "cell_type": "code",
   "execution_count": 3,
   "id": "drawn-breathing",
   "metadata": {},
   "outputs": [],
   "source": [
    "X = [['天亮以前说再见，', '笑着泪流满面，', '去迎接应该你的，', '更好的明天。'],    # 每一条样本是一个doc，doc内可以由多个句子组成\n",
    "     '他想知道那是谁, 为何总沉默寡言, 人群中也算抢眼, 抢眼的孤独难免']    # doc也可以是一个完整的文段"
   ]
  },
  {
   "cell_type": "markdown",
   "id": "vanilla-fault",
   "metadata": {},
   "source": [
    "# 训练"
   ]
  },
  {
   "cell_type": "code",
   "execution_count": 4,
   "id": "excellent-religion",
   "metadata": {},
   "outputs": [
    {
     "name": "stderr",
     "output_type": "stream",
     "text": [
      "/Users/geyingli/Library/Python/3.8/lib/python/site-packages/uf-2.4.5-py3.8.egg/uf/model/albert.py:131: UserWarning: `tf.layers.dense` is deprecated and will be removed in a future version. Please use `tf.keras.layers.Dense` instead.\n",
      "  self.pooled_output = tf.layers.dense(\n",
      "/Users/geyingli/Library/Python/3.8/lib/python/site-packages/keras/legacy_tf_layers/core.py:255: UserWarning: `layer.apply` is deprecated and will be removed in a future version. Please use `layer.__call__` method instead.\n",
      "  return layer.apply(inputs)\n",
      "/Users/geyingli/Library/Python/3.8/lib/python/site-packages/uf-2.4.5-py3.8.egg/uf/model/albert.py:219: UserWarning: `tf.layers.dense` is deprecated and will be removed in a future version. Please use `tf.keras.layers.Dense` instead.\n",
      "  input_tensor = tf.layers.dense(\n"
     ]
    },
    {
     "name": "stdout",
     "output_type": "stream",
     "text": [
      "INFO:tensorflow:Build graph with 32,003,358 parameters (among which 10,667,786 are trainable)\n",
      "INFO:tensorflow:Running local_init_op\n",
      "INFO:tensorflow:Done running local_init_op\n",
      "INFO:tensorflow:Running training on 5 samples (step 0 -> 20)\n",
      "INFO:tensorflow:step 1, MLM accuracy 0.0000, SOP accuracy 1.0000, MLM loss 3.103384, SOP loss 0.557269, 0.19 steps/sec, 0.95 examples/sec\n",
      "INFO:tensorflow:step 2, MLM accuracy 0.0000, SOP accuracy 1.0000, MLM loss 3.088161, SOP loss 0.141682, 0.46 steps/sec, 2.29 examples/sec\n",
      "INFO:tensorflow:step 3, MLM accuracy 0.0000, SOP accuracy 1.0000, MLM loss 3.042939, SOP loss 0.052070, 0.46 steps/sec, 2.31 examples/sec\n",
      "INFO:tensorflow:step 4, MLM accuracy 0.0000, SOP accuracy 1.0000, MLM loss 3.002910, SOP loss 0.033878, 0.46 steps/sec, 2.31 examples/sec\n",
      "INFO:tensorflow:step 5, MLM accuracy 0.0968, SOP accuracy 1.0000, MLM loss 2.981127, SOP loss 0.027065, 0.46 steps/sec, 2.28 examples/sec\n",
      "INFO:tensorflow:step 6, MLM accuracy 0.0968, SOP accuracy 1.0000, MLM loss 2.964736, SOP loss 0.018006, 0.46 steps/sec, 2.30 examples/sec\n",
      "INFO:tensorflow:step 7, MLM accuracy 0.0968, SOP accuracy 1.0000, MLM loss 2.948869, SOP loss 0.011777, 0.48 steps/sec, 2.41 examples/sec\n",
      "INFO:tensorflow:step 8, MLM accuracy 0.1290, SOP accuracy 1.0000, MLM loss 2.933871, SOP loss 0.008317, 0.45 steps/sec, 2.23 examples/sec\n",
      "INFO:tensorflow:step 9, MLM accuracy 0.1290, SOP accuracy 1.0000, MLM loss 2.918163, SOP loss 0.006445, 0.42 steps/sec, 2.08 examples/sec\n",
      "INFO:tensorflow:step 10, MLM accuracy 0.1935, SOP accuracy 1.0000, MLM loss 2.899300, SOP loss 0.005139, 0.42 steps/sec, 2.09 examples/sec\n",
      "INFO:tensorflow:step 11, MLM accuracy 0.2581, SOP accuracy 1.0000, MLM loss 2.877703, SOP loss 0.004276, 0.45 steps/sec, 2.23 examples/sec\n",
      "INFO:tensorflow:step 12, MLM accuracy 0.4516, SOP accuracy 1.0000, MLM loss 2.854404, SOP loss 0.003899, 0.43 steps/sec, 2.17 examples/sec\n",
      "INFO:tensorflow:step 13, MLM accuracy 0.5484, SOP accuracy 1.0000, MLM loss 2.833127, SOP loss 0.003908, 0.44 steps/sec, 2.20 examples/sec\n",
      "INFO:tensorflow:step 14, MLM accuracy 0.5484, SOP accuracy 1.0000, MLM loss 2.813330, SOP loss 0.003938, 0.46 steps/sec, 2.30 examples/sec\n",
      "INFO:tensorflow:step 15, MLM accuracy 0.6129, SOP accuracy 1.0000, MLM loss 2.795414, SOP loss 0.003717, 0.44 steps/sec, 2.20 examples/sec\n",
      "INFO:tensorflow:step 16, MLM accuracy 0.7742, SOP accuracy 1.0000, MLM loss 2.781113, SOP loss 0.003507, 0.43 steps/sec, 2.14 examples/sec\n",
      "INFO:tensorflow:step 17, MLM accuracy 0.8065, SOP accuracy 1.0000, MLM loss 2.769134, SOP loss 0.003367, 0.42 steps/sec, 2.11 examples/sec\n",
      "INFO:tensorflow:step 18, MLM accuracy 0.8387, SOP accuracy 1.0000, MLM loss 2.758634, SOP loss 0.003247, 0.43 steps/sec, 2.17 examples/sec\n",
      "INFO:tensorflow:step 19, MLM accuracy 0.8387, SOP accuracy 1.0000, MLM loss 2.750284, SOP loss 0.003116, 0.42 steps/sec, 2.09 examples/sec\n",
      "INFO:tensorflow:step 20, MLM accuracy 0.8710, SOP accuracy 1.0000, MLM loss 2.744446, SOP loss 0.003016, 0.44 steps/sec, 2.22 examples/sec\n"
     ]
    }
   ],
   "source": [
    "model.fit(X, total_steps=20)"
   ]
  },
  {
   "cell_type": "markdown",
   "id": "fallen-hundred",
   "metadata": {},
   "source": [
    "# 推理"
   ]
  },
  {
   "cell_type": "code",
   "execution_count": 5,
   "id": "opposite-pantyhose",
   "metadata": {},
   "outputs": [
    {
     "name": "stdout",
     "output_type": "stream",
     "text": [
      "INFO:tensorflow:Time usage 0m-0.84s, 1.19 steps/sec, 1.19 examples/sec\n"
     ]
    },
    {
     "data": {
      "text/plain": [
       "{'mlm_preds': [['中']],\n",
       " 'sop_preds': [1],\n",
       " 'sop_probs': array([[0.00648054, 0.9935195 ]], dtype=float32)}"
      ]
     },
     "execution_count": 5,
     "metadata": {},
     "output_type": "execute_result"
    }
   ],
   "source": [
    "X_tokenized = [['天', '亮', '以', '[MASK]', '说', '再', '见']]    # 可以手动赋予Mask\n",
    "model.predict(X_tokenized=X_tokenized)"
   ]
  }
 ],
 "metadata": {
  "kernelspec": {
   "display_name": "Python 3",
   "language": "python",
   "name": "python3"
  },
  "language_info": {
   "codemirror_mode": {
    "name": "ipython",
    "version": 3
   },
   "file_extension": ".py",
   "mimetype": "text/x-python",
   "name": "python",
   "nbconvert_exporter": "python",
   "pygments_lexer": "ipython3",
   "version": "3.8.2"
  }
 },
 "nbformat": 4,
 "nbformat_minor": 5
}
