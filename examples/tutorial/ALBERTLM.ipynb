{
 "cells": [
  {
   "cell_type": "markdown",
   "id": "capable-feeling",
   "metadata": {},
   "source": [
    "# ALBERTLM\n",
    "\n",
    "可用的中文预训练参数：[`albert-tiny`](https://storage.googleapis.com/albert_zh/albert_tiny_zh_google.zip),[`albert-small`](https://storage.googleapis.com/albert_zh/albert_small_zh_google.zip),[`albert-base`](https://storage.googleapis.com/albert_zh/albert_base_zh_additional_36k_steps.zip),[`albert-large`](https://storage.googleapis.com/albert_zh/albert_large_zh.zip),[`albert-xlarge`](https://storage.googleapis.com/albert_zh/albert_xlarge_zh_183k.zip)"
   ]
  },
  {
   "cell_type": "code",
   "execution_count": 7,
   "id": "rotary-academy",
   "metadata": {},
   "outputs": [
    {
     "name": "stdout",
     "output_type": "stream",
     "text": [
      "v2.5.0\n"
     ]
    }
   ],
   "source": [
    "import uf\n",
    "\n",
    "print(uf.__version__)"
   ]
  },
  {
   "cell_type": "code",
   "execution_count": 8,
   "id": "velvet-symbol",
   "metadata": {},
   "outputs": [
    {
     "name": "stdout",
     "output_type": "stream",
     "text": [
      "uf.ALBERTLM(\n",
      "    config_file=\"../../ref/albert_config.json\",\n",
      "    vocab_file=\"../../ref/vocab.txt\",\n",
      "    max_seq_length=128,\n",
      "    init_checkpoint=None,\n",
      "    output_dir=None,\n",
      "    gpu_ids=None,\n",
      "    drop_pooler=False,\n",
      "    do_sample_sentence=True,\n",
      "    max_predictions_per_seq=20,\n",
      "    masked_lm_prob=0.15,\n",
      "    short_seq_prob=0.1,\n",
      "    n_gram=3,\n",
      "    favor_shorterngram=True,\n",
      "    do_permutation=False,\n",
      "    do_whole_word_mask=True,\n",
      "    do_lower_case=True,\n",
      "    truncate_method=\"LIFO\",\n",
      ")\n"
     ]
    }
   ],
   "source": [
    "model = uf.ALBERTLM(\"../../ref/albert_config.json\", \"../../ref/vocab.txt\")\n",
    "print(model)"
   ]
  },
  {
   "cell_type": "code",
   "execution_count": 9,
   "id": "drawn-breathing",
   "metadata": {},
   "outputs": [],
   "source": [
    "X = [\n",
    "     [\"天亮以前说再见，\", \"笑着泪流满面，\", \"去迎接应该你的，\", \"更好的明天。\"],     # 样本可以是一个字符串list\n",
    "     \"他想知道那是谁，为何总沉默寡言，人群中也算抢眼，抢眼的孤独难免。\",              # 也可以是一个完整字符串\n",
    "]"
   ]
  },
  {
   "cell_type": "markdown",
   "id": "vanilla-fault",
   "metadata": {},
   "source": [
    "# 训练"
   ]
  },
  {
   "cell_type": "code",
   "execution_count": 10,
   "id": "excellent-religion",
   "metadata": {},
   "outputs": [
    {
     "name": "stderr",
     "output_type": "stream",
     "text": [
      "c:\\Users\\Luv_d\\AppData\\Local\\Programs\\Python\\Python39\\lib\\site-packages\\uf-2.5.0-py3.9.egg\\uf\\apps\\albert\\albert.py:131: UserWarning: `tf.layers.dense` is deprecated and will be removed in a future version. Please use `tf.keras.layers.Dense` instead.\n",
      "  self.pooled_output = tf.layers.dense(\n",
      "c:\\Users\\Luv_d\\AppData\\Local\\Programs\\Python\\Python39\\lib\\site-packages\\uf-2.5.0-py3.9.egg\\uf\\apps\\albert\\albert.py:219: UserWarning: `tf.layers.dense` is deprecated and will be removed in a future version. Please use `tf.keras.layers.Dense` instead.\n",
      "  input_tensor = tf.layers.dense(\n"
     ]
    },
    {
     "name": "stdout",
     "output_type": "stream",
     "text": [
      "INFO:tensorflow:Build graph with 32,003,358 parameters (among which 10,667,786 are trainable)\n",
      "INFO:tensorflow:Running local_init_op\n",
      "INFO:tensorflow:Done running local_init_op\n",
      "INFO:tensorflow:Running training on 2 samples (step 0 -> 20)\n",
      "INFO:tensorflow:step 1, MLM accuracy 0.0000, SOP accuracy 0.0000, MLM loss 2.991512, SOP loss 0.766826, 0.34 steps/sec, 0.67 examples/sec\n",
      "INFO:tensorflow:step 2, MLM accuracy 0.0000, SOP accuracy 1.0000, MLM loss 2.937890, SOP loss 0.219757, 1.27 steps/sec, 2.54 examples/sec\n",
      "INFO:tensorflow:step 3, MLM accuracy 0.0000, SOP accuracy 1.0000, MLM loss 2.888492, SOP loss 0.075899, 1.30 steps/sec, 2.59 examples/sec\n",
      "INFO:tensorflow:step 4, MLM accuracy 0.1667, SOP accuracy 1.0000, MLM loss 2.850666, SOP loss 0.034067, 1.33 steps/sec, 2.66 examples/sec\n",
      "INFO:tensorflow:step 5, MLM accuracy 0.1667, SOP accuracy 1.0000, MLM loss 2.812010, SOP loss 0.018975, 1.29 steps/sec, 2.57 examples/sec\n",
      "INFO:tensorflow:step 6, MLM accuracy 0.2500, SOP accuracy 1.0000, MLM loss 2.776154, SOP loss 0.012453, 1.31 steps/sec, 2.62 examples/sec\n",
      "INFO:tensorflow:step 7, MLM accuracy 0.3333, SOP accuracy 1.0000, MLM loss 2.744281, SOP loss 0.009341, 1.18 steps/sec, 2.35 examples/sec\n",
      "INFO:tensorflow:step 8, MLM accuracy 0.7500, SOP accuracy 1.0000, MLM loss 2.715235, SOP loss 0.007303, 1.07 steps/sec, 2.13 examples/sec\n",
      "INFO:tensorflow:step 9, MLM accuracy 0.8333, SOP accuracy 1.0000, MLM loss 2.690742, SOP loss 0.006817, 1.15 steps/sec, 2.30 examples/sec\n",
      "INFO:tensorflow:step 10, MLM accuracy 0.8333, SOP accuracy 1.0000, MLM loss 2.666489, SOP loss 0.006494, 1.16 steps/sec, 2.33 examples/sec\n",
      "INFO:tensorflow:step 11, MLM accuracy 0.9167, SOP accuracy 1.0000, MLM loss 2.643500, SOP loss 0.005748, 1.26 steps/sec, 2.52 examples/sec\n",
      "INFO:tensorflow:step 12, MLM accuracy 1.0000, SOP accuracy 1.0000, MLM loss 2.624496, SOP loss 0.004920, 1.25 steps/sec, 2.49 examples/sec\n",
      "INFO:tensorflow:step 13, MLM accuracy 1.0000, SOP accuracy 1.0000, MLM loss 2.609503, SOP loss 0.004565, 1.22 steps/sec, 2.44 examples/sec\n",
      "INFO:tensorflow:step 14, MLM accuracy 1.0000, SOP accuracy 1.0000, MLM loss 2.596085, SOP loss 0.004373, 1.18 steps/sec, 2.36 examples/sec\n",
      "INFO:tensorflow:step 15, MLM accuracy 1.0000, SOP accuracy 1.0000, MLM loss 2.584246, SOP loss 0.004195, 1.18 steps/sec, 2.36 examples/sec\n",
      "INFO:tensorflow:step 16, MLM accuracy 1.0000, SOP accuracy 1.0000, MLM loss 2.574729, SOP loss 0.003946, 1.21 steps/sec, 2.42 examples/sec\n",
      "INFO:tensorflow:step 17, MLM accuracy 1.0000, SOP accuracy 1.0000, MLM loss 2.567081, SOP loss 0.003705, 1.26 steps/sec, 2.52 examples/sec\n",
      "INFO:tensorflow:step 18, MLM accuracy 1.0000, SOP accuracy 1.0000, MLM loss 2.560179, SOP loss 0.003499, 1.25 steps/sec, 2.50 examples/sec\n",
      "INFO:tensorflow:step 19, MLM accuracy 1.0000, SOP accuracy 1.0000, MLM loss 2.555166, SOP loss 0.003363, 1.05 steps/sec, 2.10 examples/sec\n",
      "INFO:tensorflow:step 20, MLM accuracy 1.0000, SOP accuracy 1.0000, MLM loss 2.551931, SOP loss 0.003297, 1.06 steps/sec, 2.12 examples/sec\n"
     ]
    }
   ],
   "source": [
    "model.fit(X, total_steps=20)"
   ]
  },
  {
   "cell_type": "code",
   "execution_count": 11,
   "id": "785370c4",
   "metadata": {},
   "outputs": [
    {
     "name": "stdout",
     "output_type": "stream",
     "text": [
      "input_ids: [ 101  103 1962 4638 3209 1921  511  102  103  103  103 1184 6432 1086\n",
      " 6224 8024 5010 4708 3801 3837 4007 7481 8024 1343 6816  103 2418 6421\n",
      "  872 4638 8024  102    0    0    0    0    0    0    0    0    0    0\n",
      "    0    0    0    0    0    0    0    0    0    0    0    0    0    0\n",
      "    0    0    0    0    0    0    0    0    0    0    0    0    0    0\n",
      "    0    0    0    0    0    0    0    0    0    0    0    0    0    0\n",
      "    0    0    0    0    0    0    0    0    0    0    0    0    0    0\n",
      "    0    0    0    0    0    0    0    0    0    0    0    0    0    0\n",
      "    0    0    0    0    0    0    0    0    0    0    0    0    0    0\n",
      "    0    0]\n",
      "input_tokens: ['[CLS]', '[MASK]', '好', '的', '明', '天', '。', '[SEP]', '[MASK]', '[MASK]', '[MASK]', '前', '说', '再', '见', '，', '笑', '着', '泪', '流', '满', '面', '，', '去', '迎', '[MASK]', '应', '该', '你', '的', '，', '[SEP]', '[PAD]', '[PAD]', '[PAD]', '[PAD]', '[PAD]', '[PAD]', '[PAD]', '[PAD]', '[PAD]', '[PAD]', '[PAD]', '[PAD]', '[PAD]', '[PAD]', '[PAD]', '[PAD]', '[PAD]', '[PAD]', '[PAD]', '[PAD]', '[PAD]', '[PAD]', '[PAD]', '[PAD]', '[PAD]', '[PAD]', '[PAD]', '[PAD]', '[PAD]', '[PAD]', '[PAD]', '[PAD]', '[PAD]', '[PAD]', '[PAD]', '[PAD]', '[PAD]', '[PAD]', '[PAD]', '[PAD]', '[PAD]', '[PAD]', '[PAD]', '[PAD]', '[PAD]', '[PAD]', '[PAD]', '[PAD]', '[PAD]', '[PAD]', '[PAD]', '[PAD]', '[PAD]', '[PAD]', '[PAD]', '[PAD]', '[PAD]', '[PAD]', '[PAD]', '[PAD]', '[PAD]', '[PAD]', '[PAD]', '[PAD]', '[PAD]', '[PAD]', '[PAD]', '[PAD]', '[PAD]', '[PAD]', '[PAD]', '[PAD]', '[PAD]', '[PAD]', '[PAD]', '[PAD]', '[PAD]', '[PAD]', '[PAD]', '[PAD]', '[PAD]', '[PAD]', '[PAD]', '[PAD]', '[PAD]', '[PAD]', '[PAD]', '[PAD]', '[PAD]', '[PAD]', '[PAD]', '[PAD]', '[PAD]', '[PAD]', '[PAD]', '[PAD]']\n"
     ]
    }
   ],
   "source": [
    "input_ids = model.data[\"input_ids\"][1]\n",
    "input_tokens = model.tokenizer.convert_ids_to_tokens(input_ids)\n",
    "print(\"input_ids:\", input_ids)\n",
    "print(\"input_tokens:\", input_tokens)"
   ]
  },
  {
   "cell_type": "markdown",
   "id": "fallen-hundred",
   "metadata": {},
   "source": [
    "# 推理"
   ]
  },
  {
   "cell_type": "code",
   "execution_count": 12,
   "id": "opposite-pantyhose",
   "metadata": {},
   "outputs": [
    {
     "name": "stdout",
     "output_type": "stream",
     "text": [
      "INFO:tensorflow:Running inference on 1 samples\n",
      "INFO:tensorflow:process 100.0%, 1.42 examples/sec\n"
     ]
    },
    {
     "data": {
      "text/plain": [
       "{'mlm_preds': [['ben']],\n",
       " 'sop_preds': [1],\n",
       " 'sop_probs': array([[0.00494939, 0.9950506 ]], dtype=float32)}"
      ]
     },
     "execution_count": 12,
     "metadata": {},
     "output_type": "execute_result"
    }
   ],
   "source": [
    "X_tokenized = [[\"天\", \"亮\", \"以\", \"[MASK]\", \"说\", \"再\", \"见\"]]    # 可以手动赋予Mask预测 (与训练阶段采样不同，因此此case预测错误正常)\n",
    "model.predict(X_tokenized=X_tokenized)"
   ]
  }
 ],
 "metadata": {
  "kernelspec": {
   "display_name": "Python 3.9.13 64-bit",
   "language": "python",
   "name": "python3"
  },
  "language_info": {
   "codemirror_mode": {
    "name": "ipython",
    "version": 3
   },
   "file_extension": ".py",
   "mimetype": "text/x-python",
   "name": "python",
   "nbconvert_exporter": "python",
   "pygments_lexer": "ipython3",
   "version": "3.9.13"
  },
  "vscode": {
   "interpreter": {
    "hash": "265fd6f62f200408acbbeae0248f34bed9f93569a643842b7a25d2cd76cae5e5"
   }
  }
 },
 "nbformat": 4,
 "nbformat_minor": 5
}
