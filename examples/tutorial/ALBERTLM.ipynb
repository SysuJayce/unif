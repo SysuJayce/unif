{
 "cells": [
  {
   "cell_type": "code",
   "execution_count": 1,
   "id": "rotary-academy",
   "metadata": {},
   "outputs": [
    {
     "name": "stdout",
     "output_type": "stream",
     "text": [
      "beta v2.8.0\n"
     ]
    }
   ],
   "source": [
    "import uf\n",
    "\n",
    "print(uf.__version__)"
   ]
  },
  {
   "cell_type": "code",
   "execution_count": 2,
   "id": "velvet-symbol",
   "metadata": {},
   "outputs": [
    {
     "name": "stdout",
     "output_type": "stream",
     "text": [
      "uf.ALBERTLM(config_file='../demo/albert_config.json', vocab_file='../demo/vocab.txt', max_seq_length=128, init_checkpoint=None, output_dir=None, gpu_ids=None, drop_pooler=False, do_sample_sentence=True, max_predictions_per_seq=20, masked_lm_prob=0.15, short_seq_prob=0.1, n_gram=3, favor_shorterngram=True, do_permutation=False, do_whole_word_mask=True, do_lower_case=True, truncate_method='LIFO')\n"
     ]
    }
   ],
   "source": [
    "model = uf.ALBERTLM('../demo/albert_config.json', '../demo/vocab.txt')\n",
    "print(model)"
   ]
  },
  {
   "cell_type": "code",
   "execution_count": 3,
   "id": "drawn-breathing",
   "metadata": {},
   "outputs": [],
   "source": [
    "X = [['天亮以前说再见，', '笑着泪流满面，', '去迎接应该你的，', '更好的明天。'],    # 每一条样本是一个doc，doc内可以由多个句子组成\n",
    "     '他想知道那是谁, 为何总沉默寡言, 人群中也算抢眼, 抢眼的孤独难免']    # doc也可以是一个完整的文段"
   ]
  },
  {
   "cell_type": "markdown",
   "id": "vanilla-fault",
   "metadata": {},
   "source": [
    "# 训练"
   ]
  },
  {
   "cell_type": "code",
   "execution_count": 4,
   "id": "excellent-religion",
   "metadata": {},
   "outputs": [
    {
     "name": "stderr",
     "output_type": "stream",
     "text": [
      "/Users/geyingli/Library/Python/3.8/lib/python/site-packages/tensorflow/python/keras/legacy_tf_layers/core.py:171: UserWarning: `tf.layers.dense` is deprecated and will be removed in a future version. Please use `tf.keras.layers.Dense` instead.\n",
      "  warnings.warn('`tf.layers.dense` is deprecated and '\n",
      "/Users/geyingli/Library/Python/3.8/lib/python/site-packages/tensorflow/python/keras/engine/base_layer_v1.py:1719: UserWarning: `layer.apply` is deprecated and will be removed in a future version. Please use `layer.__call__` method instead.\n",
      "  warnings.warn('`layer.apply` is deprecated and '\n"
     ]
    },
    {
     "name": "stdout",
     "output_type": "stream",
     "text": [
      "INFO:tensorflow:Build graph with 32,003,358 parameters (among which 10,667,786 are trainable)\n",
      "INFO:tensorflow:Running local_init_op\n",
      "INFO:tensorflow:Done running local_init_op\n",
      "INFO:tensorflow:Running training on 2 samples (step 0 -> 20)\n",
      "INFO:tensorflow:step 1, MLM accuracy 0.0000, SOP accuracy 1.0000, MLM loss 4.441695, SOP loss 0.494462, 0.22 steps/sec, 0.45 examples/sec\n",
      "INFO:tensorflow:step 2, MLM accuracy 0.0000, SOP accuracy 1.0000, MLM loss 4.342555, SOP loss 0.126280, 0.86 steps/sec, 1.73 examples/sec\n",
      "INFO:tensorflow:step 3, MLM accuracy 0.1111, SOP accuracy 1.0000, MLM loss 4.278811, SOP loss 0.051959, 0.87 steps/sec, 1.74 examples/sec\n",
      "INFO:tensorflow:step 4, MLM accuracy 0.1667, SOP accuracy 1.0000, MLM loss 4.238574, SOP loss 0.024911, 0.82 steps/sec, 1.63 examples/sec\n",
      "INFO:tensorflow:step 5, MLM accuracy 0.2222, SOP accuracy 1.0000, MLM loss 4.197230, SOP loss 0.012849, 0.81 steps/sec, 1.62 examples/sec\n",
      "INFO:tensorflow:step 6, MLM accuracy 0.3889, SOP accuracy 1.0000, MLM loss 4.142674, SOP loss 0.007978, 1.00 steps/sec, 2.00 examples/sec\n",
      "INFO:tensorflow:step 7, MLM accuracy 0.6111, SOP accuracy 1.0000, MLM loss 4.092268, SOP loss 0.006215, 0.95 steps/sec, 1.90 examples/sec\n",
      "INFO:tensorflow:step 8, MLM accuracy 0.8333, SOP accuracy 1.0000, MLM loss 4.048379, SOP loss 0.005067, 0.99 steps/sec, 1.99 examples/sec\n",
      "INFO:tensorflow:step 9, MLM accuracy 1.0000, SOP accuracy 1.0000, MLM loss 4.010012, SOP loss 0.004225, 0.98 steps/sec, 1.97 examples/sec\n",
      "INFO:tensorflow:step 10, MLM accuracy 1.0000, SOP accuracy 1.0000, MLM loss 3.974937, SOP loss 0.003711, 1.01 steps/sec, 2.02 examples/sec\n",
      "INFO:tensorflow:step 11, MLM accuracy 1.0000, SOP accuracy 1.0000, MLM loss 3.942928, SOP loss 0.003284, 1.01 steps/sec, 2.01 examples/sec\n",
      "INFO:tensorflow:step 12, MLM accuracy 1.0000, SOP accuracy 1.0000, MLM loss 3.917953, SOP loss 0.002978, 0.99 steps/sec, 1.98 examples/sec\n",
      "INFO:tensorflow:step 13, MLM accuracy 1.0000, SOP accuracy 1.0000, MLM loss 3.896826, SOP loss 0.002710, 0.97 steps/sec, 1.95 examples/sec\n",
      "INFO:tensorflow:step 14, MLM accuracy 1.0000, SOP accuracy 1.0000, MLM loss 3.878554, SOP loss 0.002484, 0.99 steps/sec, 1.98 examples/sec\n",
      "INFO:tensorflow:step 15, MLM accuracy 1.0000, SOP accuracy 1.0000, MLM loss 3.861613, SOP loss 0.002339, 0.99 steps/sec, 1.98 examples/sec\n",
      "INFO:tensorflow:step 16, MLM accuracy 1.0000, SOP accuracy 1.0000, MLM loss 3.849208, SOP loss 0.002228, 1.00 steps/sec, 2.00 examples/sec\n",
      "INFO:tensorflow:step 17, MLM accuracy 1.0000, SOP accuracy 1.0000, MLM loss 3.838910, SOP loss 0.002139, 0.99 steps/sec, 1.97 examples/sec\n",
      "INFO:tensorflow:step 18, MLM accuracy 1.0000, SOP accuracy 1.0000, MLM loss 3.830647, SOP loss 0.002046, 0.96 steps/sec, 1.93 examples/sec\n",
      "INFO:tensorflow:step 19, MLM accuracy 1.0000, SOP accuracy 1.0000, MLM loss 3.824945, SOP loss 0.001987, 0.96 steps/sec, 1.92 examples/sec\n",
      "INFO:tensorflow:step 20, MLM accuracy 1.0000, SOP accuracy 1.0000, MLM loss 3.821217, SOP loss 0.001952, 0.95 steps/sec, 1.91 examples/sec\n"
     ]
    }
   ],
   "source": [
    "model.fit(X, total_steps=20)"
   ]
  },
  {
   "cell_type": "markdown",
   "id": "fallen-hundred",
   "metadata": {},
   "source": [
    "# 推理"
   ]
  },
  {
   "cell_type": "code",
   "execution_count": 5,
   "id": "opposite-pantyhose",
   "metadata": {},
   "outputs": [
    {
     "name": "stdout",
     "output_type": "stream",
     "text": [
      "INFO:tensorflow:Time usage 0m-0.85s, 1.17 steps/sec, 1.17 examples/sec\n"
     ]
    },
    {
     "data": {
      "text/plain": [
       "{'mlm_preds': [['道']],\n",
       " 'sop_preds': [1],\n",
       " 'sop_probs': array([[0.00257134, 0.9974286 ]], dtype=float32)}"
      ]
     },
     "execution_count": 5,
     "metadata": {},
     "output_type": "execute_result"
    }
   ],
   "source": [
    "X_tokenized = [['天', '亮', '以', '[MASK]', '说', '再', '见']]    # 可以手动赋予Mask\n",
    "model.predict(X_tokenized=X_tokenized)"
   ]
  }
 ],
 "metadata": {
  "kernelspec": {
   "display_name": "Python 3",
   "language": "python",
   "name": "python3"
  },
  "language_info": {
   "codemirror_mode": {
    "name": "ipython",
    "version": 3
   },
   "file_extension": ".py",
   "mimetype": "text/x-python",
   "name": "python",
   "nbconvert_exporter": "python",
   "pygments_lexer": "ipython3",
   "version": "3.8.2"
  }
 },
 "nbformat": 4,
 "nbformat_minor": 5
}
