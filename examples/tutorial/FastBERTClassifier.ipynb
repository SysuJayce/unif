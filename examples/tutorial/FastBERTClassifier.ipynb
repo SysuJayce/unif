{
 "cells": [
  {
   "cell_type": "code",
   "execution_count": 1,
   "id": "rotary-academy",
   "metadata": {},
   "outputs": [
    {
     "name": "stdout",
     "output_type": "stream",
     "text": [
      "beta v2.8.0\n"
     ]
    }
   ],
   "source": [
    "import uf\n",
    "\n",
    "print(uf.__version__)"
   ]
  },
  {
   "cell_type": "code",
   "execution_count": 2,
   "id": "velvet-symbol",
   "metadata": {},
   "outputs": [
    {
     "name": "stdout",
     "output_type": "stream",
     "text": [
      "uf.FastBERTClassifier(config_file='../demo/bert_config.json', vocab_file='../demo/vocab.txt', max_seq_length=128, label_size=2, init_checkpoint=None, output_dir=None, gpu_ids=None, drop_pooler=False, cls_model='self-attention', do_lower_case=True, truncate_method='LIFO')\n"
     ]
    }
   ],
   "source": [
    "model = uf.FastBERTClassifier('../../demo/bert_config.json', '../../demo/vocab.txt', label_size=2)    # 配置文件依然使用teacher模型的\n",
    "print(model)"
   ]
  },
  {
   "cell_type": "code",
   "execution_count": 3,
   "id": "drawn-breathing",
   "metadata": {},
   "outputs": [],
   "source": [
    "X = ['天亮以前说再见', '笑着泪流满面', '去迎接应该你的', '更好的明天']\n",
    "y = [1, 0, 1, 0]"
   ]
  },
  {
   "cell_type": "markdown",
   "id": "vanilla-fault",
   "metadata": {},
   "source": [
    "# 训练"
   ]
  },
  {
   "cell_type": "code",
   "execution_count": 4,
   "id": "excellent-religion",
   "metadata": {},
   "outputs": [
    {
     "name": "stderr",
     "output_type": "stream",
     "text": [
      "/Users/geyingli/Library/Python/3.8/lib/python/site-packages/tensorflow/python/keras/legacy_tf_layers/core.py:171: UserWarning: `tf.layers.dense` is deprecated and will be removed in a future version. Please use `tf.keras.layers.Dense` instead.\n",
      "  warnings.warn('`tf.layers.dense` is deprecated and '\n",
      "/Users/geyingli/Library/Python/3.8/lib/python/site-packages/tensorflow/python/keras/engine/base_layer_v1.py:1719: UserWarning: `layer.apply` is deprecated and will be removed in a future version. Please use `layer.__call__` method instead.\n",
      "  warnings.warn('`layer.apply` is deprecated and '\n"
     ]
    },
    {
     "name": "stdout",
     "output_type": "stream",
     "text": [
      "INFO:tensorflow:Build graph with 112,918,346 parameters (among which 3,549,720 are trainable)\n",
      "INFO:tensorflow:Running local_init_op\n",
      "INFO:tensorflow:Done running local_init_op\n",
      "INFO:tensorflow:Running training on 4 samples (step 0 -> 10)\n",
      "INFO:tensorflow:step 1, distill loss 0.114443, 0.31 steps/sec, 1.24 examples/sec\n",
      "INFO:tensorflow:step 2, distill loss 0.114443, 1.98 steps/sec, 7.92 examples/sec\n",
      "INFO:tensorflow:step 3, distill loss 0.055271, 2.04 steps/sec, 8.15 examples/sec\n",
      "INFO:tensorflow:step 4, distill loss 0.028128, 1.98 steps/sec, 7.92 examples/sec\n",
      "INFO:tensorflow:step 5, distill loss 0.019534, 2.00 steps/sec, 8.01 examples/sec\n",
      "INFO:tensorflow:step 6, distill loss 0.015971, 2.01 steps/sec, 8.05 examples/sec\n",
      "INFO:tensorflow:step 7, distill loss 0.013632, 2.02 steps/sec, 8.09 examples/sec\n",
      "INFO:tensorflow:step 8, distill loss 0.012555, 2.00 steps/sec, 7.99 examples/sec\n",
      "INFO:tensorflow:step 9, distill loss 0.011574, 1.98 steps/sec, 7.94 examples/sec\n",
      "INFO:tensorflow:step 10, distill loss 0.010303, 2.00 steps/sec, 8.01 examples/sec\n"
     ]
    }
   ],
   "source": [
    "model.fit(X, total_steps=10)"
   ]
  },
  {
   "cell_type": "markdown",
   "id": "fallen-hundred",
   "metadata": {},
   "source": [
    "# 推理"
   ]
  },
  {
   "cell_type": "code",
   "execution_count": 5,
   "id": "opposite-pantyhose",
   "metadata": {},
   "outputs": [
    {
     "name": "stdout",
     "output_type": "stream",
     "text": [
      "INFO:tensorflow:Time usage 0m-1.76s, 0.57 steps/sec, 2.27 examples/sec\n"
     ]
    },
    {
     "data": {
      "text/plain": [
       "{'preds': [0, 0, 0, 0],\n",
       " 'probs': array([[0.53765363, 0.46234637],\n",
       "        [0.52311724, 0.47688279],\n",
       "        [0.51319933, 0.48680073],\n",
       "        [0.53111422, 0.46888572]]),\n",
       " 'sources': [12, 12, 12, 12]}"
      ]
     },
     "execution_count": 5,
     "metadata": {},
     "output_type": "execute_result"
    }
   ],
   "source": [
    "model.predict(X)"
   ]
  },
  {
   "cell_type": "markdown",
   "id": "developmental-tennis",
   "metadata": {},
   "source": [
    "可以自由调节子分类器的阈值 (speed∈(0,1])，并选择跳过哪些分类器，以达到最优的性能"
   ]
  },
  {
   "cell_type": "code",
   "execution_count": 6,
   "id": "bored-annotation",
   "metadata": {},
   "outputs": [
    {
     "name": "stdout",
     "output_type": "stream",
     "text": [
      "INFO:tensorflow:Time usage 0m-1.57s, 0.64 steps/sec, 2.56 examples/sec\n"
     ]
    },
    {
     "data": {
      "text/plain": [
       "{'preds': [0, 0, 0, 0],\n",
       " 'probs': array([[0.55518413, 0.44481581],\n",
       "        [0.5379234 , 0.46207657],\n",
       "        [0.52684653, 0.47315356],\n",
       "        [0.5446595 , 0.4553405 ]]),\n",
       " 'sources': [3, 3, 3, 3]}"
      ]
     },
     "execution_count": 6,
     "metadata": {},
     "output_type": "execute_result"
    }
   ],
   "source": [
    "model.predict(X, speed=1.0, ignore_cls=[0,1,2])"
   ]
  },
  {
   "cell_type": "markdown",
   "id": "fundamental-poverty",
   "metadata": {},
   "source": [
    "# 评分"
   ]
  },
  {
   "cell_type": "code",
   "execution_count": 7,
   "id": "accessory-lesbian",
   "metadata": {},
   "outputs": [
    {
     "name": "stdout",
     "output_type": "stream",
     "text": [
      "INFO:tensorflow:Time usage 0m-1.89s, 0.53 steps/sec, 2.11 examples/sec\n"
     ]
    },
    {
     "data": {
      "text/plain": [
       "{'accuracy': 0.5, 'loss': 0.6930172992501835}"
      ]
     },
     "execution_count": 7,
     "metadata": {},
     "output_type": "execute_result"
    }
   ],
   "source": [
    "model.score(X, y)    # 这里teacher模型是随机初始化的，因此student模型的推理结果也是随机的"
   ]
  },
  {
   "cell_type": "code",
   "execution_count": 8,
   "id": "fifth-austin",
   "metadata": {},
   "outputs": [
    {
     "name": "stdout",
     "output_type": "stream",
     "text": [
      "INFO:tensorflow:Time usage 0m-1.57s, 0.64 steps/sec, 2.55 examples/sec\n"
     ]
    },
    {
     "data": {
      "text/plain": [
       "{'accuracy': 0.5, 'loss': 0.6965159616650023}"
      ]
     },
     "execution_count": 8,
     "metadata": {},
     "output_type": "execute_result"
    }
   ],
   "source": [
    "model.score(X, y, speed=1.0, ignore_cls='0,1,2')"
   ]
  }
 ],
 "metadata": {
  "kernelspec": {
   "display_name": "Python 3",
   "language": "python",
   "name": "python3"
  },
  "language_info": {
   "codemirror_mode": {
    "name": "ipython",
    "version": 3
   },
   "file_extension": ".py",
   "mimetype": "text/x-python",
   "name": "python",
   "nbconvert_exporter": "python",
   "pygments_lexer": "ipython3",
   "version": "3.8.2"
  }
 },
 "nbformat": 4,
 "nbformat_minor": 5
}
