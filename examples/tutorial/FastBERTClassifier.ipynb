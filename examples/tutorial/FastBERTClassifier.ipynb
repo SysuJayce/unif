{
 "cells": [
  {
   "cell_type": "markdown",
   "id": "balanced-effectiveness",
   "metadata": {},
   "source": [
    "# FastBERTClassifier\n",
    "\n",
    "Teacher模型：`BERTClassifier`"
   ]
  },
  {
   "cell_type": "code",
   "execution_count": 1,
   "id": "rotary-academy",
   "metadata": {},
   "outputs": [
    {
     "name": "stdout",
     "output_type": "stream",
     "text": [
      "v2.4.5\n"
     ]
    }
   ],
   "source": [
    "import uf\n",
    "\n",
    "print(uf.__version__)"
   ]
  },
  {
   "cell_type": "code",
   "execution_count": 2,
   "id": "velvet-symbol",
   "metadata": {},
   "outputs": [
    {
     "name": "stdout",
     "output_type": "stream",
     "text": [
      "uf.FastBERTClassifier(\n",
      "    config_file=\"../../demo/bert_config.json\",\n",
      "    vocab_file=\"../../demo/vocab.txt\",\n",
      "    max_seq_length=128,\n",
      "    label_size=2,\n",
      "    init_checkpoint=None,\n",
      "    output_dir=None,\n",
      "    gpu_ids=None,\n",
      "    drop_pooler=False,\n",
      "    cls_model=\"self-attention\",\n",
      "    do_lower_case=True,\n",
      "    truncate_method=\"LIFO\",\n",
      ")\n"
     ]
    }
   ],
   "source": [
    "model = uf.FastBERTClassifier('../../demo/bert_config.json', '../../demo/vocab.txt', label_size=2)    # 配置文件依然使用teacher模型的\n",
    "print(model)"
   ]
  },
  {
   "cell_type": "code",
   "execution_count": 3,
   "id": "drawn-breathing",
   "metadata": {},
   "outputs": [],
   "source": [
    "X = ['天亮以前说再见', '笑着泪流满面', '去迎接应该你的', '更好的明天']\n",
    "y = [1, 0, 1, 0]"
   ]
  },
  {
   "cell_type": "markdown",
   "id": "vanilla-fault",
   "metadata": {},
   "source": [
    "# 训练"
   ]
  },
  {
   "cell_type": "code",
   "execution_count": 4,
   "id": "excellent-religion",
   "metadata": {},
   "outputs": [
    {
     "name": "stderr",
     "output_type": "stream",
     "text": [
      "/Users/geyingli/Library/Python/3.8/lib/python/site-packages/uf-2.4.5-py3.8.egg/uf/model/bert.py:272: UserWarning: `tf.layers.dense` is deprecated and will be removed in a future version. Please use `tf.keras.layers.Dense` instead.\n",
      "  query_layer = tf.layers.dense(\n",
      "/Users/geyingli/Library/Python/3.8/lib/python/site-packages/keras/legacy_tf_layers/core.py:255: UserWarning: `layer.apply` is deprecated and will be removed in a future version. Please use `layer.__call__` method instead.\n",
      "  return layer.apply(inputs)\n",
      "/Users/geyingli/Library/Python/3.8/lib/python/site-packages/uf-2.4.5-py3.8.egg/uf/model/bert.py:282: UserWarning: `tf.layers.dense` is deprecated and will be removed in a future version. Please use `tf.keras.layers.Dense` instead.\n",
      "  key_layer = tf.layers.dense(\n",
      "/Users/geyingli/Library/Python/3.8/lib/python/site-packages/uf-2.4.5-py3.8.egg/uf/model/bert.py:292: UserWarning: `tf.layers.dense` is deprecated and will be removed in a future version. Please use `tf.keras.layers.Dense` instead.\n",
      "  value_layer = tf.layers.dense(\n",
      "/Users/geyingli/Library/Python/3.8/lib/python/site-packages/uf-2.4.5-py3.8.egg/uf/model/fastbert.py:486: UserWarning: `tf.layers.dense` is deprecated and will be removed in a future version. Please use `tf.keras.layers.Dense` instead.\n",
      "  cls_output = tf.layers.dense(\n",
      "/Users/geyingli/Library/Python/3.8/lib/python/site-packages/uf-2.4.5-py3.8.egg/uf/model/fastbert.py:327: UserWarning: `tf.layers.dense` is deprecated and will be removed in a future version. Please use `tf.keras.layers.Dense` instead.\n",
      "  attention_output = tf.layers.dense(\n",
      "/Users/geyingli/Library/Python/3.8/lib/python/site-packages/uf-2.4.5-py3.8.egg/uf/model/fastbert.py:341: UserWarning: `tf.layers.dense` is deprecated and will be removed in a future version. Please use `tf.keras.layers.Dense` instead.\n",
      "  intermediate_output = tf.layers.dense(\n",
      "/Users/geyingli/Library/Python/3.8/lib/python/site-packages/uf-2.4.5-py3.8.egg/uf/model/fastbert.py:351: UserWarning: `tf.layers.dense` is deprecated and will be removed in a future version. Please use `tf.keras.layers.Dense` instead.\n",
      "  layer_output = tf.layers.dense(\n",
      "/Users/geyingli/Library/Python/3.8/lib/python/site-packages/uf-2.4.5-py3.8.egg/uf/model/fastbert.py:118: UserWarning: `tf.layers.dense` is deprecated and will be removed in a future version. Please use `tf.keras.layers.Dense` instead.\n",
      "  self.pooled_output = tf.layers.dense(\n"
     ]
    },
    {
     "name": "stdout",
     "output_type": "stream",
     "text": [
      "INFO:tensorflow:Build graph with 112,918,346 parameters (among which 3,549,720 are trainable)\n",
      "INFO:tensorflow:Running local_init_op\n",
      "INFO:tensorflow:Done running local_init_op\n",
      "INFO:tensorflow:Running training on 4 samples (step 0 -> 10)\n",
      "INFO:tensorflow:step 1, distill loss 0.183310, 0.18 steps/sec, 0.74 examples/sec\n",
      "INFO:tensorflow:step 2, distill loss 0.183310, 1.65 steps/sec, 6.58 examples/sec\n",
      "INFO:tensorflow:step 3, distill loss 0.089867, 1.68 steps/sec, 6.72 examples/sec\n",
      "INFO:tensorflow:step 4, distill loss 0.042903, 1.75 steps/sec, 6.99 examples/sec\n",
      "INFO:tensorflow:step 5, distill loss 0.026382, 1.73 steps/sec, 6.91 examples/sec\n",
      "INFO:tensorflow:step 6, distill loss 0.021774, 1.64 steps/sec, 6.58 examples/sec\n",
      "INFO:tensorflow:step 7, distill loss 0.019375, 1.75 steps/sec, 7.01 examples/sec\n",
      "INFO:tensorflow:step 8, distill loss 0.017228, 1.70 steps/sec, 6.78 examples/sec\n",
      "INFO:tensorflow:step 9, distill loss 0.015207, 1.71 steps/sec, 6.85 examples/sec\n",
      "INFO:tensorflow:step 10, distill loss 0.013411, 1.78 steps/sec, 7.10 examples/sec\n"
     ]
    }
   ],
   "source": [
    "model.fit(X, total_steps=10)"
   ]
  },
  {
   "cell_type": "markdown",
   "id": "fallen-hundred",
   "metadata": {},
   "source": [
    "# 推理"
   ]
  },
  {
   "cell_type": "code",
   "execution_count": 5,
   "id": "opposite-pantyhose",
   "metadata": {},
   "outputs": [
    {
     "name": "stdout",
     "output_type": "stream",
     "text": [
      "INFO:tensorflow:Time usage 0m-6.25s, 0.16 steps/sec, 0.64 examples/sec\n"
     ]
    },
    {
     "data": {
      "text/plain": [
       "{'preds': [0, 0, 0, 0],\n",
       " 'probs': array([[0.59540015, 0.40459985],\n",
       "        [0.55985034, 0.44014972],\n",
       "        [0.57119334, 0.42880669],\n",
       "        [0.57225871, 0.42774129]]),\n",
       " 'sources': [12, 12, 12, 12]}"
      ]
     },
     "execution_count": 5,
     "metadata": {},
     "output_type": "execute_result"
    }
   ],
   "source": [
    "model.predict(X)"
   ]
  },
  {
   "cell_type": "markdown",
   "id": "developmental-tennis",
   "metadata": {},
   "source": [
    "可以自由调节子分类器的阈值 (speed∈(0,1])，并选择跳过哪些分类器，以达到最优的性能"
   ]
  },
  {
   "cell_type": "code",
   "execution_count": 6,
   "id": "bored-annotation",
   "metadata": {},
   "outputs": [
    {
     "name": "stdout",
     "output_type": "stream",
     "text": [
      "INFO:tensorflow:Time usage 0m-12.51s, 0.08 steps/sec, 0.32 examples/sec\n"
     ]
    },
    {
     "data": {
      "text/plain": [
       "{'preds': [0, 0, 0, 0],\n",
       " 'probs': array([[0.59127635, 0.40872371],\n",
       "        [0.5689742 , 0.4310258 ],\n",
       "        [0.57957482, 0.42042527],\n",
       "        [0.58071661, 0.41928342]]),\n",
       " 'sources': [3, 3, 3, 3]}"
      ]
     },
     "execution_count": 6,
     "metadata": {},
     "output_type": "execute_result"
    }
   ],
   "source": [
    "model.predict(X, speed=1.0, ignore_cls=[0,1,2])"
   ]
  },
  {
   "cell_type": "markdown",
   "id": "fundamental-poverty",
   "metadata": {},
   "source": [
    "# 评分"
   ]
  },
  {
   "cell_type": "code",
   "execution_count": 7,
   "id": "accessory-lesbian",
   "metadata": {},
   "outputs": [
    {
     "name": "stdout",
     "output_type": "stream",
     "text": [
      "INFO:tensorflow:Time usage 0m-6.74s, 0.15 steps/sec, 0.59 examples/sec\n"
     ]
    },
    {
     "data": {
      "text/plain": [
       "{'accuracy': 0.5, 'loss': 0.7224639215791279}"
      ]
     },
     "execution_count": 7,
     "metadata": {},
     "output_type": "execute_result"
    }
   ],
   "source": [
    "model.score(X, y)    # 这里teacher模型是随机初始化的，因此student模型的推理结果也是随机的"
   ]
  },
  {
   "cell_type": "code",
   "execution_count": 8,
   "id": "fifth-austin",
   "metadata": {},
   "outputs": [
    {
     "name": "stdout",
     "output_type": "stream",
     "text": [
      "INFO:tensorflow:Time usage 0m-2.14s, 0.47 steps/sec, 1.87 examples/sec\n"
     ]
    },
    {
     "data": {
      "text/plain": [
       "{'accuracy': 0.5, 'loss': 0.717154252896089}"
      ]
     },
     "execution_count": 8,
     "metadata": {},
     "output_type": "execute_result"
    }
   ],
   "source": [
    "model.score(X, y, speed=1.0, ignore_cls='0,1,2')"
   ]
  }
 ],
 "metadata": {
  "kernelspec": {
   "display_name": "Python 3",
   "language": "python",
   "name": "python3"
  },
  "language_info": {
   "codemirror_mode": {
    "name": "ipython",
    "version": 3
   },
   "file_extension": ".py",
   "mimetype": "text/x-python",
   "name": "python",
   "nbconvert_exporter": "python",
   "pygments_lexer": "ipython3",
   "version": "3.8.2"
  }
 },
 "nbformat": 4,
 "nbformat_minor": 5
}
