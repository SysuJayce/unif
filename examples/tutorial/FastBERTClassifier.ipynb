{
 "cells": [
  {
   "cell_type": "markdown",
   "id": "balanced-effectiveness",
   "metadata": {},
   "source": [
    "# FastBERTClassifier\n",
    "\n",
    "Teacher模型：`BERTClassifier`"
   ]
  },
  {
   "cell_type": "code",
   "execution_count": 1,
   "id": "rotary-academy",
   "metadata": {},
   "outputs": [
    {
     "name": "stdout",
     "output_type": "stream",
     "text": [
      "v2.5.0\n"
     ]
    }
   ],
   "source": [
    "import uf\n",
    "\n",
    "print(uf.__version__)"
   ]
  },
  {
   "cell_type": "markdown",
   "id": "c5d3da31",
   "metadata": {},
   "source": [
    "# Teacher训练"
   ]
  },
  {
   "cell_type": "code",
   "execution_count": 2,
   "id": "velvet-symbol",
   "metadata": {},
   "outputs": [
    {
     "name": "stdout",
     "output_type": "stream",
     "text": [
      "INFO:tensorflow:Output directory: .teacher\n",
      "uf.BERTClassifier(\n",
      "    config_file=\"../../ref/bert_config.json\",\n",
      "    vocab_file=\"../../ref/vocab.txt\",\n",
      "    max_seq_length=128,\n",
      "    label_size=None,\n",
      "    init_checkpoint=None,\n",
      "    output_dir=\".teacher\",\n",
      "    gpu_ids=None,\n",
      "    drop_pooler=False,\n",
      "    do_lower_case=True,\n",
      "    truncate_method=\"LIFO\",\n",
      ")\n"
     ]
    }
   ],
   "source": [
    "model = uf.BERTClassifier(\"../../ref/bert_config.json\", \"../../ref/vocab.txt\", output_dir=\".teacher\")\n",
    "print(model)"
   ]
  },
  {
   "cell_type": "code",
   "execution_count": 3,
   "id": "drawn-breathing",
   "metadata": {},
   "outputs": [],
   "source": [
    "X = [\"天亮以前说再见\", \"笑着泪流满面\", \"去迎接应该你的\", \"更好的明天\"]\n",
    "y = [1, 0, 1, 0]"
   ]
  },
  {
   "cell_type": "code",
   "execution_count": 4,
   "id": "39df0615",
   "metadata": {},
   "outputs": [
    {
     "name": "stdout",
     "output_type": "stream",
     "text": [
      "WARNING:tensorflow:From c:\\Users\\Luv_d\\AppData\\Local\\Programs\\Python\\Python39\\lib\\site-packages\\tensorflow\\python\\util\\dispatch.py:1176: calling dropout (from tensorflow.python.ops.nn_ops) with keep_prob is deprecated and will be removed in a future version.\n",
      "Instructions for updating:\n",
      "Please use `rate` instead of `keep_prob`. Rate should be set to `rate = 1 - keep_prob`.\n"
     ]
    },
    {
     "name": "stderr",
     "output_type": "stream",
     "text": [
      "c:\\Users\\Luv_d\\AppData\\Local\\Programs\\Python\\Python39\\lib\\site-packages\\uf-2.5.0-py3.9.egg\\uf\\apps\\bert\\bert.py:272: UserWarning: `tf.layers.dense` is deprecated and will be removed in a future version. Please use `tf.keras.layers.Dense` instead.\n",
      "  query_layer = tf.layers.dense(\n",
      "c:\\Users\\Luv_d\\AppData\\Local\\Programs\\Python\\Python39\\lib\\site-packages\\uf-2.5.0-py3.9.egg\\uf\\apps\\bert\\bert.py:282: UserWarning: `tf.layers.dense` is deprecated and will be removed in a future version. Please use `tf.keras.layers.Dense` instead.\n",
      "  key_layer = tf.layers.dense(\n",
      "c:\\Users\\Luv_d\\AppData\\Local\\Programs\\Python\\Python39\\lib\\site-packages\\uf-2.5.0-py3.9.egg\\uf\\apps\\bert\\bert.py:292: UserWarning: `tf.layers.dense` is deprecated and will be removed in a future version. Please use `tf.keras.layers.Dense` instead.\n",
      "  value_layer = tf.layers.dense(\n",
      "c:\\Users\\Luv_d\\AppData\\Local\\Programs\\Python\\Python39\\lib\\site-packages\\uf-2.5.0-py3.9.egg\\uf\\apps\\bert\\bert.py:416: UserWarning: `tf.layers.dense` is deprecated and will be removed in a future version. Please use `tf.keras.layers.Dense` instead.\n",
      "  attention_output = tf.layers.dense(\n",
      "c:\\Users\\Luv_d\\AppData\\Local\\Programs\\Python\\Python39\\lib\\site-packages\\uf-2.5.0-py3.9.egg\\uf\\apps\\bert\\bert.py:428: UserWarning: `tf.layers.dense` is deprecated and will be removed in a future version. Please use `tf.keras.layers.Dense` instead.\n",
      "  intermediate_output = tf.layers.dense(\n",
      "c:\\Users\\Luv_d\\AppData\\Local\\Programs\\Python\\Python39\\lib\\site-packages\\uf-2.5.0-py3.9.egg\\uf\\apps\\bert\\bert.py:438: UserWarning: `tf.layers.dense` is deprecated and will be removed in a future version. Please use `tf.keras.layers.Dense` instead.\n",
      "  layer_output = tf.layers.dense(\n",
      "c:\\Users\\Luv_d\\AppData\\Local\\Programs\\Python\\Python39\\lib\\site-packages\\uf-2.5.0-py3.9.egg\\uf\\apps\\bert\\bert.py:107: UserWarning: `tf.layers.dense` is deprecated and will be removed in a future version. Please use `tf.keras.layers.Dense` instead.\n",
      "  self.pooled_output = tf.layers.dense(\n"
     ]
    },
    {
     "name": "stdout",
     "output_type": "stream",
     "text": [
      "INFO:tensorflow:Build graph with 306,807,558 parameters (among which 102,269,186 are trainable)\n",
      "INFO:tensorflow:Running local_init_op\n",
      "INFO:tensorflow:Done running local_init_op\n",
      "INFO:tensorflow:Running training on 4 samples (step 0 -> 20)\n",
      "INFO:tensorflow:step 1, accuracy 0.7500, loss 0.662288, 0.19 steps/sec, 0.75 examples/sec\n",
      "INFO:tensorflow:step 2, accuracy 0.5000, loss 0.718668, 0.58 steps/sec, 2.30 examples/sec\n",
      "INFO:tensorflow:step 3, accuracy 0.5000, loss 0.643497, 0.64 steps/sec, 2.55 examples/sec\n",
      "INFO:tensorflow:step 4, accuracy 0.5000, loss 0.634855, 0.65 steps/sec, 2.60 examples/sec\n",
      "INFO:tensorflow:step 5, accuracy 0.5000, loss 0.545647, 0.62 steps/sec, 2.46 examples/sec\n",
      "INFO:tensorflow:step 6, accuracy 1.0000, loss 0.423460, 0.58 steps/sec, 2.32 examples/sec\n",
      "INFO:tensorflow:step 7, accuracy 1.0000, loss 0.345766, 0.62 steps/sec, 2.48 examples/sec\n",
      "INFO:tensorflow:step 8, accuracy 1.0000, loss 0.192163, 0.63 steps/sec, 2.50 examples/sec\n",
      "INFO:tensorflow:step 9, accuracy 1.0000, loss 0.089714, 0.66 steps/sec, 2.64 examples/sec\n",
      "INFO:tensorflow:step 10, accuracy 1.0000, loss 0.058915, 0.66 steps/sec, 2.62 examples/sec\n",
      "INFO:tensorflow:step 11, accuracy 1.0000, loss 0.017521, 0.64 steps/sec, 2.58 examples/sec\n",
      "INFO:tensorflow:step 12, accuracy 1.0000, loss 0.007381, 0.65 steps/sec, 2.59 examples/sec\n",
      "INFO:tensorflow:step 13, accuracy 1.0000, loss 0.005038, 0.66 steps/sec, 2.64 examples/sec\n",
      "INFO:tensorflow:step 14, accuracy 1.0000, loss 0.002995, 0.65 steps/sec, 2.61 examples/sec\n",
      "INFO:tensorflow:step 15, accuracy 1.0000, loss 0.002643, 0.59 steps/sec, 2.38 examples/sec\n",
      "INFO:tensorflow:step 16, accuracy 1.0000, loss 0.002224, 0.61 steps/sec, 2.45 examples/sec\n",
      "INFO:tensorflow:step 17, accuracy 1.0000, loss 0.001730, 0.57 steps/sec, 2.27 examples/sec\n",
      "INFO:tensorflow:step 18, accuracy 1.0000, loss 0.001479, 0.56 steps/sec, 2.23 examples/sec\n",
      "INFO:tensorflow:step 19, accuracy 1.0000, loss 0.001534, 0.63 steps/sec, 2.54 examples/sec\n",
      "INFO:tensorflow:step 20, accuracy 1.0000, loss 0.001455, 0.58 steps/sec, 2.33 examples/sec\n"
     ]
    }
   ],
   "source": [
    "model.fit(X, y, total_steps=20)"
   ]
  },
  {
   "cell_type": "code",
   "execution_count": 5,
   "id": "3d735c94",
   "metadata": {},
   "outputs": [
    {
     "name": "stdout",
     "output_type": "stream",
     "text": [
      "INFO:tensorflow:Saving checkpoint for 20 into .teacher/model.ckpt\n"
     ]
    }
   ],
   "source": [
    "model.save()"
   ]
  },
  {
   "cell_type": "markdown",
   "id": "vanilla-fault",
   "metadata": {},
   "source": [
    "# Student训练"
   ]
  },
  {
   "cell_type": "code",
   "execution_count": 6,
   "id": "6bfbddf5",
   "metadata": {},
   "outputs": [
    {
     "name": "stdout",
     "output_type": "stream",
     "text": [
      "uf.FastBERTClassifier(\n",
      "    config_file=\"../../ref/bert_config.json\",\n",
      "    vocab_file=\"../../ref/vocab.txt\",\n",
      "    max_seq_length=128,\n",
      "    label_size=2,\n",
      "    init_checkpoint=\".teacher\",\n",
      "    output_dir=None,\n",
      "    gpu_ids=None,\n",
      "    drop_pooler=False,\n",
      "    cls_model=\"self-attention\",\n",
      "    do_lower_case=True,\n",
      "    truncate_method=\"LIFO\",\n",
      ")\n"
     ]
    }
   ],
   "source": [
    "model = uf.FastBERTClassifier(\"../../ref/bert_config.json\", \"../../ref/vocab.txt\", init_checkpoint=\".teacher\", label_size=2)    # 配置文件依然使用teacher模型的\n",
    "print(model)"
   ]
  },
  {
   "cell_type": "code",
   "execution_count": 7,
   "id": "excellent-religion",
   "metadata": {},
   "outputs": [
    {
     "name": "stderr",
     "output_type": "stream",
     "text": [
      "c:\\Users\\Luv_d\\AppData\\Local\\Programs\\Python\\Python39\\lib\\site-packages\\uf-2.5.0-py3.9.egg\\uf\\apps\\fastbert\\fastbert.py:486: UserWarning: `tf.layers.dense` is deprecated and will be removed in a future version. Please use `tf.keras.layers.Dense` instead.\n",
      "  cls_output = tf.layers.dense(\n",
      "c:\\Users\\Luv_d\\AppData\\Local\\Programs\\Python\\Python39\\lib\\site-packages\\uf-2.5.0-py3.9.egg\\uf\\apps\\fastbert\\fastbert.py:327: UserWarning: `tf.layers.dense` is deprecated and will be removed in a future version. Please use `tf.keras.layers.Dense` instead.\n",
      "  attention_output = tf.layers.dense(\n",
      "c:\\Users\\Luv_d\\AppData\\Local\\Programs\\Python\\Python39\\lib\\site-packages\\uf-2.5.0-py3.9.egg\\uf\\apps\\fastbert\\fastbert.py:341: UserWarning: `tf.layers.dense` is deprecated and will be removed in a future version. Please use `tf.keras.layers.Dense` instead.\n",
      "  intermediate_output = tf.layers.dense(\n",
      "c:\\Users\\Luv_d\\AppData\\Local\\Programs\\Python\\Python39\\lib\\site-packages\\uf-2.5.0-py3.9.egg\\uf\\apps\\fastbert\\fastbert.py:351: UserWarning: `tf.layers.dense` is deprecated and will be removed in a future version. Please use `tf.keras.layers.Dense` instead.\n",
      "  layer_output = tf.layers.dense(\n",
      "c:\\Users\\Luv_d\\AppData\\Local\\Programs\\Python\\Python39\\lib\\site-packages\\uf-2.5.0-py3.9.egg\\uf\\apps\\fastbert\\fastbert.py:118: UserWarning: `tf.layers.dense` is deprecated and will be removed in a future version. Please use `tf.keras.layers.Dense` instead.\n",
      "  self.pooled_output = tf.layers.dense(\n"
     ]
    },
    {
     "name": "stdout",
     "output_type": "stream",
     "text": [
      "INFO:tensorflow:Build graph with 112,918,346 parameters (among which 3,549,720 are trainable)\n",
      "INFO:tensorflow:Running local_init_op\n",
      "INFO:tensorflow:Done running local_init_op\n",
      "INFO:tensorflow:121 local variables failed to match up with the checkpoint file. Check more details through `.uninited_vars`.\n",
      "INFO:tensorflow:Restoring parameters from .teacher\\model.ckpt-20\n",
      "INFO:tensorflow:Running training on 4 samples (step 0 -> 20)\n",
      "INFO:tensorflow:step 1, distill loss 32.890720, 0.35 steps/sec, 1.40 examples/sec\n",
      "INFO:tensorflow:step 2, distill loss 32.890720, 2.28 steps/sec, 9.11 examples/sec\n",
      "INFO:tensorflow:step 3, distill loss 31.891987, 2.32 steps/sec, 9.28 examples/sec\n",
      "INFO:tensorflow:step 4, distill loss 29.814396, 2.19 steps/sec, 8.78 examples/sec\n",
      "INFO:tensorflow:step 5, distill loss 27.714020, 2.26 steps/sec, 9.06 examples/sec\n",
      "INFO:tensorflow:step 6, distill loss 25.688402, 2.24 steps/sec, 8.95 examples/sec\n",
      "INFO:tensorflow:step 7, distill loss 23.795513, 2.31 steps/sec, 9.26 examples/sec\n",
      "INFO:tensorflow:step 8, distill loss 22.184502, 2.32 steps/sec, 9.28 examples/sec\n",
      "INFO:tensorflow:step 9, distill loss 20.617489, 2.24 steps/sec, 8.94 examples/sec\n",
      "INFO:tensorflow:step 10, distill loss 19.220686, 2.38 steps/sec, 9.54 examples/sec\n",
      "INFO:tensorflow:step 11, distill loss 17.986252, 2.46 steps/sec, 9.84 examples/sec\n",
      "INFO:tensorflow:step 12, distill loss 16.903652, 2.24 steps/sec, 8.96 examples/sec\n",
      "INFO:tensorflow:step 13, distill loss 15.961875, 2.19 steps/sec, 8.75 examples/sec\n",
      "INFO:tensorflow:step 14, distill loss 15.150541, 2.09 steps/sec, 8.34 examples/sec\n",
      "INFO:tensorflow:step 15, distill loss 14.460397, 2.09 steps/sec, 8.36 examples/sec\n",
      "INFO:tensorflow:step 16, distill loss 13.883450, 2.24 steps/sec, 8.95 examples/sec\n",
      "INFO:tensorflow:step 17, distill loss 13.412961, 2.26 steps/sec, 9.05 examples/sec\n",
      "INFO:tensorflow:step 18, distill loss 13.043369, 2.40 steps/sec, 9.59 examples/sec\n",
      "INFO:tensorflow:step 19, distill loss 12.770240, 2.18 steps/sec, 8.72 examples/sec\n",
      "INFO:tensorflow:step 20, distill loss 12.590201, 2.36 steps/sec, 9.44 examples/sec\n"
     ]
    }
   ],
   "source": [
    "model.fit(X, total_steps=20, learning_rate=5e-4)        # student模型较小，可以适当提高学习率"
   ]
  },
  {
   "cell_type": "markdown",
   "id": "fallen-hundred",
   "metadata": {},
   "source": [
    "# 推理"
   ]
  },
  {
   "cell_type": "code",
   "execution_count": 8,
   "id": "opposite-pantyhose",
   "metadata": {},
   "outputs": [
    {
     "name": "stdout",
     "output_type": "stream",
     "text": [
      "INFO:tensorflow:Running inference on 4 samples\n",
      "INFO:tensorflow:process 100.0%, 2.59 examples/sec\n"
     ]
    },
    {
     "data": {
      "text/plain": [
       "{'preds': [1, 0, 1, 0],\n",
       " 'probs': array([[0.00105404, 0.99894601],\n",
       "        [0.99875712, 0.00124292],\n",
       "        [0.00105435, 0.99894565],\n",
       "        [0.9987343 , 0.00126575]]),\n",
       " 'sources': [12, 12, 12, 12]}"
      ]
     },
     "execution_count": 8,
     "metadata": {},
     "output_type": "execute_result"
    }
   ],
   "source": [
    "model.predict(X)"
   ]
  },
  {
   "cell_type": "markdown",
   "id": "developmental-tennis",
   "metadata": {},
   "source": [
    "可以自由调节子分类器的阈值 (speed∈(0,1])，并选择跳过哪些分类器，以达到最优的性能"
   ]
  },
  {
   "cell_type": "code",
   "execution_count": 9,
   "id": "bored-annotation",
   "metadata": {},
   "outputs": [
    {
     "name": "stdout",
     "output_type": "stream",
     "text": [
      "INFO:tensorflow:Running inference on 4 samples\n",
      "INFO:tensorflow:process 100.0%, 3.10 examples/sec\n"
     ]
    },
    {
     "data": {
      "text/plain": [
       "{'preds': [1, 0, 1, 0],\n",
       " 'probs': array([[0.34331366, 0.65668631],\n",
       "        [0.64706421, 0.35293582],\n",
       "        [0.3755914 , 0.6244086 ],\n",
       "        [0.60496438, 0.39503556]]),\n",
       " 'sources': [1, 1, 1, 1]}"
      ]
     },
     "execution_count": 9,
     "metadata": {},
     "output_type": "execute_result"
    }
   ],
   "source": [
    "model.predict(X, speed=1.0, ignore_cls=[0, 2])"
   ]
  },
  {
   "cell_type": "markdown",
   "id": "fundamental-poverty",
   "metadata": {},
   "source": [
    "# 评分"
   ]
  },
  {
   "cell_type": "code",
   "execution_count": 10,
   "id": "accessory-lesbian",
   "metadata": {},
   "outputs": [
    {
     "name": "stdout",
     "output_type": "stream",
     "text": [
      "INFO:tensorflow:Running scoring on 4 samples\n",
      "INFO:tensorflow:process 100.0%, 2.53 examples/sec\n"
     ]
    },
    {
     "data": {
      "text/plain": [
       "{'accuracy': 1.0, 'loss': 0.0011549007306437778}"
      ]
     },
     "execution_count": 10,
     "metadata": {},
     "output_type": "execute_result"
    }
   ],
   "source": [
    "model.score(X, y)"
   ]
  },
  {
   "cell_type": "code",
   "execution_count": 11,
   "id": "fifth-austin",
   "metadata": {},
   "outputs": [
    {
     "name": "stdout",
     "output_type": "stream",
     "text": [
      "INFO:tensorflow:Running scoring on 4 samples\n",
      "INFO:tensorflow:process 100.0%, 3.19 examples/sec\n"
     ]
    },
    {
     "data": {
      "text/plain": [
       "{'accuracy': 1.0, 'loss': 0.4573486515242736}"
      ]
     },
     "execution_count": 11,
     "metadata": {},
     "output_type": "execute_result"
    }
   ],
   "source": [
    "model.score(X, y, speed=1.0, ignore_cls=[0, 2])"
   ]
  }
 ],
 "metadata": {
  "kernelspec": {
   "display_name": "Python 3.9.13 64-bit",
   "language": "python",
   "name": "python3"
  },
  "language_info": {
   "codemirror_mode": {
    "name": "ipython",
    "version": 3
   },
   "file_extension": ".py",
   "mimetype": "text/x-python",
   "name": "python",
   "nbconvert_exporter": "python",
   "pygments_lexer": "ipython3",
   "version": "3.9.13"
  },
  "vscode": {
   "interpreter": {
    "hash": "265fd6f62f200408acbbeae0248f34bed9f93569a643842b7a25d2cd76cae5e5"
   }
  }
 },
 "nbformat": 4,
 "nbformat_minor": 5
}
