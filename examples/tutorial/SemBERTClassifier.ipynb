{
 "cells": [
  {
   "cell_type": "markdown",
   "id": "accepting-classification",
   "metadata": {},
   "source": [
    "# SemBERTClassifier\n",
    "\n",
    "可用的中文预训练参数：[`bert-base`](https://storage.googleapis.com/bert_models/2018_11_03/chinese_L-12_H-768_A-12.zip),[`roberta-wwm-ext-base`](https://drive.google.com/uc?export=download&id=1jMAKIJmPn7kADgD3yQZhpsqM-IRM1qZt),[`roberta-wwm-ext-large`](https://drive.google.com/uc?export=download&id=1dtad0FFzG11CBsawu8hvwwzU2R0FDI94),[`macbert-base`](https://drive.google.com/uc?export=download&id=1aV69OhYzIwj_hn-kO1RiBa-m8QAusQ5b),[`macbert-large`](https://drive.google.com/uc?export=download&id=1lWYxnk1EqTA2Q20_IShxBrCPc5VSDCkT)"
   ]
  },
  {
   "cell_type": "code",
   "execution_count": 1,
   "id": "international-highlight",
   "metadata": {},
   "outputs": [
    {
     "name": "stdout",
     "output_type": "stream",
     "text": [
      "v2.5.21\n"
     ]
    }
   ],
   "source": [
    "import uf\n",
    "\n",
    "print(uf.__version__)"
   ]
  },
  {
   "cell_type": "code",
   "execution_count": 2,
   "id": "behavioral-commander",
   "metadata": {},
   "outputs": [
    {
     "name": "stdout",
     "output_type": "stream",
     "text": [
      "uf.SemBERTClassifier(\n",
      "    config_file=\"../../ref/bert_config.json\",\n",
      "    vocab_file=\"../../ref/vocab.txt\",\n",
      "    max_seq_length=128,\n",
      "    label_size=None,\n",
      "    init_checkpoint=None,\n",
      "    output_dir=None,\n",
      "    gpu_ids=None,\n",
      "    sem_features=None,\n",
      "    drop_pooler=False,\n",
      "    do_lower_case=True,\n",
      "    truncate_method=\"LIFO\",\n",
      ")\n"
     ]
    }
   ],
   "source": [
    "model = uf.SemBERTClassifier(\"../../ref/bert_config.json\", \"../../ref/vocab.txt\")\n",
    "print(model)"
   ]
  },
  {
   "cell_type": "code",
   "execution_count": 3,
   "id": "affiliated-medication",
   "metadata": {},
   "outputs": [],
   "source": [
    "X_tokenized = [{\"Sem\": [0, 0, 2, 2, 4, 1, 1], \"Text\": [\"天\", \"亮\", \"以\", \"前\", \"说\", \"再\", \"见\"]},\n",
    "               {\"Sem\": [0, 0, 4, 4, 3, 3], \"Text\": [\"笑\", \"着\", \"泪\", \"流\", \"满\", \"面\"]}]\n",
    "y = [0, 1]"
   ]
  },
  {
   "cell_type": "markdown",
   "id": "interracial-charleston",
   "metadata": {},
   "source": [
    "# 训练"
   ]
  },
  {
   "cell_type": "code",
   "execution_count": 4,
   "id": "stainless-bouquet",
   "metadata": {},
   "outputs": [
    {
     "name": "stderr",
     "output_type": "stream",
     "text": [
      "/Users/geyingli/Library/Python/3.8/lib/python/site-packages/uf-2.5.21-py3.8.egg/uf/apps/bert/bert.py:236: UserWarning: `tf.layers.dense` is deprecated and will be removed in a future version. Please use `tf.keras.layers.Dense` instead.\n",
      "  query_layer = tf.layers.dense(\n",
      "/Users/geyingli/Library/Python/3.8/lib/python/site-packages/uf-2.5.21-py3.8.egg/uf/apps/bert/bert.py:246: UserWarning: `tf.layers.dense` is deprecated and will be removed in a future version. Please use `tf.keras.layers.Dense` instead.\n",
      "  key_layer = tf.layers.dense(\n",
      "/Users/geyingli/Library/Python/3.8/lib/python/site-packages/uf-2.5.21-py3.8.egg/uf/apps/bert/bert.py:256: UserWarning: `tf.layers.dense` is deprecated and will be removed in a future version. Please use `tf.keras.layers.Dense` instead.\n",
      "  value_layer = tf.layers.dense(\n",
      "/Users/geyingli/Library/Python/3.8/lib/python/site-packages/uf-2.5.21-py3.8.egg/uf/apps/bert/bert.py:380: UserWarning: `tf.layers.dense` is deprecated and will be removed in a future version. Please use `tf.keras.layers.Dense` instead.\n",
      "  attention_output = tf.layers.dense(\n",
      "/Users/geyingli/Library/Python/3.8/lib/python/site-packages/uf-2.5.21-py3.8.egg/uf/apps/bert/bert.py:392: UserWarning: `tf.layers.dense` is deprecated and will be removed in a future version. Please use `tf.keras.layers.Dense` instead.\n",
      "  intermediate_output = tf.layers.dense(\n",
      "/Users/geyingli/Library/Python/3.8/lib/python/site-packages/uf-2.5.21-py3.8.egg/uf/apps/bert/bert.py:402: UserWarning: `tf.layers.dense` is deprecated and will be removed in a future version. Please use `tf.keras.layers.Dense` instead.\n",
      "  layer_output = tf.layers.dense(\n",
      "/Users/geyingli/Library/Python/3.8/lib/python/site-packages/uf-2.5.21-py3.8.egg/uf/apps/bert/bert.py:103: UserWarning: `tf.layers.dense` is deprecated and will be removed in a future version. Please use `tf.keras.layers.Dense` instead.\n",
      "  self.pooled_output = tf.layers.dense(\n"
     ]
    },
    {
     "name": "stdout",
     "output_type": "stream",
     "text": [
      "INFO:tensorflow:Build graph with 312,145,926 parameters (among which 104,048,642 are trainable)\n",
      "INFO:tensorflow:Running local_init_op\n",
      "INFO:tensorflow:Done running local_init_op\n",
      "INFO:tensorflow:Running training on 2 samples (step 0 -> 20)\n",
      "INFO:tensorflow:step 1, accuracy 0.5000, loss 0.765246, 0.12 steps/sec, 0.23 examples/sec\n",
      "INFO:tensorflow:step 2, accuracy 0.5000, loss 0.573290, 0.35 steps/sec, 0.70 examples/sec\n",
      "INFO:tensorflow:step 3, accuracy 0.5000, loss 1.337362, 0.49 steps/sec, 0.98 examples/sec\n",
      "INFO:tensorflow:step 4, accuracy 0.5000, loss 1.181431, 0.49 steps/sec, 0.98 examples/sec\n",
      "INFO:tensorflow:step 5, accuracy 1.0000, loss 0.438664, 0.50 steps/sec, 1.00 examples/sec\n",
      "INFO:tensorflow:step 6, accuracy 0.5000, loss 1.119844, 0.54 steps/sec, 1.07 examples/sec\n",
      "INFO:tensorflow:step 7, accuracy 0.5000, loss 0.976675, 0.55 steps/sec, 1.10 examples/sec\n",
      "INFO:tensorflow:step 8, accuracy 0.5000, loss 0.422716, 0.57 steps/sec, 1.13 examples/sec\n",
      "INFO:tensorflow:step 9, accuracy 0.5000, loss 0.391695, 0.52 steps/sec, 1.05 examples/sec\n",
      "INFO:tensorflow:step 10, accuracy 0.5000, loss 0.397531, 0.54 steps/sec, 1.07 examples/sec\n",
      "INFO:tensorflow:step 11, accuracy 1.0000, loss 0.195181, 0.47 steps/sec, 0.95 examples/sec\n",
      "INFO:tensorflow:step 12, accuracy 1.0000, loss 0.082952, 0.47 steps/sec, 0.94 examples/sec\n",
      "INFO:tensorflow:step 13, accuracy 1.0000, loss 0.066080, 0.41 steps/sec, 0.82 examples/sec\n",
      "INFO:tensorflow:step 14, accuracy 1.0000, loss 0.071303, 0.48 steps/sec, 0.96 examples/sec\n",
      "INFO:tensorflow:step 15, accuracy 1.0000, loss 0.052883, 0.49 steps/sec, 0.98 examples/sec\n",
      "INFO:tensorflow:step 16, accuracy 1.0000, loss 0.013422, 0.38 steps/sec, 0.76 examples/sec\n",
      "INFO:tensorflow:step 17, accuracy 1.0000, loss 0.004530, 0.48 steps/sec, 0.96 examples/sec\n",
      "INFO:tensorflow:step 18, accuracy 1.0000, loss 0.002999, 0.46 steps/sec, 0.92 examples/sec\n",
      "INFO:tensorflow:step 19, accuracy 1.0000, loss 0.004556, 0.48 steps/sec, 0.96 examples/sec\n",
      "INFO:tensorflow:step 20, accuracy 1.0000, loss 0.002747, 0.46 steps/sec, 0.92 examples/sec\n"
     ]
    }
   ],
   "source": [
    "model.fit(X_tokenized=X_tokenized, y=y, total_steps=20)"
   ]
  },
  {
   "cell_type": "markdown",
   "id": "primary-enlargement",
   "metadata": {},
   "source": [
    "# 推理"
   ]
  },
  {
   "cell_type": "code",
   "execution_count": 5,
   "id": "joined-virgin",
   "metadata": {},
   "outputs": [
    {
     "name": "stdout",
     "output_type": "stream",
     "text": [
      "INFO:tensorflow:Running inference on 2 samples\n",
      "INFO:tensorflow:process 100.0%, 1.39 examples/sec\n"
     ]
    },
    {
     "data": {
      "text/plain": [
       "{'preds': [0, 1],\n",
       " 'probs': array([[9.9761462e-01, 2.3853430e-03],\n",
       "        [3.3897153e-04, 9.9966109e-01]], dtype=float32)}"
      ]
     },
     "execution_count": 5,
     "metadata": {},
     "output_type": "execute_result"
    }
   ],
   "source": [
    "model.predict(X_tokenized=X_tokenized)"
   ]
  },
  {
   "cell_type": "markdown",
   "id": "cellular-valuable",
   "metadata": {},
   "source": [
    "# 评分"
   ]
  },
  {
   "cell_type": "code",
   "execution_count": 6,
   "id": "static-vocabulary",
   "metadata": {},
   "outputs": [
    {
     "name": "stdout",
     "output_type": "stream",
     "text": [
      "INFO:tensorflow:Running scoring on 2 samples\n",
      "INFO:tensorflow:process 100.0%, 1.79 examples/sec\n"
     ]
    },
    {
     "data": {
      "text/plain": [
       "{'accuracy': 1.0, 'loss': 0.0013636098}"
      ]
     },
     "execution_count": 6,
     "metadata": {},
     "output_type": "execute_result"
    }
   ],
   "source": [
    "model.score(X_tokenized=X_tokenized, y=y)"
   ]
  }
 ],
 "metadata": {
  "kernelspec": {
   "display_name": "Python 3.9.13 64-bit",
   "language": "python",
   "name": "python3"
  },
  "language_info": {
   "codemirror_mode": {
    "name": "ipython",
    "version": 3
   },
   "file_extension": ".py",
   "mimetype": "text/x-python",
   "name": "python",
   "nbconvert_exporter": "python",
   "pygments_lexer": "ipython3",
   "version": "3.8.2"
  },
  "vscode": {
   "interpreter": {
    "hash": "265fd6f62f200408acbbeae0248f34bed9f93569a643842b7a25d2cd76cae5e5"
   }
  }
 },
 "nbformat": 4,
 "nbformat_minor": 5
}
