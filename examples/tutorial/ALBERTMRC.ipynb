{
 "cells": [
  {
   "cell_type": "markdown",
   "id": "frequent-oklahoma",
   "metadata": {},
   "source": [
    "# ALBERTMRC\n",
    "\n",
    "可用的中文预训练参数：[`albert-tiny`](https://storage.googleapis.com/albert_zh/albert_tiny_zh_google.zip),[`albert-small`](https://storage.googleapis.com/albert_zh/albert_small_zh_google.zip),[`albert-base`](https://storage.googleapis.com/albert_zh/albert_base_zh_additional_36k_steps.zip),[`albert-large`](https://storage.googleapis.com/albert_zh/albert_large_zh.zip),[`albert-xlarge`](https://storage.googleapis.com/albert_zh/albert_xlarge_zh_183k.zip)"
   ]
  },
  {
   "cell_type": "code",
   "execution_count": 1,
   "id": "rotary-academy",
   "metadata": {},
   "outputs": [
    {
     "name": "stdout",
     "output_type": "stream",
     "text": [
      "v2.5.0\n"
     ]
    }
   ],
   "source": [
    "import uf\n",
    "\n",
    "print(uf.__version__)"
   ]
  },
  {
   "cell_type": "code",
   "execution_count": 2,
   "id": "velvet-symbol",
   "metadata": {},
   "outputs": [
    {
     "name": "stdout",
     "output_type": "stream",
     "text": [
      "uf.ALBERTMRC(\n",
      "    config_file=\"../../ref/albert_config.json\",\n",
      "    vocab_file=\"../../ref/vocab.txt\",\n",
      "    max_seq_length=256,\n",
      "    init_checkpoint=None,\n",
      "    output_dir=None,\n",
      "    gpu_ids=None,\n",
      "    do_lower_case=True,\n",
      "    truncate_method=\"longer-FO\",\n",
      ")\n"
     ]
    }
   ],
   "source": [
    "model = uf.ALBERTMRC(\"../../ref/albert_config.json\", \"../../ref/vocab.txt\")\n",
    "print(model)"
   ]
  },
  {
   "cell_type": "code",
   "execution_count": 3,
   "id": "drawn-breathing",
   "metadata": {},
   "outputs": [],
   "source": [
    "X = [{\"doc\": \"天亮以前说再见，笑着泪流满面。去迎接应该你的，更好的明天\", \"ques\": \"何时说的再见\"}, \n",
    "     {\"doc\": \"他想知道那是谁，为何总沉默寡言。人群中也算抢眼，抢眼的孤独难免\", \"ques\": \"抢眼的如何\"}]\n",
    "y = [{\"text\": \"天亮以前\", \"answer_start\": 0}, {\"text\": \"孤独难免\", \"answer_start\": 27}]"
   ]
  },
  {
   "cell_type": "markdown",
   "id": "vanilla-fault",
   "metadata": {},
   "source": [
    "# 训练"
   ]
  },
  {
   "cell_type": "code",
   "execution_count": 4,
   "id": "excellent-religion",
   "metadata": {},
   "outputs": [
    {
     "name": "stdout",
     "output_type": "stream",
     "text": [
      "WARNING:tensorflow:From c:\\Users\\Luv_d\\AppData\\Local\\Programs\\Python\\Python39\\lib\\site-packages\\tensorflow\\python\\util\\dispatch.py:1176: calling dropout (from tensorflow.python.ops.nn_ops) with keep_prob is deprecated and will be removed in a future version.\n",
      "Instructions for updating:\n",
      "Please use `rate` instead of `keep_prob`. Rate should be set to `rate = 1 - keep_prob`.\n"
     ]
    },
    {
     "name": "stderr",
     "output_type": "stream",
     "text": [
      "c:\\Users\\Luv_d\\AppData\\Local\\Programs\\Python\\Python39\\lib\\site-packages\\uf-2.5.0-py3.9.egg\\uf\\apps\\albert\\albert.py:131: UserWarning: `tf.layers.dense` is deprecated and will be removed in a future version. Please use `tf.keras.layers.Dense` instead.\n",
      "  self.pooled_output = tf.layers.dense(\n"
     ]
    },
    {
     "name": "stdout",
     "output_type": "stream",
     "text": [
      "INFO:tensorflow:Build graph with 30,462,726 parameters (among which 10,547,970 are trainable)\n",
      "INFO:tensorflow:Running local_init_op\n",
      "INFO:tensorflow:Done running local_init_op\n",
      "INFO:tensorflow:Running training on 2 samples (step 0 -> 20)\n",
      "INFO:tensorflow:step 1, exact_match 0.0000, f1 0.0342, loss 5.587041, 0.27 steps/sec, 0.55 examples/sec\n",
      "INFO:tensorflow:step 2, exact_match 0.0000, f1 0.0952, loss 5.491879, 0.73 steps/sec, 1.46 examples/sec\n",
      "INFO:tensorflow:step 3, exact_match 0.0000, f1 0.1333, loss 4.794449, 0.79 steps/sec, 1.59 examples/sec\n",
      "INFO:tensorflow:step 4, exact_match 1.0000, f1 1.0000, loss 3.708842, 0.83 steps/sec, 1.67 examples/sec\n",
      "INFO:tensorflow:step 5, exact_match 1.0000, f1 1.0000, loss 2.850736, 0.89 steps/sec, 1.78 examples/sec\n",
      "INFO:tensorflow:step 6, exact_match 1.0000, f1 1.0000, loss 1.854862, 0.85 steps/sec, 1.70 examples/sec\n",
      "INFO:tensorflow:step 7, exact_match 1.0000, f1 1.0000, loss 1.000679, 0.88 steps/sec, 1.77 examples/sec\n",
      "INFO:tensorflow:step 8, exact_match 1.0000, f1 1.0000, loss 0.422793, 0.90 steps/sec, 1.80 examples/sec\n",
      "INFO:tensorflow:step 9, exact_match 1.0000, f1 1.0000, loss 0.177993, 0.87 steps/sec, 1.73 examples/sec\n",
      "INFO:tensorflow:step 10, exact_match 1.0000, f1 1.0000, loss 0.055710, 0.85 steps/sec, 1.69 examples/sec\n",
      "INFO:tensorflow:step 11, exact_match 1.0000, f1 1.0000, loss 0.020452, 0.85 steps/sec, 1.70 examples/sec\n",
      "INFO:tensorflow:step 12, exact_match 1.0000, f1 1.0000, loss 0.008291, 0.84 steps/sec, 1.67 examples/sec\n",
      "INFO:tensorflow:step 13, exact_match 1.0000, f1 1.0000, loss 0.004566, 0.82 steps/sec, 1.64 examples/sec\n",
      "INFO:tensorflow:step 14, exact_match 1.0000, f1 1.0000, loss 0.002392, 0.87 steps/sec, 1.74 examples/sec\n",
      "INFO:tensorflow:step 15, exact_match 1.0000, f1 1.0000, loss 0.001965, 0.82 steps/sec, 1.65 examples/sec\n",
      "INFO:tensorflow:step 16, exact_match 1.0000, f1 1.0000, loss 0.001146, 0.80 steps/sec, 1.60 examples/sec\n",
      "INFO:tensorflow:step 17, exact_match 1.0000, f1 1.0000, loss 0.000921, 0.82 steps/sec, 1.64 examples/sec\n",
      "INFO:tensorflow:step 18, exact_match 1.0000, f1 1.0000, loss 0.000899, 0.83 steps/sec, 1.65 examples/sec\n",
      "INFO:tensorflow:step 19, exact_match 1.0000, f1 1.0000, loss 0.000695, 0.82 steps/sec, 1.65 examples/sec\n",
      "INFO:tensorflow:step 20, exact_match 1.0000, f1 1.0000, loss 0.000819, 0.80 steps/sec, 1.60 examples/sec\n"
     ]
    }
   ],
   "source": [
    "model.fit(X, y, total_steps=20)"
   ]
  },
  {
   "cell_type": "markdown",
   "id": "fallen-hundred",
   "metadata": {},
   "source": [
    "# 推理"
   ]
  },
  {
   "cell_type": "code",
   "execution_count": 5,
   "id": "opposite-pantyhose",
   "metadata": {},
   "outputs": [
    {
     "name": "stdout",
     "output_type": "stream",
     "text": [
      "INFO:tensorflow:Running inference on 2 samples\n",
      "INFO:tensorflow:process 100.0%, 1.07 examples/sec\n"
     ]
    },
    {
     "data": {
      "text/plain": [
       "{'preds': ['天亮以前', '孤独难免'],\n",
       " 'probs': array([[[2.0732489e-06, 2.4993135e-06, 1.9685424e-06, ...,\n",
       "          2.2531856e-06, 1.8632292e-06, 1.8418151e-06],\n",
       "         [1.8477082e-06, 1.7991970e-06, 1.6895074e-06, ...,\n",
       "          1.0462455e-06, 1.2300669e-06, 1.3634883e-06]],\n",
       " \n",
       "        [[1.9088204e-06, 2.1139115e-06, 2.1504020e-06, ...,\n",
       "          2.0381508e-06, 1.7000682e-06, 1.6437307e-06],\n",
       "         [2.1636715e-06, 2.3695980e-06, 1.5336204e-06, ...,\n",
       "          1.2034035e-06, 1.3928714e-06, 1.5229400e-06]]], dtype=float32)}"
      ]
     },
     "execution_count": 5,
     "metadata": {},
     "output_type": "execute_result"
    }
   ],
   "source": [
    "model.predict(X)"
   ]
  },
  {
   "cell_type": "markdown",
   "id": "fundamental-poverty",
   "metadata": {},
   "source": [
    "# 评分"
   ]
  },
  {
   "cell_type": "code",
   "execution_count": 6,
   "id": "accessory-lesbian",
   "metadata": {},
   "outputs": [
    {
     "name": "stdout",
     "output_type": "stream",
     "text": [
      "INFO:tensorflow:Running scoring on 2 samples\n",
      "INFO:tensorflow:process 100.0%, 1.33 examples/sec\n"
     ]
    },
    {
     "data": {
      "text/plain": [
       "{'exact_match': 1.0, 'f1': 1.0, 'loss': 0.0006985221}"
      ]
     },
     "execution_count": 6,
     "metadata": {},
     "output_type": "execute_result"
    }
   ],
   "source": [
    "model.score(X, y)"
   ]
  }
 ],
 "metadata": {
  "kernelspec": {
   "display_name": "Python 3.9.13 64-bit",
   "language": "python",
   "name": "python3"
  },
  "language_info": {
   "codemirror_mode": {
    "name": "ipython",
    "version": 3
   },
   "file_extension": ".py",
   "mimetype": "text/x-python",
   "name": "python",
   "nbconvert_exporter": "python",
   "pygments_lexer": "ipython3",
   "version": "3.9.13"
  },
  "vscode": {
   "interpreter": {
    "hash": "265fd6f62f200408acbbeae0248f34bed9f93569a643842b7a25d2cd76cae5e5"
   }
  }
 },
 "nbformat": 4,
 "nbformat_minor": 5
}
