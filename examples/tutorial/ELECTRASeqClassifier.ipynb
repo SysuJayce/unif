{
 "cells": [
  {
   "cell_type": "markdown",
   "id": "global-marine",
   "metadata": {},
   "source": [
    "# ELECTRASeqClassifier\n",
    "\n",
    "可用的中文预训练参数：[`electra-small`](https://drive.google.com/file/d/1uab-9T1kR9HgD2NB0Kz1JB_TdSKgJIds/view?usp=drive_open),[`electra-small-ex`](https://drive.google.com/file/d/1LluPORc7xtFmCTFR4IF17q77ip82i7__/view),[`electra-base`](https://drive.google.com/file/d/1FMwrs2weFST-iAuZH3umMa6YZVeIP8wD/view),[`electra-large`](https://drive.google.com/file/d/1ny0NMLkEWG6rseDLiF_NujdHxDcIN51m/view)"
   ]
  },
  {
   "cell_type": "code",
   "execution_count": 1,
   "id": "rotary-academy",
   "metadata": {},
   "outputs": [
    {
     "name": "stdout",
     "output_type": "stream",
     "text": [
      "v2.4.5\n"
     ]
    }
   ],
   "source": [
    "import uf\n",
    "\n",
    "print(uf.__version__)"
   ]
  },
  {
   "cell_type": "code",
   "execution_count": 2,
   "id": "velvet-symbol",
   "metadata": {},
   "outputs": [
    {
     "name": "stdout",
     "output_type": "stream",
     "text": [
      "uf.ELECTRASeqClassifier(\n",
      "    config_file=\"../../demo/bert_config.json\",\n",
      "    vocab_file=\"../../demo/vocab.txt\",\n",
      "    max_seq_length=128,\n",
      "    label_size=None,\n",
      "    init_checkpoint=None,\n",
      "    output_dir=None,\n",
      "    gpu_ids=None,\n",
      "    do_lower_case=True,\n",
      "    truncate_method=\"LIFO\",\n",
      ")\n"
     ]
    }
   ],
   "source": [
    "model = uf.ELECTRASeqClassifier('../../demo/bert_config.json', '../../demo/vocab.txt')\n",
    "print(model)"
   ]
  },
  {
   "cell_type": "code",
   "execution_count": 3,
   "id": "drawn-breathing",
   "metadata": {},
   "outputs": [],
   "source": [
    "X_tokenized = [['天', '亮', '以', '前', '说', '再', '见'], ['笑', '着', '泪', '流', '满', '面']]\n",
    "y = [[0, 0, 0, 0, 0, 1, 1], [0, 0, 1, 1, 0, 0]]"
   ]
  },
  {
   "cell_type": "markdown",
   "id": "vanilla-fault",
   "metadata": {},
   "source": [
    "# 训练"
   ]
  },
  {
   "cell_type": "code",
   "execution_count": 4,
   "id": "excellent-religion",
   "metadata": {},
   "outputs": [
    {
     "name": "stdout",
     "output_type": "stream",
     "text": [
      "WARNING:tensorflow:From /Users/geyingli/Library/Python/3.8/lib/python/site-packages/tensorflow/python/util/dispatch.py:1096: calling dropout (from tensorflow.python.ops.nn_ops) with keep_prob is deprecated and will be removed in a future version.\n",
      "Instructions for updating:\n",
      "Please use `rate` instead of `keep_prob`. Rate should be set to `rate = 1 - keep_prob`.\n"
     ]
    },
    {
     "name": "stderr",
     "output_type": "stream",
     "text": [
      "/Users/geyingli/Library/Python/3.8/lib/python/site-packages/uf-2.4.5-py3.8.egg/uf/model/bert.py:272: UserWarning: `tf.layers.dense` is deprecated and will be removed in a future version. Please use `tf.keras.layers.Dense` instead.\n",
      "  query_layer = tf.layers.dense(\n",
      "/Users/geyingli/Library/Python/3.8/lib/python/site-packages/keras/legacy_tf_layers/core.py:255: UserWarning: `layer.apply` is deprecated and will be removed in a future version. Please use `layer.__call__` method instead.\n",
      "  return layer.apply(inputs)\n",
      "/Users/geyingli/Library/Python/3.8/lib/python/site-packages/uf-2.4.5-py3.8.egg/uf/model/bert.py:282: UserWarning: `tf.layers.dense` is deprecated and will be removed in a future version. Please use `tf.keras.layers.Dense` instead.\n",
      "  key_layer = tf.layers.dense(\n",
      "/Users/geyingli/Library/Python/3.8/lib/python/site-packages/uf-2.4.5-py3.8.egg/uf/model/bert.py:292: UserWarning: `tf.layers.dense` is deprecated and will be removed in a future version. Please use `tf.keras.layers.Dense` instead.\n",
      "  value_layer = tf.layers.dense(\n",
      "/Users/geyingli/Library/Python/3.8/lib/python/site-packages/uf-2.4.5-py3.8.egg/uf/model/bert.py:416: UserWarning: `tf.layers.dense` is deprecated and will be removed in a future version. Please use `tf.keras.layers.Dense` instead.\n",
      "  attention_output = tf.layers.dense(\n",
      "/Users/geyingli/Library/Python/3.8/lib/python/site-packages/uf-2.4.5-py3.8.egg/uf/model/bert.py:428: UserWarning: `tf.layers.dense` is deprecated and will be removed in a future version. Please use `tf.keras.layers.Dense` instead.\n",
      "  intermediate_output = tf.layers.dense(\n",
      "/Users/geyingli/Library/Python/3.8/lib/python/site-packages/uf-2.4.5-py3.8.egg/uf/model/bert.py:438: UserWarning: `tf.layers.dense` is deprecated and will be removed in a future version. Please use `tf.keras.layers.Dense` instead.\n",
      "  layer_output = tf.layers.dense(\n"
     ]
    },
    {
     "name": "stdout",
     "output_type": "stream",
     "text": [
      "INFO:tensorflow:Build graph with 305,035,782 parameters (among which 101,678,594 are trainable)\n",
      "INFO:tensorflow:Running local_init_op\n",
      "INFO:tensorflow:Done running local_init_op\n",
      "INFO:tensorflow:Running training on 2 samples (step 0 -> 20)\n",
      "INFO:tensorflow:step 1, accuracy 0.6923, loss 0.619569, 0.03 steps/sec, 0.07 examples/sec\n",
      "INFO:tensorflow:step 2, accuracy 0.8462, loss 0.554775, 0.29 steps/sec, 0.58 examples/sec\n",
      "INFO:tensorflow:step 3, accuracy 0.6923, loss 0.971199, 0.26 steps/sec, 0.53 examples/sec\n",
      "INFO:tensorflow:step 4, accuracy 0.6923, loss 0.819654, 0.22 steps/sec, 0.44 examples/sec\n",
      "INFO:tensorflow:step 5, accuracy 1.0000, loss 0.120081, 0.27 steps/sec, 0.54 examples/sec\n",
      "INFO:tensorflow:step 6, accuracy 0.7692, loss 0.427274, 0.32 steps/sec, 0.64 examples/sec\n",
      "INFO:tensorflow:step 7, accuracy 0.7692, loss 0.343801, 0.36 steps/sec, 0.71 examples/sec\n",
      "INFO:tensorflow:step 8, accuracy 1.0000, loss 0.067194, 0.43 steps/sec, 0.85 examples/sec\n",
      "INFO:tensorflow:step 9, accuracy 1.0000, loss 0.005577, 0.38 steps/sec, 0.77 examples/sec\n",
      "INFO:tensorflow:step 10, accuracy 1.0000, loss 0.006879, 0.35 steps/sec, 0.69 examples/sec\n",
      "INFO:tensorflow:step 11, accuracy 1.0000, loss 0.009767, 0.43 steps/sec, 0.86 examples/sec\n",
      "INFO:tensorflow:step 12, accuracy 1.0000, loss 0.000849, 0.37 steps/sec, 0.75 examples/sec\n",
      "INFO:tensorflow:step 13, accuracy 1.0000, loss 0.000377, 0.37 steps/sec, 0.74 examples/sec\n",
      "INFO:tensorflow:step 14, accuracy 1.0000, loss 0.000241, 0.49 steps/sec, 0.98 examples/sec\n",
      "INFO:tensorflow:step 15, accuracy 1.0000, loss 0.000128, 0.58 steps/sec, 1.16 examples/sec\n",
      "INFO:tensorflow:step 16, accuracy 1.0000, loss 0.000101, 0.50 steps/sec, 1.01 examples/sec\n",
      "INFO:tensorflow:step 17, accuracy 1.0000, loss 0.000063, 0.54 steps/sec, 1.09 examples/sec\n",
      "INFO:tensorflow:step 18, accuracy 1.0000, loss 0.000054, 0.54 steps/sec, 1.08 examples/sec\n",
      "INFO:tensorflow:step 19, accuracy 1.0000, loss 0.000065, 0.59 steps/sec, 1.18 examples/sec\n",
      "INFO:tensorflow:step 20, accuracy 1.0000, loss 0.000059, 0.59 steps/sec, 1.17 examples/sec\n"
     ]
    }
   ],
   "source": [
    "model.fit(X_tokenized=X_tokenized, y=y, total_steps=20)"
   ]
  },
  {
   "cell_type": "markdown",
   "id": "fallen-hundred",
   "metadata": {},
   "source": [
    "# 推理"
   ]
  },
  {
   "cell_type": "code",
   "execution_count": 5,
   "id": "opposite-pantyhose",
   "metadata": {},
   "outputs": [
    {
     "name": "stdout",
     "output_type": "stream",
     "text": [
      "INFO:tensorflow:Time usage 0m-1.21s, 0.82 steps/sec, 1.65 examples/sec\n"
     ]
    },
    {
     "data": {
      "text/plain": [
       "{'preds': [[0, 0, 0, 0, 0, 1, 1], [0, 0, 1, 1, 0, 0]],\n",
       " 'probs': array([[[9.99984503e-01, 1.55264024e-05],\n",
       "         [9.99988675e-01, 1.13544993e-05],\n",
       "         [9.99981880e-01, 1.81458017e-05],\n",
       "         [9.99984741e-01, 1.52396788e-05],\n",
       "         [9.99985456e-01, 1.45617150e-05],\n",
       "         [5.79100833e-06, 9.99994159e-01],\n",
       "         [2.24766191e-05, 9.99977469e-01],\n",
       "         [9.75629866e-01, 2.43701339e-02],\n",
       "         [9.94123638e-01, 5.87641820e-03],\n",
       "         [9.93160844e-01, 6.83918362e-03],\n",
       "         [9.81073499e-01, 1.89265180e-02],\n",
       "         [9.97702420e-01, 2.29760376e-03],\n",
       "         [9.96782184e-01, 3.21774418e-03],\n",
       "         [9.93433833e-01, 6.56615850e-03],\n",
       "         [9.54704583e-01, 4.52954061e-02],\n",
       "         [9.92252052e-01, 7.74797425e-03],\n",
       "         [9.91593838e-01, 8.40618648e-03],\n",
       "         [9.97209609e-01, 2.79035862e-03],\n",
       "         [9.97067630e-01, 2.93235760e-03],\n",
       "         [9.97855723e-01, 2.14428571e-03],\n",
       "         [9.98627543e-01, 1.37252966e-03],\n",
       "         [9.89145994e-01, 1.08539397e-02],\n",
       "         [9.79754925e-01, 2.02449933e-02],\n",
       "         [9.38429296e-01, 6.15707859e-02],\n",
       "         [9.51239049e-01, 4.87609580e-02],\n",
       "         [8.79917383e-01, 1.20082602e-01],\n",
       "         [9.96608138e-01, 3.39191873e-03],\n",
       "         [9.89427865e-01, 1.05721643e-02],\n",
       "         [9.96008754e-01, 3.99122247e-03],\n",
       "         [9.93270218e-01, 6.72980677e-03],\n",
       "         [9.87437785e-01, 1.25622572e-02],\n",
       "         [9.82854843e-01, 1.71451997e-02],\n",
       "         [9.76854920e-01, 2.31450982e-02],\n",
       "         [9.78263199e-01, 2.17367858e-02],\n",
       "         [6.71013951e-01, 3.28986049e-01],\n",
       "         [9.13798809e-01, 8.62012133e-02],\n",
       "         [9.72645998e-01, 2.73540001e-02],\n",
       "         [9.72903430e-01, 2.70965993e-02],\n",
       "         [9.90700841e-01, 9.29910690e-03],\n",
       "         [9.97794032e-01, 2.20596814e-03],\n",
       "         [9.93477941e-01, 6.52209530e-03],\n",
       "         [9.98299301e-01, 1.70074275e-03],\n",
       "         [9.95327353e-01, 4.67264978e-03],\n",
       "         [9.63228106e-01, 3.67719345e-02],\n",
       "         [9.97084081e-01, 2.91587180e-03],\n",
       "         [9.83885288e-01, 1.61147341e-02],\n",
       "         [9.71645951e-01, 2.83540413e-02],\n",
       "         [9.90042925e-01, 9.95709468e-03],\n",
       "         [9.95293677e-01, 4.70632361e-03],\n",
       "         [9.58757341e-01, 4.12427187e-02],\n",
       "         [9.79760468e-01, 2.02395469e-02],\n",
       "         [9.95721936e-01, 4.27800324e-03],\n",
       "         [9.31325495e-01, 6.86745197e-02],\n",
       "         [9.97855127e-01, 2.14483752e-03],\n",
       "         [9.54637766e-01, 4.53622416e-02],\n",
       "         [9.97630596e-01, 2.36933609e-03],\n",
       "         [9.97635722e-01, 2.36433512e-03],\n",
       "         [9.96477187e-01, 3.52286105e-03],\n",
       "         [9.69475627e-01, 3.05243246e-02],\n",
       "         [9.94013369e-01, 5.98663185e-03],\n",
       "         [9.96661186e-01, 3.33881704e-03],\n",
       "         [9.90441442e-01, 9.55863297e-03],\n",
       "         [9.37153280e-01, 6.28467128e-02],\n",
       "         [9.98937905e-01, 1.06207922e-03],\n",
       "         [9.95812118e-01, 4.18785401e-03],\n",
       "         [9.86618340e-01, 1.33816255e-02],\n",
       "         [9.98770177e-01, 1.22973905e-03],\n",
       "         [9.91838515e-01, 8.16147309e-03],\n",
       "         [9.88194585e-01, 1.18054245e-02],\n",
       "         [9.97259259e-01, 2.74067465e-03],\n",
       "         [9.95246470e-01, 4.75353934e-03],\n",
       "         [9.81825173e-01, 1.81748457e-02],\n",
       "         [9.91849780e-01, 8.15019477e-03],\n",
       "         [9.97174382e-01, 2.82554002e-03],\n",
       "         [9.98242736e-01, 1.75732432e-03],\n",
       "         [9.95457530e-01, 4.54245554e-03],\n",
       "         [9.96061146e-01, 3.93887609e-03],\n",
       "         [9.81194913e-01, 1.88051406e-02],\n",
       "         [9.94572580e-01, 5.42741176e-03],\n",
       "         [9.96421099e-01, 3.57897975e-03],\n",
       "         [9.95959580e-01, 4.04041959e-03],\n",
       "         [9.76300478e-01, 2.36995146e-02],\n",
       "         [9.55704808e-01, 4.42951806e-02],\n",
       "         [9.94462311e-01, 5.53770596e-03],\n",
       "         [9.97967064e-01, 2.03289301e-03],\n",
       "         [9.74627733e-01, 2.53723264e-02],\n",
       "         [9.66986835e-01, 3.30131240e-02],\n",
       "         [9.95152831e-01, 4.84716659e-03],\n",
       "         [9.88309383e-01, 1.16906632e-02],\n",
       "         [9.96537209e-01, 3.46277189e-03],\n",
       "         [9.95101511e-01, 4.89855371e-03],\n",
       "         [9.98376846e-01, 1.62319432e-03],\n",
       "         [9.97254312e-01, 2.74569564e-03],\n",
       "         [9.94556069e-01, 5.44396974e-03],\n",
       "         [9.87084568e-01, 1.29154446e-02],\n",
       "         [9.88385677e-01, 1.16142966e-02],\n",
       "         [9.87890363e-01, 1.21095944e-02],\n",
       "         [9.94511485e-01, 5.48853772e-03],\n",
       "         [9.78823423e-01, 2.11765058e-02],\n",
       "         [9.90856826e-01, 9.14311595e-03],\n",
       "         [9.93425608e-01, 6.57443469e-03],\n",
       "         [7.36611784e-01, 2.63388216e-01],\n",
       "         [9.86714900e-01, 1.32850781e-02],\n",
       "         [9.91740584e-01, 8.25945381e-03],\n",
       "         [9.97045338e-01, 2.95468280e-03],\n",
       "         [9.89621639e-01, 1.03783086e-02],\n",
       "         [9.75544751e-01, 2.44552512e-02],\n",
       "         [9.92795765e-01, 7.20418524e-03],\n",
       "         [9.78797972e-01, 2.12020725e-02],\n",
       "         [9.88017797e-01, 1.19822612e-02],\n",
       "         [9.89715397e-01, 1.02846557e-02],\n",
       "         [9.97629762e-01, 2.37017148e-03],\n",
       "         [9.96139228e-01, 3.86072928e-03],\n",
       "         [9.90542114e-01, 9.45782382e-03],\n",
       "         [9.89333034e-01, 1.06670242e-02],\n",
       "         [9.97430623e-01, 2.56937183e-03],\n",
       "         [9.97648776e-01, 2.35127704e-03],\n",
       "         [9.90982234e-01, 9.01773944e-03],\n",
       "         [9.94742036e-01, 5.25795342e-03],\n",
       "         [9.85526443e-01, 1.44735537e-02],\n",
       "         [9.96925533e-01, 3.07441666e-03],\n",
       "         [9.97775614e-01, 2.22433684e-03],\n",
       "         [9.94248152e-01, 5.75179793e-03],\n",
       "         [9.79916811e-01, 2.00832356e-02],\n",
       "         [9.89305019e-01, 1.06950495e-02],\n",
       "         [9.94221866e-01, 5.77813992e-03],\n",
       "         [9.87365842e-01, 1.26341060e-02],\n",
       "         [9.75846887e-01, 2.41531897e-02]],\n",
       " \n",
       "        [[9.99987721e-01, 1.22909050e-05],\n",
       "         [9.99987960e-01, 1.20643590e-05],\n",
       "         [5.82129433e-05, 9.99941826e-01],\n",
       "         [3.47547175e-05, 9.99965191e-01],\n",
       "         [9.99989629e-01, 1.04262226e-05],\n",
       "         [9.99992371e-01, 7.62508444e-06],\n",
       "         [1.78561196e-01, 8.21438849e-01],\n",
       "         [9.81083572e-01, 1.89164449e-02],\n",
       "         [9.95400012e-01, 4.60001687e-03],\n",
       "         [9.95371521e-01, 4.62846132e-03],\n",
       "         [9.82765913e-01, 1.72340535e-02],\n",
       "         [9.97730911e-01, 2.26916443e-03],\n",
       "         [9.97271121e-01, 2.72889901e-03],\n",
       "         [9.94824409e-01, 5.17565059e-03],\n",
       "         [9.58610535e-01, 4.13894877e-02],\n",
       "         [9.93637860e-01, 6.36210246e-03],\n",
       "         [9.92915034e-01, 7.08500110e-03],\n",
       "         [9.97241616e-01, 2.75842519e-03],\n",
       "         [9.97431219e-01, 2.56879511e-03],\n",
       "         [9.98314500e-01, 1.68548326e-03],\n",
       "         [9.98911977e-01, 1.08804496e-03],\n",
       "         [9.91743743e-01, 8.25619232e-03],\n",
       "         [9.83298182e-01, 1.67018697e-02],\n",
       "         [9.45770085e-01, 5.42298891e-02],\n",
       "         [9.58940923e-01, 4.10591401e-02],\n",
       "         [8.94795537e-01, 1.05204478e-01],\n",
       "         [9.96839523e-01, 3.16045503e-03],\n",
       "         [9.92149115e-01, 7.85082020e-03],\n",
       "         [9.96349216e-01, 3.65072582e-03],\n",
       "         [9.94944751e-01, 5.05528878e-03],\n",
       "         [9.90967453e-01, 9.03248601e-03],\n",
       "         [9.80642259e-01, 1.93577185e-02],\n",
       "         [9.79169667e-01, 2.08304152e-02],\n",
       "         [9.82920349e-01, 1.70796905e-02],\n",
       "         [7.15812027e-01, 2.84188002e-01],\n",
       "         [9.24687624e-01, 7.53124133e-02],\n",
       "         [9.72026050e-01, 2.79740002e-02],\n",
       "         [9.78098750e-01, 2.19012685e-02],\n",
       "         [9.92296875e-01, 7.70310778e-03],\n",
       "         [9.98643458e-01, 1.35649217e-03],\n",
       "         [9.96264517e-01, 3.73552507e-03],\n",
       "         [9.98897791e-01, 1.10223889e-03],\n",
       "         [9.95615363e-01, 4.38466342e-03],\n",
       "         [9.68946755e-01, 3.10532413e-02],\n",
       "         [9.97383535e-01, 2.61646369e-03],\n",
       "         [9.89193022e-01, 1.08069526e-02],\n",
       "         [9.72774923e-01, 2.72250120e-02],\n",
       "         [9.91730273e-01, 8.26972816e-03],\n",
       "         [9.95881915e-01, 4.11814498e-03],\n",
       "         [9.74260986e-01, 2.57390887e-02],\n",
       "         [9.81625140e-01, 1.83749255e-02],\n",
       "         [9.96436119e-01, 3.56391445e-03],\n",
       "         [9.17963445e-01, 8.20365250e-02],\n",
       "         [9.98262465e-01, 1.73756201e-03],\n",
       "         [9.54799533e-01, 4.52004634e-02],\n",
       "         [9.98423576e-01, 1.57638686e-03],\n",
       "         [9.98026431e-01, 1.97356939e-03],\n",
       "         [9.97387826e-01, 2.61215051e-03],\n",
       "         [9.76809442e-01, 2.31905729e-02],\n",
       "         [9.95658994e-01, 4.34101792e-03],\n",
       "         [9.97717142e-01, 2.28291191e-03],\n",
       "         [9.93310928e-01, 6.68911822e-03],\n",
       "         [9.54266667e-01, 4.57333736e-02],\n",
       "         [9.99214292e-01, 7.85730022e-04],\n",
       "         [9.97047961e-01, 2.95209512e-03],\n",
       "         [9.88128841e-01, 1.18711796e-02],\n",
       "         [9.98922229e-01, 1.07778388e-03],\n",
       "         [9.93608952e-01, 6.39111269e-03],\n",
       "         [9.89845276e-01, 1.01547800e-02],\n",
       "         [9.97920811e-01, 2.07921071e-03],\n",
       "         [9.95392084e-01, 4.60796664e-03],\n",
       "         [9.85391259e-01, 1.46087361e-02],\n",
       "         [9.94694531e-01, 5.30549232e-03],\n",
       "         [9.97556925e-01, 2.44303350e-03],\n",
       "         [9.98674750e-01, 1.32530963e-03],\n",
       "         [9.96369481e-01, 3.63055826e-03],\n",
       "         [9.97066796e-01, 2.93320254e-03],\n",
       "         [9.84709024e-01, 1.52910119e-02],\n",
       "         [9.94493365e-01, 5.50671481e-03],\n",
       "         [9.96841550e-01, 3.15840496e-03],\n",
       "         [9.96391356e-01, 3.60868499e-03],\n",
       "         [9.83852088e-01, 1.61479395e-02],\n",
       "         [9.69328403e-01, 3.06715984e-02],\n",
       "         [9.95698094e-01, 4.30193637e-03],\n",
       "         [9.98692334e-01, 1.30762393e-03],\n",
       "         [9.83081043e-01, 1.69189330e-02],\n",
       "         [9.75484669e-01, 2.45153140e-02],\n",
       "         [9.95715082e-01, 4.28490713e-03],\n",
       "         [9.91465688e-01, 8.53432715e-03],\n",
       "         [9.97637868e-01, 2.36216071e-03],\n",
       "         [9.96004641e-01, 3.99530912e-03],\n",
       "         [9.98835027e-01, 1.16494054e-03],\n",
       "         [9.97673690e-01, 2.32631247e-03],\n",
       "         [9.95378733e-01, 4.62128595e-03],\n",
       "         [9.90000606e-01, 9.99932829e-03],\n",
       "         [9.92225528e-01, 7.77443871e-03],\n",
       "         [9.89402175e-01, 1.05977422e-02],\n",
       "         [9.95893955e-01, 4.10606898e-03],\n",
       "         [9.86184537e-01, 1.38154374e-02],\n",
       "         [9.93280470e-01, 6.71957713e-03],\n",
       "         [9.94944870e-01, 5.05518308e-03],\n",
       "         [8.14978421e-01, 1.85021564e-01],\n",
       "         [9.92255092e-01, 7.74491392e-03],\n",
       "         [9.90875363e-01, 9.12463292e-03],\n",
       "         [9.97257054e-01, 2.74302717e-03],\n",
       "         [9.91922021e-01, 8.07800796e-03],\n",
       "         [9.81701374e-01, 1.82986129e-02],\n",
       "         [9.94072497e-01, 5.92750590e-03],\n",
       "         [9.85677242e-01, 1.43228136e-02],\n",
       "         [9.90991950e-01, 9.00804996e-03],\n",
       "         [9.90105331e-01, 9.89468116e-03],\n",
       "         [9.98278379e-01, 1.72166305e-03],\n",
       "         [9.97367561e-01, 2.63243518e-03],\n",
       "         [9.90346014e-01, 9.65393614e-03],\n",
       "         [9.92880940e-01, 7.11899111e-03],\n",
       "         [9.98178482e-01, 1.82150910e-03],\n",
       "         [9.98242736e-01, 1.75723468e-03],\n",
       "         [9.90849376e-01, 9.15064942e-03],\n",
       "         [9.95724320e-01, 4.27568005e-03],\n",
       "         [9.90682364e-01, 9.31765139e-03],\n",
       "         [9.97547448e-01, 2.45253788e-03],\n",
       "         [9.98392999e-01, 1.60697999e-03],\n",
       "         [9.95080471e-01, 4.91949171e-03],\n",
       "         [9.84150410e-01, 1.58495232e-02],\n",
       "         [9.91731226e-01, 8.26878194e-03],\n",
       "         [9.95814621e-01, 4.18540882e-03],\n",
       "         [9.89775777e-01, 1.02242334e-02],\n",
       "         [9.79714096e-01, 2.02859510e-02]]], dtype=float32)}"
      ]
     },
     "execution_count": 5,
     "metadata": {},
     "output_type": "execute_result"
    }
   ],
   "source": [
    "model.predict(X_tokenized=X_tokenized)"
   ]
  },
  {
   "cell_type": "markdown",
   "id": "fundamental-poverty",
   "metadata": {},
   "source": [
    "# 评分"
   ]
  },
  {
   "cell_type": "code",
   "execution_count": 6,
   "id": "accessory-lesbian",
   "metadata": {},
   "outputs": [
    {
     "name": "stdout",
     "output_type": "stream",
     "text": [
      "INFO:tensorflow:Time usage 0m-0.74s, 1.35 steps/sec, 2.69 examples/sec\n"
     ]
    },
    {
     "data": {
      "text/plain": [
       "{'accuracy': 1.0, 'loss': 1.8640374e-05}"
      ]
     },
     "execution_count": 6,
     "metadata": {},
     "output_type": "execute_result"
    }
   ],
   "source": [
    "model.score(X_tokenized=X_tokenized, y=y)"
   ]
  }
 ],
 "metadata": {
  "kernelspec": {
   "display_name": "Python 3",
   "language": "python",
   "name": "python3"
  },
  "language_info": {
   "codemirror_mode": {
    "name": "ipython",
    "version": 3
   },
   "file_extension": ".py",
   "mimetype": "text/x-python",
   "name": "python",
   "nbconvert_exporter": "python",
   "pygments_lexer": "ipython3",
   "version": "3.8.2"
  }
 },
 "nbformat": 4,
 "nbformat_minor": 5
}
