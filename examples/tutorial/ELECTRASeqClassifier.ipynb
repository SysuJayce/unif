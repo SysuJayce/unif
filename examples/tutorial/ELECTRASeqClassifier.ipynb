{
 "cells": [
  {
   "cell_type": "code",
   "execution_count": 1,
   "id": "rotary-academy",
   "metadata": {},
   "outputs": [
    {
     "name": "stdout",
     "output_type": "stream",
     "text": [
      "v2.3.2\n"
     ]
    }
   ],
   "source": [
    "import uf\n",
    "\n",
    "print(uf.__version__)"
   ]
  },
  {
   "cell_type": "code",
   "execution_count": 2,
   "id": "velvet-symbol",
   "metadata": {},
   "outputs": [
    {
     "name": "stdout",
     "output_type": "stream",
     "text": [
      "uf.ELECTRASeqClassifier(config_file=\"../../demo/bert_config.json\", vocab_file=\"../../demo/vocab.txt\", max_seq_length=128, label_size=None, init_checkpoint=None, output_dir=None, gpu_ids=None, do_lower_case=True, truncate_method=\"LIFO\")\n"
     ]
    }
   ],
   "source": [
    "model = uf.ELECTRASeqClassifier('../../demo/bert_config.json', '../../demo/vocab.txt')\n",
    "print(model)"
   ]
  },
  {
   "cell_type": "code",
   "execution_count": 3,
   "id": "drawn-breathing",
   "metadata": {},
   "outputs": [],
   "source": [
    "X_tokenized = [['天', '亮', '以', '前', '说', '再', '见'], ['笑', '着', '泪', '流', '满', '面']]\n",
    "y = [[0, 0, 0, 0, 0, 1, 1], [0, 0, 1, 1, 0, 0]]"
   ]
  },
  {
   "cell_type": "markdown",
   "id": "vanilla-fault",
   "metadata": {},
   "source": [
    "# 训练"
   ]
  },
  {
   "cell_type": "code",
   "execution_count": 4,
   "id": "excellent-religion",
   "metadata": {},
   "outputs": [
    {
     "name": "stdout",
     "output_type": "stream",
     "text": [
      "WARNING:tensorflow:From /Users/geyingli/Library/Python/3.8/lib/python/site-packages/tensorflow/python/util/dispatch.py:1096: calling dropout (from tensorflow.python.ops.nn_ops) with keep_prob is deprecated and will be removed in a future version.\n",
      "Instructions for updating:\n",
      "Please use `rate` instead of `keep_prob`. Rate should be set to `rate = 1 - keep_prob`.\n"
     ]
    },
    {
     "name": "stderr",
     "output_type": "stream",
     "text": [
      "/Users/geyingli/Library/Python/3.8/lib/python/site-packages/uf-2.3.2-py3.8.egg/uf/modeling/bert.py:282: UserWarning: `tf.layers.dense` is deprecated and will be removed in a future version. Please use `tf.keras.layers.Dense` instead.\n",
      "  query_layer = tf.layers.dense(\n",
      "/Users/geyingli/Library/Python/3.8/lib/python/site-packages/keras/legacy_tf_layers/core.py:255: UserWarning: `layer.apply` is deprecated and will be removed in a future version. Please use `layer.__call__` method instead.\n",
      "  return layer.apply(inputs)\n",
      "/Users/geyingli/Library/Python/3.8/lib/python/site-packages/uf-2.3.2-py3.8.egg/uf/modeling/bert.py:291: UserWarning: `tf.layers.dense` is deprecated and will be removed in a future version. Please use `tf.keras.layers.Dense` instead.\n",
      "  key_layer = tf.layers.dense(\n",
      "/Users/geyingli/Library/Python/3.8/lib/python/site-packages/uf-2.3.2-py3.8.egg/uf/modeling/bert.py:300: UserWarning: `tf.layers.dense` is deprecated and will be removed in a future version. Please use `tf.keras.layers.Dense` instead.\n",
      "  value_layer = tf.layers.dense(\n",
      "/Users/geyingli/Library/Python/3.8/lib/python/site-packages/uf-2.3.2-py3.8.egg/uf/modeling/bert.py:430: UserWarning: `tf.layers.dense` is deprecated and will be removed in a future version. Please use `tf.keras.layers.Dense` instead.\n",
      "  attention_output = tf.layers.dense(\n",
      "/Users/geyingli/Library/Python/3.8/lib/python/site-packages/uf-2.3.2-py3.8.egg/uf/modeling/bert.py:445: UserWarning: `tf.layers.dense` is deprecated and will be removed in a future version. Please use `tf.keras.layers.Dense` instead.\n",
      "  intermediate_output = tf.layers.dense(\n",
      "/Users/geyingli/Library/Python/3.8/lib/python/site-packages/uf-2.3.2-py3.8.egg/uf/modeling/bert.py:455: UserWarning: `tf.layers.dense` is deprecated and will be removed in a future version. Please use `tf.keras.layers.Dense` instead.\n",
      "  layer_output = tf.layers.dense(\n"
     ]
    },
    {
     "name": "stdout",
     "output_type": "stream",
     "text": [
      "INFO:tensorflow:Build graph with 305,035,782 parameters (among which 101,678,594 are trainable)\n",
      "INFO:tensorflow:Running local_init_op\n",
      "INFO:tensorflow:Done running local_init_op\n",
      "INFO:tensorflow:Running training on 2 samples (step 0 -> 20)\n",
      "INFO:tensorflow:step 1, accuracy 0.3077, loss 0.921061, 0.04 steps/sec, 0.07 examples/sec\n",
      "INFO:tensorflow:step 2, accuracy 0.4615, loss 0.750124, 0.19 steps/sec, 0.38 examples/sec\n",
      "INFO:tensorflow:step 3, accuracy 0.6923, loss 0.875482, 0.29 steps/sec, 0.58 examples/sec\n",
      "INFO:tensorflow:step 4, accuracy 0.6923, loss 0.912911, 0.34 steps/sec, 0.67 examples/sec\n",
      "INFO:tensorflow:step 5, accuracy 0.8462, loss 0.246310, 0.17 steps/sec, 0.34 examples/sec\n",
      "INFO:tensorflow:step 6, accuracy 1.0000, loss 0.109197, 0.33 steps/sec, 0.66 examples/sec\n",
      "INFO:tensorflow:step 7, accuracy 1.0000, loss 0.099916, 0.27 steps/sec, 0.53 examples/sec\n",
      "INFO:tensorflow:step 8, accuracy 1.0000, loss 0.022744, 0.29 steps/sec, 0.58 examples/sec\n",
      "INFO:tensorflow:step 9, accuracy 1.0000, loss 0.005071, 0.23 steps/sec, 0.46 examples/sec\n",
      "INFO:tensorflow:step 10, accuracy 1.0000, loss 0.004860, 0.36 steps/sec, 0.73 examples/sec\n",
      "INFO:tensorflow:step 11, accuracy 1.0000, loss 0.003767, 0.33 steps/sec, 0.66 examples/sec\n",
      "INFO:tensorflow:step 12, accuracy 1.0000, loss 0.001326, 0.38 steps/sec, 0.76 examples/sec\n",
      "INFO:tensorflow:step 13, accuracy 1.0000, loss 0.000259, 0.32 steps/sec, 0.65 examples/sec\n",
      "INFO:tensorflow:step 14, accuracy 1.0000, loss 0.000199, 0.38 steps/sec, 0.77 examples/sec\n",
      "INFO:tensorflow:step 15, accuracy 1.0000, loss 0.000159, 0.39 steps/sec, 0.78 examples/sec\n",
      "INFO:tensorflow:step 16, accuracy 1.0000, loss 0.000069, 0.56 steps/sec, 1.12 examples/sec\n",
      "INFO:tensorflow:step 17, accuracy 1.0000, loss 0.000084, 0.55 steps/sec, 1.11 examples/sec\n",
      "INFO:tensorflow:step 18, accuracy 1.0000, loss 0.000053, 0.56 steps/sec, 1.12 examples/sec\n",
      "INFO:tensorflow:step 19, accuracy 1.0000, loss 0.000037, 0.56 steps/sec, 1.11 examples/sec\n",
      "INFO:tensorflow:step 20, accuracy 1.0000, loss 0.000053, 0.57 steps/sec, 1.14 examples/sec\n"
     ]
    }
   ],
   "source": [
    "model.fit(X_tokenized=X_tokenized, y=y, total_steps=20)"
   ]
  },
  {
   "cell_type": "markdown",
   "id": "fallen-hundred",
   "metadata": {},
   "source": [
    "# 推理"
   ]
  },
  {
   "cell_type": "code",
   "execution_count": 5,
   "id": "opposite-pantyhose",
   "metadata": {},
   "outputs": [
    {
     "name": "stdout",
     "output_type": "stream",
     "text": [
      "INFO:tensorflow:Time usage 0m-1.46s, 0.68 steps/sec, 1.37 examples/sec\n"
     ]
    },
    {
     "data": {
      "text/plain": [
       "{'preds': [[0, 0, 0, 0, 0, 1, 1], [0, 0, 1, 1, 0, 0]],\n",
       " 'probs': array([[[9.99994516e-01, 5.47736181e-06],\n",
       "         [9.99991894e-01, 8.11164136e-06],\n",
       "         [9.99996185e-01, 3.86806187e-06],\n",
       "         [9.99991417e-01, 8.63844889e-06],\n",
       "         [9.99991417e-01, 8.54474001e-06],\n",
       "         [1.15996090e-05, 9.99988437e-01],\n",
       "         [1.41571645e-05, 9.99985814e-01],\n",
       "         [9.99848962e-01, 1.51053609e-04],\n",
       "         [9.98948991e-01, 1.05104456e-03],\n",
       "         [9.99783933e-01, 2.16071960e-04],\n",
       "         [9.99830365e-01, 1.69601961e-04],\n",
       "         [9.99928951e-01, 7.10910317e-05],\n",
       "         [9.99571383e-01, 4.28614789e-04],\n",
       "         [9.99825060e-01, 1.74930217e-04],\n",
       "         [9.99788702e-01, 2.11277322e-04],\n",
       "         [9.99487519e-01, 5.12456929e-04],\n",
       "         [9.98962641e-01, 1.03732373e-03],\n",
       "         [9.99362290e-01, 6.37703401e-04],\n",
       "         [9.99780118e-01, 2.19945839e-04],\n",
       "         [9.99910712e-01, 8.92291937e-05],\n",
       "         [9.99913216e-01, 8.68303905e-05],\n",
       "         [9.99562085e-01, 4.37911774e-04],\n",
       "         [9.99455512e-01, 5.44447743e-04],\n",
       "         [9.99663353e-01, 3.36597033e-04],\n",
       "         [9.98285711e-01, 1.71430944e-03],\n",
       "         [9.99855757e-01, 1.44216392e-04],\n",
       "         [9.98587608e-01, 1.41243532e-03],\n",
       "         [9.99126852e-01, 8.73159268e-04],\n",
       "         [9.99790728e-01, 2.09283404e-04],\n",
       "         [9.98127401e-01, 1.87256082e-03],\n",
       "         [9.99885917e-01, 1.14086048e-04],\n",
       "         [9.99940991e-01, 5.90359668e-05],\n",
       "         [9.99721944e-01, 2.78043968e-04],\n",
       "         [9.99664903e-01, 3.35103075e-04],\n",
       "         [9.99114454e-01, 8.85567337e-04],\n",
       "         [9.99673128e-01, 3.26870533e-04],\n",
       "         [9.99820411e-01, 1.79609473e-04],\n",
       "         [9.99639988e-01, 3.60019185e-04],\n",
       "         [9.99477565e-01, 5.22420276e-04],\n",
       "         [9.99705136e-01, 2.94780300e-04],\n",
       "         [9.99744117e-01, 2.55873194e-04],\n",
       "         [9.99753177e-01, 2.46872980e-04],\n",
       "         [9.99213696e-01, 7.86254590e-04],\n",
       "         [9.99842644e-01, 1.57372036e-04],\n",
       "         [9.99591529e-01, 4.08462889e-04],\n",
       "         [9.97528374e-01, 2.47167563e-03],\n",
       "         [9.99816239e-01, 1.83775468e-04],\n",
       "         [9.99813616e-01, 1.86407866e-04],\n",
       "         [9.99109566e-01, 8.90382740e-04],\n",
       "         [9.99440849e-01, 5.59108681e-04],\n",
       "         [9.99676228e-01, 3.23752378e-04],\n",
       "         [9.99049842e-01, 9.50188958e-04],\n",
       "         [9.99688745e-01, 3.11259122e-04],\n",
       "         [9.99861360e-01, 1.38595016e-04],\n",
       "         [9.99920726e-01, 7.92226856e-05],\n",
       "         [9.99642611e-01, 3.57369368e-04],\n",
       "         [9.99653697e-01, 3.46312212e-04],\n",
       "         [9.98992741e-01, 1.00725901e-03],\n",
       "         [9.99329925e-01, 6.70155394e-04],\n",
       "         [9.99798954e-01, 2.01103685e-04],\n",
       "         [9.99901295e-01, 9.86931555e-05],\n",
       "         [9.99883294e-01, 1.16670206e-04],\n",
       "         [9.99740064e-01, 2.59929831e-04],\n",
       "         [9.96987045e-01, 3.01294494e-03],\n",
       "         [9.99684811e-01, 3.15246318e-04],\n",
       "         [9.99622345e-01, 3.77615972e-04],\n",
       "         [9.99096513e-01, 9.03551932e-04],\n",
       "         [9.98818099e-01, 1.18184008e-03],\n",
       "         [9.99195516e-01, 8.04529001e-04],\n",
       "         [9.98870313e-01, 1.12960697e-03],\n",
       "         [9.99726236e-01, 2.73715676e-04],\n",
       "         [9.99878049e-01, 1.21967510e-04],\n",
       "         [9.99510765e-01, 4.89286205e-04],\n",
       "         [9.99938130e-01, 6.19185666e-05],\n",
       "         [9.98312235e-01, 1.68777164e-03],\n",
       "         [9.99447525e-01, 5.52420446e-04],\n",
       "         [9.99526978e-01, 4.73014021e-04],\n",
       "         [9.99830365e-01, 1.69611332e-04],\n",
       "         [9.99613106e-01, 3.86969914e-04],\n",
       "         [9.98839319e-01, 1.16070872e-03],\n",
       "         [9.99916553e-01, 8.34250459e-05],\n",
       "         [9.98917222e-01, 1.08284433e-03],\n",
       "         [9.99782979e-01, 2.16994202e-04],\n",
       "         [9.99900699e-01, 9.93067879e-05],\n",
       "         [9.99007761e-01, 9.92234563e-04],\n",
       "         [9.99561012e-01, 4.39000141e-04],\n",
       "         [9.99940753e-01, 5.92406795e-05],\n",
       "         [9.99738157e-01, 2.61841604e-04],\n",
       "         [9.99582708e-01, 4.17351228e-04],\n",
       "         [9.99825180e-01, 1.74811328e-04],\n",
       "         [9.98106360e-01, 1.89360243e-03],\n",
       "         [9.99745905e-01, 2.54058512e-04],\n",
       "         [9.99499917e-01, 5.00073656e-04],\n",
       "         [9.99456704e-01, 5.43273578e-04],\n",
       "         [9.99802887e-01, 1.97185058e-04],\n",
       "         [9.99090791e-01, 9.09224094e-04],\n",
       "         [9.99802530e-01, 1.97498317e-04],\n",
       "         [9.98639166e-01, 1.36079383e-03],\n",
       "         [9.98973131e-01, 1.02686393e-03],\n",
       "         [9.99633670e-01, 3.66309396e-04],\n",
       "         [9.99794900e-01, 2.05119140e-04],\n",
       "         [9.98643458e-01, 1.35654968e-03],\n",
       "         [9.99790013e-01, 2.09968348e-04],\n",
       "         [9.99480784e-01, 5.19197434e-04],\n",
       "         [9.99079585e-01, 9.20458813e-04],\n",
       "         [9.98305678e-01, 1.69432908e-03],\n",
       "         [9.99657750e-01, 3.42265732e-04],\n",
       "         [9.98438895e-01, 1.56108313e-03],\n",
       "         [9.97668803e-01, 2.33114790e-03],\n",
       "         [9.99580443e-01, 4.19514283e-04],\n",
       "         [9.99779046e-01, 2.20988892e-04],\n",
       "         [9.99759018e-01, 2.40934198e-04],\n",
       "         [9.99715865e-01, 2.84141686e-04],\n",
       "         [9.99938965e-01, 6.10810457e-05],\n",
       "         [9.99699116e-01, 3.00970278e-04],\n",
       "         [9.98027265e-01, 1.97268859e-03],\n",
       "         [9.99875307e-01, 1.24619008e-04],\n",
       "         [9.99523520e-01, 4.76433197e-04],\n",
       "         [9.99246120e-01, 7.53881817e-04],\n",
       "         [9.99835253e-01, 1.64730693e-04],\n",
       "         [9.99262631e-01, 7.37370923e-04],\n",
       "         [9.99498010e-01, 5.02010749e-04],\n",
       "         [9.99412298e-01, 5.87727234e-04],\n",
       "         [9.99930978e-01, 6.90110537e-05],\n",
       "         [9.99029756e-01, 9.70292254e-04],\n",
       "         [9.99521255e-01, 4.78791073e-04],\n",
       "         [9.97918785e-01, 2.08120025e-03],\n",
       "         [9.99131262e-01, 8.68738920e-04]],\n",
       " \n",
       "        [[9.99995828e-01, 4.15151680e-06],\n",
       "         [9.99994755e-01, 5.19607102e-06],\n",
       "         [6.86765052e-05, 9.99931335e-01],\n",
       "         [2.33432293e-05, 9.99976635e-01],\n",
       "         [9.99994874e-01, 5.13455643e-06],\n",
       "         [9.99995112e-01, 4.85898408e-06],\n",
       "         [6.75211055e-03, 9.93247867e-01],\n",
       "         [9.99331355e-01, 6.68685185e-04],\n",
       "         [9.95869696e-01, 4.13022796e-03],\n",
       "         [9.99404550e-01, 5.95457037e-04],\n",
       "         [9.99606550e-01, 3.93458933e-04],\n",
       "         [9.99856949e-01, 1.43015684e-04],\n",
       "         [9.98970985e-01, 1.02902530e-03],\n",
       "         [9.99591410e-01, 4.08658030e-04],\n",
       "         [9.99519706e-01, 4.80291521e-04],\n",
       "         [9.98071730e-01, 1.92831806e-03],\n",
       "         [9.96606946e-01, 3.39301303e-03],\n",
       "         [9.97558117e-01, 2.44183908e-03],\n",
       "         [9.99283850e-01, 7.16175069e-04],\n",
       "         [9.99783576e-01, 2.16416913e-04],\n",
       "         [9.99818623e-01, 1.81402720e-04],\n",
       "         [9.99108732e-01, 8.91225995e-04],\n",
       "         [9.98244882e-01, 1.75517006e-03],\n",
       "         [9.99227524e-01, 7.72514730e-04],\n",
       "         [9.93660629e-01, 6.33936329e-03],\n",
       "         [9.99678969e-01, 3.21010244e-04],\n",
       "         [9.94592011e-01, 5.40797971e-03],\n",
       "         [9.97273028e-01, 2.72691785e-03],\n",
       "         [9.99224782e-01, 7.75266206e-04],\n",
       "         [9.93243754e-01, 6.75624702e-03],\n",
       "         [9.99763548e-01, 2.36396445e-04],\n",
       "         [9.99865174e-01, 1.34815506e-04],\n",
       "         [9.99215961e-01, 7.83973082e-04],\n",
       "         [9.98837411e-01, 1.16257486e-03],\n",
       "         [9.97027218e-01, 2.97283288e-03],\n",
       "         [9.99035954e-01, 9.64067644e-04],\n",
       "         [9.99464452e-01, 5.35615662e-04],\n",
       "         [9.98934925e-01, 1.06501742e-03],\n",
       "         [9.98042107e-01, 1.95786846e-03],\n",
       "         [9.99068439e-01, 9.31532995e-04],\n",
       "         [9.99084592e-01, 9.15450277e-04],\n",
       "         [9.99457419e-01, 5.42626774e-04],\n",
       "         [9.97682691e-01, 2.31726584e-03],\n",
       "         [9.99513626e-01, 4.86356468e-04],\n",
       "         [9.98889387e-01, 1.11059484e-03],\n",
       "         [9.90628123e-01, 9.37195215e-03],\n",
       "         [9.99545395e-01, 4.54537250e-04],\n",
       "         [9.99483109e-01, 5.16836764e-04],\n",
       "         [9.96584058e-01, 3.41592985e-03],\n",
       "         [9.98471677e-01, 1.52828591e-03],\n",
       "         [9.98803735e-01, 1.19627139e-03],\n",
       "         [9.97371078e-01, 2.62893317e-03],\n",
       "         [9.99101877e-01, 8.98113474e-04],\n",
       "         [9.99637604e-01, 3.62411432e-04],\n",
       "         [9.99754369e-01, 2.45660689e-04],\n",
       "         [9.98824060e-01, 1.17593352e-03],\n",
       "         [9.98911142e-01, 1.08885113e-03],\n",
       "         [9.97064412e-01, 2.93557975e-03],\n",
       "         [9.98184383e-01, 1.81565096e-03],\n",
       "         [9.99433815e-01, 5.66125440e-04],\n",
       "         [9.99751389e-01, 2.48555240e-04],\n",
       "         [9.99745667e-01, 2.54333601e-04],\n",
       "         [9.99097228e-01, 9.02783417e-04],\n",
       "         [9.86028373e-01, 1.39716389e-02],\n",
       "         [9.99131739e-01, 8.68256437e-04],\n",
       "         [9.98780549e-01, 1.21950125e-03],\n",
       "         [9.96293008e-01, 3.70699237e-03],\n",
       "         [9.96265113e-01, 3.73487710e-03],\n",
       "         [9.97318804e-01, 2.68118712e-03],\n",
       "         [9.95366096e-01, 4.63391282e-03],\n",
       "         [9.99116600e-01, 8.83388333e-04],\n",
       "         [9.99688387e-01, 3.11689742e-04],\n",
       "         [9.98674273e-01, 1.32569519e-03],\n",
       "         [9.99852538e-01, 1.47389161e-04],\n",
       "         [9.92861450e-01, 7.13849906e-03],\n",
       "         [9.98389482e-01, 1.61054218e-03],\n",
       "         [9.98463631e-01, 1.53633638e-03],\n",
       "         [9.99413013e-01, 5.87016868e-04],\n",
       "         [9.98943388e-01, 1.05662656e-03],\n",
       "         [9.94878411e-01, 5.12161991e-03],\n",
       "         [9.99840975e-01, 1.59038027e-04],\n",
       "         [9.96422410e-01, 3.57761071e-03],\n",
       "         [9.99368131e-01, 6.31913776e-04],\n",
       "         [9.99730885e-01, 2.69110460e-04],\n",
       "         [9.95596111e-01, 4.40395204e-03],\n",
       "         [9.98695195e-01, 1.30478747e-03],\n",
       "         [9.99850035e-01, 1.49914427e-04],\n",
       "         [9.99268115e-01, 7.31853710e-04],\n",
       "         [9.98530507e-01, 1.46947161e-03],\n",
       "         [9.99696016e-01, 3.04050132e-04],\n",
       "         [9.92930233e-01, 7.06977444e-03],\n",
       "         [9.99518394e-01, 4.81652969e-04],\n",
       "         [9.98257339e-01, 1.74269255e-03],\n",
       "         [9.98032629e-01, 1.96731393e-03],\n",
       "         [9.99471843e-01, 5.28211007e-04],\n",
       "         [9.97705519e-01, 2.29445985e-03],\n",
       "         [9.99578893e-01, 4.21094941e-04],\n",
       "         [9.94562924e-01, 5.43708308e-03],\n",
       "         [9.96968567e-01, 3.03145894e-03],\n",
       "         [9.99002039e-01, 9.98014468e-04],\n",
       "         [9.99489546e-01, 5.10384853e-04],\n",
       "         [9.97077823e-01, 2.92214775e-03],\n",
       "         [9.99461949e-01, 5.38053864e-04],\n",
       "         [9.98354435e-01, 1.64562429e-03],\n",
       "         [9.97235835e-01, 2.76423292e-03],\n",
       "         [9.94322300e-01, 5.67766046e-03],\n",
       "         [9.98742759e-01, 1.25731481e-03],\n",
       "         [9.94720817e-01, 5.27918991e-03],\n",
       "         [9.90117848e-01, 9.88210831e-03],\n",
       "         [9.99123871e-01, 8.76166683e-04],\n",
       "         [9.99284923e-01, 7.15157541e-04],\n",
       "         [9.99236465e-01, 7.63567339e-04],\n",
       "         [9.99041259e-01, 9.58746590e-04],\n",
       "         [9.99815285e-01, 1.84764489e-04],\n",
       "         [9.99206603e-01, 7.93470594e-04],\n",
       "         [9.93110418e-01, 6.88958587e-03],\n",
       "         [9.99643922e-01, 3.56107659e-04],\n",
       "         [9.98773038e-01, 1.22699840e-03],\n",
       "         [9.96855974e-01, 3.14405980e-03],\n",
       "         [9.99644876e-01, 3.55060823e-04],\n",
       "         [9.97982144e-01, 2.01783259e-03],\n",
       "         [9.98118043e-01, 1.88197999e-03],\n",
       "         [9.98178959e-01, 1.82105403e-03],\n",
       "         [9.99839902e-01, 1.60075011e-04],\n",
       "         [9.97484326e-01, 2.51563359e-03],\n",
       "         [9.98796344e-01, 1.20366481e-03],\n",
       "         [9.93927598e-01, 6.07240060e-03],\n",
       "         [9.96888340e-01, 3.11171147e-03]]], dtype=float32)}"
      ]
     },
     "execution_count": 5,
     "metadata": {},
     "output_type": "execute_result"
    }
   ],
   "source": [
    "model.predict(X_tokenized=X_tokenized)"
   ]
  },
  {
   "cell_type": "markdown",
   "id": "fundamental-poverty",
   "metadata": {},
   "source": [
    "# 评分"
   ]
  },
  {
   "cell_type": "code",
   "execution_count": 6,
   "id": "accessory-lesbian",
   "metadata": {},
   "outputs": [
    {
     "name": "stdout",
     "output_type": "stream",
     "text": [
      "INFO:tensorflow:Time usage 0m-0.88s, 1.14 steps/sec, 2.28 examples/sec\n"
     ]
    },
    {
     "data": {
      "text/plain": [
       "{'accuracy': 1.0, 'loss': 1.3596711e-05}"
      ]
     },
     "execution_count": 6,
     "metadata": {},
     "output_type": "execute_result"
    }
   ],
   "source": [
    "model.score(X_tokenized=X_tokenized, y=y)"
   ]
  }
 ],
 "metadata": {
  "kernelspec": {
   "display_name": "Python 3",
   "language": "python",
   "name": "python3"
  },
  "language_info": {
   "codemirror_mode": {
    "name": "ipython",
    "version": 3
   },
   "file_extension": ".py",
   "mimetype": "text/x-python",
   "name": "python",
   "nbconvert_exporter": "python",
   "pygments_lexer": "ipython3",
   "version": "3.8.2"
  }
 },
 "nbformat": 4,
 "nbformat_minor": 5
}
