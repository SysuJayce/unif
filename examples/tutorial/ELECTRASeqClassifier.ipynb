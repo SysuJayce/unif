{
 "cells": [
  {
   "cell_type": "markdown",
   "id": "global-marine",
   "metadata": {},
   "source": [
    "# ELECTRASeqClassifier\n",
    "\n",
    "可用的中文预训练参数：[`electra-small`](https://drive.google.com/file/d/1uab-9T1kR9HgD2NB0Kz1JB_TdSKgJIds/view?usp=drive_open),[`electra-small-ex`](https://drive.google.com/file/d/1LluPORc7xtFmCTFR4IF17q77ip82i7__/view),[`electra-base`](https://drive.google.com/file/d/1FMwrs2weFST-iAuZH3umMa6YZVeIP8wD/view),[`electra-large`](https://drive.google.com/file/d/1ny0NMLkEWG6rseDLiF_NujdHxDcIN51m/view)"
   ]
  },
  {
   "cell_type": "code",
   "execution_count": 1,
   "id": "rotary-academy",
   "metadata": {},
   "outputs": [
    {
     "name": "stdout",
     "output_type": "stream",
     "text": [
      "v2.5.0\n"
     ]
    }
   ],
   "source": [
    "import uf\n",
    "\n",
    "print(uf.__version__)"
   ]
  },
  {
   "cell_type": "code",
   "execution_count": 2,
   "id": "velvet-symbol",
   "metadata": {},
   "outputs": [
    {
     "name": "stdout",
     "output_type": "stream",
     "text": [
      "uf.ELECTRASeqClassifier(\n",
      "    config_file=\"../../ref/bert_config.json\",\n",
      "    vocab_file=\"../../ref/vocab.txt\",\n",
      "    max_seq_length=128,\n",
      "    label_size=None,\n",
      "    init_checkpoint=None,\n",
      "    output_dir=None,\n",
      "    gpu_ids=None,\n",
      "    do_lower_case=True,\n",
      "    truncate_method=\"LIFO\",\n",
      ")\n"
     ]
    }
   ],
   "source": [
    "model = uf.ELECTRASeqClassifier(\"../../ref/bert_config.json\", \"../../ref/vocab.txt\")\n",
    "print(model)"
   ]
  },
  {
   "cell_type": "code",
   "execution_count": 3,
   "id": "drawn-breathing",
   "metadata": {},
   "outputs": [],
   "source": [
    "X_tokenized = [[\"天\", \"亮\", \"以\", \"前\", \"说\", \"再\", \"见\"], [\"笑\", \"着\", \"泪\", \"流\", \"满\", \"面\"]]\n",
    "y = [[0, 0, 0, 0, 0, 1, 1], [0, 0, 1, 1, 0, 0]]"
   ]
  },
  {
   "cell_type": "markdown",
   "id": "vanilla-fault",
   "metadata": {},
   "source": [
    "# 训练"
   ]
  },
  {
   "cell_type": "code",
   "execution_count": 4,
   "id": "excellent-religion",
   "metadata": {},
   "outputs": [
    {
     "name": "stdout",
     "output_type": "stream",
     "text": [
      "WARNING:tensorflow:From c:\\Users\\Luv_d\\AppData\\Local\\Programs\\Python\\Python39\\lib\\site-packages\\tensorflow\\python\\util\\dispatch.py:1176: calling dropout (from tensorflow.python.ops.nn_ops) with keep_prob is deprecated and will be removed in a future version.\n",
      "Instructions for updating:\n",
      "Please use `rate` instead of `keep_prob`. Rate should be set to `rate = 1 - keep_prob`.\n"
     ]
    },
    {
     "name": "stderr",
     "output_type": "stream",
     "text": [
      "c:\\Users\\Luv_d\\AppData\\Local\\Programs\\Python\\Python39\\lib\\site-packages\\uf-2.5.0-py3.9.egg\\uf\\apps\\bert\\bert.py:272: UserWarning: `tf.layers.dense` is deprecated and will be removed in a future version. Please use `tf.keras.layers.Dense` instead.\n",
      "  query_layer = tf.layers.dense(\n",
      "c:\\Users\\Luv_d\\AppData\\Local\\Programs\\Python\\Python39\\lib\\site-packages\\uf-2.5.0-py3.9.egg\\uf\\apps\\bert\\bert.py:282: UserWarning: `tf.layers.dense` is deprecated and will be removed in a future version. Please use `tf.keras.layers.Dense` instead.\n",
      "  key_layer = tf.layers.dense(\n",
      "c:\\Users\\Luv_d\\AppData\\Local\\Programs\\Python\\Python39\\lib\\site-packages\\uf-2.5.0-py3.9.egg\\uf\\apps\\bert\\bert.py:292: UserWarning: `tf.layers.dense` is deprecated and will be removed in a future version. Please use `tf.keras.layers.Dense` instead.\n",
      "  value_layer = tf.layers.dense(\n",
      "c:\\Users\\Luv_d\\AppData\\Local\\Programs\\Python\\Python39\\lib\\site-packages\\uf-2.5.0-py3.9.egg\\uf\\apps\\bert\\bert.py:416: UserWarning: `tf.layers.dense` is deprecated and will be removed in a future version. Please use `tf.keras.layers.Dense` instead.\n",
      "  attention_output = tf.layers.dense(\n",
      "c:\\Users\\Luv_d\\AppData\\Local\\Programs\\Python\\Python39\\lib\\site-packages\\uf-2.5.0-py3.9.egg\\uf\\apps\\bert\\bert.py:428: UserWarning: `tf.layers.dense` is deprecated and will be removed in a future version. Please use `tf.keras.layers.Dense` instead.\n",
      "  intermediate_output = tf.layers.dense(\n",
      "c:\\Users\\Luv_d\\AppData\\Local\\Programs\\Python\\Python39\\lib\\site-packages\\uf-2.5.0-py3.9.egg\\uf\\apps\\bert\\bert.py:438: UserWarning: `tf.layers.dense` is deprecated and will be removed in a future version. Please use `tf.keras.layers.Dense` instead.\n",
      "  layer_output = tf.layers.dense(\n"
     ]
    },
    {
     "name": "stdout",
     "output_type": "stream",
     "text": [
      "INFO:tensorflow:Build graph with 305,035,782 parameters (among which 101,678,594 are trainable)\n",
      "INFO:tensorflow:Running local_init_op\n",
      "INFO:tensorflow:Done running local_init_op\n",
      "INFO:tensorflow:Running training on 2 samples (step 0 -> 20)\n",
      "INFO:tensorflow:step 1, accuracy 0.5385, loss 0.699838, 0.07 steps/sec, 0.14 examples/sec\n",
      "INFO:tensorflow:step 2, accuracy 0.6154, loss 0.679758, 0.39 steps/sec, 0.77 examples/sec\n",
      "INFO:tensorflow:step 3, accuracy 0.6923, loss 0.911938, 0.54 steps/sec, 1.07 examples/sec\n",
      "INFO:tensorflow:step 4, accuracy 0.6923, loss 0.694314, 0.41 steps/sec, 0.82 examples/sec\n",
      "INFO:tensorflow:step 5, accuracy 1.0000, loss 0.123828, 0.57 steps/sec, 1.14 examples/sec\n",
      "INFO:tensorflow:step 6, accuracy 0.8462, loss 0.282178, 0.73 steps/sec, 1.46 examples/sec\n",
      "INFO:tensorflow:step 7, accuracy 0.9231, loss 0.181722, 0.95 steps/sec, 1.90 examples/sec\n",
      "INFO:tensorflow:step 8, accuracy 1.0000, loss 0.023598, 0.95 steps/sec, 1.91 examples/sec\n",
      "INFO:tensorflow:step 9, accuracy 1.0000, loss 0.012548, 0.94 steps/sec, 1.88 examples/sec\n",
      "INFO:tensorflow:step 10, accuracy 1.0000, loss 0.016445, 0.96 steps/sec, 1.91 examples/sec\n",
      "INFO:tensorflow:step 11, accuracy 1.0000, loss 0.001090, 0.96 steps/sec, 1.91 examples/sec\n",
      "INFO:tensorflow:step 12, accuracy 1.0000, loss 0.000441, 0.95 steps/sec, 1.90 examples/sec\n",
      "INFO:tensorflow:step 13, accuracy 1.0000, loss 0.000214, 0.85 steps/sec, 1.70 examples/sec\n",
      "INFO:tensorflow:step 14, accuracy 1.0000, loss 0.000244, 0.88 steps/sec, 1.77 examples/sec\n",
      "INFO:tensorflow:step 15, accuracy 1.0000, loss 0.000102, 0.84 steps/sec, 1.69 examples/sec\n",
      "INFO:tensorflow:step 16, accuracy 1.0000, loss 0.000082, 0.92 steps/sec, 1.83 examples/sec\n",
      "INFO:tensorflow:step 17, accuracy 1.0000, loss 0.000076, 1.03 steps/sec, 2.06 examples/sec\n",
      "INFO:tensorflow:step 18, accuracy 1.0000, loss 0.000077, 1.03 steps/sec, 2.06 examples/sec\n",
      "INFO:tensorflow:step 19, accuracy 1.0000, loss 0.000073, 0.99 steps/sec, 1.98 examples/sec\n",
      "INFO:tensorflow:step 20, accuracy 1.0000, loss 0.000060, 1.01 steps/sec, 2.02 examples/sec\n"
     ]
    }
   ],
   "source": [
    "model.fit(X_tokenized=X_tokenized, y=y, total_steps=20)"
   ]
  },
  {
   "cell_type": "markdown",
   "id": "fallen-hundred",
   "metadata": {},
   "source": [
    "# 推理"
   ]
  },
  {
   "cell_type": "code",
   "execution_count": 5,
   "id": "opposite-pantyhose",
   "metadata": {},
   "outputs": [
    {
     "name": "stdout",
     "output_type": "stream",
     "text": [
      "INFO:tensorflow:Running inference on 2 samples\n",
      "INFO:tensorflow:process 100.0%, 2.39 examples/sec\n"
     ]
    },
    {
     "data": {
      "text/plain": [
       "{'preds': [[0, 0, 0, 0, 0, 1, 1], [0, 0, 1, 1, 0, 0]],\n",
       " 'probs': array([[[9.99983788e-01, 1.62651868e-05],\n",
       "         [9.99985695e-01, 1.43339230e-05],\n",
       "         [9.99993563e-01, 6.41402039e-06],\n",
       "         [9.99983430e-01, 1.66020454e-05],\n",
       "         [9.99983668e-01, 1.62867764e-05],\n",
       "         [6.28866746e-06, 9.99993682e-01],\n",
       "         [7.57794169e-06, 9.99992371e-01],\n",
       "         [9.94693100e-01, 5.30687626e-03],\n",
       "         [9.89351928e-01, 1.06480587e-02],\n",
       "         [9.98420238e-01, 1.57977676e-03],\n",
       "         [9.72781122e-01, 2.72188764e-02],\n",
       "         [9.85927463e-01, 1.40725290e-02],\n",
       "         [9.98931229e-01, 1.06878416e-03],\n",
       "         [9.98362005e-01, 1.63793261e-03],\n",
       "         [9.99145269e-01, 8.54711630e-04],\n",
       "         [9.99144316e-01, 8.55722115e-04],\n",
       "         [9.91451442e-01, 8.54863040e-03],\n",
       "         [9.96236622e-01, 3.76340747e-03],\n",
       "         [9.98767376e-01, 1.23263989e-03],\n",
       "         [9.99428093e-01, 5.71918325e-04],\n",
       "         [9.96180415e-01, 3.81954899e-03],\n",
       "         [9.99173701e-01, 8.26297328e-04],\n",
       "         [9.92882252e-01, 7.11770030e-03],\n",
       "         [9.99482870e-01, 5.17143810e-04],\n",
       "         [9.97893870e-01, 2.10612710e-03],\n",
       "         [9.94422853e-01, 5.57714794e-03],\n",
       "         [9.79624510e-01, 2.03754827e-02],\n",
       "         [9.96591687e-01, 3.40828951e-03],\n",
       "         [9.98950839e-01, 1.04918773e-03],\n",
       "         [9.95252848e-01, 4.74717282e-03],\n",
       "         [9.99461830e-01, 5.38156659e-04],\n",
       "         [9.87961113e-01, 1.20388493e-02],\n",
       "         [9.96790111e-01, 3.20989429e-03],\n",
       "         [9.99374688e-01, 6.25279092e-04],\n",
       "         [9.99664187e-01, 3.35871038e-04],\n",
       "         [9.68929172e-01, 3.10708731e-02],\n",
       "         [9.91945565e-01, 8.05444457e-03],\n",
       "         [9.95175958e-01, 4.82397713e-03],\n",
       "         [9.96381521e-01, 3.61844175e-03],\n",
       "         [9.98792291e-01, 1.20771781e-03],\n",
       "         [9.98541355e-01, 1.45862415e-03],\n",
       "         [9.99318361e-01, 6.81640639e-04],\n",
       "         [9.83100533e-01, 1.68995224e-02],\n",
       "         [9.19964910e-01, 8.00351426e-02],\n",
       "         [9.99121964e-01, 8.78004357e-04],\n",
       "         [9.98990119e-01, 1.00988429e-03],\n",
       "         [9.97164428e-01, 2.83551030e-03],\n",
       "         [9.98408139e-01, 1.59189594e-03],\n",
       "         [9.95361388e-01, 4.63863090e-03],\n",
       "         [9.98480380e-01, 1.51960819e-03],\n",
       "         [9.71097708e-01, 2.89022811e-02],\n",
       "         [9.78743136e-01, 2.12568045e-02],\n",
       "         [9.96685922e-01, 3.31411697e-03],\n",
       "         [9.93298888e-01, 6.70110434e-03],\n",
       "         [9.99411941e-01, 5.88065130e-04],\n",
       "         [9.95952487e-01, 4.04747529e-03],\n",
       "         [9.98229802e-01, 1.77026866e-03],\n",
       "         [9.98516738e-01, 1.48327823e-03],\n",
       "         [9.78888333e-01, 2.11116970e-02],\n",
       "         [9.91479337e-01, 8.52073263e-03],\n",
       "         [9.88461137e-01, 1.15388371e-02],\n",
       "         [9.99058306e-01, 9.41728649e-04],\n",
       "         [9.99612749e-01, 3.87245149e-04],\n",
       "         [9.71352756e-01, 2.86472347e-02],\n",
       "         [9.92220700e-01, 7.77933653e-03],\n",
       "         [9.99622345e-01, 3.77651275e-04],\n",
       "         [9.99179423e-01, 8.20519403e-04],\n",
       "         [9.98800039e-01, 1.19989167e-03],\n",
       "         [9.99146223e-01, 8.53734789e-04],\n",
       "         [9.78621244e-01, 2.13787928e-02],\n",
       "         [9.84319031e-01, 1.56810172e-02],\n",
       "         [9.86625910e-01, 1.33741442e-02],\n",
       "         [9.94100392e-01, 5.89956669e-03],\n",
       "         [9.98400152e-01, 1.59987481e-03],\n",
       "         [9.97296989e-01, 2.70298542e-03],\n",
       "         [9.98590171e-01, 1.40976417e-03],\n",
       "         [9.99242187e-01, 7.57864793e-04],\n",
       "         [9.85657394e-01, 1.43425772e-02],\n",
       "         [9.74271595e-01, 2.57283635e-02],\n",
       "         [8.28637540e-01, 1.71362460e-01],\n",
       "         [9.85878885e-01, 1.41210388e-02],\n",
       "         [9.98495340e-01, 1.50467001e-03],\n",
       "         [9.99600589e-01, 3.99380602e-04],\n",
       "         [9.94959950e-01, 5.03999507e-03],\n",
       "         [9.99254167e-01, 7.45855214e-04],\n",
       "         [9.23419297e-01, 7.65806511e-02],\n",
       "         [9.76754367e-01, 2.32455712e-02],\n",
       "         [9.99126494e-01, 8.73500830e-04],\n",
       "         [9.82837081e-01, 1.71629172e-02],\n",
       "         [9.99552429e-01, 4.47538681e-04],\n",
       "         [9.99004066e-01, 9.95922368e-04],\n",
       "         [9.95296538e-01, 4.70349239e-03],\n",
       "         [9.90906477e-01, 9.09350161e-03],\n",
       "         [9.95052636e-01, 4.94739227e-03],\n",
       "         [9.98867273e-01, 1.13280374e-03],\n",
       "         [9.99025345e-01, 9.74656548e-04],\n",
       "         [9.99028444e-01, 9.71576141e-04],\n",
       "         [9.94811416e-01, 5.18854102e-03],\n",
       "         [9.93961751e-01, 6.03827462e-03],\n",
       "         [9.92347240e-01, 7.65280612e-03],\n",
       "         [9.95831907e-01, 4.16808669e-03],\n",
       "         [9.97156501e-01, 2.84347078e-03],\n",
       "         [9.99173582e-01, 8.26375734e-04],\n",
       "         [9.95826423e-01, 4.17353865e-03],\n",
       "         [9.94791687e-01, 5.20832790e-03],\n",
       "         [9.99706447e-01, 2.93544901e-04],\n",
       "         [9.98283386e-01, 1.71659084e-03],\n",
       "         [9.99123752e-01, 8.76237580e-04],\n",
       "         [9.97290671e-01, 2.70925881e-03],\n",
       "         [9.98595536e-01, 1.40441488e-03],\n",
       "         [9.99614477e-01, 3.85504041e-04],\n",
       "         [9.82178748e-01, 1.78212654e-02],\n",
       "         [9.91049051e-01, 8.95090587e-03],\n",
       "         [9.94327366e-01, 5.67258336e-03],\n",
       "         [9.99583900e-01, 4.16081573e-04],\n",
       "         [9.97819543e-01, 2.18041730e-03],\n",
       "         [9.98510182e-01, 1.48981961e-03],\n",
       "         [9.60684299e-01, 3.93156409e-02],\n",
       "         [9.97887194e-01, 2.11282843e-03],\n",
       "         [9.95443106e-01, 4.55691200e-03],\n",
       "         [9.98246551e-01, 1.75343291e-03],\n",
       "         [9.98415112e-01, 1.58482464e-03],\n",
       "         [9.99481142e-01, 5.18890738e-04],\n",
       "         [9.97847199e-01, 2.15280149e-03],\n",
       "         [9.85759258e-01, 1.42408106e-02],\n",
       "         [9.99262869e-01, 7.37146474e-04],\n",
       "         [9.99773204e-01, 2.26791104e-04],\n",
       "         [9.93935287e-01, 6.06474746e-03]],\n",
       " \n",
       "        [[9.99985218e-01, 1.47256633e-05],\n",
       "         [9.99974251e-01, 2.57801057e-05],\n",
       "         [6.27694899e-05, 9.99937177e-01],\n",
       "         [4.01499019e-05, 9.99959826e-01],\n",
       "         [9.99985576e-01, 1.43825455e-05],\n",
       "         [9.99937415e-01, 6.25956091e-05],\n",
       "         [5.15371328e-04, 9.99484658e-01],\n",
       "         [9.77495134e-01, 2.25048773e-02],\n",
       "         [9.52071011e-01, 4.79290374e-02],\n",
       "         [9.93392527e-01, 6.60742540e-03],\n",
       "         [8.33947539e-01, 1.66052520e-01],\n",
       "         [9.32558715e-01, 6.74413517e-02],\n",
       "         [9.95658278e-01, 4.34172247e-03],\n",
       "         [9.93872762e-01, 6.12730719e-03],\n",
       "         [9.96729016e-01, 3.27093457e-03],\n",
       "         [9.96392667e-01, 3.60737694e-03],\n",
       "         [9.64292169e-01, 3.57078575e-02],\n",
       "         [9.79937494e-01, 2.00624857e-02],\n",
       "         [9.94044960e-01, 5.95502509e-03],\n",
       "         [9.97714043e-01, 2.28602346e-03],\n",
       "         [9.82095957e-01, 1.79040246e-02],\n",
       "         [9.97367442e-01, 2.63259653e-03],\n",
       "         [9.68182385e-01, 3.18176299e-02],\n",
       "         [9.98317242e-01, 1.68276241e-03],\n",
       "         [9.89518821e-01, 1.04811657e-02],\n",
       "         [9.73239958e-01, 2.67600734e-02],\n",
       "         [9.03396249e-01, 9.66037214e-02],\n",
       "         [9.83182311e-01, 1.68177243e-02],\n",
       "         [9.95637596e-01, 4.36247978e-03],\n",
       "         [9.81031239e-01, 1.89686846e-02],\n",
       "         [9.98300612e-01, 1.69937499e-03],\n",
       "         [9.43517268e-01, 5.64827658e-02],\n",
       "         [9.83958721e-01, 1.60412602e-02],\n",
       "         [9.97471988e-01, 2.52799504e-03],\n",
       "         [9.98557508e-01, 1.44253427e-03],\n",
       "         [8.55853140e-01, 1.44146860e-01],\n",
       "         [9.52330053e-01, 4.76698875e-02],\n",
       "         [9.73203003e-01, 2.67970376e-02],\n",
       "         [9.84951019e-01, 1.50489686e-02],\n",
       "         [9.96149182e-01, 3.85087263e-03],\n",
       "         [9.93933260e-01, 6.06667297e-03],\n",
       "         [9.97652590e-01, 2.34742765e-03],\n",
       "         [9.10037100e-01, 8.99629146e-02],\n",
       "         [6.36024475e-01, 3.63975585e-01],\n",
       "         [9.96868789e-01, 3.13120359e-03],\n",
       "         [9.96764541e-01, 3.23540648e-03],\n",
       "         [9.83763337e-01, 1.62366461e-02],\n",
       "         [9.95208085e-01, 4.79193032e-03],\n",
       "         [9.75145221e-01, 2.48547979e-02],\n",
       "         [9.93914306e-01, 6.08573155e-03],\n",
       "         [8.19182932e-01, 1.80817053e-01],\n",
       "         [8.84366870e-01, 1.15633167e-01],\n",
       "         [9.87535655e-01, 1.24643603e-02],\n",
       "         [9.68413174e-01, 3.15867625e-02],\n",
       "         [9.97932315e-01, 2.06769747e-03],\n",
       "         [9.81226087e-01, 1.87738761e-02],\n",
       "         [9.92303133e-01, 7.69692240e-03],\n",
       "         [9.92362618e-01, 7.63742393e-03],\n",
       "         [9.18746173e-01, 8.12538862e-02],\n",
       "         [9.51218009e-01, 4.87819612e-02],\n",
       "         [9.43048716e-01, 5.69513105e-02],\n",
       "         [9.96049106e-01, 3.95090133e-03],\n",
       "         [9.98976350e-01, 1.02369033e-03],\n",
       "         [8.72939289e-01, 1.27060637e-01],\n",
       "         [9.69203472e-01, 3.07966080e-02],\n",
       "         [9.98942554e-01, 1.05742598e-03],\n",
       "         [9.97502506e-01, 2.49749026e-03],\n",
       "         [9.95247781e-01, 4.75224480e-03],\n",
       "         [9.95795250e-01, 4.20476682e-03],\n",
       "         [9.30886447e-01, 6.91135451e-02],\n",
       "         [9.19398248e-01, 8.06017444e-02],\n",
       "         [9.32942033e-01, 6.70579597e-02],\n",
       "         [9.72762227e-01, 2.72377506e-02],\n",
       "         [9.93681192e-01, 6.31881226e-03],\n",
       "         [9.88326609e-01, 1.16734374e-02],\n",
       "         [9.95006323e-01, 4.99359099e-03],\n",
       "         [9.97548401e-01, 2.45158281e-03],\n",
       "         [9.24943209e-01, 7.50567392e-02],\n",
       "         [8.81052852e-01, 1.18947126e-01],\n",
       "         [4.70952988e-01, 5.29047012e-01],\n",
       "         [9.56973553e-01, 4.30264324e-02],\n",
       "         [9.94496405e-01, 5.50357113e-03],\n",
       "         [9.98757958e-01, 1.24210026e-03],\n",
       "         [9.79330480e-01, 2.06694696e-02],\n",
       "         [9.97333765e-01, 2.66626733e-03],\n",
       "         [6.14984512e-01, 3.85015428e-01],\n",
       "         [8.46031666e-01, 1.53968334e-01],\n",
       "         [9.96720612e-01, 3.27939936e-03],\n",
       "         [9.23438132e-01, 7.65618756e-02],\n",
       "         [9.98503089e-01, 1.49696926e-03],\n",
       "         [9.97297823e-01, 2.70223641e-03],\n",
       "         [9.76274669e-01, 2.37253532e-02],\n",
       "         [9.54772472e-01, 4.52274904e-02],\n",
       "         [9.83224154e-01, 1.67758930e-02],\n",
       "         [9.96841669e-01, 3.15836165e-03],\n",
       "         [9.96235549e-01, 3.76443542e-03],\n",
       "         [9.97263670e-01, 2.73633027e-03],\n",
       "         [9.80427682e-01, 1.95723269e-02],\n",
       "         [9.71203804e-01, 2.87961327e-02],\n",
       "         [9.70381439e-01, 2.96185222e-02],\n",
       "         [9.78035331e-01, 2.19646785e-02],\n",
       "         [9.85884011e-01, 1.41159827e-02],\n",
       "         [9.96565521e-01, 3.43446084e-03],\n",
       "         [9.85620141e-01, 1.43798692e-02],\n",
       "         [9.73636210e-01, 2.63637789e-02],\n",
       "         [9.99173701e-01, 8.26271018e-04],\n",
       "         [9.91518676e-01, 8.48130416e-03],\n",
       "         [9.97418761e-01, 2.58125900e-03],\n",
       "         [9.86977875e-01, 1.30222077e-02],\n",
       "         [9.93860126e-01, 6.13985816e-03],\n",
       "         [9.98676240e-01, 1.32378191e-03],\n",
       "         [9.25345004e-01, 7.46549666e-02],\n",
       "         [9.51495707e-01, 4.85042743e-02],\n",
       "         [9.64779913e-01, 3.52201052e-02],\n",
       "         [9.98770058e-01, 1.22987432e-03],\n",
       "         [9.93586600e-01, 6.41340064e-03],\n",
       "         [9.93556082e-01, 6.44391263e-03],\n",
       "         [8.19799960e-01, 1.80200025e-01],\n",
       "         [9.92983699e-01, 7.01626204e-03],\n",
       "         [9.81557369e-01, 1.84426699e-02],\n",
       "         [9.94495451e-01, 5.50459698e-03],\n",
       "         [9.92906570e-01, 7.09347613e-03],\n",
       "         [9.98420954e-01, 1.57904741e-03],\n",
       "         [9.93148267e-01, 6.85174903e-03],\n",
       "         [9.41777587e-01, 5.82224429e-02],\n",
       "         [9.97659802e-01, 2.34016823e-03],\n",
       "         [9.99363601e-01, 6.36431389e-04],\n",
       "         [9.72500443e-01, 2.74995603e-02]]], dtype=float32)}"
      ]
     },
     "execution_count": 5,
     "metadata": {},
     "output_type": "execute_result"
    }
   ],
   "source": [
    "model.predict(X_tokenized=X_tokenized)"
   ]
  },
  {
   "cell_type": "markdown",
   "id": "fundamental-poverty",
   "metadata": {},
   "source": [
    "# 评分"
   ]
  },
  {
   "cell_type": "code",
   "execution_count": 6,
   "id": "accessory-lesbian",
   "metadata": {},
   "outputs": [
    {
     "name": "stdout",
     "output_type": "stream",
     "text": [
      "INFO:tensorflow:Running scoring on 2 samples\n",
      "INFO:tensorflow:process 100.0%, 3.92 examples/sec\n"
     ]
    },
    {
     "data": {
      "text/plain": [
       "{'accuracy': 1.0, 'loss': 2.4363626e-05}"
      ]
     },
     "execution_count": 6,
     "metadata": {},
     "output_type": "execute_result"
    }
   ],
   "source": [
    "model.score(X_tokenized=X_tokenized, y=y)"
   ]
  }
 ],
 "metadata": {
  "kernelspec": {
   "display_name": "Python 3.9.13 64-bit",
   "language": "python",
   "name": "python3"
  },
  "language_info": {
   "codemirror_mode": {
    "name": "ipython",
    "version": 3
   },
   "file_extension": ".py",
   "mimetype": "text/x-python",
   "name": "python",
   "nbconvert_exporter": "python",
   "pygments_lexer": "ipython3",
   "version": "3.9.13"
  },
  "vscode": {
   "interpreter": {
    "hash": "265fd6f62f200408acbbeae0248f34bed9f93569a643842b7a25d2cd76cae5e5"
   }
  }
 },
 "nbformat": 4,
 "nbformat_minor": 5
}
