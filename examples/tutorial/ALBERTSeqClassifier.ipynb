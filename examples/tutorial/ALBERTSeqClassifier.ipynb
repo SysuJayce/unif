{
 "cells": [
  {
   "cell_type": "markdown",
   "id": "induced-vehicle",
   "metadata": {},
   "source": [
    "# ALBERTSeqClassifier\n",
    "\n",
    "可用的中文预训练参数：[`albert-tiny`](https://storage.googleapis.com/albert_zh/albert_tiny_zh_google.zip),[`albert-small`](https://storage.googleapis.com/albert_zh/albert_small_zh_google.zip),[`albert-base`](https://storage.googleapis.com/albert_zh/albert_base_zh_additional_36k_steps.zip),[`albert-large`](https://storage.googleapis.com/albert_zh/albert_large_zh.zip),[`albert-xlarge`](https://storage.googleapis.com/albert_zh/albert_xlarge_zh_183k.zip)"
   ]
  },
  {
   "cell_type": "code",
   "execution_count": 1,
   "id": "rotary-academy",
   "metadata": {},
   "outputs": [
    {
     "name": "stdout",
     "output_type": "stream",
     "text": [
      "v2.5.0\n"
     ]
    }
   ],
   "source": [
    "import uf\n",
    "\n",
    "print(uf.__version__)"
   ]
  },
  {
   "cell_type": "code",
   "execution_count": 2,
   "id": "velvet-symbol",
   "metadata": {},
   "outputs": [
    {
     "name": "stdout",
     "output_type": "stream",
     "text": [
      "uf.ALBERTSeqClassifier(\n",
      "    config_file=\"../../ref/albert_config.json\",\n",
      "    vocab_file=\"../../ref/vocab.txt\",\n",
      "    max_seq_length=128,\n",
      "    label_size=None,\n",
      "    init_checkpoint=None,\n",
      "    output_dir=None,\n",
      "    gpu_ids=None,\n",
      "    do_lower_case=True,\n",
      "    truncate_method=\"LIFO\",\n",
      ")\n"
     ]
    }
   ],
   "source": [
    "model = uf.ALBERTSeqClassifier(\"../../ref/albert_config.json\", \"../../ref/vocab.txt\")\n",
    "print(model)"
   ]
  },
  {
   "cell_type": "code",
   "execution_count": 3,
   "id": "drawn-breathing",
   "metadata": {},
   "outputs": [],
   "source": [
    "X_tokenized = [[\"天\", \"亮\", \"以\", \"前\", \"说\", \"再\", \"见\"], [\"笑\", \"着\", \"泪\", \"流\", \"满\", \"面\"]]\n",
    "y = [[0, 0, 0, 0, 0, 1, 1], [0, 0, 1, 1, 0, 0]]"
   ]
  },
  {
   "cell_type": "markdown",
   "id": "vanilla-fault",
   "metadata": {},
   "source": [
    "# 训练"
   ]
  },
  {
   "cell_type": "code",
   "execution_count": 4,
   "id": "excellent-religion",
   "metadata": {},
   "outputs": [
    {
     "name": "stdout",
     "output_type": "stream",
     "text": [
      "WARNING:tensorflow:From c:\\Users\\Luv_d\\AppData\\Local\\Programs\\Python\\Python39\\lib\\site-packages\\tensorflow\\python\\util\\dispatch.py:1176: calling dropout (from tensorflow.python.ops.nn_ops) with keep_prob is deprecated and will be removed in a future version.\n",
      "Instructions for updating:\n",
      "Please use `rate` instead of `keep_prob`. Rate should be set to `rate = 1 - keep_prob`.\n"
     ]
    },
    {
     "name": "stderr",
     "output_type": "stream",
     "text": [
      "c:\\Users\\Luv_d\\AppData\\Local\\Programs\\Python\\Python39\\lib\\site-packages\\uf-2.5.0-py3.9.egg\\uf\\apps\\albert\\albert.py:131: UserWarning: `tf.layers.dense` is deprecated and will be removed in a future version. Please use `tf.keras.layers.Dense` instead.\n",
      "  self.pooled_output = tf.layers.dense(\n"
     ]
    },
    {
     "name": "stdout",
     "output_type": "stream",
     "text": [
      "INFO:tensorflow:Build graph with 30,462,726 parameters (among which 10,547,970 are trainable)\n",
      "INFO:tensorflow:Running local_init_op\n",
      "INFO:tensorflow:Done running local_init_op\n",
      "INFO:tensorflow:Running training on 2 samples (step 0 -> 20)\n",
      "INFO:tensorflow:step 1, accuracy 0.7692, loss 0.672587, 0.36 steps/sec, 0.72 examples/sec\n",
      "INFO:tensorflow:step 2, accuracy 0.6923, loss 0.656384, 1.40 steps/sec, 2.79 examples/sec\n",
      "INFO:tensorflow:step 3, accuracy 0.6923, loss 0.838784, 1.28 steps/sec, 2.56 examples/sec\n",
      "INFO:tensorflow:step 4, accuracy 0.6923, loss 0.795950, 1.25 steps/sec, 2.50 examples/sec\n",
      "INFO:tensorflow:step 5, accuracy 0.6923, loss 0.580511, 1.21 steps/sec, 2.42 examples/sec\n",
      "INFO:tensorflow:step 6, accuracy 0.7692, loss 0.540453, 1.37 steps/sec, 2.75 examples/sec\n",
      "INFO:tensorflow:step 7, accuracy 0.6923, loss 0.537083, 1.36 steps/sec, 2.72 examples/sec\n",
      "INFO:tensorflow:step 8, accuracy 1.0000, loss 0.371701, 1.31 steps/sec, 2.62 examples/sec\n",
      "INFO:tensorflow:step 9, accuracy 0.8462, loss 0.311631, 1.29 steps/sec, 2.57 examples/sec\n",
      "INFO:tensorflow:step 10, accuracy 0.8462, loss 0.261079, 1.30 steps/sec, 2.61 examples/sec\n",
      "INFO:tensorflow:step 11, accuracy 1.0000, loss 0.172047, 1.37 steps/sec, 2.74 examples/sec\n",
      "INFO:tensorflow:step 12, accuracy 1.0000, loss 0.089547, 1.31 steps/sec, 2.63 examples/sec\n",
      "INFO:tensorflow:step 13, accuracy 1.0000, loss 0.049641, 1.33 steps/sec, 2.66 examples/sec\n",
      "INFO:tensorflow:step 14, accuracy 1.0000, loss 0.019527, 1.30 steps/sec, 2.60 examples/sec\n",
      "INFO:tensorflow:step 15, accuracy 1.0000, loss 0.010438, 1.32 steps/sec, 2.63 examples/sec\n",
      "INFO:tensorflow:step 16, accuracy 1.0000, loss 0.006527, 1.38 steps/sec, 2.76 examples/sec\n",
      "INFO:tensorflow:step 17, accuracy 1.0000, loss 0.004524, 1.17 steps/sec, 2.33 examples/sec\n",
      "INFO:tensorflow:step 18, accuracy 1.0000, loss 0.003113, 0.98 steps/sec, 1.97 examples/sec\n",
      "INFO:tensorflow:step 19, accuracy 1.0000, loss 0.002438, 1.15 steps/sec, 2.31 examples/sec\n",
      "INFO:tensorflow:step 20, accuracy 1.0000, loss 0.002512, 1.01 steps/sec, 2.01 examples/sec\n"
     ]
    }
   ],
   "source": [
    "model.fit(X_tokenized=X_tokenized, y=y, total_steps=20)"
   ]
  },
  {
   "cell_type": "markdown",
   "id": "fallen-hundred",
   "metadata": {},
   "source": [
    "# 推理"
   ]
  },
  {
   "cell_type": "code",
   "execution_count": 5,
   "id": "opposite-pantyhose",
   "metadata": {},
   "outputs": [
    {
     "name": "stdout",
     "output_type": "stream",
     "text": [
      "INFO:tensorflow:Running inference on 2 samples\n",
      "INFO:tensorflow:process 100.0%, 2.24 examples/sec\n"
     ]
    },
    {
     "data": {
      "text/plain": [
       "{'preds': [[0, 0, 0, 0, 0, 1, 1], [0, 0, 1, 1, 0, 0]],\n",
       " 'probs': array([[[0.9989599 , 0.00104004],\n",
       "         [0.99858403, 0.001416  ],\n",
       "         [0.99806744, 0.00193257],\n",
       "         [0.998102  , 0.00189796],\n",
       "         [0.99894804, 0.00105195],\n",
       "         [0.00383938, 0.9961606 ],\n",
       "         [0.00383795, 0.99616206],\n",
       "         [0.9972276 , 0.00277232],\n",
       "         [0.98923314, 0.01076686],\n",
       "         [0.9936308 , 0.00636913],\n",
       "         [0.9903184 , 0.00968159],\n",
       "         [0.9511888 , 0.0488112 ],\n",
       "         [0.9962702 , 0.00372983],\n",
       "         [0.99517787, 0.00482219],\n",
       "         [0.9907212 , 0.00927875],\n",
       "         [0.9971041 , 0.00289584],\n",
       "         [0.9970112 , 0.00298882],\n",
       "         [0.997445  , 0.00255503],\n",
       "         [0.99093646, 0.00906358],\n",
       "         [0.9920035 , 0.00799643],\n",
       "         [0.9956383 , 0.00436167],\n",
       "         [0.99694663, 0.00305335],\n",
       "         [0.98525906, 0.01474099],\n",
       "         [0.9902118 , 0.00978822],\n",
       "         [0.99622726, 0.00377272],\n",
       "         [0.9968213 , 0.00317872],\n",
       "         [0.9946443 , 0.00535576],\n",
       "         [0.9897181 , 0.01028186],\n",
       "         [0.9716077 , 0.0283923 ],\n",
       "         [0.9974974 , 0.00250262],\n",
       "         [0.9973572 , 0.00264275],\n",
       "         [0.99508744, 0.00491259],\n",
       "         [0.9954314 , 0.00456855],\n",
       "         [0.9979443 , 0.00205572],\n",
       "         [0.97197443, 0.02802552],\n",
       "         [0.99430376, 0.00569621],\n",
       "         [0.99701947, 0.00298049],\n",
       "         [0.98343545, 0.0165645 ],\n",
       "         [0.842038  , 0.15796198],\n",
       "         [0.97226113, 0.02773887],\n",
       "         [0.99289036, 0.0071096 ],\n",
       "         [0.8876412 , 0.11235882],\n",
       "         [0.8022778 , 0.19772223],\n",
       "         [0.9956607 , 0.00433929],\n",
       "         [0.99675083, 0.00324914],\n",
       "         [0.9908915 , 0.00910856],\n",
       "         [0.9946074 , 0.00539268],\n",
       "         [0.9376767 , 0.06232323],\n",
       "         [0.9972415 , 0.00275848],\n",
       "         [0.97953314, 0.02046691],\n",
       "         [0.98333114, 0.01666886],\n",
       "         [0.9853902 , 0.01460979],\n",
       "         [0.9975211 , 0.00247884],\n",
       "         [0.9969848 , 0.00301517],\n",
       "         [0.9975387 , 0.00246132],\n",
       "         [0.9967303 , 0.00326971],\n",
       "         [0.9963445 , 0.00365546],\n",
       "         [0.99708766, 0.00291242],\n",
       "         [0.9688724 , 0.03112752],\n",
       "         [0.9958519 , 0.00414808],\n",
       "         [0.9925088 , 0.00749117],\n",
       "         [0.99346393, 0.00653602],\n",
       "         [0.97862715, 0.02137289],\n",
       "         [0.995073  , 0.00492692],\n",
       "         [0.93676364, 0.06323634],\n",
       "         [0.95835054, 0.04164952],\n",
       "         [0.99634784, 0.00365214],\n",
       "         [0.9838855 , 0.01611452],\n",
       "         [0.99597365, 0.00402629],\n",
       "         [0.99353516, 0.00646488],\n",
       "         [0.98098445, 0.01901559],\n",
       "         [0.9978619 , 0.0021381 ],\n",
       "         [0.98548025, 0.01451978],\n",
       "         [0.99665725, 0.00334277],\n",
       "         [0.99004436, 0.0099557 ],\n",
       "         [0.99605525, 0.00394477],\n",
       "         [0.9855907 , 0.0144093 ],\n",
       "         [0.99568045, 0.00431955],\n",
       "         [0.9941175 , 0.00588247],\n",
       "         [0.9917721 , 0.00822791],\n",
       "         [0.9977906 , 0.00220941],\n",
       "         [0.9917727 , 0.00822728],\n",
       "         [0.96062005, 0.03937991],\n",
       "         [0.99247897, 0.00752106],\n",
       "         [0.9932295 , 0.00677047],\n",
       "         [0.9955432 , 0.0044568 ],\n",
       "         [0.9911851 , 0.00881492],\n",
       "         [0.9967325 , 0.00326754],\n",
       "         [0.99667716, 0.0033229 ],\n",
       "         [0.99050677, 0.00949319],\n",
       "         [0.99403715, 0.00596279],\n",
       "         [0.99705124, 0.00294879],\n",
       "         [0.9962716 , 0.00372836],\n",
       "         [0.8963337 , 0.10366625],\n",
       "         [0.9927797 , 0.00722027],\n",
       "         [0.9945267 , 0.00547329],\n",
       "         [0.9975624 , 0.00243759],\n",
       "         [0.99500567, 0.00499441],\n",
       "         [0.997422  , 0.00257804],\n",
       "         [0.9944114 , 0.00558857],\n",
       "         [0.9956612 , 0.00433881],\n",
       "         [0.99410146, 0.00589855],\n",
       "         [0.99868053, 0.00131941],\n",
       "         [0.9851088 , 0.01489121],\n",
       "         [0.99551857, 0.00448143],\n",
       "         [0.99623615, 0.00376385],\n",
       "         [0.9970331 , 0.00296691],\n",
       "         [0.9752333 , 0.02476663],\n",
       "         [0.9472137 , 0.05278624],\n",
       "         [0.99771595, 0.00228402],\n",
       "         [0.9777589 , 0.02224107],\n",
       "         [0.99296135, 0.00703864],\n",
       "         [0.9980848 , 0.00191527],\n",
       "         [0.97693175, 0.02306824],\n",
       "         [0.9974477 , 0.00255226],\n",
       "         [0.9875602 , 0.01243979],\n",
       "         [0.99528116, 0.00471883],\n",
       "         [0.9678715 , 0.03212846],\n",
       "         [0.9966084 , 0.00339165],\n",
       "         [0.99559826, 0.00440178],\n",
       "         [0.99354666, 0.00645329],\n",
       "         [0.9840916 , 0.01590844],\n",
       "         [0.99745935, 0.0025407 ],\n",
       "         [0.9963766 , 0.0036234 ],\n",
       "         [0.9975153 , 0.00248466],\n",
       "         [0.99676055, 0.00323952],\n",
       "         [0.99469537, 0.00530463],\n",
       "         [0.99624926, 0.00375079]],\n",
       " \n",
       "        [[0.9987764 , 0.0012236 ],\n",
       "         [0.9987709 , 0.00122914],\n",
       "         [0.00422491, 0.99577516],\n",
       "         [0.00338636, 0.9966137 ],\n",
       "         [0.998579  , 0.00142099],\n",
       "         [0.998013  , 0.00198701],\n",
       "         [0.04343772, 0.9565622 ],\n",
       "         [0.99347186, 0.0065282 ],\n",
       "         [0.9808328 , 0.01916724],\n",
       "         [0.9870322 , 0.0129678 ],\n",
       "         [0.97303075, 0.02696931],\n",
       "         [0.90285575, 0.0971443 ],\n",
       "         [0.9943558 , 0.00564426],\n",
       "         [0.9912515 , 0.00874841],\n",
       "         [0.97592574, 0.02407422],\n",
       "         [0.9946137 , 0.00538625],\n",
       "         [0.9951697 , 0.00483028],\n",
       "         [0.9952165 , 0.00478356],\n",
       "         [0.9757184 , 0.02428167],\n",
       "         [0.9807405 , 0.01925947],\n",
       "         [0.9929919 , 0.00700809],\n",
       "         [0.9955113 , 0.00448877],\n",
       "         [0.9692699 , 0.03073016],\n",
       "         [0.9820671 , 0.01793294],\n",
       "         [0.9941459 , 0.00585407],\n",
       "         [0.99411124, 0.00588876],\n",
       "         [0.98609877, 0.01390122],\n",
       "         [0.9738193 , 0.02618071],\n",
       "         [0.95139825, 0.04860168],\n",
       "         [0.99618053, 0.00381943],\n",
       "         [0.99633515, 0.00366489],\n",
       "         [0.9906317 , 0.00936825],\n",
       "         [0.99260265, 0.00739736],\n",
       "         [0.9972174 , 0.00278253],\n",
       "         [0.9435952 , 0.05640484],\n",
       "         [0.98131496, 0.01868504],\n",
       "         [0.9956418 , 0.00435821],\n",
       "         [0.95437574, 0.04562417],\n",
       "         [0.7144732 , 0.2855268 ],\n",
       "         [0.9552536 , 0.04474645],\n",
       "         [0.98961204, 0.01038791],\n",
       "         [0.65923333, 0.34076676],\n",
       "         [0.5855383 , 0.4144617 ],\n",
       "         [0.9925902 , 0.00740976],\n",
       "         [0.9945977 , 0.00540228],\n",
       "         [0.98651683, 0.0134832 ],\n",
       "         [0.9870402 , 0.01295974],\n",
       "         [0.87666297, 0.1233371 ],\n",
       "         [0.9961849 , 0.00381512],\n",
       "         [0.94437975, 0.05562028],\n",
       "         [0.9604488 , 0.03955113],\n",
       "         [0.9416117 , 0.05838824],\n",
       "         [0.9963378 , 0.00366221],\n",
       "         [0.9954678 , 0.00453222],\n",
       "         [0.9962598 , 0.00374027],\n",
       "         [0.99513227, 0.00486773],\n",
       "         [0.9938757 , 0.00612433],\n",
       "         [0.99378973, 0.00621031],\n",
       "         [0.91360253, 0.08639742],\n",
       "         [0.99328595, 0.00671403],\n",
       "         [0.98536056, 0.01463944],\n",
       "         [0.9877415 , 0.01225855],\n",
       "         [0.9207206 , 0.07927942],\n",
       "         [0.99134934, 0.00865066],\n",
       "         [0.78317606, 0.21682392],\n",
       "         [0.82062745, 0.17937258],\n",
       "         [0.99254906, 0.00745088],\n",
       "         [0.96153164, 0.03846831],\n",
       "         [0.99168664, 0.00831337],\n",
       "         [0.9761906 , 0.0238094 ],\n",
       "         [0.9531565 , 0.04684353],\n",
       "         [0.9969097 , 0.00309037],\n",
       "         [0.9579889 , 0.04201109],\n",
       "         [0.993476  , 0.006524  ],\n",
       "         [0.9866371 , 0.01336287],\n",
       "         [0.99263096, 0.00736903],\n",
       "         [0.95393175, 0.04606824],\n",
       "         [0.9930988 , 0.0069012 ],\n",
       "         [0.9815778 , 0.01842218],\n",
       "         [0.98062986, 0.01937009],\n",
       "         [0.9950407 , 0.00495932],\n",
       "         [0.9807983 , 0.01920171],\n",
       "         [0.85342675, 0.1465733 ],\n",
       "         [0.97840905, 0.02159095],\n",
       "         [0.9882456 , 0.01175441],\n",
       "         [0.9904165 , 0.0095835 ],\n",
       "         [0.9775089 , 0.02249105],\n",
       "         [0.994159  , 0.005841  ],\n",
       "         [0.99438936, 0.00561064],\n",
       "         [0.9876628 , 0.01233727],\n",
       "         [0.9863864 , 0.01361357],\n",
       "         [0.99330693, 0.00669304],\n",
       "         [0.99265397, 0.00734599],\n",
       "         [0.7616755 , 0.2383245 ],\n",
       "         [0.9883852 , 0.01161481],\n",
       "         [0.9884399 , 0.01156002],\n",
       "         [0.9959858 , 0.0040142 ],\n",
       "         [0.9922105 , 0.00778952],\n",
       "         [0.99459213, 0.0054079 ],\n",
       "         [0.9886557 , 0.01134433],\n",
       "         [0.9859947 , 0.01400533],\n",
       "         [0.9868997 , 0.01310031],\n",
       "         [0.9981311 , 0.00186889],\n",
       "         [0.9733945 , 0.02660552],\n",
       "         [0.9918292 , 0.00817072],\n",
       "         [0.99478334, 0.00521666],\n",
       "         [0.9942116 , 0.00578839],\n",
       "         [0.93133944, 0.06866051],\n",
       "         [0.9029635 , 0.09703644],\n",
       "         [0.99671376, 0.00328628],\n",
       "         [0.93015206, 0.06984794],\n",
       "         [0.977976  , 0.02202393],\n",
       "         [0.99657154, 0.00342841],\n",
       "         [0.9421134 , 0.05788653],\n",
       "         [0.9956601 , 0.00433982],\n",
       "         [0.9582858 , 0.04171412],\n",
       "         [0.990153  , 0.00984696],\n",
       "         [0.890738  , 0.10926195],\n",
       "         [0.99434656, 0.00565345],\n",
       "         [0.9936278 , 0.00637226],\n",
       "         [0.98916936, 0.01083062],\n",
       "         [0.9478379 , 0.05216212],\n",
       "         [0.99673164, 0.00326835],\n",
       "         [0.9935533 , 0.00644672],\n",
       "         [0.9965107 , 0.0034893 ],\n",
       "         [0.9944945 , 0.00550544],\n",
       "         [0.9902137 , 0.00978636],\n",
       "         [0.99110353, 0.00889652]]], dtype=float32)}"
      ]
     },
     "execution_count": 5,
     "metadata": {},
     "output_type": "execute_result"
    }
   ],
   "source": [
    "model.predict(X_tokenized=X_tokenized)"
   ]
  },
  {
   "cell_type": "markdown",
   "id": "fundamental-poverty",
   "metadata": {},
   "source": [
    "# 评分"
   ]
  },
  {
   "cell_type": "code",
   "execution_count": 6,
   "id": "accessory-lesbian",
   "metadata": {},
   "outputs": [
    {
     "name": "stdout",
     "output_type": "stream",
     "text": [
      "INFO:tensorflow:Running scoring on 2 samples\n",
      "INFO:tensorflow:process 100.0%, 2.03 examples/sec\n"
     ]
    },
    {
     "data": {
      "text/plain": [
       "{'accuracy': 1.0, 'loss': 0.0021982854}"
      ]
     },
     "execution_count": 6,
     "metadata": {},
     "output_type": "execute_result"
    }
   ],
   "source": [
    "model.score(X_tokenized=X_tokenized, y=y)"
   ]
  }
 ],
 "metadata": {
  "kernelspec": {
   "display_name": "Python 3.9.13 64-bit",
   "language": "python",
   "name": "python3"
  },
  "language_info": {
   "codemirror_mode": {
    "name": "ipython",
    "version": 3
   },
   "file_extension": ".py",
   "mimetype": "text/x-python",
   "name": "python",
   "nbconvert_exporter": "python",
   "pygments_lexer": "ipython3",
   "version": "3.9.13"
  },
  "vscode": {
   "interpreter": {
    "hash": "265fd6f62f200408acbbeae0248f34bed9f93569a643842b7a25d2cd76cae5e5"
   }
  }
 },
 "nbformat": 4,
 "nbformat_minor": 5
}
