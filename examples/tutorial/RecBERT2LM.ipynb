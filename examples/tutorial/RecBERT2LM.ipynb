{
 "cells": [
  {
   "attachments": {},
   "cell_type": "markdown",
   "id": "urban-divorce",
   "metadata": {},
   "source": [
    "# RecBERT2LM\n",
    "\n",
    "可用的中文预训练参数：[`bert-base`](https://storage.googleapis.com/bert_models/2018_11_03/chinese_L-12_H-768_A-12.zip),[`roberta-wwm-ext-base`](https://drive.google.com/uc?export=download&id=1jMAKIJmPn7kADgD3yQZhpsqM-IRM1qZt),[`roberta-wwm-ext-large`](https://drive.google.com/uc?export=download&id=1dtad0FFzG11CBsawu8hvwwzU2R0FDI94),[`macbert-base`](https://drive.google.com/uc?export=download&id=1aV69OhYzIwj_hn-kO1RiBa-m8QAusQ5b),[`macbert-large`](https://drive.google.com/uc?export=download&id=1lWYxnk1EqTA2Q20_IShxBrCPc5VSDCkT)"
   ]
  },
  {
   "cell_type": "code",
   "execution_count": 1,
   "id": "rotary-academy",
   "metadata": {},
   "outputs": [
    {
     "name": "stdout",
     "output_type": "stream",
     "text": [
      "v2.5.19\n"
     ]
    }
   ],
   "source": [
    "import uf\n",
    "\n",
    "print(uf.__version__)"
   ]
  },
  {
   "cell_type": "code",
   "execution_count": 2,
   "id": "velvet-symbol",
   "metadata": {},
   "outputs": [
    {
     "name": "stdout",
     "output_type": "stream",
     "text": [
      "uf.RecBERT2LM(\n",
      "    config_file=\"../../ref/bert_config.json\",\n",
      "    vocab_file=\"../../ref/vocab.txt\",\n",
      "    max_seq_length=10,\n",
      "    init_checkpoint=None,\n",
      "    output_dir=None,\n",
      "    gpu_ids=None,\n",
      "    add_prob=0.05,\n",
      "    rep_prob=0.05,\n",
      "    del_prob=0.05,\n",
      "    do_lower_case=True,\n",
      "    truncate_method=\"LIFO\",\n",
      ")\n"
     ]
    }
   ],
   "source": [
    "model = uf.RecBERT2LM(\"../../ref/bert_config.json\", \"../../ref/vocab.txt\", max_seq_length=10)\n",
    "print(model)"
   ]
  },
  {
   "cell_type": "code",
   "execution_count": 3,
   "id": "drawn-breathing",
   "metadata": {},
   "outputs": [],
   "source": [
    "X = [\"天亮以前说再见\", \"笑着泪流满面\", \"去迎接应该你的\", \"更好的明天\", \"他想知道那是谁\", \"为何总沉默寡言\", \"人群中也算抢眼\", \"抢眼的孤独难免\"]"
   ]
  },
  {
   "cell_type": "markdown",
   "id": "vanilla-fault",
   "metadata": {},
   "source": [
    "# 训练"
   ]
  },
  {
   "cell_type": "code",
   "execution_count": 4,
   "id": "excellent-religion",
   "metadata": {},
   "outputs": [
    {
     "name": "stderr",
     "output_type": "stream",
     "text": [
      "/Users/geyingli/Library/Python/3.8/lib/python/site-packages/uf-2.5.19-py3.8.egg/uf/apps/bert/bert.py:235: UserWarning: `tf.layers.dense` is deprecated and will be removed in a future version. Please use `tf.keras.layers.Dense` instead.\n",
      "  query_layer = tf.layers.dense(\n",
      "/Users/geyingli/Library/Python/3.8/lib/python/site-packages/uf-2.5.19-py3.8.egg/uf/apps/bert/bert.py:245: UserWarning: `tf.layers.dense` is deprecated and will be removed in a future version. Please use `tf.keras.layers.Dense` instead.\n",
      "  key_layer = tf.layers.dense(\n",
      "/Users/geyingli/Library/Python/3.8/lib/python/site-packages/uf-2.5.19-py3.8.egg/uf/apps/bert/bert.py:255: UserWarning: `tf.layers.dense` is deprecated and will be removed in a future version. Please use `tf.keras.layers.Dense` instead.\n",
      "  value_layer = tf.layers.dense(\n",
      "/Users/geyingli/Library/Python/3.8/lib/python/site-packages/uf-2.5.19-py3.8.egg/uf/apps/bert/bert.py:379: UserWarning: `tf.layers.dense` is deprecated and will be removed in a future version. Please use `tf.keras.layers.Dense` instead.\n",
      "  attention_output = tf.layers.dense(\n",
      "/Users/geyingli/Library/Python/3.8/lib/python/site-packages/uf-2.5.19-py3.8.egg/uf/apps/bert/bert.py:391: UserWarning: `tf.layers.dense` is deprecated and will be removed in a future version. Please use `tf.keras.layers.Dense` instead.\n",
      "  intermediate_output = tf.layers.dense(\n",
      "/Users/geyingli/Library/Python/3.8/lib/python/site-packages/uf-2.5.19-py3.8.egg/uf/apps/bert/bert.py:401: UserWarning: `tf.layers.dense` is deprecated and will be removed in a future version. Please use `tf.keras.layers.Dense` instead.\n",
      "  layer_output = tf.layers.dense(\n",
      "/Users/geyingli/Library/Python/3.8/lib/python/site-packages/uf-2.5.19-py3.8.egg/uf/apps/recbert/recbert2.py:189: UserWarning: `tf.layers.dense` is deprecated and will be removed in a future version. Please use `tf.keras.layers.Dense` instead.\n",
      "  logits = tf.layers.dense(\n",
      "/Users/geyingli/Library/Python/3.8/lib/python/site-packages/uf-2.5.19-py3.8.egg/uf/apps/recbert/recbert2.py:215: UserWarning: `tf.layers.dense` is deprecated and will be removed in a future version. Please use `tf.keras.layers.Dense` instead.\n",
      "  logits = tf.layers.dense(\n",
      "/Users/geyingli/Library/Python/3.8/lib/python/site-packages/uf-2.5.19-py3.8.egg/uf/apps/recbert/recbert2.py:222: UserWarning: `tf.layers.dense` is deprecated and will be removed in a future version. Please use `tf.keras.layers.Dense` instead.\n",
      "  logits = tf.layers.dense(\n",
      "/Users/geyingli/Library/Python/3.8/lib/python/site-packages/uf-2.5.19-py3.8.egg/uf/apps/recbert/recbert2.py:260: UserWarning: `tf.layers.dense` is deprecated and will be removed in a future version. Please use `tf.keras.layers.Dense` instead.\n",
      "  logits = tf.layers.dense(\n"
     ]
    },
    {
     "name": "stdout",
     "output_type": "stream",
     "text": [
      "INFO:tensorflow:Build graph with 333,379,608 parameters (among which 111,126,536 are trainable)\n",
      "INFO:tensorflow:Running local_init_op\n",
      "INFO:tensorflow:Done running local_init_op\n",
      "INFO:tensorflow:Running training on 8 samples (step 0 -> 20)\n",
      "INFO:tensorflow:step 1, add_accuracy 0.5075, add_loss 0.729563, rep_accuracy 0.4030, rep_loss 0.826213, del_accuracy 0.4030, del_loss 0.810844, cls_accuracy 0.3750, cls_loss 0.710651, 0.11 steps/sec, 0.85 examples/sec\n",
      "INFO:tensorflow:step 2, add_accuracy 0.9701, add_loss 0.204016, rep_accuracy 0.9701, rep_loss 0.177103, del_accuracy 1.0000, del_loss 0.123412, cls_accuracy 0.6250, cls_loss 0.718593, 0.54 steps/sec, 4.28 examples/sec\n",
      "INFO:tensorflow:step 3, add_accuracy 0.9701, add_loss 0.117575, rep_accuracy 0.9701, rep_loss 0.116470, del_accuracy 1.0000, del_loss 0.015036, cls_accuracy 0.3750, cls_loss 0.834942, 0.65 steps/sec, 5.19 examples/sec\n",
      "INFO:tensorflow:step 4, add_accuracy 0.9701, add_loss 0.109563, rep_accuracy 0.9701, rep_loss 0.127421, del_accuracy 1.0000, del_loss 0.003068, cls_accuracy 0.8750, cls_loss 0.487407, 0.65 steps/sec, 5.23 examples/sec\n",
      "INFO:tensorflow:step 5, add_accuracy 0.9701, add_loss 0.068706, rep_accuracy 0.9701, rep_loss 0.107935, del_accuracy 1.0000, del_loss 0.001077, cls_accuracy 0.6250, cls_loss 0.900601, 0.65 steps/sec, 5.19 examples/sec\n",
      "INFO:tensorflow:step 6, add_accuracy 0.9701, add_loss 0.047939, rep_accuracy 0.9701, rep_loss 0.067950, del_accuracy 1.0000, del_loss 0.000586, cls_accuracy 0.6250, cls_loss 0.546456, 0.68 steps/sec, 5.43 examples/sec\n",
      "INFO:tensorflow:step 7, add_accuracy 0.9701, add_loss 0.041912, rep_accuracy 0.9701, rep_loss 0.062090, del_accuracy 1.0000, del_loss 0.000400, cls_accuracy 1.0000, cls_loss 0.341974, 0.67 steps/sec, 5.33 examples/sec\n",
      "INFO:tensorflow:step 8, add_accuracy 0.9701, add_loss 0.059049, rep_accuracy 0.9701, rep_loss 0.038244, del_accuracy 1.0000, del_loss 0.000389, cls_accuracy 1.0000, cls_loss 0.315712, 0.64 steps/sec, 5.11 examples/sec\n",
      "INFO:tensorflow:step 9, add_accuracy 1.0000, add_loss 0.046278, rep_accuracy 0.9701, rep_loss 0.039619, del_accuracy 1.0000, del_loss 0.000373, cls_accuracy 1.0000, cls_loss 0.173174, 0.68 steps/sec, 5.40 examples/sec\n",
      "INFO:tensorflow:step 10, add_accuracy 1.0000, add_loss 0.029441, rep_accuracy 0.9851, rep_loss 0.042370, del_accuracy 1.0000, del_loss 0.000377, cls_accuracy 1.0000, cls_loss 0.187181, 0.66 steps/sec, 5.32 examples/sec\n",
      "INFO:tensorflow:step 11, add_accuracy 1.0000, add_loss 0.022280, rep_accuracy 0.9851, rep_loss 0.037104, del_accuracy 1.0000, del_loss 0.000435, cls_accuracy 1.0000, cls_loss 0.164927, 0.66 steps/sec, 5.29 examples/sec\n",
      "INFO:tensorflow:step 12, add_accuracy 1.0000, add_loss 0.023424, rep_accuracy 1.0000, rep_loss 0.036009, del_accuracy 1.0000, del_loss 0.000622, cls_accuracy 1.0000, cls_loss 0.044116, 0.66 steps/sec, 5.30 examples/sec\n",
      "INFO:tensorflow:step 13, add_accuracy 1.0000, add_loss 0.024991, rep_accuracy 1.0000, rep_loss 0.026962, del_accuracy 1.0000, del_loss 0.001055, cls_accuracy 1.0000, cls_loss 0.036735, 0.65 steps/sec, 5.17 examples/sec\n",
      "INFO:tensorflow:step 14, add_accuracy 1.0000, add_loss 0.019880, rep_accuracy 1.0000, rep_loss 0.022656, del_accuracy 1.0000, del_loss 0.001443, cls_accuracy 1.0000, cls_loss 0.019112, 0.66 steps/sec, 5.26 examples/sec\n",
      "INFO:tensorflow:step 15, add_accuracy 1.0000, add_loss 0.017699, rep_accuracy 1.0000, rep_loss 0.016407, del_accuracy 1.0000, del_loss 0.001735, cls_accuracy 1.0000, cls_loss 0.015279, 0.66 steps/sec, 5.25 examples/sec\n",
      "INFO:tensorflow:step 16, add_accuracy 1.0000, add_loss 0.015808, rep_accuracy 1.0000, rep_loss 0.011810, del_accuracy 1.0000, del_loss 0.001941, cls_accuracy 1.0000, cls_loss 0.011555, 0.65 steps/sec, 5.20 examples/sec\n",
      "INFO:tensorflow:step 17, add_accuracy 1.0000, add_loss 0.017859, rep_accuracy 1.0000, rep_loss 0.013890, del_accuracy 1.0000, del_loss 0.002027, cls_accuracy 1.0000, cls_loss 0.013603, 0.66 steps/sec, 5.31 examples/sec\n",
      "INFO:tensorflow:step 18, add_accuracy 1.0000, add_loss 0.015585, rep_accuracy 1.0000, rep_loss 0.012847, del_accuracy 1.0000, del_loss 0.002012, cls_accuracy 1.0000, cls_loss 0.009898, 0.61 steps/sec, 4.87 examples/sec\n",
      "INFO:tensorflow:step 19, add_accuracy 1.0000, add_loss 0.015648, rep_accuracy 1.0000, rep_loss 0.011052, del_accuracy 1.0000, del_loss 0.002315, cls_accuracy 1.0000, cls_loss 0.013965, 0.68 steps/sec, 5.40 examples/sec\n",
      "INFO:tensorflow:step 20, add_accuracy 1.0000, add_loss 0.018123, rep_accuracy 1.0000, rep_loss 0.010600, del_accuracy 1.0000, del_loss 0.002640, cls_accuracy 1.0000, cls_loss 0.011066, 0.68 steps/sec, 5.42 examples/sec\n"
     ]
    }
   ],
   "source": [
    "model.fit(X, total_steps=20)"
   ]
  },
  {
   "cell_type": "markdown",
   "id": "fallen-hundred",
   "metadata": {},
   "source": [
    "# 推理"
   ]
  },
  {
   "cell_type": "code",
   "execution_count": 5,
   "id": "opposite-pantyhose",
   "metadata": {},
   "outputs": [
    {
     "name": "stdout",
     "output_type": "stream",
     "text": [
      "INFO:tensorflow:Running inference on 4 samples\n",
      "INFO:tensorflow:process 100.0%, 3.35 examples/sec\n"
     ]
    },
    {
     "data": {
      "text/plain": [
       "{'lm_preds': ['他想知道那是谁道', '为何总沉默寡', '群人面群中也抢面', '抢孤为独道难免'],\n",
       " 'cls_probs': array([[9.9934238e-01, 6.5759692e-04],\n",
       "        [9.9661535e-01, 3.3846260e-03],\n",
       "        [9.9592650e-01, 4.0734927e-03],\n",
       "        [8.8263565e-01, 1.1736435e-01]], dtype=float32),\n",
       " 'cls_preds': [0, 0, 0, 0]}"
      ]
     },
     "execution_count": 5,
     "metadata": {},
     "output_type": "execute_result"
    }
   ],
   "source": [
    "X = [\n",
    "    \"他想知道那是谁道\", \"为何总沉默寡\", \n",
    "    \"群人面群中也抢面\", \"抢孤为独道难免\",\n",
    "]           # 人为增加一些错误，看模型是否能识别并纠正 (与训练阶段采样不同，因此此case预测错误正常)\n",
    "model.predict(X)"
   ]
  },
  {
   "attachments": {},
   "cell_type": "markdown",
   "id": "c8c2ef60",
   "metadata": {},
   "source": [
    "# 训练样本生成"
   ]
  },
  {
   "cell_type": "code",
   "execution_count": 14,
   "id": "9b1f3617",
   "metadata": {},
   "outputs": [
    {
     "name": "stdout",
     "output_type": "stream",
     "text": [
      "input_tokens: ['[CLS]', '天', '亮', '中', '前', '说', '再', '见', '[SEP]', '[PAD]']\n",
      "add_label_ids: ['[PAD]', '[PAD]', '[PAD]', '[PAD]', '[PAD]', '[PAD]', '[PAD]', '[PAD]', '[PAD]', '[PAD]']\n",
      "rep_label_ids: ['[PAD]', '[PAD]', '[PAD]', '以', '[PAD]', '[PAD]', '[PAD]', '[PAD]', '[PAD]', '[PAD]']\n",
      "del_label_ids: [0 0 0 0 0 0 0 0 0 0]\n",
      "input_tokens: ['[CLS]', '笑', '着', '为', '流', '满', '面', '[SEP]', '[PAD]', '[PAD]']\n",
      "add_label_ids: ['[PAD]', '[PAD]', '[PAD]', '[PAD]', '[PAD]', '[PAD]', '[PAD]', '[PAD]', '[PAD]', '[PAD]']\n",
      "rep_label_ids: ['[PAD]', '[PAD]', '[PAD]', '泪', '[PAD]', '[PAD]', '[PAD]', '[PAD]', '[PAD]', '[PAD]']\n",
      "del_label_ids: [0 0 0 0 0 0 0 0 0 0]\n",
      "input_tokens: ['[CLS]', '去', '迎', '接', '该', '你', '的', '[SEP]', '[PAD]', '[PAD]']\n",
      "add_label_ids: ['[PAD]', '[PAD]', '[PAD]', '应', '[PAD]', '[PAD]', '[PAD]', '[PAD]', '[PAD]', '[PAD]']\n",
      "rep_label_ids: ['[PAD]', '[PAD]', '[PAD]', '[PAD]', '[PAD]', '[PAD]', '[PAD]', '[PAD]', '[PAD]', '[PAD]']\n",
      "del_label_ids: [0 0 0 0 0 0 0 0 0 0]\n",
      "input_tokens: ['[CLS]', '好', '的', '明', '该', '[SEP]', '[PAD]', '[PAD]', '[PAD]', '[PAD]']\n",
      "add_label_ids: ['更', '[PAD]', '[PAD]', '[PAD]', '[PAD]', '[PAD]', '[PAD]', '[PAD]', '[PAD]', '[PAD]']\n",
      "rep_label_ids: ['[PAD]', '[PAD]', '[PAD]', '[PAD]', '天', '[PAD]', '[PAD]', '[PAD]', '[PAD]', '[PAD]']\n",
      "del_label_ids: [0 0 0 0 0 0 0 0 0 0]\n",
      "input_tokens: ['[CLS]', '他', '谁', '知', '那', '是', '谁', '[SEP]', '[PAD]', '[PAD]']\n",
      "add_label_ids: ['[PAD]', '[PAD]', '[PAD]', '道', '[PAD]', '[PAD]', '[PAD]', '[PAD]', '[PAD]', '[PAD]']\n",
      "rep_label_ids: ['[PAD]', '[PAD]', '想', '[PAD]', '[PAD]', '[PAD]', '[PAD]', '[PAD]', '[PAD]', '[PAD]']\n",
      "del_label_ids: [0 0 0 0 0 0 0 0 0 0]\n",
      "input_tokens: ['[CLS]', '为', '何', '总', '沉', '默', '寡', '言', '[SEP]', '[PAD]']\n",
      "add_label_ids: ['[PAD]', '[PAD]', '[PAD]', '[PAD]', '[PAD]', '[PAD]', '[PAD]', '[PAD]', '[PAD]', '[PAD]']\n",
      "rep_label_ids: ['[PAD]', '[PAD]', '[PAD]', '[PAD]', '[PAD]', '[PAD]', '[PAD]', '[PAD]', '[PAD]', '[PAD]']\n",
      "del_label_ids: [0 0 0 0 0 0 0 0 0 0]\n",
      "input_tokens: ['[CLS]', '人', '群', '中', '也', '算', '抢', '眼', '[SEP]', '[PAD]']\n",
      "add_label_ids: ['[PAD]', '[PAD]', '[PAD]', '[PAD]', '[PAD]', '[PAD]', '[PAD]', '[PAD]', '[PAD]', '[PAD]']\n",
      "rep_label_ids: ['[PAD]', '[PAD]', '[PAD]', '[PAD]', '[PAD]', '[PAD]', '[PAD]', '[PAD]', '[PAD]', '[PAD]']\n",
      "del_label_ids: [0 0 0 0 0 0 0 0 0 0]\n",
      "input_tokens: ['[CLS]', '抢', '眼', '的', '孤', '独', '难', '免', '[SEP]', '[PAD]']\n",
      "add_label_ids: ['[PAD]', '[PAD]', '[PAD]', '[PAD]', '[PAD]', '[PAD]', '[PAD]', '[PAD]', '[PAD]', '[PAD]']\n",
      "rep_label_ids: ['[PAD]', '[PAD]', '[PAD]', '[PAD]', '[PAD]', '[PAD]', '[PAD]', '[PAD]', '[PAD]', '[PAD]']\n",
      "del_label_ids: [0 0 0 0 0 0 0 0 0 0]\n"
     ]
    }
   ],
   "source": [
    "X = [\"天亮以前说再见\", \"笑着泪流满面\", \"去迎接应该你的\", \"更好的明天\", \"他想知道那是谁\", \"为何总沉默寡言\", \"人群中也算抢眼\", \"抢眼的孤独难免\"]\n",
    "data = model.convert(X, is_training=True)\n",
    "for i in range(len(data[\"input_ids\"])):\n",
    "    print(\"input_tokens: %s\" % (model.tokenizer.convert_ids_to_tokens(data[\"input_ids\"][i])))\n",
    "    print(\"add_label_ids: %s\" % (model.tokenizer.convert_ids_to_tokens(data[\"add_label_ids\"][i])))\n",
    "    print(\"rep_label_ids: %s\" % (model.tokenizer.convert_ids_to_tokens(data[\"rep_label_ids\"][i])))\n",
    "    print(\"del_label_ids: %s\" % (data[\"del_label_ids\"][i]))\n"
   ]
  }
 ],
 "metadata": {
  "kernelspec": {
   "display_name": "Python 3.8.2 64-bit",
   "language": "python",
   "name": "python3"
  },
  "language_info": {
   "codemirror_mode": {
    "name": "ipython",
    "version": 3
   },
   "file_extension": ".py",
   "mimetype": "text/x-python",
   "name": "python",
   "nbconvert_exporter": "python",
   "pygments_lexer": "ipython3",
   "version": "3.8.2"
  },
  "vscode": {
   "interpreter": {
    "hash": "31f2aee4e71d21fbe5cf8b01ff0e069b9275f58929596ceb00d14d90e3e16cd6"
   }
  }
 },
 "nbformat": 4,
 "nbformat_minor": 5
}
