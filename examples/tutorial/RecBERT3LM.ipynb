{
 "cells": [
  {
   "attachments": {},
   "cell_type": "markdown",
   "id": "urban-divorce",
   "metadata": {},
   "source": [
    "# RecBERT3LM\n",
    "\n",
    "可用的中文预训练参数：[`bert-base`](https://storage.googleapis.com/bert_models/2018_11_03/chinese_L-12_H-768_A-12.zip),[`roberta-wwm-ext-base`](https://drive.google.com/uc?export=download&id=1jMAKIJmPn7kADgD3yQZhpsqM-IRM1qZt),[`roberta-wwm-ext-large`](https://drive.google.com/uc?export=download&id=1dtad0FFzG11CBsawu8hvwwzU2R0FDI94),[`macbert-base`](https://drive.google.com/uc?export=download&id=1aV69OhYzIwj_hn-kO1RiBa-m8QAusQ5b),[`macbert-large`](https://drive.google.com/uc?export=download&id=1lWYxnk1EqTA2Q20_IShxBrCPc5VSDCkT)"
   ]
  },
  {
   "cell_type": "code",
   "execution_count": 1,
   "id": "rotary-academy",
   "metadata": {},
   "outputs": [
    {
     "name": "stdout",
     "output_type": "stream",
     "text": [
      "v2.5.20\n"
     ]
    }
   ],
   "source": [
    "import uf\n",
    "\n",
    "print(uf.__version__)"
   ]
  },
  {
   "cell_type": "code",
   "execution_count": 2,
   "id": "velvet-symbol",
   "metadata": {},
   "outputs": [
    {
     "name": "stdout",
     "output_type": "stream",
     "text": [
      "uf.RecBERT3LM(\n",
      "    config_file=\"../../ref/bert_config.json\",\n",
      "    vocab_file=\"../../ref/vocab.txt\",\n",
      "    max_seq_length=10,\n",
      "    init_checkpoint=None,\n",
      "    output_dir=None,\n",
      "    gpu_ids=None,\n",
      "    add_prob=0.1,\n",
      "    rep_prob=0.1,\n",
      "    do_lower_case=True,\n",
      "    truncate_method=\"LIFO\",\n",
      ")\n"
     ]
    }
   ],
   "source": [
    "model = uf.RecBERT3LM(\"../../ref/bert_config.json\", \"../../ref/vocab.txt\", max_seq_length=10)\n",
    "print(model)"
   ]
  },
  {
   "cell_type": "code",
   "execution_count": 3,
   "id": "drawn-breathing",
   "metadata": {},
   "outputs": [],
   "source": [
    "X = [\"天亮以前说再见\", \"笑着泪流满面\", \"去迎接应该你的\", \"更好的明天\", \"他想知道那是谁\", \"为何总沉默寡言\", \"人群中也算抢眼\", \"抢眼的孤独难免\"]"
   ]
  },
  {
   "cell_type": "markdown",
   "id": "vanilla-fault",
   "metadata": {},
   "source": [
    "# 训练"
   ]
  },
  {
   "cell_type": "code",
   "execution_count": 4,
   "id": "excellent-religion",
   "metadata": {},
   "outputs": [
    {
     "name": "stderr",
     "output_type": "stream",
     "text": [
      "/Users/geyingli/Library/Python/3.8/lib/python/site-packages/uf-2.5.20-py3.8.egg/uf/apps/bert/bert.py:236: UserWarning: `tf.layers.dense` is deprecated and will be removed in a future version. Please use `tf.keras.layers.Dense` instead.\n",
      "  query_layer = tf.layers.dense(\n",
      "/Users/geyingli/Library/Python/3.8/lib/python/site-packages/uf-2.5.20-py3.8.egg/uf/apps/bert/bert.py:246: UserWarning: `tf.layers.dense` is deprecated and will be removed in a future version. Please use `tf.keras.layers.Dense` instead.\n",
      "  key_layer = tf.layers.dense(\n",
      "/Users/geyingli/Library/Python/3.8/lib/python/site-packages/uf-2.5.20-py3.8.egg/uf/apps/bert/bert.py:256: UserWarning: `tf.layers.dense` is deprecated and will be removed in a future version. Please use `tf.keras.layers.Dense` instead.\n",
      "  value_layer = tf.layers.dense(\n",
      "/Users/geyingli/Library/Python/3.8/lib/python/site-packages/uf-2.5.20-py3.8.egg/uf/apps/bert/bert.py:380: UserWarning: `tf.layers.dense` is deprecated and will be removed in a future version. Please use `tf.keras.layers.Dense` instead.\n",
      "  attention_output = tf.layers.dense(\n",
      "/Users/geyingli/Library/Python/3.8/lib/python/site-packages/uf-2.5.20-py3.8.egg/uf/apps/bert/bert.py:392: UserWarning: `tf.layers.dense` is deprecated and will be removed in a future version. Please use `tf.keras.layers.Dense` instead.\n",
      "  intermediate_output = tf.layers.dense(\n",
      "/Users/geyingli/Library/Python/3.8/lib/python/site-packages/uf-2.5.20-py3.8.egg/uf/apps/bert/bert.py:402: UserWarning: `tf.layers.dense` is deprecated and will be removed in a future version. Please use `tf.keras.layers.Dense` instead.\n",
      "  layer_output = tf.layers.dense(\n",
      "/Users/geyingli/Library/Python/3.8/lib/python/site-packages/uf-2.5.20-py3.8.egg/uf/apps/recbert/recbert3.py:173: UserWarning: `tf.layers.dense` is deprecated and will be removed in a future version. Please use `tf.keras.layers.Dense` instead.\n",
      "  logits = tf.layers.dense(\n",
      "/Users/geyingli/Library/Python/3.8/lib/python/site-packages/uf-2.5.20-py3.8.egg/uf/apps/recbert/recbert3.py:199: UserWarning: `tf.layers.dense` is deprecated and will be removed in a future version. Please use `tf.keras.layers.Dense` instead.\n",
      "  logits = tf.layers.dense(\n",
      "/Users/geyingli/Library/Python/3.8/lib/python/site-packages/uf-2.5.20-py3.8.egg/uf/apps/recbert/recbert3.py:206: UserWarning: `tf.layers.dense` is deprecated and will be removed in a future version. Please use `tf.keras.layers.Dense` instead.\n",
      "  logits = tf.layers.dense(\n"
     ]
    },
    {
     "name": "stdout",
     "output_type": "stream",
     "text": [
      "INFO:tensorflow:Build graph with 333,374,994 parameters (among which 111,124,998 are trainable)\n",
      "INFO:tensorflow:Running local_init_op\n",
      "INFO:tensorflow:Done running local_init_op\n",
      "INFO:tensorflow:Running training on 8 samples (step 0 -> 20)\n",
      "INFO:tensorflow:step 1, add_accuracy 0.4375, add_loss 0.688775, rep_accuracy 0.6875, rep_loss 0.537048, cls_accuracy 0.7500, cls_loss 0.606890, 0.13 steps/sec, 1.02 examples/sec\n",
      "INFO:tensorflow:step 2, add_accuracy 0.9219, add_loss 0.280191, rep_accuracy 0.9375, rep_loss 0.214980, cls_accuracy 0.7500, cls_loss 0.934923, 0.64 steps/sec, 5.14 examples/sec\n",
      "INFO:tensorflow:step 3, add_accuracy 0.9219, add_loss 0.297513, rep_accuracy 0.9375, rep_loss 0.203011, cls_accuracy 0.7500, cls_loss 0.406371, 0.65 steps/sec, 5.18 examples/sec\n",
      "INFO:tensorflow:step 4, add_accuracy 0.9219, add_loss 0.230842, rep_accuracy 0.9375, rep_loss 0.167780, cls_accuracy 0.2500, cls_loss 1.359688, 0.61 steps/sec, 4.86 examples/sec\n",
      "INFO:tensorflow:step 5, add_accuracy 0.9219, add_loss 0.157309, rep_accuracy 0.9375, rep_loss 0.126464, cls_accuracy 0.3750, cls_loss 0.927931, 0.63 steps/sec, 5.07 examples/sec\n",
      "INFO:tensorflow:step 6, add_accuracy 0.9219, add_loss 0.132275, rep_accuracy 0.9375, rep_loss 0.078367, cls_accuracy 1.0000, cls_loss 0.218144, 0.58 steps/sec, 4.68 examples/sec\n",
      "INFO:tensorflow:step 7, add_accuracy 0.9375, add_loss 0.131113, rep_accuracy 0.9219, rep_loss 0.076591, cls_accuracy 0.7500, cls_loss 0.369713, 0.63 steps/sec, 5.07 examples/sec\n",
      "INFO:tensorflow:step 8, add_accuracy 0.9531, add_loss 0.111296, rep_accuracy 0.9531, rep_loss 0.084286, cls_accuracy 0.8750, cls_loss 0.226567, 0.62 steps/sec, 4.99 examples/sec\n",
      "INFO:tensorflow:step 9, add_accuracy 0.9531, add_loss 0.089641, rep_accuracy 0.9687, rep_loss 0.066954, cls_accuracy 1.0000, cls_loss 0.106486, 0.64 steps/sec, 5.11 examples/sec\n",
      "INFO:tensorflow:step 10, add_accuracy 0.9687, add_loss 0.066954, rep_accuracy 0.9844, rep_loss 0.052278, cls_accuracy 1.0000, cls_loss 0.121020, 0.65 steps/sec, 5.20 examples/sec\n",
      "INFO:tensorflow:step 11, add_accuracy 0.9687, add_loss 0.068683, rep_accuracy 0.9844, rep_loss 0.044425, cls_accuracy 1.0000, cls_loss 0.187186, 0.66 steps/sec, 5.26 examples/sec\n",
      "INFO:tensorflow:step 12, add_accuracy 0.9687, add_loss 0.060201, rep_accuracy 0.9844, rep_loss 0.037114, cls_accuracy 1.0000, cls_loss 0.063903, 0.66 steps/sec, 5.27 examples/sec\n",
      "INFO:tensorflow:step 13, add_accuracy 0.9687, add_loss 0.066010, rep_accuracy 0.9844, rep_loss 0.041435, cls_accuracy 1.0000, cls_loss 0.024735, 0.66 steps/sec, 5.27 examples/sec\n",
      "INFO:tensorflow:step 14, add_accuracy 0.9687, add_loss 0.053197, rep_accuracy 0.9844, rep_loss 0.038082, cls_accuracy 1.0000, cls_loss 0.012965, 0.65 steps/sec, 5.18 examples/sec\n",
      "INFO:tensorflow:step 15, add_accuracy 0.9687, add_loss 0.061122, rep_accuracy 0.9844, rep_loss 0.036784, cls_accuracy 1.0000, cls_loss 0.010243, 0.66 steps/sec, 5.27 examples/sec\n",
      "INFO:tensorflow:step 16, add_accuracy 0.9844, add_loss 0.053337, rep_accuracy 0.9844, rep_loss 0.033462, cls_accuracy 1.0000, cls_loss 0.013466, 0.67 steps/sec, 5.37 examples/sec\n",
      "INFO:tensorflow:step 17, add_accuracy 0.9844, add_loss 0.053742, rep_accuracy 0.9844, rep_loss 0.032859, cls_accuracy 1.0000, cls_loss 0.006267, 0.63 steps/sec, 5.06 examples/sec\n",
      "INFO:tensorflow:step 18, add_accuracy 0.9844, add_loss 0.045880, rep_accuracy 0.9844, rep_loss 0.035345, cls_accuracy 1.0000, cls_loss 0.009615, 0.66 steps/sec, 5.28 examples/sec\n",
      "INFO:tensorflow:step 19, add_accuracy 0.9844, add_loss 0.054542, rep_accuracy 0.9844, rep_loss 0.030375, cls_accuracy 1.0000, cls_loss 0.007718, 0.63 steps/sec, 5.03 examples/sec\n",
      "INFO:tensorflow:step 20, add_accuracy 0.9844, add_loss 0.049024, rep_accuracy 1.0000, rep_loss 0.030174, cls_accuracy 1.0000, cls_loss 0.007196, 0.64 steps/sec, 5.13 examples/sec\n"
     ]
    }
   ],
   "source": [
    "model.fit(X, total_steps=20)"
   ]
  },
  {
   "cell_type": "markdown",
   "id": "fallen-hundred",
   "metadata": {},
   "source": [
    "# 推理"
   ]
  },
  {
   "cell_type": "code",
   "execution_count": 5,
   "id": "opposite-pantyhose",
   "metadata": {},
   "outputs": [
    {
     "name": "stdout",
     "output_type": "stream",
     "text": [
      "INFO:tensorflow:Running inference on 8 samples\n",
      "INFO:tensorflow:process 100.0%, 6.30 examples/sec\n"
     ]
    },
    {
     "data": {
      "text/plain": [
       "{'lm_preds': ['他想{rep:知}道那是谁',\n",
       "  '{add:满}好的明天',\n",
       "  '天亮以前说再{rep:见}',\n",
       "  '人群中也算抢眼',\n",
       "  '为何{rep:总}沉默{add:寡}言',\n",
       "  '笑着泪流{add:满}面',\n",
       "  '抢{add:眼}的孤{rep:独}{add:难}免',\n",
       "  '去迎接应该你的'],\n",
       " 'cls_probs': array([[1.7809802e-03, 9.9821895e-01],\n",
       "        [5.3508801e-04, 9.9946493e-01],\n",
       "        [2.3295372e-03, 9.9767047e-01],\n",
       "        [9.9092346e-01, 9.0765636e-03],\n",
       "        [1.8411953e-03, 9.9815875e-01],\n",
       "        [1.7286688e-03, 9.9827135e-01],\n",
       "        [2.6518737e-03, 9.9734807e-01],\n",
       "        [9.9036998e-01, 9.6300319e-03]], dtype=float32),\n",
       " 'cls_preds': [1, 1, 1, 0, 1, 1, 1, 0]}"
      ]
     },
     "execution_count": 5,
     "metadata": {},
     "output_type": "execute_result"
    }
   ],
   "source": [
    "X = [\n",
    "    \"\".join(\n",
    "        token for token \n",
    "        in model.tokenizer.convert_ids_to_tokens(model.data[\"input_ids\"][i])\n",
    "        if token not in (\"[CLS]\", \"[SEP]\", \"[PAD]\")\n",
    "    )\n",
    "    for i in range(len(model.data[\"input_ids\"]))\n",
    "]\n",
    "# X = [\n",
    "#     \"他想知道那是谁道\", \"为何总沉默寡\", \n",
    "#     \"群人面群中也抢面\", \"抢孤为独道难免\",\n",
    "# ]           # 人为增加一些错误，看模型是否能识别并纠正 (与训练阶段采样不同，因此此case预测错误正常)\n",
    "model.predict(X)"
   ]
  },
  {
   "attachments": {},
   "cell_type": "markdown",
   "id": "c8c2ef60",
   "metadata": {},
   "source": [
    "# 训练样本生成"
   ]
  },
  {
   "cell_type": "code",
   "execution_count": 6,
   "id": "9b1f3617",
   "metadata": {},
   "outputs": [
    {
     "name": "stdout",
     "output_type": "stream",
     "text": [
      "input_tokens: ['[CLS]', '亮', '天', '前', '说', '再', '见', '[SEP]', '[PAD]', '[PAD]']\n",
      "add_label_ids: ['天', '[PAD]', '[PAD]', '[PAD]', '[PAD]', '[PAD]', '[PAD]', '[PAD]', '[PAD]', '[PAD]']\n",
      "rep_label_ids: ['[PAD]', '[PAD]', '以', '[PAD]', '[PAD]', '[PAD]', '[PAD]', '[PAD]', '[PAD]', '[PAD]']\n",
      "\n",
      "input_tokens: ['[CLS]', '笑', '知', '泪', '流', '满', '面', '[SEP]', '[PAD]', '[PAD]']\n",
      "add_label_ids: ['[PAD]', '着', '[PAD]', '[PAD]', '[PAD]', '[PAD]', '[PAD]', '[PAD]', '[PAD]', '[PAD]']\n",
      "rep_label_ids: ['[PAD]', '[PAD]', '[Soft Prompt]', '[PAD]', '[PAD]', '[PAD]', '[PAD]', '[PAD]', '[PAD]', '[PAD]']\n",
      "\n",
      "input_tokens: ['[CLS]', '去', '眼', '迎', '接', '该', '你', '的', '[SEP]', '[PAD]']\n",
      "add_label_ids: ['[PAD]', '[PAD]', '[PAD]', '[PAD]', '应', '[PAD]', '[PAD]', '[PAD]', '[PAD]', '[PAD]']\n",
      "rep_label_ids: ['[PAD]', '[PAD]', '[Soft Prompt]', '[PAD]', '[PAD]', '[PAD]', '[PAD]', '[PAD]', '[PAD]', '[PAD]']\n",
      "\n",
      "input_tokens: ['[CLS]', '更', '好', '的', '明', '[SEP]', '[PAD]', '[PAD]', '[PAD]', '[PAD]']\n",
      "add_label_ids: ['[PAD]', '[PAD]', '[PAD]', '[PAD]', '天', '[PAD]', '[PAD]', '[PAD]', '[PAD]', '[PAD]']\n",
      "rep_label_ids: ['[PAD]', '[PAD]', '[PAD]', '[PAD]', '[PAD]', '[PAD]', '[PAD]', '[PAD]', '[PAD]', '[PAD]']\n",
      "\n",
      "input_tokens: ['[CLS]', '他', '想', '想', '那', '是', '何', '谁', '[SEP]', '[PAD]']\n",
      "add_label_ids: ['[PAD]', '[PAD]', '知', '[PAD]', '[PAD]', '[PAD]', '[PAD]', '[PAD]', '[PAD]', '[PAD]']\n",
      "rep_label_ids: ['[PAD]', '[PAD]', '[PAD]', '道', '[PAD]', '[PAD]', '[Soft Prompt]', '[PAD]', '[PAD]', '[PAD]']\n",
      "\n",
      "input_tokens: ['[CLS]', '何', '总', '沉', '的', '默', '寡', '言', '[SEP]', '[PAD]']\n",
      "add_label_ids: ['为', '[PAD]', '[PAD]', '[PAD]', '[PAD]', '[PAD]', '[PAD]', '[PAD]', '[PAD]', '[PAD]']\n",
      "rep_label_ids: ['[PAD]', '[PAD]', '[PAD]', '[PAD]', '[Soft Prompt]', '[PAD]', '[PAD]', '[PAD]', '[PAD]', '[PAD]']\n",
      "\n",
      "input_tokens: ['[CLS]', '人', '群', '中', '也', '算', '抢', '眼', '[SEP]', '[PAD]']\n",
      "add_label_ids: ['[PAD]', '[PAD]', '[PAD]', '[PAD]', '[PAD]', '[PAD]', '[PAD]', '[PAD]', '[PAD]', '[PAD]']\n",
      "rep_label_ids: ['[PAD]', '[PAD]', '[PAD]', '[PAD]', '[PAD]', '[PAD]', '[PAD]', '[PAD]', '[PAD]', '[PAD]']\n",
      "\n",
      "input_tokens: ['[CLS]', '抢', '眼', '的', '孤', '独', '免', '[SEP]', '[PAD]', '[PAD]']\n",
      "add_label_ids: ['[PAD]', '[PAD]', '[PAD]', '[PAD]', '[PAD]', '难', '[PAD]', '[PAD]', '[PAD]', '[PAD]']\n",
      "rep_label_ids: ['[PAD]', '[PAD]', '[PAD]', '[PAD]', '[PAD]', '[PAD]', '[PAD]', '[PAD]', '[PAD]', '[PAD]']\n",
      "\n"
     ]
    }
   ],
   "source": [
    "X = [\"天亮以前说再见\", \"笑着泪流满面\", \"去迎接应该你的\", \"更好的明天\", \"他想知道那是谁\", \"为何总沉默寡言\", \"人群中也算抢眼\", \"抢眼的孤独难免\"]\n",
    "data = model.convert(X, is_training=True)\n",
    "for i in range(len(data[\"input_ids\"])):\n",
    "    print(\"input_tokens: %s\" % (model.tokenizer.convert_ids_to_tokens(data[\"input_ids\"][i])))\n",
    "    print(\"add_label_ids: %s\" % (model.tokenizer.convert_ids_to_tokens(data[\"add_label_ids\"][i])))\n",
    "    print(\"rep_label_ids: %s\" % (model.tokenizer.convert_ids_to_tokens(data[\"rep_label_ids\"][i])))\n",
    "    print(\"\")\n"
   ]
  }
 ],
 "metadata": {
  "kernelspec": {
   "display_name": "Python 3.8.2 64-bit",
   "language": "python",
   "name": "python3"
  },
  "language_info": {
   "codemirror_mode": {
    "name": "ipython",
    "version": 3
   },
   "file_extension": ".py",
   "mimetype": "text/x-python",
   "name": "python",
   "nbconvert_exporter": "python",
   "pygments_lexer": "ipython3",
   "version": "3.8.2"
  },
  "vscode": {
   "interpreter": {
    "hash": "31f2aee4e71d21fbe5cf8b01ff0e069b9275f58929596ceb00d14d90e3e16cd6"
   }
  }
 },
 "nbformat": 4,
 "nbformat_minor": 5
}
