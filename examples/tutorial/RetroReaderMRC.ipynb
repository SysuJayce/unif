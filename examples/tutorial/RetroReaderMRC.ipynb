{
 "cells": [
  {
   "cell_type": "code",
   "execution_count": 1,
   "id": "rotary-academy",
   "metadata": {},
   "outputs": [
    {
     "name": "stdout",
     "output_type": "stream",
     "text": [
      "beta v2.8.0\n"
     ]
    }
   ],
   "source": [
    "import uf\n",
    "\n",
    "print(uf.__version__)"
   ]
  },
  {
   "cell_type": "code",
   "execution_count": 2,
   "id": "velvet-symbol",
   "metadata": {},
   "outputs": [
    {
     "name": "stdout",
     "output_type": "stream",
     "text": [
      "uf.RetroReaderMRC(config_file='../demo/bert_config.json', vocab_file='../demo/vocab.txt', max_seq_length=256, init_checkpoint=None, output_dir=None, gpu_ids=None, do_lower_case=True, reading_module='bert', matching_mechanism='cross-attention', beta_1=0.5, beta_2=0.5, threshold=1.0, truncate_method='longer-FO')\n"
     ]
    }
   ],
   "source": [
    "model = uf.RetroReaderMRC('../../demo/bert_config.json', '../../demo/vocab.txt')\n",
    "print(model)"
   ]
  },
  {
   "cell_type": "code",
   "execution_count": 3,
   "id": "drawn-breathing",
   "metadata": {},
   "outputs": [],
   "source": [
    "X = [{'doc': '天亮以前说再见，笑着泪流满面。去迎接应该你的，更好的明天', 'ques': '何时说的再见'}, \n",
    "     {'doc': '他想知道那是谁，为何总沉默寡言。人群中也算抢眼，抢眼的孤独难免', 'ques': '抢眼的如何'}]\n",
    "y = [{'text': '天亮以前', 'answer_start': 0}, {'text': '孤独难免', 'answer_start': 27}]"
   ]
  },
  {
   "cell_type": "markdown",
   "id": "vanilla-fault",
   "metadata": {},
   "source": [
    "# 训练"
   ]
  },
  {
   "cell_type": "code",
   "execution_count": 4,
   "id": "excellent-religion",
   "metadata": {},
   "outputs": [
    {
     "name": "stdout",
     "output_type": "stream",
     "text": [
      "WARNING:tensorflow:From /Users/geyingli/Library/Python/3.8/lib/python/site-packages/tensorflow/python/util/dispatch.py:201: calling dropout (from tensorflow.python.ops.nn_ops) with keep_prob is deprecated and will be removed in a future version.\n",
      "Instructions for updating:\n",
      "Please use `rate` instead of `keep_prob`. Rate should be set to `rate = 1 - keep_prob`.\n"
     ]
    },
    {
     "name": "stderr",
     "output_type": "stream",
     "text": [
      "/Users/geyingli/Library/Python/3.8/lib/python/site-packages/tensorflow/python/keras/legacy_tf_layers/core.py:171: UserWarning: `tf.layers.dense` is deprecated and will be removed in a future version. Please use `tf.keras.layers.Dense` instead.\n",
      "  warnings.warn('`tf.layers.dense` is deprecated and '\n",
      "/Users/geyingli/Library/Python/3.8/lib/python/site-packages/tensorflow/python/keras/engine/base_layer_v1.py:1719: UserWarning: `layer.apply` is deprecated and will be removed in a future version. Please use `layer.__call__` method instead.\n",
      "  warnings.warn('`layer.apply` is deprecated and '\n"
     ]
    },
    {
     "name": "stdout",
     "output_type": "stream",
     "text": [
      "INFO:tensorflow:Build graph with 312,127,500 parameters (among which 104,042,500 are trainable)\n",
      "INFO:tensorflow:Running local_init_op\n",
      "INFO:tensorflow:Done running local_init_op\n",
      "INFO:tensorflow:Running training on 2 samples (step 0 -> 20)\n",
      "INFO:tensorflow:step 1, has_ans_accuracy 0.0000, exact_match 0.0000, f1 0.0000, sketchy_loss 0.736048, intensive_loss 5.583553, 0.13 steps/sec, 0.26 examples/sec\n",
      "INFO:tensorflow:step 2, has_ans_accuracy 0.0000, exact_match 0.0000, f1 0.0000, sketchy_loss 0.679279, intensive_loss 5.534643, 0.33 steps/sec, 0.65 examples/sec\n",
      "INFO:tensorflow:step 3, has_ans_accuracy 0.5000, exact_match 0.0000, f1 0.0000, sketchy_loss 0.121095, intensive_loss 5.583845, 0.37 steps/sec, 0.74 examples/sec\n",
      "INFO:tensorflow:step 4, has_ans_accuracy 1.0000, exact_match 0.0000, f1 0.0000, sketchy_loss 0.013058, intensive_loss 5.552044, 0.37 steps/sec, 0.74 examples/sec\n",
      "INFO:tensorflow:step 5, has_ans_accuracy 1.0000, exact_match 0.0000, f1 0.0645, sketchy_loss 0.007224, intensive_loss 5.539457, 0.40 steps/sec, 0.79 examples/sec\n",
      "INFO:tensorflow:step 6, has_ans_accuracy 1.0000, exact_match 0.0000, f1 0.0000, sketchy_loss 0.005382, intensive_loss 5.528413, 0.39 steps/sec, 0.78 examples/sec\n",
      "INFO:tensorflow:step 7, has_ans_accuracy 1.0000, exact_match 0.0000, f1 0.0000, sketchy_loss 0.004957, intensive_loss 5.452639, 0.37 steps/sec, 0.75 examples/sec\n",
      "INFO:tensorflow:step 8, has_ans_accuracy 1.0000, exact_match 0.0000, f1 0.0270, sketchy_loss 0.005699, intensive_loss 5.491508, 0.39 steps/sec, 0.77 examples/sec\n",
      "INFO:tensorflow:step 9, has_ans_accuracy 1.0000, exact_match 0.0000, f1 0.0000, sketchy_loss 0.007045, intensive_loss 5.533895, 0.40 steps/sec, 0.79 examples/sec\n",
      "INFO:tensorflow:step 10, has_ans_accuracy 1.0000, exact_match 0.0000, f1 0.0000, sketchy_loss 0.008076, intensive_loss 5.599235, 0.38 steps/sec, 0.76 examples/sec\n",
      "INFO:tensorflow:step 11, has_ans_accuracy 1.0000, exact_match 0.0000, f1 0.4000, sketchy_loss 0.008186, intensive_loss 5.462115, 0.34 steps/sec, 0.69 examples/sec\n",
      "INFO:tensorflow:step 12, has_ans_accuracy 1.0000, exact_match 0.0000, f1 0.0000, sketchy_loss 0.010686, intensive_loss 5.473954, 0.38 steps/sec, 0.76 examples/sec\n",
      "INFO:tensorflow:step 13, has_ans_accuracy 1.0000, exact_match 0.0000, f1 0.0000, sketchy_loss 0.008448, intensive_loss 5.469181, 0.40 steps/sec, 0.79 examples/sec\n",
      "INFO:tensorflow:step 14, has_ans_accuracy 1.0000, exact_match 0.0000, f1 0.0000, sketchy_loss 0.009816, intensive_loss 5.456512, 0.37 steps/sec, 0.73 examples/sec\n",
      "INFO:tensorflow:step 15, has_ans_accuracy 1.0000, exact_match 0.0000, f1 0.0000, sketchy_loss 0.009722, intensive_loss 5.527182, 0.40 steps/sec, 0.80 examples/sec\n",
      "INFO:tensorflow:step 16, has_ans_accuracy 1.0000, exact_match 0.0000, f1 0.0000, sketchy_loss 0.008043, intensive_loss 5.383353, 0.38 steps/sec, 0.77 examples/sec\n",
      "INFO:tensorflow:step 17, has_ans_accuracy 1.0000, exact_match 0.0000, f1 0.0385, sketchy_loss 0.007172, intensive_loss 5.350290, 0.34 steps/sec, 0.68 examples/sec\n",
      "INFO:tensorflow:step 18, has_ans_accuracy 1.0000, exact_match 0.0000, f1 0.0000, sketchy_loss 0.008055, intensive_loss 5.262360, 0.34 steps/sec, 0.67 examples/sec\n",
      "INFO:tensorflow:step 19, has_ans_accuracy 1.0000, exact_match 0.0000, f1 0.0000, sketchy_loss 0.007847, intensive_loss 5.187262, 0.38 steps/sec, 0.76 examples/sec\n",
      "INFO:tensorflow:step 20, has_ans_accuracy 1.0000, exact_match 0.0000, f1 0.0000, sketchy_loss 0.006108, intensive_loss 5.242602, 0.36 steps/sec, 0.72 examples/sec\n"
     ]
    }
   ],
   "source": [
    "model.fit(X, y, total_steps=20)"
   ]
  },
  {
   "cell_type": "markdown",
   "id": "overhead-anderson",
   "metadata": {},
   "source": [
    "注：`beta_1`和`beta_2`的取值，决定了sketchy_loss和intensive_loss的下降次序。需要根据收敛情况，回到第[2]步详细地调参"
   ]
  },
  {
   "cell_type": "markdown",
   "id": "fallen-hundred",
   "metadata": {},
   "source": [
    "# 推理"
   ]
  },
  {
   "cell_type": "code",
   "execution_count": 5,
   "id": "opposite-pantyhose",
   "metadata": {},
   "outputs": [
    {
     "name": "stdout",
     "output_type": "stream",
     "text": [
      "INFO:tensorflow:Time usage 0m-1.51s, 0.66 steps/sec, 1.32 examples/sec\n"
     ]
    },
    {
     "data": {
      "text/plain": [
       "{'verifier_probs': array([2.5815384, 2.56816  ], dtype=float32),\n",
       " 'verifier_preds': array([1, 1], dtype=int32),\n",
       " 'mrc_probs': array([[[0.0039794 , 0.00399178, 0.00437709, ..., 0.00392579,\n",
       "          0.00346404, 0.00351713],\n",
       "         [0.00412984, 0.00409236, 0.00392221, ..., 0.00382781,\n",
       "          0.00358692, 0.00383626]],\n",
       " \n",
       "        [[0.00436568, 0.00362753, 0.00390127, ..., 0.00372013,\n",
       "          0.00373149, 0.00369974],\n",
       "         [0.00380523, 0.00468404, 0.00400915, ..., 0.00377991,\n",
       "          0.00422692, 0.0035972 ]]], dtype=float32),\n",
       " 'mrc_preds': [None, None]}"
      ]
     },
     "execution_count": 5,
     "metadata": {},
     "output_type": "execute_result"
    }
   ],
   "source": [
    "model.predict(X)"
   ]
  },
  {
   "cell_type": "markdown",
   "id": "fundamental-poverty",
   "metadata": {},
   "source": [
    "# 评分"
   ]
  },
  {
   "cell_type": "code",
   "execution_count": 6,
   "id": "accessory-lesbian",
   "metadata": {},
   "outputs": [
    {
     "name": "stdout",
     "output_type": "stream",
     "text": [
      "INFO:tensorflow:Time usage 0m-1.24s, 0.80 steps/sec, 1.61 examples/sec\n"
     ]
    },
    {
     "data": {
      "text/plain": [
       "{'has_ans_accuracy': 1.0,\n",
       " 'exact_match': 0.0,\n",
       " 'f1': 0.0,\n",
       " 'sketchy_loss': 0.0058091474,\n",
       " 'intensive_loss': 5.171838}"
      ]
     },
     "execution_count": 6,
     "metadata": {},
     "output_type": "execute_result"
    }
   ],
   "source": [
    "model.score(X, y)"
   ]
  }
 ],
 "metadata": {
  "kernelspec": {
   "display_name": "Python 3",
   "language": "python",
   "name": "python3"
  },
  "language_info": {
   "codemirror_mode": {
    "name": "ipython",
    "version": 3
   },
   "file_extension": ".py",
   "mimetype": "text/x-python",
   "name": "python",
   "nbconvert_exporter": "python",
   "pygments_lexer": "ipython3",
   "version": "3.8.2"
  }
 },
 "nbformat": 4,
 "nbformat_minor": 5
}
