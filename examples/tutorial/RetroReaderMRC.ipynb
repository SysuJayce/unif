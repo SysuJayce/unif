{
 "cells": [
  {
   "cell_type": "code",
   "execution_count": 1,
   "id": "rotary-academy",
   "metadata": {},
   "outputs": [
    {
     "name": "stdout",
     "output_type": "stream",
     "text": [
      "v2.3.2\n"
     ]
    }
   ],
   "source": [
    "import uf\n",
    "\n",
    "print(uf.__version__)"
   ]
  },
  {
   "cell_type": "code",
   "execution_count": 2,
   "id": "velvet-symbol",
   "metadata": {},
   "outputs": [
    {
     "name": "stdout",
     "output_type": "stream",
     "text": [
      "uf.RetroReaderMRC(config_file=\"../../demo/bert_config.json\", vocab_file=\"../../demo/vocab.txt\", max_seq_length=256, init_checkpoint=None, output_dir=None, gpu_ids=None, do_lower_case=True, reading_module=\"bert\", matching_mechanism=\"cross-attention\", beta_1=0.5, beta_2=0.5, threshold=1.0, truncate_method=\"longer-FO\")\n"
     ]
    }
   ],
   "source": [
    "model = uf.RetroReaderMRC('../../demo/bert_config.json', '../../demo/vocab.txt')\n",
    "print(model)"
   ]
  },
  {
   "cell_type": "code",
   "execution_count": 3,
   "id": "drawn-breathing",
   "metadata": {},
   "outputs": [],
   "source": [
    "X = [{'doc': '天亮以前说再见，笑着泪流满面。去迎接应该你的，更好的明天', 'ques': '何时说的再见'}, \n",
    "     {'doc': '他想知道那是谁，为何总沉默寡言。人群中也算抢眼，抢眼的孤独难免', 'ques': '抢眼的如何'}]\n",
    "y = [{'text': '天亮以前', 'answer_start': 0}, {'text': '孤独难免', 'answer_start': 27}]"
   ]
  },
  {
   "cell_type": "markdown",
   "id": "vanilla-fault",
   "metadata": {},
   "source": [
    "# 训练"
   ]
  },
  {
   "cell_type": "code",
   "execution_count": 4,
   "id": "excellent-religion",
   "metadata": {},
   "outputs": [
    {
     "name": "stdout",
     "output_type": "stream",
     "text": [
      "WARNING:tensorflow:From /Users/geyingli/Library/Python/3.8/lib/python/site-packages/tensorflow/python/util/dispatch.py:1096: calling dropout (from tensorflow.python.ops.nn_ops) with keep_prob is deprecated and will be removed in a future version.\n",
      "Instructions for updating:\n",
      "Please use `rate` instead of `keep_prob`. Rate should be set to `rate = 1 - keep_prob`.\n"
     ]
    },
    {
     "name": "stderr",
     "output_type": "stream",
     "text": [
      "/Users/geyingli/Library/Python/3.8/lib/python/site-packages/uf-2.3.2-py3.8.egg/uf/modeling/bert.py:282: UserWarning: `tf.layers.dense` is deprecated and will be removed in a future version. Please use `tf.keras.layers.Dense` instead.\n",
      "  query_layer = tf.layers.dense(\n",
      "/Users/geyingli/Library/Python/3.8/lib/python/site-packages/keras/legacy_tf_layers/core.py:255: UserWarning: `layer.apply` is deprecated and will be removed in a future version. Please use `layer.__call__` method instead.\n",
      "  return layer.apply(inputs)\n",
      "/Users/geyingli/Library/Python/3.8/lib/python/site-packages/uf-2.3.2-py3.8.egg/uf/modeling/bert.py:291: UserWarning: `tf.layers.dense` is deprecated and will be removed in a future version. Please use `tf.keras.layers.Dense` instead.\n",
      "  key_layer = tf.layers.dense(\n",
      "/Users/geyingli/Library/Python/3.8/lib/python/site-packages/uf-2.3.2-py3.8.egg/uf/modeling/bert.py:300: UserWarning: `tf.layers.dense` is deprecated and will be removed in a future version. Please use `tf.keras.layers.Dense` instead.\n",
      "  value_layer = tf.layers.dense(\n",
      "/Users/geyingli/Library/Python/3.8/lib/python/site-packages/uf-2.3.2-py3.8.egg/uf/modeling/bert.py:430: UserWarning: `tf.layers.dense` is deprecated and will be removed in a future version. Please use `tf.keras.layers.Dense` instead.\n",
      "  attention_output = tf.layers.dense(\n",
      "/Users/geyingli/Library/Python/3.8/lib/python/site-packages/uf-2.3.2-py3.8.egg/uf/modeling/bert.py:445: UserWarning: `tf.layers.dense` is deprecated and will be removed in a future version. Please use `tf.keras.layers.Dense` instead.\n",
      "  intermediate_output = tf.layers.dense(\n",
      "/Users/geyingli/Library/Python/3.8/lib/python/site-packages/uf-2.3.2-py3.8.egg/uf/modeling/bert.py:455: UserWarning: `tf.layers.dense` is deprecated and will be removed in a future version. Please use `tf.keras.layers.Dense` instead.\n",
      "  layer_output = tf.layers.dense(\n",
      "/Users/geyingli/Library/Python/3.8/lib/python/site-packages/uf-2.3.2-py3.8.egg/uf/modeling/bert.py:107: UserWarning: `tf.layers.dense` is deprecated and will be removed in a future version. Please use `tf.keras.layers.Dense` instead.\n",
      "  self.pooled_output = tf.layers.dense(\n",
      "/Users/geyingli/Library/Python/3.8/lib/python/site-packages/uf-2.3.2-py3.8.egg/uf/modeling/retro_reader.py:236: UserWarning: `tf.layers.dense` is deprecated and will be removed in a future version. Please use `tf.keras.layers.Dense` instead.\n",
      "  query_layer = tf.layers.dense(\n",
      "/Users/geyingli/Library/Python/3.8/lib/python/site-packages/uf-2.3.2-py3.8.egg/uf/modeling/retro_reader.py:245: UserWarning: `tf.layers.dense` is deprecated and will be removed in a future version. Please use `tf.keras.layers.Dense` instead.\n",
      "  key_layer = tf.layers.dense(\n",
      "/Users/geyingli/Library/Python/3.8/lib/python/site-packages/uf-2.3.2-py3.8.egg/uf/modeling/retro_reader.py:254: UserWarning: `tf.layers.dense` is deprecated and will be removed in a future version. Please use `tf.keras.layers.Dense` instead.\n",
      "  value_layer = tf.layers.dense(\n"
     ]
    },
    {
     "name": "stdout",
     "output_type": "stream",
     "text": [
      "INFO:tensorflow:Build graph with 312,127,500 parameters (among which 104,042,500 are trainable)\n",
      "INFO:tensorflow:Running local_init_op\n",
      "INFO:tensorflow:Done running local_init_op\n",
      "INFO:tensorflow:Running training on 2 samples (step 0 -> 20)\n",
      "INFO:tensorflow:step 1, has_ans_accuracy 0.0000, exact_match 0.0000, f1 0.0000, sketchy_loss 0.701807, intensive_loss 5.526422, 0.02 steps/sec, 0.03 examples/sec\n",
      "INFO:tensorflow:step 2, has_ans_accuracy 0.0000, exact_match 0.0000, f1 0.0000, sketchy_loss 0.706936, intensive_loss 5.595869, 0.05 steps/sec, 0.09 examples/sec\n",
      "INFO:tensorflow:step 3, has_ans_accuracy 1.0000, exact_match 0.0000, f1 0.0000, sketchy_loss 0.092941, intensive_loss 5.530041, 0.04 steps/sec, 0.07 examples/sec\n",
      "INFO:tensorflow:step 4, has_ans_accuracy 1.0000, exact_match 0.0000, f1 0.0000, sketchy_loss 0.010088, intensive_loss 5.519091, 0.05 steps/sec, 0.11 examples/sec\n",
      "INFO:tensorflow:step 5, has_ans_accuracy 1.0000, exact_match 0.0000, f1 0.0000, sketchy_loss 0.003898, intensive_loss 5.513075, 0.10 steps/sec, 0.19 examples/sec\n",
      "INFO:tensorflow:step 6, has_ans_accuracy 1.0000, exact_match 0.0000, f1 0.0000, sketchy_loss 0.005039, intensive_loss 5.488166, 0.10 steps/sec, 0.19 examples/sec\n",
      "INFO:tensorflow:step 7, has_ans_accuracy 1.0000, exact_match 0.0000, f1 0.0000, sketchy_loss 0.005582, intensive_loss 5.520963, 0.11 steps/sec, 0.23 examples/sec\n",
      "INFO:tensorflow:step 8, has_ans_accuracy 1.0000, exact_match 0.0000, f1 0.0000, sketchy_loss 0.004388, intensive_loss 5.555287, 0.13 steps/sec, 0.26 examples/sec\n",
      "INFO:tensorflow:step 9, has_ans_accuracy 1.0000, exact_match 0.0000, f1 0.0165, sketchy_loss 0.005169, intensive_loss 5.461733, 0.14 steps/sec, 0.29 examples/sec\n",
      "INFO:tensorflow:step 10, has_ans_accuracy 1.0000, exact_match 0.0000, f1 0.0000, sketchy_loss 0.005803, intensive_loss 5.540159, 0.14 steps/sec, 0.27 examples/sec\n",
      "INFO:tensorflow:step 11, has_ans_accuracy 1.0000, exact_match 0.0000, f1 0.0163, sketchy_loss 0.005066, intensive_loss 5.508232, 0.10 steps/sec, 0.19 examples/sec\n",
      "INFO:tensorflow:step 12, has_ans_accuracy 1.0000, exact_match 0.0000, f1 0.0209, sketchy_loss 0.005785, intensive_loss 5.394350, 0.14 steps/sec, 0.29 examples/sec\n",
      "INFO:tensorflow:step 13, has_ans_accuracy 1.0000, exact_match 0.0000, f1 0.0000, sketchy_loss 0.005073, intensive_loss 5.388829, 0.19 steps/sec, 0.39 examples/sec\n",
      "INFO:tensorflow:step 14, has_ans_accuracy 1.0000, exact_match 0.0000, f1 0.0000, sketchy_loss 0.004844, intensive_loss 5.340983, 0.21 steps/sec, 0.43 examples/sec\n",
      "INFO:tensorflow:step 15, has_ans_accuracy 1.0000, exact_match 0.0000, f1 0.0000, sketchy_loss 0.004800, intensive_loss 5.231327, 0.22 steps/sec, 0.43 examples/sec\n",
      "INFO:tensorflow:step 16, has_ans_accuracy 1.0000, exact_match 0.0000, f1 0.4000, sketchy_loss 0.004814, intensive_loss 4.996664, 0.22 steps/sec, 0.44 examples/sec\n",
      "INFO:tensorflow:step 17, has_ans_accuracy 1.0000, exact_match 0.0000, f1 0.4500, sketchy_loss 0.004354, intensive_loss 4.983919, 0.34 steps/sec, 0.68 examples/sec\n",
      "INFO:tensorflow:step 18, has_ans_accuracy 1.0000, exact_match 0.0000, f1 0.5865, sketchy_loss 0.003566, intensive_loss 4.790420, 0.35 steps/sec, 0.70 examples/sec\n",
      "INFO:tensorflow:step 19, has_ans_accuracy 1.0000, exact_match 0.0000, f1 0.2000, sketchy_loss 0.004063, intensive_loss 4.528226, 0.34 steps/sec, 0.68 examples/sec\n",
      "INFO:tensorflow:step 20, has_ans_accuracy 1.0000, exact_match 0.0000, f1 0.2540, sketchy_loss 0.004396, intensive_loss 4.347873, 0.33 steps/sec, 0.67 examples/sec\n"
     ]
    }
   ],
   "source": [
    "model.fit(X, y, total_steps=20)"
   ]
  },
  {
   "cell_type": "markdown",
   "id": "overhead-anderson",
   "metadata": {},
   "source": [
    "注：`beta_1`和`beta_2`的取值，决定了sketchy_loss和intensive_loss的下降次序。需要根据收敛情况，回到第[2]步详细地调参"
   ]
  },
  {
   "cell_type": "markdown",
   "id": "fallen-hundred",
   "metadata": {},
   "source": [
    "# 推理"
   ]
  },
  {
   "cell_type": "code",
   "execution_count": 5,
   "id": "opposite-pantyhose",
   "metadata": {},
   "outputs": [
    {
     "name": "stdout",
     "output_type": "stream",
     "text": [
      "INFO:tensorflow:Time usage 0m-1.95s, 0.51 steps/sec, 1.03 examples/sec\n"
     ]
    },
    {
     "data": {
      "text/plain": [
       "{'verifier_probs': array([2.892599 , 2.8879416], dtype=float32),\n",
       " 'verifier_preds': array([1, 1], dtype=int32),\n",
       " 'mrc_probs': array([[[0.0033781 , 0.00491009, 0.00394879, ..., 0.0024605 ,\n",
       "          0.00267939, 0.00264254],\n",
       "         [0.00411586, 0.00463765, 0.00400192, ..., 0.00290135,\n",
       "          0.00292536, 0.00253176]],\n",
       " \n",
       "        [[0.00365538, 0.00424235, 0.00438123, ..., 0.00280215,\n",
       "          0.00265787, 0.00251375],\n",
       "         [0.00297162, 0.00390798, 0.00435608, ..., 0.00242297,\n",
       "          0.00246527, 0.00279215]]], dtype=float32),\n",
       " 'mrc_preds': ['天亮以前', '免']}"
      ]
     },
     "execution_count": 5,
     "metadata": {},
     "output_type": "execute_result"
    }
   ],
   "source": [
    "model.predict(X)"
   ]
  },
  {
   "cell_type": "markdown",
   "id": "fundamental-poverty",
   "metadata": {},
   "source": [
    "# 评分"
   ]
  },
  {
   "cell_type": "code",
   "execution_count": 6,
   "id": "accessory-lesbian",
   "metadata": {},
   "outputs": [
    {
     "name": "stdout",
     "output_type": "stream",
     "text": [
      "INFO:tensorflow:Time usage 0m-1.25s, 0.80 steps/sec, 1.60 examples/sec\n"
     ]
    },
    {
     "data": {
      "text/plain": [
       "{'has_ans_accuracy': 1.0,\n",
       " 'exact_match': 0.5,\n",
       " 'f1': 0.49999962500015627,\n",
       " 'sketchy_loss': 0.0031589982,\n",
       " 'intensive_loss': 4.109917}"
      ]
     },
     "execution_count": 6,
     "metadata": {},
     "output_type": "execute_result"
    }
   ],
   "source": [
    "model.score(X, y)"
   ]
  }
 ],
 "metadata": {
  "kernelspec": {
   "display_name": "Python 3",
   "language": "python",
   "name": "python3"
  },
  "language_info": {
   "codemirror_mode": {
    "name": "ipython",
    "version": 3
   },
   "file_extension": ".py",
   "mimetype": "text/x-python",
   "name": "python",
   "nbconvert_exporter": "python",
   "pygments_lexer": "ipython3",
   "version": "3.8.2"
  }
 },
 "nbformat": 4,
 "nbformat_minor": 5
}
