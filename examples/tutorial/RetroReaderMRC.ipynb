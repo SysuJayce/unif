{
 "cells": [
  {
   "cell_type": "markdown",
   "id": "different-metabolism",
   "metadata": {},
   "source": [
    "# RetroReaderMRC\n",
    "\n",
    "可用的中文预训练参数：[`bert-base`](https://storage.googleapis.com/bert_models/2018_11_03/chinese_L-12_H-768_A-12.zip),[`roberta-wwm-ext-base`](https://drive.google.com/uc?export=download&id=1jMAKIJmPn7kADgD3yQZhpsqM-IRM1qZt),[`roberta-wwm-ext-large`](https://drive.google.com/uc?export=download&id=1dtad0FFzG11CBsawu8hvwwzU2R0FDI94),[`macbert-base`](https://drive.google.com/uc?export=download&id=1aV69OhYzIwj_hn-kO1RiBa-m8QAusQ5b),[`macbert-large`](https://drive.google.com/uc?export=download&id=1lWYxnk1EqTA2Q20_IShxBrCPc5VSDCkT)"
   ]
  },
  {
   "cell_type": "code",
   "execution_count": 1,
   "id": "rotary-academy",
   "metadata": {},
   "outputs": [
    {
     "name": "stdout",
     "output_type": "stream",
     "text": [
      "v2.4.5\n"
     ]
    }
   ],
   "source": [
    "import uf\n",
    "\n",
    "print(uf.__version__)"
   ]
  },
  {
   "cell_type": "code",
   "execution_count": 2,
   "id": "velvet-symbol",
   "metadata": {},
   "outputs": [
    {
     "name": "stdout",
     "output_type": "stream",
     "text": [
      "uf.RetroReaderMRC(\n",
      "    config_file=\"../../demo/bert_config.json\",\n",
      "    vocab_file=\"../../demo/vocab.txt\",\n",
      "    max_seq_length=256,\n",
      "    init_checkpoint=None,\n",
      "    output_dir=None,\n",
      "    gpu_ids=None,\n",
      "    do_lower_case=True,\n",
      "    reading_module=\"bert\",\n",
      "    matching_mechanism=\"cross-attention\",\n",
      "    beta_1=0.5,\n",
      "    beta_2=0.5,\n",
      "    threshold=1.0,\n",
      "    truncate_method=\"longer-FO\",\n",
      ")\n"
     ]
    }
   ],
   "source": [
    "model = uf.RetroReaderMRC('../../demo/bert_config.json', '../../demo/vocab.txt')\n",
    "print(model)"
   ]
  },
  {
   "cell_type": "code",
   "execution_count": 3,
   "id": "drawn-breathing",
   "metadata": {},
   "outputs": [],
   "source": [
    "X = [{'doc': '天亮以前说再见，笑着泪流满面。去迎接应该你的，更好的明天', 'ques': '何时说的再见'}, \n",
    "     {'doc': '他想知道那是谁，为何总沉默寡言。人群中也算抢眼，抢眼的孤独难免', 'ques': '抢眼的如何'}]\n",
    "y = [{'text': '天亮以前', 'answer_start': 0}, {'text': '孤独难免', 'answer_start': 27}]"
   ]
  },
  {
   "cell_type": "markdown",
   "id": "vanilla-fault",
   "metadata": {},
   "source": [
    "# 训练"
   ]
  },
  {
   "cell_type": "code",
   "execution_count": 4,
   "id": "excellent-religion",
   "metadata": {},
   "outputs": [
    {
     "name": "stdout",
     "output_type": "stream",
     "text": [
      "WARNING:tensorflow:From /Users/geyingli/Library/Python/3.8/lib/python/site-packages/tensorflow/python/util/dispatch.py:1096: calling dropout (from tensorflow.python.ops.nn_ops) with keep_prob is deprecated and will be removed in a future version.\n",
      "Instructions for updating:\n",
      "Please use `rate` instead of `keep_prob`. Rate should be set to `rate = 1 - keep_prob`.\n"
     ]
    },
    {
     "name": "stderr",
     "output_type": "stream",
     "text": [
      "/Users/geyingli/Library/Python/3.8/lib/python/site-packages/uf-2.4.5-py3.8.egg/uf/model/bert.py:272: UserWarning: `tf.layers.dense` is deprecated and will be removed in a future version. Please use `tf.keras.layers.Dense` instead.\n",
      "  query_layer = tf.layers.dense(\n",
      "/Users/geyingli/Library/Python/3.8/lib/python/site-packages/keras/legacy_tf_layers/core.py:255: UserWarning: `layer.apply` is deprecated and will be removed in a future version. Please use `layer.__call__` method instead.\n",
      "  return layer.apply(inputs)\n",
      "/Users/geyingli/Library/Python/3.8/lib/python/site-packages/uf-2.4.5-py3.8.egg/uf/model/bert.py:282: UserWarning: `tf.layers.dense` is deprecated and will be removed in a future version. Please use `tf.keras.layers.Dense` instead.\n",
      "  key_layer = tf.layers.dense(\n",
      "/Users/geyingli/Library/Python/3.8/lib/python/site-packages/uf-2.4.5-py3.8.egg/uf/model/bert.py:292: UserWarning: `tf.layers.dense` is deprecated and will be removed in a future version. Please use `tf.keras.layers.Dense` instead.\n",
      "  value_layer = tf.layers.dense(\n",
      "/Users/geyingli/Library/Python/3.8/lib/python/site-packages/uf-2.4.5-py3.8.egg/uf/model/bert.py:416: UserWarning: `tf.layers.dense` is deprecated and will be removed in a future version. Please use `tf.keras.layers.Dense` instead.\n",
      "  attention_output = tf.layers.dense(\n",
      "/Users/geyingli/Library/Python/3.8/lib/python/site-packages/uf-2.4.5-py3.8.egg/uf/model/bert.py:428: UserWarning: `tf.layers.dense` is deprecated and will be removed in a future version. Please use `tf.keras.layers.Dense` instead.\n",
      "  intermediate_output = tf.layers.dense(\n",
      "/Users/geyingli/Library/Python/3.8/lib/python/site-packages/uf-2.4.5-py3.8.egg/uf/model/bert.py:438: UserWarning: `tf.layers.dense` is deprecated and will be removed in a future version. Please use `tf.keras.layers.Dense` instead.\n",
      "  layer_output = tf.layers.dense(\n",
      "/Users/geyingli/Library/Python/3.8/lib/python/site-packages/uf-2.4.5-py3.8.egg/uf/model/bert.py:107: UserWarning: `tf.layers.dense` is deprecated and will be removed in a future version. Please use `tf.keras.layers.Dense` instead.\n",
      "  self.pooled_output = tf.layers.dense(\n",
      "/Users/geyingli/Library/Python/3.8/lib/python/site-packages/uf-2.4.5-py3.8.egg/uf/model/retroreader.py:236: UserWarning: `tf.layers.dense` is deprecated and will be removed in a future version. Please use `tf.keras.layers.Dense` instead.\n",
      "  query_layer = tf.layers.dense(\n",
      "/Users/geyingli/Library/Python/3.8/lib/python/site-packages/uf-2.4.5-py3.8.egg/uf/model/retroreader.py:245: UserWarning: `tf.layers.dense` is deprecated and will be removed in a future version. Please use `tf.keras.layers.Dense` instead.\n",
      "  key_layer = tf.layers.dense(\n",
      "/Users/geyingli/Library/Python/3.8/lib/python/site-packages/uf-2.4.5-py3.8.egg/uf/model/retroreader.py:254: UserWarning: `tf.layers.dense` is deprecated and will be removed in a future version. Please use `tf.keras.layers.Dense` instead.\n",
      "  value_layer = tf.layers.dense(\n"
     ]
    },
    {
     "name": "stdout",
     "output_type": "stream",
     "text": [
      "INFO:tensorflow:Build graph with 312,127,500 parameters (among which 104,042,500 are trainable)\n",
      "INFO:tensorflow:Running local_init_op\n",
      "INFO:tensorflow:Done running local_init_op\n",
      "INFO:tensorflow:Running training on 2 samples (step 0 -> 20)\n",
      "INFO:tensorflow:step 1, has_ans_accuracy 0.0000, exact_match 0.0000, f1 0.0000, sketchy_loss 0.751806, intensive_loss 5.586307, 0.04 steps/sec, 0.08 examples/sec\n",
      "INFO:tensorflow:step 2, has_ans_accuracy 0.0000, exact_match 0.0000, f1 0.0000, sketchy_loss 0.874139, intensive_loss 5.503387, 0.20 steps/sec, 0.41 examples/sec\n",
      "INFO:tensorflow:step 3, has_ans_accuracy 0.5000, exact_match 0.0000, f1 0.0000, sketchy_loss 0.128718, intensive_loss 5.516007, 0.21 steps/sec, 0.42 examples/sec\n",
      "INFO:tensorflow:step 4, has_ans_accuracy 1.0000, exact_match 0.0000, f1 0.0000, sketchy_loss 0.015234, intensive_loss 5.487189, 0.24 steps/sec, 0.48 examples/sec\n",
      "INFO:tensorflow:step 5, has_ans_accuracy 1.0000, exact_match 0.0000, f1 0.0274, sketchy_loss 0.005343, intensive_loss 5.407871, 0.18 steps/sec, 0.36 examples/sec\n",
      "INFO:tensorflow:step 6, has_ans_accuracy 1.0000, exact_match 0.0000, f1 0.0000, sketchy_loss 0.004045, intensive_loss 5.469091, 0.16 steps/sec, 0.31 examples/sec\n",
      "INFO:tensorflow:step 7, has_ans_accuracy 1.0000, exact_match 0.0000, f1 0.0000, sketchy_loss 0.004921, intensive_loss 5.437384, 0.20 steps/sec, 0.41 examples/sec\n",
      "INFO:tensorflow:step 8, has_ans_accuracy 1.0000, exact_match 0.0000, f1 0.0000, sketchy_loss 0.004795, intensive_loss 5.494827, 0.24 steps/sec, 0.49 examples/sec\n",
      "INFO:tensorflow:step 9, has_ans_accuracy 1.0000, exact_match 0.0000, f1 0.0000, sketchy_loss 0.004116, intensive_loss 5.428706, 0.33 steps/sec, 0.66 examples/sec\n",
      "INFO:tensorflow:step 10, has_ans_accuracy 1.0000, exact_match 0.0000, f1 0.0930, sketchy_loss 0.006575, intensive_loss 5.565207, 0.35 steps/sec, 0.69 examples/sec\n",
      "INFO:tensorflow:step 11, has_ans_accuracy 1.0000, exact_match 0.0000, f1 0.0241, sketchy_loss 0.006123, intensive_loss 5.471442, 0.36 steps/sec, 0.73 examples/sec\n",
      "INFO:tensorflow:step 12, has_ans_accuracy 1.0000, exact_match 0.0000, f1 0.0000, sketchy_loss 0.004895, intensive_loss 5.490118, 0.37 steps/sec, 0.74 examples/sec\n",
      "INFO:tensorflow:step 13, has_ans_accuracy 1.0000, exact_match 0.0000, f1 0.0000, sketchy_loss 0.005541, intensive_loss 5.387341, 0.38 steps/sec, 0.76 examples/sec\n",
      "INFO:tensorflow:step 14, has_ans_accuracy 1.0000, exact_match 0.0000, f1 0.1600, sketchy_loss 0.004839, intensive_loss 5.400406, 0.35 steps/sec, 0.71 examples/sec\n",
      "INFO:tensorflow:step 15, has_ans_accuracy 1.0000, exact_match 0.0000, f1 0.3333, sketchy_loss 0.005531, intensive_loss 5.328686, 0.37 steps/sec, 0.74 examples/sec\n",
      "INFO:tensorflow:step 16, has_ans_accuracy 1.0000, exact_match 0.0000, f1 0.0000, sketchy_loss 0.005108, intensive_loss 5.188894, 0.33 steps/sec, 0.66 examples/sec\n",
      "INFO:tensorflow:step 17, has_ans_accuracy 1.0000, exact_match 0.0000, f1 0.0000, sketchy_loss 0.003737, intensive_loss 4.953694, 0.38 steps/sec, 0.75 examples/sec\n",
      "INFO:tensorflow:step 18, has_ans_accuracy 1.0000, exact_match 0.0000, f1 0.0000, sketchy_loss 0.003756, intensive_loss 4.850797, 0.38 steps/sec, 0.76 examples/sec\n",
      "INFO:tensorflow:step 19, has_ans_accuracy 1.0000, exact_match 0.0000, f1 0.2667, sketchy_loss 0.004182, intensive_loss 4.662252, 0.37 steps/sec, 0.75 examples/sec\n",
      "INFO:tensorflow:step 20, has_ans_accuracy 1.0000, exact_match 0.0000, f1 0.0357, sketchy_loss 0.003414, intensive_loss 4.600320, 0.37 steps/sec, 0.75 examples/sec\n"
     ]
    }
   ],
   "source": [
    "model.fit(X, y, total_steps=20)"
   ]
  },
  {
   "cell_type": "markdown",
   "id": "overhead-anderson",
   "metadata": {},
   "source": [
    "注：`beta_1`和`beta_2`的取值，决定了sketchy_loss和intensive_loss的下降次序。需要根据收敛情况，回到第[2]步详细地调参"
   ]
  },
  {
   "cell_type": "markdown",
   "id": "fallen-hundred",
   "metadata": {},
   "source": [
    "# 推理"
   ]
  },
  {
   "cell_type": "code",
   "execution_count": 5,
   "id": "opposite-pantyhose",
   "metadata": {},
   "outputs": [
    {
     "name": "stdout",
     "output_type": "stream",
     "text": [
      "INFO:tensorflow:Time usage 0m-1.93s, 0.52 steps/sec, 1.04 examples/sec\n"
     ]
    },
    {
     "data": {
      "text/plain": [
       "{'verifier_probs': array([2.964419, 2.944775], dtype=float32),\n",
       " 'verifier_preds': array([1, 1], dtype=int32),\n",
       " 'mrc_probs': array([[[0.00391124, 0.00552956, 0.00545779, ..., 0.00313314,\n",
       "          0.0024408 , 0.00318449],\n",
       "         [0.00412242, 0.00558457, 0.00615746, ..., 0.00277461,\n",
       "          0.00287526, 0.00309761]],\n",
       " \n",
       "        [[0.00394706, 0.00458949, 0.0056805 , ..., 0.00312845,\n",
       "          0.0030584 , 0.00280934],\n",
       "         [0.0040268 , 0.00410534, 0.00573779, ..., 0.00307305,\n",
       "          0.00344345, 0.00290215]]], dtype=float32),\n",
       " 'mrc_preds': ['天亮以前', '，抢眼的孤独难免']}"
      ]
     },
     "execution_count": 5,
     "metadata": {},
     "output_type": "execute_result"
    }
   ],
   "source": [
    "model.predict(X)"
   ]
  },
  {
   "cell_type": "markdown",
   "id": "fundamental-poverty",
   "metadata": {},
   "source": [
    "# 评分"
   ]
  },
  {
   "cell_type": "code",
   "execution_count": 6,
   "id": "accessory-lesbian",
   "metadata": {},
   "outputs": [
    {
     "name": "stdout",
     "output_type": "stream",
     "text": [
      "INFO:tensorflow:Time usage 0m-1.19s, 0.84 steps/sec, 1.67 examples/sec\n"
     ]
    },
    {
     "data": {
      "text/plain": [
       "{'has_ans_accuracy': 1.0,\n",
       " 'exact_match': 0.5,\n",
       " 'f1': 0.8076916723375778,\n",
       " 'sketchy_loss': 0.0027561898,\n",
       " 'intensive_loss': 4.384642}"
      ]
     },
     "execution_count": 6,
     "metadata": {},
     "output_type": "execute_result"
    }
   ],
   "source": [
    "model.score(X, y)"
   ]
  }
 ],
 "metadata": {
  "kernelspec": {
   "display_name": "Python 3",
   "language": "python",
   "name": "python3"
  },
  "language_info": {
   "codemirror_mode": {
    "name": "ipython",
    "version": 3
   },
   "file_extension": ".py",
   "mimetype": "text/x-python",
   "name": "python",
   "nbconvert_exporter": "python",
   "pygments_lexer": "ipython3",
   "version": "3.8.2"
  }
 },
 "nbformat": 4,
 "nbformat_minor": 5
}
