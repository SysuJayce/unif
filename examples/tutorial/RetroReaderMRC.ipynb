{
 "cells": [
  {
   "cell_type": "markdown",
   "id": "different-metabolism",
   "metadata": {},
   "source": [
    "# RetroReaderMRC\n",
    "\n",
    "可用的中文预训练参数：[`bert-base`](https://storage.googleapis.com/bert_models/2018_11_03/chinese_L-12_H-768_A-12.zip),[`roberta-wwm-ext-base`](https://drive.google.com/uc?export=download&id=1jMAKIJmPn7kADgD3yQZhpsqM-IRM1qZt),[`roberta-wwm-ext-large`](https://drive.google.com/uc?export=download&id=1dtad0FFzG11CBsawu8hvwwzU2R0FDI94),[`macbert-base`](https://drive.google.com/uc?export=download&id=1aV69OhYzIwj_hn-kO1RiBa-m8QAusQ5b),[`macbert-large`](https://drive.google.com/uc?export=download&id=1lWYxnk1EqTA2Q20_IShxBrCPc5VSDCkT)"
   ]
  },
  {
   "cell_type": "code",
   "execution_count": 1,
   "id": "rotary-academy",
   "metadata": {},
   "outputs": [
    {
     "name": "stdout",
     "output_type": "stream",
     "text": [
      "v2.5.0\n"
     ]
    }
   ],
   "source": [
    "import uf\n",
    "\n",
    "print(uf.__version__)"
   ]
  },
  {
   "cell_type": "code",
   "execution_count": 2,
   "id": "velvet-symbol",
   "metadata": {},
   "outputs": [
    {
     "name": "stdout",
     "output_type": "stream",
     "text": [
      "uf.RetroReaderMRC(\n",
      "    config_file=\"../../ref/bert_config.json\",\n",
      "    vocab_file=\"../../ref/vocab.txt\",\n",
      "    max_seq_length=256,\n",
      "    init_checkpoint=None,\n",
      "    output_dir=None,\n",
      "    gpu_ids=None,\n",
      "    do_lower_case=True,\n",
      "    matching_mechanism=\"cross-attention\",\n",
      "    beta_1=0.8,\n",
      "    beta_2=0.2,\n",
      "    threshold=1.0,\n",
      "    truncate_method=\"longer-FO\",\n",
      ")\n"
     ]
    }
   ],
   "source": [
    "model = uf.RetroReaderMRC(\n",
    "    \"../../ref/bert_config.json\", \"../../ref/vocab.txt\", \n",
    "    beta_1=0.8,\n",
    "    beta_2=0.2,     # `beta_1`和`beta_2`对两个loss的收敛影响较大，可能需要反复调整\n",
    ")      \n",
    "print(model)"
   ]
  },
  {
   "cell_type": "code",
   "execution_count": 3,
   "id": "drawn-breathing",
   "metadata": {},
   "outputs": [],
   "source": [
    "X = [{\"doc\": \"天亮以前说再见，笑着泪流满面。去迎接应该你的，更好的明天\", \"ques\": \"何时说的再见\"}, \n",
    "     {\"doc\": \"他想知道那是谁，为何总沉默寡言。人群中也算抢眼，抢眼的孤独难免\", \"ques\": \"抢眼的如何\"}]\n",
    "y = [{\"text\": \"天亮以前\", \"answer_start\": 0}, {\"text\": \"孤独难免\", \"answer_start\": 27}]"
   ]
  },
  {
   "cell_type": "markdown",
   "id": "vanilla-fault",
   "metadata": {},
   "source": [
    "# 训练"
   ]
  },
  {
   "cell_type": "code",
   "execution_count": 4,
   "id": "excellent-religion",
   "metadata": {},
   "outputs": [
    {
     "name": "stdout",
     "output_type": "stream",
     "text": [
      "WARNING:tensorflow:From c:\\Users\\Luv_d\\AppData\\Local\\Programs\\Python\\Python39\\lib\\site-packages\\tensorflow\\python\\util\\dispatch.py:1176: calling dropout (from tensorflow.python.ops.nn_ops) with keep_prob is deprecated and will be removed in a future version.\n",
      "Instructions for updating:\n",
      "Please use `rate` instead of `keep_prob`. Rate should be set to `rate = 1 - keep_prob`.\n"
     ]
    },
    {
     "name": "stderr",
     "output_type": "stream",
     "text": [
      "c:\\Users\\Luv_d\\AppData\\Local\\Programs\\Python\\Python39\\lib\\site-packages\\uf-2.5.0-py3.9.egg\\uf\\apps\\bert\\bert.py:272: UserWarning: `tf.layers.dense` is deprecated and will be removed in a future version. Please use `tf.keras.layers.Dense` instead.\n",
      "  query_layer = tf.layers.dense(\n",
      "c:\\Users\\Luv_d\\AppData\\Local\\Programs\\Python\\Python39\\lib\\site-packages\\uf-2.5.0-py3.9.egg\\uf\\apps\\bert\\bert.py:282: UserWarning: `tf.layers.dense` is deprecated and will be removed in a future version. Please use `tf.keras.layers.Dense` instead.\n",
      "  key_layer = tf.layers.dense(\n",
      "c:\\Users\\Luv_d\\AppData\\Local\\Programs\\Python\\Python39\\lib\\site-packages\\uf-2.5.0-py3.9.egg\\uf\\apps\\bert\\bert.py:292: UserWarning: `tf.layers.dense` is deprecated and will be removed in a future version. Please use `tf.keras.layers.Dense` instead.\n",
      "  value_layer = tf.layers.dense(\n",
      "c:\\Users\\Luv_d\\AppData\\Local\\Programs\\Python\\Python39\\lib\\site-packages\\uf-2.5.0-py3.9.egg\\uf\\apps\\bert\\bert.py:416: UserWarning: `tf.layers.dense` is deprecated and will be removed in a future version. Please use `tf.keras.layers.Dense` instead.\n",
      "  attention_output = tf.layers.dense(\n",
      "c:\\Users\\Luv_d\\AppData\\Local\\Programs\\Python\\Python39\\lib\\site-packages\\uf-2.5.0-py3.9.egg\\uf\\apps\\bert\\bert.py:428: UserWarning: `tf.layers.dense` is deprecated and will be removed in a future version. Please use `tf.keras.layers.Dense` instead.\n",
      "  intermediate_output = tf.layers.dense(\n",
      "c:\\Users\\Luv_d\\AppData\\Local\\Programs\\Python\\Python39\\lib\\site-packages\\uf-2.5.0-py3.9.egg\\uf\\apps\\bert\\bert.py:438: UserWarning: `tf.layers.dense` is deprecated and will be removed in a future version. Please use `tf.keras.layers.Dense` instead.\n",
      "  layer_output = tf.layers.dense(\n",
      "c:\\Users\\Luv_d\\AppData\\Local\\Programs\\Python\\Python39\\lib\\site-packages\\uf-2.5.0-py3.9.egg\\uf\\apps\\bert\\bert.py:107: UserWarning: `tf.layers.dense` is deprecated and will be removed in a future version. Please use `tf.keras.layers.Dense` instead.\n",
      "  self.pooled_output = tf.layers.dense(\n",
      "c:\\Users\\Luv_d\\AppData\\Local\\Programs\\Python\\Python39\\lib\\site-packages\\uf-2.5.0-py3.9.egg\\uf\\apps\\retroreader\\retroreader.py:236: UserWarning: `tf.layers.dense` is deprecated and will be removed in a future version. Please use `tf.keras.layers.Dense` instead.\n",
      "  query_layer = tf.layers.dense(\n",
      "c:\\Users\\Luv_d\\AppData\\Local\\Programs\\Python\\Python39\\lib\\site-packages\\uf-2.5.0-py3.9.egg\\uf\\apps\\retroreader\\retroreader.py:245: UserWarning: `tf.layers.dense` is deprecated and will be removed in a future version. Please use `tf.keras.layers.Dense` instead.\n",
      "  key_layer = tf.layers.dense(\n",
      "c:\\Users\\Luv_d\\AppData\\Local\\Programs\\Python\\Python39\\lib\\site-packages\\uf-2.5.0-py3.9.egg\\uf\\apps\\retroreader\\retroreader.py:254: UserWarning: `tf.layers.dense` is deprecated and will be removed in a future version. Please use `tf.keras.layers.Dense` instead.\n",
      "  value_layer = tf.layers.dense(\n"
     ]
    },
    {
     "name": "stdout",
     "output_type": "stream",
     "text": [
      "INFO:tensorflow:Build graph with 312,127,500 parameters (among which 104,042,500 are trainable)\n",
      "INFO:tensorflow:Running local_init_op\n",
      "INFO:tensorflow:Done running local_init_op\n",
      "INFO:tensorflow:Running training on 2 samples (step 0 -> 40)\n",
      "INFO:tensorflow:step 1, has_ans_accuracy 0.0000, exact_match 0.0000, f1 0.0000, sketchy_loss 0.681846, intensive_loss 5.547135, 0.20 steps/sec, 0.39 examples/sec\n",
      "INFO:tensorflow:step 2, has_ans_accuracy 0.0000, exact_match 0.0000, f1 0.0000, sketchy_loss 0.690804, intensive_loss 5.551907, 0.57 steps/sec, 1.14 examples/sec\n",
      "INFO:tensorflow:step 3, has_ans_accuracy 0.0000, exact_match 0.0000, f1 0.0000, sketchy_loss 0.265093, intensive_loss 5.569634, 0.54 steps/sec, 1.08 examples/sec\n",
      "INFO:tensorflow:step 4, has_ans_accuracy 0.0000, exact_match 0.0000, f1 0.0000, sketchy_loss 0.047101, intensive_loss 5.584367, 0.52 steps/sec, 1.05 examples/sec\n",
      "INFO:tensorflow:step 5, has_ans_accuracy 0.0000, exact_match 0.0000, f1 0.0000, sketchy_loss 0.007878, intensive_loss 5.479394, 0.51 steps/sec, 1.01 examples/sec\n",
      "INFO:tensorflow:step 6, has_ans_accuracy 1.0000, exact_match 0.0000, f1 0.0000, sketchy_loss 0.004674, intensive_loss 5.539937, 0.49 steps/sec, 0.98 examples/sec\n",
      "INFO:tensorflow:step 7, has_ans_accuracy 1.0000, exact_match 0.0000, f1 0.0000, sketchy_loss 0.005114, intensive_loss 5.613943, 0.54 steps/sec, 1.09 examples/sec\n",
      "INFO:tensorflow:step 8, has_ans_accuracy 1.0000, exact_match 0.0000, f1 0.0000, sketchy_loss 0.004125, intensive_loss 5.559160, 0.53 steps/sec, 1.07 examples/sec\n",
      "INFO:tensorflow:step 9, has_ans_accuracy 1.0000, exact_match 0.0000, f1 0.0000, sketchy_loss 0.005140, intensive_loss 5.457260, 0.51 steps/sec, 1.02 examples/sec\n",
      "INFO:tensorflow:step 10, has_ans_accuracy 1.0000, exact_match 0.0000, f1 0.0000, sketchy_loss 0.004538, intensive_loss 5.469516, 0.53 steps/sec, 1.06 examples/sec\n",
      "INFO:tensorflow:step 11, has_ans_accuracy 1.0000, exact_match 0.0000, f1 0.0000, sketchy_loss 0.005842, intensive_loss 5.277357, 0.56 steps/sec, 1.13 examples/sec\n",
      "INFO:tensorflow:step 12, has_ans_accuracy 1.0000, exact_match 0.0000, f1 0.1290, sketchy_loss 0.004710, intensive_loss 5.009049, 0.54 steps/sec, 1.09 examples/sec\n",
      "INFO:tensorflow:step 13, has_ans_accuracy 1.0000, exact_match 0.5000, f1 0.7000, sketchy_loss 0.004558, intensive_loss 4.508843, 0.55 steps/sec, 1.11 examples/sec\n",
      "INFO:tensorflow:step 14, has_ans_accuracy 1.0000, exact_match 0.0000, f1 0.2000, sketchy_loss 0.005893, intensive_loss 4.007348, 0.56 steps/sec, 1.13 examples/sec\n",
      "INFO:tensorflow:step 15, has_ans_accuracy 1.0000, exact_match 0.5000, f1 0.7000, sketchy_loss 0.004445, intensive_loss 3.586592, 0.58 steps/sec, 1.15 examples/sec\n",
      "INFO:tensorflow:step 16, has_ans_accuracy 1.0000, exact_match 0.0000, f1 0.0000, sketchy_loss 0.005330, intensive_loss 3.318597, 0.58 steps/sec, 1.17 examples/sec\n",
      "INFO:tensorflow:step 17, has_ans_accuracy 1.0000, exact_match 1.0000, f1 1.0000, sketchy_loss 0.005897, intensive_loss 2.849755, 0.58 steps/sec, 1.15 examples/sec\n",
      "INFO:tensorflow:step 18, has_ans_accuracy 1.0000, exact_match 1.0000, f1 1.0000, sketchy_loss 0.006926, intensive_loss 2.520973, 0.59 steps/sec, 1.17 examples/sec\n",
      "INFO:tensorflow:step 19, has_ans_accuracy 1.0000, exact_match 0.5000, f1 0.7000, sketchy_loss 0.006272, intensive_loss 1.924426, 0.59 steps/sec, 1.17 examples/sec\n",
      "INFO:tensorflow:step 20, has_ans_accuracy 1.0000, exact_match 0.5000, f1 0.7000, sketchy_loss 0.007744, intensive_loss 1.375251, 0.59 steps/sec, 1.17 examples/sec\n",
      "INFO:tensorflow:step 21, has_ans_accuracy 1.0000, exact_match 1.0000, f1 1.0000, sketchy_loss 0.009033, intensive_loss 0.877556, 0.58 steps/sec, 1.16 examples/sec\n",
      "INFO:tensorflow:step 22, has_ans_accuracy 1.0000, exact_match 1.0000, f1 1.0000, sketchy_loss 0.008735, intensive_loss 0.676011, 0.59 steps/sec, 1.17 examples/sec\n",
      "INFO:tensorflow:step 23, has_ans_accuracy 1.0000, exact_match 0.5000, f1 0.7000, sketchy_loss 0.008119, intensive_loss 0.758951, 0.59 steps/sec, 1.18 examples/sec\n",
      "INFO:tensorflow:step 24, has_ans_accuracy 1.0000, exact_match 1.0000, f1 1.0000, sketchy_loss 0.008948, intensive_loss 0.420300, 0.58 steps/sec, 1.16 examples/sec\n",
      "INFO:tensorflow:step 25, has_ans_accuracy 1.0000, exact_match 1.0000, f1 1.0000, sketchy_loss 0.010150, intensive_loss 0.266817, 0.58 steps/sec, 1.16 examples/sec\n",
      "INFO:tensorflow:step 26, has_ans_accuracy 1.0000, exact_match 1.0000, f1 1.0000, sketchy_loss 0.009616, intensive_loss 0.306543, 0.57 steps/sec, 1.14 examples/sec\n",
      "INFO:tensorflow:step 27, has_ans_accuracy 1.0000, exact_match 1.0000, f1 1.0000, sketchy_loss 0.010957, intensive_loss 0.298327, 0.52 steps/sec, 1.05 examples/sec\n",
      "INFO:tensorflow:step 28, has_ans_accuracy 1.0000, exact_match 1.0000, f1 1.0000, sketchy_loss 0.009853, intensive_loss 0.124035, 0.53 steps/sec, 1.06 examples/sec\n",
      "INFO:tensorflow:step 29, has_ans_accuracy 1.0000, exact_match 1.0000, f1 1.0000, sketchy_loss 0.009789, intensive_loss 0.186675, 0.52 steps/sec, 1.04 examples/sec\n",
      "INFO:tensorflow:step 30, has_ans_accuracy 1.0000, exact_match 1.0000, f1 1.0000, sketchy_loss 0.008505, intensive_loss 0.274955, 0.33 steps/sec, 0.67 examples/sec\n",
      "INFO:tensorflow:step 31, has_ans_accuracy 1.0000, exact_match 1.0000, f1 1.0000, sketchy_loss 0.008020, intensive_loss 0.100105, 0.51 steps/sec, 1.02 examples/sec\n",
      "INFO:tensorflow:step 32, has_ans_accuracy 1.0000, exact_match 1.0000, f1 1.0000, sketchy_loss 0.007990, intensive_loss 0.110457, 0.53 steps/sec, 1.06 examples/sec\n",
      "INFO:tensorflow:step 33, has_ans_accuracy 1.0000, exact_match 1.0000, f1 1.0000, sketchy_loss 0.008224, intensive_loss 0.114447, 0.52 steps/sec, 1.04 examples/sec\n",
      "INFO:tensorflow:step 34, has_ans_accuracy 1.0000, exact_match 1.0000, f1 1.0000, sketchy_loss 0.008357, intensive_loss 0.094940, 0.51 steps/sec, 1.02 examples/sec\n",
      "INFO:tensorflow:step 35, has_ans_accuracy 1.0000, exact_match 1.0000, f1 1.0000, sketchy_loss 0.007710, intensive_loss 0.052989, 0.46 steps/sec, 0.92 examples/sec\n",
      "INFO:tensorflow:step 36, has_ans_accuracy 1.0000, exact_match 1.0000, f1 1.0000, sketchy_loss 0.006318, intensive_loss 0.047273, 0.50 steps/sec, 1.01 examples/sec\n",
      "INFO:tensorflow:step 37, has_ans_accuracy 1.0000, exact_match 1.0000, f1 1.0000, sketchy_loss 0.007307, intensive_loss 0.036185, 0.53 steps/sec, 1.06 examples/sec\n",
      "INFO:tensorflow:step 38, has_ans_accuracy 1.0000, exact_match 1.0000, f1 1.0000, sketchy_loss 0.006747, intensive_loss 0.044613, 0.27 steps/sec, 0.53 examples/sec\n",
      "INFO:tensorflow:step 39, has_ans_accuracy 1.0000, exact_match 1.0000, f1 1.0000, sketchy_loss 0.006475, intensive_loss 0.079084, 0.27 steps/sec, 0.55 examples/sec\n",
      "INFO:tensorflow:step 40, has_ans_accuracy 1.0000, exact_match 1.0000, f1 1.0000, sketchy_loss 0.005437, intensive_loss 0.035496, 0.32 steps/sec, 0.64 examples/sec\n"
     ]
    }
   ],
   "source": [
    "model.fit(X, y, total_steps=40)"
   ]
  },
  {
   "cell_type": "markdown",
   "id": "fallen-hundred",
   "metadata": {},
   "source": [
    "# 推理"
   ]
  },
  {
   "cell_type": "code",
   "execution_count": 5,
   "id": "opposite-pantyhose",
   "metadata": {},
   "outputs": [
    {
     "name": "stdout",
     "output_type": "stream",
     "text": [
      "INFO:tensorflow:Running inference on 2 samples\n",
      "INFO:tensorflow:process 100.0%, 0.55 examples/sec\n"
     ]
    },
    {
     "data": {
      "text/plain": [
       "{'verifier_probs': array([1.8730676, 1.8541768], dtype=float32),\n",
       " 'verifier_preds': array([1, 1]),\n",
       " 'mrc_probs': array([[[5.60190063e-04, 6.06879592e-04, 3.51630297e-04, ...,\n",
       "          2.51812471e-05, 1.64686553e-05, 4.89078957e-05],\n",
       "         [3.53295909e-04, 2.34356878e-04, 2.12381245e-04, ...,\n",
       "          1.12776052e-05, 1.14578570e-05, 1.38059795e-05]],\n",
       " \n",
       "        [[2.26259406e-04, 8.92029493e-05, 7.87269601e-05, ...,\n",
       "          7.17824423e-06, 8.80435982e-06, 7.82108691e-06],\n",
       "         [4.00940713e-04, 9.32303956e-05, 1.15673880e-04, ...,\n",
       "          8.34068032e-06, 7.64371362e-06, 6.51185519e-06]]], dtype=float32),\n",
       " 'mrc_preds': ['天亮以前', '孤独难免']}"
      ]
     },
     "execution_count": 5,
     "metadata": {},
     "output_type": "execute_result"
    }
   ],
   "source": [
    "model.predict(X)"
   ]
  },
  {
   "cell_type": "markdown",
   "id": "fundamental-poverty",
   "metadata": {},
   "source": [
    "# 评分"
   ]
  },
  {
   "cell_type": "code",
   "execution_count": 6,
   "id": "accessory-lesbian",
   "metadata": {},
   "outputs": [
    {
     "name": "stdout",
     "output_type": "stream",
     "text": [
      "INFO:tensorflow:Running scoring on 2 samples\n",
      "INFO:tensorflow:process 100.0%, 0.85 examples/sec\n"
     ]
    },
    {
     "data": {
      "text/plain": [
       "{'has_ans_accuracy': 1.0,\n",
       " 'exact_match': 1.0,\n",
       " 'f1': 1.0,\n",
       " 'sketchy_loss': 0.0049380558,\n",
       " 'intensive_loss': 0.06410489}"
      ]
     },
     "execution_count": 6,
     "metadata": {},
     "output_type": "execute_result"
    }
   ],
   "source": [
    "model.score(X, y)"
   ]
  }
 ],
 "metadata": {
  "kernelspec": {
   "display_name": "Python 3.9.13 64-bit",
   "language": "python",
   "name": "python3"
  },
  "language_info": {
   "codemirror_mode": {
    "name": "ipython",
    "version": 3
   },
   "file_extension": ".py",
   "mimetype": "text/x-python",
   "name": "python",
   "nbconvert_exporter": "python",
   "pygments_lexer": "ipython3",
   "version": "3.9.13"
  },
  "vscode": {
   "interpreter": {
    "hash": "265fd6f62f200408acbbeae0248f34bed9f93569a643842b7a25d2cd76cae5e5"
   }
  }
 },
 "nbformat": 4,
 "nbformat_minor": 5
}
