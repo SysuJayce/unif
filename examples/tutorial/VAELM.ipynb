{
 "cells": [
  {
   "cell_type": "code",
   "execution_count": 1,
   "id": "rotary-academy",
   "metadata": {},
   "outputs": [
    {
     "name": "stdout",
     "output_type": "stream",
     "text": [
      "beta v2.8.0\n"
     ]
    }
   ],
   "source": [
    "import uf\n",
    "\n",
    "print(uf.__version__)"
   ]
  },
  {
   "cell_type": "code",
   "execution_count": 2,
   "id": "velvet-symbol",
   "metadata": {},
   "outputs": [
    {
     "name": "stdout",
     "output_type": "stream",
     "text": [
      "uf.VAELM(vocab_file='../demo/vocab.txt', max_seq_length=128, init_checkpoint=None, output_dir=None, gpu_ids=None, reduced_size=64, topic_size=1024, hidden_size=256, num_hidden_layers=6, num_attention_heads=8, do_lower_case=True, truncate_method='LIFO')\n"
     ]
    }
   ],
   "source": [
    "model = uf.VAELM('../../demo/vocab.txt')\n",
    "print(model)"
   ]
  },
  {
   "cell_type": "code",
   "execution_count": 3,
   "id": "drawn-breathing",
   "metadata": {},
   "outputs": [],
   "source": [
    "X = ['天亮以前说再见', '笑着泪流满面', '去迎接应该你的', '更好的明天', \n",
    "     '他想知道那是谁', '为何总沉默寡言', '人群中也算抢眼', '抢眼的孤独难免']"
   ]
  },
  {
   "cell_type": "markdown",
   "id": "vanilla-fault",
   "metadata": {},
   "source": [
    "# 训练"
   ]
  },
  {
   "cell_type": "code",
   "execution_count": 4,
   "id": "excellent-religion",
   "metadata": {},
   "outputs": [
    {
     "name": "stdout",
     "output_type": "stream",
     "text": [
      "WARNING:tensorflow:From /Users/geyingli/Library/Python/3.8/lib/python/site-packages/tensorflow/python/util/dispatch.py:201: calling dropout (from tensorflow.python.ops.nn_ops) with keep_prob is deprecated and will be removed in a future version.\n",
      "Instructions for updating:\n",
      "Please use `rate` instead of `keep_prob`. Rate should be set to `rate = 1 - keep_prob`.\n"
     ]
    },
    {
     "name": "stderr",
     "output_type": "stream",
     "text": [
      "/Users/geyingli/Library/Python/3.8/lib/python/site-packages/tensorflow/python/keras/legacy_tf_layers/core.py:171: UserWarning: `tf.layers.dense` is deprecated and will be removed in a future version. Please use `tf.keras.layers.Dense` instead.\n",
      "  warnings.warn('`tf.layers.dense` is deprecated and '\n",
      "/Users/geyingli/Library/Python/3.8/lib/python/site-packages/tensorflow/python/keras/engine/base_layer_v1.py:1719: UserWarning: `layer.apply` is deprecated and will be removed in a future version. Please use `layer.__call__` method instead.\n",
      "  warnings.warn('`layer.apply` is deprecated and '\n"
     ]
    },
    {
     "name": "stdout",
     "output_type": "stream",
     "text": [
      "INFO:tensorflow:Build graph with 125,838,552 parameters (among which 41,946,184 are trainable)\n",
      "INFO:tensorflow:Running local_init_op\n",
      "INFO:tensorflow:Done running local_init_op\n",
      "INFO:tensorflow:Running training on 8 samples (step 0 -> 20)\n",
      "INFO:tensorflow:step 1, accuracy 0.0000, loss 10.050329, 0.28 steps/sec, 2.23 examples/sec\n",
      "INFO:tensorflow:step 2, accuracy 0.0000, loss 10.019894, 0.68 steps/sec, 5.44 examples/sec\n",
      "INFO:tensorflow:step 3, accuracy 0.0000, loss 9.972605, 0.68 steps/sec, 5.41 examples/sec\n",
      "INFO:tensorflow:step 4, accuracy 0.0000, loss 9.921705, 0.66 steps/sec, 5.28 examples/sec\n",
      "INFO:tensorflow:step 5, accuracy 0.0000, loss 9.869904, 0.68 steps/sec, 5.47 examples/sec\n",
      "INFO:tensorflow:step 6, accuracy 0.0000, loss 9.829296, 0.69 steps/sec, 5.50 examples/sec\n",
      "INFO:tensorflow:step 7, accuracy 0.0000, loss 9.782843, 0.69 steps/sec, 5.50 examples/sec\n",
      "INFO:tensorflow:step 8, accuracy 0.0000, loss 9.731720, 0.67 steps/sec, 5.38 examples/sec\n",
      "INFO:tensorflow:step 9, accuracy 0.0000, loss 9.683379, 0.70 steps/sec, 5.57 examples/sec\n",
      "INFO:tensorflow:step 10, accuracy 0.0000, loss 9.639860, 0.70 steps/sec, 5.61 examples/sec\n",
      "INFO:tensorflow:step 11, accuracy 0.0000, loss 9.580399, 0.70 steps/sec, 5.59 examples/sec\n",
      "INFO:tensorflow:step 12, accuracy 0.0000, loss 9.548794, 0.68 steps/sec, 5.45 examples/sec\n",
      "INFO:tensorflow:step 13, accuracy 0.0000, loss 9.521534, 0.66 steps/sec, 5.27 examples/sec\n",
      "INFO:tensorflow:step 14, accuracy 0.0000, loss 9.488836, 0.69 steps/sec, 5.48 examples/sec\n",
      "INFO:tensorflow:step 15, accuracy 0.0000, loss 9.443152, 0.69 steps/sec, 5.55 examples/sec\n",
      "INFO:tensorflow:step 16, accuracy 0.0000, loss 9.412300, 0.70 steps/sec, 5.60 examples/sec\n",
      "INFO:tensorflow:step 17, accuracy 0.0000, loss 9.404520, 0.69 steps/sec, 5.48 examples/sec\n",
      "INFO:tensorflow:step 18, accuracy 0.0000, loss 9.398031, 0.67 steps/sec, 5.35 examples/sec\n",
      "INFO:tensorflow:step 19, accuracy 0.0000, loss 9.360704, 0.68 steps/sec, 5.40 examples/sec\n",
      "INFO:tensorflow:step 20, accuracy 0.0000, loss 9.353891, 0.68 steps/sec, 5.47 examples/sec\n"
     ]
    }
   ],
   "source": [
    "model.fit(X, total_steps=20)"
   ]
  },
  {
   "cell_type": "markdown",
   "id": "electoral-yahoo",
   "metadata": {},
   "source": [
    "注：vae对于模型规格与数据体量的一致性，要求是极其严格的，需要回到第[2]步详细地调参(`hidden_size`、`num_hidden_layers`)，才能快速收敛。这里就不展示了"
   ]
  },
  {
   "cell_type": "markdown",
   "id": "fallen-hundred",
   "metadata": {},
   "source": [
    "# 推理"
   ]
  },
  {
   "cell_type": "code",
   "execution_count": 5,
   "id": "opposite-pantyhose",
   "metadata": {},
   "outputs": [
    {
     "name": "stdout",
     "output_type": "stream",
     "text": [
      "INFO:tensorflow:Time usage 0m-0.91s, 1.10 steps/sec, 8.80 examples/sec\n"
     ]
    },
    {
     "data": {
      "text/plain": [
       "{'miu': array([[ 0.18270496,  0.07924487,  0.19913363, ..., -0.10357535,\n",
       "          0.19564521, -0.64388764],\n",
       "        [ 0.08120371,  0.39469346, -0.16348872, ...,  0.3568417 ,\n",
       "         -0.1417943 , -0.2684648 ],\n",
       "        [-0.09377883,  0.47406122, -0.00705253, ...,  0.36112326,\n",
       "         -0.02830204, -0.70392257],\n",
       "        ...,\n",
       "        [ 0.13265583,  0.25422364, -0.18775329, ..., -0.0062373 ,\n",
       "          0.20212752, -0.3202473 ],\n",
       "        [ 0.0752101 ,  0.21465093, -0.22704981, ...,  0.02459492,\n",
       "          0.01878764, -0.27816558],\n",
       "        [ 0.02517242, -0.13223346, -0.23236325, ...,  0.09187191,\n",
       "         -0.1490621 , -0.17428988]], dtype=float32),\n",
       " 'sigma': array([[ 0.3265921 ,  0.21442999, -0.01729731, ..., -0.02773836,\n",
       "          0.01662999,  0.50611365],\n",
       "        [ 0.26620984,  0.35250407, -0.22017376, ..., -0.37795097,\n",
       "          0.01985162,  0.7669456 ],\n",
       "        [ 0.3673167 ,  0.24865608,  0.28600916, ...,  0.32718882,\n",
       "         -0.15488133,  0.13711098],\n",
       "        ...,\n",
       "        [ 0.18624187,  0.21688734, -0.16211939, ..., -0.417476  ,\n",
       "          0.04390662, -0.01404835],\n",
       "        [ 0.10111249,  0.5221658 ,  0.06213655, ...,  0.20528093,\n",
       "          0.04806403,  0.2015666 ],\n",
       "        [ 0.49906412,  0.25904062, -0.03445332, ...,  0.19517303,\n",
       "         -0.3563635 ,  0.2995557 ]], dtype=float32),\n",
       " 'preds': [['##拯', '##2000', '蜂', '##腳', '##杨', 'feb', '颉', '##馆', '##嘹'],\n",
       "  ['陨', '濯', '舖', '率', 'amp', '##gma', '520', '##尝', '##闲'],\n",
       "  ['##ime', '404', '濯', '##uo', '##識', '领', '##zu', '##柔'],\n",
       "  ['##恵',\n",
       "   '‧',\n",
       "   'ᗜ',\n",
       "   '##掸',\n",
       "   '煎',\n",
       "   'し',\n",
       "   '##袈',\n",
       "   '♠',\n",
       "   '珀',\n",
       "   '##术',\n",
       "   'cookie',\n",
       "   '##櫻',\n",
       "   '##租',\n",
       "   '##訝'],\n",
       "  ['いします', '##顼', '蜂', 'echo', 'food', '##か', '##郷', '窨', '##陇'],\n",
       "  ['搗', '笼', 'kate', '##貿', '收', '##か', '元', '##馆', '脱'],\n",
       "  ['134', '404', '##颧', '颉', 'logo', 'feb', '##芾', '彷', '##嘹'],\n",
       "  ['萱', '年', 'み', '##惰', '獰', '圃', '##zu', '奈', 'ib']]}"
      ]
     },
     "execution_count": 5,
     "metadata": {},
     "output_type": "execute_result"
    }
   ],
   "source": [
    "model.predict(X)    # 充分收敛后，输入和输出将基本一致"
   ]
  },
  {
   "cell_type": "markdown",
   "id": "fundamental-poverty",
   "metadata": {},
   "source": [
    "推理时可根据需要调整噪声大小，生成负样本"
   ]
  },
  {
   "cell_type": "code",
   "execution_count": 6,
   "id": "accessory-lesbian",
   "metadata": {},
   "outputs": [
    {
     "name": "stdout",
     "output_type": "stream",
     "text": [
      "INFO:tensorflow:Time usage 0m-0.89s, 1.12 steps/sec, 8.99 examples/sec\n"
     ]
    },
    {
     "data": {
      "text/plain": [
       "{'miu': array([[ 0.18270496,  0.07924487,  0.19913363, ..., -0.10357535,\n",
       "          0.19564521, -0.64388764],\n",
       "        [ 0.08120371,  0.39469346, -0.16348872, ...,  0.3568417 ,\n",
       "         -0.1417943 , -0.2684648 ],\n",
       "        [-0.09377883,  0.47406122, -0.00705253, ...,  0.36112326,\n",
       "         -0.02830204, -0.70392257],\n",
       "        ...,\n",
       "        [ 0.13265583,  0.25422364, -0.18775329, ..., -0.0062373 ,\n",
       "          0.20212752, -0.3202473 ],\n",
       "        [ 0.0752101 ,  0.21465093, -0.22704981, ...,  0.02459492,\n",
       "          0.01878764, -0.27816558],\n",
       "        [ 0.02517242, -0.13223346, -0.23236325, ...,  0.09187191,\n",
       "         -0.1490621 , -0.17428988]], dtype=float32),\n",
       " 'sigma': array([[ 0.3265921 ,  0.21442999, -0.01729731, ..., -0.02773836,\n",
       "          0.01662999,  0.50611365],\n",
       "        [ 0.26620984,  0.35250407, -0.22017376, ..., -0.37795097,\n",
       "          0.01985162,  0.7669456 ],\n",
       "        [ 0.3673167 ,  0.24865608,  0.28600916, ...,  0.32718882,\n",
       "         -0.15488133,  0.13711098],\n",
       "        ...,\n",
       "        [ 0.18624187,  0.21688734, -0.16211939, ..., -0.417476  ,\n",
       "          0.04390662, -0.01404835],\n",
       "        [ 0.10111249,  0.5221658 ,  0.06213655, ...,  0.20528093,\n",
       "          0.04806403,  0.2015666 ],\n",
       "        [ 0.49906412,  0.25904062, -0.03445332, ...,  0.19517303,\n",
       "         -0.3563635 ,  0.2995557 ]], dtype=float32),\n",
       " 'preds': [['##小',\n",
       "   '##fw',\n",
       "   '##ik',\n",
       "   'm4',\n",
       "   '滔',\n",
       "   'after',\n",
       "   '##搓',\n",
       "   '##嘹',\n",
       "   '哏',\n",
       "   '##west',\n",
       "   '##誘',\n",
       "   '佃',\n",
       "   '偵',\n",
       "   '##涡',\n",
       "   '涝',\n",
       "   '##闾',\n",
       "   '##宙',\n",
       "   '##囿'],\n",
       "  ['贻', '##舞'],\n",
       "  ['版',\n",
       "   '咸',\n",
       "   '砷',\n",
       "   '##ⅰ',\n",
       "   '齢',\n",
       "   '兩',\n",
       "   '配',\n",
       "   '##きました',\n",
       "   '犊',\n",
       "   '藍',\n",
       "   '郢',\n",
       "   'raw',\n",
       "   '攪',\n",
       "   '##椁',\n",
       "   '##囿'],\n",
       "  ['##isa', '眉', '辗', 'pk10', '蠕', '##绫', 'step2'],\n",
       "  ['##钢',\n",
       "   'pony',\n",
       "   '##湘',\n",
       "   '娆',\n",
       "   '宦',\n",
       "   '##盔',\n",
       "   '##ha',\n",
       "   '颔',\n",
       "   '##绅',\n",
       "   '[unused46]',\n",
       "   '標',\n",
       "   '剣',\n",
       "   '##氖',\n",
       "   '塢'],\n",
       "  ['宸', '##鸳', 'm4', '司', '117', '##隶', '瞞', '##喀'],\n",
       "  ['##焉',\n",
       "   '22',\n",
       "   '##榱',\n",
       "   '##皓',\n",
       "   '##柠',\n",
       "   '捞',\n",
       "   '薰',\n",
       "   '##曝',\n",
       "   '麸',\n",
       "   'after',\n",
       "   '##撼',\n",
       "   '##wo',\n",
       "   '##组',\n",
       "   '談',\n",
       "   'after',\n",
       "   '亙',\n",
       "   'walker',\n",
       "   '喋',\n",
       "   '##繼',\n",
       "   '##订',\n",
       "   '##樓',\n",
       "   '渠',\n",
       "   '##衮'],\n",
       "  ['厥', '砂', '##ith', '##亦', '##蒟', '##lux', '##迫']]}"
      ]
     },
     "execution_count": 6,
     "metadata": {},
     "output_type": "execute_result"
    }
   ],
   "source": [
    "model.predict(X, bias=3)"
   ]
  }
 ],
 "metadata": {
  "kernelspec": {
   "display_name": "Python 3",
   "language": "python",
   "name": "python3"
  },
  "language_info": {
   "codemirror_mode": {
    "name": "ipython",
    "version": 3
   },
   "file_extension": ".py",
   "mimetype": "text/x-python",
   "name": "python",
   "nbconvert_exporter": "python",
   "pygments_lexer": "ipython3",
   "version": "3.8.2"
  }
 },
 "nbformat": 4,
 "nbformat_minor": 5
}
