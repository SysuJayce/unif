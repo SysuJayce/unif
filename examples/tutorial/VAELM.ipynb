{
 "cells": [
  {
   "cell_type": "code",
   "execution_count": 1,
   "id": "rotary-academy",
   "metadata": {},
   "outputs": [
    {
     "name": "stdout",
     "output_type": "stream",
     "text": [
      "v2.3.2\n"
     ]
    }
   ],
   "source": [
    "import uf\n",
    "\n",
    "print(uf.__version__)"
   ]
  },
  {
   "cell_type": "code",
   "execution_count": 2,
   "id": "velvet-symbol",
   "metadata": {},
   "outputs": [
    {
     "name": "stdout",
     "output_type": "stream",
     "text": [
      "uf.VAELM(vocab_file=\"../../demo/vocab.txt\", max_seq_length=128, init_checkpoint=None, output_dir=None, gpu_ids=None, reduced_size=64, topic_size=1024, hidden_size=256, num_hidden_layers=6, num_attention_heads=8, do_lower_case=True, truncate_method=\"LIFO\")\n"
     ]
    }
   ],
   "source": [
    "model = uf.VAELM('../../demo/vocab.txt')\n",
    "print(model)"
   ]
  },
  {
   "cell_type": "code",
   "execution_count": 3,
   "id": "drawn-breathing",
   "metadata": {},
   "outputs": [],
   "source": [
    "X = ['天亮以前说再见', '笑着泪流满面', '去迎接应该你的', '更好的明天', \n",
    "     '他想知道那是谁', '为何总沉默寡言', '人群中也算抢眼', '抢眼的孤独难免']"
   ]
  },
  {
   "cell_type": "markdown",
   "id": "vanilla-fault",
   "metadata": {},
   "source": [
    "# 训练"
   ]
  },
  {
   "cell_type": "code",
   "execution_count": 4,
   "id": "excellent-religion",
   "metadata": {},
   "outputs": [
    {
     "name": "stdout",
     "output_type": "stream",
     "text": [
      "WARNING:tensorflow:From /Users/geyingli/Library/Python/3.8/lib/python/site-packages/tensorflow/python/util/dispatch.py:1096: calling dropout (from tensorflow.python.ops.nn_ops) with keep_prob is deprecated and will be removed in a future version.\n",
      "Instructions for updating:\n",
      "Please use `rate` instead of `keep_prob`. Rate should be set to `rate = 1 - keep_prob`.\n"
     ]
    },
    {
     "name": "stderr",
     "output_type": "stream",
     "text": [
      "/Users/geyingli/Library/Python/3.8/lib/python/site-packages/uf-2.3.2-py3.8.egg/uf/modeling/bert.py:282: UserWarning: `tf.layers.dense` is deprecated and will be removed in a future version. Please use `tf.keras.layers.Dense` instead.\n",
      "  query_layer = tf.layers.dense(\n",
      "/Users/geyingli/Library/Python/3.8/lib/python/site-packages/keras/legacy_tf_layers/core.py:255: UserWarning: `layer.apply` is deprecated and will be removed in a future version. Please use `layer.__call__` method instead.\n",
      "  return layer.apply(inputs)\n",
      "/Users/geyingli/Library/Python/3.8/lib/python/site-packages/uf-2.3.2-py3.8.egg/uf/modeling/bert.py:291: UserWarning: `tf.layers.dense` is deprecated and will be removed in a future version. Please use `tf.keras.layers.Dense` instead.\n",
      "  key_layer = tf.layers.dense(\n",
      "/Users/geyingli/Library/Python/3.8/lib/python/site-packages/uf-2.3.2-py3.8.egg/uf/modeling/bert.py:300: UserWarning: `tf.layers.dense` is deprecated and will be removed in a future version. Please use `tf.keras.layers.Dense` instead.\n",
      "  value_layer = tf.layers.dense(\n",
      "/Users/geyingli/Library/Python/3.8/lib/python/site-packages/uf-2.3.2-py3.8.egg/uf/modeling/bert.py:430: UserWarning: `tf.layers.dense` is deprecated and will be removed in a future version. Please use `tf.keras.layers.Dense` instead.\n",
      "  attention_output = tf.layers.dense(\n",
      "/Users/geyingli/Library/Python/3.8/lib/python/site-packages/uf-2.3.2-py3.8.egg/uf/modeling/bert.py:445: UserWarning: `tf.layers.dense` is deprecated and will be removed in a future version. Please use `tf.keras.layers.Dense` instead.\n",
      "  intermediate_output = tf.layers.dense(\n",
      "/Users/geyingli/Library/Python/3.8/lib/python/site-packages/uf-2.3.2-py3.8.egg/uf/modeling/bert.py:455: UserWarning: `tf.layers.dense` is deprecated and will be removed in a future version. Please use `tf.keras.layers.Dense` instead.\n",
      "  layer_output = tf.layers.dense(\n",
      "/Users/geyingli/Library/Python/3.8/lib/python/site-packages/uf-2.3.2-py3.8.egg/uf/modeling/vae.py:103: UserWarning: `tf.layers.dense` is deprecated and will be removed in a future version. Please use `tf.keras.layers.Dense` instead.\n",
      "  transformer_output = tf.layers.dense(\n",
      "/Users/geyingli/Library/Python/3.8/lib/python/site-packages/uf-2.3.2-py3.8.egg/uf/modeling/vae.py:126: UserWarning: `tf.layers.dense` is deprecated and will be removed in a future version. Please use `tf.keras.layers.Dense` instead.\n",
      "  miu = tf.layers.dense(\n",
      "/Users/geyingli/Library/Python/3.8/lib/python/site-packages/uf-2.3.2-py3.8.egg/uf/modeling/vae.py:134: UserWarning: `tf.layers.dense` is deprecated and will be removed in a future version. Please use `tf.keras.layers.Dense` instead.\n",
      "  sigma = tf.layers.dense(\n",
      "/Users/geyingli/Library/Python/3.8/lib/python/site-packages/uf-2.3.2-py3.8.egg/uf/modeling/vae.py:157: UserWarning: `tf.layers.dense` is deprecated and will be removed in a future version. Please use `tf.keras.layers.Dense` instead.\n",
      "  decoder_input = tf.layers.dense(\n",
      "/Users/geyingli/Library/Python/3.8/lib/python/site-packages/uf-2.3.2-py3.8.egg/uf/modeling/vae.py:173: UserWarning: `tf.layers.dense` is deprecated and will be removed in a future version. Please use `tf.keras.layers.Dense` instead.\n",
      "  intermediate_output = tf.layers.dense(\n",
      "/Users/geyingli/Library/Python/3.8/lib/python/site-packages/uf-2.3.2-py3.8.egg/uf/modeling/vae.py:181: UserWarning: `tf.layers.dense` is deprecated and will be removed in a future version. Please use `tf.keras.layers.Dense` instead.\n",
      "  decoder_output = tf.layers.dense(\n",
      "/Users/geyingli/Library/Python/3.8/lib/python/site-packages/uf-2.3.2-py3.8.egg/uf/modeling/vae.py:197: UserWarning: `tf.layers.dense` is deprecated and will be removed in a future version. Please use `tf.keras.layers.Dense` instead.\n",
      "  input_tensor = tf.layers.dense(\n"
     ]
    },
    {
     "name": "stdout",
     "output_type": "stream",
     "text": [
      "INFO:tensorflow:Build graph with 125,838,552 parameters (among which 41,946,184 are trainable)\n",
      "INFO:tensorflow:Running local_init_op\n",
      "INFO:tensorflow:Done running local_init_op\n",
      "INFO:tensorflow:Running training on 8 samples (step 0 -> 20)\n",
      "INFO:tensorflow:step 1, accuracy 0.0000, loss 10.046280, 0.19 steps/sec, 1.52 examples/sec\n",
      "INFO:tensorflow:step 2, accuracy 0.0000, loss 10.014555, 0.60 steps/sec, 4.83 examples/sec\n",
      "INFO:tensorflow:step 3, accuracy 0.0000, loss 9.963326, 0.57 steps/sec, 4.56 examples/sec\n",
      "INFO:tensorflow:step 4, accuracy 0.0000, loss 9.903353, 0.58 steps/sec, 4.67 examples/sec\n",
      "INFO:tensorflow:step 5, accuracy 0.0000, loss 9.822316, 0.39 steps/sec, 3.16 examples/sec\n",
      "INFO:tensorflow:step 6, accuracy 0.0000, loss 9.779902, 0.60 steps/sec, 4.76 examples/sec\n",
      "INFO:tensorflow:step 7, accuracy 0.0000, loss 9.744768, 0.47 steps/sec, 3.77 examples/sec\n",
      "INFO:tensorflow:step 8, accuracy 0.0000, loss 9.665169, 0.51 steps/sec, 4.04 examples/sec\n",
      "INFO:tensorflow:step 9, accuracy 0.0000, loss 9.593123, 0.53 steps/sec, 4.27 examples/sec\n",
      "INFO:tensorflow:step 10, accuracy 0.0000, loss 9.556499, 0.31 steps/sec, 2.51 examples/sec\n",
      "INFO:tensorflow:step 11, accuracy 0.0000, loss 9.491152, 0.44 steps/sec, 3.53 examples/sec\n",
      "INFO:tensorflow:step 12, accuracy 0.0000, loss 9.428595, 0.53 steps/sec, 4.24 examples/sec\n",
      "INFO:tensorflow:step 13, accuracy 0.0000, loss 9.371441, 0.61 steps/sec, 4.85 examples/sec\n",
      "INFO:tensorflow:step 14, accuracy 0.0000, loss 9.311591, 0.53 steps/sec, 4.21 examples/sec\n",
      "INFO:tensorflow:step 15, accuracy 0.0000, loss 9.293656, 0.56 steps/sec, 4.46 examples/sec\n",
      "INFO:tensorflow:step 16, accuracy 0.0000, loss 9.238624, 0.59 steps/sec, 4.71 examples/sec\n",
      "INFO:tensorflow:step 17, accuracy 0.0000, loss 9.178248, 0.60 steps/sec, 4.82 examples/sec\n",
      "INFO:tensorflow:step 18, accuracy 0.0000, loss 9.207180, 0.63 steps/sec, 5.02 examples/sec\n",
      "INFO:tensorflow:step 19, accuracy 0.0000, loss 9.187864, 0.43 steps/sec, 3.43 examples/sec\n",
      "INFO:tensorflow:step 20, accuracy 0.0000, loss 9.162224, 0.55 steps/sec, 4.43 examples/sec\n"
     ]
    }
   ],
   "source": [
    "model.fit(X, total_steps=20)"
   ]
  },
  {
   "cell_type": "markdown",
   "id": "electoral-yahoo",
   "metadata": {},
   "source": [
    "注：vae对于模型规格与数据体量的一致性，要求是极其严格的，需要回到第[2]步详细地调参(`hidden_size`、`num_hidden_layers`)，才能快速收敛。这里就不展示了"
   ]
  },
  {
   "cell_type": "markdown",
   "id": "fallen-hundred",
   "metadata": {},
   "source": [
    "# 推理"
   ]
  },
  {
   "cell_type": "code",
   "execution_count": 5,
   "id": "opposite-pantyhose",
   "metadata": {},
   "outputs": [
    {
     "name": "stdout",
     "output_type": "stream",
     "text": [
      "INFO:tensorflow:Time usage 0m-2.50s, 0.40 steps/sec, 3.20 examples/sec\n"
     ]
    },
    {
     "data": {
      "text/plain": [
       "{'miu': array([[ 0.27873725, -0.52805924,  0.01744283, ..., -0.04298491,\n",
       "         -0.34713203, -0.10662301],\n",
       "        [ 0.34303305, -0.0284452 , -0.6589283 , ..., -0.27474552,\n",
       "         -0.29129717,  0.39751974],\n",
       "        [ 0.01377185,  0.01851345,  0.2080023 , ..., -0.1795811 ,\n",
       "         -0.44404778,  0.26105496],\n",
       "        ...,\n",
       "        [-0.03197932, -0.44664517,  0.03432069, ..., -0.24020414,\n",
       "         -0.29451907, -0.09075801],\n",
       "        [ 0.59165174, -0.37289855, -0.1588868 , ..., -0.43404713,\n",
       "         -0.608625  ,  0.00174402],\n",
       "        [ 0.51704025, -0.4347314 ,  0.09428073, ...,  0.01340517,\n",
       "         -0.4956105 ,  0.17196733]], dtype=float32),\n",
       " 'sigma': array([[-0.6133199 , -0.13990061,  0.06952883, ...,  0.21920656,\n",
       "         -0.08042419, -0.40530014],\n",
       "        [-0.32233995,  0.15019585,  0.06322569, ...,  0.26924282,\n",
       "         -0.23672171, -0.25971273],\n",
       "        [-0.2614425 , -0.23119318,  0.6130965 , ..., -0.13953154,\n",
       "         -0.11120093, -0.6016823 ],\n",
       "        ...,\n",
       "        [-0.21923678,  0.03376997,  0.5631586 , ...,  0.39581892,\n",
       "         -0.20515805, -0.41360325],\n",
       "        [-0.5870957 ,  0.0819933 ,  0.10625028, ...,  0.02263772,\n",
       "         -0.09190169, -0.686415  ],\n",
       "        [-0.56976646, -0.0591144 ,  0.01055988, ..., -0.0125029 ,\n",
       "         -0.3412124 , -0.38214654]], dtype=float32),\n",
       " 'preds': [['談'], [], ['##瑀'], [], ['g3'], ['##瑀'], [], ['耨']]}"
      ]
     },
     "execution_count": 5,
     "metadata": {},
     "output_type": "execute_result"
    }
   ],
   "source": [
    "model.predict(X)    # 充分收敛后，输入和输出将基本一致"
   ]
  },
  {
   "cell_type": "markdown",
   "id": "fundamental-poverty",
   "metadata": {},
   "source": [
    "推理时可根据需要调整噪声大小，生成负样本"
   ]
  },
  {
   "cell_type": "code",
   "execution_count": 6,
   "id": "accessory-lesbian",
   "metadata": {},
   "outputs": [
    {
     "name": "stdout",
     "output_type": "stream",
     "text": [
      "INFO:tensorflow:Time usage 0m-4.06s, 0.25 steps/sec, 1.97 examples/sec\n"
     ]
    },
    {
     "data": {
      "text/plain": [
       "{'miu': array([[ 0.27873725, -0.52805924,  0.01744283, ..., -0.04298491,\n",
       "         -0.34713203, -0.10662301],\n",
       "        [ 0.34303305, -0.0284452 , -0.6589283 , ..., -0.27474552,\n",
       "         -0.29129717,  0.39751974],\n",
       "        [ 0.01377185,  0.01851345,  0.2080023 , ..., -0.1795811 ,\n",
       "         -0.44404778,  0.26105496],\n",
       "        ...,\n",
       "        [-0.03197932, -0.44664517,  0.03432069, ..., -0.24020414,\n",
       "         -0.29451907, -0.09075801],\n",
       "        [ 0.59165174, -0.37289855, -0.1588868 , ..., -0.43404713,\n",
       "         -0.608625  ,  0.00174402],\n",
       "        [ 0.51704025, -0.4347314 ,  0.09428073, ...,  0.01340517,\n",
       "         -0.4956105 ,  0.17196733]], dtype=float32),\n",
       " 'sigma': array([[-0.6133199 , -0.13990061,  0.06952883, ...,  0.21920656,\n",
       "         -0.08042419, -0.40530014],\n",
       "        [-0.32233995,  0.15019585,  0.06322569, ...,  0.26924282,\n",
       "         -0.23672171, -0.25971273],\n",
       "        [-0.2614425 , -0.23119318,  0.6130965 , ..., -0.13953154,\n",
       "         -0.11120093, -0.6016823 ],\n",
       "        ...,\n",
       "        [-0.21923678,  0.03376997,  0.5631586 , ...,  0.39581892,\n",
       "         -0.20515805, -0.41360325],\n",
       "        [-0.5870957 ,  0.0819933 ,  0.10625028, ...,  0.02263772,\n",
       "         -0.09190169, -0.686415  ],\n",
       "        [-0.56976646, -0.0591144 ,  0.01055988, ..., -0.0125029 ,\n",
       "         -0.3412124 , -0.38214654]], dtype=float32),\n",
       " 'preds': [['1v'],\n",
       "  ['##よって', '271', '哋', '蹊', '##64', '##仁', '寵', '##綻', '懋', '##im', '##理'],\n",
       "  ['swatch'],\n",
       "  ['##⑥', '嫘', '扇', '郴', '赏', '憐'],\n",
       "  ['##柚'],\n",
       "  ['悅', '##柿', '塌', '12345678910', '##ads', '班'],\n",
       "  ['寵'],\n",
       "  ['##伢', '阈', '##皓', '界', '85', '溼', '5cm', '##ト', 'polo', '468']]}"
      ]
     },
     "execution_count": 6,
     "metadata": {},
     "output_type": "execute_result"
    }
   ],
   "source": [
    "model.predict(X, bias=3)"
   ]
  }
 ],
 "metadata": {
  "kernelspec": {
   "display_name": "Python 3",
   "language": "python",
   "name": "python3"
  },
  "language_info": {
   "codemirror_mode": {
    "name": "ipython",
    "version": 3
   },
   "file_extension": ".py",
   "mimetype": "text/x-python",
   "name": "python",
   "nbconvert_exporter": "python",
   "pygments_lexer": "ipython3",
   "version": "3.8.2"
  }
 },
 "nbformat": 4,
 "nbformat_minor": 5
}
