{
 "cells": [
  {
   "cell_type": "markdown",
   "id": "challenging-involvement",
   "metadata": {},
   "source": [
    "# TransformerMT\n",
    "\n",
    "可用的中文预训练参数：暂无"
   ]
  },
  {
   "cell_type": "code",
   "execution_count": 1,
   "id": "rotary-academy",
   "metadata": {},
   "outputs": [
    {
     "name": "stdout",
     "output_type": "stream",
     "text": [
      "v2.5.0\n"
     ]
    }
   ],
   "source": [
    "import uf\n",
    "\n",
    "print(uf.__version__)"
   ]
  },
  {
   "cell_type": "code",
   "execution_count": 2,
   "id": "velvet-symbol",
   "metadata": {},
   "outputs": [
    {
     "name": "stdout",
     "output_type": "stream",
     "text": [
      "INFO:tensorflow:Add necessary token `<s>` into vocabulary.\n",
      "INFO:tensorflow:Add necessary token `</s>` into vocabulary.\n",
      "uf.TransformerMT(\n",
      "    vocab_file=\"../../ref/vocab.txt\",\n",
      "    source_max_seq_length=10,\n",
      "    target_max_seq_length=10,\n",
      "    init_checkpoint=None,\n",
      "    output_dir=None,\n",
      "    gpu_ids=None,\n",
      "    hidden_size=24,\n",
      "    num_hidden_layers=2,\n",
      "    num_attention_heads=2,\n",
      "    do_lower_case=True,\n",
      "    truncate_method=\"LIFO\",\n",
      ")\n"
     ]
    }
   ],
   "source": [
    "model = uf.TransformerMT(\n",
    "    \"../../ref/vocab.txt\",\n",
    "    source_max_seq_length=10, \n",
    "    target_max_seq_length=10,\n",
    "    hidden_size=24,             # Transformer对于模型规格与数据体量的一致性，要求是极其严格的\n",
    "    num_hidden_layers=2,        # 这里由于训练数据较少，参数取值也设置较低\n",
    "    num_attention_heads=2,\n",
    ")\n",
    "print(model)"
   ]
  },
  {
   "cell_type": "code",
   "execution_count": 3,
   "id": "drawn-breathing",
   "metadata": {},
   "outputs": [],
   "source": [
    "X = [\"天亮以前说再见\", \"去迎接应该你的\"]\n",
    "y = [\"笑着泪流满面\", \"更好的明天\"]"
   ]
  },
  {
   "cell_type": "markdown",
   "id": "vanilla-fault",
   "metadata": {},
   "source": [
    "# 训练"
   ]
  },
  {
   "cell_type": "code",
   "execution_count": 4,
   "id": "excellent-religion",
   "metadata": {},
   "outputs": [
    {
     "name": "stdout",
     "output_type": "stream",
     "text": [
      "WARNING:tensorflow:From c:\\Users\\Luv_d\\AppData\\Local\\Programs\\Python\\Python39\\lib\\site-packages\\tensorflow\\python\\util\\dispatch.py:1176: calling dropout (from tensorflow.python.ops.nn_ops) with keep_prob is deprecated and will be removed in a future version.\n",
      "Instructions for updating:\n",
      "Please use `rate` instead of `keep_prob`. Rate should be set to `rate = 1 - keep_prob`.\n",
      "WARNING:tensorflow:From c:\\Users\\Luv_d\\AppData\\Local\\Programs\\Python\\Python39\\lib\\site-packages\\tensorflow\\python\\util\\dispatch.py:1176: to_float (from tensorflow.python.ops.math_ops) is deprecated and will be removed in a future version.\n",
      "Instructions for updating:\n",
      "Use `tf.cast` instead.\n"
     ]
    },
    {
     "name": "stderr",
     "output_type": "stream",
     "text": [
      "c:\\Users\\Luv_d\\AppData\\Local\\Programs\\Python\\Python39\\lib\\site-packages\\uf-2.5.0-py3.9.egg\\uf\\apps\\transformer\\transformer.py:470: UserWarning: `tf.layers.dense` is deprecated and will be removed in a future version. Please use `tf.keras.layers.Dense` instead.\n",
      "  Q = tf.layers.dense(\n",
      "c:\\Users\\Luv_d\\AppData\\Local\\Programs\\Python\\Python39\\lib\\site-packages\\uf-2.5.0-py3.9.egg\\uf\\apps\\transformer\\transformer.py:472: UserWarning: `tf.layers.dense` is deprecated and will be removed in a future version. Please use `tf.keras.layers.Dense` instead.\n",
      "  K = tf.layers.dense(\n",
      "c:\\Users\\Luv_d\\AppData\\Local\\Programs\\Python\\Python39\\lib\\site-packages\\uf-2.5.0-py3.9.egg\\uf\\apps\\transformer\\transformer.py:474: UserWarning: `tf.layers.dense` is deprecated and will be removed in a future version. Please use `tf.keras.layers.Dense` instead.\n",
      "  V = tf.layers.dense(\n",
      "c:\\Users\\Luv_d\\AppData\\Local\\Programs\\Python\\Python39\\lib\\site-packages\\uf-2.5.0-py3.9.egg\\uf\\apps\\transformer\\transformer.py:383: UserWarning: `tf.layers.dropout` is deprecated and will be removed in a future version. Please use `tf.keras.layers.Dropout` instead.\n",
      "  outputs = tf.layers.dropout(\n",
      "c:\\Users\\Luv_d\\AppData\\Local\\Programs\\Python\\Python39\\lib\\site-packages\\uf-2.5.0-py3.9.egg\\uf\\apps\\transformer\\transformer.py:513: UserWarning: `tf.layers.dense` is deprecated and will be removed in a future version. Please use `tf.keras.layers.Dense` instead.\n",
      "  outputs = tf.layers.dense(inputs, num_units[0], activation=tf.nn.relu)\n",
      "c:\\Users\\Luv_d\\AppData\\Local\\Programs\\Python\\Python39\\lib\\site-packages\\uf-2.5.0-py3.9.egg\\uf\\apps\\transformer\\transformer.py:516: UserWarning: `tf.layers.dense` is deprecated and will be removed in a future version. Please use `tf.keras.layers.Dense` instead.\n",
      "  outputs = tf.layers.dense(outputs, num_units[1])\n"
     ]
    },
    {
     "name": "stdout",
     "output_type": "stream",
     "text": [
      "INFO:tensorflow:Build graph with 1,675,326 parameters (among which 558,442 are trainable)\n",
      "INFO:tensorflow:Running local_init_op\n",
      "INFO:tensorflow:Done running local_init_op\n",
      "INFO:tensorflow:Running training on 2 samples (step 0 -> 200)\n",
      "INFO:tensorflow:step 1, accuracy 0.0000, loss 9.953237, 0.79 steps/sec, 1.59 examples/sec\n",
      "INFO:tensorflow:step 9, accuracy 0.1538, loss 9.204012, 73.70 steps/sec, 147.39 examples/sec\n",
      "INFO:tensorflow:step 17, accuracy 0.1538, loss 5.647346, 76.47 steps/sec, 152.94 examples/sec\n",
      "INFO:tensorflow:step 25, accuracy 0.1538, loss 2.472838, 74.53 steps/sec, 149.05 examples/sec\n",
      "INFO:tensorflow:step 33, accuracy 0.2308, loss 2.216841, 75.70 steps/sec, 151.40 examples/sec\n",
      "INFO:tensorflow:step 41, accuracy 0.3846, loss 1.765190, 74.42 steps/sec, 148.84 examples/sec\n",
      "INFO:tensorflow:step 49, accuracy 0.3846, loss 1.390466, 75.86 steps/sec, 151.73 examples/sec\n",
      "INFO:tensorflow:step 56, accuracy 0.5385, loss 1.034543, 68.27 steps/sec, 136.55 examples/sec\n",
      "INFO:tensorflow:step 64, accuracy 0.7692, loss 0.802483, 76.14 steps/sec, 152.27 examples/sec\n",
      "INFO:tensorflow:step 72, accuracy 0.6923, loss 0.681784, 73.90 steps/sec, 147.80 examples/sec\n",
      "INFO:tensorflow:step 80, accuracy 0.8462, loss 0.561534, 73.09 steps/sec, 146.18 examples/sec\n",
      "INFO:tensorflow:step 88, accuracy 0.8462, loss 0.457898, 74.20 steps/sec, 148.40 examples/sec\n",
      "INFO:tensorflow:step 96, accuracy 0.8462, loss 0.409425, 74.25 steps/sec, 148.50 examples/sec\n",
      "INFO:tensorflow:step 104, accuracy 0.8462, loss 0.359771, 74.91 steps/sec, 149.81 examples/sec\n",
      "INFO:tensorflow:step 112, accuracy 0.9231, loss 0.278971, 72.92 steps/sec, 145.84 examples/sec\n",
      "INFO:tensorflow:step 119, accuracy 1.0000, loss 0.213323, 68.61 steps/sec, 137.21 examples/sec\n",
      "INFO:tensorflow:step 126, accuracy 0.9231, loss 0.201601, 66.26 steps/sec, 132.51 examples/sec\n",
      "INFO:tensorflow:step 134, accuracy 1.0000, loss 0.196560, 70.70 steps/sec, 141.40 examples/sec\n",
      "INFO:tensorflow:step 142, accuracy 0.8462, loss 0.230402, 73.31 steps/sec, 146.63 examples/sec\n",
      "INFO:tensorflow:step 150, accuracy 1.0000, loss 0.115914, 74.88 steps/sec, 149.76 examples/sec\n",
      "INFO:tensorflow:step 158, accuracy 1.0000, loss 0.109403, 73.61 steps/sec, 147.21 examples/sec\n",
      "INFO:tensorflow:step 165, accuracy 1.0000, loss 0.074418, 68.93 steps/sec, 137.86 examples/sec\n",
      "INFO:tensorflow:step 173, accuracy 1.0000, loss 0.086861, 71.86 steps/sec, 143.71 examples/sec\n",
      "INFO:tensorflow:step 181, accuracy 1.0000, loss 0.089164, 74.77 steps/sec, 149.53 examples/sec\n",
      "INFO:tensorflow:step 189, accuracy 1.0000, loss 0.060868, 74.27 steps/sec, 148.54 examples/sec\n",
      "INFO:tensorflow:step 197, accuracy 1.0000, loss 0.051536, 72.30 steps/sec, 144.60 examples/sec\n",
      "INFO:tensorflow:step 200, accuracy 1.0000, loss 0.063949, 70.64 steps/sec, 141.28 examples/sec\n"
     ]
    }
   ],
   "source": [
    "model.fit(X, y, total_steps=200, learning_rate=0.01)        # 模型较小，可以适当提高学习率"
   ]
  },
  {
   "cell_type": "markdown",
   "id": "fallen-hundred",
   "metadata": {},
   "source": [
    "# 推理"
   ]
  },
  {
   "cell_type": "code",
   "execution_count": 5,
   "id": "opposite-pantyhose",
   "metadata": {},
   "outputs": [
    {
     "name": "stdout",
     "output_type": "stream",
     "text": [
      "INFO:tensorflow:Running inference on 2 samples\n",
      "INFO:tensorflow:process 100.0%, 1.40 examples/sec\n"
     ]
    },
    {
     "data": {
      "text/plain": [
       "{'preds': ['笑着泪流满面', '更好的明天']}"
      ]
     },
     "execution_count": 5,
     "metadata": {},
     "output_type": "execute_result"
    }
   ],
   "source": [
    "model.predict(X)"
   ]
  },
  {
   "cell_type": "markdown",
   "id": "fundamental-poverty",
   "metadata": {},
   "source": [
    "# 评分"
   ]
  },
  {
   "cell_type": "code",
   "execution_count": 6,
   "id": "accessory-lesbian",
   "metadata": {},
   "outputs": [
    {
     "name": "stdout",
     "output_type": "stream",
     "text": [
      "INFO:tensorflow:Running scoring on 2 samples\n",
      "INFO:tensorflow:process 100.0%, 1.71 examples/sec\n"
     ]
    },
    {
     "data": {
      "text/plain": [
       "{'accuracy': 1.0, 'bleu': 1.167464554718947, 'rouge': 1.0, 'loss': 0.04761826}"
      ]
     },
     "execution_count": 6,
     "metadata": {},
     "output_type": "execute_result"
    }
   ],
   "source": [
    "model.score(X, y)"
   ]
  }
 ],
 "metadata": {
  "kernelspec": {
   "display_name": "Python 3.9.13 64-bit",
   "language": "python",
   "name": "python3"
  },
  "language_info": {
   "codemirror_mode": {
    "name": "ipython",
    "version": 3
   },
   "file_extension": ".py",
   "mimetype": "text/x-python",
   "name": "python",
   "nbconvert_exporter": "python",
   "pygments_lexer": "ipython3",
   "version": "3.9.13"
  },
  "vscode": {
   "interpreter": {
    "hash": "265fd6f62f200408acbbeae0248f34bed9f93569a643842b7a25d2cd76cae5e5"
   }
  }
 },
 "nbformat": 4,
 "nbformat_minor": 5
}
