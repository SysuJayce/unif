{
 "cells": [
  {
   "cell_type": "code",
   "execution_count": 1,
   "id": "rotary-academy",
   "metadata": {},
   "outputs": [
    {
     "name": "stdout",
     "output_type": "stream",
     "text": [
      "beta v2.8.0\n"
     ]
    }
   ],
   "source": [
    "import uf\n",
    "\n",
    "print(uf.__version__)"
   ]
  },
  {
   "cell_type": "code",
   "execution_count": 2,
   "id": "velvet-symbol",
   "metadata": {},
   "outputs": [
    {
     "name": "stdout",
     "output_type": "stream",
     "text": [
      "INFO:tensorflow:Add necessary token `<s>` into vocabulary.\n",
      "INFO:tensorflow:Add necessary token `</s>` into vocabulary.\n",
      "uf.TransformerMT(vocab_file='../demo/vocab.txt', source_max_seq_length=64, target_max_seq_length=64, init_checkpoint=None, output_dir=None, gpu_ids=None, hidden_size=768, num_hidden_layers=12, num_attention_heads=12, do_lower_case=True, truncate_method='LIFO')\n"
     ]
    }
   ],
   "source": [
    "model = uf.TransformerMT('../../demo/vocab.txt')\n",
    "print(model)"
   ]
  },
  {
   "cell_type": "code",
   "execution_count": 3,
   "id": "drawn-breathing",
   "metadata": {},
   "outputs": [],
   "source": [
    "X = ['天亮以前说再见', '去迎接应该你的']\n",
    "y = ['笑着泪流满面', '更好的明天']"
   ]
  },
  {
   "cell_type": "markdown",
   "id": "vanilla-fault",
   "metadata": {},
   "source": [
    "# 训练"
   ]
  },
  {
   "cell_type": "code",
   "execution_count": 4,
   "id": "excellent-religion",
   "metadata": {},
   "outputs": [
    {
     "name": "stdout",
     "output_type": "stream",
     "text": [
      "WARNING:tensorflow:From /Users/geyingli/Library/Python/3.8/lib/python/site-packages/tensorflow/python/util/dispatch.py:201: calling dropout (from tensorflow.python.ops.nn_ops) with keep_prob is deprecated and will be removed in a future version.\n",
      "Instructions for updating:\n",
      "Please use `rate` instead of `keep_prob`. Rate should be set to `rate = 1 - keep_prob`.\n",
      "WARNING:tensorflow:From /Users/geyingli/Library/Python/3.8/lib/python/site-packages/uf-beta.v2.8.0-py3.8.egg/uf/modeling/transformer.py:431: to_float (from tensorflow.python.ops.math_ops) is deprecated and will be removed in a future version.\n",
      "Instructions for updating:\n",
      "Use `tf.cast` instead.\n"
     ]
    },
    {
     "name": "stderr",
     "output_type": "stream",
     "text": [
      "/Users/geyingli/Library/Python/3.8/lib/python/site-packages/tensorflow/python/keras/legacy_tf_layers/core.py:171: UserWarning: `tf.layers.dense` is deprecated and will be removed in a future version. Please use `tf.keras.layers.Dense` instead.\n",
      "  warnings.warn('`tf.layers.dense` is deprecated and '\n",
      "/Users/geyingli/Library/Python/3.8/lib/python/site-packages/tensorflow/python/keras/engine/base_layer_v1.py:1719: UserWarning: `layer.apply` is deprecated and will be removed in a future version. Please use `layer.__call__` method instead.\n",
      "  warnings.warn('`layer.apply` is deprecated and '\n",
      "/Users/geyingli/Library/Python/3.8/lib/python/site-packages/tensorflow/python/keras/legacy_tf_layers/core.py:268: UserWarning: `tf.layers.dropout` is deprecated and will be removed in a future version. Please use `tf.keras.layers.Dropout` instead.\n",
      "  warnings.warn('`tf.layers.dropout` is deprecated and '\n"
     ]
    },
    {
     "name": "stdout",
     "output_type": "stream",
     "text": [
      "WARNING:tensorflow:From /Users/geyingli/Library/Python/3.8/lib/python/site-packages/tensorflow/python/ops/linalg/linear_operator_lower_triangular.py:159: calling LinearOperator.__init__ (from tensorflow.python.ops.linalg.linear_operator) with graph_parents is deprecated and will be removed in a future version.\n",
      "Instructions for updating:\n",
      "Do not pass `graph_parents`.  They will  no longer be used.\n",
      "INFO:tensorflow:Build graph with 580,390,302 parameters (among which 193,463,434 are trainable)\n",
      "INFO:tensorflow:Running local_init_op\n",
      "INFO:tensorflow:Done running local_init_op\n",
      "INFO:tensorflow:Running training on 2 samples (step 0 -> 20)\n",
      "INFO:tensorflow:step 1, accuracy 0.0000, loss 9.681842, 0.06 steps/sec, 0.11 examples/sec\n",
      "INFO:tensorflow:step 2, accuracy 0.0000, loss 9.706264, 0.37 steps/sec, 0.73 examples/sec\n",
      "INFO:tensorflow:step 3, accuracy 0.1538, loss 6.512622, 0.38 steps/sec, 0.75 examples/sec\n",
      "INFO:tensorflow:step 4, accuracy 0.1538, loss 3.548132, 0.34 steps/sec, 0.68 examples/sec\n",
      "INFO:tensorflow:step 5, accuracy 0.0769, loss 3.063949, 0.36 steps/sec, 0.73 examples/sec\n",
      "INFO:tensorflow:step 6, accuracy 0.0769, loss 3.367407, 0.36 steps/sec, 0.72 examples/sec\n",
      "INFO:tensorflow:step 7, accuracy 0.0769, loss 3.049766, 0.33 steps/sec, 0.67 examples/sec\n",
      "INFO:tensorflow:step 8, accuracy 0.0769, loss 2.660238, 0.35 steps/sec, 0.70 examples/sec\n",
      "INFO:tensorflow:step 9, accuracy 0.1538, loss 2.631014, 0.35 steps/sec, 0.71 examples/sec\n",
      "INFO:tensorflow:step 10, accuracy 0.1538, loss 2.854394, 0.37 steps/sec, 0.74 examples/sec\n",
      "INFO:tensorflow:step 11, accuracy 0.1538, loss 2.690384, 0.34 steps/sec, 0.69 examples/sec\n",
      "INFO:tensorflow:step 12, accuracy 0.1538, loss 2.540227, 0.35 steps/sec, 0.69 examples/sec\n",
      "INFO:tensorflow:step 13, accuracy 0.0769, loss 2.535194, 0.39 steps/sec, 0.77 examples/sec\n",
      "INFO:tensorflow:step 14, accuracy 0.0769, loss 2.591012, 0.35 steps/sec, 0.71 examples/sec\n",
      "INFO:tensorflow:step 15, accuracy 0.0769, loss 2.580113, 0.38 steps/sec, 0.76 examples/sec\n",
      "INFO:tensorflow:step 16, accuracy 0.0769, loss 2.500066, 0.38 steps/sec, 0.76 examples/sec\n",
      "INFO:tensorflow:step 17, accuracy 0.1538, loss 2.465268, 0.38 steps/sec, 0.76 examples/sec\n",
      "INFO:tensorflow:step 18, accuracy 0.1538, loss 2.474552, 0.39 steps/sec, 0.77 examples/sec\n",
      "INFO:tensorflow:step 19, accuracy 0.1538, loss 2.487949, 0.39 steps/sec, 0.77 examples/sec\n",
      "INFO:tensorflow:step 20, accuracy 0.1538, loss 2.485149, 0.39 steps/sec, 0.77 examples/sec\n"
     ]
    }
   ],
   "source": [
    "model.fit(X, y, total_steps=20, learning_rate=5e-3)"
   ]
  },
  {
   "cell_type": "markdown",
   "id": "absolute-florist",
   "metadata": {},
   "source": [
    "注：transformer对于模型规格与数据体量的一致性，要求是极其严格的，需要回到第[2]步详细地调参(`hidden_size`、`num_hidden_layers`)，才能快速收敛。这里就不展示了"
   ]
  },
  {
   "cell_type": "markdown",
   "id": "fallen-hundred",
   "metadata": {},
   "source": [
    "# 推理"
   ]
  },
  {
   "cell_type": "code",
   "execution_count": 5,
   "id": "opposite-pantyhose",
   "metadata": {},
   "outputs": [
    {
     "name": "stdout",
     "output_type": "stream",
     "text": [
      "INFO:tensorflow:Time usage 4m-40.17s, 0.00 steps/sec, 0.01 examples/sec\n"
     ]
    },
    {
     "data": {
      "text/plain": [
       "{'preds': ['', '']}"
      ]
     },
     "execution_count": 5,
     "metadata": {},
     "output_type": "execute_result"
    }
   ],
   "source": [
    "model.predict(X)"
   ]
  },
  {
   "cell_type": "markdown",
   "id": "fundamental-poverty",
   "metadata": {},
   "source": [
    "# 评分"
   ]
  },
  {
   "cell_type": "code",
   "execution_count": 6,
   "id": "accessory-lesbian",
   "metadata": {},
   "outputs": [
    {
     "name": "stdout",
     "output_type": "stream",
     "text": [
      "INFO:tensorflow:Time usage 2m-34.18s, 0.01 steps/sec, 0.01 examples/sec\n"
     ]
    },
    {
     "data": {
      "text/plain": [
       "{'accuracy': 0.15384615384615385,\n",
       " 'bleu': 3.1622776601683863e-13,\n",
       " 'rouge': 0.0,\n",
       " 'loss': 2.4785006}"
      ]
     },
     "execution_count": 6,
     "metadata": {},
     "output_type": "execute_result"
    }
   ],
   "source": [
    "model.score(X, y)"
   ]
  }
 ],
 "metadata": {
  "kernelspec": {
   "display_name": "Python 3",
   "language": "python",
   "name": "python3"
  },
  "language_info": {
   "codemirror_mode": {
    "name": "ipython",
    "version": 3
   },
   "file_extension": ".py",
   "mimetype": "text/x-python",
   "name": "python",
   "nbconvert_exporter": "python",
   "pygments_lexer": "ipython3",
   "version": "3.8.2"
  }
 },
 "nbformat": 4,
 "nbformat_minor": 5
}
