{
 "cells": [
  {
   "cell_type": "markdown",
   "id": "challenging-involvement",
   "metadata": {},
   "source": [
    "# TransformerMT\n",
    "\n",
    "可用的中文预训练参数：暂无"
   ]
  },
  {
   "cell_type": "code",
   "execution_count": 1,
   "id": "rotary-academy",
   "metadata": {},
   "outputs": [
    {
     "name": "stdout",
     "output_type": "stream",
     "text": [
      "v2.4.5\n"
     ]
    }
   ],
   "source": [
    "import uf\n",
    "\n",
    "print(uf.__version__)"
   ]
  },
  {
   "cell_type": "code",
   "execution_count": 2,
   "id": "velvet-symbol",
   "metadata": {},
   "outputs": [
    {
     "name": "stdout",
     "output_type": "stream",
     "text": [
      "INFO:tensorflow:Add necessary token `<s>` into vocabulary.\n",
      "INFO:tensorflow:Add necessary token `</s>` into vocabulary.\n",
      "uf.TransformerMT(\n",
      "    vocab_file=\"../../demo/vocab.txt\",\n",
      "    source_max_seq_length=64,\n",
      "    target_max_seq_length=64,\n",
      "    init_checkpoint=None,\n",
      "    output_dir=None,\n",
      "    gpu_ids=None,\n",
      "    hidden_size=768,\n",
      "    num_hidden_layers=12,\n",
      "    num_attention_heads=12,\n",
      "    do_lower_case=True,\n",
      "    truncate_method=\"LIFO\",\n",
      ")\n"
     ]
    }
   ],
   "source": [
    "model = uf.TransformerMT('../../demo/vocab.txt')\n",
    "print(model)"
   ]
  },
  {
   "cell_type": "code",
   "execution_count": 3,
   "id": "drawn-breathing",
   "metadata": {},
   "outputs": [],
   "source": [
    "X = ['天亮以前说再见', '去迎接应该你的']\n",
    "y = ['笑着泪流满面', '更好的明天']"
   ]
  },
  {
   "cell_type": "markdown",
   "id": "vanilla-fault",
   "metadata": {},
   "source": [
    "# 训练"
   ]
  },
  {
   "cell_type": "code",
   "execution_count": 4,
   "id": "excellent-religion",
   "metadata": {},
   "outputs": [
    {
     "name": "stdout",
     "output_type": "stream",
     "text": [
      "WARNING:tensorflow:From /Users/geyingli/Library/Python/3.8/lib/python/site-packages/tensorflow/python/util/dispatch.py:1096: calling dropout (from tensorflow.python.ops.nn_ops) with keep_prob is deprecated and will be removed in a future version.\n",
      "Instructions for updating:\n",
      "Please use `rate` instead of `keep_prob`. Rate should be set to `rate = 1 - keep_prob`.\n",
      "WARNING:tensorflow:From /Users/geyingli/Library/Python/3.8/lib/python/site-packages/uf-2.3.2-py3.8.egg/uf/modeling/transformer.py:417: to_float (from tensorflow.python.ops.math_ops) is deprecated and will be removed in a future version.\n",
      "Instructions for updating:\n",
      "Use `tf.cast` instead.\n"
     ]
    },
    {
     "name": "stderr",
     "output_type": "stream",
     "text": [
      "/Users/geyingli/Library/Python/3.8/lib/python/site-packages/uf-2.3.2-py3.8.egg/uf/modeling/transformer.py:470: UserWarning: `tf.layers.dense` is deprecated and will be removed in a future version. Please use `tf.keras.layers.Dense` instead.\n",
      "  Q = tf.layers.dense(\n",
      "/Users/geyingli/Library/Python/3.8/lib/python/site-packages/keras/legacy_tf_layers/core.py:255: UserWarning: `layer.apply` is deprecated and will be removed in a future version. Please use `layer.__call__` method instead.\n",
      "  return layer.apply(inputs)\n",
      "/Users/geyingli/Library/Python/3.8/lib/python/site-packages/uf-2.3.2-py3.8.egg/uf/modeling/transformer.py:472: UserWarning: `tf.layers.dense` is deprecated and will be removed in a future version. Please use `tf.keras.layers.Dense` instead.\n",
      "  K = tf.layers.dense(\n",
      "/Users/geyingli/Library/Python/3.8/lib/python/site-packages/uf-2.3.2-py3.8.egg/uf/modeling/transformer.py:474: UserWarning: `tf.layers.dense` is deprecated and will be removed in a future version. Please use `tf.keras.layers.Dense` instead.\n",
      "  V = tf.layers.dense(\n",
      "/Users/geyingli/Library/Python/3.8/lib/python/site-packages/uf-2.3.2-py3.8.egg/uf/modeling/transformer.py:383: UserWarning: `tf.layers.dropout` is deprecated and will be removed in a future version. Please use `tf.keras.layers.Dropout` instead.\n",
      "  outputs = tf.layers.dropout(\n",
      "/Users/geyingli/Library/Python/3.8/lib/python/site-packages/keras/legacy_tf_layers/core.py:401: UserWarning: `layer.apply` is deprecated and will be removed in a future version. Please use `layer.__call__` method instead.\n",
      "  return layer.apply(inputs, training=training)\n",
      "/Users/geyingli/Library/Python/3.8/lib/python/site-packages/uf-2.3.2-py3.8.egg/uf/modeling/transformer.py:513: UserWarning: `tf.layers.dense` is deprecated and will be removed in a future version. Please use `tf.keras.layers.Dense` instead.\n",
      "  outputs = tf.layers.dense(inputs, num_units[0], activation=tf.nn.relu)\n",
      "/Users/geyingli/Library/Python/3.8/lib/python/site-packages/uf-2.3.2-py3.8.egg/uf/modeling/transformer.py:516: UserWarning: `tf.layers.dense` is deprecated and will be removed in a future version. Please use `tf.keras.layers.Dense` instead.\n",
      "  outputs = tf.layers.dense(outputs, num_units[1])\n"
     ]
    },
    {
     "name": "stdout",
     "output_type": "stream",
     "text": [
      "INFO:tensorflow:Build graph with 580,390,302 parameters (among which 193,463,434 are trainable)\n",
      "INFO:tensorflow:Running local_init_op\n",
      "INFO:tensorflow:Done running local_init_op\n",
      "INFO:tensorflow:Running training on 2 samples (step 0 -> 20)\n",
      "INFO:tensorflow:step 1, accuracy 0.0000, loss 10.065262, 0.05 steps/sec, 0.10 examples/sec\n",
      "INFO:tensorflow:step 2, accuracy 0.0000, loss 10.103497, 0.26 steps/sec, 0.52 examples/sec\n",
      "INFO:tensorflow:step 3, accuracy 0.1538, loss 6.542942, 0.34 steps/sec, 0.69 examples/sec\n",
      "INFO:tensorflow:step 4, accuracy 0.1538, loss 3.595195, 0.36 steps/sec, 0.72 examples/sec\n",
      "INFO:tensorflow:step 5, accuracy 0.0769, loss 2.912381, 0.37 steps/sec, 0.73 examples/sec\n",
      "INFO:tensorflow:step 6, accuracy 0.0769, loss 3.030532, 0.32 steps/sec, 0.65 examples/sec\n",
      "INFO:tensorflow:step 7, accuracy 0.0769, loss 2.648197, 0.34 steps/sec, 0.67 examples/sec\n",
      "INFO:tensorflow:step 8, accuracy 0.1538, loss 2.815278, 0.36 steps/sec, 0.73 examples/sec\n",
      "INFO:tensorflow:step 9, accuracy 0.1538, loss 3.005631, 0.23 steps/sec, 0.46 examples/sec\n",
      "INFO:tensorflow:step 10, accuracy 0.0769, loss 2.816605, 0.32 steps/sec, 0.63 examples/sec\n",
      "INFO:tensorflow:step 11, accuracy 0.0769, loss 2.533929, 0.36 steps/sec, 0.71 examples/sec\n",
      "INFO:tensorflow:step 12, accuracy 0.0769, loss 2.588011, 0.36 steps/sec, 0.72 examples/sec\n",
      "INFO:tensorflow:step 13, accuracy 0.0769, loss 2.657264, 0.36 steps/sec, 0.73 examples/sec\n",
      "INFO:tensorflow:step 14, accuracy 0.0769, loss 2.601410, 0.36 steps/sec, 0.71 examples/sec\n",
      "INFO:tensorflow:step 15, accuracy 0.1538, loss 2.542339, 0.32 steps/sec, 0.64 examples/sec\n",
      "INFO:tensorflow:step 16, accuracy 0.1538, loss 2.518573, 0.35 steps/sec, 0.70 examples/sec\n",
      "INFO:tensorflow:step 17, accuracy 0.1538, loss 2.498314, 0.36 steps/sec, 0.72 examples/sec\n",
      "INFO:tensorflow:step 18, accuracy 0.1538, loss 2.485898, 0.36 steps/sec, 0.72 examples/sec\n",
      "INFO:tensorflow:step 19, accuracy 0.1538, loss 2.484391, 0.37 steps/sec, 0.74 examples/sec\n",
      "INFO:tensorflow:step 20, accuracy 0.0769, loss 2.481264, 0.36 steps/sec, 0.72 examples/sec\n"
     ]
    }
   ],
   "source": [
    "model.fit(X, y, total_steps=20, learning_rate=5e-3)"
   ]
  },
  {
   "cell_type": "markdown",
   "id": "absolute-florist",
   "metadata": {},
   "source": [
    "注：transformer对于模型规格与数据体量的一致性，要求是极其严格的，需要回到第[2]步详细地调参(`hidden_size`、`num_hidden_layers`)，才能快速收敛。这里就不展示了"
   ]
  },
  {
   "cell_type": "markdown",
   "id": "fallen-hundred",
   "metadata": {},
   "source": [
    "# 推理"
   ]
  },
  {
   "cell_type": "code",
   "execution_count": 5,
   "id": "opposite-pantyhose",
   "metadata": {},
   "outputs": [
    {
     "name": "stdout",
     "output_type": "stream",
     "text": [
      "INFO:tensorflow:Time usage 2m-59.27s, 0.01 steps/sec, 0.01 examples/sec\n"
     ]
    },
    {
     "data": {
      "text/plain": [
       "{'preds': ['天天天天天天天天天天天天天天天天天天天天天天天天天天天天天天天天天天天天天天天天天天天天天天天天天天天天天天天天天天天天天天天天',\n",
       "  '天天天天天天天天天天天天天天天天天天天天天天天天天天天天天天天天天天天天天天天天天天天天天天天天天天天天天天天天天天天天天天天天']}"
      ]
     },
     "execution_count": 5,
     "metadata": {},
     "output_type": "execute_result"
    }
   ],
   "source": [
    "model.predict(X)"
   ]
  },
  {
   "cell_type": "markdown",
   "id": "fundamental-poverty",
   "metadata": {},
   "source": [
    "# 评分"
   ]
  },
  {
   "cell_type": "code",
   "execution_count": 6,
   "id": "accessory-lesbian",
   "metadata": {},
   "outputs": [
    {
     "name": "stdout",
     "output_type": "stream",
     "text": [
      "INFO:tensorflow:Time usage 2m-33.13s, 0.01 steps/sec, 0.01 examples/sec\n"
     ]
    },
    {
     "data": {
      "text/plain": [
       "{'accuracy': 0.07692307692307693,\n",
       " 'bleu': 6.211699019511937e-09,\n",
       " 'rouge': 2.2857141224489914,\n",
       " 'loss': 2.4755273}"
      ]
     },
     "execution_count": 6,
     "metadata": {},
     "output_type": "execute_result"
    }
   ],
   "source": [
    "model.score(X, y)"
   ]
  }
 ],
 "metadata": {
  "kernelspec": {
   "display_name": "Python 3",
   "language": "python",
   "name": "python3"
  },
  "language_info": {
   "codemirror_mode": {
    "name": "ipython",
    "version": 3
   },
   "file_extension": ".py",
   "mimetype": "text/x-python",
   "name": "python",
   "nbconvert_exporter": "python",
   "pygments_lexer": "ipython3",
   "version": "3.8.2"
  }
 },
 "nbformat": 4,
 "nbformat_minor": 5
}
