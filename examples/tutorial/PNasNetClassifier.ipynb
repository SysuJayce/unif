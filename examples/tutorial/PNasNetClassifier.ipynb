{
 "cells": [
  {
   "cell_type": "markdown",
   "id": "bigger-internet",
   "metadata": {},
   "source": [
    "# PNasNetClassifier\n",
    "\n",
    "可用的预训练参数：[`pnasnet5-mobile`](https://storage.googleapis.com/download.tensorflow.org/models/pnasnet-5_mobile_2017_12_13.tar.gz),[`pnasnet5-large`](https://storage.googleapis.com/download.tensorflow.org/models/pnasnet-5_large_2017_12_13.tar.gz)"
   ]
  },
  {
   "cell_type": "code",
   "execution_count": 1,
   "id": "impossible-professor",
   "metadata": {},
   "outputs": [
    {
     "name": "stdout",
     "output_type": "stream",
     "text": [
      "v2.5.3\n"
     ]
    }
   ],
   "source": [
    "import uf\n",
    "import numpy as np\n",
    "\n",
    "print(uf.__version__)"
   ]
  },
  {
   "cell_type": "code",
   "execution_count": 2,
   "id": "minimal-cambodia",
   "metadata": {},
   "outputs": [
    {
     "name": "stdout",
     "output_type": "stream",
     "text": [
      "uf.PNasNetClassifier(\n",
      "    label_size=None,\n",
      "    init_checkpoint=None,\n",
      "    output_dir=None,\n",
      "    gpu_ids=None,\n",
      "    model_size=\"large\",\n",
      "    data_format=\"NHWC\",\n",
      ")\n"
     ]
    }
   ],
   "source": [
    "model = uf.PNasNetClassifier()\n",
    "print(model)"
   ]
  },
  {
   "cell_type": "code",
   "execution_count": 3,
   "id": "forty-marathon",
   "metadata": {},
   "outputs": [],
   "source": [
    "X = [np.random.randint(np.ones((200, 200, 3)) * 256) for _ in range(4)]     # 创建随机图片示例 shape=(200,200,3)\n",
    "y = [1, 0, 2, 0]"
   ]
  },
  {
   "cell_type": "markdown",
   "id": "looking-attempt",
   "metadata": {},
   "source": [
    "# 训练"
   ]
  },
  {
   "cell_type": "code",
   "execution_count": 4,
   "id": "sharing-macintosh",
   "metadata": {},
   "outputs": [
    {
     "name": "stdout",
     "output_type": "stream",
     "text": [
      "WARNING:tensorflow:From /Users/geyingli/Library/Python/3.8/lib/python/site-packages/uf-2.5.3-py3.8.egg/uf/apps/nasnet/pnasnet.py:160: is_gpu_available (from tensorflow.python.framework.test_util) is deprecated and will be removed in a future version.\n",
      "Instructions for updating:\n",
      "Use `tf.config.list_physical_devices('GPU')` instead.\n",
      "WARNING:tensorflow:From /Users/geyingli/Library/Python/3.8/lib/python/site-packages/keras/layers/normalization/batch_normalization.py:562: _colocate_with (from tensorflow.python.framework.ops) is deprecated and will be removed in a future version.\n",
      "Instructions for updating:\n",
      "Colocations handled automatically by placer.\n"
     ]
    },
    {
     "name": "stderr",
     "output_type": "stream",
     "text": [
      "/Users/geyingli/Library/Python/3.8/lib/python/site-packages/tf_slim-1.2.0-py3.8.egg/tf_slim/layers/layers.py:1660: UserWarning: `tf.layers.flatten` is deprecated and will be removed in a future version. Please use `tf.keras.layers.Flatten` instead.\n",
      "  outputs = tf.layers.flatten(inputs)\n"
     ]
    },
    {
     "name": "stdout",
     "output_type": "stream",
     "text": [
      "INFO:tensorflow:Build graph with 249,247,196 parameters (among which 85,569,154 are trainable)\n",
      "INFO:tensorflow:Running local_init_op\n",
      "INFO:tensorflow:Done running local_init_op\n",
      "INFO:tensorflow:Running training on 4 samples (step 0 -> 20)\n",
      "INFO:tensorflow:step 1, accuracy 0.5000, loss 1.592536, 0.03 steps/sec, 0.13 examples/sec\n",
      "INFO:tensorflow:step 2, accuracy 0.0000, loss 2.266301, 0.15 steps/sec, 0.62 examples/sec\n",
      "INFO:tensorflow:step 3, accuracy 0.7500, loss 1.266493, 0.16 steps/sec, 0.63 examples/sec\n",
      "INFO:tensorflow:step 4, accuracy 0.7500, loss 0.568841, 0.16 steps/sec, 0.63 examples/sec\n",
      "INFO:tensorflow:step 5, accuracy 0.7500, loss 0.500915, 0.16 steps/sec, 0.62 examples/sec\n",
      "INFO:tensorflow:step 6, accuracy 1.0000, loss 0.051278, 0.16 steps/sec, 0.63 examples/sec\n",
      "INFO:tensorflow:step 7, accuracy 1.0000, loss 0.015412, 0.16 steps/sec, 0.63 examples/sec\n",
      "INFO:tensorflow:step 8, accuracy 1.0000, loss 0.031262, 0.16 steps/sec, 0.62 examples/sec\n",
      "INFO:tensorflow:step 9, accuracy 1.0000, loss 0.006557, 0.15 steps/sec, 0.62 examples/sec\n",
      "INFO:tensorflow:step 10, accuracy 1.0000, loss 0.002388, 0.16 steps/sec, 0.62 examples/sec\n",
      "INFO:tensorflow:step 11, accuracy 1.0000, loss 0.000878, 0.16 steps/sec, 0.62 examples/sec\n",
      "INFO:tensorflow:step 12, accuracy 1.0000, loss 0.003024, 0.16 steps/sec, 0.62 examples/sec\n",
      "INFO:tensorflow:step 13, accuracy 1.0000, loss 0.000428, 0.16 steps/sec, 0.62 examples/sec\n",
      "INFO:tensorflow:step 14, accuracy 1.0000, loss 0.001968, 0.16 steps/sec, 0.63 examples/sec\n",
      "INFO:tensorflow:step 15, accuracy 1.0000, loss 0.000791, 0.16 steps/sec, 0.63 examples/sec\n",
      "INFO:tensorflow:step 16, accuracy 1.0000, loss 0.000964, 0.15 steps/sec, 0.61 examples/sec\n",
      "INFO:tensorflow:step 17, accuracy 1.0000, loss 0.000158, 0.16 steps/sec, 0.62 examples/sec\n",
      "INFO:tensorflow:step 18, accuracy 1.0000, loss 0.000041, 0.15 steps/sec, 0.61 examples/sec\n",
      "INFO:tensorflow:step 19, accuracy 1.0000, loss 0.000035, 0.15 steps/sec, 0.59 examples/sec\n",
      "INFO:tensorflow:step 20, accuracy 1.0000, loss 0.000051, 0.15 steps/sec, 0.60 examples/sec\n"
     ]
    }
   ],
   "source": [
    "model.fit(X, y, total_steps=20)"
   ]
  },
  {
   "cell_type": "markdown",
   "id": "studied-mechanism",
   "metadata": {},
   "source": [
    "# 推理"
   ]
  },
  {
   "cell_type": "code",
   "execution_count": 5,
   "id": "239a6eaa",
   "metadata": {},
   "outputs": [
    {
     "name": "stdout",
     "output_type": "stream",
     "text": [
      "INFO:tensorflow:Running inference on 4 samples\n",
      "INFO:tensorflow:process 100.0%, 0.62 examples/sec\n"
     ]
    },
    {
     "data": {
      "text/plain": [
       "{'preds': [1, 0, 2, 0],\n",
       " 'probs': array([[3.2716264e-06, 9.9998748e-01, 9.2409609e-06],\n",
       "        [9.9988532e-01, 5.7304518e-05, 5.7304518e-05],\n",
       "        [4.2271467e-06, 4.2271467e-06, 9.9999154e-01],\n",
       "        [9.9998283e-01, 8.5375405e-06, 8.5375405e-06]], dtype=float32)}"
      ]
     },
     "execution_count": 5,
     "metadata": {},
     "output_type": "execute_result"
    }
   ],
   "source": [
    "model.predict(X)"
   ]
  },
  {
   "cell_type": "markdown",
   "id": "every-professor",
   "metadata": {},
   "source": [
    "# 评分"
   ]
  },
  {
   "cell_type": "code",
   "execution_count": 6,
   "id": "great-alpha",
   "metadata": {},
   "outputs": [
    {
     "name": "stdout",
     "output_type": "stream",
     "text": [
      "INFO:tensorflow:Running scoring on 4 samples\n",
      "INFO:tensorflow:process 100.0%, 0.84 examples/sec\n"
     ]
    },
    {
     "data": {
      "text/plain": [
       "{'accuracy': 1.0, 'loss': 2.3364655e-05}"
      ]
     },
     "execution_count": 6,
     "metadata": {},
     "output_type": "execute_result"
    }
   ],
   "source": [
    "model.score(X, y)"
   ]
  }
 ],
 "metadata": {
  "kernelspec": {
   "display_name": "Python 3.9.13 64-bit",
   "language": "python",
   "name": "python3"
  },
  "language_info": {
   "codemirror_mode": {
    "name": "ipython",
    "version": 3
   },
   "file_extension": ".py",
   "mimetype": "text/x-python",
   "name": "python",
   "nbconvert_exporter": "python",
   "pygments_lexer": "ipython3",
   "version": "3.8.2"
  },
  "vscode": {
   "interpreter": {
    "hash": "265fd6f62f200408acbbeae0248f34bed9f93569a643842b7a25d2cd76cae5e5"
   }
  }
 },
 "nbformat": 4,
 "nbformat_minor": 5
}
