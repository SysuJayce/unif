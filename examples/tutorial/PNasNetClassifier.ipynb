{
 "cells": [
  {
   "cell_type": "markdown",
   "id": "bigger-internet",
   "metadata": {},
   "source": [
    "# PNasNetClassifier\n",
    "\n",
    "可用的预训练参数：[`pnasnet5-mobile`](https://storage.googleapis.com/download.tensorflow.org/models/pnasnet-5_mobile_2017_12_13.tar.gz),[`pnasnet5-large`](https://storage.googleapis.com/download.tensorflow.org/models/pnasnet-5_large_2017_12_13.tar.gz)"
   ]
  },
  {
   "cell_type": "code",
   "execution_count": 1,
   "id": "impossible-professor",
   "metadata": {},
   "outputs": [
    {
     "name": "stdout",
     "output_type": "stream",
     "text": [
      "v2.5.3\n"
     ]
    }
   ],
   "source": [
    "import uf\n",
    "import numpy as np\n",
    "\n",
    "print(uf.__version__)"
   ]
  },
  {
   "cell_type": "code",
   "execution_count": 2,
   "id": "minimal-cambodia",
   "metadata": {},
   "outputs": [
    {
     "name": "stdout",
     "output_type": "stream",
     "text": [
      "uf.PNasNetClassifier(\n",
      "    label_size=None,\n",
      "    init_checkpoint=None,\n",
      "    output_dir=None,\n",
      "    gpu_ids=None,\n",
      "    model_size=\"large\",\n",
      "    data_format=\"NHWC\",\n",
      ")\n"
     ]
    }
   ],
   "source": [
    "model = uf.PNasNetClassifier()\n",
    "print(model)"
   ]
  },
  {
   "cell_type": "code",
   "execution_count": 3,
   "id": "forty-marathon",
   "metadata": {},
   "outputs": [],
   "source": [
    "X = [np.random.randint(np.ones((200, 200, 3)) * 256) for _ in range(4)]     # 创建随机图片示例 shape=(200,200,3)\n",
    "y = [1, 0, 2, 0]"
   ]
  },
  {
   "cell_type": "markdown",
   "id": "looking-attempt",
   "metadata": {},
   "source": [
    "# 训练"
   ]
  },
  {
   "cell_type": "code",
   "execution_count": 4,
   "id": "sharing-macintosh",
   "metadata": {},
   "outputs": [
    {
     "name": "stdout",
     "output_type": "stream",
     "text": [
      "WARNING:tensorflow:From c:\\Users\\Luv_d\\AppData\\Local\\Programs\\Python\\Python39\\lib\\site-packages\\uf-2.5.3-py3.9.egg\\uf\\apps\\nasnet\\pnasnet.py:160: is_gpu_available (from tensorflow.python.framework.test_util) is deprecated and will be removed in a future version.\n",
      "Instructions for updating:\n",
      "Use `tf.config.list_physical_devices('GPU')` instead.\n",
      "WARNING:tensorflow:From c:\\Users\\Luv_d\\AppData\\Local\\Programs\\Python\\Python39\\lib\\site-packages\\keras\\layers\\normalization\\batch_normalization.py:562: _colocate_with (from tensorflow.python.framework.ops) is deprecated and will be removed in a future version.\n",
      "Instructions for updating:\n",
      "Colocations handled automatically by placer.\n"
     ]
    },
    {
     "name": "stderr",
     "output_type": "stream",
     "text": [
      "c:\\Users\\Luv_d\\AppData\\Local\\Programs\\Python\\Python39\\lib\\site-packages\\tf_slim-1.2.0-py3.9.egg\\tf_slim\\layers\\layers.py:1660: UserWarning: `tf.layers.flatten` is deprecated and will be removed in a future version. Please use `tf.keras.layers.Flatten` instead.\n"
     ]
    },
    {
     "name": "stdout",
     "output_type": "stream",
     "text": [
      "INFO:tensorflow:Build graph with 249,247,196 parameters (among which 85,569,154 are trainable)\n",
      "INFO:tensorflow:Running local_init_op\n",
      "INFO:tensorflow:Done running local_init_op\n",
      "INFO:tensorflow:Running training on 4 samples (step 0 -> 20)\n",
      "INFO:tensorflow:step 1, accuracy 0.2500, loss 1.645916, 0.06 steps/sec, 0.23 examples/sec\n",
      "INFO:tensorflow:step 2, accuracy 0.5000, loss 1.437910, 0.29 steps/sec, 1.15 examples/sec\n",
      "INFO:tensorflow:step 3, accuracy 1.0000, loss 0.292753, 0.30 steps/sec, 1.20 examples/sec\n",
      "INFO:tensorflow:step 4, accuracy 0.7500, loss 0.455378, 0.30 steps/sec, 1.19 examples/sec\n",
      "INFO:tensorflow:step 5, accuracy 1.0000, loss 0.181514, 0.30 steps/sec, 1.18 examples/sec\n",
      "INFO:tensorflow:step 6, accuracy 1.0000, loss 0.206375, 0.27 steps/sec, 1.09 examples/sec\n",
      "INFO:tensorflow:step 7, accuracy 1.0000, loss 0.074336, 0.29 steps/sec, 1.15 examples/sec\n",
      "INFO:tensorflow:step 8, accuracy 1.0000, loss 0.094833, 0.29 steps/sec, 1.16 examples/sec\n",
      "INFO:tensorflow:step 9, accuracy 1.0000, loss 0.008595, 0.27 steps/sec, 1.08 examples/sec\n",
      "INFO:tensorflow:step 10, accuracy 1.0000, loss 0.024973, 0.30 steps/sec, 1.20 examples/sec\n",
      "INFO:tensorflow:step 11, accuracy 1.0000, loss 0.003941, 0.30 steps/sec, 1.21 examples/sec\n",
      "INFO:tensorflow:step 12, accuracy 1.0000, loss 0.001066, 0.31 steps/sec, 1.22 examples/sec\n",
      "INFO:tensorflow:step 13, accuracy 1.0000, loss 0.005520, 0.31 steps/sec, 1.24 examples/sec\n",
      "INFO:tensorflow:step 14, accuracy 1.0000, loss 0.000793, 0.31 steps/sec, 1.24 examples/sec\n",
      "INFO:tensorflow:step 15, accuracy 1.0000, loss 0.000329, 0.31 steps/sec, 1.23 examples/sec\n",
      "INFO:tensorflow:step 16, accuracy 1.0000, loss 0.000046, 0.30 steps/sec, 1.22 examples/sec\n",
      "INFO:tensorflow:step 17, accuracy 1.0000, loss 0.000110, 0.30 steps/sec, 1.18 examples/sec\n",
      "INFO:tensorflow:step 18, accuracy 1.0000, loss 0.000108, 0.28 steps/sec, 1.13 examples/sec\n",
      "INFO:tensorflow:step 19, accuracy 1.0000, loss 0.000043, 0.28 steps/sec, 1.13 examples/sec\n",
      "INFO:tensorflow:step 20, accuracy 1.0000, loss 0.000061, 0.28 steps/sec, 1.12 examples/sec\n"
     ]
    }
   ],
   "source": [
    "model.fit(X, y, total_steps=20)"
   ]
  },
  {
   "cell_type": "markdown",
   "id": "studied-mechanism",
   "metadata": {},
   "source": [
    "# 推理"
   ]
  },
  {
   "cell_type": "code",
   "execution_count": 5,
   "id": "239a6eaa",
   "metadata": {},
   "outputs": [
    {
     "name": "stdout",
     "output_type": "stream",
     "text": [
      "INFO:tensorflow:Running inference on 4 samples\n",
      "INFO:tensorflow:process 100.0%, 1.27 examples/sec\n"
     ]
    },
    {
     "data": {
      "text/plain": [
       "{'preds': [1, 0, 2, 0],\n",
       " 'probs': array([[3.5905155e-06, 9.9999285e-01, 3.5905155e-06],\n",
       "        [9.9999475e-01, 2.6153464e-06, 2.6153464e-06],\n",
       "        [1.7070314e-06, 1.7070314e-06, 9.9999654e-01],\n",
       "        [9.9993730e-01, 3.1330666e-05, 3.1330666e-05]], dtype=float32)}"
      ]
     },
     "execution_count": 5,
     "metadata": {},
     "output_type": "execute_result"
    }
   ],
   "source": [
    "model.predict(X)"
   ]
  },
  {
   "cell_type": "markdown",
   "id": "every-professor",
   "metadata": {},
   "source": [
    "# 评分"
   ]
  },
  {
   "cell_type": "code",
   "execution_count": 6,
   "id": "great-alpha",
   "metadata": {},
   "outputs": [
    {
     "name": "stdout",
     "output_type": "stream",
     "text": [
      "INFO:tensorflow:Running scoring on 4 samples\n",
      "INFO:tensorflow:process 100.0%, 1.92 examples/sec\n"
     ]
    },
    {
     "data": {
      "text/plain": [
       "{'accuracy': 1.0, 'loss': 1.4811421e-05}"
      ]
     },
     "execution_count": 6,
     "metadata": {},
     "output_type": "execute_result"
    }
   ],
   "source": [
    "model.score(X, y)"
   ]
  }
 ],
 "metadata": {
  "kernelspec": {
   "display_name": "Python 3.9.13 64-bit",
   "language": "python",
   "name": "python3"
  },
  "language_info": {
   "codemirror_mode": {
    "name": "ipython",
    "version": 3
   },
   "file_extension": ".py",
   "mimetype": "text/x-python",
   "name": "python",
   "nbconvert_exporter": "python",
   "pygments_lexer": "ipython3",
   "version": "3.9.13"
  },
  "vscode": {
   "interpreter": {
    "hash": "265fd6f62f200408acbbeae0248f34bed9f93569a643842b7a25d2cd76cae5e5"
   }
  }
 },
 "nbformat": 4,
 "nbformat_minor": 5
}
