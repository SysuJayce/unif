{
 "cells": [
  {
   "cell_type": "code",
   "execution_count": 1,
   "id": "rotary-academy",
   "metadata": {},
   "outputs": [
    {
     "name": "stdout",
     "output_type": "stream",
     "text": [
      "beta v2.8.0\n"
     ]
    }
   ],
   "source": [
    "import uf\n",
    "\n",
    "print(uf.__version__)"
   ]
  },
  {
   "cell_type": "code",
   "execution_count": 2,
   "id": "velvet-symbol",
   "metadata": {},
   "outputs": [
    {
     "name": "stdout",
     "output_type": "stream",
     "text": [
      "uf.BERTBinaryClassifier(config_file='../demo/bert_config.json', vocab_file='../demo/vocab.txt', max_seq_length=128, label_size=None, label_weight=None, init_checkpoint=None, output_dir=None, gpu_ids=None, drop_pooler=False, do_lower_case=True, truncate_method='LIFO')\n"
     ]
    }
   ],
   "source": [
    "model = uf.BERTBinaryClassifier('../../demo/bert_config.json', '../../demo/vocab.txt')\n",
    "print(model)"
   ]
  },
  {
   "cell_type": "code",
   "execution_count": 3,
   "id": "drawn-breathing",
   "metadata": {},
   "outputs": [],
   "source": [
    "X = ['天亮以前说再见', '笑着泪流满面', '去迎接应该你的', '更好的明天']\n",
    "y = [[0, 2], [1], [1], []]"
   ]
  },
  {
   "cell_type": "markdown",
   "id": "vanilla-fault",
   "metadata": {},
   "source": [
    "# 训练"
   ]
  },
  {
   "cell_type": "code",
   "execution_count": 4,
   "id": "excellent-religion",
   "metadata": {},
   "outputs": [
    {
     "name": "stdout",
     "output_type": "stream",
     "text": [
      "WARNING:tensorflow:From /Users/geyingli/Library/Python/3.8/lib/python/site-packages/tensorflow/python/util/dispatch.py:201: calling dropout (from tensorflow.python.ops.nn_ops) with keep_prob is deprecated and will be removed in a future version.\n",
      "Instructions for updating:\n",
      "Please use `rate` instead of `keep_prob`. Rate should be set to `rate = 1 - keep_prob`.\n"
     ]
    },
    {
     "name": "stderr",
     "output_type": "stream",
     "text": [
      "/Users/geyingli/Library/Python/3.8/lib/python/site-packages/tensorflow/python/keras/legacy_tf_layers/core.py:171: UserWarning: `tf.layers.dense` is deprecated and will be removed in a future version. Please use `tf.keras.layers.Dense` instead.\n",
      "  warnings.warn('`tf.layers.dense` is deprecated and '\n",
      "/Users/geyingli/Library/Python/3.8/lib/python/site-packages/tensorflow/python/keras/engine/base_layer_v1.py:1719: UserWarning: `layer.apply` is deprecated and will be removed in a future version. Please use `layer.__call__` method instead.\n",
      "  warnings.warn('`layer.apply` is deprecated and '\n"
     ]
    },
    {
     "name": "stdout",
     "output_type": "stream",
     "text": [
      "INFO:tensorflow:Build graph with 306,809,865 parameters (among which 102,269,955 are trainable)\n",
      "INFO:tensorflow:Running local_init_op\n",
      "INFO:tensorflow:Done running local_init_op\n",
      "INFO:tensorflow:Running training on 4 samples (step 0 -> 20)\n",
      "INFO:tensorflow:step 1, accuracy 0.5000, loss 2.029825, 0.06 steps/sec, 0.22 examples/sec\n",
      "INFO:tensorflow:step 2, accuracy 0.5833, loss 2.012588, 0.21 steps/sec, 0.83 examples/sec\n",
      "INFO:tensorflow:step 3, accuracy 0.6667, loss 1.784729, 0.21 steps/sec, 0.83 examples/sec\n",
      "INFO:tensorflow:step 4, accuracy 0.6667, loss 1.849764, 0.20 steps/sec, 0.79 examples/sec\n",
      "INFO:tensorflow:step 5, accuracy 0.6667, loss 1.812675, 0.20 steps/sec, 0.80 examples/sec\n",
      "INFO:tensorflow:step 6, accuracy 0.8333, loss 1.659196, 0.19 steps/sec, 0.76 examples/sec\n",
      "INFO:tensorflow:step 7, accuracy 0.8333, loss 1.600413, 0.19 steps/sec, 0.74 examples/sec\n",
      "INFO:tensorflow:step 8, accuracy 0.8333, loss 1.507231, 0.19 steps/sec, 0.78 examples/sec\n",
      "INFO:tensorflow:step 9, accuracy 0.8333, loss 1.467926, 0.22 steps/sec, 0.87 examples/sec\n",
      "INFO:tensorflow:step 10, accuracy 0.8333, loss 1.310562, 0.20 steps/sec, 0.78 examples/sec\n",
      "INFO:tensorflow:step 11, accuracy 0.8333, loss 1.101644, 0.20 steps/sec, 0.82 examples/sec\n",
      "INFO:tensorflow:step 12, accuracy 0.8333, loss 0.917818, 0.21 steps/sec, 0.84 examples/sec\n",
      "INFO:tensorflow:step 13, accuracy 1.0000, loss 0.668056, 0.22 steps/sec, 0.87 examples/sec\n",
      "INFO:tensorflow:step 14, accuracy 1.0000, loss 0.557912, 0.31 steps/sec, 1.23 examples/sec\n",
      "INFO:tensorflow:step 15, accuracy 1.0000, loss 0.437806, 0.31 steps/sec, 1.24 examples/sec\n",
      "INFO:tensorflow:step 16, accuracy 1.0000, loss 0.367961, 0.31 steps/sec, 1.23 examples/sec\n",
      "INFO:tensorflow:step 17, accuracy 1.0000, loss 0.333602, 0.31 steps/sec, 1.22 examples/sec\n",
      "INFO:tensorflow:step 18, accuracy 1.0000, loss 0.292119, 0.31 steps/sec, 1.23 examples/sec\n",
      "INFO:tensorflow:step 19, accuracy 1.0000, loss 0.282758, 0.33 steps/sec, 1.31 examples/sec\n",
      "INFO:tensorflow:step 20, accuracy 1.0000, loss 0.272838, 0.34 steps/sec, 1.37 examples/sec\n"
     ]
    }
   ],
   "source": [
    "model.fit(X, y, total_steps=20)"
   ]
  },
  {
   "cell_type": "markdown",
   "id": "fallen-hundred",
   "metadata": {},
   "source": [
    "# 推理"
   ]
  },
  {
   "cell_type": "code",
   "execution_count": 5,
   "id": "opposite-pantyhose",
   "metadata": {},
   "outputs": [
    {
     "name": "stdout",
     "output_type": "stream",
     "text": [
      "INFO:tensorflow:Time usage 0m-1.39s, 0.72 steps/sec, 2.88 examples/sec\n"
     ]
    },
    {
     "data": {
      "text/plain": [
       "{'preds': [[0, 2], [1], [1], []],\n",
       " 'probs': array([[0.8902317 , 0.03760058, 0.88209736],\n",
       "        [0.05681035, 0.95666766, 0.05189243],\n",
       "        [0.05385175, 0.95243293, 0.05094412],\n",
       "        [0.08136678, 0.11410344, 0.10685107]], dtype=float32)}"
      ]
     },
     "execution_count": 5,
     "metadata": {},
     "output_type": "execute_result"
    }
   ],
   "source": [
    "model.predict(X)"
   ]
  },
  {
   "cell_type": "markdown",
   "id": "fundamental-poverty",
   "metadata": {},
   "source": [
    "# 评分"
   ]
  },
  {
   "cell_type": "code",
   "execution_count": 6,
   "id": "accessory-lesbian",
   "metadata": {},
   "outputs": [
    {
     "name": "stdout",
     "output_type": "stream",
     "text": [
      "INFO:tensorflow:Time usage 0m-1.23s, 0.82 steps/sec, 3.26 examples/sec\n"
     ]
    },
    {
     "data": {
      "text/plain": [
       "{'accuracy': 1.0, 'loss': 0.22788279}"
      ]
     },
     "execution_count": 6,
     "metadata": {},
     "output_type": "execute_result"
    }
   ],
   "source": [
    "model.score(X, y)"
   ]
  }
 ],
 "metadata": {
  "kernelspec": {
   "display_name": "Python 3",
   "language": "python",
   "name": "python3"
  },
  "language_info": {
   "codemirror_mode": {
    "name": "ipython",
    "version": 3
   },
   "file_extension": ".py",
   "mimetype": "text/x-python",
   "name": "python",
   "nbconvert_exporter": "python",
   "pygments_lexer": "ipython3",
   "version": "3.8.2"
  }
 },
 "nbformat": 4,
 "nbformat_minor": 5
}
