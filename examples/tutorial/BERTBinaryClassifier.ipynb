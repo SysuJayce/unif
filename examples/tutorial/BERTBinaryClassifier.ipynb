{
 "cells": [
  {
   "cell_type": "markdown",
   "id": "accepting-council",
   "metadata": {},
   "source": [
    "# BERTBinaryClassifier\n",
    "\n",
    "可用的中文预训练参数：[`bert-base`](https://storage.googleapis.com/bert_models/2018_11_03/chinese_L-12_H-768_A-12.zip),[`roberta-wwm-ext-base`](https://drive.google.com/uc?export=download&id=1jMAKIJmPn7kADgD3yQZhpsqM-IRM1qZt),[`roberta-wwm-ext-large`](https://drive.google.com/uc?export=download&id=1dtad0FFzG11CBsawu8hvwwzU2R0FDI94),[`macbert-base`](https://drive.google.com/uc?export=download&id=1aV69OhYzIwj_hn-kO1RiBa-m8QAusQ5b),[`macbert-large`](https://drive.google.com/uc?export=download&id=1lWYxnk1EqTA2Q20_IShxBrCPc5VSDCkT)"
   ]
  },
  {
   "cell_type": "code",
   "execution_count": 1,
   "id": "rotary-academy",
   "metadata": {},
   "outputs": [
    {
     "name": "stdout",
     "output_type": "stream",
     "text": [
      "v2.4.5\n"
     ]
    }
   ],
   "source": [
    "import uf\n",
    "\n",
    "print(uf.__version__)"
   ]
  },
  {
   "cell_type": "code",
   "execution_count": 2,
   "id": "velvet-symbol",
   "metadata": {},
   "outputs": [
    {
     "name": "stdout",
     "output_type": "stream",
     "text": [
      "uf.BERTBinaryClassifier(\n",
      "    config_file=\"../../demo/bert_config.json\",\n",
      "    vocab_file=\"../../demo/vocab.txt\",\n",
      "    max_seq_length=128,\n",
      "    label_size=None,\n",
      "    label_weight=None,\n",
      "    init_checkpoint=None,\n",
      "    output_dir=None,\n",
      "    gpu_ids=None,\n",
      "    drop_pooler=False,\n",
      "    do_lower_case=True,\n",
      "    truncate_method=\"LIFO\",\n",
      ")\n"
     ]
    }
   ],
   "source": [
    "model = uf.BERTBinaryClassifier('../../demo/bert_config.json', '../../demo/vocab.txt')\n",
    "print(model)"
   ]
  },
  {
   "cell_type": "code",
   "execution_count": 3,
   "id": "drawn-breathing",
   "metadata": {},
   "outputs": [],
   "source": [
    "X = ['天亮以前说再见', '笑着泪流满面', '去迎接应该你的', '更好的明天']\n",
    "y = [[0, 2], [1], [1], []]"
   ]
  },
  {
   "cell_type": "markdown",
   "id": "vanilla-fault",
   "metadata": {},
   "source": [
    "# 训练"
   ]
  },
  {
   "cell_type": "code",
   "execution_count": 4,
   "id": "excellent-religion",
   "metadata": {},
   "outputs": [
    {
     "name": "stdout",
     "output_type": "stream",
     "text": [
      "WARNING:tensorflow:From /Users/geyingli/Library/Python/3.8/lib/python/site-packages/tensorflow/python/util/dispatch.py:1096: calling dropout (from tensorflow.python.ops.nn_ops) with keep_prob is deprecated and will be removed in a future version.\n",
      "Instructions for updating:\n",
      "Please use `rate` instead of `keep_prob`. Rate should be set to `rate = 1 - keep_prob`.\n"
     ]
    },
    {
     "name": "stderr",
     "output_type": "stream",
     "text": [
      "/Users/geyingli/Library/Python/3.8/lib/python/site-packages/uf-2.4.5-py3.8.egg/uf/model/bert.py:272: UserWarning: `tf.layers.dense` is deprecated and will be removed in a future version. Please use `tf.keras.layers.Dense` instead.\n",
      "  query_layer = tf.layers.dense(\n",
      "/Users/geyingli/Library/Python/3.8/lib/python/site-packages/keras/legacy_tf_layers/core.py:255: UserWarning: `layer.apply` is deprecated and will be removed in a future version. Please use `layer.__call__` method instead.\n",
      "  return layer.apply(inputs)\n",
      "/Users/geyingli/Library/Python/3.8/lib/python/site-packages/uf-2.4.5-py3.8.egg/uf/model/bert.py:282: UserWarning: `tf.layers.dense` is deprecated and will be removed in a future version. Please use `tf.keras.layers.Dense` instead.\n",
      "  key_layer = tf.layers.dense(\n",
      "/Users/geyingli/Library/Python/3.8/lib/python/site-packages/uf-2.4.5-py3.8.egg/uf/model/bert.py:292: UserWarning: `tf.layers.dense` is deprecated and will be removed in a future version. Please use `tf.keras.layers.Dense` instead.\n",
      "  value_layer = tf.layers.dense(\n",
      "/Users/geyingli/Library/Python/3.8/lib/python/site-packages/uf-2.4.5-py3.8.egg/uf/model/bert.py:416: UserWarning: `tf.layers.dense` is deprecated and will be removed in a future version. Please use `tf.keras.layers.Dense` instead.\n",
      "  attention_output = tf.layers.dense(\n",
      "/Users/geyingli/Library/Python/3.8/lib/python/site-packages/uf-2.4.5-py3.8.egg/uf/model/bert.py:428: UserWarning: `tf.layers.dense` is deprecated and will be removed in a future version. Please use `tf.keras.layers.Dense` instead.\n",
      "  intermediate_output = tf.layers.dense(\n",
      "/Users/geyingli/Library/Python/3.8/lib/python/site-packages/uf-2.4.5-py3.8.egg/uf/model/bert.py:438: UserWarning: `tf.layers.dense` is deprecated and will be removed in a future version. Please use `tf.keras.layers.Dense` instead.\n",
      "  layer_output = tf.layers.dense(\n",
      "/Users/geyingli/Library/Python/3.8/lib/python/site-packages/uf-2.4.5-py3.8.egg/uf/model/bert.py:107: UserWarning: `tf.layers.dense` is deprecated and will be removed in a future version. Please use `tf.keras.layers.Dense` instead.\n",
      "  self.pooled_output = tf.layers.dense(\n"
     ]
    },
    {
     "name": "stdout",
     "output_type": "stream",
     "text": [
      "INFO:tensorflow:Build graph with 306,809,865 parameters (among which 102,269,955 are trainable)\n",
      "INFO:tensorflow:Running local_init_op\n",
      "INFO:tensorflow:Done running local_init_op\n",
      "INFO:tensorflow:Running training on 4 samples (step 0 -> 20)\n",
      "INFO:tensorflow:step 1, accuracy 0.2500, loss 2.187422, 0.10 steps/sec, 0.41 examples/sec\n",
      "INFO:tensorflow:step 2, accuracy 0.5000, loss 2.091044, 0.27 steps/sec, 1.07 examples/sec\n",
      "INFO:tensorflow:step 3, accuracy 0.8333, loss 1.757161, 0.18 steps/sec, 0.74 examples/sec\n",
      "INFO:tensorflow:step 4, accuracy 0.7500, loss 1.799694, 0.15 steps/sec, 0.60 examples/sec\n",
      "INFO:tensorflow:step 5, accuracy 0.7500, loss 1.822248, 0.23 steps/sec, 0.94 examples/sec\n",
      "INFO:tensorflow:step 6, accuracy 0.8333, loss 1.670566, 0.24 steps/sec, 0.96 examples/sec\n",
      "INFO:tensorflow:step 7, accuracy 0.8333, loss 1.548997, 0.23 steps/sec, 0.94 examples/sec\n",
      "INFO:tensorflow:step 8, accuracy 0.8333, loss 1.535548, 0.22 steps/sec, 0.89 examples/sec\n",
      "INFO:tensorflow:step 9, accuracy 0.9167, loss 1.388909, 0.26 steps/sec, 1.04 examples/sec\n",
      "INFO:tensorflow:step 10, accuracy 0.9167, loss 1.142874, 0.20 steps/sec, 0.82 examples/sec\n",
      "INFO:tensorflow:step 11, accuracy 1.0000, loss 0.880949, 0.24 steps/sec, 0.95 examples/sec\n",
      "INFO:tensorflow:step 12, accuracy 1.0000, loss 0.683098, 0.25 steps/sec, 1.02 examples/sec\n",
      "INFO:tensorflow:step 13, accuracy 1.0000, loss 0.544146, 0.36 steps/sec, 1.46 examples/sec\n",
      "INFO:tensorflow:step 14, accuracy 1.0000, loss 0.416672, 0.42 steps/sec, 1.67 examples/sec\n",
      "INFO:tensorflow:step 15, accuracy 1.0000, loss 0.349079, 0.43 steps/sec, 1.71 examples/sec\n",
      "INFO:tensorflow:step 16, accuracy 1.0000, loss 0.333079, 0.42 steps/sec, 1.69 examples/sec\n",
      "INFO:tensorflow:step 17, accuracy 1.0000, loss 0.283503, 0.40 steps/sec, 1.60 examples/sec\n",
      "INFO:tensorflow:step 18, accuracy 1.0000, loss 0.261330, 0.36 steps/sec, 1.44 examples/sec\n",
      "INFO:tensorflow:step 19, accuracy 1.0000, loss 0.245089, 0.42 steps/sec, 1.66 examples/sec\n",
      "INFO:tensorflow:step 20, accuracy 1.0000, loss 0.238815, 0.42 steps/sec, 1.67 examples/sec\n"
     ]
    }
   ],
   "source": [
    "model.fit(X, y, total_steps=20)"
   ]
  },
  {
   "cell_type": "markdown",
   "id": "fallen-hundred",
   "metadata": {},
   "source": [
    "# 推理"
   ]
  },
  {
   "cell_type": "code",
   "execution_count": 5,
   "id": "opposite-pantyhose",
   "metadata": {},
   "outputs": [
    {
     "name": "stdout",
     "output_type": "stream",
     "text": [
      "INFO:tensorflow:Time usage 0m-1.33s, 0.75 steps/sec, 3.01 examples/sec\n"
     ]
    },
    {
     "data": {
      "text/plain": [
       "{'preds': [[0, 2], [1], [1], []],\n",
       " 'probs': array([[0.89422905, 0.0426406 , 0.9176999 ],\n",
       "        [0.05609292, 0.95102274, 0.05483368],\n",
       "        [0.05527368, 0.95237696, 0.05700487],\n",
       "        [0.08418417, 0.09555328, 0.06481114]], dtype=float32)}"
      ]
     },
     "execution_count": 5,
     "metadata": {},
     "output_type": "execute_result"
    }
   ],
   "source": [
    "model.predict(X)"
   ]
  },
  {
   "cell_type": "markdown",
   "id": "fundamental-poverty",
   "metadata": {},
   "source": [
    "# 评分"
   ]
  },
  {
   "cell_type": "code",
   "execution_count": 6,
   "id": "accessory-lesbian",
   "metadata": {},
   "outputs": [
    {
     "name": "stdout",
     "output_type": "stream",
     "text": [
      "INFO:tensorflow:Time usage 0m-0.97s, 1.03 steps/sec, 4.11 examples/sec\n"
     ]
    },
    {
     "data": {
      "text/plain": [
       "{'accuracy': 1.0, 'loss': 0.20633027}"
      ]
     },
     "execution_count": 6,
     "metadata": {},
     "output_type": "execute_result"
    }
   ],
   "source": [
    "model.score(X, y)"
   ]
  }
 ],
 "metadata": {
  "kernelspec": {
   "display_name": "Python 3",
   "language": "python",
   "name": "python3"
  },
  "language_info": {
   "codemirror_mode": {
    "name": "ipython",
    "version": 3
   },
   "file_extension": ".py",
   "mimetype": "text/x-python",
   "name": "python",
   "nbconvert_exporter": "python",
   "pygments_lexer": "ipython3",
   "version": "3.8.2"
  }
 },
 "nbformat": 4,
 "nbformat_minor": 5
}
