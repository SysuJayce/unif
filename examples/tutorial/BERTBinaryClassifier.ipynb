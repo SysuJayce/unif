{
 "cells": [
  {
   "cell_type": "markdown",
   "id": "accepting-council",
   "metadata": {},
   "source": [
    "# BERTBinaryClassifier\n",
    "\n",
    "可用的中文预训练参数：[`bert-base`](https://storage.googleapis.com/bert_models/2018_11_03/chinese_L-12_H-768_A-12.zip),[`roberta-wwm-ext-base`](https://drive.google.com/uc?export=download&id=1jMAKIJmPn7kADgD3yQZhpsqM-IRM1qZt),[`roberta-wwm-ext-large`](https://drive.google.com/uc?export=download&id=1dtad0FFzG11CBsawu8hvwwzU2R0FDI94),[`macbert-base`](https://drive.google.com/uc?export=download&id=1aV69OhYzIwj_hn-kO1RiBa-m8QAusQ5b),[`macbert-large`](https://drive.google.com/uc?export=download&id=1lWYxnk1EqTA2Q20_IShxBrCPc5VSDCkT)"
   ]
  },
  {
   "cell_type": "code",
   "execution_count": 1,
   "id": "rotary-academy",
   "metadata": {},
   "outputs": [
    {
     "name": "stdout",
     "output_type": "stream",
     "text": [
      "v2.5.0\n"
     ]
    }
   ],
   "source": [
    "import uf\n",
    "\n",
    "print(uf.__version__)"
   ]
  },
  {
   "cell_type": "code",
   "execution_count": 2,
   "id": "velvet-symbol",
   "metadata": {},
   "outputs": [
    {
     "name": "stdout",
     "output_type": "stream",
     "text": [
      "uf.BERTBinaryClassifier(\n",
      "    config_file=\"../../ref/bert_config.json\",\n",
      "    vocab_file=\"../../ref/vocab.txt\",\n",
      "    max_seq_length=128,\n",
      "    label_size=None,\n",
      "    label_weight=None,\n",
      "    init_checkpoint=None,\n",
      "    output_dir=None,\n",
      "    gpu_ids=None,\n",
      "    drop_pooler=False,\n",
      "    do_lower_case=True,\n",
      "    truncate_method=\"LIFO\",\n",
      ")\n"
     ]
    }
   ],
   "source": [
    "model = uf.BERTBinaryClassifier(\"../../ref/bert_config.json\", \"../../ref/vocab.txt\")\n",
    "print(model)"
   ]
  },
  {
   "cell_type": "code",
   "execution_count": 3,
   "id": "drawn-breathing",
   "metadata": {},
   "outputs": [],
   "source": [
    "X = [\"天亮以前说再见\", \"笑着泪流满面\", \"去迎接应该你的\", \"更好的明天\"]\n",
    "y = [[0, 2], [1], [1], []]"
   ]
  },
  {
   "cell_type": "markdown",
   "id": "vanilla-fault",
   "metadata": {},
   "source": [
    "# 训练"
   ]
  },
  {
   "cell_type": "code",
   "execution_count": 4,
   "id": "excellent-religion",
   "metadata": {},
   "outputs": [
    {
     "name": "stdout",
     "output_type": "stream",
     "text": [
      "WARNING:tensorflow:From c:\\Users\\Luv_d\\AppData\\Local\\Programs\\Python\\Python39\\lib\\site-packages\\tensorflow\\python\\util\\dispatch.py:1176: calling dropout (from tensorflow.python.ops.nn_ops) with keep_prob is deprecated and will be removed in a future version.\n",
      "Instructions for updating:\n",
      "Please use `rate` instead of `keep_prob`. Rate should be set to `rate = 1 - keep_prob`.\n"
     ]
    },
    {
     "name": "stderr",
     "output_type": "stream",
     "text": [
      "c:\\Users\\Luv_d\\AppData\\Local\\Programs\\Python\\Python39\\lib\\site-packages\\uf-2.5.0-py3.9.egg\\uf\\apps\\bert\\bert.py:272: UserWarning: `tf.layers.dense` is deprecated and will be removed in a future version. Please use `tf.keras.layers.Dense` instead.\n",
      "  query_layer = tf.layers.dense(\n",
      "c:\\Users\\Luv_d\\AppData\\Local\\Programs\\Python\\Python39\\lib\\site-packages\\uf-2.5.0-py3.9.egg\\uf\\apps\\bert\\bert.py:282: UserWarning: `tf.layers.dense` is deprecated and will be removed in a future version. Please use `tf.keras.layers.Dense` instead.\n",
      "  key_layer = tf.layers.dense(\n",
      "c:\\Users\\Luv_d\\AppData\\Local\\Programs\\Python\\Python39\\lib\\site-packages\\uf-2.5.0-py3.9.egg\\uf\\apps\\bert\\bert.py:292: UserWarning: `tf.layers.dense` is deprecated and will be removed in a future version. Please use `tf.keras.layers.Dense` instead.\n",
      "  value_layer = tf.layers.dense(\n",
      "c:\\Users\\Luv_d\\AppData\\Local\\Programs\\Python\\Python39\\lib\\site-packages\\uf-2.5.0-py3.9.egg\\uf\\apps\\bert\\bert.py:416: UserWarning: `tf.layers.dense` is deprecated and will be removed in a future version. Please use `tf.keras.layers.Dense` instead.\n",
      "  attention_output = tf.layers.dense(\n",
      "c:\\Users\\Luv_d\\AppData\\Local\\Programs\\Python\\Python39\\lib\\site-packages\\uf-2.5.0-py3.9.egg\\uf\\apps\\bert\\bert.py:428: UserWarning: `tf.layers.dense` is deprecated and will be removed in a future version. Please use `tf.keras.layers.Dense` instead.\n",
      "  intermediate_output = tf.layers.dense(\n",
      "c:\\Users\\Luv_d\\AppData\\Local\\Programs\\Python\\Python39\\lib\\site-packages\\uf-2.5.0-py3.9.egg\\uf\\apps\\bert\\bert.py:438: UserWarning: `tf.layers.dense` is deprecated and will be removed in a future version. Please use `tf.keras.layers.Dense` instead.\n",
      "  layer_output = tf.layers.dense(\n",
      "c:\\Users\\Luv_d\\AppData\\Local\\Programs\\Python\\Python39\\lib\\site-packages\\uf-2.5.0-py3.9.egg\\uf\\apps\\bert\\bert.py:107: UserWarning: `tf.layers.dense` is deprecated and will be removed in a future version. Please use `tf.keras.layers.Dense` instead.\n",
      "  self.pooled_output = tf.layers.dense(\n"
     ]
    },
    {
     "name": "stdout",
     "output_type": "stream",
     "text": [
      "INFO:tensorflow:Build graph with 306,809,865 parameters (among which 102,269,955 are trainable)\n",
      "INFO:tensorflow:Running local_init_op\n",
      "INFO:tensorflow:Done running local_init_op\n",
      "INFO:tensorflow:Running training on 4 samples (step 0 -> 20)\n",
      "INFO:tensorflow:step 1, accuracy 0.8333, loss 1.958285, 0.13 steps/sec, 0.52 examples/sec\n",
      "INFO:tensorflow:step 2, accuracy 0.5000, loss 2.089770, 0.42 steps/sec, 1.67 examples/sec\n",
      "INFO:tensorflow:step 3, accuracy 0.6667, loss 1.806697, 0.21 steps/sec, 0.86 examples/sec\n",
      "INFO:tensorflow:step 4, accuracy 0.8333, loss 1.877028, 0.30 steps/sec, 1.20 examples/sec\n",
      "INFO:tensorflow:step 5, accuracy 0.8333, loss 1.756668, 0.39 steps/sec, 1.57 examples/sec\n",
      "INFO:tensorflow:step 6, accuracy 0.7500, loss 1.597671, 0.40 steps/sec, 1.60 examples/sec\n",
      "INFO:tensorflow:step 7, accuracy 0.7500, loss 1.599811, 0.38 steps/sec, 1.52 examples/sec\n",
      "INFO:tensorflow:step 8, accuracy 0.8333, loss 1.579045, 0.42 steps/sec, 1.67 examples/sec\n",
      "INFO:tensorflow:step 9, accuracy 0.8333, loss 1.431398, 0.41 steps/sec, 1.65 examples/sec\n",
      "INFO:tensorflow:step 10, accuracy 0.9167, loss 1.236257, 0.41 steps/sec, 1.65 examples/sec\n",
      "INFO:tensorflow:step 11, accuracy 0.9167, loss 0.984591, 0.42 steps/sec, 1.67 examples/sec\n",
      "INFO:tensorflow:step 12, accuracy 1.0000, loss 0.801730, 0.44 steps/sec, 1.74 examples/sec\n",
      "INFO:tensorflow:step 13, accuracy 1.0000, loss 0.623264, 0.64 steps/sec, 2.56 examples/sec\n",
      "INFO:tensorflow:step 14, accuracy 1.0000, loss 0.481957, 0.65 steps/sec, 2.59 examples/sec\n",
      "INFO:tensorflow:step 15, accuracy 1.0000, loss 0.389929, 0.65 steps/sec, 2.59 examples/sec\n",
      "INFO:tensorflow:step 16, accuracy 1.0000, loss 0.342440, 0.65 steps/sec, 2.58 examples/sec\n",
      "INFO:tensorflow:step 17, accuracy 1.0000, loss 0.310833, 0.58 steps/sec, 2.33 examples/sec\n",
      "INFO:tensorflow:step 18, accuracy 1.0000, loss 0.280174, 0.57 steps/sec, 2.29 examples/sec\n",
      "INFO:tensorflow:step 19, accuracy 1.0000, loss 0.303085, 0.68 steps/sec, 2.72 examples/sec\n",
      "INFO:tensorflow:step 20, accuracy 1.0000, loss 0.301410, 0.68 steps/sec, 2.74 examples/sec\n"
     ]
    }
   ],
   "source": [
    "model.fit(X, y, total_steps=20)"
   ]
  },
  {
   "cell_type": "markdown",
   "id": "fallen-hundred",
   "metadata": {},
   "source": [
    "# 推理"
   ]
  },
  {
   "cell_type": "code",
   "execution_count": 5,
   "id": "opposite-pantyhose",
   "metadata": {},
   "outputs": [
    {
     "name": "stdout",
     "output_type": "stream",
     "text": [
      "INFO:tensorflow:Running inference on 4 samples\n",
      "INFO:tensorflow:process 100.0%, 4.23 examples/sec\n"
     ]
    },
    {
     "data": {
      "text/plain": [
       "{'preds': [[0, 2], [1], [1], []],\n",
       " 'probs': array([[0.8995339 , 0.04246883, 0.9124384 ],\n",
       "        [0.04727637, 0.941056  , 0.05414376],\n",
       "        [0.04504775, 0.9339033 , 0.05254278],\n",
       "        [0.22199602, 0.04090533, 0.2133447 ]], dtype=float32)}"
      ]
     },
     "execution_count": 5,
     "metadata": {},
     "output_type": "execute_result"
    }
   ],
   "source": [
    "model.predict(X)"
   ]
  },
  {
   "cell_type": "markdown",
   "id": "fundamental-poverty",
   "metadata": {},
   "source": [
    "# 评分"
   ]
  },
  {
   "cell_type": "code",
   "execution_count": 6,
   "id": "accessory-lesbian",
   "metadata": {},
   "outputs": [
    {
     "name": "stdout",
     "output_type": "stream",
     "text": [
      "INFO:tensorflow:Running scoring on 4 samples\n",
      "INFO:tensorflow:process 100.0%, 6.27 examples/sec\n"
     ]
    },
    {
     "data": {
      "text/plain": [
       "{'accuracy': 1.0, 'loss': 0.2767405}"
      ]
     },
     "execution_count": 6,
     "metadata": {},
     "output_type": "execute_result"
    }
   ],
   "source": [
    "model.score(X, y)"
   ]
  }
 ],
 "metadata": {
  "kernelspec": {
   "display_name": "Python 3.9.13 64-bit",
   "language": "python",
   "name": "python3"
  },
  "language_info": {
   "codemirror_mode": {
    "name": "ipython",
    "version": 3
   },
   "file_extension": ".py",
   "mimetype": "text/x-python",
   "name": "python",
   "nbconvert_exporter": "python",
   "pygments_lexer": "ipython3",
   "version": "3.9.13"
  },
  "vscode": {
   "interpreter": {
    "hash": "265fd6f62f200408acbbeae0248f34bed9f93569a643842b7a25d2cd76cae5e5"
   }
  }
 },
 "nbformat": 4,
 "nbformat_minor": 5
}
