{
 "cells": [
  {
   "cell_type": "markdown",
   "id": "seasonal-separate",
   "metadata": {},
   "source": [
    "# BERTSeqCrossClassifier\n",
    "\n",
    "可用的中文预训练参数：[`bert-base`](https://storage.googleapis.com/bert_models/2018_11_03/chinese_L-12_H-768_A-12.zip),[`roberta-wwm-ext-base`](https://drive.google.com/uc?export=download&id=1jMAKIJmPn7kADgD3yQZhpsqM-IRM1qZt),[`roberta-wwm-ext-large`](https://drive.google.com/uc?export=download&id=1dtad0FFzG11CBsawu8hvwwzU2R0FDI94),[`macbert-base`](https://drive.google.com/uc?export=download&id=1aV69OhYzIwj_hn-kO1RiBa-m8QAusQ5b),[`macbert-large`](https://drive.google.com/uc?export=download&id=1lWYxnk1EqTA2Q20_IShxBrCPc5VSDCkT)"
   ]
  },
  {
   "cell_type": "code",
   "execution_count": 1,
   "id": "traditional-girlfriend",
   "metadata": {},
   "outputs": [
    {
     "name": "stdout",
     "output_type": "stream",
     "text": [
      "v2.4.7\n"
     ]
    }
   ],
   "source": [
    "import uf\n",
    "\n",
    "print(uf.__version__)"
   ]
  },
  {
   "cell_type": "code",
   "execution_count": 2,
   "id": "affected-titanium",
   "metadata": {},
   "outputs": [
    {
     "name": "stdout",
     "output_type": "stream",
     "text": [
      "uf.BERTSeqCrossTmpClassifier(\n",
      "    config_file=\"../../demo/bert_config.json\",\n",
      "    vocab_file=\"../../demo/vocab.txt\",\n",
      "    max_seq_length=128,\n",
      "    seq_cls_labels=None,\n",
      "    cls_labels=None,\n",
      "    init_checkpoint=None,\n",
      "    output_dir=None,\n",
      "    gpu_ids=None,\n",
      "    do_lower_case=True,\n",
      "    truncate_method=\"LIFO\",\n",
      ")\n"
     ]
    }
   ],
   "source": [
    "model = uf.BERTSeqCrossTmpClassifier('../../demo/bert_config.json', '../../demo/vocab.txt')\n",
    "print(model)"
   ]
  },
  {
   "cell_type": "code",
   "execution_count": 3,
   "id": "joint-scroll",
   "metadata": {},
   "outputs": [],
   "source": [
    "X_tokenized = [['天', '亮', '以', '前', '说', '再', '见'], ['笑', '着', '泪', '流', '满', '面']]\n",
    "y = [{\"seq_cls\": [0, 0, 0, 0, 0, 1, 1], \"cls\": 0}, {\"seq_cls\": [0, 0, 1, 1, 0, 0], \"cls\": 1}]"
   ]
  },
  {
   "cell_type": "markdown",
   "id": "requested-insert",
   "metadata": {},
   "source": [
    "# 训练"
   ]
  },
  {
   "cell_type": "code",
   "execution_count": 4,
   "id": "usual-disposition",
   "metadata": {},
   "outputs": [
    {
     "name": "stdout",
     "output_type": "stream",
     "text": [
      "WARNING:tensorflow:From /Users/geyingli/Library/Python/3.8/lib/python/site-packages/tensorflow/python/util/dispatch.py:1096: calling dropout (from tensorflow.python.ops.nn_ops) with keep_prob is deprecated and will be removed in a future version.\n",
      "Instructions for updating:\n",
      "Please use `rate` instead of `keep_prob`. Rate should be set to `rate = 1 - keep_prob`.\n"
     ]
    },
    {
     "name": "stderr",
     "output_type": "stream",
     "text": [
      "/Users/geyingli/Library/Python/3.8/lib/python/site-packages/uf-2.4.7-py3.8.egg/uf/model/bert.py:272: UserWarning: `tf.layers.dense` is deprecated and will be removed in a future version. Please use `tf.keras.layers.Dense` instead.\n",
      "  query_layer = tf.layers.dense(\n",
      "/Users/geyingli/Library/Python/3.8/lib/python/site-packages/keras/legacy_tf_layers/core.py:255: UserWarning: `layer.apply` is deprecated and will be removed in a future version. Please use `layer.__call__` method instead.\n",
      "  return layer.apply(inputs)\n",
      "/Users/geyingli/Library/Python/3.8/lib/python/site-packages/uf-2.4.7-py3.8.egg/uf/model/bert.py:282: UserWarning: `tf.layers.dense` is deprecated and will be removed in a future version. Please use `tf.keras.layers.Dense` instead.\n",
      "  key_layer = tf.layers.dense(\n",
      "/Users/geyingli/Library/Python/3.8/lib/python/site-packages/uf-2.4.7-py3.8.egg/uf/model/bert.py:292: UserWarning: `tf.layers.dense` is deprecated and will be removed in a future version. Please use `tf.keras.layers.Dense` instead.\n",
      "  value_layer = tf.layers.dense(\n",
      "/Users/geyingli/Library/Python/3.8/lib/python/site-packages/uf-2.4.7-py3.8.egg/uf/model/bert.py:416: UserWarning: `tf.layers.dense` is deprecated and will be removed in a future version. Please use `tf.keras.layers.Dense` instead.\n",
      "  attention_output = tf.layers.dense(\n",
      "/Users/geyingli/Library/Python/3.8/lib/python/site-packages/uf-2.4.7-py3.8.egg/uf/model/bert.py:428: UserWarning: `tf.layers.dense` is deprecated and will be removed in a future version. Please use `tf.keras.layers.Dense` instead.\n",
      "  intermediate_output = tf.layers.dense(\n",
      "/Users/geyingli/Library/Python/3.8/lib/python/site-packages/uf-2.4.7-py3.8.egg/uf/model/bert.py:438: UserWarning: `tf.layers.dense` is deprecated and will be removed in a future version. Please use `tf.keras.layers.Dense` instead.\n",
      "  layer_output = tf.layers.dense(\n",
      "/Users/geyingli/Library/Python/3.8/lib/python/site-packages/uf-2.4.7-py3.8.egg/uf/model/bert.py:107: UserWarning: `tf.layers.dense` is deprecated and will be removed in a future version. Please use `tf.keras.layers.Dense` instead.\n",
      "  self.pooled_output = tf.layers.dense(\n"
     ]
    },
    {
     "name": "stdout",
     "output_type": "stream",
     "text": [
      "INFO:tensorflow:Build graph with 305,635,602 parameters (among which 102,272,262 are trainable)\n",
      "INFO:tensorflow:Running local_init_op\n",
      "INFO:tensorflow:Done running local_init_op\n",
      "INFO:tensorflow:Running training on 2 samples (step 0 -> 20)\n",
      "INFO:tensorflow:step 1, seq_cls_accuracy 0.1176, cls_accuracy 0.5000, seq_cls_loss 1.561486, cls_loss 1.098388, 0.13 steps/sec, 0.26 examples/sec\n",
      "INFO:tensorflow:step 2, seq_cls_accuracy 0.1176, cls_accuracy 0.5000, seq_cls_loss 1.781832, cls_loss 0.541234, 0.50 steps/sec, 1.00 examples/sec\n",
      "INFO:tensorflow:step 3, seq_cls_accuracy 0.5294, cls_accuracy 0.5000, seq_cls_loss 1.193201, cls_loss 0.944177, 0.53 steps/sec, 1.07 examples/sec\n",
      "INFO:tensorflow:step 4, seq_cls_accuracy 0.5294, cls_accuracy 1.0000, seq_cls_loss 1.370731, cls_loss 0.407314, 0.54 steps/sec, 1.08 examples/sec\n",
      "INFO:tensorflow:step 5, seq_cls_accuracy 0.7059, cls_accuracy 0.5000, seq_cls_loss 0.896140, cls_loss 0.531181, 0.52 steps/sec, 1.04 examples/sec\n",
      "INFO:tensorflow:step 6, seq_cls_accuracy 0.5882, cls_accuracy 1.0000, seq_cls_loss 0.707649, cls_loss 0.407031, 0.50 steps/sec, 1.00 examples/sec\n",
      "INFO:tensorflow:step 7, seq_cls_accuracy 1.0000, cls_accuracy 0.5000, seq_cls_loss 0.317424, cls_loss 0.419656, 0.53 steps/sec, 1.06 examples/sec\n",
      "INFO:tensorflow:step 8, seq_cls_accuracy 1.0000, cls_accuracy 1.0000, seq_cls_loss 0.223957, cls_loss 0.139608, 0.53 steps/sec, 1.06 examples/sec\n",
      "INFO:tensorflow:step 9, seq_cls_accuracy 0.9412, cls_accuracy 1.0000, seq_cls_loss 0.196091, cls_loss 0.227403, 0.53 steps/sec, 1.05 examples/sec\n",
      "INFO:tensorflow:step 10, seq_cls_accuracy 1.0000, cls_accuracy 1.0000, seq_cls_loss 0.153522, cls_loss 0.069822, 0.55 steps/sec, 1.09 examples/sec\n",
      "INFO:tensorflow:step 11, seq_cls_accuracy 1.0000, cls_accuracy 1.0000, seq_cls_loss 0.082145, cls_loss 0.010360, 0.52 steps/sec, 1.04 examples/sec\n",
      "INFO:tensorflow:step 12, seq_cls_accuracy 1.0000, cls_accuracy 1.0000, seq_cls_loss 0.048193, cls_loss 0.008369, 0.55 steps/sec, 1.10 examples/sec\n",
      "INFO:tensorflow:step 13, seq_cls_accuracy 1.0000, cls_accuracy 1.0000, seq_cls_loss 0.021113, cls_loss 0.008827, 0.55 steps/sec, 1.11 examples/sec\n",
      "INFO:tensorflow:step 14, seq_cls_accuracy 1.0000, cls_accuracy 1.0000, seq_cls_loss 0.016706, cls_loss 0.003917, 0.55 steps/sec, 1.10 examples/sec\n",
      "INFO:tensorflow:step 15, seq_cls_accuracy 1.0000, cls_accuracy 1.0000, seq_cls_loss 0.010312, cls_loss 0.001779, 0.51 steps/sec, 1.02 examples/sec\n",
      "INFO:tensorflow:step 16, seq_cls_accuracy 1.0000, cls_accuracy 1.0000, seq_cls_loss 0.011272, cls_loss 0.001456, 0.52 steps/sec, 1.04 examples/sec\n",
      "INFO:tensorflow:step 17, seq_cls_accuracy 1.0000, cls_accuracy 1.0000, seq_cls_loss 0.008501, cls_loss 0.001400, 0.53 steps/sec, 1.07 examples/sec\n",
      "INFO:tensorflow:step 18, seq_cls_accuracy 1.0000, cls_accuracy 1.0000, seq_cls_loss 0.005532, cls_loss 0.001352, 0.54 steps/sec, 1.09 examples/sec\n",
      "INFO:tensorflow:step 19, seq_cls_accuracy 1.0000, cls_accuracy 1.0000, seq_cls_loss 0.004108, cls_loss 0.001251, 0.56 steps/sec, 1.11 examples/sec\n",
      "INFO:tensorflow:step 20, seq_cls_accuracy 1.0000, cls_accuracy 1.0000, seq_cls_loss 0.004586, cls_loss 0.000554, 0.55 steps/sec, 1.10 examples/sec\n"
     ]
    }
   ],
   "source": [
    "model.fit(X_tokenized=X_tokenized, y=y, total_steps=20)"
   ]
  },
  {
   "cell_type": "markdown",
   "id": "prescription-longitude",
   "metadata": {},
   "source": [
    "# 推理"
   ]
  },
  {
   "cell_type": "code",
   "execution_count": 5,
   "id": "widespread-default",
   "metadata": {},
   "outputs": [
    {
     "name": "stdout",
     "output_type": "stream",
     "text": [
      "INFO:tensorflow:Time usage 0m-1.22s, 0.82 steps/sec, 1.64 examples/sec\n"
     ]
    },
    {
     "data": {
      "text/plain": [
       "{'seq_cls_preds': [['[CLS]', 0, 0, 0, 0, 0, 1, 1, '[SEP]'],\n",
       "  ['[CLS]', 0, 0, 1, 1, 0, 0, '[SEP]']],\n",
       " 'seq_cls_probs': array([[[1.28411618e-03, 4.16723720e-04, 9.97174144e-01, 1.12499751e-03],\n",
       "         [9.99464571e-01, 1.19309996e-04, 9.14780685e-05, 3.24704131e-04],\n",
       "         [9.99310136e-01, 1.68745784e-04, 1.35408714e-04, 3.85555410e-04],\n",
       "         ...,\n",
       "         [9.91308272e-01, 1.92010007e-03, 4.51527856e-04, 6.32015336e-03],\n",
       "         [9.77964282e-01, 9.72690352e-04, 7.01527519e-04, 2.03615464e-02],\n",
       "         [9.43885207e-01, 1.24926644e-03, 1.44126522e-03, 5.34242466e-02]],\n",
       " \n",
       "        [[1.48734509e-03, 1.24696991e-03, 9.95458126e-01, 1.80753367e-03],\n",
       "         [9.98422146e-01, 3.88531684e-04, 3.81286693e-04, 8.08035024e-04],\n",
       "         [9.98101652e-01, 4.64064506e-04, 4.33957641e-04, 1.00035616e-03],\n",
       "         ...,\n",
       "         [9.71262097e-01, 1.07090278e-02, 2.65145930e-03, 1.53773902e-02],\n",
       "         [9.66019690e-01, 2.69016647e-03, 1.59385044e-03, 2.96962634e-02],\n",
       "         [9.23456430e-01, 4.57131397e-03, 4.07611253e-03, 6.78962097e-02]]],\n",
       "       dtype=float32),\n",
       " 'cls_preds': [0, 1],\n",
       " 'cls_probs': array([[9.9929440e-01, 7.0557703e-04],\n",
       "        [7.2294941e-05, 9.9992776e-01]], dtype=float32)}"
      ]
     },
     "execution_count": 5,
     "metadata": {},
     "output_type": "execute_result"
    }
   ],
   "source": [
    "model.predict(X_tokenized=X_tokenized)"
   ]
  },
  {
   "cell_type": "markdown",
   "id": "institutional-zealand",
   "metadata": {},
   "source": [
    "# 评分"
   ]
  },
  {
   "cell_type": "code",
   "execution_count": 6,
   "id": "arbitrary-pakistan",
   "metadata": {},
   "outputs": [
    {
     "name": "stdout",
     "output_type": "stream",
     "text": [
      "INFO:tensorflow:Time usage 0m-0.81s, 1.23 steps/sec, 2.47 examples/sec\n"
     ]
    },
    {
     "data": {
      "text/plain": [
       "{'seq_cls_accuracy': 1.0,\n",
       " 'cls_accuracy': 1.0,\n",
       " 'seq_cls_loss': 0.0020314946,\n",
       " 'cls_loss': 0.00038903285}"
      ]
     },
     "execution_count": 6,
     "metadata": {},
     "output_type": "execute_result"
    }
   ],
   "source": [
    "model.score(X_tokenized=X_tokenized, y=y)"
   ]
  }
 ],
 "metadata": {
  "kernelspec": {
   "display_name": "Python 3",
   "language": "python",
   "name": "python3"
  },
  "language_info": {
   "codemirror_mode": {
    "name": "ipython",
    "version": 3
   },
   "file_extension": ".py",
   "mimetype": "text/x-python",
   "name": "python",
   "nbconvert_exporter": "python",
   "pygments_lexer": "ipython3",
   "version": "3.8.2"
  }
 },
 "nbformat": 4,
 "nbformat_minor": 5
}
