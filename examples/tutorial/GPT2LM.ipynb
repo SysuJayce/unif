{
 "cells": [
  {
   "cell_type": "markdown",
   "id": "pretty-working",
   "metadata": {},
   "source": [
    "# GPT2LM\n",
    "\n",
    "可用的中文预训练参数：暂无"
   ]
  },
  {
   "cell_type": "code",
   "execution_count": 1,
   "id": "rotary-academy",
   "metadata": {},
   "outputs": [
    {
     "name": "stdout",
     "output_type": "stream",
     "text": [
      "v2.5.0\n"
     ]
    }
   ],
   "source": [
    "import uf\n",
    "\n",
    "print(uf.__version__)"
   ]
  },
  {
   "cell_type": "code",
   "execution_count": 2,
   "id": "velvet-symbol",
   "metadata": {},
   "outputs": [
    {
     "name": "stdout",
     "output_type": "stream",
     "text": [
      "INFO:tensorflow:Add necessary token `<eos>` into vocabulary.\n",
      "uf.GPT2LM(\n",
      "    vocab_file=\"../../ref/vocab.txt\",\n",
      "    max_seq_length=32,\n",
      "    init_checkpoint=None,\n",
      "    output_dir=None,\n",
      "    gpu_ids=None,\n",
      "    hidden_size=768,\n",
      "    num_hidden_layers=12,\n",
      "    num_attention_heads=12,\n",
      "    max_position_embeddings=1024,\n",
      "    do_lower_case=True,\n",
      "    truncate_method=\"LIFO\",\n",
      ")\n"
     ]
    }
   ],
   "source": [
    "model = uf.GPT2LM(\"../../ref/vocab.txt\", max_seq_length=32)\n",
    "print(model)"
   ]
  },
  {
   "cell_type": "code",
   "execution_count": 3,
   "id": "drawn-breathing",
   "metadata": {},
   "outputs": [],
   "source": [
    "X = [\"天亮以前说再见, 笑着泪流满面, 去迎接应该你的, 更好的明天\", \n",
    "     \"他想知道那是谁, 为何总沉默寡言, 人群中也算抢眼, 抢眼的孤独难免\"]"
   ]
  },
  {
   "cell_type": "markdown",
   "id": "vanilla-fault",
   "metadata": {},
   "source": [
    "# 训练"
   ]
  },
  {
   "cell_type": "code",
   "execution_count": 4,
   "id": "excellent-religion",
   "metadata": {},
   "outputs": [
    {
     "name": "stdout",
     "output_type": "stream",
     "text": [
      "INFO:tensorflow:Build graph with 306,208,512 parameters (among which 102,069,504 are trainable)\n",
      "INFO:tensorflow:Running local_init_op\n",
      "INFO:tensorflow:Done running local_init_op\n",
      "INFO:tensorflow:Running training on 2 samples (step 0 -> 20)\n",
      "INFO:tensorflow:step 1, accuracy 0.0000, loss 10.095228, 0.27 steps/sec, 0.54 examples/sec\n",
      "INFO:tensorflow:step 2, accuracy 0.1017, loss 8.551579, 1.08 steps/sec, 2.16 examples/sec\n",
      "INFO:tensorflow:step 3, accuracy 0.1017, loss 7.528067, 1.16 steps/sec, 2.33 examples/sec\n",
      "INFO:tensorflow:step 4, accuracy 0.1356, loss 6.749118, 1.38 steps/sec, 2.75 examples/sec\n",
      "INFO:tensorflow:step 5, accuracy 0.2373, loss 6.053222, 1.33 steps/sec, 2.66 examples/sec\n",
      "INFO:tensorflow:step 6, accuracy 0.2881, loss 5.388769, 1.33 steps/sec, 2.65 examples/sec\n",
      "INFO:tensorflow:step 7, accuracy 0.4237, loss 4.738797, 1.20 steps/sec, 2.40 examples/sec\n",
      "INFO:tensorflow:step 8, accuracy 0.7797, loss 4.069778, 1.24 steps/sec, 2.47 examples/sec\n",
      "INFO:tensorflow:step 9, accuracy 0.9661, loss 3.402602, 1.14 steps/sec, 2.28 examples/sec\n",
      "INFO:tensorflow:step 10, accuracy 1.0000, loss 2.778387, 1.24 steps/sec, 2.47 examples/sec\n",
      "INFO:tensorflow:step 11, accuracy 1.0000, loss 2.242078, 1.21 steps/sec, 2.41 examples/sec\n",
      "INFO:tensorflow:step 12, accuracy 1.0000, loss 1.828854, 1.22 steps/sec, 2.44 examples/sec\n",
      "INFO:tensorflow:step 13, accuracy 1.0000, loss 1.488727, 1.25 steps/sec, 2.50 examples/sec\n",
      "INFO:tensorflow:step 14, accuracy 1.0000, loss 1.211071, 1.27 steps/sec, 2.53 examples/sec\n",
      "INFO:tensorflow:step 15, accuracy 1.0000, loss 0.982429, 1.23 steps/sec, 2.45 examples/sec\n",
      "INFO:tensorflow:step 16, accuracy 1.0000, loss 0.800473, 1.26 steps/sec, 2.51 examples/sec\n",
      "INFO:tensorflow:step 17, accuracy 1.0000, loss 0.661298, 1.30 steps/sec, 2.61 examples/sec\n",
      "INFO:tensorflow:step 18, accuracy 1.0000, loss 0.558916, 1.33 steps/sec, 2.66 examples/sec\n",
      "INFO:tensorflow:step 19, accuracy 1.0000, loss 0.487835, 1.35 steps/sec, 2.69 examples/sec\n",
      "INFO:tensorflow:step 20, accuracy 1.0000, loss 0.442452, 1.37 steps/sec, 2.74 examples/sec\n"
     ]
    }
   ],
   "source": [
    "model.fit(X, total_steps=20)"
   ]
  },
  {
   "cell_type": "markdown",
   "id": "fallen-hundred",
   "metadata": {},
   "source": [
    "# 推理"
   ]
  },
  {
   "cell_type": "code",
   "execution_count": 5,
   "id": "opposite-pantyhose",
   "metadata": {},
   "outputs": [
    {
     "name": "stdout",
     "output_type": "stream",
     "text": [
      "INFO:tensorflow:Running inference on 2 samples\n",
      "INFO:tensorflow:process 100.0%, 0.09 examples/sec\n"
     ]
    },
    {
     "data": {
      "text/plain": [
       "{'preds': ['天亮以前说再见,笑着泪流满面,去迎接应该你的,更好的明天', '他想知道那是谁,为何总沉默寡言,人群中也算抢眼,抢眼的孤独难免']}"
      ]
     },
     "execution_count": 5,
     "metadata": {},
     "output_type": "execute_result"
    }
   ],
   "source": [
    "model.predict(X)"
   ]
  },
  {
   "cell_type": "markdown",
   "id": "fundamental-poverty",
   "metadata": {},
   "source": [
    "推理时，可以根据需要决定文本生成的起始位置"
   ]
  },
  {
   "cell_type": "code",
   "execution_count": 6,
   "id": "accessory-lesbian",
   "metadata": {},
   "outputs": [
    {
     "name": "stdout",
     "output_type": "stream",
     "text": [
      "INFO:tensorflow:Running inference on 2 samples\n",
      "INFO:tensorflow:process 100.0%, 0.04 examples/sec\n"
     ]
    },
    {
     "data": {
      "text/plain": [
       "{'preds': ['天亮以前说再见,笑着泪流满面,去迎接应该你的,更好的明天', '他想知道那是谁,为何总沉默寡言,人群中也算抢眼,抢眼的孤独难免']}"
      ]
     },
     "execution_count": 6,
     "metadata": {},
     "output_type": "execute_result"
    }
   ],
   "source": [
    "model.predict(X, given=2)    # 给定2个字，从第3个字开始生成"
   ]
  }
 ],
 "metadata": {
  "kernelspec": {
   "display_name": "Python 3.9.13 64-bit",
   "language": "python",
   "name": "python3"
  },
  "language_info": {
   "codemirror_mode": {
    "name": "ipython",
    "version": 3
   },
   "file_extension": ".py",
   "mimetype": "text/x-python",
   "name": "python",
   "nbconvert_exporter": "python",
   "pygments_lexer": "ipython3",
   "version": "3.9.13"
  },
  "vscode": {
   "interpreter": {
    "hash": "265fd6f62f200408acbbeae0248f34bed9f93569a643842b7a25d2cd76cae5e5"
   }
  }
 },
 "nbformat": 4,
 "nbformat_minor": 5
}
