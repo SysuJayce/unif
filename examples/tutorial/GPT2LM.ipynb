{
 "cells": [
  {
   "cell_type": "code",
   "execution_count": 1,
   "id": "rotary-academy",
   "metadata": {},
   "outputs": [
    {
     "name": "stdout",
     "output_type": "stream",
     "text": [
      "beta v2.8.0\n"
     ]
    }
   ],
   "source": [
    "import uf\n",
    "\n",
    "print(uf.__version__)"
   ]
  },
  {
   "cell_type": "code",
   "execution_count": 2,
   "id": "velvet-symbol",
   "metadata": {},
   "outputs": [
    {
     "name": "stdout",
     "output_type": "stream",
     "text": [
      "INFO:tensorflow:Add necessary token `<eos>` into vocabulary.\n",
      "uf.GPT2LM(vocab_file='../demo/vocab.txt', max_seq_length=128, init_checkpoint=None, output_dir=None, gpu_ids=None, hidden_size=768, num_hidden_layers=12, num_attention_heads=12, max_position_embeddings=1024, do_lower_case=True, truncate_method='LIFO')\n"
     ]
    }
   ],
   "source": [
    "model = uf.GPT2LM('../../demo/vocab.txt')\n",
    "print(model)"
   ]
  },
  {
   "cell_type": "code",
   "execution_count": 3,
   "id": "drawn-breathing",
   "metadata": {},
   "outputs": [],
   "source": [
    "X = ['天亮以前说再见, 笑着泪流满面, 去迎接应该你的, 更好的明天', \n",
    "     '他想知道那是谁, 为何总沉默寡言, 人群中也算抢眼, 抢眼的孤独难免']"
   ]
  },
  {
   "cell_type": "markdown",
   "id": "vanilla-fault",
   "metadata": {},
   "source": [
    "# 训练"
   ]
  },
  {
   "cell_type": "code",
   "execution_count": 4,
   "id": "excellent-religion",
   "metadata": {},
   "outputs": [
    {
     "name": "stdout",
     "output_type": "stream",
     "text": [
      "INFO:tensorflow:Build graph with 306,208,512 parameters (among which 102,069,504 are trainable)\n",
      "INFO:tensorflow:Running local_init_op\n",
      "INFO:tensorflow:Done running local_init_op\n",
      "INFO:tensorflow:Running training on 2 samples (step 0 -> 20)\n",
      "INFO:tensorflow:step 1, accuracy 0.0000, loss 10.062332, 0.16 steps/sec, 0.33 examples/sec\n",
      "INFO:tensorflow:step 2, accuracy 0.1186, loss 8.587636, 0.36 steps/sec, 0.72 examples/sec\n",
      "INFO:tensorflow:step 3, accuracy 0.1525, loss 7.550983, 0.54 steps/sec, 1.08 examples/sec\n",
      "INFO:tensorflow:step 4, accuracy 0.1864, loss 6.767123, 0.54 steps/sec, 1.07 examples/sec\n",
      "INFO:tensorflow:step 5, accuracy 0.2203, loss 6.085924, 0.54 steps/sec, 1.08 examples/sec\n",
      "INFO:tensorflow:step 6, accuracy 0.3220, loss 5.427764, 0.55 steps/sec, 1.09 examples/sec\n",
      "INFO:tensorflow:step 7, accuracy 0.3729, loss 4.744671, 0.53 steps/sec, 1.07 examples/sec\n",
      "INFO:tensorflow:step 8, accuracy 0.7797, loss 4.034969, 0.53 steps/sec, 1.06 examples/sec\n",
      "INFO:tensorflow:step 9, accuracy 0.9661, loss 3.349058, 0.54 steps/sec, 1.08 examples/sec\n",
      "INFO:tensorflow:step 10, accuracy 0.9661, loss 2.721580, 0.53 steps/sec, 1.07 examples/sec\n",
      "INFO:tensorflow:step 11, accuracy 1.0000, loss 2.200114, 0.52 steps/sec, 1.05 examples/sec\n",
      "INFO:tensorflow:step 12, accuracy 1.0000, loss 1.778618, 0.54 steps/sec, 1.08 examples/sec\n",
      "INFO:tensorflow:step 13, accuracy 1.0000, loss 1.429950, 0.54 steps/sec, 1.08 examples/sec\n",
      "INFO:tensorflow:step 14, accuracy 1.0000, loss 1.149285, 0.53 steps/sec, 1.07 examples/sec\n",
      "INFO:tensorflow:step 15, accuracy 1.0000, loss 0.921386, 0.53 steps/sec, 1.06 examples/sec\n",
      "INFO:tensorflow:step 16, accuracy 1.0000, loss 0.745137, 0.54 steps/sec, 1.08 examples/sec\n",
      "INFO:tensorflow:step 17, accuracy 1.0000, loss 0.611220, 0.54 steps/sec, 1.08 examples/sec\n",
      "INFO:tensorflow:step 18, accuracy 1.0000, loss 0.514590, 0.52 steps/sec, 1.04 examples/sec\n",
      "INFO:tensorflow:step 19, accuracy 1.0000, loss 0.447171, 0.53 steps/sec, 1.06 examples/sec\n",
      "INFO:tensorflow:step 20, accuracy 1.0000, loss 0.404866, 0.53 steps/sec, 1.07 examples/sec\n"
     ]
    }
   ],
   "source": [
    "model.fit(X, total_steps=20)"
   ]
  },
  {
   "cell_type": "markdown",
   "id": "fallen-hundred",
   "metadata": {},
   "source": [
    "# 推理"
   ]
  },
  {
   "cell_type": "code",
   "execution_count": 5,
   "id": "opposite-pantyhose",
   "metadata": {},
   "outputs": [
    {
     "name": "stdout",
     "output_type": "stream",
     "text": [
      "INFO:tensorflow:Time usage 5m-36.78s, 0.00 steps/sec, 0.01 examples/sec\n"
     ]
    },
    {
     "data": {
      "text/plain": [
       "{'preds': ['天亮以前说再见,笑着泪流满面,去迎接应该你的,更好的明天', '他想知道那是谁,为何总沉默寡言,人群中也算抢眼,抢眼的孤独难免']}"
      ]
     },
     "execution_count": 5,
     "metadata": {},
     "output_type": "execute_result"
    }
   ],
   "source": [
    "model.predict(X)"
   ]
  },
  {
   "cell_type": "markdown",
   "id": "fundamental-poverty",
   "metadata": {},
   "source": [
    "推理时，可以根据需要决定文本生成的起始位置"
   ]
  },
  {
   "cell_type": "code",
   "execution_count": 6,
   "id": "accessory-lesbian",
   "metadata": {},
   "outputs": [
    {
     "name": "stdout",
     "output_type": "stream",
     "text": [
      "INFO:tensorflow:Time usage 4m-41.80s, 0.00 steps/sec, 0.01 examples/sec\n"
     ]
    },
    {
     "data": {
      "text/plain": [
       "{'preds': ['天亮以前说再见,笑着泪流满面,去迎接应该你的,更好的明天', '他想知道那是谁,为何总沉默寡言,人群中也算抢眼,抢眼的孤独难免']}"
      ]
     },
     "execution_count": 6,
     "metadata": {},
     "output_type": "execute_result"
    }
   ],
   "source": [
    "model.predict(X, given=2)    # 给定2个字，从第3个字开始生成"
   ]
  }
 ],
 "metadata": {
  "kernelspec": {
   "display_name": "Python 3",
   "language": "python",
   "name": "python3"
  },
  "language_info": {
   "codemirror_mode": {
    "name": "ipython",
    "version": 3
   },
   "file_extension": ".py",
   "mimetype": "text/x-python",
   "name": "python",
   "nbconvert_exporter": "python",
   "pygments_lexer": "ipython3",
   "version": "3.8.2"
  }
 },
 "nbformat": 4,
 "nbformat_minor": 5
}
