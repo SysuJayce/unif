{
 "cells": [
  {
   "cell_type": "markdown",
   "id": "pretty-working",
   "metadata": {},
   "source": [
    "# GPT2LM\n",
    "\n",
    "可用的中文预训练参数：暂无"
   ]
  },
  {
   "cell_type": "code",
   "execution_count": 1,
   "id": "rotary-academy",
   "metadata": {},
   "outputs": [
    {
     "name": "stdout",
     "output_type": "stream",
     "text": [
      "v2.4.5\n"
     ]
    }
   ],
   "source": [
    "import uf\n",
    "\n",
    "print(uf.__version__)"
   ]
  },
  {
   "cell_type": "code",
   "execution_count": 2,
   "id": "velvet-symbol",
   "metadata": {},
   "outputs": [
    {
     "name": "stdout",
     "output_type": "stream",
     "text": [
      "INFO:tensorflow:Add necessary token `<eos>` into vocabulary.\n",
      "uf.GPT2LM(\n",
      "    vocab_file=\"../../demo/vocab.txt\",\n",
      "    max_seq_length=128,\n",
      "    init_checkpoint=None,\n",
      "    output_dir=None,\n",
      "    gpu_ids=None,\n",
      "    hidden_size=768,\n",
      "    num_hidden_layers=12,\n",
      "    num_attention_heads=12,\n",
      "    max_position_embeddings=1024,\n",
      "    do_lower_case=True,\n",
      "    truncate_method=\"LIFO\",\n",
      ")\n"
     ]
    }
   ],
   "source": [
    "model = uf.GPT2LM('../../demo/vocab.txt')\n",
    "print(model)"
   ]
  },
  {
   "cell_type": "code",
   "execution_count": 3,
   "id": "drawn-breathing",
   "metadata": {},
   "outputs": [],
   "source": [
    "X = ['天亮以前说再见, 笑着泪流满面, 去迎接应该你的, 更好的明天', \n",
    "     '他想知道那是谁, 为何总沉默寡言, 人群中也算抢眼, 抢眼的孤独难免']"
   ]
  },
  {
   "cell_type": "markdown",
   "id": "vanilla-fault",
   "metadata": {},
   "source": [
    "# 训练"
   ]
  },
  {
   "cell_type": "code",
   "execution_count": 4,
   "id": "excellent-religion",
   "metadata": {},
   "outputs": [
    {
     "name": "stdout",
     "output_type": "stream",
     "text": [
      "INFO:tensorflow:Build graph with 306,208,512 parameters (among which 102,069,504 are trainable)\n",
      "INFO:tensorflow:Running local_init_op\n",
      "INFO:tensorflow:Done running local_init_op\n",
      "INFO:tensorflow:Running training on 2 samples (step 0 -> 20)\n",
      "INFO:tensorflow:step 1, accuracy 0.0000, loss 10.138647, 0.04 steps/sec, 0.07 examples/sec\n",
      "INFO:tensorflow:step 2, accuracy 0.1017, loss 8.624920, 0.11 steps/sec, 0.22 examples/sec\n",
      "INFO:tensorflow:step 3, accuracy 0.1017, loss 7.590538, 0.07 steps/sec, 0.13 examples/sec\n",
      "INFO:tensorflow:step 4, accuracy 0.1356, loss 6.776685, 0.05 steps/sec, 0.11 examples/sec\n",
      "INFO:tensorflow:step 5, accuracy 0.3220, loss 6.039547, 0.05 steps/sec, 0.11 examples/sec\n",
      "INFO:tensorflow:step 6, accuracy 0.3390, loss 5.335666, 0.05 steps/sec, 0.09 examples/sec\n",
      "INFO:tensorflow:step 7, accuracy 0.5424, loss 4.666276, 0.06 steps/sec, 0.12 examples/sec\n",
      "INFO:tensorflow:step 8, accuracy 0.7288, loss 3.989765, 0.15 steps/sec, 0.30 examples/sec\n",
      "INFO:tensorflow:step 9, accuracy 0.8644, loss 3.321229, 0.17 steps/sec, 0.35 examples/sec\n",
      "INFO:tensorflow:step 10, accuracy 0.9831, loss 2.705689, 0.11 steps/sec, 0.21 examples/sec\n",
      "INFO:tensorflow:step 11, accuracy 1.0000, loss 2.172554, 0.16 steps/sec, 0.32 examples/sec\n",
      "INFO:tensorflow:step 12, accuracy 1.0000, loss 1.737047, 0.21 steps/sec, 0.41 examples/sec\n",
      "INFO:tensorflow:step 13, accuracy 1.0000, loss 1.387501, 0.20 steps/sec, 0.40 examples/sec\n",
      "INFO:tensorflow:step 14, accuracy 1.0000, loss 1.104759, 0.20 steps/sec, 0.40 examples/sec\n",
      "INFO:tensorflow:step 15, accuracy 1.0000, loss 0.881428, 0.22 steps/sec, 0.44 examples/sec\n",
      "INFO:tensorflow:step 16, accuracy 1.0000, loss 0.707696, 0.18 steps/sec, 0.36 examples/sec\n",
      "INFO:tensorflow:step 17, accuracy 1.0000, loss 0.578096, 0.21 steps/sec, 0.43 examples/sec\n",
      "INFO:tensorflow:step 18, accuracy 1.0000, loss 0.485195, 0.14 steps/sec, 0.28 examples/sec\n",
      "INFO:tensorflow:step 19, accuracy 1.0000, loss 0.421344, 0.22 steps/sec, 0.43 examples/sec\n",
      "INFO:tensorflow:step 20, accuracy 1.0000, loss 0.381094, 0.22 steps/sec, 0.43 examples/sec\n"
     ]
    }
   ],
   "source": [
    "model.fit(X, total_steps=20)"
   ]
  },
  {
   "cell_type": "markdown",
   "id": "fallen-hundred",
   "metadata": {},
   "source": [
    "# 推理"
   ]
  },
  {
   "cell_type": "code",
   "execution_count": 5,
   "id": "opposite-pantyhose",
   "metadata": {},
   "outputs": [
    {
     "name": "stdout",
     "output_type": "stream",
     "text": [
      "INFO:tensorflow:Time usage 3m-59.11s, 0.00 steps/sec, 0.01 examples/sec\n"
     ]
    },
    {
     "data": {
      "text/plain": [
       "{'preds': ['天亮以前说再见,笑着泪流满面,去迎接应该你的,更好的明天', '他想知道那是谁,为何总沉默寡言,人群中也算抢眼,抢眼的孤独难免']}"
      ]
     },
     "execution_count": 5,
     "metadata": {},
     "output_type": "execute_result"
    }
   ],
   "source": [
    "model.predict(X)"
   ]
  },
  {
   "cell_type": "markdown",
   "id": "fundamental-poverty",
   "metadata": {},
   "source": [
    "推理时，可以根据需要决定文本生成的起始位置"
   ]
  },
  {
   "cell_type": "code",
   "execution_count": 6,
   "id": "accessory-lesbian",
   "metadata": {},
   "outputs": [
    {
     "name": "stdout",
     "output_type": "stream",
     "text": [
      "INFO:tensorflow:Time usage 3m-54.28s, 0.00 steps/sec, 0.01 examples/sec\n"
     ]
    },
    {
     "data": {
      "text/plain": [
       "{'preds': ['天亮以前说再见,笑着泪流满面,去迎接应该你的,更好的明天', '他想知道那是谁,为何总沉默寡言,人群中也算抢眼,抢眼的孤独难免']}"
      ]
     },
     "execution_count": 6,
     "metadata": {},
     "output_type": "execute_result"
    }
   ],
   "source": [
    "model.predict(X, given=2)    # 给定2个字，从第3个字开始生成"
   ]
  }
 ],
 "metadata": {
  "kernelspec": {
   "display_name": "Python 3",
   "language": "python",
   "name": "python3"
  },
  "language_info": {
   "codemirror_mode": {
    "name": "ipython",
    "version": 3
   },
   "file_extension": ".py",
   "mimetype": "text/x-python",
   "name": "python",
   "nbconvert_exporter": "python",
   "pygments_lexer": "ipython3",
   "version": "3.8.2"
  }
 },
 "nbformat": 4,
 "nbformat_minor": 5
}
