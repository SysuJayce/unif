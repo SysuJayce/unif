{
 "cells": [
  {
   "attachments": {},
   "cell_type": "markdown",
   "id": "accepting-council",
   "metadata": {},
   "source": [
    "# BERTTmpBinaryClassifier\n",
    "\n",
    "可用的中文预训练参数：[`bert-base`](https://storage.googleapis.com/bert_models/2018_11_03/chinese_L-12_H-768_A-12.zip),[`roberta-wwm-ext-base`](https://drive.google.com/uc?export=download&id=1jMAKIJmPn7kADgD3yQZhpsqM-IRM1qZt),[`roberta-wwm-ext-large`](https://drive.google.com/uc?export=download&id=1dtad0FFzG11CBsawu8hvwwzU2R0FDI94),[`macbert-base`](https://drive.google.com/uc?export=download&id=1aV69OhYzIwj_hn-kO1RiBa-m8QAusQ5b),[`macbert-large`](https://drive.google.com/uc?export=download&id=1lWYxnk1EqTA2Q20_IShxBrCPc5VSDCkT)"
   ]
  },
  {
   "cell_type": "code",
   "execution_count": 1,
   "id": "rotary-academy",
   "metadata": {},
   "outputs": [
    {
     "name": "stdout",
     "output_type": "stream",
     "text": [
      "v2.5.21\n"
     ]
    }
   ],
   "source": [
    "import uf\n",
    "\n",
    "print(uf.__version__)"
   ]
  },
  {
   "cell_type": "code",
   "execution_count": 2,
   "id": "velvet-symbol",
   "metadata": {},
   "outputs": [
    {
     "name": "stdout",
     "output_type": "stream",
     "text": [
      "uf.BERTTmpBinaryClassifier(\n",
      "    config_file=\"../../ref/bert_config.json\",\n",
      "    vocab_file=\"../../ref/vocab.txt\",\n",
      "    max_seq_length=128,\n",
      "    label_size=3,\n",
      "    init_checkpoint=None,\n",
      "    output_dir=None,\n",
      "    gpu_ids=None,\n",
      "    drop_pooler=False,\n",
      "    do_lower_case=True,\n",
      "    truncate_method=\"LIFO\",\n",
      ")\n"
     ]
    }
   ],
   "source": [
    "model = uf.BERTTmpBinaryClassifier(\"../../ref/bert_config.json\", \"../../ref/vocab.txt\", label_size=3)\n",
    "print(model)"
   ]
  },
  {
   "cell_type": "code",
   "execution_count": 3,
   "id": "drawn-breathing",
   "metadata": {},
   "outputs": [],
   "source": [
    "X = [\n",
    "    {\"t\": \"天亮以前说再见\", \"w\": [1, 1, 1]},\n",
    "    {\"t\": \"笑着泪流满面\", \"w\": [1, 1, 1]},\n",
    "    {\"t\": \"去迎接应该你的\", \"w\": [1, 1, 1]},\n",
    "    {\"t\": \"更好的明天\", \"w\": [1, 1, 1]},\n",
    "]\n",
    "y = [[0, 2], [1], [1], []]"
   ]
  },
  {
   "cell_type": "markdown",
   "id": "vanilla-fault",
   "metadata": {},
   "source": [
    "# 训练"
   ]
  },
  {
   "cell_type": "code",
   "execution_count": 4,
   "id": "excellent-religion",
   "metadata": {},
   "outputs": [
    {
     "name": "stderr",
     "output_type": "stream",
     "text": [
      "/Users/geyingli/Library/Python/3.8/lib/python/site-packages/uf-2.5.21-py3.8.egg/uf/apps/bert/bert.py:236: UserWarning: `tf.layers.dense` is deprecated and will be removed in a future version. Please use `tf.keras.layers.Dense` instead.\n",
      "  query_layer = tf.layers.dense(\n",
      "/Users/geyingli/Library/Python/3.8/lib/python/site-packages/uf-2.5.21-py3.8.egg/uf/apps/bert/bert.py:246: UserWarning: `tf.layers.dense` is deprecated and will be removed in a future version. Please use `tf.keras.layers.Dense` instead.\n",
      "  key_layer = tf.layers.dense(\n",
      "/Users/geyingli/Library/Python/3.8/lib/python/site-packages/uf-2.5.21-py3.8.egg/uf/apps/bert/bert.py:256: UserWarning: `tf.layers.dense` is deprecated and will be removed in a future version. Please use `tf.keras.layers.Dense` instead.\n",
      "  value_layer = tf.layers.dense(\n",
      "/Users/geyingli/Library/Python/3.8/lib/python/site-packages/uf-2.5.21-py3.8.egg/uf/apps/bert/bert.py:380: UserWarning: `tf.layers.dense` is deprecated and will be removed in a future version. Please use `tf.keras.layers.Dense` instead.\n",
      "  attention_output = tf.layers.dense(\n",
      "/Users/geyingli/Library/Python/3.8/lib/python/site-packages/uf-2.5.21-py3.8.egg/uf/apps/bert/bert.py:392: UserWarning: `tf.layers.dense` is deprecated and will be removed in a future version. Please use `tf.keras.layers.Dense` instead.\n",
      "  intermediate_output = tf.layers.dense(\n",
      "/Users/geyingli/Library/Python/3.8/lib/python/site-packages/uf-2.5.21-py3.8.egg/uf/apps/bert/bert.py:402: UserWarning: `tf.layers.dense` is deprecated and will be removed in a future version. Please use `tf.keras.layers.Dense` instead.\n",
      "  layer_output = tf.layers.dense(\n",
      "/Users/geyingli/Library/Python/3.8/lib/python/site-packages/uf-2.5.21-py3.8.egg/uf/apps/bert/bert.py:103: UserWarning: `tf.layers.dense` is deprecated and will be removed in a future version. Please use `tf.keras.layers.Dense` instead.\n",
      "  self.pooled_output = tf.layers.dense(\n"
     ]
    },
    {
     "name": "stdout",
     "output_type": "stream",
     "text": [
      "INFO:tensorflow:Build graph with 306,809,865 parameters (among which 102,269,955 are trainable)\n",
      "INFO:tensorflow:Running local_init_op\n",
      "INFO:tensorflow:Done running local_init_op\n",
      "INFO:tensorflow:Running training on 4 samples (step 0 -> 20)\n",
      "INFO:tensorflow:step 1, accuracy 0.2500, loss 0.632848, 0.10 steps/sec, 0.40 examples/sec\n",
      "INFO:tensorflow:step 2, accuracy 0.4167, loss 0.596169, 0.31 steps/sec, 1.23 examples/sec\n",
      "INFO:tensorflow:step 3, accuracy 0.3333, loss 0.304469, 0.39 steps/sec, 1.54 examples/sec\n",
      "INFO:tensorflow:step 4, accuracy 0.3333, loss 0.125237, 0.36 steps/sec, 1.44 examples/sec\n",
      "INFO:tensorflow:step 5, accuracy 0.3333, loss 0.087309, 0.38 steps/sec, 1.54 examples/sec\n",
      "INFO:tensorflow:step 6, accuracy 0.3333, loss 0.064634, 0.41 steps/sec, 1.63 examples/sec\n",
      "INFO:tensorflow:step 7, accuracy 0.3333, loss 0.051583, 0.40 steps/sec, 1.59 examples/sec\n",
      "INFO:tensorflow:step 8, accuracy 0.3333, loss 0.041754, 0.38 steps/sec, 1.52 examples/sec\n",
      "INFO:tensorflow:step 9, accuracy 0.3333, loss 0.037051, 0.38 steps/sec, 1.52 examples/sec\n",
      "INFO:tensorflow:step 10, accuracy 0.3333, loss 0.035260, 0.39 steps/sec, 1.57 examples/sec\n",
      "INFO:tensorflow:step 11, accuracy 0.3333, loss 0.031449, 0.37 steps/sec, 1.48 examples/sec\n",
      "INFO:tensorflow:step 12, accuracy 0.3333, loss 0.026733, 0.38 steps/sec, 1.53 examples/sec\n",
      "INFO:tensorflow:step 13, accuracy 0.3333, loss 0.026837, 0.39 steps/sec, 1.57 examples/sec\n",
      "INFO:tensorflow:step 14, accuracy 0.3333, loss 0.024421, 0.41 steps/sec, 1.63 examples/sec\n",
      "INFO:tensorflow:step 15, accuracy 0.3333, loss 0.022894, 0.41 steps/sec, 1.62 examples/sec\n",
      "INFO:tensorflow:step 16, accuracy 0.3333, loss 0.019912, 0.39 steps/sec, 1.57 examples/sec\n",
      "INFO:tensorflow:step 17, accuracy 0.3333, loss 0.021440, 0.41 steps/sec, 1.63 examples/sec\n",
      "INFO:tensorflow:step 18, accuracy 0.3333, loss 0.022256, 0.39 steps/sec, 1.55 examples/sec\n",
      "INFO:tensorflow:step 19, accuracy 0.3333, loss 0.017715, 0.40 steps/sec, 1.62 examples/sec\n",
      "INFO:tensorflow:step 20, accuracy 0.3333, loss 0.018786, 0.41 steps/sec, 1.64 examples/sec\n"
     ]
    }
   ],
   "source": [
    "model.fit(X, y, total_steps=20)"
   ]
  },
  {
   "cell_type": "markdown",
   "id": "fallen-hundred",
   "metadata": {},
   "source": [
    "# 推理"
   ]
  },
  {
   "cell_type": "code",
   "execution_count": 5,
   "id": "opposite-pantyhose",
   "metadata": {},
   "outputs": [
    {
     "name": "stdout",
     "output_type": "stream",
     "text": [
      "INFO:tensorflow:Running inference on 4 samples\n",
      "INFO:tensorflow:process 100.0%, 2.79 examples/sec\n"
     ]
    },
    {
     "data": {
      "text/plain": [
       "{'preds': [[0, 1, 2], [0, 1, 2], [0, 1, 2], [0, 1, 2]],\n",
       " 'probs': array([[0.97492456, 0.9836858 , 0.9784424 ],\n",
       "        [0.9692285 , 0.98828864, 0.97360814],\n",
       "        [0.96993876, 0.9880721 , 0.9738645 ],\n",
       "        [0.9721115 , 0.98661035, 0.976029  ]], dtype=float32)}"
      ]
     },
     "execution_count": 5,
     "metadata": {},
     "output_type": "execute_result"
    }
   ],
   "source": [
    "model.predict(X)"
   ]
  },
  {
   "cell_type": "markdown",
   "id": "fundamental-poverty",
   "metadata": {},
   "source": [
    "# 评分"
   ]
  },
  {
   "cell_type": "code",
   "execution_count": 6,
   "id": "accessory-lesbian",
   "metadata": {},
   "outputs": [
    {
     "name": "stdout",
     "output_type": "stream",
     "text": [
      "INFO:tensorflow:Running scoring on 4 samples\n",
      "INFO:tensorflow:process 100.0%, 3.89 examples/sec\n"
     ]
    },
    {
     "data": {
      "text/plain": [
       "{'accuracy': 0.3333333333333333, 'loss': 0.017742166}"
      ]
     },
     "execution_count": 6,
     "metadata": {},
     "output_type": "execute_result"
    }
   ],
   "source": [
    "model.score(X, y)"
   ]
  }
 ],
 "metadata": {
  "kernelspec": {
   "display_name": "Python 3.9.13 64-bit",
   "language": "python",
   "name": "python3"
  },
  "language_info": {
   "codemirror_mode": {
    "name": "ipython",
    "version": 3
   },
   "file_extension": ".py",
   "mimetype": "text/x-python",
   "name": "python",
   "nbconvert_exporter": "python",
   "pygments_lexer": "ipython3",
   "version": "3.8.2"
  },
  "vscode": {
   "interpreter": {
    "hash": "265fd6f62f200408acbbeae0248f34bed9f93569a643842b7a25d2cd76cae5e5"
   }
  }
 },
 "nbformat": 4,
 "nbformat_minor": 5
}
