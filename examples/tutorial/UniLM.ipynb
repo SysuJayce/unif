{
 "cells": [
  {
   "cell_type": "code",
   "execution_count": 1,
   "id": "rotary-academy",
   "metadata": {},
   "outputs": [
    {
     "name": "stdout",
     "output_type": "stream",
     "text": [
      "beta v2.8.0\n"
     ]
    }
   ],
   "source": [
    "import uf\n",
    "\n",
    "print(uf.__version__)"
   ]
  },
  {
   "cell_type": "code",
   "execution_count": 2,
   "id": "velvet-symbol",
   "metadata": {},
   "outputs": [
    {
     "name": "stdout",
     "output_type": "stream",
     "text": [
      "INFO:tensorflow:LM Mode: `bi`. Use method `.to_mode()` to convert it into `bi`, `l2r`, `r2l` or `s2s`.\n",
      "INFO:tensorflow:Add necessary token `[EOS]` into vocabulary.\n",
      "uf.UniLM(config_file='../demo/bert_config.json', vocab_file='../demo/vocab.txt', max_seq_length=128, init_checkpoint=None, output_dir=None, gpu_ids=None, drop_pooler=False, do_sample_next_sentence=True, max_predictions_per_seq=20, masked_lm_prob=0.15, short_seq_prob=0.1, do_whole_word_mask=False, mode='bi', do_lower_case=True, truncate_method='LIFO')\n"
     ]
    }
   ],
   "source": [
    "model = uf.UniLM('../demo/bert_config.json', '../demo/vocab.txt')\n",
    "print(model)"
   ]
  },
  {
   "cell_type": "markdown",
   "id": "severe-plumbing",
   "metadata": {},
   "source": [
    "可通过简单的一项指令，在三种训练模式中切换"
   ]
  },
  {
   "cell_type": "code",
   "execution_count": 3,
   "id": "solved-behalf",
   "metadata": {},
   "outputs": [],
   "source": [
    "model.to_mode('bi')    # bi/l2r/r2l/s2s"
   ]
  },
  {
   "cell_type": "code",
   "execution_count": 4,
   "id": "drawn-breathing",
   "metadata": {},
   "outputs": [],
   "source": [
    "# bi/l2r/r2l模式下\n",
    "X = [['天亮以前说再见，', '笑着泪流满面，', '去迎接应该你的，', '更好的明天。'],    # 每一条样本是一个doc，doc内可以由多个句子组成\n",
    "     '他想知道那是谁, 为何总沉默寡言, 人群中也算抢眼, 抢眼的孤独难免']    # doc也可以是一个完整的文段\n",
    "\n",
    "# s2s模式下\n",
    "# X = [['天亮以前说再见', '笑着泪流满面'], ['他想知道那是谁', '为何总沉默寡言']]    # doc必须为两个句子"
   ]
  },
  {
   "cell_type": "markdown",
   "id": "vanilla-fault",
   "metadata": {},
   "source": [
    "# 训练"
   ]
  },
  {
   "cell_type": "code",
   "execution_count": 5,
   "id": "excellent-religion",
   "metadata": {},
   "outputs": [
    {
     "name": "stdout",
     "output_type": "stream",
     "text": [
      "WARNING:tensorflow:From /Users/geyingli/Library/Python/3.8/lib/python/site-packages/tensorflow/python/util/dispatch.py:201: calling dropout (from tensorflow.python.ops.nn_ops) with keep_prob is deprecated and will be removed in a future version.\n",
      "Instructions for updating:\n",
      "Please use `rate` instead of `keep_prob`. Rate should be set to `rate = 1 - keep_prob`.\n"
     ]
    },
    {
     "name": "stderr",
     "output_type": "stream",
     "text": [
      "/Users/geyingli/Library/Python/3.8/lib/python/site-packages/tensorflow/python/keras/legacy_tf_layers/core.py:171: UserWarning: `tf.layers.dense` is deprecated and will be removed in a future version. Please use `tf.keras.layers.Dense` instead.\n",
      "  warnings.warn('`tf.layers.dense` is deprecated and '\n",
      "/Users/geyingli/Library/Python/3.8/lib/python/site-packages/tensorflow/python/keras/engine/base_layer_v1.py:1719: UserWarning: `layer.apply` is deprecated and will be removed in a future version. Please use `layer.__call__` method instead.\n",
      "  warnings.warn('`layer.apply` is deprecated and '\n"
     ]
    },
    {
     "name": "stdout",
     "output_type": "stream",
     "text": [
      "INFO:tensorflow:Build graph with 308,649,633 parameters (among which 102,883,211 are trainable)\n",
      "INFO:tensorflow:Running local_init_op\n",
      "INFO:tensorflow:Done running local_init_op\n",
      "INFO:tensorflow:Running training on 2 samples (step 0 -> 20)\n",
      "INFO:tensorflow:step 1, MLM accuracy 0.0000, MLM loss 3.511070, NSP accuracy 0.0000, NSP loss 0.756016, 0.17 steps/sec, 0.34 examples/sec\n",
      "INFO:tensorflow:step 2, MLM accuracy 0.2143, MLM loss 2.990194, NSP accuracy 0.5000, NSP loss 0.751515, 0.54 steps/sec, 1.07 examples/sec\n",
      "INFO:tensorflow:step 3, MLM accuracy 0.7857, MLM loss 2.538321, NSP accuracy 1.0000, NSP loss 0.619472, 0.53 steps/sec, 1.07 examples/sec\n",
      "INFO:tensorflow:step 4, MLM accuracy 0.9286, MLM loss 2.238437, NSP accuracy 1.0000, NSP loss 0.523896, 0.53 steps/sec, 1.07 examples/sec\n",
      "INFO:tensorflow:step 5, MLM accuracy 1.0000, MLM loss 1.984206, NSP accuracy 1.0000, NSP loss 0.441820, 0.55 steps/sec, 1.09 examples/sec\n",
      "INFO:tensorflow:step 6, MLM accuracy 1.0000, MLM loss 1.727970, NSP accuracy 1.0000, NSP loss 0.409445, 0.54 steps/sec, 1.09 examples/sec\n",
      "INFO:tensorflow:step 7, MLM accuracy 1.0000, MLM loss 1.554592, NSP accuracy 1.0000, NSP loss 0.302759, 0.55 steps/sec, 1.09 examples/sec\n",
      "INFO:tensorflow:step 8, MLM accuracy 1.0000, MLM loss 1.347143, NSP accuracy 1.0000, NSP loss 0.235201, 0.53 steps/sec, 1.06 examples/sec\n",
      "INFO:tensorflow:step 9, MLM accuracy 1.0000, MLM loss 1.205250, NSP accuracy 1.0000, NSP loss 0.136295, 0.53 steps/sec, 1.07 examples/sec\n",
      "INFO:tensorflow:step 10, MLM accuracy 1.0000, MLM loss 1.053702, NSP accuracy 1.0000, NSP loss 0.087185, 0.58 steps/sec, 1.15 examples/sec\n",
      "INFO:tensorflow:step 11, MLM accuracy 1.0000, MLM loss 0.940689, NSP accuracy 1.0000, NSP loss 0.083484, 0.55 steps/sec, 1.10 examples/sec\n",
      "INFO:tensorflow:step 12, MLM accuracy 1.0000, MLM loss 0.846940, NSP accuracy 1.0000, NSP loss 0.047692, 0.55 steps/sec, 1.11 examples/sec\n",
      "INFO:tensorflow:step 13, MLM accuracy 1.0000, MLM loss 0.744052, NSP accuracy 1.0000, NSP loss 0.047472, 0.58 steps/sec, 1.15 examples/sec\n",
      "INFO:tensorflow:step 14, MLM accuracy 1.0000, MLM loss 0.702205, NSP accuracy 1.0000, NSP loss 0.034616, 0.55 steps/sec, 1.10 examples/sec\n",
      "INFO:tensorflow:step 15, MLM accuracy 1.0000, MLM loss 0.639678, NSP accuracy 1.0000, NSP loss 0.033712, 0.51 steps/sec, 1.02 examples/sec\n",
      "INFO:tensorflow:step 16, MLM accuracy 1.0000, MLM loss 0.589506, NSP accuracy 1.0000, NSP loss 0.035639, 0.53 steps/sec, 1.05 examples/sec\n",
      "INFO:tensorflow:step 17, MLM accuracy 1.0000, MLM loss 0.560541, NSP accuracy 1.0000, NSP loss 0.034177, 0.54 steps/sec, 1.08 examples/sec\n",
      "INFO:tensorflow:step 18, MLM accuracy 1.0000, MLM loss 0.524081, NSP accuracy 1.0000, NSP loss 0.032176, 0.48 steps/sec, 0.96 examples/sec\n",
      "INFO:tensorflow:step 19, MLM accuracy 1.0000, MLM loss 0.491827, NSP accuracy 1.0000, NSP loss 0.020994, 0.54 steps/sec, 1.08 examples/sec\n",
      "INFO:tensorflow:step 20, MLM accuracy 1.0000, MLM loss 0.479864, NSP accuracy 1.0000, NSP loss 0.023605, 0.52 steps/sec, 1.05 examples/sec\n"
     ]
    }
   ],
   "source": [
    "model.fit(X, total_steps=20)"
   ]
  },
  {
   "cell_type": "markdown",
   "id": "fallen-hundred",
   "metadata": {},
   "source": [
    "# 推理"
   ]
  },
  {
   "cell_type": "code",
   "execution_count": 6,
   "id": "opposite-pantyhose",
   "metadata": {},
   "outputs": [
    {
     "name": "stdout",
     "output_type": "stream",
     "text": [
      "INFO:tensorflow:Time usage 0m-1.07s, 0.94 steps/sec, 0.94 examples/sec\n"
     ]
    },
    {
     "data": {
      "text/plain": [
       "{'mlm_preds': [['的']],\n",
       " 'nsp_preds': [0],\n",
       " 'nsp_probs': array([[0.9919144 , 0.00808558]], dtype=float32)}"
      ]
     },
     "execution_count": 6,
     "metadata": {},
     "output_type": "execute_result"
    }
   ],
   "source": [
    "X_tokenized = [['天', '亮', '以', '[MASK]', '说', '再', '见']]    # 可以手动赋予Mask测试MLM\n",
    "model.predict(X_tokenized=X_tokenized)"
   ]
  }
 ],
 "metadata": {
  "kernelspec": {
   "display_name": "Python 3",
   "language": "python",
   "name": "python3"
  },
  "language_info": {
   "codemirror_mode": {
    "name": "ipython",
    "version": 3
   },
   "file_extension": ".py",
   "mimetype": "text/x-python",
   "name": "python",
   "nbconvert_exporter": "python",
   "pygments_lexer": "ipython3",
   "version": "3.8.2"
  }
 },
 "nbformat": 4,
 "nbformat_minor": 5
}
