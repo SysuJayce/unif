{
 "cells": [
  {
   "cell_type": "code",
   "execution_count": 1,
   "id": "rotary-academy",
   "metadata": {},
   "outputs": [
    {
     "name": "stdout",
     "output_type": "stream",
     "text": [
      "beta v2.8.0\n"
     ]
    }
   ],
   "source": [
    "import uf\n",
    "\n",
    "print(uf.__version__)"
   ]
  },
  {
   "cell_type": "code",
   "execution_count": 2,
   "id": "velvet-symbol",
   "metadata": {},
   "outputs": [
    {
     "name": "stdout",
     "output_type": "stream",
     "text": [
      "uf.TinyBERTBinaryClassifier(config_file='../demo/bert_config.json', vocab_file='../demo/vocab.txt', max_seq_length=128, label_size=2, init_checkpoint=None, output_dir=None, gpu_ids=None, drop_pooler=False, hidden_size=384, num_hidden_layers=4, do_lower_case=True, truncate_method='LIFO')\n"
     ]
    }
   ],
   "source": [
    "model = uf.TinyBERTBinaryClassifier('../demo/bert_config.json', '../demo/vocab.txt', label_size=2)    # 配置文件依然使用teacher模型的\n",
    "print(model)"
   ]
  },
  {
   "cell_type": "code",
   "execution_count": 3,
   "id": "drawn-breathing",
   "metadata": {},
   "outputs": [],
   "source": [
    "X = ['天亮以前说再见', '笑着泪流满面', '去迎接应该你的', '更好的明天']\n",
    "y = [[0], [1], [], [0, 1]]"
   ]
  },
  {
   "cell_type": "markdown",
   "id": "vanilla-fault",
   "metadata": {},
   "source": [
    "# 训练"
   ]
  },
  {
   "cell_type": "code",
   "execution_count": 4,
   "id": "excellent-religion",
   "metadata": {},
   "outputs": [
    {
     "name": "stdout",
     "output_type": "stream",
     "text": [
      "WARNING:tensorflow:From /Users/geyingli/Library/Python/3.8/lib/python/site-packages/tensorflow/python/util/dispatch.py:201: calling dropout (from tensorflow.python.ops.nn_ops) with keep_prob is deprecated and will be removed in a future version.\n",
      "Instructions for updating:\n",
      "Please use `rate` instead of `keep_prob`. Rate should be set to `rate = 1 - keep_prob`.\n"
     ]
    },
    {
     "name": "stderr",
     "output_type": "stream",
     "text": [
      "/Users/geyingli/Library/Python/3.8/lib/python/site-packages/tensorflow/python/keras/legacy_tf_layers/core.py:171: UserWarning: `tf.layers.dense` is deprecated and will be removed in a future version. Please use `tf.keras.layers.Dense` instead.\n",
      "  warnings.warn('`tf.layers.dense` is deprecated and '\n",
      "/Users/geyingli/Library/Python/3.8/lib/python/site-packages/tensorflow/python/keras/engine/base_layer_v1.py:1719: UserWarning: `layer.apply` is deprecated and will be removed in a future version. Please use `layer.__call__` method instead.\n",
      "  warnings.warn('`layer.apply` is deprecated and '\n"
     ]
    },
    {
     "name": "stdout",
     "output_type": "stream",
     "text": [
      "INFO:tensorflow:Build graph with 153,377,672 parameters (among which 17,036,162 are trainable)\n",
      "INFO:tensorflow:Running local_init_op\n",
      "INFO:tensorflow:Done running local_init_op\n",
      "INFO:tensorflow:Running training on 4 samples (step 0 -> 10)\n",
      "INFO:tensorflow:step 1, distill loss 6.514044, 0.29 steps/sec, 1.17 examples/sec\n",
      "INFO:tensorflow:step 2, distill loss 6.513039, 1.09 steps/sec, 4.35 examples/sec\n",
      "INFO:tensorflow:step 3, distill loss 6.373905, 1.28 steps/sec, 5.13 examples/sec\n",
      "INFO:tensorflow:step 4, distill loss 6.241427, 1.31 steps/sec, 5.22 examples/sec\n",
      "INFO:tensorflow:step 5, distill loss 6.121175, 1.29 steps/sec, 5.17 examples/sec\n",
      "INFO:tensorflow:step 6, distill loss 6.015441, 1.29 steps/sec, 5.14 examples/sec\n",
      "INFO:tensorflow:step 7, distill loss 5.921449, 1.28 steps/sec, 5.12 examples/sec\n",
      "INFO:tensorflow:step 8, distill loss 5.848044, 1.30 steps/sec, 5.18 examples/sec\n",
      "INFO:tensorflow:step 9, distill loss 5.792944, 1.29 steps/sec, 5.15 examples/sec\n",
      "INFO:tensorflow:step 10, distill loss 5.756713, 1.30 steps/sec, 5.20 examples/sec\n"
     ]
    }
   ],
   "source": [
    "model.fit(X, total_steps=10)"
   ]
  },
  {
   "cell_type": "markdown",
   "id": "fallen-hundred",
   "metadata": {},
   "source": [
    "# 推理"
   ]
  },
  {
   "cell_type": "code",
   "execution_count": 5,
   "id": "opposite-pantyhose",
   "metadata": {},
   "outputs": [
    {
     "name": "stdout",
     "output_type": "stream",
     "text": [
      "INFO:tensorflow:Time usage 0m-0.53s, 1.88 steps/sec, 7.53 examples/sec\n"
     ]
    },
    {
     "data": {
      "text/plain": [
       "{'preds': [[1], [1], [1], [1]],\n",
       " 'probs': array([[0.45758975, 0.50689226],\n",
       "        [0.46072713, 0.50796646],\n",
       "        [0.45752156, 0.5040167 ],\n",
       "        [0.4576856 , 0.5059069 ]], dtype=float32)}"
      ]
     },
     "execution_count": 5,
     "metadata": {},
     "output_type": "execute_result"
    }
   ],
   "source": [
    "model.predict(X)"
   ]
  },
  {
   "cell_type": "markdown",
   "id": "fundamental-poverty",
   "metadata": {},
   "source": [
    "# 评分"
   ]
  },
  {
   "cell_type": "code",
   "execution_count": 6,
   "id": "accessory-lesbian",
   "metadata": {},
   "outputs": [
    {
     "name": "stdout",
     "output_type": "stream",
     "text": [
      "INFO:tensorflow:Time usage 0m-0.25s, 3.98 steps/sec, 15.92 examples/sec\n"
     ]
    },
    {
     "data": {
      "text/plain": [
       "{'accuracy': 0.5, 'loss': 1.3898697}"
      ]
     },
     "execution_count": 6,
     "metadata": {},
     "output_type": "execute_result"
    }
   ],
   "source": [
    "model.score(X, y)    # 这里teacher模型是随机初始化的，因此student模型的推理结果也是随机的"
   ]
  },
  {
   "cell_type": "markdown",
   "id": "radical-namibia",
   "metadata": {},
   "source": [
    "# 导出为BERT\n",
    "从计算图中剔除teacher模型，仅保留student模型"
   ]
  },
  {
   "cell_type": "code",
   "execution_count": 7,
   "id": "powered-western",
   "metadata": {},
   "outputs": [
    {
     "name": "stdout",
     "output_type": "stream",
     "text": [
      "INFO:tensorflow:Saving checkpoint into tmp/bert_model.ckpt\n"
     ]
    }
   ],
   "source": [
    "model.to_bert('tmp')"
   ]
  }
 ],
 "metadata": {
  "kernelspec": {
   "display_name": "Python 3",
   "language": "python",
   "name": "python3"
  },
  "language_info": {
   "codemirror_mode": {
    "name": "ipython",
    "version": 3
   },
   "file_extension": ".py",
   "mimetype": "text/x-python",
   "name": "python",
   "nbconvert_exporter": "python",
   "pygments_lexer": "ipython3",
   "version": "3.8.2"
  }
 },
 "nbformat": 4,
 "nbformat_minor": 5
}
