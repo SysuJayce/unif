{
 "cells": [
  {
   "cell_type": "markdown",
   "id": "equal-involvement",
   "metadata": {},
   "source": [
    "# TinyBERTBinaryClassifier\n",
    "\n",
    "Teacher模型：`BERTBinaryClassifier`"
   ]
  },
  {
   "cell_type": "code",
   "execution_count": 1,
   "id": "rotary-academy",
   "metadata": {},
   "outputs": [
    {
     "name": "stdout",
     "output_type": "stream",
     "text": [
      "v2.5.0\n"
     ]
    }
   ],
   "source": [
    "import uf\n",
    "\n",
    "print(uf.__version__)"
   ]
  },
  {
   "cell_type": "markdown",
   "id": "46de211b",
   "metadata": {},
   "source": [
    "# Teacher训练"
   ]
  },
  {
   "cell_type": "code",
   "execution_count": 2,
   "id": "097c77dc",
   "metadata": {},
   "outputs": [
    {
     "name": "stdout",
     "output_type": "stream",
     "text": [
      "INFO:tensorflow:Output directory: .teacher\n",
      "uf.BERTBinaryClassifier(\n",
      "    config_file=\"../../ref/bert_config.json\",\n",
      "    vocab_file=\"../../ref/vocab.txt\",\n",
      "    max_seq_length=128,\n",
      "    label_size=None,\n",
      "    label_weight=None,\n",
      "    init_checkpoint=None,\n",
      "    output_dir=\".teacher\",\n",
      "    gpu_ids=None,\n",
      "    drop_pooler=False,\n",
      "    do_lower_case=True,\n",
      "    truncate_method=\"LIFO\",\n",
      ")\n"
     ]
    }
   ],
   "source": [
    "model = uf.BERTBinaryClassifier(\"../../ref/bert_config.json\", \"../../ref/vocab.txt\", output_dir=\".teacher\")\n",
    "print(model)"
   ]
  },
  {
   "cell_type": "code",
   "execution_count": 3,
   "id": "244b06e5",
   "metadata": {},
   "outputs": [],
   "source": [
    "X = [\"天亮以前说再见\", \"笑着泪流满面\", \"去迎接应该你的\", \"更好的明天\"]\n",
    "y = [[0], [1], [], [0, 1]]"
   ]
  },
  {
   "cell_type": "code",
   "execution_count": 4,
   "id": "d7bf74f7",
   "metadata": {},
   "outputs": [
    {
     "name": "stdout",
     "output_type": "stream",
     "text": [
      "WARNING:tensorflow:From c:\\Users\\Luv_d\\AppData\\Local\\Programs\\Python\\Python39\\lib\\site-packages\\tensorflow\\python\\util\\dispatch.py:1176: calling dropout (from tensorflow.python.ops.nn_ops) with keep_prob is deprecated and will be removed in a future version.\n",
      "Instructions for updating:\n",
      "Please use `rate` instead of `keep_prob`. Rate should be set to `rate = 1 - keep_prob`.\n"
     ]
    },
    {
     "name": "stderr",
     "output_type": "stream",
     "text": [
      "c:\\Users\\Luv_d\\AppData\\Local\\Programs\\Python\\Python39\\lib\\site-packages\\uf-2.5.0-py3.9.egg\\uf\\apps\\bert\\bert.py:272: UserWarning: `tf.layers.dense` is deprecated and will be removed in a future version. Please use `tf.keras.layers.Dense` instead.\n",
      "  query_layer = tf.layers.dense(\n",
      "c:\\Users\\Luv_d\\AppData\\Local\\Programs\\Python\\Python39\\lib\\site-packages\\uf-2.5.0-py3.9.egg\\uf\\apps\\bert\\bert.py:282: UserWarning: `tf.layers.dense` is deprecated and will be removed in a future version. Please use `tf.keras.layers.Dense` instead.\n",
      "  key_layer = tf.layers.dense(\n",
      "c:\\Users\\Luv_d\\AppData\\Local\\Programs\\Python\\Python39\\lib\\site-packages\\uf-2.5.0-py3.9.egg\\uf\\apps\\bert\\bert.py:292: UserWarning: `tf.layers.dense` is deprecated and will be removed in a future version. Please use `tf.keras.layers.Dense` instead.\n",
      "  value_layer = tf.layers.dense(\n",
      "c:\\Users\\Luv_d\\AppData\\Local\\Programs\\Python\\Python39\\lib\\site-packages\\uf-2.5.0-py3.9.egg\\uf\\apps\\bert\\bert.py:416: UserWarning: `tf.layers.dense` is deprecated and will be removed in a future version. Please use `tf.keras.layers.Dense` instead.\n",
      "  attention_output = tf.layers.dense(\n",
      "c:\\Users\\Luv_d\\AppData\\Local\\Programs\\Python\\Python39\\lib\\site-packages\\uf-2.5.0-py3.9.egg\\uf\\apps\\bert\\bert.py:428: UserWarning: `tf.layers.dense` is deprecated and will be removed in a future version. Please use `tf.keras.layers.Dense` instead.\n",
      "  intermediate_output = tf.layers.dense(\n",
      "c:\\Users\\Luv_d\\AppData\\Local\\Programs\\Python\\Python39\\lib\\site-packages\\uf-2.5.0-py3.9.egg\\uf\\apps\\bert\\bert.py:438: UserWarning: `tf.layers.dense` is deprecated and will be removed in a future version. Please use `tf.keras.layers.Dense` instead.\n",
      "  layer_output = tf.layers.dense(\n",
      "c:\\Users\\Luv_d\\AppData\\Local\\Programs\\Python\\Python39\\lib\\site-packages\\uf-2.5.0-py3.9.egg\\uf\\apps\\bert\\bert.py:107: UserWarning: `tf.layers.dense` is deprecated and will be removed in a future version. Please use `tf.keras.layers.Dense` instead.\n",
      "  self.pooled_output = tf.layers.dense(\n"
     ]
    },
    {
     "name": "stdout",
     "output_type": "stream",
     "text": [
      "INFO:tensorflow:Build graph with 306,807,558 parameters (among which 102,269,186 are trainable)\n",
      "INFO:tensorflow:Running local_init_op\n",
      "INFO:tensorflow:Done running local_init_op\n",
      "INFO:tensorflow:Running training on 4 samples (step 0 -> 20)\n",
      "INFO:tensorflow:step 1, accuracy 0.3750, loss 1.433167, 0.21 steps/sec, 0.83 examples/sec\n",
      "INFO:tensorflow:step 2, accuracy 0.5000, loss 1.426916, 0.63 steps/sec, 2.53 examples/sec\n",
      "INFO:tensorflow:step 3, accuracy 0.6250, loss 1.373959, 0.62 steps/sec, 2.47 examples/sec\n",
      "INFO:tensorflow:step 4, accuracy 0.7500, loss 1.288343, 0.65 steps/sec, 2.60 examples/sec\n",
      "INFO:tensorflow:step 5, accuracy 1.0000, loss 1.147152, 0.67 steps/sec, 2.66 examples/sec\n",
      "INFO:tensorflow:step 6, accuracy 1.0000, loss 1.076191, 0.67 steps/sec, 2.68 examples/sec\n",
      "INFO:tensorflow:step 7, accuracy 1.0000, loss 0.948043, 0.69 steps/sec, 2.76 examples/sec\n",
      "INFO:tensorflow:step 8, accuracy 1.0000, loss 0.882032, 0.69 steps/sec, 2.74 examples/sec\n",
      "INFO:tensorflow:step 9, accuracy 1.0000, loss 0.672314, 0.69 steps/sec, 2.75 examples/sec\n",
      "INFO:tensorflow:step 10, accuracy 1.0000, loss 0.462365, 0.69 steps/sec, 2.75 examples/sec\n",
      "INFO:tensorflow:step 11, accuracy 1.0000, loss 0.335625, 0.69 steps/sec, 2.74 examples/sec\n",
      "INFO:tensorflow:step 12, accuracy 1.0000, loss 0.255088, 0.67 steps/sec, 2.69 examples/sec\n",
      "INFO:tensorflow:step 13, accuracy 1.0000, loss 0.179865, 0.67 steps/sec, 2.68 examples/sec\n",
      "INFO:tensorflow:step 14, accuracy 1.0000, loss 0.139138, 0.68 steps/sec, 2.72 examples/sec\n",
      "INFO:tensorflow:step 15, accuracy 1.0000, loss 0.125254, 0.66 steps/sec, 2.63 examples/sec\n",
      "INFO:tensorflow:step 16, accuracy 1.0000, loss 0.106912, 0.68 steps/sec, 2.70 examples/sec\n",
      "INFO:tensorflow:step 17, accuracy 1.0000, loss 0.091865, 0.68 steps/sec, 2.70 examples/sec\n",
      "INFO:tensorflow:step 18, accuracy 1.0000, loss 0.089542, 0.69 steps/sec, 2.78 examples/sec\n",
      "INFO:tensorflow:step 19, accuracy 1.0000, loss 0.081672, 0.69 steps/sec, 2.75 examples/sec\n",
      "INFO:tensorflow:step 20, accuracy 1.0000, loss 0.083212, 0.67 steps/sec, 2.69 examples/sec\n"
     ]
    }
   ],
   "source": [
    "model.fit(X, y, total_steps=20)"
   ]
  },
  {
   "cell_type": "code",
   "execution_count": 5,
   "id": "3f09f4f5",
   "metadata": {},
   "outputs": [
    {
     "name": "stdout",
     "output_type": "stream",
     "text": [
      "INFO:tensorflow:Saving checkpoint for 20 into .teacher/model.ckpt\n"
     ]
    }
   ],
   "source": [
    "model.save()"
   ]
  },
  {
   "cell_type": "markdown",
   "id": "584cf796",
   "metadata": {},
   "source": [
    "# Student训练"
   ]
  },
  {
   "cell_type": "code",
   "execution_count": 6,
   "id": "velvet-symbol",
   "metadata": {},
   "outputs": [
    {
     "name": "stdout",
     "output_type": "stream",
     "text": [
      "uf.TinyBERTBinaryClassifier(\n",
      "    config_file=\"../../ref/bert_config.json\",\n",
      "    vocab_file=\"../../ref/vocab.txt\",\n",
      "    max_seq_length=128,\n",
      "    label_size=2,\n",
      "    init_checkpoint=\".teacher\",\n",
      "    output_dir=None,\n",
      "    gpu_ids=None,\n",
      "    drop_pooler=False,\n",
      "    hidden_size=384,\n",
      "    num_hidden_layers=4,\n",
      "    do_lower_case=True,\n",
      "    truncate_method=\"LIFO\",\n",
      ")\n"
     ]
    }
   ],
   "source": [
    "model = uf.TinyBERTBinaryClassifier(\"../../ref/bert_config.json\", \"../../ref/vocab.txt\", init_checkpoint=\".teacher\", label_size=2)    # 配置文件依然使用teacher模型的\n",
    "print(model)"
   ]
  },
  {
   "cell_type": "markdown",
   "id": "vanilla-fault",
   "metadata": {},
   "source": [
    "# 训练"
   ]
  },
  {
   "cell_type": "code",
   "execution_count": 7,
   "id": "excellent-religion",
   "metadata": {},
   "outputs": [
    {
     "name": "stderr",
     "output_type": "stream",
     "text": [
      "c:\\Users\\Luv_d\\AppData\\Local\\Programs\\Python\\Python39\\lib\\site-packages\\uf-2.5.0-py3.9.egg\\uf\\apps\\tinybert\\tinybert.py:109: UserWarning: `tf.layers.dense` is deprecated and will be removed in a future version. Please use `tf.keras.layers.Dense` instead.\n",
      "  linear_trans = tf.layers.dense(\n",
      "c:\\Users\\Luv_d\\AppData\\Local\\Programs\\Python\\Python39\\lib\\site-packages\\uf-2.5.0-py3.9.egg\\uf\\apps\\tinybert\\tinybert.py:166: UserWarning: `tf.layers.dense` is deprecated and will be removed in a future version. Please use `tf.keras.layers.Dense` instead.\n",
      "  tf.layers.dense(\n"
     ]
    },
    {
     "name": "stdout",
     "output_type": "stream",
     "text": [
      "INFO:tensorflow:Build graph with 153,377,672 parameters (among which 17,036,162 are trainable)\n",
      "INFO:tensorflow:Running local_init_op\n",
      "INFO:tensorflow:Done running local_init_op\n",
      "INFO:tensorflow:84 local variables failed to match up with the checkpoint file. Check more details through `.uninited_vars`.\n",
      "INFO:tensorflow:Restoring parameters from .teacher\\model.ckpt-20\n",
      "INFO:tensorflow:Running training on 4 samples (step 0 -> 20)\n",
      "INFO:tensorflow:step 1, distill loss 17.203226, 0.39 steps/sec, 1.58 examples/sec\n",
      "INFO:tensorflow:step 2, distill loss 17.122286, 1.78 steps/sec, 7.13 examples/sec\n",
      "INFO:tensorflow:step 3, distill loss 16.612999, 1.76 steps/sec, 7.06 examples/sec\n",
      "INFO:tensorflow:step 4, distill loss 15.817774, 1.76 steps/sec, 7.05 examples/sec\n",
      "INFO:tensorflow:step 5, distill loss 15.234875, 1.76 steps/sec, 7.03 examples/sec\n",
      "INFO:tensorflow:step 6, distill loss 14.119984, 1.73 steps/sec, 6.90 examples/sec\n",
      "INFO:tensorflow:step 7, distill loss 12.732452, 1.79 steps/sec, 7.15 examples/sec\n",
      "INFO:tensorflow:step 8, distill loss 10.915284, 1.76 steps/sec, 7.03 examples/sec\n",
      "INFO:tensorflow:step 9, distill loss 8.062096, 1.77 steps/sec, 7.08 examples/sec\n",
      "INFO:tensorflow:step 10, distill loss 5.957228, 1.78 steps/sec, 7.12 examples/sec\n",
      "INFO:tensorflow:step 11, distill loss 4.457079, 1.68 steps/sec, 6.72 examples/sec\n",
      "INFO:tensorflow:step 12, distill loss 3.673986, 1.75 steps/sec, 6.98 examples/sec\n",
      "INFO:tensorflow:step 13, distill loss 3.309597, 1.76 steps/sec, 7.05 examples/sec\n",
      "INFO:tensorflow:step 14, distill loss 2.955235, 1.74 steps/sec, 6.95 examples/sec\n",
      "INFO:tensorflow:step 15, distill loss 2.813805, 1.78 steps/sec, 7.11 examples/sec\n",
      "INFO:tensorflow:step 16, distill loss 2.593606, 1.74 steps/sec, 6.96 examples/sec\n",
      "INFO:tensorflow:step 17, distill loss 2.551406, 1.79 steps/sec, 7.14 examples/sec\n",
      "INFO:tensorflow:step 18, distill loss 2.398712, 1.80 steps/sec, 7.21 examples/sec\n",
      "INFO:tensorflow:step 19, distill loss 2.302480, 1.72 steps/sec, 6.89 examples/sec\n",
      "INFO:tensorflow:step 20, distill loss 2.279667, 1.75 steps/sec, 7.00 examples/sec\n"
     ]
    }
   ],
   "source": [
    "model.fit(X, total_steps=20, learning_rate=5e-4)        # student模型较小，可以适当提高学习率"
   ]
  },
  {
   "cell_type": "markdown",
   "id": "fallen-hundred",
   "metadata": {},
   "source": [
    "# 推理"
   ]
  },
  {
   "cell_type": "code",
   "execution_count": 8,
   "id": "opposite-pantyhose",
   "metadata": {},
   "outputs": [
    {
     "name": "stdout",
     "output_type": "stream",
     "text": [
      "INFO:tensorflow:Running inference on 4 samples\n",
      "INFO:tensorflow:process 100.0%, 11.07 examples/sec\n"
     ]
    },
    {
     "data": {
      "text/plain": [
       "{'preds': [[0], [1], [], [0, 1]],\n",
       " 'probs': array([[0.9675612 , 0.03117663],\n",
       "        [0.03007359, 0.9663589 ],\n",
       "        [0.02312491, 0.04604853],\n",
       "        [0.9655946 , 0.968994  ]], dtype=float32)}"
      ]
     },
     "execution_count": 8,
     "metadata": {},
     "output_type": "execute_result"
    }
   ],
   "source": [
    "model.predict(X)"
   ]
  },
  {
   "cell_type": "markdown",
   "id": "fundamental-poverty",
   "metadata": {},
   "source": [
    "# 评分"
   ]
  },
  {
   "cell_type": "code",
   "execution_count": 9,
   "id": "accessory-lesbian",
   "metadata": {},
   "outputs": [
    {
     "name": "stdout",
     "output_type": "stream",
     "text": [
      "INFO:tensorflow:Running scoring on 4 samples\n",
      "INFO:tensorflow:process 100.0%, 20.80 examples/sec\n"
     ]
    },
    {
     "data": {
      "text/plain": [
       "{'accuracy': 1.0, 'loss': 0.066612914}"
      ]
     },
     "execution_count": 9,
     "metadata": {},
     "output_type": "execute_result"
    }
   ],
   "source": [
    "model.score(X, y)    # 这里teacher模型是随机初始化的，因此student模型的推理结果也是随机的"
   ]
  },
  {
   "cell_type": "markdown",
   "id": "radical-namibia",
   "metadata": {},
   "source": [
    "# 导出为BERT\n",
    "从计算图中剔除teacher模型，仅保留student模型，减小体量，而后可使用 `BERTBinaryClassifier` 从该地址读取模型。"
   ]
  },
  {
   "cell_type": "code",
   "execution_count": 10,
   "id": "powered-western",
   "metadata": {},
   "outputs": [
    {
     "name": "stdout",
     "output_type": "stream",
     "text": [
      "INFO:tensorflow:Saving checkpoint into .student/bert_model.ckpt\n"
     ]
    }
   ],
   "source": [
    "model.to_bert(\".student\")"
   ]
  }
 ],
 "metadata": {
  "kernelspec": {
   "display_name": "Python 3.9.13 64-bit",
   "language": "python",
   "name": "python3"
  },
  "language_info": {
   "codemirror_mode": {
    "name": "ipython",
    "version": 3
   },
   "file_extension": ".py",
   "mimetype": "text/x-python",
   "name": "python",
   "nbconvert_exporter": "python",
   "pygments_lexer": "ipython3",
   "version": "3.9.13"
  },
  "vscode": {
   "interpreter": {
    "hash": "265fd6f62f200408acbbeae0248f34bed9f93569a643842b7a25d2cd76cae5e5"
   }
  }
 },
 "nbformat": 4,
 "nbformat_minor": 5
}
