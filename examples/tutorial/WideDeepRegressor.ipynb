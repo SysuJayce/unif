{
 "cells": [
  {
   "cell_type": "markdown",
   "id": "recent-scene",
   "metadata": {},
   "source": [
    "# WideDeepRegressor\n",
    "\n",
    "可用的中文预训练参数：[`bert-base`](https://storage.googleapis.com/bert_models/2018_11_03/chinese_L-12_H-768_A-12.zip),[`roberta-wwm-ext-base`](https://drive.google.com/uc?export=download&id=1jMAKIJmPn7kADgD3yQZhpsqM-IRM1qZt),[`roberta-wwm-ext-large`](https://drive.google.com/uc?export=download&id=1dtad0FFzG11CBsawu8hvwwzU2R0FDI94),[`macbert-base`](https://drive.google.com/uc?export=download&id=1aV69OhYzIwj_hn-kO1RiBa-m8QAusQ5b),[`macbert-large`](https://drive.google.com/uc?export=download&id=1lWYxnk1EqTA2Q20_IShxBrCPc5VSDCkT)"
   ]
  },
  {
   "cell_type": "code",
   "execution_count": 1,
   "id": "international-highlight",
   "metadata": {},
   "outputs": [
    {
     "name": "stdout",
     "output_type": "stream",
     "text": [
      "v2.5.17\n"
     ]
    }
   ],
   "source": [
    "import uf\n",
    "\n",
    "print(uf.__version__)"
   ]
  },
  {
   "cell_type": "code",
   "execution_count": 2,
   "id": "behavioral-commander",
   "metadata": {},
   "outputs": [
    {
     "name": "stdout",
     "output_type": "stream",
     "text": [
      "uf.WideDeepRegressor(\n",
      "    config_file=\"../../ref/bert_config.json\",\n",
      "    vocab_file=\"../../ref/vocab.txt\",\n",
      "    max_seq_length=128,\n",
      "    label_size=None,\n",
      "    init_checkpoint=None,\n",
      "    output_dir=None,\n",
      "    gpu_ids=None,\n",
      "    wide_features=None,\n",
      "    do_lower_case=True,\n",
      "    truncate_method=\"LIFO\",\n",
      ")\n"
     ]
    }
   ],
   "source": [
    "model = uf.WideDeepRegressor(\"../../ref/bert_config.json\", \"../../ref/vocab.txt\")\n",
    "print(model)"
   ]
  },
  {
   "cell_type": "code",
   "execution_count": 3,
   "id": "affiliated-medication",
   "metadata": {},
   "outputs": [],
   "source": [
    "X = [{\"w\": {\"首句\": 1}, \"d\": \"天亮以前说再见\"}, {\"w\": {}, \"d\": \"笑着泪流满面\"}]\n",
    "y = [-0.2, 0.3]"
   ]
  },
  {
   "cell_type": "markdown",
   "id": "interracial-charleston",
   "metadata": {},
   "source": [
    "# 训练"
   ]
  },
  {
   "cell_type": "code",
   "execution_count": 4,
   "id": "stainless-bouquet",
   "metadata": {},
   "outputs": [
    {
     "name": "stderr",
     "output_type": "stream",
     "text": [
      "/Users/geyingli/Library/Python/3.8/lib/python/site-packages/uf-2.5.17-py3.8.egg/uf/apps/bert/bert.py:235: UserWarning: `tf.layers.dense` is deprecated and will be removed in a future version. Please use `tf.keras.layers.Dense` instead.\n",
      "  query_layer = tf.layers.dense(\n",
      "/Users/geyingli/Library/Python/3.8/lib/python/site-packages/uf-2.5.17-py3.8.egg/uf/apps/bert/bert.py:245: UserWarning: `tf.layers.dense` is deprecated and will be removed in a future version. Please use `tf.keras.layers.Dense` instead.\n",
      "  key_layer = tf.layers.dense(\n",
      "/Users/geyingli/Library/Python/3.8/lib/python/site-packages/uf-2.5.17-py3.8.egg/uf/apps/bert/bert.py:255: UserWarning: `tf.layers.dense` is deprecated and will be removed in a future version. Please use `tf.keras.layers.Dense` instead.\n",
      "  value_layer = tf.layers.dense(\n",
      "/Users/geyingli/Library/Python/3.8/lib/python/site-packages/uf-2.5.17-py3.8.egg/uf/apps/bert/bert.py:379: UserWarning: `tf.layers.dense` is deprecated and will be removed in a future version. Please use `tf.keras.layers.Dense` instead.\n",
      "  attention_output = tf.layers.dense(\n",
      "/Users/geyingli/Library/Python/3.8/lib/python/site-packages/uf-2.5.17-py3.8.egg/uf/apps/bert/bert.py:391: UserWarning: `tf.layers.dense` is deprecated and will be removed in a future version. Please use `tf.keras.layers.Dense` instead.\n",
      "  intermediate_output = tf.layers.dense(\n",
      "/Users/geyingli/Library/Python/3.8/lib/python/site-packages/uf-2.5.17-py3.8.egg/uf/apps/bert/bert.py:401: UserWarning: `tf.layers.dense` is deprecated and will be removed in a future version. Please use `tf.keras.layers.Dense` instead.\n",
      "  layer_output = tf.layers.dense(\n",
      "/Users/geyingli/Library/Python/3.8/lib/python/site-packages/uf-2.5.17-py3.8.egg/uf/apps/bert/bert.py:102: UserWarning: `tf.layers.dense` is deprecated and will be removed in a future version. Please use `tf.keras.layers.Dense` instead.\n",
      "  self.pooled_output = tf.layers.dense(\n",
      "/Users/geyingli/Library/Python/3.8/lib/python/site-packages/uf-2.5.17-py3.8.egg/uf/apps/widedeep/widedeep.py:129: UserWarning: `tf.layers.dense` is deprecated and will be removed in a future version. Please use `tf.keras.layers.Dense` instead.\n",
      "  intermediate_output = tf.layers.dense(\n",
      "/Users/geyingli/Library/Python/3.8/lib/python/site-packages/uf-2.5.17-py3.8.egg/uf/apps/widedeep/widedeep.py:136: UserWarning: `tf.layers.dense` is deprecated and will be removed in a future version. Please use `tf.keras.layers.Dense` instead.\n",
      "  probs = tf.layers.dense(\n"
     ]
    },
    {
     "name": "stdout",
     "output_type": "stream",
     "text": [
      "INFO:tensorflow:Build graph with 306,821,388 parameters (among which 102,273,796 are trainable)\n",
      "INFO:tensorflow:Running local_init_op\n",
      "INFO:tensorflow:Done running local_init_op\n",
      "INFO:tensorflow:Running training on 2 samples (step 0 -> 20)\n",
      "INFO:tensorflow:step 1, mse 0.061983, 0.12 steps/sec, 0.24 examples/sec\n",
      "INFO:tensorflow:step 2, mse 0.062305, 0.46 steps/sec, 0.92 examples/sec\n",
      "INFO:tensorflow:step 3, mse 0.054989, 0.49 steps/sec, 0.99 examples/sec\n",
      "INFO:tensorflow:step 4, mse 0.053945, 0.51 steps/sec, 1.02 examples/sec\n",
      "INFO:tensorflow:step 5, mse 0.044685, 0.58 steps/sec, 1.15 examples/sec\n",
      "INFO:tensorflow:step 6, mse 0.035087, 0.58 steps/sec, 1.17 examples/sec\n",
      "INFO:tensorflow:step 7, mse 0.025247, 0.59 steps/sec, 1.19 examples/sec\n",
      "INFO:tensorflow:step 8, mse 0.012572, 0.59 steps/sec, 1.18 examples/sec\n",
      "INFO:tensorflow:step 9, mse 0.003796, 0.52 steps/sec, 1.05 examples/sec\n",
      "INFO:tensorflow:step 10, mse 0.000072, 0.57 steps/sec, 1.14 examples/sec\n",
      "INFO:tensorflow:step 11, mse 0.001009, 0.59 steps/sec, 1.18 examples/sec\n",
      "INFO:tensorflow:step 12, mse 0.001622, 0.59 steps/sec, 1.18 examples/sec\n",
      "INFO:tensorflow:step 13, mse 0.001653, 0.59 steps/sec, 1.17 examples/sec\n",
      "INFO:tensorflow:step 14, mse 0.001965, 0.56 steps/sec, 1.13 examples/sec\n",
      "INFO:tensorflow:step 15, mse 0.001560, 0.53 steps/sec, 1.06 examples/sec\n",
      "INFO:tensorflow:step 16, mse 0.001716, 0.53 steps/sec, 1.05 examples/sec\n",
      "INFO:tensorflow:step 17, mse 0.001156, 0.58 steps/sec, 1.16 examples/sec\n",
      "INFO:tensorflow:step 18, mse 0.001028, 0.59 steps/sec, 1.17 examples/sec\n",
      "INFO:tensorflow:step 19, mse 0.001104, 0.55 steps/sec, 1.10 examples/sec\n",
      "INFO:tensorflow:step 20, mse 0.000794, 0.58 steps/sec, 1.15 examples/sec\n"
     ]
    }
   ],
   "source": [
    "model.fit(X, y, total_steps=20)"
   ]
  },
  {
   "cell_type": "markdown",
   "id": "primary-enlargement",
   "metadata": {},
   "source": [
    "# 推理"
   ]
  },
  {
   "cell_type": "code",
   "execution_count": 5,
   "id": "joined-virgin",
   "metadata": {},
   "outputs": [
    {
     "name": "stdout",
     "output_type": "stream",
     "text": [
      "INFO:tensorflow:Running inference on 2 samples\n",
      "INFO:tensorflow:process 100.0%, 1.55 examples/sec\n"
     ]
    },
    {
     "data": {
      "text/plain": [
       "{'probs': array([[-0.23659807],\n",
       "        [ 0.32072714]], dtype=float32)}"
      ]
     },
     "execution_count": 5,
     "metadata": {},
     "output_type": "execute_result"
    }
   ],
   "source": [
    "model.predict(X)"
   ]
  }
 ],
 "metadata": {
  "kernelspec": {
   "display_name": "Python 3.8.2 64-bit",
   "language": "python",
   "name": "python3"
  },
  "language_info": {
   "codemirror_mode": {
    "name": "ipython",
    "version": 3
   },
   "file_extension": ".py",
   "mimetype": "text/x-python",
   "name": "python",
   "nbconvert_exporter": "python",
   "pygments_lexer": "ipython3",
   "version": "3.8.2"
  },
  "vscode": {
   "interpreter": {
    "hash": "31f2aee4e71d21fbe5cf8b01ff0e069b9275f58929596ceb00d14d90e3e16cd6"
   }
  }
 },
 "nbformat": 4,
 "nbformat_minor": 5
}
