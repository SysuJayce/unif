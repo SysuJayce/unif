{
 "cells": [
  {
   "cell_type": "markdown",
   "id": "recent-scene",
   "metadata": {},
   "source": [
    "# WideDeepRegressor\n",
    "\n",
    "可用的中文预训练参数：[`bert-base`](https://storage.googleapis.com/bert_models/2018_11_03/chinese_L-12_H-768_A-12.zip),[`roberta-wwm-ext-base`](https://drive.google.com/uc?export=download&id=1jMAKIJmPn7kADgD3yQZhpsqM-IRM1qZt),[`roberta-wwm-ext-large`](https://drive.google.com/uc?export=download&id=1dtad0FFzG11CBsawu8hvwwzU2R0FDI94),[`macbert-base`](https://drive.google.com/uc?export=download&id=1aV69OhYzIwj_hn-kO1RiBa-m8QAusQ5b),[`macbert-large`](https://drive.google.com/uc?export=download&id=1lWYxnk1EqTA2Q20_IShxBrCPc5VSDCkT)"
   ]
  },
  {
   "cell_type": "code",
   "execution_count": 1,
   "id": "international-highlight",
   "metadata": {},
   "outputs": [
    {
     "name": "stdout",
     "output_type": "stream",
     "text": [
      "v2.5.18\n"
     ]
    }
   ],
   "source": [
    "import uf\n",
    "\n",
    "print(uf.__version__)"
   ]
  },
  {
   "cell_type": "code",
   "execution_count": 2,
   "id": "behavioral-commander",
   "metadata": {},
   "outputs": [
    {
     "name": "stdout",
     "output_type": "stream",
     "text": [
      "uf.WideDeepRegressor(\n",
      "    config_file=\"../../ref/bert_config.json\",\n",
      "    vocab_file=\"../../ref/vocab.txt\",\n",
      "    max_seq_length=128,\n",
      "    label_size=None,\n",
      "    init_checkpoint=None,\n",
      "    output_dir=None,\n",
      "    gpu_ids=None,\n",
      "    wide_features=None,\n",
      "    do_lower_case=True,\n",
      "    truncate_method=\"LIFO\",\n",
      ")\n"
     ]
    }
   ],
   "source": [
    "model = uf.WideDeepRegressor(\"../../ref/bert_config.json\", \"../../ref/vocab.txt\")\n",
    "print(model)"
   ]
  },
  {
   "cell_type": "code",
   "execution_count": 3,
   "id": "affiliated-medication",
   "metadata": {},
   "outputs": [],
   "source": [
    "X = [{\"w\": {\"首句\": 1}, \"d\": \"天亮以前说再见\"}, {\"w\": {}, \"d\": \"笑着泪流满面\"}]\n",
    "y = [-0.2, 0.3]"
   ]
  },
  {
   "cell_type": "markdown",
   "id": "interracial-charleston",
   "metadata": {},
   "source": [
    "# 训练"
   ]
  },
  {
   "cell_type": "code",
   "execution_count": 4,
   "id": "stainless-bouquet",
   "metadata": {},
   "outputs": [
    {
     "name": "stderr",
     "output_type": "stream",
     "text": [
      "c:\\Users\\Luv_d\\AppData\\Local\\Programs\\Python\\Python39\\lib\\site-packages\\uf-2.5.18-py3.9.egg\\uf\\apps\\bert\\bert.py:235: UserWarning: `tf.layers.dense` is deprecated and will be removed in a future version. Please use `tf.keras.layers.Dense` instead.\n",
      "  query_layer = tf.layers.dense(\n",
      "c:\\Users\\Luv_d\\AppData\\Local\\Programs\\Python\\Python39\\lib\\site-packages\\uf-2.5.18-py3.9.egg\\uf\\apps\\bert\\bert.py:245: UserWarning: `tf.layers.dense` is deprecated and will be removed in a future version. Please use `tf.keras.layers.Dense` instead.\n",
      "  key_layer = tf.layers.dense(\n",
      "c:\\Users\\Luv_d\\AppData\\Local\\Programs\\Python\\Python39\\lib\\site-packages\\uf-2.5.18-py3.9.egg\\uf\\apps\\bert\\bert.py:255: UserWarning: `tf.layers.dense` is deprecated and will be removed in a future version. Please use `tf.keras.layers.Dense` instead.\n",
      "  value_layer = tf.layers.dense(\n",
      "c:\\Users\\Luv_d\\AppData\\Local\\Programs\\Python\\Python39\\lib\\site-packages\\uf-2.5.18-py3.9.egg\\uf\\apps\\bert\\bert.py:379: UserWarning: `tf.layers.dense` is deprecated and will be removed in a future version. Please use `tf.keras.layers.Dense` instead.\n",
      "  attention_output = tf.layers.dense(\n",
      "c:\\Users\\Luv_d\\AppData\\Local\\Programs\\Python\\Python39\\lib\\site-packages\\uf-2.5.18-py3.9.egg\\uf\\apps\\bert\\bert.py:391: UserWarning: `tf.layers.dense` is deprecated and will be removed in a future version. Please use `tf.keras.layers.Dense` instead.\n",
      "  intermediate_output = tf.layers.dense(\n",
      "c:\\Users\\Luv_d\\AppData\\Local\\Programs\\Python\\Python39\\lib\\site-packages\\uf-2.5.18-py3.9.egg\\uf\\apps\\bert\\bert.py:401: UserWarning: `tf.layers.dense` is deprecated and will be removed in a future version. Please use `tf.keras.layers.Dense` instead.\n",
      "  layer_output = tf.layers.dense(\n",
      "c:\\Users\\Luv_d\\AppData\\Local\\Programs\\Python\\Python39\\lib\\site-packages\\uf-2.5.18-py3.9.egg\\uf\\apps\\bert\\bert.py:102: UserWarning: `tf.layers.dense` is deprecated and will be removed in a future version. Please use `tf.keras.layers.Dense` instead.\n",
      "  self.pooled_output = tf.layers.dense(\n",
      "c:\\Users\\Luv_d\\AppData\\Local\\Programs\\Python\\Python39\\lib\\site-packages\\uf-2.5.18-py3.9.egg\\uf\\apps\\widedeep\\widedeep.py:132: UserWarning: `tf.layers.dense` is deprecated and will be removed in a future version. Please use `tf.keras.layers.Dense` instead.\n",
      "  intermediate_output = tf.layers.dense(\n",
      "c:\\Users\\Luv_d\\AppData\\Local\\Programs\\Python\\Python39\\lib\\site-packages\\uf-2.5.18-py3.9.egg\\uf\\apps\\widedeep\\widedeep.py:139: UserWarning: `tf.layers.dense` is deprecated and will be removed in a future version. Please use `tf.keras.layers.Dense` instead.\n",
      "  probs = tf.layers.dense(\n"
     ]
    },
    {
     "name": "stdout",
     "output_type": "stream",
     "text": [
      "INFO:tensorflow:Build graph with 306,812,184 parameters (among which 102,270,728 are trainable)\n",
      "INFO:tensorflow:Running local_init_op\n",
      "INFO:tensorflow:Done running local_init_op\n",
      "INFO:tensorflow:Running training on 2 samples (step 0 -> 20)\n",
      "INFO:tensorflow:step 1, mse 0.064762, 0.15 steps/sec, 0.30 examples/sec\n",
      "INFO:tensorflow:step 2, mse 0.063934, 0.57 steps/sec, 1.13 examples/sec\n",
      "INFO:tensorflow:step 3, mse 0.060747, 0.60 steps/sec, 1.19 examples/sec\n",
      "INFO:tensorflow:step 4, mse 0.059832, 0.58 steps/sec, 1.17 examples/sec\n",
      "INFO:tensorflow:step 5, mse 0.050916, 0.58 steps/sec, 1.16 examples/sec\n",
      "INFO:tensorflow:step 6, mse 0.050684, 0.60 steps/sec, 1.20 examples/sec\n",
      "INFO:tensorflow:step 7, mse 0.044069, 0.62 steps/sec, 1.23 examples/sec\n",
      "INFO:tensorflow:step 8, mse 0.039341, 0.63 steps/sec, 1.25 examples/sec\n",
      "INFO:tensorflow:step 9, mse 0.027892, 0.59 steps/sec, 1.19 examples/sec\n",
      "INFO:tensorflow:step 10, mse 0.019537, 0.62 steps/sec, 1.23 examples/sec\n",
      "INFO:tensorflow:step 11, mse 0.015594, 0.60 steps/sec, 1.20 examples/sec\n",
      "INFO:tensorflow:step 12, mse 0.010530, 0.59 steps/sec, 1.19 examples/sec\n",
      "INFO:tensorflow:step 13, mse 0.008377, 0.63 steps/sec, 1.25 examples/sec\n",
      "INFO:tensorflow:step 14, mse 0.006988, 0.62 steps/sec, 1.24 examples/sec\n",
      "INFO:tensorflow:step 15, mse 0.006153, 0.61 steps/sec, 1.22 examples/sec\n",
      "INFO:tensorflow:step 16, mse 0.005347, 0.63 steps/sec, 1.25 examples/sec\n",
      "INFO:tensorflow:step 17, mse 0.004821, 0.63 steps/sec, 1.26 examples/sec\n",
      "INFO:tensorflow:step 18, mse 0.004429, 0.61 steps/sec, 1.23 examples/sec\n",
      "INFO:tensorflow:step 19, mse 0.004235, 0.60 steps/sec, 1.20 examples/sec\n",
      "INFO:tensorflow:step 20, mse 0.003993, 0.64 steps/sec, 1.29 examples/sec\n"
     ]
    }
   ],
   "source": [
    "model.fit(X, y, total_steps=20)"
   ]
  },
  {
   "cell_type": "markdown",
   "id": "primary-enlargement",
   "metadata": {},
   "source": [
    "# 推理"
   ]
  },
  {
   "cell_type": "code",
   "execution_count": 5,
   "id": "joined-virgin",
   "metadata": {},
   "outputs": [
    {
     "name": "stdout",
     "output_type": "stream",
     "text": [
      "INFO:tensorflow:Running inference on 2 samples\n",
      "INFO:tensorflow:process 100.0%, 1.24 examples/sec\n"
     ]
    },
    {
     "data": {
      "text/plain": [
       "{'probs': array([[-0.20056652],\n",
       "        [ 0.21680611]], dtype=float32)}"
      ]
     },
     "execution_count": 5,
     "metadata": {},
     "output_type": "execute_result"
    }
   ],
   "source": [
    "model.predict(X)"
   ]
  }
 ],
 "metadata": {
  "kernelspec": {
   "display_name": "Python 3.9.13 64-bit",
   "language": "python",
   "name": "python3"
  },
  "language_info": {
   "codemirror_mode": {
    "name": "ipython",
    "version": 3
   },
   "file_extension": ".py",
   "mimetype": "text/x-python",
   "name": "python",
   "nbconvert_exporter": "python",
   "pygments_lexer": "ipython3",
   "version": "3.9.13"
  },
  "vscode": {
   "interpreter": {
    "hash": "265fd6f62f200408acbbeae0248f34bed9f93569a643842b7a25d2cd76cae5e5"
   }
  }
 },
 "nbformat": 4,
 "nbformat_minor": 5
}
