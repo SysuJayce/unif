{
 "cells": [
  {
   "cell_type": "markdown",
   "id": "valuable-intake",
   "metadata": {},
   "source": [
    "# ELECTRABinaryClassifier\n",
    "\n",
    "可用的中文预训练参数：[`electra-small`](https://drive.google.com/file/d/1uab-9T1kR9HgD2NB0Kz1JB_TdSKgJIds/view?usp=drive_open),[`electra-small-ex`](https://drive.google.com/file/d/1LluPORc7xtFmCTFR4IF17q77ip82i7__/view),[`electra-base`](https://drive.google.com/file/d/1FMwrs2weFST-iAuZH3umMa6YZVeIP8wD/view),[`electra-large`](https://drive.google.com/file/d/1ny0NMLkEWG6rseDLiF_NujdHxDcIN51m/view)"
   ]
  },
  {
   "cell_type": "code",
   "execution_count": 1,
   "id": "rotary-academy",
   "metadata": {},
   "outputs": [
    {
     "name": "stdout",
     "output_type": "stream",
     "text": [
      "v2.4.5\n"
     ]
    }
   ],
   "source": [
    "import uf\n",
    "\n",
    "print(uf.__version__)"
   ]
  },
  {
   "cell_type": "code",
   "execution_count": 2,
   "id": "velvet-symbol",
   "metadata": {},
   "outputs": [
    {
     "name": "stdout",
     "output_type": "stream",
     "text": [
      "uf.ELECTRABinaryClassifier(\n",
      "    config_file=\"../../demo/bert_config.json\",\n",
      "    vocab_file=\"../../demo/vocab.txt\",\n",
      "    max_seq_length=128,\n",
      "    label_size=None,\n",
      "    label_weight=None,\n",
      "    init_checkpoint=None,\n",
      "    output_dir=None,\n",
      "    gpu_ids=None,\n",
      "    do_lower_case=True,\n",
      "    truncate_method=\"LIFO\",\n",
      ")\n"
     ]
    }
   ],
   "source": [
    "model = uf.ELECTRABinaryClassifier('../../demo/bert_config.json', '../../demo/vocab.txt')\n",
    "print(model)"
   ]
  },
  {
   "cell_type": "code",
   "execution_count": 3,
   "id": "drawn-breathing",
   "metadata": {},
   "outputs": [],
   "source": [
    "X = ['天亮以前说再见', '笑着泪流满面', '去迎接应该你的', '更好的明天']\n",
    "y = [[0, 2], [1], [1], []]"
   ]
  },
  {
   "cell_type": "markdown",
   "id": "vanilla-fault",
   "metadata": {},
   "source": [
    "# 训练"
   ]
  },
  {
   "cell_type": "code",
   "execution_count": 4,
   "id": "excellent-religion",
   "metadata": {},
   "outputs": [
    {
     "name": "stdout",
     "output_type": "stream",
     "text": [
      "WARNING:tensorflow:From /Users/geyingli/Library/Python/3.8/lib/python/site-packages/tensorflow/python/util/dispatch.py:1096: calling dropout (from tensorflow.python.ops.nn_ops) with keep_prob is deprecated and will be removed in a future version.\n",
      "Instructions for updating:\n",
      "Please use `rate` instead of `keep_prob`. Rate should be set to `rate = 1 - keep_prob`.\n"
     ]
    },
    {
     "name": "stderr",
     "output_type": "stream",
     "text": [
      "/Users/geyingli/Library/Python/3.8/lib/python/site-packages/uf-2.4.5-py3.8.egg/uf/model/bert.py:272: UserWarning: `tf.layers.dense` is deprecated and will be removed in a future version. Please use `tf.keras.layers.Dense` instead.\n",
      "  query_layer = tf.layers.dense(\n",
      "/Users/geyingli/Library/Python/3.8/lib/python/site-packages/keras/legacy_tf_layers/core.py:255: UserWarning: `layer.apply` is deprecated and will be removed in a future version. Please use `layer.__call__` method instead.\n",
      "  return layer.apply(inputs)\n",
      "/Users/geyingli/Library/Python/3.8/lib/python/site-packages/uf-2.4.5-py3.8.egg/uf/model/bert.py:282: UserWarning: `tf.layers.dense` is deprecated and will be removed in a future version. Please use `tf.keras.layers.Dense` instead.\n",
      "  key_layer = tf.layers.dense(\n",
      "/Users/geyingli/Library/Python/3.8/lib/python/site-packages/uf-2.4.5-py3.8.egg/uf/model/bert.py:292: UserWarning: `tf.layers.dense` is deprecated and will be removed in a future version. Please use `tf.keras.layers.Dense` instead.\n",
      "  value_layer = tf.layers.dense(\n",
      "/Users/geyingli/Library/Python/3.8/lib/python/site-packages/uf-2.4.5-py3.8.egg/uf/model/bert.py:416: UserWarning: `tf.layers.dense` is deprecated and will be removed in a future version. Please use `tf.keras.layers.Dense` instead.\n",
      "  attention_output = tf.layers.dense(\n",
      "/Users/geyingli/Library/Python/3.8/lib/python/site-packages/uf-2.4.5-py3.8.egg/uf/model/bert.py:428: UserWarning: `tf.layers.dense` is deprecated and will be removed in a future version. Please use `tf.keras.layers.Dense` instead.\n",
      "  intermediate_output = tf.layers.dense(\n",
      "/Users/geyingli/Library/Python/3.8/lib/python/site-packages/uf-2.4.5-py3.8.egg/uf/model/bert.py:438: UserWarning: `tf.layers.dense` is deprecated and will be removed in a future version. Please use `tf.keras.layers.Dense` instead.\n",
      "  layer_output = tf.layers.dense(\n"
     ]
    },
    {
     "name": "stdout",
     "output_type": "stream",
     "text": [
      "INFO:tensorflow:Build graph with 305,038,089 parameters (among which 101,679,363 are trainable)\n",
      "INFO:tensorflow:Running local_init_op\n",
      "INFO:tensorflow:Done running local_init_op\n",
      "INFO:tensorflow:Running training on 4 samples (step 0 -> 20)\n",
      "INFO:tensorflow:step 1, accuracy 0.5000, loss 2.314433, 0.02 steps/sec, 0.08 examples/sec\n",
      "INFO:tensorflow:step 2, accuracy 0.5000, loss 2.317987, 0.05 steps/sec, 0.22 examples/sec\n",
      "INFO:tensorflow:step 3, accuracy 0.6667, loss 1.777650, 0.05 steps/sec, 0.19 examples/sec\n",
      "INFO:tensorflow:step 4, accuracy 0.8333, loss 1.965391, 0.06 steps/sec, 0.22 examples/sec\n",
      "INFO:tensorflow:step 5, accuracy 0.7500, loss 1.831640, 0.08 steps/sec, 0.33 examples/sec\n",
      "INFO:tensorflow:step 6, accuracy 0.8333, loss 1.503840, 0.10 steps/sec, 0.39 examples/sec\n",
      "INFO:tensorflow:step 7, accuracy 0.9167, loss 1.462178, 0.17 steps/sec, 0.67 examples/sec\n",
      "INFO:tensorflow:step 8, accuracy 0.7500, loss 1.395841, 0.25 steps/sec, 0.99 examples/sec\n",
      "INFO:tensorflow:step 9, accuracy 0.8333, loss 1.226071, 0.41 steps/sec, 1.62 examples/sec\n",
      "INFO:tensorflow:step 10, accuracy 0.7500, loss 0.899733, 0.40 steps/sec, 1.62 examples/sec\n",
      "INFO:tensorflow:step 11, accuracy 0.8333, loss 0.732236, 0.40 steps/sec, 1.61 examples/sec\n",
      "INFO:tensorflow:step 12, accuracy 1.0000, loss 0.546949, 0.40 steps/sec, 1.61 examples/sec\n",
      "INFO:tensorflow:step 13, accuracy 1.0000, loss 0.413725, 0.32 steps/sec, 1.30 examples/sec\n",
      "INFO:tensorflow:step 14, accuracy 1.0000, loss 0.219439, 0.35 steps/sec, 1.39 examples/sec\n",
      "INFO:tensorflow:step 15, accuracy 1.0000, loss 0.182703, 0.44 steps/sec, 1.78 examples/sec\n",
      "INFO:tensorflow:step 16, accuracy 1.0000, loss 0.115703, 0.44 steps/sec, 1.76 examples/sec\n",
      "INFO:tensorflow:step 17, accuracy 1.0000, loss 0.086092, 0.43 steps/sec, 1.72 examples/sec\n",
      "INFO:tensorflow:step 18, accuracy 1.0000, loss 0.083449, 0.44 steps/sec, 1.76 examples/sec\n",
      "INFO:tensorflow:step 19, accuracy 1.0000, loss 0.060424, 0.44 steps/sec, 1.76 examples/sec\n",
      "INFO:tensorflow:step 20, accuracy 1.0000, loss 0.062625, 0.42 steps/sec, 1.69 examples/sec\n"
     ]
    }
   ],
   "source": [
    "model.fit(X, y, total_steps=20)"
   ]
  },
  {
   "cell_type": "markdown",
   "id": "fallen-hundred",
   "metadata": {},
   "source": [
    "# 推理"
   ]
  },
  {
   "cell_type": "code",
   "execution_count": 5,
   "id": "opposite-pantyhose",
   "metadata": {},
   "outputs": [
    {
     "name": "stdout",
     "output_type": "stream",
     "text": [
      "INFO:tensorflow:Time usage 0m-1.42s, 0.71 steps/sec, 2.82 examples/sec\n"
     ]
    },
    {
     "data": {
      "text/plain": [
       "{'preds': [[0, 2], [1], [1], []],\n",
       " 'probs': array([[9.7914362e-01, 9.5775723e-04, 9.8361909e-01],\n",
       "        [3.3229887e-03, 9.9743384e-01, 5.0560534e-03],\n",
       "        [3.2743216e-03, 9.9673796e-01, 5.1032901e-03],\n",
       "        [9.2337728e-03, 2.7426451e-02, 5.3841144e-02]], dtype=float32)}"
      ]
     },
     "execution_count": 5,
     "metadata": {},
     "output_type": "execute_result"
    }
   ],
   "source": [
    "model.predict(X)"
   ]
  },
  {
   "cell_type": "markdown",
   "id": "fundamental-poverty",
   "metadata": {},
   "source": [
    "# 评分"
   ]
  },
  {
   "cell_type": "code",
   "execution_count": 6,
   "id": "accessory-lesbian",
   "metadata": {},
   "outputs": [
    {
     "name": "stdout",
     "output_type": "stream",
     "text": [
      "INFO:tensorflow:Time usage 0m-0.90s, 1.11 steps/sec, 4.42 examples/sec\n"
     ]
    },
    {
     "data": {
      "text/plain": [
       "{'accuracy': 1.0, 'loss': 0.038403295}"
      ]
     },
     "execution_count": 6,
     "metadata": {},
     "output_type": "execute_result"
    }
   ],
   "source": [
    "model.score(X, y)"
   ]
  }
 ],
 "metadata": {
  "kernelspec": {
   "display_name": "Python 3",
   "language": "python",
   "name": "python3"
  },
  "language_info": {
   "codemirror_mode": {
    "name": "ipython",
    "version": 3
   },
   "file_extension": ".py",
   "mimetype": "text/x-python",
   "name": "python",
   "nbconvert_exporter": "python",
   "pygments_lexer": "ipython3",
   "version": "3.8.2"
  }
 },
 "nbformat": 4,
 "nbformat_minor": 5
}
