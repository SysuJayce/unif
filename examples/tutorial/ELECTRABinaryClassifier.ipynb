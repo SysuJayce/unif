{
 "cells": [
  {
   "cell_type": "code",
   "execution_count": 1,
   "id": "rotary-academy",
   "metadata": {},
   "outputs": [
    {
     "name": "stdout",
     "output_type": "stream",
     "text": [
      "beta v2.8.0\n"
     ]
    }
   ],
   "source": [
    "import uf\n",
    "\n",
    "print(uf.__version__)"
   ]
  },
  {
   "cell_type": "code",
   "execution_count": 2,
   "id": "velvet-symbol",
   "metadata": {},
   "outputs": [
    {
     "name": "stdout",
     "output_type": "stream",
     "text": [
      "uf.ELECTRABinaryClassifier(config_file='../demo/bert_config.json', vocab_file='../demo/vocab.txt', max_seq_length=128, label_size=None, label_weight=None, init_checkpoint=None, output_dir=None, gpu_ids=None, do_lower_case=True, truncate_method='LIFO')\n"
     ]
    }
   ],
   "source": [
    "model = uf.ELECTRABinaryClassifier('../demo/bert_config.json', '../demo/vocab.txt')\n",
    "print(model)"
   ]
  },
  {
   "cell_type": "code",
   "execution_count": 3,
   "id": "drawn-breathing",
   "metadata": {},
   "outputs": [],
   "source": [
    "X = ['天亮以前说再见', '笑着泪流满面', '去迎接应该你的', '更好的明天']\n",
    "y = [[0, 2], [1], [1], []]"
   ]
  },
  {
   "cell_type": "markdown",
   "id": "vanilla-fault",
   "metadata": {},
   "source": [
    "# 训练"
   ]
  },
  {
   "cell_type": "code",
   "execution_count": 4,
   "id": "excellent-religion",
   "metadata": {},
   "outputs": [
    {
     "name": "stdout",
     "output_type": "stream",
     "text": [
      "WARNING:tensorflow:From /Users/geyingli/Library/Python/3.8/lib/python/site-packages/tensorflow/python/util/dispatch.py:201: calling dropout (from tensorflow.python.ops.nn_ops) with keep_prob is deprecated and will be removed in a future version.\n",
      "Instructions for updating:\n",
      "Please use `rate` instead of `keep_prob`. Rate should be set to `rate = 1 - keep_prob`.\n"
     ]
    },
    {
     "name": "stderr",
     "output_type": "stream",
     "text": [
      "/Users/geyingli/Library/Python/3.8/lib/python/site-packages/tensorflow/python/keras/legacy_tf_layers/core.py:171: UserWarning: `tf.layers.dense` is deprecated and will be removed in a future version. Please use `tf.keras.layers.Dense` instead.\n",
      "  warnings.warn('`tf.layers.dense` is deprecated and '\n",
      "/Users/geyingli/Library/Python/3.8/lib/python/site-packages/tensorflow/python/keras/engine/base_layer_v1.py:1719: UserWarning: `layer.apply` is deprecated and will be removed in a future version. Please use `layer.__call__` method instead.\n",
      "  warnings.warn('`layer.apply` is deprecated and '\n"
     ]
    },
    {
     "name": "stdout",
     "output_type": "stream",
     "text": [
      "INFO:tensorflow:Build graph with 305,038,089 parameters (among which 101,679,363 are trainable)\n",
      "INFO:tensorflow:Running local_init_op\n",
      "INFO:tensorflow:Done running local_init_op\n",
      "INFO:tensorflow:Running training on 4 samples (step 0 -> 20)\n",
      "INFO:tensorflow:step 1, accuracy 0.3333, loss 2.139750, 0.06 steps/sec, 0.25 examples/sec\n",
      "INFO:tensorflow:step 2, accuracy 0.2500, loss 2.378136, 0.23 steps/sec, 0.91 examples/sec\n",
      "INFO:tensorflow:step 3, accuracy 0.6667, loss 1.815512, 0.28 steps/sec, 1.12 examples/sec\n",
      "INFO:tensorflow:step 4, accuracy 0.7500, loss 2.330612, 0.31 steps/sec, 1.23 examples/sec\n",
      "INFO:tensorflow:step 5, accuracy 0.7500, loss 1.829608, 0.29 steps/sec, 1.15 examples/sec\n",
      "INFO:tensorflow:step 6, accuracy 0.8333, loss 1.267880, 0.31 steps/sec, 1.25 examples/sec\n",
      "INFO:tensorflow:step 7, accuracy 1.0000, loss 1.459371, 0.45 steps/sec, 1.82 examples/sec\n",
      "INFO:tensorflow:step 8, accuracy 0.9167, loss 1.350398, 0.45 steps/sec, 1.82 examples/sec\n",
      "INFO:tensorflow:step 9, accuracy 1.0000, loss 1.089465, 0.47 steps/sec, 1.87 examples/sec\n",
      "INFO:tensorflow:step 10, accuracy 0.8333, loss 0.868924, 0.40 steps/sec, 1.58 examples/sec\n",
      "INFO:tensorflow:step 11, accuracy 0.8333, loss 0.689692, 0.38 steps/sec, 1.53 examples/sec\n",
      "INFO:tensorflow:step 12, accuracy 0.9167, loss 0.489090, 0.46 steps/sec, 1.83 examples/sec\n",
      "INFO:tensorflow:step 13, accuracy 1.0000, loss 0.254631, 0.46 steps/sec, 1.85 examples/sec\n",
      "INFO:tensorflow:step 14, accuracy 1.0000, loss 0.207073, 0.45 steps/sec, 1.82 examples/sec\n",
      "INFO:tensorflow:step 15, accuracy 1.0000, loss 0.130553, 0.46 steps/sec, 1.85 examples/sec\n",
      "INFO:tensorflow:step 16, accuracy 1.0000, loss 0.071826, 0.45 steps/sec, 1.82 examples/sec\n",
      "INFO:tensorflow:step 17, accuracy 1.0000, loss 0.149492, 0.46 steps/sec, 1.86 examples/sec\n",
      "INFO:tensorflow:step 18, accuracy 1.0000, loss 0.055797, 0.46 steps/sec, 1.83 examples/sec\n",
      "INFO:tensorflow:step 19, accuracy 1.0000, loss 0.040520, 0.47 steps/sec, 1.86 examples/sec\n",
      "INFO:tensorflow:step 20, accuracy 1.0000, loss 0.037516, 0.46 steps/sec, 1.84 examples/sec\n"
     ]
    }
   ],
   "source": [
    "model.fit(X, y, total_steps=20)"
   ]
  },
  {
   "cell_type": "markdown",
   "id": "fallen-hundred",
   "metadata": {},
   "source": [
    "# 推理"
   ]
  },
  {
   "cell_type": "code",
   "execution_count": 5,
   "id": "opposite-pantyhose",
   "metadata": {},
   "outputs": [
    {
     "name": "stdout",
     "output_type": "stream",
     "text": [
      "INFO:tensorflow:Time usage 0m-1.15s, 0.87 steps/sec, 3.47 examples/sec\n"
     ]
    },
    {
     "data": {
      "text/plain": [
       "{'preds': [[0, 2], [1], [1], []],\n",
       " 'probs': array([[9.8309207e-01, 9.4440579e-04, 9.8775905e-01],\n",
       "        [3.3081472e-03, 9.9662709e-01, 4.3155253e-03],\n",
       "        [3.4812391e-03, 9.9642420e-01, 5.2690506e-03],\n",
       "        [9.0838075e-03, 1.0873735e-02, 4.0372401e-02]], dtype=float32)}"
      ]
     },
     "execution_count": 5,
     "metadata": {},
     "output_type": "execute_result"
    }
   ],
   "source": [
    "model.predict(X)"
   ]
  },
  {
   "cell_type": "markdown",
   "id": "fundamental-poverty",
   "metadata": {},
   "source": [
    "# 评分"
   ]
  },
  {
   "cell_type": "code",
   "execution_count": 6,
   "id": "accessory-lesbian",
   "metadata": {},
   "outputs": [
    {
     "name": "stdout",
     "output_type": "stream",
     "text": [
      "INFO:tensorflow:Time usage 0m-0.81s, 1.23 steps/sec, 4.93 examples/sec\n"
     ]
    },
    {
     "data": {
      "text/plain": [
       "{'accuracy': 1.0, 'loss': 0.02873798}"
      ]
     },
     "execution_count": 6,
     "metadata": {},
     "output_type": "execute_result"
    }
   ],
   "source": [
    "model.score(X, y)"
   ]
  }
 ],
 "metadata": {
  "kernelspec": {
   "display_name": "Python 3",
   "language": "python",
   "name": "python3"
  },
  "language_info": {
   "codemirror_mode": {
    "name": "ipython",
    "version": 3
   },
   "file_extension": ".py",
   "mimetype": "text/x-python",
   "name": "python",
   "nbconvert_exporter": "python",
   "pygments_lexer": "ipython3",
   "version": "3.8.2"
  }
 },
 "nbformat": 4,
 "nbformat_minor": 5
}
