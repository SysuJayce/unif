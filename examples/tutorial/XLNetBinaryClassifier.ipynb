{
 "cells": [
  {
   "cell_type": "markdown",
   "id": "approximate-insight",
   "metadata": {},
   "source": [
    "# XLNetBinaryClassifier\n",
    "\n",
    "可用的中文预训练参数：[`xlnet-base`](https://drive.google.com/uc?export=download&id=1m9t-a4gKimbkP5rqGXXsEAEPhJSZ8tvx),[`xlnet-mid`](https://drive.google.com/uc?export=download&id=1342uBc7ZmQwV6Hm6eUIN_OnBSz1LcvfA)"
   ]
  },
  {
   "cell_type": "code",
   "execution_count": 1,
   "id": "rotary-academy",
   "metadata": {},
   "outputs": [
    {
     "name": "stdout",
     "output_type": "stream",
     "text": [
      "v2.4.5\n"
     ]
    }
   ],
   "source": [
    "import uf\n",
    "\n",
    "print(uf.__version__)"
   ]
  },
  {
   "cell_type": "code",
   "execution_count": 2,
   "id": "velvet-symbol",
   "metadata": {},
   "outputs": [
    {
     "name": "stdout",
     "output_type": "stream",
     "text": [
      "uf.XLNetBinaryClassifier(\n",
      "    config_file=\"../../demo/xlnet_config.json\",\n",
      "    spm_file=\"../../demo/spiece.model\",\n",
      "    max_seq_length=128,\n",
      "    label_size=None,\n",
      "    label_weight=None,\n",
      "    init_checkpoint=None,\n",
      "    output_dir=None,\n",
      "    gpu_ids=None,\n",
      "    do_lower_case=True,\n",
      "    truncate_method=\"LIFO\",\n",
      ")\n"
     ]
    }
   ],
   "source": [
    "model = uf.XLNetBinaryClassifier('../../demo/xlnet_config.json', '../../demo/spiece.model')\n",
    "print(model)"
   ]
  },
  {
   "cell_type": "code",
   "execution_count": 3,
   "id": "drawn-breathing",
   "metadata": {},
   "outputs": [],
   "source": [
    "X = ['天亮以前说再见', '笑着泪流满面', '去迎接应该你的', '更好的明天']\n",
    "y = [[0, 2], [1], [1], []]"
   ]
  },
  {
   "cell_type": "markdown",
   "id": "vanilla-fault",
   "metadata": {},
   "source": [
    "# 训练"
   ]
  },
  {
   "cell_type": "code",
   "execution_count": 4,
   "id": "excellent-religion",
   "metadata": {},
   "outputs": [
    {
     "name": "stderr",
     "output_type": "stream",
     "text": [
      "/Users/geyingli/Library/Python/3.8/lib/python/site-packages/uf-2.3.2-py3.8.egg/uf/modeling/xlnet.py:833: UserWarning: `tf.layers.dropout` is deprecated and will be removed in a future version. Please use `tf.keras.layers.Dropout` instead.\n",
      "  output_h = tf.layers.dropout(\n",
      "/Users/geyingli/Library/Python/3.8/lib/python/site-packages/keras/legacy_tf_layers/core.py:401: UserWarning: `layer.apply` is deprecated and will be removed in a future version. Please use `layer.__call__` method instead.\n",
      "  return layer.apply(inputs, training=training)\n",
      "/Users/geyingli/Library/Python/3.8/lib/python/site-packages/uf-2.3.2-py3.8.egg/uf/modeling/xlnet.py:871: UserWarning: `tf.layers.dropout` is deprecated and will be removed in a future version. Please use `tf.keras.layers.Dropout` instead.\n",
      "  pos_emb = tf.layers.dropout(pos_emb, dropout, training=is_training)\n",
      "/Users/geyingli/Library/Python/3.8/lib/python/site-packages/uf-2.3.2-py3.8.egg/uf/modeling/xlnet.py:439: UserWarning: `tf.layers.dropout` is deprecated and will be removed in a future version. Please use `tf.keras.layers.Dropout` instead.\n",
      "  attn_prob = tf.layers.dropout(attn_prob, dropatt, training=is_training)\n",
      "/Users/geyingli/Library/Python/3.8/lib/python/site-packages/uf-2.3.2-py3.8.egg/uf/modeling/xlnet.py:384: UserWarning: `tf.layers.dropout` is deprecated and will be removed in a future version. Please use `tf.keras.layers.Dropout` instead.\n",
      "  attn_out = tf.layers.dropout(attn_out, dropout, training=is_training)\n",
      "/Users/geyingli/Library/Python/3.8/lib/python/site-packages/uf-2.3.2-py3.8.egg/uf/modeling/xlnet.py:344: UserWarning: `tf.layers.dense` is deprecated and will be removed in a future version. Please use `tf.keras.layers.Dense` instead.\n",
      "  output = tf.layers.dense(\n",
      "/Users/geyingli/Library/Python/3.8/lib/python/site-packages/keras/legacy_tf_layers/core.py:255: UserWarning: `layer.apply` is deprecated and will be removed in a future version. Please use `layer.__call__` method instead.\n",
      "  return layer.apply(inputs)\n",
      "/Users/geyingli/Library/Python/3.8/lib/python/site-packages/uf-2.3.2-py3.8.egg/uf/modeling/xlnet.py:348: UserWarning: `tf.layers.dropout` is deprecated and will be removed in a future version. Please use `tf.keras.layers.Dropout` instead.\n",
      "  output = tf.layers.dropout(\n",
      "/Users/geyingli/Library/Python/3.8/lib/python/site-packages/uf-2.3.2-py3.8.egg/uf/modeling/xlnet.py:351: UserWarning: `tf.layers.dense` is deprecated and will be removed in a future version. Please use `tf.keras.layers.Dense` instead.\n",
      "  output = tf.layers.dense(\n",
      "/Users/geyingli/Library/Python/3.8/lib/python/site-packages/uf-2.3.2-py3.8.egg/uf/modeling/xlnet.py:355: UserWarning: `tf.layers.dropout` is deprecated and will be removed in a future version. Please use `tf.keras.layers.Dropout` instead.\n",
      "  output = tf.layers.dropout(\n"
     ]
    },
    {
     "name": "stdout",
     "output_type": "stream",
     "text": [
      "WARNING:tensorflow:From /Users/geyingli/Library/Python/3.8/lib/python/site-packages/tensorflow/python/util/dispatch.py:1096: calling dropout (from tensorflow.python.ops.nn_ops) with keep_prob is deprecated and will be removed in a future version.\n",
      "Instructions for updating:\n",
      "Please use `rate` instead of `keep_prob`. Rate should be set to `rate = 1 - keep_prob`.\n"
     ]
    },
    {
     "name": "stderr",
     "output_type": "stream",
     "text": [
      "/Users/geyingli/Library/Python/3.8/lib/python/site-packages/uf-2.3.2-py3.8.egg/uf/modeling/xlnet.py:957: UserWarning: `tf.layers.dropout` is deprecated and will be removed in a future version. Please use `tf.keras.layers.Dropout` instead.\n",
      "  output = tf.layers.dropout(output_h, dropout, training=is_training)\n"
     ]
    },
    {
     "name": "stdout",
     "output_type": "stream",
     "text": [
      "INFO:tensorflow:Build graph with 350,159,625 parameters (among which 116,719,875 are trainable)\n",
      "INFO:tensorflow:Running local_init_op\n",
      "INFO:tensorflow:Done running local_init_op\n",
      "INFO:tensorflow:Running training on 4 samples (step 0 -> 20)\n",
      "INFO:tensorflow:step 1, accuracy 0.4167, loss 2.404679, 0.05 steps/sec, 0.18 examples/sec\n",
      "INFO:tensorflow:step 2, accuracy 0.5833, loss 1.945373, 0.19 steps/sec, 0.76 examples/sec\n",
      "INFO:tensorflow:step 3, accuracy 0.7500, loss 1.521665, 0.17 steps/sec, 0.66 examples/sec\n",
      "INFO:tensorflow:step 4, accuracy 0.7500, loss 1.660161, 0.18 steps/sec, 0.73 examples/sec\n",
      "INFO:tensorflow:step 5, accuracy 0.7500, loss 1.331326, 0.14 steps/sec, 0.57 examples/sec\n",
      "INFO:tensorflow:step 6, accuracy 0.9167, loss 1.022086, 0.19 steps/sec, 0.75 examples/sec\n",
      "INFO:tensorflow:step 7, accuracy 1.0000, loss 0.883047, 0.17 steps/sec, 0.68 examples/sec\n",
      "INFO:tensorflow:step 8, accuracy 1.0000, loss 0.657271, 0.16 steps/sec, 0.64 examples/sec\n",
      "INFO:tensorflow:step 9, accuracy 0.9167, loss 0.522817, 0.18 steps/sec, 0.72 examples/sec\n",
      "INFO:tensorflow:step 10, accuracy 1.0000, loss 0.223231, 0.19 steps/sec, 0.78 examples/sec\n",
      "INFO:tensorflow:step 11, accuracy 1.0000, loss 0.184179, 0.21 steps/sec, 0.84 examples/sec\n",
      "INFO:tensorflow:step 12, accuracy 1.0000, loss 0.107291, 0.21 steps/sec, 0.85 examples/sec\n",
      "INFO:tensorflow:step 13, accuracy 1.0000, loss 0.079989, 0.20 steps/sec, 0.81 examples/sec\n",
      "INFO:tensorflow:step 14, accuracy 1.0000, loss 0.053738, 0.21 steps/sec, 0.85 examples/sec\n",
      "INFO:tensorflow:step 15, accuracy 1.0000, loss 0.040849, 0.18 steps/sec, 0.72 examples/sec\n",
      "INFO:tensorflow:step 16, accuracy 1.0000, loss 0.028488, 0.20 steps/sec, 0.78 examples/sec\n",
      "INFO:tensorflow:step 17, accuracy 1.0000, loss 0.028142, 0.22 steps/sec, 0.89 examples/sec\n",
      "INFO:tensorflow:step 18, accuracy 1.0000, loss 0.025201, 0.34 steps/sec, 1.37 examples/sec\n",
      "INFO:tensorflow:step 19, accuracy 1.0000, loss 0.026190, 0.34 steps/sec, 1.36 examples/sec\n",
      "INFO:tensorflow:step 20, accuracy 1.0000, loss 0.021171, 0.34 steps/sec, 1.37 examples/sec\n"
     ]
    }
   ],
   "source": [
    "model.fit(X, y, total_steps=20)"
   ]
  },
  {
   "cell_type": "markdown",
   "id": "fallen-hundred",
   "metadata": {},
   "source": [
    "# 推理"
   ]
  },
  {
   "cell_type": "code",
   "execution_count": 5,
   "id": "opposite-pantyhose",
   "metadata": {},
   "outputs": [
    {
     "name": "stdout",
     "output_type": "stream",
     "text": [
      "INFO:tensorflow:Time usage 0m-2.32s, 0.43 steps/sec, 1.72 examples/sec\n"
     ]
    },
    {
     "data": {
      "text/plain": [
       "{'preds': [[0, 2], [1], [1], []],\n",
       " 'probs': array([[0.99570024, 0.00197238, 0.99473464],\n",
       "        [0.00199905, 0.99740976, 0.0020974 ],\n",
       "        [0.00197172, 0.9975479 , 0.00211799],\n",
       "        [0.01578277, 0.0015468 , 0.00724813]], dtype=float32)}"
      ]
     },
     "execution_count": 5,
     "metadata": {},
     "output_type": "execute_result"
    }
   ],
   "source": [
    "model.predict(X)"
   ]
  },
  {
   "cell_type": "markdown",
   "id": "fundamental-poverty",
   "metadata": {},
   "source": [
    "# 评分"
   ]
  },
  {
   "cell_type": "code",
   "execution_count": 6,
   "id": "accessory-lesbian",
   "metadata": {},
   "outputs": [
    {
     "name": "stdout",
     "output_type": "stream",
     "text": [
      "INFO:tensorflow:Time usage 0m-1.61s, 0.62 steps/sec, 2.48 examples/sec\n"
     ]
    },
    {
     "data": {
      "text/plain": [
       "{'accuracy': 1.0, 'loss': 0.012384247}"
      ]
     },
     "execution_count": 6,
     "metadata": {},
     "output_type": "execute_result"
    }
   ],
   "source": [
    "model.score(X, y)"
   ]
  }
 ],
 "metadata": {
  "kernelspec": {
   "display_name": "Python 3",
   "language": "python",
   "name": "python3"
  },
  "language_info": {
   "codemirror_mode": {
    "name": "ipython",
    "version": 3
   },
   "file_extension": ".py",
   "mimetype": "text/x-python",
   "name": "python",
   "nbconvert_exporter": "python",
   "pygments_lexer": "ipython3",
   "version": "3.8.2"
  }
 },
 "nbformat": 4,
 "nbformat_minor": 5
}
