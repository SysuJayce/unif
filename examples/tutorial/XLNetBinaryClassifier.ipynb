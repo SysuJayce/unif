{
 "cells": [
  {
   "cell_type": "code",
   "execution_count": 1,
   "id": "rotary-academy",
   "metadata": {},
   "outputs": [
    {
     "name": "stdout",
     "output_type": "stream",
     "text": [
      "beta v2.8.0\n"
     ]
    }
   ],
   "source": [
    "import uf\n",
    "\n",
    "print(uf.__version__)"
   ]
  },
  {
   "cell_type": "code",
   "execution_count": 2,
   "id": "velvet-symbol",
   "metadata": {},
   "outputs": [
    {
     "name": "stdout",
     "output_type": "stream",
     "text": [
      "uf.XLNetBinaryClassifier(config_file='../demo/xlnet_config.json', spm_file='../demo/spiece.model', max_seq_length=128, label_size=None, label_weight=None, init_checkpoint=None, output_dir=None, gpu_ids=None, do_lower_case=True, truncate_method='LIFO')\n"
     ]
    }
   ],
   "source": [
    "model = uf.XLNetBinaryClassifier('../../demo/xlnet_config.json', '../../demo/spiece.model')\n",
    "print(model)"
   ]
  },
  {
   "cell_type": "code",
   "execution_count": 3,
   "id": "drawn-breathing",
   "metadata": {},
   "outputs": [],
   "source": [
    "X = ['天亮以前说再见', '笑着泪流满面', '去迎接应该你的', '更好的明天']\n",
    "y = [[0, 2], [1], [1], []]"
   ]
  },
  {
   "cell_type": "markdown",
   "id": "vanilla-fault",
   "metadata": {},
   "source": [
    "# 训练"
   ]
  },
  {
   "cell_type": "code",
   "execution_count": 4,
   "id": "excellent-religion",
   "metadata": {},
   "outputs": [
    {
     "name": "stderr",
     "output_type": "stream",
     "text": [
      "/Users/geyingli/Library/Python/3.8/lib/python/site-packages/tensorflow/python/keras/legacy_tf_layers/core.py:268: UserWarning: `tf.layers.dropout` is deprecated and will be removed in a future version. Please use `tf.keras.layers.Dropout` instead.\n",
      "  warnings.warn('`tf.layers.dropout` is deprecated and '\n",
      "/Users/geyingli/Library/Python/3.8/lib/python/site-packages/tensorflow/python/keras/engine/base_layer_v1.py:1719: UserWarning: `layer.apply` is deprecated and will be removed in a future version. Please use `layer.__call__` method instead.\n",
      "  warnings.warn('`layer.apply` is deprecated and '\n",
      "/Users/geyingli/Library/Python/3.8/lib/python/site-packages/tensorflow/python/keras/legacy_tf_layers/core.py:171: UserWarning: `tf.layers.dense` is deprecated and will be removed in a future version. Please use `tf.keras.layers.Dense` instead.\n",
      "  warnings.warn('`tf.layers.dense` is deprecated and '\n"
     ]
    },
    {
     "name": "stdout",
     "output_type": "stream",
     "text": [
      "WARNING:tensorflow:From /Users/geyingli/Library/Python/3.8/lib/python/site-packages/tensorflow/python/util/dispatch.py:201: calling dropout (from tensorflow.python.ops.nn_ops) with keep_prob is deprecated and will be removed in a future version.\n",
      "Instructions for updating:\n",
      "Please use `rate` instead of `keep_prob`. Rate should be set to `rate = 1 - keep_prob`.\n",
      "INFO:tensorflow:Build graph with 350,159,625 parameters (among which 116,719,875 are trainable)\n",
      "INFO:tensorflow:Running local_init_op\n",
      "INFO:tensorflow:Done running local_init_op\n",
      "INFO:tensorflow:Running training on 4 samples (step 0 -> 20)\n",
      "INFO:tensorflow:step 1, accuracy 0.5000, loss 2.083643, 0.11 steps/sec, 0.46 examples/sec\n",
      "INFO:tensorflow:step 2, accuracy 0.5000, loss 2.011464, 0.32 steps/sec, 1.30 examples/sec\n",
      "INFO:tensorflow:step 3, accuracy 0.5833, loss 1.982776, 0.31 steps/sec, 1.25 examples/sec\n",
      "INFO:tensorflow:step 4, accuracy 0.8333, loss 1.959447, 0.21 steps/sec, 0.83 examples/sec\n",
      "INFO:tensorflow:step 5, accuracy 0.7500, loss 1.781419, 0.28 steps/sec, 1.11 examples/sec\n",
      "INFO:tensorflow:step 6, accuracy 0.6667, loss 1.682737, 0.23 steps/sec, 0.91 examples/sec\n",
      "INFO:tensorflow:step 7, accuracy 0.8333, loss 1.693149, 0.27 steps/sec, 1.07 examples/sec\n",
      "INFO:tensorflow:step 8, accuracy 0.6667, loss 1.528172, 0.31 steps/sec, 1.26 examples/sec\n",
      "INFO:tensorflow:step 9, accuracy 0.7500, loss 1.350500, 0.35 steps/sec, 1.41 examples/sec\n",
      "INFO:tensorflow:step 10, accuracy 0.8333, loss 1.478067, 0.35 steps/sec, 1.40 examples/sec\n",
      "INFO:tensorflow:step 11, accuracy 0.7500, loss 1.365465, 0.35 steps/sec, 1.41 examples/sec\n",
      "INFO:tensorflow:step 12, accuracy 0.8333, loss 1.323360, 0.32 steps/sec, 1.26 examples/sec\n",
      "INFO:tensorflow:step 13, accuracy 0.9167, loss 1.032205, 0.36 steps/sec, 1.46 examples/sec\n",
      "INFO:tensorflow:step 14, accuracy 0.9167, loss 0.961515, 0.37 steps/sec, 1.46 examples/sec\n",
      "INFO:tensorflow:step 15, accuracy 1.0000, loss 0.795303, 0.37 steps/sec, 1.47 examples/sec\n",
      "INFO:tensorflow:step 16, accuracy 1.0000, loss 0.713918, 0.29 steps/sec, 1.14 examples/sec\n",
      "INFO:tensorflow:step 17, accuracy 1.0000, loss 0.686620, 0.16 steps/sec, 0.65 examples/sec\n",
      "INFO:tensorflow:step 18, accuracy 1.0000, loss 0.596747, 0.22 steps/sec, 0.86 examples/sec\n",
      "INFO:tensorflow:step 19, accuracy 1.0000, loss 0.528842, 0.24 steps/sec, 0.95 examples/sec\n",
      "INFO:tensorflow:step 20, accuracy 1.0000, loss 0.473663, 0.24 steps/sec, 0.94 examples/sec\n"
     ]
    }
   ],
   "source": [
    "model.fit(X, y, total_steps=20)"
   ]
  },
  {
   "cell_type": "markdown",
   "id": "fallen-hundred",
   "metadata": {},
   "source": [
    "# 推理"
   ]
  },
  {
   "cell_type": "code",
   "execution_count": 5,
   "id": "opposite-pantyhose",
   "metadata": {},
   "outputs": [
    {
     "name": "stdout",
     "output_type": "stream",
     "text": [
      "INFO:tensorflow:Time usage 0m-3.85s, 0.26 steps/sec, 1.04 examples/sec\n"
     ]
    },
    {
     "data": {
      "text/plain": [
       "{'preds': [[0, 2], [1], [1], []],\n",
       " 'probs': array([[0.77736247, 0.07203311, 0.8546475 ],\n",
       "        [0.07633486, 0.92021364, 0.02644816],\n",
       "        [0.07537714, 0.90944946, 0.02570537],\n",
       "        [0.09615609, 0.15098435, 0.03274882]], dtype=float32)}"
      ]
     },
     "execution_count": 5,
     "metadata": {},
     "output_type": "execute_result"
    }
   ],
   "source": [
    "model.predict(X)"
   ]
  },
  {
   "cell_type": "markdown",
   "id": "fundamental-poverty",
   "metadata": {},
   "source": [
    "# 评分"
   ]
  },
  {
   "cell_type": "code",
   "execution_count": 6,
   "id": "accessory-lesbian",
   "metadata": {},
   "outputs": [
    {
     "name": "stdout",
     "output_type": "stream",
     "text": [
      "INFO:tensorflow:Time usage 0m-2.78s, 0.36 steps/sec, 1.44 examples/sec\n"
     ]
    },
    {
     "data": {
      "text/plain": [
       "{'accuracy': 1.0, 'loss': 0.29260835}"
      ]
     },
     "execution_count": 6,
     "metadata": {},
     "output_type": "execute_result"
    }
   ],
   "source": [
    "model.score(X, y)"
   ]
  }
 ],
 "metadata": {
  "kernelspec": {
   "display_name": "Python 3",
   "language": "python",
   "name": "python3"
  },
  "language_info": {
   "codemirror_mode": {
    "name": "ipython",
    "version": 3
   },
   "file_extension": ".py",
   "mimetype": "text/x-python",
   "name": "python",
   "nbconvert_exporter": "python",
   "pygments_lexer": "ipython3",
   "version": "3.8.2"
  }
 },
 "nbformat": 4,
 "nbformat_minor": 5
}
