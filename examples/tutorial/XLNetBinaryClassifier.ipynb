{
 "cells": [
  {
   "cell_type": "markdown",
   "id": "approximate-insight",
   "metadata": {},
   "source": [
    "# XLNetBinaryClassifier\n",
    "\n",
    "可用的中文预训练参数：[`xlnet-base`](https://drive.google.com/uc?export=download&id=1m9t-a4gKimbkP5rqGXXsEAEPhJSZ8tvx),[`xlnet-mid`](https://drive.google.com/uc?export=download&id=1342uBc7ZmQwV6Hm6eUIN_OnBSz1LcvfA)"
   ]
  },
  {
   "cell_type": "code",
   "execution_count": 1,
   "id": "rotary-academy",
   "metadata": {},
   "outputs": [
    {
     "name": "stdout",
     "output_type": "stream",
     "text": [
      "v2.5.0\n"
     ]
    }
   ],
   "source": [
    "import uf\n",
    "\n",
    "print(uf.__version__)"
   ]
  },
  {
   "cell_type": "code",
   "execution_count": 2,
   "id": "velvet-symbol",
   "metadata": {},
   "outputs": [
    {
     "name": "stdout",
     "output_type": "stream",
     "text": [
      "uf.XLNetBinaryClassifier(\n",
      "    config_file=\"../../ref/xlnet_config.json\",\n",
      "    spm_file=\"../../ref/spiece.model\",\n",
      "    max_seq_length=128,\n",
      "    label_size=None,\n",
      "    label_weight=None,\n",
      "    init_checkpoint=None,\n",
      "    output_dir=None,\n",
      "    gpu_ids=None,\n",
      "    do_lower_case=True,\n",
      "    truncate_method=\"LIFO\",\n",
      ")\n"
     ]
    }
   ],
   "source": [
    "model = uf.XLNetBinaryClassifier(\"../../ref/xlnet_config.json\", \"../../ref/spiece.model\")\n",
    "print(model)"
   ]
  },
  {
   "cell_type": "code",
   "execution_count": 3,
   "id": "drawn-breathing",
   "metadata": {},
   "outputs": [],
   "source": [
    "X = [\"天亮以前说再见\", \"笑着泪流满面\", \"去迎接应该你的\", \"更好的明天\"]\n",
    "y = [[0, 2], [1], [1], []]"
   ]
  },
  {
   "cell_type": "markdown",
   "id": "vanilla-fault",
   "metadata": {},
   "source": [
    "# 训练"
   ]
  },
  {
   "cell_type": "code",
   "execution_count": 4,
   "id": "excellent-religion",
   "metadata": {},
   "outputs": [
    {
     "name": "stderr",
     "output_type": "stream",
     "text": [
      "c:\\Users\\Luv_d\\AppData\\Local\\Programs\\Python\\Python39\\lib\\site-packages\\uf-2.5.0-py3.9.egg\\uf\\apps\\xlnet\\xlnet.py:857: UserWarning: `tf.layers.dropout` is deprecated and will be removed in a future version. Please use `tf.keras.layers.Dropout` instead.\n",
      "  output_h = tf.layers.dropout(\n",
      "c:\\Users\\Luv_d\\AppData\\Local\\Programs\\Python\\Python39\\lib\\site-packages\\uf-2.5.0-py3.9.egg\\uf\\apps\\xlnet\\xlnet.py:895: UserWarning: `tf.layers.dropout` is deprecated and will be removed in a future version. Please use `tf.keras.layers.Dropout` instead.\n",
      "  pos_emb = tf.layers.dropout(pos_emb, dropout, training=is_training)\n",
      "c:\\Users\\Luv_d\\AppData\\Local\\Programs\\Python\\Python39\\lib\\site-packages\\uf-2.5.0-py3.9.egg\\uf\\apps\\xlnet\\xlnet.py:463: UserWarning: `tf.layers.dropout` is deprecated and will be removed in a future version. Please use `tf.keras.layers.Dropout` instead.\n",
      "  attn_prob = tf.layers.dropout(attn_prob, dropatt, training=is_training)\n",
      "c:\\Users\\Luv_d\\AppData\\Local\\Programs\\Python\\Python39\\lib\\site-packages\\uf-2.5.0-py3.9.egg\\uf\\apps\\xlnet\\xlnet.py:408: UserWarning: `tf.layers.dropout` is deprecated and will be removed in a future version. Please use `tf.keras.layers.Dropout` instead.\n",
      "  attn_out = tf.layers.dropout(attn_out, dropout, training=is_training)\n",
      "c:\\Users\\Luv_d\\AppData\\Local\\Programs\\Python\\Python39\\lib\\site-packages\\uf-2.5.0-py3.9.egg\\uf\\apps\\xlnet\\xlnet.py:368: UserWarning: `tf.layers.dense` is deprecated and will be removed in a future version. Please use `tf.keras.layers.Dense` instead.\n",
      "  output = tf.layers.dense(\n",
      "c:\\Users\\Luv_d\\AppData\\Local\\Programs\\Python\\Python39\\lib\\site-packages\\uf-2.5.0-py3.9.egg\\uf\\apps\\xlnet\\xlnet.py:372: UserWarning: `tf.layers.dropout` is deprecated and will be removed in a future version. Please use `tf.keras.layers.Dropout` instead.\n",
      "  output = tf.layers.dropout(\n",
      "c:\\Users\\Luv_d\\AppData\\Local\\Programs\\Python\\Python39\\lib\\site-packages\\uf-2.5.0-py3.9.egg\\uf\\apps\\xlnet\\xlnet.py:375: UserWarning: `tf.layers.dense` is deprecated and will be removed in a future version. Please use `tf.keras.layers.Dense` instead.\n",
      "  output = tf.layers.dense(\n",
      "c:\\Users\\Luv_d\\AppData\\Local\\Programs\\Python\\Python39\\lib\\site-packages\\uf-2.5.0-py3.9.egg\\uf\\apps\\xlnet\\xlnet.py:379: UserWarning: `tf.layers.dropout` is deprecated and will be removed in a future version. Please use `tf.keras.layers.Dropout` instead.\n",
      "  output = tf.layers.dropout(\n"
     ]
    },
    {
     "name": "stdout",
     "output_type": "stream",
     "text": [
      "WARNING:tensorflow:From c:\\Users\\Luv_d\\AppData\\Local\\Programs\\Python\\Python39\\lib\\site-packages\\tensorflow\\python\\util\\dispatch.py:1176: calling dropout (from tensorflow.python.ops.nn_ops) with keep_prob is deprecated and will be removed in a future version.\n",
      "Instructions for updating:\n",
      "Please use `rate` instead of `keep_prob`. Rate should be set to `rate = 1 - keep_prob`.\n"
     ]
    },
    {
     "name": "stderr",
     "output_type": "stream",
     "text": [
      "c:\\Users\\Luv_d\\AppData\\Local\\Programs\\Python\\Python39\\lib\\site-packages\\uf-2.5.0-py3.9.egg\\uf\\apps\\xlnet\\xlnet.py:981: UserWarning: `tf.layers.dropout` is deprecated and will be removed in a future version. Please use `tf.keras.layers.Dropout` instead.\n",
      "  output = tf.layers.dropout(output_h, dropout, training=is_training)\n"
     ]
    },
    {
     "name": "stdout",
     "output_type": "stream",
     "text": [
      "INFO:tensorflow:Build graph with 350,159,625 parameters (among which 116,719,875 are trainable)\n",
      "INFO:tensorflow:Running local_init_op\n",
      "INFO:tensorflow:Done running local_init_op\n",
      "INFO:tensorflow:Running training on 4 samples (step 0 -> 20)\n",
      "INFO:tensorflow:step 1, accuracy 0.5000, loss 1.994604, 0.19 steps/sec, 0.78 examples/sec\n",
      "INFO:tensorflow:step 2, accuracy 0.6667, loss 2.161858, 0.51 steps/sec, 2.03 examples/sec\n",
      "INFO:tensorflow:step 3, accuracy 0.7500, loss 1.552061, 0.53 steps/sec, 2.12 examples/sec\n",
      "INFO:tensorflow:step 4, accuracy 0.6667, loss 1.806450, 0.54 steps/sec, 2.18 examples/sec\n",
      "INFO:tensorflow:step 5, accuracy 0.7500, loss 1.491682, 0.53 steps/sec, 2.13 examples/sec\n",
      "INFO:tensorflow:step 6, accuracy 0.7500, loss 1.249256, 0.53 steps/sec, 2.13 examples/sec\n",
      "INFO:tensorflow:step 7, accuracy 1.0000, loss 0.994555, 0.53 steps/sec, 2.12 examples/sec\n",
      "INFO:tensorflow:step 8, accuracy 1.0000, loss 0.824159, 0.53 steps/sec, 2.12 examples/sec\n",
      "INFO:tensorflow:step 9, accuracy 1.0000, loss 0.589586, 0.52 steps/sec, 2.10 examples/sec\n",
      "INFO:tensorflow:step 10, accuracy 1.0000, loss 0.265180, 0.53 steps/sec, 2.14 examples/sec\n",
      "INFO:tensorflow:step 11, accuracy 1.0000, loss 0.191538, 0.52 steps/sec, 2.09 examples/sec\n",
      "INFO:tensorflow:step 12, accuracy 1.0000, loss 0.105274, 0.52 steps/sec, 2.09 examples/sec\n",
      "INFO:tensorflow:step 13, accuracy 1.0000, loss 0.081131, 0.52 steps/sec, 2.09 examples/sec\n",
      "INFO:tensorflow:step 14, accuracy 1.0000, loss 0.054601, 0.53 steps/sec, 2.13 examples/sec\n",
      "INFO:tensorflow:step 15, accuracy 1.0000, loss 0.047301, 0.55 steps/sec, 2.18 examples/sec\n",
      "INFO:tensorflow:step 16, accuracy 1.0000, loss 0.025774, 0.54 steps/sec, 2.17 examples/sec\n",
      "INFO:tensorflow:step 17, accuracy 1.0000, loss 0.024515, 0.54 steps/sec, 2.15 examples/sec\n",
      "INFO:tensorflow:step 18, accuracy 1.0000, loss 0.022210, 0.53 steps/sec, 2.14 examples/sec\n",
      "INFO:tensorflow:step 19, accuracy 1.0000, loss 0.019992, 0.53 steps/sec, 2.12 examples/sec\n",
      "INFO:tensorflow:step 20, accuracy 1.0000, loss 0.024251, 0.53 steps/sec, 2.13 examples/sec\n"
     ]
    }
   ],
   "source": [
    "model.fit(X, y, total_steps=20)"
   ]
  },
  {
   "cell_type": "markdown",
   "id": "fallen-hundred",
   "metadata": {},
   "source": [
    "# 推理"
   ]
  },
  {
   "cell_type": "code",
   "execution_count": 5,
   "id": "opposite-pantyhose",
   "metadata": {},
   "outputs": [
    {
     "name": "stdout",
     "output_type": "stream",
     "text": [
      "INFO:tensorflow:Running inference on 4 samples\n",
      "INFO:tensorflow:process 100.0%, 3.34 examples/sec\n"
     ]
    },
    {
     "data": {
      "text/plain": [
       "{'preds': [[0, 2], [1], [1], []],\n",
       " 'probs': array([[0.99644184, 0.00513896, 0.99649274],\n",
       "        [0.00331282, 0.9973101 , 0.00331037],\n",
       "        [0.00306109, 0.9967889 , 0.00284855],\n",
       "        [0.00762764, 0.00414982, 0.0048636 ]], dtype=float32)}"
      ]
     },
     "execution_count": 5,
     "metadata": {},
     "output_type": "execute_result"
    }
   ],
   "source": [
    "model.predict(X)"
   ]
  },
  {
   "cell_type": "markdown",
   "id": "fundamental-poverty",
   "metadata": {},
   "source": [
    "# 评分"
   ]
  },
  {
   "cell_type": "code",
   "execution_count": 6,
   "id": "accessory-lesbian",
   "metadata": {},
   "outputs": [
    {
     "name": "stdout",
     "output_type": "stream",
     "text": [
      "INFO:tensorflow:Running scoring on 4 samples\n",
      "INFO:tensorflow:process 100.0%, 4.44 examples/sec\n"
     ]
    },
    {
     "data": {
      "text/plain": [
       "{'accuracy': 1.0, 'loss': 0.011845833}"
      ]
     },
     "execution_count": 6,
     "metadata": {},
     "output_type": "execute_result"
    }
   ],
   "source": [
    "model.score(X, y)"
   ]
  }
 ],
 "metadata": {
  "kernelspec": {
   "display_name": "Python 3.9.13 64-bit",
   "language": "python",
   "name": "python3"
  },
  "language_info": {
   "codemirror_mode": {
    "name": "ipython",
    "version": 3
   },
   "file_extension": ".py",
   "mimetype": "text/x-python",
   "name": "python",
   "nbconvert_exporter": "python",
   "pygments_lexer": "ipython3",
   "version": "3.9.13"
  },
  "vscode": {
   "interpreter": {
    "hash": "265fd6f62f200408acbbeae0248f34bed9f93569a643842b7a25d2cd76cae5e5"
   }
  }
 },
 "nbformat": 4,
 "nbformat_minor": 5
}
