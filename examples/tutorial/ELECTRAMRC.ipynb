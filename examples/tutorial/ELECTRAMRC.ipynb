{
 "cells": [
  {
   "cell_type": "markdown",
   "id": "greenhouse-airplane",
   "metadata": {},
   "source": [
    "# ELECTRAMRC\n",
    "\n",
    "可用的中文预训练参数：[`electra-small`](https://drive.google.com/file/d/1uab-9T1kR9HgD2NB0Kz1JB_TdSKgJIds/view?usp=drive_open),[`electra-small-ex`](https://drive.google.com/file/d/1LluPORc7xtFmCTFR4IF17q77ip82i7__/view),[`electra-base`](https://drive.google.com/file/d/1FMwrs2weFST-iAuZH3umMa6YZVeIP8wD/view),[`electra-large`](https://drive.google.com/file/d/1ny0NMLkEWG6rseDLiF_NujdHxDcIN51m/view)"
   ]
  },
  {
   "cell_type": "code",
   "execution_count": 1,
   "id": "rotary-academy",
   "metadata": {},
   "outputs": [
    {
     "name": "stdout",
     "output_type": "stream",
     "text": [
      "v2.4.5\n"
     ]
    }
   ],
   "source": [
    "import uf\n",
    "\n",
    "print(uf.__version__)"
   ]
  },
  {
   "cell_type": "code",
   "execution_count": 2,
   "id": "velvet-symbol",
   "metadata": {},
   "outputs": [
    {
     "name": "stdout",
     "output_type": "stream",
     "text": [
      "uf.ELECTRAMRC(\n",
      "    config_file=\"../../demo/bert_config.json\",\n",
      "    vocab_file=\"../../demo/vocab.txt\",\n",
      "    max_seq_length=256,\n",
      "    init_checkpoint=None,\n",
      "    output_dir=None,\n",
      "    gpu_ids=None,\n",
      "    do_lower_case=True,\n",
      "    truncate_method=\"longer-FO\",\n",
      ")\n"
     ]
    }
   ],
   "source": [
    "model = uf.ELECTRAMRC('../../demo/bert_config.json', '../../demo/vocab.txt')\n",
    "print(model)"
   ]
  },
  {
   "cell_type": "code",
   "execution_count": 3,
   "id": "drawn-breathing",
   "metadata": {},
   "outputs": [],
   "source": [
    "X = [{'doc': '天亮以前说再见，笑着泪流满面。去迎接应该你的，更好的明天', 'ques': '何时说的再见'}, \n",
    "     {'doc': '他想知道那是谁，为何总沉默寡言。人群中也算抢眼，抢眼的孤独难免', 'ques': '抢眼的如何'}]\n",
    "y = [{'text': '天亮以前', 'answer_start': 0}, {'text': '孤独难免', 'answer_start': 27}]"
   ]
  },
  {
   "cell_type": "markdown",
   "id": "vanilla-fault",
   "metadata": {},
   "source": [
    "# 训练"
   ]
  },
  {
   "cell_type": "code",
   "execution_count": 4,
   "id": "excellent-religion",
   "metadata": {},
   "outputs": [
    {
     "name": "stdout",
     "output_type": "stream",
     "text": [
      "WARNING:tensorflow:From /Users/geyingli/Library/Python/3.8/lib/python/site-packages/tensorflow/python/util/dispatch.py:1096: calling dropout (from tensorflow.python.ops.nn_ops) with keep_prob is deprecated and will be removed in a future version.\n",
      "Instructions for updating:\n",
      "Please use `rate` instead of `keep_prob`. Rate should be set to `rate = 1 - keep_prob`.\n"
     ]
    },
    {
     "name": "stderr",
     "output_type": "stream",
     "text": [
      "/Users/geyingli/Library/Python/3.8/lib/python/site-packages/uf-2.4.5-py3.8.egg/uf/model/bert.py:272: UserWarning: `tf.layers.dense` is deprecated and will be removed in a future version. Please use `tf.keras.layers.Dense` instead.\n",
      "  query_layer = tf.layers.dense(\n",
      "/Users/geyingli/Library/Python/3.8/lib/python/site-packages/keras/legacy_tf_layers/core.py:255: UserWarning: `layer.apply` is deprecated and will be removed in a future version. Please use `layer.__call__` method instead.\n",
      "  return layer.apply(inputs)\n",
      "/Users/geyingli/Library/Python/3.8/lib/python/site-packages/uf-2.4.5-py3.8.egg/uf/model/bert.py:282: UserWarning: `tf.layers.dense` is deprecated and will be removed in a future version. Please use `tf.keras.layers.Dense` instead.\n",
      "  key_layer = tf.layers.dense(\n",
      "/Users/geyingli/Library/Python/3.8/lib/python/site-packages/uf-2.4.5-py3.8.egg/uf/model/bert.py:292: UserWarning: `tf.layers.dense` is deprecated and will be removed in a future version. Please use `tf.keras.layers.Dense` instead.\n",
      "  value_layer = tf.layers.dense(\n",
      "/Users/geyingli/Library/Python/3.8/lib/python/site-packages/uf-2.4.5-py3.8.egg/uf/model/bert.py:416: UserWarning: `tf.layers.dense` is deprecated and will be removed in a future version. Please use `tf.keras.layers.Dense` instead.\n",
      "  attention_output = tf.layers.dense(\n",
      "/Users/geyingli/Library/Python/3.8/lib/python/site-packages/uf-2.4.5-py3.8.egg/uf/model/bert.py:428: UserWarning: `tf.layers.dense` is deprecated and will be removed in a future version. Please use `tf.keras.layers.Dense` instead.\n",
      "  intermediate_output = tf.layers.dense(\n",
      "/Users/geyingli/Library/Python/3.8/lib/python/site-packages/uf-2.4.5-py3.8.egg/uf/model/bert.py:438: UserWarning: `tf.layers.dense` is deprecated and will be removed in a future version. Please use `tf.keras.layers.Dense` instead.\n",
      "  layer_output = tf.layers.dense(\n"
     ]
    },
    {
     "name": "stdout",
     "output_type": "stream",
     "text": [
      "INFO:tensorflow:Build graph with 305,035,782 parameters (among which 101,678,594 are trainable)\n",
      "INFO:tensorflow:Running local_init_op\n",
      "INFO:tensorflow:Done running local_init_op\n",
      "INFO:tensorflow:Running training on 2 samples (step 0 -> 10)\n",
      "INFO:tensorflow:step 1, exact_match 0.0000, f1 0.0000, loss 5.921437, 0.05 steps/sec, 0.10 examples/sec\n",
      "INFO:tensorflow:step 2, exact_match 0.0000, f1 0.0000, loss 5.951446, 0.21 steps/sec, 0.41 examples/sec\n",
      "INFO:tensorflow:step 3, exact_match 0.0000, f1 0.4510, loss 2.952003, 0.13 steps/sec, 0.25 examples/sec\n",
      "INFO:tensorflow:step 4, exact_match 1.0000, f1 1.0000, loss 1.708816, 0.16 steps/sec, 0.32 examples/sec\n",
      "INFO:tensorflow:step 5, exact_match 1.0000, f1 1.0000, loss 0.809989, 0.12 steps/sec, 0.24 examples/sec\n",
      "INFO:tensorflow:step 6, exact_match 1.0000, f1 1.0000, loss 0.221189, 0.21 steps/sec, 0.42 examples/sec\n",
      "INFO:tensorflow:step 7, exact_match 1.0000, f1 1.0000, loss 0.053671, 0.24 steps/sec, 0.47 examples/sec\n",
      "INFO:tensorflow:step 8, exact_match 1.0000, f1 1.0000, loss 0.013962, 0.23 steps/sec, 0.47 examples/sec\n",
      "INFO:tensorflow:step 9, exact_match 1.0000, f1 1.0000, loss 0.006005, 0.26 steps/sec, 0.51 examples/sec\n",
      "INFO:tensorflow:step 10, exact_match 1.0000, f1 1.0000, loss 0.005318, 0.23 steps/sec, 0.46 examples/sec\n"
     ]
    }
   ],
   "source": [
    "model.fit(X, y, total_steps=10)"
   ]
  },
  {
   "cell_type": "markdown",
   "id": "fallen-hundred",
   "metadata": {},
   "source": [
    "# 推理"
   ]
  },
  {
   "cell_type": "code",
   "execution_count": 5,
   "id": "opposite-pantyhose",
   "metadata": {},
   "outputs": [
    {
     "name": "stdout",
     "output_type": "stream",
     "text": [
      "INFO:tensorflow:Time usage 0m-3.59s, 0.28 steps/sec, 0.56 examples/sec\n"
     ]
    },
    {
     "data": {
      "text/plain": [
       "{'preds': ['天亮以前', '孤独难免'],\n",
       " 'probs': array([[[1.4631180e-06, 4.9208148e-07, 8.7656525e-07, ...,\n",
       "          2.8876710e-07, 3.6099814e-07, 5.0935364e-07],\n",
       "         [2.8762918e-06, 2.9745995e-06, 2.5767549e-06, ...,\n",
       "          1.3302609e-06, 1.1217753e-06, 1.0982019e-06]],\n",
       " \n",
       "        [[1.1976181e-06, 4.4054377e-07, 8.9048405e-07, ...,\n",
       "          2.5059836e-07, 3.1236880e-07, 4.4110459e-07],\n",
       "         [1.5285138e-06, 1.3270513e-06, 9.0369741e-07, ...,\n",
       "          7.1477990e-07, 6.0126473e-07, 5.8426718e-07]]], dtype=float32)}"
      ]
     },
     "execution_count": 5,
     "metadata": {},
     "output_type": "execute_result"
    }
   ],
   "source": [
    "model.predict(X)"
   ]
  },
  {
   "cell_type": "markdown",
   "id": "fundamental-poverty",
   "metadata": {},
   "source": [
    "# 评分"
   ]
  },
  {
   "cell_type": "code",
   "execution_count": 6,
   "id": "accessory-lesbian",
   "metadata": {},
   "outputs": [
    {
     "name": "stdout",
     "output_type": "stream",
     "text": [
      "INFO:tensorflow:Time usage 0m-1.06s, 0.94 steps/sec, 1.89 examples/sec\n"
     ]
    },
    {
     "data": {
      "text/plain": [
       "{'exact_match': 1.0, 'f1': 0.9999992500003125, 'loss': 0.00097334106}"
      ]
     },
     "execution_count": 6,
     "metadata": {},
     "output_type": "execute_result"
    }
   ],
   "source": [
    "model.score(X, y)"
   ]
  }
 ],
 "metadata": {
  "kernelspec": {
   "display_name": "Python 3",
   "language": "python",
   "name": "python3"
  },
  "language_info": {
   "codemirror_mode": {
    "name": "ipython",
    "version": 3
   },
   "file_extension": ".py",
   "mimetype": "text/x-python",
   "name": "python",
   "nbconvert_exporter": "python",
   "pygments_lexer": "ipython3",
   "version": "3.8.2"
  }
 },
 "nbformat": 4,
 "nbformat_minor": 5
}
