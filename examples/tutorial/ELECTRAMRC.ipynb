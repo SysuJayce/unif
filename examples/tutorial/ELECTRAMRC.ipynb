{
 "cells": [
  {
   "cell_type": "markdown",
   "id": "greenhouse-airplane",
   "metadata": {},
   "source": [
    "# ELECTRAMRC\n",
    "\n",
    "可用的中文预训练参数：[`electra-small`](https://drive.google.com/file/d/1uab-9T1kR9HgD2NB0Kz1JB_TdSKgJIds/view?usp=drive_open),[`electra-small-ex`](https://drive.google.com/file/d/1LluPORc7xtFmCTFR4IF17q77ip82i7__/view),[`electra-base`](https://drive.google.com/file/d/1FMwrs2weFST-iAuZH3umMa6YZVeIP8wD/view),[`electra-large`](https://drive.google.com/file/d/1ny0NMLkEWG6rseDLiF_NujdHxDcIN51m/view)"
   ]
  },
  {
   "cell_type": "code",
   "execution_count": 1,
   "id": "rotary-academy",
   "metadata": {},
   "outputs": [
    {
     "name": "stdout",
     "output_type": "stream",
     "text": [
      "v2.5.2\n"
     ]
    }
   ],
   "source": [
    "import uf\n",
    "\n",
    "print(uf.__version__)"
   ]
  },
  {
   "cell_type": "code",
   "execution_count": 2,
   "id": "velvet-symbol",
   "metadata": {},
   "outputs": [
    {
     "name": "stdout",
     "output_type": "stream",
     "text": [
      "uf.ELECTRAMRC(\n",
      "    config_file=\"../../ref/bert_config.json\",\n",
      "    vocab_file=\"../../ref/vocab.txt\",\n",
      "    max_seq_length=256,\n",
      "    init_checkpoint=None,\n",
      "    output_dir=None,\n",
      "    gpu_ids=None,\n",
      "    do_lower_case=True,\n",
      "    truncate_method=\"longer-FO\",\n",
      ")\n"
     ]
    }
   ],
   "source": [
    "model = uf.ELECTRAMRC(\"../../ref/bert_config.json\", \"../../ref/vocab.txt\")\n",
    "print(model)"
   ]
  },
  {
   "cell_type": "code",
   "execution_count": 3,
   "id": "drawn-breathing",
   "metadata": {},
   "outputs": [],
   "source": [
    "X = [{\"doc\": \"天亮以前说再见，笑着泪流满面。去迎接应该你的，更好的明天\", \"ques\": \"何时说的再见\"}, \n",
    "     {\"doc\": \"他想知道那是谁，为何总沉默寡言。人群中也算抢眼，抢眼的孤独难免\", \"ques\": \"抢眼的如何\"}]\n",
    "y = [{\"text\": \"天亮以前\", \"answer_start\": 0}, {\"text\": \"孤独难免\", \"answer_start\": 27}]"
   ]
  },
  {
   "cell_type": "markdown",
   "id": "vanilla-fault",
   "metadata": {},
   "source": [
    "# 训练"
   ]
  },
  {
   "cell_type": "code",
   "execution_count": 4,
   "id": "excellent-religion",
   "metadata": {},
   "outputs": [
    {
     "name": "stderr",
     "output_type": "stream",
     "text": [
      "/Users/geyingli/Library/Python/3.8/lib/python/site-packages/uf-2.5.2-py3.8.egg/uf/apps/bert/bert.py:274: UserWarning: `tf.layers.dense` is deprecated and will be removed in a future version. Please use `tf.keras.layers.Dense` instead.\n",
      "  query_layer = tf.layers.dense(\n",
      "/Users/geyingli/Library/Python/3.8/lib/python/site-packages/uf-2.5.2-py3.8.egg/uf/apps/bert/bert.py:284: UserWarning: `tf.layers.dense` is deprecated and will be removed in a future version. Please use `tf.keras.layers.Dense` instead.\n",
      "  key_layer = tf.layers.dense(\n",
      "/Users/geyingli/Library/Python/3.8/lib/python/site-packages/uf-2.5.2-py3.8.egg/uf/apps/bert/bert.py:294: UserWarning: `tf.layers.dense` is deprecated and will be removed in a future version. Please use `tf.keras.layers.Dense` instead.\n",
      "  value_layer = tf.layers.dense(\n",
      "/Users/geyingli/Library/Python/3.8/lib/python/site-packages/uf-2.5.2-py3.8.egg/uf/apps/bert/bert.py:418: UserWarning: `tf.layers.dense` is deprecated and will be removed in a future version. Please use `tf.keras.layers.Dense` instead.\n",
      "  attention_output = tf.layers.dense(\n",
      "/Users/geyingli/Library/Python/3.8/lib/python/site-packages/uf-2.5.2-py3.8.egg/uf/apps/bert/bert.py:430: UserWarning: `tf.layers.dense` is deprecated and will be removed in a future version. Please use `tf.keras.layers.Dense` instead.\n",
      "  intermediate_output = tf.layers.dense(\n",
      "/Users/geyingli/Library/Python/3.8/lib/python/site-packages/uf-2.5.2-py3.8.egg/uf/apps/bert/bert.py:440: UserWarning: `tf.layers.dense` is deprecated and will be removed in a future version. Please use `tf.keras.layers.Dense` instead.\n",
      "  layer_output = tf.layers.dense(\n"
     ]
    },
    {
     "name": "stdout",
     "output_type": "stream",
     "text": [
      "INFO:tensorflow:Build graph with 305,035,782 parameters (among which 101,678,594 are trainable)\n",
      "INFO:tensorflow:Running local_init_op\n",
      "INFO:tensorflow:Done running local_init_op\n",
      "INFO:tensorflow:Running training on 2 samples (step 0 -> 20)\n",
      "INFO:tensorflow:step 1, exact_match 0.0000, f1 0.0244, loss 5.694326, 0.12 steps/sec, 0.25 examples/sec\n",
      "INFO:tensorflow:step 2, exact_match 0.0000, f1 0.0169, loss 5.803841, 0.39 steps/sec, 0.79 examples/sec\n",
      "INFO:tensorflow:step 3, exact_match 0.0000, f1 0.0000, loss 4.057624, 0.38 steps/sec, 0.77 examples/sec\n",
      "INFO:tensorflow:step 4, exact_match 1.0000, f1 1.0000, loss 1.691494, 0.37 steps/sec, 0.74 examples/sec\n",
      "INFO:tensorflow:step 5, exact_match 1.0000, f1 1.0000, loss 0.674724, 0.41 steps/sec, 0.83 examples/sec\n",
      "INFO:tensorflow:step 6, exact_match 1.0000, f1 1.0000, loss 0.094993, 0.41 steps/sec, 0.83 examples/sec\n",
      "INFO:tensorflow:step 7, exact_match 1.0000, f1 1.0000, loss 0.020675, 0.41 steps/sec, 0.83 examples/sec\n",
      "INFO:tensorflow:step 8, exact_match 1.0000, f1 1.0000, loss 0.004399, 0.38 steps/sec, 0.75 examples/sec\n",
      "INFO:tensorflow:step 9, exact_match 1.0000, f1 1.0000, loss 0.001525, 0.40 steps/sec, 0.80 examples/sec\n",
      "INFO:tensorflow:step 10, exact_match 1.0000, f1 1.0000, loss 0.000732, 0.37 steps/sec, 0.73 examples/sec\n",
      "INFO:tensorflow:step 11, exact_match 1.0000, f1 1.0000, loss 0.000565, 0.40 steps/sec, 0.81 examples/sec\n",
      "INFO:tensorflow:step 12, exact_match 1.0000, f1 1.0000, loss 0.000319, 0.40 steps/sec, 0.79 examples/sec\n",
      "INFO:tensorflow:step 13, exact_match 1.0000, f1 1.0000, loss 0.000309, 0.36 steps/sec, 0.73 examples/sec\n",
      "INFO:tensorflow:step 14, exact_match 1.0000, f1 1.0000, loss 0.000380, 0.36 steps/sec, 0.71 examples/sec\n",
      "INFO:tensorflow:step 15, exact_match 1.0000, f1 1.0000, loss 0.000372, 0.41 steps/sec, 0.82 examples/sec\n",
      "INFO:tensorflow:step 16, exact_match 1.0000, f1 1.0000, loss 0.000177, 0.41 steps/sec, 0.81 examples/sec\n",
      "INFO:tensorflow:step 17, exact_match 1.0000, f1 1.0000, loss 0.000160, 0.40 steps/sec, 0.80 examples/sec\n",
      "INFO:tensorflow:step 18, exact_match 1.0000, f1 1.0000, loss 0.000195, 0.38 steps/sec, 0.76 examples/sec\n",
      "INFO:tensorflow:step 19, exact_match 1.0000, f1 1.0000, loss 0.000188, 0.37 steps/sec, 0.73 examples/sec\n",
      "INFO:tensorflow:step 20, exact_match 1.0000, f1 1.0000, loss 0.000152, 0.37 steps/sec, 0.73 examples/sec\n"
     ]
    }
   ],
   "source": [
    "model.fit(X, y, total_steps=20)"
   ]
  },
  {
   "cell_type": "markdown",
   "id": "fallen-hundred",
   "metadata": {},
   "source": [
    "# 推理"
   ]
  },
  {
   "cell_type": "code",
   "execution_count": 5,
   "id": "opposite-pantyhose",
   "metadata": {},
   "outputs": [
    {
     "name": "stdout",
     "output_type": "stream",
     "text": [
      "INFO:tensorflow:Running inference on 2 samples\n",
      "INFO:tensorflow:process 100.0%, 1.34 examples/sec\n"
     ]
    },
    {
     "data": {
      "text/plain": [
       "{'preds': ['天亮以前', '孤独难免'],\n",
       " 'probs': array([[[4.26507825e-07, 4.19026975e-07, 3.44960426e-07, ...,\n",
       "          2.26048527e-07, 2.15318849e-07, 1.75509854e-07],\n",
       "         [1.91961519e-07, 2.31166538e-07, 2.30183630e-07, ...,\n",
       "          2.12594131e-07, 2.38267901e-07, 2.65007714e-07]],\n",
       " \n",
       "        [[5.05554056e-07, 5.88466435e-07, 3.47652815e-07, ...,\n",
       "          2.68911322e-07, 2.58466741e-07, 2.09846988e-07],\n",
       "         [1.03794356e-07, 1.03259836e-07, 1.54762489e-07, ...,\n",
       "          1.17219592e-07, 1.30023636e-07, 1.44939008e-07]]], dtype=float32)}"
      ]
     },
     "execution_count": 5,
     "metadata": {},
     "output_type": "execute_result"
    }
   ],
   "source": [
    "model.predict(X)"
   ]
  },
  {
   "cell_type": "markdown",
   "id": "fundamental-poverty",
   "metadata": {},
   "source": [
    "# 评分"
   ]
  },
  {
   "cell_type": "code",
   "execution_count": 6,
   "id": "accessory-lesbian",
   "metadata": {},
   "outputs": [
    {
     "name": "stdout",
     "output_type": "stream",
     "text": [
      "INFO:tensorflow:Running scoring on 2 samples\n",
      "INFO:tensorflow:process 100.0%, 1.71 examples/sec\n"
     ]
    },
    {
     "data": {
      "text/plain": [
       "{'exact_match': 1.0, 'f1': 1.0, 'loss': 6.0943825e-05}"
      ]
     },
     "execution_count": 6,
     "metadata": {},
     "output_type": "execute_result"
    }
   ],
   "source": [
    "model.score(X, y)"
   ]
  }
 ],
 "metadata": {
  "kernelspec": {
   "display_name": "Python 3.9.13 64-bit",
   "language": "python",
   "name": "python3"
  },
  "language_info": {
   "codemirror_mode": {
    "name": "ipython",
    "version": 3
   },
   "file_extension": ".py",
   "mimetype": "text/x-python",
   "name": "python",
   "nbconvert_exporter": "python",
   "pygments_lexer": "ipython3",
   "version": "3.8.2"
  },
  "vscode": {
   "interpreter": {
    "hash": "265fd6f62f200408acbbeae0248f34bed9f93569a643842b7a25d2cd76cae5e5"
   }
  }
 },
 "nbformat": 4,
 "nbformat_minor": 5
}
