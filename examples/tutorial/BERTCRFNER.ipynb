{
 "cells": [
  {
   "cell_type": "code",
   "execution_count": 1,
   "id": "rotary-academy",
   "metadata": {},
   "outputs": [
    {
     "name": "stdout",
     "output_type": "stream",
     "text": [
      "beta v2.8.0\n"
     ]
    }
   ],
   "source": [
    "import uf\n",
    "\n",
    "print(uf.__version__)"
   ]
  },
  {
   "cell_type": "code",
   "execution_count": 2,
   "id": "velvet-symbol",
   "metadata": {},
   "outputs": [
    {
     "name": "stdout",
     "output_type": "stream",
     "text": [
      "uf.BERTCRFNER(config_file='../demo/bert_config.json', vocab_file='../demo/vocab.txt', max_seq_length=128, init_checkpoint=None, output_dir=None, gpu_ids=None, do_lower_case=True, truncate_method='LIFO')\n"
     ]
    }
   ],
   "source": [
    "model = uf.BERTCRFNER('../../demo/bert_config.json', '../../demo/vocab.txt')\n",
    "print(model)"
   ]
  },
  {
   "cell_type": "code",
   "execution_count": 3,
   "id": "drawn-breathing",
   "metadata": {},
   "outputs": [],
   "source": [
    "X = ['天亮以前说再见', '笑着泪流满面', '去迎接应该你的', '更好的明天']\n",
    "y = [['天亮'], [], ['迎接'], ['更好', '明天']]"
   ]
  },
  {
   "cell_type": "markdown",
   "id": "vanilla-fault",
   "metadata": {},
   "source": [
    "# 训练"
   ]
  },
  {
   "cell_type": "code",
   "execution_count": 4,
   "id": "excellent-religion",
   "metadata": {},
   "outputs": [
    {
     "name": "stdout",
     "output_type": "stream",
     "text": [
      "WARNING:tensorflow:From /Users/geyingli/Library/Python/3.8/lib/python/site-packages/tensorflow/python/util/dispatch.py:201: calling dropout (from tensorflow.python.ops.nn_ops) with keep_prob is deprecated and will be removed in a future version.\n",
      "Instructions for updating:\n",
      "Please use `rate` instead of `keep_prob`. Rate should be set to `rate = 1 - keep_prob`.\n"
     ]
    },
    {
     "name": "stderr",
     "output_type": "stream",
     "text": [
      "/Users/geyingli/Library/Python/3.8/lib/python/site-packages/tensorflow/python/keras/legacy_tf_layers/core.py:171: UserWarning: `tf.layers.dense` is deprecated and will be removed in a future version. Please use `tf.keras.layers.Dense` instead.\n",
      "  warnings.warn('`tf.layers.dense` is deprecated and '\n",
      "/Users/geyingli/Library/Python/3.8/lib/python/site-packages/tensorflow/python/keras/engine/base_layer_v1.py:1719: UserWarning: `layer.apply` is deprecated and will be removed in a future version. Please use `layer.__call__` method instead.\n",
      "  warnings.warn('`layer.apply` is deprecated and '\n"
     ]
    },
    {
     "name": "stdout",
     "output_type": "stream",
     "text": [
      "WARNING:tensorflow:From /Users/geyingli/Library/Python/3.8/lib/python/site-packages/uf-beta.v2.8.0-py3.8.egg/uf/modeling/crf.py:276: dynamic_rnn (from tensorflow.python.ops.rnn) is deprecated and will be removed in a future version.\n",
      "Instructions for updating:\n",
      "Please use `keras.layers.RNN(cell)`, which is equivalent to this API\n",
      "INFO:tensorflow:Build graph with 305,633,370 parameters (among which 102,271,518 are trainable)\n",
      "INFO:tensorflow:Running local_init_op\n",
      "INFO:tensorflow:Done running local_init_op\n",
      "INFO:tensorflow:Running training on 4 samples (step 0 -> 20)\n",
      "INFO:tensorflow:step 1, f1/token 0.1818, f1/entity 0.0000, loss 15.704978, 0.05 steps/sec, 0.21 examples/sec\n",
      "INFO:tensorflow:step 2, f1/token 0.2857, f1/entity 0.0000, loss 16.278650, 0.22 steps/sec, 0.87 examples/sec\n",
      "INFO:tensorflow:step 3, f1/token 0.0000, f1/entity 0.0000, loss 6.490466, 0.27 steps/sec, 1.09 examples/sec\n",
      "INFO:tensorflow:step 4, f1/token 0.0000, f1/entity 0.0000, loss 4.935012, 0.27 steps/sec, 1.08 examples/sec\n",
      "INFO:tensorflow:step 5, f1/token 0.3333, f1/entity 0.3333, loss 4.456842, 0.27 steps/sec, 1.09 examples/sec\n",
      "INFO:tensorflow:step 6, f1/token 0.8571, f1/entity 0.8571, loss 3.075698, 0.27 steps/sec, 1.07 examples/sec\n",
      "INFO:tensorflow:step 7, f1/token 0.0000, f1/entity 0.0000, loss 2.275902, 0.28 steps/sec, 1.11 examples/sec\n",
      "INFO:tensorflow:step 8, f1/token 0.6667, f1/entity 0.6667, loss 1.628070, 0.28 steps/sec, 1.11 examples/sec\n",
      "INFO:tensorflow:step 9, f1/token 1.0000, f1/entity 1.0000, loss 1.000932, 0.13 steps/sec, 0.54 examples/sec\n",
      "INFO:tensorflow:step 10, f1/token 1.0000, f1/entity 1.0000, loss 0.642591, 0.16 steps/sec, 0.64 examples/sec\n",
      "INFO:tensorflow:step 11, f1/token 1.0000, f1/entity 1.0000, loss 0.220906, 0.14 steps/sec, 0.57 examples/sec\n",
      "INFO:tensorflow:step 12, f1/token 1.0000, f1/entity 1.0000, loss 0.127942, 0.18 steps/sec, 0.73 examples/sec\n",
      "INFO:tensorflow:step 13, f1/token 1.0000, f1/entity 1.0000, loss 0.049273, 0.19 steps/sec, 0.77 examples/sec\n",
      "INFO:tensorflow:step 14, f1/token 1.0000, f1/entity 1.0000, loss 0.022006, 0.21 steps/sec, 0.84 examples/sec\n",
      "INFO:tensorflow:step 15, f1/token 1.0000, f1/entity 1.0000, loss 0.020335, 0.28 steps/sec, 1.13 examples/sec\n",
      "INFO:tensorflow:step 16, f1/token 1.0000, f1/entity 1.0000, loss 0.012186, 0.28 steps/sec, 1.14 examples/sec\n",
      "INFO:tensorflow:step 17, f1/token 1.0000, f1/entity 1.0000, loss 0.008202, 0.29 steps/sec, 1.16 examples/sec\n",
      "INFO:tensorflow:step 18, f1/token 1.0000, f1/entity 1.0000, loss 0.006147, 0.29 steps/sec, 1.15 examples/sec\n",
      "INFO:tensorflow:step 19, f1/token 1.0000, f1/entity 1.0000, loss 0.004722, 0.28 steps/sec, 1.12 examples/sec\n",
      "INFO:tensorflow:step 20, f1/token 1.0000, f1/entity 1.0000, loss 0.004818, 0.28 steps/sec, 1.13 examples/sec\n"
     ]
    }
   ],
   "source": [
    "model.fit(X, y, total_steps=20)"
   ]
  },
  {
   "cell_type": "markdown",
   "id": "fallen-hundred",
   "metadata": {},
   "source": [
    "# 推理"
   ]
  },
  {
   "cell_type": "code",
   "execution_count": 5,
   "id": "opposite-pantyhose",
   "metadata": {},
   "outputs": [
    {
     "name": "stdout",
     "output_type": "stream",
     "text": [
      "INFO:tensorflow:Time usage 0m-3.19s, 0.31 steps/sec, 1.25 examples/sec\n"
     ]
    },
    {
     "data": {
      "text/plain": [
       "{'preds': [['天亮'], [], ['迎接'], ['更好', '明天']],\n",
       " 'logits': array([[[ 8.793261  , -3.1012297 , -1.50377   , -3.8626788 ,\n",
       "          -1.6344608 ],\n",
       "         [-2.716248  ,  7.645554  , -2.3034317 , -0.31828436,\n",
       "          -2.5897071 ],\n",
       "         [-1.7842157 , -2.022643  , -1.5418161 ,  7.346129  ,\n",
       "          -2.4499278 ],\n",
       "         ...,\n",
       "         [ 6.4659724 , -0.8748378 , -1.6169682 , -2.7420669 ,\n",
       "          -1.8879094 ],\n",
       "         [ 6.135985  , -0.71998316, -2.0687582 , -2.529359  ,\n",
       "          -1.8523964 ],\n",
       "         [ 5.238556  , -0.52304953, -2.024118  , -1.4252845 ,\n",
       "          -2.3806667 ]],\n",
       " \n",
       "        [[ 8.999827  , -3.1493146 , -1.4001136 , -3.8741086 ,\n",
       "          -1.8208226 ],\n",
       "         [ 8.329755  , -0.22859158, -2.1618993 , -4.7857924 ,\n",
       "          -2.7700107 ],\n",
       "         [ 8.363734  , -1.7568145 , -1.8195195 , -3.3724418 ,\n",
       "          -2.1987264 ],\n",
       "         ...,\n",
       "         [ 7.6339684 , -1.6189518 , -1.5514896 , -3.244688  ,\n",
       "          -2.0514405 ],\n",
       "         [ 7.3655767 , -1.5002877 , -1.8773825 , -3.1217728 ,\n",
       "          -2.0442867 ],\n",
       "         [ 6.8148446 , -1.4442581 , -1.8840225 , -2.322328  ,\n",
       "          -2.5334156 ]],\n",
       " \n",
       "        [[ 8.851123  , -3.1363783 , -1.576401  , -3.7412775 ,\n",
       "          -1.7844737 ],\n",
       "         [ 8.447984  , -0.5844888 , -1.9517931 , -4.4846396 ,\n",
       "          -2.4996896 ],\n",
       "         [-2.4379735 ,  7.60657   , -2.682458  , -1.2398022 ,\n",
       "          -2.669076  ],\n",
       "         ...,\n",
       "         [ 6.643252  , -0.9871633 , -1.7498589 , -2.6717677 ,\n",
       "          -2.059222  ],\n",
       "         [ 6.34384   , -0.9207376 , -2.2148607 , -2.4590778 ,\n",
       "          -2.0306742 ],\n",
       "         [ 5.5097365 , -0.7821891 , -2.1003182 , -1.3757273 ,\n",
       "          -2.5798373 ]],\n",
       " \n",
       "        [[ 8.315792  , -3.0380301 , -1.9757634 , -3.355165  ,\n",
       "          -1.6988046 ],\n",
       "         [-1.24408   ,  8.034558  , -2.989525  , -3.0890207 ,\n",
       "          -2.2884188 ],\n",
       "         [-3.3341906 , -0.9821535 , -1.912     ,  7.834542  ,\n",
       "          -1.8214244 ],\n",
       "         ...,\n",
       "         [ 4.806464  , -0.07123848, -2.1348994 , -1.6525527 ,\n",
       "          -1.9690042 ],\n",
       "         [ 4.198978  ,  0.12051726, -2.6293323 , -1.1982827 ,\n",
       "          -1.9683763 ],\n",
       "         [ 2.9472773 ,  0.3663221 , -2.4901798 ,  0.17505874,\n",
       "          -2.4164789 ]]], dtype=float32)}"
      ]
     },
     "execution_count": 5,
     "metadata": {},
     "output_type": "execute_result"
    }
   ],
   "source": [
    "model.predict(X)"
   ]
  },
  {
   "cell_type": "markdown",
   "id": "fundamental-poverty",
   "metadata": {},
   "source": [
    "# 评分"
   ]
  },
  {
   "cell_type": "code",
   "execution_count": 6,
   "id": "accessory-lesbian",
   "metadata": {},
   "outputs": [
    {
     "name": "stdout",
     "output_type": "stream",
     "text": [
      "INFO:tensorflow:Time usage 0m-2.26s, 0.44 steps/sec, 1.77 examples/sec\n"
     ]
    },
    {
     "data": {
      "text/plain": [
       "{'f1/token': 0.9999993750002658,\n",
       " 'f1/entity': 0.9999992500003125,\n",
       " 'loss': 0.0017375946}"
      ]
     },
     "execution_count": 6,
     "metadata": {},
     "output_type": "execute_result"
    }
   ],
   "source": [
    "model.score(X, y)"
   ]
  }
 ],
 "metadata": {
  "kernelspec": {
   "display_name": "Python 3",
   "language": "python",
   "name": "python3"
  },
  "language_info": {
   "codemirror_mode": {
    "name": "ipython",
    "version": 3
   },
   "file_extension": ".py",
   "mimetype": "text/x-python",
   "name": "python",
   "nbconvert_exporter": "python",
   "pygments_lexer": "ipython3",
   "version": "3.8.2"
  }
 },
 "nbformat": 4,
 "nbformat_minor": 5
}
