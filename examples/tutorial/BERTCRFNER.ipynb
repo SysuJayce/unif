{
 "cells": [
  {
   "cell_type": "code",
   "execution_count": 1,
   "id": "rotary-academy",
   "metadata": {},
   "outputs": [
    {
     "name": "stdout",
     "output_type": "stream",
     "text": [
      "v2.3.2\n"
     ]
    }
   ],
   "source": [
    "import uf\n",
    "\n",
    "print(uf.__version__)"
   ]
  },
  {
   "cell_type": "code",
   "execution_count": 2,
   "id": "velvet-symbol",
   "metadata": {},
   "outputs": [
    {
     "name": "stdout",
     "output_type": "stream",
     "text": [
      "uf.BERTCRFNER(config_file=\"../../demo/bert_config.json\", vocab_file=\"../../demo/vocab.txt\", max_seq_length=128, init_checkpoint=None, output_dir=None, gpu_ids=None, do_lower_case=True, truncate_method=\"LIFO\")\n"
     ]
    }
   ],
   "source": [
    "model = uf.BERTCRFNER('../../demo/bert_config.json', '../../demo/vocab.txt')\n",
    "print(model)"
   ]
  },
  {
   "cell_type": "code",
   "execution_count": 3,
   "id": "drawn-breathing",
   "metadata": {},
   "outputs": [],
   "source": [
    "X = ['天亮以前说再见', '笑着泪流满面', '去迎接应该你的', '更好的明天']\n",
    "y = [['天亮'], [], ['迎接'], ['更好', '明天']]"
   ]
  },
  {
   "cell_type": "markdown",
   "id": "vanilla-fault",
   "metadata": {},
   "source": [
    "# 训练"
   ]
  },
  {
   "cell_type": "code",
   "execution_count": 4,
   "id": "excellent-religion",
   "metadata": {},
   "outputs": [
    {
     "name": "stdout",
     "output_type": "stream",
     "text": [
      "WARNING:tensorflow:From /Users/geyingli/Library/Python/3.8/lib/python/site-packages/tensorflow/python/util/dispatch.py:1096: calling dropout (from tensorflow.python.ops.nn_ops) with keep_prob is deprecated and will be removed in a future version.\n",
      "Instructions for updating:\n",
      "Please use `rate` instead of `keep_prob`. Rate should be set to `rate = 1 - keep_prob`.\n"
     ]
    },
    {
     "name": "stderr",
     "output_type": "stream",
     "text": [
      "/Users/geyingli/Library/Python/3.8/lib/python/site-packages/uf-2.3.2-py3.8.egg/uf/modeling/bert.py:282: UserWarning: `tf.layers.dense` is deprecated and will be removed in a future version. Please use `tf.keras.layers.Dense` instead.\n",
      "  query_layer = tf.layers.dense(\n",
      "/Users/geyingli/Library/Python/3.8/lib/python/site-packages/keras/legacy_tf_layers/core.py:255: UserWarning: `layer.apply` is deprecated and will be removed in a future version. Please use `layer.__call__` method instead.\n",
      "  return layer.apply(inputs)\n",
      "/Users/geyingli/Library/Python/3.8/lib/python/site-packages/uf-2.3.2-py3.8.egg/uf/modeling/bert.py:291: UserWarning: `tf.layers.dense` is deprecated and will be removed in a future version. Please use `tf.keras.layers.Dense` instead.\n",
      "  key_layer = tf.layers.dense(\n",
      "/Users/geyingli/Library/Python/3.8/lib/python/site-packages/uf-2.3.2-py3.8.egg/uf/modeling/bert.py:300: UserWarning: `tf.layers.dense` is deprecated and will be removed in a future version. Please use `tf.keras.layers.Dense` instead.\n",
      "  value_layer = tf.layers.dense(\n",
      "/Users/geyingli/Library/Python/3.8/lib/python/site-packages/uf-2.3.2-py3.8.egg/uf/modeling/bert.py:430: UserWarning: `tf.layers.dense` is deprecated and will be removed in a future version. Please use `tf.keras.layers.Dense` instead.\n",
      "  attention_output = tf.layers.dense(\n",
      "/Users/geyingli/Library/Python/3.8/lib/python/site-packages/uf-2.3.2-py3.8.egg/uf/modeling/bert.py:445: UserWarning: `tf.layers.dense` is deprecated and will be removed in a future version. Please use `tf.keras.layers.Dense` instead.\n",
      "  intermediate_output = tf.layers.dense(\n",
      "/Users/geyingli/Library/Python/3.8/lib/python/site-packages/uf-2.3.2-py3.8.egg/uf/modeling/bert.py:455: UserWarning: `tf.layers.dense` is deprecated and will be removed in a future version. Please use `tf.keras.layers.Dense` instead.\n",
      "  layer_output = tf.layers.dense(\n",
      "/Users/geyingli/Library/Python/3.8/lib/python/site-packages/uf-2.3.2-py3.8.egg/uf/modeling/bert.py:107: UserWarning: `tf.layers.dense` is deprecated and will be removed in a future version. Please use `tf.keras.layers.Dense` instead.\n",
      "  self.pooled_output = tf.layers.dense(\n"
     ]
    },
    {
     "name": "stdout",
     "output_type": "stream",
     "text": [
      "WARNING:tensorflow:From /Users/geyingli/Library/Python/3.8/lib/python/site-packages/uf-2.3.2-py3.8.egg/uf/modeling/crf.py:262: dynamic_rnn (from tensorflow.python.ops.rnn) is deprecated and will be removed in a future version.\n",
      "Instructions for updating:\n",
      "Please use `keras.layers.RNN(cell)`, which is equivalent to this API\n",
      "INFO:tensorflow:Build graph with 305,633,370 parameters (among which 102,271,518 are trainable)\n",
      "INFO:tensorflow:Running local_init_op\n",
      "INFO:tensorflow:Done running local_init_op\n",
      "INFO:tensorflow:Running training on 4 samples (step 0 -> 20)\n",
      "INFO:tensorflow:step 1, f1/token 0.0000, f1/entity 0.0000, loss 16.025440, 0.02 steps/sec, 0.08 examples/sec\n",
      "INFO:tensorflow:step 2, f1/token 0.0000, f1/entity 0.0000, loss 15.058193, 0.12 steps/sec, 0.49 examples/sec\n",
      "INFO:tensorflow:step 3, f1/token 0.0000, f1/entity 0.0000, loss 8.259501, 0.16 steps/sec, 0.65 examples/sec\n",
      "INFO:tensorflow:step 4, f1/token 0.0000, f1/entity 0.0000, loss 8.152907, 0.15 steps/sec, 0.61 examples/sec\n",
      "INFO:tensorflow:step 5, f1/token 0.0000, f1/entity 0.0000, loss 5.337456, 0.09 steps/sec, 0.36 examples/sec\n",
      "INFO:tensorflow:step 6, f1/token 0.4000, f1/entity 0.4000, loss 5.434393, 0.09 steps/sec, 0.36 examples/sec\n",
      "INFO:tensorflow:step 7, f1/token 0.0000, f1/entity 0.0000, loss 5.429029, 0.09 steps/sec, 0.34 examples/sec\n",
      "INFO:tensorflow:step 8, f1/token 0.4000, f1/entity 0.4000, loss 3.170738, 0.22 steps/sec, 0.88 examples/sec\n",
      "INFO:tensorflow:step 9, f1/token 0.4000, f1/entity 0.4000, loss 2.629972, 0.23 steps/sec, 0.93 examples/sec\n",
      "INFO:tensorflow:step 10, f1/token 0.4000, f1/entity 0.4000, loss 1.651504, 0.24 steps/sec, 0.95 examples/sec\n",
      "INFO:tensorflow:step 11, f1/token 0.8571, f1/entity 0.8571, loss 0.950810, 0.19 steps/sec, 0.77 examples/sec\n",
      "INFO:tensorflow:step 12, f1/token 1.0000, f1/entity 1.0000, loss 0.413777, 0.21 steps/sec, 0.85 examples/sec\n",
      "INFO:tensorflow:step 13, f1/token 1.0000, f1/entity 1.0000, loss 0.180893, 0.22 steps/sec, 0.87 examples/sec\n",
      "INFO:tensorflow:step 14, f1/token 1.0000, f1/entity 1.0000, loss 0.104299, 0.23 steps/sec, 0.94 examples/sec\n",
      "INFO:tensorflow:step 15, f1/token 1.0000, f1/entity 1.0000, loss 0.049525, 0.25 steps/sec, 1.02 examples/sec\n",
      "INFO:tensorflow:step 16, f1/token 1.0000, f1/entity 1.0000, loss 0.038448, 0.22 steps/sec, 0.88 examples/sec\n",
      "INFO:tensorflow:step 17, f1/token 1.0000, f1/entity 1.0000, loss 0.018915, 0.23 steps/sec, 0.91 examples/sec\n",
      "INFO:tensorflow:step 18, f1/token 1.0000, f1/entity 1.0000, loss 0.017417, 0.21 steps/sec, 0.85 examples/sec\n",
      "INFO:tensorflow:step 19, f1/token 1.0000, f1/entity 1.0000, loss 0.012418, 0.15 steps/sec, 0.58 examples/sec\n",
      "INFO:tensorflow:step 20, f1/token 1.0000, f1/entity 1.0000, loss 0.012147, 0.22 steps/sec, 0.86 examples/sec\n"
     ]
    }
   ],
   "source": [
    "model.fit(X, y, total_steps=20)"
   ]
  },
  {
   "cell_type": "markdown",
   "id": "fallen-hundred",
   "metadata": {},
   "source": [
    "# 推理"
   ]
  },
  {
   "cell_type": "code",
   "execution_count": 5,
   "id": "opposite-pantyhose",
   "metadata": {},
   "outputs": [
    {
     "name": "stdout",
     "output_type": "stream",
     "text": [
      "INFO:tensorflow:Time usage 0m-1.70s, 0.59 steps/sec, 2.35 examples/sec\n"
     ]
    },
    {
     "data": {
      "text/plain": [
       "{'preds': [['天亮'], [], ['迎接'], ['更好', '明天']],\n",
       " 'logits': array([[[ 9.308492  , -3.10568   , -1.9769818 , -2.380302  ,\n",
       "          -2.286861  ],\n",
       "         [-1.5002522 ,  6.3786483 , -1.2254903 , -2.389884  ,\n",
       "          -2.1959002 ],\n",
       "         [-1.9136833 , -2.3699827 , -1.7495339 ,  8.100364  ,\n",
       "          -1.7649356 ],\n",
       "         ...,\n",
       "         [ 6.725152  , -2.2277138 , -2.2341497 , -0.9369985 ,\n",
       "          -2.740128  ],\n",
       "         [ 6.928272  , -1.6687137 , -1.8408566 , -1.6847703 ,\n",
       "          -3.0415885 ],\n",
       "         [ 7.1366305 , -1.9385948 , -1.8546518 , -1.8853527 ,\n",
       "          -2.50875   ]],\n",
       " \n",
       "        [[ 9.374396  , -3.0339274 , -2.018644  , -2.9556656 ,\n",
       "          -2.3005235 ],\n",
       "         [ 8.968509  , -1.5960943 , -1.8231277 , -4.3158827 ,\n",
       "          -2.271634  ],\n",
       "         [ 8.71107   , -2.6761475 , -2.4104707 , -2.945693  ,\n",
       "          -3.0484505 ],\n",
       "         ...,\n",
       "         [ 7.9566107 , -2.4533632 , -2.2504008 , -2.3641286 ,\n",
       "          -2.692792  ],\n",
       "         [ 8.08007   , -2.0820134 , -1.9408981 , -2.8380675 ,\n",
       "          -2.9585843 ],\n",
       "         [ 8.073243  , -2.2001946 , -1.8934368 , -2.9655557 ,\n",
       "          -2.5001893 ]],\n",
       " \n",
       "        [[ 9.225198  , -3.1288695 , -2.0423565 , -2.247131  ,\n",
       "          -2.3627958 ],\n",
       "         [ 8.620028  , -0.8243941 , -1.7347255 , -4.6980076 ,\n",
       "          -2.422401  ],\n",
       "         [-1.754683  ,  6.497751  , -1.3897073 , -2.538346  ,\n",
       "          -2.234739  ],\n",
       "         ...,\n",
       "         [ 6.5417886 , -2.1234019 , -2.3136585 , -0.80099857,\n",
       "          -2.8412206 ],\n",
       "         [ 6.789311  , -1.5937077 , -1.9340051 , -1.6541938 ,\n",
       "          -3.211278  ],\n",
       "         [ 6.9552875 , -1.8666762 , -1.9182894 , -1.7623267 ,\n",
       "          -2.6307752 ]],\n",
       " \n",
       "        [[ 8.81242   , -3.1988413 , -2.1024606 , -1.0086278 ,\n",
       "          -2.4072952 ],\n",
       "         [-1.3548484 ,  7.1775923 , -1.0890497 , -3.556259  ,\n",
       "          -1.5782111 ],\n",
       "         [-2.9956224 , -1.4394102 , -1.3827515 ,  8.244161  ,\n",
       "          -1.6459856 ],\n",
       "         ...,\n",
       "         [ 3.5195112 , -1.4223896 , -2.1859264 ,  1.9376909 ,\n",
       "          -2.7813356 ],\n",
       "         [ 4.1508517 , -0.63359207, -1.8496356 ,  0.79155767,\n",
       "          -3.1509047 ],\n",
       "         [ 4.70433   , -1.217982  , -1.911854  ,  0.502826  ,\n",
       "          -2.5663323 ]]], dtype=float32)}"
      ]
     },
     "execution_count": 5,
     "metadata": {},
     "output_type": "execute_result"
    }
   ],
   "source": [
    "model.predict(X)"
   ]
  },
  {
   "cell_type": "markdown",
   "id": "fundamental-poverty",
   "metadata": {},
   "source": [
    "# 评分"
   ]
  },
  {
   "cell_type": "code",
   "execution_count": 6,
   "id": "accessory-lesbian",
   "metadata": {},
   "outputs": [
    {
     "name": "stdout",
     "output_type": "stream",
     "text": [
      "INFO:tensorflow:Time usage 0m-1.15s, 0.87 steps/sec, 3.48 examples/sec\n"
     ]
    },
    {
     "data": {
      "text/plain": [
       "{'f1/token': 0.9999993750002658,\n",
       " 'f1/entity': 0.9999992500003125,\n",
       " 'loss': 0.005094528}"
      ]
     },
     "execution_count": 6,
     "metadata": {},
     "output_type": "execute_result"
    }
   ],
   "source": [
    "model.score(X, y)"
   ]
  }
 ],
 "metadata": {
  "kernelspec": {
   "display_name": "Python 3",
   "language": "python",
   "name": "python3"
  },
  "language_info": {
   "codemirror_mode": {
    "name": "ipython",
    "version": 3
   },
   "file_extension": ".py",
   "mimetype": "text/x-python",
   "name": "python",
   "nbconvert_exporter": "python",
   "pygments_lexer": "ipython3",
   "version": "3.8.2"
  }
 },
 "nbformat": 4,
 "nbformat_minor": 5
}
