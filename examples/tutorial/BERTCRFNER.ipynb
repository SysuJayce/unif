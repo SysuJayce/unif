{
 "cells": [
  {
   "cell_type": "markdown",
   "id": "medium-condition",
   "metadata": {},
   "source": [
    "# BERTCRFNER\n",
    "\n",
    "可用的中文预训练参数：[`bert-base`](https://storage.googleapis.com/bert_models/2018_11_03/chinese_L-12_H-768_A-12.zip),[`roberta-wwm-ext-base`](https://drive.google.com/uc?export=download&id=1jMAKIJmPn7kADgD3yQZhpsqM-IRM1qZt),[`roberta-wwm-ext-large`](https://drive.google.com/uc?export=download&id=1dtad0FFzG11CBsawu8hvwwzU2R0FDI94),[`macbert-base`](https://drive.google.com/uc?export=download&id=1aV69OhYzIwj_hn-kO1RiBa-m8QAusQ5b),[`macbert-large`](https://drive.google.com/uc?export=download&id=1lWYxnk1EqTA2Q20_IShxBrCPc5VSDCkT)"
   ]
  },
  {
   "cell_type": "code",
   "execution_count": 1,
   "id": "rotary-academy",
   "metadata": {},
   "outputs": [
    {
     "name": "stdout",
     "output_type": "stream",
     "text": [
      "v2.5.0\n"
     ]
    }
   ],
   "source": [
    "import uf\n",
    "\n",
    "print(uf.__version__)"
   ]
  },
  {
   "cell_type": "code",
   "execution_count": 2,
   "id": "velvet-symbol",
   "metadata": {},
   "outputs": [
    {
     "name": "stdout",
     "output_type": "stream",
     "text": [
      "uf.BERTCRFNER(\n",
      "    config_file=\"../../ref/bert_config.json\",\n",
      "    vocab_file=\"../../ref/vocab.txt\",\n",
      "    max_seq_length=128,\n",
      "    init_checkpoint=None,\n",
      "    output_dir=None,\n",
      "    gpu_ids=None,\n",
      "    do_lower_case=True,\n",
      "    truncate_method=\"LIFO\",\n",
      ")\n"
     ]
    }
   ],
   "source": [
    "model = uf.BERTCRFNER(\"../../ref/bert_config.json\", \"../../ref/vocab.txt\")\n",
    "print(model)"
   ]
  },
  {
   "cell_type": "code",
   "execution_count": 3,
   "id": "drawn-breathing",
   "metadata": {},
   "outputs": [],
   "source": [
    "X = [\"天亮以前说再见\", \"笑着泪流满面\", \"去迎接应该你的\", \"更好的明天\"]\n",
    "y = [[\"天亮\"], [], [\"迎接\"], [\"更好\", \"明天\"]]"
   ]
  },
  {
   "cell_type": "markdown",
   "id": "vanilla-fault",
   "metadata": {},
   "source": [
    "# 训练"
   ]
  },
  {
   "cell_type": "code",
   "execution_count": 4,
   "id": "excellent-religion",
   "metadata": {},
   "outputs": [
    {
     "name": "stdout",
     "output_type": "stream",
     "text": [
      "WARNING:tensorflow:From c:\\Users\\Luv_d\\AppData\\Local\\Programs\\Python\\Python39\\lib\\site-packages\\tensorflow\\python\\util\\dispatch.py:1176: calling dropout (from tensorflow.python.ops.nn_ops) with keep_prob is deprecated and will be removed in a future version.\n",
      "Instructions for updating:\n",
      "Please use `rate` instead of `keep_prob`. Rate should be set to `rate = 1 - keep_prob`.\n"
     ]
    },
    {
     "name": "stderr",
     "output_type": "stream",
     "text": [
      "c:\\Users\\Luv_d\\AppData\\Local\\Programs\\Python\\Python39\\lib\\site-packages\\uf-2.5.0-py3.9.egg\\uf\\apps\\bert\\bert.py:272: UserWarning: `tf.layers.dense` is deprecated and will be removed in a future version. Please use `tf.keras.layers.Dense` instead.\n",
      "  query_layer = tf.layers.dense(\n",
      "c:\\Users\\Luv_d\\AppData\\Local\\Programs\\Python\\Python39\\lib\\site-packages\\uf-2.5.0-py3.9.egg\\uf\\apps\\bert\\bert.py:282: UserWarning: `tf.layers.dense` is deprecated and will be removed in a future version. Please use `tf.keras.layers.Dense` instead.\n",
      "  key_layer = tf.layers.dense(\n",
      "c:\\Users\\Luv_d\\AppData\\Local\\Programs\\Python\\Python39\\lib\\site-packages\\uf-2.5.0-py3.9.egg\\uf\\apps\\bert\\bert.py:292: UserWarning: `tf.layers.dense` is deprecated and will be removed in a future version. Please use `tf.keras.layers.Dense` instead.\n",
      "  value_layer = tf.layers.dense(\n",
      "c:\\Users\\Luv_d\\AppData\\Local\\Programs\\Python\\Python39\\lib\\site-packages\\uf-2.5.0-py3.9.egg\\uf\\apps\\bert\\bert.py:416: UserWarning: `tf.layers.dense` is deprecated and will be removed in a future version. Please use `tf.keras.layers.Dense` instead.\n",
      "  attention_output = tf.layers.dense(\n",
      "c:\\Users\\Luv_d\\AppData\\Local\\Programs\\Python\\Python39\\lib\\site-packages\\uf-2.5.0-py3.9.egg\\uf\\apps\\bert\\bert.py:428: UserWarning: `tf.layers.dense` is deprecated and will be removed in a future version. Please use `tf.keras.layers.Dense` instead.\n",
      "  intermediate_output = tf.layers.dense(\n",
      "c:\\Users\\Luv_d\\AppData\\Local\\Programs\\Python\\Python39\\lib\\site-packages\\uf-2.5.0-py3.9.egg\\uf\\apps\\bert\\bert.py:438: UserWarning: `tf.layers.dense` is deprecated and will be removed in a future version. Please use `tf.keras.layers.Dense` instead.\n",
      "  layer_output = tf.layers.dense(\n"
     ]
    },
    {
     "name": "stdout",
     "output_type": "stream",
     "text": [
      "WARNING:tensorflow:From c:\\Users\\Luv_d\\AppData\\Local\\Programs\\Python\\Python39\\lib\\site-packages\\uf-2.5.0-py3.9.egg\\uf\\apps\\crf\\crf.py:262: dynamic_rnn (from tensorflow.python.ops.rnn) is deprecated and will be removed in a future version.\n",
      "Instructions for updating:\n",
      "Please use `keras.layers.RNN(cell)`, which is equivalent to this API\n"
     ]
    },
    {
     "name": "stderr",
     "output_type": "stream",
     "text": [
      "c:\\Users\\Luv_d\\AppData\\Local\\Programs\\Python\\Python39\\lib\\site-packages\\uf-2.5.0-py3.9.egg\\uf\\apps\\bert\\bert.py:107: UserWarning: `tf.layers.dense` is deprecated and will be removed in a future version. Please use `tf.keras.layers.Dense` instead.\n",
      "  self.pooled_output = tf.layers.dense(\n"
     ]
    },
    {
     "name": "stdout",
     "output_type": "stream",
     "text": [
      "INFO:tensorflow:Build graph with 305,633,370 parameters (among which 102,271,518 are trainable)\n",
      "INFO:tensorflow:Running local_init_op\n",
      "INFO:tensorflow:Done running local_init_op\n",
      "INFO:tensorflow:Running training on 4 samples (step 0 -> 20)\n",
      "INFO:tensorflow:step 1, f1/token 0.3103, f1/entity 0.0000, loss 13.369580, 0.05 steps/sec, 0.21 examples/sec\n",
      "INFO:tensorflow:step 2, f1/token 0.3103, f1/entity 0.0185, loss 12.715840, 0.29 steps/sec, 1.14 examples/sec\n",
      "INFO:tensorflow:step 3, f1/token 0.0000, f1/entity 0.0000, loss 7.363159, 0.28 steps/sec, 1.14 examples/sec\n",
      "INFO:tensorflow:step 4, f1/token 0.0000, f1/entity 0.0000, loss 5.156815, 0.29 steps/sec, 1.16 examples/sec\n",
      "INFO:tensorflow:step 5, f1/token 0.5556, f1/entity 0.4000, loss 6.434881, 0.32 steps/sec, 1.27 examples/sec\n",
      "INFO:tensorflow:step 6, f1/token 0.6364, f1/entity 0.5455, loss 4.971843, 0.34 steps/sec, 1.35 examples/sec\n",
      "INFO:tensorflow:step 7, f1/token 0.6667, f1/entity 0.6667, loss 2.302279, 0.32 steps/sec, 1.29 examples/sec\n",
      "INFO:tensorflow:step 8, f1/token 0.0000, f1/entity 0.0000, loss 2.488829, 0.57 steps/sec, 2.29 examples/sec\n",
      "INFO:tensorflow:step 9, f1/token 0.6667, f1/entity 0.6667, loss 1.684678, 0.62 steps/sec, 2.48 examples/sec\n",
      "INFO:tensorflow:step 10, f1/token 1.0000, f1/entity 1.0000, loss 0.943034, 0.64 steps/sec, 2.54 examples/sec\n",
      "INFO:tensorflow:step 11, f1/token 1.0000, f1/entity 1.0000, loss 0.520452, 0.62 steps/sec, 2.49 examples/sec\n",
      "INFO:tensorflow:step 12, f1/token 1.0000, f1/entity 1.0000, loss 0.331657, 0.63 steps/sec, 2.54 examples/sec\n",
      "INFO:tensorflow:step 13, f1/token 1.0000, f1/entity 1.0000, loss 0.125651, 0.59 steps/sec, 2.35 examples/sec\n",
      "INFO:tensorflow:step 14, f1/token 1.0000, f1/entity 1.0000, loss 0.079487, 0.64 steps/sec, 2.58 examples/sec\n",
      "INFO:tensorflow:step 15, f1/token 1.0000, f1/entity 1.0000, loss 0.036811, 0.65 steps/sec, 2.59 examples/sec\n",
      "INFO:tensorflow:step 16, f1/token 1.0000, f1/entity 1.0000, loss 0.017750, 0.59 steps/sec, 2.35 examples/sec\n",
      "INFO:tensorflow:step 17, f1/token 1.0000, f1/entity 1.0000, loss 0.013986, 0.60 steps/sec, 2.40 examples/sec\n",
      "INFO:tensorflow:step 18, f1/token 1.0000, f1/entity 1.0000, loss 0.011619, 0.60 steps/sec, 2.41 examples/sec\n",
      "INFO:tensorflow:step 19, f1/token 1.0000, f1/entity 1.0000, loss 0.011546, 0.60 steps/sec, 2.38 examples/sec\n",
      "INFO:tensorflow:step 20, f1/token 1.0000, f1/entity 1.0000, loss 0.007411, 0.60 steps/sec, 2.42 examples/sec\n"
     ]
    }
   ],
   "source": [
    "model.fit(X, y, total_steps=20)"
   ]
  },
  {
   "cell_type": "markdown",
   "id": "fallen-hundred",
   "metadata": {},
   "source": [
    "# 推理"
   ]
  },
  {
   "cell_type": "code",
   "execution_count": 5,
   "id": "opposite-pantyhose",
   "metadata": {},
   "outputs": [
    {
     "name": "stdout",
     "output_type": "stream",
     "text": [
      "INFO:tensorflow:Running inference on 4 samples\n",
      "INFO:tensorflow:process 100.0%, 4.26 examples/sec\n"
     ]
    },
    {
     "data": {
      "text/plain": [
       "{'preds': [['天亮'], [], ['迎接'], ['更好', '明天']],\n",
       " 'logits': array([[[ 8.379305  , -2.5048158 , -1.9526473 , -2.715878  ,\n",
       "          -1.786783  ],\n",
       "         [-1.5473562 ,  6.271566  , -2.4079773 ,  0.42382166,\n",
       "          -2.3227906 ],\n",
       "         [-2.232968  , -1.2307209 , -1.5579923 ,  6.767032  ,\n",
       "          -1.4120927 ],\n",
       "         ...,\n",
       "         [ 4.844222  ,  0.08909683, -1.7655977 , -0.89136505,\n",
       "          -1.9082239 ],\n",
       "         [ 6.2444687 ,  0.16352375, -1.8473054 , -1.2506626 ,\n",
       "          -1.9268419 ],\n",
       "         [ 6.184433  , -0.7779447 , -1.7584825 , -1.3503864 ,\n",
       "          -1.3630148 ]],\n",
       " \n",
       "        [[ 8.396761  , -3.0246525 , -1.9714464 , -2.6183758 ,\n",
       "          -1.6796072 ],\n",
       "         [ 7.2513876 , -0.1144187 , -2.1325107 , -3.2365186 ,\n",
       "          -1.6507477 ],\n",
       "         [ 6.4758024 , -1.6739419 , -2.471211  , -0.8203634 ,\n",
       "          -2.0637167 ],\n",
       "         ...,\n",
       "         [ 5.7608476 , -1.0923802 , -1.8440131 , -1.1599522 ,\n",
       "          -1.7321905 ],\n",
       "         [ 6.9270535 , -1.0157626 , -1.8933148 , -1.4496827 ,\n",
       "          -1.7587745 ],\n",
       "         [ 6.727977  , -1.687646  , -1.7867571 , -1.5119013 ,\n",
       "          -1.2677503 ]],\n",
       " \n",
       "        [[ 8.323782  , -2.6085753 , -1.9864091 , -2.5781    ,\n",
       "          -1.8380451 ],\n",
       "         [ 7.045821  ,  0.30731156, -2.3041449 , -3.44991   ,\n",
       "          -1.6320255 ],\n",
       "         [-1.587571  ,  6.4616218 , -1.9824656 , -0.778027  ,\n",
       "          -1.7712257 ],\n",
       "         ...,\n",
       "         [ 4.321988  ,  0.09317692, -1.7266495 , -0.48818755,\n",
       "          -1.9325079 ],\n",
       "         [ 5.8636513 ,  0.21001004, -1.8103862 , -0.8690938 ,\n",
       "          -1.9713596 ],\n",
       "         [ 5.724312  , -0.73331374, -1.7331687 , -0.9955558 ,\n",
       "          -1.4032114 ]],\n",
       " \n",
       "        [[ 8.072333  , -2.0374188 , -2.1798356 , -2.30264   ,\n",
       "          -2.0249615 ],\n",
       "         [-0.7932552 ,  6.8914666 , -2.3196347 , -1.5317599 ,\n",
       "          -1.9356318 ],\n",
       "         [-4.045334  , -0.24340579, -1.242834  ,  7.0095496 ,\n",
       "          -1.0020543 ],\n",
       "         ...,\n",
       "         [ 2.9255614 ,  1.1476964 , -1.9761572 ,  0.2920458 ,\n",
       "          -1.9497406 ],\n",
       "         [ 4.569957  ,  1.281447  , -2.0462945 , -0.20764655,\n",
       "          -2.1727927 ],\n",
       "         [ 4.689623  ,  0.13055818, -1.9850973 , -0.3049847 ,\n",
       "          -1.5595434 ]]], dtype=float32)}"
      ]
     },
     "execution_count": 5,
     "metadata": {},
     "output_type": "execute_result"
    }
   ],
   "source": [
    "model.predict(X)"
   ]
  },
  {
   "cell_type": "markdown",
   "id": "fundamental-poverty",
   "metadata": {},
   "source": [
    "# 评分"
   ]
  },
  {
   "cell_type": "code",
   "execution_count": 6,
   "id": "accessory-lesbian",
   "metadata": {},
   "outputs": [
    {
     "name": "stdout",
     "output_type": "stream",
     "text": [
      "INFO:tensorflow:Running scoring on 4 samples\n",
      "INFO:tensorflow:process 100.0%, 5.75 examples/sec\n"
     ]
    },
    {
     "data": {
      "text/plain": [
       "{'f1/token': 1.0, 'f1/entity': 1.0, 'loss': 0.0035181046}"
      ]
     },
     "execution_count": 6,
     "metadata": {},
     "output_type": "execute_result"
    }
   ],
   "source": [
    "model.score(X, y)"
   ]
  }
 ],
 "metadata": {
  "kernelspec": {
   "display_name": "Python 3.9.13 64-bit",
   "language": "python",
   "name": "python3"
  },
  "language_info": {
   "codemirror_mode": {
    "name": "ipython",
    "version": 3
   },
   "file_extension": ".py",
   "mimetype": "text/x-python",
   "name": "python",
   "nbconvert_exporter": "python",
   "pygments_lexer": "ipython3",
   "version": "3.9.13"
  },
  "vscode": {
   "interpreter": {
    "hash": "265fd6f62f200408acbbeae0248f34bed9f93569a643842b7a25d2cd76cae5e5"
   }
  }
 },
 "nbformat": 4,
 "nbformat_minor": 5
}
