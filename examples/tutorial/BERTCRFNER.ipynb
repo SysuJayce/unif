{
 "cells": [
  {
   "cell_type": "markdown",
   "id": "medium-condition",
   "metadata": {},
   "source": [
    "# BERTCRFNER\n",
    "\n",
    "可用的中文预训练参数：[`bert-base`](https://storage.googleapis.com/bert_models/2018_11_03/chinese_L-12_H-768_A-12.zip),[`roberta-wwm-ext-base`](https://drive.google.com/uc?export=download&id=1jMAKIJmPn7kADgD3yQZhpsqM-IRM1qZt),[`roberta-wwm-ext-large`](https://drive.google.com/uc?export=download&id=1dtad0FFzG11CBsawu8hvwwzU2R0FDI94),[`macbert-base`](https://drive.google.com/uc?export=download&id=1aV69OhYzIwj_hn-kO1RiBa-m8QAusQ5b),[`macbert-large`](https://drive.google.com/uc?export=download&id=1lWYxnk1EqTA2Q20_IShxBrCPc5VSDCkT)"
   ]
  },
  {
   "cell_type": "code",
   "execution_count": 1,
   "id": "rotary-academy",
   "metadata": {},
   "outputs": [
    {
     "name": "stdout",
     "output_type": "stream",
     "text": [
      "v2.4.5\n"
     ]
    }
   ],
   "source": [
    "import uf\n",
    "\n",
    "print(uf.__version__)"
   ]
  },
  {
   "cell_type": "code",
   "execution_count": 2,
   "id": "velvet-symbol",
   "metadata": {},
   "outputs": [
    {
     "name": "stdout",
     "output_type": "stream",
     "text": [
      "uf.BERTCRFNER(\n",
      "    config_file=\"../../demo/bert_config.json\",\n",
      "    vocab_file=\"../../demo/vocab.txt\",\n",
      "    max_seq_length=128,\n",
      "    init_checkpoint=None,\n",
      "    output_dir=None,\n",
      "    gpu_ids=None,\n",
      "    do_lower_case=True,\n",
      "    truncate_method=\"LIFO\",\n",
      ")\n"
     ]
    }
   ],
   "source": [
    "model = uf.BERTCRFNER('../../demo/bert_config.json', '../../demo/vocab.txt')\n",
    "print(model)"
   ]
  },
  {
   "cell_type": "code",
   "execution_count": 3,
   "id": "drawn-breathing",
   "metadata": {},
   "outputs": [],
   "source": [
    "X = ['天亮以前说再见', '笑着泪流满面', '去迎接应该你的', '更好的明天']\n",
    "y = [['天亮'], [], ['迎接'], ['更好', '明天']]"
   ]
  },
  {
   "cell_type": "markdown",
   "id": "vanilla-fault",
   "metadata": {},
   "source": [
    "# 训练"
   ]
  },
  {
   "cell_type": "code",
   "execution_count": 4,
   "id": "excellent-religion",
   "metadata": {},
   "outputs": [
    {
     "name": "stdout",
     "output_type": "stream",
     "text": [
      "WARNING:tensorflow:From /Users/geyingli/Library/Python/3.8/lib/python/site-packages/tensorflow/python/util/dispatch.py:1096: calling dropout (from tensorflow.python.ops.nn_ops) with keep_prob is deprecated and will be removed in a future version.\n",
      "Instructions for updating:\n",
      "Please use `rate` instead of `keep_prob`. Rate should be set to `rate = 1 - keep_prob`.\n"
     ]
    },
    {
     "name": "stderr",
     "output_type": "stream",
     "text": [
      "/Users/geyingli/Library/Python/3.8/lib/python/site-packages/uf-2.4.5-py3.8.egg/uf/model/bert.py:272: UserWarning: `tf.layers.dense` is deprecated and will be removed in a future version. Please use `tf.keras.layers.Dense` instead.\n",
      "  query_layer = tf.layers.dense(\n",
      "/Users/geyingli/Library/Python/3.8/lib/python/site-packages/keras/legacy_tf_layers/core.py:255: UserWarning: `layer.apply` is deprecated and will be removed in a future version. Please use `layer.__call__` method instead.\n",
      "  return layer.apply(inputs)\n",
      "/Users/geyingli/Library/Python/3.8/lib/python/site-packages/uf-2.4.5-py3.8.egg/uf/model/bert.py:282: UserWarning: `tf.layers.dense` is deprecated and will be removed in a future version. Please use `tf.keras.layers.Dense` instead.\n",
      "  key_layer = tf.layers.dense(\n",
      "/Users/geyingli/Library/Python/3.8/lib/python/site-packages/uf-2.4.5-py3.8.egg/uf/model/bert.py:292: UserWarning: `tf.layers.dense` is deprecated and will be removed in a future version. Please use `tf.keras.layers.Dense` instead.\n",
      "  value_layer = tf.layers.dense(\n",
      "/Users/geyingli/Library/Python/3.8/lib/python/site-packages/uf-2.4.5-py3.8.egg/uf/model/bert.py:416: UserWarning: `tf.layers.dense` is deprecated and will be removed in a future version. Please use `tf.keras.layers.Dense` instead.\n",
      "  attention_output = tf.layers.dense(\n",
      "/Users/geyingli/Library/Python/3.8/lib/python/site-packages/uf-2.4.5-py3.8.egg/uf/model/bert.py:428: UserWarning: `tf.layers.dense` is deprecated and will be removed in a future version. Please use `tf.keras.layers.Dense` instead.\n",
      "  intermediate_output = tf.layers.dense(\n",
      "/Users/geyingli/Library/Python/3.8/lib/python/site-packages/uf-2.4.5-py3.8.egg/uf/model/bert.py:438: UserWarning: `tf.layers.dense` is deprecated and will be removed in a future version. Please use `tf.keras.layers.Dense` instead.\n",
      "  layer_output = tf.layers.dense(\n"
     ]
    },
    {
     "name": "stdout",
     "output_type": "stream",
     "text": [
      "WARNING:tensorflow:From /Users/geyingli/Library/Python/3.8/lib/python/site-packages/uf-2.4.5-py3.8.egg/uf/model/crf.py:262: dynamic_rnn (from tensorflow.python.ops.rnn) is deprecated and will be removed in a future version.\n",
      "Instructions for updating:\n",
      "Please use `keras.layers.RNN(cell)`, which is equivalent to this API\n"
     ]
    },
    {
     "name": "stderr",
     "output_type": "stream",
     "text": [
      "/Users/geyingli/Library/Python/3.8/lib/python/site-packages/uf-2.4.5-py3.8.egg/uf/model/bert.py:107: UserWarning: `tf.layers.dense` is deprecated and will be removed in a future version. Please use `tf.keras.layers.Dense` instead.\n",
      "  self.pooled_output = tf.layers.dense(\n"
     ]
    },
    {
     "name": "stdout",
     "output_type": "stream",
     "text": [
      "INFO:tensorflow:Build graph with 305,633,370 parameters (among which 102,271,518 are trainable)\n",
      "INFO:tensorflow:Running local_init_op\n",
      "INFO:tensorflow:Done running local_init_op\n",
      "INFO:tensorflow:Running training on 4 samples (step 0 -> 20)\n",
      "INFO:tensorflow:step 1, f1/token 0.3158, f1/entity 0.0000, loss 14.381049, 0.06 steps/sec, 0.25 examples/sec\n",
      "INFO:tensorflow:step 2, f1/token 0.2500, f1/entity 0.0000, loss 14.440192, 0.17 steps/sec, 0.66 examples/sec\n",
      "INFO:tensorflow:step 3, f1/token 0.0000, f1/entity 0.0000, loss 8.391079, 0.24 steps/sec, 0.94 examples/sec\n",
      "INFO:tensorflow:step 4, f1/token 0.0000, f1/entity 0.0000, loss 7.333472, 0.26 steps/sec, 1.02 examples/sec\n",
      "INFO:tensorflow:step 5, f1/token 0.0000, f1/entity 0.0000, loss 4.052919, 0.24 steps/sec, 0.95 examples/sec\n",
      "INFO:tensorflow:step 6, f1/token 0.7143, f1/entity 0.5714, loss 4.628522, 0.23 steps/sec, 0.91 examples/sec\n",
      "INFO:tensorflow:step 7, f1/token 0.6667, f1/entity 0.6667, loss 2.200587, 0.18 steps/sec, 0.73 examples/sec\n",
      "INFO:tensorflow:step 8, f1/token 0.6667, f1/entity 0.6667, loss 1.414532, 0.25 steps/sec, 0.99 examples/sec\n",
      "INFO:tensorflow:step 9, f1/token 0.6667, f1/entity 0.6667, loss 1.218065, 0.12 steps/sec, 0.49 examples/sec\n",
      "INFO:tensorflow:step 10, f1/token 0.8571, f1/entity 0.8571, loss 0.498782, 0.12 steps/sec, 0.50 examples/sec\n",
      "INFO:tensorflow:step 11, f1/token 1.0000, f1/entity 1.0000, loss 0.275070, 0.12 steps/sec, 0.49 examples/sec\n",
      "INFO:tensorflow:step 12, f1/token 1.0000, f1/entity 1.0000, loss 0.094121, 0.11 steps/sec, 0.42 examples/sec\n",
      "INFO:tensorflow:step 13, f1/token 1.0000, f1/entity 1.0000, loss 0.062018, 0.12 steps/sec, 0.48 examples/sec\n",
      "INFO:tensorflow:step 14, f1/token 1.0000, f1/entity 1.0000, loss 0.035608, 0.10 steps/sec, 0.42 examples/sec\n",
      "INFO:tensorflow:step 15, f1/token 1.0000, f1/entity 1.0000, loss 0.022326, 0.08 steps/sec, 0.32 examples/sec\n",
      "INFO:tensorflow:step 16, f1/token 1.0000, f1/entity 1.0000, loss 0.012087, 0.04 steps/sec, 0.17 examples/sec\n",
      "INFO:tensorflow:step 17, f1/token 1.0000, f1/entity 1.0000, loss 0.009276, 0.06 steps/sec, 0.24 examples/sec\n",
      "INFO:tensorflow:step 18, f1/token 1.0000, f1/entity 1.0000, loss 0.007471, 0.08 steps/sec, 0.32 examples/sec\n",
      "INFO:tensorflow:step 19, f1/token 1.0000, f1/entity 1.0000, loss 0.005259, 0.10 steps/sec, 0.41 examples/sec\n",
      "INFO:tensorflow:step 20, f1/token 1.0000, f1/entity 1.0000, loss 0.006360, 0.16 steps/sec, 0.62 examples/sec\n"
     ]
    }
   ],
   "source": [
    "model.fit(X, y, total_steps=20)"
   ]
  },
  {
   "cell_type": "markdown",
   "id": "fallen-hundred",
   "metadata": {},
   "source": [
    "# 推理"
   ]
  },
  {
   "cell_type": "code",
   "execution_count": 5,
   "id": "opposite-pantyhose",
   "metadata": {},
   "outputs": [
    {
     "name": "stdout",
     "output_type": "stream",
     "text": [
      "INFO:tensorflow:Time usage 0m-7.88s, 0.13 steps/sec, 0.51 examples/sec\n"
     ]
    },
    {
     "data": {
      "text/plain": [
       "{'preds': [['天亮'], [], ['迎接'], ['更好', '明天']],\n",
       " 'logits': array([[[ 8.475764  , -3.4010968 , -1.7952203 , -2.6759298 ,\n",
       "          -1.8870927 ],\n",
       "         [-3.030315  ,  7.323574  , -0.5948998 , -0.90492356,\n",
       "          -1.0890285 ],\n",
       "         [-3.462471  , -1.7663251 , -0.8510907 ,  8.433906  ,\n",
       "          -1.0949423 ],\n",
       "         ...,\n",
       "         [ 6.6707625 , -3.7112622 , -2.048842  , -0.6287323 ,\n",
       "          -1.7878537 ],\n",
       "         [ 6.754945  , -3.1891217 , -2.0627413 , -0.7726625 ,\n",
       "          -2.049719  ],\n",
       "         [ 7.364684  , -2.926898  , -2.2258935 , -0.867133  ,\n",
       "          -1.7494807 ]],\n",
       " \n",
       "        [[ 8.612733  , -3.6668146 , -1.5225583 , -2.610674  ,\n",
       "          -1.6328515 ],\n",
       "         [ 7.8988943 , -1.2946416 , -1.514938  , -4.1097445 ,\n",
       "          -1.5951837 ],\n",
       "         [ 7.691001  , -2.4135616 , -1.3252506 , -0.49521264,\n",
       "          -2.2160769 ],\n",
       "         ...,\n",
       "         [ 7.351434  , -4.0875816 , -1.7465463 , -1.0532368 ,\n",
       "          -1.5752393 ],\n",
       "         [ 7.435173  , -3.6794853 , -1.7859104 , -1.195853  ,\n",
       "          -1.8016099 ],\n",
       "         [ 7.8812146 , -3.4541028 , -1.8391272 , -1.2447453 ,\n",
       "          -1.5514778 ]],\n",
       " \n",
       "        [[ 8.441521  , -3.3441978 , -1.8250879 , -2.6021447 ,\n",
       "          -2.0564294 ],\n",
       "         [ 7.6957183 , -0.5255227 , -1.6164876 , -4.449874  ,\n",
       "          -1.7390012 ],\n",
       "         [-2.3262603 ,  7.7221146 , -0.19928451, -1.7534857 ,\n",
       "          -1.1451961 ],\n",
       "         ...,\n",
       "         [ 6.4852905 , -3.5749178 , -2.1232724 , -0.44096428,\n",
       "          -1.9814228 ],\n",
       "         [ 6.5992336 , -3.0233746 , -2.1318424 , -0.62325585,\n",
       "          -2.2328384 ],\n",
       "         [ 7.201199  , -2.7509892 , -2.238957  , -0.67821234,\n",
       "          -1.9533322 ]],\n",
       " \n",
       "        [[ 7.989194  , -2.9015417 , -2.1061664 , -2.554828  ,\n",
       "          -2.2884905 ],\n",
       "         [-1.8821203 ,  7.9059467 , -0.45418736, -3.2262032 ,\n",
       "          -1.3622545 ],\n",
       "         [-3.6735964 , -1.247033  , -1.4328896 ,  8.29922   ,\n",
       "          -1.5809673 ],\n",
       "         ...,\n",
       "         [ 5.2766232 , -3.0125937 , -2.3311481 ,  0.27967018,\n",
       "          -2.2543054 ],\n",
       "         [ 5.2173514 , -2.2907538 , -2.3381016 ,  0.12990293,\n",
       "          -2.4664786 ],\n",
       "         [ 6.0609093 , -2.104664  , -2.5740204 , -0.00939261,\n",
       "          -2.1637146 ]]], dtype=float32)}"
      ]
     },
     "execution_count": 5,
     "metadata": {},
     "output_type": "execute_result"
    }
   ],
   "source": [
    "model.predict(X)"
   ]
  },
  {
   "cell_type": "markdown",
   "id": "fundamental-poverty",
   "metadata": {},
   "source": [
    "# 评分"
   ]
  },
  {
   "cell_type": "code",
   "execution_count": 6,
   "id": "accessory-lesbian",
   "metadata": {},
   "outputs": [
    {
     "name": "stdout",
     "output_type": "stream",
     "text": [
      "INFO:tensorflow:Time usage 0m-3.53s, 0.28 steps/sec, 1.13 examples/sec\n"
     ]
    },
    {
     "data": {
      "text/plain": [
       "{'f1/token': 0.9999993750002658,\n",
       " 'f1/entity': 0.9999992500003125,\n",
       " 'loss': 0.0023956299}"
      ]
     },
     "execution_count": 6,
     "metadata": {},
     "output_type": "execute_result"
    }
   ],
   "source": [
    "model.score(X, y)"
   ]
  }
 ],
 "metadata": {
  "kernelspec": {
   "display_name": "Python 3",
   "language": "python",
   "name": "python3"
  },
  "language_info": {
   "codemirror_mode": {
    "name": "ipython",
    "version": 3
   },
   "file_extension": ".py",
   "mimetype": "text/x-python",
   "name": "python",
   "nbconvert_exporter": "python",
   "pygments_lexer": "ipython3",
   "version": "3.8.2"
  }
 },
 "nbformat": 4,
 "nbformat_minor": 5
}
