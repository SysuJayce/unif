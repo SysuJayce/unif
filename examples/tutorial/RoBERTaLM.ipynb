{
 "cells": [
  {
   "cell_type": "code",
   "execution_count": 1,
   "id": "rotary-academy",
   "metadata": {},
   "outputs": [
    {
     "name": "stdout",
     "output_type": "stream",
     "text": [
      "v2.3.2\n"
     ]
    }
   ],
   "source": [
    "import uf\n",
    "\n",
    "print(uf.__version__)"
   ]
  },
  {
   "cell_type": "code",
   "execution_count": 2,
   "id": "velvet-symbol",
   "metadata": {},
   "outputs": [
    {
     "name": "stdout",
     "output_type": "stream",
     "text": [
      "uf.RoBERTaLM(config_file=\"../../demo/bert_config.json\", vocab_file=\"../../demo/vocab.txt\", max_seq_length=128, init_checkpoint=None, output_dir=None, gpu_ids=None, drop_pooler=False, max_predictions_per_seq=20, masked_lm_prob=0.15, do_whole_word_mask=True, do_lower_case=True, truncate_method=\"LIFO\")\n"
     ]
    }
   ],
   "source": [
    "model = uf.RoBERTaLM('../../demo/bert_config.json', '../../demo/vocab.txt')\n",
    "print(model)"
   ]
  },
  {
   "cell_type": "code",
   "execution_count": 3,
   "id": "drawn-breathing",
   "metadata": {},
   "outputs": [],
   "source": [
    "X = ['天亮以前说再见, 笑着泪流满面, 去迎接应该你的, 更好的明天', \n",
    "     '他想知道那是谁, 为何总沉默寡言, 人群中也算抢眼, 抢眼的孤独难免']"
   ]
  },
  {
   "cell_type": "markdown",
   "id": "vanilla-fault",
   "metadata": {},
   "source": [
    "# 训练"
   ]
  },
  {
   "cell_type": "code",
   "execution_count": 4,
   "id": "excellent-religion",
   "metadata": {},
   "outputs": [
    {
     "name": "stdout",
     "output_type": "stream",
     "text": [
      "WARNING:tensorflow:From /Users/geyingli/Library/Python/3.8/lib/python/site-packages/tensorflow/python/util/dispatch.py:1096: calling dropout (from tensorflow.python.ops.nn_ops) with keep_prob is deprecated and will be removed in a future version.\n",
      "Instructions for updating:\n",
      "Please use `rate` instead of `keep_prob`. Rate should be set to `rate = 1 - keep_prob`.\n"
     ]
    },
    {
     "name": "stderr",
     "output_type": "stream",
     "text": [
      "/Users/geyingli/Library/Python/3.8/lib/python/site-packages/uf-2.3.2-py3.8.egg/uf/modeling/bert.py:282: UserWarning: `tf.layers.dense` is deprecated and will be removed in a future version. Please use `tf.keras.layers.Dense` instead.\n",
      "  query_layer = tf.layers.dense(\n",
      "/Users/geyingli/Library/Python/3.8/lib/python/site-packages/keras/legacy_tf_layers/core.py:255: UserWarning: `layer.apply` is deprecated and will be removed in a future version. Please use `layer.__call__` method instead.\n",
      "  return layer.apply(inputs)\n",
      "/Users/geyingli/Library/Python/3.8/lib/python/site-packages/uf-2.3.2-py3.8.egg/uf/modeling/bert.py:291: UserWarning: `tf.layers.dense` is deprecated and will be removed in a future version. Please use `tf.keras.layers.Dense` instead.\n",
      "  key_layer = tf.layers.dense(\n",
      "/Users/geyingli/Library/Python/3.8/lib/python/site-packages/uf-2.3.2-py3.8.egg/uf/modeling/bert.py:300: UserWarning: `tf.layers.dense` is deprecated and will be removed in a future version. Please use `tf.keras.layers.Dense` instead.\n",
      "  value_layer = tf.layers.dense(\n",
      "/Users/geyingli/Library/Python/3.8/lib/python/site-packages/uf-2.3.2-py3.8.egg/uf/modeling/bert.py:430: UserWarning: `tf.layers.dense` is deprecated and will be removed in a future version. Please use `tf.keras.layers.Dense` instead.\n",
      "  attention_output = tf.layers.dense(\n",
      "/Users/geyingli/Library/Python/3.8/lib/python/site-packages/uf-2.3.2-py3.8.egg/uf/modeling/bert.py:445: UserWarning: `tf.layers.dense` is deprecated and will be removed in a future version. Please use `tf.keras.layers.Dense` instead.\n",
      "  intermediate_output = tf.layers.dense(\n",
      "/Users/geyingli/Library/Python/3.8/lib/python/site-packages/uf-2.3.2-py3.8.egg/uf/modeling/bert.py:455: UserWarning: `tf.layers.dense` is deprecated and will be removed in a future version. Please use `tf.keras.layers.Dense` instead.\n",
      "  layer_output = tf.layers.dense(\n",
      "/Users/geyingli/Library/Python/3.8/lib/python/site-packages/uf-2.3.2-py3.8.egg/uf/modeling/bert.py:107: UserWarning: `tf.layers.dense` is deprecated and will be removed in a future version. Please use `tf.keras.layers.Dense` instead.\n",
      "  self.pooled_output = tf.layers.dense(\n",
      "/Users/geyingli/Library/Python/3.8/lib/python/site-packages/uf-2.3.2-py3.8.egg/uf/modeling/bert.py:522: UserWarning: `tf.layers.dense` is deprecated and will be removed in a future version. Please use `tf.keras.layers.Dense` instead.\n",
      "  input_tensor = tf.layers.dense(\n"
     ]
    },
    {
     "name": "stdout",
     "output_type": "stream",
     "text": [
      "INFO:tensorflow:Build graph with 307,461,528 parameters (among which 102,880,904 are trainable)\n",
      "INFO:tensorflow:Running local_init_op\n",
      "INFO:tensorflow:Done running local_init_op\n",
      "INFO:tensorflow:Running training on 2 samples (step 0 -> 20)\n",
      "INFO:tensorflow:step 1, MLM accuracy 0.0000, MLM loss 2.275275, 0.03 steps/sec, 0.06 examples/sec\n",
      "INFO:tensorflow:step 2, MLM accuracy 0.3333, MLM loss 1.873935, 0.16 steps/sec, 0.31 examples/sec\n",
      "INFO:tensorflow:step 3, MLM accuracy 0.8889, MLM loss 1.594346, 0.17 steps/sec, 0.35 examples/sec\n",
      "INFO:tensorflow:step 4, MLM accuracy 1.0000, MLM loss 1.401665, 0.22 steps/sec, 0.44 examples/sec\n",
      "INFO:tensorflow:step 5, MLM accuracy 1.0000, MLM loss 1.175635, 0.20 steps/sec, 0.41 examples/sec\n",
      "INFO:tensorflow:step 6, MLM accuracy 1.0000, MLM loss 0.990247, 0.09 steps/sec, 0.18 examples/sec\n",
      "INFO:tensorflow:step 7, MLM accuracy 1.0000, MLM loss 0.844772, 0.06 steps/sec, 0.12 examples/sec\n",
      "INFO:tensorflow:step 8, MLM accuracy 1.0000, MLM loss 0.725139, 0.06 steps/sec, 0.12 examples/sec\n",
      "INFO:tensorflow:step 9, MLM accuracy 1.0000, MLM loss 0.627537, 0.08 steps/sec, 0.16 examples/sec\n",
      "INFO:tensorflow:step 10, MLM accuracy 1.0000, MLM loss 0.538521, 0.07 steps/sec, 0.14 examples/sec\n",
      "INFO:tensorflow:step 11, MLM accuracy 1.0000, MLM loss 0.471772, 0.11 steps/sec, 0.22 examples/sec\n",
      "INFO:tensorflow:step 12, MLM accuracy 1.0000, MLM loss 0.420698, 0.30 steps/sec, 0.61 examples/sec\n",
      "INFO:tensorflow:step 13, MLM accuracy 1.0000, MLM loss 0.369980, 0.28 steps/sec, 0.56 examples/sec\n",
      "INFO:tensorflow:step 14, MLM accuracy 1.0000, MLM loss 0.328896, 0.32 steps/sec, 0.64 examples/sec\n",
      "INFO:tensorflow:step 15, MLM accuracy 1.0000, MLM loss 0.294030, 0.30 steps/sec, 0.60 examples/sec\n",
      "INFO:tensorflow:step 16, MLM accuracy 1.0000, MLM loss 0.260791, 0.32 steps/sec, 0.64 examples/sec\n",
      "INFO:tensorflow:step 17, MLM accuracy 1.0000, MLM loss 0.250686, 0.36 steps/sec, 0.72 examples/sec\n",
      "INFO:tensorflow:step 18, MLM accuracy 1.0000, MLM loss 0.234834, 0.33 steps/sec, 0.67 examples/sec\n",
      "INFO:tensorflow:step 19, MLM accuracy 1.0000, MLM loss 0.216019, 0.37 steps/sec, 0.74 examples/sec\n",
      "INFO:tensorflow:step 20, MLM accuracy 1.0000, MLM loss 0.201940, 0.51 steps/sec, 1.03 examples/sec\n"
     ]
    }
   ],
   "source": [
    "model.fit(X, total_steps=20)"
   ]
  },
  {
   "cell_type": "markdown",
   "id": "fallen-hundred",
   "metadata": {},
   "source": [
    "# 推理"
   ]
  },
  {
   "cell_type": "code",
   "execution_count": 5,
   "id": "opposite-pantyhose",
   "metadata": {},
   "outputs": [
    {
     "name": "stdout",
     "output_type": "stream",
     "text": [
      "INFO:tensorflow:Time usage 0m-1.58s, 0.63 steps/sec, 0.63 examples/sec\n"
     ]
    },
    {
     "data": {
      "text/plain": [
       "{'mlm_preds': [['着']]}"
      ]
     },
     "execution_count": 5,
     "metadata": {},
     "output_type": "execute_result"
    }
   ],
   "source": [
    "X_tokenized = [['天', '亮', '以', '[MASK]', '说', '再', '见']]    # 可以手动赋予Mask\n",
    "model.predict(X_tokenized=X_tokenized)"
   ]
  }
 ],
 "metadata": {
  "kernelspec": {
   "display_name": "Python 3",
   "language": "python",
   "name": "python3"
  },
  "language_info": {
   "codemirror_mode": {
    "name": "ipython",
    "version": 3
   },
   "file_extension": ".py",
   "mimetype": "text/x-python",
   "name": "python",
   "nbconvert_exporter": "python",
   "pygments_lexer": "ipython3",
   "version": "3.8.2"
  }
 },
 "nbformat": 4,
 "nbformat_minor": 5
}
