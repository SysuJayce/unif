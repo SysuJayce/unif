{
 "cells": [
  {
   "cell_type": "markdown",
   "id": "invalid-animation",
   "metadata": {},
   "source": [
    "# BiRNNClassifier\n",
    "\n",
    "可用的中文预训练参数：暂无"
   ]
  },
  {
   "cell_type": "code",
   "execution_count": 1,
   "id": "impossible-professor",
   "metadata": {},
   "outputs": [
    {
     "name": "stdout",
     "output_type": "stream",
     "text": [
      "v2.5.7\n"
     ]
    }
   ],
   "source": [
    "import uf\n",
    "\n",
    "print(uf.__version__)"
   ]
  },
  {
   "cell_type": "code",
   "execution_count": 2,
   "id": "minimal-cambodia",
   "metadata": {},
   "outputs": [
    {
     "name": "stdout",
     "output_type": "stream",
     "text": [
      "uf.BiRNNClassifier(\n",
      "    vocab_file=\"../../ref/vocab.txt\",\n",
      "    max_seq_length=128,\n",
      "    label_size=None,\n",
      "    init_checkpoint=None,\n",
      "    output_dir=None,\n",
      "    gpu_ids=None,\n",
      "    rnn_core=\"lstm\",\n",
      "    hidden_size=256,\n",
      "    do_lower_case=True,\n",
      "    truncate_method=\"LIFO\",\n",
      ")\n"
     ]
    }
   ],
   "source": [
    "model = uf.BiRNNClassifier(\"../../ref/vocab.txt\")\n",
    "print(model)"
   ]
  },
  {
   "cell_type": "code",
   "execution_count": 3,
   "id": "forty-marathon",
   "metadata": {},
   "outputs": [],
   "source": [
    "X = [\"天亮以前说再见\", \"笑着泪流满面\", \"去迎接应该你的\", \"更好的明天\"]\n",
    "y = [1, 0, 2, 0]"
   ]
  },
  {
   "cell_type": "markdown",
   "id": "looking-attempt",
   "metadata": {},
   "source": [
    "# 训练"
   ]
  },
  {
   "cell_type": "code",
   "execution_count": 4,
   "id": "sharing-macintosh",
   "metadata": {},
   "outputs": [
    {
     "name": "stdout",
     "output_type": "stream",
     "text": [
      "WARNING:tensorflow:From /Users/geyingli/Library/Python/3.8/lib/python/site-packages/uf-2.5.7-py3.8.egg/uf/apps/rnn/bi_rnn.py:62: bidirectional_dynamic_rnn (from tensorflow.python.ops.rnn) is deprecated and will be removed in a future version.\n",
      "Instructions for updating:\n",
      "Please use `keras.layers.Bidirectional(keras.layers.RNN(cell))`, which is equivalent to this API\n",
      "WARNING:tensorflow:From /Users/geyingli/Library/Python/3.8/lib/python/site-packages/tensorflow/python/ops/rnn.py:437: dynamic_rnn (from tensorflow.python.ops.rnn) is deprecated and will be removed in a future version.\n",
      "Instructions for updating:\n",
      "Please use `keras.layers.RNN(cell)`, which is equivalent to this API\n"
     ]
    },
    {
     "name": "stderr",
     "output_type": "stream",
     "text": [
      "/Users/geyingli/Library/Python/3.8/lib/python/site-packages/tensorflow/python/keras/layers/legacy_rnn/rnn_cell_impl.py:913: UserWarning: `tf.nn.rnn_cell.LSTMCell` is deprecated and will be removed in a future version. This class is equivalent as `tf.keras.layers.LSTMCell`, and will be replaced by that in Tensorflow 2.0.\n",
      "  warnings.warn(\"`tf.nn.rnn_cell.LSTMCell` is deprecated and will be \"\n"
     ]
    },
    {
     "name": "stdout",
     "output_type": "stream",
     "text": [
      "WARNING:tensorflow:From /Users/geyingli/Library/Python/3.8/lib/python/site-packages/tensorflow/python/keras/layers/legacy_rnn/rnn_cell_impl.py:991: calling Zeros.__init__ (from tensorflow.python.ops.init_ops) with dtype is deprecated and will be removed in a future version.\n",
      "Instructions for updating:\n",
      "Call initializer instance with the dtype argument instead of passing it to the constructor\n"
     ]
    },
    {
     "name": "stderr",
     "output_type": "stream",
     "text": [
      "/Users/geyingli/Library/Python/3.8/lib/python/site-packages/tensorflow/python/keras/engine/base_layer_v1.py:1702: UserWarning: `layer.add_variable` is deprecated and will be removed in a future version. Please use `layer.add_weight` method instead.\n",
      "  warnings.warn('`layer.add_variable` is deprecated and '\n"
     ]
    },
    {
     "name": "stdout",
     "output_type": "stream",
     "text": [
      "INFO:tensorflow:Build graph with 17,411,337 parameters (among which 5,803,779 are trainable)\n",
      "INFO:tensorflow:Running local_init_op\n",
      "INFO:tensorflow:Done running local_init_op\n",
      "INFO:tensorflow:Running training on 4 samples (step 0 -> 20)\n",
      "INFO:tensorflow:step 1, accuracy 0.5000, loss 1.098352, 0.30 steps/sec, 1.20 examples/sec\n",
      "INFO:tensorflow:step 3, accuracy 0.5000, loss 1.082639, 10.19 steps/sec, 40.74 examples/sec\n",
      "INFO:tensorflow:step 4, accuracy 0.5000, loss 1.008311, 9.58 steps/sec, 38.33 examples/sec\n",
      "INFO:tensorflow:step 5, accuracy 0.7500, loss 0.776666, 9.06 steps/sec, 36.24 examples/sec\n",
      "INFO:tensorflow:step 6, accuracy 0.7500, loss 0.417401, 8.96 steps/sec, 35.84 examples/sec\n",
      "INFO:tensorflow:step 7, accuracy 1.0000, loss 0.158396, 9.39 steps/sec, 37.56 examples/sec\n",
      "INFO:tensorflow:step 8, accuracy 1.0000, loss 0.049079, 9.06 steps/sec, 36.23 examples/sec\n",
      "INFO:tensorflow:step 9, accuracy 1.0000, loss 0.023863, 8.93 steps/sec, 35.74 examples/sec\n",
      "INFO:tensorflow:step 10, accuracy 1.0000, loss 0.010983, 9.85 steps/sec, 39.40 examples/sec\n",
      "INFO:tensorflow:step 11, accuracy 1.0000, loss 0.003189, 8.98 steps/sec, 35.91 examples/sec\n",
      "INFO:tensorflow:step 12, accuracy 1.0000, loss 0.002065, 7.50 steps/sec, 30.01 examples/sec\n",
      "INFO:tensorflow:step 13, accuracy 1.0000, loss 0.000976, 8.59 steps/sec, 34.35 examples/sec\n",
      "INFO:tensorflow:step 14, accuracy 1.0000, loss 0.000854, 9.60 steps/sec, 38.40 examples/sec\n",
      "INFO:tensorflow:step 15, accuracy 1.0000, loss 0.000694, 8.42 steps/sec, 33.68 examples/sec\n",
      "INFO:tensorflow:step 16, accuracy 1.0000, loss 0.000418, 9.28 steps/sec, 37.12 examples/sec\n",
      "INFO:tensorflow:step 17, accuracy 1.0000, loss 0.000455, 9.58 steps/sec, 38.33 examples/sec\n",
      "INFO:tensorflow:step 18, accuracy 1.0000, loss 0.000272, 9.79 steps/sec, 39.18 examples/sec\n",
      "INFO:tensorflow:step 19, accuracy 1.0000, loss 0.000290, 9.12 steps/sec, 36.47 examples/sec\n",
      "INFO:tensorflow:step 20, accuracy 1.0000, loss 0.000155, 8.87 steps/sec, 35.47 examples/sec\n"
     ]
    }
   ],
   "source": [
    "model.fit(X, y, total_steps=20, learning_rate=0.01)     # 模型较小，可以适当提高学习率"
   ]
  },
  {
   "cell_type": "markdown",
   "id": "studied-mechanism",
   "metadata": {},
   "source": [
    "# 推理"
   ]
  },
  {
   "cell_type": "code",
   "execution_count": 5,
   "id": "funky-diversity",
   "metadata": {},
   "outputs": [
    {
     "name": "stdout",
     "output_type": "stream",
     "text": [
      "INFO:tensorflow:Running inference on 4 samples\n",
      "INFO:tensorflow:process 100.0%, 4.58 examples/sec\n"
     ]
    },
    {
     "data": {
      "text/plain": [
       "{'preds': [1, 0, 2, 0],\n",
       " 'probs': array([[1.4840894e-04, 9.9963140e-01, 2.2018615e-04],\n",
       "        [9.9996042e-01, 2.0792077e-05, 1.8866767e-05],\n",
       "        [2.8489335e-04, 8.6703156e-05, 9.9962842e-01],\n",
       "        [9.9990904e-01, 7.0190334e-05, 2.0778738e-05]], dtype=float32)}"
      ]
     },
     "execution_count": 5,
     "metadata": {},
     "output_type": "execute_result"
    }
   ],
   "source": [
    "model.predict(X)"
   ]
  },
  {
   "cell_type": "markdown",
   "id": "every-professor",
   "metadata": {},
   "source": [
    "# 评分"
   ]
  },
  {
   "cell_type": "code",
   "execution_count": 6,
   "id": "great-alpha",
   "metadata": {},
   "outputs": [
    {
     "name": "stdout",
     "output_type": "stream",
     "text": [
      "INFO:tensorflow:Running scoring on 4 samples\n",
      "INFO:tensorflow:process 100.0%, 6.88 examples/sec\n"
     ]
    },
    {
     "data": {
      "text/plain": [
       "{'accuracy': 1.0, 'loss': 0.00021770028}"
      ]
     },
     "execution_count": 6,
     "metadata": {},
     "output_type": "execute_result"
    }
   ],
   "source": [
    "model.score(X, y)"
   ]
  }
 ],
 "metadata": {
  "kernelspec": {
   "display_name": "Python 3.9.13 64-bit",
   "language": "python",
   "name": "python3"
  },
  "language_info": {
   "codemirror_mode": {
    "name": "ipython",
    "version": 3
   },
   "file_extension": ".py",
   "mimetype": "text/x-python",
   "name": "python",
   "nbconvert_exporter": "python",
   "pygments_lexer": "ipython3",
   "version": "3.8.2"
  },
  "vscode": {
   "interpreter": {
    "hash": "265fd6f62f200408acbbeae0248f34bed9f93569a643842b7a25d2cd76cae5e5"
   }
  }
 },
 "nbformat": 4,
 "nbformat_minor": 5
}
