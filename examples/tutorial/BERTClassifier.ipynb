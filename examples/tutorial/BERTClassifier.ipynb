{
 "cells": [
  {
   "cell_type": "markdown",
   "id": "bigger-internet",
   "metadata": {},
   "source": [
    "# BERTClassifier\n",
    "\n",
    "可用的中文预训练参数：[`bert-base`](https://storage.googleapis.com/bert_models/2018_11_03/chinese_L-12_H-768_A-12.zip),[`roberta-wwm-ext-base`](https://drive.google.com/uc?export=download&id=1jMAKIJmPn7kADgD3yQZhpsqM-IRM1qZt),[`roberta-wwm-ext-large`](https://drive.google.com/uc?export=download&id=1dtad0FFzG11CBsawu8hvwwzU2R0FDI94),[`macbert-base`](https://drive.google.com/uc?export=download&id=1aV69OhYzIwj_hn-kO1RiBa-m8QAusQ5b),[`macbert-large`](https://drive.google.com/uc?export=download&id=1lWYxnk1EqTA2Q20_IShxBrCPc5VSDCkT)"
   ]
  },
  {
   "cell_type": "code",
   "execution_count": 1,
   "id": "impossible-professor",
   "metadata": {},
   "outputs": [
    {
     "name": "stdout",
     "output_type": "stream",
     "text": [
      "v2.5.2\n"
     ]
    }
   ],
   "source": [
    "import uf\n",
    "\n",
    "print(uf.__version__)"
   ]
  },
  {
   "cell_type": "code",
   "execution_count": 2,
   "id": "minimal-cambodia",
   "metadata": {},
   "outputs": [
    {
     "name": "stdout",
     "output_type": "stream",
     "text": [
      "uf.BERTClassifier(\n",
      "    config_file=\"../../ref/bert_config.json\",\n",
      "    vocab_file=\"../../ref/vocab.txt\",\n",
      "    max_seq_length=128,\n",
      "    label_size=None,\n",
      "    init_checkpoint=None,\n",
      "    output_dir=None,\n",
      "    gpu_ids=None,\n",
      "    drop_pooler=False,\n",
      "    do_lower_case=True,\n",
      "    truncate_method=\"LIFO\",\n",
      ")\n"
     ]
    }
   ],
   "source": [
    "model = uf.BERTClassifier(\"../../ref/bert_config.json\", \"../../ref/vocab.txt\")\n",
    "print(model)"
   ]
  },
  {
   "cell_type": "code",
   "execution_count": 3,
   "id": "forty-marathon",
   "metadata": {},
   "outputs": [],
   "source": [
    "X = [\"天亮以前说再见\", \"笑着泪流满面\", \"去迎接应该你的\", \"更好的明天\"]\n",
    "y = [1, 0, 2, 0]"
   ]
  },
  {
   "cell_type": "markdown",
   "id": "looking-attempt",
   "metadata": {},
   "source": [
    "# 训练"
   ]
  },
  {
   "cell_type": "code",
   "execution_count": 4,
   "id": "sharing-macintosh",
   "metadata": {},
   "outputs": [
    {
     "name": "stderr",
     "output_type": "stream",
     "text": [
      "/Users/geyingli/Library/Python/3.8/lib/python/site-packages/uf-2.5.2-py3.8.egg/uf/apps/bert/bert.py:274: UserWarning: `tf.layers.dense` is deprecated and will be removed in a future version. Please use `tf.keras.layers.Dense` instead.\n",
      "  query_layer = tf.layers.dense(\n",
      "/Users/geyingli/Library/Python/3.8/lib/python/site-packages/uf-2.5.2-py3.8.egg/uf/apps/bert/bert.py:284: UserWarning: `tf.layers.dense` is deprecated and will be removed in a future version. Please use `tf.keras.layers.Dense` instead.\n",
      "  key_layer = tf.layers.dense(\n",
      "/Users/geyingli/Library/Python/3.8/lib/python/site-packages/uf-2.5.2-py3.8.egg/uf/apps/bert/bert.py:294: UserWarning: `tf.layers.dense` is deprecated and will be removed in a future version. Please use `tf.keras.layers.Dense` instead.\n",
      "  value_layer = tf.layers.dense(\n",
      "/Users/geyingli/Library/Python/3.8/lib/python/site-packages/uf-2.5.2-py3.8.egg/uf/apps/bert/bert.py:418: UserWarning: `tf.layers.dense` is deprecated and will be removed in a future version. Please use `tf.keras.layers.Dense` instead.\n",
      "  attention_output = tf.layers.dense(\n",
      "/Users/geyingli/Library/Python/3.8/lib/python/site-packages/uf-2.5.2-py3.8.egg/uf/apps/bert/bert.py:430: UserWarning: `tf.layers.dense` is deprecated and will be removed in a future version. Please use `tf.keras.layers.Dense` instead.\n",
      "  intermediate_output = tf.layers.dense(\n",
      "/Users/geyingli/Library/Python/3.8/lib/python/site-packages/uf-2.5.2-py3.8.egg/uf/apps/bert/bert.py:440: UserWarning: `tf.layers.dense` is deprecated and will be removed in a future version. Please use `tf.keras.layers.Dense` instead.\n",
      "  layer_output = tf.layers.dense(\n",
      "/Users/geyingli/Library/Python/3.8/lib/python/site-packages/uf-2.5.2-py3.8.egg/uf/apps/bert/bert.py:109: UserWarning: `tf.layers.dense` is deprecated and will be removed in a future version. Please use `tf.keras.layers.Dense` instead.\n",
      "  self.pooled_output = tf.layers.dense(\n"
     ]
    },
    {
     "name": "stdout",
     "output_type": "stream",
     "text": [
      "INFO:tensorflow:Build graph with 306,809,865 parameters (among which 102,269,955 are trainable)\n",
      "INFO:tensorflow:Running local_init_op\n",
      "INFO:tensorflow:Done running local_init_op\n",
      "INFO:tensorflow:Running training on 4 samples (step 0 -> 20)\n",
      "INFO:tensorflow:step 1, accuracy 0.2500, loss 1.101257, 0.04 steps/sec, 0.17 examples/sec\n",
      "INFO:tensorflow:step 2, accuracy 0.5000, loss 1.064453, 0.24 steps/sec, 0.95 examples/sec\n",
      "INFO:tensorflow:step 3, accuracy 0.5000, loss 1.049586, 0.25 steps/sec, 1.01 examples/sec\n",
      "INFO:tensorflow:step 4, accuracy 0.5000, loss 0.985698, 0.25 steps/sec, 1.00 examples/sec\n",
      "INFO:tensorflow:step 5, accuracy 0.5000, loss 0.836112, 0.25 steps/sec, 1.00 examples/sec\n",
      "INFO:tensorflow:step 6, accuracy 0.7500, loss 0.809208, 0.25 steps/sec, 0.99 examples/sec\n",
      "INFO:tensorflow:step 7, accuracy 1.0000, loss 0.683716, 0.24 steps/sec, 0.96 examples/sec\n",
      "INFO:tensorflow:step 8, accuracy 1.0000, loss 0.477549, 0.25 steps/sec, 1.01 examples/sec\n",
      "INFO:tensorflow:step 9, accuracy 1.0000, loss 0.356566, 0.25 steps/sec, 0.99 examples/sec\n",
      "INFO:tensorflow:step 10, accuracy 1.0000, loss 0.258821, 0.26 steps/sec, 1.04 examples/sec\n",
      "INFO:tensorflow:step 11, accuracy 1.0000, loss 0.117964, 0.26 steps/sec, 1.03 examples/sec\n",
      "INFO:tensorflow:step 12, accuracy 1.0000, loss 0.077697, 0.25 steps/sec, 1.01 examples/sec\n",
      "INFO:tensorflow:step 13, accuracy 1.0000, loss 0.048422, 0.26 steps/sec, 1.03 examples/sec\n",
      "INFO:tensorflow:step 14, accuracy 1.0000, loss 0.028059, 0.41 steps/sec, 1.63 examples/sec\n",
      "INFO:tensorflow:step 15, accuracy 1.0000, loss 0.022405, 0.40 steps/sec, 1.60 examples/sec\n",
      "INFO:tensorflow:step 16, accuracy 1.0000, loss 0.015756, 0.38 steps/sec, 1.53 examples/sec\n",
      "INFO:tensorflow:step 17, accuracy 1.0000, loss 0.013892, 0.41 steps/sec, 1.63 examples/sec\n",
      "INFO:tensorflow:step 18, accuracy 1.0000, loss 0.011879, 0.42 steps/sec, 1.67 examples/sec\n",
      "INFO:tensorflow:step 19, accuracy 1.0000, loss 0.012593, 0.35 steps/sec, 1.42 examples/sec\n",
      "INFO:tensorflow:step 20, accuracy 1.0000, loss 0.010870, 0.36 steps/sec, 1.46 examples/sec\n"
     ]
    }
   ],
   "source": [
    "model.fit(X, y, total_steps=20)"
   ]
  },
  {
   "cell_type": "markdown",
   "id": "studied-mechanism",
   "metadata": {},
   "source": [
    "# 推理"
   ]
  },
  {
   "cell_type": "code",
   "execution_count": 5,
   "id": "funky-diversity",
   "metadata": {},
   "outputs": [
    {
     "name": "stdout",
     "output_type": "stream",
     "text": [
      "INFO:tensorflow:Running inference on 4 samples\n",
      "INFO:tensorflow:process 100.0%, 2.54 examples/sec\n"
     ]
    },
    {
     "data": {
      "text/plain": [
       "{'preds': [1, 0, 2, 0],\n",
       " 'probs': array([[0.00459637, 0.9899448 , 0.00545884],\n",
       "        [0.99410915, 0.00272076, 0.00317011],\n",
       "        [0.00453982, 0.00484589, 0.9906143 ],\n",
       "        [0.9941347 , 0.00278489, 0.00308049]], dtype=float32)}"
      ]
     },
     "execution_count": 5,
     "metadata": {},
     "output_type": "execute_result"
    }
   ],
   "source": [
    "model.predict(X)"
   ]
  },
  {
   "cell_type": "markdown",
   "id": "every-professor",
   "metadata": {},
   "source": [
    "# 评分"
   ]
  },
  {
   "cell_type": "code",
   "execution_count": 6,
   "id": "great-alpha",
   "metadata": {},
   "outputs": [
    {
     "name": "stdout",
     "output_type": "stream",
     "text": [
      "INFO:tensorflow:Running scoring on 4 samples\n",
      "INFO:tensorflow:process 100.0%, 3.19 examples/sec\n"
     ]
    },
    {
     "data": {
      "text/plain": [
       "{'accuracy': 1.0, 'loss': 0.007831749}"
      ]
     },
     "execution_count": 6,
     "metadata": {},
     "output_type": "execute_result"
    }
   ],
   "source": [
    "model.score(X, y)"
   ]
  }
 ],
 "metadata": {
  "kernelspec": {
   "display_name": "Python 3.9.13 64-bit",
   "language": "python",
   "name": "python3"
  },
  "language_info": {
   "codemirror_mode": {
    "name": "ipython",
    "version": 3
   },
   "file_extension": ".py",
   "mimetype": "text/x-python",
   "name": "python",
   "nbconvert_exporter": "python",
   "pygments_lexer": "ipython3",
   "version": "3.8.2"
  },
  "vscode": {
   "interpreter": {
    "hash": "265fd6f62f200408acbbeae0248f34bed9f93569a643842b7a25d2cd76cae5e5"
   }
  }
 },
 "nbformat": 4,
 "nbformat_minor": 5
}
