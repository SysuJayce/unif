{
 "cells": [
  {
   "cell_type": "markdown",
   "id": "about-assistant",
   "metadata": {},
   "source": [
    "# ALBERTClassifier\n",
    "\n",
    "可用的中文预训练参数：[`albert-tiny`](https://storage.googleapis.com/albert_zh/albert_tiny_zh_google.zip),[`albert-small`](https://storage.googleapis.com/albert_zh/albert_small_zh_google.zip),[`albert-base`](https://storage.googleapis.com/albert_zh/albert_base_zh_additional_36k_steps.zip),[`albert-large`](https://storage.googleapis.com/albert_zh/albert_large_zh.zip),[`albert-xlarge`](https://storage.googleapis.com/albert_zh/albert_xlarge_zh_183k.zip)"
   ]
  },
  {
   "cell_type": "code",
   "execution_count": 1,
   "id": "international-highlight",
   "metadata": {},
   "outputs": [
    {
     "name": "stdout",
     "output_type": "stream",
     "text": [
      "v2.4.5\n"
     ]
    }
   ],
   "source": [
    "import uf\n",
    "\n",
    "print(uf.__version__)"
   ]
  },
  {
   "cell_type": "code",
   "execution_count": 2,
   "id": "behavioral-commander",
   "metadata": {},
   "outputs": [
    {
     "name": "stdout",
     "output_type": "stream",
     "text": [
      "uf.ALBERTClassifier(\n",
      "    config_file=\"../../demo/albert_config.json\",\n",
      "    vocab_file=\"../../demo/vocab.txt\",\n",
      "    max_seq_length=128,\n",
      "    label_size=None,\n",
      "    init_checkpoint=None,\n",
      "    output_dir=None,\n",
      "    gpu_ids=None,\n",
      "    drop_pooler=False,\n",
      "    do_lower_case=True,\n",
      "    truncate_method=\"LIFO\",\n",
      ")\n"
     ]
    }
   ],
   "source": [
    "model = uf.ALBERTClassifier('../../demo/albert_config.json', '../../demo/vocab.txt')\n",
    "print(model)"
   ]
  },
  {
   "cell_type": "code",
   "execution_count": 3,
   "id": "affiliated-medication",
   "metadata": {},
   "outputs": [],
   "source": [
    "X = ['天亮以前说再见', '笑着泪流满面', '去迎接应该你的', '更好的明天']\n",
    "y = [1, 0, 2, 0]"
   ]
  },
  {
   "cell_type": "markdown",
   "id": "interracial-charleston",
   "metadata": {},
   "source": [
    "# 训练"
   ]
  },
  {
   "cell_type": "code",
   "execution_count": 4,
   "id": "stainless-bouquet",
   "metadata": {},
   "outputs": [
    {
     "name": "stdout",
     "output_type": "stream",
     "text": [
      "WARNING:tensorflow:From /Users/geyingli/Library/Python/3.8/lib/python/site-packages/tensorflow/python/util/dispatch.py:1096: calling dropout (from tensorflow.python.ops.nn_ops) with keep_prob is deprecated and will be removed in a future version.\n",
      "Instructions for updating:\n",
      "Please use `rate` instead of `keep_prob`. Rate should be set to `rate = 1 - keep_prob`.\n"
     ]
    },
    {
     "name": "stderr",
     "output_type": "stream",
     "text": [
      "/Users/geyingli/Library/Python/3.8/lib/python/site-packages/uf-2.4.5-py3.8.egg/uf/model/albert.py:131: UserWarning: `tf.layers.dense` is deprecated and will be removed in a future version. Please use `tf.keras.layers.Dense` instead.\n",
      "  self.pooled_output = tf.layers.dense(\n",
      "/Users/geyingli/Library/Python/3.8/lib/python/site-packages/keras/legacy_tf_layers/core.py:255: UserWarning: `layer.apply` is deprecated and will be removed in a future version. Please use `layer.__call__` method instead.\n",
      "  return layer.apply(inputs)\n"
     ]
    },
    {
     "name": "stdout",
     "output_type": "stream",
     "text": [
      "INFO:tensorflow:Build graph with 31,646,217 parameters (among which 10,548,739 are trainable)\n",
      "INFO:tensorflow:Running local_init_op\n",
      "INFO:tensorflow:Done running local_init_op\n",
      "INFO:tensorflow:Running training on 4 samples (step 0 -> 20)\n",
      "INFO:tensorflow:step 1, accuracy 0.2500, loss 1.121029, 0.20 steps/sec, 0.80 examples/sec\n",
      "INFO:tensorflow:step 2, accuracy 0.2500, loss 1.191237, 0.57 steps/sec, 2.27 examples/sec\n",
      "INFO:tensorflow:step 3, accuracy 0.5000, loss 0.987234, 0.56 steps/sec, 2.23 examples/sec\n",
      "INFO:tensorflow:step 4, accuracy 0.5000, loss 0.988474, 0.53 steps/sec, 2.13 examples/sec\n",
      "INFO:tensorflow:step 5, accuracy 0.5000, loss 0.930942, 0.50 steps/sec, 1.99 examples/sec\n",
      "INFO:tensorflow:step 6, accuracy 1.0000, loss 0.809876, 0.52 steps/sec, 2.06 examples/sec\n",
      "INFO:tensorflow:step 7, accuracy 1.0000, loss 0.670788, 0.54 steps/sec, 2.17 examples/sec\n",
      "INFO:tensorflow:step 8, accuracy 1.0000, loss 0.527904, 0.55 steps/sec, 2.22 examples/sec\n",
      "INFO:tensorflow:step 9, accuracy 1.0000, loss 0.329171, 0.53 steps/sec, 2.13 examples/sec\n",
      "INFO:tensorflow:step 10, accuracy 1.0000, loss 0.206573, 0.53 steps/sec, 2.13 examples/sec\n",
      "INFO:tensorflow:step 11, accuracy 1.0000, loss 0.125221, 0.52 steps/sec, 2.09 examples/sec\n",
      "INFO:tensorflow:step 12, accuracy 1.0000, loss 0.083029, 0.53 steps/sec, 2.12 examples/sec\n",
      "INFO:tensorflow:step 13, accuracy 1.0000, loss 0.060515, 0.54 steps/sec, 2.16 examples/sec\n",
      "INFO:tensorflow:step 14, accuracy 1.0000, loss 0.046207, 0.53 steps/sec, 2.10 examples/sec\n",
      "INFO:tensorflow:step 15, accuracy 1.0000, loss 0.038141, 0.55 steps/sec, 2.19 examples/sec\n",
      "INFO:tensorflow:step 16, accuracy 1.0000, loss 0.030569, 0.56 steps/sec, 2.24 examples/sec\n",
      "INFO:tensorflow:step 17, accuracy 1.0000, loss 0.025705, 0.55 steps/sec, 2.21 examples/sec\n",
      "INFO:tensorflow:step 18, accuracy 1.0000, loss 0.022587, 0.55 steps/sec, 2.19 examples/sec\n",
      "INFO:tensorflow:step 19, accuracy 1.0000, loss 0.023124, 0.56 steps/sec, 2.24 examples/sec\n",
      "INFO:tensorflow:step 20, accuracy 1.0000, loss 0.018530, 0.55 steps/sec, 2.21 examples/sec\n"
     ]
    }
   ],
   "source": [
    "model.fit(X, y, total_steps=20)"
   ]
  },
  {
   "cell_type": "markdown",
   "id": "primary-enlargement",
   "metadata": {},
   "source": [
    "# 推理"
   ]
  },
  {
   "cell_type": "code",
   "execution_count": 5,
   "id": "joined-virgin",
   "metadata": {},
   "outputs": [
    {
     "name": "stdout",
     "output_type": "stream",
     "text": [
      "INFO:tensorflow:Time usage 0m-1.32s, 0.76 steps/sec, 3.04 examples/sec\n"
     ]
    },
    {
     "data": {
      "text/plain": [
       "{'preds': [1, 0, 2, 0],\n",
       " 'probs': array([[0.01030156, 0.975112  , 0.01458647],\n",
       "        [0.9876209 , 0.00661301, 0.00576616],\n",
       "        [0.00900647, 0.01547784, 0.9755157 ],\n",
       "        [0.98704976, 0.00831638, 0.00463394]], dtype=float32)}"
      ]
     },
     "execution_count": 5,
     "metadata": {},
     "output_type": "execute_result"
    }
   ],
   "source": [
    "model.predict(X)"
   ]
  },
  {
   "cell_type": "markdown",
   "id": "cellular-valuable",
   "metadata": {},
   "source": [
    "# 评分"
   ]
  },
  {
   "cell_type": "code",
   "execution_count": 6,
   "id": "static-vocabulary",
   "metadata": {},
   "outputs": [
    {
     "name": "stdout",
     "output_type": "stream",
     "text": [
      "INFO:tensorflow:Time usage 0m-1.08s, 0.92 steps/sec, 3.69 examples/sec\n"
     ]
    },
    {
     "data": {
      "text/plain": [
       "{'accuracy': 1.0, 'loss': 0.018870778}"
      ]
     },
     "execution_count": 6,
     "metadata": {},
     "output_type": "execute_result"
    }
   ],
   "source": [
    "model.score(X, y)"
   ]
  }
 ],
 "metadata": {
  "kernelspec": {
   "display_name": "Python 3",
   "language": "python",
   "name": "python3"
  },
  "language_info": {
   "codemirror_mode": {
    "name": "ipython",
    "version": 3
   },
   "file_extension": ".py",
   "mimetype": "text/x-python",
   "name": "python",
   "nbconvert_exporter": "python",
   "pygments_lexer": "ipython3",
   "version": "3.8.2"
  }
 },
 "nbformat": 4,
 "nbformat_minor": 5
}
