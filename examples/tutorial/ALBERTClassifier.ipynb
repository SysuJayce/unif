{
 "cells": [
  {
   "cell_type": "markdown",
   "id": "about-assistant",
   "metadata": {},
   "source": [
    "# ALBERTClassifier\n",
    "\n",
    "可用的中文预训练参数：[`albert-tiny`](https://storage.googleapis.com/albert_zh/albert_tiny_zh_google.zip),[`albert-small`](https://storage.googleapis.com/albert_zh/albert_small_zh_google.zip),[`albert-base`](https://storage.googleapis.com/albert_zh/albert_base_zh_additional_36k_steps.zip),[`albert-large`](https://storage.googleapis.com/albert_zh/albert_large_zh.zip),[`albert-xlarge`](https://storage.googleapis.com/albert_zh/albert_xlarge_zh_183k.zip)"
   ]
  },
  {
   "cell_type": "code",
   "execution_count": 1,
   "id": "international-highlight",
   "metadata": {},
   "outputs": [
    {
     "name": "stdout",
     "output_type": "stream",
     "text": [
      "v2.5.0\n"
     ]
    }
   ],
   "source": [
    "import uf\n",
    "\n",
    "print(uf.__version__)"
   ]
  },
  {
   "cell_type": "code",
   "execution_count": 2,
   "id": "behavioral-commander",
   "metadata": {},
   "outputs": [
    {
     "name": "stdout",
     "output_type": "stream",
     "text": [
      "uf.ALBERTClassifier(\n",
      "    config_file=\"../../ref/albert_config.json\",\n",
      "    vocab_file=\"../../ref/vocab.txt\",\n",
      "    max_seq_length=128,\n",
      "    label_size=None,\n",
      "    init_checkpoint=None,\n",
      "    output_dir=None,\n",
      "    gpu_ids=None,\n",
      "    drop_pooler=False,\n",
      "    do_lower_case=True,\n",
      "    truncate_method=\"LIFO\",\n",
      ")\n"
     ]
    }
   ],
   "source": [
    "model = uf.ALBERTClassifier(\"../../ref/albert_config.json\", \"../../ref/vocab.txt\")\n",
    "print(model)"
   ]
  },
  {
   "cell_type": "code",
   "execution_count": 3,
   "id": "affiliated-medication",
   "metadata": {},
   "outputs": [],
   "source": [
    "X = [\"天亮以前说再见\", \"笑着泪流满面\", \"去迎接应该你的\", \"更好的明天\"]\n",
    "y = [1, 0, 2, 0]"
   ]
  },
  {
   "cell_type": "markdown",
   "id": "interracial-charleston",
   "metadata": {},
   "source": [
    "# 训练"
   ]
  },
  {
   "cell_type": "code",
   "execution_count": 4,
   "id": "stainless-bouquet",
   "metadata": {},
   "outputs": [
    {
     "name": "stdout",
     "output_type": "stream",
     "text": [
      "WARNING:tensorflow:From c:\\Users\\Luv_d\\AppData\\Local\\Programs\\Python\\Python39\\lib\\site-packages\\tensorflow\\python\\util\\dispatch.py:1176: calling dropout (from tensorflow.python.ops.nn_ops) with keep_prob is deprecated and will be removed in a future version.\n",
      "Instructions for updating:\n",
      "Please use `rate` instead of `keep_prob`. Rate should be set to `rate = 1 - keep_prob`.\n"
     ]
    },
    {
     "name": "stderr",
     "output_type": "stream",
     "text": [
      "c:\\Users\\Luv_d\\AppData\\Local\\Programs\\Python\\Python39\\lib\\site-packages\\uf-2.5.0-py3.9.egg\\uf\\apps\\albert\\albert.py:131: UserWarning: `tf.layers.dense` is deprecated and will be removed in a future version. Please use `tf.keras.layers.Dense` instead.\n",
      "  self.pooled_output = tf.layers.dense(\n"
     ]
    },
    {
     "name": "stdout",
     "output_type": "stream",
     "text": [
      "INFO:tensorflow:Build graph with 31,646,217 parameters (among which 10,548,739 are trainable)\n",
      "INFO:tensorflow:Running local_init_op\n",
      "INFO:tensorflow:Done running local_init_op\n",
      "INFO:tensorflow:Running training on 4 samples (step 0 -> 20)\n",
      "INFO:tensorflow:step 1, accuracy 0.5000, loss 1.026413, 0.32 steps/sec, 1.27 examples/sec\n",
      "INFO:tensorflow:step 2, accuracy 0.5000, loss 1.105263, 0.76 steps/sec, 3.04 examples/sec\n",
      "INFO:tensorflow:step 3, accuracy 0.5000, loss 1.029461, 0.79 steps/sec, 3.15 examples/sec\n",
      "INFO:tensorflow:step 4, accuracy 0.5000, loss 0.902264, 0.78 steps/sec, 3.12 examples/sec\n",
      "INFO:tensorflow:step 5, accuracy 0.7500, loss 0.765597, 0.78 steps/sec, 3.13 examples/sec\n",
      "INFO:tensorflow:step 6, accuracy 1.0000, loss 0.651240, 0.76 steps/sec, 3.04 examples/sec\n",
      "INFO:tensorflow:step 7, accuracy 1.0000, loss 0.479129, 0.73 steps/sec, 2.94 examples/sec\n",
      "INFO:tensorflow:step 8, accuracy 1.0000, loss 0.323275, 0.71 steps/sec, 2.84 examples/sec\n",
      "INFO:tensorflow:step 9, accuracy 1.0000, loss 0.203687, 0.72 steps/sec, 2.88 examples/sec\n",
      "INFO:tensorflow:step 10, accuracy 1.0000, loss 0.129234, 0.79 steps/sec, 3.17 examples/sec\n",
      "INFO:tensorflow:step 11, accuracy 1.0000, loss 0.079111, 0.78 steps/sec, 3.13 examples/sec\n",
      "INFO:tensorflow:step 12, accuracy 1.0000, loss 0.064850, 0.74 steps/sec, 2.97 examples/sec\n",
      "INFO:tensorflow:step 13, accuracy 1.0000, loss 0.044204, 0.77 steps/sec, 3.09 examples/sec\n",
      "INFO:tensorflow:step 14, accuracy 1.0000, loss 0.035680, 0.78 steps/sec, 3.11 examples/sec\n",
      "INFO:tensorflow:step 15, accuracy 1.0000, loss 0.026489, 0.73 steps/sec, 2.94 examples/sec\n",
      "INFO:tensorflow:step 16, accuracy 1.0000, loss 0.021627, 0.78 steps/sec, 3.13 examples/sec\n",
      "INFO:tensorflow:step 17, accuracy 1.0000, loss 0.015787, 0.77 steps/sec, 3.10 examples/sec\n",
      "INFO:tensorflow:step 18, accuracy 1.0000, loss 0.016329, 0.74 steps/sec, 2.97 examples/sec\n",
      "INFO:tensorflow:step 19, accuracy 1.0000, loss 0.015839, 0.78 steps/sec, 3.12 examples/sec\n",
      "INFO:tensorflow:step 20, accuracy 1.0000, loss 0.014156, 0.77 steps/sec, 3.09 examples/sec\n"
     ]
    }
   ],
   "source": [
    "model.fit(X, y, total_steps=20)"
   ]
  },
  {
   "cell_type": "markdown",
   "id": "primary-enlargement",
   "metadata": {},
   "source": [
    "# 推理"
   ]
  },
  {
   "cell_type": "code",
   "execution_count": 5,
   "id": "joined-virgin",
   "metadata": {},
   "outputs": [
    {
     "name": "stdout",
     "output_type": "stream",
     "text": [
      "INFO:tensorflow:Running inference on 4 samples\n",
      "INFO:tensorflow:process 100.0%, 4.49 examples/sec\n"
     ]
    },
    {
     "data": {
      "text/plain": [
       "{'preds': [1, 0, 2, 0],\n",
       " 'probs': array([[0.00825046, 0.9837262 , 0.00802338],\n",
       "        [0.98972535, 0.00562176, 0.00465297],\n",
       "        [0.00752161, 0.0082938 , 0.9841846 ],\n",
       "        [0.98943543, 0.00590752, 0.00465705]], dtype=float32)}"
      ]
     },
     "execution_count": 5,
     "metadata": {},
     "output_type": "execute_result"
    }
   ],
   "source": [
    "model.predict(X)"
   ]
  },
  {
   "cell_type": "markdown",
   "id": "cellular-valuable",
   "metadata": {},
   "source": [
    "# 评分"
   ]
  },
  {
   "cell_type": "code",
   "execution_count": 6,
   "id": "static-vocabulary",
   "metadata": {},
   "outputs": [
    {
     "name": "stdout",
     "output_type": "stream",
     "text": [
      "INFO:tensorflow:Running scoring on 4 samples\n",
      "INFO:tensorflow:process 100.0%, 4.94 examples/sec\n"
     ]
    },
    {
     "data": {
      "text/plain": [
       "{'accuracy': 1.0, 'loss': 0.013324507}"
      ]
     },
     "execution_count": 6,
     "metadata": {},
     "output_type": "execute_result"
    }
   ],
   "source": [
    "model.score(X, y)"
   ]
  }
 ],
 "metadata": {
  "kernelspec": {
   "display_name": "Python 3.9.13 64-bit",
   "language": "python",
   "name": "python3"
  },
  "language_info": {
   "codemirror_mode": {
    "name": "ipython",
    "version": 3
   },
   "file_extension": ".py",
   "mimetype": "text/x-python",
   "name": "python",
   "nbconvert_exporter": "python",
   "pygments_lexer": "ipython3",
   "version": "3.9.13"
  },
  "vscode": {
   "interpreter": {
    "hash": "265fd6f62f200408acbbeae0248f34bed9f93569a643842b7a25d2cd76cae5e5"
   }
  }
 },
 "nbformat": 4,
 "nbformat_minor": 5
}
