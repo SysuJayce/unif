{
 "cells": [
  {
   "cell_type": "code",
   "execution_count": 1,
   "id": "international-highlight",
   "metadata": {},
   "outputs": [
    {
     "name": "stdout",
     "output_type": "stream",
     "text": [
      "v2.3.2\n"
     ]
    }
   ],
   "source": [
    "import uf\n",
    "\n",
    "print(uf.__version__)"
   ]
  },
  {
   "cell_type": "code",
   "execution_count": 2,
   "id": "behavioral-commander",
   "metadata": {},
   "outputs": [
    {
     "name": "stdout",
     "output_type": "stream",
     "text": [
      "uf.ALBERTClassifier(config_file=\"../../demo/albert_config.json\", vocab_file=\"../../demo/vocab.txt\", max_seq_length=128, label_size=None, init_checkpoint=None, output_dir=None, gpu_ids=None, drop_pooler=False, do_lower_case=True, truncate_method=\"LIFO\")\n"
     ]
    }
   ],
   "source": [
    "model = uf.ALBERTClassifier('../../demo/albert_config.json', '../../demo/vocab.txt')\n",
    "print(model)"
   ]
  },
  {
   "cell_type": "code",
   "execution_count": 3,
   "id": "affiliated-medication",
   "metadata": {},
   "outputs": [],
   "source": [
    "X = ['天亮以前说再见', '笑着泪流满面', '去迎接应该你的', '更好的明天']\n",
    "y = [1, 0, 2, 0]"
   ]
  },
  {
   "cell_type": "markdown",
   "id": "interracial-charleston",
   "metadata": {},
   "source": [
    "# 训练"
   ]
  },
  {
   "cell_type": "code",
   "execution_count": 4,
   "id": "stainless-bouquet",
   "metadata": {},
   "outputs": [
    {
     "name": "stdout",
     "output_type": "stream",
     "text": [
      "WARNING:tensorflow:From /Users/geyingli/Library/Python/3.8/lib/python/site-packages/tensorflow/python/util/dispatch.py:1096: calling dropout (from tensorflow.python.ops.nn_ops) with keep_prob is deprecated and will be removed in a future version.\n",
      "Instructions for updating:\n",
      "Please use `rate` instead of `keep_prob`. Rate should be set to `rate = 1 - keep_prob`.\n"
     ]
    },
    {
     "name": "stderr",
     "output_type": "stream",
     "text": [
      "/Users/geyingli/Library/Python/3.8/lib/python/site-packages/uf-2.3.2-py3.8.egg/uf/modeling/albert.py:129: UserWarning: `tf.layers.dense` is deprecated and will be removed in a future version. Please use `tf.keras.layers.Dense` instead.\n",
      "  self.pooled_output = tf.layers.dense(\n",
      "/Users/geyingli/Library/Python/3.8/lib/python/site-packages/keras/legacy_tf_layers/core.py:255: UserWarning: `layer.apply` is deprecated and will be removed in a future version. Please use `layer.__call__` method instead.\n",
      "  return layer.apply(inputs)\n"
     ]
    },
    {
     "name": "stdout",
     "output_type": "stream",
     "text": [
      "INFO:tensorflow:Build graph with 31,646,217 parameters (among which 10,548,739 are trainable)\n",
      "INFO:tensorflow:Running local_init_op\n",
      "INFO:tensorflow:Done running local_init_op\n",
      "INFO:tensorflow:Running training on 4 samples (step 0 -> 20)\n",
      "INFO:tensorflow:step 1, accuracy 0.5000, loss 1.049626, 0.20 steps/sec, 0.81 examples/sec\n",
      "INFO:tensorflow:step 2, accuracy 0.2500, loss 1.118655, 0.57 steps/sec, 2.29 examples/sec\n",
      "INFO:tensorflow:step 3, accuracy 0.5000, loss 1.025173, 0.57 steps/sec, 2.27 examples/sec\n",
      "INFO:tensorflow:step 4, accuracy 0.5000, loss 0.970896, 0.54 steps/sec, 2.17 examples/sec\n",
      "INFO:tensorflow:step 5, accuracy 0.7500, loss 0.880231, 0.57 steps/sec, 2.28 examples/sec\n",
      "INFO:tensorflow:step 6, accuracy 0.5000, loss 0.758105, 0.54 steps/sec, 2.17 examples/sec\n",
      "INFO:tensorflow:step 7, accuracy 0.7500, loss 0.624171, 0.57 steps/sec, 2.27 examples/sec\n",
      "INFO:tensorflow:step 8, accuracy 1.0000, loss 0.450929, 0.57 steps/sec, 2.29 examples/sec\n",
      "INFO:tensorflow:step 9, accuracy 1.0000, loss 0.329303, 0.56 steps/sec, 2.24 examples/sec\n",
      "INFO:tensorflow:step 10, accuracy 1.0000, loss 0.239998, 0.56 steps/sec, 2.26 examples/sec\n",
      "INFO:tensorflow:step 11, accuracy 1.0000, loss 0.160652, 0.56 steps/sec, 2.25 examples/sec\n",
      "INFO:tensorflow:step 12, accuracy 1.0000, loss 0.130603, 0.56 steps/sec, 2.23 examples/sec\n",
      "INFO:tensorflow:step 13, accuracy 1.0000, loss 0.090345, 0.56 steps/sec, 2.23 examples/sec\n",
      "INFO:tensorflow:step 14, accuracy 1.0000, loss 0.059770, 0.56 steps/sec, 2.22 examples/sec\n",
      "INFO:tensorflow:step 15, accuracy 1.0000, loss 0.048549, 0.55 steps/sec, 2.20 examples/sec\n",
      "INFO:tensorflow:step 16, accuracy 1.0000, loss 0.040094, 0.55 steps/sec, 2.20 examples/sec\n",
      "INFO:tensorflow:step 17, accuracy 1.0000, loss 0.029305, 0.56 steps/sec, 2.22 examples/sec\n",
      "INFO:tensorflow:step 18, accuracy 1.0000, loss 0.026621, 0.57 steps/sec, 2.27 examples/sec\n",
      "INFO:tensorflow:step 19, accuracy 1.0000, loss 0.025475, 0.55 steps/sec, 2.21 examples/sec\n",
      "INFO:tensorflow:step 20, accuracy 1.0000, loss 0.022946, 0.55 steps/sec, 2.19 examples/sec\n"
     ]
    }
   ],
   "source": [
    "model.fit(X, y, total_steps=20)"
   ]
  },
  {
   "cell_type": "markdown",
   "id": "primary-enlargement",
   "metadata": {},
   "source": [
    "# 推理"
   ]
  },
  {
   "cell_type": "code",
   "execution_count": 5,
   "id": "joined-virgin",
   "metadata": {},
   "outputs": [
    {
     "name": "stdout",
     "output_type": "stream",
     "text": [
      "INFO:tensorflow:Time usage 0m-1.25s, 0.80 steps/sec, 3.21 examples/sec\n"
     ]
    },
    {
     "data": {
      "text/plain": [
       "{'preds': [1, 0, 2, 0],\n",
       " 'probs': array([[0.01245917, 0.9722821 , 0.01525869],\n",
       "        [0.987166  , 0.00621   , 0.00662389],\n",
       "        [0.01110747, 0.02140586, 0.9674867 ],\n",
       "        [0.98676413, 0.00663069, 0.0066052 ]], dtype=float32)}"
      ]
     },
     "execution_count": 5,
     "metadata": {},
     "output_type": "execute_result"
    }
   ],
   "source": [
    "model.predict(X)"
   ]
  },
  {
   "cell_type": "markdown",
   "id": "cellular-valuable",
   "metadata": {},
   "source": [
    "# 评分"
   ]
  },
  {
   "cell_type": "code",
   "execution_count": 6,
   "id": "static-vocabulary",
   "metadata": {},
   "outputs": [
    {
     "name": "stdout",
     "output_type": "stream",
     "text": [
      "INFO:tensorflow:Time usage 0m-0.99s, 1.01 steps/sec, 4.05 examples/sec\n"
     ]
    },
    {
     "data": {
      "text/plain": [
       "{'accuracy': 1.0, 'loss': 0.02185105}"
      ]
     },
     "execution_count": 6,
     "metadata": {},
     "output_type": "execute_result"
    }
   ],
   "source": [
    "model.score(X, y)"
   ]
  }
 ],
 "metadata": {
  "kernelspec": {
   "display_name": "Python 3",
   "language": "python",
   "name": "python3"
  },
  "language_info": {
   "codemirror_mode": {
    "name": "ipython",
    "version": 3
   },
   "file_extension": ".py",
   "mimetype": "text/x-python",
   "name": "python",
   "nbconvert_exporter": "python",
   "pygments_lexer": "ipython3",
   "version": "3.8.2"
  }
 },
 "nbformat": 4,
 "nbformat_minor": 5
}
