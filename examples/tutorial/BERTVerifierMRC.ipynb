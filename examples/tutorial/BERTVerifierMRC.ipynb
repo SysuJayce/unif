{
 "cells": [
  {
   "cell_type": "code",
   "execution_count": 1,
   "id": "rotary-academy",
   "metadata": {},
   "outputs": [
    {
     "name": "stdout",
     "output_type": "stream",
     "text": [
      "beta v2.8.0\n"
     ]
    }
   ],
   "source": [
    "import uf\n",
    "\n",
    "print(uf.__version__)"
   ]
  },
  {
   "cell_type": "code",
   "execution_count": 2,
   "id": "velvet-symbol",
   "metadata": {},
   "outputs": [
    {
     "name": "stdout",
     "output_type": "stream",
     "text": [
      "uf.BERTVerifierMRC(config_file='../demo/bert_config.json', vocab_file='../demo/vocab.txt', max_seq_length=256, init_checkpoint=None, output_dir=None, gpu_ids=None, do_lower_case=True, drop_pooler=False, truncate_method='longer-FO')\n"
     ]
    }
   ],
   "source": [
    "model = uf.BERTVerifierMRC('../demo/bert_config.json', '../demo/vocab.txt')\n",
    "print(model)"
   ]
  },
  {
   "cell_type": "code",
   "execution_count": 3,
   "id": "drawn-breathing",
   "metadata": {},
   "outputs": [],
   "source": [
    "X = [{'doc': '天亮以前说再见，笑着泪流满面。去迎接应该你的，更好的明天', 'ques': '何时说的再见'}, \n",
    "     {'doc': '他想知道那是谁，为何总沉默寡言。人群中也算抢眼，抢眼的孤独难免', 'ques': '抢眼的如何'}]\n",
    "y = [{'text': '天亮以前', 'answer_start': 0}, {'text': '孤独难免', 'answer_start': 27}]"
   ]
  },
  {
   "cell_type": "markdown",
   "id": "vanilla-fault",
   "metadata": {},
   "source": [
    "# 训练"
   ]
  },
  {
   "cell_type": "code",
   "execution_count": 4,
   "id": "excellent-religion",
   "metadata": {},
   "outputs": [
    {
     "name": "stdout",
     "output_type": "stream",
     "text": [
      "WARNING:tensorflow:From /Users/geyingli/Library/Python/3.8/lib/python/site-packages/tensorflow/python/util/dispatch.py:201: calling dropout (from tensorflow.python.ops.nn_ops) with keep_prob is deprecated and will be removed in a future version.\n",
      "Instructions for updating:\n",
      "Please use `rate` instead of `keep_prob`. Rate should be set to `rate = 1 - keep_prob`.\n"
     ]
    },
    {
     "name": "stderr",
     "output_type": "stream",
     "text": [
      "/Users/geyingli/Library/Python/3.8/lib/python/site-packages/tensorflow/python/keras/legacy_tf_layers/core.py:171: UserWarning: `tf.layers.dense` is deprecated and will be removed in a future version. Please use `tf.keras.layers.Dense` instead.\n",
      "  warnings.warn('`tf.layers.dense` is deprecated and '\n",
      "/Users/geyingli/Library/Python/3.8/lib/python/site-packages/tensorflow/python/keras/engine/base_layer_v1.py:1719: UserWarning: `layer.apply` is deprecated and will be removed in a future version. Please use `layer.__call__` method instead.\n",
      "  warnings.warn('`layer.apply` is deprecated and '\n"
     ]
    },
    {
     "name": "stdout",
     "output_type": "stream",
     "text": [
      "INFO:tensorflow:Build graph with 306,812,172 parameters (among which 102,270,724 are trainable)\n",
      "INFO:tensorflow:Running local_init_op\n",
      "INFO:tensorflow:Done running local_init_op\n",
      "INFO:tensorflow:Running training on 2 samples (step 0 -> 10)\n",
      "INFO:tensorflow:step 1, has_ans_accuracy 0.0000, exact_match 0.0000, f1 0.0000, verifier_loss 0.929458, mrc_loss 6.233748, 0.09 steps/sec, 0.17 examples/sec\n",
      "INFO:tensorflow:step 2, has_ans_accuracy 0.0000, exact_match 0.0000, f1 0.0000, verifier_loss 0.917953, mrc_loss 6.328587, 0.21 steps/sec, 0.43 examples/sec\n",
      "INFO:tensorflow:step 3, has_ans_accuracy 1.0000, exact_match 0.0000, f1 0.1176, verifier_loss 0.099661, mrc_loss 3.696873, 0.16 steps/sec, 0.31 examples/sec\n",
      "INFO:tensorflow:step 4, has_ans_accuracy 1.0000, exact_match 1.0000, f1 1.0000, verifier_loss 0.028254, mrc_loss 1.746345, 0.22 steps/sec, 0.44 examples/sec\n",
      "INFO:tensorflow:step 5, has_ans_accuracy 1.0000, exact_match 1.0000, f1 1.0000, verifier_loss 0.014501, mrc_loss 0.885874, 0.24 steps/sec, 0.49 examples/sec\n",
      "INFO:tensorflow:step 6, has_ans_accuracy 1.0000, exact_match 1.0000, f1 1.0000, verifier_loss 0.014364, mrc_loss 0.415063, 0.25 steps/sec, 0.50 examples/sec\n",
      "INFO:tensorflow:step 7, has_ans_accuracy 1.0000, exact_match 1.0000, f1 1.0000, verifier_loss 0.013155, mrc_loss 0.113831, 0.23 steps/sec, 0.46 examples/sec\n",
      "INFO:tensorflow:step 8, has_ans_accuracy 1.0000, exact_match 1.0000, f1 1.0000, verifier_loss 0.011681, mrc_loss 0.049280, 0.12 steps/sec, 0.24 examples/sec\n",
      "INFO:tensorflow:step 9, has_ans_accuracy 1.0000, exact_match 1.0000, f1 1.0000, verifier_loss 0.013019, mrc_loss 0.013789, 0.09 steps/sec, 0.19 examples/sec\n",
      "INFO:tensorflow:step 10, has_ans_accuracy 1.0000, exact_match 1.0000, f1 1.0000, verifier_loss 0.013065, mrc_loss 0.010719, 0.05 steps/sec, 0.10 examples/sec\n"
     ]
    }
   ],
   "source": [
    "model.fit(X, y, total_steps=10)"
   ]
  },
  {
   "cell_type": "markdown",
   "id": "fallen-hundred",
   "metadata": {},
   "source": [
    "# 推理"
   ]
  },
  {
   "cell_type": "code",
   "execution_count": 5,
   "id": "opposite-pantyhose",
   "metadata": {},
   "outputs": [
    {
     "name": "stdout",
     "output_type": "stream",
     "text": [
      "INFO:tensorflow:Time usage 0m-21.91s, 0.05 steps/sec, 0.09 examples/sec\n"
     ]
    },
    {
     "data": {
      "text/plain": [
       "{'verifier_probs': array([0.9917693 , 0.99175805], dtype=float32),\n",
       " 'verifier_preds': array([1, 1]),\n",
       " 'mrc_probs': array([[[2.7217013e-06, 2.5924232e-06, 1.0746479e-06, ...,\n",
       "          7.2089853e-07, 7.3592923e-07, 8.4622013e-07],\n",
       "         [8.3724071e-06, 2.4347439e-06, 6.2427835e-06, ...,\n",
       "          9.5768689e-07, 8.9543857e-07, 7.3864567e-07]],\n",
       " \n",
       "        [[3.8824646e-06, 2.5447891e-06, 1.3776028e-06, ...,\n",
       "          1.0553415e-06, 1.0732507e-06, 1.2279817e-06],\n",
       "         [4.4037238e-06, 1.1538339e-06, 2.5671752e-06, ...,\n",
       "          5.0890725e-07, 4.6944027e-07, 3.9440610e-07]]], dtype=float32),\n",
       " 'mrc_preds': ['天亮以前', '孤独难免']}"
      ]
     },
     "execution_count": 5,
     "metadata": {},
     "output_type": "execute_result"
    }
   ],
   "source": [
    "model.predict(X)"
   ]
  },
  {
   "cell_type": "markdown",
   "id": "fundamental-poverty",
   "metadata": {},
   "source": [
    "# 评分"
   ]
  },
  {
   "cell_type": "code",
   "execution_count": 6,
   "id": "accessory-lesbian",
   "metadata": {},
   "outputs": [
    {
     "name": "stdout",
     "output_type": "stream",
     "text": [
      "INFO:tensorflow:Time usage 0m-11.52s, 0.09 steps/sec, 0.17 examples/sec\n"
     ]
    },
    {
     "data": {
      "text/plain": [
       "{'has_ans_accuracy': 1.0,\n",
       " 'exact_match': 1.0,\n",
       " 'f1': 0.9999992500003125,\n",
       " 'verifier_loss': 0.00827042,\n",
       " 'mrc_loss': 0.002384042}"
      ]
     },
     "execution_count": 6,
     "metadata": {},
     "output_type": "execute_result"
    }
   ],
   "source": [
    "model.score(X, y)"
   ]
  }
 ],
 "metadata": {
  "kernelspec": {
   "display_name": "Python 3",
   "language": "python",
   "name": "python3"
  },
  "language_info": {
   "codemirror_mode": {
    "name": "ipython",
    "version": 3
   },
   "file_extension": ".py",
   "mimetype": "text/x-python",
   "name": "python",
   "nbconvert_exporter": "python",
   "pygments_lexer": "ipython3",
   "version": "3.8.2"
  }
 },
 "nbformat": 4,
 "nbformat_minor": 5
}
