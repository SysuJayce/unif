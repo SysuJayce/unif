{
 "cells": [
  {
   "cell_type": "markdown",
   "id": "political-table",
   "metadata": {},
   "source": [
    "# BERTVerifierMRC\n",
    "\n",
    "可用的中文预训练参数：[`bert-base`](https://storage.googleapis.com/bert_models/2018_11_03/chinese_L-12_H-768_A-12.zip),[`roberta-wwm-ext-base`](https://drive.google.com/uc?export=download&id=1jMAKIJmPn7kADgD3yQZhpsqM-IRM1qZt),[`roberta-wwm-ext-large`](https://drive.google.com/uc?export=download&id=1dtad0FFzG11CBsawu8hvwwzU2R0FDI94),[`macbert-base`](https://drive.google.com/uc?export=download&id=1aV69OhYzIwj_hn-kO1RiBa-m8QAusQ5b),[`macbert-large`](https://drive.google.com/uc?export=download&id=1lWYxnk1EqTA2Q20_IShxBrCPc5VSDCkT)"
   ]
  },
  {
   "cell_type": "code",
   "execution_count": 1,
   "id": "rotary-academy",
   "metadata": {},
   "outputs": [
    {
     "name": "stdout",
     "output_type": "stream",
     "text": [
      "v2.4.5\n"
     ]
    }
   ],
   "source": [
    "import uf\n",
    "\n",
    "print(uf.__version__)"
   ]
  },
  {
   "cell_type": "code",
   "execution_count": 2,
   "id": "velvet-symbol",
   "metadata": {},
   "outputs": [
    {
     "name": "stdout",
     "output_type": "stream",
     "text": [
      "uf.BERTVerifierMRC(\n",
      "    config_file=\"../../demo/bert_config.json\",\n",
      "    vocab_file=\"../../demo/vocab.txt\",\n",
      "    max_seq_length=256,\n",
      "    init_checkpoint=None,\n",
      "    output_dir=None,\n",
      "    gpu_ids=None,\n",
      "    do_lower_case=True,\n",
      "    drop_pooler=False,\n",
      "    truncate_method=\"longer-FO\",\n",
      ")\n"
     ]
    }
   ],
   "source": [
    "model = uf.BERTVerifierMRC('../../demo/bert_config.json', '../../demo/vocab.txt')\n",
    "print(model)"
   ]
  },
  {
   "cell_type": "code",
   "execution_count": 3,
   "id": "drawn-breathing",
   "metadata": {},
   "outputs": [],
   "source": [
    "X = [{'doc': '天亮以前说再见，笑着泪流满面。去迎接应该你的，更好的明天', 'ques': '何时说的再见'}, \n",
    "     {'doc': '他想知道那是谁，为何总沉默寡言。人群中也算抢眼，抢眼的孤独难免', 'ques': '抢眼的如何'}]\n",
    "y = [{'text': '天亮以前', 'answer_start': 0}, {'text': '孤独难免', 'answer_start': 27}]"
   ]
  },
  {
   "cell_type": "markdown",
   "id": "vanilla-fault",
   "metadata": {},
   "source": [
    "# 训练"
   ]
  },
  {
   "cell_type": "code",
   "execution_count": 4,
   "id": "excellent-religion",
   "metadata": {},
   "outputs": [
    {
     "name": "stdout",
     "output_type": "stream",
     "text": [
      "WARNING:tensorflow:From /Users/geyingli/Library/Python/3.8/lib/python/site-packages/tensorflow/python/util/dispatch.py:1096: calling dropout (from tensorflow.python.ops.nn_ops) with keep_prob is deprecated and will be removed in a future version.\n",
      "Instructions for updating:\n",
      "Please use `rate` instead of `keep_prob`. Rate should be set to `rate = 1 - keep_prob`.\n"
     ]
    },
    {
     "name": "stderr",
     "output_type": "stream",
     "text": [
      "/Users/geyingli/Library/Python/3.8/lib/python/site-packages/uf-2.4.5-py3.8.egg/uf/model/bert.py:272: UserWarning: `tf.layers.dense` is deprecated and will be removed in a future version. Please use `tf.keras.layers.Dense` instead.\n",
      "  query_layer = tf.layers.dense(\n",
      "/Users/geyingli/Library/Python/3.8/lib/python/site-packages/keras/legacy_tf_layers/core.py:255: UserWarning: `layer.apply` is deprecated and will be removed in a future version. Please use `layer.__call__` method instead.\n",
      "  return layer.apply(inputs)\n",
      "/Users/geyingli/Library/Python/3.8/lib/python/site-packages/uf-2.4.5-py3.8.egg/uf/model/bert.py:282: UserWarning: `tf.layers.dense` is deprecated and will be removed in a future version. Please use `tf.keras.layers.Dense` instead.\n",
      "  key_layer = tf.layers.dense(\n",
      "/Users/geyingli/Library/Python/3.8/lib/python/site-packages/uf-2.4.5-py3.8.egg/uf/model/bert.py:292: UserWarning: `tf.layers.dense` is deprecated and will be removed in a future version. Please use `tf.keras.layers.Dense` instead.\n",
      "  value_layer = tf.layers.dense(\n",
      "/Users/geyingli/Library/Python/3.8/lib/python/site-packages/uf-2.4.5-py3.8.egg/uf/model/bert.py:416: UserWarning: `tf.layers.dense` is deprecated and will be removed in a future version. Please use `tf.keras.layers.Dense` instead.\n",
      "  attention_output = tf.layers.dense(\n",
      "/Users/geyingli/Library/Python/3.8/lib/python/site-packages/uf-2.4.5-py3.8.egg/uf/model/bert.py:428: UserWarning: `tf.layers.dense` is deprecated and will be removed in a future version. Please use `tf.keras.layers.Dense` instead.\n",
      "  intermediate_output = tf.layers.dense(\n",
      "/Users/geyingli/Library/Python/3.8/lib/python/site-packages/uf-2.4.5-py3.8.egg/uf/model/bert.py:438: UserWarning: `tf.layers.dense` is deprecated and will be removed in a future version. Please use `tf.keras.layers.Dense` instead.\n",
      "  layer_output = tf.layers.dense(\n",
      "/Users/geyingli/Library/Python/3.8/lib/python/site-packages/uf-2.4.5-py3.8.egg/uf/model/bert.py:107: UserWarning: `tf.layers.dense` is deprecated and will be removed in a future version. Please use `tf.keras.layers.Dense` instead.\n",
      "  self.pooled_output = tf.layers.dense(\n"
     ]
    },
    {
     "name": "stdout",
     "output_type": "stream",
     "text": [
      "INFO:tensorflow:Build graph with 306,812,172 parameters (among which 102,270,724 are trainable)\n",
      "INFO:tensorflow:Running local_init_op\n",
      "INFO:tensorflow:Done running local_init_op\n",
      "INFO:tensorflow:Running training on 2 samples (step 0 -> 10)\n",
      "INFO:tensorflow:step 1, has_ans_accuracy 0.0000, exact_match 0.0000, f1 0.0000, verifier_loss 0.723787, mrc_loss 5.876242, 0.04 steps/sec, 0.07 examples/sec\n",
      "INFO:tensorflow:step 2, has_ans_accuracy 0.0000, exact_match 0.0000, f1 0.0000, verifier_loss 0.808925, mrc_loss 5.960897, 0.13 steps/sec, 0.27 examples/sec\n",
      "INFO:tensorflow:step 3, has_ans_accuracy 1.0000, exact_match 0.5000, f1 0.7000, verifier_loss 0.119236, mrc_loss 3.087158, 0.16 steps/sec, 0.31 examples/sec\n",
      "INFO:tensorflow:step 4, has_ans_accuracy 1.0000, exact_match 1.0000, f1 1.0000, verifier_loss 0.031238, mrc_loss 1.646295, 0.13 steps/sec, 0.25 examples/sec\n",
      "INFO:tensorflow:step 5, has_ans_accuracy 1.0000, exact_match 1.0000, f1 1.0000, verifier_loss 0.017487, mrc_loss 0.724964, 0.07 steps/sec, 0.13 examples/sec\n",
      "INFO:tensorflow:step 6, has_ans_accuracy 1.0000, exact_match 1.0000, f1 1.0000, verifier_loss 0.013572, mrc_loss 0.322613, 0.05 steps/sec, 0.09 examples/sec\n",
      "INFO:tensorflow:step 7, has_ans_accuracy 1.0000, exact_match 1.0000, f1 1.0000, verifier_loss 0.013391, mrc_loss 0.087527, 0.04 steps/sec, 0.09 examples/sec\n",
      "INFO:tensorflow:step 8, has_ans_accuracy 1.0000, exact_match 1.0000, f1 1.0000, verifier_loss 0.014130, mrc_loss 0.028710, 0.07 steps/sec, 0.13 examples/sec\n",
      "INFO:tensorflow:step 9, has_ans_accuracy 1.0000, exact_match 1.0000, f1 1.0000, verifier_loss 0.010268, mrc_loss 0.011358, 0.08 steps/sec, 0.16 examples/sec\n",
      "INFO:tensorflow:step 10, has_ans_accuracy 1.0000, exact_match 1.0000, f1 1.0000, verifier_loss 0.011250, mrc_loss 0.004505, 0.15 steps/sec, 0.30 examples/sec\n"
     ]
    }
   ],
   "source": [
    "model.fit(X, y, total_steps=10)"
   ]
  },
  {
   "cell_type": "markdown",
   "id": "fallen-hundred",
   "metadata": {},
   "source": [
    "# 推理"
   ]
  },
  {
   "cell_type": "code",
   "execution_count": 5,
   "id": "opposite-pantyhose",
   "metadata": {},
   "outputs": [
    {
     "name": "stdout",
     "output_type": "stream",
     "text": [
      "INFO:tensorflow:Time usage 0m-4.16s, 0.24 steps/sec, 0.48 examples/sec\n"
     ]
    },
    {
     "data": {
      "text/plain": [
       "{'verifier_probs': array([0.99227154, 0.9922454 ], dtype=float32),\n",
       " 'verifier_preds': array([1, 1]),\n",
       " 'mrc_probs': array([[[6.3926955e-06, 1.7748690e-06, 9.3724657e-07, ...,\n",
       "          3.5320704e-07, 4.9873012e-07, 4.9174878e-07],\n",
       "         [8.5783131e-06, 2.7041197e-06, 1.8623520e-06, ...,\n",
       "          7.6946299e-07, 5.1404294e-07, 6.5100829e-07]],\n",
       " \n",
       "        [[6.6480366e-06, 1.3892184e-06, 1.3617301e-06, ...,\n",
       "          3.7293083e-07, 5.2746935e-07, 5.2337509e-07],\n",
       "         [3.6646841e-06, 8.5250878e-07, 1.0044779e-06, ...,\n",
       "          3.3063822e-07, 2.2267544e-07, 2.8294366e-07]]], dtype=float32),\n",
       " 'mrc_preds': ['天亮以前', '孤独难免']}"
      ]
     },
     "execution_count": 5,
     "metadata": {},
     "output_type": "execute_result"
    }
   ],
   "source": [
    "model.predict(X)"
   ]
  },
  {
   "cell_type": "markdown",
   "id": "fundamental-poverty",
   "metadata": {},
   "source": [
    "# 评分"
   ]
  },
  {
   "cell_type": "code",
   "execution_count": 6,
   "id": "accessory-lesbian",
   "metadata": {},
   "outputs": [
    {
     "name": "stdout",
     "output_type": "stream",
     "text": [
      "INFO:tensorflow:Time usage 0m-2.90s, 0.34 steps/sec, 0.69 examples/sec\n"
     ]
    },
    {
     "data": {
      "text/plain": [
       "{'has_ans_accuracy': 1.0,\n",
       " 'exact_match': 1.0,\n",
       " 'f1': 0.9999992500003125,\n",
       " 'verifier_loss': 0.007771672,\n",
       " 'mrc_loss': 0.0014575796}"
      ]
     },
     "execution_count": 6,
     "metadata": {},
     "output_type": "execute_result"
    }
   ],
   "source": [
    "model.score(X, y)"
   ]
  }
 ],
 "metadata": {
  "kernelspec": {
   "display_name": "Python 3",
   "language": "python",
   "name": "python3"
  },
  "language_info": {
   "codemirror_mode": {
    "name": "ipython",
    "version": 3
   },
   "file_extension": ".py",
   "mimetype": "text/x-python",
   "name": "python",
   "nbconvert_exporter": "python",
   "pygments_lexer": "ipython3",
   "version": "3.8.2"
  }
 },
 "nbformat": 4,
 "nbformat_minor": 5
}
