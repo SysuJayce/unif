{
 "cells": [
  {
   "cell_type": "code",
   "execution_count": 1,
   "id": "rotary-academy",
   "metadata": {},
   "outputs": [
    {
     "name": "stdout",
     "output_type": "stream",
     "text": [
      "beta v2.8.0\n"
     ]
    }
   ],
   "source": [
    "import uf\n",
    "\n",
    "print(uf.__version__)"
   ]
  },
  {
   "cell_type": "code",
   "execution_count": 2,
   "id": "velvet-symbol",
   "metadata": {},
   "outputs": [
    {
     "name": "stdout",
     "output_type": "stream",
     "text": [
      "uf.ALBERTBinaryClassifier(config_file='../demo/albert_config.json', vocab_file='../demo/vocab.txt', max_seq_length=128, label_size=None, label_weight=None, init_checkpoint=None, output_dir=None, gpu_ids=None, drop_pooler=False, do_lower_case=True, truncate_method='LIFO')\n"
     ]
    }
   ],
   "source": [
    "model = uf.ALBERTBinaryClassifier('../../demo/albert_config.json', '../../demo/vocab.txt')\n",
    "print(model)"
   ]
  },
  {
   "cell_type": "code",
   "execution_count": 3,
   "id": "drawn-breathing",
   "metadata": {},
   "outputs": [],
   "source": [
    "X = ['天亮以前说再见', '笑着泪流满面', '去迎接应该你的', '更好的明天']\n",
    "y = [[0, 2], [1], [1], []]"
   ]
  },
  {
   "cell_type": "markdown",
   "id": "vanilla-fault",
   "metadata": {},
   "source": [
    "# 训练"
   ]
  },
  {
   "cell_type": "code",
   "execution_count": 4,
   "id": "excellent-religion",
   "metadata": {},
   "outputs": [
    {
     "name": "stdout",
     "output_type": "stream",
     "text": [
      "WARNING:tensorflow:From /Users/geyingli/Library/Python/3.8/lib/python/site-packages/tensorflow/python/util/dispatch.py:201: calling dropout (from tensorflow.python.ops.nn_ops) with keep_prob is deprecated and will be removed in a future version.\n",
      "Instructions for updating:\n",
      "Please use `rate` instead of `keep_prob`. Rate should be set to `rate = 1 - keep_prob`.\n"
     ]
    },
    {
     "name": "stderr",
     "output_type": "stream",
     "text": [
      "/Users/geyingli/Library/Python/3.8/lib/python/site-packages/tensorflow/python/keras/legacy_tf_layers/core.py:171: UserWarning: `tf.layers.dense` is deprecated and will be removed in a future version. Please use `tf.keras.layers.Dense` instead.\n",
      "  warnings.warn('`tf.layers.dense` is deprecated and '\n",
      "/Users/geyingli/Library/Python/3.8/lib/python/site-packages/tensorflow/python/keras/engine/base_layer_v1.py:1719: UserWarning: `layer.apply` is deprecated and will be removed in a future version. Please use `layer.__call__` method instead.\n",
      "  warnings.warn('`layer.apply` is deprecated and '\n"
     ]
    },
    {
     "name": "stdout",
     "output_type": "stream",
     "text": [
      "INFO:tensorflow:Build graph with 31,646,217 parameters (among which 10,548,739 are trainable)\n",
      "INFO:tensorflow:Running local_init_op\n",
      "INFO:tensorflow:Done running local_init_op\n",
      "INFO:tensorflow:Running training on 4 samples (step 0 -> 20)\n",
      "INFO:tensorflow:step 1, accuracy 0.4167, loss 2.180486, 0.06 steps/sec, 0.24 examples/sec\n",
      "INFO:tensorflow:step 2, accuracy 0.4167, loss 2.155856, 0.26 steps/sec, 1.04 examples/sec\n",
      "INFO:tensorflow:step 3, accuracy 0.6667, loss 1.878528, 0.24 steps/sec, 0.98 examples/sec\n",
      "INFO:tensorflow:step 4, accuracy 0.5833, loss 1.772846, 0.23 steps/sec, 0.92 examples/sec\n",
      "INFO:tensorflow:step 5, accuracy 0.7500, loss 1.761456, 0.24 steps/sec, 0.96 examples/sec\n",
      "INFO:tensorflow:step 6, accuracy 0.6667, loss 1.732836, 0.22 steps/sec, 0.90 examples/sec\n",
      "INFO:tensorflow:step 7, accuracy 0.8333, loss 1.643478, 0.23 steps/sec, 0.90 examples/sec\n",
      "INFO:tensorflow:step 8, accuracy 0.8333, loss 1.530067, 0.23 steps/sec, 0.93 examples/sec\n",
      "INFO:tensorflow:step 9, accuracy 0.8333, loss 1.377792, 0.26 steps/sec, 1.04 examples/sec\n",
      "INFO:tensorflow:step 10, accuracy 0.8333, loss 1.159571, 0.23 steps/sec, 0.91 examples/sec\n",
      "INFO:tensorflow:step 11, accuracy 0.9167, loss 0.910385, 0.23 steps/sec, 0.92 examples/sec\n",
      "INFO:tensorflow:step 12, accuracy 0.9167, loss 0.811941, 0.26 steps/sec, 1.04 examples/sec\n",
      "INFO:tensorflow:step 13, accuracy 1.0000, loss 0.639331, 0.24 steps/sec, 0.96 examples/sec\n",
      "INFO:tensorflow:step 14, accuracy 1.0000, loss 0.559702, 0.26 steps/sec, 1.03 examples/sec\n",
      "INFO:tensorflow:step 15, accuracy 1.0000, loss 0.454025, 0.35 steps/sec, 1.40 examples/sec\n",
      "INFO:tensorflow:step 16, accuracy 1.0000, loss 0.436283, 0.37 steps/sec, 1.46 examples/sec\n",
      "INFO:tensorflow:step 17, accuracy 1.0000, loss 0.394700, 0.36 steps/sec, 1.42 examples/sec\n",
      "INFO:tensorflow:step 18, accuracy 1.0000, loss 0.405162, 0.34 steps/sec, 1.34 examples/sec\n",
      "INFO:tensorflow:step 19, accuracy 1.0000, loss 0.358760, 0.34 steps/sec, 1.36 examples/sec\n",
      "INFO:tensorflow:step 20, accuracy 1.0000, loss 0.355947, 0.33 steps/sec, 1.32 examples/sec\n"
     ]
    }
   ],
   "source": [
    "model.fit(X, y, total_steps=20)"
   ]
  },
  {
   "cell_type": "markdown",
   "id": "fallen-hundred",
   "metadata": {},
   "source": [
    "# 推理"
   ]
  },
  {
   "cell_type": "code",
   "execution_count": 5,
   "id": "opposite-pantyhose",
   "metadata": {},
   "outputs": [
    {
     "name": "stdout",
     "output_type": "stream",
     "text": [
      "INFO:tensorflow:Time usage 0m-2.16s, 0.46 steps/sec, 1.85 examples/sec\n"
     ]
    },
    {
     "data": {
      "text/plain": [
       "{'preds': [[0, 2], [1], [1], []],\n",
       " 'probs': array([[0.8092777 , 0.10073578, 0.828417  ],\n",
       "        [0.08244517, 0.90212786, 0.06793088],\n",
       "        [0.08332127, 0.9064249 , 0.06743118],\n",
       "        [0.1413528 , 0.10258812, 0.15099528]], dtype=float32)}"
      ]
     },
     "execution_count": 5,
     "metadata": {},
     "output_type": "execute_result"
    }
   ],
   "source": [
    "model.predict(X)"
   ]
  },
  {
   "cell_type": "markdown",
   "id": "fundamental-poverty",
   "metadata": {},
   "source": [
    "# 评分"
   ]
  },
  {
   "cell_type": "code",
   "execution_count": 6,
   "id": "accessory-lesbian",
   "metadata": {},
   "outputs": [
    {
     "name": "stdout",
     "output_type": "stream",
     "text": [
      "INFO:tensorflow:Time usage 0m-0.98s, 1.02 steps/sec, 4.10 examples/sec\n"
     ]
    },
    {
     "data": {
      "text/plain": [
       "{'accuracy': 1.0, 'loss': 0.36120155}"
      ]
     },
     "execution_count": 6,
     "metadata": {},
     "output_type": "execute_result"
    }
   ],
   "source": [
    "model.score(X, y)"
   ]
  }
 ],
 "metadata": {
  "kernelspec": {
   "display_name": "Python 3",
   "language": "python",
   "name": "python3"
  },
  "language_info": {
   "codemirror_mode": {
    "name": "ipython",
    "version": 3
   },
   "file_extension": ".py",
   "mimetype": "text/x-python",
   "name": "python",
   "nbconvert_exporter": "python",
   "pygments_lexer": "ipython3",
   "version": "3.8.2"
  }
 },
 "nbformat": 4,
 "nbformat_minor": 5
}
