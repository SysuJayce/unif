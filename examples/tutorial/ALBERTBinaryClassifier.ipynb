{
 "cells": [
  {
   "cell_type": "code",
   "execution_count": 1,
   "id": "rotary-academy",
   "metadata": {},
   "outputs": [
    {
     "name": "stdout",
     "output_type": "stream",
     "text": [
      "v2.3.2\n"
     ]
    }
   ],
   "source": [
    "import uf\n",
    "\n",
    "print(uf.__version__)"
   ]
  },
  {
   "cell_type": "code",
   "execution_count": 2,
   "id": "velvet-symbol",
   "metadata": {},
   "outputs": [
    {
     "name": "stdout",
     "output_type": "stream",
     "text": [
      "uf.ALBERTBinaryClassifier(config_file=\"../../demo/albert_config.json\", vocab_file=\"../../demo/vocab.txt\", max_seq_length=128, label_size=None, label_weight=None, init_checkpoint=None, output_dir=None, gpu_ids=None, drop_pooler=False, do_lower_case=True, truncate_method=\"LIFO\")\n"
     ]
    }
   ],
   "source": [
    "model = uf.ALBERTBinaryClassifier('../../demo/albert_config.json', '../../demo/vocab.txt')\n",
    "print(model)"
   ]
  },
  {
   "cell_type": "code",
   "execution_count": 3,
   "id": "drawn-breathing",
   "metadata": {},
   "outputs": [],
   "source": [
    "X = ['天亮以前说再见', '笑着泪流满面', '去迎接应该你的', '更好的明天']\n",
    "y = [[0, 2], [1], [1], []]"
   ]
  },
  {
   "cell_type": "markdown",
   "id": "vanilla-fault",
   "metadata": {},
   "source": [
    "# 训练"
   ]
  },
  {
   "cell_type": "code",
   "execution_count": 4,
   "id": "excellent-religion",
   "metadata": {},
   "outputs": [
    {
     "name": "stdout",
     "output_type": "stream",
     "text": [
      "WARNING:tensorflow:From /Users/geyingli/Library/Python/3.8/lib/python/site-packages/tensorflow/python/util/dispatch.py:1096: calling dropout (from tensorflow.python.ops.nn_ops) with keep_prob is deprecated and will be removed in a future version.\n",
      "Instructions for updating:\n",
      "Please use `rate` instead of `keep_prob`. Rate should be set to `rate = 1 - keep_prob`.\n"
     ]
    },
    {
     "name": "stderr",
     "output_type": "stream",
     "text": [
      "/Users/geyingli/Library/Python/3.8/lib/python/site-packages/uf-2.3.2-py3.8.egg/uf/modeling/albert.py:129: UserWarning: `tf.layers.dense` is deprecated and will be removed in a future version. Please use `tf.keras.layers.Dense` instead.\n",
      "  self.pooled_output = tf.layers.dense(\n",
      "/Users/geyingli/Library/Python/3.8/lib/python/site-packages/keras/legacy_tf_layers/core.py:255: UserWarning: `layer.apply` is deprecated and will be removed in a future version. Please use `layer.__call__` method instead.\n",
      "  return layer.apply(inputs)\n"
     ]
    },
    {
     "name": "stdout",
     "output_type": "stream",
     "text": [
      "INFO:tensorflow:Build graph with 31,646,217 parameters (among which 10,548,739 are trainable)\n",
      "INFO:tensorflow:Running local_init_op\n",
      "INFO:tensorflow:Done running local_init_op\n",
      "INFO:tensorflow:Running training on 4 samples (step 0 -> 20)\n",
      "INFO:tensorflow:step 1, accuracy 0.5833, loss 2.073274, 0.18 steps/sec, 0.72 examples/sec\n",
      "INFO:tensorflow:step 2, accuracy 0.5833, loss 2.054365, 0.49 steps/sec, 1.97 examples/sec\n",
      "INFO:tensorflow:step 3, accuracy 0.6667, loss 1.820233, 0.48 steps/sec, 1.93 examples/sec\n",
      "INFO:tensorflow:step 4, accuracy 0.6667, loss 1.793826, 0.51 steps/sec, 2.03 examples/sec\n",
      "INFO:tensorflow:step 5, accuracy 0.8333, loss 1.675179, 0.51 steps/sec, 2.04 examples/sec\n",
      "INFO:tensorflow:step 6, accuracy 0.8333, loss 1.651928, 0.47 steps/sec, 1.88 examples/sec\n",
      "INFO:tensorflow:step 7, accuracy 0.8333, loss 1.527408, 0.50 steps/sec, 1.99 examples/sec\n",
      "INFO:tensorflow:step 8, accuracy 0.8333, loss 1.383641, 0.49 steps/sec, 1.97 examples/sec\n",
      "INFO:tensorflow:step 9, accuracy 0.7500, loss 1.149815, 0.48 steps/sec, 1.93 examples/sec\n",
      "INFO:tensorflow:step 10, accuracy 0.9167, loss 0.963562, 0.44 steps/sec, 1.76 examples/sec\n",
      "INFO:tensorflow:step 11, accuracy 1.0000, loss 0.738208, 0.43 steps/sec, 1.71 examples/sec\n",
      "INFO:tensorflow:step 12, accuracy 1.0000, loss 0.637993, 0.45 steps/sec, 1.79 examples/sec\n",
      "INFO:tensorflow:step 13, accuracy 1.0000, loss 0.538263, 0.42 steps/sec, 1.68 examples/sec\n",
      "INFO:tensorflow:step 14, accuracy 1.0000, loss 0.459785, 0.44 steps/sec, 1.77 examples/sec\n",
      "INFO:tensorflow:step 15, accuracy 1.0000, loss 0.414867, 0.43 steps/sec, 1.71 examples/sec\n",
      "INFO:tensorflow:step 16, accuracy 1.0000, loss 0.362518, 0.44 steps/sec, 1.75 examples/sec\n",
      "INFO:tensorflow:step 17, accuracy 1.0000, loss 0.356818, 0.43 steps/sec, 1.71 examples/sec\n",
      "INFO:tensorflow:step 18, accuracy 1.0000, loss 0.313199, 0.45 steps/sec, 1.80 examples/sec\n",
      "INFO:tensorflow:step 19, accuracy 1.0000, loss 0.312049, 0.46 steps/sec, 1.85 examples/sec\n",
      "INFO:tensorflow:step 20, accuracy 1.0000, loss 0.299233, 0.29 steps/sec, 1.15 examples/sec\n"
     ]
    }
   ],
   "source": [
    "model.fit(X, y, total_steps=20)"
   ]
  },
  {
   "cell_type": "markdown",
   "id": "fallen-hundred",
   "metadata": {},
   "source": [
    "# 推理"
   ]
  },
  {
   "cell_type": "code",
   "execution_count": 5,
   "id": "opposite-pantyhose",
   "metadata": {},
   "outputs": [
    {
     "name": "stdout",
     "output_type": "stream",
     "text": [
      "INFO:tensorflow:Time usage 0m-7.05s, 0.14 steps/sec, 0.57 examples/sec\n"
     ]
    },
    {
     "data": {
      "text/plain": [
       "{'preds': [[0, 2], [1], [1], []],\n",
       " 'probs': array([[0.8890641 , 0.09620482, 0.8589711 ],\n",
       "        [0.06063363, 0.91237193, 0.07182971],\n",
       "        [0.06145093, 0.9160469 , 0.07498682],\n",
       "        [0.11270246, 0.12613076, 0.07666862]], dtype=float32)}"
      ]
     },
     "execution_count": 5,
     "metadata": {},
     "output_type": "execute_result"
    }
   ],
   "source": [
    "model.predict(X)"
   ]
  },
  {
   "cell_type": "markdown",
   "id": "fundamental-poverty",
   "metadata": {},
   "source": [
    "# 评分"
   ]
  },
  {
   "cell_type": "code",
   "execution_count": 6,
   "id": "accessory-lesbian",
   "metadata": {},
   "outputs": [
    {
     "name": "stdout",
     "output_type": "stream",
     "text": [
      "INFO:tensorflow:Time usage 0m-5.08s, 0.20 steps/sec, 0.79 examples/sec\n"
     ]
    },
    {
     "data": {
      "text/plain": [
       "{'accuracy': 1.0, 'loss': 0.29069436}"
      ]
     },
     "execution_count": 6,
     "metadata": {},
     "output_type": "execute_result"
    }
   ],
   "source": [
    "model.score(X, y)"
   ]
  }
 ],
 "metadata": {
  "kernelspec": {
   "display_name": "Python 3",
   "language": "python",
   "name": "python3"
  },
  "language_info": {
   "codemirror_mode": {
    "name": "ipython",
    "version": 3
   },
   "file_extension": ".py",
   "mimetype": "text/x-python",
   "name": "python",
   "nbconvert_exporter": "python",
   "pygments_lexer": "ipython3",
   "version": "3.8.2"
  }
 },
 "nbformat": 4,
 "nbformat_minor": 5
}
