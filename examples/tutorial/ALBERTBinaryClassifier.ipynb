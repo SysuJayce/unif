{
 "cells": [
  {
   "cell_type": "markdown",
   "id": "hybrid-scratch",
   "metadata": {},
   "source": [
    "# ALBERTBinaryClassifier\n",
    "\n",
    "\n",
    "可用的中文预训练参数：\n",
    "[`albert-tiny`](https://storage.googleapis.com/albert_zh/albert_tiny_zh_google.zip),[`albert-small`](https://storage.googleapis.com/albert_zh/albert_small_zh_google.zip),[`albert-base`](https://storage.googleapis.com/albert_zh/albert_base_zh_additional_36k_steps.zip),[`albert-large`](https://storage.googleapis.com/albert_zh/albert_large_zh.zip),[`albert-xlarge`](https://storage.googleapis.com/albert_zh/albert_xlarge_zh_183k.zip)"
   ]
  },
  {
   "cell_type": "code",
   "execution_count": 1,
   "id": "rotary-academy",
   "metadata": {},
   "outputs": [
    {
     "name": "stdout",
     "output_type": "stream",
     "text": [
      "v2.4.5\n"
     ]
    }
   ],
   "source": [
    "import uf\n",
    "\n",
    "print(uf.__version__)"
   ]
  },
  {
   "cell_type": "code",
   "execution_count": 2,
   "id": "velvet-symbol",
   "metadata": {},
   "outputs": [
    {
     "name": "stdout",
     "output_type": "stream",
     "text": [
      "uf.ALBERTBinaryClassifier(\n",
      "    config_file=\"../../demo/albert_config.json\",\n",
      "    vocab_file=\"../../demo/vocab.txt\",\n",
      "    max_seq_length=128,\n",
      "    label_size=None,\n",
      "    label_weight=None,\n",
      "    init_checkpoint=None,\n",
      "    output_dir=None,\n",
      "    gpu_ids=None,\n",
      "    drop_pooler=False,\n",
      "    do_lower_case=True,\n",
      "    truncate_method=\"LIFO\",\n",
      ")\n"
     ]
    }
   ],
   "source": [
    "model = uf.ALBERTBinaryClassifier('../../demo/albert_config.json', '../../demo/vocab.txt')\n",
    "print(model)"
   ]
  },
  {
   "cell_type": "code",
   "execution_count": 3,
   "id": "drawn-breathing",
   "metadata": {},
   "outputs": [],
   "source": [
    "X = ['天亮以前说再见', '笑着泪流满面', '去迎接应该你的', '更好的明天']\n",
    "y = [[0, 2], [1], [1], []]"
   ]
  },
  {
   "cell_type": "markdown",
   "id": "vanilla-fault",
   "metadata": {},
   "source": [
    "# 训练"
   ]
  },
  {
   "cell_type": "code",
   "execution_count": 4,
   "id": "excellent-religion",
   "metadata": {},
   "outputs": [
    {
     "name": "stdout",
     "output_type": "stream",
     "text": [
      "WARNING:tensorflow:From /Users/geyingli/Library/Python/3.8/lib/python/site-packages/tensorflow/python/util/dispatch.py:1096: calling dropout (from tensorflow.python.ops.nn_ops) with keep_prob is deprecated and will be removed in a future version.\n",
      "Instructions for updating:\n",
      "Please use `rate` instead of `keep_prob`. Rate should be set to `rate = 1 - keep_prob`.\n"
     ]
    },
    {
     "name": "stderr",
     "output_type": "stream",
     "text": [
      "/Users/geyingli/Library/Python/3.8/lib/python/site-packages/uf-2.4.5-py3.8.egg/uf/model/albert.py:131: UserWarning: `tf.layers.dense` is deprecated and will be removed in a future version. Please use `tf.keras.layers.Dense` instead.\n",
      "  self.pooled_output = tf.layers.dense(\n",
      "/Users/geyingli/Library/Python/3.8/lib/python/site-packages/keras/legacy_tf_layers/core.py:255: UserWarning: `layer.apply` is deprecated and will be removed in a future version. Please use `layer.__call__` method instead.\n",
      "  return layer.apply(inputs)\n"
     ]
    },
    {
     "name": "stdout",
     "output_type": "stream",
     "text": [
      "INFO:tensorflow:Build graph with 31,646,217 parameters (among which 10,548,739 are trainable)\n",
      "INFO:tensorflow:Running local_init_op\n",
      "INFO:tensorflow:Done running local_init_op\n",
      "INFO:tensorflow:Running training on 4 samples (step 0 -> 20)\n",
      "INFO:tensorflow:step 1, accuracy 0.6667, loss 2.129829, 0.20 steps/sec, 0.81 examples/sec\n",
      "INFO:tensorflow:step 2, accuracy 0.5000, loss 2.143146, 0.59 steps/sec, 2.35 examples/sec\n",
      "INFO:tensorflow:step 3, accuracy 0.6667, loss 1.873112, 0.60 steps/sec, 2.38 examples/sec\n",
      "INFO:tensorflow:step 4, accuracy 0.7500, loss 1.768505, 0.56 steps/sec, 2.24 examples/sec\n",
      "INFO:tensorflow:step 5, accuracy 0.8333, loss 1.650448, 0.59 steps/sec, 2.36 examples/sec\n",
      "INFO:tensorflow:step 6, accuracy 0.8333, loss 1.570697, 0.58 steps/sec, 2.32 examples/sec\n",
      "INFO:tensorflow:step 7, accuracy 0.8333, loss 1.394208, 0.55 steps/sec, 2.21 examples/sec\n",
      "INFO:tensorflow:step 8, accuracy 0.8333, loss 1.150729, 0.57 steps/sec, 2.27 examples/sec\n",
      "INFO:tensorflow:step 9, accuracy 1.0000, loss 0.887692, 0.57 steps/sec, 2.30 examples/sec\n",
      "INFO:tensorflow:step 10, accuracy 1.0000, loss 0.735094, 0.56 steps/sec, 2.23 examples/sec\n",
      "INFO:tensorflow:step 11, accuracy 1.0000, loss 0.583280, 0.55 steps/sec, 2.20 examples/sec\n",
      "INFO:tensorflow:step 12, accuracy 1.0000, loss 0.495507, 0.55 steps/sec, 2.22 examples/sec\n",
      "INFO:tensorflow:step 13, accuracy 1.0000, loss 0.437006, 0.54 steps/sec, 2.18 examples/sec\n",
      "INFO:tensorflow:step 14, accuracy 1.0000, loss 0.441486, 0.56 steps/sec, 2.24 examples/sec\n",
      "INFO:tensorflow:step 15, accuracy 1.0000, loss 0.398617, 0.58 steps/sec, 2.31 examples/sec\n",
      "INFO:tensorflow:step 16, accuracy 1.0000, loss 0.327071, 0.56 steps/sec, 2.24 examples/sec\n",
      "INFO:tensorflow:step 17, accuracy 1.0000, loss 0.327937, 0.51 steps/sec, 2.03 examples/sec\n",
      "INFO:tensorflow:step 18, accuracy 1.0000, loss 0.342328, 0.53 steps/sec, 2.10 examples/sec\n",
      "INFO:tensorflow:step 19, accuracy 1.0000, loss 0.314543, 0.53 steps/sec, 2.13 examples/sec\n",
      "INFO:tensorflow:step 20, accuracy 1.0000, loss 0.295016, 0.54 steps/sec, 2.17 examples/sec\n"
     ]
    }
   ],
   "source": [
    "model.fit(X, y, total_steps=20)"
   ]
  },
  {
   "cell_type": "markdown",
   "id": "fallen-hundred",
   "metadata": {},
   "source": [
    "# 推理"
   ]
  },
  {
   "cell_type": "code",
   "execution_count": 5,
   "id": "opposite-pantyhose",
   "metadata": {},
   "outputs": [
    {
     "name": "stdout",
     "output_type": "stream",
     "text": [
      "INFO:tensorflow:Time usage 0m-1.23s, 0.81 steps/sec, 3.26 examples/sec\n"
     ]
    },
    {
     "data": {
      "text/plain": [
       "{'preds': [[0, 2], [1], [1], []],\n",
       " 'probs': array([[0.86912775, 0.05778602, 0.8703747 ],\n",
       "        [0.05608854, 0.9292394 , 0.05454683],\n",
       "        [0.05532646, 0.93023646, 0.05480686],\n",
       "        [0.08680403, 0.20423776, 0.08318463]], dtype=float32)}"
      ]
     },
     "execution_count": 5,
     "metadata": {},
     "output_type": "execute_result"
    }
   ],
   "source": [
    "model.predict(X)"
   ]
  },
  {
   "cell_type": "markdown",
   "id": "fundamental-poverty",
   "metadata": {},
   "source": [
    "# 评分"
   ]
  },
  {
   "cell_type": "code",
   "execution_count": 6,
   "id": "accessory-lesbian",
   "metadata": {},
   "outputs": [
    {
     "name": "stdout",
     "output_type": "stream",
     "text": [
      "INFO:tensorflow:Time usage 0m-0.98s, 1.02 steps/sec, 4.09 examples/sec\n"
     ]
    },
    {
     "data": {
      "text/plain": [
       "{'accuracy': 1.0, 'loss': 0.27938238}"
      ]
     },
     "execution_count": 6,
     "metadata": {},
     "output_type": "execute_result"
    }
   ],
   "source": [
    "model.score(X, y)"
   ]
  }
 ],
 "metadata": {
  "kernelspec": {
   "display_name": "Python 3",
   "language": "python",
   "name": "python3"
  },
  "language_info": {
   "codemirror_mode": {
    "name": "ipython",
    "version": 3
   },
   "file_extension": ".py",
   "mimetype": "text/x-python",
   "name": "python",
   "nbconvert_exporter": "python",
   "pygments_lexer": "ipython3",
   "version": "3.8.2"
  }
 },
 "nbformat": 4,
 "nbformat_minor": 5
}
