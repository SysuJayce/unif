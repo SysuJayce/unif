{
 "cells": [
  {
   "cell_type": "markdown",
   "id": "hybrid-scratch",
   "metadata": {},
   "source": [
    "# ALBERTBinaryClassifier\n",
    "\n",
    "\n",
    "可用的中文预训练参数：\n",
    "[`albert-tiny`](https://storage.googleapis.com/albert_zh/albert_tiny_zh_google.zip),[`albert-small`](https://storage.googleapis.com/albert_zh/albert_small_zh_google.zip),[`albert-base`](https://storage.googleapis.com/albert_zh/albert_base_zh_additional_36k_steps.zip),[`albert-large`](https://storage.googleapis.com/albert_zh/albert_large_zh.zip),[`albert-xlarge`](https://storage.googleapis.com/albert_zh/albert_xlarge_zh_183k.zip)"
   ]
  },
  {
   "cell_type": "code",
   "execution_count": 1,
   "id": "rotary-academy",
   "metadata": {},
   "outputs": [
    {
     "name": "stdout",
     "output_type": "stream",
     "text": [
      "v2.5.0\n"
     ]
    }
   ],
   "source": [
    "import uf\n",
    "\n",
    "print(uf.__version__)"
   ]
  },
  {
   "cell_type": "code",
   "execution_count": 2,
   "id": "velvet-symbol",
   "metadata": {},
   "outputs": [
    {
     "name": "stdout",
     "output_type": "stream",
     "text": [
      "uf.ALBERTBinaryClassifier(\n",
      "    config_file='../../ref/albert_config.json',\n",
      "    vocab_file='../../ref/vocab.txt',\n",
      "    max_seq_length=128,\n",
      "    label_size=None,\n",
      "    label_weight=None,\n",
      "    init_checkpoint=None,\n",
      "    output_dir=None,\n",
      "    gpu_ids=None,\n",
      "    drop_pooler=False,\n",
      "    do_lower_case=True,\n",
      "    truncate_method='LIFO',\n",
      ")\n"
     ]
    }
   ],
   "source": [
    "model = uf.ALBERTBinaryClassifier(\"../../ref/albert_config.json\", \"../../ref/vocab.txt\")\n",
    "print(model)"
   ]
  },
  {
   "cell_type": "code",
   "execution_count": 3,
   "id": "drawn-breathing",
   "metadata": {},
   "outputs": [],
   "source": [
    "X = [\"天亮以前说再见\", \"笑着泪流满面\", \"去迎接应该你的\", \"更好的明天\"]\n",
    "y = [[0, 2], [1], [1], []]"
   ]
  },
  {
   "cell_type": "markdown",
   "id": "vanilla-fault",
   "metadata": {},
   "source": [
    "# 训练"
   ]
  },
  {
   "cell_type": "code",
   "execution_count": 4,
   "id": "excellent-religion",
   "metadata": {},
   "outputs": [
    {
     "name": "stdout",
     "output_type": "stream",
     "text": [
      "WARNING:tensorflow:From c:\\Users\\Luv_d\\AppData\\Local\\Programs\\Python\\Python39\\lib\\site-packages\\tensorflow\\python\\util\\dispatch.py:1176: calling dropout (from tensorflow.python.ops.nn_ops) with keep_prob is deprecated and will be removed in a future version.\n",
      "Instructions for updating:\n",
      "Please use `rate` instead of `keep_prob`. Rate should be set to `rate = 1 - keep_prob`.\n"
     ]
    },
    {
     "name": "stderr",
     "output_type": "stream",
     "text": [
      "c:\\Users\\Luv_d\\AppData\\Local\\Programs\\Python\\Python39\\lib\\site-packages\\uf-2.5.0-py3.9.egg\\uf\\apps\\albert\\albert.py:131: UserWarning: `tf.layers.dense` is deprecated and will be removed in a future version. Please use `tf.keras.layers.Dense` instead.\n",
      "  self.pooled_output = tf.layers.dense(\n"
     ]
    },
    {
     "name": "stdout",
     "output_type": "stream",
     "text": [
      "INFO:tensorflow:Build graph with 31,646,217 parameters (among which 10,548,739 are trainable)\n",
      "INFO:tensorflow:Running local_init_op\n",
      "INFO:tensorflow:Done running local_init_op\n",
      "INFO:tensorflow:Running training on 4 samples (step 0 -> 20)\n",
      "INFO:tensorflow:step 1, accuracy 0.5000, loss 2.023024, 0.29 steps/sec, 1.18 examples/sec\n",
      "INFO:tensorflow:step 2, accuracy 0.7500, loss 1.928661, 0.74 steps/sec, 2.96 examples/sec\n",
      "INFO:tensorflow:step 3, accuracy 0.6667, loss 1.852815, 0.74 steps/sec, 2.96 examples/sec\n",
      "INFO:tensorflow:step 4, accuracy 0.6667, loss 1.741406, 0.69 steps/sec, 2.75 examples/sec\n",
      "INFO:tensorflow:step 5, accuracy 0.6667, loss 1.728086, 0.72 steps/sec, 2.88 examples/sec\n",
      "INFO:tensorflow:step 6, accuracy 0.6667, loss 1.683090, 0.75 steps/sec, 2.99 examples/sec\n",
      "INFO:tensorflow:step 7, accuracy 0.6667, loss 1.577770, 0.71 steps/sec, 2.83 examples/sec\n",
      "INFO:tensorflow:step 8, accuracy 0.8333, loss 1.478713, 0.67 steps/sec, 2.70 examples/sec\n",
      "INFO:tensorflow:step 9, accuracy 0.8333, loss 1.241995, 0.64 steps/sec, 2.54 examples/sec\n",
      "INFO:tensorflow:step 10, accuracy 0.9167, loss 1.029431, 0.66 steps/sec, 2.65 examples/sec\n",
      "INFO:tensorflow:step 11, accuracy 1.0000, loss 0.851520, 0.71 steps/sec, 2.86 examples/sec\n",
      "INFO:tensorflow:step 12, accuracy 1.0000, loss 0.701419, 0.72 steps/sec, 2.90 examples/sec\n",
      "INFO:tensorflow:step 13, accuracy 1.0000, loss 0.583810, 0.74 steps/sec, 2.95 examples/sec\n",
      "INFO:tensorflow:step 14, accuracy 1.0000, loss 0.555457, 0.74 steps/sec, 2.96 examples/sec\n",
      "INFO:tensorflow:step 15, accuracy 1.0000, loss 0.472969, 0.75 steps/sec, 3.02 examples/sec\n",
      "INFO:tensorflow:step 16, accuracy 1.0000, loss 0.432994, 0.76 steps/sec, 3.02 examples/sec\n",
      "INFO:tensorflow:step 17, accuracy 1.0000, loss 0.409789, 0.75 steps/sec, 3.00 examples/sec\n",
      "INFO:tensorflow:step 18, accuracy 1.0000, loss 0.360566, 0.73 steps/sec, 2.94 examples/sec\n",
      "INFO:tensorflow:step 19, accuracy 1.0000, loss 0.354453, 0.75 steps/sec, 2.99 examples/sec\n",
      "INFO:tensorflow:step 20, accuracy 1.0000, loss 0.342946, 0.75 steps/sec, 3.01 examples/sec\n"
     ]
    }
   ],
   "source": [
    "model.fit(X, y, total_steps=20)"
   ]
  },
  {
   "cell_type": "markdown",
   "id": "fallen-hundred",
   "metadata": {},
   "source": [
    "# 推理"
   ]
  },
  {
   "cell_type": "code",
   "execution_count": 5,
   "id": "opposite-pantyhose",
   "metadata": {},
   "outputs": [
    {
     "name": "stdout",
     "output_type": "stream",
     "text": [
      "INFO:tensorflow:Running inference on 4 samples\n",
      "INFO:tensorflow:process 100.0%, 4.69 examples/sec\n"
     ]
    },
    {
     "data": {
      "text/plain": [
       "{\"preds\": [[0, 2], [1], [1], []],\n",
       " \"probs\": array([[0.86758035, 0.0832812 , 0.82625103],\n",
       "        [0.06166317, 0.9159456 , 0.08128973],\n",
       "        [0.06135833, 0.9129548 , 0.08025383],\n",
       "        [0.08951612, 0.21249074, 0.12003895]], dtype=float32)}"
      ]
     },
     "execution_count": 5,
     "metadata": {},
     "output_type": "execute_result"
    }
   ],
   "source": [
    "model.predict(X)"
   ]
  },
  {
   "cell_type": "markdown",
   "id": "fundamental-poverty",
   "metadata": {},
   "source": [
    "# 评分"
   ]
  },
  {
   "cell_type": "code",
   "execution_count": 6,
   "id": "accessory-lesbian",
   "metadata": {},
   "outputs": [
    {
     "name": "stdout",
     "output_type": "stream",
     "text": [
      "INFO:tensorflow:Running scoring on 4 samples\n",
      "INFO:tensorflow:process 100.0%, 5.36 examples/sec\n"
     ]
    },
    {
     "data": {
      "text/plain": [
       "{\"accuracy\": 1.0, \"loss\": 0.33866802}"
      ]
     },
     "execution_count": 6,
     "metadata": {},
     "output_type": "execute_result"
    }
   ],
   "source": [
    "model.score(X, y)"
   ]
  }
 ],
 "metadata": {
  "kernelspec": {
   "display_name": "Python 3.9.13 64-bit",
   "language": "python",
   "name": "python3"
  },
  "language_info": {
   "codemirror_mode": {
    "name": "ipython",
    "version": 3
   },
   "file_extension": ".py",
   "mimetype": "text/x-python",
   "name": "python",
   "nbconvert_exporter": "python",
   "pygments_lexer": "ipython3",
   "version": "3.9.13"
  },
  "vscode": {
   "interpreter": {
    "hash": "265fd6f62f200408acbbeae0248f34bed9f93569a643842b7a25d2cd76cae5e5"
   }
  }
 },
 "nbformat": 4,
 "nbformat_minor": 5
}
