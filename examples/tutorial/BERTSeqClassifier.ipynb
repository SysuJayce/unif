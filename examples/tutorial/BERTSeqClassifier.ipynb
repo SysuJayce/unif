{
 "cells": [
  {
   "cell_type": "markdown",
   "id": "split-salad",
   "metadata": {},
   "source": [
    "# BERTSeqClassifier\n",
    "\n",
    "可用的中文预训练参数：[`bert-base`](https://storage.googleapis.com/bert_models/2018_11_03/chinese_L-12_H-768_A-12.zip),[`roberta-wwm-ext-base`](https://drive.google.com/uc?export=download&id=1jMAKIJmPn7kADgD3yQZhpsqM-IRM1qZt),[`roberta-wwm-ext-large`](https://drive.google.com/uc?export=download&id=1dtad0FFzG11CBsawu8hvwwzU2R0FDI94),[`macbert-base`](https://drive.google.com/uc?export=download&id=1aV69OhYzIwj_hn-kO1RiBa-m8QAusQ5b),[`macbert-large`](https://drive.google.com/uc?export=download&id=1lWYxnk1EqTA2Q20_IShxBrCPc5VSDCkT)"
   ]
  },
  {
   "cell_type": "code",
   "execution_count": 1,
   "id": "rotary-academy",
   "metadata": {},
   "outputs": [
    {
     "name": "stdout",
     "output_type": "stream",
     "text": [
      "v2.5.0\n"
     ]
    }
   ],
   "source": [
    "import uf\n",
    "\n",
    "print(uf.__version__)"
   ]
  },
  {
   "cell_type": "code",
   "execution_count": 2,
   "id": "velvet-symbol",
   "metadata": {},
   "outputs": [
    {
     "name": "stdout",
     "output_type": "stream",
     "text": [
      "uf.BERTSeqClassifier(\n",
      "    config_file=\"../../ref/bert_config.json\",\n",
      "    vocab_file=\"../../ref/vocab.txt\",\n",
      "    max_seq_length=128,\n",
      "    label_size=None,\n",
      "    init_checkpoint=None,\n",
      "    output_dir=None,\n",
      "    gpu_ids=None,\n",
      "    do_lower_case=True,\n",
      "    truncate_method=\"LIFO\",\n",
      ")\n"
     ]
    }
   ],
   "source": [
    "model = uf.BERTSeqClassifier(\"../../ref/bert_config.json\", \"../../ref/vocab.txt\")\n",
    "print(model)"
   ]
  },
  {
   "cell_type": "code",
   "execution_count": 3,
   "id": "drawn-breathing",
   "metadata": {},
   "outputs": [],
   "source": [
    "X_tokenized = [[\"天\", \"亮\", \"以\", \"前\", \"说\", \"再\", \"见\"], [\"笑\", \"着\", \"泪\", \"流\", \"满\", \"面\"]]\n",
    "y = [[0, 0, 0, 0, 0, 1, 1], [0, 0, 1, 1, 0, 0]]"
   ]
  },
  {
   "cell_type": "markdown",
   "id": "vanilla-fault",
   "metadata": {},
   "source": [
    "# 训练"
   ]
  },
  {
   "cell_type": "code",
   "execution_count": 4,
   "id": "excellent-religion",
   "metadata": {},
   "outputs": [
    {
     "name": "stdout",
     "output_type": "stream",
     "text": [
      "WARNING:tensorflow:From c:\\Users\\Luv_d\\AppData\\Local\\Programs\\Python\\Python39\\lib\\site-packages\\tensorflow\\python\\util\\dispatch.py:1176: calling dropout (from tensorflow.python.ops.nn_ops) with keep_prob is deprecated and will be removed in a future version.\n",
      "Instructions for updating:\n",
      "Please use `rate` instead of `keep_prob`. Rate should be set to `rate = 1 - keep_prob`.\n"
     ]
    },
    {
     "name": "stderr",
     "output_type": "stream",
     "text": [
      "c:\\Users\\Luv_d\\AppData\\Local\\Programs\\Python\\Python39\\lib\\site-packages\\uf-2.5.0-py3.9.egg\\uf\\apps\\bert\\bert.py:272: UserWarning: `tf.layers.dense` is deprecated and will be removed in a future version. Please use `tf.keras.layers.Dense` instead.\n",
      "  query_layer = tf.layers.dense(\n",
      "c:\\Users\\Luv_d\\AppData\\Local\\Programs\\Python\\Python39\\lib\\site-packages\\uf-2.5.0-py3.9.egg\\uf\\apps\\bert\\bert.py:282: UserWarning: `tf.layers.dense` is deprecated and will be removed in a future version. Please use `tf.keras.layers.Dense` instead.\n",
      "  key_layer = tf.layers.dense(\n",
      "c:\\Users\\Luv_d\\AppData\\Local\\Programs\\Python\\Python39\\lib\\site-packages\\uf-2.5.0-py3.9.egg\\uf\\apps\\bert\\bert.py:292: UserWarning: `tf.layers.dense` is deprecated and will be removed in a future version. Please use `tf.keras.layers.Dense` instead.\n",
      "  value_layer = tf.layers.dense(\n",
      "c:\\Users\\Luv_d\\AppData\\Local\\Programs\\Python\\Python39\\lib\\site-packages\\uf-2.5.0-py3.9.egg\\uf\\apps\\bert\\bert.py:416: UserWarning: `tf.layers.dense` is deprecated and will be removed in a future version. Please use `tf.keras.layers.Dense` instead.\n",
      "  attention_output = tf.layers.dense(\n",
      "c:\\Users\\Luv_d\\AppData\\Local\\Programs\\Python\\Python39\\lib\\site-packages\\uf-2.5.0-py3.9.egg\\uf\\apps\\bert\\bert.py:428: UserWarning: `tf.layers.dense` is deprecated and will be removed in a future version. Please use `tf.keras.layers.Dense` instead.\n",
      "  intermediate_output = tf.layers.dense(\n",
      "c:\\Users\\Luv_d\\AppData\\Local\\Programs\\Python\\Python39\\lib\\site-packages\\uf-2.5.0-py3.9.egg\\uf\\apps\\bert\\bert.py:438: UserWarning: `tf.layers.dense` is deprecated and will be removed in a future version. Please use `tf.keras.layers.Dense` instead.\n",
      "  layer_output = tf.layers.dense(\n",
      "c:\\Users\\Luv_d\\AppData\\Local\\Programs\\Python\\Python39\\lib\\site-packages\\uf-2.5.0-py3.9.egg\\uf\\apps\\bert\\bert.py:107: UserWarning: `tf.layers.dense` is deprecated and will be removed in a future version. Please use `tf.keras.layers.Dense` instead.\n",
      "  self.pooled_output = tf.layers.dense(\n"
     ]
    },
    {
     "name": "stdout",
     "output_type": "stream",
     "text": [
      "INFO:tensorflow:Build graph with 305,626,374 parameters (among which 102,269,186 are trainable)\n",
      "INFO:tensorflow:Running local_init_op\n",
      "INFO:tensorflow:Done running local_init_op\n",
      "INFO:tensorflow:Running training on 2 samples (step 0 -> 20)\n",
      "INFO:tensorflow:step 1, accuracy 0.3846, loss 0.818061, 0.07 steps/sec, 0.13 examples/sec\n",
      "INFO:tensorflow:step 2, accuracy 0.2308, loss 0.862863, 0.21 steps/sec, 0.42 examples/sec\n",
      "INFO:tensorflow:step 3, accuracy 0.6923, loss 0.921003, 0.33 steps/sec, 0.65 examples/sec\n",
      "INFO:tensorflow:step 4, accuracy 0.6923, loss 0.698519, 0.27 steps/sec, 0.54 examples/sec\n",
      "INFO:tensorflow:step 5, accuracy 1.0000, loss 0.111205, 0.26 steps/sec, 0.52 examples/sec\n",
      "INFO:tensorflow:step 6, accuracy 0.7692, loss 0.361469, 0.31 steps/sec, 0.62 examples/sec\n",
      "INFO:tensorflow:step 7, accuracy 0.8462, loss 0.243153, 0.33 steps/sec, 0.66 examples/sec\n",
      "INFO:tensorflow:step 8, accuracy 1.0000, loss 0.023673, 0.34 steps/sec, 0.68 examples/sec\n",
      "INFO:tensorflow:step 9, accuracy 1.0000, loss 0.004654, 0.34 steps/sec, 0.67 examples/sec\n",
      "INFO:tensorflow:step 10, accuracy 1.0000, loss 0.026563, 0.36 steps/sec, 0.72 examples/sec\n",
      "INFO:tensorflow:step 11, accuracy 1.0000, loss 0.003843, 0.39 steps/sec, 0.78 examples/sec\n",
      "INFO:tensorflow:step 12, accuracy 1.0000, loss 0.001234, 0.34 steps/sec, 0.68 examples/sec\n",
      "INFO:tensorflow:step 13, accuracy 1.0000, loss 0.000638, 0.43 steps/sec, 0.85 examples/sec\n",
      "INFO:tensorflow:step 14, accuracy 1.0000, loss 0.000225, 0.49 steps/sec, 0.99 examples/sec\n",
      "INFO:tensorflow:step 15, accuracy 1.0000, loss 0.000090, 0.50 steps/sec, 1.00 examples/sec\n",
      "INFO:tensorflow:step 16, accuracy 1.0000, loss 0.000078, 0.62 steps/sec, 1.24 examples/sec\n",
      "INFO:tensorflow:step 17, accuracy 1.0000, loss 0.000050, 0.56 steps/sec, 1.11 examples/sec\n",
      "INFO:tensorflow:step 18, accuracy 1.0000, loss 0.000066, 0.50 steps/sec, 1.00 examples/sec\n",
      "INFO:tensorflow:step 19, accuracy 1.0000, loss 0.000050, 0.58 steps/sec, 1.15 examples/sec\n",
      "INFO:tensorflow:step 20, accuracy 1.0000, loss 0.000065, 0.52 steps/sec, 1.05 examples/sec\n"
     ]
    }
   ],
   "source": [
    "model.fit(X_tokenized=X_tokenized, y=y, total_steps=20)"
   ]
  },
  {
   "cell_type": "markdown",
   "id": "fallen-hundred",
   "metadata": {},
   "source": [
    "# 推理"
   ]
  },
  {
   "cell_type": "code",
   "execution_count": 5,
   "id": "opposite-pantyhose",
   "metadata": {},
   "outputs": [
    {
     "name": "stdout",
     "output_type": "stream",
     "text": [
      "INFO:tensorflow:Running inference on 2 samples\n",
      "INFO:tensorflow:process 100.0%, 0.81 examples/sec\n"
     ]
    },
    {
     "data": {
      "text/plain": [
       "{'preds': [[0, 0, 0, 0, 0, 1, 1], [0, 0, 1, 1, 0, 0]],\n",
       " 'probs': array([[[9.99993801e-01, 6.19789989e-06],\n",
       "         [9.99987960e-01, 1.19946080e-05],\n",
       "         [9.99993682e-01, 6.34839489e-06],\n",
       "         [9.99993920e-01, 6.11839459e-06],\n",
       "         [9.99988675e-01, 1.12735970e-05],\n",
       "         [1.77452675e-05, 9.99982238e-01],\n",
       "         [1.55123253e-05, 9.99984503e-01],\n",
       "         [9.99112308e-01, 8.87653499e-04],\n",
       "         [9.99872565e-01, 1.27423991e-04],\n",
       "         [9.99768198e-01, 2.31827624e-04],\n",
       "         [9.99659419e-01, 3.40586790e-04],\n",
       "         [9.99136984e-01, 8.63052614e-04],\n",
       "         [9.99322534e-01, 6.77471864e-04],\n",
       "         [9.99849081e-01, 1.50882726e-04],\n",
       "         [9.99860764e-01, 1.39242256e-04],\n",
       "         [9.99553859e-01, 4.46172431e-04],\n",
       "         [9.98055458e-01, 1.94456545e-03],\n",
       "         [9.99842405e-01, 1.57613962e-04],\n",
       "         [9.99581158e-01, 4.18846786e-04],\n",
       "         [9.99956608e-01, 4.34123394e-05],\n",
       "         [9.99643564e-01, 3.56428238e-04],\n",
       "         [9.99721706e-01, 2.78270163e-04],\n",
       "         [9.99840856e-01, 1.59065152e-04],\n",
       "         [9.99608934e-01, 3.91134323e-04],\n",
       "         [9.99857783e-01, 1.42199264e-04],\n",
       "         [9.99833107e-01, 1.66838319e-04],\n",
       "         [9.99848843e-01, 1.51171320e-04],\n",
       "         [9.99729216e-01, 2.70789576e-04],\n",
       "         [9.98509943e-01, 1.49006711e-03],\n",
       "         [9.99923944e-01, 7.60649709e-05],\n",
       "         [9.99895573e-01, 1.04369865e-04],\n",
       "         [9.99311447e-01, 6.88558153e-04],\n",
       "         [9.99275744e-01, 7.24243349e-04],\n",
       "         [9.99167085e-01, 8.32931837e-04],\n",
       "         [9.99534607e-01, 4.65473277e-04],\n",
       "         [9.99300838e-01, 6.99168595e-04],\n",
       "         [9.99827087e-01, 1.72895365e-04],\n",
       "         [9.99186575e-01, 8.13406950e-04],\n",
       "         [9.99596298e-01, 4.03743412e-04],\n",
       "         [9.99738872e-01, 2.61151465e-04],\n",
       "         [9.99520779e-01, 4.79173177e-04],\n",
       "         [9.99845624e-01, 1.54344685e-04],\n",
       "         [9.91131842e-01, 8.86819419e-03],\n",
       "         [9.99847889e-01, 1.52069988e-04],\n",
       "         [9.99079108e-01, 9.20892111e-04],\n",
       "         [9.99349058e-01, 6.50973467e-04],\n",
       "         [9.99432385e-01, 5.67581796e-04],\n",
       "         [9.99290943e-01, 7.09006214e-04],\n",
       "         [9.99392033e-01, 6.07953931e-04],\n",
       "         [9.99760091e-01, 2.39952118e-04],\n",
       "         [9.99618411e-01, 3.81548423e-04],\n",
       "         [9.95632231e-01, 4.36771382e-03],\n",
       "         [9.99736726e-01, 2.63258145e-04],\n",
       "         [9.99456346e-01, 5.43613685e-04],\n",
       "         [9.99841332e-01, 1.58700816e-04],\n",
       "         [9.99483466e-01, 5.16515691e-04],\n",
       "         [9.99919057e-01, 8.09129124e-05],\n",
       "         [9.99895096e-01, 1.04884879e-04],\n",
       "         [9.99355495e-01, 6.44561660e-04],\n",
       "         [9.99269664e-01, 7.30344327e-04],\n",
       "         [9.99813378e-01, 1.86678226e-04],\n",
       "         [9.99808609e-01, 1.91358500e-04],\n",
       "         [9.99781549e-01, 2.18440662e-04],\n",
       "         [9.99722302e-01, 2.77671759e-04],\n",
       "         [9.92222726e-01, 7.77731324e-03],\n",
       "         [9.99859810e-01, 1.40136806e-04],\n",
       "         [9.99262750e-01, 7.37298978e-04],\n",
       "         [9.99213815e-01, 7.86135904e-04],\n",
       "         [9.99690294e-01, 3.09680298e-04],\n",
       "         [9.99903440e-01, 9.65712970e-05],\n",
       "         [9.99787867e-01, 2.12129540e-04],\n",
       "         [9.99572098e-01, 4.27864463e-04],\n",
       "         [9.99535322e-01, 4.64740384e-04],\n",
       "         [9.99928355e-01, 7.16655049e-05],\n",
       "         [9.99925971e-01, 7.40132600e-05],\n",
       "         [9.99846339e-01, 1.53692788e-04],\n",
       "         [9.99532461e-01, 4.67598555e-04],\n",
       "         [9.99232292e-01, 7.67713005e-04],\n",
       "         [9.99685884e-01, 3.14123987e-04],\n",
       "         [9.99265373e-01, 7.34674803e-04],\n",
       "         [9.99828339e-01, 1.71623411e-04],\n",
       "         [9.98546898e-01, 1.45307311e-03],\n",
       "         [9.98548567e-01, 1.45142747e-03],\n",
       "         [9.99090075e-01, 9.09983355e-04],\n",
       "         [9.99766886e-01, 2.33081402e-04],\n",
       "         [9.98720527e-01, 1.27952022e-03],\n",
       "         [9.99483228e-01, 5.16711152e-04],\n",
       "         [9.99640703e-01, 3.59238125e-04],\n",
       "         [9.99900818e-01, 9.91336346e-05],\n",
       "         [9.99841690e-01, 1.58312992e-04],\n",
       "         [9.99592125e-01, 4.07846557e-04],\n",
       "         [9.99602139e-01, 3.97934782e-04],\n",
       "         [9.99278009e-01, 7.22064637e-04],\n",
       "         [9.99929905e-01, 7.00446835e-05],\n",
       "         [9.99785602e-01, 2.14423344e-04],\n",
       "         [9.99754727e-01, 2.45268893e-04],\n",
       "         [9.99763191e-01, 2.36807013e-04],\n",
       "         [9.99840260e-01, 1.59684132e-04],\n",
       "         [9.99852300e-01, 1.47645740e-04],\n",
       "         [9.99937892e-01, 6.21253421e-05],\n",
       "         [9.99783933e-01, 2.16048677e-04],\n",
       "         [9.99690652e-01, 3.09316150e-04],\n",
       "         [9.99875188e-01, 1.24787519e-04],\n",
       "         [9.98993695e-01, 1.00627157e-03],\n",
       "         [9.99133050e-01, 8.67010618e-04],\n",
       "         [9.98327672e-01, 1.67234812e-03],\n",
       "         [9.99769628e-01, 2.30432910e-04],\n",
       "         [9.99913692e-01, 8.62903835e-05],\n",
       "         [9.99758899e-01, 2.41059199e-04],\n",
       "         [9.99565542e-01, 4.34449496e-04],\n",
       "         [9.99421716e-01, 5.78274718e-04],\n",
       "         [9.99538898e-01, 4.61151125e-04],\n",
       "         [9.99654174e-01, 3.45775275e-04],\n",
       "         [9.99802411e-01, 1.97589499e-04],\n",
       "         [9.99933004e-01, 6.69442961e-05],\n",
       "         [9.99003351e-01, 9.96688963e-04],\n",
       "         [9.99829054e-01, 1.70859086e-04],\n",
       "         [9.99413013e-01, 5.86961105e-04],\n",
       "         [9.99760568e-01, 2.39471483e-04],\n",
       "         [9.99709666e-01, 2.90275086e-04],\n",
       "         [9.99779522e-01, 2.20544971e-04],\n",
       "         [9.99504447e-01, 4.95570945e-04],\n",
       "         [9.99638796e-01, 3.61141661e-04],\n",
       "         [9.98987019e-01, 1.01297977e-03],\n",
       "         [9.98973131e-01, 1.02693192e-03],\n",
       "         [9.99710858e-01, 2.89145712e-04],\n",
       "         [9.99624968e-01, 3.75023839e-04],\n",
       "         [9.97108996e-01, 2.89098546e-03]],\n",
       " \n",
       "        [[9.99987006e-01, 1.30119797e-05],\n",
       "         [9.99989033e-01, 1.09829552e-05],\n",
       "         [3.86869579e-05, 9.99961257e-01],\n",
       "         [7.67485562e-06, 9.99992371e-01],\n",
       "         [9.99987125e-01, 1.28191350e-05],\n",
       "         [9.99961019e-01, 3.89334127e-05],\n",
       "         [2.07795873e-02, 9.79220390e-01],\n",
       "         [9.87338424e-01, 1.26615148e-02],\n",
       "         [9.99085665e-01, 9.14317439e-04],\n",
       "         [9.97656584e-01, 2.34341668e-03],\n",
       "         [9.96227741e-01, 3.77228181e-03],\n",
       "         [9.90584433e-01, 9.41556413e-03],\n",
       "         [9.93075490e-01, 6.92444853e-03],\n",
       "         [9.98988569e-01, 1.01147639e-03],\n",
       "         [9.99050915e-01, 9.49023524e-04],\n",
       "         [9.95818675e-01, 4.18139016e-03],\n",
       "         [9.65671539e-01, 3.43284272e-02],\n",
       "         [9.99061286e-01, 9.38732992e-04],\n",
       "         [9.94357526e-01, 5.64248627e-03],\n",
       "         [9.99793589e-01, 2.06381927e-04],\n",
       "         [9.96473014e-01, 3.52691044e-03],\n",
       "         [9.96817470e-01, 3.18254577e-03],\n",
       "         [9.98480141e-01, 1.51991879e-03],\n",
       "         [9.95009184e-01, 4.99077747e-03],\n",
       "         [9.99168515e-01, 8.31452082e-04],\n",
       "         [9.98523891e-01, 1.47611462e-03],\n",
       "         [9.98914719e-01, 1.08530838e-03],\n",
       "         [9.98156369e-01, 1.84356899e-03],\n",
       "         [9.82404172e-01, 1.75958071e-02],\n",
       "         [9.99582350e-01, 4.17627947e-04],\n",
       "         [9.99386549e-01, 6.13452634e-04],\n",
       "         [9.93140638e-01, 6.85941055e-03],\n",
       "         [9.93001580e-01, 6.99842814e-03],\n",
       "         [9.87649977e-01, 1.23500517e-02],\n",
       "         [9.96758282e-01, 3.24177020e-03],\n",
       "         [9.91145909e-01, 8.85414891e-03],\n",
       "         [9.98557985e-01, 1.44197373e-03],\n",
       "         [9.90406930e-01, 9.59310587e-03],\n",
       "         [9.96612370e-01, 3.38757364e-03],\n",
       "         [9.97758090e-01, 2.24198494e-03],\n",
       "         [9.95569408e-01, 4.43062186e-03],\n",
       "         [9.99044240e-01, 9.55731026e-04],\n",
       "         [8.81197393e-01, 1.18802637e-01],\n",
       "         [9.98919129e-01, 1.08087528e-03],\n",
       "         [9.89881456e-01, 1.01185599e-02],\n",
       "         [9.93004143e-01, 6.99586049e-03],\n",
       "         [9.95190144e-01, 4.80991043e-03],\n",
       "         [9.93196011e-01, 6.80396659e-03],\n",
       "         [9.93281066e-01, 6.71900436e-03],\n",
       "         [9.98363554e-01, 1.63649011e-03],\n",
       "         [9.97146785e-01, 2.85317306e-03],\n",
       "         [9.20480967e-01, 7.95190483e-02],\n",
       "         [9.97711420e-01, 2.28857622e-03],\n",
       "         [9.93564069e-01, 6.43593725e-03],\n",
       "         [9.99054730e-01, 9.45289386e-04],\n",
       "         [9.94963527e-01, 5.03648166e-03],\n",
       "         [9.99651909e-01, 3.48112750e-04],\n",
       "         [9.99404669e-01, 5.95345511e-04],\n",
       "         [9.93211389e-01, 6.78855553e-03],\n",
       "         [9.90409136e-01, 9.59090050e-03],\n",
       "         [9.98480260e-01, 1.51975651e-03],\n",
       "         [9.98511493e-01, 1.48847664e-03],\n",
       "         [9.98519242e-01, 1.48080289e-03],\n",
       "         [9.97487545e-01, 2.51239538e-03],\n",
       "         [8.75199258e-01, 1.24800794e-01],\n",
       "         [9.98905063e-01, 1.09491160e-03],\n",
       "         [9.91819382e-01, 8.18062946e-03],\n",
       "         [9.88370180e-01, 1.16298143e-02],\n",
       "         [9.96986210e-01, 3.01377289e-03],\n",
       "         [9.99479830e-01, 5.20166359e-04],\n",
       "         [9.97923315e-01, 2.07673968e-03],\n",
       "         [9.97304678e-01, 2.69526709e-03],\n",
       "         [9.95851636e-01, 4.14836686e-03],\n",
       "         [9.99739826e-01, 2.60192377e-04],\n",
       "         [9.99591887e-01, 4.08096821e-04],\n",
       "         [9.99213099e-01, 7.86847086e-04],\n",
       "         [9.95714128e-01, 4.28583473e-03],\n",
       "         [9.91098702e-01, 8.90130736e-03],\n",
       "         [9.96828973e-01, 3.17100622e-03],\n",
       "         [9.91474867e-01, 8.52519739e-03],\n",
       "         [9.98737872e-01, 1.26210810e-03],\n",
       "         [9.79015231e-01, 2.09846906e-02],\n",
       "         [9.83045101e-01, 1.69549398e-02],\n",
       "         [9.92425442e-01, 7.57451635e-03],\n",
       "         [9.97715116e-01, 2.28488934e-03],\n",
       "         [9.84786093e-01, 1.52138472e-02],\n",
       "         [9.94420826e-01, 5.57921641e-03],\n",
       "         [9.98063862e-01, 1.93614827e-03],\n",
       "         [9.99502063e-01, 4.97918460e-04],\n",
       "         [9.99075055e-01, 9.24880675e-04],\n",
       "         [9.97004211e-01, 2.99584563e-03],\n",
       "         [9.96096194e-01, 3.90378665e-03],\n",
       "         [9.90615904e-01, 9.38403979e-03],\n",
       "         [9.99698520e-01, 3.01465887e-04],\n",
       "         [9.98481929e-01, 1.51807733e-03],\n",
       "         [9.98170257e-01, 1.82974746e-03],\n",
       "         [9.98496294e-01, 1.50375336e-03],\n",
       "         [9.98969078e-01, 1.03091612e-03],\n",
       "         [9.98556197e-01, 1.44375034e-03],\n",
       "         [9.99707162e-01, 2.92789686e-04],\n",
       "         [9.97975886e-01, 2.02417723e-03],\n",
       "         [9.97478306e-01, 2.52169417e-03],\n",
       "         [9.98968363e-01, 1.03164115e-03],\n",
       "         [9.88916397e-01, 1.10836001e-02],\n",
       "         [9.90646124e-01, 9.35391989e-03],\n",
       "         [9.80012238e-01, 1.99877247e-02],\n",
       "         [9.98353481e-01, 1.64658588e-03],\n",
       "         [9.99444902e-01, 5.55126637e-04],\n",
       "         [9.98048663e-01, 1.95130112e-03],\n",
       "         [9.96851861e-01, 3.14819044e-03],\n",
       "         [9.92620945e-01, 7.37899123e-03],\n",
       "         [9.94030893e-01, 5.96906152e-03],\n",
       "         [9.95959103e-01, 4.04084753e-03],\n",
       "         [9.98370230e-01, 1.62978121e-03],\n",
       "         [9.99669552e-01, 3.30440555e-04],\n",
       "         [9.88988221e-01, 1.10117476e-02],\n",
       "         [9.98781979e-01, 1.21808203e-03],\n",
       "         [9.93286669e-01, 6.71330327e-03],\n",
       "         [9.98085976e-01, 1.91410014e-03],\n",
       "         [9.97733951e-01, 2.26600422e-03],\n",
       "         [9.97576535e-01, 2.42352369e-03],\n",
       "         [9.94557977e-01, 5.44208800e-03],\n",
       "         [9.97888744e-01, 2.11123028e-03],\n",
       "         [9.86376941e-01, 1.36230784e-02],\n",
       "         [9.89111006e-01, 1.08890124e-02],\n",
       "         [9.98386979e-01, 1.61298609e-03],\n",
       "         [9.97373104e-01, 2.62684468e-03],\n",
       "         [9.54500854e-01, 4.54990938e-02]]], dtype=float32)}"
      ]
     },
     "execution_count": 5,
     "metadata": {},
     "output_type": "execute_result"
    }
   ],
   "source": [
    "model.predict(X_tokenized=X_tokenized)"
   ]
  },
  {
   "cell_type": "markdown",
   "id": "fundamental-poverty",
   "metadata": {},
   "source": [
    "# 评分"
   ]
  },
  {
   "cell_type": "code",
   "execution_count": 6,
   "id": "accessory-lesbian",
   "metadata": {},
   "outputs": [
    {
     "name": "stdout",
     "output_type": "stream",
     "text": [
      "INFO:tensorflow:Running scoring on 2 samples\n",
      "INFO:tensorflow:process 100.0%, 3.77 examples/sec\n"
     ]
    },
    {
     "data": {
      "text/plain": [
       "{'accuracy': 1.0, 'loss': 1.5555212e-05}"
      ]
     },
     "execution_count": 6,
     "metadata": {},
     "output_type": "execute_result"
    }
   ],
   "source": [
    "model.score(X_tokenized=X_tokenized, y=y)"
   ]
  }
 ],
 "metadata": {
  "kernelspec": {
   "display_name": "Python 3.9.13 64-bit",
   "language": "python",
   "name": "python3"
  },
  "language_info": {
   "codemirror_mode": {
    "name": "ipython",
    "version": 3
   },
   "file_extension": ".py",
   "mimetype": "text/x-python",
   "name": "python",
   "nbconvert_exporter": "python",
   "pygments_lexer": "ipython3",
   "version": "3.9.13"
  },
  "vscode": {
   "interpreter": {
    "hash": "265fd6f62f200408acbbeae0248f34bed9f93569a643842b7a25d2cd76cae5e5"
   }
  }
 },
 "nbformat": 4,
 "nbformat_minor": 5
}
