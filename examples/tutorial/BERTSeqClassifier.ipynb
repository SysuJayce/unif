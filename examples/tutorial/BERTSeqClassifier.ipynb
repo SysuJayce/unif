{
 "cells": [
  {
   "cell_type": "code",
   "execution_count": 1,
   "id": "rotary-academy",
   "metadata": {},
   "outputs": [
    {
     "name": "stdout",
     "output_type": "stream",
     "text": [
      "v2.3.2\n"
     ]
    }
   ],
   "source": [
    "import uf\n",
    "\n",
    "print(uf.__version__)"
   ]
  },
  {
   "cell_type": "code",
   "execution_count": 2,
   "id": "velvet-symbol",
   "metadata": {},
   "outputs": [
    {
     "name": "stdout",
     "output_type": "stream",
     "text": [
      "uf.BERTSeqClassifier(config_file=\"../../demo/bert_config.json\", vocab_file=\"../../demo/vocab.txt\", max_seq_length=128, label_size=None, init_checkpoint=None, output_dir=None, gpu_ids=None, do_lower_case=True, truncate_method=\"LIFO\")\n"
     ]
    }
   ],
   "source": [
    "model = uf.BERTSeqClassifier('../../demo/bert_config.json', '../../demo/vocab.txt')\n",
    "print(model)"
   ]
  },
  {
   "cell_type": "code",
   "execution_count": 3,
   "id": "drawn-breathing",
   "metadata": {},
   "outputs": [],
   "source": [
    "X_tokenized = [['天', '亮', '以', '前', '说', '再', '见'], ['笑', '着', '泪', '流', '满', '面']]\n",
    "y = [[0, 0, 0, 0, 0, 1, 1], [0, 0, 1, 1, 0, 0]]"
   ]
  },
  {
   "cell_type": "markdown",
   "id": "vanilla-fault",
   "metadata": {},
   "source": [
    "# 训练"
   ]
  },
  {
   "cell_type": "code",
   "execution_count": 4,
   "id": "excellent-religion",
   "metadata": {},
   "outputs": [
    {
     "name": "stdout",
     "output_type": "stream",
     "text": [
      "WARNING:tensorflow:From /Users/geyingli/Library/Python/3.8/lib/python/site-packages/tensorflow/python/util/dispatch.py:1096: calling dropout (from tensorflow.python.ops.nn_ops) with keep_prob is deprecated and will be removed in a future version.\n",
      "Instructions for updating:\n",
      "Please use `rate` instead of `keep_prob`. Rate should be set to `rate = 1 - keep_prob`.\n"
     ]
    },
    {
     "name": "stderr",
     "output_type": "stream",
     "text": [
      "/Users/geyingli/Library/Python/3.8/lib/python/site-packages/uf-2.3.2-py3.8.egg/uf/modeling/bert.py:282: UserWarning: `tf.layers.dense` is deprecated and will be removed in a future version. Please use `tf.keras.layers.Dense` instead.\n",
      "  query_layer = tf.layers.dense(\n",
      "/Users/geyingli/Library/Python/3.8/lib/python/site-packages/keras/legacy_tf_layers/core.py:255: UserWarning: `layer.apply` is deprecated and will be removed in a future version. Please use `layer.__call__` method instead.\n",
      "  return layer.apply(inputs)\n",
      "/Users/geyingli/Library/Python/3.8/lib/python/site-packages/uf-2.3.2-py3.8.egg/uf/modeling/bert.py:291: UserWarning: `tf.layers.dense` is deprecated and will be removed in a future version. Please use `tf.keras.layers.Dense` instead.\n",
      "  key_layer = tf.layers.dense(\n",
      "/Users/geyingli/Library/Python/3.8/lib/python/site-packages/uf-2.3.2-py3.8.egg/uf/modeling/bert.py:300: UserWarning: `tf.layers.dense` is deprecated and will be removed in a future version. Please use `tf.keras.layers.Dense` instead.\n",
      "  value_layer = tf.layers.dense(\n",
      "/Users/geyingli/Library/Python/3.8/lib/python/site-packages/uf-2.3.2-py3.8.egg/uf/modeling/bert.py:430: UserWarning: `tf.layers.dense` is deprecated and will be removed in a future version. Please use `tf.keras.layers.Dense` instead.\n",
      "  attention_output = tf.layers.dense(\n",
      "/Users/geyingli/Library/Python/3.8/lib/python/site-packages/uf-2.3.2-py3.8.egg/uf/modeling/bert.py:445: UserWarning: `tf.layers.dense` is deprecated and will be removed in a future version. Please use `tf.keras.layers.Dense` instead.\n",
      "  intermediate_output = tf.layers.dense(\n",
      "/Users/geyingli/Library/Python/3.8/lib/python/site-packages/uf-2.3.2-py3.8.egg/uf/modeling/bert.py:455: UserWarning: `tf.layers.dense` is deprecated and will be removed in a future version. Please use `tf.keras.layers.Dense` instead.\n",
      "  layer_output = tf.layers.dense(\n",
      "/Users/geyingli/Library/Python/3.8/lib/python/site-packages/uf-2.3.2-py3.8.egg/uf/modeling/bert.py:107: UserWarning: `tf.layers.dense` is deprecated and will be removed in a future version. Please use `tf.keras.layers.Dense` instead.\n",
      "  self.pooled_output = tf.layers.dense(\n"
     ]
    },
    {
     "name": "stdout",
     "output_type": "stream",
     "text": [
      "INFO:tensorflow:Build graph with 305,626,374 parameters (among which 102,269,186 are trainable)\n",
      "INFO:tensorflow:Running local_init_op\n",
      "INFO:tensorflow:Done running local_init_op\n",
      "INFO:tensorflow:Running training on 2 samples (step 0 -> 20)\n",
      "INFO:tensorflow:step 1, accuracy 0.7692, loss 0.660875, 0.04 steps/sec, 0.08 examples/sec\n",
      "INFO:tensorflow:step 2, accuracy 0.5385, loss 0.723180, 0.33 steps/sec, 0.67 examples/sec\n",
      "INFO:tensorflow:step 3, accuracy 0.6923, loss 0.891751, 0.22 steps/sec, 0.45 examples/sec\n",
      "INFO:tensorflow:step 4, accuracy 0.6923, loss 0.659189, 0.43 steps/sec, 0.86 examples/sec\n",
      "INFO:tensorflow:step 5, accuracy 1.0000, loss 0.114598, 0.20 steps/sec, 0.40 examples/sec\n",
      "INFO:tensorflow:step 6, accuracy 1.0000, loss 0.086104, 0.19 steps/sec, 0.38 examples/sec\n",
      "INFO:tensorflow:step 7, accuracy 1.0000, loss 0.022794, 0.31 steps/sec, 0.61 examples/sec\n",
      "INFO:tensorflow:step 8, accuracy 1.0000, loss 0.009663, 0.30 steps/sec, 0.59 examples/sec\n",
      "INFO:tensorflow:step 9, accuracy 1.0000, loss 0.002269, 0.29 steps/sec, 0.58 examples/sec\n",
      "INFO:tensorflow:step 10, accuracy 1.0000, loss 0.000695, 0.32 steps/sec, 0.64 examples/sec\n",
      "INFO:tensorflow:step 11, accuracy 1.0000, loss 0.000400, 0.28 steps/sec, 0.56 examples/sec\n",
      "INFO:tensorflow:step 12, accuracy 1.0000, loss 0.000201, 0.32 steps/sec, 0.64 examples/sec\n",
      "INFO:tensorflow:step 13, accuracy 1.0000, loss 0.000159, 0.34 steps/sec, 0.68 examples/sec\n",
      "INFO:tensorflow:step 14, accuracy 1.0000, loss 0.000118, 0.33 steps/sec, 0.65 examples/sec\n",
      "INFO:tensorflow:step 15, accuracy 1.0000, loss 0.000096, 0.35 steps/sec, 0.69 examples/sec\n",
      "INFO:tensorflow:step 16, accuracy 1.0000, loss 0.000067, 0.34 steps/sec, 0.69 examples/sec\n",
      "INFO:tensorflow:step 17, accuracy 1.0000, loss 0.000055, 0.33 steps/sec, 0.65 examples/sec\n",
      "INFO:tensorflow:step 18, accuracy 1.0000, loss 0.000077, 0.31 steps/sec, 0.63 examples/sec\n",
      "INFO:tensorflow:step 19, accuracy 1.0000, loss 0.000046, 0.33 steps/sec, 0.67 examples/sec\n",
      "INFO:tensorflow:step 20, accuracy 1.0000, loss 0.000071, 0.29 steps/sec, 0.59 examples/sec\n"
     ]
    }
   ],
   "source": [
    "model.fit(X_tokenized=X_tokenized, y=y, total_steps=20)"
   ]
  },
  {
   "cell_type": "markdown",
   "id": "fallen-hundred",
   "metadata": {},
   "source": [
    "# 推理"
   ]
  },
  {
   "cell_type": "code",
   "execution_count": 5,
   "id": "opposite-pantyhose",
   "metadata": {},
   "outputs": [
    {
     "name": "stdout",
     "output_type": "stream",
     "text": [
      "INFO:tensorflow:Time usage 0m-4.54s, 0.22 steps/sec, 0.44 examples/sec\n"
     ]
    },
    {
     "data": {
      "text/plain": [
       "{'preds': [[0, 0, 0, 0, 0, 1, 1], [0, 0, 1, 1, 0, 0]],\n",
       " 'probs': array([[[9.99969721e-01, 3.03256547e-05],\n",
       "         [9.99973774e-01, 2.62116555e-05],\n",
       "         [9.99965072e-01, 3.49749935e-05],\n",
       "         [9.99979019e-01, 2.09643549e-05],\n",
       "         [9.99983191e-01, 1.68263941e-05],\n",
       "         [1.67893381e-06, 9.99998331e-01],\n",
       "         [2.84315956e-06, 9.99997139e-01],\n",
       "         [7.40156293e-01, 2.59843737e-01],\n",
       "         [9.75101590e-01, 2.48983521e-02],\n",
       "         [9.82892156e-01, 1.71079077e-02],\n",
       "         [8.59816849e-01, 1.40183106e-01],\n",
       "         [9.76065218e-01, 2.39347834e-02],\n",
       "         [9.13596869e-01, 8.64031911e-02],\n",
       "         [9.86368358e-01, 1.36316540e-02],\n",
       "         [4.07315612e-01, 5.92684388e-01],\n",
       "         [9.36068237e-01, 6.39317781e-02],\n",
       "         [9.12396789e-01, 8.76032487e-02],\n",
       "         [9.91728187e-01, 8.27178918e-03],\n",
       "         [9.49404001e-01, 5.05959950e-02],\n",
       "         [9.24021065e-01, 7.59789646e-02],\n",
       "         [9.86476302e-01, 1.35237239e-02],\n",
       "         [5.47309518e-01, 4.52690482e-01],\n",
       "         [9.89786863e-01, 1.02130827e-02],\n",
       "         [7.75473177e-01, 2.24526852e-01],\n",
       "         [7.13187337e-01, 2.86812693e-01],\n",
       "         [6.26590312e-01, 3.73409718e-01],\n",
       "         [9.56583500e-01, 4.34164554e-02],\n",
       "         [9.32552993e-01, 6.74469545e-02],\n",
       "         [9.17636275e-01, 8.23637471e-02],\n",
       "         [9.33349252e-01, 6.66508004e-02],\n",
       "         [9.24934387e-01, 7.50656947e-02],\n",
       "         [9.59070921e-01, 4.09290418e-02],\n",
       "         [9.09539282e-01, 9.04606953e-02],\n",
       "         [8.14161360e-01, 1.85838655e-01],\n",
       "         [8.41963768e-01, 1.58036187e-01],\n",
       "         [9.39950287e-01, 6.00496866e-02],\n",
       "         [9.93029416e-01, 6.97054854e-03],\n",
       "         [8.41156423e-01, 1.58843577e-01],\n",
       "         [5.30266762e-01, 4.69733208e-01],\n",
       "         [9.92096782e-01, 7.90318474e-03],\n",
       "         [9.15480554e-01, 8.45193863e-02],\n",
       "         [5.81541240e-01, 4.18458790e-01],\n",
       "         [9.67316568e-01, 3.26834284e-02],\n",
       "         [9.92053866e-01, 7.94611312e-03],\n",
       "         [9.65883672e-01, 3.41162756e-02],\n",
       "         [8.83119941e-01, 1.16880104e-01],\n",
       "         [9.87195373e-01, 1.28046228e-02],\n",
       "         [9.79759514e-01, 2.02404633e-02],\n",
       "         [8.76982689e-01, 1.23017244e-01],\n",
       "         [9.43909824e-01, 5.60901426e-02],\n",
       "         [9.67463851e-01, 3.25362124e-02],\n",
       "         [9.29813087e-01, 7.01869577e-02],\n",
       "         [5.90855718e-01, 4.09144282e-01],\n",
       "         [1.02039650e-01, 8.97960305e-01],\n",
       "         [9.82995927e-01, 1.70040615e-02],\n",
       "         [8.67635250e-01, 1.32364765e-01],\n",
       "         [9.93629634e-01, 6.37031300e-03],\n",
       "         [8.93108666e-01, 1.06891312e-01],\n",
       "         [6.41020834e-01, 3.58979076e-01],\n",
       "         [9.25561905e-01, 7.44380951e-02],\n",
       "         [9.69949245e-01, 3.00508048e-02],\n",
       "         [8.67994606e-01, 1.32005364e-01],\n",
       "         [3.92915159e-01, 6.07084811e-01],\n",
       "         [5.52243054e-01, 4.47757035e-01],\n",
       "         [9.45065022e-01, 5.49349487e-02],\n",
       "         [8.88823032e-01, 1.11176945e-01],\n",
       "         [6.63326323e-01, 3.36673617e-01],\n",
       "         [7.12662041e-01, 2.87337959e-01],\n",
       "         [9.61633086e-01, 3.83669734e-02],\n",
       "         [5.41690350e-01, 4.58309680e-01],\n",
       "         [9.52270269e-01, 4.77297604e-02],\n",
       "         [9.93234694e-01, 6.76532788e-03],\n",
       "         [7.12467134e-01, 2.87532866e-01],\n",
       "         [8.95386934e-01, 1.04613043e-01],\n",
       "         [9.95086372e-01, 4.91362903e-03],\n",
       "         [7.98171461e-01, 2.01828569e-01],\n",
       "         [7.76416481e-01, 2.23583475e-01],\n",
       "         [5.87623477e-01, 4.12376612e-01],\n",
       "         [8.48056674e-01, 1.51943266e-01],\n",
       "         [8.84432673e-01, 1.15567312e-01],\n",
       "         [8.56624126e-01, 1.43375888e-01],\n",
       "         [8.20576072e-01, 1.79423913e-01],\n",
       "         [7.24417686e-01, 2.75582314e-01],\n",
       "         [9.60473239e-01, 3.95268053e-02],\n",
       "         [7.34174371e-01, 2.65825659e-01],\n",
       "         [6.15279734e-01, 3.84720296e-01],\n",
       "         [9.84734178e-01, 1.52658019e-02],\n",
       "         [9.44392323e-01, 5.56076579e-02],\n",
       "         [7.36047566e-01, 2.63952434e-01],\n",
       "         [7.97444105e-01, 2.02555925e-01],\n",
       "         [6.50350392e-01, 3.49649608e-01],\n",
       "         [8.99011970e-01, 1.00988038e-01],\n",
       "         [9.31833148e-01, 6.81668967e-02],\n",
       "         [9.51785684e-01, 4.82142940e-02],\n",
       "         [8.80412221e-01, 1.19587839e-01],\n",
       "         [5.19987822e-01, 4.80012119e-01],\n",
       "         [9.94113266e-01, 5.88676427e-03],\n",
       "         [9.88461852e-01, 1.15381302e-02],\n",
       "         [9.80382800e-01, 1.96172744e-02],\n",
       "         [8.85013759e-01, 1.14986323e-01],\n",
       "         [9.73785281e-01, 2.62147505e-02],\n",
       "         [9.81677592e-01, 1.83224361e-02],\n",
       "         [8.71982515e-01, 1.28017411e-01],\n",
       "         [9.92640436e-01, 7.35954568e-03],\n",
       "         [9.77977514e-01, 2.20224541e-02],\n",
       "         [5.74518919e-01, 4.25481111e-01],\n",
       "         [9.97891128e-01, 2.10890197e-03],\n",
       "         [9.79440451e-01, 2.05594972e-02],\n",
       "         [3.63721609e-01, 6.36278331e-01],\n",
       "         [9.61180210e-01, 3.88198234e-02],\n",
       "         [9.37011421e-01, 6.29885942e-02],\n",
       "         [9.00854468e-01, 9.91455615e-02],\n",
       "         [5.74592412e-01, 4.25407618e-01],\n",
       "         [9.89930630e-01, 1.00693898e-02],\n",
       "         [9.41259027e-01, 5.87409548e-02],\n",
       "         [9.93337989e-01, 6.66199205e-03],\n",
       "         [7.95076966e-01, 2.04923034e-01],\n",
       "         [9.86506402e-01, 1.34936040e-02],\n",
       "         [9.58231330e-01, 4.17687185e-02],\n",
       "         [9.72632349e-01, 2.73676664e-02],\n",
       "         [9.91781294e-01, 8.21876433e-03],\n",
       "         [8.98743153e-01, 1.01256825e-01],\n",
       "         [7.00056612e-01, 2.99943417e-01],\n",
       "         [9.43233967e-01, 5.67659959e-02],\n",
       "         [9.11140800e-01, 8.88592005e-02],\n",
       "         [8.92403007e-01, 1.07597008e-01],\n",
       "         [8.96399736e-01, 1.03600278e-01],\n",
       "         [9.59218800e-01, 4.07811813e-02]],\n",
       " \n",
       "        [[9.99970198e-01, 2.97945317e-05],\n",
       "         [9.99972343e-01, 2.76414576e-05],\n",
       "         [3.56600617e-06, 9.99996424e-01],\n",
       "         [2.34862637e-06, 9.99997616e-01],\n",
       "         [9.99964356e-01, 3.56408855e-05],\n",
       "         [9.99983549e-01, 1.64218709e-05],\n",
       "         [9.53575218e-05, 9.99904633e-01],\n",
       "         [3.17374527e-01, 6.82625473e-01],\n",
       "         [8.47584248e-01, 1.52415767e-01],\n",
       "         [9.29309487e-01, 7.06905648e-02],\n",
       "         [5.32830715e-01, 4.67169255e-01],\n",
       "         [8.94279838e-01, 1.05720088e-01],\n",
       "         [6.91199601e-01, 3.08800399e-01],\n",
       "         [9.21487749e-01, 7.85122737e-02],\n",
       "         [1.04955480e-01, 8.95044565e-01],\n",
       "         [7.12317646e-01, 2.87682325e-01],\n",
       "         [5.72918475e-01, 4.27081555e-01],\n",
       "         [9.57349539e-01, 4.26504314e-02],\n",
       "         [7.85360575e-01, 2.14639440e-01],\n",
       "         [7.13504612e-01, 2.86495358e-01],\n",
       "         [9.52457368e-01, 4.75426614e-02],\n",
       "         [1.62814826e-01, 8.37185144e-01],\n",
       "         [9.58300829e-01, 4.16991226e-02],\n",
       "         [3.62027377e-01, 6.37972593e-01],\n",
       "         [2.92639792e-01, 7.07360208e-01],\n",
       "         [1.79221630e-01, 8.20778370e-01],\n",
       "         [7.91319609e-01, 2.08680391e-01],\n",
       "         [7.28026450e-01, 2.71973610e-01],\n",
       "         [7.12801933e-01, 2.87198097e-01],\n",
       "         [6.94025338e-01, 3.05974692e-01],\n",
       "         [7.37383962e-01, 2.62616038e-01],\n",
       "         [8.13987195e-01, 1.86012790e-01],\n",
       "         [6.17039502e-01, 3.82960528e-01],\n",
       "         [3.95176888e-01, 6.04823053e-01],\n",
       "         [5.02597392e-01, 4.97402638e-01],\n",
       "         [7.13204265e-01, 2.86795735e-01],\n",
       "         [9.66981590e-01, 3.30183841e-02],\n",
       "         [4.45201606e-01, 5.54798424e-01],\n",
       "         [1.75266877e-01, 8.24733138e-01],\n",
       "         [9.61555779e-01, 3.84441763e-02],\n",
       "         [6.07332885e-01, 3.92667174e-01],\n",
       "         [1.52987003e-01, 8.47012937e-01],\n",
       "         [8.61091077e-01, 1.38908893e-01],\n",
       "         [9.55839038e-01, 4.41609137e-02],\n",
       "         [8.39539826e-01, 1.60460189e-01],\n",
       "         [5.62799990e-01, 4.37199980e-01],\n",
       "         [9.37955618e-01, 6.20444119e-02],\n",
       "         [9.05915856e-01, 9.40841436e-02],\n",
       "         [5.65712690e-01, 4.34287280e-01],\n",
       "         [7.75792181e-01, 2.24207804e-01],\n",
       "         [7.14970171e-01, 2.85029769e-01],\n",
       "         [7.06745625e-01, 2.93254435e-01],\n",
       "         [1.88913196e-01, 8.11086774e-01],\n",
       "         [1.91909764e-02, 9.80808973e-01],\n",
       "         [9.26416337e-01, 7.35837221e-02],\n",
       "         [5.73702335e-01, 4.26297724e-01],\n",
       "         [9.75787163e-01, 2.42129005e-02],\n",
       "         [5.90234458e-01, 4.09765601e-01],\n",
       "         [2.59062856e-01, 7.40937114e-01],\n",
       "         [7.22520649e-01, 2.77479291e-01],\n",
       "         [8.77614498e-01, 1.22385457e-01],\n",
       "         [5.82510650e-01, 4.17489290e-01],\n",
       "         [7.33865499e-02, 9.26613390e-01],\n",
       "         [2.18231693e-01, 7.81768262e-01],\n",
       "         [7.34441459e-01, 2.65558600e-01],\n",
       "         [5.42669594e-01, 4.57330406e-01],\n",
       "         [3.05530488e-01, 6.94469512e-01],\n",
       "         [2.51505047e-01, 7.48494983e-01],\n",
       "         [8.26301455e-01, 1.73698604e-01],\n",
       "         [1.56442761e-01, 8.43557239e-01],\n",
       "         [7.91233480e-01, 2.08766550e-01],\n",
       "         [9.70240355e-01, 2.97595765e-02],\n",
       "         [3.08850557e-01, 6.91149473e-01],\n",
       "         [6.68599248e-01, 3.31400752e-01],\n",
       "         [9.72439229e-01, 2.75608059e-02],\n",
       "         [3.62780213e-01, 6.37219727e-01],\n",
       "         [4.44054246e-01, 5.55945754e-01],\n",
       "         [2.21011087e-01, 7.78988957e-01],\n",
       "         [5.03601134e-01, 4.96398866e-01],\n",
       "         [6.03651822e-01, 3.96348119e-01],\n",
       "         [5.93664169e-01, 4.06335860e-01],\n",
       "         [3.97082001e-01, 6.02918029e-01],\n",
       "         [3.29944015e-01, 6.70055926e-01],\n",
       "         [8.07861209e-01, 1.92138761e-01],\n",
       "         [3.56103748e-01, 6.43896222e-01],\n",
       "         [2.34313905e-01, 7.65686095e-01],\n",
       "         [9.33021724e-01, 6.69783205e-02],\n",
       "         [7.81751752e-01, 2.18248308e-01],\n",
       "         [3.36575985e-01, 6.63424015e-01],\n",
       "         [4.11561638e-01, 5.88438392e-01],\n",
       "         [2.53056377e-01, 7.46943653e-01],\n",
       "         [5.89790642e-01, 4.10209328e-01],\n",
       "         [6.80814624e-01, 3.19185346e-01],\n",
       "         [7.45636106e-01, 2.54363894e-01],\n",
       "         [5.27473152e-01, 4.72526789e-01],\n",
       "         [1.59868017e-01, 8.40131998e-01],\n",
       "         [9.67735052e-01, 3.22650038e-02],\n",
       "         [9.20532048e-01, 7.94679821e-02],\n",
       "         [9.08210278e-01, 9.17897075e-02],\n",
       "         [5.99981666e-01, 4.00018364e-01],\n",
       "         [8.66254807e-01, 1.33745179e-01],\n",
       "         [9.05994058e-01, 9.40060019e-02],\n",
       "         [4.93712574e-01, 5.06287456e-01],\n",
       "         [9.67596412e-01, 3.24036218e-02],\n",
       "         [8.95378351e-01, 1.04621693e-01],\n",
       "         [1.94232851e-01, 8.05767119e-01],\n",
       "         [9.90014434e-01, 9.98559687e-03],\n",
       "         [8.98716867e-01, 1.01283118e-01],\n",
       "         [7.73596987e-02, 9.22640324e-01],\n",
       "         [8.40598047e-01, 1.59401968e-01],\n",
       "         [7.40043759e-01, 2.59956211e-01],\n",
       "         [6.04102075e-01, 3.95897925e-01],\n",
       "         [1.57169029e-01, 8.42830956e-01],\n",
       "         [9.48824227e-01, 5.11757806e-02],\n",
       "         [7.01591074e-01, 2.98408926e-01],\n",
       "         [9.70600188e-01, 2.93997992e-02],\n",
       "         [4.36427593e-01, 5.63572347e-01],\n",
       "         [9.48292196e-01, 5.17078377e-02],\n",
       "         [7.91402519e-01, 2.08597451e-01],\n",
       "         [8.70650709e-01, 1.29349336e-01],\n",
       "         [9.67154086e-01, 3.28459702e-02],\n",
       "         [5.68066180e-01, 4.31933790e-01],\n",
       "         [2.37664878e-01, 7.62335062e-01],\n",
       "         [7.39307463e-01, 2.60692596e-01],\n",
       "         [6.67227745e-01, 3.32772255e-01],\n",
       "         [5.49419105e-01, 4.50580925e-01],\n",
       "         [5.89646399e-01, 4.10353601e-01],\n",
       "         [8.18390787e-01, 1.81609154e-01]]], dtype=float32)}"
      ]
     },
     "execution_count": 5,
     "metadata": {},
     "output_type": "execute_result"
    }
   ],
   "source": [
    "model.predict(X_tokenized=X_tokenized)"
   ]
  },
  {
   "cell_type": "markdown",
   "id": "fundamental-poverty",
   "metadata": {},
   "source": [
    "# 评分"
   ]
  },
  {
   "cell_type": "code",
   "execution_count": 6,
   "id": "accessory-lesbian",
   "metadata": {},
   "outputs": [
    {
     "name": "stdout",
     "output_type": "stream",
     "text": [
      "INFO:tensorflow:Time usage 0m-2.83s, 0.35 steps/sec, 0.71 examples/sec\n"
     ]
    },
    {
     "data": {
      "text/plain": [
       "{'accuracy': 1.0, 'loss': 1.9179663e-05}"
      ]
     },
     "execution_count": 6,
     "metadata": {},
     "output_type": "execute_result"
    }
   ],
   "source": [
    "model.score(X_tokenized=X_tokenized, y=y)"
   ]
  }
 ],
 "metadata": {
  "kernelspec": {
   "display_name": "Python 3",
   "language": "python",
   "name": "python3"
  },
  "language_info": {
   "codemirror_mode": {
    "name": "ipython",
    "version": 3
   },
   "file_extension": ".py",
   "mimetype": "text/x-python",
   "name": "python",
   "nbconvert_exporter": "python",
   "pygments_lexer": "ipython3",
   "version": "3.8.2"
  }
 },
 "nbformat": 4,
 "nbformat_minor": 5
}
