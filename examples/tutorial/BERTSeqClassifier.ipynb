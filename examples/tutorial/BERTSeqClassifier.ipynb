{
 "cells": [
  {
   "cell_type": "markdown",
   "id": "split-salad",
   "metadata": {},
   "source": [
    "# BERTSeqClassifier\n",
    "\n",
    "可用的中文预训练参数：[`bert-base`](https://storage.googleapis.com/bert_models/2018_11_03/chinese_L-12_H-768_A-12.zip),[`roberta-wwm-ext-base`](https://drive.google.com/uc?export=download&id=1jMAKIJmPn7kADgD3yQZhpsqM-IRM1qZt),[`roberta-wwm-ext-large`](https://drive.google.com/uc?export=download&id=1dtad0FFzG11CBsawu8hvwwzU2R0FDI94),[`macbert-base`](https://drive.google.com/uc?export=download&id=1aV69OhYzIwj_hn-kO1RiBa-m8QAusQ5b),[`macbert-large`](https://drive.google.com/uc?export=download&id=1lWYxnk1EqTA2Q20_IShxBrCPc5VSDCkT)"
   ]
  },
  {
   "cell_type": "code",
   "execution_count": 1,
   "id": "rotary-academy",
   "metadata": {},
   "outputs": [
    {
     "name": "stdout",
     "output_type": "stream",
     "text": [
      "v2.4.5\n"
     ]
    }
   ],
   "source": [
    "import uf\n",
    "\n",
    "print(uf.__version__)"
   ]
  },
  {
   "cell_type": "code",
   "execution_count": 2,
   "id": "velvet-symbol",
   "metadata": {},
   "outputs": [
    {
     "name": "stdout",
     "output_type": "stream",
     "text": [
      "uf.BERTSeqClassifier(\n",
      "    config_file=\"../../demo/bert_config.json\",\n",
      "    vocab_file=\"../../demo/vocab.txt\",\n",
      "    max_seq_length=128,\n",
      "    label_size=None,\n",
      "    init_checkpoint=None,\n",
      "    output_dir=None,\n",
      "    gpu_ids=None,\n",
      "    do_lower_case=True,\n",
      "    truncate_method=\"LIFO\",\n",
      ")\n"
     ]
    }
   ],
   "source": [
    "model = uf.BERTSeqClassifier('../../demo/bert_config.json', '../../demo/vocab.txt')\n",
    "print(model)"
   ]
  },
  {
   "cell_type": "code",
   "execution_count": 3,
   "id": "drawn-breathing",
   "metadata": {},
   "outputs": [],
   "source": [
    "X_tokenized = [['天', '亮', '以', '前', '说', '再', '见'], ['笑', '着', '泪', '流', '满', '面']]\n",
    "y = [[0, 0, 0, 0, 0, 1, 1], [0, 0, 1, 1, 0, 0]]"
   ]
  },
  {
   "cell_type": "markdown",
   "id": "vanilla-fault",
   "metadata": {},
   "source": [
    "# 训练"
   ]
  },
  {
   "cell_type": "code",
   "execution_count": 4,
   "id": "excellent-religion",
   "metadata": {},
   "outputs": [
    {
     "name": "stdout",
     "output_type": "stream",
     "text": [
      "WARNING:tensorflow:From /Users/geyingli/Library/Python/3.8/lib/python/site-packages/tensorflow/python/util/dispatch.py:1096: calling dropout (from tensorflow.python.ops.nn_ops) with keep_prob is deprecated and will be removed in a future version.\n",
      "Instructions for updating:\n",
      "Please use `rate` instead of `keep_prob`. Rate should be set to `rate = 1 - keep_prob`.\n"
     ]
    },
    {
     "name": "stderr",
     "output_type": "stream",
     "text": [
      "/Users/geyingli/Library/Python/3.8/lib/python/site-packages/uf-2.4.5-py3.8.egg/uf/model/bert.py:272: UserWarning: `tf.layers.dense` is deprecated and will be removed in a future version. Please use `tf.keras.layers.Dense` instead.\n",
      "  query_layer = tf.layers.dense(\n",
      "/Users/geyingli/Library/Python/3.8/lib/python/site-packages/keras/legacy_tf_layers/core.py:255: UserWarning: `layer.apply` is deprecated and will be removed in a future version. Please use `layer.__call__` method instead.\n",
      "  return layer.apply(inputs)\n",
      "/Users/geyingli/Library/Python/3.8/lib/python/site-packages/uf-2.4.5-py3.8.egg/uf/model/bert.py:282: UserWarning: `tf.layers.dense` is deprecated and will be removed in a future version. Please use `tf.keras.layers.Dense` instead.\n",
      "  key_layer = tf.layers.dense(\n",
      "/Users/geyingli/Library/Python/3.8/lib/python/site-packages/uf-2.4.5-py3.8.egg/uf/model/bert.py:292: UserWarning: `tf.layers.dense` is deprecated and will be removed in a future version. Please use `tf.keras.layers.Dense` instead.\n",
      "  value_layer = tf.layers.dense(\n",
      "/Users/geyingli/Library/Python/3.8/lib/python/site-packages/uf-2.4.5-py3.8.egg/uf/model/bert.py:416: UserWarning: `tf.layers.dense` is deprecated and will be removed in a future version. Please use `tf.keras.layers.Dense` instead.\n",
      "  attention_output = tf.layers.dense(\n",
      "/Users/geyingli/Library/Python/3.8/lib/python/site-packages/uf-2.4.5-py3.8.egg/uf/model/bert.py:428: UserWarning: `tf.layers.dense` is deprecated and will be removed in a future version. Please use `tf.keras.layers.Dense` instead.\n",
      "  intermediate_output = tf.layers.dense(\n",
      "/Users/geyingli/Library/Python/3.8/lib/python/site-packages/uf-2.4.5-py3.8.egg/uf/model/bert.py:438: UserWarning: `tf.layers.dense` is deprecated and will be removed in a future version. Please use `tf.keras.layers.Dense` instead.\n",
      "  layer_output = tf.layers.dense(\n",
      "/Users/geyingli/Library/Python/3.8/lib/python/site-packages/uf-2.4.5-py3.8.egg/uf/model/bert.py:107: UserWarning: `tf.layers.dense` is deprecated and will be removed in a future version. Please use `tf.keras.layers.Dense` instead.\n",
      "  self.pooled_output = tf.layers.dense(\n"
     ]
    },
    {
     "name": "stdout",
     "output_type": "stream",
     "text": [
      "INFO:tensorflow:Build graph with 305,626,374 parameters (among which 102,269,186 are trainable)\n",
      "INFO:tensorflow:Running local_init_op\n",
      "INFO:tensorflow:Done running local_init_op\n",
      "INFO:tensorflow:Running training on 2 samples (step 0 -> 20)\n",
      "INFO:tensorflow:step 1, accuracy 0.3846, loss 0.835502, 0.10 steps/sec, 0.20 examples/sec\n",
      "INFO:tensorflow:step 2, accuracy 0.3077, loss 0.881198, 0.56 steps/sec, 1.12 examples/sec\n",
      "INFO:tensorflow:step 3, accuracy 0.6923, loss 1.693451, 0.62 steps/sec, 1.23 examples/sec\n",
      "INFO:tensorflow:step 4, accuracy 0.6923, loss 1.478339, 0.20 steps/sec, 0.41 examples/sec\n",
      "INFO:tensorflow:step 5, accuracy 0.6923, loss 0.574399, 0.19 steps/sec, 0.38 examples/sec\n",
      "INFO:tensorflow:step 6, accuracy 0.8462, loss 0.220317, 0.18 steps/sec, 0.36 examples/sec\n",
      "INFO:tensorflow:step 7, accuracy 0.7692, loss 0.284758, 0.24 steps/sec, 0.49 examples/sec\n",
      "INFO:tensorflow:step 8, accuracy 1.0000, loss 0.101484, 0.17 steps/sec, 0.34 examples/sec\n",
      "INFO:tensorflow:step 9, accuracy 1.0000, loss 0.056401, 0.28 steps/sec, 0.57 examples/sec\n",
      "INFO:tensorflow:step 10, accuracy 1.0000, loss 0.015649, 0.26 steps/sec, 0.53 examples/sec\n",
      "INFO:tensorflow:step 11, accuracy 1.0000, loss 0.004809, 0.27 steps/sec, 0.54 examples/sec\n",
      "INFO:tensorflow:step 12, accuracy 1.0000, loss 0.001396, 0.18 steps/sec, 0.35 examples/sec\n",
      "INFO:tensorflow:step 13, accuracy 1.0000, loss 0.000693, 0.15 steps/sec, 0.30 examples/sec\n",
      "INFO:tensorflow:step 14, accuracy 1.0000, loss 0.000206, 0.09 steps/sec, 0.18 examples/sec\n",
      "INFO:tensorflow:step 15, accuracy 1.0000, loss 0.000171, 0.07 steps/sec, 0.14 examples/sec\n",
      "INFO:tensorflow:step 16, accuracy 1.0000, loss 0.000099, 0.07 steps/sec, 0.15 examples/sec\n",
      "INFO:tensorflow:step 17, accuracy 1.0000, loss 0.000106, 0.09 steps/sec, 0.17 examples/sec\n",
      "INFO:tensorflow:step 18, accuracy 1.0000, loss 0.000066, 0.10 steps/sec, 0.19 examples/sec\n",
      "INFO:tensorflow:step 19, accuracy 1.0000, loss 0.000079, 0.14 steps/sec, 0.28 examples/sec\n",
      "INFO:tensorflow:step 20, accuracy 1.0000, loss 0.000096, 0.11 steps/sec, 0.23 examples/sec\n"
     ]
    }
   ],
   "source": [
    "model.fit(X_tokenized=X_tokenized, y=y, total_steps=20)"
   ]
  },
  {
   "cell_type": "markdown",
   "id": "fallen-hundred",
   "metadata": {},
   "source": [
    "# 推理"
   ]
  },
  {
   "cell_type": "code",
   "execution_count": 5,
   "id": "opposite-pantyhose",
   "metadata": {},
   "outputs": [
    {
     "name": "stdout",
     "output_type": "stream",
     "text": [
      "INFO:tensorflow:Time usage 0m-3.78s, 0.26 steps/sec, 0.53 examples/sec\n"
     ]
    },
    {
     "data": {
      "text/plain": [
       "{'preds': [[0, 0, 0, 0, 0, 1, 1], [0, 0, 1, 1, 0, 0]],\n",
       " 'probs': array([[[9.99985099e-01, 1.49588113e-05],\n",
       "         [9.99976039e-01, 2.39565215e-05],\n",
       "         [9.99950886e-01, 4.91016945e-05],\n",
       "         [9.99932885e-01, 6.71415328e-05],\n",
       "         [9.99982953e-01, 1.71059601e-05],\n",
       "         [9.36214292e-06, 9.99990582e-01],\n",
       "         [1.30916278e-05, 9.99986887e-01],\n",
       "         [9.83346701e-01, 1.66532919e-02],\n",
       "         [9.98882353e-01, 1.11762073e-03],\n",
       "         [9.93200600e-01, 6.79944130e-03],\n",
       "         [9.97189105e-01, 2.81090965e-03],\n",
       "         [9.97385561e-01, 2.61445623e-03],\n",
       "         [9.94818032e-01, 5.18195145e-03],\n",
       "         [9.90578234e-01, 9.42173507e-03],\n",
       "         [9.96045053e-01, 3.95487715e-03],\n",
       "         [9.87952769e-01, 1.20472685e-02],\n",
       "         [9.78087306e-01, 2.19126381e-02],\n",
       "         [9.93825436e-01, 6.17464632e-03],\n",
       "         [9.94250298e-01, 5.74976439e-03],\n",
       "         [9.16501105e-01, 8.34988803e-02],\n",
       "         [9.68043149e-01, 3.19568180e-02],\n",
       "         [9.81662929e-01, 1.83370691e-02],\n",
       "         [9.65403140e-01, 3.45968306e-02],\n",
       "         [9.90519762e-01, 9.48027615e-03],\n",
       "         [9.98570681e-01, 1.42925733e-03],\n",
       "         [9.79569018e-01, 2.04309970e-02],\n",
       "         [9.93856490e-01, 6.14354620e-03],\n",
       "         [9.88843799e-01, 1.11562377e-02],\n",
       "         [9.77884710e-01, 2.21153200e-02],\n",
       "         [9.94599462e-01, 5.40054729e-03],\n",
       "         [9.95795488e-01, 4.20456147e-03],\n",
       "         [9.92246389e-01, 7.75356265e-03],\n",
       "         [9.96959567e-01, 3.04040127e-03],\n",
       "         [9.67297375e-01, 3.27026583e-02],\n",
       "         [9.47497845e-01, 5.25021143e-02],\n",
       "         [9.85779524e-01, 1.42204398e-02],\n",
       "         [9.84489202e-01, 1.55108199e-02],\n",
       "         [4.48124737e-01, 5.51875293e-01],\n",
       "         [9.84855115e-01, 1.51448753e-02],\n",
       "         [9.96081293e-01, 3.91870830e-03],\n",
       "         [9.99080777e-01, 9.19218175e-04],\n",
       "         [9.96564448e-01, 3.43560032e-03],\n",
       "         [9.92400646e-01, 7.59934355e-03],\n",
       "         [7.97264338e-01, 2.02735692e-01],\n",
       "         [9.50390875e-01, 4.96091284e-02],\n",
       "         [9.93558943e-01, 6.44108653e-03],\n",
       "         [9.98805881e-01, 1.19408034e-03],\n",
       "         [9.75405693e-01, 2.45942753e-02],\n",
       "         [9.91115212e-01, 8.88482016e-03],\n",
       "         [9.89259958e-01, 1.07400669e-02],\n",
       "         [9.85677600e-01, 1.43224029e-02],\n",
       "         [9.98442471e-01, 1.55752047e-03],\n",
       "         [8.29973102e-01, 1.70026869e-01],\n",
       "         [9.78208363e-01, 2.17917003e-02],\n",
       "         [9.03322637e-01, 9.66774151e-02],\n",
       "         [9.98195231e-01, 1.80479710e-03],\n",
       "         [9.54067171e-01, 4.59328257e-02],\n",
       "         [9.93583024e-01, 6.41695363e-03],\n",
       "         [9.97839928e-01, 2.16001226e-03],\n",
       "         [9.98129070e-01, 1.87093613e-03],\n",
       "         [9.73534524e-01, 2.64655240e-02],\n",
       "         [9.96302724e-01, 3.69728380e-03],\n",
       "         [9.95956600e-01, 4.04342404e-03],\n",
       "         [9.97793436e-01, 2.20651925e-03],\n",
       "         [9.91460800e-01, 8.53923894e-03],\n",
       "         [9.50086892e-01, 4.99131456e-02],\n",
       "         [9.97444510e-01, 2.55547115e-03],\n",
       "         [9.94816601e-01, 5.18338988e-03],\n",
       "         [9.96809304e-01, 3.19066714e-03],\n",
       "         [9.93973553e-01, 6.02644309e-03],\n",
       "         [9.96246874e-01, 3.75309889e-03],\n",
       "         [9.95922565e-01, 4.07740613e-03],\n",
       "         [9.95374143e-01, 4.62589646e-03],\n",
       "         [9.95575905e-01, 4.42405138e-03],\n",
       "         [9.83673692e-01, 1.63263232e-02],\n",
       "         [9.96773064e-01, 3.22689535e-03],\n",
       "         [9.30644274e-01, 6.93557113e-02],\n",
       "         [9.90748048e-01, 9.25195031e-03],\n",
       "         [9.97443080e-01, 2.55696918e-03],\n",
       "         [9.95880961e-01, 4.11905628e-03],\n",
       "         [9.74645734e-01, 2.53542438e-02],\n",
       "         [9.76628840e-01, 2.33711638e-02],\n",
       "         [9.49655712e-01, 5.03442846e-02],\n",
       "         [9.93216217e-01, 6.78371498e-03],\n",
       "         [9.96147037e-01, 3.85301304e-03],\n",
       "         [9.92793798e-01, 7.20628444e-03],\n",
       "         [9.67724204e-01, 3.22758220e-02],\n",
       "         [9.95986283e-01, 4.01374977e-03],\n",
       "         [9.96011615e-01, 3.98843875e-03],\n",
       "         [9.96459424e-01, 3.54060368e-03],\n",
       "         [9.80776846e-01, 1.92231629e-02],\n",
       "         [9.98367369e-01, 1.63261720e-03],\n",
       "         [9.63323653e-01, 3.66763473e-02],\n",
       "         [9.99621749e-01, 3.78194731e-04],\n",
       "         [9.79019463e-01, 2.09805313e-02],\n",
       "         [9.98171806e-01, 1.82813255e-03],\n",
       "         [9.99442875e-01, 5.57137188e-04],\n",
       "         [9.94374990e-01, 5.62505936e-03],\n",
       "         [9.90894556e-01, 9.10547283e-03],\n",
       "         [9.67539608e-01, 3.24603766e-02],\n",
       "         [9.94350612e-01, 5.64943068e-03],\n",
       "         [9.74001229e-01, 2.59988047e-02],\n",
       "         [9.87917483e-01, 1.20825581e-02],\n",
       "         [9.19865668e-01, 8.01343098e-02],\n",
       "         [9.91463363e-01, 8.53668433e-03],\n",
       "         [9.90190208e-01, 9.80984513e-03],\n",
       "         [9.80727434e-01, 1.92726180e-02],\n",
       "         [9.79538858e-01, 2.04611812e-02],\n",
       "         [9.91186559e-01, 8.81342497e-03],\n",
       "         [9.96435881e-01, 3.56415147e-03],\n",
       "         [9.97859776e-01, 2.14026961e-03],\n",
       "         [9.84783471e-01, 1.52164912e-02],\n",
       "         [9.73266125e-01, 2.67338362e-02],\n",
       "         [9.67708826e-01, 3.22911367e-02],\n",
       "         [9.98183310e-01, 1.81660324e-03],\n",
       "         [9.94815052e-01, 5.18487766e-03],\n",
       "         [9.79994297e-01, 2.00056843e-02],\n",
       "         [9.65747774e-01, 3.42521928e-02],\n",
       "         [9.98226464e-01, 1.77358068e-03],\n",
       "         [9.99915123e-01, 8.48285054e-05],\n",
       "         [9.99585807e-01, 4.14179085e-04],\n",
       "         [9.82778490e-01, 1.72215141e-02],\n",
       "         [9.83491719e-01, 1.65083315e-02],\n",
       "         [9.96953487e-01, 3.04654147e-03],\n",
       "         [9.39261258e-01, 6.07387833e-02],\n",
       "         [9.88446593e-01, 1.15534104e-02],\n",
       "         [9.95430350e-01, 4.56965901e-03],\n",
       "         [9.94280815e-01, 5.71921095e-03]],\n",
       " \n",
       "        [[9.99976158e-01, 2.38684988e-05],\n",
       "         [9.99982357e-01, 1.75887126e-05],\n",
       "         [8.42003737e-06, 9.99991536e-01],\n",
       "         [1.09976072e-05, 9.99989033e-01],\n",
       "         [9.99967337e-01, 3.26341942e-05],\n",
       "         [9.99953628e-01, 4.63237775e-05],\n",
       "         [4.31628840e-04, 9.99568403e-01],\n",
       "         [8.06910038e-01, 1.93089962e-01],\n",
       "         [9.90740061e-01, 9.25989915e-03],\n",
       "         [9.29681778e-01, 7.03181997e-02],\n",
       "         [9.72914279e-01, 2.70857085e-02],\n",
       "         [9.67149854e-01, 3.28501202e-02],\n",
       "         [9.46772397e-01, 5.32275625e-02],\n",
       "         [9.00064647e-01, 9.99353454e-02],\n",
       "         [9.56035793e-01, 4.39642034e-02],\n",
       "         [8.50287139e-01, 1.49712905e-01],\n",
       "         [7.77114391e-01, 2.22885624e-01],\n",
       "         [9.16590214e-01, 8.34097862e-02],\n",
       "         [9.45638001e-01, 5.43619730e-02],\n",
       "         [4.17204380e-01, 5.82795620e-01],\n",
       "         [6.63440168e-01, 3.36559772e-01],\n",
       "         [8.46821070e-01, 1.53178871e-01],\n",
       "         [6.58964038e-01, 3.41036022e-01],\n",
       "         [9.19734955e-01, 8.02650526e-02],\n",
       "         [9.89228129e-01, 1.07718678e-02],\n",
       "         [7.40093470e-01, 2.59906530e-01],\n",
       "         [9.29800272e-01, 7.01997653e-02],\n",
       "         [8.86224151e-01, 1.13775872e-01],\n",
       "         [7.82974064e-01, 2.17025906e-01],\n",
       "         [9.49257970e-01, 5.07419631e-02],\n",
       "         [9.50314879e-01, 4.96850945e-02],\n",
       "         [8.95913303e-01, 1.04086712e-01],\n",
       "         [9.74898517e-01, 2.51014903e-02],\n",
       "         [6.40025556e-01, 3.59974474e-01],\n",
       "         [4.89303768e-01, 5.10696232e-01],\n",
       "         [7.89568782e-01, 2.10431144e-01],\n",
       "         [8.17673385e-01, 1.82326600e-01],\n",
       "         [4.01875712e-02, 9.59812403e-01],\n",
       "         [7.95852840e-01, 2.04147175e-01],\n",
       "         [9.63609159e-01, 3.63908149e-02],\n",
       "         [9.93821621e-01, 6.17835112e-03],\n",
       "         [9.60217476e-01, 3.97824496e-02],\n",
       "         [8.78154874e-01, 1.21845074e-01],\n",
       "         [2.07916662e-01, 7.92083383e-01],\n",
       "         [5.76555908e-01, 4.23444092e-01],\n",
       "         [9.24648166e-01, 7.53518716e-02],\n",
       "         [9.91617501e-01, 8.38246662e-03],\n",
       "         [7.40121305e-01, 2.59878695e-01],\n",
       "         [8.79116952e-01, 1.20883025e-01],\n",
       "         [8.55540216e-01, 1.44459769e-01],\n",
       "         [8.35589647e-01, 1.64410383e-01],\n",
       "         [9.84827399e-01, 1.51726250e-02],\n",
       "         [2.29927987e-01, 7.70072043e-01],\n",
       "         [7.32556701e-01, 2.67443329e-01],\n",
       "         [3.96375299e-01, 6.03624701e-01],\n",
       "         [9.89464760e-01, 1.05352383e-02],\n",
       "         [5.23629546e-01, 4.76370513e-01],\n",
       "         [9.25904810e-01, 7.40952045e-02],\n",
       "         [9.74495471e-01, 2.55045611e-02],\n",
       "         [9.81519938e-01, 1.84801277e-02],\n",
       "         [6.54257774e-01, 3.45742166e-01],\n",
       "         [9.54198301e-01, 4.58017476e-02],\n",
       "         [9.54908967e-01, 4.50910479e-02],\n",
       "         [9.83581424e-01, 1.64185483e-02],\n",
       "         [9.33632433e-01, 6.63676113e-02],\n",
       "         [5.65235913e-01, 4.34764087e-01],\n",
       "         [9.73001599e-01, 2.69983578e-02],\n",
       "         [9.53193367e-01, 4.68065590e-02],\n",
       "         [9.40881968e-01, 5.91180697e-02],\n",
       "         [9.49230731e-01, 5.07692806e-02],\n",
       "         [9.58002806e-01, 4.19972278e-02],\n",
       "         [9.49973524e-01, 5.00264615e-02],\n",
       "         [9.58615243e-01, 4.13847789e-02],\n",
       "         [9.59820211e-01, 4.01797704e-02],\n",
       "         [8.15984011e-01, 1.84015989e-01],\n",
       "         [9.69356894e-01, 3.06431241e-02],\n",
       "         [4.40973431e-01, 5.59026599e-01],\n",
       "         [9.01870310e-01, 9.81296971e-02],\n",
       "         [9.77515161e-01, 2.24847831e-02],\n",
       "         [9.55679536e-01, 4.43204828e-02],\n",
       "         [7.21215665e-01, 2.78784364e-01],\n",
       "         [7.84443617e-01, 2.15556324e-01],\n",
       "         [4.57274169e-01, 5.42725921e-01],\n",
       "         [9.37041879e-01, 6.29580542e-02],\n",
       "         [9.64143634e-01, 3.58563475e-02],\n",
       "         [9.14119542e-01, 8.58804137e-02],\n",
       "         [5.64677775e-01, 4.35322225e-01],\n",
       "         [9.48281586e-01, 5.17184548e-02],\n",
       "         [9.63248670e-01, 3.67512889e-02],\n",
       "         [9.56928968e-01, 4.30710465e-02],\n",
       "         [7.54795671e-01, 2.45204359e-01],\n",
       "         [9.78229225e-01, 2.17707697e-02],\n",
       "         [6.55532360e-01, 3.44467670e-01],\n",
       "         [9.98304963e-01, 1.69501465e-03],\n",
       "         [7.76448965e-01, 2.23551050e-01],\n",
       "         [9.85463798e-01, 1.45362010e-02],\n",
       "         [9.96963322e-01, 3.03665409e-03],\n",
       "         [9.28222835e-01, 7.17770904e-02],\n",
       "         [9.07651842e-01, 9.23482105e-02],\n",
       "         [6.24445200e-01, 3.75554800e-01],\n",
       "         [9.41289246e-01, 5.87107353e-02],\n",
       "         [7.25704253e-01, 2.74295717e-01],\n",
       "         [8.46883416e-01, 1.53116554e-01],\n",
       "         [4.11366016e-01, 5.88633955e-01],\n",
       "         [8.82981896e-01, 1.17018111e-01],\n",
       "         [8.74876678e-01, 1.25123337e-01],\n",
       "         [7.44971395e-01, 2.55028605e-01],\n",
       "         [8.40584755e-01, 1.59415200e-01],\n",
       "         [9.24013853e-01, 7.59861395e-02],\n",
       "         [9.60880518e-01, 3.91194597e-02],\n",
       "         [9.81537044e-01, 1.84629913e-02],\n",
       "         [8.65033507e-01, 1.34966478e-01],\n",
       "         [7.03210950e-01, 2.96789080e-01],\n",
       "         [6.64182603e-01, 3.35817397e-01],\n",
       "         [9.85277712e-01, 1.47222904e-02],\n",
       "         [9.29232478e-01, 7.07675517e-02],\n",
       "         [8.06133270e-01, 1.93866789e-01],\n",
       "         [6.31250024e-01, 3.68749976e-01],\n",
       "         [9.85936165e-01, 1.40638119e-02],\n",
       "         [9.99789417e-01, 2.10589104e-04],\n",
       "         [9.97150242e-01, 2.84974300e-03],\n",
       "         [7.76284337e-01, 2.23715603e-01],\n",
       "         [8.51363838e-01, 1.48636147e-01],\n",
       "         [9.68553364e-01, 3.14466618e-02],\n",
       "         [5.08594930e-01, 4.91405070e-01],\n",
       "         [8.28946114e-01, 1.71053901e-01],\n",
       "         [9.60704684e-01, 3.92953604e-02],\n",
       "         [9.60485339e-01, 3.95147055e-02]]], dtype=float32)}"
      ]
     },
     "execution_count": 5,
     "metadata": {},
     "output_type": "execute_result"
    }
   ],
   "source": [
    "model.predict(X_tokenized=X_tokenized)"
   ]
  },
  {
   "cell_type": "markdown",
   "id": "fundamental-poverty",
   "metadata": {},
   "source": [
    "# 评分"
   ]
  },
  {
   "cell_type": "code",
   "execution_count": 6,
   "id": "accessory-lesbian",
   "metadata": {},
   "outputs": [
    {
     "name": "stdout",
     "output_type": "stream",
     "text": [
      "INFO:tensorflow:Time usage 0m-2.33s, 0.43 steps/sec, 0.86 examples/sec\n"
     ]
    },
    {
     "data": {
      "text/plain": [
       "{'accuracy': 1.0, 'loss': 2.556708e-05}"
      ]
     },
     "execution_count": 6,
     "metadata": {},
     "output_type": "execute_result"
    }
   ],
   "source": [
    "model.score(X_tokenized=X_tokenized, y=y)"
   ]
  }
 ],
 "metadata": {
  "kernelspec": {
   "display_name": "Python 3",
   "language": "python",
   "name": "python3"
  },
  "language_info": {
   "codemirror_mode": {
    "name": "ipython",
    "version": 3
   },
   "file_extension": ".py",
   "mimetype": "text/x-python",
   "name": "python",
   "nbconvert_exporter": "python",
   "pygments_lexer": "ipython3",
   "version": "3.8.2"
  }
 },
 "nbformat": 4,
 "nbformat_minor": 5
}
