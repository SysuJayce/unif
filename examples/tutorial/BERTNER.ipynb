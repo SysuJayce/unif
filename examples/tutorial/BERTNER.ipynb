{
 "cells": [
  {
   "cell_type": "code",
   "execution_count": 1,
   "id": "rotary-academy",
   "metadata": {},
   "outputs": [
    {
     "name": "stdout",
     "output_type": "stream",
     "text": [
      "v2.3.2\n"
     ]
    }
   ],
   "source": [
    "import uf\n",
    "\n",
    "print(uf.__version__)"
   ]
  },
  {
   "cell_type": "code",
   "execution_count": 2,
   "id": "velvet-symbol",
   "metadata": {},
   "outputs": [
    {
     "name": "stdout",
     "output_type": "stream",
     "text": [
      "uf.BERTNER(config_file=\"../../demo/bert_config.json\", vocab_file=\"../../demo/vocab.txt\", max_seq_length=128, init_checkpoint=None, output_dir=None, gpu_ids=None, do_lower_case=True, truncate_method=\"LIFO\")\n"
     ]
    }
   ],
   "source": [
    "model = uf.BERTNER('../../demo/bert_config.json', '../../demo/vocab.txt')\n",
    "print(model)"
   ]
  },
  {
   "cell_type": "code",
   "execution_count": 3,
   "id": "drawn-breathing",
   "metadata": {},
   "outputs": [],
   "source": [
    "X = ['天亮以前说再见', '笑着泪流满面', '去迎接应该你的', '更好的明天']\n",
    "y = [['天亮'], [], ['迎接'], ['更好', '明天']]"
   ]
  },
  {
   "cell_type": "markdown",
   "id": "vanilla-fault",
   "metadata": {},
   "source": [
    "# 训练"
   ]
  },
  {
   "cell_type": "code",
   "execution_count": 4,
   "id": "excellent-religion",
   "metadata": {},
   "outputs": [
    {
     "name": "stdout",
     "output_type": "stream",
     "text": [
      "WARNING:tensorflow:From /Users/geyingli/Library/Python/3.8/lib/python/site-packages/tensorflow/python/util/dispatch.py:1096: calling dropout (from tensorflow.python.ops.nn_ops) with keep_prob is deprecated and will be removed in a future version.\n",
      "Instructions for updating:\n",
      "Please use `rate` instead of `keep_prob`. Rate should be set to `rate = 1 - keep_prob`.\n"
     ]
    },
    {
     "name": "stderr",
     "output_type": "stream",
     "text": [
      "/Users/geyingli/Library/Python/3.8/lib/python/site-packages/uf-2.3.2-py3.8.egg/uf/modeling/bert.py:282: UserWarning: `tf.layers.dense` is deprecated and will be removed in a future version. Please use `tf.keras.layers.Dense` instead.\n",
      "  query_layer = tf.layers.dense(\n",
      "/Users/geyingli/Library/Python/3.8/lib/python/site-packages/keras/legacy_tf_layers/core.py:255: UserWarning: `layer.apply` is deprecated and will be removed in a future version. Please use `layer.__call__` method instead.\n",
      "  return layer.apply(inputs)\n",
      "/Users/geyingli/Library/Python/3.8/lib/python/site-packages/uf-2.3.2-py3.8.egg/uf/modeling/bert.py:291: UserWarning: `tf.layers.dense` is deprecated and will be removed in a future version. Please use `tf.keras.layers.Dense` instead.\n",
      "  key_layer = tf.layers.dense(\n",
      "/Users/geyingli/Library/Python/3.8/lib/python/site-packages/uf-2.3.2-py3.8.egg/uf/modeling/bert.py:300: UserWarning: `tf.layers.dense` is deprecated and will be removed in a future version. Please use `tf.keras.layers.Dense` instead.\n",
      "  value_layer = tf.layers.dense(\n",
      "/Users/geyingli/Library/Python/3.8/lib/python/site-packages/uf-2.3.2-py3.8.egg/uf/modeling/bert.py:430: UserWarning: `tf.layers.dense` is deprecated and will be removed in a future version. Please use `tf.keras.layers.Dense` instead.\n",
      "  attention_output = tf.layers.dense(\n",
      "/Users/geyingli/Library/Python/3.8/lib/python/site-packages/uf-2.3.2-py3.8.egg/uf/modeling/bert.py:445: UserWarning: `tf.layers.dense` is deprecated and will be removed in a future version. Please use `tf.keras.layers.Dense` instead.\n",
      "  intermediate_output = tf.layers.dense(\n",
      "/Users/geyingli/Library/Python/3.8/lib/python/site-packages/uf-2.3.2-py3.8.egg/uf/modeling/bert.py:455: UserWarning: `tf.layers.dense` is deprecated and will be removed in a future version. Please use `tf.keras.layers.Dense` instead.\n",
      "  layer_output = tf.layers.dense(\n",
      "/Users/geyingli/Library/Python/3.8/lib/python/site-packages/uf-2.3.2-py3.8.egg/uf/modeling/bert.py:107: UserWarning: `tf.layers.dense` is deprecated and will be removed in a future version. Please use `tf.keras.layers.Dense` instead.\n",
      "  self.pooled_output = tf.layers.dense(\n"
     ]
    },
    {
     "name": "stdout",
     "output_type": "stream",
     "text": [
      "INFO:tensorflow:Build graph with 305,633,295 parameters (among which 102,271,493 are trainable)\n",
      "INFO:tensorflow:Running local_init_op\n",
      "INFO:tensorflow:Done running local_init_op\n",
      "INFO:tensorflow:Running training on 4 samples (step 0 -> 20)\n",
      "INFO:tensorflow:step 1, f1/token 0.2222, f1/entity 0.0000, loss 1.684154, 0.04 steps/sec, 0.16 examples/sec\n",
      "INFO:tensorflow:step 2, f1/token 0.1250, f1/entity 0.0000, loss 1.699633, 0.15 steps/sec, 0.60 examples/sec\n",
      "INFO:tensorflow:step 3, f1/token 0.0000, f1/entity 0.0000, loss 0.844899, 0.22 steps/sec, 0.86 examples/sec\n",
      "INFO:tensorflow:step 4, f1/token 0.0000, f1/entity 0.0000, loss 0.654530, 0.22 steps/sec, 0.89 examples/sec\n",
      "INFO:tensorflow:step 5, f1/token 0.8571, f1/entity 0.8571, loss 0.503904, 0.24 steps/sec, 0.97 examples/sec\n",
      "INFO:tensorflow:step 6, f1/token 0.8571, f1/entity 0.8571, loss 0.363638, 0.29 steps/sec, 1.16 examples/sec\n",
      "INFO:tensorflow:step 7, f1/token 0.6667, f1/entity 0.6667, loss 0.274080, 0.36 steps/sec, 1.44 examples/sec\n",
      "INFO:tensorflow:step 8, f1/token 0.6667, f1/entity 0.6667, loss 0.216984, 0.36 steps/sec, 1.46 examples/sec\n",
      "INFO:tensorflow:step 9, f1/token 0.8571, f1/entity 0.8571, loss 0.120203, 0.36 steps/sec, 1.45 examples/sec\n",
      "INFO:tensorflow:step 10, f1/token 1.0000, f1/entity 1.0000, loss 0.068670, 0.34 steps/sec, 1.35 examples/sec\n",
      "INFO:tensorflow:step 11, f1/token 1.0000, f1/entity 1.0000, loss 0.030503, 0.34 steps/sec, 1.37 examples/sec\n",
      "INFO:tensorflow:step 12, f1/token 1.0000, f1/entity 1.0000, loss 0.011091, 0.28 steps/sec, 1.12 examples/sec\n",
      "INFO:tensorflow:step 13, f1/token 1.0000, f1/entity 1.0000, loss 0.010874, 0.30 steps/sec, 1.22 examples/sec\n",
      "INFO:tensorflow:step 14, f1/token 1.0000, f1/entity 1.0000, loss 0.005910, 0.33 steps/sec, 1.34 examples/sec\n",
      "INFO:tensorflow:step 15, f1/token 1.0000, f1/entity 1.0000, loss 0.004330, 0.35 steps/sec, 1.40 examples/sec\n",
      "INFO:tensorflow:step 16, f1/token 1.0000, f1/entity 1.0000, loss 0.002413, 0.33 steps/sec, 1.31 examples/sec\n",
      "INFO:tensorflow:step 17, f1/token 1.0000, f1/entity 1.0000, loss 0.001958, 0.36 steps/sec, 1.44 examples/sec\n",
      "INFO:tensorflow:step 18, f1/token 1.0000, f1/entity 1.0000, loss 0.001656, 0.36 steps/sec, 1.44 examples/sec\n",
      "INFO:tensorflow:step 19, f1/token 1.0000, f1/entity 1.0000, loss 0.001734, 0.36 steps/sec, 1.45 examples/sec\n",
      "INFO:tensorflow:step 20, f1/token 1.0000, f1/entity 1.0000, loss 0.001671, 0.33 steps/sec, 1.33 examples/sec\n"
     ]
    }
   ],
   "source": [
    "model.fit(X, y, total_steps=20)"
   ]
  },
  {
   "cell_type": "markdown",
   "id": "fallen-hundred",
   "metadata": {},
   "source": [
    "# 推理"
   ]
  },
  {
   "cell_type": "code",
   "execution_count": 5,
   "id": "opposite-pantyhose",
   "metadata": {},
   "outputs": [
    {
     "name": "stdout",
     "output_type": "stream",
     "text": [
      "INFO:tensorflow:Time usage 0m-11.67s, 0.09 steps/sec, 0.34 examples/sec\n"
     ]
    },
    {
     "data": {
      "text/plain": [
       "{'preds': [['天亮'], [], ['迎接'], ['更好', '明天']],\n",
       " 'probs': array([[[9.9979347e-01, 5.5458991e-06, 1.1004400e-04, 1.3657432e-05,\n",
       "          7.7188452e-05],\n",
       "         [1.0653296e-04, 9.9768758e-01, 2.4697665e-04, 7.9531543e-04,\n",
       "          1.1635841e-03],\n",
       "         [1.3511638e-04, 2.6854730e-04, 2.6448775e-04, 9.9906784e-01,\n",
       "          2.6401298e-04],\n",
       "         ...,\n",
       "         [9.9831820e-01, 3.6142106e-04, 6.4558384e-04, 1.6398629e-04,\n",
       "          5.1073584e-04],\n",
       "         [9.9916244e-01, 5.6412686e-05, 3.4797649e-04, 1.8189306e-04,\n",
       "          2.5135305e-04],\n",
       "         [9.9858546e-01, 2.4740174e-04, 5.7381275e-04, 1.1559603e-04,\n",
       "          4.7788661e-04]],\n",
       " \n",
       "        [[9.9980444e-01, 4.0699820e-06, 1.0852514e-04, 9.7088387e-06,\n",
       "          7.3345000e-05],\n",
       "         [9.9956781e-01, 8.3397543e-05, 1.7698685e-04, 1.1709976e-05,\n",
       "          1.6009923e-04],\n",
       "         [9.9916363e-01, 8.2136758e-05, 3.6143523e-04, 1.1135106e-04,\n",
       "          2.8149568e-04],\n",
       "         ...,\n",
       "         [9.9942076e-01, 5.1425508e-05, 2.9561066e-04, 3.4615325e-05,\n",
       "          1.9751518e-04],\n",
       "         [9.9959689e-01, 1.5531785e-05, 2.1183109e-04, 4.3943543e-05,\n",
       "          1.3179147e-04],\n",
       "         [9.9947947e-01, 3.6515514e-05, 2.7057223e-04, 2.6499636e-05,\n",
       "          1.8707258e-04]],\n",
       " \n",
       "        [[9.9981600e-01, 5.9904969e-06, 9.0979600e-05, 1.7632356e-05,\n",
       "          6.9478694e-05],\n",
       "         [9.9936682e-01, 8.3837498e-05, 2.3467824e-04, 2.2986749e-05,\n",
       "          2.9165013e-04],\n",
       "         [1.2507359e-04, 9.9860990e-01, 2.3137892e-04, 5.2854751e-04,\n",
       "          5.0494849e-04],\n",
       "         ...,\n",
       "         [9.9822646e-01, 4.7931296e-04, 5.2109204e-04, 2.6776566e-04,\n",
       "          5.0540752e-04],\n",
       "         [9.9907863e-01, 7.2919320e-05, 2.9477596e-04, 2.9915286e-04,\n",
       "          2.5456538e-04],\n",
       "         [9.9859339e-01, 3.0301727e-04, 4.6280690e-04, 1.6835095e-04,\n",
       "          4.7247624e-04]],\n",
       " \n",
       "        [[9.9970931e-01, 1.3313892e-05, 1.3128003e-04, 5.1486244e-05,\n",
       "          9.4459756e-05],\n",
       "         [1.5484722e-04, 9.9933332e-01, 1.2530609e-04, 4.6577759e-05,\n",
       "          3.3983015e-04],\n",
       "         [1.1849806e-05, 2.9355206e-04, 2.2781089e-04, 9.9925321e-01,\n",
       "          2.1353534e-04],\n",
       "         ...,\n",
       "         [9.7460508e-01, 1.2382474e-02, 3.1046979e-03, 6.5195691e-03,\n",
       "          3.3881657e-03],\n",
       "         [9.9127322e-01, 9.8260026e-04, 1.1896094e-03, 5.5094105e-03,\n",
       "          1.0451720e-03],\n",
       "         [9.8088616e-01, 8.4955432e-03, 2.9156262e-03, 4.4822968e-03,\n",
       "          3.2204064e-03]]], dtype=float32)}"
      ]
     },
     "execution_count": 5,
     "metadata": {},
     "output_type": "execute_result"
    }
   ],
   "source": [
    "model.predict(X)"
   ]
  },
  {
   "cell_type": "markdown",
   "id": "fundamental-poverty",
   "metadata": {},
   "source": [
    "# 评分"
   ]
  },
  {
   "cell_type": "code",
   "execution_count": 6,
   "id": "accessory-lesbian",
   "metadata": {},
   "outputs": [
    {
     "name": "stdout",
     "output_type": "stream",
     "text": [
      "INFO:tensorflow:Time usage 0m-6.22s, 0.16 steps/sec, 0.64 examples/sec\n"
     ]
    },
    {
     "data": {
      "text/plain": [
       "{'f1/token': 0.9999993750002658,\n",
       " 'f1/entity': 0.9999992500003125,\n",
       " 'loss': 0.0007526976}"
      ]
     },
     "execution_count": 6,
     "metadata": {},
     "output_type": "execute_result"
    }
   ],
   "source": [
    "model.score(X, y)"
   ]
  }
 ],
 "metadata": {
  "kernelspec": {
   "display_name": "Python 3",
   "language": "python",
   "name": "python3"
  },
  "language_info": {
   "codemirror_mode": {
    "name": "ipython",
    "version": 3
   },
   "file_extension": ".py",
   "mimetype": "text/x-python",
   "name": "python",
   "nbconvert_exporter": "python",
   "pygments_lexer": "ipython3",
   "version": "3.8.2"
  }
 },
 "nbformat": 4,
 "nbformat_minor": 5
}
