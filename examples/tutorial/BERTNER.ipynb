{
 "cells": [
  {
   "cell_type": "markdown",
   "id": "structured-darwin",
   "metadata": {},
   "source": [
    "# BERTNER\n",
    "\n",
    "可用的中文预训练参数：[`bert-base`](https://storage.googleapis.com/bert_models/2018_11_03/chinese_L-12_H-768_A-12.zip),[`roberta-wwm-ext-base`](https://drive.google.com/uc?export=download&id=1jMAKIJmPn7kADgD3yQZhpsqM-IRM1qZt),[`roberta-wwm-ext-large`](https://drive.google.com/uc?export=download&id=1dtad0FFzG11CBsawu8hvwwzU2R0FDI94),[`macbert-base`](https://drive.google.com/uc?export=download&id=1aV69OhYzIwj_hn-kO1RiBa-m8QAusQ5b),[`macbert-large`](https://drive.google.com/uc?export=download&id=1lWYxnk1EqTA2Q20_IShxBrCPc5VSDCkT)"
   ]
  },
  {
   "cell_type": "code",
   "execution_count": 1,
   "id": "rotary-academy",
   "metadata": {},
   "outputs": [
    {
     "name": "stdout",
     "output_type": "stream",
     "text": [
      "v2.4.5\n"
     ]
    }
   ],
   "source": [
    "import uf\n",
    "\n",
    "print(uf.__version__)"
   ]
  },
  {
   "cell_type": "code",
   "execution_count": 2,
   "id": "velvet-symbol",
   "metadata": {},
   "outputs": [
    {
     "name": "stdout",
     "output_type": "stream",
     "text": [
      "uf.BERTNER(\n",
      "    config_file=\"../../demo/bert_config.json\",\n",
      "    vocab_file=\"../../demo/vocab.txt\",\n",
      "    max_seq_length=128,\n",
      "    init_checkpoint=None,\n",
      "    output_dir=None,\n",
      "    gpu_ids=None,\n",
      "    do_lower_case=True,\n",
      "    truncate_method=\"LIFO\",\n",
      ")\n"
     ]
    }
   ],
   "source": [
    "model = uf.BERTNER('../../demo/bert_config.json', '../../demo/vocab.txt')\n",
    "print(model)"
   ]
  },
  {
   "cell_type": "code",
   "execution_count": 3,
   "id": "drawn-breathing",
   "metadata": {},
   "outputs": [],
   "source": [
    "X = ['天亮以前说再见', '笑着泪流满面', '去迎接应该你的', '更好的明天']\n",
    "y = [['天亮'], [], ['迎接'], ['更好', '明天']]"
   ]
  },
  {
   "cell_type": "markdown",
   "id": "vanilla-fault",
   "metadata": {},
   "source": [
    "# 训练"
   ]
  },
  {
   "cell_type": "code",
   "execution_count": 4,
   "id": "excellent-religion",
   "metadata": {},
   "outputs": [
    {
     "name": "stdout",
     "output_type": "stream",
     "text": [
      "WARNING:tensorflow:From /Users/geyingli/Library/Python/3.8/lib/python/site-packages/tensorflow/python/util/dispatch.py:1096: calling dropout (from tensorflow.python.ops.nn_ops) with keep_prob is deprecated and will be removed in a future version.\n",
      "Instructions for updating:\n",
      "Please use `rate` instead of `keep_prob`. Rate should be set to `rate = 1 - keep_prob`.\n"
     ]
    },
    {
     "name": "stderr",
     "output_type": "stream",
     "text": [
      "/Users/geyingli/Library/Python/3.8/lib/python/site-packages/uf-2.4.5-py3.8.egg/uf/model/bert.py:272: UserWarning: `tf.layers.dense` is deprecated and will be removed in a future version. Please use `tf.keras.layers.Dense` instead.\n",
      "  query_layer = tf.layers.dense(\n",
      "/Users/geyingli/Library/Python/3.8/lib/python/site-packages/keras/legacy_tf_layers/core.py:255: UserWarning: `layer.apply` is deprecated and will be removed in a future version. Please use `layer.__call__` method instead.\n",
      "  return layer.apply(inputs)\n",
      "/Users/geyingli/Library/Python/3.8/lib/python/site-packages/uf-2.4.5-py3.8.egg/uf/model/bert.py:282: UserWarning: `tf.layers.dense` is deprecated and will be removed in a future version. Please use `tf.keras.layers.Dense` instead.\n",
      "  key_layer = tf.layers.dense(\n",
      "/Users/geyingli/Library/Python/3.8/lib/python/site-packages/uf-2.4.5-py3.8.egg/uf/model/bert.py:292: UserWarning: `tf.layers.dense` is deprecated and will be removed in a future version. Please use `tf.keras.layers.Dense` instead.\n",
      "  value_layer = tf.layers.dense(\n",
      "/Users/geyingli/Library/Python/3.8/lib/python/site-packages/uf-2.4.5-py3.8.egg/uf/model/bert.py:416: UserWarning: `tf.layers.dense` is deprecated and will be removed in a future version. Please use `tf.keras.layers.Dense` instead.\n",
      "  attention_output = tf.layers.dense(\n",
      "/Users/geyingli/Library/Python/3.8/lib/python/site-packages/uf-2.4.5-py3.8.egg/uf/model/bert.py:428: UserWarning: `tf.layers.dense` is deprecated and will be removed in a future version. Please use `tf.keras.layers.Dense` instead.\n",
      "  intermediate_output = tf.layers.dense(\n",
      "/Users/geyingli/Library/Python/3.8/lib/python/site-packages/uf-2.4.5-py3.8.egg/uf/model/bert.py:438: UserWarning: `tf.layers.dense` is deprecated and will be removed in a future version. Please use `tf.keras.layers.Dense` instead.\n",
      "  layer_output = tf.layers.dense(\n",
      "/Users/geyingli/Library/Python/3.8/lib/python/site-packages/uf-2.4.5-py3.8.egg/uf/model/bert.py:107: UserWarning: `tf.layers.dense` is deprecated and will be removed in a future version. Please use `tf.keras.layers.Dense` instead.\n",
      "  self.pooled_output = tf.layers.dense(\n"
     ]
    },
    {
     "name": "stdout",
     "output_type": "stream",
     "text": [
      "INFO:tensorflow:Build graph with 305,633,295 parameters (among which 102,271,493 are trainable)\n",
      "INFO:tensorflow:Running local_init_op\n",
      "INFO:tensorflow:Done running local_init_op\n",
      "INFO:tensorflow:Running training on 4 samples (step 0 -> 20)\n",
      "INFO:tensorflow:step 1, f1/token 0.0000, f1/entity 0.0000, loss 1.430125, 0.01 steps/sec, 0.04 examples/sec\n",
      "INFO:tensorflow:step 2, f1/token 0.1667, f1/entity 0.0000, loss 1.465231, 0.10 steps/sec, 0.41 examples/sec\n",
      "INFO:tensorflow:step 3, f1/token 0.0000, f1/entity 0.0000, loss 0.813128, 0.25 steps/sec, 0.99 examples/sec\n",
      "INFO:tensorflow:step 4, f1/token 0.0000, f1/entity 0.0000, loss 0.573362, 0.25 steps/sec, 1.00 examples/sec\n",
      "INFO:tensorflow:step 5, f1/token 0.7778, f1/entity 0.6667, loss 0.571199, 0.28 steps/sec, 1.10 examples/sec\n",
      "INFO:tensorflow:step 6, f1/token 0.8750, f1/entity 0.7500, loss 0.398159, 0.31 steps/sec, 1.24 examples/sec\n",
      "INFO:tensorflow:step 7, f1/token 0.6667, f1/entity 0.6667, loss 0.249174, 0.25 steps/sec, 1.00 examples/sec\n",
      "INFO:tensorflow:step 8, f1/token 0.8571, f1/entity 0.8571, loss 0.185765, 0.21 steps/sec, 0.85 examples/sec\n",
      "INFO:tensorflow:step 9, f1/token 1.0000, f1/entity 1.0000, loss 0.094926, 0.29 steps/sec, 1.16 examples/sec\n",
      "INFO:tensorflow:step 10, f1/token 1.0000, f1/entity 1.0000, loss 0.041088, 0.38 steps/sec, 1.54 examples/sec\n",
      "INFO:tensorflow:step 11, f1/token 1.0000, f1/entity 1.0000, loss 0.019890, 0.33 steps/sec, 1.32 examples/sec\n",
      "INFO:tensorflow:step 12, f1/token 1.0000, f1/entity 1.0000, loss 0.017807, 0.35 steps/sec, 1.38 examples/sec\n",
      "INFO:tensorflow:step 13, f1/token 1.0000, f1/entity 1.0000, loss 0.006735, 0.37 steps/sec, 1.49 examples/sec\n",
      "INFO:tensorflow:step 14, f1/token 1.0000, f1/entity 1.0000, loss 0.002647, 0.40 steps/sec, 1.59 examples/sec\n",
      "INFO:tensorflow:step 15, f1/token 1.0000, f1/entity 1.0000, loss 0.002358, 0.42 steps/sec, 1.68 examples/sec\n",
      "INFO:tensorflow:step 16, f1/token 1.0000, f1/entity 1.0000, loss 0.001942, 0.45 steps/sec, 1.79 examples/sec\n",
      "INFO:tensorflow:step 17, f1/token 1.0000, f1/entity 1.0000, loss 0.001977, 0.44 steps/sec, 1.76 examples/sec\n",
      "INFO:tensorflow:step 18, f1/token 1.0000, f1/entity 1.0000, loss 0.001673, 0.45 steps/sec, 1.80 examples/sec\n",
      "INFO:tensorflow:step 19, f1/token 1.0000, f1/entity 1.0000, loss 0.002235, 0.44 steps/sec, 1.77 examples/sec\n",
      "INFO:tensorflow:step 20, f1/token 1.0000, f1/entity 1.0000, loss 0.001765, 0.44 steps/sec, 1.75 examples/sec\n"
     ]
    }
   ],
   "source": [
    "model.fit(X, y, total_steps=20)"
   ]
  },
  {
   "cell_type": "markdown",
   "id": "fallen-hundred",
   "metadata": {},
   "source": [
    "# 推理"
   ]
  },
  {
   "cell_type": "code",
   "execution_count": 5,
   "id": "opposite-pantyhose",
   "metadata": {},
   "outputs": [
    {
     "name": "stdout",
     "output_type": "stream",
     "text": [
      "INFO:tensorflow:Time usage 0m-1.57s, 0.64 steps/sec, 2.55 examples/sec\n"
     ]
    },
    {
     "data": {
      "text/plain": [
       "{'preds': [['天亮'], [], ['迎接'], ['更好', '明天']],\n",
       " 'probs': array([[[9.99750912e-01, 3.53721334e-05, 9.72209236e-05, 7.13357076e-06,\n",
       "          1.09315304e-04],\n",
       "         [1.83089196e-05, 9.99154210e-01, 1.56048161e-04, 3.49362555e-04,\n",
       "          3.22109467e-04],\n",
       "         [1.41135417e-04, 1.18967635e-03, 3.30067385e-04, 9.97924685e-01,\n",
       "          4.14418901e-04],\n",
       "         ...,\n",
       "         [9.95190620e-01, 2.09405250e-03, 7.56817695e-04, 8.63035035e-04,\n",
       "          1.09549868e-03],\n",
       "         [9.97770309e-01, 7.23436126e-04, 7.44374120e-04, 2.28272111e-04,\n",
       "          5.33738756e-04],\n",
       "         [9.91397977e-01, 3.78920324e-03, 2.31159176e-03, 1.08166772e-03,\n",
       "          1.41962781e-03]],\n",
       " \n",
       "        [[9.99808490e-01, 1.84445544e-05, 8.77940474e-05, 4.82129190e-06,\n",
       "          8.04968367e-05],\n",
       "         [9.99111712e-01, 5.04197495e-04, 1.73676948e-04, 8.54430982e-06,\n",
       "          2.01844770e-04],\n",
       "         [9.99429882e-01, 1.42265475e-04, 2.02707612e-04, 2.97902498e-05,\n",
       "          1.95387576e-04],\n",
       "         ...,\n",
       "         [9.99268591e-01, 1.88472346e-04, 2.19314199e-04, 8.24764138e-05,\n",
       "          2.41236892e-04],\n",
       "         [9.99468148e-01, 9.16947465e-05, 2.50512094e-04, 3.21879452e-05,\n",
       "          1.57342787e-04],\n",
       "         [9.98804808e-01, 2.92739191e-04, 5.34185383e-04, 9.13301919e-05,\n",
       "          2.77003448e-04]],\n",
       " \n",
       "        [[9.99774516e-01, 3.48378780e-05, 8.68145362e-05, 6.68952316e-06,\n",
       "          9.72970520e-05],\n",
       "         [9.97876406e-01, 1.66816427e-03, 2.06299344e-04, 1.04381297e-05,\n",
       "          2.38790279e-04],\n",
       "         [1.61029064e-04, 9.99278486e-01, 1.18951190e-04, 5.60918670e-05,\n",
       "          3.85312364e-04],\n",
       "         ...,\n",
       "         [9.95649517e-01, 2.06027017e-03, 6.18444814e-04, 7.75871507e-04,\n",
       "          8.95835401e-04],\n",
       "         [9.98205662e-01, 6.53712428e-04, 5.66300761e-04, 1.71047897e-04,\n",
       "          4.03293059e-04],\n",
       "         [9.92409229e-01, 3.73594160e-03, 1.78821909e-03, 9.63687082e-04,\n",
       "          1.10297813e-03]],\n",
       " \n",
       "        [[9.99618530e-01, 6.98256918e-05, 1.16092095e-04, 2.90192038e-05,\n",
       "          1.66477839e-04],\n",
       "         [3.69917507e-05, 9.99646425e-01, 1.13754773e-04, 2.54075512e-05,\n",
       "          1.77385387e-04],\n",
       "         [1.59046085e-05, 1.08580058e-03, 2.55397841e-04, 9.98324692e-01,\n",
       "          3.18288192e-04],\n",
       "         ...,\n",
       "         [8.81336272e-01, 5.10696955e-02, 5.14631439e-03, 5.22574596e-02,\n",
       "          1.01903640e-02],\n",
       "         [9.72690344e-01, 1.11722071e-02, 3.99759319e-03, 8.68301839e-03,\n",
       "          3.45682353e-03],\n",
       "         [8.20965707e-01, 8.77486542e-02, 1.53685259e-02, 6.26995340e-02,\n",
       "          1.32175758e-02]]], dtype=float32)}"
      ]
     },
     "execution_count": 5,
     "metadata": {},
     "output_type": "execute_result"
    }
   ],
   "source": [
    "model.predict(X)"
   ]
  },
  {
   "cell_type": "markdown",
   "id": "fundamental-poverty",
   "metadata": {},
   "source": [
    "# 评分"
   ]
  },
  {
   "cell_type": "code",
   "execution_count": 6,
   "id": "accessory-lesbian",
   "metadata": {},
   "outputs": [
    {
     "name": "stdout",
     "output_type": "stream",
     "text": [
      "INFO:tensorflow:Time usage 0m-0.93s, 1.08 steps/sec, 4.32 examples/sec\n"
     ]
    },
    {
     "data": {
      "text/plain": [
       "{'f1/token': 0.9999993750002658,\n",
       " 'f1/entity': 0.9999992500003125,\n",
       " 'loss': 0.00077479775}"
      ]
     },
     "execution_count": 6,
     "metadata": {},
     "output_type": "execute_result"
    }
   ],
   "source": [
    "model.score(X, y)"
   ]
  }
 ],
 "metadata": {
  "kernelspec": {
   "display_name": "Python 3",
   "language": "python",
   "name": "python3"
  },
  "language_info": {
   "codemirror_mode": {
    "name": "ipython",
    "version": 3
   },
   "file_extension": ".py",
   "mimetype": "text/x-python",
   "name": "python",
   "nbconvert_exporter": "python",
   "pygments_lexer": "ipython3",
   "version": "3.8.2"
  }
 },
 "nbformat": 4,
 "nbformat_minor": 5
}
