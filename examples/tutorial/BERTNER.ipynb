{
 "cells": [
  {
   "cell_type": "markdown",
   "id": "structured-darwin",
   "metadata": {},
   "source": [
    "# BERTNER\n",
    "\n",
    "可用的中文预训练参数：[`bert-base`](https://storage.googleapis.com/bert_models/2018_11_03/chinese_L-12_H-768_A-12.zip),[`roberta-wwm-ext-base`](https://drive.google.com/uc?export=download&id=1jMAKIJmPn7kADgD3yQZhpsqM-IRM1qZt),[`roberta-wwm-ext-large`](https://drive.google.com/uc?export=download&id=1dtad0FFzG11CBsawu8hvwwzU2R0FDI94),[`macbert-base`](https://drive.google.com/uc?export=download&id=1aV69OhYzIwj_hn-kO1RiBa-m8QAusQ5b),[`macbert-large`](https://drive.google.com/uc?export=download&id=1lWYxnk1EqTA2Q20_IShxBrCPc5VSDCkT)"
   ]
  },
  {
   "cell_type": "code",
   "execution_count": 1,
   "id": "rotary-academy",
   "metadata": {},
   "outputs": [
    {
     "name": "stdout",
     "output_type": "stream",
     "text": [
      "v2.5.0\n"
     ]
    }
   ],
   "source": [
    "import uf\n",
    "\n",
    "print(uf.__version__)"
   ]
  },
  {
   "cell_type": "code",
   "execution_count": 2,
   "id": "velvet-symbol",
   "metadata": {},
   "outputs": [
    {
     "name": "stdout",
     "output_type": "stream",
     "text": [
      "uf.BERTNER(\n",
      "    config_file=\"../../ref/bert_config.json\",\n",
      "    vocab_file=\"../../ref/vocab.txt\",\n",
      "    max_seq_length=128,\n",
      "    init_checkpoint=None,\n",
      "    output_dir=None,\n",
      "    gpu_ids=None,\n",
      "    do_lower_case=True,\n",
      "    truncate_method=\"LIFO\",\n",
      ")\n"
     ]
    }
   ],
   "source": [
    "model = uf.BERTNER(\"../../ref/bert_config.json\", \"../../ref/vocab.txt\")\n",
    "print(model)"
   ]
  },
  {
   "cell_type": "code",
   "execution_count": 3,
   "id": "drawn-breathing",
   "metadata": {},
   "outputs": [],
   "source": [
    "X = [\"天亮以前说再见\", \"笑着泪流满面\", \"去迎接应该你的\", \"更好的明天\"]\n",
    "y = [[\"天亮\"], [], [\"迎接\"], [\"更好\", \"明天\"]]"
   ]
  },
  {
   "cell_type": "markdown",
   "id": "vanilla-fault",
   "metadata": {},
   "source": [
    "# 训练"
   ]
  },
  {
   "cell_type": "code",
   "execution_count": 4,
   "id": "excellent-religion",
   "metadata": {},
   "outputs": [
    {
     "name": "stdout",
     "output_type": "stream",
     "text": [
      "WARNING:tensorflow:From c:\\Users\\Luv_d\\AppData\\Local\\Programs\\Python\\Python39\\lib\\site-packages\\tensorflow\\python\\util\\dispatch.py:1176: calling dropout (from tensorflow.python.ops.nn_ops) with keep_prob is deprecated and will be removed in a future version.\n",
      "Instructions for updating:\n",
      "Please use `rate` instead of `keep_prob`. Rate should be set to `rate = 1 - keep_prob`.\n"
     ]
    },
    {
     "name": "stderr",
     "output_type": "stream",
     "text": [
      "c:\\Users\\Luv_d\\AppData\\Local\\Programs\\Python\\Python39\\lib\\site-packages\\uf-2.5.0-py3.9.egg\\uf\\apps\\bert\\bert.py:272: UserWarning: `tf.layers.dense` is deprecated and will be removed in a future version. Please use `tf.keras.layers.Dense` instead.\n",
      "  query_layer = tf.layers.dense(\n",
      "c:\\Users\\Luv_d\\AppData\\Local\\Programs\\Python\\Python39\\lib\\site-packages\\uf-2.5.0-py3.9.egg\\uf\\apps\\bert\\bert.py:282: UserWarning: `tf.layers.dense` is deprecated and will be removed in a future version. Please use `tf.keras.layers.Dense` instead.\n",
      "  key_layer = tf.layers.dense(\n",
      "c:\\Users\\Luv_d\\AppData\\Local\\Programs\\Python\\Python39\\lib\\site-packages\\uf-2.5.0-py3.9.egg\\uf\\apps\\bert\\bert.py:292: UserWarning: `tf.layers.dense` is deprecated and will be removed in a future version. Please use `tf.keras.layers.Dense` instead.\n",
      "  value_layer = tf.layers.dense(\n",
      "c:\\Users\\Luv_d\\AppData\\Local\\Programs\\Python\\Python39\\lib\\site-packages\\uf-2.5.0-py3.9.egg\\uf\\apps\\bert\\bert.py:416: UserWarning: `tf.layers.dense` is deprecated and will be removed in a future version. Please use `tf.keras.layers.Dense` instead.\n",
      "  attention_output = tf.layers.dense(\n",
      "c:\\Users\\Luv_d\\AppData\\Local\\Programs\\Python\\Python39\\lib\\site-packages\\uf-2.5.0-py3.9.egg\\uf\\apps\\bert\\bert.py:428: UserWarning: `tf.layers.dense` is deprecated and will be removed in a future version. Please use `tf.keras.layers.Dense` instead.\n",
      "  intermediate_output = tf.layers.dense(\n",
      "c:\\Users\\Luv_d\\AppData\\Local\\Programs\\Python\\Python39\\lib\\site-packages\\uf-2.5.0-py3.9.egg\\uf\\apps\\bert\\bert.py:438: UserWarning: `tf.layers.dense` is deprecated and will be removed in a future version. Please use `tf.keras.layers.Dense` instead.\n",
      "  layer_output = tf.layers.dense(\n",
      "c:\\Users\\Luv_d\\AppData\\Local\\Programs\\Python\\Python39\\lib\\site-packages\\uf-2.5.0-py3.9.egg\\uf\\apps\\bert\\bert.py:107: UserWarning: `tf.layers.dense` is deprecated and will be removed in a future version. Please use `tf.keras.layers.Dense` instead.\n",
      "  self.pooled_output = tf.layers.dense(\n"
     ]
    },
    {
     "name": "stdout",
     "output_type": "stream",
     "text": [
      "INFO:tensorflow:Build graph with 305,633,295 parameters (among which 102,271,493 are trainable)\n",
      "INFO:tensorflow:Running local_init_op\n",
      "INFO:tensorflow:Done running local_init_op\n",
      "INFO:tensorflow:Running training on 4 samples (step 0 -> 20)\n",
      "INFO:tensorflow:step 1, f1/token 0.0000, f1/entity 0.0000, loss 1.624112, 0.11 steps/sec, 0.45 examples/sec\n",
      "INFO:tensorflow:step 2, f1/token 0.0000, f1/entity 0.0000, loss 1.602229, 0.12 steps/sec, 0.50 examples/sec\n",
      "INFO:tensorflow:step 3, f1/token 0.0000, f1/entity 0.0000, loss 0.888656, 0.16 steps/sec, 0.64 examples/sec\n",
      "INFO:tensorflow:step 4, f1/token 0.0000, f1/entity 0.0000, loss 0.694858, 0.21 steps/sec, 0.85 examples/sec\n",
      "INFO:tensorflow:step 5, f1/token 0.4000, f1/entity 0.4000, loss 0.457812, 0.23 steps/sec, 0.91 examples/sec\n",
      "INFO:tensorflow:step 6, f1/token 0.8571, f1/entity 0.8571, loss 0.297268, 0.22 steps/sec, 0.86 examples/sec\n",
      "INFO:tensorflow:step 7, f1/token 0.4000, f1/entity 0.4000, loss 0.257795, 0.22 steps/sec, 0.89 examples/sec\n",
      "INFO:tensorflow:step 8, f1/token 0.6667, f1/entity 0.6667, loss 0.178462, 0.24 steps/sec, 0.94 examples/sec\n",
      "INFO:tensorflow:step 9, f1/token 0.8571, f1/entity 0.8571, loss 0.090520, 0.26 steps/sec, 1.04 examples/sec\n",
      "INFO:tensorflow:step 10, f1/token 1.0000, f1/entity 1.0000, loss 0.045483, 0.25 steps/sec, 0.99 examples/sec\n",
      "INFO:tensorflow:step 11, f1/token 1.0000, f1/entity 1.0000, loss 0.020886, 0.30 steps/sec, 1.20 examples/sec\n",
      "INFO:tensorflow:step 12, f1/token 1.0000, f1/entity 1.0000, loss 0.006241, 0.35 steps/sec, 1.40 examples/sec\n",
      "INFO:tensorflow:step 13, f1/token 1.0000, f1/entity 1.0000, loss 0.003566, 0.39 steps/sec, 1.54 examples/sec\n",
      "INFO:tensorflow:step 14, f1/token 1.0000, f1/entity 1.0000, loss 0.006639, 0.38 steps/sec, 1.51 examples/sec\n",
      "INFO:tensorflow:step 15, f1/token 1.0000, f1/entity 1.0000, loss 0.002823, 0.36 steps/sec, 1.46 examples/sec\n",
      "INFO:tensorflow:step 16, f1/token 1.0000, f1/entity 1.0000, loss 0.003051, 0.41 steps/sec, 1.64 examples/sec\n",
      "INFO:tensorflow:step 17, f1/token 1.0000, f1/entity 1.0000, loss 0.002550, 0.50 steps/sec, 2.01 examples/sec\n",
      "INFO:tensorflow:step 18, f1/token 1.0000, f1/entity 1.0000, loss 0.001519, 0.53 steps/sec, 2.13 examples/sec\n",
      "INFO:tensorflow:step 19, f1/token 1.0000, f1/entity 1.0000, loss 0.001191, 0.52 steps/sec, 2.06 examples/sec\n",
      "INFO:tensorflow:step 20, f1/token 1.0000, f1/entity 1.0000, loss 0.001136, 0.64 steps/sec, 2.55 examples/sec\n"
     ]
    }
   ],
   "source": [
    "model.fit(X, y, total_steps=20)"
   ]
  },
  {
   "cell_type": "markdown",
   "id": "fallen-hundred",
   "metadata": {},
   "source": [
    "# 推理"
   ]
  },
  {
   "cell_type": "code",
   "execution_count": 5,
   "id": "opposite-pantyhose",
   "metadata": {},
   "outputs": [
    {
     "name": "stdout",
     "output_type": "stream",
     "text": [
      "INFO:tensorflow:Running inference on 4 samples\n",
      "INFO:tensorflow:process 100.0%, 3.46 examples/sec\n"
     ]
    },
    {
     "data": {
      "text/plain": [
       "{'preds': [['天亮'], [], ['迎接'], ['更好', '明天']],\n",
       " 'probs': array([[[9.9983299e-01, 7.7666264e-06, 8.2265891e-05, 7.8158519e-06,\n",
       "          6.9158712e-05],\n",
       "         [2.5043444e-04, 9.9827266e-01, 3.4089986e-04, 5.3859904e-04,\n",
       "          5.9738738e-04],\n",
       "         [2.4951334e-04, 3.7712383e-04, 4.2716326e-04, 9.9830711e-01,\n",
       "          6.3912728e-04],\n",
       "         ...,\n",
       "         [9.9960023e-01, 2.9593246e-05, 1.1330789e-04, 8.5337240e-05,\n",
       "          1.7159604e-04],\n",
       "         [9.9923491e-01, 5.1609059e-05, 2.4528147e-04, 1.6602589e-04,\n",
       "          3.0215774e-04],\n",
       "         [9.9961722e-01, 1.5589545e-05, 1.0611399e-04, 6.2674582e-05,\n",
       "          1.9838000e-04]],\n",
       " \n",
       "        [[9.9982721e-01, 5.5834685e-06, 8.8757013e-05, 6.5464883e-06,\n",
       "          7.1902570e-05],\n",
       "         [9.9980408e-01, 2.2586166e-05, 1.0331873e-04, 5.5088581e-06,\n",
       "          6.4455002e-05],\n",
       "         [9.9972504e-01, 1.6130572e-05, 1.3402980e-04, 4.2788357e-05,\n",
       "          8.1986349e-05],\n",
       "         ...,\n",
       "         [9.9973840e-01, 1.1888427e-05, 9.8155142e-05, 3.2210221e-05,\n",
       "          1.1930775e-04],\n",
       "         [9.9954563e-01, 1.9109435e-05, 1.8087732e-04, 5.9169630e-05,\n",
       "          1.9517945e-04],\n",
       "         [9.9972981e-01, 7.7869981e-06, 9.5056232e-05, 2.7251161e-05,\n",
       "          1.3999850e-04]],\n",
       " \n",
       "        [[9.9981695e-01, 7.8174635e-06, 9.1138863e-05, 1.0855906e-05,\n",
       "          7.3190866e-05],\n",
       "         [9.9978608e-01, 1.8419443e-05, 1.1303396e-04, 8.4329067e-06,\n",
       "          7.4154930e-05],\n",
       "         [1.9916607e-04, 9.9903178e-01, 2.5311092e-04, 2.3723255e-04,\n",
       "          2.7871906e-04],\n",
       "         ...,\n",
       "         [9.9944729e-01, 3.6634952e-05, 1.4397886e-04, 1.5723705e-04,\n",
       "          2.1490939e-04],\n",
       "         [9.9891341e-01, 6.7213434e-05, 3.1068808e-04, 3.1185974e-04,\n",
       "          3.9685061e-04],\n",
       "         [9.9953175e-01, 1.7678218e-05, 1.2197796e-04, 9.8274766e-05,\n",
       "          2.3035963e-04]],\n",
       " \n",
       "        [[9.9976975e-01, 1.6262962e-05, 1.1710527e-04, 1.6730915e-05,\n",
       "          8.0128462e-05],\n",
       "         [2.9589061e-04, 9.9902296e-01, 3.1878403e-04, 4.0042571e-05,\n",
       "          3.2242425e-04],\n",
       "         [3.3932196e-05, 2.4815561e-04, 2.2952547e-04, 9.9920017e-01,\n",
       "          2.8829221e-04],\n",
       "         ...,\n",
       "         [9.9717510e-01, 3.4646530e-04, 4.9108075e-04, 1.2547160e-03,\n",
       "          7.3258550e-04],\n",
       "         [9.9547249e-01, 4.9891742e-04, 9.0816605e-04, 1.9543234e-03,\n",
       "          1.1660376e-03],\n",
       "         [9.9869281e-01, 8.7496759e-05, 2.6648090e-04, 4.4373711e-04,\n",
       "          5.0957885e-04]]], dtype=float32)}"
      ]
     },
     "execution_count": 5,
     "metadata": {},
     "output_type": "execute_result"
    }
   ],
   "source": [
    "model.predict(X)"
   ]
  },
  {
   "cell_type": "markdown",
   "id": "fundamental-poverty",
   "metadata": {},
   "source": [
    "# 评分"
   ]
  },
  {
   "cell_type": "code",
   "execution_count": 6,
   "id": "accessory-lesbian",
   "metadata": {},
   "outputs": [
    {
     "name": "stdout",
     "output_type": "stream",
     "text": [
      "INFO:tensorflow:Running scoring on 4 samples\n",
      "INFO:tensorflow:process 100.0%, 6.37 examples/sec\n"
     ]
    },
    {
     "data": {
      "text/plain": [
       "{'f1/token': 1.0, 'f1/entity': 1.0, 'loss': 0.00050265645}"
      ]
     },
     "execution_count": 6,
     "metadata": {},
     "output_type": "execute_result"
    }
   ],
   "source": [
    "model.score(X, y)"
   ]
  }
 ],
 "metadata": {
  "kernelspec": {
   "display_name": "Python 3.9.13 64-bit",
   "language": "python",
   "name": "python3"
  },
  "language_info": {
   "codemirror_mode": {
    "name": "ipython",
    "version": 3
   },
   "file_extension": ".py",
   "mimetype": "text/x-python",
   "name": "python",
   "nbconvert_exporter": "python",
   "pygments_lexer": "ipython3",
   "version": "3.9.13"
  },
  "vscode": {
   "interpreter": {
    "hash": "265fd6f62f200408acbbeae0248f34bed9f93569a643842b7a25d2cd76cae5e5"
   }
  }
 },
 "nbformat": 4,
 "nbformat_minor": 5
}
