{
 "cells": [
  {
   "cell_type": "code",
   "execution_count": 1,
   "id": "rotary-academy",
   "metadata": {},
   "outputs": [
    {
     "name": "stdout",
     "output_type": "stream",
     "text": [
      "beta v2.8.0\n"
     ]
    }
   ],
   "source": [
    "import uf\n",
    "\n",
    "print(uf.__version__)"
   ]
  },
  {
   "cell_type": "code",
   "execution_count": 2,
   "id": "velvet-symbol",
   "metadata": {},
   "outputs": [
    {
     "name": "stdout",
     "output_type": "stream",
     "text": [
      "uf.BERTNER(config_file='../demo/bert_config.json', vocab_file='../demo/vocab.txt', max_seq_length=128, init_checkpoint=None, output_dir=None, gpu_ids=None, do_lower_case=True, truncate_method='LIFO')\n"
     ]
    }
   ],
   "source": [
    "model = uf.BERTNER('../../demo/bert_config.json', '../../demo/vocab.txt')\n",
    "print(model)"
   ]
  },
  {
   "cell_type": "code",
   "execution_count": 3,
   "id": "drawn-breathing",
   "metadata": {},
   "outputs": [],
   "source": [
    "X = ['天亮以前说再见', '笑着泪流满面', '去迎接应该你的', '更好的明天']\n",
    "y = [['天亮'], [], ['迎接'], ['更好', '明天']]"
   ]
  },
  {
   "cell_type": "markdown",
   "id": "vanilla-fault",
   "metadata": {},
   "source": [
    "# 训练"
   ]
  },
  {
   "cell_type": "code",
   "execution_count": 4,
   "id": "excellent-religion",
   "metadata": {},
   "outputs": [
    {
     "name": "stdout",
     "output_type": "stream",
     "text": [
      "WARNING:tensorflow:From /Users/geyingli/Library/Python/3.8/lib/python/site-packages/tensorflow/python/util/dispatch.py:201: calling dropout (from tensorflow.python.ops.nn_ops) with keep_prob is deprecated and will be removed in a future version.\n",
      "Instructions for updating:\n",
      "Please use `rate` instead of `keep_prob`. Rate should be set to `rate = 1 - keep_prob`.\n"
     ]
    },
    {
     "name": "stderr",
     "output_type": "stream",
     "text": [
      "/Users/geyingli/Library/Python/3.8/lib/python/site-packages/tensorflow/python/keras/legacy_tf_layers/core.py:171: UserWarning: `tf.layers.dense` is deprecated and will be removed in a future version. Please use `tf.keras.layers.Dense` instead.\n",
      "  warnings.warn('`tf.layers.dense` is deprecated and '\n",
      "/Users/geyingli/Library/Python/3.8/lib/python/site-packages/tensorflow/python/keras/engine/base_layer_v1.py:1719: UserWarning: `layer.apply` is deprecated and will be removed in a future version. Please use `layer.__call__` method instead.\n",
      "  warnings.warn('`layer.apply` is deprecated and '\n"
     ]
    },
    {
     "name": "stdout",
     "output_type": "stream",
     "text": [
      "INFO:tensorflow:Build graph with 305,633,295 parameters (among which 102,271,493 are trainable)\n",
      "INFO:tensorflow:Running local_init_op\n",
      "INFO:tensorflow:Done running local_init_op\n",
      "INFO:tensorflow:Running training on 4 samples (step 0 -> 20)\n",
      "INFO:tensorflow:step 1, f1/token 0.2727, f1/entity 0.0000, loss 2.312585, 0.14 steps/sec, 0.57 examples/sec\n",
      "INFO:tensorflow:step 2, f1/token 0.2857, f1/entity 0.0000, loss 2.269530, 0.42 steps/sec, 1.69 examples/sec\n",
      "INFO:tensorflow:step 3, f1/token 0.0000, f1/entity 0.0000, loss 0.856058, 0.41 steps/sec, 1.63 examples/sec\n",
      "INFO:tensorflow:step 4, f1/token 0.0000, f1/entity 0.0000, loss 0.787358, 0.35 steps/sec, 1.38 examples/sec\n",
      "INFO:tensorflow:step 5, f1/token 0.0000, f1/entity 0.0000, loss 0.402721, 0.40 steps/sec, 1.60 examples/sec\n",
      "INFO:tensorflow:step 6, f1/token 0.6667, f1/entity 0.6667, loss 0.569143, 0.39 steps/sec, 1.54 examples/sec\n",
      "INFO:tensorflow:step 7, f1/token 0.8571, f1/entity 0.8571, loss 0.402310, 0.25 steps/sec, 1.00 examples/sec\n",
      "INFO:tensorflow:step 8, f1/token 0.8571, f1/entity 0.8571, loss 0.178037, 0.22 steps/sec, 0.87 examples/sec\n",
      "INFO:tensorflow:step 9, f1/token 0.6667, f1/entity 0.6667, loss 0.164494, 0.28 steps/sec, 1.12 examples/sec\n",
      "INFO:tensorflow:step 10, f1/token 0.6667, f1/entity 0.6667, loss 0.101453, 0.28 steps/sec, 1.11 examples/sec\n",
      "INFO:tensorflow:step 11, f1/token 1.0000, f1/entity 1.0000, loss 0.059408, 0.28 steps/sec, 1.10 examples/sec\n",
      "INFO:tensorflow:step 12, f1/token 1.0000, f1/entity 1.0000, loss 0.019049, 0.28 steps/sec, 1.13 examples/sec\n",
      "INFO:tensorflow:step 13, f1/token 1.0000, f1/entity 1.0000, loss 0.007465, 0.30 steps/sec, 1.20 examples/sec\n",
      "INFO:tensorflow:step 14, f1/token 1.0000, f1/entity 1.0000, loss 0.007251, 0.28 steps/sec, 1.12 examples/sec\n",
      "INFO:tensorflow:step 15, f1/token 1.0000, f1/entity 1.0000, loss 0.004652, 0.14 steps/sec, 0.56 examples/sec\n",
      "INFO:tensorflow:step 16, f1/token 1.0000, f1/entity 1.0000, loss 0.005263, 0.15 steps/sec, 0.58 examples/sec\n",
      "INFO:tensorflow:step 17, f1/token 1.0000, f1/entity 1.0000, loss 0.003634, 0.16 steps/sec, 0.63 examples/sec\n",
      "INFO:tensorflow:step 18, f1/token 1.0000, f1/entity 1.0000, loss 0.002975, 0.18 steps/sec, 0.73 examples/sec\n",
      "INFO:tensorflow:step 19, f1/token 1.0000, f1/entity 1.0000, loss 0.001514, 0.20 steps/sec, 0.78 examples/sec\n",
      "INFO:tensorflow:step 20, f1/token 1.0000, f1/entity 1.0000, loss 0.001767, 0.20 steps/sec, 0.81 examples/sec\n"
     ]
    }
   ],
   "source": [
    "model.fit(X, y, total_steps=20)"
   ]
  },
  {
   "cell_type": "markdown",
   "id": "fallen-hundred",
   "metadata": {},
   "source": [
    "# 推理"
   ]
  },
  {
   "cell_type": "code",
   "execution_count": 5,
   "id": "opposite-pantyhose",
   "metadata": {},
   "outputs": [
    {
     "name": "stdout",
     "output_type": "stream",
     "text": [
      "INFO:tensorflow:Time usage 0m-6.53s, 0.15 steps/sec, 0.61 examples/sec\n"
     ]
    },
    {
     "data": {
      "text/plain": [
       "{'preds': [['天亮'], [], ['迎接'], ['更好', '明天']],\n",
       " 'probs': array([[[9.9980325e-01, 2.3926310e-05, 8.5338863e-05, 5.9441768e-06,\n",
       "          8.1488943e-05],\n",
       "         [3.1681743e-04, 9.9886227e-01, 2.7071219e-04, 3.2065471e-04,\n",
       "          2.2957587e-04],\n",
       "         [1.5517115e-03, 2.5983849e-03, 8.0795150e-04, 9.9422449e-01,\n",
       "          8.1748713e-04],\n",
       "         ...,\n",
       "         [9.9862993e-01, 5.8819115e-04, 4.0192329e-04, 2.6908097e-05,\n",
       "          3.5314649e-04],\n",
       "         [9.9910283e-01, 2.8338280e-04, 2.4664440e-04, 2.2178358e-05,\n",
       "          3.4507280e-04],\n",
       "         [9.9792957e-01, 8.6676027e-04, 5.0682423e-04, 5.3419441e-05,\n",
       "          6.4348977e-04]],\n",
       " \n",
       "        [[9.9980611e-01, 2.1506927e-05, 8.7012479e-05, 4.3597447e-06,\n",
       "          8.1091399e-05],\n",
       "         [9.9915206e-01, 4.8211234e-04, 1.8071008e-04, 5.8782698e-06,\n",
       "          1.7920446e-04],\n",
       "         [9.9960345e-01, 1.1919919e-04, 1.1459372e-04, 1.2534050e-05,\n",
       "          1.5025371e-04],\n",
       "         ...,\n",
       "         [9.9932575e-01, 2.0869488e-04, 2.4290667e-04, 9.9052568e-06,\n",
       "          2.1271606e-04],\n",
       "         [9.9947757e-01, 1.2269877e-04, 1.6914030e-04, 9.3163453e-06,\n",
       "          2.2124061e-04],\n",
       "         [9.9913800e-01, 2.5950139e-04, 2.7030159e-04, 1.5515285e-05,\n",
       "          3.1665716e-04]],\n",
       " \n",
       "        [[9.9981195e-01, 2.2252678e-05, 8.0101272e-05, 6.5972349e-06,\n",
       "          7.9090787e-05],\n",
       "         [9.9843103e-01, 1.1812464e-03, 1.7306310e-04, 4.9140317e-06,\n",
       "          2.0976135e-04],\n",
       "         [9.4775110e-04, 9.9840337e-01, 2.9319304e-04, 1.1136995e-04,\n",
       "          2.4440305e-04],\n",
       "         ...,\n",
       "         [9.9858010e-01, 6.1944907e-04, 4.0743168e-04, 3.2815748e-05,\n",
       "          3.6004200e-04],\n",
       "         [9.9909425e-01, 2.9130850e-04, 2.4622370e-04, 2.6787333e-05,\n",
       "          3.4146247e-04],\n",
       "         [9.9777406e-01, 9.8451821e-04, 5.2308291e-04, 6.9969035e-05,\n",
       "          6.4835028e-04]],\n",
       " \n",
       "        [[9.9976116e-01, 3.7664995e-05, 8.7580498e-05, 1.4606942e-05,\n",
       "          9.8979319e-05],\n",
       "         [5.2952627e-04, 9.9912995e-01, 1.8303122e-04, 2.4948344e-05,\n",
       "          1.3255281e-04],\n",
       "         [1.1918433e-04, 1.2599183e-03, 2.9528353e-04, 9.9802631e-01,\n",
       "          2.9927638e-04],\n",
       "         ...,\n",
       "         [9.9361163e-01, 4.1466965e-03, 1.0089175e-03, 2.5617893e-04,\n",
       "          9.7650272e-04],\n",
       "         [9.9683517e-01, 1.6002991e-03, 5.1957625e-04, 1.7179505e-04,\n",
       "          8.7322807e-04],\n",
       "         [9.8542064e-01, 9.5701981e-03, 1.7308472e-03, 8.3498505e-04,\n",
       "          2.4434442e-03]]], dtype=float32)}"
      ]
     },
     "execution_count": 5,
     "metadata": {},
     "output_type": "execute_result"
    }
   ],
   "source": [
    "model.predict(X)"
   ]
  },
  {
   "cell_type": "markdown",
   "id": "fundamental-poverty",
   "metadata": {},
   "source": [
    "# 评分"
   ]
  },
  {
   "cell_type": "code",
   "execution_count": 6,
   "id": "accessory-lesbian",
   "metadata": {},
   "outputs": [
    {
     "name": "stdout",
     "output_type": "stream",
     "text": [
      "INFO:tensorflow:Time usage 0m-2.09s, 0.48 steps/sec, 1.91 examples/sec\n"
     ]
    },
    {
     "data": {
      "text/plain": [
       "{'f1/token': 0.9999993750002658,\n",
       " 'f1/entity': 0.9999992500003125,\n",
       " 'loss': 0.00081876403}"
      ]
     },
     "execution_count": 6,
     "metadata": {},
     "output_type": "execute_result"
    }
   ],
   "source": [
    "model.score(X, y)"
   ]
  }
 ],
 "metadata": {
  "kernelspec": {
   "display_name": "Python 3",
   "language": "python",
   "name": "python3"
  },
  "language_info": {
   "codemirror_mode": {
    "name": "ipython",
    "version": 3
   },
   "file_extension": ".py",
   "mimetype": "text/x-python",
   "name": "python",
   "nbconvert_exporter": "python",
   "pygments_lexer": "ipython3",
   "version": "3.8.2"
  }
 },
 "nbformat": 4,
 "nbformat_minor": 5
}
