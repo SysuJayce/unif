{
 "cells": [
  {
   "cell_type": "code",
   "execution_count": 1,
   "id": "international-highlight",
   "metadata": {},
   "outputs": [
    {
     "name": "stdout",
     "output_type": "stream",
     "text": [
      "beta v2.8.0\n"
     ]
    }
   ],
   "source": [
    "import uf\n",
    "\n",
    "print(uf.__version__)"
   ]
  },
  {
   "cell_type": "code",
   "execution_count": 2,
   "id": "behavioral-commander",
   "metadata": {},
   "outputs": [
    {
     "name": "stdout",
     "output_type": "stream",
     "text": [
      "uf.UDAClassifier(config_file='../demo/bert_config.json', vocab_file='../demo/vocab.txt', max_seq_length=128, label_size=None, init_checkpoint=None, output_dir=None, gpu_ids=None, drop_pooler=False, uda_softmax_temp=-1, uda_confidence_thresh=-1, tsa_schedule='linear', do_lower_case=True, truncate_method='LIFO')\n"
     ]
    }
   ],
   "source": [
    "model = uf.UDAClassifier('../demo/bert_config.json', '../demo/vocab.txt')\n",
    "print(model)"
   ]
  },
  {
   "cell_type": "code",
   "execution_count": 3,
   "id": "affiliated-medication",
   "metadata": {},
   "outputs": [],
   "source": [
    "X = [['天亮以前说再见', '天亮以前说不见'], '笑着泪流满面', '去迎接应该你的', '更好的明天']\n",
    "y = [None, 0, 1, 2]    # label为None的是无监督样本"
   ]
  },
  {
   "cell_type": "markdown",
   "id": "interracial-charleston",
   "metadata": {},
   "source": [
    "# 训练"
   ]
  },
  {
   "cell_type": "code",
   "execution_count": 4,
   "id": "stainless-bouquet",
   "metadata": {},
   "outputs": [
    {
     "name": "stdout",
     "output_type": "stream",
     "text": [
      "WARNING:tensorflow:From /Users/geyingli/Library/Python/3.8/lib/python/site-packages/tensorflow/python/util/dispatch.py:201: calling dropout (from tensorflow.python.ops.nn_ops) with keep_prob is deprecated and will be removed in a future version.\n",
      "Instructions for updating:\n",
      "Please use `rate` instead of `keep_prob`. Rate should be set to `rate = 1 - keep_prob`.\n"
     ]
    },
    {
     "name": "stderr",
     "output_type": "stream",
     "text": [
      "/Users/geyingli/Library/Python/3.8/lib/python/site-packages/tensorflow/python/keras/legacy_tf_layers/core.py:171: UserWarning: `tf.layers.dense` is deprecated and will be removed in a future version. Please use `tf.keras.layers.Dense` instead.\n",
      "  warnings.warn('`tf.layers.dense` is deprecated and '\n",
      "/Users/geyingli/Library/Python/3.8/lib/python/site-packages/tensorflow/python/keras/engine/base_layer_v1.py:1719: UserWarning: `layer.apply` is deprecated and will be removed in a future version. Please use `layer.__call__` method instead.\n",
      "  warnings.warn('`layer.apply` is deprecated and '\n"
     ]
    },
    {
     "name": "stdout",
     "output_type": "stream",
     "text": [
      "WARNING:tensorflow:From /Users/geyingli/Library/Python/3.8/lib/python/site-packages/uf-beta.v2.8.0-py3.8.egg/uf/modeling/uda.py:155: to_float (from tensorflow.python.ops.math_ops) is deprecated and will be removed in a future version.\n",
      "Instructions for updating:\n",
      "Use `tf.cast` instead.\n",
      "INFO:tensorflow:Build graph with 306,809,865 parameters (among which 102,269,955 are trainable)\n",
      "INFO:tensorflow:Running local_init_op\n",
      "INFO:tensorflow:Done running local_init_op\n",
      "INFO:tensorflow:Running training on 4 samples (step 0 -> 20)\n",
      "INFO:tensorflow:step 1, accuracy 0.0000, supervised loss 0.760904, unsupervised loss 0.000718, 0.13 steps/sec, 0.54 examples/sec\n",
      "INFO:tensorflow:step 2, accuracy 0.0000, supervised loss 1.112019, unsupervised loss 0.003150, 0.36 steps/sec, 1.46 examples/sec\n",
      "INFO:tensorflow:step 3, accuracy 0.3333, supervised loss 0.824818, unsupervised loss 0.010075, 0.34 steps/sec, 1.35 examples/sec\n",
      "INFO:tensorflow:step 4, accuracy 0.3333, supervised loss 1.084689, unsupervised loss 0.006403, 0.36 steps/sec, 1.44 examples/sec\n",
      "INFO:tensorflow:step 5, accuracy 0.6667, supervised loss 0.643443, unsupervised loss 0.000335, 0.36 steps/sec, 1.43 examples/sec\n",
      "INFO:tensorflow:step 6, accuracy 0.6667, supervised loss 0.724817, unsupervised loss 0.001061, 0.36 steps/sec, 1.46 examples/sec\n",
      "INFO:tensorflow:step 7, accuracy 0.6667, supervised loss 0.667591, unsupervised loss 0.002190, 0.35 steps/sec, 1.40 examples/sec\n",
      "INFO:tensorflow:step 8, accuracy 0.3333, supervised loss 0.779219, unsupervised loss 0.000404, 0.37 steps/sec, 1.48 examples/sec\n",
      "INFO:tensorflow:step 9, accuracy 1.0000, supervised loss 0.543330, unsupervised loss 0.006728, 0.37 steps/sec, 1.47 examples/sec\n",
      "INFO:tensorflow:step 10, accuracy 1.0000, supervised loss 0.510424, unsupervised loss 0.007494, 0.25 steps/sec, 0.99 examples/sec\n",
      "INFO:tensorflow:step 11, accuracy 0.6667, supervised loss 0.605355, unsupervised loss 0.008590, 0.17 steps/sec, 0.68 examples/sec\n",
      "INFO:tensorflow:step 12, accuracy 1.0000, supervised loss 0.554439, unsupervised loss 0.000653, 0.17 steps/sec, 0.68 examples/sec\n",
      "INFO:tensorflow:step 13, accuracy 1.0000, supervised loss 0.426756, unsupervised loss 0.011464, 0.17 steps/sec, 0.69 examples/sec\n",
      "INFO:tensorflow:step 14, accuracy 1.0000, supervised loss 0.324570, unsupervised loss 0.003152, 0.17 steps/sec, 0.69 examples/sec\n",
      "INFO:tensorflow:step 15, accuracy 1.0000, supervised loss 0.280642, unsupervised loss 0.026165, 0.16 steps/sec, 0.63 examples/sec\n",
      "INFO:tensorflow:step 16, accuracy 1.0000, supervised loss 0.215004, unsupervised loss 0.020106, 0.16 steps/sec, 0.66 examples/sec\n",
      "INFO:tensorflow:step 17, accuracy 1.0000, supervised loss 0.232022, unsupervised loss 0.029394, 0.17 steps/sec, 0.67 examples/sec\n",
      "INFO:tensorflow:step 18, accuracy 1.0000, supervised loss 0.160116, unsupervised loss 0.015217, 0.17 steps/sec, 0.68 examples/sec\n",
      "INFO:tensorflow:step 19, accuracy 1.0000, supervised loss 0.171974, unsupervised loss 0.014020, 0.18 steps/sec, 0.71 examples/sec\n",
      "INFO:tensorflow:step 20, accuracy 1.0000, supervised loss 0.117025, unsupervised loss 0.051417, 0.18 steps/sec, 0.72 examples/sec\n"
     ]
    }
   ],
   "source": [
    "model.fit(X, y, total_steps=20)"
   ]
  },
  {
   "cell_type": "markdown",
   "id": "primary-enlargement",
   "metadata": {},
   "source": [
    "# 推理"
   ]
  },
  {
   "cell_type": "code",
   "execution_count": 5,
   "id": "joined-virgin",
   "metadata": {},
   "outputs": [
    {
     "name": "stdout",
     "output_type": "stream",
     "text": [
      "INFO:tensorflow:Time usage 0m-5.01s, 0.20 steps/sec, 0.60 examples/sec\n"
     ]
    },
    {
     "data": {
      "text/plain": [
       "{'preds': [0, 1, 2],\n",
       " 'probs': array([[0.9300389 , 0.0118436 , 0.05811745],\n",
       "        [0.05171249, 0.9026679 , 0.04561963],\n",
       "        [0.08632404, 0.01859598, 0.89508   ]], dtype=float32)}"
      ]
     },
     "execution_count": 5,
     "metadata": {},
     "output_type": "execute_result"
    }
   ],
   "source": [
    "X = X[1:]\n",
    "y = y[1:]\n",
    "model.predict(X)"
   ]
  },
  {
   "cell_type": "markdown",
   "id": "cellular-valuable",
   "metadata": {},
   "source": [
    "# 评分"
   ]
  },
  {
   "cell_type": "code",
   "execution_count": 6,
   "id": "static-vocabulary",
   "metadata": {},
   "outputs": [
    {
     "name": "stdout",
     "output_type": "stream",
     "text": [
      "INFO:tensorflow:Time usage 0m-1.88s, 0.53 steps/sec, 1.60 examples/sec\n"
     ]
    },
    {
     "data": {
      "text/plain": [
       "{'accuracy': 1.0, 'loss': 0.09525722}"
      ]
     },
     "execution_count": 6,
     "metadata": {},
     "output_type": "execute_result"
    }
   ],
   "source": [
    "model.score(X, y)"
   ]
  }
 ],
 "metadata": {
  "kernelspec": {
   "display_name": "Python 3",
   "language": "python",
   "name": "python3"
  },
  "language_info": {
   "codemirror_mode": {
    "name": "ipython",
    "version": 3
   },
   "file_extension": ".py",
   "mimetype": "text/x-python",
   "name": "python",
   "nbconvert_exporter": "python",
   "pygments_lexer": "ipython3",
   "version": "3.8.2"
  }
 },
 "nbformat": 4,
 "nbformat_minor": 5
}
