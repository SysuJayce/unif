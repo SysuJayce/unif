{
 "cells": [
  {
   "cell_type": "markdown",
   "id": "arranged-cream",
   "metadata": {},
   "source": [
    "# UDAClassifier\n",
    "\n",
    "可用的中文预训练参数：[`bert-base`](https://storage.googleapis.com/bert_models/2018_11_03/chinese_L-12_H-768_A-12.zip),[`roberta-wwm-ext-base`](https://drive.google.com/uc?export=download&id=1jMAKIJmPn7kADgD3yQZhpsqM-IRM1qZt),[`roberta-wwm-ext-large`](https://drive.google.com/uc?export=download&id=1dtad0FFzG11CBsawu8hvwwzU2R0FDI94),[`macbert-base`](https://drive.google.com/uc?export=download&id=1aV69OhYzIwj_hn-kO1RiBa-m8QAusQ5b),[`macbert-large`](https://drive.google.com/uc?export=download&id=1lWYxnk1EqTA2Q20_IShxBrCPc5VSDCkT)"
   ]
  },
  {
   "cell_type": "code",
   "execution_count": 1,
   "id": "international-highlight",
   "metadata": {},
   "outputs": [
    {
     "name": "stdout",
     "output_type": "stream",
     "text": [
      "v2.5.0\n"
     ]
    }
   ],
   "source": [
    "import uf\n",
    "\n",
    "print(uf.__version__)"
   ]
  },
  {
   "cell_type": "code",
   "execution_count": 2,
   "id": "behavioral-commander",
   "metadata": {},
   "outputs": [
    {
     "name": "stdout",
     "output_type": "stream",
     "text": [
      "uf.UDAClassifier(\n",
      "    config_file=\"../../ref/bert_config.json\",\n",
      "    vocab_file=\"../../ref/vocab.txt\",\n",
      "    max_seq_length=128,\n",
      "    label_size=None,\n",
      "    init_checkpoint=None,\n",
      "    output_dir=None,\n",
      "    gpu_ids=None,\n",
      "    drop_pooler=False,\n",
      "    uda_softmax_temp=-1,\n",
      "    uda_confidence_thresh=-1,\n",
      "    tsa_schedule=\"linear\",\n",
      "    do_lower_case=True,\n",
      "    truncate_method=\"LIFO\",\n",
      ")\n"
     ]
    }
   ],
   "source": [
    "model = uf.UDAClassifier(\"../../ref/bert_config.json\", \"../../ref/vocab.txt\")\n",
    "print(model)"
   ]
  },
  {
   "cell_type": "code",
   "execution_count": 3,
   "id": "affiliated-medication",
   "metadata": {},
   "outputs": [],
   "source": [
    "X = [[\"天亮以前说再见\", \"天亮以前说不见\"], \"笑着泪流满面\", \"去迎接应该你的\", \"更好的明天\"]\n",
    "y = [None, 0, 1, 2]         # label为None的是无监督样本"
   ]
  },
  {
   "cell_type": "markdown",
   "id": "interracial-charleston",
   "metadata": {},
   "source": [
    "# 训练"
   ]
  },
  {
   "cell_type": "code",
   "execution_count": 4,
   "id": "stainless-bouquet",
   "metadata": {},
   "outputs": [
    {
     "name": "stdout",
     "output_type": "stream",
     "text": [
      "WARNING:tensorflow:From c:\\Users\\Luv_d\\AppData\\Local\\Programs\\Python\\Python39\\lib\\site-packages\\tensorflow\\python\\util\\dispatch.py:1176: calling dropout (from tensorflow.python.ops.nn_ops) with keep_prob is deprecated and will be removed in a future version.\n",
      "Instructions for updating:\n",
      "Please use `rate` instead of `keep_prob`. Rate should be set to `rate = 1 - keep_prob`.\n"
     ]
    },
    {
     "name": "stderr",
     "output_type": "stream",
     "text": [
      "c:\\Users\\Luv_d\\AppData\\Local\\Programs\\Python\\Python39\\lib\\site-packages\\uf-2.5.0-py3.9.egg\\uf\\apps\\bert\\bert.py:272: UserWarning: `tf.layers.dense` is deprecated and will be removed in a future version. Please use `tf.keras.layers.Dense` instead.\n",
      "  query_layer = tf.layers.dense(\n",
      "c:\\Users\\Luv_d\\AppData\\Local\\Programs\\Python\\Python39\\lib\\site-packages\\uf-2.5.0-py3.9.egg\\uf\\apps\\bert\\bert.py:282: UserWarning: `tf.layers.dense` is deprecated and will be removed in a future version. Please use `tf.keras.layers.Dense` instead.\n",
      "  key_layer = tf.layers.dense(\n",
      "c:\\Users\\Luv_d\\AppData\\Local\\Programs\\Python\\Python39\\lib\\site-packages\\uf-2.5.0-py3.9.egg\\uf\\apps\\bert\\bert.py:292: UserWarning: `tf.layers.dense` is deprecated and will be removed in a future version. Please use `tf.keras.layers.Dense` instead.\n",
      "  value_layer = tf.layers.dense(\n",
      "c:\\Users\\Luv_d\\AppData\\Local\\Programs\\Python\\Python39\\lib\\site-packages\\uf-2.5.0-py3.9.egg\\uf\\apps\\bert\\bert.py:416: UserWarning: `tf.layers.dense` is deprecated and will be removed in a future version. Please use `tf.keras.layers.Dense` instead.\n",
      "  attention_output = tf.layers.dense(\n",
      "c:\\Users\\Luv_d\\AppData\\Local\\Programs\\Python\\Python39\\lib\\site-packages\\uf-2.5.0-py3.9.egg\\uf\\apps\\bert\\bert.py:428: UserWarning: `tf.layers.dense` is deprecated and will be removed in a future version. Please use `tf.keras.layers.Dense` instead.\n",
      "  intermediate_output = tf.layers.dense(\n",
      "c:\\Users\\Luv_d\\AppData\\Local\\Programs\\Python\\Python39\\lib\\site-packages\\uf-2.5.0-py3.9.egg\\uf\\apps\\bert\\bert.py:438: UserWarning: `tf.layers.dense` is deprecated and will be removed in a future version. Please use `tf.keras.layers.Dense` instead.\n",
      "  layer_output = tf.layers.dense(\n"
     ]
    },
    {
     "name": "stdout",
     "output_type": "stream",
     "text": [
      "WARNING:tensorflow:From c:\\Users\\Luv_d\\AppData\\Local\\Programs\\Python\\Python39\\lib\\site-packages\\tensorflow\\python\\util\\dispatch.py:1176: to_float (from tensorflow.python.ops.math_ops) is deprecated and will be removed in a future version.\n",
      "Instructions for updating:\n",
      "Use `tf.cast` instead.\n"
     ]
    },
    {
     "name": "stderr",
     "output_type": "stream",
     "text": [
      "c:\\Users\\Luv_d\\AppData\\Local\\Programs\\Python\\Python39\\lib\\site-packages\\uf-2.5.0-py3.9.egg\\uf\\apps\\bert\\bert.py:107: UserWarning: `tf.layers.dense` is deprecated and will be removed in a future version. Please use `tf.keras.layers.Dense` instead.\n",
      "  self.pooled_output = tf.layers.dense(\n"
     ]
    },
    {
     "name": "stdout",
     "output_type": "stream",
     "text": [
      "INFO:tensorflow:Build graph with 306,809,865 parameters (among which 102,269,955 are trainable)\n",
      "INFO:tensorflow:Running local_init_op\n",
      "INFO:tensorflow:Done running local_init_op\n",
      "INFO:tensorflow:Running training on 4 samples (step 0 -> 20)\n",
      "INFO:tensorflow:step 1, accuracy 0.3333, supervised loss 0.432072, unsupervised loss 0.000146, 0.18 steps/sec, 0.72 examples/sec\n",
      "INFO:tensorflow:step 2, accuracy 0.3333, supervised loss 0.892464, unsupervised loss 0.014380, 0.54 steps/sec, 2.16 examples/sec\n",
      "INFO:tensorflow:step 3, accuracy 0.3333, supervised loss 0.981942, unsupervised loss 0.002869, 0.38 steps/sec, 1.52 examples/sec\n",
      "INFO:tensorflow:step 4, accuracy 0.6667, supervised loss 0.780137, unsupervised loss 0.014504, 0.27 steps/sec, 1.09 examples/sec\n",
      "INFO:tensorflow:step 5, accuracy 0.3333, supervised loss 0.799878, unsupervised loss 0.015764, 0.33 steps/sec, 1.33 examples/sec\n",
      "INFO:tensorflow:step 6, accuracy 0.6667, supervised loss 0.986624, unsupervised loss 0.003603, 0.33 steps/sec, 1.33 examples/sec\n",
      "INFO:tensorflow:step 7, accuracy 0.6667, supervised loss 0.830529, unsupervised loss 0.011029, 0.33 steps/sec, 1.30 examples/sec\n",
      "INFO:tensorflow:step 8, accuracy 0.6667, supervised loss 0.762582, unsupervised loss 0.002648, 0.32 steps/sec, 1.27 examples/sec\n",
      "INFO:tensorflow:step 9, accuracy 0.3333, supervised loss 0.769706, unsupervised loss 0.011741, 0.36 steps/sec, 1.45 examples/sec\n",
      "INFO:tensorflow:step 10, accuracy 1.0000, supervised loss 0.745510, unsupervised loss 0.012310, 0.33 steps/sec, 1.34 examples/sec\n",
      "INFO:tensorflow:step 11, accuracy 0.6667, supervised loss 0.727880, unsupervised loss 0.003337, 0.34 steps/sec, 1.35 examples/sec\n",
      "INFO:tensorflow:step 12, accuracy 1.0000, supervised loss 0.633417, unsupervised loss 0.014366, 0.35 steps/sec, 1.39 examples/sec\n",
      "INFO:tensorflow:step 13, accuracy 1.0000, supervised loss 0.602057, unsupervised loss 0.001352, 0.34 steps/sec, 1.34 examples/sec\n",
      "INFO:tensorflow:step 14, accuracy 1.0000, supervised loss 0.389091, unsupervised loss 0.003493, 0.35 steps/sec, 1.39 examples/sec\n",
      "INFO:tensorflow:step 15, accuracy 1.0000, supervised loss 0.386906, unsupervised loss 0.005405, 0.40 steps/sec, 1.60 examples/sec\n",
      "INFO:tensorflow:step 16, accuracy 1.0000, supervised loss 0.229286, unsupervised loss 0.007870, 0.55 steps/sec, 2.22 examples/sec\n",
      "INFO:tensorflow:step 17, accuracy 1.0000, supervised loss 0.196346, unsupervised loss 0.008470, 0.54 steps/sec, 2.15 examples/sec\n",
      "INFO:tensorflow:step 18, accuracy 1.0000, supervised loss 0.205900, unsupervised loss 0.045316, 0.53 steps/sec, 2.11 examples/sec\n",
      "INFO:tensorflow:step 19, accuracy 1.0000, supervised loss 0.177575, unsupervised loss 0.017151, 0.49 steps/sec, 1.95 examples/sec\n",
      "INFO:tensorflow:step 20, accuracy 1.0000, supervised loss 0.191502, unsupervised loss 0.003646, 0.51 steps/sec, 2.03 examples/sec\n"
     ]
    }
   ],
   "source": [
    "model.fit(X, y, total_steps=20)"
   ]
  },
  {
   "cell_type": "markdown",
   "id": "primary-enlargement",
   "metadata": {},
   "source": [
    "# 推理"
   ]
  },
  {
   "cell_type": "code",
   "execution_count": 5,
   "id": "joined-virgin",
   "metadata": {},
   "outputs": [
    {
     "name": "stdout",
     "output_type": "stream",
     "text": [
      "INFO:tensorflow:Running inference on 3 samples\n",
      "INFO:tensorflow:process 100.0%, 3.58 examples/sec\n"
     ]
    },
    {
     "data": {
      "text/plain": [
       "{'preds': [0, 1, 2],\n",
       " 'probs': array([[0.7922855 , 0.19421662, 0.01349796],\n",
       "        [0.10483308, 0.88580537, 0.00936158],\n",
       "        [0.03514461, 0.04565219, 0.9192032 ]], dtype=float32)}"
      ]
     },
     "execution_count": 5,
     "metadata": {},
     "output_type": "execute_result"
    }
   ],
   "source": [
    "X = X[1:]\n",
    "y = y[1:]\n",
    "model.predict(X)"
   ]
  },
  {
   "cell_type": "markdown",
   "id": "cellular-valuable",
   "metadata": {},
   "source": [
    "# 评分"
   ]
  },
  {
   "cell_type": "code",
   "execution_count": 6,
   "id": "static-vocabulary",
   "metadata": {},
   "outputs": [
    {
     "name": "stdout",
     "output_type": "stream",
     "text": [
      "INFO:tensorflow:Running scoring on 3 samples\n",
      "INFO:tensorflow:process 100.0%, 5.41 examples/sec\n"
     ]
    },
    {
     "data": {
      "text/plain": [
       "{'accuracy': 1.0, 'loss': 0.14611317}"
      ]
     },
     "execution_count": 6,
     "metadata": {},
     "output_type": "execute_result"
    }
   ],
   "source": [
    "model.score(X, y)"
   ]
  }
 ],
 "metadata": {
  "kernelspec": {
   "display_name": "Python 3.9.13 64-bit",
   "language": "python",
   "name": "python3"
  },
  "language_info": {
   "codemirror_mode": {
    "name": "ipython",
    "version": 3
   },
   "file_extension": ".py",
   "mimetype": "text/x-python",
   "name": "python",
   "nbconvert_exporter": "python",
   "pygments_lexer": "ipython3",
   "version": "3.9.13"
  },
  "vscode": {
   "interpreter": {
    "hash": "265fd6f62f200408acbbeae0248f34bed9f93569a643842b7a25d2cd76cae5e5"
   }
  }
 },
 "nbformat": 4,
 "nbformat_minor": 5
}
