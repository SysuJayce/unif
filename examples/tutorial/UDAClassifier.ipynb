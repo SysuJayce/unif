{
 "cells": [
  {
   "cell_type": "code",
   "execution_count": 1,
   "id": "international-highlight",
   "metadata": {},
   "outputs": [
    {
     "name": "stdout",
     "output_type": "stream",
     "text": [
      "v2.3.2\n"
     ]
    }
   ],
   "source": [
    "import uf\n",
    "\n",
    "print(uf.__version__)"
   ]
  },
  {
   "cell_type": "code",
   "execution_count": 2,
   "id": "behavioral-commander",
   "metadata": {},
   "outputs": [
    {
     "name": "stdout",
     "output_type": "stream",
     "text": [
      "uf.UDAClassifier(config_file=\"../../demo/bert_config.json\", vocab_file=\"../../demo/vocab.txt\", max_seq_length=128, label_size=None, init_checkpoint=None, output_dir=None, gpu_ids=None, drop_pooler=False, uda_softmax_temp=-1, uda_confidence_thresh=-1, tsa_schedule=\"linear\", do_lower_case=True, truncate_method=\"LIFO\")\n"
     ]
    }
   ],
   "source": [
    "model = uf.UDAClassifier('../../demo/bert_config.json', '../../demo/vocab.txt')\n",
    "print(model)"
   ]
  },
  {
   "cell_type": "code",
   "execution_count": 3,
   "id": "affiliated-medication",
   "metadata": {},
   "outputs": [],
   "source": [
    "X = [['天亮以前说再见', '天亮以前说不见'], '笑着泪流满面', '去迎接应该你的', '更好的明天']\n",
    "y = [None, 0, 1, 2]    # label为None的是无监督样本"
   ]
  },
  {
   "cell_type": "markdown",
   "id": "interracial-charleston",
   "metadata": {},
   "source": [
    "# 训练"
   ]
  },
  {
   "cell_type": "code",
   "execution_count": 4,
   "id": "stainless-bouquet",
   "metadata": {},
   "outputs": [
    {
     "name": "stdout",
     "output_type": "stream",
     "text": [
      "WARNING:tensorflow:From /Users/geyingli/Library/Python/3.8/lib/python/site-packages/tensorflow/python/util/dispatch.py:1096: calling dropout (from tensorflow.python.ops.nn_ops) with keep_prob is deprecated and will be removed in a future version.\n",
      "Instructions for updating:\n",
      "Please use `rate` instead of `keep_prob`. Rate should be set to `rate = 1 - keep_prob`.\n"
     ]
    },
    {
     "name": "stderr",
     "output_type": "stream",
     "text": [
      "/Users/geyingli/Library/Python/3.8/lib/python/site-packages/uf-2.3.2-py3.8.egg/uf/modeling/bert.py:282: UserWarning: `tf.layers.dense` is deprecated and will be removed in a future version. Please use `tf.keras.layers.Dense` instead.\n",
      "  query_layer = tf.layers.dense(\n",
      "/Users/geyingli/Library/Python/3.8/lib/python/site-packages/keras/legacy_tf_layers/core.py:255: UserWarning: `layer.apply` is deprecated and will be removed in a future version. Please use `layer.__call__` method instead.\n",
      "  return layer.apply(inputs)\n",
      "/Users/geyingli/Library/Python/3.8/lib/python/site-packages/uf-2.3.2-py3.8.egg/uf/modeling/bert.py:291: UserWarning: `tf.layers.dense` is deprecated and will be removed in a future version. Please use `tf.keras.layers.Dense` instead.\n",
      "  key_layer = tf.layers.dense(\n",
      "/Users/geyingli/Library/Python/3.8/lib/python/site-packages/uf-2.3.2-py3.8.egg/uf/modeling/bert.py:300: UserWarning: `tf.layers.dense` is deprecated and will be removed in a future version. Please use `tf.keras.layers.Dense` instead.\n",
      "  value_layer = tf.layers.dense(\n",
      "/Users/geyingli/Library/Python/3.8/lib/python/site-packages/uf-2.3.2-py3.8.egg/uf/modeling/bert.py:430: UserWarning: `tf.layers.dense` is deprecated and will be removed in a future version. Please use `tf.keras.layers.Dense` instead.\n",
      "  attention_output = tf.layers.dense(\n",
      "/Users/geyingli/Library/Python/3.8/lib/python/site-packages/uf-2.3.2-py3.8.egg/uf/modeling/bert.py:445: UserWarning: `tf.layers.dense` is deprecated and will be removed in a future version. Please use `tf.keras.layers.Dense` instead.\n",
      "  intermediate_output = tf.layers.dense(\n",
      "/Users/geyingli/Library/Python/3.8/lib/python/site-packages/uf-2.3.2-py3.8.egg/uf/modeling/bert.py:455: UserWarning: `tf.layers.dense` is deprecated and will be removed in a future version. Please use `tf.keras.layers.Dense` instead.\n",
      "  layer_output = tf.layers.dense(\n"
     ]
    },
    {
     "name": "stdout",
     "output_type": "stream",
     "text": [
      "WARNING:tensorflow:From /Users/geyingli/Library/Python/3.8/lib/python/site-packages/uf-2.3.2-py3.8.egg/uf/modeling/uda.py:139: to_float (from tensorflow.python.ops.math_ops) is deprecated and will be removed in a future version.\n",
      "Instructions for updating:\n",
      "Use `tf.cast` instead.\n"
     ]
    },
    {
     "name": "stderr",
     "output_type": "stream",
     "text": [
      "/Users/geyingli/Library/Python/3.8/lib/python/site-packages/uf-2.3.2-py3.8.egg/uf/modeling/bert.py:107: UserWarning: `tf.layers.dense` is deprecated and will be removed in a future version. Please use `tf.keras.layers.Dense` instead.\n",
      "  self.pooled_output = tf.layers.dense(\n"
     ]
    },
    {
     "name": "stdout",
     "output_type": "stream",
     "text": [
      "INFO:tensorflow:Build graph with 306,809,865 parameters (among which 102,269,955 are trainable)\n",
      "INFO:tensorflow:Running local_init_op\n",
      "INFO:tensorflow:Done running local_init_op\n",
      "INFO:tensorflow:Running training on 4 samples (step 0 -> 20)\n",
      "INFO:tensorflow:step 1, accuracy 0.6667, supervised loss 0.381368, unsupervised loss 0.000973, 0.05 steps/sec, 0.22 examples/sec\n",
      "INFO:tensorflow:step 2, accuracy 0.0000, supervised loss 1.113462, unsupervised loss 0.011967, 0.17 steps/sec, 0.67 examples/sec\n",
      "INFO:tensorflow:step 3, accuracy 0.3333, supervised loss 0.864582, unsupervised loss 0.000029, 0.18 steps/sec, 0.74 examples/sec\n",
      "INFO:tensorflow:step 4, accuracy 0.6667, supervised loss 0.966820, unsupervised loss 0.018331, 0.14 steps/sec, 0.58 examples/sec\n",
      "INFO:tensorflow:step 5, accuracy 0.3333, supervised loss 0.939268, unsupervised loss 0.001272, 0.14 steps/sec, 0.57 examples/sec\n",
      "INFO:tensorflow:step 6, accuracy 1.0000, supervised loss 0.565295, unsupervised loss 0.000679, 0.15 steps/sec, 0.62 examples/sec\n",
      "INFO:tensorflow:step 7, accuracy 0.6667, supervised loss 0.641420, unsupervised loss 0.011103, 0.18 steps/sec, 0.70 examples/sec\n",
      "INFO:tensorflow:step 8, accuracy 0.6667, supervised loss 0.380573, unsupervised loss 0.001631, 0.20 steps/sec, 0.81 examples/sec\n",
      "INFO:tensorflow:step 9, accuracy 1.0000, supervised loss 0.418228, unsupervised loss 0.017998, 0.20 steps/sec, 0.78 examples/sec\n",
      "INFO:tensorflow:step 10, accuracy 1.0000, supervised loss 0.182682, unsupervised loss 0.035087, 0.23 steps/sec, 0.91 examples/sec\n",
      "INFO:tensorflow:step 11, accuracy 1.0000, supervised loss 0.241516, unsupervised loss 0.036943, 0.35 steps/sec, 1.41 examples/sec\n",
      "INFO:tensorflow:step 12, accuracy 1.0000, supervised loss 0.189719, unsupervised loss 0.002198, 0.36 steps/sec, 1.46 examples/sec\n",
      "INFO:tensorflow:step 13, accuracy 1.0000, supervised loss 0.000000, unsupervised loss 0.007650, 0.33 steps/sec, 1.30 examples/sec\n",
      "INFO:tensorflow:step 14, accuracy 1.0000, supervised loss 0.092267, unsupervised loss 0.005759, 0.35 steps/sec, 1.42 examples/sec\n",
      "INFO:tensorflow:step 15, accuracy 1.0000, supervised loss 0.216489, unsupervised loss 0.014444, 0.34 steps/sec, 1.34 examples/sec\n",
      "INFO:tensorflow:step 16, accuracy 1.0000, supervised loss 0.180578, unsupervised loss 0.002089, 0.33 steps/sec, 1.32 examples/sec\n",
      "INFO:tensorflow:step 17, accuracy 1.0000, supervised loss 0.176896, unsupervised loss 0.001147, 0.31 steps/sec, 1.25 examples/sec\n",
      "INFO:tensorflow:step 18, accuracy 1.0000, supervised loss 0.124294, unsupervised loss 0.018445, 0.34 steps/sec, 1.37 examples/sec\n",
      "INFO:tensorflow:step 19, accuracy 1.0000, supervised loss 0.078053, unsupervised loss 0.046997, 0.35 steps/sec, 1.39 examples/sec\n",
      "INFO:tensorflow:step 20, accuracy 1.0000, supervised loss 0.088822, unsupervised loss 0.001092, 0.26 steps/sec, 1.05 examples/sec\n"
     ]
    }
   ],
   "source": [
    "model.fit(X, y, total_steps=20)"
   ]
  },
  {
   "cell_type": "markdown",
   "id": "primary-enlargement",
   "metadata": {},
   "source": [
    "# 推理"
   ]
  },
  {
   "cell_type": "code",
   "execution_count": 5,
   "id": "joined-virgin",
   "metadata": {},
   "outputs": [
    {
     "name": "stdout",
     "output_type": "stream",
     "text": [
      "INFO:tensorflow:Time usage 0m-1.39s, 0.72 steps/sec, 2.15 examples/sec\n"
     ]
    },
    {
     "data": {
      "text/plain": [
       "{'preds': [0, 1, 2],\n",
       " 'probs': array([[0.9483798 , 0.03152885, 0.02009133],\n",
       "        [0.0408234 , 0.94612134, 0.01305525],\n",
       "        [0.04018569, 0.02493415, 0.9348802 ]], dtype=float32)}"
      ]
     },
     "execution_count": 5,
     "metadata": {},
     "output_type": "execute_result"
    }
   ],
   "source": [
    "X = X[1:]\n",
    "y = y[1:]\n",
    "model.predict(X)"
   ]
  },
  {
   "cell_type": "markdown",
   "id": "cellular-valuable",
   "metadata": {},
   "source": [
    "# 评分"
   ]
  },
  {
   "cell_type": "code",
   "execution_count": 6,
   "id": "static-vocabulary",
   "metadata": {},
   "outputs": [
    {
     "name": "stdout",
     "output_type": "stream",
     "text": [
      "INFO:tensorflow:Time usage 0m-0.89s, 1.13 steps/sec, 3.38 examples/sec\n"
     ]
    },
    {
     "data": {
      "text/plain": [
       "{'accuracy': 1.0, 'loss': 0.058573857}"
      ]
     },
     "execution_count": 6,
     "metadata": {},
     "output_type": "execute_result"
    }
   ],
   "source": [
    "model.score(X, y)"
   ]
  }
 ],
 "metadata": {
  "kernelspec": {
   "display_name": "Python 3",
   "language": "python",
   "name": "python3"
  },
  "language_info": {
   "codemirror_mode": {
    "name": "ipython",
    "version": 3
   },
   "file_extension": ".py",
   "mimetype": "text/x-python",
   "name": "python",
   "nbconvert_exporter": "python",
   "pygments_lexer": "ipython3",
   "version": "3.8.2"
  }
 },
 "nbformat": 4,
 "nbformat_minor": 5
}
